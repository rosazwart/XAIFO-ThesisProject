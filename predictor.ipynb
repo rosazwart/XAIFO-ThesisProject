{
 "cells": [
  {
   "attachments": {},
   "cell_type": "markdown",
   "metadata": {},
   "source": [
    "Adapted by Rosa Zwart from Jupyter Notebooks found at https://github.com/PPerdomoQ/rare-disease-explainer"
   ]
  },
  {
   "attachments": {},
   "cell_type": "markdown",
   "metadata": {},
   "source": [
    "# Import Libraries"
   ]
  },
  {
   "attachments": {},
   "cell_type": "markdown",
   "metadata": {},
   "source": [
    "Package                       Version\n",
    "----------------------------- ----------\n",
    "aiosignal                     1.3.1\n",
    "anyio                         3.6.2\n",
    "argon2-cffi                   21.3.0\n",
    "argon2-cffi-bindings          21.2.0\n",
    "arrow                         1.2.3\n",
    "asttokens                     2.2.1\n",
    "attrs                         22.2.0\n",
    "backcall                      0.2.0\n",
    "backports.functools-lru-cache 1.6.4\n",
    "beautifulsoup4                4.12.2\n",
    "bleach                        6.0.0\n",
    "certifi                       2023.5.7\n",
    "cffi                          1.15.1\n",
    "charset-normalizer            3.1.0\n",
    "click                         8.1.3\n",
    "colorama                      0.4.6\n",
    "comm                          0.1.3\n",
    "contourpy                     1.0.7\n",
    "cycler                        0.11.0\n",
    "debugpy                       1.6.6\n",
    "decorator                     5.1.1\n",
    "deepsnap                      0.2.1\n",
    "defusedxml                    0.7.1\n",
    "distlib                       0.3.6\n",
    "executing                     1.2.0\n",
    "fastjsonschema                2.16.3\n",
    "filelock                      3.12.0\n",
    "fonttools                     4.39.3\n",
    "fqdn                          1.5.1\n",
    "frozenlist                    1.3.3\n",
    "gensim                        4.3.1\n",
    "grpcio                        1.54.0\n",
    "idna                          3.4\n",
    "importlib-metadata            6.6.0\n",
    "ipykernel                     6.20.2\n",
    "ipython                       8.13.2\n",
    "ipython-genutils              0.2.0\n",
    "ipywidgets                    8.0.6\n",
    "isoduration                   20.11.0\n",
    "jedi                          0.18.2\n",
    "Jinja2                        3.1.2\n",
    "joblib                        1.2.0\n",
    "jsonpointer                   2.3\n",
    "jsonschema                    4.17.3\n",
    "jupyter                       1.0.0\n",
    "jupyter_client                8.2.0\n",
    "jupyter-console               6.6.3\n",
    "jupyter_core                  5.3.0\n",
    "jupyter-events                0.6.3\n",
    "jupyter_server                2.5.0\n",
    "jupyter_server_terminals      0.4.4\n",
    "jupyterlab-pygments           0.2.2\n",
    "jupyterlab-widgets            3.0.7\n",
    "kiwisolver                    1.4.4\n",
    "MarkupSafe                    2.1.2\n",
    "matplotlib                    3.7.1\n",
    "matplotlib-inline             0.1.6\n",
    "mistune                       2.0.5\n",
    "msgpack                       1.0.5\n",
    "nbclassic                     1.0.0\n",
    "nbclient                      0.7.4\n",
    "nbconvert                     7.4.0\n",
    "nbformat                      5.8.0\n",
    "nest-asyncio                  1.5.6\n",
    "networkx                      3.0\n",
    "notebook                      6.5.4\n",
    "notebook_shim                 0.2.3\n",
    "numpy                         1.24.3\n",
    "packaging                     23.1\n",
    "pandas                        1.3.5\n",
    "pandocfilters                 1.5.0\n",
    "parso                         0.8.3\n",
    "pickleshare                   0.7.5\n",
    "Pillow                        9.5.0\n",
    "pip                           23.1.2\n",
    "platformdirs                  3.5.0\n",
    "prometheus-client             0.16.0\n",
    "prompt-toolkit                3.0.38\n",
    "protobuf                      4.23.0\n",
    "psutil                        5.9.1\n",
    "pure-eval                     0.2.2\n",
    "pycparser                     2.21\n",
    "Pygments                      2.15.1\n",
    "pyparsing                     3.0.9\n",
    "pyrsistent                    0.19.3\n",
    "python-dateutil               2.8.2\n",
    "python-json-logger            2.0.7\n",
    "pytz                          2023.3\n",
    "pywin32                       303\n",
    "pywinpty                      2.0.10\n",
    "PyYAML                        6.0\n",
    "pyzmq                         25.0.2\n",
    "qtconsole                     5.4.3\n",
    "QtPy                          2.3.1\n",
    "ray                           2.3.1\n",
    "requests                      2.30.0\n",
    "rfc3339-validator             0.1.4\n",
    "rfc3986-validator             0.1.1\n",
    "scikit-learn                  1.2.2\n",
    "scipy                         1.10.1\n",
    "Send2Trash                    1.8.2\n",
    "setuptools                    66.0.0\n",
    "six                           1.16.0\n",
    "smart-open                    6.3.0\n",
    "sniffio                       1.3.0\n",
    "soupsieve                     2.4.1\n",
    "stack-data                    0.6.2\n",
    "tabulate                      0.9.0\n",
    "terminado                     0.17.1\n",
    "threadpoolctl                 3.1.0\n",
    "tinycss2                      1.2.1\n",
    "torch                         1.11.0+cpu\n",
    "torch-cluster                 1.6.0\n",
    "torch-geometric               2.0.4\n",
    "torch-scatter                 2.0.9\n",
    "torch-sparse                  0.6.13\n",
    "torch-spline-conv             1.2.2\n",
    "torchaudio                    0.11.0+cpu\n",
    "torchvision                   0.12.0+cpu\n",
    "tornado                       6.2\n",
    "tqdm                          4.65.0\n",
    "traitlets                     5.9.0\n",
    "typing_extensions             4.5.0\n",
    "tzdata                        2023.3\n",
    "uri-template                  1.2.0\n",
    "urllib3                       2.0.2\n",
    "virtualenv                    20.23.0\n",
    "wcwidth                       0.2.6\n",
    "webcolors                     1.13\n",
    "webencodings                  0.5.1\n",
    "websocket-client              1.5.1\n",
    "wheel                         0.38.4\n",
    "widgetsnbextension            4.0.7\n",
    "zipp                          3.15.0"
   ]
  },
  {
   "cell_type": "code",
   "execution_count": 59,
   "metadata": {},
   "outputs": [],
   "source": [
    "import os\n",
    "import pandas as pd\n",
    "import numpy as np\n",
    "import networkx as nx\n",
    "import pickle\n",
    "\n",
    "from gnn.linkpred_model import LinkPredModel, train, test\n",
    "\n",
    "import torch\n",
    "from torch.utils.data import DataLoader\n",
    "\n",
    "from deepsnap.dataset import GraphDataset\n",
    "from deepsnap.batch import Batch\n",
    "from deepsnap.graph import Graph\n",
    "\n",
    "from sklearn.metrics import roc_auc_score, roc_curve, f1_score, classification_report, confusion_matrix\n",
    "import matplotlib.pyplot as plt\n",
    "\n",
    "from gensim.models import KeyedVectors\n",
    "\n",
    "from sklearn.preprocessing import StandardScaler\n",
    "from sklearn.decomposition import PCA\n",
    "from sklearn.manifold import TSNE"
   ]
  },
  {
   "cell_type": "code",
   "execution_count": 60,
   "metadata": {},
   "outputs": [
    {
     "name": "stdout",
     "output_type": "stream",
     "text": [
      "Using device: cpu\n"
     ]
    }
   ],
   "source": [
    "torch_device = torch.device('cuda' if torch.cuda.is_available() else 'cpu')\n",
    "print('Using device:', torch_device)"
   ]
  },
  {
   "attachments": {},
   "cell_type": "markdown",
   "metadata": {},
   "source": [
    "Specify which dataset is used, 1 (original knowledge graph) or 2 (restructured knowledge graph)"
   ]
  },
  {
   "cell_type": "code",
   "execution_count": 12,
   "metadata": {},
   "outputs": [
    {
     "name": "stdout",
     "output_type": "stream",
     "text": [
      "Output folder for dataset 1 already exists and will be used: c:\\Users\\rosa-\\Google Drive\\Msc_Bioinformatics\\thesis\\XAIFO-ThesisProject\\output\\g1_e2v\n",
      "Output folder for predictions from dataset 1 is created: c:\\Users\\rosa-\\Google Drive\\Msc_Bioinformatics\\thesis\\XAIFO-ThesisProject\\output\\g1_e2v\\predictions\n"
     ]
    }
   ],
   "source": [
    "dataset_nr = 1\n",
    "assert dataset_nr == 1 or 2\n",
    "\n",
    "embedding_method = 'e2v'\n",
    "assert embedding_method == 'e2v' or 'm2v'\n",
    "\n",
    "curr_working_dir = os.getcwd()\n",
    "curr_output_dir = os.path.join(curr_working_dir, 'output')\n",
    "dataset_output_dir = os.path.join(curr_output_dir, f'g{dataset_nr}_{embedding_method}')\n",
    "\n",
    "if not os.path.exists(dataset_output_dir):\n",
    "    os.mkdir(dataset_output_dir)\n",
    "    print(f'Output folder for dataset {dataset_nr} is created: {dataset_output_dir}')\n",
    "else:\n",
    "    print(f'Output folder for dataset {dataset_nr} already exists and will be used: {dataset_output_dir}')\n",
    "    \n",
    "predictions_output_dir = os.path.join(dataset_output_dir, 'predictions')\n",
    "\n",
    "if not os.path.exists(predictions_output_dir):\n",
    "    os.mkdir(predictions_output_dir)\n",
    "    print(f'Output folder for predictions from dataset {dataset_nr} is created: {predictions_output_dir}')\n",
    "else:\n",
    "    print(f'Output folder for predictions from dataset {dataset_nr} already exists and will be used: {predictions_output_dir}')"
   ]
  },
  {
   "attachments": {},
   "cell_type": "markdown",
   "metadata": {},
   "source": [
    "# Load Data"
   ]
  },
  {
   "cell_type": "markdown",
   "metadata": {},
   "source": [
    "Load all nodes"
   ]
  },
  {
   "cell_type": "code",
   "execution_count": 13,
   "metadata": {},
   "outputs": [
    {
     "data": {
      "text/html": [
       "<div>\n",
       "<style scoped>\n",
       "    .dataframe tbody tr th:only-of-type {\n",
       "        vertical-align: middle;\n",
       "    }\n",
       "\n",
       "    .dataframe tbody tr th {\n",
       "        vertical-align: top;\n",
       "    }\n",
       "\n",
       "    .dataframe thead th {\n",
       "        text-align: right;\n",
       "    }\n",
       "</style>\n",
       "<table border=\"1\" class=\"dataframe\">\n",
       "  <thead>\n",
       "    <tr style=\"text-align: right;\">\n",
       "      <th></th>\n",
       "      <th>id</th>\n",
       "      <th>semantic</th>\n",
       "      <th>label</th>\n",
       "      <th>semantic_id</th>\n",
       "    </tr>\n",
       "  </thead>\n",
       "  <tbody>\n",
       "    <tr>\n",
       "      <th>0</th>\n",
       "      <td>WormBase:WBGene00000389</td>\n",
       "      <td>ORTH</td>\n",
       "      <td>cdc-25.4</td>\n",
       "      <td>5</td>\n",
       "    </tr>\n",
       "    <tr>\n",
       "      <th>1</th>\n",
       "      <td>ZP:0018675</td>\n",
       "      <td>DISO</td>\n",
       "      <td>right side lateral plate mesoderm mislocalised...</td>\n",
       "      <td>1</td>\n",
       "    </tr>\n",
       "    <tr>\n",
       "      <th>2</th>\n",
       "      <td>ZFIN:ZDB-GENE-040426-1197</td>\n",
       "      <td>ORTH</td>\n",
       "      <td>tbc1d5</td>\n",
       "      <td>5</td>\n",
       "    </tr>\n",
       "    <tr>\n",
       "      <th>3</th>\n",
       "      <td>5</td>\n",
       "      <td>DRUG</td>\n",
       "      <td>(S)-nicardipine</td>\n",
       "      <td>2</td>\n",
       "    </tr>\n",
       "    <tr>\n",
       "      <th>4</th>\n",
       "      <td>RGD:3443</td>\n",
       "      <td>ORTH</td>\n",
       "      <td>Ptk2</td>\n",
       "      <td>5</td>\n",
       "    </tr>\n",
       "    <tr>\n",
       "      <th>...</th>\n",
       "      <td>...</td>\n",
       "      <td>...</td>\n",
       "      <td>...</td>\n",
       "      <td>...</td>\n",
       "    </tr>\n",
       "    <tr>\n",
       "      <th>10029</th>\n",
       "      <td>MP:0009763</td>\n",
       "      <td>DISO</td>\n",
       "      <td>increased sensitivity to induced morbidity/mor...</td>\n",
       "      <td>1</td>\n",
       "    </tr>\n",
       "    <tr>\n",
       "      <th>10030</th>\n",
       "      <td>MP:0011057</td>\n",
       "      <td>DISO</td>\n",
       "      <td>absent brain ependyma motile cilia</td>\n",
       "      <td>1</td>\n",
       "    </tr>\n",
       "    <tr>\n",
       "      <th>10031</th>\n",
       "      <td>MP:0001412</td>\n",
       "      <td>DISO</td>\n",
       "      <td>excessive scratching</td>\n",
       "      <td>1</td>\n",
       "    </tr>\n",
       "    <tr>\n",
       "      <th>10032</th>\n",
       "      <td>WBPhenotype:0004023</td>\n",
       "      <td>DISO</td>\n",
       "      <td>frequency of body bend variant</td>\n",
       "      <td>1</td>\n",
       "    </tr>\n",
       "    <tr>\n",
       "      <th>10033</th>\n",
       "      <td>ClinVarVariant:858516</td>\n",
       "      <td>VARI</td>\n",
       "      <td>NM_004006.3(DMD):c.9852G&gt;A (p.Trp3284Ter)</td>\n",
       "      <td>7</td>\n",
       "    </tr>\n",
       "  </tbody>\n",
       "</table>\n",
       "<p>10034 rows × 4 columns</p>\n",
       "</div>"
      ],
      "text/plain": [
       "                              id semantic  \\\n",
       "0        WormBase:WBGene00000389     ORTH   \n",
       "1                     ZP:0018675     DISO   \n",
       "2      ZFIN:ZDB-GENE-040426-1197     ORTH   \n",
       "3                              5     DRUG   \n",
       "4                       RGD:3443     ORTH   \n",
       "...                          ...      ...   \n",
       "10029                 MP:0009763     DISO   \n",
       "10030                 MP:0011057     DISO   \n",
       "10031                 MP:0001412     DISO   \n",
       "10032        WBPhenotype:0004023     DISO   \n",
       "10033      ClinVarVariant:858516     VARI   \n",
       "\n",
       "                                                   label  semantic_id  \n",
       "0                                               cdc-25.4            5  \n",
       "1      right side lateral plate mesoderm mislocalised...            1  \n",
       "2                                                 tbc1d5            5  \n",
       "3                                        (S)-nicardipine            2  \n",
       "4                                                   Ptk2            5  \n",
       "...                                                  ...          ...  \n",
       "10029  increased sensitivity to induced morbidity/mor...            1  \n",
       "10030                 absent brain ependyma motile cilia            1  \n",
       "10031                               excessive scratching            1  \n",
       "10032                     frequency of body bend variant            1  \n",
       "10033          NM_004006.3(DMD):c.9852G>A (p.Trp3284Ter)            7  \n",
       "\n",
       "[10034 rows x 4 columns]"
      ]
     },
     "execution_count": 13,
     "metadata": {},
     "output_type": "execute_result"
    }
   ],
   "source": [
    "nodes = pd.read_csv(f'output/indexed_nodes_{dataset_nr}.csv')\n",
    "nodes.drop('index_id', axis=1, inplace=True)\n",
    "nodes['semantic'] = nodes['semantic'].astype('category')\n",
    "nodes"
   ]
  },
  {
   "cell_type": "code",
   "execution_count": 14,
   "metadata": {},
   "outputs": [
    {
     "data": {
      "text/html": [
       "<div>\n",
       "<style scoped>\n",
       "    .dataframe tbody tr th:only-of-type {\n",
       "        vertical-align: middle;\n",
       "    }\n",
       "\n",
       "    .dataframe tbody tr th {\n",
       "        vertical-align: top;\n",
       "    }\n",
       "\n",
       "    .dataframe thead th {\n",
       "        text-align: right;\n",
       "    }\n",
       "</style>\n",
       "<table border=\"1\" class=\"dataframe\">\n",
       "  <thead>\n",
       "    <tr style=\"text-align: right;\">\n",
       "      <th></th>\n",
       "      <th>id</th>\n",
       "      <th>semantic</th>\n",
       "      <th>label</th>\n",
       "      <th>semantic_id</th>\n",
       "    </tr>\n",
       "  </thead>\n",
       "  <tbody>\n",
       "    <tr>\n",
       "      <th>1320</th>\n",
       "      <td>HGNC:685</td>\n",
       "      <td>GENE</td>\n",
       "      <td>ARHGEF6</td>\n",
       "      <td>3</td>\n",
       "    </tr>\n",
       "  </tbody>\n",
       "</table>\n",
       "</div>"
      ],
      "text/plain": [
       "            id semantic    label  semantic_id\n",
       "1320  HGNC:685     GENE  ARHGEF6            3"
      ]
     },
     "execution_count": 14,
     "metadata": {},
     "output_type": "execute_result"
    }
   ],
   "source": [
    "nodes.iloc[[1320]]"
   ]
  },
  {
   "cell_type": "markdown",
   "metadata": {},
   "source": [
    "The dictionary below can be used as mapping between generated semantic ID and semantic group label."
   ]
  },
  {
   "cell_type": "code",
   "execution_count": 15,
   "metadata": {},
   "outputs": [
    {
     "data": {
      "text/plain": [
       "{0: 'ANAT',\n",
       " 1: 'DISO',\n",
       " 2: 'DRUG',\n",
       " 3: 'GENE',\n",
       " 4: 'GENO',\n",
       " 5: 'ORTH',\n",
       " 6: 'PHYS',\n",
       " 7: 'VARI'}"
      ]
     },
     "execution_count": 15,
     "metadata": {},
     "output_type": "execute_result"
    }
   ],
   "source": [
    "node_semantic_dict = dict(enumerate(nodes['semantic'].cat.categories))\n",
    "node_semantic_dict"
   ]
  },
  {
   "cell_type": "markdown",
   "metadata": {},
   "source": [
    "Load the node embeddings"
   ]
  },
  {
   "cell_type": "code",
   "execution_count": 16,
   "metadata": {},
   "outputs": [],
   "source": [
    "def loadEdge2VecEmbedding(): \n",
    "    node_feat = KeyedVectors.load(f'output/g{dataset_nr}_{embedding_method}/w2v_{dataset_nr}.dvectors', mmap='r')\n",
    "    e2v_embedding = pd.DataFrame(columns = ['Node', 'Embedding'])\n",
    "    for idx, key in enumerate(node_feat.index_to_key):\n",
    "        e2v_embedding.loc[int(key)] = pd.Series({'Node':int(key), 'Embedding':list(node_feat[key])})\n",
    "        \n",
    "    return e2v_embedding.sort_values('Node')\n",
    "\n",
    "def loadMetapath2VecEmbedding():\n",
    "    metapath2vec_embedding = pd.read_csv(f'output/g{dataset_nr}_{embedding_method}/metapath2vec_embedding_{dataset_nr}.csv')\n",
    "    metapath2vec_embedding['Embedding'] = metapath2vec_embedding.values.tolist()\n",
    "    metapath2vec_embedding = metapath2vec_embedding[['Embedding']]\n",
    "    metapath2vec_embedding['Node'] = metapath2vec_embedding.index\n",
    "    return metapath2vec_embedding[['Node', 'Embedding']]"
   ]
  },
  {
   "cell_type": "code",
   "execution_count": 17,
   "metadata": {},
   "outputs": [
    {
     "data": {
      "text/html": [
       "<div>\n",
       "<style scoped>\n",
       "    .dataframe tbody tr th:only-of-type {\n",
       "        vertical-align: middle;\n",
       "    }\n",
       "\n",
       "    .dataframe tbody tr th {\n",
       "        vertical-align: top;\n",
       "    }\n",
       "\n",
       "    .dataframe thead th {\n",
       "        text-align: right;\n",
       "    }\n",
       "</style>\n",
       "<table border=\"1\" class=\"dataframe\">\n",
       "  <thead>\n",
       "    <tr style=\"text-align: right;\">\n",
       "      <th></th>\n",
       "      <th>Node</th>\n",
       "      <th>Embedding</th>\n",
       "    </tr>\n",
       "  </thead>\n",
       "  <tbody>\n",
       "    <tr>\n",
       "      <th>0</th>\n",
       "      <td>0</td>\n",
       "      <td>[-0.51889515, -0.27600476, 1.4841187, -0.06068...</td>\n",
       "    </tr>\n",
       "    <tr>\n",
       "      <th>1</th>\n",
       "      <td>1</td>\n",
       "      <td>[-0.42672232, -0.5783169, 0.32593465, 0.221815...</td>\n",
       "    </tr>\n",
       "    <tr>\n",
       "      <th>2</th>\n",
       "      <td>2</td>\n",
       "      <td>[-0.6535885, -0.90137726, -0.032278683, 0.0108...</td>\n",
       "    </tr>\n",
       "    <tr>\n",
       "      <th>3</th>\n",
       "      <td>3</td>\n",
       "      <td>[-0.2691764, -0.69204295, 0.20973878, 0.102305...</td>\n",
       "    </tr>\n",
       "    <tr>\n",
       "      <th>4</th>\n",
       "      <td>4</td>\n",
       "      <td>[-0.5726995, -0.6201956, 0.31523106, 0.1010267...</td>\n",
       "    </tr>\n",
       "    <tr>\n",
       "      <th>...</th>\n",
       "      <td>...</td>\n",
       "      <td>...</td>\n",
       "    </tr>\n",
       "    <tr>\n",
       "      <th>10029</th>\n",
       "      <td>10029</td>\n",
       "      <td>[-0.3075929, -0.6312674, 0.18461354, 0.0889394...</td>\n",
       "    </tr>\n",
       "    <tr>\n",
       "      <th>10030</th>\n",
       "      <td>10030</td>\n",
       "      <td>[-0.30531076, -0.76736724, 0.2964231, 0.125141...</td>\n",
       "    </tr>\n",
       "    <tr>\n",
       "      <th>10031</th>\n",
       "      <td>10031</td>\n",
       "      <td>[-0.30683234, -0.7127532, 0.30363908, -0.10534...</td>\n",
       "    </tr>\n",
       "    <tr>\n",
       "      <th>10032</th>\n",
       "      <td>10032</td>\n",
       "      <td>[-0.5401776, -1.1480745, 0.67260635, 0.7167586...</td>\n",
       "    </tr>\n",
       "    <tr>\n",
       "      <th>10033</th>\n",
       "      <td>10033</td>\n",
       "      <td>[-0.28015414, -0.378714, 0.1332573, 0.02175484...</td>\n",
       "    </tr>\n",
       "  </tbody>\n",
       "</table>\n",
       "<p>10034 rows × 2 columns</p>\n",
       "</div>"
      ],
      "text/plain": [
       "        Node                                          Embedding\n",
       "0          0  [-0.51889515, -0.27600476, 1.4841187, -0.06068...\n",
       "1          1  [-0.42672232, -0.5783169, 0.32593465, 0.221815...\n",
       "2          2  [-0.6535885, -0.90137726, -0.032278683, 0.0108...\n",
       "3          3  [-0.2691764, -0.69204295, 0.20973878, 0.102305...\n",
       "4          4  [-0.5726995, -0.6201956, 0.31523106, 0.1010267...\n",
       "...      ...                                                ...\n",
       "10029  10029  [-0.3075929, -0.6312674, 0.18461354, 0.0889394...\n",
       "10030  10030  [-0.30531076, -0.76736724, 0.2964231, 0.125141...\n",
       "10031  10031  [-0.30683234, -0.7127532, 0.30363908, -0.10534...\n",
       "10032  10032  [-0.5401776, -1.1480745, 0.67260635, 0.7167586...\n",
       "10033  10033  [-0.28015414, -0.378714, 0.1332573, 0.02175484...\n",
       "\n",
       "[10034 rows x 2 columns]"
      ]
     },
     "execution_count": 17,
     "metadata": {},
     "output_type": "execute_result"
    }
   ],
   "source": [
    "if embedding_method == 'e2v':\n",
    "    embedding = loadEdge2VecEmbedding()\n",
    "else:\n",
    "    embedding = loadMetapath2VecEmbedding()\n",
    "    \n",
    "embedding"
   ]
  },
  {
   "cell_type": "markdown",
   "metadata": {},
   "source": [
    "Load the edges"
   ]
  },
  {
   "cell_type": "code",
   "execution_count": 18,
   "metadata": {},
   "outputs": [
    {
     "data": {
      "text/html": [
       "<div>\n",
       "<style scoped>\n",
       "    .dataframe tbody tr th:only-of-type {\n",
       "        vertical-align: middle;\n",
       "    }\n",
       "\n",
       "    .dataframe tbody tr th {\n",
       "        vertical-align: top;\n",
       "    }\n",
       "\n",
       "    .dataframe thead th {\n",
       "        text-align: right;\n",
       "    }\n",
       "</style>\n",
       "<table border=\"1\" class=\"dataframe\">\n",
       "  <thead>\n",
       "    <tr style=\"text-align: right;\">\n",
       "      <th></th>\n",
       "      <th>head</th>\n",
       "      <th>label_head</th>\n",
       "      <th>class_head</th>\n",
       "      <th>index_head</th>\n",
       "      <th>relation</th>\n",
       "      <th>tail</th>\n",
       "      <th>label_tail</th>\n",
       "      <th>class_tail</th>\n",
       "      <th>index_tail</th>\n",
       "      <th>type</th>\n",
       "    </tr>\n",
       "  </thead>\n",
       "  <tbody>\n",
       "    <tr>\n",
       "      <th>0</th>\n",
       "      <td>ZFIN:ZDB-GENE-050626-112</td>\n",
       "      <td>myl4</td>\n",
       "      <td>5</td>\n",
       "      <td>5279</td>\n",
       "      <td>in orthology relationship with</td>\n",
       "      <td>FlyBase:FBgn0085464</td>\n",
       "      <td>CG34435</td>\n",
       "      <td>5</td>\n",
       "      <td>6825</td>\n",
       "      <td>0</td>\n",
       "    </tr>\n",
       "    <tr>\n",
       "      <th>1</th>\n",
       "      <td>ZFIN:ZDB-GENE-050626-112</td>\n",
       "      <td>myl4</td>\n",
       "      <td>5</td>\n",
       "      <td>5279</td>\n",
       "      <td>in orthology relationship with</td>\n",
       "      <td>HGNC:7585</td>\n",
       "      <td>MYL4</td>\n",
       "      <td>3</td>\n",
       "      <td>27</td>\n",
       "      <td>0</td>\n",
       "    </tr>\n",
       "    <tr>\n",
       "      <th>2</th>\n",
       "      <td>ZFIN:ZDB-GENE-050626-112</td>\n",
       "      <td>myl4</td>\n",
       "      <td>5</td>\n",
       "      <td>5279</td>\n",
       "      <td>in orthology relationship with</td>\n",
       "      <td>FlyBase:FBgn0002772</td>\n",
       "      <td>Mlc1</td>\n",
       "      <td>5</td>\n",
       "      <td>8901</td>\n",
       "      <td>0</td>\n",
       "    </tr>\n",
       "    <tr>\n",
       "      <th>3</th>\n",
       "      <td>ZFIN:ZDB-GENE-050626-112</td>\n",
       "      <td>myl4</td>\n",
       "      <td>5</td>\n",
       "      <td>5279</td>\n",
       "      <td>in orthology relationship with</td>\n",
       "      <td>NCBIGene:396472</td>\n",
       "      <td>MYL4</td>\n",
       "      <td>3</td>\n",
       "      <td>9508</td>\n",
       "      <td>0</td>\n",
       "    </tr>\n",
       "    <tr>\n",
       "      <th>4</th>\n",
       "      <td>ZFIN:ZDB-GENE-050626-112</td>\n",
       "      <td>myl4</td>\n",
       "      <td>5</td>\n",
       "      <td>5279</td>\n",
       "      <td>in 1 to 1 orthology relationship with</td>\n",
       "      <td>ENSEMBL:ENSECAG00000020967</td>\n",
       "      <td>ENSEMBL:ENSECAG00000020967</td>\n",
       "      <td>5</td>\n",
       "      <td>8807</td>\n",
       "      <td>1</td>\n",
       "    </tr>\n",
       "    <tr>\n",
       "      <th>...</th>\n",
       "      <td>...</td>\n",
       "      <td>...</td>\n",
       "      <td>...</td>\n",
       "      <td>...</td>\n",
       "      <td>...</td>\n",
       "      <td>...</td>\n",
       "      <td>...</td>\n",
       "      <td>...</td>\n",
       "      <td>...</td>\n",
       "      <td>...</td>\n",
       "    </tr>\n",
       "    <tr>\n",
       "      <th>82908</th>\n",
       "      <td>4810</td>\n",
       "      <td>ibrutinib</td>\n",
       "      <td>2</td>\n",
       "      <td>1618</td>\n",
       "      <td>targets</td>\n",
       "      <td>HGNC:11283</td>\n",
       "      <td>SRC</td>\n",
       "      <td>3</td>\n",
       "      <td>3279</td>\n",
       "      <td>14</td>\n",
       "    </tr>\n",
       "    <tr>\n",
       "      <th>82909</th>\n",
       "      <td>522</td>\n",
       "      <td>carvedilol</td>\n",
       "      <td>2</td>\n",
       "      <td>184</td>\n",
       "      <td>targets</td>\n",
       "      <td>HGNC:620</td>\n",
       "      <td>APP</td>\n",
       "      <td>3</td>\n",
       "      <td>547</td>\n",
       "      <td>14</td>\n",
       "    </tr>\n",
       "    <tr>\n",
       "      <th>82910</th>\n",
       "      <td>OMIM:300377.0013</td>\n",
       "      <td>DMD, EX18DEL</td>\n",
       "      <td>1</td>\n",
       "      <td>2822</td>\n",
       "      <td>is allele of</td>\n",
       "      <td>HGNC:2928</td>\n",
       "      <td>DMD</td>\n",
       "      <td>3</td>\n",
       "      <td>6612</td>\n",
       "      <td>16</td>\n",
       "    </tr>\n",
       "    <tr>\n",
       "      <th>82911</th>\n",
       "      <td>Coriell:GM05113</td>\n",
       "      <td>NIGMS-GM05113</td>\n",
       "      <td>4</td>\n",
       "      <td>8105</td>\n",
       "      <td>has role in modeling</td>\n",
       "      <td>MONDO:0010679</td>\n",
       "      <td>Duchenne muscular dystrophy</td>\n",
       "      <td>1</td>\n",
       "      <td>6315</td>\n",
       "      <td>15</td>\n",
       "    </tr>\n",
       "    <tr>\n",
       "      <th>82912</th>\n",
       "      <td>OMIM:300377.0039</td>\n",
       "      <td>DMD, 1-BP INS, NT1554</td>\n",
       "      <td>1</td>\n",
       "      <td>7364</td>\n",
       "      <td>is allele of</td>\n",
       "      <td>HGNC:2928</td>\n",
       "      <td>DMD</td>\n",
       "      <td>3</td>\n",
       "      <td>6612</td>\n",
       "      <td>16</td>\n",
       "    </tr>\n",
       "  </tbody>\n",
       "</table>\n",
       "<p>82913 rows × 10 columns</p>\n",
       "</div>"
      ],
      "text/plain": [
       "                           head             label_head  class_head  \\\n",
       "0      ZFIN:ZDB-GENE-050626-112                   myl4           5   \n",
       "1      ZFIN:ZDB-GENE-050626-112                   myl4           5   \n",
       "2      ZFIN:ZDB-GENE-050626-112                   myl4           5   \n",
       "3      ZFIN:ZDB-GENE-050626-112                   myl4           5   \n",
       "4      ZFIN:ZDB-GENE-050626-112                   myl4           5   \n",
       "...                         ...                    ...         ...   \n",
       "82908                      4810              ibrutinib           2   \n",
       "82909                       522             carvedilol           2   \n",
       "82910          OMIM:300377.0013           DMD, EX18DEL           1   \n",
       "82911           Coriell:GM05113          NIGMS-GM05113           4   \n",
       "82912          OMIM:300377.0039  DMD, 1-BP INS, NT1554           1   \n",
       "\n",
       "       index_head                               relation  \\\n",
       "0            5279         in orthology relationship with   \n",
       "1            5279         in orthology relationship with   \n",
       "2            5279         in orthology relationship with   \n",
       "3            5279         in orthology relationship with   \n",
       "4            5279  in 1 to 1 orthology relationship with   \n",
       "...           ...                                    ...   \n",
       "82908        1618                                targets   \n",
       "82909         184                                targets   \n",
       "82910        2822                           is allele of   \n",
       "82911        8105                   has role in modeling   \n",
       "82912        7364                           is allele of   \n",
       "\n",
       "                             tail                   label_tail  class_tail  \\\n",
       "0             FlyBase:FBgn0085464                      CG34435           5   \n",
       "1                       HGNC:7585                         MYL4           3   \n",
       "2             FlyBase:FBgn0002772                         Mlc1           5   \n",
       "3                 NCBIGene:396472                         MYL4           3   \n",
       "4      ENSEMBL:ENSECAG00000020967   ENSEMBL:ENSECAG00000020967           5   \n",
       "...                           ...                          ...         ...   \n",
       "82908                  HGNC:11283                          SRC           3   \n",
       "82909                    HGNC:620                          APP           3   \n",
       "82910                   HGNC:2928                          DMD           3   \n",
       "82911               MONDO:0010679  Duchenne muscular dystrophy           1   \n",
       "82912                   HGNC:2928                          DMD           3   \n",
       "\n",
       "       index_tail  type  \n",
       "0            6825     0  \n",
       "1              27     0  \n",
       "2            8901     0  \n",
       "3            9508     0  \n",
       "4            8807     1  \n",
       "...           ...   ...  \n",
       "82908        3279    14  \n",
       "82909         547    14  \n",
       "82910        6612    16  \n",
       "82911        6315    15  \n",
       "82912        6612    16  \n",
       "\n",
       "[82913 rows x 10 columns]"
      ]
     },
     "execution_count": 18,
     "metadata": {},
     "output_type": "execute_result"
    }
   ],
   "source": [
    "edges = pd.read_csv(f'output/indexed_edges_{dataset_nr}.csv')\n",
    "edges"
   ]
  },
  {
   "cell_type": "code",
   "execution_count": 19,
   "metadata": {},
   "outputs": [
    {
     "data": {
      "text/html": [
       "<div>\n",
       "<style scoped>\n",
       "    .dataframe tbody tr th:only-of-type {\n",
       "        vertical-align: middle;\n",
       "    }\n",
       "\n",
       "    .dataframe tbody tr th {\n",
       "        vertical-align: top;\n",
       "    }\n",
       "\n",
       "    .dataframe thead th {\n",
       "        text-align: right;\n",
       "    }\n",
       "</style>\n",
       "<table border=\"1\" class=\"dataframe\">\n",
       "  <thead>\n",
       "    <tr style=\"text-align: right;\">\n",
       "      <th></th>\n",
       "      <th>head</th>\n",
       "      <th>label_head</th>\n",
       "      <th>class_head</th>\n",
       "      <th>index_head</th>\n",
       "      <th>relation</th>\n",
       "      <th>tail</th>\n",
       "      <th>label_tail</th>\n",
       "      <th>class_tail</th>\n",
       "      <th>index_tail</th>\n",
       "      <th>type</th>\n",
       "    </tr>\n",
       "  </thead>\n",
       "  <tbody>\n",
       "    <tr>\n",
       "      <th>2909</th>\n",
       "      <td>HGNC:6492</td>\n",
       "      <td>LAMC1</td>\n",
       "      <td>3</td>\n",
       "      <td>1231</td>\n",
       "      <td>interacts with</td>\n",
       "      <td>HGNC:620</td>\n",
       "      <td>APP</td>\n",
       "      <td>3</td>\n",
       "      <td>547</td>\n",
       "      <td>6</td>\n",
       "    </tr>\n",
       "    <tr>\n",
       "      <th>3985</th>\n",
       "      <td>HGNC:971</td>\n",
       "      <td>BCAR1</td>\n",
       "      <td>3</td>\n",
       "      <td>4425</td>\n",
       "      <td>interacts with</td>\n",
       "      <td>HGNC:620</td>\n",
       "      <td>APP</td>\n",
       "      <td>3</td>\n",
       "      <td>547</td>\n",
       "      <td>6</td>\n",
       "    </tr>\n",
       "    <tr>\n",
       "      <th>5062</th>\n",
       "      <td>HGNC:11874</td>\n",
       "      <td>TMOD4</td>\n",
       "      <td>3</td>\n",
       "      <td>8208</td>\n",
       "      <td>interacts with</td>\n",
       "      <td>HGNC:620</td>\n",
       "      <td>APP</td>\n",
       "      <td>3</td>\n",
       "      <td>547</td>\n",
       "      <td>6</td>\n",
       "    </tr>\n",
       "    <tr>\n",
       "      <th>5878</th>\n",
       "      <td>HGNC:6256</td>\n",
       "      <td>KCNJ10</td>\n",
       "      <td>3</td>\n",
       "      <td>7806</td>\n",
       "      <td>interacts with</td>\n",
       "      <td>HGNC:620</td>\n",
       "      <td>APP</td>\n",
       "      <td>3</td>\n",
       "      <td>547</td>\n",
       "      <td>6</td>\n",
       "    </tr>\n",
       "    <tr>\n",
       "      <th>5976</th>\n",
       "      <td>HGNC:11427</td>\n",
       "      <td>STUB1</td>\n",
       "      <td>3</td>\n",
       "      <td>5855</td>\n",
       "      <td>interacts with</td>\n",
       "      <td>HGNC:620</td>\n",
       "      <td>APP</td>\n",
       "      <td>3</td>\n",
       "      <td>547</td>\n",
       "      <td>6</td>\n",
       "    </tr>\n",
       "    <tr>\n",
       "      <th>6062</th>\n",
       "      <td>HGNC:6486</td>\n",
       "      <td>LAMB1</td>\n",
       "      <td>3</td>\n",
       "      <td>9250</td>\n",
       "      <td>interacts with</td>\n",
       "      <td>HGNC:620</td>\n",
       "      <td>APP</td>\n",
       "      <td>3</td>\n",
       "      <td>547</td>\n",
       "      <td>6</td>\n",
       "    </tr>\n",
       "    <tr>\n",
       "      <th>6180</th>\n",
       "      <td>HGNC:11138</td>\n",
       "      <td>SNCA</td>\n",
       "      <td>3</td>\n",
       "      <td>6764</td>\n",
       "      <td>interacts with</td>\n",
       "      <td>HGNC:620</td>\n",
       "      <td>APP</td>\n",
       "      <td>3</td>\n",
       "      <td>547</td>\n",
       "      <td>6</td>\n",
       "    </tr>\n",
       "    <tr>\n",
       "      <th>6273</th>\n",
       "      <td>HGNC:19013</td>\n",
       "      <td>TRIM41</td>\n",
       "      <td>3</td>\n",
       "      <td>692</td>\n",
       "      <td>interacts with</td>\n",
       "      <td>HGNC:620</td>\n",
       "      <td>APP</td>\n",
       "      <td>3</td>\n",
       "      <td>547</td>\n",
       "      <td>6</td>\n",
       "    </tr>\n",
       "    <tr>\n",
       "      <th>7062</th>\n",
       "      <td>HGNC:11949</td>\n",
       "      <td>TNNT2</td>\n",
       "      <td>3</td>\n",
       "      <td>5448</td>\n",
       "      <td>interacts with</td>\n",
       "      <td>HGNC:620</td>\n",
       "      <td>APP</td>\n",
       "      <td>3</td>\n",
       "      <td>547</td>\n",
       "      <td>6</td>\n",
       "    </tr>\n",
       "    <tr>\n",
       "      <th>10323</th>\n",
       "      <td>HGNC:16059</td>\n",
       "      <td>PAK4</td>\n",
       "      <td>3</td>\n",
       "      <td>3922</td>\n",
       "      <td>interacts with</td>\n",
       "      <td>HGNC:620</td>\n",
       "      <td>APP</td>\n",
       "      <td>3</td>\n",
       "      <td>547</td>\n",
       "      <td>6</td>\n",
       "    </tr>\n",
       "    <tr>\n",
       "      <th>10806</th>\n",
       "      <td>HGNC:15520</td>\n",
       "      <td>LPAR6</td>\n",
       "      <td>3</td>\n",
       "      <td>1728</td>\n",
       "      <td>interacts with</td>\n",
       "      <td>HGNC:620</td>\n",
       "      <td>APP</td>\n",
       "      <td>3</td>\n",
       "      <td>547</td>\n",
       "      <td>6</td>\n",
       "    </tr>\n",
       "    <tr>\n",
       "      <th>11212</th>\n",
       "      <td>HGNC:9611</td>\n",
       "      <td>PTK2</td>\n",
       "      <td>3</td>\n",
       "      <td>6186</td>\n",
       "      <td>interacts with</td>\n",
       "      <td>HGNC:620</td>\n",
       "      <td>APP</td>\n",
       "      <td>3</td>\n",
       "      <td>547</td>\n",
       "      <td>6</td>\n",
       "    </tr>\n",
       "    <tr>\n",
       "      <th>11581</th>\n",
       "      <td>ZFIN:ZDB-GENE-020220-1</td>\n",
       "      <td>appb</td>\n",
       "      <td>5</td>\n",
       "      <td>6201</td>\n",
       "      <td>in orthology relationship with</td>\n",
       "      <td>HGNC:620</td>\n",
       "      <td>APP</td>\n",
       "      <td>3</td>\n",
       "      <td>547</td>\n",
       "      <td>0</td>\n",
       "    </tr>\n",
       "    <tr>\n",
       "      <th>12160</th>\n",
       "      <td>HGNC:8590</td>\n",
       "      <td>PAK1</td>\n",
       "      <td>3</td>\n",
       "      <td>6478</td>\n",
       "      <td>interacts with</td>\n",
       "      <td>HGNC:620</td>\n",
       "      <td>APP</td>\n",
       "      <td>3</td>\n",
       "      <td>547</td>\n",
       "      <td>6</td>\n",
       "    </tr>\n",
       "    <tr>\n",
       "      <th>13353</th>\n",
       "      <td>HGNC:2928</td>\n",
       "      <td>DMD</td>\n",
       "      <td>3</td>\n",
       "      <td>6612</td>\n",
       "      <td>interacts with</td>\n",
       "      <td>HGNC:620</td>\n",
       "      <td>APP</td>\n",
       "      <td>3</td>\n",
       "      <td>547</td>\n",
       "      <td>6</td>\n",
       "    </tr>\n",
       "    <tr>\n",
       "      <th>15040</th>\n",
       "      <td>HGNC:6487</td>\n",
       "      <td>LAMB2</td>\n",
       "      <td>3</td>\n",
       "      <td>2722</td>\n",
       "      <td>interacts with</td>\n",
       "      <td>HGNC:620</td>\n",
       "      <td>APP</td>\n",
       "      <td>3</td>\n",
       "      <td>547</td>\n",
       "      <td>6</td>\n",
       "    </tr>\n",
       "    <tr>\n",
       "      <th>18250</th>\n",
       "      <td>HGNC:11283</td>\n",
       "      <td>SRC</td>\n",
       "      <td>3</td>\n",
       "      <td>3279</td>\n",
       "      <td>interacts with</td>\n",
       "      <td>HGNC:620</td>\n",
       "      <td>APP</td>\n",
       "      <td>3</td>\n",
       "      <td>547</td>\n",
       "      <td>6</td>\n",
       "    </tr>\n",
       "    <tr>\n",
       "      <th>19566</th>\n",
       "      <td>HGNC:6944</td>\n",
       "      <td>MCM2</td>\n",
       "      <td>3</td>\n",
       "      <td>4808</td>\n",
       "      <td>interacts with</td>\n",
       "      <td>HGNC:620</td>\n",
       "      <td>APP</td>\n",
       "      <td>3</td>\n",
       "      <td>547</td>\n",
       "      <td>6</td>\n",
       "    </tr>\n",
       "    <tr>\n",
       "      <th>21481</th>\n",
       "      <td>HGNC:239</td>\n",
       "      <td>ADCY8</td>\n",
       "      <td>3</td>\n",
       "      <td>7114</td>\n",
       "      <td>interacts with</td>\n",
       "      <td>HGNC:620</td>\n",
       "      <td>APP</td>\n",
       "      <td>3</td>\n",
       "      <td>547</td>\n",
       "      <td>6</td>\n",
       "    </tr>\n",
       "    <tr>\n",
       "      <th>22595</th>\n",
       "      <td>HGNC:7582</td>\n",
       "      <td>MYL1</td>\n",
       "      <td>3</td>\n",
       "      <td>8865</td>\n",
       "      <td>interacts with</td>\n",
       "      <td>HGNC:620</td>\n",
       "      <td>APP</td>\n",
       "      <td>3</td>\n",
       "      <td>547</td>\n",
       "      <td>6</td>\n",
       "    </tr>\n",
       "    <tr>\n",
       "      <th>26187</th>\n",
       "      <td>HGNC:8591</td>\n",
       "      <td>PAK2</td>\n",
       "      <td>3</td>\n",
       "      <td>3563</td>\n",
       "      <td>interacts with</td>\n",
       "      <td>HGNC:620</td>\n",
       "      <td>APP</td>\n",
       "      <td>3</td>\n",
       "      <td>547</td>\n",
       "      <td>6</td>\n",
       "    </tr>\n",
       "    <tr>\n",
       "      <th>26963</th>\n",
       "      <td>HGNC:9449</td>\n",
       "      <td>PRNP</td>\n",
       "      <td>3</td>\n",
       "      <td>4016</td>\n",
       "      <td>interacts with</td>\n",
       "      <td>HGNC:620</td>\n",
       "      <td>APP</td>\n",
       "      <td>3</td>\n",
       "      <td>547</td>\n",
       "      <td>6</td>\n",
       "    </tr>\n",
       "    <tr>\n",
       "      <th>27564</th>\n",
       "      <td>HGNC:9411</td>\n",
       "      <td>PRKCSH</td>\n",
       "      <td>3</td>\n",
       "      <td>1807</td>\n",
       "      <td>interacts with</td>\n",
       "      <td>HGNC:620</td>\n",
       "      <td>APP</td>\n",
       "      <td>3</td>\n",
       "      <td>547</td>\n",
       "      <td>6</td>\n",
       "    </tr>\n",
       "    <tr>\n",
       "      <th>31028</th>\n",
       "      <td>HGNC:10809</td>\n",
       "      <td>SGCG</td>\n",
       "      <td>3</td>\n",
       "      <td>9656</td>\n",
       "      <td>interacts with</td>\n",
       "      <td>HGNC:620</td>\n",
       "      <td>APP</td>\n",
       "      <td>3</td>\n",
       "      <td>547</td>\n",
       "      <td>6</td>\n",
       "    </tr>\n",
       "    <tr>\n",
       "      <th>32913</th>\n",
       "      <td>HGNC:11872</td>\n",
       "      <td>TMOD2</td>\n",
       "      <td>3</td>\n",
       "      <td>4254</td>\n",
       "      <td>interacts with</td>\n",
       "      <td>HGNC:620</td>\n",
       "      <td>APP</td>\n",
       "      <td>3</td>\n",
       "      <td>547</td>\n",
       "      <td>6</td>\n",
       "    </tr>\n",
       "    <tr>\n",
       "      <th>33156</th>\n",
       "      <td>HGNC:17861</td>\n",
       "      <td>TRAF3IP1</td>\n",
       "      <td>3</td>\n",
       "      <td>2053</td>\n",
       "      <td>interacts with</td>\n",
       "      <td>HGNC:620</td>\n",
       "      <td>APP</td>\n",
       "      <td>3</td>\n",
       "      <td>547</td>\n",
       "      <td>6</td>\n",
       "    </tr>\n",
       "    <tr>\n",
       "      <th>39714</th>\n",
       "      <td>HGNC:12692</td>\n",
       "      <td>VIM</td>\n",
       "      <td>3</td>\n",
       "      <td>8264</td>\n",
       "      <td>interacts with</td>\n",
       "      <td>HGNC:620</td>\n",
       "      <td>APP</td>\n",
       "      <td>3</td>\n",
       "      <td>547</td>\n",
       "      <td>6</td>\n",
       "    </tr>\n",
       "    <tr>\n",
       "      <th>43983</th>\n",
       "      <td>HGNC:399</td>\n",
       "      <td>ALB (human)</td>\n",
       "      <td>3</td>\n",
       "      <td>3146</td>\n",
       "      <td>interacts with</td>\n",
       "      <td>HGNC:620</td>\n",
       "      <td>APP</td>\n",
       "      <td>3</td>\n",
       "      <td>547</td>\n",
       "      <td>6</td>\n",
       "    </tr>\n",
       "    <tr>\n",
       "      <th>44185</th>\n",
       "      <td>HGNC:2509</td>\n",
       "      <td>CTNNA1</td>\n",
       "      <td>3</td>\n",
       "      <td>1331</td>\n",
       "      <td>interacts with</td>\n",
       "      <td>HGNC:620</td>\n",
       "      <td>APP</td>\n",
       "      <td>3</td>\n",
       "      <td>547</td>\n",
       "      <td>6</td>\n",
       "    </tr>\n",
       "    <tr>\n",
       "      <th>46322</th>\n",
       "      <td>HGNC:164</td>\n",
       "      <td>ACTN2</td>\n",
       "      <td>3</td>\n",
       "      <td>7581</td>\n",
       "      <td>interacts with</td>\n",
       "      <td>HGNC:620</td>\n",
       "      <td>APP</td>\n",
       "      <td>3</td>\n",
       "      <td>547</td>\n",
       "      <td>6</td>\n",
       "    </tr>\n",
       "    <tr>\n",
       "      <th>48228</th>\n",
       "      <td>HGNC:6857</td>\n",
       "      <td>MAP3K5</td>\n",
       "      <td>3</td>\n",
       "      <td>3410</td>\n",
       "      <td>interacts with</td>\n",
       "      <td>HGNC:620</td>\n",
       "      <td>APP</td>\n",
       "      <td>3</td>\n",
       "      <td>547</td>\n",
       "      <td>6</td>\n",
       "    </tr>\n",
       "    <tr>\n",
       "      <th>50529</th>\n",
       "      <td>HGNC:1950</td>\n",
       "      <td>CHRM1</td>\n",
       "      <td>3</td>\n",
       "      <td>2688</td>\n",
       "      <td>interacts with</td>\n",
       "      <td>HGNC:620</td>\n",
       "      <td>APP</td>\n",
       "      <td>3</td>\n",
       "      <td>547</td>\n",
       "      <td>6</td>\n",
       "    </tr>\n",
       "    <tr>\n",
       "      <th>51016</th>\n",
       "      <td>HGNC:10769</td>\n",
       "      <td>SF3B2</td>\n",
       "      <td>3</td>\n",
       "      <td>4792</td>\n",
       "      <td>interacts with</td>\n",
       "      <td>HGNC:620</td>\n",
       "      <td>APP</td>\n",
       "      <td>3</td>\n",
       "      <td>547</td>\n",
       "      <td>6</td>\n",
       "    </tr>\n",
       "    <tr>\n",
       "      <th>52453</th>\n",
       "      <td>HGNC:232</td>\n",
       "      <td>ADCY1</td>\n",
       "      <td>3</td>\n",
       "      <td>2427</td>\n",
       "      <td>interacts with</td>\n",
       "      <td>HGNC:620</td>\n",
       "      <td>APP</td>\n",
       "      <td>3</td>\n",
       "      <td>547</td>\n",
       "      <td>6</td>\n",
       "    </tr>\n",
       "    <tr>\n",
       "      <th>58507</th>\n",
       "      <td>HGNC:16859</td>\n",
       "      <td>NOS1AP</td>\n",
       "      <td>3</td>\n",
       "      <td>9420</td>\n",
       "      <td>interacts with</td>\n",
       "      <td>HGNC:620</td>\n",
       "      <td>APP</td>\n",
       "      <td>3</td>\n",
       "      <td>547</td>\n",
       "      <td>6</td>\n",
       "    </tr>\n",
       "    <tr>\n",
       "      <th>66503</th>\n",
       "      <td>HGNC:1725</td>\n",
       "      <td>CDC25A</td>\n",
       "      <td>3</td>\n",
       "      <td>1856</td>\n",
       "      <td>interacts with</td>\n",
       "      <td>HGNC:620</td>\n",
       "      <td>APP</td>\n",
       "      <td>3</td>\n",
       "      <td>547</td>\n",
       "      <td>6</td>\n",
       "    </tr>\n",
       "    <tr>\n",
       "      <th>66805</th>\n",
       "      <td>ZFIN:ZDB-GENE-000616-13</td>\n",
       "      <td>appa</td>\n",
       "      <td>5</td>\n",
       "      <td>388</td>\n",
       "      <td>in orthology relationship with</td>\n",
       "      <td>HGNC:620</td>\n",
       "      <td>APP</td>\n",
       "      <td>3</td>\n",
       "      <td>547</td>\n",
       "      <td>0</td>\n",
       "    </tr>\n",
       "    <tr>\n",
       "      <th>68054</th>\n",
       "      <td>HGNC:10056</td>\n",
       "      <td>RNF11</td>\n",
       "      <td>3</td>\n",
       "      <td>6058</td>\n",
       "      <td>interacts with</td>\n",
       "      <td>HGNC:620</td>\n",
       "      <td>APP</td>\n",
       "      <td>3</td>\n",
       "      <td>547</td>\n",
       "      <td>6</td>\n",
       "    </tr>\n",
       "    <tr>\n",
       "      <th>73928</th>\n",
       "      <td>186</td>\n",
       "      <td>amodiaquine</td>\n",
       "      <td>2</td>\n",
       "      <td>67</td>\n",
       "      <td>targets</td>\n",
       "      <td>HGNC:620</td>\n",
       "      <td>APP</td>\n",
       "      <td>3</td>\n",
       "      <td>547</td>\n",
       "      <td>14</td>\n",
       "    </tr>\n",
       "    <tr>\n",
       "      <th>77870</th>\n",
       "      <td>2835</td>\n",
       "      <td>nicotinic acid</td>\n",
       "      <td>2</td>\n",
       "      <td>963</td>\n",
       "      <td>targets</td>\n",
       "      <td>HGNC:620</td>\n",
       "      <td>APP</td>\n",
       "      <td>3</td>\n",
       "      <td>547</td>\n",
       "      <td>14</td>\n",
       "    </tr>\n",
       "    <tr>\n",
       "      <th>78594</th>\n",
       "      <td>4301</td>\n",
       "      <td>Flutemetamol (18F)</td>\n",
       "      <td>2</td>\n",
       "      <td>1444</td>\n",
       "      <td>targets</td>\n",
       "      <td>HGNC:620</td>\n",
       "      <td>APP</td>\n",
       "      <td>3</td>\n",
       "      <td>547</td>\n",
       "      <td>14</td>\n",
       "    </tr>\n",
       "    <tr>\n",
       "      <th>81357</th>\n",
       "      <td>4818</td>\n",
       "      <td>florbetaben F18</td>\n",
       "      <td>2</td>\n",
       "      <td>1622</td>\n",
       "      <td>targets</td>\n",
       "      <td>HGNC:620</td>\n",
       "      <td>APP</td>\n",
       "      <td>3</td>\n",
       "      <td>547</td>\n",
       "      <td>14</td>\n",
       "    </tr>\n",
       "    <tr>\n",
       "      <th>82780</th>\n",
       "      <td>4285</td>\n",
       "      <td>Florbetapir F-18</td>\n",
       "      <td>2</td>\n",
       "      <td>1441</td>\n",
       "      <td>targets</td>\n",
       "      <td>HGNC:620</td>\n",
       "      <td>APP</td>\n",
       "      <td>3</td>\n",
       "      <td>547</td>\n",
       "      <td>14</td>\n",
       "    </tr>\n",
       "    <tr>\n",
       "      <th>82909</th>\n",
       "      <td>522</td>\n",
       "      <td>carvedilol</td>\n",
       "      <td>2</td>\n",
       "      <td>184</td>\n",
       "      <td>targets</td>\n",
       "      <td>HGNC:620</td>\n",
       "      <td>APP</td>\n",
       "      <td>3</td>\n",
       "      <td>547</td>\n",
       "      <td>14</td>\n",
       "    </tr>\n",
       "  </tbody>\n",
       "</table>\n",
       "</div>"
      ],
      "text/plain": [
       "                          head          label_head  class_head  index_head  \\\n",
       "2909                 HGNC:6492               LAMC1           3        1231   \n",
       "3985                  HGNC:971               BCAR1           3        4425   \n",
       "5062                HGNC:11874               TMOD4           3        8208   \n",
       "5878                 HGNC:6256              KCNJ10           3        7806   \n",
       "5976                HGNC:11427               STUB1           3        5855   \n",
       "6062                 HGNC:6486               LAMB1           3        9250   \n",
       "6180                HGNC:11138                SNCA           3        6764   \n",
       "6273                HGNC:19013              TRIM41           3         692   \n",
       "7062                HGNC:11949               TNNT2           3        5448   \n",
       "10323               HGNC:16059                PAK4           3        3922   \n",
       "10806               HGNC:15520               LPAR6           3        1728   \n",
       "11212                HGNC:9611                PTK2           3        6186   \n",
       "11581   ZFIN:ZDB-GENE-020220-1                appb           5        6201   \n",
       "12160                HGNC:8590                PAK1           3        6478   \n",
       "13353                HGNC:2928                 DMD           3        6612   \n",
       "15040                HGNC:6487               LAMB2           3        2722   \n",
       "18250               HGNC:11283                 SRC           3        3279   \n",
       "19566                HGNC:6944                MCM2           3        4808   \n",
       "21481                 HGNC:239               ADCY8           3        7114   \n",
       "22595                HGNC:7582                MYL1           3        8865   \n",
       "26187                HGNC:8591                PAK2           3        3563   \n",
       "26963                HGNC:9449                PRNP           3        4016   \n",
       "27564                HGNC:9411              PRKCSH           3        1807   \n",
       "31028               HGNC:10809                SGCG           3        9656   \n",
       "32913               HGNC:11872               TMOD2           3        4254   \n",
       "33156               HGNC:17861            TRAF3IP1           3        2053   \n",
       "39714               HGNC:12692                 VIM           3        8264   \n",
       "43983                 HGNC:399         ALB (human)           3        3146   \n",
       "44185                HGNC:2509              CTNNA1           3        1331   \n",
       "46322                 HGNC:164               ACTN2           3        7581   \n",
       "48228                HGNC:6857              MAP3K5           3        3410   \n",
       "50529                HGNC:1950               CHRM1           3        2688   \n",
       "51016               HGNC:10769               SF3B2           3        4792   \n",
       "52453                 HGNC:232               ADCY1           3        2427   \n",
       "58507               HGNC:16859              NOS1AP           3        9420   \n",
       "66503                HGNC:1725              CDC25A           3        1856   \n",
       "66805  ZFIN:ZDB-GENE-000616-13                appa           5         388   \n",
       "68054               HGNC:10056               RNF11           3        6058   \n",
       "73928                      186         amodiaquine           2          67   \n",
       "77870                     2835      nicotinic acid           2         963   \n",
       "78594                     4301  Flutemetamol (18F)           2        1444   \n",
       "81357                     4818     florbetaben F18           2        1622   \n",
       "82780                     4285    Florbetapir F-18           2        1441   \n",
       "82909                      522          carvedilol           2         184   \n",
       "\n",
       "                             relation      tail label_tail  class_tail  \\\n",
       "2909                   interacts with  HGNC:620        APP           3   \n",
       "3985                   interacts with  HGNC:620        APP           3   \n",
       "5062                   interacts with  HGNC:620        APP           3   \n",
       "5878                   interacts with  HGNC:620        APP           3   \n",
       "5976                   interacts with  HGNC:620        APP           3   \n",
       "6062                   interacts with  HGNC:620        APP           3   \n",
       "6180                   interacts with  HGNC:620        APP           3   \n",
       "6273                   interacts with  HGNC:620        APP           3   \n",
       "7062                   interacts with  HGNC:620        APP           3   \n",
       "10323                  interacts with  HGNC:620        APP           3   \n",
       "10806                  interacts with  HGNC:620        APP           3   \n",
       "11212                  interacts with  HGNC:620        APP           3   \n",
       "11581  in orthology relationship with  HGNC:620        APP           3   \n",
       "12160                  interacts with  HGNC:620        APP           3   \n",
       "13353                  interacts with  HGNC:620        APP           3   \n",
       "15040                  interacts with  HGNC:620        APP           3   \n",
       "18250                  interacts with  HGNC:620        APP           3   \n",
       "19566                  interacts with  HGNC:620        APP           3   \n",
       "21481                  interacts with  HGNC:620        APP           3   \n",
       "22595                  interacts with  HGNC:620        APP           3   \n",
       "26187                  interacts with  HGNC:620        APP           3   \n",
       "26963                  interacts with  HGNC:620        APP           3   \n",
       "27564                  interacts with  HGNC:620        APP           3   \n",
       "31028                  interacts with  HGNC:620        APP           3   \n",
       "32913                  interacts with  HGNC:620        APP           3   \n",
       "33156                  interacts with  HGNC:620        APP           3   \n",
       "39714                  interacts with  HGNC:620        APP           3   \n",
       "43983                  interacts with  HGNC:620        APP           3   \n",
       "44185                  interacts with  HGNC:620        APP           3   \n",
       "46322                  interacts with  HGNC:620        APP           3   \n",
       "48228                  interacts with  HGNC:620        APP           3   \n",
       "50529                  interacts with  HGNC:620        APP           3   \n",
       "51016                  interacts with  HGNC:620        APP           3   \n",
       "52453                  interacts with  HGNC:620        APP           3   \n",
       "58507                  interacts with  HGNC:620        APP           3   \n",
       "66503                  interacts with  HGNC:620        APP           3   \n",
       "66805  in orthology relationship with  HGNC:620        APP           3   \n",
       "68054                  interacts with  HGNC:620        APP           3   \n",
       "73928                         targets  HGNC:620        APP           3   \n",
       "77870                         targets  HGNC:620        APP           3   \n",
       "78594                         targets  HGNC:620        APP           3   \n",
       "81357                         targets  HGNC:620        APP           3   \n",
       "82780                         targets  HGNC:620        APP           3   \n",
       "82909                         targets  HGNC:620        APP           3   \n",
       "\n",
       "       index_tail  type  \n",
       "2909          547     6  \n",
       "3985          547     6  \n",
       "5062          547     6  \n",
       "5878          547     6  \n",
       "5976          547     6  \n",
       "6062          547     6  \n",
       "6180          547     6  \n",
       "6273          547     6  \n",
       "7062          547     6  \n",
       "10323         547     6  \n",
       "10806         547     6  \n",
       "11212         547     6  \n",
       "11581         547     0  \n",
       "12160         547     6  \n",
       "13353         547     6  \n",
       "15040         547     6  \n",
       "18250         547     6  \n",
       "19566         547     6  \n",
       "21481         547     6  \n",
       "22595         547     6  \n",
       "26187         547     6  \n",
       "26963         547     6  \n",
       "27564         547     6  \n",
       "31028         547     6  \n",
       "32913         547     6  \n",
       "33156         547     6  \n",
       "39714         547     6  \n",
       "43983         547     6  \n",
       "44185         547     6  \n",
       "46322         547     6  \n",
       "48228         547     6  \n",
       "50529         547     6  \n",
       "51016         547     6  \n",
       "52453         547     6  \n",
       "58507         547     6  \n",
       "66503         547     6  \n",
       "66805         547     0  \n",
       "68054         547     6  \n",
       "73928         547    14  \n",
       "77870         547    14  \n",
       "78594         547    14  \n",
       "81357         547    14  \n",
       "82780         547    14  \n",
       "82909         547    14  "
      ]
     },
     "execution_count": 19,
     "metadata": {},
     "output_type": "execute_result"
    }
   ],
   "source": [
    "edges.loc[edges['index_tail'] == 547]"
   ]
  },
  {
   "cell_type": "markdown",
   "metadata": {},
   "source": [
    "Index list can be used later for converting back to the label of the relation."
   ]
  },
  {
   "cell_type": "code",
   "execution_count": 20,
   "metadata": {},
   "outputs": [
    {
     "data": {
      "text/plain": [
       "Index(['in orthology relationship with',\n",
       "       'in 1 to 1 orthology relationship with', 'expressed in', 'is part of',\n",
       "       'has phenotype', 'enables', 'interacts with', 'involved in',\n",
       "       'colocalizes with', 'is causal germline mutation in',\n",
       "       'contributes to condition', 'has affected feature',\n",
       "       'pathogenic for condition', 'contributes to', 'targets',\n",
       "       'has role in modeling', 'is allele of',\n",
       "       'likely pathogenic for condition', 'causes condition', 'source',\n",
       "       'has genotype', 'is causal germline mutation partially giving rise to',\n",
       "       'is marker for'],\n",
       "      dtype='object')"
      ]
     },
     "execution_count": 20,
     "metadata": {},
     "output_type": "execute_result"
    }
   ],
   "source": [
    "_, relation_labels = pd.factorize(edges['relation'])\n",
    "relation_labels"
   ]
  },
  {
   "attachments": {},
   "cell_type": "markdown",
   "metadata": {},
   "source": [
    "# Link Prediction"
   ]
  },
  {
   "attachments": {},
   "cell_type": "markdown",
   "metadata": {},
   "source": [
    "Creating a graph including the node embeddings as features of each node."
   ]
  },
  {
   "cell_type": "code",
   "execution_count": 21,
   "metadata": {},
   "outputs": [
    {
     "name": "stdout",
     "output_type": "stream",
     "text": [
      "(0, {'node_feature': tensor([-0.5189, -0.2760,  1.4841, -0.0607, -0.0413, -0.1067,  0.0676, -0.0755,\n",
      "         0.9547, -0.4007, -0.5608, -1.0221, -0.9254,  0.3233, -0.2541, -1.5503,\n",
      "        -0.2603, -0.7199, -0.2066,  1.7181, -0.6343,  1.0000, -0.2462, -1.0636,\n",
      "         1.5462, -0.9441,  0.0291,  0.5076,  0.1558, -0.8949,  0.3848, -0.7677])})\n",
      "(0, 5765, {})\n",
      "Number of edges is 52024\n",
      "Number of nodes is 10034\n"
     ]
    }
   ],
   "source": [
    "embedded_node_G = nx.Graph() # TODO: DiGraph?\n",
    "\n",
    "for ind, node in embedding.iterrows(): \n",
    "  embedded_node_G.add_node(int(node['Node']), node_feature=torch.Tensor(node['Embedding']))\n",
    "for ind, edge in edges.iterrows(): \n",
    "  embedded_node_G.add_edge(int(edge['index_head']), int(edge['index_tail']))\n",
    "    \n",
    "for node in embedded_node_G.nodes(data=True):\n",
    "    print(node)\n",
    "    break\n",
    "for edge in embedded_node_G.edges(data=True):\n",
    "    print(edge)\n",
    "    break\n",
    "\n",
    "print(\"Number of edges is {}\".format(embedded_node_G.number_of_edges()))\n",
    "print(\"Number of nodes is {}\".format(embedded_node_G.number_of_nodes()))"
   ]
  },
  {
   "attachments": {},
   "cell_type": "markdown",
   "metadata": {},
   "source": [
    "## Generate graph datasets for training, validation and testing"
   ]
  },
  {
   "attachments": {},
   "cell_type": "markdown",
   "metadata": {},
   "source": [
    "Transductive link prediction split (https://zqfang.github.io/2021-08-12-graph-linkpredict/):\n",
    "- Train/validation/test sets are on the same graph\n",
    "- The dataset consists of one graph\n",
    "- The entire graph can be observed in all dataset splits\n",
    "- The labels of the edges are split"
   ]
  },
  {
   "cell_type": "code",
   "execution_count": 22,
   "metadata": {},
   "outputs": [
    {
     "name": "stderr",
     "output_type": "stream",
     "text": [
      "c:\\Users\\rosa-\\anaconda3\\envs\\xaifo\\lib\\site-packages\\deepsnap\\graph.py:2126: UserWarning: __floordiv__ is deprecated, and its behavior will change in a future version of pytorch. It currently rounds toward 0 (like the 'trunc' function NOT 'floor'). This results in incorrect rounding for negative values. To keep the current behavior, use torch.div(a, b, rounding_mode='trunc'), or for actual floor division, use torch.div(a, b, rounding_mode='floor').\n",
      "  row = perm // num_nodes\n"
     ]
    },
    {
     "name": "stdout",
     "output_type": "stream",
     "text": [
      "Input dimension (embedding dimension): 32 \n",
      " Number of edge classes (link or no link): 2\n"
     ]
    }
   ],
   "source": [
    "dataset = GraphDataset(\n",
    "    embedded_node_G,\n",
    "    task='link_pred',\n",
    "    edge_train_mode='all',\n",
    "    edge_negative_sampling_ratio=1\n",
    ")\n",
    "\n",
    "datasets = {}\n",
    "datasets['train'], datasets['val'], datasets['test'] = dataset.split(\n",
    "    transductive=True, split_ratio=[0.8, 0.1, 0.1]\n",
    ")\n",
    "\n",
    "input_dim = datasets['train'].num_node_features\n",
    "num_classes = datasets['train'].num_edge_labels\n",
    "\n",
    "print(f'Input dimension (embedding dimension): {input_dim} \\n Number of edge classes (link or no link): {num_classes}')   "
   ]
  },
  {
   "attachments": {},
   "cell_type": "markdown",
   "metadata": {},
   "source": [
    "Dataloaders allow to feed data into the model by batch."
   ]
  },
  {
   "cell_type": "code",
   "execution_count": 23,
   "metadata": {},
   "outputs": [],
   "source": [
    "dataloaders = {split: DataLoader(ds, collate_fn=Batch.collate([]), batch_size=1, shuffle=(split=='train')) for split, ds in datasets.items()}"
   ]
  },
  {
   "attachments": {},
   "cell_type": "markdown",
   "metadata": {},
   "source": [
    "## Train GNN"
   ]
  },
  {
   "attachments": {},
   "cell_type": "markdown",
   "metadata": {},
   "source": [
    "### Predefined Arguments"
   ]
  },
  {
   "attachments": {},
   "cell_type": "markdown",
   "metadata": {},
   "source": [
    "Train GNN with predefined arguments"
   ]
  },
  {
   "cell_type": "code",
   "execution_count": 24,
   "metadata": {},
   "outputs": [
    {
     "name": "stdout",
     "output_type": "stream",
     "text": [
      "{'device': device(type='cpu'), 'hidden_dim': 256, 'output_dim': 64, 'epochs': 150, 'lr': 0.07, 'aggr': 'mean', 'layers': 2, 'dropout': 0.2} 0.0005\n"
     ]
    }
   ],
   "source": [
    "if embedding_method == 'e2v':\n",
    "    weight_decay = 5e-4\n",
    "else:\n",
    "    weight_decay = 0.01\n",
    "\n",
    "if dataset_nr == 1:\n",
    "    if embedding_method == 'e2v':\n",
    "        args = {\n",
    "            \"device\" : torch_device,   # insert torch_device, or 'cpu' \n",
    "            \"hidden_dim\" : 256,\n",
    "            'output_dim': 64,\n",
    "            \"epochs\" : 150, \n",
    "            'lr': 0.07, \n",
    "            'aggr': 'mean', \n",
    "            'layers': 2, \n",
    "            'dropout': 0.2\n",
    "        }\n",
    "    else:\n",
    "        args = {\n",
    "            \"device\" : torch_device,   # insert torch_device, or 'cpu' \n",
    "            \"hidden_dim\" : 64,\n",
    "            'output_dim': 64,\n",
    "            \"epochs\" : 150, \n",
    "            'lr': 0.08012563751611058, \n",
    "            'aggr': 'mean', \n",
    "            'layers': 6, \n",
    "            'dropout': 0\n",
    "        }\n",
    "    \n",
    "else:\n",
    "    if embedding_method == 'e2v':\n",
    "        args = {\n",
    "            \"device\" : torch_device,   # insert torch_device, or 'cpu' \n",
    "            \"hidden_dim\" : 256,\n",
    "            'output_dim': 64,\n",
    "            \"epochs\" : 100, \n",
    "            'lr': 0.013477408995651594, \n",
    "            'aggr': 'mean', \n",
    "            'layers': 2, \n",
    "            'dropout': 0.2\n",
    "        }\n",
    "    else:\n",
    "        args = {\n",
    "            \"device\" : torch_device,   # insert torch_device, or 'cpu' \n",
    "            \"hidden_dim\" : 128,\n",
    "            'output_dim': 64,\n",
    "            \"epochs\" : 150, \n",
    "            'lr': 0.07, \n",
    "            'aggr': 'mean', \n",
    "            'layers': 2, \n",
    "            'dropout': 0.1\n",
    "        }\n",
    "\n",
    "print(args, weight_decay)\n",
    "\n",
    "model = LinkPredModel(input_dim, args['hidden_dim'], args['output_dim'], args['layers'], args['aggr'], args['dropout'], args['device']).to(args['device'])\n",
    "optimizer = torch.optim.SGD(model.parameters(), lr=args['lr'], momentum=0.9, weight_decay=weight_decay)"
   ]
  },
  {
   "cell_type": "code",
   "execution_count": 25,
   "metadata": {},
   "outputs": [
    {
     "name": "stdout",
     "output_type": "stream",
     "text": [
      "Start Train Function\n"
     ]
    },
    {
     "name": "stdout",
     "output_type": "stream",
     "text": [
      "Epoch: 001, Train: 0.8898, Val: 0.8587, Test: 0.8637, Loss: 2.52799\n"
     ]
    },
    {
     "name": "stderr",
     "output_type": "stream",
     "text": [
      "c:\\Users\\rosa-\\anaconda3\\envs\\xaifo\\lib\\site-packages\\deepsnap\\graph.py:2126: UserWarning: __floordiv__ is deprecated, and its behavior will change in a future version of pytorch. It currently rounds toward 0 (like the 'trunc' function NOT 'floor'). This results in incorrect rounding for negative values. To keep the current behavior, use torch.div(a, b, rounding_mode='trunc'), or for actual floor division, use torch.div(a, b, rounding_mode='floor').\n",
      "  row = perm // num_nodes\n"
     ]
    },
    {
     "name": "stdout",
     "output_type": "stream",
     "text": [
      "Epoch: 002, Train: 0.9219, Val: 0.8812, Test: 0.8866, Loss: 2.29565\n"
     ]
    },
    {
     "name": "stderr",
     "output_type": "stream",
     "text": [
      "c:\\Users\\rosa-\\anaconda3\\envs\\xaifo\\lib\\site-packages\\deepsnap\\graph.py:2126: UserWarning: __floordiv__ is deprecated, and its behavior will change in a future version of pytorch. It currently rounds toward 0 (like the 'trunc' function NOT 'floor'). This results in incorrect rounding for negative values. To keep the current behavior, use torch.div(a, b, rounding_mode='trunc'), or for actual floor division, use torch.div(a, b, rounding_mode='floor').\n",
      "  row = perm // num_nodes\n"
     ]
    },
    {
     "name": "stdout",
     "output_type": "stream",
     "text": [
      "Epoch: 003, Train: 0.9259, Val: 0.8945, Test: 0.9013, Loss: 2.10156\n"
     ]
    },
    {
     "name": "stderr",
     "output_type": "stream",
     "text": [
      "c:\\Users\\rosa-\\anaconda3\\envs\\xaifo\\lib\\site-packages\\deepsnap\\graph.py:2126: UserWarning: __floordiv__ is deprecated, and its behavior will change in a future version of pytorch. It currently rounds toward 0 (like the 'trunc' function NOT 'floor'). This results in incorrect rounding for negative values. To keep the current behavior, use torch.div(a, b, rounding_mode='trunc'), or for actual floor division, use torch.div(a, b, rounding_mode='floor').\n",
      "  row = perm // num_nodes\n"
     ]
    },
    {
     "name": "stdout",
     "output_type": "stream",
     "text": [
      "Epoch: 004, Train: 0.9207, Val: 0.8954, Test: 0.9018, Loss: 2.03075\n"
     ]
    },
    {
     "name": "stderr",
     "output_type": "stream",
     "text": [
      "c:\\Users\\rosa-\\anaconda3\\envs\\xaifo\\lib\\site-packages\\deepsnap\\graph.py:2126: UserWarning: __floordiv__ is deprecated, and its behavior will change in a future version of pytorch. It currently rounds toward 0 (like the 'trunc' function NOT 'floor'). This results in incorrect rounding for negative values. To keep the current behavior, use torch.div(a, b, rounding_mode='trunc'), or for actual floor division, use torch.div(a, b, rounding_mode='floor').\n",
      "  row = perm // num_nodes\n"
     ]
    },
    {
     "name": "stdout",
     "output_type": "stream",
     "text": [
      "Epoch: 005, Train: 0.9274, Val: 0.9011, Test: 0.9059, Loss: 1.89576\n"
     ]
    },
    {
     "name": "stderr",
     "output_type": "stream",
     "text": [
      "c:\\Users\\rosa-\\anaconda3\\envs\\xaifo\\lib\\site-packages\\deepsnap\\graph.py:2126: UserWarning: __floordiv__ is deprecated, and its behavior will change in a future version of pytorch. It currently rounds toward 0 (like the 'trunc' function NOT 'floor'). This results in incorrect rounding for negative values. To keep the current behavior, use torch.div(a, b, rounding_mode='trunc'), or for actual floor division, use torch.div(a, b, rounding_mode='floor').\n",
      "  row = perm // num_nodes\n"
     ]
    },
    {
     "name": "stdout",
     "output_type": "stream",
     "text": [
      "Epoch: 006, Train: 0.9334, Val: 0.9103, Test: 0.9161, Loss: 1.78059\n"
     ]
    },
    {
     "name": "stderr",
     "output_type": "stream",
     "text": [
      "c:\\Users\\rosa-\\anaconda3\\envs\\xaifo\\lib\\site-packages\\deepsnap\\graph.py:2126: UserWarning: __floordiv__ is deprecated, and its behavior will change in a future version of pytorch. It currently rounds toward 0 (like the 'trunc' function NOT 'floor'). This results in incorrect rounding for negative values. To keep the current behavior, use torch.div(a, b, rounding_mode='trunc'), or for actual floor division, use torch.div(a, b, rounding_mode='floor').\n",
      "  row = perm // num_nodes\n"
     ]
    },
    {
     "name": "stdout",
     "output_type": "stream",
     "text": [
      "Epoch: 007, Train: 0.9372, Val: 0.9168, Test: 0.9241, Loss: 1.64973\n"
     ]
    },
    {
     "name": "stderr",
     "output_type": "stream",
     "text": [
      "c:\\Users\\rosa-\\anaconda3\\envs\\xaifo\\lib\\site-packages\\deepsnap\\graph.py:2126: UserWarning: __floordiv__ is deprecated, and its behavior will change in a future version of pytorch. It currently rounds toward 0 (like the 'trunc' function NOT 'floor'). This results in incorrect rounding for negative values. To keep the current behavior, use torch.div(a, b, rounding_mode='trunc'), or for actual floor division, use torch.div(a, b, rounding_mode='floor').\n",
      "  row = perm // num_nodes\n"
     ]
    },
    {
     "name": "stdout",
     "output_type": "stream",
     "text": [
      "Epoch: 008, Train: 0.9372, Val: 0.9196, Test: 0.9282, Loss: 1.53849\n"
     ]
    },
    {
     "name": "stderr",
     "output_type": "stream",
     "text": [
      "c:\\Users\\rosa-\\anaconda3\\envs\\xaifo\\lib\\site-packages\\deepsnap\\graph.py:2126: UserWarning: __floordiv__ is deprecated, and its behavior will change in a future version of pytorch. It currently rounds toward 0 (like the 'trunc' function NOT 'floor'). This results in incorrect rounding for negative values. To keep the current behavior, use torch.div(a, b, rounding_mode='trunc'), or for actual floor division, use torch.div(a, b, rounding_mode='floor').\n",
      "  row = perm // num_nodes\n"
     ]
    },
    {
     "name": "stdout",
     "output_type": "stream",
     "text": [
      "Epoch: 009, Train: 0.9384, Val: 0.9211, Test: 0.9304, Loss: 1.44256\n"
     ]
    },
    {
     "name": "stderr",
     "output_type": "stream",
     "text": [
      "c:\\Users\\rosa-\\anaconda3\\envs\\xaifo\\lib\\site-packages\\deepsnap\\graph.py:2126: UserWarning: __floordiv__ is deprecated, and its behavior will change in a future version of pytorch. It currently rounds toward 0 (like the 'trunc' function NOT 'floor'). This results in incorrect rounding for negative values. To keep the current behavior, use torch.div(a, b, rounding_mode='trunc'), or for actual floor division, use torch.div(a, b, rounding_mode='floor').\n",
      "  row = perm // num_nodes\n"
     ]
    },
    {
     "name": "stdout",
     "output_type": "stream",
     "text": [
      "Epoch: 010, Train: 0.9405, Val: 0.9219, Test: 0.9316, Loss: 1.34889\n"
     ]
    },
    {
     "name": "stderr",
     "output_type": "stream",
     "text": [
      "c:\\Users\\rosa-\\anaconda3\\envs\\xaifo\\lib\\site-packages\\deepsnap\\graph.py:2126: UserWarning: __floordiv__ is deprecated, and its behavior will change in a future version of pytorch. It currently rounds toward 0 (like the 'trunc' function NOT 'floor'). This results in incorrect rounding for negative values. To keep the current behavior, use torch.div(a, b, rounding_mode='trunc'), or for actual floor division, use torch.div(a, b, rounding_mode='floor').\n",
      "  row = perm // num_nodes\n"
     ]
    },
    {
     "name": "stdout",
     "output_type": "stream",
     "text": [
      "Epoch: 011, Train: 0.9423, Val: 0.9228, Test: 0.9324, Loss: 1.25625\n"
     ]
    },
    {
     "name": "stderr",
     "output_type": "stream",
     "text": [
      "c:\\Users\\rosa-\\anaconda3\\envs\\xaifo\\lib\\site-packages\\deepsnap\\graph.py:2126: UserWarning: __floordiv__ is deprecated, and its behavior will change in a future version of pytorch. It currently rounds toward 0 (like the 'trunc' function NOT 'floor'). This results in incorrect rounding for negative values. To keep the current behavior, use torch.div(a, b, rounding_mode='trunc'), or for actual floor division, use torch.div(a, b, rounding_mode='floor').\n",
      "  row = perm // num_nodes\n"
     ]
    },
    {
     "name": "stdout",
     "output_type": "stream",
     "text": [
      "Epoch: 012, Train: 0.9434, Val: 0.9224, Test: 0.9317, Loss: 1.17954\n"
     ]
    },
    {
     "name": "stderr",
     "output_type": "stream",
     "text": [
      "c:\\Users\\rosa-\\anaconda3\\envs\\xaifo\\lib\\site-packages\\deepsnap\\graph.py:2126: UserWarning: __floordiv__ is deprecated, and its behavior will change in a future version of pytorch. It currently rounds toward 0 (like the 'trunc' function NOT 'floor'). This results in incorrect rounding for negative values. To keep the current behavior, use torch.div(a, b, rounding_mode='trunc'), or for actual floor division, use torch.div(a, b, rounding_mode='floor').\n",
      "  row = perm // num_nodes\n"
     ]
    },
    {
     "name": "stdout",
     "output_type": "stream",
     "text": [
      "Epoch: 013, Train: 0.9423, Val: 0.9211, Test: 0.9297, Loss: 1.10819\n"
     ]
    },
    {
     "name": "stderr",
     "output_type": "stream",
     "text": [
      "c:\\Users\\rosa-\\anaconda3\\envs\\xaifo\\lib\\site-packages\\deepsnap\\graph.py:2126: UserWarning: __floordiv__ is deprecated, and its behavior will change in a future version of pytorch. It currently rounds toward 0 (like the 'trunc' function NOT 'floor'). This results in incorrect rounding for negative values. To keep the current behavior, use torch.div(a, b, rounding_mode='trunc'), or for actual floor division, use torch.div(a, b, rounding_mode='floor').\n",
      "  row = perm // num_nodes\n"
     ]
    },
    {
     "name": "stdout",
     "output_type": "stream",
     "text": [
      "Epoch: 014, Train: 0.9426, Val: 0.9204, Test: 0.9280, Loss: 1.02189\n"
     ]
    },
    {
     "name": "stderr",
     "output_type": "stream",
     "text": [
      "c:\\Users\\rosa-\\anaconda3\\envs\\xaifo\\lib\\site-packages\\deepsnap\\graph.py:2126: UserWarning: __floordiv__ is deprecated, and its behavior will change in a future version of pytorch. It currently rounds toward 0 (like the 'trunc' function NOT 'floor'). This results in incorrect rounding for negative values. To keep the current behavior, use torch.div(a, b, rounding_mode='trunc'), or for actual floor division, use torch.div(a, b, rounding_mode='floor').\n",
      "  row = perm // num_nodes\n"
     ]
    },
    {
     "name": "stdout",
     "output_type": "stream",
     "text": [
      "Epoch: 015, Train: 0.9414, Val: 0.9202, Test: 0.9268, Loss: 0.96157\n"
     ]
    },
    {
     "name": "stderr",
     "output_type": "stream",
     "text": [
      "c:\\Users\\rosa-\\anaconda3\\envs\\xaifo\\lib\\site-packages\\deepsnap\\graph.py:2126: UserWarning: __floordiv__ is deprecated, and its behavior will change in a future version of pytorch. It currently rounds toward 0 (like the 'trunc' function NOT 'floor'). This results in incorrect rounding for negative values. To keep the current behavior, use torch.div(a, b, rounding_mode='trunc'), or for actual floor division, use torch.div(a, b, rounding_mode='floor').\n",
      "  row = perm // num_nodes\n"
     ]
    },
    {
     "name": "stdout",
     "output_type": "stream",
     "text": [
      "Epoch: 016, Train: 0.9422, Val: 0.9210, Test: 0.9262, Loss: 0.88769\n"
     ]
    },
    {
     "name": "stderr",
     "output_type": "stream",
     "text": [
      "c:\\Users\\rosa-\\anaconda3\\envs\\xaifo\\lib\\site-packages\\deepsnap\\graph.py:2126: UserWarning: __floordiv__ is deprecated, and its behavior will change in a future version of pytorch. It currently rounds toward 0 (like the 'trunc' function NOT 'floor'). This results in incorrect rounding for negative values. To keep the current behavior, use torch.div(a, b, rounding_mode='trunc'), or for actual floor division, use torch.div(a, b, rounding_mode='floor').\n",
      "  row = perm // num_nodes\n"
     ]
    },
    {
     "name": "stdout",
     "output_type": "stream",
     "text": [
      "Epoch: 017, Train: 0.9421, Val: 0.9223, Test: 0.9262, Loss: 0.83752\n"
     ]
    },
    {
     "name": "stderr",
     "output_type": "stream",
     "text": [
      "c:\\Users\\rosa-\\anaconda3\\envs\\xaifo\\lib\\site-packages\\deepsnap\\graph.py:2126: UserWarning: __floordiv__ is deprecated, and its behavior will change in a future version of pytorch. It currently rounds toward 0 (like the 'trunc' function NOT 'floor'). This results in incorrect rounding for negative values. To keep the current behavior, use torch.div(a, b, rounding_mode='trunc'), or for actual floor division, use torch.div(a, b, rounding_mode='floor').\n",
      "  row = perm // num_nodes\n"
     ]
    },
    {
     "name": "stdout",
     "output_type": "stream",
     "text": [
      "Epoch: 018, Train: 0.9424, Val: 0.9232, Test: 0.9263, Loss: 0.77787\n"
     ]
    },
    {
     "name": "stderr",
     "output_type": "stream",
     "text": [
      "c:\\Users\\rosa-\\anaconda3\\envs\\xaifo\\lib\\site-packages\\deepsnap\\graph.py:2126: UserWarning: __floordiv__ is deprecated, and its behavior will change in a future version of pytorch. It currently rounds toward 0 (like the 'trunc' function NOT 'floor'). This results in incorrect rounding for negative values. To keep the current behavior, use torch.div(a, b, rounding_mode='trunc'), or for actual floor division, use torch.div(a, b, rounding_mode='floor').\n",
      "  row = perm // num_nodes\n"
     ]
    },
    {
     "name": "stdout",
     "output_type": "stream",
     "text": [
      "Epoch: 019, Train: 0.9408, Val: 0.9236, Test: 0.9264, Loss: 0.73707\n"
     ]
    },
    {
     "name": "stderr",
     "output_type": "stream",
     "text": [
      "c:\\Users\\rosa-\\anaconda3\\envs\\xaifo\\lib\\site-packages\\deepsnap\\graph.py:2126: UserWarning: __floordiv__ is deprecated, and its behavior will change in a future version of pytorch. It currently rounds toward 0 (like the 'trunc' function NOT 'floor'). This results in incorrect rounding for negative values. To keep the current behavior, use torch.div(a, b, rounding_mode='trunc'), or for actual floor division, use torch.div(a, b, rounding_mode='floor').\n",
      "  row = perm // num_nodes\n"
     ]
    },
    {
     "name": "stdout",
     "output_type": "stream",
     "text": [
      "Epoch: 020, Train: 0.9400, Val: 0.9239, Test: 0.9266, Loss: 0.68566\n"
     ]
    },
    {
     "name": "stderr",
     "output_type": "stream",
     "text": [
      "c:\\Users\\rosa-\\anaconda3\\envs\\xaifo\\lib\\site-packages\\deepsnap\\graph.py:2126: UserWarning: __floordiv__ is deprecated, and its behavior will change in a future version of pytorch. It currently rounds toward 0 (like the 'trunc' function NOT 'floor'). This results in incorrect rounding for negative values. To keep the current behavior, use torch.div(a, b, rounding_mode='trunc'), or for actual floor division, use torch.div(a, b, rounding_mode='floor').\n",
      "  row = perm // num_nodes\n"
     ]
    },
    {
     "name": "stdout",
     "output_type": "stream",
     "text": [
      "Epoch: 021, Train: 0.9394, Val: 0.9236, Test: 0.9268, Loss: 0.65681\n"
     ]
    },
    {
     "name": "stderr",
     "output_type": "stream",
     "text": [
      "c:\\Users\\rosa-\\anaconda3\\envs\\xaifo\\lib\\site-packages\\deepsnap\\graph.py:2126: UserWarning: __floordiv__ is deprecated, and its behavior will change in a future version of pytorch. It currently rounds toward 0 (like the 'trunc' function NOT 'floor'). This results in incorrect rounding for negative values. To keep the current behavior, use torch.div(a, b, rounding_mode='trunc'), or for actual floor division, use torch.div(a, b, rounding_mode='floor').\n",
      "  row = perm // num_nodes\n"
     ]
    },
    {
     "name": "stdout",
     "output_type": "stream",
     "text": [
      "Epoch: 022, Train: 0.9391, Val: 0.9234, Test: 0.9272, Loss: 0.62418\n"
     ]
    },
    {
     "name": "stderr",
     "output_type": "stream",
     "text": [
      "c:\\Users\\rosa-\\anaconda3\\envs\\xaifo\\lib\\site-packages\\deepsnap\\graph.py:2126: UserWarning: __floordiv__ is deprecated, and its behavior will change in a future version of pytorch. It currently rounds toward 0 (like the 'trunc' function NOT 'floor'). This results in incorrect rounding for negative values. To keep the current behavior, use torch.div(a, b, rounding_mode='trunc'), or for actual floor division, use torch.div(a, b, rounding_mode='floor').\n",
      "  row = perm // num_nodes\n"
     ]
    },
    {
     "name": "stdout",
     "output_type": "stream",
     "text": [
      "Epoch: 023, Train: 0.9389, Val: 0.9240, Test: 0.9284, Loss: 0.59605\n"
     ]
    },
    {
     "name": "stderr",
     "output_type": "stream",
     "text": [
      "c:\\Users\\rosa-\\anaconda3\\envs\\xaifo\\lib\\site-packages\\deepsnap\\graph.py:2126: UserWarning: __floordiv__ is deprecated, and its behavior will change in a future version of pytorch. It currently rounds toward 0 (like the 'trunc' function NOT 'floor'). This results in incorrect rounding for negative values. To keep the current behavior, use torch.div(a, b, rounding_mode='trunc'), or for actual floor division, use torch.div(a, b, rounding_mode='floor').\n",
      "  row = perm // num_nodes\n"
     ]
    },
    {
     "name": "stdout",
     "output_type": "stream",
     "text": [
      "Epoch: 024, Train: 0.9403, Val: 0.9253, Test: 0.9302, Loss: 0.57283\n"
     ]
    },
    {
     "name": "stderr",
     "output_type": "stream",
     "text": [
      "c:\\Users\\rosa-\\anaconda3\\envs\\xaifo\\lib\\site-packages\\deepsnap\\graph.py:2126: UserWarning: __floordiv__ is deprecated, and its behavior will change in a future version of pytorch. It currently rounds toward 0 (like the 'trunc' function NOT 'floor'). This results in incorrect rounding for negative values. To keep the current behavior, use torch.div(a, b, rounding_mode='trunc'), or for actual floor division, use torch.div(a, b, rounding_mode='floor').\n",
      "  row = perm // num_nodes\n"
     ]
    },
    {
     "name": "stdout",
     "output_type": "stream",
     "text": [
      "Epoch: 025, Train: 0.9426, Val: 0.9272, Test: 0.9323, Loss: 0.54753\n"
     ]
    },
    {
     "name": "stderr",
     "output_type": "stream",
     "text": [
      "c:\\Users\\rosa-\\anaconda3\\envs\\xaifo\\lib\\site-packages\\deepsnap\\graph.py:2126: UserWarning: __floordiv__ is deprecated, and its behavior will change in a future version of pytorch. It currently rounds toward 0 (like the 'trunc' function NOT 'floor'). This results in incorrect rounding for negative values. To keep the current behavior, use torch.div(a, b, rounding_mode='trunc'), or for actual floor division, use torch.div(a, b, rounding_mode='floor').\n",
      "  row = perm // num_nodes\n"
     ]
    },
    {
     "name": "stdout",
     "output_type": "stream",
     "text": [
      "Epoch: 026, Train: 0.9465, Val: 0.9299, Test: 0.9351, Loss: 0.53253\n"
     ]
    },
    {
     "name": "stderr",
     "output_type": "stream",
     "text": [
      "c:\\Users\\rosa-\\anaconda3\\envs\\xaifo\\lib\\site-packages\\deepsnap\\graph.py:2126: UserWarning: __floordiv__ is deprecated, and its behavior will change in a future version of pytorch. It currently rounds toward 0 (like the 'trunc' function NOT 'floor'). This results in incorrect rounding for negative values. To keep the current behavior, use torch.div(a, b, rounding_mode='trunc'), or for actual floor division, use torch.div(a, b, rounding_mode='floor').\n",
      "  row = perm // num_nodes\n"
     ]
    },
    {
     "name": "stdout",
     "output_type": "stream",
     "text": [
      "Epoch: 027, Train: 0.9501, Val: 0.9332, Test: 0.9382, Loss: 0.51694\n"
     ]
    },
    {
     "name": "stderr",
     "output_type": "stream",
     "text": [
      "c:\\Users\\rosa-\\anaconda3\\envs\\xaifo\\lib\\site-packages\\deepsnap\\graph.py:2126: UserWarning: __floordiv__ is deprecated, and its behavior will change in a future version of pytorch. It currently rounds toward 0 (like the 'trunc' function NOT 'floor'). This results in incorrect rounding for negative values. To keep the current behavior, use torch.div(a, b, rounding_mode='trunc'), or for actual floor division, use torch.div(a, b, rounding_mode='floor').\n",
      "  row = perm // num_nodes\n"
     ]
    },
    {
     "name": "stdout",
     "output_type": "stream",
     "text": [
      "Epoch: 028, Train: 0.9536, Val: 0.9366, Test: 0.9413, Loss: 0.49847\n"
     ]
    },
    {
     "name": "stderr",
     "output_type": "stream",
     "text": [
      "c:\\Users\\rosa-\\anaconda3\\envs\\xaifo\\lib\\site-packages\\deepsnap\\graph.py:2126: UserWarning: __floordiv__ is deprecated, and its behavior will change in a future version of pytorch. It currently rounds toward 0 (like the 'trunc' function NOT 'floor'). This results in incorrect rounding for negative values. To keep the current behavior, use torch.div(a, b, rounding_mode='trunc'), or for actual floor division, use torch.div(a, b, rounding_mode='floor').\n",
      "  row = perm // num_nodes\n"
     ]
    },
    {
     "name": "stdout",
     "output_type": "stream",
     "text": [
      "Epoch: 029, Train: 0.9581, Val: 0.9405, Test: 0.9446, Loss: 0.49153\n"
     ]
    },
    {
     "name": "stderr",
     "output_type": "stream",
     "text": [
      "c:\\Users\\rosa-\\anaconda3\\envs\\xaifo\\lib\\site-packages\\deepsnap\\graph.py:2126: UserWarning: __floordiv__ is deprecated, and its behavior will change in a future version of pytorch. It currently rounds toward 0 (like the 'trunc' function NOT 'floor'). This results in incorrect rounding for negative values. To keep the current behavior, use torch.div(a, b, rounding_mode='trunc'), or for actual floor division, use torch.div(a, b, rounding_mode='floor').\n",
      "  row = perm // num_nodes\n"
     ]
    },
    {
     "name": "stdout",
     "output_type": "stream",
     "text": [
      "Epoch: 030, Train: 0.9620, Val: 0.9441, Test: 0.9476, Loss: 0.48213\n"
     ]
    },
    {
     "name": "stderr",
     "output_type": "stream",
     "text": [
      "c:\\Users\\rosa-\\anaconda3\\envs\\xaifo\\lib\\site-packages\\deepsnap\\graph.py:2126: UserWarning: __floordiv__ is deprecated, and its behavior will change in a future version of pytorch. It currently rounds toward 0 (like the 'trunc' function NOT 'floor'). This results in incorrect rounding for negative values. To keep the current behavior, use torch.div(a, b, rounding_mode='trunc'), or for actual floor division, use torch.div(a, b, rounding_mode='floor').\n",
      "  row = perm // num_nodes\n"
     ]
    },
    {
     "name": "stdout",
     "output_type": "stream",
     "text": [
      "Epoch: 031, Train: 0.9659, Val: 0.9474, Test: 0.9505, Loss: 0.47806\n"
     ]
    },
    {
     "name": "stderr",
     "output_type": "stream",
     "text": [
      "c:\\Users\\rosa-\\anaconda3\\envs\\xaifo\\lib\\site-packages\\deepsnap\\graph.py:2126: UserWarning: __floordiv__ is deprecated, and its behavior will change in a future version of pytorch. It currently rounds toward 0 (like the 'trunc' function NOT 'floor'). This results in incorrect rounding for negative values. To keep the current behavior, use torch.div(a, b, rounding_mode='trunc'), or for actual floor division, use torch.div(a, b, rounding_mode='floor').\n",
      "  row = perm // num_nodes\n"
     ]
    },
    {
     "name": "stdout",
     "output_type": "stream",
     "text": [
      "Epoch: 032, Train: 0.9693, Val: 0.9503, Test: 0.9529, Loss: 0.47012\n"
     ]
    },
    {
     "name": "stderr",
     "output_type": "stream",
     "text": [
      "c:\\Users\\rosa-\\anaconda3\\envs\\xaifo\\lib\\site-packages\\deepsnap\\graph.py:2126: UserWarning: __floordiv__ is deprecated, and its behavior will change in a future version of pytorch. It currently rounds toward 0 (like the 'trunc' function NOT 'floor'). This results in incorrect rounding for negative values. To keep the current behavior, use torch.div(a, b, rounding_mode='trunc'), or for actual floor division, use torch.div(a, b, rounding_mode='floor').\n",
      "  row = perm // num_nodes\n"
     ]
    },
    {
     "name": "stdout",
     "output_type": "stream",
     "text": [
      "Epoch: 033, Train: 0.9726, Val: 0.9528, Test: 0.9550, Loss: 0.46470\n"
     ]
    },
    {
     "name": "stderr",
     "output_type": "stream",
     "text": [
      "c:\\Users\\rosa-\\anaconda3\\envs\\xaifo\\lib\\site-packages\\deepsnap\\graph.py:2126: UserWarning: __floordiv__ is deprecated, and its behavior will change in a future version of pytorch. It currently rounds toward 0 (like the 'trunc' function NOT 'floor'). This results in incorrect rounding for negative values. To keep the current behavior, use torch.div(a, b, rounding_mode='trunc'), or for actual floor division, use torch.div(a, b, rounding_mode='floor').\n",
      "  row = perm // num_nodes\n"
     ]
    },
    {
     "name": "stdout",
     "output_type": "stream",
     "text": [
      "Epoch: 034, Train: 0.9742, Val: 0.9549, Test: 0.9567, Loss: 0.45646\n"
     ]
    },
    {
     "name": "stderr",
     "output_type": "stream",
     "text": [
      "c:\\Users\\rosa-\\anaconda3\\envs\\xaifo\\lib\\site-packages\\deepsnap\\graph.py:2126: UserWarning: __floordiv__ is deprecated, and its behavior will change in a future version of pytorch. It currently rounds toward 0 (like the 'trunc' function NOT 'floor'). This results in incorrect rounding for negative values. To keep the current behavior, use torch.div(a, b, rounding_mode='trunc'), or for actual floor division, use torch.div(a, b, rounding_mode='floor').\n",
      "  row = perm // num_nodes\n"
     ]
    },
    {
     "name": "stdout",
     "output_type": "stream",
     "text": [
      "Epoch: 035, Train: 0.9763, Val: 0.9566, Test: 0.9582, Loss: 0.45546\n"
     ]
    },
    {
     "name": "stderr",
     "output_type": "stream",
     "text": [
      "c:\\Users\\rosa-\\anaconda3\\envs\\xaifo\\lib\\site-packages\\deepsnap\\graph.py:2126: UserWarning: __floordiv__ is deprecated, and its behavior will change in a future version of pytorch. It currently rounds toward 0 (like the 'trunc' function NOT 'floor'). This results in incorrect rounding for negative values. To keep the current behavior, use torch.div(a, b, rounding_mode='trunc'), or for actual floor division, use torch.div(a, b, rounding_mode='floor').\n",
      "  row = perm // num_nodes\n"
     ]
    },
    {
     "name": "stdout",
     "output_type": "stream",
     "text": [
      "Epoch: 036, Train: 0.9777, Val: 0.9581, Test: 0.9593, Loss: 0.45274\n"
     ]
    },
    {
     "name": "stderr",
     "output_type": "stream",
     "text": [
      "c:\\Users\\rosa-\\anaconda3\\envs\\xaifo\\lib\\site-packages\\deepsnap\\graph.py:2126: UserWarning: __floordiv__ is deprecated, and its behavior will change in a future version of pytorch. It currently rounds toward 0 (like the 'trunc' function NOT 'floor'). This results in incorrect rounding for negative values. To keep the current behavior, use torch.div(a, b, rounding_mode='trunc'), or for actual floor division, use torch.div(a, b, rounding_mode='floor').\n",
      "  row = perm // num_nodes\n"
     ]
    },
    {
     "name": "stdout",
     "output_type": "stream",
     "text": [
      "Epoch: 037, Train: 0.9793, Val: 0.9592, Test: 0.9602, Loss: 0.44903\n"
     ]
    },
    {
     "name": "stderr",
     "output_type": "stream",
     "text": [
      "c:\\Users\\rosa-\\anaconda3\\envs\\xaifo\\lib\\site-packages\\deepsnap\\graph.py:2126: UserWarning: __floordiv__ is deprecated, and its behavior will change in a future version of pytorch. It currently rounds toward 0 (like the 'trunc' function NOT 'floor'). This results in incorrect rounding for negative values. To keep the current behavior, use torch.div(a, b, rounding_mode='trunc'), or for actual floor division, use torch.div(a, b, rounding_mode='floor').\n",
      "  row = perm // num_nodes\n"
     ]
    },
    {
     "name": "stdout",
     "output_type": "stream",
     "text": [
      "Epoch: 038, Train: 0.9797, Val: 0.9600, Test: 0.9608, Loss: 0.44638\n"
     ]
    },
    {
     "name": "stderr",
     "output_type": "stream",
     "text": [
      "c:\\Users\\rosa-\\anaconda3\\envs\\xaifo\\lib\\site-packages\\deepsnap\\graph.py:2126: UserWarning: __floordiv__ is deprecated, and its behavior will change in a future version of pytorch. It currently rounds toward 0 (like the 'trunc' function NOT 'floor'). This results in incorrect rounding for negative values. To keep the current behavior, use torch.div(a, b, rounding_mode='trunc'), or for actual floor division, use torch.div(a, b, rounding_mode='floor').\n",
      "  row = perm // num_nodes\n"
     ]
    },
    {
     "name": "stdout",
     "output_type": "stream",
     "text": [
      "Epoch: 039, Train: 0.9806, Val: 0.9605, Test: 0.9612, Loss: 0.44346\n"
     ]
    },
    {
     "name": "stderr",
     "output_type": "stream",
     "text": [
      "c:\\Users\\rosa-\\anaconda3\\envs\\xaifo\\lib\\site-packages\\deepsnap\\graph.py:2126: UserWarning: __floordiv__ is deprecated, and its behavior will change in a future version of pytorch. It currently rounds toward 0 (like the 'trunc' function NOT 'floor'). This results in incorrect rounding for negative values. To keep the current behavior, use torch.div(a, b, rounding_mode='trunc'), or for actual floor division, use torch.div(a, b, rounding_mode='floor').\n",
      "  row = perm // num_nodes\n"
     ]
    },
    {
     "name": "stdout",
     "output_type": "stream",
     "text": [
      "Epoch: 040, Train: 0.9809, Val: 0.9608, Test: 0.9615, Loss: 0.44086\n"
     ]
    },
    {
     "name": "stderr",
     "output_type": "stream",
     "text": [
      "c:\\Users\\rosa-\\anaconda3\\envs\\xaifo\\lib\\site-packages\\deepsnap\\graph.py:2126: UserWarning: __floordiv__ is deprecated, and its behavior will change in a future version of pytorch. It currently rounds toward 0 (like the 'trunc' function NOT 'floor'). This results in incorrect rounding for negative values. To keep the current behavior, use torch.div(a, b, rounding_mode='trunc'), or for actual floor division, use torch.div(a, b, rounding_mode='floor').\n",
      "  row = perm // num_nodes\n"
     ]
    },
    {
     "name": "stdout",
     "output_type": "stream",
     "text": [
      "Epoch: 041, Train: 0.9817, Val: 0.9609, Test: 0.9615, Loss: 0.43998\n"
     ]
    },
    {
     "name": "stderr",
     "output_type": "stream",
     "text": [
      "c:\\Users\\rosa-\\anaconda3\\envs\\xaifo\\lib\\site-packages\\deepsnap\\graph.py:2126: UserWarning: __floordiv__ is deprecated, and its behavior will change in a future version of pytorch. It currently rounds toward 0 (like the 'trunc' function NOT 'floor'). This results in incorrect rounding for negative values. To keep the current behavior, use torch.div(a, b, rounding_mode='trunc'), or for actual floor division, use torch.div(a, b, rounding_mode='floor').\n",
      "  row = perm // num_nodes\n"
     ]
    },
    {
     "name": "stdout",
     "output_type": "stream",
     "text": [
      "Epoch: 042, Train: 0.9819, Val: 0.9608, Test: 0.9615, Loss: 0.43979\n"
     ]
    },
    {
     "name": "stderr",
     "output_type": "stream",
     "text": [
      "c:\\Users\\rosa-\\anaconda3\\envs\\xaifo\\lib\\site-packages\\deepsnap\\graph.py:2126: UserWarning: __floordiv__ is deprecated, and its behavior will change in a future version of pytorch. It currently rounds toward 0 (like the 'trunc' function NOT 'floor'). This results in incorrect rounding for negative values. To keep the current behavior, use torch.div(a, b, rounding_mode='trunc'), or for actual floor division, use torch.div(a, b, rounding_mode='floor').\n",
      "  row = perm // num_nodes\n"
     ]
    },
    {
     "name": "stdout",
     "output_type": "stream",
     "text": [
      "Epoch: 043, Train: 0.9817, Val: 0.9606, Test: 0.9612, Loss: 0.43737\n"
     ]
    },
    {
     "name": "stderr",
     "output_type": "stream",
     "text": [
      "c:\\Users\\rosa-\\anaconda3\\envs\\xaifo\\lib\\site-packages\\deepsnap\\graph.py:2126: UserWarning: __floordiv__ is deprecated, and its behavior will change in a future version of pytorch. It currently rounds toward 0 (like the 'trunc' function NOT 'floor'). This results in incorrect rounding for negative values. To keep the current behavior, use torch.div(a, b, rounding_mode='trunc'), or for actual floor division, use torch.div(a, b, rounding_mode='floor').\n",
      "  row = perm // num_nodes\n"
     ]
    },
    {
     "name": "stdout",
     "output_type": "stream",
     "text": [
      "Epoch: 044, Train: 0.9818, Val: 0.9603, Test: 0.9609, Loss: 0.43775\n"
     ]
    },
    {
     "name": "stderr",
     "output_type": "stream",
     "text": [
      "c:\\Users\\rosa-\\anaconda3\\envs\\xaifo\\lib\\site-packages\\deepsnap\\graph.py:2126: UserWarning: __floordiv__ is deprecated, and its behavior will change in a future version of pytorch. It currently rounds toward 0 (like the 'trunc' function NOT 'floor'). This results in incorrect rounding for negative values. To keep the current behavior, use torch.div(a, b, rounding_mode='trunc'), or for actual floor division, use torch.div(a, b, rounding_mode='floor').\n",
      "  row = perm // num_nodes\n"
     ]
    },
    {
     "name": "stdout",
     "output_type": "stream",
     "text": [
      "Epoch: 045, Train: 0.9815, Val: 0.9598, Test: 0.9604, Loss: 0.43645\n"
     ]
    },
    {
     "name": "stderr",
     "output_type": "stream",
     "text": [
      "c:\\Users\\rosa-\\anaconda3\\envs\\xaifo\\lib\\site-packages\\deepsnap\\graph.py:2126: UserWarning: __floordiv__ is deprecated, and its behavior will change in a future version of pytorch. It currently rounds toward 0 (like the 'trunc' function NOT 'floor'). This results in incorrect rounding for negative values. To keep the current behavior, use torch.div(a, b, rounding_mode='trunc'), or for actual floor division, use torch.div(a, b, rounding_mode='floor').\n",
      "  row = perm // num_nodes\n"
     ]
    },
    {
     "name": "stdout",
     "output_type": "stream",
     "text": [
      "Epoch: 046, Train: 0.9820, Val: 0.9592, Test: 0.9598, Loss: 0.43299\n"
     ]
    },
    {
     "name": "stderr",
     "output_type": "stream",
     "text": [
      "c:\\Users\\rosa-\\anaconda3\\envs\\xaifo\\lib\\site-packages\\deepsnap\\graph.py:2126: UserWarning: __floordiv__ is deprecated, and its behavior will change in a future version of pytorch. It currently rounds toward 0 (like the 'trunc' function NOT 'floor'). This results in incorrect rounding for negative values. To keep the current behavior, use torch.div(a, b, rounding_mode='trunc'), or for actual floor division, use torch.div(a, b, rounding_mode='floor').\n",
      "  row = perm // num_nodes\n"
     ]
    },
    {
     "name": "stdout",
     "output_type": "stream",
     "text": [
      "Epoch: 047, Train: 0.9812, Val: 0.9585, Test: 0.9591, Loss: 0.43391\n"
     ]
    },
    {
     "name": "stderr",
     "output_type": "stream",
     "text": [
      "c:\\Users\\rosa-\\anaconda3\\envs\\xaifo\\lib\\site-packages\\deepsnap\\graph.py:2126: UserWarning: __floordiv__ is deprecated, and its behavior will change in a future version of pytorch. It currently rounds toward 0 (like the 'trunc' function NOT 'floor'). This results in incorrect rounding for negative values. To keep the current behavior, use torch.div(a, b, rounding_mode='trunc'), or for actual floor division, use torch.div(a, b, rounding_mode='floor').\n",
      "  row = perm // num_nodes\n"
     ]
    },
    {
     "name": "stdout",
     "output_type": "stream",
     "text": [
      "Epoch: 048, Train: 0.9812, Val: 0.9577, Test: 0.9584, Loss: 0.43003\n"
     ]
    },
    {
     "name": "stderr",
     "output_type": "stream",
     "text": [
      "c:\\Users\\rosa-\\anaconda3\\envs\\xaifo\\lib\\site-packages\\deepsnap\\graph.py:2126: UserWarning: __floordiv__ is deprecated, and its behavior will change in a future version of pytorch. It currently rounds toward 0 (like the 'trunc' function NOT 'floor'). This results in incorrect rounding for negative values. To keep the current behavior, use torch.div(a, b, rounding_mode='trunc'), or for actual floor division, use torch.div(a, b, rounding_mode='floor').\n",
      "  row = perm // num_nodes\n"
     ]
    },
    {
     "name": "stdout",
     "output_type": "stream",
     "text": [
      "Epoch: 049, Train: 0.9809, Val: 0.9570, Test: 0.9578, Loss: 0.42973\n"
     ]
    },
    {
     "name": "stderr",
     "output_type": "stream",
     "text": [
      "c:\\Users\\rosa-\\anaconda3\\envs\\xaifo\\lib\\site-packages\\deepsnap\\graph.py:2126: UserWarning: __floordiv__ is deprecated, and its behavior will change in a future version of pytorch. It currently rounds toward 0 (like the 'trunc' function NOT 'floor'). This results in incorrect rounding for negative values. To keep the current behavior, use torch.div(a, b, rounding_mode='trunc'), or for actual floor division, use torch.div(a, b, rounding_mode='floor').\n",
      "  row = perm // num_nodes\n"
     ]
    },
    {
     "name": "stdout",
     "output_type": "stream",
     "text": [
      "Epoch: 050, Train: 0.9810, Val: 0.9563, Test: 0.9571, Loss: 0.43123\n"
     ]
    },
    {
     "name": "stderr",
     "output_type": "stream",
     "text": [
      "c:\\Users\\rosa-\\anaconda3\\envs\\xaifo\\lib\\site-packages\\deepsnap\\graph.py:2126: UserWarning: __floordiv__ is deprecated, and its behavior will change in a future version of pytorch. It currently rounds toward 0 (like the 'trunc' function NOT 'floor'). This results in incorrect rounding for negative values. To keep the current behavior, use torch.div(a, b, rounding_mode='trunc'), or for actual floor division, use torch.div(a, b, rounding_mode='floor').\n",
      "  row = perm // num_nodes\n"
     ]
    },
    {
     "name": "stdout",
     "output_type": "stream",
     "text": [
      "Epoch: 051, Train: 0.9809, Val: 0.9557, Test: 0.9564, Loss: 0.42780\n"
     ]
    },
    {
     "name": "stderr",
     "output_type": "stream",
     "text": [
      "c:\\Users\\rosa-\\anaconda3\\envs\\xaifo\\lib\\site-packages\\deepsnap\\graph.py:2126: UserWarning: __floordiv__ is deprecated, and its behavior will change in a future version of pytorch. It currently rounds toward 0 (like the 'trunc' function NOT 'floor'). This results in incorrect rounding for negative values. To keep the current behavior, use torch.div(a, b, rounding_mode='trunc'), or for actual floor division, use torch.div(a, b, rounding_mode='floor').\n",
      "  row = perm // num_nodes\n"
     ]
    },
    {
     "name": "stdout",
     "output_type": "stream",
     "text": [
      "Epoch: 052, Train: 0.9803, Val: 0.9550, Test: 0.9558, Loss: 0.42672\n"
     ]
    },
    {
     "name": "stderr",
     "output_type": "stream",
     "text": [
      "c:\\Users\\rosa-\\anaconda3\\envs\\xaifo\\lib\\site-packages\\deepsnap\\graph.py:2126: UserWarning: __floordiv__ is deprecated, and its behavior will change in a future version of pytorch. It currently rounds toward 0 (like the 'trunc' function NOT 'floor'). This results in incorrect rounding for negative values. To keep the current behavior, use torch.div(a, b, rounding_mode='trunc'), or for actual floor division, use torch.div(a, b, rounding_mode='floor').\n",
      "  row = perm // num_nodes\n"
     ]
    },
    {
     "name": "stdout",
     "output_type": "stream",
     "text": [
      "Epoch: 053, Train: 0.9806, Val: 0.9545, Test: 0.9553, Loss: 0.42684\n"
     ]
    },
    {
     "name": "stderr",
     "output_type": "stream",
     "text": [
      "c:\\Users\\rosa-\\anaconda3\\envs\\xaifo\\lib\\site-packages\\deepsnap\\graph.py:2126: UserWarning: __floordiv__ is deprecated, and its behavior will change in a future version of pytorch. It currently rounds toward 0 (like the 'trunc' function NOT 'floor'). This results in incorrect rounding for negative values. To keep the current behavior, use torch.div(a, b, rounding_mode='trunc'), or for actual floor division, use torch.div(a, b, rounding_mode='floor').\n",
      "  row = perm // num_nodes\n"
     ]
    },
    {
     "name": "stdout",
     "output_type": "stream",
     "text": [
      "Epoch: 054, Train: 0.9806, Val: 0.9540, Test: 0.9549, Loss: 0.42580\n"
     ]
    },
    {
     "name": "stderr",
     "output_type": "stream",
     "text": [
      "c:\\Users\\rosa-\\anaconda3\\envs\\xaifo\\lib\\site-packages\\deepsnap\\graph.py:2126: UserWarning: __floordiv__ is deprecated, and its behavior will change in a future version of pytorch. It currently rounds toward 0 (like the 'trunc' function NOT 'floor'). This results in incorrect rounding for negative values. To keep the current behavior, use torch.div(a, b, rounding_mode='trunc'), or for actual floor division, use torch.div(a, b, rounding_mode='floor').\n",
      "  row = perm // num_nodes\n"
     ]
    },
    {
     "name": "stdout",
     "output_type": "stream",
     "text": [
      "Epoch: 055, Train: 0.9804, Val: 0.9537, Test: 0.9546, Loss: 0.42439\n"
     ]
    },
    {
     "name": "stderr",
     "output_type": "stream",
     "text": [
      "c:\\Users\\rosa-\\anaconda3\\envs\\xaifo\\lib\\site-packages\\deepsnap\\graph.py:2126: UserWarning: __floordiv__ is deprecated, and its behavior will change in a future version of pytorch. It currently rounds toward 0 (like the 'trunc' function NOT 'floor'). This results in incorrect rounding for negative values. To keep the current behavior, use torch.div(a, b, rounding_mode='trunc'), or for actual floor division, use torch.div(a, b, rounding_mode='floor').\n",
      "  row = perm // num_nodes\n"
     ]
    },
    {
     "name": "stdout",
     "output_type": "stream",
     "text": [
      "Epoch: 056, Train: 0.9805, Val: 0.9535, Test: 0.9544, Loss: 0.42379\n"
     ]
    },
    {
     "name": "stderr",
     "output_type": "stream",
     "text": [
      "c:\\Users\\rosa-\\anaconda3\\envs\\xaifo\\lib\\site-packages\\deepsnap\\graph.py:2126: UserWarning: __floordiv__ is deprecated, and its behavior will change in a future version of pytorch. It currently rounds toward 0 (like the 'trunc' function NOT 'floor'). This results in incorrect rounding for negative values. To keep the current behavior, use torch.div(a, b, rounding_mode='trunc'), or for actual floor division, use torch.div(a, b, rounding_mode='floor').\n",
      "  row = perm // num_nodes\n"
     ]
    },
    {
     "name": "stdout",
     "output_type": "stream",
     "text": [
      "Epoch: 057, Train: 0.9805, Val: 0.9535, Test: 0.9544, Loss: 0.42326\n"
     ]
    },
    {
     "name": "stderr",
     "output_type": "stream",
     "text": [
      "c:\\Users\\rosa-\\anaconda3\\envs\\xaifo\\lib\\site-packages\\deepsnap\\graph.py:2126: UserWarning: __floordiv__ is deprecated, and its behavior will change in a future version of pytorch. It currently rounds toward 0 (like the 'trunc' function NOT 'floor'). This results in incorrect rounding for negative values. To keep the current behavior, use torch.div(a, b, rounding_mode='trunc'), or for actual floor division, use torch.div(a, b, rounding_mode='floor').\n",
      "  row = perm // num_nodes\n"
     ]
    },
    {
     "name": "stdout",
     "output_type": "stream",
     "text": [
      "Epoch: 058, Train: 0.9811, Val: 0.9534, Test: 0.9543, Loss: 0.42283\n"
     ]
    },
    {
     "name": "stderr",
     "output_type": "stream",
     "text": [
      "c:\\Users\\rosa-\\anaconda3\\envs\\xaifo\\lib\\site-packages\\deepsnap\\graph.py:2126: UserWarning: __floordiv__ is deprecated, and its behavior will change in a future version of pytorch. It currently rounds toward 0 (like the 'trunc' function NOT 'floor'). This results in incorrect rounding for negative values. To keep the current behavior, use torch.div(a, b, rounding_mode='trunc'), or for actual floor division, use torch.div(a, b, rounding_mode='floor').\n",
      "  row = perm // num_nodes\n"
     ]
    },
    {
     "name": "stdout",
     "output_type": "stream",
     "text": [
      "Epoch: 059, Train: 0.9809, Val: 0.9535, Test: 0.9543, Loss: 0.42214\n"
     ]
    },
    {
     "name": "stderr",
     "output_type": "stream",
     "text": [
      "c:\\Users\\rosa-\\anaconda3\\envs\\xaifo\\lib\\site-packages\\deepsnap\\graph.py:2126: UserWarning: __floordiv__ is deprecated, and its behavior will change in a future version of pytorch. It currently rounds toward 0 (like the 'trunc' function NOT 'floor'). This results in incorrect rounding for negative values. To keep the current behavior, use torch.div(a, b, rounding_mode='trunc'), or for actual floor division, use torch.div(a, b, rounding_mode='floor').\n",
      "  row = perm // num_nodes\n"
     ]
    },
    {
     "name": "stdout",
     "output_type": "stream",
     "text": [
      "Epoch: 060, Train: 0.9812, Val: 0.9536, Test: 0.9545, Loss: 0.42224\n"
     ]
    },
    {
     "name": "stderr",
     "output_type": "stream",
     "text": [
      "c:\\Users\\rosa-\\anaconda3\\envs\\xaifo\\lib\\site-packages\\deepsnap\\graph.py:2126: UserWarning: __floordiv__ is deprecated, and its behavior will change in a future version of pytorch. It currently rounds toward 0 (like the 'trunc' function NOT 'floor'). This results in incorrect rounding for negative values. To keep the current behavior, use torch.div(a, b, rounding_mode='trunc'), or for actual floor division, use torch.div(a, b, rounding_mode='floor').\n",
      "  row = perm // num_nodes\n"
     ]
    },
    {
     "name": "stdout",
     "output_type": "stream",
     "text": [
      "Epoch: 061, Train: 0.9816, Val: 0.9538, Test: 0.9546, Loss: 0.41828\n"
     ]
    },
    {
     "name": "stderr",
     "output_type": "stream",
     "text": [
      "c:\\Users\\rosa-\\anaconda3\\envs\\xaifo\\lib\\site-packages\\deepsnap\\graph.py:2126: UserWarning: __floordiv__ is deprecated, and its behavior will change in a future version of pytorch. It currently rounds toward 0 (like the 'trunc' function NOT 'floor'). This results in incorrect rounding for negative values. To keep the current behavior, use torch.div(a, b, rounding_mode='trunc'), or for actual floor division, use torch.div(a, b, rounding_mode='floor').\n",
      "  row = perm // num_nodes\n"
     ]
    },
    {
     "name": "stdout",
     "output_type": "stream",
     "text": [
      "Epoch: 062, Train: 0.9817, Val: 0.9540, Test: 0.9549, Loss: 0.42020\n"
     ]
    },
    {
     "name": "stderr",
     "output_type": "stream",
     "text": [
      "c:\\Users\\rosa-\\anaconda3\\envs\\xaifo\\lib\\site-packages\\deepsnap\\graph.py:2126: UserWarning: __floordiv__ is deprecated, and its behavior will change in a future version of pytorch. It currently rounds toward 0 (like the 'trunc' function NOT 'floor'). This results in incorrect rounding for negative values. To keep the current behavior, use torch.div(a, b, rounding_mode='trunc'), or for actual floor division, use torch.div(a, b, rounding_mode='floor').\n",
      "  row = perm // num_nodes\n"
     ]
    },
    {
     "name": "stdout",
     "output_type": "stream",
     "text": [
      "Epoch: 063, Train: 0.9821, Val: 0.9543, Test: 0.9552, Loss: 0.42046\n"
     ]
    },
    {
     "name": "stderr",
     "output_type": "stream",
     "text": [
      "c:\\Users\\rosa-\\anaconda3\\envs\\xaifo\\lib\\site-packages\\deepsnap\\graph.py:2126: UserWarning: __floordiv__ is deprecated, and its behavior will change in a future version of pytorch. It currently rounds toward 0 (like the 'trunc' function NOT 'floor'). This results in incorrect rounding for negative values. To keep the current behavior, use torch.div(a, b, rounding_mode='trunc'), or for actual floor division, use torch.div(a, b, rounding_mode='floor').\n",
      "  row = perm // num_nodes\n"
     ]
    },
    {
     "name": "stdout",
     "output_type": "stream",
     "text": [
      "Epoch: 064, Train: 0.9823, Val: 0.9546, Test: 0.9555, Loss: 0.41806\n"
     ]
    },
    {
     "name": "stderr",
     "output_type": "stream",
     "text": [
      "c:\\Users\\rosa-\\anaconda3\\envs\\xaifo\\lib\\site-packages\\deepsnap\\graph.py:2126: UserWarning: __floordiv__ is deprecated, and its behavior will change in a future version of pytorch. It currently rounds toward 0 (like the 'trunc' function NOT 'floor'). This results in incorrect rounding for negative values. To keep the current behavior, use torch.div(a, b, rounding_mode='trunc'), or for actual floor division, use torch.div(a, b, rounding_mode='floor').\n",
      "  row = perm // num_nodes\n"
     ]
    },
    {
     "name": "stdout",
     "output_type": "stream",
     "text": [
      "Epoch: 065, Train: 0.9830, Val: 0.9551, Test: 0.9559, Loss: 0.41725\n"
     ]
    },
    {
     "name": "stderr",
     "output_type": "stream",
     "text": [
      "c:\\Users\\rosa-\\anaconda3\\envs\\xaifo\\lib\\site-packages\\deepsnap\\graph.py:2126: UserWarning: __floordiv__ is deprecated, and its behavior will change in a future version of pytorch. It currently rounds toward 0 (like the 'trunc' function NOT 'floor'). This results in incorrect rounding for negative values. To keep the current behavior, use torch.div(a, b, rounding_mode='trunc'), or for actual floor division, use torch.div(a, b, rounding_mode='floor').\n",
      "  row = perm // num_nodes\n"
     ]
    },
    {
     "name": "stdout",
     "output_type": "stream",
     "text": [
      "Epoch: 066, Train: 0.9827, Val: 0.9555, Test: 0.9564, Loss: 0.41773\n"
     ]
    },
    {
     "name": "stderr",
     "output_type": "stream",
     "text": [
      "c:\\Users\\rosa-\\anaconda3\\envs\\xaifo\\lib\\site-packages\\deepsnap\\graph.py:2126: UserWarning: __floordiv__ is deprecated, and its behavior will change in a future version of pytorch. It currently rounds toward 0 (like the 'trunc' function NOT 'floor'). This results in incorrect rounding for negative values. To keep the current behavior, use torch.div(a, b, rounding_mode='trunc'), or for actual floor division, use torch.div(a, b, rounding_mode='floor').\n",
      "  row = perm // num_nodes\n"
     ]
    },
    {
     "name": "stdout",
     "output_type": "stream",
     "text": [
      "Epoch: 067, Train: 0.9832, Val: 0.9560, Test: 0.9569, Loss: 0.41636\n"
     ]
    },
    {
     "name": "stderr",
     "output_type": "stream",
     "text": [
      "c:\\Users\\rosa-\\anaconda3\\envs\\xaifo\\lib\\site-packages\\deepsnap\\graph.py:2126: UserWarning: __floordiv__ is deprecated, and its behavior will change in a future version of pytorch. It currently rounds toward 0 (like the 'trunc' function NOT 'floor'). This results in incorrect rounding for negative values. To keep the current behavior, use torch.div(a, b, rounding_mode='trunc'), or for actual floor division, use torch.div(a, b, rounding_mode='floor').\n",
      "  row = perm // num_nodes\n"
     ]
    },
    {
     "name": "stdout",
     "output_type": "stream",
     "text": [
      "Epoch: 068, Train: 0.9837, Val: 0.9564, Test: 0.9573, Loss: 0.41665\n"
     ]
    },
    {
     "name": "stderr",
     "output_type": "stream",
     "text": [
      "c:\\Users\\rosa-\\anaconda3\\envs\\xaifo\\lib\\site-packages\\deepsnap\\graph.py:2126: UserWarning: __floordiv__ is deprecated, and its behavior will change in a future version of pytorch. It currently rounds toward 0 (like the 'trunc' function NOT 'floor'). This results in incorrect rounding for negative values. To keep the current behavior, use torch.div(a, b, rounding_mode='trunc'), or for actual floor division, use torch.div(a, b, rounding_mode='floor').\n",
      "  row = perm // num_nodes\n"
     ]
    },
    {
     "name": "stdout",
     "output_type": "stream",
     "text": [
      "Epoch: 069, Train: 0.9840, Val: 0.9568, Test: 0.9577, Loss: 0.41701\n"
     ]
    },
    {
     "name": "stderr",
     "output_type": "stream",
     "text": [
      "c:\\Users\\rosa-\\anaconda3\\envs\\xaifo\\lib\\site-packages\\deepsnap\\graph.py:2126: UserWarning: __floordiv__ is deprecated, and its behavior will change in a future version of pytorch. It currently rounds toward 0 (like the 'trunc' function NOT 'floor'). This results in incorrect rounding for negative values. To keep the current behavior, use torch.div(a, b, rounding_mode='trunc'), or for actual floor division, use torch.div(a, b, rounding_mode='floor').\n",
      "  row = perm // num_nodes\n"
     ]
    },
    {
     "name": "stdout",
     "output_type": "stream",
     "text": [
      "Epoch: 070, Train: 0.9843, Val: 0.9572, Test: 0.9581, Loss: 0.41612\n"
     ]
    },
    {
     "name": "stderr",
     "output_type": "stream",
     "text": [
      "c:\\Users\\rosa-\\anaconda3\\envs\\xaifo\\lib\\site-packages\\deepsnap\\graph.py:2126: UserWarning: __floordiv__ is deprecated, and its behavior will change in a future version of pytorch. It currently rounds toward 0 (like the 'trunc' function NOT 'floor'). This results in incorrect rounding for negative values. To keep the current behavior, use torch.div(a, b, rounding_mode='trunc'), or for actual floor division, use torch.div(a, b, rounding_mode='floor').\n",
      "  row = perm // num_nodes\n"
     ]
    },
    {
     "name": "stdout",
     "output_type": "stream",
     "text": [
      "Epoch: 071, Train: 0.9843, Val: 0.9576, Test: 0.9584, Loss: 0.41611\n"
     ]
    },
    {
     "name": "stderr",
     "output_type": "stream",
     "text": [
      "c:\\Users\\rosa-\\anaconda3\\envs\\xaifo\\lib\\site-packages\\deepsnap\\graph.py:2126: UserWarning: __floordiv__ is deprecated, and its behavior will change in a future version of pytorch. It currently rounds toward 0 (like the 'trunc' function NOT 'floor'). This results in incorrect rounding for negative values. To keep the current behavior, use torch.div(a, b, rounding_mode='trunc'), or for actual floor division, use torch.div(a, b, rounding_mode='floor').\n",
      "  row = perm // num_nodes\n"
     ]
    },
    {
     "name": "stdout",
     "output_type": "stream",
     "text": [
      "Epoch: 072, Train: 0.9850, Val: 0.9579, Test: 0.9587, Loss: 0.41484\n"
     ]
    },
    {
     "name": "stderr",
     "output_type": "stream",
     "text": [
      "c:\\Users\\rosa-\\anaconda3\\envs\\xaifo\\lib\\site-packages\\deepsnap\\graph.py:2126: UserWarning: __floordiv__ is deprecated, and its behavior will change in a future version of pytorch. It currently rounds toward 0 (like the 'trunc' function NOT 'floor'). This results in incorrect rounding for negative values. To keep the current behavior, use torch.div(a, b, rounding_mode='trunc'), or for actual floor division, use torch.div(a, b, rounding_mode='floor').\n",
      "  row = perm // num_nodes\n"
     ]
    },
    {
     "name": "stdout",
     "output_type": "stream",
     "text": [
      "Epoch: 073, Train: 0.9852, Val: 0.9581, Test: 0.9589, Loss: 0.41436\n"
     ]
    },
    {
     "name": "stderr",
     "output_type": "stream",
     "text": [
      "c:\\Users\\rosa-\\anaconda3\\envs\\xaifo\\lib\\site-packages\\deepsnap\\graph.py:2126: UserWarning: __floordiv__ is deprecated, and its behavior will change in a future version of pytorch. It currently rounds toward 0 (like the 'trunc' function NOT 'floor'). This results in incorrect rounding for negative values. To keep the current behavior, use torch.div(a, b, rounding_mode='trunc'), or for actual floor division, use torch.div(a, b, rounding_mode='floor').\n",
      "  row = perm // num_nodes\n"
     ]
    },
    {
     "name": "stdout",
     "output_type": "stream",
     "text": [
      "Epoch: 074, Train: 0.9855, Val: 0.9584, Test: 0.9592, Loss: 0.41336\n"
     ]
    },
    {
     "name": "stderr",
     "output_type": "stream",
     "text": [
      "c:\\Users\\rosa-\\anaconda3\\envs\\xaifo\\lib\\site-packages\\deepsnap\\graph.py:2126: UserWarning: __floordiv__ is deprecated, and its behavior will change in a future version of pytorch. It currently rounds toward 0 (like the 'trunc' function NOT 'floor'). This results in incorrect rounding for negative values. To keep the current behavior, use torch.div(a, b, rounding_mode='trunc'), or for actual floor division, use torch.div(a, b, rounding_mode='floor').\n",
      "  row = perm // num_nodes\n"
     ]
    },
    {
     "name": "stdout",
     "output_type": "stream",
     "text": [
      "Epoch: 075, Train: 0.9854, Val: 0.9586, Test: 0.9593, Loss: 0.41275\n"
     ]
    },
    {
     "name": "stderr",
     "output_type": "stream",
     "text": [
      "c:\\Users\\rosa-\\anaconda3\\envs\\xaifo\\lib\\site-packages\\deepsnap\\graph.py:2126: UserWarning: __floordiv__ is deprecated, and its behavior will change in a future version of pytorch. It currently rounds toward 0 (like the 'trunc' function NOT 'floor'). This results in incorrect rounding for negative values. To keep the current behavior, use torch.div(a, b, rounding_mode='trunc'), or for actual floor division, use torch.div(a, b, rounding_mode='floor').\n",
      "  row = perm // num_nodes\n"
     ]
    },
    {
     "name": "stdout",
     "output_type": "stream",
     "text": [
      "Epoch: 076, Train: 0.9856, Val: 0.9588, Test: 0.9595, Loss: 0.41346\n"
     ]
    },
    {
     "name": "stderr",
     "output_type": "stream",
     "text": [
      "c:\\Users\\rosa-\\anaconda3\\envs\\xaifo\\lib\\site-packages\\deepsnap\\graph.py:2126: UserWarning: __floordiv__ is deprecated, and its behavior will change in a future version of pytorch. It currently rounds toward 0 (like the 'trunc' function NOT 'floor'). This results in incorrect rounding for negative values. To keep the current behavior, use torch.div(a, b, rounding_mode='trunc'), or for actual floor division, use torch.div(a, b, rounding_mode='floor').\n",
      "  row = perm // num_nodes\n"
     ]
    },
    {
     "name": "stdout",
     "output_type": "stream",
     "text": [
      "Epoch: 077, Train: 0.9857, Val: 0.9589, Test: 0.9596, Loss: 0.41138\n"
     ]
    },
    {
     "name": "stderr",
     "output_type": "stream",
     "text": [
      "c:\\Users\\rosa-\\anaconda3\\envs\\xaifo\\lib\\site-packages\\deepsnap\\graph.py:2126: UserWarning: __floordiv__ is deprecated, and its behavior will change in a future version of pytorch. It currently rounds toward 0 (like the 'trunc' function NOT 'floor'). This results in incorrect rounding for negative values. To keep the current behavior, use torch.div(a, b, rounding_mode='trunc'), or for actual floor division, use torch.div(a, b, rounding_mode='floor').\n",
      "  row = perm // num_nodes\n"
     ]
    },
    {
     "name": "stdout",
     "output_type": "stream",
     "text": [
      "Epoch: 078, Train: 0.9859, Val: 0.9591, Test: 0.9598, Loss: 0.41402\n"
     ]
    },
    {
     "name": "stderr",
     "output_type": "stream",
     "text": [
      "c:\\Users\\rosa-\\anaconda3\\envs\\xaifo\\lib\\site-packages\\deepsnap\\graph.py:2126: UserWarning: __floordiv__ is deprecated, and its behavior will change in a future version of pytorch. It currently rounds toward 0 (like the 'trunc' function NOT 'floor'). This results in incorrect rounding for negative values. To keep the current behavior, use torch.div(a, b, rounding_mode='trunc'), or for actual floor division, use torch.div(a, b, rounding_mode='floor').\n",
      "  row = perm // num_nodes\n"
     ]
    },
    {
     "name": "stdout",
     "output_type": "stream",
     "text": [
      "Epoch: 079, Train: 0.9861, Val: 0.9593, Test: 0.9600, Loss: 0.41319\n"
     ]
    },
    {
     "name": "stderr",
     "output_type": "stream",
     "text": [
      "c:\\Users\\rosa-\\anaconda3\\envs\\xaifo\\lib\\site-packages\\deepsnap\\graph.py:2126: UserWarning: __floordiv__ is deprecated, and its behavior will change in a future version of pytorch. It currently rounds toward 0 (like the 'trunc' function NOT 'floor'). This results in incorrect rounding for negative values. To keep the current behavior, use torch.div(a, b, rounding_mode='trunc'), or for actual floor division, use torch.div(a, b, rounding_mode='floor').\n",
      "  row = perm // num_nodes\n"
     ]
    },
    {
     "name": "stdout",
     "output_type": "stream",
     "text": [
      "Epoch: 080, Train: 0.9864, Val: 0.9595, Test: 0.9601, Loss: 0.41411\n"
     ]
    },
    {
     "name": "stderr",
     "output_type": "stream",
     "text": [
      "c:\\Users\\rosa-\\anaconda3\\envs\\xaifo\\lib\\site-packages\\deepsnap\\graph.py:2126: UserWarning: __floordiv__ is deprecated, and its behavior will change in a future version of pytorch. It currently rounds toward 0 (like the 'trunc' function NOT 'floor'). This results in incorrect rounding for negative values. To keep the current behavior, use torch.div(a, b, rounding_mode='trunc'), or for actual floor division, use torch.div(a, b, rounding_mode='floor').\n",
      "  row = perm // num_nodes\n"
     ]
    },
    {
     "name": "stdout",
     "output_type": "stream",
     "text": [
      "Epoch: 081, Train: 0.9865, Val: 0.9596, Test: 0.9603, Loss: 0.41161\n"
     ]
    },
    {
     "name": "stderr",
     "output_type": "stream",
     "text": [
      "c:\\Users\\rosa-\\anaconda3\\envs\\xaifo\\lib\\site-packages\\deepsnap\\graph.py:2126: UserWarning: __floordiv__ is deprecated, and its behavior will change in a future version of pytorch. It currently rounds toward 0 (like the 'trunc' function NOT 'floor'). This results in incorrect rounding for negative values. To keep the current behavior, use torch.div(a, b, rounding_mode='trunc'), or for actual floor division, use torch.div(a, b, rounding_mode='floor').\n",
      "  row = perm // num_nodes\n"
     ]
    },
    {
     "name": "stdout",
     "output_type": "stream",
     "text": [
      "Epoch: 082, Train: 0.9868, Val: 0.9597, Test: 0.9603, Loss: 0.41082\n"
     ]
    },
    {
     "name": "stderr",
     "output_type": "stream",
     "text": [
      "c:\\Users\\rosa-\\anaconda3\\envs\\xaifo\\lib\\site-packages\\deepsnap\\graph.py:2126: UserWarning: __floordiv__ is deprecated, and its behavior will change in a future version of pytorch. It currently rounds toward 0 (like the 'trunc' function NOT 'floor'). This results in incorrect rounding for negative values. To keep the current behavior, use torch.div(a, b, rounding_mode='trunc'), or for actual floor division, use torch.div(a, b, rounding_mode='floor').\n",
      "  row = perm // num_nodes\n"
     ]
    },
    {
     "name": "stdout",
     "output_type": "stream",
     "text": [
      "Epoch: 083, Train: 0.9867, Val: 0.9598, Test: 0.9604, Loss: 0.41086\n"
     ]
    },
    {
     "name": "stderr",
     "output_type": "stream",
     "text": [
      "c:\\Users\\rosa-\\anaconda3\\envs\\xaifo\\lib\\site-packages\\deepsnap\\graph.py:2126: UserWarning: __floordiv__ is deprecated, and its behavior will change in a future version of pytorch. It currently rounds toward 0 (like the 'trunc' function NOT 'floor'). This results in incorrect rounding for negative values. To keep the current behavior, use torch.div(a, b, rounding_mode='trunc'), or for actual floor division, use torch.div(a, b, rounding_mode='floor').\n",
      "  row = perm // num_nodes\n"
     ]
    },
    {
     "name": "stdout",
     "output_type": "stream",
     "text": [
      "Epoch: 084, Train: 0.9869, Val: 0.9599, Test: 0.9605, Loss: 0.41203\n"
     ]
    },
    {
     "name": "stderr",
     "output_type": "stream",
     "text": [
      "c:\\Users\\rosa-\\anaconda3\\envs\\xaifo\\lib\\site-packages\\deepsnap\\graph.py:2126: UserWarning: __floordiv__ is deprecated, and its behavior will change in a future version of pytorch. It currently rounds toward 0 (like the 'trunc' function NOT 'floor'). This results in incorrect rounding for negative values. To keep the current behavior, use torch.div(a, b, rounding_mode='trunc'), or for actual floor division, use torch.div(a, b, rounding_mode='floor').\n",
      "  row = perm // num_nodes\n"
     ]
    },
    {
     "name": "stdout",
     "output_type": "stream",
     "text": [
      "Epoch: 085, Train: 0.9871, Val: 0.9601, Test: 0.9606, Loss: 0.41104\n"
     ]
    },
    {
     "name": "stderr",
     "output_type": "stream",
     "text": [
      "c:\\Users\\rosa-\\anaconda3\\envs\\xaifo\\lib\\site-packages\\deepsnap\\graph.py:2126: UserWarning: __floordiv__ is deprecated, and its behavior will change in a future version of pytorch. It currently rounds toward 0 (like the 'trunc' function NOT 'floor'). This results in incorrect rounding for negative values. To keep the current behavior, use torch.div(a, b, rounding_mode='trunc'), or for actual floor division, use torch.div(a, b, rounding_mode='floor').\n",
      "  row = perm // num_nodes\n"
     ]
    },
    {
     "name": "stdout",
     "output_type": "stream",
     "text": [
      "Epoch: 086, Train: 0.9874, Val: 0.9602, Test: 0.9607, Loss: 0.40987\n"
     ]
    },
    {
     "name": "stderr",
     "output_type": "stream",
     "text": [
      "c:\\Users\\rosa-\\anaconda3\\envs\\xaifo\\lib\\site-packages\\deepsnap\\graph.py:2126: UserWarning: __floordiv__ is deprecated, and its behavior will change in a future version of pytorch. It currently rounds toward 0 (like the 'trunc' function NOT 'floor'). This results in incorrect rounding for negative values. To keep the current behavior, use torch.div(a, b, rounding_mode='trunc'), or for actual floor division, use torch.div(a, b, rounding_mode='floor').\n",
      "  row = perm // num_nodes\n"
     ]
    },
    {
     "name": "stdout",
     "output_type": "stream",
     "text": [
      "Epoch: 087, Train: 0.9873, Val: 0.9602, Test: 0.9608, Loss: 0.40936\n"
     ]
    },
    {
     "name": "stderr",
     "output_type": "stream",
     "text": [
      "c:\\Users\\rosa-\\anaconda3\\envs\\xaifo\\lib\\site-packages\\deepsnap\\graph.py:2126: UserWarning: __floordiv__ is deprecated, and its behavior will change in a future version of pytorch. It currently rounds toward 0 (like the 'trunc' function NOT 'floor'). This results in incorrect rounding for negative values. To keep the current behavior, use torch.div(a, b, rounding_mode='trunc'), or for actual floor division, use torch.div(a, b, rounding_mode='floor').\n",
      "  row = perm // num_nodes\n"
     ]
    },
    {
     "name": "stdout",
     "output_type": "stream",
     "text": [
      "Epoch: 088, Train: 0.9874, Val: 0.9603, Test: 0.9608, Loss: 0.40957\n"
     ]
    },
    {
     "name": "stderr",
     "output_type": "stream",
     "text": [
      "c:\\Users\\rosa-\\anaconda3\\envs\\xaifo\\lib\\site-packages\\deepsnap\\graph.py:2126: UserWarning: __floordiv__ is deprecated, and its behavior will change in a future version of pytorch. It currently rounds toward 0 (like the 'trunc' function NOT 'floor'). This results in incorrect rounding for negative values. To keep the current behavior, use torch.div(a, b, rounding_mode='trunc'), or for actual floor division, use torch.div(a, b, rounding_mode='floor').\n",
      "  row = perm // num_nodes\n"
     ]
    },
    {
     "name": "stdout",
     "output_type": "stream",
     "text": [
      "Epoch: 089, Train: 0.9876, Val: 0.9603, Test: 0.9609, Loss: 0.40981\n"
     ]
    },
    {
     "name": "stderr",
     "output_type": "stream",
     "text": [
      "c:\\Users\\rosa-\\anaconda3\\envs\\xaifo\\lib\\site-packages\\deepsnap\\graph.py:2126: UserWarning: __floordiv__ is deprecated, and its behavior will change in a future version of pytorch. It currently rounds toward 0 (like the 'trunc' function NOT 'floor'). This results in incorrect rounding for negative values. To keep the current behavior, use torch.div(a, b, rounding_mode='trunc'), or for actual floor division, use torch.div(a, b, rounding_mode='floor').\n",
      "  row = perm // num_nodes\n"
     ]
    },
    {
     "name": "stdout",
     "output_type": "stream",
     "text": [
      "Epoch: 090, Train: 0.9878, Val: 0.9605, Test: 0.9610, Loss: 0.40881\n"
     ]
    },
    {
     "name": "stderr",
     "output_type": "stream",
     "text": [
      "c:\\Users\\rosa-\\anaconda3\\envs\\xaifo\\lib\\site-packages\\deepsnap\\graph.py:2126: UserWarning: __floordiv__ is deprecated, and its behavior will change in a future version of pytorch. It currently rounds toward 0 (like the 'trunc' function NOT 'floor'). This results in incorrect rounding for negative values. To keep the current behavior, use torch.div(a, b, rounding_mode='trunc'), or for actual floor division, use torch.div(a, b, rounding_mode='floor').\n",
      "  row = perm // num_nodes\n"
     ]
    },
    {
     "name": "stdout",
     "output_type": "stream",
     "text": [
      "Epoch: 091, Train: 0.9877, Val: 0.9606, Test: 0.9611, Loss: 0.40972\n"
     ]
    },
    {
     "name": "stderr",
     "output_type": "stream",
     "text": [
      "c:\\Users\\rosa-\\anaconda3\\envs\\xaifo\\lib\\site-packages\\deepsnap\\graph.py:2126: UserWarning: __floordiv__ is deprecated, and its behavior will change in a future version of pytorch. It currently rounds toward 0 (like the 'trunc' function NOT 'floor'). This results in incorrect rounding for negative values. To keep the current behavior, use torch.div(a, b, rounding_mode='trunc'), or for actual floor division, use torch.div(a, b, rounding_mode='floor').\n",
      "  row = perm // num_nodes\n"
     ]
    },
    {
     "name": "stdout",
     "output_type": "stream",
     "text": [
      "Epoch: 092, Train: 0.9880, Val: 0.9607, Test: 0.9612, Loss: 0.40967\n"
     ]
    },
    {
     "name": "stderr",
     "output_type": "stream",
     "text": [
      "c:\\Users\\rosa-\\anaconda3\\envs\\xaifo\\lib\\site-packages\\deepsnap\\graph.py:2126: UserWarning: __floordiv__ is deprecated, and its behavior will change in a future version of pytorch. It currently rounds toward 0 (like the 'trunc' function NOT 'floor'). This results in incorrect rounding for negative values. To keep the current behavior, use torch.div(a, b, rounding_mode='trunc'), or for actual floor division, use torch.div(a, b, rounding_mode='floor').\n",
      "  row = perm // num_nodes\n"
     ]
    },
    {
     "name": "stdout",
     "output_type": "stream",
     "text": [
      "Epoch: 093, Train: 0.9881, Val: 0.9608, Test: 0.9614, Loss: 0.40966\n"
     ]
    },
    {
     "name": "stderr",
     "output_type": "stream",
     "text": [
      "c:\\Users\\rosa-\\anaconda3\\envs\\xaifo\\lib\\site-packages\\deepsnap\\graph.py:2126: UserWarning: __floordiv__ is deprecated, and its behavior will change in a future version of pytorch. It currently rounds toward 0 (like the 'trunc' function NOT 'floor'). This results in incorrect rounding for negative values. To keep the current behavior, use torch.div(a, b, rounding_mode='trunc'), or for actual floor division, use torch.div(a, b, rounding_mode='floor').\n",
      "  row = perm // num_nodes\n"
     ]
    },
    {
     "name": "stdout",
     "output_type": "stream",
     "text": [
      "Epoch: 094, Train: 0.9883, Val: 0.9610, Test: 0.9615, Loss: 0.40985\n"
     ]
    },
    {
     "name": "stderr",
     "output_type": "stream",
     "text": [
      "c:\\Users\\rosa-\\anaconda3\\envs\\xaifo\\lib\\site-packages\\deepsnap\\graph.py:2126: UserWarning: __floordiv__ is deprecated, and its behavior will change in a future version of pytorch. It currently rounds toward 0 (like the 'trunc' function NOT 'floor'). This results in incorrect rounding for negative values. To keep the current behavior, use torch.div(a, b, rounding_mode='trunc'), or for actual floor division, use torch.div(a, b, rounding_mode='floor').\n",
      "  row = perm // num_nodes\n"
     ]
    },
    {
     "name": "stdout",
     "output_type": "stream",
     "text": [
      "Epoch: 095, Train: 0.9884, Val: 0.9612, Test: 0.9617, Loss: 0.40953\n"
     ]
    },
    {
     "name": "stderr",
     "output_type": "stream",
     "text": [
      "c:\\Users\\rosa-\\anaconda3\\envs\\xaifo\\lib\\site-packages\\deepsnap\\graph.py:2126: UserWarning: __floordiv__ is deprecated, and its behavior will change in a future version of pytorch. It currently rounds toward 0 (like the 'trunc' function NOT 'floor'). This results in incorrect rounding for negative values. To keep the current behavior, use torch.div(a, b, rounding_mode='trunc'), or for actual floor division, use torch.div(a, b, rounding_mode='floor').\n",
      "  row = perm // num_nodes\n"
     ]
    },
    {
     "name": "stdout",
     "output_type": "stream",
     "text": [
      "Epoch: 096, Train: 0.9885, Val: 0.9613, Test: 0.9618, Loss: 0.40927\n"
     ]
    },
    {
     "name": "stderr",
     "output_type": "stream",
     "text": [
      "c:\\Users\\rosa-\\anaconda3\\envs\\xaifo\\lib\\site-packages\\deepsnap\\graph.py:2126: UserWarning: __floordiv__ is deprecated, and its behavior will change in a future version of pytorch. It currently rounds toward 0 (like the 'trunc' function NOT 'floor'). This results in incorrect rounding for negative values. To keep the current behavior, use torch.div(a, b, rounding_mode='trunc'), or for actual floor division, use torch.div(a, b, rounding_mode='floor').\n",
      "  row = perm // num_nodes\n"
     ]
    },
    {
     "name": "stdout",
     "output_type": "stream",
     "text": [
      "Epoch: 097, Train: 0.9886, Val: 0.9614, Test: 0.9620, Loss: 0.40759\n"
     ]
    },
    {
     "name": "stderr",
     "output_type": "stream",
     "text": [
      "c:\\Users\\rosa-\\anaconda3\\envs\\xaifo\\lib\\site-packages\\deepsnap\\graph.py:2126: UserWarning: __floordiv__ is deprecated, and its behavior will change in a future version of pytorch. It currently rounds toward 0 (like the 'trunc' function NOT 'floor'). This results in incorrect rounding for negative values. To keep the current behavior, use torch.div(a, b, rounding_mode='trunc'), or for actual floor division, use torch.div(a, b, rounding_mode='floor').\n",
      "  row = perm // num_nodes\n"
     ]
    },
    {
     "name": "stdout",
     "output_type": "stream",
     "text": [
      "Epoch: 098, Train: 0.9885, Val: 0.9616, Test: 0.9621, Loss: 0.40767\n"
     ]
    },
    {
     "name": "stderr",
     "output_type": "stream",
     "text": [
      "c:\\Users\\rosa-\\anaconda3\\envs\\xaifo\\lib\\site-packages\\deepsnap\\graph.py:2126: UserWarning: __floordiv__ is deprecated, and its behavior will change in a future version of pytorch. It currently rounds toward 0 (like the 'trunc' function NOT 'floor'). This results in incorrect rounding for negative values. To keep the current behavior, use torch.div(a, b, rounding_mode='trunc'), or for actual floor division, use torch.div(a, b, rounding_mode='floor').\n",
      "  row = perm // num_nodes\n"
     ]
    },
    {
     "name": "stdout",
     "output_type": "stream",
     "text": [
      "Epoch: 099, Train: 0.9891, Val: 0.9617, Test: 0.9622, Loss: 0.40838\n"
     ]
    },
    {
     "name": "stderr",
     "output_type": "stream",
     "text": [
      "c:\\Users\\rosa-\\anaconda3\\envs\\xaifo\\lib\\site-packages\\deepsnap\\graph.py:2126: UserWarning: __floordiv__ is deprecated, and its behavior will change in a future version of pytorch. It currently rounds toward 0 (like the 'trunc' function NOT 'floor'). This results in incorrect rounding for negative values. To keep the current behavior, use torch.div(a, b, rounding_mode='trunc'), or for actual floor division, use torch.div(a, b, rounding_mode='floor').\n",
      "  row = perm // num_nodes\n"
     ]
    },
    {
     "name": "stdout",
     "output_type": "stream",
     "text": [
      "Epoch: 100, Train: 0.9892, Val: 0.9619, Test: 0.9624, Loss: 0.40578\n"
     ]
    },
    {
     "name": "stderr",
     "output_type": "stream",
     "text": [
      "c:\\Users\\rosa-\\anaconda3\\envs\\xaifo\\lib\\site-packages\\deepsnap\\graph.py:2126: UserWarning: __floordiv__ is deprecated, and its behavior will change in a future version of pytorch. It currently rounds toward 0 (like the 'trunc' function NOT 'floor'). This results in incorrect rounding for negative values. To keep the current behavior, use torch.div(a, b, rounding_mode='trunc'), or for actual floor division, use torch.div(a, b, rounding_mode='floor').\n",
      "  row = perm // num_nodes\n"
     ]
    },
    {
     "name": "stdout",
     "output_type": "stream",
     "text": [
      "Epoch: 101, Train: 0.9892, Val: 0.9620, Test: 0.9625, Loss: 0.40823\n"
     ]
    },
    {
     "name": "stderr",
     "output_type": "stream",
     "text": [
      "c:\\Users\\rosa-\\anaconda3\\envs\\xaifo\\lib\\site-packages\\deepsnap\\graph.py:2126: UserWarning: __floordiv__ is deprecated, and its behavior will change in a future version of pytorch. It currently rounds toward 0 (like the 'trunc' function NOT 'floor'). This results in incorrect rounding for negative values. To keep the current behavior, use torch.div(a, b, rounding_mode='trunc'), or for actual floor division, use torch.div(a, b, rounding_mode='floor').\n",
      "  row = perm // num_nodes\n"
     ]
    },
    {
     "name": "stdout",
     "output_type": "stream",
     "text": [
      "Epoch: 102, Train: 0.9890, Val: 0.9621, Test: 0.9626, Loss: 0.40694\n"
     ]
    },
    {
     "name": "stderr",
     "output_type": "stream",
     "text": [
      "c:\\Users\\rosa-\\anaconda3\\envs\\xaifo\\lib\\site-packages\\deepsnap\\graph.py:2126: UserWarning: __floordiv__ is deprecated, and its behavior will change in a future version of pytorch. It currently rounds toward 0 (like the 'trunc' function NOT 'floor'). This results in incorrect rounding for negative values. To keep the current behavior, use torch.div(a, b, rounding_mode='trunc'), or for actual floor division, use torch.div(a, b, rounding_mode='floor').\n",
      "  row = perm // num_nodes\n"
     ]
    },
    {
     "name": "stdout",
     "output_type": "stream",
     "text": [
      "Epoch: 103, Train: 0.9891, Val: 0.9622, Test: 0.9628, Loss: 0.40721\n"
     ]
    },
    {
     "name": "stderr",
     "output_type": "stream",
     "text": [
      "c:\\Users\\rosa-\\anaconda3\\envs\\xaifo\\lib\\site-packages\\deepsnap\\graph.py:2126: UserWarning: __floordiv__ is deprecated, and its behavior will change in a future version of pytorch. It currently rounds toward 0 (like the 'trunc' function NOT 'floor'). This results in incorrect rounding for negative values. To keep the current behavior, use torch.div(a, b, rounding_mode='trunc'), or for actual floor division, use torch.div(a, b, rounding_mode='floor').\n",
      "  row = perm // num_nodes\n"
     ]
    },
    {
     "name": "stdout",
     "output_type": "stream",
     "text": [
      "Epoch: 104, Train: 0.9893, Val: 0.9623, Test: 0.9629, Loss: 0.40616\n"
     ]
    },
    {
     "name": "stderr",
     "output_type": "stream",
     "text": [
      "c:\\Users\\rosa-\\anaconda3\\envs\\xaifo\\lib\\site-packages\\deepsnap\\graph.py:2126: UserWarning: __floordiv__ is deprecated, and its behavior will change in a future version of pytorch. It currently rounds toward 0 (like the 'trunc' function NOT 'floor'). This results in incorrect rounding for negative values. To keep the current behavior, use torch.div(a, b, rounding_mode='trunc'), or for actual floor division, use torch.div(a, b, rounding_mode='floor').\n",
      "  row = perm // num_nodes\n"
     ]
    },
    {
     "name": "stdout",
     "output_type": "stream",
     "text": [
      "Epoch: 105, Train: 0.9895, Val: 0.9624, Test: 0.9629, Loss: 0.40616\n"
     ]
    },
    {
     "name": "stderr",
     "output_type": "stream",
     "text": [
      "c:\\Users\\rosa-\\anaconda3\\envs\\xaifo\\lib\\site-packages\\deepsnap\\graph.py:2126: UserWarning: __floordiv__ is deprecated, and its behavior will change in a future version of pytorch. It currently rounds toward 0 (like the 'trunc' function NOT 'floor'). This results in incorrect rounding for negative values. To keep the current behavior, use torch.div(a, b, rounding_mode='trunc'), or for actual floor division, use torch.div(a, b, rounding_mode='floor').\n",
      "  row = perm // num_nodes\n"
     ]
    },
    {
     "name": "stdout",
     "output_type": "stream",
     "text": [
      "Epoch: 106, Train: 0.9895, Val: 0.9624, Test: 0.9630, Loss: 0.40693\n"
     ]
    },
    {
     "name": "stderr",
     "output_type": "stream",
     "text": [
      "c:\\Users\\rosa-\\anaconda3\\envs\\xaifo\\lib\\site-packages\\deepsnap\\graph.py:2126: UserWarning: __floordiv__ is deprecated, and its behavior will change in a future version of pytorch. It currently rounds toward 0 (like the 'trunc' function NOT 'floor'). This results in incorrect rounding for negative values. To keep the current behavior, use torch.div(a, b, rounding_mode='trunc'), or for actual floor division, use torch.div(a, b, rounding_mode='floor').\n",
      "  row = perm // num_nodes\n"
     ]
    },
    {
     "name": "stdout",
     "output_type": "stream",
     "text": [
      "Epoch: 107, Train: 0.9897, Val: 0.9624, Test: 0.9630, Loss: 0.40654\n"
     ]
    },
    {
     "name": "stderr",
     "output_type": "stream",
     "text": [
      "c:\\Users\\rosa-\\anaconda3\\envs\\xaifo\\lib\\site-packages\\deepsnap\\graph.py:2126: UserWarning: __floordiv__ is deprecated, and its behavior will change in a future version of pytorch. It currently rounds toward 0 (like the 'trunc' function NOT 'floor'). This results in incorrect rounding for negative values. To keep the current behavior, use torch.div(a, b, rounding_mode='trunc'), or for actual floor division, use torch.div(a, b, rounding_mode='floor').\n",
      "  row = perm // num_nodes\n"
     ]
    },
    {
     "name": "stdout",
     "output_type": "stream",
     "text": [
      "Epoch: 108, Train: 0.9896, Val: 0.9624, Test: 0.9630, Loss: 0.40648\n"
     ]
    },
    {
     "name": "stderr",
     "output_type": "stream",
     "text": [
      "c:\\Users\\rosa-\\anaconda3\\envs\\xaifo\\lib\\site-packages\\deepsnap\\graph.py:2126: UserWarning: __floordiv__ is deprecated, and its behavior will change in a future version of pytorch. It currently rounds toward 0 (like the 'trunc' function NOT 'floor'). This results in incorrect rounding for negative values. To keep the current behavior, use torch.div(a, b, rounding_mode='trunc'), or for actual floor division, use torch.div(a, b, rounding_mode='floor').\n",
      "  row = perm // num_nodes\n"
     ]
    },
    {
     "name": "stdout",
     "output_type": "stream",
     "text": [
      "Epoch: 109, Train: 0.9896, Val: 0.9625, Test: 0.9631, Loss: 0.40633\n"
     ]
    },
    {
     "name": "stderr",
     "output_type": "stream",
     "text": [
      "c:\\Users\\rosa-\\anaconda3\\envs\\xaifo\\lib\\site-packages\\deepsnap\\graph.py:2126: UserWarning: __floordiv__ is deprecated, and its behavior will change in a future version of pytorch. It currently rounds toward 0 (like the 'trunc' function NOT 'floor'). This results in incorrect rounding for negative values. To keep the current behavior, use torch.div(a, b, rounding_mode='trunc'), or for actual floor division, use torch.div(a, b, rounding_mode='floor').\n",
      "  row = perm // num_nodes\n"
     ]
    },
    {
     "name": "stdout",
     "output_type": "stream",
     "text": [
      "Epoch: 110, Train: 0.9897, Val: 0.9625, Test: 0.9631, Loss: 0.40534\n"
     ]
    },
    {
     "name": "stderr",
     "output_type": "stream",
     "text": [
      "c:\\Users\\rosa-\\anaconda3\\envs\\xaifo\\lib\\site-packages\\deepsnap\\graph.py:2126: UserWarning: __floordiv__ is deprecated, and its behavior will change in a future version of pytorch. It currently rounds toward 0 (like the 'trunc' function NOT 'floor'). This results in incorrect rounding for negative values. To keep the current behavior, use torch.div(a, b, rounding_mode='trunc'), or for actual floor division, use torch.div(a, b, rounding_mode='floor').\n",
      "  row = perm // num_nodes\n"
     ]
    },
    {
     "name": "stdout",
     "output_type": "stream",
     "text": [
      "Epoch: 111, Train: 0.9899, Val: 0.9625, Test: 0.9632, Loss: 0.40463\n"
     ]
    },
    {
     "name": "stderr",
     "output_type": "stream",
     "text": [
      "c:\\Users\\rosa-\\anaconda3\\envs\\xaifo\\lib\\site-packages\\deepsnap\\graph.py:2126: UserWarning: __floordiv__ is deprecated, and its behavior will change in a future version of pytorch. It currently rounds toward 0 (like the 'trunc' function NOT 'floor'). This results in incorrect rounding for negative values. To keep the current behavior, use torch.div(a, b, rounding_mode='trunc'), or for actual floor division, use torch.div(a, b, rounding_mode='floor').\n",
      "  row = perm // num_nodes\n"
     ]
    },
    {
     "name": "stdout",
     "output_type": "stream",
     "text": [
      "Epoch: 112, Train: 0.9899, Val: 0.9626, Test: 0.9632, Loss: 0.40419\n"
     ]
    },
    {
     "name": "stderr",
     "output_type": "stream",
     "text": [
      "c:\\Users\\rosa-\\anaconda3\\envs\\xaifo\\lib\\site-packages\\deepsnap\\graph.py:2126: UserWarning: __floordiv__ is deprecated, and its behavior will change in a future version of pytorch. It currently rounds toward 0 (like the 'trunc' function NOT 'floor'). This results in incorrect rounding for negative values. To keep the current behavior, use torch.div(a, b, rounding_mode='trunc'), or for actual floor division, use torch.div(a, b, rounding_mode='floor').\n",
      "  row = perm // num_nodes\n"
     ]
    },
    {
     "name": "stdout",
     "output_type": "stream",
     "text": [
      "Epoch: 113, Train: 0.9898, Val: 0.9626, Test: 0.9633, Loss: 0.40547\n"
     ]
    },
    {
     "name": "stderr",
     "output_type": "stream",
     "text": [
      "c:\\Users\\rosa-\\anaconda3\\envs\\xaifo\\lib\\site-packages\\deepsnap\\graph.py:2126: UserWarning: __floordiv__ is deprecated, and its behavior will change in a future version of pytorch. It currently rounds toward 0 (like the 'trunc' function NOT 'floor'). This results in incorrect rounding for negative values. To keep the current behavior, use torch.div(a, b, rounding_mode='trunc'), or for actual floor division, use torch.div(a, b, rounding_mode='floor').\n",
      "  row = perm // num_nodes\n"
     ]
    },
    {
     "name": "stdout",
     "output_type": "stream",
     "text": [
      "Epoch: 114, Train: 0.9902, Val: 0.9627, Test: 0.9634, Loss: 0.40452\n"
     ]
    },
    {
     "name": "stderr",
     "output_type": "stream",
     "text": [
      "c:\\Users\\rosa-\\anaconda3\\envs\\xaifo\\lib\\site-packages\\deepsnap\\graph.py:2126: UserWarning: __floordiv__ is deprecated, and its behavior will change in a future version of pytorch. It currently rounds toward 0 (like the 'trunc' function NOT 'floor'). This results in incorrect rounding for negative values. To keep the current behavior, use torch.div(a, b, rounding_mode='trunc'), or for actual floor division, use torch.div(a, b, rounding_mode='floor').\n",
      "  row = perm // num_nodes\n"
     ]
    },
    {
     "name": "stdout",
     "output_type": "stream",
     "text": [
      "Epoch: 115, Train: 0.9900, Val: 0.9627, Test: 0.9634, Loss: 0.40522\n"
     ]
    },
    {
     "name": "stderr",
     "output_type": "stream",
     "text": [
      "c:\\Users\\rosa-\\anaconda3\\envs\\xaifo\\lib\\site-packages\\deepsnap\\graph.py:2126: UserWarning: __floordiv__ is deprecated, and its behavior will change in a future version of pytorch. It currently rounds toward 0 (like the 'trunc' function NOT 'floor'). This results in incorrect rounding for negative values. To keep the current behavior, use torch.div(a, b, rounding_mode='trunc'), or for actual floor division, use torch.div(a, b, rounding_mode='floor').\n",
      "  row = perm // num_nodes\n"
     ]
    },
    {
     "name": "stdout",
     "output_type": "stream",
     "text": [
      "Epoch: 116, Train: 0.9901, Val: 0.9627, Test: 0.9634, Loss: 0.40485\n"
     ]
    },
    {
     "name": "stderr",
     "output_type": "stream",
     "text": [
      "c:\\Users\\rosa-\\anaconda3\\envs\\xaifo\\lib\\site-packages\\deepsnap\\graph.py:2126: UserWarning: __floordiv__ is deprecated, and its behavior will change in a future version of pytorch. It currently rounds toward 0 (like the 'trunc' function NOT 'floor'). This results in incorrect rounding for negative values. To keep the current behavior, use torch.div(a, b, rounding_mode='trunc'), or for actual floor division, use torch.div(a, b, rounding_mode='floor').\n",
      "  row = perm // num_nodes\n"
     ]
    },
    {
     "name": "stdout",
     "output_type": "stream",
     "text": [
      "Epoch: 117, Train: 0.9901, Val: 0.9628, Test: 0.9635, Loss: 0.40524\n"
     ]
    },
    {
     "name": "stderr",
     "output_type": "stream",
     "text": [
      "c:\\Users\\rosa-\\anaconda3\\envs\\xaifo\\lib\\site-packages\\deepsnap\\graph.py:2126: UserWarning: __floordiv__ is deprecated, and its behavior will change in a future version of pytorch. It currently rounds toward 0 (like the 'trunc' function NOT 'floor'). This results in incorrect rounding for negative values. To keep the current behavior, use torch.div(a, b, rounding_mode='trunc'), or for actual floor division, use torch.div(a, b, rounding_mode='floor').\n",
      "  row = perm // num_nodes\n"
     ]
    },
    {
     "name": "stdout",
     "output_type": "stream",
     "text": [
      "Epoch: 118, Train: 0.9903, Val: 0.9628, Test: 0.9635, Loss: 0.40410\n"
     ]
    },
    {
     "name": "stderr",
     "output_type": "stream",
     "text": [
      "c:\\Users\\rosa-\\anaconda3\\envs\\xaifo\\lib\\site-packages\\deepsnap\\graph.py:2126: UserWarning: __floordiv__ is deprecated, and its behavior will change in a future version of pytorch. It currently rounds toward 0 (like the 'trunc' function NOT 'floor'). This results in incorrect rounding for negative values. To keep the current behavior, use torch.div(a, b, rounding_mode='trunc'), or for actual floor division, use torch.div(a, b, rounding_mode='floor').\n",
      "  row = perm // num_nodes\n"
     ]
    },
    {
     "name": "stdout",
     "output_type": "stream",
     "text": [
      "Epoch: 119, Train: 0.9903, Val: 0.9628, Test: 0.9635, Loss: 0.40372\n"
     ]
    },
    {
     "name": "stderr",
     "output_type": "stream",
     "text": [
      "c:\\Users\\rosa-\\anaconda3\\envs\\xaifo\\lib\\site-packages\\deepsnap\\graph.py:2126: UserWarning: __floordiv__ is deprecated, and its behavior will change in a future version of pytorch. It currently rounds toward 0 (like the 'trunc' function NOT 'floor'). This results in incorrect rounding for negative values. To keep the current behavior, use torch.div(a, b, rounding_mode='trunc'), or for actual floor division, use torch.div(a, b, rounding_mode='floor').\n",
      "  row = perm // num_nodes\n"
     ]
    },
    {
     "name": "stdout",
     "output_type": "stream",
     "text": [
      "Epoch: 120, Train: 0.9904, Val: 0.9628, Test: 0.9636, Loss: 0.40482\n"
     ]
    },
    {
     "name": "stderr",
     "output_type": "stream",
     "text": [
      "c:\\Users\\rosa-\\anaconda3\\envs\\xaifo\\lib\\site-packages\\deepsnap\\graph.py:2126: UserWarning: __floordiv__ is deprecated, and its behavior will change in a future version of pytorch. It currently rounds toward 0 (like the 'trunc' function NOT 'floor'). This results in incorrect rounding for negative values. To keep the current behavior, use torch.div(a, b, rounding_mode='trunc'), or for actual floor division, use torch.div(a, b, rounding_mode='floor').\n",
      "  row = perm // num_nodes\n"
     ]
    },
    {
     "name": "stdout",
     "output_type": "stream",
     "text": [
      "Epoch: 121, Train: 0.9902, Val: 0.9628, Test: 0.9636, Loss: 0.40426\n"
     ]
    },
    {
     "name": "stderr",
     "output_type": "stream",
     "text": [
      "c:\\Users\\rosa-\\anaconda3\\envs\\xaifo\\lib\\site-packages\\deepsnap\\graph.py:2126: UserWarning: __floordiv__ is deprecated, and its behavior will change in a future version of pytorch. It currently rounds toward 0 (like the 'trunc' function NOT 'floor'). This results in incorrect rounding for negative values. To keep the current behavior, use torch.div(a, b, rounding_mode='trunc'), or for actual floor division, use torch.div(a, b, rounding_mode='floor').\n",
      "  row = perm // num_nodes\n"
     ]
    },
    {
     "name": "stdout",
     "output_type": "stream",
     "text": [
      "Epoch: 122, Train: 0.9904, Val: 0.9628, Test: 0.9636, Loss: 0.40362\n"
     ]
    },
    {
     "name": "stderr",
     "output_type": "stream",
     "text": [
      "c:\\Users\\rosa-\\anaconda3\\envs\\xaifo\\lib\\site-packages\\deepsnap\\graph.py:2126: UserWarning: __floordiv__ is deprecated, and its behavior will change in a future version of pytorch. It currently rounds toward 0 (like the 'trunc' function NOT 'floor'). This results in incorrect rounding for negative values. To keep the current behavior, use torch.div(a, b, rounding_mode='trunc'), or for actual floor division, use torch.div(a, b, rounding_mode='floor').\n",
      "  row = perm // num_nodes\n"
     ]
    },
    {
     "name": "stdout",
     "output_type": "stream",
     "text": [
      "Epoch: 123, Train: 0.9907, Val: 0.9628, Test: 0.9636, Loss: 0.40379\n"
     ]
    },
    {
     "name": "stderr",
     "output_type": "stream",
     "text": [
      "c:\\Users\\rosa-\\anaconda3\\envs\\xaifo\\lib\\site-packages\\deepsnap\\graph.py:2126: UserWarning: __floordiv__ is deprecated, and its behavior will change in a future version of pytorch. It currently rounds toward 0 (like the 'trunc' function NOT 'floor'). This results in incorrect rounding for negative values. To keep the current behavior, use torch.div(a, b, rounding_mode='trunc'), or for actual floor division, use torch.div(a, b, rounding_mode='floor').\n",
      "  row = perm // num_nodes\n"
     ]
    },
    {
     "name": "stdout",
     "output_type": "stream",
     "text": [
      "Epoch: 124, Train: 0.9905, Val: 0.9628, Test: 0.9636, Loss: 0.40361\n"
     ]
    },
    {
     "name": "stderr",
     "output_type": "stream",
     "text": [
      "c:\\Users\\rosa-\\anaconda3\\envs\\xaifo\\lib\\site-packages\\deepsnap\\graph.py:2126: UserWarning: __floordiv__ is deprecated, and its behavior will change in a future version of pytorch. It currently rounds toward 0 (like the 'trunc' function NOT 'floor'). This results in incorrect rounding for negative values. To keep the current behavior, use torch.div(a, b, rounding_mode='trunc'), or for actual floor division, use torch.div(a, b, rounding_mode='floor').\n",
      "  row = perm // num_nodes\n"
     ]
    },
    {
     "name": "stdout",
     "output_type": "stream",
     "text": [
      "Epoch: 125, Train: 0.9904, Val: 0.9628, Test: 0.9635, Loss: 0.40421\n"
     ]
    },
    {
     "name": "stderr",
     "output_type": "stream",
     "text": [
      "c:\\Users\\rosa-\\anaconda3\\envs\\xaifo\\lib\\site-packages\\deepsnap\\graph.py:2126: UserWarning: __floordiv__ is deprecated, and its behavior will change in a future version of pytorch. It currently rounds toward 0 (like the 'trunc' function NOT 'floor'). This results in incorrect rounding for negative values. To keep the current behavior, use torch.div(a, b, rounding_mode='trunc'), or for actual floor division, use torch.div(a, b, rounding_mode='floor').\n",
      "  row = perm // num_nodes\n"
     ]
    },
    {
     "name": "stdout",
     "output_type": "stream",
     "text": [
      "Epoch: 126, Train: 0.9905, Val: 0.9628, Test: 0.9635, Loss: 0.40380\n"
     ]
    },
    {
     "name": "stderr",
     "output_type": "stream",
     "text": [
      "c:\\Users\\rosa-\\anaconda3\\envs\\xaifo\\lib\\site-packages\\deepsnap\\graph.py:2126: UserWarning: __floordiv__ is deprecated, and its behavior will change in a future version of pytorch. It currently rounds toward 0 (like the 'trunc' function NOT 'floor'). This results in incorrect rounding for negative values. To keep the current behavior, use torch.div(a, b, rounding_mode='trunc'), or for actual floor division, use torch.div(a, b, rounding_mode='floor').\n",
      "  row = perm // num_nodes\n"
     ]
    },
    {
     "name": "stdout",
     "output_type": "stream",
     "text": [
      "Epoch: 127, Train: 0.9904, Val: 0.9628, Test: 0.9635, Loss: 0.40232\n"
     ]
    },
    {
     "name": "stderr",
     "output_type": "stream",
     "text": [
      "c:\\Users\\rosa-\\anaconda3\\envs\\xaifo\\lib\\site-packages\\deepsnap\\graph.py:2126: UserWarning: __floordiv__ is deprecated, and its behavior will change in a future version of pytorch. It currently rounds toward 0 (like the 'trunc' function NOT 'floor'). This results in incorrect rounding for negative values. To keep the current behavior, use torch.div(a, b, rounding_mode='trunc'), or for actual floor division, use torch.div(a, b, rounding_mode='floor').\n",
      "  row = perm // num_nodes\n"
     ]
    },
    {
     "name": "stdout",
     "output_type": "stream",
     "text": [
      "Epoch: 128, Train: 0.9909, Val: 0.9629, Test: 0.9636, Loss: 0.40375\n"
     ]
    },
    {
     "name": "stderr",
     "output_type": "stream",
     "text": [
      "c:\\Users\\rosa-\\anaconda3\\envs\\xaifo\\lib\\site-packages\\deepsnap\\graph.py:2126: UserWarning: __floordiv__ is deprecated, and its behavior will change in a future version of pytorch. It currently rounds toward 0 (like the 'trunc' function NOT 'floor'). This results in incorrect rounding for negative values. To keep the current behavior, use torch.div(a, b, rounding_mode='trunc'), or for actual floor division, use torch.div(a, b, rounding_mode='floor').\n",
      "  row = perm // num_nodes\n"
     ]
    },
    {
     "name": "stdout",
     "output_type": "stream",
     "text": [
      "Epoch: 129, Train: 0.9907, Val: 0.9629, Test: 0.9636, Loss: 0.40253\n"
     ]
    },
    {
     "name": "stderr",
     "output_type": "stream",
     "text": [
      "c:\\Users\\rosa-\\anaconda3\\envs\\xaifo\\lib\\site-packages\\deepsnap\\graph.py:2126: UserWarning: __floordiv__ is deprecated, and its behavior will change in a future version of pytorch. It currently rounds toward 0 (like the 'trunc' function NOT 'floor'). This results in incorrect rounding for negative values. To keep the current behavior, use torch.div(a, b, rounding_mode='trunc'), or for actual floor division, use torch.div(a, b, rounding_mode='floor').\n",
      "  row = perm // num_nodes\n"
     ]
    },
    {
     "name": "stdout",
     "output_type": "stream",
     "text": [
      "Epoch: 130, Train: 0.9905, Val: 0.9630, Test: 0.9637, Loss: 0.40249\n"
     ]
    },
    {
     "name": "stderr",
     "output_type": "stream",
     "text": [
      "c:\\Users\\rosa-\\anaconda3\\envs\\xaifo\\lib\\site-packages\\deepsnap\\graph.py:2126: UserWarning: __floordiv__ is deprecated, and its behavior will change in a future version of pytorch. It currently rounds toward 0 (like the 'trunc' function NOT 'floor'). This results in incorrect rounding for negative values. To keep the current behavior, use torch.div(a, b, rounding_mode='trunc'), or for actual floor division, use torch.div(a, b, rounding_mode='floor').\n",
      "  row = perm // num_nodes\n"
     ]
    },
    {
     "name": "stdout",
     "output_type": "stream",
     "text": [
      "Epoch: 131, Train: 0.9908, Val: 0.9631, Test: 0.9638, Loss: 0.40226\n"
     ]
    },
    {
     "name": "stderr",
     "output_type": "stream",
     "text": [
      "c:\\Users\\rosa-\\anaconda3\\envs\\xaifo\\lib\\site-packages\\deepsnap\\graph.py:2126: UserWarning: __floordiv__ is deprecated, and its behavior will change in a future version of pytorch. It currently rounds toward 0 (like the 'trunc' function NOT 'floor'). This results in incorrect rounding for negative values. To keep the current behavior, use torch.div(a, b, rounding_mode='trunc'), or for actual floor division, use torch.div(a, b, rounding_mode='floor').\n",
      "  row = perm // num_nodes\n"
     ]
    },
    {
     "name": "stdout",
     "output_type": "stream",
     "text": [
      "Epoch: 132, Train: 0.9909, Val: 0.9632, Test: 0.9639, Loss: 0.40135\n"
     ]
    },
    {
     "name": "stderr",
     "output_type": "stream",
     "text": [
      "c:\\Users\\rosa-\\anaconda3\\envs\\xaifo\\lib\\site-packages\\deepsnap\\graph.py:2126: UserWarning: __floordiv__ is deprecated, and its behavior will change in a future version of pytorch. It currently rounds toward 0 (like the 'trunc' function NOT 'floor'). This results in incorrect rounding for negative values. To keep the current behavior, use torch.div(a, b, rounding_mode='trunc'), or for actual floor division, use torch.div(a, b, rounding_mode='floor').\n",
      "  row = perm // num_nodes\n"
     ]
    },
    {
     "name": "stdout",
     "output_type": "stream",
     "text": [
      "Epoch: 133, Train: 0.9910, Val: 0.9633, Test: 0.9639, Loss: 0.40174\n"
     ]
    },
    {
     "name": "stderr",
     "output_type": "stream",
     "text": [
      "c:\\Users\\rosa-\\anaconda3\\envs\\xaifo\\lib\\site-packages\\deepsnap\\graph.py:2126: UserWarning: __floordiv__ is deprecated, and its behavior will change in a future version of pytorch. It currently rounds toward 0 (like the 'trunc' function NOT 'floor'). This results in incorrect rounding for negative values. To keep the current behavior, use torch.div(a, b, rounding_mode='trunc'), or for actual floor division, use torch.div(a, b, rounding_mode='floor').\n",
      "  row = perm // num_nodes\n"
     ]
    },
    {
     "name": "stdout",
     "output_type": "stream",
     "text": [
      "Epoch: 134, Train: 0.9909, Val: 0.9634, Test: 0.9640, Loss: 0.40180\n"
     ]
    },
    {
     "name": "stderr",
     "output_type": "stream",
     "text": [
      "c:\\Users\\rosa-\\anaconda3\\envs\\xaifo\\lib\\site-packages\\deepsnap\\graph.py:2126: UserWarning: __floordiv__ is deprecated, and its behavior will change in a future version of pytorch. It currently rounds toward 0 (like the 'trunc' function NOT 'floor'). This results in incorrect rounding for negative values. To keep the current behavior, use torch.div(a, b, rounding_mode='trunc'), or for actual floor division, use torch.div(a, b, rounding_mode='floor').\n",
      "  row = perm // num_nodes\n"
     ]
    },
    {
     "name": "stdout",
     "output_type": "stream",
     "text": [
      "Epoch: 135, Train: 0.9910, Val: 0.9635, Test: 0.9642, Loss: 0.40236\n"
     ]
    },
    {
     "name": "stderr",
     "output_type": "stream",
     "text": [
      "c:\\Users\\rosa-\\anaconda3\\envs\\xaifo\\lib\\site-packages\\deepsnap\\graph.py:2126: UserWarning: __floordiv__ is deprecated, and its behavior will change in a future version of pytorch. It currently rounds toward 0 (like the 'trunc' function NOT 'floor'). This results in incorrect rounding for negative values. To keep the current behavior, use torch.div(a, b, rounding_mode='trunc'), or for actual floor division, use torch.div(a, b, rounding_mode='floor').\n",
      "  row = perm // num_nodes\n"
     ]
    },
    {
     "name": "stdout",
     "output_type": "stream",
     "text": [
      "Epoch: 136, Train: 0.9913, Val: 0.9635, Test: 0.9642, Loss: 0.40268\n"
     ]
    },
    {
     "name": "stderr",
     "output_type": "stream",
     "text": [
      "c:\\Users\\rosa-\\anaconda3\\envs\\xaifo\\lib\\site-packages\\deepsnap\\graph.py:2126: UserWarning: __floordiv__ is deprecated, and its behavior will change in a future version of pytorch. It currently rounds toward 0 (like the 'trunc' function NOT 'floor'). This results in incorrect rounding for negative values. To keep the current behavior, use torch.div(a, b, rounding_mode='trunc'), or for actual floor division, use torch.div(a, b, rounding_mode='floor').\n",
      "  row = perm // num_nodes\n"
     ]
    },
    {
     "name": "stdout",
     "output_type": "stream",
     "text": [
      "Epoch: 137, Train: 0.9911, Val: 0.9636, Test: 0.9643, Loss: 0.40183\n"
     ]
    },
    {
     "name": "stderr",
     "output_type": "stream",
     "text": [
      "c:\\Users\\rosa-\\anaconda3\\envs\\xaifo\\lib\\site-packages\\deepsnap\\graph.py:2126: UserWarning: __floordiv__ is deprecated, and its behavior will change in a future version of pytorch. It currently rounds toward 0 (like the 'trunc' function NOT 'floor'). This results in incorrect rounding for negative values. To keep the current behavior, use torch.div(a, b, rounding_mode='trunc'), or for actual floor division, use torch.div(a, b, rounding_mode='floor').\n",
      "  row = perm // num_nodes\n"
     ]
    },
    {
     "name": "stdout",
     "output_type": "stream",
     "text": [
      "Epoch: 138, Train: 0.9915, Val: 0.9637, Test: 0.9644, Loss: 0.40155\n"
     ]
    },
    {
     "name": "stderr",
     "output_type": "stream",
     "text": [
      "c:\\Users\\rosa-\\anaconda3\\envs\\xaifo\\lib\\site-packages\\deepsnap\\graph.py:2126: UserWarning: __floordiv__ is deprecated, and its behavior will change in a future version of pytorch. It currently rounds toward 0 (like the 'trunc' function NOT 'floor'). This results in incorrect rounding for negative values. To keep the current behavior, use torch.div(a, b, rounding_mode='trunc'), or for actual floor division, use torch.div(a, b, rounding_mode='floor').\n",
      "  row = perm // num_nodes\n"
     ]
    },
    {
     "name": "stdout",
     "output_type": "stream",
     "text": [
      "Epoch: 139, Train: 0.9914, Val: 0.9638, Test: 0.9645, Loss: 0.40229\n"
     ]
    },
    {
     "name": "stderr",
     "output_type": "stream",
     "text": [
      "c:\\Users\\rosa-\\anaconda3\\envs\\xaifo\\lib\\site-packages\\deepsnap\\graph.py:2126: UserWarning: __floordiv__ is deprecated, and its behavior will change in a future version of pytorch. It currently rounds toward 0 (like the 'trunc' function NOT 'floor'). This results in incorrect rounding for negative values. To keep the current behavior, use torch.div(a, b, rounding_mode='trunc'), or for actual floor division, use torch.div(a, b, rounding_mode='floor').\n",
      "  row = perm // num_nodes\n"
     ]
    },
    {
     "name": "stdout",
     "output_type": "stream",
     "text": [
      "Epoch: 140, Train: 0.9915, Val: 0.9638, Test: 0.9646, Loss: 0.40166\n"
     ]
    },
    {
     "name": "stderr",
     "output_type": "stream",
     "text": [
      "c:\\Users\\rosa-\\anaconda3\\envs\\xaifo\\lib\\site-packages\\deepsnap\\graph.py:2126: UserWarning: __floordiv__ is deprecated, and its behavior will change in a future version of pytorch. It currently rounds toward 0 (like the 'trunc' function NOT 'floor'). This results in incorrect rounding for negative values. To keep the current behavior, use torch.div(a, b, rounding_mode='trunc'), or for actual floor division, use torch.div(a, b, rounding_mode='floor').\n",
      "  row = perm // num_nodes\n"
     ]
    },
    {
     "name": "stdout",
     "output_type": "stream",
     "text": [
      "Epoch: 141, Train: 0.9916, Val: 0.9638, Test: 0.9646, Loss: 0.40069\n"
     ]
    },
    {
     "name": "stderr",
     "output_type": "stream",
     "text": [
      "c:\\Users\\rosa-\\anaconda3\\envs\\xaifo\\lib\\site-packages\\deepsnap\\graph.py:2126: UserWarning: __floordiv__ is deprecated, and its behavior will change in a future version of pytorch. It currently rounds toward 0 (like the 'trunc' function NOT 'floor'). This results in incorrect rounding for negative values. To keep the current behavior, use torch.div(a, b, rounding_mode='trunc'), or for actual floor division, use torch.div(a, b, rounding_mode='floor').\n",
      "  row = perm // num_nodes\n"
     ]
    },
    {
     "name": "stdout",
     "output_type": "stream",
     "text": [
      "Epoch: 142, Train: 0.9917, Val: 0.9639, Test: 0.9647, Loss: 0.40124\n"
     ]
    },
    {
     "name": "stderr",
     "output_type": "stream",
     "text": [
      "c:\\Users\\rosa-\\anaconda3\\envs\\xaifo\\lib\\site-packages\\deepsnap\\graph.py:2126: UserWarning: __floordiv__ is deprecated, and its behavior will change in a future version of pytorch. It currently rounds toward 0 (like the 'trunc' function NOT 'floor'). This results in incorrect rounding for negative values. To keep the current behavior, use torch.div(a, b, rounding_mode='trunc'), or for actual floor division, use torch.div(a, b, rounding_mode='floor').\n",
      "  row = perm // num_nodes\n"
     ]
    },
    {
     "name": "stdout",
     "output_type": "stream",
     "text": [
      "Epoch: 143, Train: 0.9917, Val: 0.9639, Test: 0.9647, Loss: 0.39992\n"
     ]
    },
    {
     "name": "stderr",
     "output_type": "stream",
     "text": [
      "c:\\Users\\rosa-\\anaconda3\\envs\\xaifo\\lib\\site-packages\\deepsnap\\graph.py:2126: UserWarning: __floordiv__ is deprecated, and its behavior will change in a future version of pytorch. It currently rounds toward 0 (like the 'trunc' function NOT 'floor'). This results in incorrect rounding for negative values. To keep the current behavior, use torch.div(a, b, rounding_mode='trunc'), or for actual floor division, use torch.div(a, b, rounding_mode='floor').\n",
      "  row = perm // num_nodes\n"
     ]
    },
    {
     "name": "stdout",
     "output_type": "stream",
     "text": [
      "Epoch: 144, Train: 0.9918, Val: 0.9640, Test: 0.9648, Loss: 0.40027\n"
     ]
    },
    {
     "name": "stderr",
     "output_type": "stream",
     "text": [
      "c:\\Users\\rosa-\\anaconda3\\envs\\xaifo\\lib\\site-packages\\deepsnap\\graph.py:2126: UserWarning: __floordiv__ is deprecated, and its behavior will change in a future version of pytorch. It currently rounds toward 0 (like the 'trunc' function NOT 'floor'). This results in incorrect rounding for negative values. To keep the current behavior, use torch.div(a, b, rounding_mode='trunc'), or for actual floor division, use torch.div(a, b, rounding_mode='floor').\n",
      "  row = perm // num_nodes\n"
     ]
    },
    {
     "name": "stdout",
     "output_type": "stream",
     "text": [
      "Epoch: 145, Train: 0.9917, Val: 0.9640, Test: 0.9647, Loss: 0.40084\n"
     ]
    },
    {
     "name": "stderr",
     "output_type": "stream",
     "text": [
      "c:\\Users\\rosa-\\anaconda3\\envs\\xaifo\\lib\\site-packages\\deepsnap\\graph.py:2126: UserWarning: __floordiv__ is deprecated, and its behavior will change in a future version of pytorch. It currently rounds toward 0 (like the 'trunc' function NOT 'floor'). This results in incorrect rounding for negative values. To keep the current behavior, use torch.div(a, b, rounding_mode='trunc'), or for actual floor division, use torch.div(a, b, rounding_mode='floor').\n",
      "  row = perm // num_nodes\n"
     ]
    },
    {
     "name": "stdout",
     "output_type": "stream",
     "text": [
      "Epoch: 146, Train: 0.9919, Val: 0.9638, Test: 0.9646, Loss: 0.40131\n"
     ]
    },
    {
     "name": "stderr",
     "output_type": "stream",
     "text": [
      "c:\\Users\\rosa-\\anaconda3\\envs\\xaifo\\lib\\site-packages\\deepsnap\\graph.py:2126: UserWarning: __floordiv__ is deprecated, and its behavior will change in a future version of pytorch. It currently rounds toward 0 (like the 'trunc' function NOT 'floor'). This results in incorrect rounding for negative values. To keep the current behavior, use torch.div(a, b, rounding_mode='trunc'), or for actual floor division, use torch.div(a, b, rounding_mode='floor').\n",
      "  row = perm // num_nodes\n"
     ]
    },
    {
     "name": "stdout",
     "output_type": "stream",
     "text": [
      "Epoch: 147, Train: 0.9920, Val: 0.9638, Test: 0.9645, Loss: 0.40021\n"
     ]
    },
    {
     "name": "stderr",
     "output_type": "stream",
     "text": [
      "c:\\Users\\rosa-\\anaconda3\\envs\\xaifo\\lib\\site-packages\\deepsnap\\graph.py:2126: UserWarning: __floordiv__ is deprecated, and its behavior will change in a future version of pytorch. It currently rounds toward 0 (like the 'trunc' function NOT 'floor'). This results in incorrect rounding for negative values. To keep the current behavior, use torch.div(a, b, rounding_mode='trunc'), or for actual floor division, use torch.div(a, b, rounding_mode='floor').\n",
      "  row = perm // num_nodes\n"
     ]
    },
    {
     "name": "stdout",
     "output_type": "stream",
     "text": [
      "Epoch: 148, Train: 0.9918, Val: 0.9636, Test: 0.9644, Loss: 0.40072\n"
     ]
    },
    {
     "name": "stderr",
     "output_type": "stream",
     "text": [
      "c:\\Users\\rosa-\\anaconda3\\envs\\xaifo\\lib\\site-packages\\deepsnap\\graph.py:2126: UserWarning: __floordiv__ is deprecated, and its behavior will change in a future version of pytorch. It currently rounds toward 0 (like the 'trunc' function NOT 'floor'). This results in incorrect rounding for negative values. To keep the current behavior, use torch.div(a, b, rounding_mode='trunc'), or for actual floor division, use torch.div(a, b, rounding_mode='floor').\n",
      "  row = perm // num_nodes\n"
     ]
    },
    {
     "name": "stdout",
     "output_type": "stream",
     "text": [
      "Epoch: 149, Train: 0.9918, Val: 0.9636, Test: 0.9644, Loss: 0.39930\n"
     ]
    },
    {
     "name": "stderr",
     "output_type": "stream",
     "text": [
      "c:\\Users\\rosa-\\anaconda3\\envs\\xaifo\\lib\\site-packages\\deepsnap\\graph.py:2126: UserWarning: __floordiv__ is deprecated, and its behavior will change in a future version of pytorch. It currently rounds toward 0 (like the 'trunc' function NOT 'floor'). This results in incorrect rounding for negative values. To keep the current behavior, use torch.div(a, b, rounding_mode='trunc'), or for actual floor division, use torch.div(a, b, rounding_mode='floor').\n",
      "  row = perm // num_nodes\n"
     ]
    },
    {
     "name": "stdout",
     "output_type": "stream",
     "text": [
      "Train: 0.9918, Val: 0.9640, Test: 0.9648\n"
     ]
    }
   ],
   "source": [
    "best_model, best_x, performance = train(model, dataloaders, optimizer, args)\n",
    "\n",
    "best_train_roc = test(best_model, dataloaders['train'], args)\n",
    "best_val_roc = test(best_model, dataloaders['val'], args)\n",
    "best_test_roc = test(best_model, dataloaders['test'], args)\n",
    "\n",
    "print('Train: {:.4f}, Val: {:.4f}, Test: {:.4f}'.format(best_train_roc, best_val_roc, best_test_roc))"
   ]
  },
  {
   "attachments": {},
   "cell_type": "markdown",
   "metadata": {},
   "source": [
    "Save the model and parameters"
   ]
  },
  {
   "cell_type": "code",
   "execution_count": 26,
   "metadata": {},
   "outputs": [],
   "source": [
    "torch.save(best_model.state_dict(), f'output/g{dataset_nr}_{embedding_method}/best_model_{dataset_nr}_{embedding_method}.pth')\n",
    "with open(f'output/g{dataset_nr}_{embedding_method}/best_model_{dataset_nr}_{embedding_method}_args.pkl', 'wb') as f:\n",
    "    pickle.dump(args, f)"
   ]
  },
  {
   "attachments": {},
   "cell_type": "markdown",
   "metadata": {},
   "source": [
    "### Visualize Trained GNN Model Accuracy"
   ]
  },
  {
   "attachments": {},
   "cell_type": "markdown",
   "metadata": {},
   "source": [
    "Plot AUC and loss throughout epochs"
   ]
  },
  {
   "cell_type": "code",
   "execution_count": 27,
   "metadata": {},
   "outputs": [
    {
     "data": {
      "image/png": "[encoded data removed]",
      "text/plain": [
       "<Figure size 1000x700 with 1 Axes>"
      ]
     },
     "metadata": {},
     "output_type": "display_data"
    }
   ],
   "source": [
    "plt.figure(figsize= (10,7))\n",
    "plt.plot(np.log10(performance[0]), label = 'Loss')\n",
    "plt.plot(performance[1], label = 'AUC Train')\n",
    "plt.plot(performance[2], label = 'AUC Validation')\n",
    "plt.plot(performance[3], label = 'AUC Test')\n",
    "plt.legend()\n",
    "plt.ylabel('AUC/Loss')\n",
    "plt.xlabel('Epochs')\n",
    "plt.title(f'Training curve of GNN on dataset {dataset_nr} and method {embedding_method}')\n",
    "plt.show()"
   ]
  },
  {
   "cell_type": "code",
   "execution_count": 28,
   "metadata": {},
   "outputs": [],
   "source": [
    "performance_scores = {}\n",
    "sets = ['Loss', 'AUC Train', 'AUC Validation', 'AUC Test']\n",
    "for set_name, score_list in zip(sets, performance):\n",
    "    performance_scores[set_name] = score_list"
   ]
  },
  {
   "attachments": {},
   "cell_type": "markdown",
   "metadata": {},
   "source": [
    "Plot ROC curve using test set\n",
    "- High TPR and lower FPR indicates that the proportion of correctly classified samples (true positives) is greater than the proportion of incorrectly classified samples (false positives)"
   ]
  },
  {
   "cell_type": "code",
   "execution_count": 29,
   "metadata": {},
   "outputs": [
    {
     "name": "stdout",
     "output_type": "stream",
     "text": [
      "ROC AUC score: 0.9647664424592194\n"
     ]
    },
    {
     "data": {
      "image/png": "[encoded data removed]",
      "text/plain": [
       "<Figure size 700x700 with 1 Axes>"
      ]
     },
     "metadata": {},
     "output_type": "display_data"
    }
   ],
   "source": [
    "for batch in dataloaders['test']:\n",
    "    feat, edge_index, edge_label_index = batch.node_feature, batch.edge_index, batch.edge_label_index\n",
    "    batch.to(args[\"device\"])\n",
    "    pred, x = best_model(feat, edge_index, edge_label_index, training = False)\n",
    "    pred = torch.sigmoid(pred)\n",
    "    score = roc_auc_score(batch.edge_label.flatten().cpu().numpy(), pred.flatten().data.cpu().numpy())\n",
    "    \n",
    "    performance_scores['ROC AUC Score'] = score\n",
    "    print(f'ROC AUC score: {score}')\n",
    "    \n",
    "fpr, tpr, thresholds = roc_curve(batch.edge_label.flatten().cpu().numpy(), pred.flatten().data.cpu().numpy())\n",
    "performance_scores['ROC FPR'] = fpr\n",
    "performance_scores['ROC TPR'] = tpr\n",
    "performance_scores['ROC Thresholds'] = thresholds\n",
    "\n",
    "plt.figure(figsize = (7, 7))\n",
    "plt.plot(fpr, tpr, marker='.')\n",
    "plt.xlabel('False Positive Rate')   # 1 - specificity\n",
    "plt.ylabel('True Positive Rate')    # sensitivity\n",
    "plt.title(f'ROC curve on test set from dataset {dataset_nr} and method {embedding_method}')\n",
    "plt.show()"
   ]
  },
  {
   "attachments": {},
   "cell_type": "markdown",
   "metadata": {},
   "source": [
    "Calculate F1-score using test set\n",
    "\n",
    "Elements of the F1-score:\n",
    "- Precision represents the proportion of correctly classifying samples as positive (high precision: classifying a sample as positive has a high probability to be correct)\n",
    "- Recall represents the proportion of finding all positives (high recall: all positive samples have been classified as being positive)\n",
    "\n",
    "Maximizing both elements in order to yield a model that identifies all positive samples and only identifies these samples as positives.\n",
    "\n",
    "For the F1-score, the average of precision and recall is calculated, using the harmonic mean method (equal importance):\n",
    "- High F1-score indicates that precision and recall are both high\n",
    "- Medium F1-score indicates that one of the elements is high and the other low\n",
    "- Low F1-score indicates that precision and recall are both low"
   ]
  },
  {
   "cell_type": "code",
   "execution_count": 30,
   "metadata": {},
   "outputs": [
    {
     "name": "stdout",
     "output_type": "stream",
     "text": [
      "F1-Score in the test set of dataset 1 and method e2v: 0.8939573765416172\n",
      "              precision    recall  f1-score   support\n",
      "\n",
      "           0       0.85      0.97      0.91     10406\n",
      "           1       0.97      0.83      0.89     10406\n",
      "\n",
      "    accuracy                           0.90     20812\n",
      "   macro avg       0.91      0.90      0.90     20812\n",
      "weighted avg       0.91      0.90      0.90     20812\n",
      "\n"
     ]
    }
   ],
   "source": [
    "def test_f1(model, dataloader, args, threshold):\n",
    "    model.eval()\n",
    "    score = 0\n",
    "    num_batches = 0\n",
    "    for batch in dataloader:\n",
    "        feat, edge_index, edge_label_index = batch.node_feature, batch.edge_index, batch.edge_label_index\n",
    "        batch.to(args[\"device\"])\n",
    "        pred, x = model(feat, edge_index, edge_label_index, training = False)\n",
    "        pred = torch.sigmoid(pred) > threshold\n",
    "        score += f1_score(batch.edge_label.flatten().cpu().numpy(), pred.flatten().data.cpu().numpy())\n",
    "        num_batches += 1\n",
    "    score /= num_batches \n",
    "    return batch.edge_label.flatten().cpu().numpy(), pred.flatten().data.cpu().numpy(), score\n",
    "\n",
    "true_label, pred_label, best_test_f1 = test_f1(best_model, dataloaders['test'], args, 0.8)\n",
    "performance_scores['True Labels'] = true_label\n",
    "performance_scores['Predicted Labels'] = pred_label\n",
    "performance_scores['F1 Score'] = best_test_f1\n",
    "\n",
    "print(f'F1-Score in the test set of dataset {dataset_nr} and method {embedding_method}:', best_test_f1)\n",
    "print(classification_report(true_label, pred_label))"
   ]
  },
  {
   "cell_type": "code",
   "execution_count": 31,
   "metadata": {},
   "outputs": [
    {
     "name": "stdout",
     "output_type": "stream",
     "text": [
      "[[10095   311]\n",
      " [ 1744  8662]]\n"
     ]
    }
   ],
   "source": [
    "def test_cm(model, dataloader, args, threshold):\n",
    "    model.eval()\n",
    "    for batch in dataloader:\n",
    "        feat, edge_index, edge_label_index = batch.node_feature, batch.edge_index, batch.edge_label_index\n",
    "        batch.to(args[\"device\"])\n",
    "        pred, x = model(feat, edge_index, edge_label_index, training = False)\n",
    "        pred = torch.sigmoid(pred) > threshold\n",
    "        score = confusion_matrix(batch.edge_label.flatten().cpu().numpy(), pred.flatten().data.cpu().numpy())\n",
    "    return score\n",
    "\n",
    "table = test_cm(best_model, dataloaders['test'], args, 0.8)\n",
    "print(table)"
   ]
  },
  {
   "cell_type": "code",
   "execution_count": 32,
   "metadata": {},
   "outputs": [],
   "source": [
    "with open(f'output/g{dataset_nr}_{embedding_method}/performance_scores_{dataset_nr}_{embedding_method}.pkl', 'wb') as f:\n",
    "    pickle.dump(performance_scores, f)"
   ]
  },
  {
   "attachments": {},
   "cell_type": "markdown",
   "metadata": {},
   "source": [
    "# Hyperparameter Optimization of Node Embedding and GNN Training"
   ]
  },
  {
   "attachments": {},
   "cell_type": "markdown",
   "metadata": {},
   "source": [
    "The routine including node embedding and GNN training that needs to be optimized is contained in `hyperparam_opt.py`."
   ]
  },
  {
   "attachments": {},
   "cell_type": "markdown",
   "metadata": {},
   "source": [
    "# GNN Predictions"
   ]
  },
  {
   "attachments": {},
   "cell_type": "markdown",
   "metadata": {},
   "source": [
    "Load the Edge2Vec embedding"
   ]
  },
  {
   "cell_type": "code",
   "execution_count": 33,
   "metadata": {},
   "outputs": [
    {
     "data": {
      "text/html": [
       "<div>\n",
       "<style scoped>\n",
       "    .dataframe tbody tr th:only-of-type {\n",
       "        vertical-align: middle;\n",
       "    }\n",
       "\n",
       "    .dataframe tbody tr th {\n",
       "        vertical-align: top;\n",
       "    }\n",
       "\n",
       "    .dataframe thead th {\n",
       "        text-align: right;\n",
       "    }\n",
       "</style>\n",
       "<table border=\"1\" class=\"dataframe\">\n",
       "  <thead>\n",
       "    <tr style=\"text-align: right;\">\n",
       "      <th></th>\n",
       "      <th>Node</th>\n",
       "      <th>Embedding</th>\n",
       "    </tr>\n",
       "  </thead>\n",
       "  <tbody>\n",
       "    <tr>\n",
       "      <th>0</th>\n",
       "      <td>0</td>\n",
       "      <td>[-0.51889515, -0.27600476, 1.4841187, -0.06068...</td>\n",
       "    </tr>\n",
       "    <tr>\n",
       "      <th>1</th>\n",
       "      <td>1</td>\n",
       "      <td>[-0.42672232, -0.5783169, 0.32593465, 0.221815...</td>\n",
       "    </tr>\n",
       "    <tr>\n",
       "      <th>2</th>\n",
       "      <td>2</td>\n",
       "      <td>[-0.6535885, -0.90137726, -0.032278683, 0.0108...</td>\n",
       "    </tr>\n",
       "    <tr>\n",
       "      <th>3</th>\n",
       "      <td>3</td>\n",
       "      <td>[-0.2691764, -0.69204295, 0.20973878, 0.102305...</td>\n",
       "    </tr>\n",
       "    <tr>\n",
       "      <th>4</th>\n",
       "      <td>4</td>\n",
       "      <td>[-0.5726995, -0.6201956, 0.31523106, 0.1010267...</td>\n",
       "    </tr>\n",
       "    <tr>\n",
       "      <th>...</th>\n",
       "      <td>...</td>\n",
       "      <td>...</td>\n",
       "    </tr>\n",
       "    <tr>\n",
       "      <th>10029</th>\n",
       "      <td>10029</td>\n",
       "      <td>[-0.3075929, -0.6312674, 0.18461354, 0.0889394...</td>\n",
       "    </tr>\n",
       "    <tr>\n",
       "      <th>10030</th>\n",
       "      <td>10030</td>\n",
       "      <td>[-0.30531076, -0.76736724, 0.2964231, 0.125141...</td>\n",
       "    </tr>\n",
       "    <tr>\n",
       "      <th>10031</th>\n",
       "      <td>10031</td>\n",
       "      <td>[-0.30683234, -0.7127532, 0.30363908, -0.10534...</td>\n",
       "    </tr>\n",
       "    <tr>\n",
       "      <th>10032</th>\n",
       "      <td>10032</td>\n",
       "      <td>[-0.5401776, -1.1480745, 0.67260635, 0.7167586...</td>\n",
       "    </tr>\n",
       "    <tr>\n",
       "      <th>10033</th>\n",
       "      <td>10033</td>\n",
       "      <td>[-0.28015414, -0.378714, 0.1332573, 0.02175484...</td>\n",
       "    </tr>\n",
       "  </tbody>\n",
       "</table>\n",
       "<p>10034 rows × 2 columns</p>\n",
       "</div>"
      ],
      "text/plain": [
       "        Node                                          Embedding\n",
       "0          0  [-0.51889515, -0.27600476, 1.4841187, -0.06068...\n",
       "1          1  [-0.42672232, -0.5783169, 0.32593465, 0.221815...\n",
       "2          2  [-0.6535885, -0.90137726, -0.032278683, 0.0108...\n",
       "3          3  [-0.2691764, -0.69204295, 0.20973878, 0.102305...\n",
       "4          4  [-0.5726995, -0.6201956, 0.31523106, 0.1010267...\n",
       "...      ...                                                ...\n",
       "10029  10029  [-0.3075929, -0.6312674, 0.18461354, 0.0889394...\n",
       "10030  10030  [-0.30531076, -0.76736724, 0.2964231, 0.125141...\n",
       "10031  10031  [-0.30683234, -0.7127532, 0.30363908, -0.10534...\n",
       "10032  10032  [-0.5401776, -1.1480745, 0.67260635, 0.7167586...\n",
       "10033  10033  [-0.28015414, -0.378714, 0.1332573, 0.02175484...\n",
       "\n",
       "[10034 rows x 2 columns]"
      ]
     },
     "execution_count": 33,
     "metadata": {},
     "output_type": "execute_result"
    }
   ],
   "source": [
    "embedding"
   ]
  },
  {
   "attachments": {},
   "cell_type": "markdown",
   "metadata": {},
   "source": [
    "Initialize a graph with nodes and their embedding features."
   ]
  },
  {
   "cell_type": "code",
   "execution_count": 34,
   "metadata": {},
   "outputs": [
    {
     "name": "stdout",
     "output_type": "stream",
     "text": [
      "(0, {'node_feature': tensor([-0.5189, -0.2760,  1.4841, -0.0607, -0.0413, -0.1067,  0.0676, -0.0755,\n",
      "         0.9547, -0.4007, -0.5608, -1.0221, -0.9254,  0.3233, -0.2541, -1.5503,\n",
      "        -0.2603, -0.7199, -0.2066,  1.7181, -0.6343,  1.0000, -0.2462, -1.0636,\n",
      "         1.5462, -0.9441,  0.0291,  0.5076,  0.1558, -0.8949,  0.3848, -0.7677])})\n",
      "(0, 5765, {})\n",
      "Number of edges is 52024\n",
      "Number of nodes is 10034\n"
     ]
    }
   ],
   "source": [
    "for node in embedded_node_G.nodes(data=True):\n",
    "    print(node)\n",
    "    break\n",
    "for edge in embedded_node_G.edges(data=True):\n",
    "    print(edge)\n",
    "    break\n",
    "\n",
    "print(\"Number of edges is {}\".format(embedded_node_G.number_of_edges()))\n",
    "print(\"Number of nodes is {}\".format(embedded_node_G.number_of_nodes()))"
   ]
  },
  {
   "cell_type": "code",
   "execution_count": 35,
   "metadata": {},
   "outputs": [
    {
     "name": "stdout",
     "output_type": "stream",
     "text": [
      "torch.Size([2, 104048])\n"
     ]
    }
   ],
   "source": [
    "DeepG = Graph(embedded_node_G)\n",
    "print(DeepG.edge_index.shape)"
   ]
  },
  {
   "attachments": {},
   "cell_type": "markdown",
   "metadata": {},
   "source": [
    "Load arguments and parameters of trained GNN model."
   ]
  },
  {
   "cell_type": "code",
   "execution_count": 36,
   "metadata": {},
   "outputs": [
    {
     "data": {
      "text/plain": [
       "<All keys matched successfully>"
      ]
     },
     "execution_count": 36,
     "metadata": {},
     "output_type": "execute_result"
    }
   ],
   "source": [
    "with open(f'output/g{dataset_nr}_{embedding_method}/best_model_{dataset_nr}_{embedding_method}_args.pkl', 'rb') as f:\n",
    "    loaded_args = pickle.load(f)\n",
    "    \n",
    "best_model = LinkPredModel(len(embedding['Embedding'][0]), loaded_args['hidden_dim'], loaded_args['output_dim'], loaded_args['layers'], loaded_args['aggr'], loaded_args['dropout'], loaded_args['device']).to(loaded_args['device'])\n",
    "best_model.load_state_dict(torch.load(f'output/g{dataset_nr}_{embedding_method}/best_model_{dataset_nr}_{embedding_method}.pth'))"
   ]
  },
  {
   "attachments": {},
   "cell_type": "markdown",
   "metadata": {},
   "source": [
    "Get output of best model given the graph"
   ]
  },
  {
   "cell_type": "code",
   "execution_count": 37,
   "metadata": {},
   "outputs": [
    {
     "name": "stdout",
     "output_type": "stream",
     "text": [
      "torch.Size([10034, 64])\n"
     ]
    }
   ],
   "source": [
    "_, best_x = best_model(DeepG.node_feature, DeepG.edge_index, DeepG.edge_label_index, training = False)\n",
    "print(best_x.shape)"
   ]
  },
  {
   "cell_type": "code",
   "execution_count": 38,
   "metadata": {},
   "outputs": [
    {
     "data": {
      "text/html": [
       "<div>\n",
       "<style scoped>\n",
       "    .dataframe tbody tr th:only-of-type {\n",
       "        vertical-align: middle;\n",
       "    }\n",
       "\n",
       "    .dataframe tbody tr th {\n",
       "        vertical-align: top;\n",
       "    }\n",
       "\n",
       "    .dataframe thead th {\n",
       "        text-align: right;\n",
       "    }\n",
       "</style>\n",
       "<table border=\"1\" class=\"dataframe\">\n",
       "  <thead>\n",
       "    <tr style=\"text-align: right;\">\n",
       "      <th></th>\n",
       "      <th>id</th>\n",
       "      <th>semantic</th>\n",
       "      <th>label</th>\n",
       "      <th>semantic_id</th>\n",
       "    </tr>\n",
       "  </thead>\n",
       "  <tbody>\n",
       "    <tr>\n",
       "      <th>0</th>\n",
       "      <td>WormBase:WBGene00000389</td>\n",
       "      <td>ORTH</td>\n",
       "      <td>cdc-25.4</td>\n",
       "      <td>5</td>\n",
       "    </tr>\n",
       "    <tr>\n",
       "      <th>1</th>\n",
       "      <td>ZP:0018675</td>\n",
       "      <td>DISO</td>\n",
       "      <td>right side lateral plate mesoderm mislocalised...</td>\n",
       "      <td>1</td>\n",
       "    </tr>\n",
       "    <tr>\n",
       "      <th>2</th>\n",
       "      <td>ZFIN:ZDB-GENE-040426-1197</td>\n",
       "      <td>ORTH</td>\n",
       "      <td>tbc1d5</td>\n",
       "      <td>5</td>\n",
       "    </tr>\n",
       "    <tr>\n",
       "      <th>3</th>\n",
       "      <td>5</td>\n",
       "      <td>DRUG</td>\n",
       "      <td>(S)-nicardipine</td>\n",
       "      <td>2</td>\n",
       "    </tr>\n",
       "    <tr>\n",
       "      <th>4</th>\n",
       "      <td>RGD:3443</td>\n",
       "      <td>ORTH</td>\n",
       "      <td>Ptk2</td>\n",
       "      <td>5</td>\n",
       "    </tr>\n",
       "    <tr>\n",
       "      <th>...</th>\n",
       "      <td>...</td>\n",
       "      <td>...</td>\n",
       "      <td>...</td>\n",
       "      <td>...</td>\n",
       "    </tr>\n",
       "    <tr>\n",
       "      <th>10029</th>\n",
       "      <td>MP:0009763</td>\n",
       "      <td>DISO</td>\n",
       "      <td>increased sensitivity to induced morbidity/mor...</td>\n",
       "      <td>1</td>\n",
       "    </tr>\n",
       "    <tr>\n",
       "      <th>10030</th>\n",
       "      <td>MP:0011057</td>\n",
       "      <td>DISO</td>\n",
       "      <td>absent brain ependyma motile cilia</td>\n",
       "      <td>1</td>\n",
       "    </tr>\n",
       "    <tr>\n",
       "      <th>10031</th>\n",
       "      <td>MP:0001412</td>\n",
       "      <td>DISO</td>\n",
       "      <td>excessive scratching</td>\n",
       "      <td>1</td>\n",
       "    </tr>\n",
       "    <tr>\n",
       "      <th>10032</th>\n",
       "      <td>WBPhenotype:0004023</td>\n",
       "      <td>DISO</td>\n",
       "      <td>frequency of body bend variant</td>\n",
       "      <td>1</td>\n",
       "    </tr>\n",
       "    <tr>\n",
       "      <th>10033</th>\n",
       "      <td>ClinVarVariant:858516</td>\n",
       "      <td>VARI</td>\n",
       "      <td>NM_004006.3(DMD):c.9852G&gt;A (p.Trp3284Ter)</td>\n",
       "      <td>7</td>\n",
       "    </tr>\n",
       "  </tbody>\n",
       "</table>\n",
       "<p>10034 rows × 4 columns</p>\n",
       "</div>"
      ],
      "text/plain": [
       "                              id semantic  \\\n",
       "0        WormBase:WBGene00000389     ORTH   \n",
       "1                     ZP:0018675     DISO   \n",
       "2      ZFIN:ZDB-GENE-040426-1197     ORTH   \n",
       "3                              5     DRUG   \n",
       "4                       RGD:3443     ORTH   \n",
       "...                          ...      ...   \n",
       "10029                 MP:0009763     DISO   \n",
       "10030                 MP:0011057     DISO   \n",
       "10031                 MP:0001412     DISO   \n",
       "10032        WBPhenotype:0004023     DISO   \n",
       "10033      ClinVarVariant:858516     VARI   \n",
       "\n",
       "                                                   label  semantic_id  \n",
       "0                                               cdc-25.4            5  \n",
       "1      right side lateral plate mesoderm mislocalised...            1  \n",
       "2                                                 tbc1d5            5  \n",
       "3                                        (S)-nicardipine            2  \n",
       "4                                                   Ptk2            5  \n",
       "...                                                  ...          ...  \n",
       "10029  increased sensitivity to induced morbidity/mor...            1  \n",
       "10030                 absent brain ependyma motile cilia            1  \n",
       "10031                               excessive scratching            1  \n",
       "10032                     frequency of body bend variant            1  \n",
       "10033          NM_004006.3(DMD):c.9852G>A (p.Trp3284Ter)            7  \n",
       "\n",
       "[10034 rows x 4 columns]"
      ]
     },
     "execution_count": 38,
     "metadata": {},
     "output_type": "execute_result"
    }
   ],
   "source": [
    "nodes"
   ]
  },
  {
   "attachments": {},
   "cell_type": "markdown",
   "metadata": {},
   "source": [
    "Define the score function"
   ]
  },
  {
   "cell_type": "code",
   "execution_count": 39,
   "metadata": {},
   "outputs": [],
   "source": [
    "def score(x, id1, id2): \n",
    "    n1 = x[id1]\n",
    "    n2 = x[id2]\n",
    "    score = torch.Tensor([torch.sum(n1 * n2, dim=-1)])\n",
    "    p = torch.sigmoid(score).cpu().detach().numpy()\n",
    "    return p\n",
    "\n",
    "def candidates(nodes, id, x): \n",
    "  ind = nodes[nodes['id'] == id].index.values.astype(int)[0]\n",
    "  predictions = nodes.copy()\n",
    "  scores = []\n",
    "  for i in range(len(x)):  \n",
    "    s = score(x, i, ind)\n",
    "    scores.append(s)\n",
    "  predictions['Score'] = scores\n",
    "  return predictions"
   ]
  },
  {
   "attachments": {},
   "cell_type": "markdown",
   "metadata": {},
   "source": [
    "Calculate the predictions of an edge existing or not between given node ID and each node in the graph contained by semantic group DRUG. Show the top 20 highest probability that an edge exists between a pair of nodes."
   ]
  },
  {
   "cell_type": "code",
   "execution_count": 40,
   "metadata": {},
   "outputs": [
    {
     "data": {
      "text/html": [
       "<div>\n",
       "<style scoped>\n",
       "    .dataframe tbody tr th:only-of-type {\n",
       "        vertical-align: middle;\n",
       "    }\n",
       "\n",
       "    .dataframe tbody tr th {\n",
       "        vertical-align: top;\n",
       "    }\n",
       "\n",
       "    .dataframe thead th {\n",
       "        text-align: right;\n",
       "    }\n",
       "</style>\n",
       "<table border=\"1\" class=\"dataframe\">\n",
       "  <thead>\n",
       "    <tr style=\"text-align: right;\">\n",
       "      <th></th>\n",
       "      <th>id</th>\n",
       "      <th>semantic</th>\n",
       "      <th>label</th>\n",
       "      <th>semantic_id</th>\n",
       "      <th>Score</th>\n",
       "    </tr>\n",
       "  </thead>\n",
       "  <tbody>\n",
       "    <tr>\n",
       "      <th>118</th>\n",
       "      <td>305</td>\n",
       "      <td>DRUG</td>\n",
       "      <td>bendroflumethiazide</td>\n",
       "      <td>2</td>\n",
       "      <td>[0.9469073]</td>\n",
       "    </tr>\n",
       "    <tr>\n",
       "      <th>130</th>\n",
       "      <td>332</td>\n",
       "      <td>DRUG</td>\n",
       "      <td>benzthiazide</td>\n",
       "      <td>2</td>\n",
       "      <td>[0.9440947]</td>\n",
       "    </tr>\n",
       "    <tr>\n",
       "      <th>722</th>\n",
       "      <td>2173</td>\n",
       "      <td>DRUG</td>\n",
       "      <td>pinacidil</td>\n",
       "      <td>2</td>\n",
       "      <td>[0.942548]</td>\n",
       "    </tr>\n",
       "    <tr>\n",
       "      <th>1420</th>\n",
       "      <td>4225</td>\n",
       "      <td>DRUG</td>\n",
       "      <td>axitinib</td>\n",
       "      <td>2</td>\n",
       "      <td>[0.93925303]</td>\n",
       "    </tr>\n",
       "    <tr>\n",
       "      <th>1782</th>\n",
       "      <td>5302</td>\n",
       "      <td>DRUG</td>\n",
       "      <td>lorlatinib</td>\n",
       "      <td>2</td>\n",
       "      <td>[0.9253675]</td>\n",
       "    </tr>\n",
       "    <tr>\n",
       "      <th>1456</th>\n",
       "      <td>4318</td>\n",
       "      <td>DRUG</td>\n",
       "      <td>afatinib</td>\n",
       "      <td>2</td>\n",
       "      <td>[0.9218051]</td>\n",
       "    </tr>\n",
       "    <tr>\n",
       "      <th>1796</th>\n",
       "      <td>5345</td>\n",
       "      <td>DRUG</td>\n",
       "      <td>entrectinib</td>\n",
       "      <td>2</td>\n",
       "      <td>[0.91846013]</td>\n",
       "    </tr>\n",
       "    <tr>\n",
       "      <th>1772</th>\n",
       "      <td>5252</td>\n",
       "      <td>DRUG</td>\n",
       "      <td>neratinib</td>\n",
       "      <td>2</td>\n",
       "      <td>[0.9164376]</td>\n",
       "    </tr>\n",
       "    <tr>\n",
       "      <th>204</th>\n",
       "      <td>606</td>\n",
       "      <td>DRUG</td>\n",
       "      <td>chloropyramine</td>\n",
       "      <td>2</td>\n",
       "      <td>[0.9158046]</td>\n",
       "    </tr>\n",
       "    <tr>\n",
       "      <th>1408</th>\n",
       "      <td>4187</td>\n",
       "      <td>DRUG</td>\n",
       "      <td>crizotinib</td>\n",
       "      <td>2</td>\n",
       "      <td>[0.9137534]</td>\n",
       "    </tr>\n",
       "    <tr>\n",
       "      <th>891</th>\n",
       "      <td>2666</td>\n",
       "      <td>DRUG</td>\n",
       "      <td>tiludronic acid</td>\n",
       "      <td>2</td>\n",
       "      <td>[0.90112096]</td>\n",
       "    </tr>\n",
       "    <tr>\n",
       "      <th>675</th>\n",
       "      <td>2052</td>\n",
       "      <td>DRUG</td>\n",
       "      <td>pancuronium</td>\n",
       "      <td>2</td>\n",
       "      <td>[0.8826856]</td>\n",
       "    </tr>\n",
       "    <tr>\n",
       "      <th>208</th>\n",
       "      <td>624</td>\n",
       "      <td>DRUG</td>\n",
       "      <td>chlortetracycline</td>\n",
       "      <td>2</td>\n",
       "      <td>[0.87291986]</td>\n",
       "    </tr>\n",
       "    <tr>\n",
       "      <th>1780</th>\n",
       "      <td>5297</td>\n",
       "      <td>DRUG</td>\n",
       "      <td>dacomitinib</td>\n",
       "      <td>2</td>\n",
       "      <td>[0.8680639]</td>\n",
       "    </tr>\n",
       "    <tr>\n",
       "      <th>1830</th>\n",
       "      <td>5431</td>\n",
       "      <td>DRUG</td>\n",
       "      <td>tirbanibulin</td>\n",
       "      <td>2</td>\n",
       "      <td>[0.84148335]</td>\n",
       "    </tr>\n",
       "    <tr>\n",
       "      <th>1634</th>\n",
       "      <td>4866</td>\n",
       "      <td>DRUG</td>\n",
       "      <td>ceritinib</td>\n",
       "      <td>2</td>\n",
       "      <td>[0.84102845]</td>\n",
       "    </tr>\n",
       "    <tr>\n",
       "      <th>1759</th>\n",
       "      <td>5211</td>\n",
       "      <td>DRUG</td>\n",
       "      <td>apatinib</td>\n",
       "      <td>2</td>\n",
       "      <td>[0.8403032]</td>\n",
       "    </tr>\n",
       "    <tr>\n",
       "      <th>1407</th>\n",
       "      <td>4178</td>\n",
       "      <td>DRUG</td>\n",
       "      <td>vandetanib</td>\n",
       "      <td>2</td>\n",
       "      <td>[0.83994484]</td>\n",
       "    </tr>\n",
       "    <tr>\n",
       "      <th>1841</th>\n",
       "      <td>5459</td>\n",
       "      <td>DRUG</td>\n",
       "      <td>infigratinib</td>\n",
       "      <td>2</td>\n",
       "      <td>[0.83858985]</td>\n",
       "    </tr>\n",
       "    <tr>\n",
       "      <th>1562</th>\n",
       "      <td>4633</td>\n",
       "      <td>DRUG</td>\n",
       "      <td>trabectedin</td>\n",
       "      <td>2</td>\n",
       "      <td>[0.83596474]</td>\n",
       "    </tr>\n",
       "  </tbody>\n",
       "</table>\n",
       "</div>"
      ],
      "text/plain": [
       "        id semantic                label  semantic_id         Score\n",
       "118    305     DRUG  bendroflumethiazide            2   [0.9469073]\n",
       "130    332     DRUG         benzthiazide            2   [0.9440947]\n",
       "722   2173     DRUG            pinacidil            2    [0.942548]\n",
       "1420  4225     DRUG             axitinib            2  [0.93925303]\n",
       "1782  5302     DRUG           lorlatinib            2   [0.9253675]\n",
       "1456  4318     DRUG             afatinib            2   [0.9218051]\n",
       "1796  5345     DRUG          entrectinib            2  [0.91846013]\n",
       "1772  5252     DRUG            neratinib            2   [0.9164376]\n",
       "204    606     DRUG       chloropyramine            2   [0.9158046]\n",
       "1408  4187     DRUG           crizotinib            2   [0.9137534]\n",
       "891   2666     DRUG      tiludronic acid            2  [0.90112096]\n",
       "675   2052     DRUG          pancuronium            2   [0.8826856]\n",
       "208    624     DRUG    chlortetracycline            2  [0.87291986]\n",
       "1780  5297     DRUG          dacomitinib            2   [0.8680639]\n",
       "1830  5431     DRUG         tirbanibulin            2  [0.84148335]\n",
       "1634  4866     DRUG            ceritinib            2  [0.84102845]\n",
       "1759  5211     DRUG             apatinib            2   [0.8403032]\n",
       "1407  4178     DRUG           vandetanib            2  [0.83994484]\n",
       "1841  5459     DRUG         infigratinib            2  [0.83858985]\n",
       "1562  4633     DRUG          trabectedin            2  [0.83596474]"
      ]
     },
     "execution_count": 40,
     "metadata": {},
     "output_type": "execute_result"
    }
   ],
   "source": [
    "if dataset_nr == 1:\n",
    "    drug_semantic = 'DRUG'\n",
    "else:\n",
    "    drug_semantic = 'drug'\n",
    "\n",
    "predictions = candidates(nodes, 'HP:0001265', best_x)\n",
    "predictions[predictions['semantic'] == drug_semantic].sort_values(by = ['Score'], ascending = False).head(20)"
   ]
  },
  {
   "attachments": {},
   "cell_type": "markdown",
   "metadata": {},
   "source": [
    "Use the node semantics dictionary"
   ]
  },
  {
   "cell_type": "code",
   "execution_count": 41,
   "metadata": {},
   "outputs": [
    {
     "data": {
      "text/plain": [
       "{5: 'ORTH',\n",
       " 1: 'DISO',\n",
       " 2: 'DRUG',\n",
       " 4: 'GENO',\n",
       " 7: 'VARI',\n",
       " 3: 'GENE',\n",
       " 0: 'ANAT',\n",
       " 6: 'PHYS'}"
      ]
     },
     "execution_count": 41,
     "metadata": {},
     "output_type": "execute_result"
    }
   ],
   "source": [
    "node_semantics = nodes[['semantic', 'semantic_id']].drop_duplicates().set_index('semantic_id').to_dict()\n",
    "node_semantics_dict = node_semantics['semantic']\n",
    "node_semantics_dict"
   ]
  },
  {
   "attachments": {},
   "cell_type": "markdown",
   "metadata": {},
   "source": [
    "Get all phenotypes and diseases relevant to the disease."
   ]
  },
  {
   "cell_type": "code",
   "execution_count": 42,
   "metadata": {},
   "outputs": [
    {
     "name": "stdout",
     "output_type": "stream",
     "text": [
      "A total of 27 symptoms found that are associated with MONDO:0010679\n"
     ]
    },
    {
     "data": {
      "text/html": [
       "<div>\n",
       "<style scoped>\n",
       "    .dataframe tbody tr th:only-of-type {\n",
       "        vertical-align: middle;\n",
       "    }\n",
       "\n",
       "    .dataframe tbody tr th {\n",
       "        vertical-align: top;\n",
       "    }\n",
       "\n",
       "    .dataframe thead th {\n",
       "        text-align: right;\n",
       "    }\n",
       "</style>\n",
       "<table border=\"1\" class=\"dataframe\">\n",
       "  <thead>\n",
       "    <tr style=\"text-align: right;\">\n",
       "      <th></th>\n",
       "      <th>head</th>\n",
       "      <th>label_head</th>\n",
       "      <th>class_head</th>\n",
       "      <th>index_head</th>\n",
       "      <th>relation</th>\n",
       "      <th>tail</th>\n",
       "      <th>label_tail</th>\n",
       "      <th>class_tail</th>\n",
       "      <th>index_tail</th>\n",
       "      <th>type</th>\n",
       "    </tr>\n",
       "  </thead>\n",
       "  <tbody>\n",
       "    <tr>\n",
       "      <th>37667</th>\n",
       "      <td>MONDO:0010679</td>\n",
       "      <td>Duchenne muscular dystrophy</td>\n",
       "      <td>1</td>\n",
       "      <td>6315</td>\n",
       "      <td>has phenotype</td>\n",
       "      <td>HP:0011675</td>\n",
       "      <td>Arrhythmia</td>\n",
       "      <td>1</td>\n",
       "      <td>9512</td>\n",
       "      <td>4</td>\n",
       "    </tr>\n",
       "    <tr>\n",
       "      <th>37668</th>\n",
       "      <td>MONDO:0010679</td>\n",
       "      <td>Duchenne muscular dystrophy</td>\n",
       "      <td>1</td>\n",
       "      <td>6315</td>\n",
       "      <td>has phenotype</td>\n",
       "      <td>HP:0002515</td>\n",
       "      <td>Waddling gait</td>\n",
       "      <td>1</td>\n",
       "      <td>552</td>\n",
       "      <td>4</td>\n",
       "    </tr>\n",
       "    <tr>\n",
       "      <th>37670</th>\n",
       "      <td>MONDO:0010679</td>\n",
       "      <td>Duchenne muscular dystrophy</td>\n",
       "      <td>1</td>\n",
       "      <td>6315</td>\n",
       "      <td>has phenotype</td>\n",
       "      <td>HP:0003236</td>\n",
       "      <td>Elevated serum creatine kinase</td>\n",
       "      <td>1</td>\n",
       "      <td>1990</td>\n",
       "      <td>4</td>\n",
       "    </tr>\n",
       "    <tr>\n",
       "      <th>37671</th>\n",
       "      <td>MONDO:0010679</td>\n",
       "      <td>Duchenne muscular dystrophy</td>\n",
       "      <td>1</td>\n",
       "      <td>6315</td>\n",
       "      <td>has phenotype</td>\n",
       "      <td>HP:0002093</td>\n",
       "      <td>Respiratory insufficiency</td>\n",
       "      <td>1</td>\n",
       "      <td>4440</td>\n",
       "      <td>4</td>\n",
       "    </tr>\n",
       "    <tr>\n",
       "      <th>37672</th>\n",
       "      <td>MONDO:0010679</td>\n",
       "      <td>Duchenne muscular dystrophy</td>\n",
       "      <td>1</td>\n",
       "      <td>6315</td>\n",
       "      <td>has phenotype</td>\n",
       "      <td>HP:0003707</td>\n",
       "      <td>Calf muscle pseudohypertrophy</td>\n",
       "      <td>1</td>\n",
       "      <td>357</td>\n",
       "      <td>4</td>\n",
       "    </tr>\n",
       "    <tr>\n",
       "      <th>37673</th>\n",
       "      <td>MONDO:0010679</td>\n",
       "      <td>Duchenne muscular dystrophy</td>\n",
       "      <td>1</td>\n",
       "      <td>6315</td>\n",
       "      <td>has phenotype</td>\n",
       "      <td>HP:0001256</td>\n",
       "      <td>Intellectual disability, mild</td>\n",
       "      <td>1</td>\n",
       "      <td>4247</td>\n",
       "      <td>4</td>\n",
       "    </tr>\n",
       "    <tr>\n",
       "      <th>37674</th>\n",
       "      <td>MONDO:0010679</td>\n",
       "      <td>Duchenne muscular dystrophy</td>\n",
       "      <td>1</td>\n",
       "      <td>6315</td>\n",
       "      <td>has phenotype</td>\n",
       "      <td>HP:0003701</td>\n",
       "      <td>Proximal muscle weakness</td>\n",
       "      <td>1</td>\n",
       "      <td>5299</td>\n",
       "      <td>4</td>\n",
       "    </tr>\n",
       "    <tr>\n",
       "      <th>37675</th>\n",
       "      <td>MONDO:0010679</td>\n",
       "      <td>Duchenne muscular dystrophy</td>\n",
       "      <td>1</td>\n",
       "      <td>6315</td>\n",
       "      <td>has phenotype</td>\n",
       "      <td>HP:0003202</td>\n",
       "      <td>Skeletal muscle atrophy</td>\n",
       "      <td>1</td>\n",
       "      <td>4453</td>\n",
       "      <td>4</td>\n",
       "    </tr>\n",
       "    <tr>\n",
       "      <th>37676</th>\n",
       "      <td>MONDO:0010679</td>\n",
       "      <td>Duchenne muscular dystrophy</td>\n",
       "      <td>1</td>\n",
       "      <td>6315</td>\n",
       "      <td>has phenotype</td>\n",
       "      <td>HP:0003560</td>\n",
       "      <td>Muscular dystrophy</td>\n",
       "      <td>1</td>\n",
       "      <td>2788</td>\n",
       "      <td>4</td>\n",
       "    </tr>\n",
       "    <tr>\n",
       "      <th>37677</th>\n",
       "      <td>MONDO:0010679</td>\n",
       "      <td>Duchenne muscular dystrophy</td>\n",
       "      <td>1</td>\n",
       "      <td>6315</td>\n",
       "      <td>has phenotype</td>\n",
       "      <td>HP:0003391</td>\n",
       "      <td>Gowers sign</td>\n",
       "      <td>1</td>\n",
       "      <td>3055</td>\n",
       "      <td>4</td>\n",
       "    </tr>\n",
       "    <tr>\n",
       "      <th>37678</th>\n",
       "      <td>MONDO:0010679</td>\n",
       "      <td>Duchenne muscular dystrophy</td>\n",
       "      <td>1</td>\n",
       "      <td>6315</td>\n",
       "      <td>has phenotype</td>\n",
       "      <td>HP:0001635</td>\n",
       "      <td>Congestive heart failure</td>\n",
       "      <td>1</td>\n",
       "      <td>8053</td>\n",
       "      <td>4</td>\n",
       "    </tr>\n",
       "    <tr>\n",
       "      <th>37679</th>\n",
       "      <td>MONDO:0010679</td>\n",
       "      <td>Duchenne muscular dystrophy</td>\n",
       "      <td>1</td>\n",
       "      <td>6315</td>\n",
       "      <td>has phenotype</td>\n",
       "      <td>HP:0001328</td>\n",
       "      <td>Specific learning disability</td>\n",
       "      <td>1</td>\n",
       "      <td>6142</td>\n",
       "      <td>4</td>\n",
       "    </tr>\n",
       "    <tr>\n",
       "      <th>37680</th>\n",
       "      <td>MONDO:0010679</td>\n",
       "      <td>Duchenne muscular dystrophy</td>\n",
       "      <td>1</td>\n",
       "      <td>6315</td>\n",
       "      <td>has phenotype</td>\n",
       "      <td>HP:0003323</td>\n",
       "      <td>Progressive muscle weakness</td>\n",
       "      <td>1</td>\n",
       "      <td>616</td>\n",
       "      <td>4</td>\n",
       "    </tr>\n",
       "    <tr>\n",
       "      <th>37682</th>\n",
       "      <td>MONDO:0010679</td>\n",
       "      <td>Duchenne muscular dystrophy</td>\n",
       "      <td>1</td>\n",
       "      <td>6315</td>\n",
       "      <td>has phenotype</td>\n",
       "      <td>HP:0001371</td>\n",
       "      <td>Flexion contracture</td>\n",
       "      <td>1</td>\n",
       "      <td>4563</td>\n",
       "      <td>4</td>\n",
       "    </tr>\n",
       "    <tr>\n",
       "      <th>37683</th>\n",
       "      <td>MONDO:0010679</td>\n",
       "      <td>Duchenne muscular dystrophy</td>\n",
       "      <td>1</td>\n",
       "      <td>6315</td>\n",
       "      <td>has phenotype</td>\n",
       "      <td>HP:0002650</td>\n",
       "      <td>Scoliosis</td>\n",
       "      <td>1</td>\n",
       "      <td>4273</td>\n",
       "      <td>4</td>\n",
       "    </tr>\n",
       "    <tr>\n",
       "      <th>37684</th>\n",
       "      <td>MONDO:0010679</td>\n",
       "      <td>Duchenne muscular dystrophy</td>\n",
       "      <td>1</td>\n",
       "      <td>6315</td>\n",
       "      <td>has phenotype</td>\n",
       "      <td>HP:0003115</td>\n",
       "      <td>Abnormal EKG</td>\n",
       "      <td>1</td>\n",
       "      <td>2517</td>\n",
       "      <td>4</td>\n",
       "    </tr>\n",
       "    <tr>\n",
       "      <th>37685</th>\n",
       "      <td>MONDO:0010679</td>\n",
       "      <td>Duchenne muscular dystrophy</td>\n",
       "      <td>1</td>\n",
       "      <td>6315</td>\n",
       "      <td>has phenotype</td>\n",
       "      <td>HP:0001263</td>\n",
       "      <td>Global developmental delay</td>\n",
       "      <td>1</td>\n",
       "      <td>7687</td>\n",
       "      <td>4</td>\n",
       "    </tr>\n",
       "    <tr>\n",
       "      <th>37686</th>\n",
       "      <td>MONDO:0010679</td>\n",
       "      <td>Duchenne muscular dystrophy</td>\n",
       "      <td>1</td>\n",
       "      <td>6315</td>\n",
       "      <td>has phenotype</td>\n",
       "      <td>HP:0008981</td>\n",
       "      <td>Calf muscle hypertrophy</td>\n",
       "      <td>1</td>\n",
       "      <td>5376</td>\n",
       "      <td>4</td>\n",
       "    </tr>\n",
       "    <tr>\n",
       "      <th>37687</th>\n",
       "      <td>MONDO:0010679</td>\n",
       "      <td>Duchenne muscular dystrophy</td>\n",
       "      <td>1</td>\n",
       "      <td>6315</td>\n",
       "      <td>has phenotype</td>\n",
       "      <td>HP:0001638</td>\n",
       "      <td>Cardiomyopathy</td>\n",
       "      <td>1</td>\n",
       "      <td>1379</td>\n",
       "      <td>4</td>\n",
       "    </tr>\n",
       "    <tr>\n",
       "      <th>37688</th>\n",
       "      <td>MONDO:0010679</td>\n",
       "      <td>Duchenne muscular dystrophy</td>\n",
       "      <td>1</td>\n",
       "      <td>6315</td>\n",
       "      <td>has phenotype</td>\n",
       "      <td>HP:0003307</td>\n",
       "      <td>Hyperlordosis</td>\n",
       "      <td>1</td>\n",
       "      <td>9142</td>\n",
       "      <td>4</td>\n",
       "    </tr>\n",
       "    <tr>\n",
       "      <th>37689</th>\n",
       "      <td>MONDO:0010679</td>\n",
       "      <td>Duchenne muscular dystrophy</td>\n",
       "      <td>1</td>\n",
       "      <td>6315</td>\n",
       "      <td>has phenotype</td>\n",
       "      <td>HP:0000750</td>\n",
       "      <td>Delayed speech and language development</td>\n",
       "      <td>1</td>\n",
       "      <td>6575</td>\n",
       "      <td>4</td>\n",
       "    </tr>\n",
       "    <tr>\n",
       "      <th>37690</th>\n",
       "      <td>MONDO:0010679</td>\n",
       "      <td>Duchenne muscular dystrophy</td>\n",
       "      <td>1</td>\n",
       "      <td>6315</td>\n",
       "      <td>has phenotype</td>\n",
       "      <td>HP:0001265</td>\n",
       "      <td>Hyporeflexia</td>\n",
       "      <td>1</td>\n",
       "      <td>9965</td>\n",
       "      <td>4</td>\n",
       "    </tr>\n",
       "    <tr>\n",
       "      <th>37691</th>\n",
       "      <td>MONDO:0010679</td>\n",
       "      <td>Duchenne muscular dystrophy</td>\n",
       "      <td>1</td>\n",
       "      <td>6315</td>\n",
       "      <td>has phenotype</td>\n",
       "      <td>HP:0001644</td>\n",
       "      <td>Dilated cardiomyopathy</td>\n",
       "      <td>1</td>\n",
       "      <td>3067</td>\n",
       "      <td>4</td>\n",
       "    </tr>\n",
       "    <tr>\n",
       "      <th>37692</th>\n",
       "      <td>MONDO:0010679</td>\n",
       "      <td>Duchenne muscular dystrophy</td>\n",
       "      <td>1</td>\n",
       "      <td>6315</td>\n",
       "      <td>has phenotype</td>\n",
       "      <td>HP:0001270</td>\n",
       "      <td>Motor delay</td>\n",
       "      <td>1</td>\n",
       "      <td>1333</td>\n",
       "      <td>4</td>\n",
       "    </tr>\n",
       "    <tr>\n",
       "      <th>37693</th>\n",
       "      <td>MONDO:0010679</td>\n",
       "      <td>Duchenne muscular dystrophy</td>\n",
       "      <td>1</td>\n",
       "      <td>6315</td>\n",
       "      <td>has phenotype</td>\n",
       "      <td>HP:0001290</td>\n",
       "      <td>Generalized hypotonia</td>\n",
       "      <td>1</td>\n",
       "      <td>5347</td>\n",
       "      <td>4</td>\n",
       "    </tr>\n",
       "    <tr>\n",
       "      <th>37694</th>\n",
       "      <td>MONDO:0010679</td>\n",
       "      <td>Duchenne muscular dystrophy</td>\n",
       "      <td>1</td>\n",
       "      <td>6315</td>\n",
       "      <td>has phenotype</td>\n",
       "      <td>HP:0100543</td>\n",
       "      <td>Cognitive impairment</td>\n",
       "      <td>1</td>\n",
       "      <td>9833</td>\n",
       "      <td>4</td>\n",
       "    </tr>\n",
       "    <tr>\n",
       "      <th>37695</th>\n",
       "      <td>MONDO:0010679</td>\n",
       "      <td>Duchenne muscular dystrophy</td>\n",
       "      <td>1</td>\n",
       "      <td>6315</td>\n",
       "      <td>has phenotype</td>\n",
       "      <td>HP:0002791</td>\n",
       "      <td>Hypoventilation</td>\n",
       "      <td>1</td>\n",
       "      <td>1270</td>\n",
       "      <td>4</td>\n",
       "    </tr>\n",
       "  </tbody>\n",
       "</table>\n",
       "</div>"
      ],
      "text/plain": [
       "                head                   label_head  class_head  index_head  \\\n",
       "37667  MONDO:0010679  Duchenne muscular dystrophy           1        6315   \n",
       "37668  MONDO:0010679  Duchenne muscular dystrophy           1        6315   \n",
       "37670  MONDO:0010679  Duchenne muscular dystrophy           1        6315   \n",
       "37671  MONDO:0010679  Duchenne muscular dystrophy           1        6315   \n",
       "37672  MONDO:0010679  Duchenne muscular dystrophy           1        6315   \n",
       "37673  MONDO:0010679  Duchenne muscular dystrophy           1        6315   \n",
       "37674  MONDO:0010679  Duchenne muscular dystrophy           1        6315   \n",
       "37675  MONDO:0010679  Duchenne muscular dystrophy           1        6315   \n",
       "37676  MONDO:0010679  Duchenne muscular dystrophy           1        6315   \n",
       "37677  MONDO:0010679  Duchenne muscular dystrophy           1        6315   \n",
       "37678  MONDO:0010679  Duchenne muscular dystrophy           1        6315   \n",
       "37679  MONDO:0010679  Duchenne muscular dystrophy           1        6315   \n",
       "37680  MONDO:0010679  Duchenne muscular dystrophy           1        6315   \n",
       "37682  MONDO:0010679  Duchenne muscular dystrophy           1        6315   \n",
       "37683  MONDO:0010679  Duchenne muscular dystrophy           1        6315   \n",
       "37684  MONDO:0010679  Duchenne muscular dystrophy           1        6315   \n",
       "37685  MONDO:0010679  Duchenne muscular dystrophy           1        6315   \n",
       "37686  MONDO:0010679  Duchenne muscular dystrophy           1        6315   \n",
       "37687  MONDO:0010679  Duchenne muscular dystrophy           1        6315   \n",
       "37688  MONDO:0010679  Duchenne muscular dystrophy           1        6315   \n",
       "37689  MONDO:0010679  Duchenne muscular dystrophy           1        6315   \n",
       "37690  MONDO:0010679  Duchenne muscular dystrophy           1        6315   \n",
       "37691  MONDO:0010679  Duchenne muscular dystrophy           1        6315   \n",
       "37692  MONDO:0010679  Duchenne muscular dystrophy           1        6315   \n",
       "37693  MONDO:0010679  Duchenne muscular dystrophy           1        6315   \n",
       "37694  MONDO:0010679  Duchenne muscular dystrophy           1        6315   \n",
       "37695  MONDO:0010679  Duchenne muscular dystrophy           1        6315   \n",
       "\n",
       "            relation        tail                               label_tail  \\\n",
       "37667  has phenotype  HP:0011675                               Arrhythmia   \n",
       "37668  has phenotype  HP:0002515                            Waddling gait   \n",
       "37670  has phenotype  HP:0003236           Elevated serum creatine kinase   \n",
       "37671  has phenotype  HP:0002093                Respiratory insufficiency   \n",
       "37672  has phenotype  HP:0003707            Calf muscle pseudohypertrophy   \n",
       "37673  has phenotype  HP:0001256            Intellectual disability, mild   \n",
       "37674  has phenotype  HP:0003701                 Proximal muscle weakness   \n",
       "37675  has phenotype  HP:0003202                  Skeletal muscle atrophy   \n",
       "37676  has phenotype  HP:0003560                       Muscular dystrophy   \n",
       "37677  has phenotype  HP:0003391                              Gowers sign   \n",
       "37678  has phenotype  HP:0001635                 Congestive heart failure   \n",
       "37679  has phenotype  HP:0001328             Specific learning disability   \n",
       "37680  has phenotype  HP:0003323              Progressive muscle weakness   \n",
       "37682  has phenotype  HP:0001371                      Flexion contracture   \n",
       "37683  has phenotype  HP:0002650                                Scoliosis   \n",
       "37684  has phenotype  HP:0003115                             Abnormal EKG   \n",
       "37685  has phenotype  HP:0001263               Global developmental delay   \n",
       "37686  has phenotype  HP:0008981                  Calf muscle hypertrophy   \n",
       "37687  has phenotype  HP:0001638                           Cardiomyopathy   \n",
       "37688  has phenotype  HP:0003307                            Hyperlordosis   \n",
       "37689  has phenotype  HP:0000750  Delayed speech and language development   \n",
       "37690  has phenotype  HP:0001265                             Hyporeflexia   \n",
       "37691  has phenotype  HP:0001644                   Dilated cardiomyopathy   \n",
       "37692  has phenotype  HP:0001270                              Motor delay   \n",
       "37693  has phenotype  HP:0001290                    Generalized hypotonia   \n",
       "37694  has phenotype  HP:0100543                     Cognitive impairment   \n",
       "37695  has phenotype  HP:0002791                          Hypoventilation   \n",
       "\n",
       "       class_tail  index_tail  type  \n",
       "37667           1        9512     4  \n",
       "37668           1         552     4  \n",
       "37670           1        1990     4  \n",
       "37671           1        4440     4  \n",
       "37672           1         357     4  \n",
       "37673           1        4247     4  \n",
       "37674           1        5299     4  \n",
       "37675           1        4453     4  \n",
       "37676           1        2788     4  \n",
       "37677           1        3055     4  \n",
       "37678           1        8053     4  \n",
       "37679           1        6142     4  \n",
       "37680           1         616     4  \n",
       "37682           1        4563     4  \n",
       "37683           1        4273     4  \n",
       "37684           1        2517     4  \n",
       "37685           1        7687     4  \n",
       "37686           1        5376     4  \n",
       "37687           1        1379     4  \n",
       "37688           1        9142     4  \n",
       "37689           1        6575     4  \n",
       "37690           1        9965     4  \n",
       "37691           1        3067     4  \n",
       "37692           1        1333     4  \n",
       "37693           1        5347     4  \n",
       "37694           1        9833     4  \n",
       "37695           1        1270     4  "
      ]
     },
     "execution_count": 42,
     "metadata": {},
     "output_type": "execute_result"
    }
   ],
   "source": [
    "if dataset_nr == 1:\n",
    "    pheno_rel = 'has phenotype'\n",
    "else:\n",
    "    pheno_rel = 'associated with phenotype'\n",
    "\n",
    "disease_ID = 'MONDO:0010679'\n",
    "relation_index = list(relation_labels).index(pheno_rel)\n",
    "\n",
    "symptoms = edges[(edges['head'] == 'MONDO:0010679') & (edges['type'] == relation_index)]\n",
    "\n",
    "print(f'A total of {symptoms.shape[0]} symptoms found that are associated with {disease_ID}')\n",
    "symptoms.head(symptoms.shape[0])"
   ]
  },
  {
   "attachments": {},
   "cell_type": "markdown",
   "metadata": {},
   "source": [
    "Check alignment between dataframes containing the associations and the nodes"
   ]
  },
  {
   "cell_type": "code",
   "execution_count": 43,
   "metadata": {},
   "outputs": [
    {
     "data": {
      "text/html": [
       "<div>\n",
       "<style scoped>\n",
       "    .dataframe tbody tr th:only-of-type {\n",
       "        vertical-align: middle;\n",
       "    }\n",
       "\n",
       "    .dataframe tbody tr th {\n",
       "        vertical-align: top;\n",
       "    }\n",
       "\n",
       "    .dataframe thead th {\n",
       "        text-align: right;\n",
       "    }\n",
       "</style>\n",
       "<table border=\"1\" class=\"dataframe\">\n",
       "  <thead>\n",
       "    <tr style=\"text-align: right;\">\n",
       "      <th></th>\n",
       "      <th>id</th>\n",
       "      <th>semantic</th>\n",
       "      <th>label</th>\n",
       "      <th>semantic_id</th>\n",
       "    </tr>\n",
       "  </thead>\n",
       "  <tbody>\n",
       "    <tr>\n",
       "      <th>6315</th>\n",
       "      <td>MONDO:0010679</td>\n",
       "      <td>DISO</td>\n",
       "      <td>Duchenne muscular dystrophy</td>\n",
       "      <td>1</td>\n",
       "    </tr>\n",
       "  </tbody>\n",
       "</table>\n",
       "</div>"
      ],
      "text/plain": [
       "                 id semantic                        label  semantic_id\n",
       "6315  MONDO:0010679     DISO  Duchenne muscular dystrophy            1"
      ]
     },
     "execution_count": 43,
     "metadata": {},
     "output_type": "execute_result"
    }
   ],
   "source": [
    "nodes.loc[[6315]]"
   ]
  },
  {
   "cell_type": "markdown",
   "metadata": {},
   "source": [
    "Get list of drugs that appear at least once in the top 3 of suggested drugs for an associated phenotype"
   ]
  },
  {
   "cell_type": "code",
   "execution_count": 44,
   "metadata": {},
   "outputs": [],
   "source": [
    "def add_drug_candidate(candidates, drug_name):\n",
    "    if drug_name in candidates:\n",
    "        candidates[drug_name] += 1\n",
    "    else:\n",
    "        candidates[drug_name] = 1\n",
    "        \n",
    "    return candidates\n",
    "\n",
    "drug_candidates = {}\n",
    "symptom_drugs = {}\n",
    "symptom_drugs_scores = []\n",
    "\n",
    "for ind, symptom in symptoms.iterrows(): \n",
    "    symptom_id = symptom['tail']\n",
    "    symptom_drugs[symptom_id] = []\n",
    "    \n",
    "    predictions = candidates(nodes, symptom_id, best_x)\n",
    "    ordered_predictions = predictions[predictions['semantic'] == drug_semantic].sort_values(by = ['Score'], ascending = False).head(3)\n",
    "    \n",
    "    for ind, drug in ordered_predictions.iterrows():\n",
    "        symptom_drugs_scores.append({'Symptom': symptom['label_tail'], 'Symptom ID': symptom['tail'], 'Drug Candidate': drug['label'], 'Score': drug['Score'][0]})\n",
    "        \n",
    "        symptom_drugs[symptom_id].append(drug['id'])\n",
    "        drug_candidates = add_drug_candidate(drug_candidates, drug['label'])"
   ]
  },
  {
   "cell_type": "code",
   "execution_count": 45,
   "metadata": {},
   "outputs": [
    {
     "data": {
      "text/html": [
       "<div>\n",
       "<style scoped>\n",
       "    .dataframe tbody tr th:only-of-type {\n",
       "        vertical-align: middle;\n",
       "    }\n",
       "\n",
       "    .dataframe tbody tr th {\n",
       "        vertical-align: top;\n",
       "    }\n",
       "\n",
       "    .dataframe thead th {\n",
       "        text-align: right;\n",
       "    }\n",
       "</style>\n",
       "<table border=\"1\" class=\"dataframe\">\n",
       "  <thead>\n",
       "    <tr style=\"text-align: right;\">\n",
       "      <th></th>\n",
       "      <th>Symptom</th>\n",
       "      <th>Symptom ID</th>\n",
       "      <th>Drug Candidate</th>\n",
       "      <th>Score</th>\n",
       "    </tr>\n",
       "  </thead>\n",
       "  <tbody>\n",
       "    <tr>\n",
       "      <th>0</th>\n",
       "      <td>Arrhythmia</td>\n",
       "      <td>HP:0011675</td>\n",
       "      <td>aprindine</td>\n",
       "      <td>0.816046</td>\n",
       "    </tr>\n",
       "    <tr>\n",
       "      <th>1</th>\n",
       "      <td>Arrhythmia</td>\n",
       "      <td>HP:0011675</td>\n",
       "      <td>levosimendan</td>\n",
       "      <td>0.737797</td>\n",
       "    </tr>\n",
       "    <tr>\n",
       "      <th>2</th>\n",
       "      <td>Arrhythmia</td>\n",
       "      <td>HP:0011675</td>\n",
       "      <td>nimodipine</td>\n",
       "      <td>0.714849</td>\n",
       "    </tr>\n",
       "    <tr>\n",
       "      <th>3</th>\n",
       "      <td>Waddling gait</td>\n",
       "      <td>HP:0002515</td>\n",
       "      <td>bendroflumethiazide</td>\n",
       "      <td>0.952554</td>\n",
       "    </tr>\n",
       "    <tr>\n",
       "      <th>4</th>\n",
       "      <td>Waddling gait</td>\n",
       "      <td>HP:0002515</td>\n",
       "      <td>benzthiazide</td>\n",
       "      <td>0.948568</td>\n",
       "    </tr>\n",
       "    <tr>\n",
       "      <th>...</th>\n",
       "      <td>...</td>\n",
       "      <td>...</td>\n",
       "      <td>...</td>\n",
       "      <td>...</td>\n",
       "    </tr>\n",
       "    <tr>\n",
       "      <th>76</th>\n",
       "      <td>Cognitive impairment</td>\n",
       "      <td>HP:0100543</td>\n",
       "      <td>lorlatinib</td>\n",
       "      <td>0.904213</td>\n",
       "    </tr>\n",
       "    <tr>\n",
       "      <th>77</th>\n",
       "      <td>Cognitive impairment</td>\n",
       "      <td>HP:0100543</td>\n",
       "      <td>entrectinib</td>\n",
       "      <td>0.898922</td>\n",
       "    </tr>\n",
       "    <tr>\n",
       "      <th>78</th>\n",
       "      <td>Hypoventilation</td>\n",
       "      <td>HP:0002791</td>\n",
       "      <td>lorlatinib</td>\n",
       "      <td>0.801382</td>\n",
       "    </tr>\n",
       "    <tr>\n",
       "      <th>79</th>\n",
       "      <td>Hypoventilation</td>\n",
       "      <td>HP:0002791</td>\n",
       "      <td>entrectinib</td>\n",
       "      <td>0.796696</td>\n",
       "    </tr>\n",
       "    <tr>\n",
       "      <th>80</th>\n",
       "      <td>Hypoventilation</td>\n",
       "      <td>HP:0002791</td>\n",
       "      <td>axitinib</td>\n",
       "      <td>0.796660</td>\n",
       "    </tr>\n",
       "  </tbody>\n",
       "</table>\n",
       "<p>81 rows × 4 columns</p>\n",
       "</div>"
      ],
      "text/plain": [
       "                 Symptom  Symptom ID       Drug Candidate     Score\n",
       "0             Arrhythmia  HP:0011675            aprindine  0.816046\n",
       "1             Arrhythmia  HP:0011675         levosimendan  0.737797\n",
       "2             Arrhythmia  HP:0011675           nimodipine  0.714849\n",
       "3          Waddling gait  HP:0002515  bendroflumethiazide  0.952554\n",
       "4          Waddling gait  HP:0002515         benzthiazide  0.948568\n",
       "..                   ...         ...                  ...       ...\n",
       "76  Cognitive impairment  HP:0100543           lorlatinib  0.904213\n",
       "77  Cognitive impairment  HP:0100543          entrectinib  0.898922\n",
       "78       Hypoventilation  HP:0002791           lorlatinib  0.801382\n",
       "79       Hypoventilation  HP:0002791          entrectinib  0.796696\n",
       "80       Hypoventilation  HP:0002791             axitinib  0.796660\n",
       "\n",
       "[81 rows x 4 columns]"
      ]
     },
     "execution_count": 45,
     "metadata": {},
     "output_type": "execute_result"
    }
   ],
   "source": [
    "symptom_drugs_scores_df = pd.DataFrame.from_dict(symptom_drugs_scores)\n",
    "symptom_drugs_scores_df.to_pickle(f'output/g{dataset_nr}_{embedding_method}/predictions/score_per_symptom_drug_pair_{dataset_nr}_{embedding_method}.pkl')\n",
    "\n",
    "symptom_drugs_scores_df"
   ]
  },
  {
   "cell_type": "markdown",
   "metadata": {},
   "source": [
    "Get list of drug candidate ids per relevant symptom id."
   ]
  },
  {
   "cell_type": "code",
   "execution_count": 46,
   "metadata": {},
   "outputs": [
    {
     "data": {
      "text/html": [
       "<div>\n",
       "<style scoped>\n",
       "    .dataframe tbody tr th:only-of-type {\n",
       "        vertical-align: middle;\n",
       "    }\n",
       "\n",
       "    .dataframe tbody tr th {\n",
       "        vertical-align: top;\n",
       "    }\n",
       "\n",
       "    .dataframe thead th {\n",
       "        text-align: right;\n",
       "    }\n",
       "</style>\n",
       "<table border=\"1\" class=\"dataframe\">\n",
       "  <thead>\n",
       "    <tr style=\"text-align: right;\">\n",
       "      <th></th>\n",
       "      <th>Symptom</th>\n",
       "      <th>Candidates</th>\n",
       "    </tr>\n",
       "  </thead>\n",
       "  <tbody>\n",
       "    <tr>\n",
       "      <th>0</th>\n",
       "      <td>HP:0011675</td>\n",
       "      <td>[231, 1576, 1937]</td>\n",
       "    </tr>\n",
       "    <tr>\n",
       "      <th>1</th>\n",
       "      <td>HP:0002515</td>\n",
       "      <td>[305, 332, 2173]</td>\n",
       "    </tr>\n",
       "    <tr>\n",
       "      <th>2</th>\n",
       "      <td>HP:0003236</td>\n",
       "      <td>[231, 305, 4318]</td>\n",
       "    </tr>\n",
       "    <tr>\n",
       "      <th>3</th>\n",
       "      <td>HP:0002093</td>\n",
       "      <td>[305, 332, 2173]</td>\n",
       "    </tr>\n",
       "    <tr>\n",
       "      <th>4</th>\n",
       "      <td>HP:0003707</td>\n",
       "      <td>[305, 2173, 332]</td>\n",
       "    </tr>\n",
       "    <tr>\n",
       "      <th>5</th>\n",
       "      <td>HP:0001256</td>\n",
       "      <td>[305, 2173, 332]</td>\n",
       "    </tr>\n",
       "    <tr>\n",
       "      <th>6</th>\n",
       "      <td>HP:0003701</td>\n",
       "      <td>[4225, 305, 332]</td>\n",
       "    </tr>\n",
       "    <tr>\n",
       "      <th>7</th>\n",
       "      <td>HP:0003202</td>\n",
       "      <td>[4225, 305, 332]</td>\n",
       "    </tr>\n",
       "    <tr>\n",
       "      <th>8</th>\n",
       "      <td>HP:0003560</td>\n",
       "      <td>[231, 624, 5359]</td>\n",
       "    </tr>\n",
       "    <tr>\n",
       "      <th>9</th>\n",
       "      <td>HP:0003391</td>\n",
       "      <td>[305, 332, 2173]</td>\n",
       "    </tr>\n",
       "    <tr>\n",
       "      <th>10</th>\n",
       "      <td>HP:0001635</td>\n",
       "      <td>[231, 624, 305]</td>\n",
       "    </tr>\n",
       "    <tr>\n",
       "      <th>11</th>\n",
       "      <td>HP:0001328</td>\n",
       "      <td>[305, 2173, 332]</td>\n",
       "    </tr>\n",
       "    <tr>\n",
       "      <th>12</th>\n",
       "      <td>HP:0003323</td>\n",
       "      <td>[231, 624, 4318]</td>\n",
       "    </tr>\n",
       "    <tr>\n",
       "      <th>13</th>\n",
       "      <td>HP:0001371</td>\n",
       "      <td>[305, 332, 2173]</td>\n",
       "    </tr>\n",
       "    <tr>\n",
       "      <th>14</th>\n",
       "      <td>HP:0002650</td>\n",
       "      <td>[305, 332, 2173]</td>\n",
       "    </tr>\n",
       "    <tr>\n",
       "      <th>15</th>\n",
       "      <td>HP:0003115</td>\n",
       "      <td>[231, 4318, 1576]</td>\n",
       "    </tr>\n",
       "    <tr>\n",
       "      <th>16</th>\n",
       "      <td>HP:0001263</td>\n",
       "      <td>[4225, 5302, 5345]</td>\n",
       "    </tr>\n",
       "    <tr>\n",
       "      <th>17</th>\n",
       "      <td>HP:0008981</td>\n",
       "      <td>[305, 332, 2173]</td>\n",
       "    </tr>\n",
       "    <tr>\n",
       "      <th>18</th>\n",
       "      <td>HP:0001638</td>\n",
       "      <td>[231, 4318, 305]</td>\n",
       "    </tr>\n",
       "    <tr>\n",
       "      <th>19</th>\n",
       "      <td>HP:0003307</td>\n",
       "      <td>[5302, 305, 5345]</td>\n",
       "    </tr>\n",
       "    <tr>\n",
       "      <th>20</th>\n",
       "      <td>HP:0000750</td>\n",
       "      <td>[4225, 5302, 5345]</td>\n",
       "    </tr>\n",
       "    <tr>\n",
       "      <th>21</th>\n",
       "      <td>HP:0001265</td>\n",
       "      <td>[305, 332, 2173]</td>\n",
       "    </tr>\n",
       "    <tr>\n",
       "      <th>22</th>\n",
       "      <td>HP:0001644</td>\n",
       "      <td>[231, 1576, 4318]</td>\n",
       "    </tr>\n",
       "    <tr>\n",
       "      <th>23</th>\n",
       "      <td>HP:0001270</td>\n",
       "      <td>[4225, 5302, 305]</td>\n",
       "    </tr>\n",
       "    <tr>\n",
       "      <th>24</th>\n",
       "      <td>HP:0001290</td>\n",
       "      <td>[305, 4225, 332]</td>\n",
       "    </tr>\n",
       "    <tr>\n",
       "      <th>25</th>\n",
       "      <td>HP:0100543</td>\n",
       "      <td>[4225, 5302, 5345]</td>\n",
       "    </tr>\n",
       "    <tr>\n",
       "      <th>26</th>\n",
       "      <td>HP:0002791</td>\n",
       "      <td>[5302, 5345, 4225]</td>\n",
       "    </tr>\n",
       "  </tbody>\n",
       "</table>\n",
       "</div>"
      ],
      "text/plain": [
       "       Symptom          Candidates\n",
       "0   HP:0011675   [231, 1576, 1937]\n",
       "1   HP:0002515    [305, 332, 2173]\n",
       "2   HP:0003236    [231, 305, 4318]\n",
       "3   HP:0002093    [305, 332, 2173]\n",
       "4   HP:0003707    [305, 2173, 332]\n",
       "5   HP:0001256    [305, 2173, 332]\n",
       "6   HP:0003701    [4225, 305, 332]\n",
       "7   HP:0003202    [4225, 305, 332]\n",
       "8   HP:0003560    [231, 624, 5359]\n",
       "9   HP:0003391    [305, 332, 2173]\n",
       "10  HP:0001635     [231, 624, 305]\n",
       "11  HP:0001328    [305, 2173, 332]\n",
       "12  HP:0003323    [231, 624, 4318]\n",
       "13  HP:0001371    [305, 332, 2173]\n",
       "14  HP:0002650    [305, 332, 2173]\n",
       "15  HP:0003115   [231, 4318, 1576]\n",
       "16  HP:0001263  [4225, 5302, 5345]\n",
       "17  HP:0008981    [305, 332, 2173]\n",
       "18  HP:0001638    [231, 4318, 305]\n",
       "19  HP:0003307   [5302, 305, 5345]\n",
       "20  HP:0000750  [4225, 5302, 5345]\n",
       "21  HP:0001265    [305, 332, 2173]\n",
       "22  HP:0001644   [231, 1576, 4318]\n",
       "23  HP:0001270   [4225, 5302, 305]\n",
       "24  HP:0001290    [305, 4225, 332]\n",
       "25  HP:0100543  [4225, 5302, 5345]\n",
       "26  HP:0002791  [5302, 5345, 4225]"
      ]
     },
     "execution_count": 46,
     "metadata": {},
     "output_type": "execute_result"
    }
   ],
   "source": [
    "symptom_drugs_df_dict = {\n",
    "    'Symptom': [],\n",
    "    'Candidates': [] \n",
    "}\n",
    "for key, val in symptom_drugs.items():\n",
    "    symptom_drugs_df_dict['Symptom'].append(key)\n",
    "    symptom_drugs_df_dict['Candidates'].append(val)\n",
    "    \n",
    "symptom_drugs_df = pd.DataFrame.from_dict(symptom_drugs_df_dict)\n",
    "symptom_drugs_df.to_pickle(f'output/g{dataset_nr}_{embedding_method}/predictions/candidates_per_symptom_{dataset_nr}_{embedding_method}.pkl')\n",
    "\n",
    "symptom_drugs_df"
   ]
  },
  {
   "cell_type": "markdown",
   "metadata": {},
   "source": [
    "Save dataframe as csv file with all drugs and their total of appearances as a candidate for one or more relevant symptoms."
   ]
  },
  {
   "cell_type": "code",
   "execution_count": 48,
   "metadata": {},
   "outputs": [
    {
     "data": {
      "text/html": [
       "<div>\n",
       "<style scoped>\n",
       "    .dataframe tbody tr th:only-of-type {\n",
       "        vertical-align: middle;\n",
       "    }\n",
       "\n",
       "    .dataframe tbody tr th {\n",
       "        vertical-align: top;\n",
       "    }\n",
       "\n",
       "    .dataframe thead th {\n",
       "        text-align: right;\n",
       "    }\n",
       "</style>\n",
       "<table border=\"1\" class=\"dataframe\">\n",
       "  <thead>\n",
       "    <tr style=\"text-align: right;\">\n",
       "      <th></th>\n",
       "      <th>Drug</th>\n",
       "      <th>Appearances</th>\n",
       "      <th>Percentage</th>\n",
       "    </tr>\n",
       "  </thead>\n",
       "  <tbody>\n",
       "    <tr>\n",
       "      <th>3</th>\n",
       "      <td>bendroflumethiazide</td>\n",
       "      <td>18</td>\n",
       "      <td>66.67%</td>\n",
       "    </tr>\n",
       "    <tr>\n",
       "      <th>4</th>\n",
       "      <td>benzthiazide</td>\n",
       "      <td>13</td>\n",
       "      <td>48.15%</td>\n",
       "    </tr>\n",
       "    <tr>\n",
       "      <th>5</th>\n",
       "      <td>pinacidil</td>\n",
       "      <td>10</td>\n",
       "      <td>37.04%</td>\n",
       "    </tr>\n",
       "    <tr>\n",
       "      <th>0</th>\n",
       "      <td>aprindine</td>\n",
       "      <td>8</td>\n",
       "      <td>29.63%</td>\n",
       "    </tr>\n",
       "    <tr>\n",
       "      <th>7</th>\n",
       "      <td>axitinib</td>\n",
       "      <td>8</td>\n",
       "      <td>29.63%</td>\n",
       "    </tr>\n",
       "    <tr>\n",
       "      <th>10</th>\n",
       "      <td>lorlatinib</td>\n",
       "      <td>6</td>\n",
       "      <td>22.22%</td>\n",
       "    </tr>\n",
       "    <tr>\n",
       "      <th>6</th>\n",
       "      <td>afatinib</td>\n",
       "      <td>5</td>\n",
       "      <td>18.52%</td>\n",
       "    </tr>\n",
       "    <tr>\n",
       "      <th>11</th>\n",
       "      <td>entrectinib</td>\n",
       "      <td>5</td>\n",
       "      <td>18.52%</td>\n",
       "    </tr>\n",
       "    <tr>\n",
       "      <th>1</th>\n",
       "      <td>levosimendan</td>\n",
       "      <td>3</td>\n",
       "      <td>11.11%</td>\n",
       "    </tr>\n",
       "    <tr>\n",
       "      <th>8</th>\n",
       "      <td>chlortetracycline</td>\n",
       "      <td>3</td>\n",
       "      <td>11.11%</td>\n",
       "    </tr>\n",
       "    <tr>\n",
       "      <th>2</th>\n",
       "      <td>nimodipine</td>\n",
       "      <td>1</td>\n",
       "      <td>3.70%</td>\n",
       "    </tr>\n",
       "    <tr>\n",
       "      <th>9</th>\n",
       "      <td>brilliant Blue G</td>\n",
       "      <td>1</td>\n",
       "      <td>3.70%</td>\n",
       "    </tr>\n",
       "  </tbody>\n",
       "</table>\n",
       "</div>"
      ],
      "text/plain": [
       "                   Drug  Appearances Percentage\n",
       "3   bendroflumethiazide           18     66.67%\n",
       "4          benzthiazide           13     48.15%\n",
       "5             pinacidil           10     37.04%\n",
       "0             aprindine            8     29.63%\n",
       "7              axitinib            8     29.63%\n",
       "10           lorlatinib            6     22.22%\n",
       "6              afatinib            5     18.52%\n",
       "11          entrectinib            5     18.52%\n",
       "1          levosimendan            3     11.11%\n",
       "8     chlortetracycline            3     11.11%\n",
       "2            nimodipine            1      3.70%\n",
       "9      brilliant Blue G            1      3.70%"
      ]
     },
     "execution_count": 48,
     "metadata": {},
     "output_type": "execute_result"
    }
   ],
   "source": [
    "drug_candidate_df_dict = {\n",
    "    'Drug': [],\n",
    "    'Appearances': [],\n",
    "    'Percentage': []\n",
    "}\n",
    "for key, val in drug_candidates.items():\n",
    "    drug_candidate_df_dict['Drug'].append(key)\n",
    "    drug_candidate_df_dict['Appearances'].append(val)\n",
    "    drug_candidate_df_dict['Percentage'].append(val/symptoms.shape[0]*100)\n",
    "    \n",
    "drug_candidates_df = pd.DataFrame.from_dict(drug_candidate_df_dict)\n",
    "drug_candidates_df['Percentage'] = drug_candidates_df['Percentage'].transform(lambda x: '{:,.2f}%'.format(x))\n",
    "drug_candidates_df = drug_candidates_df.sort_values(by = ['Appearances'], ascending = False)\n",
    "\n",
    "drug_candidates_df.to_pickle(f'output/g{dataset_nr}_{embedding_method}/predictions/drug_candidates_{dataset_nr}_{embedding_method}.pkl')\n",
    "\n",
    "drug_candidates_df"
   ]
  },
  {
   "attachments": {},
   "cell_type": "markdown",
   "metadata": {},
   "source": [
    "## Component Analysis"
   ]
  },
  {
   "cell_type": "code",
   "execution_count": 49,
   "metadata": {},
   "outputs": [],
   "source": [
    "X_data = best_x.detach().cpu().numpy()\n",
    "np.save(f'output/g{dataset_nr}_{embedding_method}/predictions/trained_node_embeddings_{dataset_nr}_{embedding_method}.npy', X_data)"
   ]
  },
  {
   "cell_type": "code",
   "execution_count": 50,
   "metadata": {},
   "outputs": [],
   "source": [
    "z = StandardScaler().fit_transform(X_data)"
   ]
  },
  {
   "attachments": {},
   "cell_type": "markdown",
   "metadata": {},
   "source": [
    "### PCA"
   ]
  },
  {
   "cell_type": "code",
   "execution_count": 51,
   "metadata": {},
   "outputs": [
    {
     "data": {
      "text/html": [
       "<div>\n",
       "<style scoped>\n",
       "    .dataframe tbody tr th:only-of-type {\n",
       "        vertical-align: middle;\n",
       "    }\n",
       "\n",
       "    .dataframe tbody tr th {\n",
       "        vertical-align: top;\n",
       "    }\n",
       "\n",
       "    .dataframe thead th {\n",
       "        text-align: right;\n",
       "    }\n",
       "</style>\n",
       "<table border=\"1\" class=\"dataframe\">\n",
       "  <thead>\n",
       "    <tr style=\"text-align: right;\">\n",
       "      <th></th>\n",
       "      <th>principal component 1</th>\n",
       "      <th>principal component 2</th>\n",
       "    </tr>\n",
       "  </thead>\n",
       "  <tbody>\n",
       "    <tr>\n",
       "      <th>0</th>\n",
       "      <td>1.077034</td>\n",
       "      <td>1.163235</td>\n",
       "    </tr>\n",
       "    <tr>\n",
       "      <th>1</th>\n",
       "      <td>-1.560189</td>\n",
       "      <td>0.525281</td>\n",
       "    </tr>\n",
       "    <tr>\n",
       "      <th>2</th>\n",
       "      <td>-0.723599</td>\n",
       "      <td>3.666001</td>\n",
       "    </tr>\n",
       "    <tr>\n",
       "      <th>3</th>\n",
       "      <td>-2.164823</td>\n",
       "      <td>-0.885990</td>\n",
       "    </tr>\n",
       "    <tr>\n",
       "      <th>4</th>\n",
       "      <td>5.191942</td>\n",
       "      <td>-1.193450</td>\n",
       "    </tr>\n",
       "    <tr>\n",
       "      <th>...</th>\n",
       "      <td>...</td>\n",
       "      <td>...</td>\n",
       "    </tr>\n",
       "    <tr>\n",
       "      <th>10029</th>\n",
       "      <td>2.632193</td>\n",
       "      <td>-2.216705</td>\n",
       "    </tr>\n",
       "    <tr>\n",
       "      <th>10030</th>\n",
       "      <td>-0.954447</td>\n",
       "      <td>-1.143895</td>\n",
       "    </tr>\n",
       "    <tr>\n",
       "      <th>10031</th>\n",
       "      <td>0.498098</td>\n",
       "      <td>-0.713005</td>\n",
       "    </tr>\n",
       "    <tr>\n",
       "      <th>10032</th>\n",
       "      <td>-1.851718</td>\n",
       "      <td>4.285497</td>\n",
       "    </tr>\n",
       "    <tr>\n",
       "      <th>10033</th>\n",
       "      <td>-1.157202</td>\n",
       "      <td>-2.494790</td>\n",
       "    </tr>\n",
       "  </tbody>\n",
       "</table>\n",
       "<p>10034 rows × 2 columns</p>\n",
       "</div>"
      ],
      "text/plain": [
       "       principal component 1  principal component 2\n",
       "0                   1.077034               1.163235\n",
       "1                  -1.560189               0.525281\n",
       "2                  -0.723599               3.666001\n",
       "3                  -2.164823              -0.885990\n",
       "4                   5.191942              -1.193450\n",
       "...                      ...                    ...\n",
       "10029               2.632193              -2.216705\n",
       "10030              -0.954447              -1.143895\n",
       "10031               0.498098              -0.713005\n",
       "10032              -1.851718               4.285497\n",
       "10033              -1.157202              -2.494790\n",
       "\n",
       "[10034 rows x 2 columns]"
      ]
     },
     "execution_count": 51,
     "metadata": {},
     "output_type": "execute_result"
    }
   ],
   "source": [
    "pca = PCA(n_components=32)\n",
    "princ_comp = pca.fit_transform(z)\n",
    "princ_df = pd.DataFrame(data=princ_comp[:, [0,1]], columns=['principal component 1', 'principal component 2'])\n",
    "princ_df"
   ]
  },
  {
   "attachments": {},
   "cell_type": "markdown",
   "metadata": {},
   "source": [
    "Based on plot below, choose the number of components for PCA analysis yielding an amount of variance close to 1.0."
   ]
  },
  {
   "cell_type": "code",
   "execution_count": 52,
   "metadata": {},
   "outputs": [
    {
     "data": {
      "image/png": "[encoded data removed]",
      "text/plain": [
       "<Figure size 640x480 with 1 Axes>"
      ]
     },
     "metadata": {},
     "output_type": "display_data"
    }
   ],
   "source": [
    "plt.plot(np.cumsum(pca.explained_variance_ratio_))\n",
    "plt.xlabel('number of components')\n",
    "plt.ylabel('cumulative explained variance')\n",
    "plt.show()"
   ]
  },
  {
   "cell_type": "code",
   "execution_count": 53,
   "metadata": {},
   "outputs": [
    {
     "data": {
      "text/html": [
       "<div>\n",
       "<style scoped>\n",
       "    .dataframe tbody tr th:only-of-type {\n",
       "        vertical-align: middle;\n",
       "    }\n",
       "\n",
       "    .dataframe tbody tr th {\n",
       "        vertical-align: top;\n",
       "    }\n",
       "\n",
       "    .dataframe thead th {\n",
       "        text-align: right;\n",
       "    }\n",
       "</style>\n",
       "<table border=\"1\" class=\"dataframe\">\n",
       "  <thead>\n",
       "    <tr style=\"text-align: right;\">\n",
       "      <th></th>\n",
       "      <th>principal component 1</th>\n",
       "      <th>principal component 2</th>\n",
       "      <th>semantic</th>\n",
       "    </tr>\n",
       "  </thead>\n",
       "  <tbody>\n",
       "    <tr>\n",
       "      <th>0</th>\n",
       "      <td>1.077034</td>\n",
       "      <td>1.163235</td>\n",
       "      <td>ORTH</td>\n",
       "    </tr>\n",
       "    <tr>\n",
       "      <th>1</th>\n",
       "      <td>-1.560189</td>\n",
       "      <td>0.525281</td>\n",
       "      <td>DISO</td>\n",
       "    </tr>\n",
       "    <tr>\n",
       "      <th>2</th>\n",
       "      <td>-0.723599</td>\n",
       "      <td>3.666001</td>\n",
       "      <td>ORTH</td>\n",
       "    </tr>\n",
       "    <tr>\n",
       "      <th>3</th>\n",
       "      <td>-2.164823</td>\n",
       "      <td>-0.885990</td>\n",
       "      <td>DRUG</td>\n",
       "    </tr>\n",
       "    <tr>\n",
       "      <th>4</th>\n",
       "      <td>5.191942</td>\n",
       "      <td>-1.193450</td>\n",
       "      <td>ORTH</td>\n",
       "    </tr>\n",
       "    <tr>\n",
       "      <th>...</th>\n",
       "      <td>...</td>\n",
       "      <td>...</td>\n",
       "      <td>...</td>\n",
       "    </tr>\n",
       "    <tr>\n",
       "      <th>10029</th>\n",
       "      <td>2.632193</td>\n",
       "      <td>-2.216705</td>\n",
       "      <td>DISO</td>\n",
       "    </tr>\n",
       "    <tr>\n",
       "      <th>10030</th>\n",
       "      <td>-0.954447</td>\n",
       "      <td>-1.143895</td>\n",
       "      <td>DISO</td>\n",
       "    </tr>\n",
       "    <tr>\n",
       "      <th>10031</th>\n",
       "      <td>0.498098</td>\n",
       "      <td>-0.713005</td>\n",
       "      <td>DISO</td>\n",
       "    </tr>\n",
       "    <tr>\n",
       "      <th>10032</th>\n",
       "      <td>-1.851718</td>\n",
       "      <td>4.285497</td>\n",
       "      <td>DISO</td>\n",
       "    </tr>\n",
       "    <tr>\n",
       "      <th>10033</th>\n",
       "      <td>-1.157202</td>\n",
       "      <td>-2.494790</td>\n",
       "      <td>VARI</td>\n",
       "    </tr>\n",
       "  </tbody>\n",
       "</table>\n",
       "<p>10034 rows × 3 columns</p>\n",
       "</div>"
      ],
      "text/plain": [
       "       principal component 1  principal component 2 semantic\n",
       "0                   1.077034               1.163235     ORTH\n",
       "1                  -1.560189               0.525281     DISO\n",
       "2                  -0.723599               3.666001     ORTH\n",
       "3                  -2.164823              -0.885990     DRUG\n",
       "4                   5.191942              -1.193450     ORTH\n",
       "...                      ...                    ...      ...\n",
       "10029               2.632193              -2.216705     DISO\n",
       "10030              -0.954447              -1.143895     DISO\n",
       "10031               0.498098              -0.713005     DISO\n",
       "10032              -1.851718               4.285497     DISO\n",
       "10033              -1.157202              -2.494790     VARI\n",
       "\n",
       "[10034 rows x 3 columns]"
      ]
     },
     "execution_count": 53,
     "metadata": {},
     "output_type": "execute_result"
    }
   ],
   "source": [
    "pca_df = pd.concat([princ_df, nodes[['semantic']]], axis=1)\n",
    "pca_df"
   ]
  },
  {
   "cell_type": "code",
   "execution_count": 54,
   "metadata": {},
   "outputs": [
    {
     "data": {
      "image/png": "[encoded data removed]",
      "text/plain": [
       "<Figure size 800x800 with 1 Axes>"
      ]
     },
     "metadata": {},
     "output_type": "display_data"
    }
   ],
   "source": [
    "fig = plt.figure(figsize = (8,8))\n",
    "ax = fig.add_subplot(1, 1, 1)\n",
    "ax.set_xlabel('Principal Component 1', fontsize = 15)\n",
    "ax.set_ylabel('Principal Component 2', fontsize = 15)\n",
    "ax.set_title(f'Two components from 32-PCA on dataset {dataset_nr} with method {embedding_method}', fontsize = 16)\n",
    "\n",
    "unique_node_semantics = list(node_semantic_dict.values())\n",
    "colors = ['silver', 'indianred', 'peru', 'gold', 'olivedrab', 'cadetblue', 'skyblue', 'steelblue', 'royalblue', 'mediumpurple', 'palevioletred', 'lightpink']\n",
    "\n",
    "for target, color in zip(unique_node_semantics, colors):\n",
    "    indicesToKeep = pca_df['semantic'] == target\n",
    "    ax.scatter(pca_df.loc[indicesToKeep, 'principal component 1'], pca_df.loc[indicesToKeep, 'principal component 2'], c = color, s = 50)\n",
    "    \n",
    "ax.legend(unique_node_semantics)\n",
    "ax.grid()\n",
    "\n",
    "plt.show()"
   ]
  },
  {
   "attachments": {},
   "cell_type": "markdown",
   "metadata": {},
   "source": [
    "### t-SNE"
   ]
  },
  {
   "cell_type": "code",
   "execution_count": 55,
   "metadata": {},
   "outputs": [],
   "source": [
    "X_tsne = TSNE(learning_rate=100, perplexity=40).fit_transform(X_data)"
   ]
  },
  {
   "cell_type": "code",
   "execution_count": 56,
   "metadata": {},
   "outputs": [
    {
     "data": {
      "text/html": [
       "<div>\n",
       "<style scoped>\n",
       "    .dataframe tbody tr th:only-of-type {\n",
       "        vertical-align: middle;\n",
       "    }\n",
       "\n",
       "    .dataframe tbody tr th {\n",
       "        vertical-align: top;\n",
       "    }\n",
       "\n",
       "    .dataframe thead th {\n",
       "        text-align: right;\n",
       "    }\n",
       "</style>\n",
       "<table border=\"1\" class=\"dataframe\">\n",
       "  <thead>\n",
       "    <tr style=\"text-align: right;\">\n",
       "      <th></th>\n",
       "      <th>t-SNE 1</th>\n",
       "      <th>t-SNE 2</th>\n",
       "    </tr>\n",
       "  </thead>\n",
       "  <tbody>\n",
       "    <tr>\n",
       "      <th>0</th>\n",
       "      <td>7.766109</td>\n",
       "      <td>18.634615</td>\n",
       "    </tr>\n",
       "    <tr>\n",
       "      <th>1</th>\n",
       "      <td>-26.917114</td>\n",
       "      <td>0.900415</td>\n",
       "    </tr>\n",
       "    <tr>\n",
       "      <th>2</th>\n",
       "      <td>-12.903838</td>\n",
       "      <td>22.959328</td>\n",
       "    </tr>\n",
       "    <tr>\n",
       "      <th>3</th>\n",
       "      <td>3.792521</td>\n",
       "      <td>-13.220274</td>\n",
       "    </tr>\n",
       "    <tr>\n",
       "      <th>4</th>\n",
       "      <td>21.345047</td>\n",
       "      <td>21.489883</td>\n",
       "    </tr>\n",
       "    <tr>\n",
       "      <th>...</th>\n",
       "      <td>...</td>\n",
       "      <td>...</td>\n",
       "    </tr>\n",
       "    <tr>\n",
       "      <th>10029</th>\n",
       "      <td>27.411968</td>\n",
       "      <td>9.425996</td>\n",
       "    </tr>\n",
       "    <tr>\n",
       "      <th>10030</th>\n",
       "      <td>34.919231</td>\n",
       "      <td>53.030533</td>\n",
       "    </tr>\n",
       "    <tr>\n",
       "      <th>10031</th>\n",
       "      <td>49.301880</td>\n",
       "      <td>-11.967586</td>\n",
       "    </tr>\n",
       "    <tr>\n",
       "      <th>10032</th>\n",
       "      <td>-5.362333</td>\n",
       "      <td>64.148552</td>\n",
       "    </tr>\n",
       "    <tr>\n",
       "      <th>10033</th>\n",
       "      <td>-32.856293</td>\n",
       "      <td>-61.873211</td>\n",
       "    </tr>\n",
       "  </tbody>\n",
       "</table>\n",
       "<p>10034 rows × 2 columns</p>\n",
       "</div>"
      ],
      "text/plain": [
       "         t-SNE 1    t-SNE 2\n",
       "0       7.766109  18.634615\n",
       "1     -26.917114   0.900415\n",
       "2     -12.903838  22.959328\n",
       "3       3.792521 -13.220274\n",
       "4      21.345047  21.489883\n",
       "...          ...        ...\n",
       "10029  27.411968   9.425996\n",
       "10030  34.919231  53.030533\n",
       "10031  49.301880 -11.967586\n",
       "10032  -5.362333  64.148552\n",
       "10033 -32.856293 -61.873211\n",
       "\n",
       "[10034 rows x 2 columns]"
      ]
     },
     "execution_count": 56,
     "metadata": {},
     "output_type": "execute_result"
    }
   ],
   "source": [
    "comp_tsne = pd.DataFrame(data=X_tsne, columns=['t-SNE 1', 't-SNE 2'])\n",
    "comp_tsne"
   ]
  },
  {
   "cell_type": "code",
   "execution_count": 57,
   "metadata": {},
   "outputs": [
    {
     "data": {
      "text/html": [
       "<div>\n",
       "<style scoped>\n",
       "    .dataframe tbody tr th:only-of-type {\n",
       "        vertical-align: middle;\n",
       "    }\n",
       "\n",
       "    .dataframe tbody tr th {\n",
       "        vertical-align: top;\n",
       "    }\n",
       "\n",
       "    .dataframe thead th {\n",
       "        text-align: right;\n",
       "    }\n",
       "</style>\n",
       "<table border=\"1\" class=\"dataframe\">\n",
       "  <thead>\n",
       "    <tr style=\"text-align: right;\">\n",
       "      <th></th>\n",
       "      <th>t-SNE 1</th>\n",
       "      <th>t-SNE 2</th>\n",
       "      <th>semantic</th>\n",
       "    </tr>\n",
       "  </thead>\n",
       "  <tbody>\n",
       "    <tr>\n",
       "      <th>0</th>\n",
       "      <td>7.766109</td>\n",
       "      <td>18.634615</td>\n",
       "      <td>ORTH</td>\n",
       "    </tr>\n",
       "    <tr>\n",
       "      <th>1</th>\n",
       "      <td>-26.917114</td>\n",
       "      <td>0.900415</td>\n",
       "      <td>DISO</td>\n",
       "    </tr>\n",
       "    <tr>\n",
       "      <th>2</th>\n",
       "      <td>-12.903838</td>\n",
       "      <td>22.959328</td>\n",
       "      <td>ORTH</td>\n",
       "    </tr>\n",
       "    <tr>\n",
       "      <th>3</th>\n",
       "      <td>3.792521</td>\n",
       "      <td>-13.220274</td>\n",
       "      <td>DRUG</td>\n",
       "    </tr>\n",
       "    <tr>\n",
       "      <th>4</th>\n",
       "      <td>21.345047</td>\n",
       "      <td>21.489883</td>\n",
       "      <td>ORTH</td>\n",
       "    </tr>\n",
       "    <tr>\n",
       "      <th>...</th>\n",
       "      <td>...</td>\n",
       "      <td>...</td>\n",
       "      <td>...</td>\n",
       "    </tr>\n",
       "    <tr>\n",
       "      <th>10029</th>\n",
       "      <td>27.411968</td>\n",
       "      <td>9.425996</td>\n",
       "      <td>DISO</td>\n",
       "    </tr>\n",
       "    <tr>\n",
       "      <th>10030</th>\n",
       "      <td>34.919231</td>\n",
       "      <td>53.030533</td>\n",
       "      <td>DISO</td>\n",
       "    </tr>\n",
       "    <tr>\n",
       "      <th>10031</th>\n",
       "      <td>49.301880</td>\n",
       "      <td>-11.967586</td>\n",
       "      <td>DISO</td>\n",
       "    </tr>\n",
       "    <tr>\n",
       "      <th>10032</th>\n",
       "      <td>-5.362333</td>\n",
       "      <td>64.148552</td>\n",
       "      <td>DISO</td>\n",
       "    </tr>\n",
       "    <tr>\n",
       "      <th>10033</th>\n",
       "      <td>-32.856293</td>\n",
       "      <td>-61.873211</td>\n",
       "      <td>VARI</td>\n",
       "    </tr>\n",
       "  </tbody>\n",
       "</table>\n",
       "<p>10034 rows × 3 columns</p>\n",
       "</div>"
      ],
      "text/plain": [
       "         t-SNE 1    t-SNE 2 semantic\n",
       "0       7.766109  18.634615     ORTH\n",
       "1     -26.917114   0.900415     DISO\n",
       "2     -12.903838  22.959328     ORTH\n",
       "3       3.792521 -13.220274     DRUG\n",
       "4      21.345047  21.489883     ORTH\n",
       "...          ...        ...      ...\n",
       "10029  27.411968   9.425996     DISO\n",
       "10030  34.919231  53.030533     DISO\n",
       "10031  49.301880 -11.967586     DISO\n",
       "10032  -5.362333  64.148552     DISO\n",
       "10033 -32.856293 -61.873211     VARI\n",
       "\n",
       "[10034 rows x 3 columns]"
      ]
     },
     "execution_count": 57,
     "metadata": {},
     "output_type": "execute_result"
    }
   ],
   "source": [
    "tsne_df = pd.concat([comp_tsne, nodes[['semantic']]], axis=1)\n",
    "tsne_df"
   ]
  },
  {
   "cell_type": "code",
   "execution_count": 58,
   "metadata": {},
   "outputs": [
    {
     "data": {
      "image/png": "[encoded data removed]",
      "text/plain": [
       "<Figure size 800x800 with 1 Axes>"
      ]
     },
     "metadata": {},
     "output_type": "display_data"
    }
   ],
   "source": [
    "fig = plt.figure(figsize = (8,8))\n",
    "ax = fig.add_subplot(1, 1, 1)\n",
    "ax.set_xlabel('Principal Component 1', fontsize = 15)\n",
    "ax.set_ylabel('Principal Component 2', fontsize = 15)\n",
    "ax.set_title(f'Two component t-SNE on dataset {dataset_nr} with method {embedding_method}', fontsize = 16)\n",
    "\n",
    "unique_node_semantics = list(node_semantic_dict.values())\n",
    "colors = ['silver', 'indianred', 'peru', 'gold', 'olivedrab', 'cadetblue', 'skyblue', 'steelblue', 'royalblue', 'mediumpurple', 'palevioletred', 'lightpink']\n",
    "\n",
    "for target, color in zip(unique_node_semantics, colors):\n",
    "    indicesToKeep = tsne_df['semantic'] == target\n",
    "    ax.scatter(tsne_df.loc[indicesToKeep, 't-SNE 1'], tsne_df.loc[indicesToKeep, 't-SNE 2'], c = color, s = 50)\n",
    "    \n",
    "ax.legend(unique_node_semantics)\n",
    "ax.grid()\n",
    "\n",
    "plt.show()"
   ]
  }
 ],
 "metadata": {
  "kernelspec": {
   "display_name": "xaifo",
   "language": "python",
   "name": "python3"
  },
  "language_info": {
   "codemirror_mode": {
    "name": "ipython",
    "version": 3
   },
   "file_extension": ".py",
   "mimetype": "text/x-python",
   "name": "python",
   "nbconvert_exporter": "python",
   "pygments_lexer": "ipython3",
   "version": "3.10.11"
  },
  "orig_nbformat": 4
 },
 "nbformat": 4,
 "nbformat_minor": 2
}
