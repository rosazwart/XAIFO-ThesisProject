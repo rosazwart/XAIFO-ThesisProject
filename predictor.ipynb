{
 "cells": [
  {
   "attachments": {},
   "cell_type": "markdown",
   "metadata": {},
   "source": [
    "# Import Libraries"
   ]
  },
  {
   "cell_type": "code",
   "execution_count": 1,
   "metadata": {},
   "outputs": [],
   "source": [
    "import pandas as pd\n",
    "import numpy as np\n",
    "import networkx as nx\n",
    "import copy\n",
    "import pickle\n",
    "\n",
    "import edge2vec.transition3 as transitions\n",
    "import edge2vec.edge2vec3 as edge2vec\n",
    "\n",
    "import torch\n",
    "import torch.nn as nn\n",
    "from torch.utils.data import DataLoader\n",
    "import torch.nn.functional as F\n",
    "\n",
    "from torch_geometric.nn import SAGEConv\n",
    "\n",
    "from deepsnap.dataset import GraphDataset\n",
    "from deepsnap.batch import Batch\n",
    "from deepsnap.graph import Graph\n",
    "\n",
    "from ray import tune\n",
    "from ray.tune.schedulers import ASHAScheduler\n",
    "\n",
    "from sklearn.metrics import roc_auc_score, roc_curve, f1_score, classification_report, confusion_matrix\n",
    "import matplotlib.pyplot as plt\n",
    "\n",
    "from gensim.models import KeyedVectors\n",
    "\n",
    "from sklearn.preprocessing import StandardScaler\n",
    "from sklearn.decomposition import PCA\n",
    "from sklearn.manifold import TSNE"
   ]
  },
  {
   "cell_type": "code",
   "execution_count": 2,
   "metadata": {},
   "outputs": [
    {
     "name": "stdout",
     "output_type": "stream",
     "text": [
      "Using device: cpu\n"
     ]
    }
   ],
   "source": [
    "torch_device = torch.device('cuda' if torch.cuda.is_available() else 'cpu')\n",
    "print('Using device:', torch_device)"
   ]
  },
  {
   "attachments": {},
   "cell_type": "markdown",
   "metadata": {},
   "source": [
    "# Load Data"
   ]
  },
  {
   "attachments": {},
   "cell_type": "markdown",
   "metadata": {},
   "source": [
    "Load all edges of the knowledge graph."
   ]
  },
  {
   "attachments": {},
   "cell_type": "markdown",
   "metadata": {},
   "source": [
    "Adapted by Rosa Zwart from Jupyter Notebooks found at https://github.com/PPerdomoQ/rare-disease-explainer"
   ]
  },
  {
   "cell_type": "code",
   "execution_count": 3,
   "metadata": {},
   "outputs": [
    {
     "data": {
      "text/html": [
       "<div>\n",
       "<style scoped>\n",
       "    .dataframe tbody tr th:only-of-type {\n",
       "        vertical-align: middle;\n",
       "    }\n",
       "\n",
       "    .dataframe tbody tr th {\n",
       "        vertical-align: top;\n",
       "    }\n",
       "\n",
       "    .dataframe thead th {\n",
       "        text-align: right;\n",
       "    }\n",
       "</style>\n",
       "<table border=\"1\" class=\"dataframe\">\n",
       "  <thead>\n",
       "    <tr style=\"text-align: right;\">\n",
       "      <th></th>\n",
       "      <th>id</th>\n",
       "      <th>subject</th>\n",
       "      <th>object</th>\n",
       "      <th>relation_id</th>\n",
       "      <th>relation_label</th>\n",
       "      <th>relation_iri</th>\n",
       "    </tr>\n",
       "  </thead>\n",
       "  <tbody>\n",
       "    <tr>\n",
       "      <th>0</th>\n",
       "      <td>3d6516a6-a46a-4a31-b3a3-26b99382fbaf</td>\n",
       "      <td>FlyBase:FBgn0011676</td>\n",
       "      <td>ENSEMBL:ENSCAFG00000009820</td>\n",
       "      <td>RO:HOM0000017</td>\n",
       "      <td>in orthology relationship with</td>\n",
       "      <td>http://purl.obolibrary.org/obo/RO_HOM0000017</td>\n",
       "    </tr>\n",
       "    <tr>\n",
       "      <th>1</th>\n",
       "      <td>5b3867c6-befd-4bad-b61c-97de75ae22c6</td>\n",
       "      <td>HGNC:12012</td>\n",
       "      <td>HGNC:11946</td>\n",
       "      <td>RO:0002434</td>\n",
       "      <td>interacts with</td>\n",
       "      <td>http://purl.obolibrary.org/obo/RO_0002434</td>\n",
       "    </tr>\n",
       "    <tr>\n",
       "      <th>2</th>\n",
       "      <td>a276b95d-2137-49a2-84fd-585298f81a1f</td>\n",
       "      <td>HGNC:15516</td>\n",
       "      <td>HP:0002650</td>\n",
       "      <td>RO:0003303</td>\n",
       "      <td>causes condition</td>\n",
       "      <td>http://purl.obolibrary.org/obo/RO_0003303</td>\n",
       "    </tr>\n",
       "    <tr>\n",
       "      <th>3</th>\n",
       "      <td>ff4c3b46-0c34-4e73-9754-5351221f4b40</td>\n",
       "      <td>WormBase:WBGene00000065</td>\n",
       "      <td>ENSEMBL:ENSOANG00000007850</td>\n",
       "      <td>RO:HOM0000017</td>\n",
       "      <td>in orthology relationship with</td>\n",
       "      <td>http://purl.obolibrary.org/obo/RO_HOM0000017</td>\n",
       "    </tr>\n",
       "    <tr>\n",
       "      <th>4</th>\n",
       "      <td>4f82bdff-cbcb-45b2-95d7-086b142257c9</td>\n",
       "      <td>HGNC:6485</td>\n",
       "      <td>HGNC:329</td>\n",
       "      <td>RO:0002434</td>\n",
       "      <td>interacts with</td>\n",
       "      <td>http://purl.obolibrary.org/obo/RO_0002434</td>\n",
       "    </tr>\n",
       "    <tr>\n",
       "      <th>5</th>\n",
       "      <td>48dee90f-a334-459b-8cbc-999bc745c49f</td>\n",
       "      <td>ENSEMBL:ENSECAG00000023844</td>\n",
       "      <td>ENSEMBL:ENSGALG00000042388</td>\n",
       "      <td>RO:HOM0000017</td>\n",
       "      <td>in orthology relationship with</td>\n",
       "      <td>http://purl.obolibrary.org/obo/RO_HOM0000017</td>\n",
       "    </tr>\n",
       "    <tr>\n",
       "      <th>6</th>\n",
       "      <td>657f2866-d1a5-405b-bd02-dec3964150d5</td>\n",
       "      <td>MGI:3621491</td>\n",
       "      <td>MP:0011966</td>\n",
       "      <td>RO:0003303</td>\n",
       "      <td>causes condition</td>\n",
       "      <td>http://purl.obolibrary.org/obo/RO_0003303</td>\n",
       "    </tr>\n",
       "    <tr>\n",
       "      <th>7</th>\n",
       "      <td>25a138d1-4498-4864-96c0-12c1f91ae493</td>\n",
       "      <td>MGI:1859649</td>\n",
       "      <td>ENSEMBL:ENSACAG00000001940</td>\n",
       "      <td>RO:HOM0000017</td>\n",
       "      <td>in orthology relationship with</td>\n",
       "      <td>http://purl.obolibrary.org/obo/RO_HOM0000017</td>\n",
       "    </tr>\n",
       "    <tr>\n",
       "      <th>8</th>\n",
       "      <td>439999a4-578f-4641-b022-90d2ea670eed</td>\n",
       "      <td>ClinVarVariant:803793</td>\n",
       "      <td>MONDO:0010679</td>\n",
       "      <td>RO:0003303</td>\n",
       "      <td>causes condition</td>\n",
       "      <td>http://purl.obolibrary.org/obo/RO_0003303</td>\n",
       "    </tr>\n",
       "    <tr>\n",
       "      <th>9</th>\n",
       "      <td>8b79b610-3a7b-4f87-af8c-47010bc60e69</td>\n",
       "      <td>PomBase:SPAC27F1.02c</td>\n",
       "      <td>RGD:1559479</td>\n",
       "      <td>RO:HOM0000017</td>\n",
       "      <td>in orthology relationship with</td>\n",
       "      <td>http://purl.obolibrary.org/obo/RO_HOM0000017</td>\n",
       "    </tr>\n",
       "  </tbody>\n",
       "</table>\n",
       "</div>"
      ],
      "text/plain": [
       "                                     id                     subject  \\\n",
       "0  3d6516a6-a46a-4a31-b3a3-26b99382fbaf         FlyBase:FBgn0011676   \n",
       "1  5b3867c6-befd-4bad-b61c-97de75ae22c6                  HGNC:12012   \n",
       "2  a276b95d-2137-49a2-84fd-585298f81a1f                  HGNC:15516   \n",
       "3  ff4c3b46-0c34-4e73-9754-5351221f4b40     WormBase:WBGene00000065   \n",
       "4  4f82bdff-cbcb-45b2-95d7-086b142257c9                   HGNC:6485   \n",
       "5  48dee90f-a334-459b-8cbc-999bc745c49f  ENSEMBL:ENSECAG00000023844   \n",
       "6  657f2866-d1a5-405b-bd02-dec3964150d5                 MGI:3621491   \n",
       "7  25a138d1-4498-4864-96c0-12c1f91ae493                 MGI:1859649   \n",
       "8  439999a4-578f-4641-b022-90d2ea670eed       ClinVarVariant:803793   \n",
       "9  8b79b610-3a7b-4f87-af8c-47010bc60e69        PomBase:SPAC27F1.02c   \n",
       "\n",
       "                       object    relation_id                  relation_label  \\\n",
       "0  ENSEMBL:ENSCAFG00000009820  RO:HOM0000017  in orthology relationship with   \n",
       "1                  HGNC:11946     RO:0002434                  interacts with   \n",
       "2                  HP:0002650     RO:0003303                causes condition   \n",
       "3  ENSEMBL:ENSOANG00000007850  RO:HOM0000017  in orthology relationship with   \n",
       "4                    HGNC:329     RO:0002434                  interacts with   \n",
       "5  ENSEMBL:ENSGALG00000042388  RO:HOM0000017  in orthology relationship with   \n",
       "6                  MP:0011966     RO:0003303                causes condition   \n",
       "7  ENSEMBL:ENSACAG00000001940  RO:HOM0000017  in orthology relationship with   \n",
       "8               MONDO:0010679     RO:0003303                causes condition   \n",
       "9                 RGD:1559479  RO:HOM0000017  in orthology relationship with   \n",
       "\n",
       "                                   relation_iri  \n",
       "0  http://purl.obolibrary.org/obo/RO_HOM0000017  \n",
       "1     http://purl.obolibrary.org/obo/RO_0002434  \n",
       "2     http://purl.obolibrary.org/obo/RO_0003303  \n",
       "3  http://purl.obolibrary.org/obo/RO_HOM0000017  \n",
       "4     http://purl.obolibrary.org/obo/RO_0002434  \n",
       "5  http://purl.obolibrary.org/obo/RO_HOM0000017  \n",
       "6     http://purl.obolibrary.org/obo/RO_0003303  \n",
       "7  http://purl.obolibrary.org/obo/RO_HOM0000017  \n",
       "8     http://purl.obolibrary.org/obo/RO_0003303  \n",
       "9  http://purl.obolibrary.org/obo/RO_HOM0000017  "
      ]
     },
     "execution_count": 3,
     "metadata": {},
     "output_type": "execute_result"
    }
   ],
   "source": [
    "edges = pd.read_csv('output/new_kg_edges.csv', header=0)\n",
    "edges.head(10)"
   ]
  },
  {
   "attachments": {},
   "cell_type": "markdown",
   "metadata": {},
   "source": [
    "Extract the relevant columns and rename these columns."
   ]
  },
  {
   "cell_type": "code",
   "execution_count": 4,
   "metadata": {},
   "outputs": [
    {
     "data": {
      "text/html": [
       "<div>\n",
       "<style scoped>\n",
       "    .dataframe tbody tr th:only-of-type {\n",
       "        vertical-align: middle;\n",
       "    }\n",
       "\n",
       "    .dataframe tbody tr th {\n",
       "        vertical-align: top;\n",
       "    }\n",
       "\n",
       "    .dataframe thead th {\n",
       "        text-align: right;\n",
       "    }\n",
       "</style>\n",
       "<table border=\"1\" class=\"dataframe\">\n",
       "  <thead>\n",
       "    <tr style=\"text-align: right;\">\n",
       "      <th></th>\n",
       "      <th>head</th>\n",
       "      <th>relation</th>\n",
       "      <th>tail</th>\n",
       "    </tr>\n",
       "  </thead>\n",
       "  <tbody>\n",
       "    <tr>\n",
       "      <th>0</th>\n",
       "      <td>FlyBase:FBgn0011676</td>\n",
       "      <td>in orthology relationship with</td>\n",
       "      <td>ENSEMBL:ENSCAFG00000009820</td>\n",
       "    </tr>\n",
       "    <tr>\n",
       "      <th>1</th>\n",
       "      <td>HGNC:12012</td>\n",
       "      <td>interacts with</td>\n",
       "      <td>HGNC:11946</td>\n",
       "    </tr>\n",
       "    <tr>\n",
       "      <th>2</th>\n",
       "      <td>HGNC:15516</td>\n",
       "      <td>causes condition</td>\n",
       "      <td>HP:0002650</td>\n",
       "    </tr>\n",
       "    <tr>\n",
       "      <th>3</th>\n",
       "      <td>WormBase:WBGene00000065</td>\n",
       "      <td>in orthology relationship with</td>\n",
       "      <td>ENSEMBL:ENSOANG00000007850</td>\n",
       "    </tr>\n",
       "    <tr>\n",
       "      <th>4</th>\n",
       "      <td>HGNC:6485</td>\n",
       "      <td>interacts with</td>\n",
       "      <td>HGNC:329</td>\n",
       "    </tr>\n",
       "    <tr>\n",
       "      <th>5</th>\n",
       "      <td>ENSEMBL:ENSECAG00000023844</td>\n",
       "      <td>in orthology relationship with</td>\n",
       "      <td>ENSEMBL:ENSGALG00000042388</td>\n",
       "    </tr>\n",
       "    <tr>\n",
       "      <th>6</th>\n",
       "      <td>MGI:3621491</td>\n",
       "      <td>causes condition</td>\n",
       "      <td>MP:0011966</td>\n",
       "    </tr>\n",
       "    <tr>\n",
       "      <th>7</th>\n",
       "      <td>MGI:1859649</td>\n",
       "      <td>in orthology relationship with</td>\n",
       "      <td>ENSEMBL:ENSACAG00000001940</td>\n",
       "    </tr>\n",
       "    <tr>\n",
       "      <th>8</th>\n",
       "      <td>ClinVarVariant:803793</td>\n",
       "      <td>causes condition</td>\n",
       "      <td>MONDO:0010679</td>\n",
       "    </tr>\n",
       "    <tr>\n",
       "      <th>9</th>\n",
       "      <td>PomBase:SPAC27F1.02c</td>\n",
       "      <td>in orthology relationship with</td>\n",
       "      <td>RGD:1559479</td>\n",
       "    </tr>\n",
       "  </tbody>\n",
       "</table>\n",
       "</div>"
      ],
      "text/plain": [
       "                         head                        relation  \\\n",
       "0         FlyBase:FBgn0011676  in orthology relationship with   \n",
       "1                  HGNC:12012                  interacts with   \n",
       "2                  HGNC:15516                causes condition   \n",
       "3     WormBase:WBGene00000065  in orthology relationship with   \n",
       "4                   HGNC:6485                  interacts with   \n",
       "5  ENSEMBL:ENSECAG00000023844  in orthology relationship with   \n",
       "6                 MGI:3621491                causes condition   \n",
       "7                 MGI:1859649  in orthology relationship with   \n",
       "8       ClinVarVariant:803793                causes condition   \n",
       "9        PomBase:SPAC27F1.02c  in orthology relationship with   \n",
       "\n",
       "                         tail  \n",
       "0  ENSEMBL:ENSCAFG00000009820  \n",
       "1                  HGNC:11946  \n",
       "2                  HP:0002650  \n",
       "3  ENSEMBL:ENSOANG00000007850  \n",
       "4                    HGNC:329  \n",
       "5  ENSEMBL:ENSGALG00000042388  \n",
       "6                  MP:0011966  \n",
       "7  ENSEMBL:ENSACAG00000001940  \n",
       "8               MONDO:0010679  \n",
       "9                 RGD:1559479  "
      ]
     },
     "execution_count": 4,
     "metadata": {},
     "output_type": "execute_result"
    }
   ],
   "source": [
    "edges = edges[['subject', 'relation_label', 'object']]\n",
    "edges.rename(columns={'subject': 'head', 'relation_label': 'relation', 'object': 'tail'}, inplace=True)\n",
    "edges.head(10)"
   ]
  },
  {
   "cell_type": "code",
   "execution_count": 5,
   "metadata": {},
   "outputs": [
    {
     "name": "stdout",
     "output_type": "stream",
     "text": [
      "There are 85954 edges\n"
     ]
    }
   ],
   "source": [
    "print(f'There are {edges.shape[0]} edges')"
   ]
  },
  {
   "attachments": {},
   "cell_type": "markdown",
   "metadata": {},
   "source": [
    "Load all nodes of the knowledge graph."
   ]
  },
  {
   "cell_type": "code",
   "execution_count": 6,
   "metadata": {},
   "outputs": [
    {
     "data": {
      "text/html": [
       "<div>\n",
       "<style scoped>\n",
       "    .dataframe tbody tr th:only-of-type {\n",
       "        vertical-align: middle;\n",
       "    }\n",
       "\n",
       "    .dataframe tbody tr th {\n",
       "        vertical-align: top;\n",
       "    }\n",
       "\n",
       "    .dataframe thead th {\n",
       "        text-align: right;\n",
       "    }\n",
       "</style>\n",
       "<table border=\"1\" class=\"dataframe\">\n",
       "  <thead>\n",
       "    <tr style=\"text-align: right;\">\n",
       "      <th></th>\n",
       "      <th>id</th>\n",
       "      <th>label</th>\n",
       "      <th>iri</th>\n",
       "      <th>semantic</th>\n",
       "      <th>index_id</th>\n",
       "    </tr>\n",
       "  </thead>\n",
       "  <tbody>\n",
       "    <tr>\n",
       "      <th>0</th>\n",
       "      <td>MP:0020358</td>\n",
       "      <td>abnormal inhibitory synapse morphology</td>\n",
       "      <td>http://purl.obolibrary.org/obo/MP_0020358</td>\n",
       "      <td>phenotype</td>\n",
       "      <td>0</td>\n",
       "    </tr>\n",
       "    <tr>\n",
       "      <th>1</th>\n",
       "      <td>HP:0000670</td>\n",
       "      <td>Carious teeth</td>\n",
       "      <td>http://purl.obolibrary.org/obo/HP_0000670</td>\n",
       "      <td>phenotype</td>\n",
       "      <td>1</td>\n",
       "    </tr>\n",
       "    <tr>\n",
       "      <th>2</th>\n",
       "      <td>ENSEMBL:ENSCAFG00000017522</td>\n",
       "      <td>ENSEMBL:ENSCAFG00000017522</td>\n",
       "      <td>http://ensembl.org/id/ENSCAFG00000017522</td>\n",
       "      <td>gene</td>\n",
       "      <td>2</td>\n",
       "    </tr>\n",
       "    <tr>\n",
       "      <th>3</th>\n",
       "      <td>ZFIN:ZDB-GENE-070705-188</td>\n",
       "      <td>chrm1b</td>\n",
       "      <td>http://zfin.org/ZDB-GENE-070705-188</td>\n",
       "      <td>gene</td>\n",
       "      <td>3</td>\n",
       "    </tr>\n",
       "    <tr>\n",
       "      <th>4</th>\n",
       "      <td>HP:0000544</td>\n",
       "      <td>External ophthalmoplegia</td>\n",
       "      <td>http://purl.obolibrary.org/obo/HP_0000544</td>\n",
       "      <td>phenotype</td>\n",
       "      <td>4</td>\n",
       "    </tr>\n",
       "    <tr>\n",
       "      <th>5</th>\n",
       "      <td>ZFIN:ZDB-GENE-040426-1146</td>\n",
       "      <td>traf3ip1</td>\n",
       "      <td>http://zfin.org/ZDB-GENE-040426-1146</td>\n",
       "      <td>gene</td>\n",
       "      <td>5</td>\n",
       "    </tr>\n",
       "    <tr>\n",
       "      <th>6</th>\n",
       "      <td>MP:0001900</td>\n",
       "      <td>impaired synaptic plasticity</td>\n",
       "      <td>http://purl.obolibrary.org/obo/MP_0001900</td>\n",
       "      <td>phenotype</td>\n",
       "      <td>6</td>\n",
       "    </tr>\n",
       "    <tr>\n",
       "      <th>7</th>\n",
       "      <td>ClinVarVariant:650539</td>\n",
       "      <td>NM_004006.2(DMD):c.6439-10_8217+32103dup</td>\n",
       "      <td>http://www.ncbi.nlm.nih.gov/clinvar/variation/...</td>\n",
       "      <td>variant</td>\n",
       "      <td>7</td>\n",
       "    </tr>\n",
       "    <tr>\n",
       "      <th>8</th>\n",
       "      <td>ZFIN:ZDB-GENE-070228-4</td>\n",
       "      <td>drp2</td>\n",
       "      <td>http://zfin.org/ZDB-GENE-070228-4</td>\n",
       "      <td>gene</td>\n",
       "      <td>8</td>\n",
       "    </tr>\n",
       "    <tr>\n",
       "      <th>9</th>\n",
       "      <td>HGNC:7611</td>\n",
       "      <td>MYOD1</td>\n",
       "      <td>https://www.genenames.org/data/gene-symbol-rep...</td>\n",
       "      <td>gene</td>\n",
       "      <td>9</td>\n",
       "    </tr>\n",
       "  </tbody>\n",
       "</table>\n",
       "</div>"
      ],
      "text/plain": [
       "                           id                                     label  \\\n",
       "0                  MP:0020358    abnormal inhibitory synapse morphology   \n",
       "1                  HP:0000670                             Carious teeth   \n",
       "2  ENSEMBL:ENSCAFG00000017522                ENSEMBL:ENSCAFG00000017522   \n",
       "3    ZFIN:ZDB-GENE-070705-188                                    chrm1b   \n",
       "4                  HP:0000544                  External ophthalmoplegia   \n",
       "5   ZFIN:ZDB-GENE-040426-1146                                  traf3ip1   \n",
       "6                  MP:0001900              impaired synaptic plasticity   \n",
       "7       ClinVarVariant:650539  NM_004006.2(DMD):c.6439-10_8217+32103dup   \n",
       "8      ZFIN:ZDB-GENE-070228-4                                      drp2   \n",
       "9                   HGNC:7611                                     MYOD1   \n",
       "\n",
       "                                                 iri   semantic  index_id  \n",
       "0          http://purl.obolibrary.org/obo/MP_0020358  phenotype         0  \n",
       "1          http://purl.obolibrary.org/obo/HP_0000670  phenotype         1  \n",
       "2           http://ensembl.org/id/ENSCAFG00000017522       gene         2  \n",
       "3                http://zfin.org/ZDB-GENE-070705-188       gene         3  \n",
       "4          http://purl.obolibrary.org/obo/HP_0000544  phenotype         4  \n",
       "5               http://zfin.org/ZDB-GENE-040426-1146       gene         5  \n",
       "6          http://purl.obolibrary.org/obo/MP_0001900  phenotype         6  \n",
       "7  http://www.ncbi.nlm.nih.gov/clinvar/variation/...    variant         7  \n",
       "8                  http://zfin.org/ZDB-GENE-070228-4       gene         8  \n",
       "9  https://www.genenames.org/data/gene-symbol-rep...       gene         9  "
      ]
     },
     "execution_count": 6,
     "metadata": {},
     "output_type": "execute_result"
    }
   ],
   "source": [
    "nodes = pd.read_csv('output/new_kg_nodes.csv', header=0)\n",
    "nodes['index_id'] = nodes.index\n",
    "nodes.head(10)"
   ]
  },
  {
   "cell_type": "code",
   "execution_count": 7,
   "metadata": {},
   "outputs": [
    {
     "name": "stdout",
     "output_type": "stream",
     "text": [
      "There are 10237 nodes\n"
     ]
    }
   ],
   "source": [
    "print(f'There are {nodes.shape[0]} nodes')"
   ]
  },
  {
   "attachments": {},
   "cell_type": "markdown",
   "metadata": {},
   "source": [
    "Extract the relevant columns."
   ]
  },
  {
   "cell_type": "code",
   "execution_count": 8,
   "metadata": {},
   "outputs": [
    {
     "data": {
      "text/html": [
       "<div>\n",
       "<style scoped>\n",
       "    .dataframe tbody tr th:only-of-type {\n",
       "        vertical-align: middle;\n",
       "    }\n",
       "\n",
       "    .dataframe tbody tr th {\n",
       "        vertical-align: top;\n",
       "    }\n",
       "\n",
       "    .dataframe thead th {\n",
       "        text-align: right;\n",
       "    }\n",
       "</style>\n",
       "<table border=\"1\" class=\"dataframe\">\n",
       "  <thead>\n",
       "    <tr style=\"text-align: right;\">\n",
       "      <th></th>\n",
       "      <th>index_id</th>\n",
       "      <th>id</th>\n",
       "      <th>semantic</th>\n",
       "      <th>label</th>\n",
       "    </tr>\n",
       "  </thead>\n",
       "  <tbody>\n",
       "    <tr>\n",
       "      <th>0</th>\n",
       "      <td>0</td>\n",
       "      <td>MP:0020358</td>\n",
       "      <td>phenotype</td>\n",
       "      <td>abnormal inhibitory synapse morphology</td>\n",
       "    </tr>\n",
       "    <tr>\n",
       "      <th>1</th>\n",
       "      <td>1</td>\n",
       "      <td>HP:0000670</td>\n",
       "      <td>phenotype</td>\n",
       "      <td>Carious teeth</td>\n",
       "    </tr>\n",
       "    <tr>\n",
       "      <th>2</th>\n",
       "      <td>2</td>\n",
       "      <td>ENSEMBL:ENSCAFG00000017522</td>\n",
       "      <td>gene</td>\n",
       "      <td>ENSEMBL:ENSCAFG00000017522</td>\n",
       "    </tr>\n",
       "    <tr>\n",
       "      <th>3</th>\n",
       "      <td>3</td>\n",
       "      <td>ZFIN:ZDB-GENE-070705-188</td>\n",
       "      <td>gene</td>\n",
       "      <td>chrm1b</td>\n",
       "    </tr>\n",
       "    <tr>\n",
       "      <th>4</th>\n",
       "      <td>4</td>\n",
       "      <td>HP:0000544</td>\n",
       "      <td>phenotype</td>\n",
       "      <td>External ophthalmoplegia</td>\n",
       "    </tr>\n",
       "    <tr>\n",
       "      <th>5</th>\n",
       "      <td>5</td>\n",
       "      <td>ZFIN:ZDB-GENE-040426-1146</td>\n",
       "      <td>gene</td>\n",
       "      <td>traf3ip1</td>\n",
       "    </tr>\n",
       "    <tr>\n",
       "      <th>6</th>\n",
       "      <td>6</td>\n",
       "      <td>MP:0001900</td>\n",
       "      <td>phenotype</td>\n",
       "      <td>impaired synaptic plasticity</td>\n",
       "    </tr>\n",
       "    <tr>\n",
       "      <th>7</th>\n",
       "      <td>7</td>\n",
       "      <td>ClinVarVariant:650539</td>\n",
       "      <td>variant</td>\n",
       "      <td>NM_004006.2(DMD):c.6439-10_8217+32103dup</td>\n",
       "    </tr>\n",
       "    <tr>\n",
       "      <th>8</th>\n",
       "      <td>8</td>\n",
       "      <td>ZFIN:ZDB-GENE-070228-4</td>\n",
       "      <td>gene</td>\n",
       "      <td>drp2</td>\n",
       "    </tr>\n",
       "    <tr>\n",
       "      <th>9</th>\n",
       "      <td>9</td>\n",
       "      <td>HGNC:7611</td>\n",
       "      <td>gene</td>\n",
       "      <td>MYOD1</td>\n",
       "    </tr>\n",
       "  </tbody>\n",
       "</table>\n",
       "</div>"
      ],
      "text/plain": [
       "   index_id                          id   semantic  \\\n",
       "0         0                  MP:0020358  phenotype   \n",
       "1         1                  HP:0000670  phenotype   \n",
       "2         2  ENSEMBL:ENSCAFG00000017522       gene   \n",
       "3         3    ZFIN:ZDB-GENE-070705-188       gene   \n",
       "4         4                  HP:0000544  phenotype   \n",
       "5         5   ZFIN:ZDB-GENE-040426-1146       gene   \n",
       "6         6                  MP:0001900  phenotype   \n",
       "7         7       ClinVarVariant:650539    variant   \n",
       "8         8      ZFIN:ZDB-GENE-070228-4       gene   \n",
       "9         9                   HGNC:7611       gene   \n",
       "\n",
       "                                      label  \n",
       "0    abnormal inhibitory synapse morphology  \n",
       "1                             Carious teeth  \n",
       "2                ENSEMBL:ENSCAFG00000017522  \n",
       "3                                    chrm1b  \n",
       "4                  External ophthalmoplegia  \n",
       "5                                  traf3ip1  \n",
       "6              impaired synaptic plasticity  \n",
       "7  NM_004006.2(DMD):c.6439-10_8217+32103dup  \n",
       "8                                      drp2  \n",
       "9                                     MYOD1  "
      ]
     },
     "execution_count": 8,
     "metadata": {},
     "output_type": "execute_result"
    }
   ],
   "source": [
    "nodes = nodes[['index_id', 'id', 'semantic', 'label']]\n",
    "nodes.head(10)"
   ]
  },
  {
   "attachments": {},
   "cell_type": "markdown",
   "metadata": {},
   "source": [
    "Convert categorical to numerical values for the semantic groups."
   ]
  },
  {
   "cell_type": "code",
   "execution_count": 9,
   "metadata": {},
   "outputs": [
    {
     "data": {
      "text/html": [
       "<div>\n",
       "<style scoped>\n",
       "    .dataframe tbody tr th:only-of-type {\n",
       "        vertical-align: middle;\n",
       "    }\n",
       "\n",
       "    .dataframe tbody tr th {\n",
       "        vertical-align: top;\n",
       "    }\n",
       "\n",
       "    .dataframe thead th {\n",
       "        text-align: right;\n",
       "    }\n",
       "</style>\n",
       "<table border=\"1\" class=\"dataframe\">\n",
       "  <thead>\n",
       "    <tr style=\"text-align: right;\">\n",
       "      <th></th>\n",
       "      <th>index_id</th>\n",
       "      <th>id</th>\n",
       "      <th>semantic</th>\n",
       "      <th>label</th>\n",
       "      <th>semantic_id</th>\n",
       "    </tr>\n",
       "  </thead>\n",
       "  <tbody>\n",
       "    <tr>\n",
       "      <th>0</th>\n",
       "      <td>0</td>\n",
       "      <td>MP:0020358</td>\n",
       "      <td>phenotype</td>\n",
       "      <td>abnormal inhibitory synapse morphology</td>\n",
       "      <td>8</td>\n",
       "    </tr>\n",
       "    <tr>\n",
       "      <th>1</th>\n",
       "      <td>1</td>\n",
       "      <td>HP:0000670</td>\n",
       "      <td>phenotype</td>\n",
       "      <td>Carious teeth</td>\n",
       "      <td>8</td>\n",
       "    </tr>\n",
       "    <tr>\n",
       "      <th>2</th>\n",
       "      <td>2</td>\n",
       "      <td>ENSEMBL:ENSCAFG00000017522</td>\n",
       "      <td>gene</td>\n",
       "      <td>ENSEMBL:ENSCAFG00000017522</td>\n",
       "      <td>5</td>\n",
       "    </tr>\n",
       "    <tr>\n",
       "      <th>3</th>\n",
       "      <td>3</td>\n",
       "      <td>ZFIN:ZDB-GENE-070705-188</td>\n",
       "      <td>gene</td>\n",
       "      <td>chrm1b</td>\n",
       "      <td>5</td>\n",
       "    </tr>\n",
       "    <tr>\n",
       "      <th>4</th>\n",
       "      <td>4</td>\n",
       "      <td>HP:0000544</td>\n",
       "      <td>phenotype</td>\n",
       "      <td>External ophthalmoplegia</td>\n",
       "      <td>8</td>\n",
       "    </tr>\n",
       "    <tr>\n",
       "      <th>5</th>\n",
       "      <td>5</td>\n",
       "      <td>ZFIN:ZDB-GENE-040426-1146</td>\n",
       "      <td>gene</td>\n",
       "      <td>traf3ip1</td>\n",
       "      <td>5</td>\n",
       "    </tr>\n",
       "    <tr>\n",
       "      <th>6</th>\n",
       "      <td>6</td>\n",
       "      <td>MP:0001900</td>\n",
       "      <td>phenotype</td>\n",
       "      <td>impaired synaptic plasticity</td>\n",
       "      <td>8</td>\n",
       "    </tr>\n",
       "    <tr>\n",
       "      <th>7</th>\n",
       "      <td>7</td>\n",
       "      <td>ClinVarVariant:650539</td>\n",
       "      <td>variant</td>\n",
       "      <td>NM_004006.2(DMD):c.6439-10_8217+32103dup</td>\n",
       "      <td>10</td>\n",
       "    </tr>\n",
       "    <tr>\n",
       "      <th>8</th>\n",
       "      <td>8</td>\n",
       "      <td>ZFIN:ZDB-GENE-070228-4</td>\n",
       "      <td>gene</td>\n",
       "      <td>drp2</td>\n",
       "      <td>5</td>\n",
       "    </tr>\n",
       "    <tr>\n",
       "      <th>9</th>\n",
       "      <td>9</td>\n",
       "      <td>HGNC:7611</td>\n",
       "      <td>gene</td>\n",
       "      <td>MYOD1</td>\n",
       "      <td>5</td>\n",
       "    </tr>\n",
       "  </tbody>\n",
       "</table>\n",
       "</div>"
      ],
      "text/plain": [
       "   index_id                          id   semantic  \\\n",
       "0         0                  MP:0020358  phenotype   \n",
       "1         1                  HP:0000670  phenotype   \n",
       "2         2  ENSEMBL:ENSCAFG00000017522       gene   \n",
       "3         3    ZFIN:ZDB-GENE-070705-188       gene   \n",
       "4         4                  HP:0000544  phenotype   \n",
       "5         5   ZFIN:ZDB-GENE-040426-1146       gene   \n",
       "6         6                  MP:0001900  phenotype   \n",
       "7         7       ClinVarVariant:650539    variant   \n",
       "8         8      ZFIN:ZDB-GENE-070228-4       gene   \n",
       "9         9                   HGNC:7611       gene   \n",
       "\n",
       "                                      label  semantic_id  \n",
       "0    abnormal inhibitory synapse morphology            8  \n",
       "1                             Carious teeth            8  \n",
       "2                ENSEMBL:ENSCAFG00000017522            5  \n",
       "3                                    chrm1b            5  \n",
       "4                  External ophthalmoplegia            8  \n",
       "5                                  traf3ip1            5  \n",
       "6              impaired synaptic plasticity            8  \n",
       "7  NM_004006.2(DMD):c.6439-10_8217+32103dup           10  \n",
       "8                                      drp2            5  \n",
       "9                                     MYOD1            5  "
      ]
     },
     "execution_count": 9,
     "metadata": {},
     "output_type": "execute_result"
    }
   ],
   "source": [
    "nodes['semantic'] = nodes['semantic'].astype('category')\n",
    "nodes['semantic_id'] = nodes['semantic'].cat.codes\n",
    "nodes.head(10)"
   ]
  },
  {
   "cell_type": "code",
   "execution_count": null,
   "metadata": {},
   "outputs": [],
   "source": [
    "nodes.to_csv('output/indexed_nodes.csv', index=False)"
   ]
  },
  {
   "attachments": {},
   "cell_type": "markdown",
   "metadata": {},
   "source": [
    "The dictionary below can be used as mapping between generated semantic ID and semantic group label."
   ]
  },
  {
   "cell_type": "code",
   "execution_count": 10,
   "metadata": {},
   "outputs": [
    {
     "data": {
      "text/plain": [
       "{0: 'biological artifact',\n",
       " 1: 'biological process',\n",
       " 2: 'cellular component',\n",
       " 3: 'disease',\n",
       " 4: 'drug',\n",
       " 5: 'gene',\n",
       " 6: 'genotype',\n",
       " 7: 'molecular function',\n",
       " 8: 'phenotype',\n",
       " 9: 'taxon',\n",
       " 10: 'variant'}"
      ]
     },
     "execution_count": 10,
     "metadata": {},
     "output_type": "execute_result"
    }
   ],
   "source": [
    "node_semantic_dict = dict(enumerate(nodes['semantic'].cat.categories))\n",
    "node_semantic_dict"
   ]
  },
  {
   "attachments": {},
   "cell_type": "markdown",
   "metadata": {},
   "source": [
    "Merge nodes and edges in order to join semantic classes of nodes with heads and tails of the edges."
   ]
  },
  {
   "cell_type": "code",
   "execution_count": 11,
   "metadata": {},
   "outputs": [
    {
     "data": {
      "text/html": [
       "<div>\n",
       "<style scoped>\n",
       "    .dataframe tbody tr th:only-of-type {\n",
       "        vertical-align: middle;\n",
       "    }\n",
       "\n",
       "    .dataframe tbody tr th {\n",
       "        vertical-align: top;\n",
       "    }\n",
       "\n",
       "    .dataframe thead th {\n",
       "        text-align: right;\n",
       "    }\n",
       "</style>\n",
       "<table border=\"1\" class=\"dataframe\">\n",
       "  <thead>\n",
       "    <tr style=\"text-align: right;\">\n",
       "      <th></th>\n",
       "      <th>head</th>\n",
       "      <th>label_head</th>\n",
       "      <th>class_head</th>\n",
       "      <th>index_head</th>\n",
       "      <th>relation</th>\n",
       "      <th>tail</th>\n",
       "    </tr>\n",
       "  </thead>\n",
       "  <tbody>\n",
       "    <tr>\n",
       "      <th>0</th>\n",
       "      <td>FlyBase:FBgn0011676</td>\n",
       "      <td>Nos</td>\n",
       "      <td>5</td>\n",
       "      <td>9594</td>\n",
       "      <td>in orthology relationship with</td>\n",
       "      <td>ENSEMBL:ENSCAFG00000009820</td>\n",
       "    </tr>\n",
       "    <tr>\n",
       "      <th>1</th>\n",
       "      <td>HGNC:12012</td>\n",
       "      <td>TPM3</td>\n",
       "      <td>5</td>\n",
       "      <td>1813</td>\n",
       "      <td>interacts with</td>\n",
       "      <td>HGNC:11946</td>\n",
       "    </tr>\n",
       "    <tr>\n",
       "      <th>2</th>\n",
       "      <td>HGNC:15516</td>\n",
       "      <td>XYLT1</td>\n",
       "      <td>5</td>\n",
       "      <td>3228</td>\n",
       "      <td>causes condition</td>\n",
       "      <td>HP:0002650</td>\n",
       "    </tr>\n",
       "    <tr>\n",
       "      <th>3</th>\n",
       "      <td>WormBase:WBGene00000065</td>\n",
       "      <td>act-3</td>\n",
       "      <td>5</td>\n",
       "      <td>3272</td>\n",
       "      <td>in orthology relationship with</td>\n",
       "      <td>ENSEMBL:ENSOANG00000007850</td>\n",
       "    </tr>\n",
       "    <tr>\n",
       "      <th>4</th>\n",
       "      <td>HGNC:6485</td>\n",
       "      <td>LAMA5</td>\n",
       "      <td>5</td>\n",
       "      <td>4641</td>\n",
       "      <td>interacts with</td>\n",
       "      <td>HGNC:329</td>\n",
       "    </tr>\n",
       "    <tr>\n",
       "      <th>5</th>\n",
       "      <td>ENSEMBL:ENSECAG00000023844</td>\n",
       "      <td>ENSEMBL:ENSECAG00000023844</td>\n",
       "      <td>5</td>\n",
       "      <td>9822</td>\n",
       "      <td>in orthology relationship with</td>\n",
       "      <td>ENSEMBL:ENSGALG00000042388</td>\n",
       "    </tr>\n",
       "    <tr>\n",
       "      <th>6</th>\n",
       "      <td>MGI:3621491</td>\n",
       "      <td>Dmd&lt;mdx&gt;/Dmd&lt;mdx&gt; [C57BL/10ScSn-Dmd&lt;mdx&gt;/J]</td>\n",
       "      <td>6</td>\n",
       "      <td>4598</td>\n",
       "      <td>causes condition</td>\n",
       "      <td>MP:0011966</td>\n",
       "    </tr>\n",
       "    <tr>\n",
       "      <th>7</th>\n",
       "      <td>MGI:1859649</td>\n",
       "      <td>Ctnnal1</td>\n",
       "      <td>5</td>\n",
       "      <td>5773</td>\n",
       "      <td>in orthology relationship with</td>\n",
       "      <td>ENSEMBL:ENSACAG00000001940</td>\n",
       "    </tr>\n",
       "    <tr>\n",
       "      <th>8</th>\n",
       "      <td>ClinVarVariant:803793</td>\n",
       "      <td>NM_004006.3(DMD):c.9950_9951del (p.Lys3317fs)</td>\n",
       "      <td>10</td>\n",
       "      <td>1815</td>\n",
       "      <td>causes condition</td>\n",
       "      <td>MONDO:0010679</td>\n",
       "    </tr>\n",
       "    <tr>\n",
       "      <th>9</th>\n",
       "      <td>PomBase:SPAC27F1.02c</td>\n",
       "      <td>cdc8</td>\n",
       "      <td>5</td>\n",
       "      <td>3477</td>\n",
       "      <td>in orthology relationship with</td>\n",
       "      <td>RGD:1559479</td>\n",
       "    </tr>\n",
       "  </tbody>\n",
       "</table>\n",
       "</div>"
      ],
      "text/plain": [
       "                         head                                     label_head  \\\n",
       "0         FlyBase:FBgn0011676                                            Nos   \n",
       "1                  HGNC:12012                                           TPM3   \n",
       "2                  HGNC:15516                                          XYLT1   \n",
       "3     WormBase:WBGene00000065                                          act-3   \n",
       "4                   HGNC:6485                                          LAMA5   \n",
       "5  ENSEMBL:ENSECAG00000023844                     ENSEMBL:ENSECAG00000023844   \n",
       "6                 MGI:3621491    Dmd<mdx>/Dmd<mdx> [C57BL/10ScSn-Dmd<mdx>/J]   \n",
       "7                 MGI:1859649                                        Ctnnal1   \n",
       "8       ClinVarVariant:803793  NM_004006.3(DMD):c.9950_9951del (p.Lys3317fs)   \n",
       "9        PomBase:SPAC27F1.02c                                           cdc8   \n",
       "\n",
       "   class_head  index_head                        relation  \\\n",
       "0           5        9594  in orthology relationship with   \n",
       "1           5        1813                  interacts with   \n",
       "2           5        3228                causes condition   \n",
       "3           5        3272  in orthology relationship with   \n",
       "4           5        4641                  interacts with   \n",
       "5           5        9822  in orthology relationship with   \n",
       "6           6        4598                causes condition   \n",
       "7           5        5773  in orthology relationship with   \n",
       "8          10        1815                causes condition   \n",
       "9           5        3477  in orthology relationship with   \n",
       "\n",
       "                         tail  \n",
       "0  ENSEMBL:ENSCAFG00000009820  \n",
       "1                  HGNC:11946  \n",
       "2                  HP:0002650  \n",
       "3  ENSEMBL:ENSOANG00000007850  \n",
       "4                    HGNC:329  \n",
       "5  ENSEMBL:ENSGALG00000042388  \n",
       "6                  MP:0011966  \n",
       "7  ENSEMBL:ENSACAG00000001940  \n",
       "8               MONDO:0010679  \n",
       "9                 RGD:1559479  "
      ]
     },
     "execution_count": 11,
     "metadata": {},
     "output_type": "execute_result"
    }
   ],
   "source": [
    "kg_df = pd.merge(edges, nodes,\n",
    "                 left_on='head', right_on='id',\n",
    "                 how='left')\n",
    "kg_df = kg_df[['head', 'label', 'semantic_id', 'index_id', 'relation', 'tail']]\n",
    "kg_df.rename(columns={'label': 'label_head', 'semantic_id': 'class_head', 'index_id': 'index_head'}, inplace=True)\n",
    "kg_df.head(10)"
   ]
  },
  {
   "cell_type": "code",
   "execution_count": 12,
   "metadata": {},
   "outputs": [
    {
     "data": {
      "text/html": [
       "<div>\n",
       "<style scoped>\n",
       "    .dataframe tbody tr th:only-of-type {\n",
       "        vertical-align: middle;\n",
       "    }\n",
       "\n",
       "    .dataframe tbody tr th {\n",
       "        vertical-align: top;\n",
       "    }\n",
       "\n",
       "    .dataframe thead th {\n",
       "        text-align: right;\n",
       "    }\n",
       "</style>\n",
       "<table border=\"1\" class=\"dataframe\">\n",
       "  <thead>\n",
       "    <tr style=\"text-align: right;\">\n",
       "      <th></th>\n",
       "      <th>head</th>\n",
       "      <th>label_head</th>\n",
       "      <th>class_head</th>\n",
       "      <th>index_head</th>\n",
       "      <th>relation</th>\n",
       "      <th>tail</th>\n",
       "      <th>label_tail</th>\n",
       "      <th>class_tail</th>\n",
       "      <th>index_tail</th>\n",
       "    </tr>\n",
       "  </thead>\n",
       "  <tbody>\n",
       "    <tr>\n",
       "      <th>0</th>\n",
       "      <td>FlyBase:FBgn0011676</td>\n",
       "      <td>Nos</td>\n",
       "      <td>5</td>\n",
       "      <td>9594</td>\n",
       "      <td>in orthology relationship with</td>\n",
       "      <td>ENSEMBL:ENSCAFG00000009820</td>\n",
       "      <td>ENSEMBL:ENSCAFG00000009820</td>\n",
       "      <td>5</td>\n",
       "      <td>7362</td>\n",
       "    </tr>\n",
       "    <tr>\n",
       "      <th>1</th>\n",
       "      <td>HGNC:12012</td>\n",
       "      <td>TPM3</td>\n",
       "      <td>5</td>\n",
       "      <td>1813</td>\n",
       "      <td>interacts with</td>\n",
       "      <td>HGNC:11946</td>\n",
       "      <td>TNNI2</td>\n",
       "      <td>5</td>\n",
       "      <td>7360</td>\n",
       "    </tr>\n",
       "    <tr>\n",
       "      <th>2</th>\n",
       "      <td>HGNC:15516</td>\n",
       "      <td>XYLT1</td>\n",
       "      <td>5</td>\n",
       "      <td>3228</td>\n",
       "      <td>causes condition</td>\n",
       "      <td>HP:0002650</td>\n",
       "      <td>Scoliosis</td>\n",
       "      <td>8</td>\n",
       "      <td>2102</td>\n",
       "    </tr>\n",
       "    <tr>\n",
       "      <th>3</th>\n",
       "      <td>WormBase:WBGene00000065</td>\n",
       "      <td>act-3</td>\n",
       "      <td>5</td>\n",
       "      <td>3272</td>\n",
       "      <td>in orthology relationship with</td>\n",
       "      <td>ENSEMBL:ENSOANG00000007850</td>\n",
       "      <td>ENSEMBL:ENSOANG00000007850</td>\n",
       "      <td>5</td>\n",
       "      <td>2284</td>\n",
       "    </tr>\n",
       "    <tr>\n",
       "      <th>4</th>\n",
       "      <td>HGNC:6485</td>\n",
       "      <td>LAMA5</td>\n",
       "      <td>5</td>\n",
       "      <td>4641</td>\n",
       "      <td>interacts with</td>\n",
       "      <td>HGNC:329</td>\n",
       "      <td>AGRN</td>\n",
       "      <td>5</td>\n",
       "      <td>2205</td>\n",
       "    </tr>\n",
       "    <tr>\n",
       "      <th>5</th>\n",
       "      <td>ENSEMBL:ENSECAG00000023844</td>\n",
       "      <td>ENSEMBL:ENSECAG00000023844</td>\n",
       "      <td>5</td>\n",
       "      <td>9822</td>\n",
       "      <td>in orthology relationship with</td>\n",
       "      <td>ENSEMBL:ENSGALG00000042388</td>\n",
       "      <td>A0A3Q2TS00</td>\n",
       "      <td>5</td>\n",
       "      <td>9573</td>\n",
       "    </tr>\n",
       "    <tr>\n",
       "      <th>6</th>\n",
       "      <td>MGI:3621491</td>\n",
       "      <td>Dmd&lt;mdx&gt;/Dmd&lt;mdx&gt; [C57BL/10ScSn-Dmd&lt;mdx&gt;/J]</td>\n",
       "      <td>6</td>\n",
       "      <td>4598</td>\n",
       "      <td>causes condition</td>\n",
       "      <td>MP:0011966</td>\n",
       "      <td>abnormal auditory brainstem response waveform ...</td>\n",
       "      <td>8</td>\n",
       "      <td>839</td>\n",
       "    </tr>\n",
       "    <tr>\n",
       "      <th>7</th>\n",
       "      <td>MGI:1859649</td>\n",
       "      <td>Ctnnal1</td>\n",
       "      <td>5</td>\n",
       "      <td>5773</td>\n",
       "      <td>in orthology relationship with</td>\n",
       "      <td>ENSEMBL:ENSACAG00000001940</td>\n",
       "      <td>ENSEMBL:ENSACAG00000001940</td>\n",
       "      <td>5</td>\n",
       "      <td>2803</td>\n",
       "    </tr>\n",
       "    <tr>\n",
       "      <th>8</th>\n",
       "      <td>ClinVarVariant:803793</td>\n",
       "      <td>NM_004006.3(DMD):c.9950_9951del (p.Lys3317fs)</td>\n",
       "      <td>10</td>\n",
       "      <td>1815</td>\n",
       "      <td>causes condition</td>\n",
       "      <td>MONDO:0010679</td>\n",
       "      <td>Duchenne muscular dystrophy</td>\n",
       "      <td>3</td>\n",
       "      <td>4672</td>\n",
       "    </tr>\n",
       "    <tr>\n",
       "      <th>9</th>\n",
       "      <td>PomBase:SPAC27F1.02c</td>\n",
       "      <td>cdc8</td>\n",
       "      <td>5</td>\n",
       "      <td>3477</td>\n",
       "      <td>in orthology relationship with</td>\n",
       "      <td>RGD:1559479</td>\n",
       "      <td>Tpm2</td>\n",
       "      <td>5</td>\n",
       "      <td>6456</td>\n",
       "    </tr>\n",
       "  </tbody>\n",
       "</table>\n",
       "</div>"
      ],
      "text/plain": [
       "                         head                                     label_head  \\\n",
       "0         FlyBase:FBgn0011676                                            Nos   \n",
       "1                  HGNC:12012                                           TPM3   \n",
       "2                  HGNC:15516                                          XYLT1   \n",
       "3     WormBase:WBGene00000065                                          act-3   \n",
       "4                   HGNC:6485                                          LAMA5   \n",
       "5  ENSEMBL:ENSECAG00000023844                     ENSEMBL:ENSECAG00000023844   \n",
       "6                 MGI:3621491    Dmd<mdx>/Dmd<mdx> [C57BL/10ScSn-Dmd<mdx>/J]   \n",
       "7                 MGI:1859649                                        Ctnnal1   \n",
       "8       ClinVarVariant:803793  NM_004006.3(DMD):c.9950_9951del (p.Lys3317fs)   \n",
       "9        PomBase:SPAC27F1.02c                                           cdc8   \n",
       "\n",
       "   class_head  index_head                        relation  \\\n",
       "0           5        9594  in orthology relationship with   \n",
       "1           5        1813                  interacts with   \n",
       "2           5        3228                causes condition   \n",
       "3           5        3272  in orthology relationship with   \n",
       "4           5        4641                  interacts with   \n",
       "5           5        9822  in orthology relationship with   \n",
       "6           6        4598                causes condition   \n",
       "7           5        5773  in orthology relationship with   \n",
       "8          10        1815                causes condition   \n",
       "9           5        3477  in orthology relationship with   \n",
       "\n",
       "                         tail  \\\n",
       "0  ENSEMBL:ENSCAFG00000009820   \n",
       "1                  HGNC:11946   \n",
       "2                  HP:0002650   \n",
       "3  ENSEMBL:ENSOANG00000007850   \n",
       "4                    HGNC:329   \n",
       "5  ENSEMBL:ENSGALG00000042388   \n",
       "6                  MP:0011966   \n",
       "7  ENSEMBL:ENSACAG00000001940   \n",
       "8               MONDO:0010679   \n",
       "9                 RGD:1559479   \n",
       "\n",
       "                                          label_tail  class_tail  index_tail  \n",
       "0                         ENSEMBL:ENSCAFG00000009820           5        7362  \n",
       "1                                              TNNI2           5        7360  \n",
       "2                                          Scoliosis           8        2102  \n",
       "3                         ENSEMBL:ENSOANG00000007850           5        2284  \n",
       "4                                               AGRN           5        2205  \n",
       "5                                         A0A3Q2TS00           5        9573  \n",
       "6  abnormal auditory brainstem response waveform ...           8         839  \n",
       "7                         ENSEMBL:ENSACAG00000001940           5        2803  \n",
       "8                        Duchenne muscular dystrophy           3        4672  \n",
       "9                                               Tpm2           5        6456  "
      ]
     },
     "execution_count": 12,
     "metadata": {},
     "output_type": "execute_result"
    }
   ],
   "source": [
    "kg_df = pd.merge(kg_df, nodes,\n",
    "                 left_on='tail', right_on='id',\n",
    "                 how='left')\n",
    "kg_df = kg_df[['head', 'label_head', 'class_head', 'index_head', 'relation', 'tail', 'label', 'semantic_id', 'index_id']]\n",
    "kg_df.rename(columns={'label': 'label_tail', 'semantic_id': 'class_tail', 'index_id': 'index_tail'}, inplace=True)\n",
    "kg_df.head(10)"
   ]
  },
  {
   "attachments": {},
   "cell_type": "markdown",
   "metadata": {},
   "source": [
    "The indices in the `index_id` column can be found as the actual indices of the row. So, this column can be removed as it was only needed for merging purposes."
   ]
  },
  {
   "cell_type": "code",
   "execution_count": 13,
   "metadata": {},
   "outputs": [
    {
     "data": {
      "text/html": [
       "<div>\n",
       "<style scoped>\n",
       "    .dataframe tbody tr th:only-of-type {\n",
       "        vertical-align: middle;\n",
       "    }\n",
       "\n",
       "    .dataframe tbody tr th {\n",
       "        vertical-align: top;\n",
       "    }\n",
       "\n",
       "    .dataframe thead th {\n",
       "        text-align: right;\n",
       "    }\n",
       "</style>\n",
       "<table border=\"1\" class=\"dataframe\">\n",
       "  <thead>\n",
       "    <tr style=\"text-align: right;\">\n",
       "      <th></th>\n",
       "      <th>id</th>\n",
       "      <th>semantic</th>\n",
       "      <th>label</th>\n",
       "      <th>semantic_id</th>\n",
       "    </tr>\n",
       "  </thead>\n",
       "  <tbody>\n",
       "    <tr>\n",
       "      <th>0</th>\n",
       "      <td>MP:0020358</td>\n",
       "      <td>phenotype</td>\n",
       "      <td>abnormal inhibitory synapse morphology</td>\n",
       "      <td>8</td>\n",
       "    </tr>\n",
       "    <tr>\n",
       "      <th>1</th>\n",
       "      <td>HP:0000670</td>\n",
       "      <td>phenotype</td>\n",
       "      <td>Carious teeth</td>\n",
       "      <td>8</td>\n",
       "    </tr>\n",
       "    <tr>\n",
       "      <th>2</th>\n",
       "      <td>ENSEMBL:ENSCAFG00000017522</td>\n",
       "      <td>gene</td>\n",
       "      <td>ENSEMBL:ENSCAFG00000017522</td>\n",
       "      <td>5</td>\n",
       "    </tr>\n",
       "    <tr>\n",
       "      <th>3</th>\n",
       "      <td>ZFIN:ZDB-GENE-070705-188</td>\n",
       "      <td>gene</td>\n",
       "      <td>chrm1b</td>\n",
       "      <td>5</td>\n",
       "    </tr>\n",
       "    <tr>\n",
       "      <th>4</th>\n",
       "      <td>HP:0000544</td>\n",
       "      <td>phenotype</td>\n",
       "      <td>External ophthalmoplegia</td>\n",
       "      <td>8</td>\n",
       "    </tr>\n",
       "    <tr>\n",
       "      <th>5</th>\n",
       "      <td>ZFIN:ZDB-GENE-040426-1146</td>\n",
       "      <td>gene</td>\n",
       "      <td>traf3ip1</td>\n",
       "      <td>5</td>\n",
       "    </tr>\n",
       "    <tr>\n",
       "      <th>6</th>\n",
       "      <td>MP:0001900</td>\n",
       "      <td>phenotype</td>\n",
       "      <td>impaired synaptic plasticity</td>\n",
       "      <td>8</td>\n",
       "    </tr>\n",
       "    <tr>\n",
       "      <th>7</th>\n",
       "      <td>ClinVarVariant:650539</td>\n",
       "      <td>variant</td>\n",
       "      <td>NM_004006.2(DMD):c.6439-10_8217+32103dup</td>\n",
       "      <td>10</td>\n",
       "    </tr>\n",
       "    <tr>\n",
       "      <th>8</th>\n",
       "      <td>ZFIN:ZDB-GENE-070228-4</td>\n",
       "      <td>gene</td>\n",
       "      <td>drp2</td>\n",
       "      <td>5</td>\n",
       "    </tr>\n",
       "    <tr>\n",
       "      <th>9</th>\n",
       "      <td>HGNC:7611</td>\n",
       "      <td>gene</td>\n",
       "      <td>MYOD1</td>\n",
       "      <td>5</td>\n",
       "    </tr>\n",
       "  </tbody>\n",
       "</table>\n",
       "</div>"
      ],
      "text/plain": [
       "                           id   semantic  \\\n",
       "0                  MP:0020358  phenotype   \n",
       "1                  HP:0000670  phenotype   \n",
       "2  ENSEMBL:ENSCAFG00000017522       gene   \n",
       "3    ZFIN:ZDB-GENE-070705-188       gene   \n",
       "4                  HP:0000544  phenotype   \n",
       "5   ZFIN:ZDB-GENE-040426-1146       gene   \n",
       "6                  MP:0001900  phenotype   \n",
       "7       ClinVarVariant:650539    variant   \n",
       "8      ZFIN:ZDB-GENE-070228-4       gene   \n",
       "9                   HGNC:7611       gene   \n",
       "\n",
       "                                      label  semantic_id  \n",
       "0    abnormal inhibitory synapse morphology            8  \n",
       "1                             Carious teeth            8  \n",
       "2                ENSEMBL:ENSCAFG00000017522            5  \n",
       "3                                    chrm1b            5  \n",
       "4                  External ophthalmoplegia            8  \n",
       "5                                  traf3ip1            5  \n",
       "6              impaired synaptic plasticity            8  \n",
       "7  NM_004006.2(DMD):c.6439-10_8217+32103dup           10  \n",
       "8                                      drp2            5  \n",
       "9                                     MYOD1            5  "
      ]
     },
     "execution_count": 13,
     "metadata": {},
     "output_type": "execute_result"
    }
   ],
   "source": [
    "nodes.drop('index_id', axis=1, inplace=True)\n",
    "nodes.head(10)"
   ]
  },
  {
   "cell_type": "code",
   "execution_count": 14,
   "metadata": {},
   "outputs": [
    {
     "data": {
      "text/html": [
       "<div>\n",
       "<style scoped>\n",
       "    .dataframe tbody tr th:only-of-type {\n",
       "        vertical-align: middle;\n",
       "    }\n",
       "\n",
       "    .dataframe tbody tr th {\n",
       "        vertical-align: top;\n",
       "    }\n",
       "\n",
       "    .dataframe thead th {\n",
       "        text-align: right;\n",
       "    }\n",
       "</style>\n",
       "<table border=\"1\" class=\"dataframe\">\n",
       "  <thead>\n",
       "    <tr style=\"text-align: right;\">\n",
       "      <th></th>\n",
       "      <th>head</th>\n",
       "      <th>label_head</th>\n",
       "      <th>class_head</th>\n",
       "      <th>index_head</th>\n",
       "      <th>relation</th>\n",
       "      <th>tail</th>\n",
       "      <th>label_tail</th>\n",
       "      <th>class_tail</th>\n",
       "      <th>index_tail</th>\n",
       "    </tr>\n",
       "  </thead>\n",
       "  <tbody>\n",
       "    <tr>\n",
       "      <th>0</th>\n",
       "      <td>FlyBase:FBgn0011676</td>\n",
       "      <td>Nos</td>\n",
       "      <td>5</td>\n",
       "      <td>9594</td>\n",
       "      <td>in orthology relationship with</td>\n",
       "      <td>ENSEMBL:ENSCAFG00000009820</td>\n",
       "      <td>ENSEMBL:ENSCAFG00000009820</td>\n",
       "      <td>5</td>\n",
       "      <td>7362</td>\n",
       "    </tr>\n",
       "    <tr>\n",
       "      <th>1</th>\n",
       "      <td>HGNC:12012</td>\n",
       "      <td>TPM3</td>\n",
       "      <td>5</td>\n",
       "      <td>1813</td>\n",
       "      <td>interacts with</td>\n",
       "      <td>HGNC:11946</td>\n",
       "      <td>TNNI2</td>\n",
       "      <td>5</td>\n",
       "      <td>7360</td>\n",
       "    </tr>\n",
       "    <tr>\n",
       "      <th>2</th>\n",
       "      <td>HGNC:15516</td>\n",
       "      <td>XYLT1</td>\n",
       "      <td>5</td>\n",
       "      <td>3228</td>\n",
       "      <td>causes condition</td>\n",
       "      <td>HP:0002650</td>\n",
       "      <td>Scoliosis</td>\n",
       "      <td>8</td>\n",
       "      <td>2102</td>\n",
       "    </tr>\n",
       "    <tr>\n",
       "      <th>3</th>\n",
       "      <td>WormBase:WBGene00000065</td>\n",
       "      <td>act-3</td>\n",
       "      <td>5</td>\n",
       "      <td>3272</td>\n",
       "      <td>in orthology relationship with</td>\n",
       "      <td>ENSEMBL:ENSOANG00000007850</td>\n",
       "      <td>ENSEMBL:ENSOANG00000007850</td>\n",
       "      <td>5</td>\n",
       "      <td>2284</td>\n",
       "    </tr>\n",
       "    <tr>\n",
       "      <th>4</th>\n",
       "      <td>HGNC:6485</td>\n",
       "      <td>LAMA5</td>\n",
       "      <td>5</td>\n",
       "      <td>4641</td>\n",
       "      <td>interacts with</td>\n",
       "      <td>HGNC:329</td>\n",
       "      <td>AGRN</td>\n",
       "      <td>5</td>\n",
       "      <td>2205</td>\n",
       "    </tr>\n",
       "    <tr>\n",
       "      <th>5</th>\n",
       "      <td>ENSEMBL:ENSECAG00000023844</td>\n",
       "      <td>ENSEMBL:ENSECAG00000023844</td>\n",
       "      <td>5</td>\n",
       "      <td>9822</td>\n",
       "      <td>in orthology relationship with</td>\n",
       "      <td>ENSEMBL:ENSGALG00000042388</td>\n",
       "      <td>A0A3Q2TS00</td>\n",
       "      <td>5</td>\n",
       "      <td>9573</td>\n",
       "    </tr>\n",
       "    <tr>\n",
       "      <th>6</th>\n",
       "      <td>MGI:3621491</td>\n",
       "      <td>Dmd&lt;mdx&gt;/Dmd&lt;mdx&gt; [C57BL/10ScSn-Dmd&lt;mdx&gt;/J]</td>\n",
       "      <td>6</td>\n",
       "      <td>4598</td>\n",
       "      <td>causes condition</td>\n",
       "      <td>MP:0011966</td>\n",
       "      <td>abnormal auditory brainstem response waveform ...</td>\n",
       "      <td>8</td>\n",
       "      <td>839</td>\n",
       "    </tr>\n",
       "    <tr>\n",
       "      <th>7</th>\n",
       "      <td>MGI:1859649</td>\n",
       "      <td>Ctnnal1</td>\n",
       "      <td>5</td>\n",
       "      <td>5773</td>\n",
       "      <td>in orthology relationship with</td>\n",
       "      <td>ENSEMBL:ENSACAG00000001940</td>\n",
       "      <td>ENSEMBL:ENSACAG00000001940</td>\n",
       "      <td>5</td>\n",
       "      <td>2803</td>\n",
       "    </tr>\n",
       "    <tr>\n",
       "      <th>8</th>\n",
       "      <td>ClinVarVariant:803793</td>\n",
       "      <td>NM_004006.3(DMD):c.9950_9951del (p.Lys3317fs)</td>\n",
       "      <td>10</td>\n",
       "      <td>1815</td>\n",
       "      <td>causes condition</td>\n",
       "      <td>MONDO:0010679</td>\n",
       "      <td>Duchenne muscular dystrophy</td>\n",
       "      <td>3</td>\n",
       "      <td>4672</td>\n",
       "    </tr>\n",
       "    <tr>\n",
       "      <th>9</th>\n",
       "      <td>PomBase:SPAC27F1.02c</td>\n",
       "      <td>cdc8</td>\n",
       "      <td>5</td>\n",
       "      <td>3477</td>\n",
       "      <td>in orthology relationship with</td>\n",
       "      <td>RGD:1559479</td>\n",
       "      <td>Tpm2</td>\n",
       "      <td>5</td>\n",
       "      <td>6456</td>\n",
       "    </tr>\n",
       "    <tr>\n",
       "      <th>10</th>\n",
       "      <td>ENSEMBL:ENSSSCG00000014878</td>\n",
       "      <td>PAK1</td>\n",
       "      <td>5</td>\n",
       "      <td>1355</td>\n",
       "      <td>in orthology relationship with</td>\n",
       "      <td>ENSEMBL:ENSBTAG00000010191</td>\n",
       "      <td>ENSEMBL:ENSBTAG00000010191</td>\n",
       "      <td>5</td>\n",
       "      <td>9981</td>\n",
       "    </tr>\n",
       "    <tr>\n",
       "      <th>11</th>\n",
       "      <td>HGNC:7576</td>\n",
       "      <td>MYH6</td>\n",
       "      <td>5</td>\n",
       "      <td>9096</td>\n",
       "      <td>in orthology relationship with</td>\n",
       "      <td>ENSEMBL:ENSFCAG00000009092</td>\n",
       "      <td>ENSEMBL:ENSFCAG00000009092</td>\n",
       "      <td>5</td>\n",
       "      <td>8297</td>\n",
       "    </tr>\n",
       "    <tr>\n",
       "      <th>12</th>\n",
       "      <td>180</td>\n",
       "      <td>amitriptyline</td>\n",
       "      <td>4</td>\n",
       "      <td>8839</td>\n",
       "      <td>targets</td>\n",
       "      <td>HGNC:1950</td>\n",
       "      <td>CHRM1</td>\n",
       "      <td>5</td>\n",
       "      <td>8797</td>\n",
       "    </tr>\n",
       "    <tr>\n",
       "      <th>13</th>\n",
       "      <td>MGI:1277968</td>\n",
       "      <td>Cavin1</td>\n",
       "      <td>5</td>\n",
       "      <td>5519</td>\n",
       "      <td>interacts with</td>\n",
       "      <td>MGI:94909</td>\n",
       "      <td>Dmd</td>\n",
       "      <td>5</td>\n",
       "      <td>1400</td>\n",
       "    </tr>\n",
       "    <tr>\n",
       "      <th>14</th>\n",
       "      <td>ENSEMBL:ENSOANG00000013754</td>\n",
       "      <td>ENSEMBL:ENSOANG00000013754</td>\n",
       "      <td>5</td>\n",
       "      <td>1381</td>\n",
       "      <td>in orthology relationship with</td>\n",
       "      <td>HGNC:28958</td>\n",
       "      <td>NUP93</td>\n",
       "      <td>5</td>\n",
       "      <td>1826</td>\n",
       "    </tr>\n",
       "  </tbody>\n",
       "</table>\n",
       "</div>"
      ],
      "text/plain": [
       "                          head                                     label_head  \\\n",
       "0          FlyBase:FBgn0011676                                            Nos   \n",
       "1                   HGNC:12012                                           TPM3   \n",
       "2                   HGNC:15516                                          XYLT1   \n",
       "3      WormBase:WBGene00000065                                          act-3   \n",
       "4                    HGNC:6485                                          LAMA5   \n",
       "5   ENSEMBL:ENSECAG00000023844                     ENSEMBL:ENSECAG00000023844   \n",
       "6                  MGI:3621491    Dmd<mdx>/Dmd<mdx> [C57BL/10ScSn-Dmd<mdx>/J]   \n",
       "7                  MGI:1859649                                        Ctnnal1   \n",
       "8        ClinVarVariant:803793  NM_004006.3(DMD):c.9950_9951del (p.Lys3317fs)   \n",
       "9         PomBase:SPAC27F1.02c                                           cdc8   \n",
       "10  ENSEMBL:ENSSSCG00000014878                                           PAK1   \n",
       "11                   HGNC:7576                                           MYH6   \n",
       "12                         180                                  amitriptyline   \n",
       "13                 MGI:1277968                                         Cavin1   \n",
       "14  ENSEMBL:ENSOANG00000013754                     ENSEMBL:ENSOANG00000013754   \n",
       "\n",
       "    class_head  index_head                        relation  \\\n",
       "0            5        9594  in orthology relationship with   \n",
       "1            5        1813                  interacts with   \n",
       "2            5        3228                causes condition   \n",
       "3            5        3272  in orthology relationship with   \n",
       "4            5        4641                  interacts with   \n",
       "5            5        9822  in orthology relationship with   \n",
       "6            6        4598                causes condition   \n",
       "7            5        5773  in orthology relationship with   \n",
       "8           10        1815                causes condition   \n",
       "9            5        3477  in orthology relationship with   \n",
       "10           5        1355  in orthology relationship with   \n",
       "11           5        9096  in orthology relationship with   \n",
       "12           4        8839                         targets   \n",
       "13           5        5519                  interacts with   \n",
       "14           5        1381  in orthology relationship with   \n",
       "\n",
       "                          tail  \\\n",
       "0   ENSEMBL:ENSCAFG00000009820   \n",
       "1                   HGNC:11946   \n",
       "2                   HP:0002650   \n",
       "3   ENSEMBL:ENSOANG00000007850   \n",
       "4                     HGNC:329   \n",
       "5   ENSEMBL:ENSGALG00000042388   \n",
       "6                   MP:0011966   \n",
       "7   ENSEMBL:ENSACAG00000001940   \n",
       "8                MONDO:0010679   \n",
       "9                  RGD:1559479   \n",
       "10  ENSEMBL:ENSBTAG00000010191   \n",
       "11  ENSEMBL:ENSFCAG00000009092   \n",
       "12                   HGNC:1950   \n",
       "13                   MGI:94909   \n",
       "14                  HGNC:28958   \n",
       "\n",
       "                                           label_tail  class_tail  index_tail  \n",
       "0                          ENSEMBL:ENSCAFG00000009820           5        7362  \n",
       "1                                               TNNI2           5        7360  \n",
       "2                                           Scoliosis           8        2102  \n",
       "3                          ENSEMBL:ENSOANG00000007850           5        2284  \n",
       "4                                                AGRN           5        2205  \n",
       "5                                          A0A3Q2TS00           5        9573  \n",
       "6   abnormal auditory brainstem response waveform ...           8         839  \n",
       "7                          ENSEMBL:ENSACAG00000001940           5        2803  \n",
       "8                         Duchenne muscular dystrophy           3        4672  \n",
       "9                                                Tpm2           5        6456  \n",
       "10                         ENSEMBL:ENSBTAG00000010191           5        9981  \n",
       "11                         ENSEMBL:ENSFCAG00000009092           5        8297  \n",
       "12                                              CHRM1           5        8797  \n",
       "13                                                Dmd           5        1400  \n",
       "14                                              NUP93           5        1826  "
      ]
     },
     "execution_count": 14,
     "metadata": {},
     "output_type": "execute_result"
    }
   ],
   "source": [
    "kg_df.head(15)"
   ]
  },
  {
   "attachments": {},
   "cell_type": "markdown",
   "metadata": {},
   "source": [
    "# Preparation E2V Data"
   ]
  },
  {
   "attachments": {},
   "cell_type": "markdown",
   "metadata": {},
   "source": [
    "Encode string values of relation labels as numeric values."
   ]
  },
  {
   "cell_type": "code",
   "execution_count": 15,
   "metadata": {},
   "outputs": [
    {
     "data": {
      "text/html": [
       "<div>\n",
       "<style scoped>\n",
       "    .dataframe tbody tr th:only-of-type {\n",
       "        vertical-align: middle;\n",
       "    }\n",
       "\n",
       "    .dataframe tbody tr th {\n",
       "        vertical-align: top;\n",
       "    }\n",
       "\n",
       "    .dataframe thead th {\n",
       "        text-align: right;\n",
       "    }\n",
       "</style>\n",
       "<table border=\"1\" class=\"dataframe\">\n",
       "  <thead>\n",
       "    <tr style=\"text-align: right;\">\n",
       "      <th></th>\n",
       "      <th>head</th>\n",
       "      <th>label_head</th>\n",
       "      <th>class_head</th>\n",
       "      <th>index_head</th>\n",
       "      <th>relation</th>\n",
       "      <th>tail</th>\n",
       "      <th>label_tail</th>\n",
       "      <th>class_tail</th>\n",
       "      <th>index_tail</th>\n",
       "      <th>type</th>\n",
       "    </tr>\n",
       "  </thead>\n",
       "  <tbody>\n",
       "    <tr>\n",
       "      <th>0</th>\n",
       "      <td>FlyBase:FBgn0011676</td>\n",
       "      <td>Nos</td>\n",
       "      <td>5</td>\n",
       "      <td>9594</td>\n",
       "      <td>in orthology relationship with</td>\n",
       "      <td>ENSEMBL:ENSCAFG00000009820</td>\n",
       "      <td>ENSEMBL:ENSCAFG00000009820</td>\n",
       "      <td>5</td>\n",
       "      <td>7362</td>\n",
       "      <td>0</td>\n",
       "    </tr>\n",
       "    <tr>\n",
       "      <th>1</th>\n",
       "      <td>HGNC:12012</td>\n",
       "      <td>TPM3</td>\n",
       "      <td>5</td>\n",
       "      <td>1813</td>\n",
       "      <td>interacts with</td>\n",
       "      <td>HGNC:11946</td>\n",
       "      <td>TNNI2</td>\n",
       "      <td>5</td>\n",
       "      <td>7360</td>\n",
       "      <td>1</td>\n",
       "    </tr>\n",
       "    <tr>\n",
       "      <th>2</th>\n",
       "      <td>HGNC:15516</td>\n",
       "      <td>XYLT1</td>\n",
       "      <td>5</td>\n",
       "      <td>3228</td>\n",
       "      <td>causes condition</td>\n",
       "      <td>HP:0002650</td>\n",
       "      <td>Scoliosis</td>\n",
       "      <td>8</td>\n",
       "      <td>2102</td>\n",
       "      <td>2</td>\n",
       "    </tr>\n",
       "    <tr>\n",
       "      <th>3</th>\n",
       "      <td>WormBase:WBGene00000065</td>\n",
       "      <td>act-3</td>\n",
       "      <td>5</td>\n",
       "      <td>3272</td>\n",
       "      <td>in orthology relationship with</td>\n",
       "      <td>ENSEMBL:ENSOANG00000007850</td>\n",
       "      <td>ENSEMBL:ENSOANG00000007850</td>\n",
       "      <td>5</td>\n",
       "      <td>2284</td>\n",
       "      <td>0</td>\n",
       "    </tr>\n",
       "    <tr>\n",
       "      <th>4</th>\n",
       "      <td>HGNC:6485</td>\n",
       "      <td>LAMA5</td>\n",
       "      <td>5</td>\n",
       "      <td>4641</td>\n",
       "      <td>interacts with</td>\n",
       "      <td>HGNC:329</td>\n",
       "      <td>AGRN</td>\n",
       "      <td>5</td>\n",
       "      <td>2205</td>\n",
       "      <td>1</td>\n",
       "    </tr>\n",
       "    <tr>\n",
       "      <th>5</th>\n",
       "      <td>ENSEMBL:ENSECAG00000023844</td>\n",
       "      <td>ENSEMBL:ENSECAG00000023844</td>\n",
       "      <td>5</td>\n",
       "      <td>9822</td>\n",
       "      <td>in orthology relationship with</td>\n",
       "      <td>ENSEMBL:ENSGALG00000042388</td>\n",
       "      <td>A0A3Q2TS00</td>\n",
       "      <td>5</td>\n",
       "      <td>9573</td>\n",
       "      <td>0</td>\n",
       "    </tr>\n",
       "    <tr>\n",
       "      <th>6</th>\n",
       "      <td>MGI:3621491</td>\n",
       "      <td>Dmd&lt;mdx&gt;/Dmd&lt;mdx&gt; [C57BL/10ScSn-Dmd&lt;mdx&gt;/J]</td>\n",
       "      <td>6</td>\n",
       "      <td>4598</td>\n",
       "      <td>causes condition</td>\n",
       "      <td>MP:0011966</td>\n",
       "      <td>abnormal auditory brainstem response waveform ...</td>\n",
       "      <td>8</td>\n",
       "      <td>839</td>\n",
       "      <td>2</td>\n",
       "    </tr>\n",
       "    <tr>\n",
       "      <th>7</th>\n",
       "      <td>MGI:1859649</td>\n",
       "      <td>Ctnnal1</td>\n",
       "      <td>5</td>\n",
       "      <td>5773</td>\n",
       "      <td>in orthology relationship with</td>\n",
       "      <td>ENSEMBL:ENSACAG00000001940</td>\n",
       "      <td>ENSEMBL:ENSACAG00000001940</td>\n",
       "      <td>5</td>\n",
       "      <td>2803</td>\n",
       "      <td>0</td>\n",
       "    </tr>\n",
       "    <tr>\n",
       "      <th>8</th>\n",
       "      <td>ClinVarVariant:803793</td>\n",
       "      <td>NM_004006.3(DMD):c.9950_9951del (p.Lys3317fs)</td>\n",
       "      <td>10</td>\n",
       "      <td>1815</td>\n",
       "      <td>causes condition</td>\n",
       "      <td>MONDO:0010679</td>\n",
       "      <td>Duchenne muscular dystrophy</td>\n",
       "      <td>3</td>\n",
       "      <td>4672</td>\n",
       "      <td>2</td>\n",
       "    </tr>\n",
       "    <tr>\n",
       "      <th>9</th>\n",
       "      <td>PomBase:SPAC27F1.02c</td>\n",
       "      <td>cdc8</td>\n",
       "      <td>5</td>\n",
       "      <td>3477</td>\n",
       "      <td>in orthology relationship with</td>\n",
       "      <td>RGD:1559479</td>\n",
       "      <td>Tpm2</td>\n",
       "      <td>5</td>\n",
       "      <td>6456</td>\n",
       "      <td>0</td>\n",
       "    </tr>\n",
       "  </tbody>\n",
       "</table>\n",
       "</div>"
      ],
      "text/plain": [
       "                         head                                     label_head  \\\n",
       "0         FlyBase:FBgn0011676                                            Nos   \n",
       "1                  HGNC:12012                                           TPM3   \n",
       "2                  HGNC:15516                                          XYLT1   \n",
       "3     WormBase:WBGene00000065                                          act-3   \n",
       "4                   HGNC:6485                                          LAMA5   \n",
       "5  ENSEMBL:ENSECAG00000023844                     ENSEMBL:ENSECAG00000023844   \n",
       "6                 MGI:3621491    Dmd<mdx>/Dmd<mdx> [C57BL/10ScSn-Dmd<mdx>/J]   \n",
       "7                 MGI:1859649                                        Ctnnal1   \n",
       "8       ClinVarVariant:803793  NM_004006.3(DMD):c.9950_9951del (p.Lys3317fs)   \n",
       "9        PomBase:SPAC27F1.02c                                           cdc8   \n",
       "\n",
       "   class_head  index_head                        relation  \\\n",
       "0           5        9594  in orthology relationship with   \n",
       "1           5        1813                  interacts with   \n",
       "2           5        3228                causes condition   \n",
       "3           5        3272  in orthology relationship with   \n",
       "4           5        4641                  interacts with   \n",
       "5           5        9822  in orthology relationship with   \n",
       "6           6        4598                causes condition   \n",
       "7           5        5773  in orthology relationship with   \n",
       "8          10        1815                causes condition   \n",
       "9           5        3477  in orthology relationship with   \n",
       "\n",
       "                         tail  \\\n",
       "0  ENSEMBL:ENSCAFG00000009820   \n",
       "1                  HGNC:11946   \n",
       "2                  HP:0002650   \n",
       "3  ENSEMBL:ENSOANG00000007850   \n",
       "4                    HGNC:329   \n",
       "5  ENSEMBL:ENSGALG00000042388   \n",
       "6                  MP:0011966   \n",
       "7  ENSEMBL:ENSACAG00000001940   \n",
       "8               MONDO:0010679   \n",
       "9                 RGD:1559479   \n",
       "\n",
       "                                          label_tail  class_tail  index_tail  \\\n",
       "0                         ENSEMBL:ENSCAFG00000009820           5        7362   \n",
       "1                                              TNNI2           5        7360   \n",
       "2                                          Scoliosis           8        2102   \n",
       "3                         ENSEMBL:ENSOANG00000007850           5        2284   \n",
       "4                                               AGRN           5        2205   \n",
       "5                                         A0A3Q2TS00           5        9573   \n",
       "6  abnormal auditory brainstem response waveform ...           8         839   \n",
       "7                         ENSEMBL:ENSACAG00000001940           5        2803   \n",
       "8                        Duchenne muscular dystrophy           3        4672   \n",
       "9                                               Tpm2           5        6456   \n",
       "\n",
       "   type  \n",
       "0     0  \n",
       "1     1  \n",
       "2     2  \n",
       "3     0  \n",
       "4     1  \n",
       "5     0  \n",
       "6     2  \n",
       "7     0  \n",
       "8     2  \n",
       "9     0  "
      ]
     },
     "execution_count": 15,
     "metadata": {},
     "output_type": "execute_result"
    }
   ],
   "source": [
    "kg_df['type'], relation_labels = pd.factorize(kg_df['relation'])\n",
    "kg_df.head(10)"
   ]
  },
  {
   "attachments": {},
   "cell_type": "markdown",
   "metadata": {},
   "source": [
    "Index list can be used later for converting back to the label of the relation."
   ]
  },
  {
   "cell_type": "code",
   "execution_count": 16,
   "metadata": {},
   "outputs": [
    {
     "data": {
      "text/plain": [
       "Index(['in orthology relationship with', 'interacts with', 'causes condition',\n",
       "       'targets', 'is part of', 'found in', 'has role in modeling', 'is of',\n",
       "       'associated with phenotype', 'contributes to condition',\n",
       "       'likely causes condition', 'has affected feature', 'expresses gene',\n",
       "       'enables', 'is substance that treats', 'involved in',\n",
       "       'colocalizes with', 'is allele of', 'is variant in', 'has genotype'],\n",
       "      dtype='object')"
      ]
     },
     "execution_count": 16,
     "metadata": {},
     "output_type": "execute_result"
    }
   ],
   "source": [
    "relation_labels"
   ]
  },
  {
   "attachments": {},
   "cell_type": "markdown",
   "metadata": {},
   "source": [
    "Extract the relevant columns for applying the Edge2Vec method."
   ]
  },
  {
   "cell_type": "code",
   "execution_count": 17,
   "metadata": {},
   "outputs": [
    {
     "data": {
      "text/html": [
       "<div>\n",
       "<style scoped>\n",
       "    .dataframe tbody tr th:only-of-type {\n",
       "        vertical-align: middle;\n",
       "    }\n",
       "\n",
       "    .dataframe tbody tr th {\n",
       "        vertical-align: top;\n",
       "    }\n",
       "\n",
       "    .dataframe thead th {\n",
       "        text-align: right;\n",
       "    }\n",
       "</style>\n",
       "<table border=\"1\" class=\"dataframe\">\n",
       "  <thead>\n",
       "    <tr style=\"text-align: right;\">\n",
       "      <th></th>\n",
       "      <th>head</th>\n",
       "      <th>label_head</th>\n",
       "      <th>class_head</th>\n",
       "      <th>index_head</th>\n",
       "      <th>relation</th>\n",
       "      <th>tail</th>\n",
       "      <th>label_tail</th>\n",
       "      <th>class_tail</th>\n",
       "      <th>index_tail</th>\n",
       "      <th>type</th>\n",
       "    </tr>\n",
       "  </thead>\n",
       "  <tbody>\n",
       "    <tr>\n",
       "      <th>0</th>\n",
       "      <td>FlyBase:FBgn0011676</td>\n",
       "      <td>Nos</td>\n",
       "      <td>5</td>\n",
       "      <td>9594</td>\n",
       "      <td>in orthology relationship with</td>\n",
       "      <td>ENSEMBL:ENSCAFG00000009820</td>\n",
       "      <td>ENSEMBL:ENSCAFG00000009820</td>\n",
       "      <td>5</td>\n",
       "      <td>7362</td>\n",
       "      <td>0</td>\n",
       "    </tr>\n",
       "    <tr>\n",
       "      <th>1</th>\n",
       "      <td>HGNC:12012</td>\n",
       "      <td>TPM3</td>\n",
       "      <td>5</td>\n",
       "      <td>1813</td>\n",
       "      <td>interacts with</td>\n",
       "      <td>HGNC:11946</td>\n",
       "      <td>TNNI2</td>\n",
       "      <td>5</td>\n",
       "      <td>7360</td>\n",
       "      <td>1</td>\n",
       "    </tr>\n",
       "    <tr>\n",
       "      <th>2</th>\n",
       "      <td>HGNC:15516</td>\n",
       "      <td>XYLT1</td>\n",
       "      <td>5</td>\n",
       "      <td>3228</td>\n",
       "      <td>causes condition</td>\n",
       "      <td>HP:0002650</td>\n",
       "      <td>Scoliosis</td>\n",
       "      <td>8</td>\n",
       "      <td>2102</td>\n",
       "      <td>2</td>\n",
       "    </tr>\n",
       "    <tr>\n",
       "      <th>3</th>\n",
       "      <td>WormBase:WBGene00000065</td>\n",
       "      <td>act-3</td>\n",
       "      <td>5</td>\n",
       "      <td>3272</td>\n",
       "      <td>in orthology relationship with</td>\n",
       "      <td>ENSEMBL:ENSOANG00000007850</td>\n",
       "      <td>ENSEMBL:ENSOANG00000007850</td>\n",
       "      <td>5</td>\n",
       "      <td>2284</td>\n",
       "      <td>0</td>\n",
       "    </tr>\n",
       "    <tr>\n",
       "      <th>4</th>\n",
       "      <td>HGNC:6485</td>\n",
       "      <td>LAMA5</td>\n",
       "      <td>5</td>\n",
       "      <td>4641</td>\n",
       "      <td>interacts with</td>\n",
       "      <td>HGNC:329</td>\n",
       "      <td>AGRN</td>\n",
       "      <td>5</td>\n",
       "      <td>2205</td>\n",
       "      <td>1</td>\n",
       "    </tr>\n",
       "    <tr>\n",
       "      <th>5</th>\n",
       "      <td>ENSEMBL:ENSECAG00000023844</td>\n",
       "      <td>ENSEMBL:ENSECAG00000023844</td>\n",
       "      <td>5</td>\n",
       "      <td>9822</td>\n",
       "      <td>in orthology relationship with</td>\n",
       "      <td>ENSEMBL:ENSGALG00000042388</td>\n",
       "      <td>A0A3Q2TS00</td>\n",
       "      <td>5</td>\n",
       "      <td>9573</td>\n",
       "      <td>0</td>\n",
       "    </tr>\n",
       "    <tr>\n",
       "      <th>6</th>\n",
       "      <td>MGI:3621491</td>\n",
       "      <td>Dmd&lt;mdx&gt;/Dmd&lt;mdx&gt; [C57BL/10ScSn-Dmd&lt;mdx&gt;/J]</td>\n",
       "      <td>6</td>\n",
       "      <td>4598</td>\n",
       "      <td>causes condition</td>\n",
       "      <td>MP:0011966</td>\n",
       "      <td>abnormal auditory brainstem response waveform ...</td>\n",
       "      <td>8</td>\n",
       "      <td>839</td>\n",
       "      <td>2</td>\n",
       "    </tr>\n",
       "    <tr>\n",
       "      <th>7</th>\n",
       "      <td>MGI:1859649</td>\n",
       "      <td>Ctnnal1</td>\n",
       "      <td>5</td>\n",
       "      <td>5773</td>\n",
       "      <td>in orthology relationship with</td>\n",
       "      <td>ENSEMBL:ENSACAG00000001940</td>\n",
       "      <td>ENSEMBL:ENSACAG00000001940</td>\n",
       "      <td>5</td>\n",
       "      <td>2803</td>\n",
       "      <td>0</td>\n",
       "    </tr>\n",
       "    <tr>\n",
       "      <th>8</th>\n",
       "      <td>ClinVarVariant:803793</td>\n",
       "      <td>NM_004006.3(DMD):c.9950_9951del (p.Lys3317fs)</td>\n",
       "      <td>10</td>\n",
       "      <td>1815</td>\n",
       "      <td>causes condition</td>\n",
       "      <td>MONDO:0010679</td>\n",
       "      <td>Duchenne muscular dystrophy</td>\n",
       "      <td>3</td>\n",
       "      <td>4672</td>\n",
       "      <td>2</td>\n",
       "    </tr>\n",
       "    <tr>\n",
       "      <th>9</th>\n",
       "      <td>PomBase:SPAC27F1.02c</td>\n",
       "      <td>cdc8</td>\n",
       "      <td>5</td>\n",
       "      <td>3477</td>\n",
       "      <td>in orthology relationship with</td>\n",
       "      <td>RGD:1559479</td>\n",
       "      <td>Tpm2</td>\n",
       "      <td>5</td>\n",
       "      <td>6456</td>\n",
       "      <td>0</td>\n",
       "    </tr>\n",
       "  </tbody>\n",
       "</table>\n",
       "</div>"
      ],
      "text/plain": [
       "                         head                                     label_head  \\\n",
       "0         FlyBase:FBgn0011676                                            Nos   \n",
       "1                  HGNC:12012                                           TPM3   \n",
       "2                  HGNC:15516                                          XYLT1   \n",
       "3     WormBase:WBGene00000065                                          act-3   \n",
       "4                   HGNC:6485                                          LAMA5   \n",
       "5  ENSEMBL:ENSECAG00000023844                     ENSEMBL:ENSECAG00000023844   \n",
       "6                 MGI:3621491    Dmd<mdx>/Dmd<mdx> [C57BL/10ScSn-Dmd<mdx>/J]   \n",
       "7                 MGI:1859649                                        Ctnnal1   \n",
       "8       ClinVarVariant:803793  NM_004006.3(DMD):c.9950_9951del (p.Lys3317fs)   \n",
       "9        PomBase:SPAC27F1.02c                                           cdc8   \n",
       "\n",
       "   class_head index_head                        relation  \\\n",
       "0           5       9594  in orthology relationship with   \n",
       "1           5       1813                  interacts with   \n",
       "2           5       3228                causes condition   \n",
       "3           5       3272  in orthology relationship with   \n",
       "4           5       4641                  interacts with   \n",
       "5           5       9822  in orthology relationship with   \n",
       "6           6       4598                causes condition   \n",
       "7           5       5773  in orthology relationship with   \n",
       "8          10       1815                causes condition   \n",
       "9           5       3477  in orthology relationship with   \n",
       "\n",
       "                         tail  \\\n",
       "0  ENSEMBL:ENSCAFG00000009820   \n",
       "1                  HGNC:11946   \n",
       "2                  HP:0002650   \n",
       "3  ENSEMBL:ENSOANG00000007850   \n",
       "4                    HGNC:329   \n",
       "5  ENSEMBL:ENSGALG00000042388   \n",
       "6                  MP:0011966   \n",
       "7  ENSEMBL:ENSACAG00000001940   \n",
       "8               MONDO:0010679   \n",
       "9                 RGD:1559479   \n",
       "\n",
       "                                          label_tail  class_tail index_tail  \\\n",
       "0                         ENSEMBL:ENSCAFG00000009820           5       7362   \n",
       "1                                              TNNI2           5       7360   \n",
       "2                                          Scoliosis           8       2102   \n",
       "3                         ENSEMBL:ENSOANG00000007850           5       2284   \n",
       "4                                               AGRN           5       2205   \n",
       "5                                         A0A3Q2TS00           5       9573   \n",
       "6  abnormal auditory brainstem response waveform ...           8        839   \n",
       "7                         ENSEMBL:ENSACAG00000001940           5       2803   \n",
       "8                        Duchenne muscular dystrophy           3       4672   \n",
       "9                                               Tpm2           5       6456   \n",
       "\n",
       "   type  \n",
       "0     0  \n",
       "1     1  \n",
       "2     2  \n",
       "3     0  \n",
       "4     1  \n",
       "5     0  \n",
       "6     2  \n",
       "7     0  \n",
       "8     2  \n",
       "9     0  "
      ]
     },
     "execution_count": 17,
     "metadata": {},
     "output_type": "execute_result"
    }
   ],
   "source": [
    "edge2vec_df = kg_df.copy()\n",
    "#edge2vec_df = kg_df.drop(['head', 'relation', 'tail'], axis=1)\n",
    "edge2vec_df['index_head'] = edge2vec_df['index_head'].apply(str)\n",
    "edge2vec_df['index_tail'] = edge2vec_df['index_tail'].apply(str)\n",
    "edge2vec_df.head(10)"
   ]
  },
  {
   "cell_type": "code",
   "execution_count": 18,
   "metadata": {},
   "outputs": [
    {
     "name": "stdout",
     "output_type": "stream",
     "text": [
      "There are 85954 edges\n"
     ]
    }
   ],
   "source": [
    "print(f'There are {edge2vec_df.shape[0]} edges')"
   ]
  },
  {
   "cell_type": "code",
   "execution_count": 107,
   "metadata": {},
   "outputs": [],
   "source": [
    "edge2vec_df.to_csv('output/indexed_edges.csv', index=False)"
   ]
  },
  {
   "attachments": {},
   "cell_type": "markdown",
   "metadata": {},
   "source": [
    "Initialize edge list with keys 'type' and 'weight'. The 'weight' of each edge is initialized to 1.0. "
   ]
  },
  {
   "cell_type": "code",
   "execution_count": 19,
   "metadata": {},
   "outputs": [],
   "source": [
    "G = nx.from_pandas_edgelist(edge2vec_df, 'index_head', 'index_tail', 'type', create_using=nx.DiGraph(), edge_key= (('type', int),('id',int)))\n",
    "G = G.to_undirected()\n",
    "for edge in G.edges():\n",
    "    G[edge[0]][edge[1]]['weight'] = 1.0"
   ]
  },
  {
   "cell_type": "code",
   "execution_count": 20,
   "metadata": {},
   "outputs": [
    {
     "name": "stdout",
     "output_type": "stream",
     "text": [
      "First node in graph: ('9594', {})\n",
      "First edge in graph: ('9594', '7362', {'type': 0, 'weight': 1.0})\n",
      "Total number of edges is 54994\n",
      "Total number of nodes is 10237\n"
     ]
    }
   ],
   "source": [
    "for node in G.nodes(data=True):\n",
    "    print('First node in graph:', node)\n",
    "    break\n",
    "\n",
    "for edge in G.edges(data=True):\n",
    "    print('First edge in graph:', edge)\n",
    "    break\n",
    "\n",
    "print('Total number of edges is {}'.format(G.number_of_edges()))\n",
    "print('Total number of nodes is {}'.format(G.number_of_nodes()))"
   ]
  },
  {
   "attachments": {},
   "cell_type": "markdown",
   "metadata": {},
   "source": [
    "# Obtain Node Embeddings with E2V"
   ]
  },
  {
   "cell_type": "code",
   "execution_count": 21,
   "metadata": {},
   "outputs": [
    {
     "name": "stdout",
     "output_type": "stream",
     "text": [
      "There are 20 edge types\n"
     ]
    }
   ],
   "source": [
    "type_size = len(set(edge2vec_df['type']))\n",
    "print(f'There are {type_size} edge types')"
   ]
  },
  {
   "attachments": {},
   "cell_type": "markdown",
   "metadata": {},
   "source": [
    "Define parameters and generate edge type transition matrix using Edge2Vec EM approach"
   ]
  },
  {
   "cell_type": "code",
   "execution_count": 22,
   "metadata": {},
   "outputs": [
    {
     "name": "stdout",
     "output_type": "stream",
     "text": [
      "Initializing transition matrix...\n",
      "Updating transition matrix...\n",
      "Walk iteration:\n",
      "1 / 2\n",
      "2 / 2\n",
      "0th iteration of updating matrix\n"
     ]
    },
    {
     "name": "stderr",
     "output_type": "stream",
     "text": [
      "c:\\Users\\rosa-\\anaconda3\\envs\\xaifo\\lib\\site-packages\\scipy\\stats\\_morestats.py:3428: UserWarning: Sample size too small for normal approximation.\n",
      "  warnings.warn(\"Sample size too small for normal approximation.\")\n"
     ]
    },
    {
     "name": "stdout",
     "output_type": "stream",
     "text": [
      "Walk iteration:\n",
      "1 / 2\n",
      "2 / 2\n",
      "1th iteration of updating matrix\n",
      "Walk iteration:\n",
      "1 / 2\n",
      "2 / 2\n",
      "2th iteration of updating matrix\n",
      "Walk iteration:\n",
      "1 / 2\n",
      "2 / 2\n",
      "3th iteration of updating matrix\n",
      "Walk iteration:\n",
      "1 / 2\n",
      "2 / 2\n",
      "4th iteration of updating matrix\n",
      "Walk iteration:\n",
      "1 / 2\n",
      "2 / 2\n",
      "5th iteration of updating matrix\n",
      "Walk iteration:\n",
      "1 / 2\n",
      "2 / 2\n",
      "6th iteration of updating matrix\n",
      "Walk iteration:\n",
      "1 / 2\n",
      "2 / 2\n",
      "7th iteration of updating matrix\n",
      "Walk iteration:\n",
      "1 / 2\n",
      "2 / 2\n",
      "8th iteration of updating matrix\n",
      "Walk iteration:\n",
      "1 / 2\n",
      "2 / 2\n",
      "9th iteration of updating matrix\n",
      "Finished generating values for transition matrix!\n"
     ]
    }
   ],
   "source": [
    "epoch = 10  # number of epochs\n",
    "num_walks = 2   # number of walks per node\n",
    "walk_length = 7 # length of each walk\n",
    "directed = True\n",
    "p = 0.7\n",
    "q = 1\n",
    "e_step = 3\n",
    "\n",
    "print('Initializing transition matrix...')\n",
    "M = transitions.initialize_edge_type_matrix(type_size)\n",
    "\n",
    "print('Updating transition matrix...')\n",
    "for i in range(epoch):\n",
    "    walks = transitions.simulate_walks_1(G, num_walks, walk_length, M, directed, p, q) # M step\n",
    "    print(f'{i}th iteration of updating matrix')\n",
    "    M = transitions.update_trans_matrix(walks, type_size, e_step) # E step\n",
    "\n",
    "print(\"Finished generating values for transition matrix!\")"
   ]
  },
  {
   "cell_type": "code",
   "execution_count": 23,
   "metadata": {},
   "outputs": [
    {
     "name": "stdout",
     "output_type": "stream",
     "text": [
      "Overview of resulting edge type transition matrix (float values have been truncated to fit the view!):\n",
      "0.5\t1.0\t1.0\t1.0\t1.0\t1.0\t1.0\t1.0\t1.0\t1.0\t1.0\t1.0\t1.0\t1.0\t1.0\t1.0\t1.0\t1.0\t1.0\t0.5\n",
      "1.0\t0.5\t1.0\t1.0\t1.0\t1.0\t1.0\t1.0\t1.0\t1.0\t1.0\t1.0\t1.0\t1.0\t1.0\t1.0\t1.0\t0.5\t0.5\t0.5\n",
      "1.0\t1.0\t0.5\t1.0\t1.0\t1.0\t1.0\t1.0\t1.0\t1.0\t1.0\t1.0\t1.0\t1.0\t1.0\t1.0\t1.0\t1.0\t0.999\t0.5\n",
      "1.0\t1.0\t1.0\t0.5\t1.0\t1.0\t1.0\t1.0\t1.0\t1.0\t1.0\t1.0\t1.0\t1.0\t1.0\t1.0\t1.0\t1.0\t1.0\t0.5\n",
      "1.0\t1.0\t1.0\t1.0\t0.5\t1.0\t1.0\t1.0\t1.0\t1.0\t1.0\t1.0\t1.0\t1.0\t1.0\t1.0\t1.0\t1.0\t1.0\t0.5\n",
      "1.0\t1.0\t1.0\t1.0\t1.0\t0.5\t1.0\t1.0\t1.0\t1.0\t1.0\t1.0\t1.0\t1.0\t1.0\t1.0\t1.0\t1.0\t1.0\t0.5\n",
      "1.0\t1.0\t1.0\t1.0\t1.0\t1.0\t0.5\t1.0\t1.0\t1.0\t1.0\t1.0\t1.0\t1.0\t1.0\t1.0\t1.0\t1.0\t0.999\t0.5\n",
      "1.0\t1.0\t1.0\t1.0\t1.0\t1.0\t1.0\t0.5\t1.0\t1.0\t1.0\t1.0\t1.0\t1.0\t1.0\t1.0\t1.0\t1.0\t1.0\t0.5\n",
      "1.0\t1.0\t1.0\t1.0\t1.0\t1.0\t1.0\t1.0\t0.5\t1.0\t1.0\t1.0\t1.0\t1.0\t1.0\t1.0\t1.0\t1.0\t1.0\t0.5\n",
      "1.0\t1.0\t1.0\t1.0\t1.0\t1.0\t1.0\t1.0\t1.0\t0.5\t1.0\t1.0\t1.0\t1.0\t1.0\t1.0\t1.0\t1.0\t1.0\t0.5\n",
      "1.0\t1.0\t1.0\t1.0\t1.0\t1.0\t1.0\t1.0\t1.0\t1.0\t0.5\t1.0\t1.0\t1.0\t1.0\t1.0\t1.0\t1.0\t1.0\t0.5\n",
      "1.0\t1.0\t1.0\t1.0\t1.0\t1.0\t1.0\t1.0\t1.0\t1.0\t1.0\t0.5\t1.0\t1.0\t1.0\t1.0\t1.0\t1.0\t0.999\t0.5\n",
      "1.0\t1.0\t1.0\t1.0\t1.0\t1.0\t1.0\t1.0\t1.0\t1.0\t1.0\t1.0\t0.5\t1.0\t1.0\t1.0\t1.0\t1.0\t1.0\t0.5\n",
      "1.0\t1.0\t1.0\t1.0\t1.0\t1.0\t1.0\t1.0\t1.0\t1.0\t1.0\t1.0\t1.0\t0.5\t1.0\t1.0\t1.0\t1.0\t0.999\t0.5\n",
      "1.0\t1.0\t1.0\t1.0\t1.0\t1.0\t1.0\t1.0\t1.0\t1.0\t1.0\t1.0\t1.0\t1.0\t0.5\t1.0\t1.0\t1.0\t0.999\t0.5\n",
      "1.0\t1.0\t1.0\t1.0\t1.0\t1.0\t1.0\t1.0\t1.0\t1.0\t1.0\t1.0\t1.0\t1.0\t1.0\t0.5\t1.0\t1.0\t0.999\t0.5\n",
      "1.0\t1.0\t1.0\t1.0\t1.0\t1.0\t1.0\t1.0\t1.0\t1.0\t1.0\t1.0\t1.0\t1.0\t1.0\t1.0\t0.5\t1.0\t0.999\t0.5\n",
      "1.0\t0.5\t1.0\t1.0\t1.0\t1.0\t1.0\t1.0\t1.0\t1.0\t1.0\t1.0\t1.0\t1.0\t1.0\t1.0\t1.0\t0.5\t0.999\t0.5\n",
      "1.0\t0.5\t0.999\t1.0\t1.0\t1.0\t0.999\t1.0\t1.0\t1.0\t1.0\t0.999\t1.0\t0.999\t0.999\t0.999\t0.999\t0.999\t0.5\t0.5\n",
      "0.5\t0.5\t0.5\t0.5\t0.5\t0.5\t0.5\t0.5\t0.5\t0.5\t0.5\t0.5\t0.5\t0.5\t0.5\t0.5\t0.5\t0.5\t0.5\t0.5\n"
     ]
    }
   ],
   "source": [
    "print('Overview of resulting edge type transition matrix (float values have been truncated to fit the view!):')\n",
    "print('\\n'.join(['\\t'.join([str(cell)[:5] for cell in row]) for row in M]))"
   ]
  },
  {
   "attachments": {},
   "cell_type": "markdown",
   "metadata": {},
   "source": [
    "Generate walks constrained by final edge type transition matrix"
   ]
  },
  {
   "cell_type": "code",
   "execution_count": 24,
   "metadata": {},
   "outputs": [
    {
     "name": "stdout",
     "output_type": "stream",
     "text": [
      "Generate walks constrained by edge type transition matrix...\n",
      "Walk iteration:\n",
      "1 / 2\n",
      "2 / 2\n"
     ]
    }
   ],
   "source": [
    "print('Generate walks constrained by edge type transition matrix...')\n",
    "walks = edge2vec.simulate_walks_2(G, num_walks, walk_length, M, p, q)"
   ]
  },
  {
   "attachments": {},
   "cell_type": "markdown",
   "metadata": {},
   "source": [
    "Generate node embeddings using Word2Vec (skip-gram model) with as input the generated walks"
   ]
  },
  {
   "cell_type": "code",
   "execution_count": 25,
   "metadata": {},
   "outputs": [],
   "source": [
    "dim = 64    # desired dimension of the node embedding\n",
    "window_size = walk_length - 1   # maximum distance between predicted and context node\n",
    "workers = 8 # threads used\n",
    "epochs = 10\n",
    "\n",
    "w2v_model = edge2vec.Word2Vec(walks, vector_size=dim, window=window_size, min_count=0, sg=1, workers=workers, epochs=epochs)"
   ]
  },
  {
   "attachments": {},
   "cell_type": "markdown",
   "metadata": {},
   "source": [
    "Save the node embeddings"
   ]
  },
  {
   "cell_type": "code",
   "execution_count": 26,
   "metadata": {},
   "outputs": [],
   "source": [
    "word_vectors = w2v_model.wv\n",
    "word_vectors.save('output/w2v.dvectors')"
   ]
  },
  {
   "cell_type": "code",
   "execution_count": 27,
   "metadata": {},
   "outputs": [],
   "source": [
    "e2v_embedding = pd.DataFrame(columns = ['Node', 'Embedding'])\n",
    "for idx, key in enumerate(w2v_model.wv.index_to_key):\n",
    "    e2v_embedding.loc[int(key)] = pd.Series({'Node':int(key), 'Embedding':list(w2v_model.wv[key])})\n",
    "    \n",
    "e2v_embedding = e2v_embedding.sort_values('Node')"
   ]
  },
  {
   "attachments": {},
   "cell_type": "markdown",
   "metadata": {},
   "source": [
    "The embeddings of each node in the graph"
   ]
  },
  {
   "cell_type": "code",
   "execution_count": 28,
   "metadata": {},
   "outputs": [
    {
     "data": {
      "text/html": [
       "<div>\n",
       "<style scoped>\n",
       "    .dataframe tbody tr th:only-of-type {\n",
       "        vertical-align: middle;\n",
       "    }\n",
       "\n",
       "    .dataframe tbody tr th {\n",
       "        vertical-align: top;\n",
       "    }\n",
       "\n",
       "    .dataframe thead th {\n",
       "        text-align: right;\n",
       "    }\n",
       "</style>\n",
       "<table border=\"1\" class=\"dataframe\">\n",
       "  <thead>\n",
       "    <tr style=\"text-align: right;\">\n",
       "      <th></th>\n",
       "      <th>Node</th>\n",
       "      <th>Embedding</th>\n",
       "    </tr>\n",
       "  </thead>\n",
       "  <tbody>\n",
       "    <tr>\n",
       "      <th>0</th>\n",
       "      <td>0</td>\n",
       "      <td>[0.13517001, -0.25358334, 0.07978077, 0.045121...</td>\n",
       "    </tr>\n",
       "    <tr>\n",
       "      <th>1</th>\n",
       "      <td>1</td>\n",
       "      <td>[0.16805942, -0.8350107, 0.19610697, 0.1981789...</td>\n",
       "    </tr>\n",
       "    <tr>\n",
       "      <th>2</th>\n",
       "      <td>2</td>\n",
       "      <td>[0.2186089, 0.50546986, 0.6193271, 0.0123952, ...</td>\n",
       "    </tr>\n",
       "    <tr>\n",
       "      <th>3</th>\n",
       "      <td>3</td>\n",
       "      <td>[0.29987955, -0.30054563, 0.15258668, 0.367052...</td>\n",
       "    </tr>\n",
       "    <tr>\n",
       "      <th>4</th>\n",
       "      <td>4</td>\n",
       "      <td>[0.1618276, -0.36085665, 0.295463, 0.17283706,...</td>\n",
       "    </tr>\n",
       "    <tr>\n",
       "      <th>...</th>\n",
       "      <td>...</td>\n",
       "      <td>...</td>\n",
       "    </tr>\n",
       "    <tr>\n",
       "      <th>10232</th>\n",
       "      <td>10232</td>\n",
       "      <td>[0.3500288, -1.1846579, 0.15232153, 0.05306821...</td>\n",
       "    </tr>\n",
       "    <tr>\n",
       "      <th>10233</th>\n",
       "      <td>10233</td>\n",
       "      <td>[0.17927206, -0.17169905, -0.12125319, 0.18529...</td>\n",
       "    </tr>\n",
       "    <tr>\n",
       "      <th>10234</th>\n",
       "      <td>10234</td>\n",
       "      <td>[0.24352823, -0.24893956, 0.22431412, 0.153569...</td>\n",
       "    </tr>\n",
       "    <tr>\n",
       "      <th>10235</th>\n",
       "      <td>10235</td>\n",
       "      <td>[0.3218023, -0.7156479, 0.30151767, -0.3144425...</td>\n",
       "    </tr>\n",
       "    <tr>\n",
       "      <th>10236</th>\n",
       "      <td>10236</td>\n",
       "      <td>[0.031928696, 0.004664857, 0.08043143, 0.36100...</td>\n",
       "    </tr>\n",
       "  </tbody>\n",
       "</table>\n",
       "<p>10237 rows × 2 columns</p>\n",
       "</div>"
      ],
      "text/plain": [
       "        Node                                          Embedding\n",
       "0          0  [0.13517001, -0.25358334, 0.07978077, 0.045121...\n",
       "1          1  [0.16805942, -0.8350107, 0.19610697, 0.1981789...\n",
       "2          2  [0.2186089, 0.50546986, 0.6193271, 0.0123952, ...\n",
       "3          3  [0.29987955, -0.30054563, 0.15258668, 0.367052...\n",
       "4          4  [0.1618276, -0.36085665, 0.295463, 0.17283706,...\n",
       "...      ...                                                ...\n",
       "10232  10232  [0.3500288, -1.1846579, 0.15232153, 0.05306821...\n",
       "10233  10233  [0.17927206, -0.17169905, -0.12125319, 0.18529...\n",
       "10234  10234  [0.24352823, -0.24893956, 0.22431412, 0.153569...\n",
       "10235  10235  [0.3218023, -0.7156479, 0.30151767, -0.3144425...\n",
       "10236  10236  [0.031928696, 0.004664857, 0.08043143, 0.36100...\n",
       "\n",
       "[10237 rows x 2 columns]"
      ]
     },
     "execution_count": 28,
     "metadata": {},
     "output_type": "execute_result"
    }
   ],
   "source": [
    "e2v_embedding"
   ]
  },
  {
   "attachments": {},
   "cell_type": "markdown",
   "metadata": {},
   "source": [
    "# Link Prediction"
   ]
  },
  {
   "attachments": {},
   "cell_type": "markdown",
   "metadata": {},
   "source": [
    "Creating a graph including the node embeddings as features of each node."
   ]
  },
  {
   "cell_type": "code",
   "execution_count": 29,
   "metadata": {},
   "outputs": [
    {
     "name": "stdout",
     "output_type": "stream",
     "text": [
      "(0, {'node_feature': tensor([ 0.1352, -0.2536,  0.0798,  0.0451,  0.0747, -0.2546, -0.0705, -0.0646,\n",
      "        -0.2445, -0.0202,  0.0493, -0.1636, -0.0623, -0.0508,  0.0288,  0.2002,\n",
      "        -0.1173, -0.0943, -0.0744,  0.1843,  0.2936,  0.1871,  0.0121, -0.1656,\n",
      "        -0.0181,  0.1075, -0.2460, -0.0466,  0.0871,  0.0957,  0.0087,  0.0946,\n",
      "         0.0594, -0.0770, -0.0258,  0.0603, -0.0336, -0.0642,  0.0645,  0.0790,\n",
      "        -0.0484, -0.0365, -0.0421,  0.0775,  0.1667, -0.0309,  0.0096, -0.1305,\n",
      "        -0.0259,  0.1215,  0.0949,  0.0348,  0.1015,  0.1412,  0.0737,  0.0777,\n",
      "         0.0288, -0.0531, -0.1087,  0.0693, -0.1133, -0.0443, -0.0622, -0.0670])})\n",
      "(0, 5535, {})\n",
      "Number of edges is 54994\n",
      "Number of nodes is 10237\n"
     ]
    }
   ],
   "source": [
    "embedded_node_G = nx.Graph()\n",
    "\n",
    "for ind, node in e2v_embedding.iterrows(): \n",
    "  embedded_node_G.add_node(int(node['Node']), node_feature=torch.Tensor(node['Embedding']))\n",
    "for ind, edge in edge2vec_df.iterrows(): \n",
    "  embedded_node_G.add_edge(int(edge['index_head']), int(edge['index_tail']))\n",
    "    \n",
    "for node in embedded_node_G.nodes(data=True):\n",
    "    print(node)\n",
    "    break\n",
    "for edge in embedded_node_G.edges(data=True):\n",
    "    print(edge)\n",
    "    break\n",
    "\n",
    "print(\"Number of edges is {}\".format(embedded_node_G.number_of_edges()))\n",
    "print(\"Number of nodes is {}\".format(embedded_node_G.number_of_nodes()))"
   ]
  },
  {
   "attachments": {},
   "cell_type": "markdown",
   "metadata": {},
   "source": [
    "## Generate graph datasets for training, validation and testing"
   ]
  },
  {
   "attachments": {},
   "cell_type": "markdown",
   "metadata": {},
   "source": [
    "Transductive link prediction split (https://zqfang.github.io/2021-08-12-graph-linkpredict/):\n",
    "- Train/validation/test sets are on the same graph\n",
    "- The dataset consists of one graph\n",
    "- The entire graph can be observed in all dataset splits\n",
    "- The labels of the edges are split"
   ]
  },
  {
   "cell_type": "code",
   "execution_count": 30,
   "metadata": {},
   "outputs": [
    {
     "name": "stderr",
     "output_type": "stream",
     "text": [
      "c:\\Users\\rosa-\\anaconda3\\envs\\xaifo\\lib\\site-packages\\deepsnap\\graph.py:2126: UserWarning: __floordiv__ is deprecated, and its behavior will change in a future version of pytorch. It currently rounds toward 0 (like the 'trunc' function NOT 'floor'). This results in incorrect rounding for negative values. To keep the current behavior, use torch.div(a, b, rounding_mode='trunc'), or for actual floor division, use torch.div(a, b, rounding_mode='floor').\n",
      "  row = perm // num_nodes\n"
     ]
    },
    {
     "name": "stdout",
     "output_type": "stream",
     "text": [
      "Input dimension (embedding dimension): 64 \n",
      " Number of edge classes (link or no link): 2\n"
     ]
    }
   ],
   "source": [
    "dataset = GraphDataset(\n",
    "    embedded_node_G,\n",
    "    task='link_pred',\n",
    "    edge_train_mode='all'\n",
    ")\n",
    "\n",
    "datasets = {}\n",
    "datasets['train'], datasets['val'], datasets['test'] = dataset.split(\n",
    "    transductive=True, split_ratio=[0.8, 0.1, 0.1]\n",
    ")\n",
    "\n",
    "input_dim = datasets['train'].num_node_features\n",
    "num_classes = datasets['train'].num_edge_labels\n",
    "\n",
    "print(f'Input dimension (embedding dimension): {input_dim} \\n Number of edge classes (link or no link): {num_classes}')   "
   ]
  },
  {
   "attachments": {},
   "cell_type": "markdown",
   "metadata": {},
   "source": [
    "Dataloaders allow to feed data into the model by batch."
   ]
  },
  {
   "cell_type": "code",
   "execution_count": 31,
   "metadata": {},
   "outputs": [],
   "source": [
    "dataloaders = {split: DataLoader(ds, collate_fn=Batch.collate([]), batch_size=1, shuffle=(split=='train')) for split, ds in datasets.items()}"
   ]
  },
  {
   "cell_type": "code",
   "execution_count": 73,
   "metadata": {},
   "outputs": [
    {
     "name": "stdout",
     "output_type": "stream",
     "text": [
      "--- training set ---\n",
      "feat (10237, 64) contains all features per node\n",
      "edge_index (2, 87990) contains existing edges with [0] for head nodes and [1] for tail nodes (all edges * 2 * 0.8)\n",
      "[[ 2714  4936  2173 ...  1378  3513  5727]\n",
      " [ 2851  9866 10020 ...  2618  5009   957]]\n",
      "edge_label_index (2, 175980) contains edges and no edges with [0] for head nodes and [1] for tail nodes, 50/50 ratio\n",
      "edge label (175980,)\n",
      "torch.Size([175980])\n",
      "tensor(10236)\n",
      "nodes_first (175980, 64) contains all head nodes of an existing or non-existing edge\n",
      "nodes_second (175980, 64) contains all tail nodes of an existing or non-existing edge\n",
      "pred [12.252176  11.689496   8.385357  ...  2.020379   4.269898   1.8066634] with shape (175980,) contains prediction of whether or not an edge exists between the node pairs\n",
      "edge_label tensor([1., 1., 1.,  ..., 0., 0., 0.]) with shape torch.Size([175980]) contains the true labels of an edge existing or not\n",
      "--- validation set ---\n",
      "feat (10237, 64)\n",
      "edge_index (2, 87990)\n",
      "edge_label_index (2, 21996)\n",
      "edge label (21996,)\n",
      "--- test set ---\n",
      "feat (10237, 64)\n",
      "edge_index (2, 98988)\n",
      "edge_label_index (2, 22000)\n",
      "edge label (22000,)\n"
     ]
    }
   ],
   "source": [
    "print('--- training set ---')\n",
    "\n",
    "for i, batch in enumerate(dataloaders['train']):\n",
    "    feat, edge_index, edge_label_index = batch.node_feature, batch.edge_index, batch.edge_label_index\n",
    "    \n",
    "    print('feat', feat.detach().numpy().shape, 'contains all features per node')\n",
    "    print('edge_index', edge_index.detach().numpy().shape, 'contains existing edges with [0] for head nodes and [1] for tail nodes (all edges * 2 * 0.8)')\n",
    "    print(edge_label_index.detach().numpy())\n",
    "    print('edge_label_index', edge_label_index.detach().numpy().shape, 'contains edges and no edges with [0] for head nodes and [1] for tail nodes, 50/50 ratio')\n",
    "    print('edge label', batch.edge_label.detach().numpy().shape)\n",
    "    \n",
    "    first_nodes_indices = edge_label_index[0,:]\n",
    "    print(first_nodes_indices.shape)\n",
    "    print(torch.max(first_nodes_indices))\n",
    "    \n",
    "    nodes_first = torch.index_select(feat, 0, edge_label_index[0,:])\n",
    "    print('nodes_first', nodes_first.detach().numpy().shape, 'contains all head nodes of an existing or non-existing edge')\n",
    "    nodes_second = torch.index_select(feat, 0, edge_label_index[1,:])\n",
    "    print('nodes_second', nodes_second.detach().numpy().shape, 'contains all tail nodes of an existing or non-existing edge')\n",
    "    \n",
    "    pred = torch.sum(nodes_first * nodes_second, dim=-1)\n",
    "    print('pred', pred.detach().numpy(), 'with shape', pred.detach().numpy().shape, 'contains prediction of whether or not an edge exists between the node pairs')\n",
    "    \n",
    "    print('edge_label', batch.edge_label.type(pred.dtype), 'with shape', batch.edge_label.type(pred.dtype).shape, 'contains the true labels of an edge existing or not')\n",
    "    \n",
    "print('--- validation set ---')\n",
    "    \n",
    "for i, batch in enumerate(dataloaders['val']):\n",
    "    feat, edge_index, edge_label_index = batch.node_feature, batch.edge_index, batch.edge_label_index\n",
    "    \n",
    "    print('feat', feat.detach().numpy().shape)\n",
    "    print('edge_index', edge_index.detach().numpy().shape)\n",
    "    print('edge_label_index', edge_label_index.detach().numpy().shape)\n",
    "    print('edge label', batch.edge_label.detach().numpy().shape)\n",
    "    \n",
    "print('--- test set ---')\n",
    "    \n",
    "for i, batch in enumerate(dataloaders['test']):\n",
    "    feat, edge_index, edge_label_index = batch.node_feature, batch.edge_index, batch.edge_label_index\n",
    "    \n",
    "    print('feat', feat.detach().numpy().shape)\n",
    "    print('edge_index', edge_index.detach().numpy().shape)\n",
    "    print('edge_label_index', edge_label_index.detach().numpy().shape)\n",
    "    print('edge label', batch.edge_label.detach().numpy().shape)"
   ]
  },
  {
   "attachments": {},
   "cell_type": "markdown",
   "metadata": {},
   "source": [
    "## Train GNN"
   ]
  },
  {
   "cell_type": "code",
   "execution_count": 33,
   "metadata": {},
   "outputs": [],
   "source": [
    "class LinkPredModel(torch.nn.Module):\n",
    "    \"\"\"\n",
    "        Architecture contains Batch Normalization layers (https://towardsdatascience.com/batch-norm-explained-visually-how-it-works-and-why-neural-networks-need-it-b18919692739) \n",
    "        between the SAGEConvolutional layers.\n",
    "    \"\"\"\n",
    "    def __init__(self, input_size, hidden_size, out_size, num_layers, aggr, dropout, device):\n",
    "        super(LinkPredModel, self).__init__()\n",
    "\n",
    "        self.convs = torch.nn.ModuleList()\n",
    "        self.bns = torch.nn.ModuleList()\n",
    "        \n",
    "        self.convs.append(SAGEConv(input_size, hidden_size, normalize=True, aggr=aggr)) # input node embedding features, output is size of hidden layers\n",
    "        self.bns.append(nn.BatchNorm1d(hidden_size))\n",
    "        for _ in range(num_layers - 2):\n",
    "            self.convs.append(SAGEConv(hidden_size, hidden_size, normalize=True, aggr=aggr))\n",
    "            self.bns.append(nn.BatchNorm1d(hidden_size))\n",
    "        self.convs.append(SAGEConv(hidden_size, out_size, normalize=True, aggr=aggr))\n",
    "        self.bns.append(nn.BatchNorm1d(out_size))\n",
    "\n",
    "        self.dropout = dropout\n",
    "        self.loss_fn = torch.nn.BCEWithLogitsLoss()\n",
    "        \n",
    "        self.device = device\n",
    "\n",
    "\n",
    "    def forward(self, x, edge_index, edge_label_index, training = True):\n",
    "        x = x.to(self.device)\n",
    "        edge_index = edge_index.to(self.device)\n",
    "        edge_label_index = edge_label_index.to(self.device)\n",
    "\n",
    "        for i in range(len(self.convs) - 1):\n",
    "          x = self.convs[i](x, edge_index)\n",
    "          x = self.bns[i](x)\n",
    "          x = F.leaky_relu(x)\n",
    "          x = F.dropout(x, p=self.dropout, training=training)\n",
    "        \n",
    "        x = self.convs[-1](x, edge_index)  \n",
    "        x = self.bns[-1](x)\n",
    "        \n",
    "\n",
    "        nodes_first = torch.index_select(x, 0, edge_label_index[0,:].long())\n",
    "        nodes_second = torch.index_select(x, 0, edge_label_index[1,:].long())\n",
    "        pred = torch.sum(nodes_first * nodes_second, dim=-1)\n",
    "        \n",
    "        return pred, x\n",
    "    \n",
    "    def loss(self, pred, label):\n",
    "        return self.loss_fn(pred, label)\n",
    "\n",
    "def train(model, dataloaders, optimizer, args, ho = False):\n",
    "    val_max = 0\n",
    "    best_model = model\n",
    "    best_x = None\n",
    "    train_per = []\n",
    "    val_per = []\n",
    "    test_per = []\n",
    "    loss_per = []\n",
    "    \n",
    "    print('Start Train Function')\n",
    "    for epoch in range(1, args[\"epochs\"]):\n",
    "        for i, batch in enumerate(dataloaders['train']):\n",
    "            feat, edge_index, edge_label_index = batch.node_feature, batch.edge_index, batch.edge_label_index\n",
    "            batch.to(args[\"device\"])\n",
    "            model.train()\n",
    "            optimizer.zero_grad()\n",
    "            pred, x = model(feat, edge_index, edge_label_index)\n",
    "            loss = model.loss(pred, batch.edge_label.type(pred.dtype))\n",
    "\n",
    "            loss.backward()\n",
    "            optimizer.step()\n",
    "\n",
    "            log = 'Epoch: {:03d}, Train: {:.4f}, Val: {:.4f}, Test: {:.4f}, Loss: {:.5f}'\n",
    "            score_train = test(model, dataloaders['train'], args)\n",
    "            score_val = test(model, dataloaders['val'], args)\n",
    "            score_test = test(model, dataloaders['test'], args)\n",
    "\n",
    "            print(log.format(epoch, score_train, score_val, score_test, loss.item()))\n",
    "            if val_max < score_val:\n",
    "                val_max = score_val\n",
    "                best_model = copy.deepcopy(model)\n",
    "                best_x = x\n",
    "            if ho: \n",
    "                tune.report(val_auc=score_val, train_auc = score_train, test_auc = score_test )\n",
    "            \n",
    "            loss_per.append(loss.detach().cpu().numpy())\n",
    "            train_per.append(score_train)\n",
    "            val_per.append(score_val)\n",
    "            test_per.append(score_test)\n",
    "            \n",
    "            \n",
    "    return best_model, best_x, [loss_per, train_per, val_per, test_per]\n",
    "\n",
    "def test(model, dataloader, args):\n",
    "    model.eval()\n",
    "    score = 0\n",
    "    num_batches = 0\n",
    "    for batch in dataloader:\n",
    "        feat, edge_index, edge_label_index = batch.node_feature, batch.edge_index, batch.edge_label_index\n",
    "        batch.to(args[\"device\"])\n",
    "        pred, x = model(feat, edge_index, edge_label_index, training = False)\n",
    "        pred = torch.sigmoid(pred)\n",
    "        score += roc_auc_score(batch.edge_label.flatten().cpu().numpy(), pred.flatten().data.cpu().numpy())\n",
    "        num_batches += 1\n",
    "    score /= num_batches \n",
    "    return score"
   ]
  },
  {
   "attachments": {},
   "cell_type": "markdown",
   "metadata": {},
   "source": [
    "### Predefined Arguments"
   ]
  },
  {
   "attachments": {},
   "cell_type": "markdown",
   "metadata": {},
   "source": [
    "Train GNN with predefined arguments"
   ]
  },
  {
   "cell_type": "code",
   "execution_count": 34,
   "metadata": {},
   "outputs": [],
   "source": [
    "args = {\n",
    "    \"device\" : torch_device,   # insert torch_device, or 'cpu' \n",
    "    \"hidden_dim\" : 264,\n",
    "    'output_dim':64,\n",
    "    \"epochs\" : 150, \n",
    "    'lr': 0.07, \n",
    "    'aggr': 'mean', \n",
    "    'layers': 2, \n",
    "    'dropout': 0.2\n",
    "}\n",
    "\n",
    "model = LinkPredModel(input_dim, args[\"hidden_dim\"], args['output_dim'], args['layers'], args['aggr'], args['dropout'], args[\"device\"]).to(args[\"device\"])\n",
    "optimizer = torch.optim.SGD(model.parameters(), lr=args['lr'], momentum=0.9, weight_decay=5e-4)"
   ]
  },
  {
   "cell_type": "code",
   "execution_count": 35,
   "metadata": {},
   "outputs": [
    {
     "name": "stdout",
     "output_type": "stream",
     "text": [
      "Start Train Function\n",
      "Epoch: 001, Train: 0.9524, Val: 0.9324, Test: 0.9363, Loss: 2.43454\n"
     ]
    },
    {
     "name": "stderr",
     "output_type": "stream",
     "text": [
      "c:\\Users\\rosa-\\anaconda3\\envs\\xaifo\\lib\\site-packages\\deepsnap\\graph.py:2126: UserWarning: __floordiv__ is deprecated, and its behavior will change in a future version of pytorch. It currently rounds toward 0 (like the 'trunc' function NOT 'floor'). This results in incorrect rounding for negative values. To keep the current behavior, use torch.div(a, b, rounding_mode='trunc'), or for actual floor division, use torch.div(a, b, rounding_mode='floor').\n",
      "  row = perm // num_nodes\n"
     ]
    },
    {
     "name": "stdout",
     "output_type": "stream",
     "text": [
      "Epoch: 002, Train: 0.9505, Val: 0.9303, Test: 0.9349, Loss: 2.27322\n"
     ]
    },
    {
     "name": "stderr",
     "output_type": "stream",
     "text": [
      "c:\\Users\\rosa-\\anaconda3\\envs\\xaifo\\lib\\site-packages\\deepsnap\\graph.py:2126: UserWarning: __floordiv__ is deprecated, and its behavior will change in a future version of pytorch. It currently rounds toward 0 (like the 'trunc' function NOT 'floor'). This results in incorrect rounding for negative values. To keep the current behavior, use torch.div(a, b, rounding_mode='trunc'), or for actual floor division, use torch.div(a, b, rounding_mode='floor').\n",
      "  row = perm // num_nodes\n"
     ]
    },
    {
     "name": "stdout",
     "output_type": "stream",
     "text": [
      "Epoch: 003, Train: 0.9301, Val: 0.9153, Test: 0.9160, Loss: 2.05979\n"
     ]
    },
    {
     "name": "stderr",
     "output_type": "stream",
     "text": [
      "c:\\Users\\rosa-\\anaconda3\\envs\\xaifo\\lib\\site-packages\\deepsnap\\graph.py:2126: UserWarning: __floordiv__ is deprecated, and its behavior will change in a future version of pytorch. It currently rounds toward 0 (like the 'trunc' function NOT 'floor'). This results in incorrect rounding for negative values. To keep the current behavior, use torch.div(a, b, rounding_mode='trunc'), or for actual floor division, use torch.div(a, b, rounding_mode='floor').\n",
      "  row = perm // num_nodes\n"
     ]
    },
    {
     "name": "stdout",
     "output_type": "stream",
     "text": [
      "Epoch: 004, Train: 0.9541, Val: 0.9288, Test: 0.9334, Loss: 2.05142\n"
     ]
    },
    {
     "name": "stderr",
     "output_type": "stream",
     "text": [
      "c:\\Users\\rosa-\\anaconda3\\envs\\xaifo\\lib\\site-packages\\deepsnap\\graph.py:2126: UserWarning: __floordiv__ is deprecated, and its behavior will change in a future version of pytorch. It currently rounds toward 0 (like the 'trunc' function NOT 'floor'). This results in incorrect rounding for negative values. To keep the current behavior, use torch.div(a, b, rounding_mode='trunc'), or for actual floor division, use torch.div(a, b, rounding_mode='floor').\n",
      "  row = perm // num_nodes\n"
     ]
    },
    {
     "name": "stdout",
     "output_type": "stream",
     "text": [
      "Epoch: 005, Train: 0.9615, Val: 0.9338, Test: 0.9377, Loss: 1.87227\n"
     ]
    },
    {
     "name": "stderr",
     "output_type": "stream",
     "text": [
      "c:\\Users\\rosa-\\anaconda3\\envs\\xaifo\\lib\\site-packages\\deepsnap\\graph.py:2126: UserWarning: __floordiv__ is deprecated, and its behavior will change in a future version of pytorch. It currently rounds toward 0 (like the 'trunc' function NOT 'floor'). This results in incorrect rounding for negative values. To keep the current behavior, use torch.div(a, b, rounding_mode='trunc'), or for actual floor division, use torch.div(a, b, rounding_mode='floor').\n",
      "  row = perm // num_nodes\n"
     ]
    },
    {
     "name": "stdout",
     "output_type": "stream",
     "text": [
      "Epoch: 006, Train: 0.9640, Val: 0.9389, Test: 0.9406, Loss: 1.79530\n"
     ]
    },
    {
     "name": "stderr",
     "output_type": "stream",
     "text": [
      "c:\\Users\\rosa-\\anaconda3\\envs\\xaifo\\lib\\site-packages\\deepsnap\\graph.py:2126: UserWarning: __floordiv__ is deprecated, and its behavior will change in a future version of pytorch. It currently rounds toward 0 (like the 'trunc' function NOT 'floor'). This results in incorrect rounding for negative values. To keep the current behavior, use torch.div(a, b, rounding_mode='trunc'), or for actual floor division, use torch.div(a, b, rounding_mode='floor').\n",
      "  row = perm // num_nodes\n"
     ]
    },
    {
     "name": "stdout",
     "output_type": "stream",
     "text": [
      "Epoch: 007, Train: 0.9654, Val: 0.9434, Test: 0.9442, Loss: 1.61475\n"
     ]
    },
    {
     "name": "stderr",
     "output_type": "stream",
     "text": [
      "c:\\Users\\rosa-\\anaconda3\\envs\\xaifo\\lib\\site-packages\\deepsnap\\graph.py:2126: UserWarning: __floordiv__ is deprecated, and its behavior will change in a future version of pytorch. It currently rounds toward 0 (like the 'trunc' function NOT 'floor'). This results in incorrect rounding for negative values. To keep the current behavior, use torch.div(a, b, rounding_mode='trunc'), or for actual floor division, use torch.div(a, b, rounding_mode='floor').\n",
      "  row = perm // num_nodes\n"
     ]
    },
    {
     "name": "stdout",
     "output_type": "stream",
     "text": [
      "Epoch: 008, Train: 0.9671, Val: 0.9484, Test: 0.9500, Loss: 1.46951\n"
     ]
    },
    {
     "name": "stderr",
     "output_type": "stream",
     "text": [
      "c:\\Users\\rosa-\\anaconda3\\envs\\xaifo\\lib\\site-packages\\deepsnap\\graph.py:2126: UserWarning: __floordiv__ is deprecated, and its behavior will change in a future version of pytorch. It currently rounds toward 0 (like the 'trunc' function NOT 'floor'). This results in incorrect rounding for negative values. To keep the current behavior, use torch.div(a, b, rounding_mode='trunc'), or for actual floor division, use torch.div(a, b, rounding_mode='floor').\n",
      "  row = perm // num_nodes\n"
     ]
    },
    {
     "name": "stdout",
     "output_type": "stream",
     "text": [
      "Epoch: 009, Train: 0.9664, Val: 0.9485, Test: 0.9511, Loss: 1.36276\n"
     ]
    },
    {
     "name": "stderr",
     "output_type": "stream",
     "text": [
      "c:\\Users\\rosa-\\anaconda3\\envs\\xaifo\\lib\\site-packages\\deepsnap\\graph.py:2126: UserWarning: __floordiv__ is deprecated, and its behavior will change in a future version of pytorch. It currently rounds toward 0 (like the 'trunc' function NOT 'floor'). This results in incorrect rounding for negative values. To keep the current behavior, use torch.div(a, b, rounding_mode='trunc'), or for actual floor division, use torch.div(a, b, rounding_mode='floor').\n",
      "  row = perm // num_nodes\n"
     ]
    },
    {
     "name": "stdout",
     "output_type": "stream",
     "text": [
      "Epoch: 010, Train: 0.9631, Val: 0.9463, Test: 0.9491, Loss: 1.28310\n"
     ]
    },
    {
     "name": "stderr",
     "output_type": "stream",
     "text": [
      "c:\\Users\\rosa-\\anaconda3\\envs\\xaifo\\lib\\site-packages\\deepsnap\\graph.py:2126: UserWarning: __floordiv__ is deprecated, and its behavior will change in a future version of pytorch. It currently rounds toward 0 (like the 'trunc' function NOT 'floor'). This results in incorrect rounding for negative values. To keep the current behavior, use torch.div(a, b, rounding_mode='trunc'), or for actual floor division, use torch.div(a, b, rounding_mode='floor').\n",
      "  row = perm // num_nodes\n"
     ]
    },
    {
     "name": "stdout",
     "output_type": "stream",
     "text": [
      "Epoch: 011, Train: 0.9635, Val: 0.9468, Test: 0.9494, Loss: 1.19724\n"
     ]
    },
    {
     "name": "stderr",
     "output_type": "stream",
     "text": [
      "c:\\Users\\rosa-\\anaconda3\\envs\\xaifo\\lib\\site-packages\\deepsnap\\graph.py:2126: UserWarning: __floordiv__ is deprecated, and its behavior will change in a future version of pytorch. It currently rounds toward 0 (like the 'trunc' function NOT 'floor'). This results in incorrect rounding for negative values. To keep the current behavior, use torch.div(a, b, rounding_mode='trunc'), or for actual floor division, use torch.div(a, b, rounding_mode='floor').\n",
      "  row = perm // num_nodes\n"
     ]
    },
    {
     "name": "stdout",
     "output_type": "stream",
     "text": [
      "Epoch: 012, Train: 0.9667, Val: 0.9486, Test: 0.9513, Loss: 1.12312\n"
     ]
    },
    {
     "name": "stderr",
     "output_type": "stream",
     "text": [
      "c:\\Users\\rosa-\\anaconda3\\envs\\xaifo\\lib\\site-packages\\deepsnap\\graph.py:2126: UserWarning: __floordiv__ is deprecated, and its behavior will change in a future version of pytorch. It currently rounds toward 0 (like the 'trunc' function NOT 'floor'). This results in incorrect rounding for negative values. To keep the current behavior, use torch.div(a, b, rounding_mode='trunc'), or for actual floor division, use torch.div(a, b, rounding_mode='floor').\n",
      "  row = perm // num_nodes\n"
     ]
    },
    {
     "name": "stdout",
     "output_type": "stream",
     "text": [
      "Epoch: 013, Train: 0.9683, Val: 0.9503, Test: 0.9531, Loss: 1.04294\n"
     ]
    },
    {
     "name": "stderr",
     "output_type": "stream",
     "text": [
      "c:\\Users\\rosa-\\anaconda3\\envs\\xaifo\\lib\\site-packages\\deepsnap\\graph.py:2126: UserWarning: __floordiv__ is deprecated, and its behavior will change in a future version of pytorch. It currently rounds toward 0 (like the 'trunc' function NOT 'floor'). This results in incorrect rounding for negative values. To keep the current behavior, use torch.div(a, b, rounding_mode='trunc'), or for actual floor division, use torch.div(a, b, rounding_mode='floor').\n",
      "  row = perm // num_nodes\n"
     ]
    },
    {
     "name": "stdout",
     "output_type": "stream",
     "text": [
      "Epoch: 014, Train: 0.9702, Val: 0.9519, Test: 0.9546, Loss: 0.98321\n"
     ]
    },
    {
     "name": "stderr",
     "output_type": "stream",
     "text": [
      "c:\\Users\\rosa-\\anaconda3\\envs\\xaifo\\lib\\site-packages\\deepsnap\\graph.py:2126: UserWarning: __floordiv__ is deprecated, and its behavior will change in a future version of pytorch. It currently rounds toward 0 (like the 'trunc' function NOT 'floor'). This results in incorrect rounding for negative values. To keep the current behavior, use torch.div(a, b, rounding_mode='trunc'), or for actual floor division, use torch.div(a, b, rounding_mode='floor').\n",
      "  row = perm // num_nodes\n"
     ]
    },
    {
     "name": "stdout",
     "output_type": "stream",
     "text": [
      "Epoch: 015, Train: 0.9710, Val: 0.9532, Test: 0.9557, Loss: 0.90939\n"
     ]
    },
    {
     "name": "stderr",
     "output_type": "stream",
     "text": [
      "c:\\Users\\rosa-\\anaconda3\\envs\\xaifo\\lib\\site-packages\\deepsnap\\graph.py:2126: UserWarning: __floordiv__ is deprecated, and its behavior will change in a future version of pytorch. It currently rounds toward 0 (like the 'trunc' function NOT 'floor'). This results in incorrect rounding for negative values. To keep the current behavior, use torch.div(a, b, rounding_mode='trunc'), or for actual floor division, use torch.div(a, b, rounding_mode='floor').\n",
      "  row = perm // num_nodes\n"
     ]
    },
    {
     "name": "stdout",
     "output_type": "stream",
     "text": [
      "Epoch: 016, Train: 0.9714, Val: 0.9546, Test: 0.9568, Loss: 0.86142\n"
     ]
    },
    {
     "name": "stderr",
     "output_type": "stream",
     "text": [
      "c:\\Users\\rosa-\\anaconda3\\envs\\xaifo\\lib\\site-packages\\deepsnap\\graph.py:2126: UserWarning: __floordiv__ is deprecated, and its behavior will change in a future version of pytorch. It currently rounds toward 0 (like the 'trunc' function NOT 'floor'). This results in incorrect rounding for negative values. To keep the current behavior, use torch.div(a, b, rounding_mode='trunc'), or for actual floor division, use torch.div(a, b, rounding_mode='floor').\n",
      "  row = perm // num_nodes\n"
     ]
    },
    {
     "name": "stdout",
     "output_type": "stream",
     "text": [
      "Epoch: 017, Train: 0.9710, Val: 0.9555, Test: 0.9575, Loss: 0.80892\n"
     ]
    },
    {
     "name": "stderr",
     "output_type": "stream",
     "text": [
      "c:\\Users\\rosa-\\anaconda3\\envs\\xaifo\\lib\\site-packages\\deepsnap\\graph.py:2126: UserWarning: __floordiv__ is deprecated, and its behavior will change in a future version of pytorch. It currently rounds toward 0 (like the 'trunc' function NOT 'floor'). This results in incorrect rounding for negative values. To keep the current behavior, use torch.div(a, b, rounding_mode='trunc'), or for actual floor division, use torch.div(a, b, rounding_mode='floor').\n",
      "  row = perm // num_nodes\n"
     ]
    },
    {
     "name": "stdout",
     "output_type": "stream",
     "text": [
      "Epoch: 018, Train: 0.9711, Val: 0.9564, Test: 0.9582, Loss: 0.76383\n"
     ]
    },
    {
     "name": "stderr",
     "output_type": "stream",
     "text": [
      "c:\\Users\\rosa-\\anaconda3\\envs\\xaifo\\lib\\site-packages\\deepsnap\\graph.py:2126: UserWarning: __floordiv__ is deprecated, and its behavior will change in a future version of pytorch. It currently rounds toward 0 (like the 'trunc' function NOT 'floor'). This results in incorrect rounding for negative values. To keep the current behavior, use torch.div(a, b, rounding_mode='trunc'), or for actual floor division, use torch.div(a, b, rounding_mode='floor').\n",
      "  row = perm // num_nodes\n"
     ]
    },
    {
     "name": "stdout",
     "output_type": "stream",
     "text": [
      "Epoch: 019, Train: 0.9708, Val: 0.9572, Test: 0.9590, Loss: 0.72207\n"
     ]
    },
    {
     "name": "stderr",
     "output_type": "stream",
     "text": [
      "c:\\Users\\rosa-\\anaconda3\\envs\\xaifo\\lib\\site-packages\\deepsnap\\graph.py:2126: UserWarning: __floordiv__ is deprecated, and its behavior will change in a future version of pytorch. It currently rounds toward 0 (like the 'trunc' function NOT 'floor'). This results in incorrect rounding for negative values. To keep the current behavior, use torch.div(a, b, rounding_mode='trunc'), or for actual floor division, use torch.div(a, b, rounding_mode='floor').\n",
      "  row = perm // num_nodes\n"
     ]
    },
    {
     "name": "stdout",
     "output_type": "stream",
     "text": [
      "Epoch: 020, Train: 0.9714, Val: 0.9581, Test: 0.9597, Loss: 0.67983\n"
     ]
    },
    {
     "name": "stderr",
     "output_type": "stream",
     "text": [
      "c:\\Users\\rosa-\\anaconda3\\envs\\xaifo\\lib\\site-packages\\deepsnap\\graph.py:2126: UserWarning: __floordiv__ is deprecated, and its behavior will change in a future version of pytorch. It currently rounds toward 0 (like the 'trunc' function NOT 'floor'). This results in incorrect rounding for negative values. To keep the current behavior, use torch.div(a, b, rounding_mode='trunc'), or for actual floor division, use torch.div(a, b, rounding_mode='floor').\n",
      "  row = perm // num_nodes\n"
     ]
    },
    {
     "name": "stdout",
     "output_type": "stream",
     "text": [
      "Epoch: 021, Train: 0.9714, Val: 0.9588, Test: 0.9604, Loss: 0.64743\n"
     ]
    },
    {
     "name": "stderr",
     "output_type": "stream",
     "text": [
      "c:\\Users\\rosa-\\anaconda3\\envs\\xaifo\\lib\\site-packages\\deepsnap\\graph.py:2126: UserWarning: __floordiv__ is deprecated, and its behavior will change in a future version of pytorch. It currently rounds toward 0 (like the 'trunc' function NOT 'floor'). This results in incorrect rounding for negative values. To keep the current behavior, use torch.div(a, b, rounding_mode='trunc'), or for actual floor division, use torch.div(a, b, rounding_mode='floor').\n",
      "  row = perm // num_nodes\n"
     ]
    },
    {
     "name": "stdout",
     "output_type": "stream",
     "text": [
      "Epoch: 022, Train: 0.9723, Val: 0.9597, Test: 0.9613, Loss: 0.62318\n"
     ]
    },
    {
     "name": "stderr",
     "output_type": "stream",
     "text": [
      "c:\\Users\\rosa-\\anaconda3\\envs\\xaifo\\lib\\site-packages\\deepsnap\\graph.py:2126: UserWarning: __floordiv__ is deprecated, and its behavior will change in a future version of pytorch. It currently rounds toward 0 (like the 'trunc' function NOT 'floor'). This results in incorrect rounding for negative values. To keep the current behavior, use torch.div(a, b, rounding_mode='trunc'), or for actual floor division, use torch.div(a, b, rounding_mode='floor').\n",
      "  row = perm // num_nodes\n"
     ]
    },
    {
     "name": "stdout",
     "output_type": "stream",
     "text": [
      "Epoch: 023, Train: 0.9726, Val: 0.9606, Test: 0.9622, Loss: 0.59380\n"
     ]
    },
    {
     "name": "stderr",
     "output_type": "stream",
     "text": [
      "c:\\Users\\rosa-\\anaconda3\\envs\\xaifo\\lib\\site-packages\\deepsnap\\graph.py:2126: UserWarning: __floordiv__ is deprecated, and its behavior will change in a future version of pytorch. It currently rounds toward 0 (like the 'trunc' function NOT 'floor'). This results in incorrect rounding for negative values. To keep the current behavior, use torch.div(a, b, rounding_mode='trunc'), or for actual floor division, use torch.div(a, b, rounding_mode='floor').\n",
      "  row = perm // num_nodes\n"
     ]
    },
    {
     "name": "stdout",
     "output_type": "stream",
     "text": [
      "Epoch: 024, Train: 0.9731, Val: 0.9616, Test: 0.9631, Loss: 0.56653\n"
     ]
    },
    {
     "name": "stderr",
     "output_type": "stream",
     "text": [
      "c:\\Users\\rosa-\\anaconda3\\envs\\xaifo\\lib\\site-packages\\deepsnap\\graph.py:2126: UserWarning: __floordiv__ is deprecated, and its behavior will change in a future version of pytorch. It currently rounds toward 0 (like the 'trunc' function NOT 'floor'). This results in incorrect rounding for negative values. To keep the current behavior, use torch.div(a, b, rounding_mode='trunc'), or for actual floor division, use torch.div(a, b, rounding_mode='floor').\n",
      "  row = perm // num_nodes\n"
     ]
    },
    {
     "name": "stdout",
     "output_type": "stream",
     "text": [
      "Epoch: 025, Train: 0.9738, Val: 0.9627, Test: 0.9642, Loss: 0.54283\n"
     ]
    },
    {
     "name": "stderr",
     "output_type": "stream",
     "text": [
      "c:\\Users\\rosa-\\anaconda3\\envs\\xaifo\\lib\\site-packages\\deepsnap\\graph.py:2126: UserWarning: __floordiv__ is deprecated, and its behavior will change in a future version of pytorch. It currently rounds toward 0 (like the 'trunc' function NOT 'floor'). This results in incorrect rounding for negative values. To keep the current behavior, use torch.div(a, b, rounding_mode='trunc'), or for actual floor division, use torch.div(a, b, rounding_mode='floor').\n",
      "  row = perm // num_nodes\n"
     ]
    },
    {
     "name": "stdout",
     "output_type": "stream",
     "text": [
      "Epoch: 026, Train: 0.9747, Val: 0.9640, Test: 0.9654, Loss: 0.52810\n"
     ]
    },
    {
     "name": "stderr",
     "output_type": "stream",
     "text": [
      "c:\\Users\\rosa-\\anaconda3\\envs\\xaifo\\lib\\site-packages\\deepsnap\\graph.py:2126: UserWarning: __floordiv__ is deprecated, and its behavior will change in a future version of pytorch. It currently rounds toward 0 (like the 'trunc' function NOT 'floor'). This results in incorrect rounding for negative values. To keep the current behavior, use torch.div(a, b, rounding_mode='trunc'), or for actual floor division, use torch.div(a, b, rounding_mode='floor').\n",
      "  row = perm // num_nodes\n"
     ]
    },
    {
     "name": "stdout",
     "output_type": "stream",
     "text": [
      "Epoch: 027, Train: 0.9764, Val: 0.9653, Test: 0.9667, Loss: 0.51501\n"
     ]
    },
    {
     "name": "stderr",
     "output_type": "stream",
     "text": [
      "c:\\Users\\rosa-\\anaconda3\\envs\\xaifo\\lib\\site-packages\\deepsnap\\graph.py:2126: UserWarning: __floordiv__ is deprecated, and its behavior will change in a future version of pytorch. It currently rounds toward 0 (like the 'trunc' function NOT 'floor'). This results in incorrect rounding for negative values. To keep the current behavior, use torch.div(a, b, rounding_mode='trunc'), or for actual floor division, use torch.div(a, b, rounding_mode='floor').\n",
      "  row = perm // num_nodes\n"
     ]
    },
    {
     "name": "stdout",
     "output_type": "stream",
     "text": [
      "Epoch: 028, Train: 0.9772, Val: 0.9667, Test: 0.9681, Loss: 0.50278\n"
     ]
    },
    {
     "name": "stderr",
     "output_type": "stream",
     "text": [
      "c:\\Users\\rosa-\\anaconda3\\envs\\xaifo\\lib\\site-packages\\deepsnap\\graph.py:2126: UserWarning: __floordiv__ is deprecated, and its behavior will change in a future version of pytorch. It currently rounds toward 0 (like the 'trunc' function NOT 'floor'). This results in incorrect rounding for negative values. To keep the current behavior, use torch.div(a, b, rounding_mode='trunc'), or for actual floor division, use torch.div(a, b, rounding_mode='floor').\n",
      "  row = perm // num_nodes\n"
     ]
    },
    {
     "name": "stdout",
     "output_type": "stream",
     "text": [
      "Epoch: 029, Train: 0.9783, Val: 0.9681, Test: 0.9694, Loss: 0.49104\n"
     ]
    },
    {
     "name": "stderr",
     "output_type": "stream",
     "text": [
      "c:\\Users\\rosa-\\anaconda3\\envs\\xaifo\\lib\\site-packages\\deepsnap\\graph.py:2126: UserWarning: __floordiv__ is deprecated, and its behavior will change in a future version of pytorch. It currently rounds toward 0 (like the 'trunc' function NOT 'floor'). This results in incorrect rounding for negative values. To keep the current behavior, use torch.div(a, b, rounding_mode='trunc'), or for actual floor division, use torch.div(a, b, rounding_mode='floor').\n",
      "  row = perm // num_nodes\n"
     ]
    },
    {
     "name": "stdout",
     "output_type": "stream",
     "text": [
      "Epoch: 030, Train: 0.9794, Val: 0.9694, Test: 0.9707, Loss: 0.48682\n"
     ]
    },
    {
     "name": "stderr",
     "output_type": "stream",
     "text": [
      "c:\\Users\\rosa-\\anaconda3\\envs\\xaifo\\lib\\site-packages\\deepsnap\\graph.py:2126: UserWarning: __floordiv__ is deprecated, and its behavior will change in a future version of pytorch. It currently rounds toward 0 (like the 'trunc' function NOT 'floor'). This results in incorrect rounding for negative values. To keep the current behavior, use torch.div(a, b, rounding_mode='trunc'), or for actual floor division, use torch.div(a, b, rounding_mode='floor').\n",
      "  row = perm // num_nodes\n"
     ]
    },
    {
     "name": "stdout",
     "output_type": "stream",
     "text": [
      "Epoch: 031, Train: 0.9801, Val: 0.9706, Test: 0.9719, Loss: 0.47650\n"
     ]
    },
    {
     "name": "stderr",
     "output_type": "stream",
     "text": [
      "c:\\Users\\rosa-\\anaconda3\\envs\\xaifo\\lib\\site-packages\\deepsnap\\graph.py:2126: UserWarning: __floordiv__ is deprecated, and its behavior will change in a future version of pytorch. It currently rounds toward 0 (like the 'trunc' function NOT 'floor'). This results in incorrect rounding for negative values. To keep the current behavior, use torch.div(a, b, rounding_mode='trunc'), or for actual floor division, use torch.div(a, b, rounding_mode='floor').\n",
      "  row = perm // num_nodes\n"
     ]
    },
    {
     "name": "stdout",
     "output_type": "stream",
     "text": [
      "Epoch: 032, Train: 0.9810, Val: 0.9717, Test: 0.9730, Loss: 0.47082\n"
     ]
    },
    {
     "name": "stderr",
     "output_type": "stream",
     "text": [
      "c:\\Users\\rosa-\\anaconda3\\envs\\xaifo\\lib\\site-packages\\deepsnap\\graph.py:2126: UserWarning: __floordiv__ is deprecated, and its behavior will change in a future version of pytorch. It currently rounds toward 0 (like the 'trunc' function NOT 'floor'). This results in incorrect rounding for negative values. To keep the current behavior, use torch.div(a, b, rounding_mode='trunc'), or for actual floor division, use torch.div(a, b, rounding_mode='floor').\n",
      "  row = perm // num_nodes\n"
     ]
    },
    {
     "name": "stdout",
     "output_type": "stream",
     "text": [
      "Epoch: 033, Train: 0.9819, Val: 0.9726, Test: 0.9740, Loss: 0.46667\n"
     ]
    },
    {
     "name": "stderr",
     "output_type": "stream",
     "text": [
      "c:\\Users\\rosa-\\anaconda3\\envs\\xaifo\\lib\\site-packages\\deepsnap\\graph.py:2126: UserWarning: __floordiv__ is deprecated, and its behavior will change in a future version of pytorch. It currently rounds toward 0 (like the 'trunc' function NOT 'floor'). This results in incorrect rounding for negative values. To keep the current behavior, use torch.div(a, b, rounding_mode='trunc'), or for actual floor division, use torch.div(a, b, rounding_mode='floor').\n",
      "  row = perm // num_nodes\n"
     ]
    },
    {
     "name": "stdout",
     "output_type": "stream",
     "text": [
      "Epoch: 034, Train: 0.9824, Val: 0.9734, Test: 0.9750, Loss: 0.45875\n"
     ]
    },
    {
     "name": "stderr",
     "output_type": "stream",
     "text": [
      "c:\\Users\\rosa-\\anaconda3\\envs\\xaifo\\lib\\site-packages\\deepsnap\\graph.py:2126: UserWarning: __floordiv__ is deprecated, and its behavior will change in a future version of pytorch. It currently rounds toward 0 (like the 'trunc' function NOT 'floor'). This results in incorrect rounding for negative values. To keep the current behavior, use torch.div(a, b, rounding_mode='trunc'), or for actual floor division, use torch.div(a, b, rounding_mode='floor').\n",
      "  row = perm // num_nodes\n"
     ]
    },
    {
     "name": "stdout",
     "output_type": "stream",
     "text": [
      "Epoch: 035, Train: 0.9830, Val: 0.9740, Test: 0.9758, Loss: 0.45592\n"
     ]
    },
    {
     "name": "stderr",
     "output_type": "stream",
     "text": [
      "c:\\Users\\rosa-\\anaconda3\\envs\\xaifo\\lib\\site-packages\\deepsnap\\graph.py:2126: UserWarning: __floordiv__ is deprecated, and its behavior will change in a future version of pytorch. It currently rounds toward 0 (like the 'trunc' function NOT 'floor'). This results in incorrect rounding for negative values. To keep the current behavior, use torch.div(a, b, rounding_mode='trunc'), or for actual floor division, use torch.div(a, b, rounding_mode='floor').\n",
      "  row = perm // num_nodes\n"
     ]
    },
    {
     "name": "stdout",
     "output_type": "stream",
     "text": [
      "Epoch: 036, Train: 0.9835, Val: 0.9746, Test: 0.9765, Loss: 0.45067\n"
     ]
    },
    {
     "name": "stderr",
     "output_type": "stream",
     "text": [
      "c:\\Users\\rosa-\\anaconda3\\envs\\xaifo\\lib\\site-packages\\deepsnap\\graph.py:2126: UserWarning: __floordiv__ is deprecated, and its behavior will change in a future version of pytorch. It currently rounds toward 0 (like the 'trunc' function NOT 'floor'). This results in incorrect rounding for negative values. To keep the current behavior, use torch.div(a, b, rounding_mode='trunc'), or for actual floor division, use torch.div(a, b, rounding_mode='floor').\n",
      "  row = perm // num_nodes\n"
     ]
    },
    {
     "name": "stdout",
     "output_type": "stream",
     "text": [
      "Epoch: 037, Train: 0.9835, Val: 0.9749, Test: 0.9770, Loss: 0.44659\n"
     ]
    },
    {
     "name": "stderr",
     "output_type": "stream",
     "text": [
      "c:\\Users\\rosa-\\anaconda3\\envs\\xaifo\\lib\\site-packages\\deepsnap\\graph.py:2126: UserWarning: __floordiv__ is deprecated, and its behavior will change in a future version of pytorch. It currently rounds toward 0 (like the 'trunc' function NOT 'floor'). This results in incorrect rounding for negative values. To keep the current behavior, use torch.div(a, b, rounding_mode='trunc'), or for actual floor division, use torch.div(a, b, rounding_mode='floor').\n",
      "  row = perm // num_nodes\n"
     ]
    },
    {
     "name": "stdout",
     "output_type": "stream",
     "text": [
      "Epoch: 038, Train: 0.9838, Val: 0.9752, Test: 0.9773, Loss: 0.44376\n"
     ]
    },
    {
     "name": "stderr",
     "output_type": "stream",
     "text": [
      "c:\\Users\\rosa-\\anaconda3\\envs\\xaifo\\lib\\site-packages\\deepsnap\\graph.py:2126: UserWarning: __floordiv__ is deprecated, and its behavior will change in a future version of pytorch. It currently rounds toward 0 (like the 'trunc' function NOT 'floor'). This results in incorrect rounding for negative values. To keep the current behavior, use torch.div(a, b, rounding_mode='trunc'), or for actual floor division, use torch.div(a, b, rounding_mode='floor').\n",
      "  row = perm // num_nodes\n"
     ]
    },
    {
     "name": "stdout",
     "output_type": "stream",
     "text": [
      "Epoch: 039, Train: 0.9840, Val: 0.9754, Test: 0.9776, Loss: 0.44105\n"
     ]
    },
    {
     "name": "stderr",
     "output_type": "stream",
     "text": [
      "c:\\Users\\rosa-\\anaconda3\\envs\\xaifo\\lib\\site-packages\\deepsnap\\graph.py:2126: UserWarning: __floordiv__ is deprecated, and its behavior will change in a future version of pytorch. It currently rounds toward 0 (like the 'trunc' function NOT 'floor'). This results in incorrect rounding for negative values. To keep the current behavior, use torch.div(a, b, rounding_mode='trunc'), or for actual floor division, use torch.div(a, b, rounding_mode='floor').\n",
      "  row = perm // num_nodes\n"
     ]
    },
    {
     "name": "stdout",
     "output_type": "stream",
     "text": [
      "Epoch: 040, Train: 0.9842, Val: 0.9756, Test: 0.9778, Loss: 0.44208\n"
     ]
    },
    {
     "name": "stderr",
     "output_type": "stream",
     "text": [
      "c:\\Users\\rosa-\\anaconda3\\envs\\xaifo\\lib\\site-packages\\deepsnap\\graph.py:2126: UserWarning: __floordiv__ is deprecated, and its behavior will change in a future version of pytorch. It currently rounds toward 0 (like the 'trunc' function NOT 'floor'). This results in incorrect rounding for negative values. To keep the current behavior, use torch.div(a, b, rounding_mode='trunc'), or for actual floor division, use torch.div(a, b, rounding_mode='floor').\n",
      "  row = perm // num_nodes\n"
     ]
    },
    {
     "name": "stdout",
     "output_type": "stream",
     "text": [
      "Epoch: 041, Train: 0.9843, Val: 0.9758, Test: 0.9780, Loss: 0.43740\n"
     ]
    },
    {
     "name": "stderr",
     "output_type": "stream",
     "text": [
      "c:\\Users\\rosa-\\anaconda3\\envs\\xaifo\\lib\\site-packages\\deepsnap\\graph.py:2126: UserWarning: __floordiv__ is deprecated, and its behavior will change in a future version of pytorch. It currently rounds toward 0 (like the 'trunc' function NOT 'floor'). This results in incorrect rounding for negative values. To keep the current behavior, use torch.div(a, b, rounding_mode='trunc'), or for actual floor division, use torch.div(a, b, rounding_mode='floor').\n",
      "  row = perm // num_nodes\n"
     ]
    },
    {
     "name": "stdout",
     "output_type": "stream",
     "text": [
      "Epoch: 042, Train: 0.9841, Val: 0.9759, Test: 0.9781, Loss: 0.43383\n"
     ]
    },
    {
     "name": "stderr",
     "output_type": "stream",
     "text": [
      "c:\\Users\\rosa-\\anaconda3\\envs\\xaifo\\lib\\site-packages\\deepsnap\\graph.py:2126: UserWarning: __floordiv__ is deprecated, and its behavior will change in a future version of pytorch. It currently rounds toward 0 (like the 'trunc' function NOT 'floor'). This results in incorrect rounding for negative values. To keep the current behavior, use torch.div(a, b, rounding_mode='trunc'), or for actual floor division, use torch.div(a, b, rounding_mode='floor').\n",
      "  row = perm // num_nodes\n"
     ]
    },
    {
     "name": "stdout",
     "output_type": "stream",
     "text": [
      "Epoch: 043, Train: 0.9851, Val: 0.9761, Test: 0.9782, Loss: 0.43490\n"
     ]
    },
    {
     "name": "stderr",
     "output_type": "stream",
     "text": [
      "c:\\Users\\rosa-\\anaconda3\\envs\\xaifo\\lib\\site-packages\\deepsnap\\graph.py:2126: UserWarning: __floordiv__ is deprecated, and its behavior will change in a future version of pytorch. It currently rounds toward 0 (like the 'trunc' function NOT 'floor'). This results in incorrect rounding for negative values. To keep the current behavior, use torch.div(a, b, rounding_mode='trunc'), or for actual floor division, use torch.div(a, b, rounding_mode='floor').\n",
      "  row = perm // num_nodes\n"
     ]
    },
    {
     "name": "stdout",
     "output_type": "stream",
     "text": [
      "Epoch: 044, Train: 0.9850, Val: 0.9762, Test: 0.9782, Loss: 0.43343\n"
     ]
    },
    {
     "name": "stderr",
     "output_type": "stream",
     "text": [
      "c:\\Users\\rosa-\\anaconda3\\envs\\xaifo\\lib\\site-packages\\deepsnap\\graph.py:2126: UserWarning: __floordiv__ is deprecated, and its behavior will change in a future version of pytorch. It currently rounds toward 0 (like the 'trunc' function NOT 'floor'). This results in incorrect rounding for negative values. To keep the current behavior, use torch.div(a, b, rounding_mode='trunc'), or for actual floor division, use torch.div(a, b, rounding_mode='floor').\n",
      "  row = perm // num_nodes\n"
     ]
    },
    {
     "name": "stdout",
     "output_type": "stream",
     "text": [
      "Epoch: 045, Train: 0.9847, Val: 0.9764, Test: 0.9783, Loss: 0.43105\n"
     ]
    },
    {
     "name": "stderr",
     "output_type": "stream",
     "text": [
      "c:\\Users\\rosa-\\anaconda3\\envs\\xaifo\\lib\\site-packages\\deepsnap\\graph.py:2126: UserWarning: __floordiv__ is deprecated, and its behavior will change in a future version of pytorch. It currently rounds toward 0 (like the 'trunc' function NOT 'floor'). This results in incorrect rounding for negative values. To keep the current behavior, use torch.div(a, b, rounding_mode='trunc'), or for actual floor division, use torch.div(a, b, rounding_mode='floor').\n",
      "  row = perm // num_nodes\n"
     ]
    },
    {
     "name": "stdout",
     "output_type": "stream",
     "text": [
      "Epoch: 046, Train: 0.9850, Val: 0.9765, Test: 0.9783, Loss: 0.42966\n"
     ]
    },
    {
     "name": "stderr",
     "output_type": "stream",
     "text": [
      "c:\\Users\\rosa-\\anaconda3\\envs\\xaifo\\lib\\site-packages\\deepsnap\\graph.py:2126: UserWarning: __floordiv__ is deprecated, and its behavior will change in a future version of pytorch. It currently rounds toward 0 (like the 'trunc' function NOT 'floor'). This results in incorrect rounding for negative values. To keep the current behavior, use torch.div(a, b, rounding_mode='trunc'), or for actual floor division, use torch.div(a, b, rounding_mode='floor').\n",
      "  row = perm // num_nodes\n"
     ]
    },
    {
     "name": "stdout",
     "output_type": "stream",
     "text": [
      "Epoch: 047, Train: 0.9848, Val: 0.9767, Test: 0.9784, Loss: 0.42741\n"
     ]
    },
    {
     "name": "stderr",
     "output_type": "stream",
     "text": [
      "c:\\Users\\rosa-\\anaconda3\\envs\\xaifo\\lib\\site-packages\\deepsnap\\graph.py:2126: UserWarning: __floordiv__ is deprecated, and its behavior will change in a future version of pytorch. It currently rounds toward 0 (like the 'trunc' function NOT 'floor'). This results in incorrect rounding for negative values. To keep the current behavior, use torch.div(a, b, rounding_mode='trunc'), or for actual floor division, use torch.div(a, b, rounding_mode='floor').\n",
      "  row = perm // num_nodes\n"
     ]
    },
    {
     "name": "stdout",
     "output_type": "stream",
     "text": [
      "Epoch: 048, Train: 0.9854, Val: 0.9768, Test: 0.9784, Loss: 0.42856\n"
     ]
    },
    {
     "name": "stderr",
     "output_type": "stream",
     "text": [
      "c:\\Users\\rosa-\\anaconda3\\envs\\xaifo\\lib\\site-packages\\deepsnap\\graph.py:2126: UserWarning: __floordiv__ is deprecated, and its behavior will change in a future version of pytorch. It currently rounds toward 0 (like the 'trunc' function NOT 'floor'). This results in incorrect rounding for negative values. To keep the current behavior, use torch.div(a, b, rounding_mode='trunc'), or for actual floor division, use torch.div(a, b, rounding_mode='floor').\n",
      "  row = perm // num_nodes\n"
     ]
    },
    {
     "name": "stdout",
     "output_type": "stream",
     "text": [
      "Epoch: 049, Train: 0.9853, Val: 0.9770, Test: 0.9784, Loss: 0.42495\n"
     ]
    },
    {
     "name": "stderr",
     "output_type": "stream",
     "text": [
      "c:\\Users\\rosa-\\anaconda3\\envs\\xaifo\\lib\\site-packages\\deepsnap\\graph.py:2126: UserWarning: __floordiv__ is deprecated, and its behavior will change in a future version of pytorch. It currently rounds toward 0 (like the 'trunc' function NOT 'floor'). This results in incorrect rounding for negative values. To keep the current behavior, use torch.div(a, b, rounding_mode='trunc'), or for actual floor division, use torch.div(a, b, rounding_mode='floor').\n",
      "  row = perm // num_nodes\n"
     ]
    },
    {
     "name": "stdout",
     "output_type": "stream",
     "text": [
      "Epoch: 050, Train: 0.9853, Val: 0.9770, Test: 0.9784, Loss: 0.42493\n"
     ]
    },
    {
     "name": "stderr",
     "output_type": "stream",
     "text": [
      "c:\\Users\\rosa-\\anaconda3\\envs\\xaifo\\lib\\site-packages\\deepsnap\\graph.py:2126: UserWarning: __floordiv__ is deprecated, and its behavior will change in a future version of pytorch. It currently rounds toward 0 (like the 'trunc' function NOT 'floor'). This results in incorrect rounding for negative values. To keep the current behavior, use torch.div(a, b, rounding_mode='trunc'), or for actual floor division, use torch.div(a, b, rounding_mode='floor').\n",
      "  row = perm // num_nodes\n"
     ]
    },
    {
     "name": "stdout",
     "output_type": "stream",
     "text": [
      "Epoch: 051, Train: 0.9856, Val: 0.9771, Test: 0.9784, Loss: 0.42376\n"
     ]
    },
    {
     "name": "stderr",
     "output_type": "stream",
     "text": [
      "c:\\Users\\rosa-\\anaconda3\\envs\\xaifo\\lib\\site-packages\\deepsnap\\graph.py:2126: UserWarning: __floordiv__ is deprecated, and its behavior will change in a future version of pytorch. It currently rounds toward 0 (like the 'trunc' function NOT 'floor'). This results in incorrect rounding for negative values. To keep the current behavior, use torch.div(a, b, rounding_mode='trunc'), or for actual floor division, use torch.div(a, b, rounding_mode='floor').\n",
      "  row = perm // num_nodes\n"
     ]
    },
    {
     "name": "stdout",
     "output_type": "stream",
     "text": [
      "Epoch: 052, Train: 0.9859, Val: 0.9772, Test: 0.9784, Loss: 0.42359\n"
     ]
    },
    {
     "name": "stderr",
     "output_type": "stream",
     "text": [
      "c:\\Users\\rosa-\\anaconda3\\envs\\xaifo\\lib\\site-packages\\deepsnap\\graph.py:2126: UserWarning: __floordiv__ is deprecated, and its behavior will change in a future version of pytorch. It currently rounds toward 0 (like the 'trunc' function NOT 'floor'). This results in incorrect rounding for negative values. To keep the current behavior, use torch.div(a, b, rounding_mode='trunc'), or for actual floor division, use torch.div(a, b, rounding_mode='floor').\n",
      "  row = perm // num_nodes\n"
     ]
    },
    {
     "name": "stdout",
     "output_type": "stream",
     "text": [
      "Epoch: 053, Train: 0.9858, Val: 0.9773, Test: 0.9783, Loss: 0.42170\n"
     ]
    },
    {
     "name": "stderr",
     "output_type": "stream",
     "text": [
      "c:\\Users\\rosa-\\anaconda3\\envs\\xaifo\\lib\\site-packages\\deepsnap\\graph.py:2126: UserWarning: __floordiv__ is deprecated, and its behavior will change in a future version of pytorch. It currently rounds toward 0 (like the 'trunc' function NOT 'floor'). This results in incorrect rounding for negative values. To keep the current behavior, use torch.div(a, b, rounding_mode='trunc'), or for actual floor division, use torch.div(a, b, rounding_mode='floor').\n",
      "  row = perm // num_nodes\n"
     ]
    },
    {
     "name": "stdout",
     "output_type": "stream",
     "text": [
      "Epoch: 054, Train: 0.9858, Val: 0.9774, Test: 0.9783, Loss: 0.42193\n"
     ]
    },
    {
     "name": "stderr",
     "output_type": "stream",
     "text": [
      "c:\\Users\\rosa-\\anaconda3\\envs\\xaifo\\lib\\site-packages\\deepsnap\\graph.py:2126: UserWarning: __floordiv__ is deprecated, and its behavior will change in a future version of pytorch. It currently rounds toward 0 (like the 'trunc' function NOT 'floor'). This results in incorrect rounding for negative values. To keep the current behavior, use torch.div(a, b, rounding_mode='trunc'), or for actual floor division, use torch.div(a, b, rounding_mode='floor').\n",
      "  row = perm // num_nodes\n"
     ]
    },
    {
     "name": "stdout",
     "output_type": "stream",
     "text": [
      "Epoch: 055, Train: 0.9863, Val: 0.9775, Test: 0.9783, Loss: 0.42153\n"
     ]
    },
    {
     "name": "stderr",
     "output_type": "stream",
     "text": [
      "c:\\Users\\rosa-\\anaconda3\\envs\\xaifo\\lib\\site-packages\\deepsnap\\graph.py:2126: UserWarning: __floordiv__ is deprecated, and its behavior will change in a future version of pytorch. It currently rounds toward 0 (like the 'trunc' function NOT 'floor'). This results in incorrect rounding for negative values. To keep the current behavior, use torch.div(a, b, rounding_mode='trunc'), or for actual floor division, use torch.div(a, b, rounding_mode='floor').\n",
      "  row = perm // num_nodes\n"
     ]
    },
    {
     "name": "stdout",
     "output_type": "stream",
     "text": [
      "Epoch: 056, Train: 0.9856, Val: 0.9776, Test: 0.9784, Loss: 0.41950\n"
     ]
    },
    {
     "name": "stderr",
     "output_type": "stream",
     "text": [
      "c:\\Users\\rosa-\\anaconda3\\envs\\xaifo\\lib\\site-packages\\deepsnap\\graph.py:2126: UserWarning: __floordiv__ is deprecated, and its behavior will change in a future version of pytorch. It currently rounds toward 0 (like the 'trunc' function NOT 'floor'). This results in incorrect rounding for negative values. To keep the current behavior, use torch.div(a, b, rounding_mode='trunc'), or for actual floor division, use torch.div(a, b, rounding_mode='floor').\n",
      "  row = perm // num_nodes\n"
     ]
    },
    {
     "name": "stdout",
     "output_type": "stream",
     "text": [
      "Epoch: 057, Train: 0.9864, Val: 0.9776, Test: 0.9784, Loss: 0.41948\n"
     ]
    },
    {
     "name": "stderr",
     "output_type": "stream",
     "text": [
      "c:\\Users\\rosa-\\anaconda3\\envs\\xaifo\\lib\\site-packages\\deepsnap\\graph.py:2126: UserWarning: __floordiv__ is deprecated, and its behavior will change in a future version of pytorch. It currently rounds toward 0 (like the 'trunc' function NOT 'floor'). This results in incorrect rounding for negative values. To keep the current behavior, use torch.div(a, b, rounding_mode='trunc'), or for actual floor division, use torch.div(a, b, rounding_mode='floor').\n",
      "  row = perm // num_nodes\n"
     ]
    },
    {
     "name": "stdout",
     "output_type": "stream",
     "text": [
      "Epoch: 058, Train: 0.9863, Val: 0.9777, Test: 0.9784, Loss: 0.41737\n"
     ]
    },
    {
     "name": "stderr",
     "output_type": "stream",
     "text": [
      "c:\\Users\\rosa-\\anaconda3\\envs\\xaifo\\lib\\site-packages\\deepsnap\\graph.py:2126: UserWarning: __floordiv__ is deprecated, and its behavior will change in a future version of pytorch. It currently rounds toward 0 (like the 'trunc' function NOT 'floor'). This results in incorrect rounding for negative values. To keep the current behavior, use torch.div(a, b, rounding_mode='trunc'), or for actual floor division, use torch.div(a, b, rounding_mode='floor').\n",
      "  row = perm // num_nodes\n"
     ]
    },
    {
     "name": "stdout",
     "output_type": "stream",
     "text": [
      "Epoch: 059, Train: 0.9860, Val: 0.9779, Test: 0.9784, Loss: 0.41787\n"
     ]
    },
    {
     "name": "stderr",
     "output_type": "stream",
     "text": [
      "c:\\Users\\rosa-\\anaconda3\\envs\\xaifo\\lib\\site-packages\\deepsnap\\graph.py:2126: UserWarning: __floordiv__ is deprecated, and its behavior will change in a future version of pytorch. It currently rounds toward 0 (like the 'trunc' function NOT 'floor'). This results in incorrect rounding for negative values. To keep the current behavior, use torch.div(a, b, rounding_mode='trunc'), or for actual floor division, use torch.div(a, b, rounding_mode='floor').\n",
      "  row = perm // num_nodes\n"
     ]
    },
    {
     "name": "stdout",
     "output_type": "stream",
     "text": [
      "Epoch: 060, Train: 0.9869, Val: 0.9780, Test: 0.9785, Loss: 0.41738\n"
     ]
    },
    {
     "name": "stderr",
     "output_type": "stream",
     "text": [
      "c:\\Users\\rosa-\\anaconda3\\envs\\xaifo\\lib\\site-packages\\deepsnap\\graph.py:2126: UserWarning: __floordiv__ is deprecated, and its behavior will change in a future version of pytorch. It currently rounds toward 0 (like the 'trunc' function NOT 'floor'). This results in incorrect rounding for negative values. To keep the current behavior, use torch.div(a, b, rounding_mode='trunc'), or for actual floor division, use torch.div(a, b, rounding_mode='floor').\n",
      "  row = perm // num_nodes\n"
     ]
    },
    {
     "name": "stdout",
     "output_type": "stream",
     "text": [
      "Epoch: 061, Train: 0.9869, Val: 0.9781, Test: 0.9786, Loss: 0.41630\n"
     ]
    },
    {
     "name": "stderr",
     "output_type": "stream",
     "text": [
      "c:\\Users\\rosa-\\anaconda3\\envs\\xaifo\\lib\\site-packages\\deepsnap\\graph.py:2126: UserWarning: __floordiv__ is deprecated, and its behavior will change in a future version of pytorch. It currently rounds toward 0 (like the 'trunc' function NOT 'floor'). This results in incorrect rounding for negative values. To keep the current behavior, use torch.div(a, b, rounding_mode='trunc'), or for actual floor division, use torch.div(a, b, rounding_mode='floor').\n",
      "  row = perm // num_nodes\n"
     ]
    },
    {
     "name": "stdout",
     "output_type": "stream",
     "text": [
      "Epoch: 062, Train: 0.9869, Val: 0.9782, Test: 0.9786, Loss: 0.41639\n"
     ]
    },
    {
     "name": "stderr",
     "output_type": "stream",
     "text": [
      "c:\\Users\\rosa-\\anaconda3\\envs\\xaifo\\lib\\site-packages\\deepsnap\\graph.py:2126: UserWarning: __floordiv__ is deprecated, and its behavior will change in a future version of pytorch. It currently rounds toward 0 (like the 'trunc' function NOT 'floor'). This results in incorrect rounding for negative values. To keep the current behavior, use torch.div(a, b, rounding_mode='trunc'), or for actual floor division, use torch.div(a, b, rounding_mode='floor').\n",
      "  row = perm // num_nodes\n"
     ]
    },
    {
     "name": "stdout",
     "output_type": "stream",
     "text": [
      "Epoch: 063, Train: 0.9872, Val: 0.9783, Test: 0.9787, Loss: 0.41714\n"
     ]
    },
    {
     "name": "stderr",
     "output_type": "stream",
     "text": [
      "c:\\Users\\rosa-\\anaconda3\\envs\\xaifo\\lib\\site-packages\\deepsnap\\graph.py:2126: UserWarning: __floordiv__ is deprecated, and its behavior will change in a future version of pytorch. It currently rounds toward 0 (like the 'trunc' function NOT 'floor'). This results in incorrect rounding for negative values. To keep the current behavior, use torch.div(a, b, rounding_mode='trunc'), or for actual floor division, use torch.div(a, b, rounding_mode='floor').\n",
      "  row = perm // num_nodes\n"
     ]
    },
    {
     "name": "stdout",
     "output_type": "stream",
     "text": [
      "Epoch: 064, Train: 0.9870, Val: 0.9785, Test: 0.9788, Loss: 0.41572\n"
     ]
    },
    {
     "name": "stderr",
     "output_type": "stream",
     "text": [
      "c:\\Users\\rosa-\\anaconda3\\envs\\xaifo\\lib\\site-packages\\deepsnap\\graph.py:2126: UserWarning: __floordiv__ is deprecated, and its behavior will change in a future version of pytorch. It currently rounds toward 0 (like the 'trunc' function NOT 'floor'). This results in incorrect rounding for negative values. To keep the current behavior, use torch.div(a, b, rounding_mode='trunc'), or for actual floor division, use torch.div(a, b, rounding_mode='floor').\n",
      "  row = perm // num_nodes\n"
     ]
    },
    {
     "name": "stdout",
     "output_type": "stream",
     "text": [
      "Epoch: 065, Train: 0.9873, Val: 0.9786, Test: 0.9789, Loss: 0.41467\n"
     ]
    },
    {
     "name": "stderr",
     "output_type": "stream",
     "text": [
      "c:\\Users\\rosa-\\anaconda3\\envs\\xaifo\\lib\\site-packages\\deepsnap\\graph.py:2126: UserWarning: __floordiv__ is deprecated, and its behavior will change in a future version of pytorch. It currently rounds toward 0 (like the 'trunc' function NOT 'floor'). This results in incorrect rounding for negative values. To keep the current behavior, use torch.div(a, b, rounding_mode='trunc'), or for actual floor division, use torch.div(a, b, rounding_mode='floor').\n",
      "  row = perm // num_nodes\n"
     ]
    },
    {
     "name": "stdout",
     "output_type": "stream",
     "text": [
      "Epoch: 066, Train: 0.9874, Val: 0.9787, Test: 0.9790, Loss: 0.41468\n"
     ]
    },
    {
     "name": "stderr",
     "output_type": "stream",
     "text": [
      "c:\\Users\\rosa-\\anaconda3\\envs\\xaifo\\lib\\site-packages\\deepsnap\\graph.py:2126: UserWarning: __floordiv__ is deprecated, and its behavior will change in a future version of pytorch. It currently rounds toward 0 (like the 'trunc' function NOT 'floor'). This results in incorrect rounding for negative values. To keep the current behavior, use torch.div(a, b, rounding_mode='trunc'), or for actual floor division, use torch.div(a, b, rounding_mode='floor').\n",
      "  row = perm // num_nodes\n"
     ]
    },
    {
     "name": "stdout",
     "output_type": "stream",
     "text": [
      "Epoch: 067, Train: 0.9878, Val: 0.9788, Test: 0.9791, Loss: 0.41414\n"
     ]
    },
    {
     "name": "stderr",
     "output_type": "stream",
     "text": [
      "c:\\Users\\rosa-\\anaconda3\\envs\\xaifo\\lib\\site-packages\\deepsnap\\graph.py:2126: UserWarning: __floordiv__ is deprecated, and its behavior will change in a future version of pytorch. It currently rounds toward 0 (like the 'trunc' function NOT 'floor'). This results in incorrect rounding for negative values. To keep the current behavior, use torch.div(a, b, rounding_mode='trunc'), or for actual floor division, use torch.div(a, b, rounding_mode='floor').\n",
      "  row = perm // num_nodes\n"
     ]
    },
    {
     "name": "stdout",
     "output_type": "stream",
     "text": [
      "Epoch: 068, Train: 0.9878, Val: 0.9790, Test: 0.9792, Loss: 0.41071\n"
     ]
    },
    {
     "name": "stderr",
     "output_type": "stream",
     "text": [
      "c:\\Users\\rosa-\\anaconda3\\envs\\xaifo\\lib\\site-packages\\deepsnap\\graph.py:2126: UserWarning: __floordiv__ is deprecated, and its behavior will change in a future version of pytorch. It currently rounds toward 0 (like the 'trunc' function NOT 'floor'). This results in incorrect rounding for negative values. To keep the current behavior, use torch.div(a, b, rounding_mode='trunc'), or for actual floor division, use torch.div(a, b, rounding_mode='floor').\n",
      "  row = perm // num_nodes\n"
     ]
    },
    {
     "name": "stdout",
     "output_type": "stream",
     "text": [
      "Epoch: 069, Train: 0.9879, Val: 0.9791, Test: 0.9793, Loss: 0.41242\n"
     ]
    },
    {
     "name": "stderr",
     "output_type": "stream",
     "text": [
      "c:\\Users\\rosa-\\anaconda3\\envs\\xaifo\\lib\\site-packages\\deepsnap\\graph.py:2126: UserWarning: __floordiv__ is deprecated, and its behavior will change in a future version of pytorch. It currently rounds toward 0 (like the 'trunc' function NOT 'floor'). This results in incorrect rounding for negative values. To keep the current behavior, use torch.div(a, b, rounding_mode='trunc'), or for actual floor division, use torch.div(a, b, rounding_mode='floor').\n",
      "  row = perm // num_nodes\n"
     ]
    },
    {
     "name": "stdout",
     "output_type": "stream",
     "text": [
      "Epoch: 070, Train: 0.9882, Val: 0.9793, Test: 0.9795, Loss: 0.41249\n"
     ]
    },
    {
     "name": "stderr",
     "output_type": "stream",
     "text": [
      "c:\\Users\\rosa-\\anaconda3\\envs\\xaifo\\lib\\site-packages\\deepsnap\\graph.py:2126: UserWarning: __floordiv__ is deprecated, and its behavior will change in a future version of pytorch. It currently rounds toward 0 (like the 'trunc' function NOT 'floor'). This results in incorrect rounding for negative values. To keep the current behavior, use torch.div(a, b, rounding_mode='trunc'), or for actual floor division, use torch.div(a, b, rounding_mode='floor').\n",
      "  row = perm // num_nodes\n"
     ]
    },
    {
     "name": "stdout",
     "output_type": "stream",
     "text": [
      "Epoch: 071, Train: 0.9884, Val: 0.9794, Test: 0.9796, Loss: 0.41215\n"
     ]
    },
    {
     "name": "stderr",
     "output_type": "stream",
     "text": [
      "c:\\Users\\rosa-\\anaconda3\\envs\\xaifo\\lib\\site-packages\\deepsnap\\graph.py:2126: UserWarning: __floordiv__ is deprecated, and its behavior will change in a future version of pytorch. It currently rounds toward 0 (like the 'trunc' function NOT 'floor'). This results in incorrect rounding for negative values. To keep the current behavior, use torch.div(a, b, rounding_mode='trunc'), or for actual floor division, use torch.div(a, b, rounding_mode='floor').\n",
      "  row = perm // num_nodes\n"
     ]
    },
    {
     "name": "stdout",
     "output_type": "stream",
     "text": [
      "Epoch: 072, Train: 0.9885, Val: 0.9795, Test: 0.9797, Loss: 0.41132\n"
     ]
    },
    {
     "name": "stderr",
     "output_type": "stream",
     "text": [
      "c:\\Users\\rosa-\\anaconda3\\envs\\xaifo\\lib\\site-packages\\deepsnap\\graph.py:2126: UserWarning: __floordiv__ is deprecated, and its behavior will change in a future version of pytorch. It currently rounds toward 0 (like the 'trunc' function NOT 'floor'). This results in incorrect rounding for negative values. To keep the current behavior, use torch.div(a, b, rounding_mode='trunc'), or for actual floor division, use torch.div(a, b, rounding_mode='floor').\n",
      "  row = perm // num_nodes\n"
     ]
    },
    {
     "name": "stdout",
     "output_type": "stream",
     "text": [
      "Epoch: 073, Train: 0.9886, Val: 0.9797, Test: 0.9798, Loss: 0.41238\n"
     ]
    },
    {
     "name": "stderr",
     "output_type": "stream",
     "text": [
      "c:\\Users\\rosa-\\anaconda3\\envs\\xaifo\\lib\\site-packages\\deepsnap\\graph.py:2126: UserWarning: __floordiv__ is deprecated, and its behavior will change in a future version of pytorch. It currently rounds toward 0 (like the 'trunc' function NOT 'floor'). This results in incorrect rounding for negative values. To keep the current behavior, use torch.div(a, b, rounding_mode='trunc'), or for actual floor division, use torch.div(a, b, rounding_mode='floor').\n",
      "  row = perm // num_nodes\n"
     ]
    },
    {
     "name": "stdout",
     "output_type": "stream",
     "text": [
      "Epoch: 074, Train: 0.9885, Val: 0.9798, Test: 0.9799, Loss: 0.41125\n"
     ]
    },
    {
     "name": "stderr",
     "output_type": "stream",
     "text": [
      "c:\\Users\\rosa-\\anaconda3\\envs\\xaifo\\lib\\site-packages\\deepsnap\\graph.py:2126: UserWarning: __floordiv__ is deprecated, and its behavior will change in a future version of pytorch. It currently rounds toward 0 (like the 'trunc' function NOT 'floor'). This results in incorrect rounding for negative values. To keep the current behavior, use torch.div(a, b, rounding_mode='trunc'), or for actual floor division, use torch.div(a, b, rounding_mode='floor').\n",
      "  row = perm // num_nodes\n"
     ]
    },
    {
     "name": "stdout",
     "output_type": "stream",
     "text": [
      "Epoch: 075, Train: 0.9888, Val: 0.9799, Test: 0.9800, Loss: 0.41088\n"
     ]
    },
    {
     "name": "stderr",
     "output_type": "stream",
     "text": [
      "c:\\Users\\rosa-\\anaconda3\\envs\\xaifo\\lib\\site-packages\\deepsnap\\graph.py:2126: UserWarning: __floordiv__ is deprecated, and its behavior will change in a future version of pytorch. It currently rounds toward 0 (like the 'trunc' function NOT 'floor'). This results in incorrect rounding for negative values. To keep the current behavior, use torch.div(a, b, rounding_mode='trunc'), or for actual floor division, use torch.div(a, b, rounding_mode='floor').\n",
      "  row = perm // num_nodes\n"
     ]
    },
    {
     "name": "stdout",
     "output_type": "stream",
     "text": [
      "Epoch: 076, Train: 0.9892, Val: 0.9800, Test: 0.9801, Loss: 0.41048\n"
     ]
    },
    {
     "name": "stderr",
     "output_type": "stream",
     "text": [
      "c:\\Users\\rosa-\\anaconda3\\envs\\xaifo\\lib\\site-packages\\deepsnap\\graph.py:2126: UserWarning: __floordiv__ is deprecated, and its behavior will change in a future version of pytorch. It currently rounds toward 0 (like the 'trunc' function NOT 'floor'). This results in incorrect rounding for negative values. To keep the current behavior, use torch.div(a, b, rounding_mode='trunc'), or for actual floor division, use torch.div(a, b, rounding_mode='floor').\n",
      "  row = perm // num_nodes\n"
     ]
    },
    {
     "name": "stdout",
     "output_type": "stream",
     "text": [
      "Epoch: 077, Train: 0.9891, Val: 0.9801, Test: 0.9802, Loss: 0.41035\n"
     ]
    },
    {
     "name": "stderr",
     "output_type": "stream",
     "text": [
      "c:\\Users\\rosa-\\anaconda3\\envs\\xaifo\\lib\\site-packages\\deepsnap\\graph.py:2126: UserWarning: __floordiv__ is deprecated, and its behavior will change in a future version of pytorch. It currently rounds toward 0 (like the 'trunc' function NOT 'floor'). This results in incorrect rounding for negative values. To keep the current behavior, use torch.div(a, b, rounding_mode='trunc'), or for actual floor division, use torch.div(a, b, rounding_mode='floor').\n",
      "  row = perm // num_nodes\n"
     ]
    },
    {
     "name": "stdout",
     "output_type": "stream",
     "text": [
      "Epoch: 078, Train: 0.9895, Val: 0.9802, Test: 0.9803, Loss: 0.40876\n"
     ]
    },
    {
     "name": "stderr",
     "output_type": "stream",
     "text": [
      "c:\\Users\\rosa-\\anaconda3\\envs\\xaifo\\lib\\site-packages\\deepsnap\\graph.py:2126: UserWarning: __floordiv__ is deprecated, and its behavior will change in a future version of pytorch. It currently rounds toward 0 (like the 'trunc' function NOT 'floor'). This results in incorrect rounding for negative values. To keep the current behavior, use torch.div(a, b, rounding_mode='trunc'), or for actual floor division, use torch.div(a, b, rounding_mode='floor').\n",
      "  row = perm // num_nodes\n"
     ]
    },
    {
     "name": "stdout",
     "output_type": "stream",
     "text": [
      "Epoch: 079, Train: 0.9895, Val: 0.9803, Test: 0.9804, Loss: 0.40873\n"
     ]
    },
    {
     "name": "stderr",
     "output_type": "stream",
     "text": [
      "c:\\Users\\rosa-\\anaconda3\\envs\\xaifo\\lib\\site-packages\\deepsnap\\graph.py:2126: UserWarning: __floordiv__ is deprecated, and its behavior will change in a future version of pytorch. It currently rounds toward 0 (like the 'trunc' function NOT 'floor'). This results in incorrect rounding for negative values. To keep the current behavior, use torch.div(a, b, rounding_mode='trunc'), or for actual floor division, use torch.div(a, b, rounding_mode='floor').\n",
      "  row = perm // num_nodes\n"
     ]
    },
    {
     "name": "stdout",
     "output_type": "stream",
     "text": [
      "Epoch: 080, Train: 0.9894, Val: 0.9804, Test: 0.9805, Loss: 0.40817\n"
     ]
    },
    {
     "name": "stderr",
     "output_type": "stream",
     "text": [
      "c:\\Users\\rosa-\\anaconda3\\envs\\xaifo\\lib\\site-packages\\deepsnap\\graph.py:2126: UserWarning: __floordiv__ is deprecated, and its behavior will change in a future version of pytorch. It currently rounds toward 0 (like the 'trunc' function NOT 'floor'). This results in incorrect rounding for negative values. To keep the current behavior, use torch.div(a, b, rounding_mode='trunc'), or for actual floor division, use torch.div(a, b, rounding_mode='floor').\n",
      "  row = perm // num_nodes\n"
     ]
    },
    {
     "name": "stdout",
     "output_type": "stream",
     "text": [
      "Epoch: 081, Train: 0.9896, Val: 0.9805, Test: 0.9805, Loss: 0.40938\n"
     ]
    },
    {
     "name": "stderr",
     "output_type": "stream",
     "text": [
      "c:\\Users\\rosa-\\anaconda3\\envs\\xaifo\\lib\\site-packages\\deepsnap\\graph.py:2126: UserWarning: __floordiv__ is deprecated, and its behavior will change in a future version of pytorch. It currently rounds toward 0 (like the 'trunc' function NOT 'floor'). This results in incorrect rounding for negative values. To keep the current behavior, use torch.div(a, b, rounding_mode='trunc'), or for actual floor division, use torch.div(a, b, rounding_mode='floor').\n",
      "  row = perm // num_nodes\n"
     ]
    },
    {
     "name": "stdout",
     "output_type": "stream",
     "text": [
      "Epoch: 082, Train: 0.9899, Val: 0.9806, Test: 0.9807, Loss: 0.40970\n"
     ]
    },
    {
     "name": "stderr",
     "output_type": "stream",
     "text": [
      "c:\\Users\\rosa-\\anaconda3\\envs\\xaifo\\lib\\site-packages\\deepsnap\\graph.py:2126: UserWarning: __floordiv__ is deprecated, and its behavior will change in a future version of pytorch. It currently rounds toward 0 (like the 'trunc' function NOT 'floor'). This results in incorrect rounding for negative values. To keep the current behavior, use torch.div(a, b, rounding_mode='trunc'), or for actual floor division, use torch.div(a, b, rounding_mode='floor').\n",
      "  row = perm // num_nodes\n"
     ]
    },
    {
     "name": "stdout",
     "output_type": "stream",
     "text": [
      "Epoch: 083, Train: 0.9897, Val: 0.9807, Test: 0.9808, Loss: 0.40874\n"
     ]
    },
    {
     "name": "stderr",
     "output_type": "stream",
     "text": [
      "c:\\Users\\rosa-\\anaconda3\\envs\\xaifo\\lib\\site-packages\\deepsnap\\graph.py:2126: UserWarning: __floordiv__ is deprecated, and its behavior will change in a future version of pytorch. It currently rounds toward 0 (like the 'trunc' function NOT 'floor'). This results in incorrect rounding for negative values. To keep the current behavior, use torch.div(a, b, rounding_mode='trunc'), or for actual floor division, use torch.div(a, b, rounding_mode='floor').\n",
      "  row = perm // num_nodes\n"
     ]
    },
    {
     "name": "stdout",
     "output_type": "stream",
     "text": [
      "Epoch: 084, Train: 0.9901, Val: 0.9808, Test: 0.9809, Loss: 0.40747\n"
     ]
    },
    {
     "name": "stderr",
     "output_type": "stream",
     "text": [
      "c:\\Users\\rosa-\\anaconda3\\envs\\xaifo\\lib\\site-packages\\deepsnap\\graph.py:2126: UserWarning: __floordiv__ is deprecated, and its behavior will change in a future version of pytorch. It currently rounds toward 0 (like the 'trunc' function NOT 'floor'). This results in incorrect rounding for negative values. To keep the current behavior, use torch.div(a, b, rounding_mode='trunc'), or for actual floor division, use torch.div(a, b, rounding_mode='floor').\n",
      "  row = perm // num_nodes\n"
     ]
    },
    {
     "name": "stdout",
     "output_type": "stream",
     "text": [
      "Epoch: 085, Train: 0.9902, Val: 0.9809, Test: 0.9810, Loss: 0.40814\n"
     ]
    },
    {
     "name": "stderr",
     "output_type": "stream",
     "text": [
      "c:\\Users\\rosa-\\anaconda3\\envs\\xaifo\\lib\\site-packages\\deepsnap\\graph.py:2126: UserWarning: __floordiv__ is deprecated, and its behavior will change in a future version of pytorch. It currently rounds toward 0 (like the 'trunc' function NOT 'floor'). This results in incorrect rounding for negative values. To keep the current behavior, use torch.div(a, b, rounding_mode='trunc'), or for actual floor division, use torch.div(a, b, rounding_mode='floor').\n",
      "  row = perm // num_nodes\n"
     ]
    },
    {
     "name": "stdout",
     "output_type": "stream",
     "text": [
      "Epoch: 086, Train: 0.9901, Val: 0.9810, Test: 0.9811, Loss: 0.40687\n"
     ]
    },
    {
     "name": "stderr",
     "output_type": "stream",
     "text": [
      "c:\\Users\\rosa-\\anaconda3\\envs\\xaifo\\lib\\site-packages\\deepsnap\\graph.py:2126: UserWarning: __floordiv__ is deprecated, and its behavior will change in a future version of pytorch. It currently rounds toward 0 (like the 'trunc' function NOT 'floor'). This results in incorrect rounding for negative values. To keep the current behavior, use torch.div(a, b, rounding_mode='trunc'), or for actual floor division, use torch.div(a, b, rounding_mode='floor').\n",
      "  row = perm // num_nodes\n"
     ]
    },
    {
     "name": "stdout",
     "output_type": "stream",
     "text": [
      "Epoch: 087, Train: 0.9903, Val: 0.9811, Test: 0.9812, Loss: 0.40802\n"
     ]
    },
    {
     "name": "stderr",
     "output_type": "stream",
     "text": [
      "c:\\Users\\rosa-\\anaconda3\\envs\\xaifo\\lib\\site-packages\\deepsnap\\graph.py:2126: UserWarning: __floordiv__ is deprecated, and its behavior will change in a future version of pytorch. It currently rounds toward 0 (like the 'trunc' function NOT 'floor'). This results in incorrect rounding for negative values. To keep the current behavior, use torch.div(a, b, rounding_mode='trunc'), or for actual floor division, use torch.div(a, b, rounding_mode='floor').\n",
      "  row = perm // num_nodes\n"
     ]
    },
    {
     "name": "stdout",
     "output_type": "stream",
     "text": [
      "Epoch: 088, Train: 0.9900, Val: 0.9812, Test: 0.9813, Loss: 0.40765\n"
     ]
    },
    {
     "name": "stderr",
     "output_type": "stream",
     "text": [
      "c:\\Users\\rosa-\\anaconda3\\envs\\xaifo\\lib\\site-packages\\deepsnap\\graph.py:2126: UserWarning: __floordiv__ is deprecated, and its behavior will change in a future version of pytorch. It currently rounds toward 0 (like the 'trunc' function NOT 'floor'). This results in incorrect rounding for negative values. To keep the current behavior, use torch.div(a, b, rounding_mode='trunc'), or for actual floor division, use torch.div(a, b, rounding_mode='floor').\n",
      "  row = perm // num_nodes\n"
     ]
    },
    {
     "name": "stdout",
     "output_type": "stream",
     "text": [
      "Epoch: 089, Train: 0.9904, Val: 0.9813, Test: 0.9814, Loss: 0.40636\n"
     ]
    },
    {
     "name": "stderr",
     "output_type": "stream",
     "text": [
      "c:\\Users\\rosa-\\anaconda3\\envs\\xaifo\\lib\\site-packages\\deepsnap\\graph.py:2126: UserWarning: __floordiv__ is deprecated, and its behavior will change in a future version of pytorch. It currently rounds toward 0 (like the 'trunc' function NOT 'floor'). This results in incorrect rounding for negative values. To keep the current behavior, use torch.div(a, b, rounding_mode='trunc'), or for actual floor division, use torch.div(a, b, rounding_mode='floor').\n",
      "  row = perm // num_nodes\n"
     ]
    },
    {
     "name": "stdout",
     "output_type": "stream",
     "text": [
      "Epoch: 090, Train: 0.9908, Val: 0.9813, Test: 0.9815, Loss: 0.40554\n"
     ]
    },
    {
     "name": "stderr",
     "output_type": "stream",
     "text": [
      "c:\\Users\\rosa-\\anaconda3\\envs\\xaifo\\lib\\site-packages\\deepsnap\\graph.py:2126: UserWarning: __floordiv__ is deprecated, and its behavior will change in a future version of pytorch. It currently rounds toward 0 (like the 'trunc' function NOT 'floor'). This results in incorrect rounding for negative values. To keep the current behavior, use torch.div(a, b, rounding_mode='trunc'), or for actual floor division, use torch.div(a, b, rounding_mode='floor').\n",
      "  row = perm // num_nodes\n"
     ]
    },
    {
     "name": "stdout",
     "output_type": "stream",
     "text": [
      "Epoch: 091, Train: 0.9908, Val: 0.9814, Test: 0.9816, Loss: 0.40666\n"
     ]
    },
    {
     "name": "stderr",
     "output_type": "stream",
     "text": [
      "c:\\Users\\rosa-\\anaconda3\\envs\\xaifo\\lib\\site-packages\\deepsnap\\graph.py:2126: UserWarning: __floordiv__ is deprecated, and its behavior will change in a future version of pytorch. It currently rounds toward 0 (like the 'trunc' function NOT 'floor'). This results in incorrect rounding for negative values. To keep the current behavior, use torch.div(a, b, rounding_mode='trunc'), or for actual floor division, use torch.div(a, b, rounding_mode='floor').\n",
      "  row = perm // num_nodes\n"
     ]
    },
    {
     "name": "stdout",
     "output_type": "stream",
     "text": [
      "Epoch: 092, Train: 0.9908, Val: 0.9816, Test: 0.9817, Loss: 0.40583\n"
     ]
    },
    {
     "name": "stderr",
     "output_type": "stream",
     "text": [
      "c:\\Users\\rosa-\\anaconda3\\envs\\xaifo\\lib\\site-packages\\deepsnap\\graph.py:2126: UserWarning: __floordiv__ is deprecated, and its behavior will change in a future version of pytorch. It currently rounds toward 0 (like the 'trunc' function NOT 'floor'). This results in incorrect rounding for negative values. To keep the current behavior, use torch.div(a, b, rounding_mode='trunc'), or for actual floor division, use torch.div(a, b, rounding_mode='floor').\n",
      "  row = perm // num_nodes\n"
     ]
    },
    {
     "name": "stdout",
     "output_type": "stream",
     "text": [
      "Epoch: 093, Train: 0.9909, Val: 0.9817, Test: 0.9818, Loss: 0.40687\n"
     ]
    },
    {
     "name": "stderr",
     "output_type": "stream",
     "text": [
      "c:\\Users\\rosa-\\anaconda3\\envs\\xaifo\\lib\\site-packages\\deepsnap\\graph.py:2126: UserWarning: __floordiv__ is deprecated, and its behavior will change in a future version of pytorch. It currently rounds toward 0 (like the 'trunc' function NOT 'floor'). This results in incorrect rounding for negative values. To keep the current behavior, use torch.div(a, b, rounding_mode='trunc'), or for actual floor division, use torch.div(a, b, rounding_mode='floor').\n",
      "  row = perm // num_nodes\n"
     ]
    },
    {
     "name": "stdout",
     "output_type": "stream",
     "text": [
      "Epoch: 094, Train: 0.9908, Val: 0.9817, Test: 0.9818, Loss: 0.40483\n"
     ]
    },
    {
     "name": "stderr",
     "output_type": "stream",
     "text": [
      "c:\\Users\\rosa-\\anaconda3\\envs\\xaifo\\lib\\site-packages\\deepsnap\\graph.py:2126: UserWarning: __floordiv__ is deprecated, and its behavior will change in a future version of pytorch. It currently rounds toward 0 (like the 'trunc' function NOT 'floor'). This results in incorrect rounding for negative values. To keep the current behavior, use torch.div(a, b, rounding_mode='trunc'), or for actual floor division, use torch.div(a, b, rounding_mode='floor').\n",
      "  row = perm // num_nodes\n"
     ]
    },
    {
     "name": "stdout",
     "output_type": "stream",
     "text": [
      "Epoch: 095, Train: 0.9910, Val: 0.9818, Test: 0.9819, Loss: 0.40590\n"
     ]
    },
    {
     "name": "stderr",
     "output_type": "stream",
     "text": [
      "c:\\Users\\rosa-\\anaconda3\\envs\\xaifo\\lib\\site-packages\\deepsnap\\graph.py:2126: UserWarning: __floordiv__ is deprecated, and its behavior will change in a future version of pytorch. It currently rounds toward 0 (like the 'trunc' function NOT 'floor'). This results in incorrect rounding for negative values. To keep the current behavior, use torch.div(a, b, rounding_mode='trunc'), or for actual floor division, use torch.div(a, b, rounding_mode='floor').\n",
      "  row = perm // num_nodes\n"
     ]
    },
    {
     "name": "stdout",
     "output_type": "stream",
     "text": [
      "Epoch: 096, Train: 0.9914, Val: 0.9818, Test: 0.9820, Loss: 0.40468\n"
     ]
    },
    {
     "name": "stderr",
     "output_type": "stream",
     "text": [
      "c:\\Users\\rosa-\\anaconda3\\envs\\xaifo\\lib\\site-packages\\deepsnap\\graph.py:2126: UserWarning: __floordiv__ is deprecated, and its behavior will change in a future version of pytorch. It currently rounds toward 0 (like the 'trunc' function NOT 'floor'). This results in incorrect rounding for negative values. To keep the current behavior, use torch.div(a, b, rounding_mode='trunc'), or for actual floor division, use torch.div(a, b, rounding_mode='floor').\n",
      "  row = perm // num_nodes\n"
     ]
    },
    {
     "name": "stdout",
     "output_type": "stream",
     "text": [
      "Epoch: 097, Train: 0.9911, Val: 0.9819, Test: 0.9820, Loss: 0.40562\n"
     ]
    },
    {
     "name": "stderr",
     "output_type": "stream",
     "text": [
      "c:\\Users\\rosa-\\anaconda3\\envs\\xaifo\\lib\\site-packages\\deepsnap\\graph.py:2126: UserWarning: __floordiv__ is deprecated, and its behavior will change in a future version of pytorch. It currently rounds toward 0 (like the 'trunc' function NOT 'floor'). This results in incorrect rounding for negative values. To keep the current behavior, use torch.div(a, b, rounding_mode='trunc'), or for actual floor division, use torch.div(a, b, rounding_mode='floor').\n",
      "  row = perm // num_nodes\n"
     ]
    },
    {
     "name": "stdout",
     "output_type": "stream",
     "text": [
      "Epoch: 098, Train: 0.9914, Val: 0.9819, Test: 0.9821, Loss: 0.40573\n"
     ]
    },
    {
     "name": "stderr",
     "output_type": "stream",
     "text": [
      "c:\\Users\\rosa-\\anaconda3\\envs\\xaifo\\lib\\site-packages\\deepsnap\\graph.py:2126: UserWarning: __floordiv__ is deprecated, and its behavior will change in a future version of pytorch. It currently rounds toward 0 (like the 'trunc' function NOT 'floor'). This results in incorrect rounding for negative values. To keep the current behavior, use torch.div(a, b, rounding_mode='trunc'), or for actual floor division, use torch.div(a, b, rounding_mode='floor').\n",
      "  row = perm // num_nodes\n"
     ]
    },
    {
     "name": "stdout",
     "output_type": "stream",
     "text": [
      "Epoch: 099, Train: 0.9909, Val: 0.9820, Test: 0.9821, Loss: 0.40396\n"
     ]
    },
    {
     "name": "stderr",
     "output_type": "stream",
     "text": [
      "c:\\Users\\rosa-\\anaconda3\\envs\\xaifo\\lib\\site-packages\\deepsnap\\graph.py:2126: UserWarning: __floordiv__ is deprecated, and its behavior will change in a future version of pytorch. It currently rounds toward 0 (like the 'trunc' function NOT 'floor'). This results in incorrect rounding for negative values. To keep the current behavior, use torch.div(a, b, rounding_mode='trunc'), or for actual floor division, use torch.div(a, b, rounding_mode='floor').\n",
      "  row = perm // num_nodes\n"
     ]
    },
    {
     "name": "stdout",
     "output_type": "stream",
     "text": [
      "Epoch: 100, Train: 0.9914, Val: 0.9820, Test: 0.9821, Loss: 0.40412\n"
     ]
    },
    {
     "name": "stderr",
     "output_type": "stream",
     "text": [
      "c:\\Users\\rosa-\\anaconda3\\envs\\xaifo\\lib\\site-packages\\deepsnap\\graph.py:2126: UserWarning: __floordiv__ is deprecated, and its behavior will change in a future version of pytorch. It currently rounds toward 0 (like the 'trunc' function NOT 'floor'). This results in incorrect rounding for negative values. To keep the current behavior, use torch.div(a, b, rounding_mode='trunc'), or for actual floor division, use torch.div(a, b, rounding_mode='floor').\n",
      "  row = perm // num_nodes\n"
     ]
    },
    {
     "name": "stdout",
     "output_type": "stream",
     "text": [
      "Epoch: 101, Train: 0.9913, Val: 0.9821, Test: 0.9822, Loss: 0.40327\n"
     ]
    },
    {
     "name": "stderr",
     "output_type": "stream",
     "text": [
      "c:\\Users\\rosa-\\anaconda3\\envs\\xaifo\\lib\\site-packages\\deepsnap\\graph.py:2126: UserWarning: __floordiv__ is deprecated, and its behavior will change in a future version of pytorch. It currently rounds toward 0 (like the 'trunc' function NOT 'floor'). This results in incorrect rounding for negative values. To keep the current behavior, use torch.div(a, b, rounding_mode='trunc'), or for actual floor division, use torch.div(a, b, rounding_mode='floor').\n",
      "  row = perm // num_nodes\n"
     ]
    },
    {
     "name": "stdout",
     "output_type": "stream",
     "text": [
      "Epoch: 102, Train: 0.9917, Val: 0.9821, Test: 0.9822, Loss: 0.40648\n"
     ]
    },
    {
     "name": "stderr",
     "output_type": "stream",
     "text": [
      "c:\\Users\\rosa-\\anaconda3\\envs\\xaifo\\lib\\site-packages\\deepsnap\\graph.py:2126: UserWarning: __floordiv__ is deprecated, and its behavior will change in a future version of pytorch. It currently rounds toward 0 (like the 'trunc' function NOT 'floor'). This results in incorrect rounding for negative values. To keep the current behavior, use torch.div(a, b, rounding_mode='trunc'), or for actual floor division, use torch.div(a, b, rounding_mode='floor').\n",
      "  row = perm // num_nodes\n"
     ]
    },
    {
     "name": "stdout",
     "output_type": "stream",
     "text": [
      "Epoch: 103, Train: 0.9918, Val: 0.9821, Test: 0.9823, Loss: 0.40496\n"
     ]
    },
    {
     "name": "stderr",
     "output_type": "stream",
     "text": [
      "c:\\Users\\rosa-\\anaconda3\\envs\\xaifo\\lib\\site-packages\\deepsnap\\graph.py:2126: UserWarning: __floordiv__ is deprecated, and its behavior will change in a future version of pytorch. It currently rounds toward 0 (like the 'trunc' function NOT 'floor'). This results in incorrect rounding for negative values. To keep the current behavior, use torch.div(a, b, rounding_mode='trunc'), or for actual floor division, use torch.div(a, b, rounding_mode='floor').\n",
      "  row = perm // num_nodes\n"
     ]
    },
    {
     "name": "stdout",
     "output_type": "stream",
     "text": [
      "Epoch: 104, Train: 0.9915, Val: 0.9822, Test: 0.9823, Loss: 0.40346\n"
     ]
    },
    {
     "name": "stderr",
     "output_type": "stream",
     "text": [
      "c:\\Users\\rosa-\\anaconda3\\envs\\xaifo\\lib\\site-packages\\deepsnap\\graph.py:2126: UserWarning: __floordiv__ is deprecated, and its behavior will change in a future version of pytorch. It currently rounds toward 0 (like the 'trunc' function NOT 'floor'). This results in incorrect rounding for negative values. To keep the current behavior, use torch.div(a, b, rounding_mode='trunc'), or for actual floor division, use torch.div(a, b, rounding_mode='floor').\n",
      "  row = perm // num_nodes\n"
     ]
    },
    {
     "name": "stdout",
     "output_type": "stream",
     "text": [
      "Epoch: 105, Train: 0.9918, Val: 0.9823, Test: 0.9824, Loss: 0.40349\n"
     ]
    },
    {
     "name": "stderr",
     "output_type": "stream",
     "text": [
      "c:\\Users\\rosa-\\anaconda3\\envs\\xaifo\\lib\\site-packages\\deepsnap\\graph.py:2126: UserWarning: __floordiv__ is deprecated, and its behavior will change in a future version of pytorch. It currently rounds toward 0 (like the 'trunc' function NOT 'floor'). This results in incorrect rounding for negative values. To keep the current behavior, use torch.div(a, b, rounding_mode='trunc'), or for actual floor division, use torch.div(a, b, rounding_mode='floor').\n",
      "  row = perm // num_nodes\n"
     ]
    },
    {
     "name": "stdout",
     "output_type": "stream",
     "text": [
      "Epoch: 106, Train: 0.9919, Val: 0.9823, Test: 0.9824, Loss: 0.40397\n"
     ]
    },
    {
     "name": "stderr",
     "output_type": "stream",
     "text": [
      "c:\\Users\\rosa-\\anaconda3\\envs\\xaifo\\lib\\site-packages\\deepsnap\\graph.py:2126: UserWarning: __floordiv__ is deprecated, and its behavior will change in a future version of pytorch. It currently rounds toward 0 (like the 'trunc' function NOT 'floor'). This results in incorrect rounding for negative values. To keep the current behavior, use torch.div(a, b, rounding_mode='trunc'), or for actual floor division, use torch.div(a, b, rounding_mode='floor').\n",
      "  row = perm // num_nodes\n"
     ]
    },
    {
     "name": "stdout",
     "output_type": "stream",
     "text": [
      "Epoch: 107, Train: 0.9918, Val: 0.9823, Test: 0.9824, Loss: 0.40368\n"
     ]
    },
    {
     "name": "stderr",
     "output_type": "stream",
     "text": [
      "c:\\Users\\rosa-\\anaconda3\\envs\\xaifo\\lib\\site-packages\\deepsnap\\graph.py:2126: UserWarning: __floordiv__ is deprecated, and its behavior will change in a future version of pytorch. It currently rounds toward 0 (like the 'trunc' function NOT 'floor'). This results in incorrect rounding for negative values. To keep the current behavior, use torch.div(a, b, rounding_mode='trunc'), or for actual floor division, use torch.div(a, b, rounding_mode='floor').\n",
      "  row = perm // num_nodes\n"
     ]
    },
    {
     "name": "stdout",
     "output_type": "stream",
     "text": [
      "Epoch: 108, Train: 0.9917, Val: 0.9824, Test: 0.9825, Loss: 0.40325\n"
     ]
    },
    {
     "name": "stderr",
     "output_type": "stream",
     "text": [
      "c:\\Users\\rosa-\\anaconda3\\envs\\xaifo\\lib\\site-packages\\deepsnap\\graph.py:2126: UserWarning: __floordiv__ is deprecated, and its behavior will change in a future version of pytorch. It currently rounds toward 0 (like the 'trunc' function NOT 'floor'). This results in incorrect rounding for negative values. To keep the current behavior, use torch.div(a, b, rounding_mode='trunc'), or for actual floor division, use torch.div(a, b, rounding_mode='floor').\n",
      "  row = perm // num_nodes\n"
     ]
    },
    {
     "name": "stdout",
     "output_type": "stream",
     "text": [
      "Epoch: 109, Train: 0.9919, Val: 0.9824, Test: 0.9825, Loss: 0.40362\n"
     ]
    },
    {
     "name": "stderr",
     "output_type": "stream",
     "text": [
      "c:\\Users\\rosa-\\anaconda3\\envs\\xaifo\\lib\\site-packages\\deepsnap\\graph.py:2126: UserWarning: __floordiv__ is deprecated, and its behavior will change in a future version of pytorch. It currently rounds toward 0 (like the 'trunc' function NOT 'floor'). This results in incorrect rounding for negative values. To keep the current behavior, use torch.div(a, b, rounding_mode='trunc'), or for actual floor division, use torch.div(a, b, rounding_mode='floor').\n",
      "  row = perm // num_nodes\n"
     ]
    },
    {
     "name": "stdout",
     "output_type": "stream",
     "text": [
      "Epoch: 110, Train: 0.9923, Val: 0.9825, Test: 0.9826, Loss: 0.40400\n"
     ]
    },
    {
     "name": "stderr",
     "output_type": "stream",
     "text": [
      "c:\\Users\\rosa-\\anaconda3\\envs\\xaifo\\lib\\site-packages\\deepsnap\\graph.py:2126: UserWarning: __floordiv__ is deprecated, and its behavior will change in a future version of pytorch. It currently rounds toward 0 (like the 'trunc' function NOT 'floor'). This results in incorrect rounding for negative values. To keep the current behavior, use torch.div(a, b, rounding_mode='trunc'), or for actual floor division, use torch.div(a, b, rounding_mode='floor').\n",
      "  row = perm // num_nodes\n"
     ]
    },
    {
     "name": "stdout",
     "output_type": "stream",
     "text": [
      "Epoch: 111, Train: 0.9921, Val: 0.9825, Test: 0.9826, Loss: 0.40249\n"
     ]
    },
    {
     "name": "stderr",
     "output_type": "stream",
     "text": [
      "c:\\Users\\rosa-\\anaconda3\\envs\\xaifo\\lib\\site-packages\\deepsnap\\graph.py:2126: UserWarning: __floordiv__ is deprecated, and its behavior will change in a future version of pytorch. It currently rounds toward 0 (like the 'trunc' function NOT 'floor'). This results in incorrect rounding for negative values. To keep the current behavior, use torch.div(a, b, rounding_mode='trunc'), or for actual floor division, use torch.div(a, b, rounding_mode='floor').\n",
      "  row = perm // num_nodes\n"
     ]
    },
    {
     "name": "stdout",
     "output_type": "stream",
     "text": [
      "Epoch: 112, Train: 0.9921, Val: 0.9826, Test: 0.9827, Loss: 0.40220\n"
     ]
    },
    {
     "name": "stderr",
     "output_type": "stream",
     "text": [
      "c:\\Users\\rosa-\\anaconda3\\envs\\xaifo\\lib\\site-packages\\deepsnap\\graph.py:2126: UserWarning: __floordiv__ is deprecated, and its behavior will change in a future version of pytorch. It currently rounds toward 0 (like the 'trunc' function NOT 'floor'). This results in incorrect rounding for negative values. To keep the current behavior, use torch.div(a, b, rounding_mode='trunc'), or for actual floor division, use torch.div(a, b, rounding_mode='floor').\n",
      "  row = perm // num_nodes\n"
     ]
    },
    {
     "name": "stdout",
     "output_type": "stream",
     "text": [
      "Epoch: 113, Train: 0.9922, Val: 0.9826, Test: 0.9827, Loss: 0.40197\n"
     ]
    },
    {
     "name": "stderr",
     "output_type": "stream",
     "text": [
      "c:\\Users\\rosa-\\anaconda3\\envs\\xaifo\\lib\\site-packages\\deepsnap\\graph.py:2126: UserWarning: __floordiv__ is deprecated, and its behavior will change in a future version of pytorch. It currently rounds toward 0 (like the 'trunc' function NOT 'floor'). This results in incorrect rounding for negative values. To keep the current behavior, use torch.div(a, b, rounding_mode='trunc'), or for actual floor division, use torch.div(a, b, rounding_mode='floor').\n",
      "  row = perm // num_nodes\n"
     ]
    },
    {
     "name": "stdout",
     "output_type": "stream",
     "text": [
      "Epoch: 114, Train: 0.9921, Val: 0.9826, Test: 0.9827, Loss: 0.40194\n"
     ]
    },
    {
     "name": "stderr",
     "output_type": "stream",
     "text": [
      "c:\\Users\\rosa-\\anaconda3\\envs\\xaifo\\lib\\site-packages\\deepsnap\\graph.py:2126: UserWarning: __floordiv__ is deprecated, and its behavior will change in a future version of pytorch. It currently rounds toward 0 (like the 'trunc' function NOT 'floor'). This results in incorrect rounding for negative values. To keep the current behavior, use torch.div(a, b, rounding_mode='trunc'), or for actual floor division, use torch.div(a, b, rounding_mode='floor').\n",
      "  row = perm // num_nodes\n"
     ]
    },
    {
     "name": "stdout",
     "output_type": "stream",
     "text": [
      "Epoch: 115, Train: 0.9926, Val: 0.9826, Test: 0.9827, Loss: 0.40170\n"
     ]
    },
    {
     "name": "stderr",
     "output_type": "stream",
     "text": [
      "c:\\Users\\rosa-\\anaconda3\\envs\\xaifo\\lib\\site-packages\\deepsnap\\graph.py:2126: UserWarning: __floordiv__ is deprecated, and its behavior will change in a future version of pytorch. It currently rounds toward 0 (like the 'trunc' function NOT 'floor'). This results in incorrect rounding for negative values. To keep the current behavior, use torch.div(a, b, rounding_mode='trunc'), or for actual floor division, use torch.div(a, b, rounding_mode='floor').\n",
      "  row = perm // num_nodes\n"
     ]
    },
    {
     "name": "stdout",
     "output_type": "stream",
     "text": [
      "Epoch: 116, Train: 0.9923, Val: 0.9826, Test: 0.9828, Loss: 0.40159\n"
     ]
    },
    {
     "name": "stderr",
     "output_type": "stream",
     "text": [
      "c:\\Users\\rosa-\\anaconda3\\envs\\xaifo\\lib\\site-packages\\deepsnap\\graph.py:2126: UserWarning: __floordiv__ is deprecated, and its behavior will change in a future version of pytorch. It currently rounds toward 0 (like the 'trunc' function NOT 'floor'). This results in incorrect rounding for negative values. To keep the current behavior, use torch.div(a, b, rounding_mode='trunc'), or for actual floor division, use torch.div(a, b, rounding_mode='floor').\n",
      "  row = perm // num_nodes\n"
     ]
    },
    {
     "name": "stdout",
     "output_type": "stream",
     "text": [
      "Epoch: 117, Train: 0.9924, Val: 0.9827, Test: 0.9828, Loss: 0.40193\n"
     ]
    },
    {
     "name": "stderr",
     "output_type": "stream",
     "text": [
      "c:\\Users\\rosa-\\anaconda3\\envs\\xaifo\\lib\\site-packages\\deepsnap\\graph.py:2126: UserWarning: __floordiv__ is deprecated, and its behavior will change in a future version of pytorch. It currently rounds toward 0 (like the 'trunc' function NOT 'floor'). This results in incorrect rounding for negative values. To keep the current behavior, use torch.div(a, b, rounding_mode='trunc'), or for actual floor division, use torch.div(a, b, rounding_mode='floor').\n",
      "  row = perm // num_nodes\n"
     ]
    },
    {
     "name": "stdout",
     "output_type": "stream",
     "text": [
      "Epoch: 118, Train: 0.9926, Val: 0.9827, Test: 0.9828, Loss: 0.40028\n"
     ]
    },
    {
     "name": "stderr",
     "output_type": "stream",
     "text": [
      "c:\\Users\\rosa-\\anaconda3\\envs\\xaifo\\lib\\site-packages\\deepsnap\\graph.py:2126: UserWarning: __floordiv__ is deprecated, and its behavior will change in a future version of pytorch. It currently rounds toward 0 (like the 'trunc' function NOT 'floor'). This results in incorrect rounding for negative values. To keep the current behavior, use torch.div(a, b, rounding_mode='trunc'), or for actual floor division, use torch.div(a, b, rounding_mode='floor').\n",
      "  row = perm // num_nodes\n"
     ]
    },
    {
     "name": "stdout",
     "output_type": "stream",
     "text": [
      "Epoch: 119, Train: 0.9926, Val: 0.9826, Test: 0.9828, Loss: 0.40170\n"
     ]
    },
    {
     "name": "stderr",
     "output_type": "stream",
     "text": [
      "c:\\Users\\rosa-\\anaconda3\\envs\\xaifo\\lib\\site-packages\\deepsnap\\graph.py:2126: UserWarning: __floordiv__ is deprecated, and its behavior will change in a future version of pytorch. It currently rounds toward 0 (like the 'trunc' function NOT 'floor'). This results in incorrect rounding for negative values. To keep the current behavior, use torch.div(a, b, rounding_mode='trunc'), or for actual floor division, use torch.div(a, b, rounding_mode='floor').\n",
      "  row = perm // num_nodes\n"
     ]
    },
    {
     "name": "stdout",
     "output_type": "stream",
     "text": [
      "Epoch: 120, Train: 0.9925, Val: 0.9826, Test: 0.9828, Loss: 0.40087\n"
     ]
    },
    {
     "name": "stderr",
     "output_type": "stream",
     "text": [
      "c:\\Users\\rosa-\\anaconda3\\envs\\xaifo\\lib\\site-packages\\deepsnap\\graph.py:2126: UserWarning: __floordiv__ is deprecated, and its behavior will change in a future version of pytorch. It currently rounds toward 0 (like the 'trunc' function NOT 'floor'). This results in incorrect rounding for negative values. To keep the current behavior, use torch.div(a, b, rounding_mode='trunc'), or for actual floor division, use torch.div(a, b, rounding_mode='floor').\n",
      "  row = perm // num_nodes\n"
     ]
    },
    {
     "name": "stdout",
     "output_type": "stream",
     "text": [
      "Epoch: 121, Train: 0.9924, Val: 0.9826, Test: 0.9828, Loss: 0.40238\n"
     ]
    },
    {
     "name": "stderr",
     "output_type": "stream",
     "text": [
      "c:\\Users\\rosa-\\anaconda3\\envs\\xaifo\\lib\\site-packages\\deepsnap\\graph.py:2126: UserWarning: __floordiv__ is deprecated, and its behavior will change in a future version of pytorch. It currently rounds toward 0 (like the 'trunc' function NOT 'floor'). This results in incorrect rounding for negative values. To keep the current behavior, use torch.div(a, b, rounding_mode='trunc'), or for actual floor division, use torch.div(a, b, rounding_mode='floor').\n",
      "  row = perm // num_nodes\n"
     ]
    },
    {
     "name": "stdout",
     "output_type": "stream",
     "text": [
      "Epoch: 122, Train: 0.9925, Val: 0.9826, Test: 0.9828, Loss: 0.40118\n"
     ]
    },
    {
     "name": "stderr",
     "output_type": "stream",
     "text": [
      "c:\\Users\\rosa-\\anaconda3\\envs\\xaifo\\lib\\site-packages\\deepsnap\\graph.py:2126: UserWarning: __floordiv__ is deprecated, and its behavior will change in a future version of pytorch. It currently rounds toward 0 (like the 'trunc' function NOT 'floor'). This results in incorrect rounding for negative values. To keep the current behavior, use torch.div(a, b, rounding_mode='trunc'), or for actual floor division, use torch.div(a, b, rounding_mode='floor').\n",
      "  row = perm // num_nodes\n"
     ]
    },
    {
     "name": "stdout",
     "output_type": "stream",
     "text": [
      "Epoch: 123, Train: 0.9928, Val: 0.9826, Test: 0.9828, Loss: 0.39986\n"
     ]
    },
    {
     "name": "stderr",
     "output_type": "stream",
     "text": [
      "c:\\Users\\rosa-\\anaconda3\\envs\\xaifo\\lib\\site-packages\\deepsnap\\graph.py:2126: UserWarning: __floordiv__ is deprecated, and its behavior will change in a future version of pytorch. It currently rounds toward 0 (like the 'trunc' function NOT 'floor'). This results in incorrect rounding for negative values. To keep the current behavior, use torch.div(a, b, rounding_mode='trunc'), or for actual floor division, use torch.div(a, b, rounding_mode='floor').\n",
      "  row = perm // num_nodes\n"
     ]
    },
    {
     "name": "stdout",
     "output_type": "stream",
     "text": [
      "Epoch: 124, Train: 0.9929, Val: 0.9826, Test: 0.9828, Loss: 0.40168\n"
     ]
    },
    {
     "name": "stderr",
     "output_type": "stream",
     "text": [
      "c:\\Users\\rosa-\\anaconda3\\envs\\xaifo\\lib\\site-packages\\deepsnap\\graph.py:2126: UserWarning: __floordiv__ is deprecated, and its behavior will change in a future version of pytorch. It currently rounds toward 0 (like the 'trunc' function NOT 'floor'). This results in incorrect rounding for negative values. To keep the current behavior, use torch.div(a, b, rounding_mode='trunc'), or for actual floor division, use torch.div(a, b, rounding_mode='floor').\n",
      "  row = perm // num_nodes\n"
     ]
    },
    {
     "name": "stdout",
     "output_type": "stream",
     "text": [
      "Epoch: 125, Train: 0.9926, Val: 0.9826, Test: 0.9828, Loss: 0.40164\n"
     ]
    },
    {
     "name": "stderr",
     "output_type": "stream",
     "text": [
      "c:\\Users\\rosa-\\anaconda3\\envs\\xaifo\\lib\\site-packages\\deepsnap\\graph.py:2126: UserWarning: __floordiv__ is deprecated, and its behavior will change in a future version of pytorch. It currently rounds toward 0 (like the 'trunc' function NOT 'floor'). This results in incorrect rounding for negative values. To keep the current behavior, use torch.div(a, b, rounding_mode='trunc'), or for actual floor division, use torch.div(a, b, rounding_mode='floor').\n",
      "  row = perm // num_nodes\n"
     ]
    },
    {
     "name": "stdout",
     "output_type": "stream",
     "text": [
      "Epoch: 126, Train: 0.9928, Val: 0.9827, Test: 0.9828, Loss: 0.40059\n"
     ]
    },
    {
     "name": "stderr",
     "output_type": "stream",
     "text": [
      "c:\\Users\\rosa-\\anaconda3\\envs\\xaifo\\lib\\site-packages\\deepsnap\\graph.py:2126: UserWarning: __floordiv__ is deprecated, and its behavior will change in a future version of pytorch. It currently rounds toward 0 (like the 'trunc' function NOT 'floor'). This results in incorrect rounding for negative values. To keep the current behavior, use torch.div(a, b, rounding_mode='trunc'), or for actual floor division, use torch.div(a, b, rounding_mode='floor').\n",
      "  row = perm // num_nodes\n"
     ]
    },
    {
     "name": "stdout",
     "output_type": "stream",
     "text": [
      "Epoch: 127, Train: 0.9926, Val: 0.9827, Test: 0.9829, Loss: 0.39971\n"
     ]
    },
    {
     "name": "stderr",
     "output_type": "stream",
     "text": [
      "c:\\Users\\rosa-\\anaconda3\\envs\\xaifo\\lib\\site-packages\\deepsnap\\graph.py:2126: UserWarning: __floordiv__ is deprecated, and its behavior will change in a future version of pytorch. It currently rounds toward 0 (like the 'trunc' function NOT 'floor'). This results in incorrect rounding for negative values. To keep the current behavior, use torch.div(a, b, rounding_mode='trunc'), or for actual floor division, use torch.div(a, b, rounding_mode='floor').\n",
      "  row = perm // num_nodes\n"
     ]
    },
    {
     "name": "stdout",
     "output_type": "stream",
     "text": [
      "Epoch: 128, Train: 0.9929, Val: 0.9828, Test: 0.9829, Loss: 0.39994\n"
     ]
    },
    {
     "name": "stderr",
     "output_type": "stream",
     "text": [
      "c:\\Users\\rosa-\\anaconda3\\envs\\xaifo\\lib\\site-packages\\deepsnap\\graph.py:2126: UserWarning: __floordiv__ is deprecated, and its behavior will change in a future version of pytorch. It currently rounds toward 0 (like the 'trunc' function NOT 'floor'). This results in incorrect rounding for negative values. To keep the current behavior, use torch.div(a, b, rounding_mode='trunc'), or for actual floor division, use torch.div(a, b, rounding_mode='floor').\n",
      "  row = perm // num_nodes\n"
     ]
    },
    {
     "name": "stdout",
     "output_type": "stream",
     "text": [
      "Epoch: 129, Train: 0.9928, Val: 0.9829, Test: 0.9830, Loss: 0.40110\n"
     ]
    },
    {
     "name": "stderr",
     "output_type": "stream",
     "text": [
      "c:\\Users\\rosa-\\anaconda3\\envs\\xaifo\\lib\\site-packages\\deepsnap\\graph.py:2126: UserWarning: __floordiv__ is deprecated, and its behavior will change in a future version of pytorch. It currently rounds toward 0 (like the 'trunc' function NOT 'floor'). This results in incorrect rounding for negative values. To keep the current behavior, use torch.div(a, b, rounding_mode='trunc'), or for actual floor division, use torch.div(a, b, rounding_mode='floor').\n",
      "  row = perm // num_nodes\n"
     ]
    },
    {
     "name": "stdout",
     "output_type": "stream",
     "text": [
      "Epoch: 130, Train: 0.9930, Val: 0.9829, Test: 0.9830, Loss: 0.40044\n"
     ]
    },
    {
     "name": "stderr",
     "output_type": "stream",
     "text": [
      "c:\\Users\\rosa-\\anaconda3\\envs\\xaifo\\lib\\site-packages\\deepsnap\\graph.py:2126: UserWarning: __floordiv__ is deprecated, and its behavior will change in a future version of pytorch. It currently rounds toward 0 (like the 'trunc' function NOT 'floor'). This results in incorrect rounding for negative values. To keep the current behavior, use torch.div(a, b, rounding_mode='trunc'), or for actual floor division, use torch.div(a, b, rounding_mode='floor').\n",
      "  row = perm // num_nodes\n"
     ]
    },
    {
     "name": "stdout",
     "output_type": "stream",
     "text": [
      "Epoch: 131, Train: 0.9931, Val: 0.9830, Test: 0.9831, Loss: 0.40095\n"
     ]
    },
    {
     "name": "stderr",
     "output_type": "stream",
     "text": [
      "c:\\Users\\rosa-\\anaconda3\\envs\\xaifo\\lib\\site-packages\\deepsnap\\graph.py:2126: UserWarning: __floordiv__ is deprecated, and its behavior will change in a future version of pytorch. It currently rounds toward 0 (like the 'trunc' function NOT 'floor'). This results in incorrect rounding for negative values. To keep the current behavior, use torch.div(a, b, rounding_mode='trunc'), or for actual floor division, use torch.div(a, b, rounding_mode='floor').\n",
      "  row = perm // num_nodes\n"
     ]
    },
    {
     "name": "stdout",
     "output_type": "stream",
     "text": [
      "Epoch: 132, Train: 0.9930, Val: 0.9830, Test: 0.9831, Loss: 0.40065\n"
     ]
    },
    {
     "name": "stderr",
     "output_type": "stream",
     "text": [
      "c:\\Users\\rosa-\\anaconda3\\envs\\xaifo\\lib\\site-packages\\deepsnap\\graph.py:2126: UserWarning: __floordiv__ is deprecated, and its behavior will change in a future version of pytorch. It currently rounds toward 0 (like the 'trunc' function NOT 'floor'). This results in incorrect rounding for negative values. To keep the current behavior, use torch.div(a, b, rounding_mode='trunc'), or for actual floor division, use torch.div(a, b, rounding_mode='floor').\n",
      "  row = perm // num_nodes\n"
     ]
    },
    {
     "name": "stdout",
     "output_type": "stream",
     "text": [
      "Epoch: 133, Train: 0.9931, Val: 0.9831, Test: 0.9832, Loss: 0.40025\n"
     ]
    },
    {
     "name": "stderr",
     "output_type": "stream",
     "text": [
      "c:\\Users\\rosa-\\anaconda3\\envs\\xaifo\\lib\\site-packages\\deepsnap\\graph.py:2126: UserWarning: __floordiv__ is deprecated, and its behavior will change in a future version of pytorch. It currently rounds toward 0 (like the 'trunc' function NOT 'floor'). This results in incorrect rounding for negative values. To keep the current behavior, use torch.div(a, b, rounding_mode='trunc'), or for actual floor division, use torch.div(a, b, rounding_mode='floor').\n",
      "  row = perm // num_nodes\n"
     ]
    },
    {
     "name": "stdout",
     "output_type": "stream",
     "text": [
      "Epoch: 134, Train: 0.9929, Val: 0.9832, Test: 0.9833, Loss: 0.39802\n"
     ]
    },
    {
     "name": "stderr",
     "output_type": "stream",
     "text": [
      "c:\\Users\\rosa-\\anaconda3\\envs\\xaifo\\lib\\site-packages\\deepsnap\\graph.py:2126: UserWarning: __floordiv__ is deprecated, and its behavior will change in a future version of pytorch. It currently rounds toward 0 (like the 'trunc' function NOT 'floor'). This results in incorrect rounding for negative values. To keep the current behavior, use torch.div(a, b, rounding_mode='trunc'), or for actual floor division, use torch.div(a, b, rounding_mode='floor').\n",
      "  row = perm // num_nodes\n"
     ]
    },
    {
     "name": "stdout",
     "output_type": "stream",
     "text": [
      "Epoch: 135, Train: 0.9934, Val: 0.9833, Test: 0.9833, Loss: 0.40031\n"
     ]
    },
    {
     "name": "stderr",
     "output_type": "stream",
     "text": [
      "c:\\Users\\rosa-\\anaconda3\\envs\\xaifo\\lib\\site-packages\\deepsnap\\graph.py:2126: UserWarning: __floordiv__ is deprecated, and its behavior will change in a future version of pytorch. It currently rounds toward 0 (like the 'trunc' function NOT 'floor'). This results in incorrect rounding for negative values. To keep the current behavior, use torch.div(a, b, rounding_mode='trunc'), or for actual floor division, use torch.div(a, b, rounding_mode='floor').\n",
      "  row = perm // num_nodes\n"
     ]
    },
    {
     "name": "stdout",
     "output_type": "stream",
     "text": [
      "Epoch: 136, Train: 0.9931, Val: 0.9834, Test: 0.9834, Loss: 0.39937\n"
     ]
    },
    {
     "name": "stderr",
     "output_type": "stream",
     "text": [
      "c:\\Users\\rosa-\\anaconda3\\envs\\xaifo\\lib\\site-packages\\deepsnap\\graph.py:2126: UserWarning: __floordiv__ is deprecated, and its behavior will change in a future version of pytorch. It currently rounds toward 0 (like the 'trunc' function NOT 'floor'). This results in incorrect rounding for negative values. To keep the current behavior, use torch.div(a, b, rounding_mode='trunc'), or for actual floor division, use torch.div(a, b, rounding_mode='floor').\n",
      "  row = perm // num_nodes\n"
     ]
    },
    {
     "name": "stdout",
     "output_type": "stream",
     "text": [
      "Epoch: 137, Train: 0.9933, Val: 0.9834, Test: 0.9834, Loss: 0.39861\n"
     ]
    },
    {
     "name": "stderr",
     "output_type": "stream",
     "text": [
      "c:\\Users\\rosa-\\anaconda3\\envs\\xaifo\\lib\\site-packages\\deepsnap\\graph.py:2126: UserWarning: __floordiv__ is deprecated, and its behavior will change in a future version of pytorch. It currently rounds toward 0 (like the 'trunc' function NOT 'floor'). This results in incorrect rounding for negative values. To keep the current behavior, use torch.div(a, b, rounding_mode='trunc'), or for actual floor division, use torch.div(a, b, rounding_mode='floor').\n",
      "  row = perm // num_nodes\n"
     ]
    },
    {
     "name": "stdout",
     "output_type": "stream",
     "text": [
      "Epoch: 138, Train: 0.9932, Val: 0.9834, Test: 0.9834, Loss: 0.39872\n"
     ]
    },
    {
     "name": "stderr",
     "output_type": "stream",
     "text": [
      "c:\\Users\\rosa-\\anaconda3\\envs\\xaifo\\lib\\site-packages\\deepsnap\\graph.py:2126: UserWarning: __floordiv__ is deprecated, and its behavior will change in a future version of pytorch. It currently rounds toward 0 (like the 'trunc' function NOT 'floor'). This results in incorrect rounding for negative values. To keep the current behavior, use torch.div(a, b, rounding_mode='trunc'), or for actual floor division, use torch.div(a, b, rounding_mode='floor').\n",
      "  row = perm // num_nodes\n"
     ]
    },
    {
     "name": "stdout",
     "output_type": "stream",
     "text": [
      "Epoch: 139, Train: 0.9935, Val: 0.9835, Test: 0.9835, Loss: 0.40020\n"
     ]
    },
    {
     "name": "stderr",
     "output_type": "stream",
     "text": [
      "c:\\Users\\rosa-\\anaconda3\\envs\\xaifo\\lib\\site-packages\\deepsnap\\graph.py:2126: UserWarning: __floordiv__ is deprecated, and its behavior will change in a future version of pytorch. It currently rounds toward 0 (like the 'trunc' function NOT 'floor'). This results in incorrect rounding for negative values. To keep the current behavior, use torch.div(a, b, rounding_mode='trunc'), or for actual floor division, use torch.div(a, b, rounding_mode='floor').\n",
      "  row = perm // num_nodes\n"
     ]
    },
    {
     "name": "stdout",
     "output_type": "stream",
     "text": [
      "Epoch: 140, Train: 0.9936, Val: 0.9835, Test: 0.9835, Loss: 0.39891\n"
     ]
    },
    {
     "name": "stderr",
     "output_type": "stream",
     "text": [
      "c:\\Users\\rosa-\\anaconda3\\envs\\xaifo\\lib\\site-packages\\deepsnap\\graph.py:2126: UserWarning: __floordiv__ is deprecated, and its behavior will change in a future version of pytorch. It currently rounds toward 0 (like the 'trunc' function NOT 'floor'). This results in incorrect rounding for negative values. To keep the current behavior, use torch.div(a, b, rounding_mode='trunc'), or for actual floor division, use torch.div(a, b, rounding_mode='floor').\n",
      "  row = perm // num_nodes\n"
     ]
    },
    {
     "name": "stdout",
     "output_type": "stream",
     "text": [
      "Epoch: 141, Train: 0.9934, Val: 0.9835, Test: 0.9835, Loss: 0.39876\n"
     ]
    },
    {
     "name": "stderr",
     "output_type": "stream",
     "text": [
      "c:\\Users\\rosa-\\anaconda3\\envs\\xaifo\\lib\\site-packages\\deepsnap\\graph.py:2126: UserWarning: __floordiv__ is deprecated, and its behavior will change in a future version of pytorch. It currently rounds toward 0 (like the 'trunc' function NOT 'floor'). This results in incorrect rounding for negative values. To keep the current behavior, use torch.div(a, b, rounding_mode='trunc'), or for actual floor division, use torch.div(a, b, rounding_mode='floor').\n",
      "  row = perm // num_nodes\n"
     ]
    },
    {
     "name": "stdout",
     "output_type": "stream",
     "text": [
      "Epoch: 142, Train: 0.9936, Val: 0.9835, Test: 0.9835, Loss: 0.39909\n"
     ]
    },
    {
     "name": "stderr",
     "output_type": "stream",
     "text": [
      "c:\\Users\\rosa-\\anaconda3\\envs\\xaifo\\lib\\site-packages\\deepsnap\\graph.py:2126: UserWarning: __floordiv__ is deprecated, and its behavior will change in a future version of pytorch. It currently rounds toward 0 (like the 'trunc' function NOT 'floor'). This results in incorrect rounding for negative values. To keep the current behavior, use torch.div(a, b, rounding_mode='trunc'), or for actual floor division, use torch.div(a, b, rounding_mode='floor').\n",
      "  row = perm // num_nodes\n"
     ]
    },
    {
     "name": "stdout",
     "output_type": "stream",
     "text": [
      "Epoch: 143, Train: 0.9935, Val: 0.9836, Test: 0.9836, Loss: 0.39950\n"
     ]
    },
    {
     "name": "stderr",
     "output_type": "stream",
     "text": [
      "c:\\Users\\rosa-\\anaconda3\\envs\\xaifo\\lib\\site-packages\\deepsnap\\graph.py:2126: UserWarning: __floordiv__ is deprecated, and its behavior will change in a future version of pytorch. It currently rounds toward 0 (like the 'trunc' function NOT 'floor'). This results in incorrect rounding for negative values. To keep the current behavior, use torch.div(a, b, rounding_mode='trunc'), or for actual floor division, use torch.div(a, b, rounding_mode='floor').\n",
      "  row = perm // num_nodes\n"
     ]
    },
    {
     "name": "stdout",
     "output_type": "stream",
     "text": [
      "Epoch: 144, Train: 0.9934, Val: 0.9835, Test: 0.9836, Loss: 0.39882\n"
     ]
    },
    {
     "name": "stderr",
     "output_type": "stream",
     "text": [
      "c:\\Users\\rosa-\\anaconda3\\envs\\xaifo\\lib\\site-packages\\deepsnap\\graph.py:2126: UserWarning: __floordiv__ is deprecated, and its behavior will change in a future version of pytorch. It currently rounds toward 0 (like the 'trunc' function NOT 'floor'). This results in incorrect rounding for negative values. To keep the current behavior, use torch.div(a, b, rounding_mode='trunc'), or for actual floor division, use torch.div(a, b, rounding_mode='floor').\n",
      "  row = perm // num_nodes\n"
     ]
    },
    {
     "name": "stdout",
     "output_type": "stream",
     "text": [
      "Epoch: 145, Train: 0.9934, Val: 0.9835, Test: 0.9836, Loss: 0.39861\n"
     ]
    },
    {
     "name": "stderr",
     "output_type": "stream",
     "text": [
      "c:\\Users\\rosa-\\anaconda3\\envs\\xaifo\\lib\\site-packages\\deepsnap\\graph.py:2126: UserWarning: __floordiv__ is deprecated, and its behavior will change in a future version of pytorch. It currently rounds toward 0 (like the 'trunc' function NOT 'floor'). This results in incorrect rounding for negative values. To keep the current behavior, use torch.div(a, b, rounding_mode='trunc'), or for actual floor division, use torch.div(a, b, rounding_mode='floor').\n",
      "  row = perm // num_nodes\n"
     ]
    },
    {
     "name": "stdout",
     "output_type": "stream",
     "text": [
      "Epoch: 146, Train: 0.9937, Val: 0.9835, Test: 0.9836, Loss: 0.39656\n"
     ]
    },
    {
     "name": "stderr",
     "output_type": "stream",
     "text": [
      "c:\\Users\\rosa-\\anaconda3\\envs\\xaifo\\lib\\site-packages\\deepsnap\\graph.py:2126: UserWarning: __floordiv__ is deprecated, and its behavior will change in a future version of pytorch. It currently rounds toward 0 (like the 'trunc' function NOT 'floor'). This results in incorrect rounding for negative values. To keep the current behavior, use torch.div(a, b, rounding_mode='trunc'), or for actual floor division, use torch.div(a, b, rounding_mode='floor').\n",
      "  row = perm // num_nodes\n"
     ]
    },
    {
     "name": "stdout",
     "output_type": "stream",
     "text": [
      "Epoch: 147, Train: 0.9935, Val: 0.9835, Test: 0.9836, Loss: 0.39862\n"
     ]
    },
    {
     "name": "stderr",
     "output_type": "stream",
     "text": [
      "c:\\Users\\rosa-\\anaconda3\\envs\\xaifo\\lib\\site-packages\\deepsnap\\graph.py:2126: UserWarning: __floordiv__ is deprecated, and its behavior will change in a future version of pytorch. It currently rounds toward 0 (like the 'trunc' function NOT 'floor'). This results in incorrect rounding for negative values. To keep the current behavior, use torch.div(a, b, rounding_mode='trunc'), or for actual floor division, use torch.div(a, b, rounding_mode='floor').\n",
      "  row = perm // num_nodes\n"
     ]
    },
    {
     "name": "stdout",
     "output_type": "stream",
     "text": [
      "Epoch: 148, Train: 0.9938, Val: 0.9836, Test: 0.9836, Loss: 0.39728\n"
     ]
    },
    {
     "name": "stderr",
     "output_type": "stream",
     "text": [
      "c:\\Users\\rosa-\\anaconda3\\envs\\xaifo\\lib\\site-packages\\deepsnap\\graph.py:2126: UserWarning: __floordiv__ is deprecated, and its behavior will change in a future version of pytorch. It currently rounds toward 0 (like the 'trunc' function NOT 'floor'). This results in incorrect rounding for negative values. To keep the current behavior, use torch.div(a, b, rounding_mode='trunc'), or for actual floor division, use torch.div(a, b, rounding_mode='floor').\n",
      "  row = perm // num_nodes\n"
     ]
    },
    {
     "name": "stdout",
     "output_type": "stream",
     "text": [
      "Epoch: 149, Train: 0.9935, Val: 0.9836, Test: 0.9836, Loss: 0.39863\n"
     ]
    },
    {
     "name": "stderr",
     "output_type": "stream",
     "text": [
      "c:\\Users\\rosa-\\anaconda3\\envs\\xaifo\\lib\\site-packages\\deepsnap\\graph.py:2126: UserWarning: __floordiv__ is deprecated, and its behavior will change in a future version of pytorch. It currently rounds toward 0 (like the 'trunc' function NOT 'floor'). This results in incorrect rounding for negative values. To keep the current behavior, use torch.div(a, b, rounding_mode='trunc'), or for actual floor division, use torch.div(a, b, rounding_mode='floor').\n",
      "  row = perm // num_nodes\n"
     ]
    },
    {
     "name": "stdout",
     "output_type": "stream",
     "text": [
      "Train: 0.9937, Val: 0.9836, Test: 0.9836\n"
     ]
    }
   ],
   "source": [
    "best_model, best_x, performance = train(model, dataloaders, optimizer, args)\n",
    "\n",
    "best_train_roc = test(best_model, dataloaders['train'], args)\n",
    "best_val_roc = test(best_model, dataloaders['val'], args)\n",
    "best_test_roc = test(best_model, dataloaders['test'], args)\n",
    "\n",
    "print('Train: {:.4f}, Val: {:.4f}, Test: {:.4f}'.format(best_train_roc, best_val_roc, best_test_roc))"
   ]
  },
  {
   "attachments": {},
   "cell_type": "markdown",
   "metadata": {},
   "source": [
    "Save the model and parameters"
   ]
  },
  {
   "cell_type": "code",
   "execution_count": 36,
   "metadata": {},
   "outputs": [],
   "source": [
    "torch.save(best_model.state_dict(), 'output/best_model.pth')\n",
    "with open('output/best_model_args.pkl', 'wb') as f:\n",
    "    pickle.dump(args, f)"
   ]
  },
  {
   "attachments": {},
   "cell_type": "markdown",
   "metadata": {},
   "source": [
    "### Visualize Trained GNN Model Accuracy"
   ]
  },
  {
   "attachments": {},
   "cell_type": "markdown",
   "metadata": {},
   "source": [
    "Plot AUC and loss throughout epochs"
   ]
  },
  {
   "cell_type": "code",
   "execution_count": 37,
   "metadata": {},
   "outputs": [
    {
     "data": {
      "image/png": "[encoded data removed]",
      "text/plain": [
       "<Figure size 1000x700 with 1 Axes>"
      ]
     },
     "metadata": {},
     "output_type": "display_data"
    }
   ],
   "source": [
    "plt.figure(figsize= (10,7))\n",
    "plt.plot(np.log10(performance[0]), label = 'Loss')\n",
    "plt.plot(performance[1], label = 'AUC Train')\n",
    "plt.plot(performance[2], label = 'AUC Validation')\n",
    "plt.plot(performance[3], label = 'AUC Test')\n",
    "plt.legend()\n",
    "plt.ylabel('AUC/Loss')\n",
    "plt.xlabel('Epochs')\n",
    "plt.show()"
   ]
  },
  {
   "attachments": {},
   "cell_type": "markdown",
   "metadata": {},
   "source": [
    "Plot ROC curve using test set\n",
    "- High TPR and lower FPR indicates that the proportion of correctly classified samples (true positives) is greater than the proportion of incorrectly classified samples (false positives)"
   ]
  },
  {
   "cell_type": "code",
   "execution_count": 38,
   "metadata": {},
   "outputs": [
    {
     "name": "stdout",
     "output_type": "stream",
     "text": [
      "0.9836136776859505\n"
     ]
    },
    {
     "data": {
      "image/png": "[encoded data removed]",
      "text/plain": [
       "<Figure size 700x700 with 1 Axes>"
      ]
     },
     "metadata": {},
     "output_type": "display_data"
    }
   ],
   "source": [
    "for batch in dataloaders['test']:\n",
    "    feat, edge_index, edge_label_index = batch.node_feature, batch.edge_index, batch.edge_label_index\n",
    "    batch.to(args[\"device\"])\n",
    "    pred, x = best_model(feat, edge_index, edge_label_index, training = False)\n",
    "    pred = torch.sigmoid(pred)\n",
    "    score = roc_auc_score(batch.edge_label.flatten().cpu().numpy(), pred.flatten().data.cpu().numpy())\n",
    "    print(score)\n",
    "    \n",
    "fpr, tpr, thresholds = roc_curve(batch.edge_label.flatten().cpu().numpy(), pred.flatten().data.cpu().numpy())\n",
    "plt.figure(figsize = (7, 7))\n",
    "plt.plot(fpr, tpr, marker='.')\n",
    "plt.xlabel('False Positive Rate')   # 1 - specificity\n",
    "plt.ylabel('True Positive Rate')    # sensitivity\n",
    "plt.show()"
   ]
  },
  {
   "attachments": {},
   "cell_type": "markdown",
   "metadata": {},
   "source": [
    "Calculate F1-score using test set\n",
    "\n",
    "Elements of the F1-score:\n",
    "- Precision represents the proportion of correctly classifying samples as positive (high precision: classifying a sample as positive has a high probability to be correct)\n",
    "- Recall represents the proportion of finding all positives (high recall: all positive samples have been classified as being positive)\n",
    "\n",
    "Maximizing both elements in order to yield a model that identifies all positive samples and only identifies these samples as positives.\n",
    "\n",
    "For the F1-score, the average of precision and recall is calculated, using the harmonic mean method (equal importance):\n",
    "- High F1-score indicates that precision and recall are both high\n",
    "- Medium F1-score indicates that one of the elements is high and the other low\n",
    "- Low F1-score indicates that precision and recall are both low"
   ]
  },
  {
   "cell_type": "code",
   "execution_count": 39,
   "metadata": {},
   "outputs": [
    {
     "name": "stdout",
     "output_type": "stream",
     "text": [
      "F1-Score in the test set: 0.9419016514099084\n",
      "              precision    recall  f1-score   support\n",
      "\n",
      "           0       0.93      0.95      0.94     11000\n",
      "           1       0.95      0.93      0.94     11000\n",
      "\n",
      "    accuracy                           0.94     22000\n",
      "   macro avg       0.94      0.94      0.94     22000\n",
      "weighted avg       0.94      0.94      0.94     22000\n",
      "\n"
     ]
    }
   ],
   "source": [
    "def test_f1(model, dataloader, args, threshold):\n",
    "    model.eval()\n",
    "    score = 0\n",
    "    num_batches = 0\n",
    "    for batch in dataloader:\n",
    "        feat, edge_index, edge_label_index = batch.node_feature, batch.edge_index, batch.edge_label_index\n",
    "        batch.to(args[\"device\"])\n",
    "        pred, x = model(feat, edge_index, edge_label_index, training = False)\n",
    "        pred = torch.sigmoid(pred) > threshold\n",
    "        score += f1_score(batch.edge_label.flatten().cpu().numpy(), pred.flatten().data.cpu().numpy())\n",
    "        num_batches += 1\n",
    "    score /= num_batches \n",
    "    return batch.edge_label.flatten().cpu().numpy(), pred.flatten().data.cpu().numpy(), score\n",
    "\n",
    "true_label, pred_label, best_test_f1 = test_f1(best_model, dataloaders['test'], args, 0.75)\n",
    "print('F1-Score in the test set:', best_test_f1)\n",
    "print(classification_report(true_label, pred_label))"
   ]
  },
  {
   "cell_type": "code",
   "execution_count": 40,
   "metadata": {},
   "outputs": [
    {
     "name": "stdout",
     "output_type": "stream",
     "text": [
      "[[85410  2580]\n",
      " [ 2814 85176]]\n"
     ]
    },
    {
     "name": "stderr",
     "output_type": "stream",
     "text": [
      "c:\\Users\\rosa-\\anaconda3\\envs\\xaifo\\lib\\site-packages\\deepsnap\\graph.py:2126: UserWarning: __floordiv__ is deprecated, and its behavior will change in a future version of pytorch. It currently rounds toward 0 (like the 'trunc' function NOT 'floor'). This results in incorrect rounding for negative values. To keep the current behavior, use torch.div(a, b, rounding_mode='trunc'), or for actual floor division, use torch.div(a, b, rounding_mode='floor').\n",
      "  row = perm // num_nodes\n"
     ]
    }
   ],
   "source": [
    "def test_cm(model, dataloader, args, threshold):\n",
    "    model.eval()\n",
    "    for batch in dataloader:\n",
    "        feat, edge_index, edge_label_index = batch.node_feature, batch.edge_index, batch.edge_label_index\n",
    "        batch.to(args[\"device\"])\n",
    "        pred, x = model(feat, edge_index, edge_label_index, training = False)\n",
    "        pred = torch.sigmoid(pred) > threshold\n",
    "        score = confusion_matrix(batch.edge_label.flatten().cpu().numpy(), pred.flatten().data.cpu().numpy())\n",
    "    return score\n",
    "\n",
    "table = test_cm(best_model, dataloaders['train'], args, 0.8)\n",
    "print(table)"
   ]
  },
  {
   "attachments": {},
   "cell_type": "markdown",
   "metadata": {},
   "source": [
    "# Hyperparameter Optimization of Node Embedding and GNN Training"
   ]
  },
  {
   "attachments": {},
   "cell_type": "markdown",
   "metadata": {},
   "source": [
    "The routine including node embedding and GNN training that needs to be optimized is contained in the function below."
   ]
  },
  {
   "cell_type": "code",
   "execution_count": 41,
   "metadata": {},
   "outputs": [],
   "source": [
    "def optim(args):\n",
    "    # Node embedding using Edge2Vec\n",
    "    trans_matrix = transitions.initialize_edge_type_matrix(args['type_size'])\n",
    "    \n",
    "    G1 = nx.from_pandas_edgelist(args['df'], 'index_head', 'index_tail', 'type', create_using=nx.DiGraph(), edge_key= (('type', int),('id',int)))\n",
    "    G1 = G1.to_undirected()\n",
    "    for edge in G1.edges():\n",
    "        G1[edge[0]][edge[1]]['weight'] = 1.0\n",
    "    \n",
    "    for i in range(args['epoch_e2v']):\n",
    "        walks = transitions.simulate_walks_1(G1, args['num_walks'], args['walk_length'], trans_matrix, True, args['p'], args['q'])\n",
    "        trans_matrix = transitions.update_trans_matrix(walks,args['type_size'], 3)\n",
    "    \n",
    "    walks = edge2vec.simulate_walks_2(G1, args['num_walks'], args['walk_length'], trans_matrix, args['p'], args['q'])\n",
    "    w2v_model = edge2vec.Word2Vec(walks, vector_size=args['dimensions_e2v'], window=args['walk_length']-1, min_count=0, sg=1, workers=8, epochs=args['epoch_e2v'])\n",
    "\n",
    "    e2v_embedding = pd.DataFrame(columns = ['Node', 'Embedding'])\n",
    "    for idx, key in enumerate(w2v_model.wv.index_to_key):\n",
    "        e2v_embedding.loc[int(key)] = pd.Series({'Node':int(key), 'Embedding':list(w2v_model.wv[key])})\n",
    "    e2v_embedding = e2v_embedding.sort_values('Node')\n",
    "    \n",
    "    # Build graph with nodes and their embedding as node feature\n",
    "    G2 = nx.Graph()\n",
    "    for ind, node in e2v_embedding.iterrows(): \n",
    "        G2.add_node(int(node['Node']), node_feature=torch.Tensor(node['Embedding']))\n",
    "    for ind, edge in args['df'].iterrows(): \n",
    "        G2.add_edge(int(edge['index_head']), int(edge['index_tail']))\n",
    "        \n",
    "    # Split graph dataset into train, test and validation sets\n",
    "    dataset = GraphDataset(G2, task='link_pred', edge_train_mode=\"all\")\n",
    "    \n",
    "    datasets = {}\n",
    "    datasets['train'], datasets['val'], datasets['test']= dataset.split(transductive=True, split_ratio=[0.8, 0.1, 0.1])\n",
    "    \n",
    "    \n",
    "    # Set up link prediction model\n",
    "    input_dim = datasets['train'].num_node_features\n",
    "    \n",
    "    model = LinkPredModel(input_dim, args['hidden_dim'], args['output_dim'], args['layers'], args['aggr'], args['dropout'], args['device']).to(args['device'])\n",
    "    optimizer = torch.optim.SGD(model.parameters(), lr=args['lr'], momentum=0.9, weight_decay=5e-4)\n",
    "    \n",
    "    \n",
    "    # Generate dataloaders\n",
    "    dataloaders = {split: DataLoader(ds, collate_fn=Batch.collate([]), batch_size=1, shuffle=(split=='train')) for split, ds in datasets.items()}\n",
    "    \n",
    "    best_model, best_x, perform = train(model, dataloaders, optimizer, args, ho = False)\n",
    "    \n",
    "    best_train_roc = test(best_model, dataloaders['train'], args)\n",
    "    best_val_roc = test(best_model, dataloaders['val'], args)\n",
    "    best_test_roc = test(best_model, dataloaders['test'], args)\n",
    "    \n",
    "    print('AUC:', best_test_roc)\n",
    "    log = \"Train: {:.4f}, Val: {:.4f}, Test: {:.4f}\"\n",
    "    print(log.format(best_train_roc, best_val_roc, best_test_roc))\n",
    "    tune.report(accuracy=best_val_roc)"
   ]
  },
  {
   "attachments": {},
   "cell_type": "markdown",
   "metadata": {},
   "source": [
    "Select the different parameters that need to be tested during the optimization search."
   ]
  },
  {
   "cell_type": "code",
   "execution_count": 42,
   "metadata": {},
   "outputs": [
    {
     "data": {
      "text/plain": [
       "'\\nsearch_args = {\\n    \\'device\\': torch_device, \\n    \"hidden_dim\" : tune.choice([64, 128, 256]),\\n    \\'output_dim\\': tune.choice([64, 128, 256]),\\n    \"epochs\" : tune.choice([100, 150, 200]),\\n    \\'type_size\\' : len(set(edge2vec_df[\\'type\\'])),\\n    \\'epoch_e2v\\' : tune.choice([5, 10]),\\n    \\'num_walks\\' : tune.choice([2, 4, 6]),\\n    \\'walk_length\\' : tune.choice([3, 5, 7]),\\n    \\'p\\' : tune.choice([0.5, 0.75, 1]),\\n    \\'q\\' : tune.choice([0.5, 0.75, 1]),\\n    \\'dimensions_e2v\\' : tune.choice([32, 64, 128]),\\n    \\'df\\': edge2vec_df, \\n    \\'lr\\': tune.loguniform(1e-4, 1e-1), \\n    \\'aggr\\': tune.choice([\\'mean\\', \\'sum\\']), \\n    \\'dropout\\': tune.choice([0, 0.1, 0.2]), \\n    \\'layers\\': tune.choice([2, 4, 6])\\n}\\n\\nscheduler = ASHAScheduler(\\n        max_t=10,\\n        grace_period=1,\\n        reduction_factor=2)\\n\\nresult = tune.run(\\n        tune.with_parameters(optim),\\n        resources_per_trial = {\"cpu\": 1}, #change this value according to the gpu units you would like to use\\n        config = search_args,\\n        metric = \"val_auc\",\\n        mode = \"max\",\\n        num_samples = 30, #select the maximum number of models you would like to test\\n        scheduler = scheduler, \\n        resume = False, \\n        local_dir = \"output\"\\n    )\\n'"
      ]
     },
     "execution_count": 42,
     "metadata": {},
     "output_type": "execute_result"
    }
   ],
   "source": [
    "\"\"\"\n",
    "search_args = {\n",
    "    'device': torch_device, \n",
    "    \"hidden_dim\" : tune.choice([64, 128, 256]),\n",
    "    'output_dim': tune.choice([64, 128, 256]),\n",
    "    \"epochs\" : tune.choice([100, 150, 200]),\n",
    "    'type_size' : len(set(edge2vec_df['type'])),\n",
    "    'epoch_e2v' : tune.choice([5, 10]),\n",
    "    'num_walks' : tune.choice([2, 4, 6]),\n",
    "    'walk_length' : tune.choice([3, 5, 7]),\n",
    "    'p' : tune.choice([0.5, 0.75, 1]),\n",
    "    'q' : tune.choice([0.5, 0.75, 1]),\n",
    "    'dimensions_e2v' : tune.choice([32, 64, 128]),\n",
    "    'df': edge2vec_df, \n",
    "    'lr': tune.loguniform(1e-4, 1e-1), \n",
    "    'aggr': tune.choice(['mean', 'sum']), \n",
    "    'dropout': tune.choice([0, 0.1, 0.2]), \n",
    "    'layers': tune.choice([2, 4, 6])\n",
    "}\n",
    "\n",
    "scheduler = ASHAScheduler(\n",
    "        max_t=10,\n",
    "        grace_period=1,\n",
    "        reduction_factor=2)\n",
    "\n",
    "result = tune.run(\n",
    "        tune.with_parameters(optim),\n",
    "        resources_per_trial = {\"cpu\": 1}, #change this value according to the gpu units you would like to use\n",
    "        config = search_args,\n",
    "        metric = \"val_auc\",\n",
    "        mode = \"max\",\n",
    "        num_samples = 30, #select the maximum number of models you would like to test\n",
    "        scheduler = scheduler, \n",
    "        resume = False, \n",
    "        local_dir = \"output\"\n",
    "    )\n",
    "\"\"\""
   ]
  },
  {
   "cell_type": "code",
   "execution_count": 43,
   "metadata": {},
   "outputs": [
    {
     "data": {
      "text/plain": [
       "'\\nbest_trial = result.get_best_trial(\"val_auc\")\\nprint(\"Best trial config: {}\".format(best_trial.config))\\n'"
      ]
     },
     "execution_count": 43,
     "metadata": {},
     "output_type": "execute_result"
    }
   ],
   "source": [
    "\"\"\"\n",
    "best_trial = result.get_best_trial(\"val_auc\")\n",
    "print(\"Best trial config: {}\".format(best_trial.config))\n",
    "\"\"\""
   ]
  },
  {
   "attachments": {},
   "cell_type": "markdown",
   "metadata": {},
   "source": [
    "# GNN Predictions"
   ]
  },
  {
   "attachments": {},
   "cell_type": "markdown",
   "metadata": {},
   "source": [
    "Load the Edge2Vec embedding"
   ]
  },
  {
   "cell_type": "code",
   "execution_count": 44,
   "metadata": {},
   "outputs": [
    {
     "data": {
      "text/html": [
       "<div>\n",
       "<style scoped>\n",
       "    .dataframe tbody tr th:only-of-type {\n",
       "        vertical-align: middle;\n",
       "    }\n",
       "\n",
       "    .dataframe tbody tr th {\n",
       "        vertical-align: top;\n",
       "    }\n",
       "\n",
       "    .dataframe thead th {\n",
       "        text-align: right;\n",
       "    }\n",
       "</style>\n",
       "<table border=\"1\" class=\"dataframe\">\n",
       "  <thead>\n",
       "    <tr style=\"text-align: right;\">\n",
       "      <th></th>\n",
       "      <th>Node</th>\n",
       "      <th>Embedding</th>\n",
       "    </tr>\n",
       "  </thead>\n",
       "  <tbody>\n",
       "    <tr>\n",
       "      <th>0</th>\n",
       "      <td>0</td>\n",
       "      <td>[0.13517001, -0.25358334, 0.07978077, 0.045121...</td>\n",
       "    </tr>\n",
       "    <tr>\n",
       "      <th>1</th>\n",
       "      <td>1</td>\n",
       "      <td>[0.16805942, -0.8350107, 0.19610697, 0.1981789...</td>\n",
       "    </tr>\n",
       "    <tr>\n",
       "      <th>2</th>\n",
       "      <td>2</td>\n",
       "      <td>[0.2186089, 0.50546986, 0.6193271, 0.0123952, ...</td>\n",
       "    </tr>\n",
       "    <tr>\n",
       "      <th>3</th>\n",
       "      <td>3</td>\n",
       "      <td>[0.29987955, -0.30054563, 0.15258668, 0.367052...</td>\n",
       "    </tr>\n",
       "    <tr>\n",
       "      <th>4</th>\n",
       "      <td>4</td>\n",
       "      <td>[0.1618276, -0.36085665, 0.295463, 0.17283706,...</td>\n",
       "    </tr>\n",
       "    <tr>\n",
       "      <th>...</th>\n",
       "      <td>...</td>\n",
       "      <td>...</td>\n",
       "    </tr>\n",
       "    <tr>\n",
       "      <th>10232</th>\n",
       "      <td>10232</td>\n",
       "      <td>[0.3500288, -1.1846579, 0.15232153, 0.05306821...</td>\n",
       "    </tr>\n",
       "    <tr>\n",
       "      <th>10233</th>\n",
       "      <td>10233</td>\n",
       "      <td>[0.17927206, -0.17169905, -0.12125319, 0.18529...</td>\n",
       "    </tr>\n",
       "    <tr>\n",
       "      <th>10234</th>\n",
       "      <td>10234</td>\n",
       "      <td>[0.24352823, -0.24893956, 0.22431412, 0.153569...</td>\n",
       "    </tr>\n",
       "    <tr>\n",
       "      <th>10235</th>\n",
       "      <td>10235</td>\n",
       "      <td>[0.3218023, -0.7156479, 0.30151767, -0.3144425...</td>\n",
       "    </tr>\n",
       "    <tr>\n",
       "      <th>10236</th>\n",
       "      <td>10236</td>\n",
       "      <td>[0.031928696, 0.004664857, 0.08043143, 0.36100...</td>\n",
       "    </tr>\n",
       "  </tbody>\n",
       "</table>\n",
       "<p>10237 rows × 2 columns</p>\n",
       "</div>"
      ],
      "text/plain": [
       "        Node                                          Embedding\n",
       "0          0  [0.13517001, -0.25358334, 0.07978077, 0.045121...\n",
       "1          1  [0.16805942, -0.8350107, 0.19610697, 0.1981789...\n",
       "2          2  [0.2186089, 0.50546986, 0.6193271, 0.0123952, ...\n",
       "3          3  [0.29987955, -0.30054563, 0.15258668, 0.367052...\n",
       "4          4  [0.1618276, -0.36085665, 0.295463, 0.17283706,...\n",
       "...      ...                                                ...\n",
       "10232  10232  [0.3500288, -1.1846579, 0.15232153, 0.05306821...\n",
       "10233  10233  [0.17927206, -0.17169905, -0.12125319, 0.18529...\n",
       "10234  10234  [0.24352823, -0.24893956, 0.22431412, 0.153569...\n",
       "10235  10235  [0.3218023, -0.7156479, 0.30151767, -0.3144425...\n",
       "10236  10236  [0.031928696, 0.004664857, 0.08043143, 0.36100...\n",
       "\n",
       "[10237 rows x 2 columns]"
      ]
     },
     "execution_count": 44,
     "metadata": {},
     "output_type": "execute_result"
    }
   ],
   "source": [
    "node_feat = KeyedVectors.load('output/w2v.dvectors', mmap='r')\n",
    "\n",
    "e2v_embedding = pd.DataFrame(columns = ['Node', 'Embedding'])\n",
    "for idx, key in enumerate(node_feat.index_to_key):\n",
    "    e2v_embedding.loc[int(key)] = pd.Series({'Node':int(key), 'Embedding':list(node_feat[key])})\n",
    "    \n",
    "e2v_embedding = e2v_embedding.sort_values('Node')\n",
    "e2v_embedding"
   ]
  },
  {
   "attachments": {},
   "cell_type": "markdown",
   "metadata": {},
   "source": [
    "Initialize a graph with nodes and their embedding features."
   ]
  },
  {
   "cell_type": "code",
   "execution_count": 45,
   "metadata": {},
   "outputs": [
    {
     "name": "stdout",
     "output_type": "stream",
     "text": [
      "(0, {'node_feature': tensor([ 0.1352, -0.2536,  0.0798,  0.0451,  0.0747, -0.2546, -0.0705, -0.0646,\n",
      "        -0.2445, -0.0202,  0.0493, -0.1636, -0.0623, -0.0508,  0.0288,  0.2002,\n",
      "        -0.1173, -0.0943, -0.0744,  0.1843,  0.2936,  0.1871,  0.0121, -0.1656,\n",
      "        -0.0181,  0.1075, -0.2460, -0.0466,  0.0871,  0.0957,  0.0087,  0.0946,\n",
      "         0.0594, -0.0770, -0.0258,  0.0603, -0.0336, -0.0642,  0.0645,  0.0790,\n",
      "        -0.0484, -0.0365, -0.0421,  0.0775,  0.1667, -0.0309,  0.0096, -0.1305,\n",
      "        -0.0259,  0.1215,  0.0949,  0.0348,  0.1015,  0.1412,  0.0737,  0.0777,\n",
      "         0.0288, -0.0531, -0.1087,  0.0693, -0.1133, -0.0443, -0.0622, -0.0670])})\n",
      "(0, 5535, {})\n",
      "Number of edges is 54994\n",
      "Number of nodes is 10237\n"
     ]
    }
   ],
   "source": [
    "G = nx.Graph()\n",
    "for ind, node in e2v_embedding.iterrows(): \n",
    "    G.add_node(int(node['Node']), node_feature=torch.Tensor(node['Embedding']))\n",
    "for ind, edge in edge2vec_df.iterrows(): \n",
    "    G.add_edge(int(edge['index_head']), int(edge['index_tail']))\n",
    "  \n",
    "for node in G.nodes(data=True):\n",
    "    print(node)\n",
    "    break\n",
    "for edge in G.edges(data=True):\n",
    "    print(edge)\n",
    "    break\n",
    "\n",
    "print(\"Number of edges is {}\".format(G.number_of_edges()))\n",
    "print(\"Number of nodes is {}\".format(G.number_of_nodes()))"
   ]
  },
  {
   "cell_type": "code",
   "execution_count": 46,
   "metadata": {},
   "outputs": [],
   "source": [
    "DeepG = Graph(G)"
   ]
  },
  {
   "attachments": {},
   "cell_type": "markdown",
   "metadata": {},
   "source": [
    "Load arguments and parameters of trained GNN model."
   ]
  },
  {
   "cell_type": "code",
   "execution_count": 47,
   "metadata": {},
   "outputs": [
    {
     "data": {
      "text/plain": [
       "<All keys matched successfully>"
      ]
     },
     "execution_count": 47,
     "metadata": {},
     "output_type": "execute_result"
    }
   ],
   "source": [
    "with open('output/best_model_args.pkl', 'rb') as f:\n",
    "    loaded_args = pickle.load(f)\n",
    "    \n",
    "best_model = LinkPredModel(len(e2v_embedding['Embedding'][0]), loaded_args['hidden_dim'], loaded_args['output_dim'], loaded_args['layers'], loaded_args['aggr'], loaded_args['dropout'], loaded_args['device']).to(loaded_args['device'])\n",
    "best_model.load_state_dict(torch.load('output/best_model.pth'))"
   ]
  },
  {
   "attachments": {},
   "cell_type": "markdown",
   "metadata": {},
   "source": [
    "Get output of best model given the graph"
   ]
  },
  {
   "cell_type": "code",
   "execution_count": 48,
   "metadata": {},
   "outputs": [
    {
     "name": "stdout",
     "output_type": "stream",
     "text": [
      "torch.Size([10237, 64])\n"
     ]
    }
   ],
   "source": [
    "_, best_x = best_model(DeepG.node_feature, DeepG.edge_index, DeepG.edge_label_index, training = False)\n",
    "print(best_x.shape)"
   ]
  },
  {
   "attachments": {},
   "cell_type": "markdown",
   "metadata": {},
   "source": [
    "Define the score function"
   ]
  },
  {
   "cell_type": "code",
   "execution_count": 49,
   "metadata": {},
   "outputs": [],
   "source": [
    "def score(x, id1, id2): \n",
    "    n1 = x[id1]\n",
    "    n2 = x[id2]\n",
    "    score = torch.Tensor([torch.sum(n1 * n2, dim=-1)])\n",
    "    p = torch.sigmoid(score).cpu().detach().numpy()\n",
    "    return p\n",
    "\n",
    "def candidates(nodes, id, x): \n",
    "  ind = nodes[nodes['id'] == id].index.values.astype(int)[0]\n",
    "  predictions = nodes.copy()\n",
    "  scores = []\n",
    "  for i in range(len(x)):  \n",
    "    s = score(x, i, ind)\n",
    "    scores.append(s)\n",
    "  predictions['Score'] = scores\n",
    "  return predictions"
   ]
  },
  {
   "attachments": {},
   "cell_type": "markdown",
   "metadata": {},
   "source": [
    "Calculate the predictions of an edge existing or not between given node ID and each node in the graph contained by semantic group DRUG. Show the top 20 highest probability that an edge exists between a pair of nodes."
   ]
  },
  {
   "cell_type": "code",
   "execution_count": 50,
   "metadata": {},
   "outputs": [
    {
     "data": {
      "text/html": [
       "<div>\n",
       "<style scoped>\n",
       "    .dataframe tbody tr th:only-of-type {\n",
       "        vertical-align: middle;\n",
       "    }\n",
       "\n",
       "    .dataframe tbody tr th {\n",
       "        vertical-align: top;\n",
       "    }\n",
       "\n",
       "    .dataframe thead th {\n",
       "        text-align: right;\n",
       "    }\n",
       "</style>\n",
       "<table border=\"1\" class=\"dataframe\">\n",
       "  <thead>\n",
       "    <tr style=\"text-align: right;\">\n",
       "      <th></th>\n",
       "      <th>id</th>\n",
       "      <th>semantic</th>\n",
       "      <th>label</th>\n",
       "      <th>semantic_id</th>\n",
       "      <th>Score</th>\n",
       "    </tr>\n",
       "  </thead>\n",
       "  <tbody>\n",
       "    <tr>\n",
       "      <th>2278</th>\n",
       "      <td>1423</td>\n",
       "      <td>drug</td>\n",
       "      <td>imatinib</td>\n",
       "      <td>4</td>\n",
       "      <td>[0.95922834]</td>\n",
       "    </tr>\n",
       "    <tr>\n",
       "      <th>10137</th>\n",
       "      <td>522</td>\n",
       "      <td>drug</td>\n",
       "      <td>carvedilol</td>\n",
       "      <td>4</td>\n",
       "      <td>[0.95486367]</td>\n",
       "    </tr>\n",
       "    <tr>\n",
       "      <th>7572</th>\n",
       "      <td>1576</td>\n",
       "      <td>drug</td>\n",
       "      <td>levosimendan</td>\n",
       "      <td>4</td>\n",
       "      <td>[0.95100147]</td>\n",
       "    </tr>\n",
       "    <tr>\n",
       "      <th>5414</th>\n",
       "      <td>629</td>\n",
       "      <td>drug</td>\n",
       "      <td>cianidanol</td>\n",
       "      <td>4</td>\n",
       "      <td>[0.9350761]</td>\n",
       "    </tr>\n",
       "    <tr>\n",
       "      <th>4345</th>\n",
       "      <td>3514</td>\n",
       "      <td>drug</td>\n",
       "      <td>quercetin</td>\n",
       "      <td>4</td>\n",
       "      <td>[0.93371826]</td>\n",
       "    </tr>\n",
       "    <tr>\n",
       "      <th>3135</th>\n",
       "      <td>1795</td>\n",
       "      <td>drug</td>\n",
       "      <td>mezlocillin</td>\n",
       "      <td>4</td>\n",
       "      <td>[0.9330587]</td>\n",
       "    </tr>\n",
       "    <tr>\n",
       "      <th>3415</th>\n",
       "      <td>4225</td>\n",
       "      <td>drug</td>\n",
       "      <td>axitinib</td>\n",
       "      <td>4</td>\n",
       "      <td>[0.9296969]</td>\n",
       "    </tr>\n",
       "    <tr>\n",
       "      <th>5354</th>\n",
       "      <td>4716</td>\n",
       "      <td>drug</td>\n",
       "      <td>ponatinib</td>\n",
       "      <td>4</td>\n",
       "      <td>[0.92575926]</td>\n",
       "    </tr>\n",
       "    <tr>\n",
       "      <th>6018</th>\n",
       "      <td>186</td>\n",
       "      <td>drug</td>\n",
       "      <td>amodiaquine</td>\n",
       "      <td>4</td>\n",
       "      <td>[0.91975147]</td>\n",
       "    </tr>\n",
       "    <tr>\n",
       "      <th>10039</th>\n",
       "      <td>2459</td>\n",
       "      <td>drug</td>\n",
       "      <td>sorafenib</td>\n",
       "      <td>4</td>\n",
       "      <td>[0.9173793]</td>\n",
       "    </tr>\n",
       "    <tr>\n",
       "      <th>2854</th>\n",
       "      <td>4483</td>\n",
       "      <td>drug</td>\n",
       "      <td>carfilzomib</td>\n",
       "      <td>4</td>\n",
       "      <td>[0.91267484]</td>\n",
       "    </tr>\n",
       "    <tr>\n",
       "      <th>8188</th>\n",
       "      <td>1763</td>\n",
       "      <td>drug</td>\n",
       "      <td>methylthioninium chloride</td>\n",
       "      <td>4</td>\n",
       "      <td>[0.9082914]</td>\n",
       "    </tr>\n",
       "    <tr>\n",
       "      <th>3755</th>\n",
       "      <td>926</td>\n",
       "      <td>drug</td>\n",
       "      <td>disopyramide</td>\n",
       "      <td>4</td>\n",
       "      <td>[0.90290725]</td>\n",
       "    </tr>\n",
       "    <tr>\n",
       "      <th>2658</th>\n",
       "      <td>4285</td>\n",
       "      <td>drug</td>\n",
       "      <td>Florbetapir F-18</td>\n",
       "      <td>4</td>\n",
       "      <td>[0.9009365]</td>\n",
       "    </tr>\n",
       "    <tr>\n",
       "      <th>1329</th>\n",
       "      <td>5347</td>\n",
       "      <td>drug</td>\n",
       "      <td>fedratinib</td>\n",
       "      <td>4</td>\n",
       "      <td>[0.8986497]</td>\n",
       "    </tr>\n",
       "    <tr>\n",
       "      <th>2396</th>\n",
       "      <td>4301</td>\n",
       "      <td>drug</td>\n",
       "      <td>Flutemetamol (18F)</td>\n",
       "      <td>4</td>\n",
       "      <td>[0.8986059]</td>\n",
       "    </tr>\n",
       "    <tr>\n",
       "      <th>9585</th>\n",
       "      <td>2835</td>\n",
       "      <td>drug</td>\n",
       "      <td>nicotinic acid</td>\n",
       "      <td>4</td>\n",
       "      <td>[0.89791054]</td>\n",
       "    </tr>\n",
       "    <tr>\n",
       "      <th>3183</th>\n",
       "      <td>4818</td>\n",
       "      <td>drug</td>\n",
       "      <td>florbetaben F18</td>\n",
       "      <td>4</td>\n",
       "      <td>[0.89393955]</td>\n",
       "    </tr>\n",
       "    <tr>\n",
       "      <th>5151</th>\n",
       "      <td>1045</td>\n",
       "      <td>drug</td>\n",
       "      <td>erlotinib</td>\n",
       "      <td>4</td>\n",
       "      <td>[0.8863234]</td>\n",
       "    </tr>\n",
       "    <tr>\n",
       "      <th>3236</th>\n",
       "      <td>4359</td>\n",
       "      <td>drug</td>\n",
       "      <td>bosutinib</td>\n",
       "      <td>4</td>\n",
       "      <td>[0.8818981]</td>\n",
       "    </tr>\n",
       "  </tbody>\n",
       "</table>\n",
       "</div>"
      ],
      "text/plain": [
       "         id semantic                      label  semantic_id         Score\n",
       "2278   1423     drug                   imatinib            4  [0.95922834]\n",
       "10137   522     drug                 carvedilol            4  [0.95486367]\n",
       "7572   1576     drug               levosimendan            4  [0.95100147]\n",
       "5414    629     drug                 cianidanol            4   [0.9350761]\n",
       "4345   3514     drug                  quercetin            4  [0.93371826]\n",
       "3135   1795     drug                mezlocillin            4   [0.9330587]\n",
       "3415   4225     drug                   axitinib            4   [0.9296969]\n",
       "5354   4716     drug                  ponatinib            4  [0.92575926]\n",
       "6018    186     drug                amodiaquine            4  [0.91975147]\n",
       "10039  2459     drug                  sorafenib            4   [0.9173793]\n",
       "2854   4483     drug                carfilzomib            4  [0.91267484]\n",
       "8188   1763     drug  methylthioninium chloride            4   [0.9082914]\n",
       "3755    926     drug               disopyramide            4  [0.90290725]\n",
       "2658   4285     drug           Florbetapir F-18            4   [0.9009365]\n",
       "1329   5347     drug                 fedratinib            4   [0.8986497]\n",
       "2396   4301     drug         Flutemetamol (18F)            4   [0.8986059]\n",
       "9585   2835     drug             nicotinic acid            4  [0.89791054]\n",
       "3183   4818     drug            florbetaben F18            4  [0.89393955]\n",
       "5151   1045     drug                  erlotinib            4   [0.8863234]\n",
       "3236   4359     drug                  bosutinib            4   [0.8818981]"
      ]
     },
     "execution_count": 50,
     "metadata": {},
     "output_type": "execute_result"
    }
   ],
   "source": [
    "predictions = candidates(nodes, 'HP:0001265', best_x)\n",
    "predictions[predictions['semantic'] == 'drug'].sort_values(by = ['Score'], ascending = False).head(20)"
   ]
  },
  {
   "attachments": {},
   "cell_type": "markdown",
   "metadata": {},
   "source": [
    "Use the node semantics dictionary"
   ]
  },
  {
   "cell_type": "code",
   "execution_count": 51,
   "metadata": {},
   "outputs": [
    {
     "data": {
      "text/plain": [
       "{0: 'biological artifact',\n",
       " 1: 'biological process',\n",
       " 2: 'cellular component',\n",
       " 3: 'disease',\n",
       " 4: 'drug',\n",
       " 5: 'gene',\n",
       " 6: 'genotype',\n",
       " 7: 'molecular function',\n",
       " 8: 'phenotype',\n",
       " 9: 'taxon',\n",
       " 10: 'variant'}"
      ]
     },
     "execution_count": 51,
     "metadata": {},
     "output_type": "execute_result"
    }
   ],
   "source": [
    "node_semantic_dict"
   ]
  },
  {
   "attachments": {},
   "cell_type": "markdown",
   "metadata": {},
   "source": [
    "Get all phenotypes and diseases relevant to the disease."
   ]
  },
  {
   "cell_type": "code",
   "execution_count": 52,
   "metadata": {},
   "outputs": [
    {
     "name": "stdout",
     "output_type": "stream",
     "text": [
      "A total of 27 symptoms found that are associated with MONDO:0010679\n"
     ]
    },
    {
     "data": {
      "text/html": [
       "<div>\n",
       "<style scoped>\n",
       "    .dataframe tbody tr th:only-of-type {\n",
       "        vertical-align: middle;\n",
       "    }\n",
       "\n",
       "    .dataframe tbody tr th {\n",
       "        vertical-align: top;\n",
       "    }\n",
       "\n",
       "    .dataframe thead th {\n",
       "        text-align: right;\n",
       "    }\n",
       "</style>\n",
       "<table border=\"1\" class=\"dataframe\">\n",
       "  <thead>\n",
       "    <tr style=\"text-align: right;\">\n",
       "      <th></th>\n",
       "      <th>head</th>\n",
       "      <th>label_head</th>\n",
       "      <th>class_head</th>\n",
       "      <th>index_head</th>\n",
       "      <th>relation</th>\n",
       "      <th>tail</th>\n",
       "      <th>label_tail</th>\n",
       "      <th>class_tail</th>\n",
       "      <th>index_tail</th>\n",
       "      <th>type</th>\n",
       "    </tr>\n",
       "  </thead>\n",
       "  <tbody>\n",
       "    <tr>\n",
       "      <th>5734</th>\n",
       "      <td>MONDO:0010679</td>\n",
       "      <td>Duchenne muscular dystrophy</td>\n",
       "      <td>3</td>\n",
       "      <td>4672</td>\n",
       "      <td>associated with phenotype</td>\n",
       "      <td>HP:0001265</td>\n",
       "      <td>Hyporeflexia</td>\n",
       "      <td>8</td>\n",
       "      <td>489</td>\n",
       "      <td>8</td>\n",
       "    </tr>\n",
       "    <tr>\n",
       "      <th>5831</th>\n",
       "      <td>MONDO:0010679</td>\n",
       "      <td>Duchenne muscular dystrophy</td>\n",
       "      <td>3</td>\n",
       "      <td>4672</td>\n",
       "      <td>associated with phenotype</td>\n",
       "      <td>HP:0001371</td>\n",
       "      <td>Flexion contracture</td>\n",
       "      <td>8</td>\n",
       "      <td>1896</td>\n",
       "      <td>8</td>\n",
       "    </tr>\n",
       "    <tr>\n",
       "      <th>22263</th>\n",
       "      <td>MONDO:0010679</td>\n",
       "      <td>Duchenne muscular dystrophy</td>\n",
       "      <td>3</td>\n",
       "      <td>4672</td>\n",
       "      <td>associated with phenotype</td>\n",
       "      <td>HP:0001644</td>\n",
       "      <td>Dilated cardiomyopathy</td>\n",
       "      <td>8</td>\n",
       "      <td>2621</td>\n",
       "      <td>8</td>\n",
       "    </tr>\n",
       "    <tr>\n",
       "      <th>22928</th>\n",
       "      <td>MONDO:0010679</td>\n",
       "      <td>Duchenne muscular dystrophy</td>\n",
       "      <td>3</td>\n",
       "      <td>4672</td>\n",
       "      <td>associated with phenotype</td>\n",
       "      <td>HP:0003202</td>\n",
       "      <td>Skeletal muscle atrophy</td>\n",
       "      <td>8</td>\n",
       "      <td>1574</td>\n",
       "      <td>8</td>\n",
       "    </tr>\n",
       "    <tr>\n",
       "      <th>24828</th>\n",
       "      <td>MONDO:0010679</td>\n",
       "      <td>Duchenne muscular dystrophy</td>\n",
       "      <td>3</td>\n",
       "      <td>4672</td>\n",
       "      <td>associated with phenotype</td>\n",
       "      <td>HP:0001256</td>\n",
       "      <td>Intellectual disability, mild</td>\n",
       "      <td>8</td>\n",
       "      <td>2191</td>\n",
       "      <td>8</td>\n",
       "    </tr>\n",
       "    <tr>\n",
       "      <th>29977</th>\n",
       "      <td>MONDO:0010679</td>\n",
       "      <td>Duchenne muscular dystrophy</td>\n",
       "      <td>3</td>\n",
       "      <td>4672</td>\n",
       "      <td>associated with phenotype</td>\n",
       "      <td>HP:0003236</td>\n",
       "      <td>Elevated serum creatine kinase</td>\n",
       "      <td>8</td>\n",
       "      <td>8294</td>\n",
       "      <td>8</td>\n",
       "    </tr>\n",
       "    <tr>\n",
       "      <th>34690</th>\n",
       "      <td>MONDO:0010679</td>\n",
       "      <td>Duchenne muscular dystrophy</td>\n",
       "      <td>3</td>\n",
       "      <td>4672</td>\n",
       "      <td>associated with phenotype</td>\n",
       "      <td>HP:0011675</td>\n",
       "      <td>Arrhythmia</td>\n",
       "      <td>8</td>\n",
       "      <td>9501</td>\n",
       "      <td>8</td>\n",
       "    </tr>\n",
       "    <tr>\n",
       "      <th>36112</th>\n",
       "      <td>MONDO:0010679</td>\n",
       "      <td>Duchenne muscular dystrophy</td>\n",
       "      <td>3</td>\n",
       "      <td>4672</td>\n",
       "      <td>associated with phenotype</td>\n",
       "      <td>HP:0000750</td>\n",
       "      <td>Delayed speech and language development</td>\n",
       "      <td>8</td>\n",
       "      <td>1393</td>\n",
       "      <td>8</td>\n",
       "    </tr>\n",
       "    <tr>\n",
       "      <th>39506</th>\n",
       "      <td>MONDO:0010679</td>\n",
       "      <td>Duchenne muscular dystrophy</td>\n",
       "      <td>3</td>\n",
       "      <td>4672</td>\n",
       "      <td>associated with phenotype</td>\n",
       "      <td>HP:0003707</td>\n",
       "      <td>Calf muscle pseudohypertrophy</td>\n",
       "      <td>8</td>\n",
       "      <td>7286</td>\n",
       "      <td>8</td>\n",
       "    </tr>\n",
       "    <tr>\n",
       "      <th>43931</th>\n",
       "      <td>MONDO:0010679</td>\n",
       "      <td>Duchenne muscular dystrophy</td>\n",
       "      <td>3</td>\n",
       "      <td>4672</td>\n",
       "      <td>associated with phenotype</td>\n",
       "      <td>HP:0002791</td>\n",
       "      <td>Hypoventilation</td>\n",
       "      <td>8</td>\n",
       "      <td>4540</td>\n",
       "      <td>8</td>\n",
       "    </tr>\n",
       "    <tr>\n",
       "      <th>45889</th>\n",
       "      <td>MONDO:0010679</td>\n",
       "      <td>Duchenne muscular dystrophy</td>\n",
       "      <td>3</td>\n",
       "      <td>4672</td>\n",
       "      <td>associated with phenotype</td>\n",
       "      <td>HP:0002650</td>\n",
       "      <td>Scoliosis</td>\n",
       "      <td>8</td>\n",
       "      <td>2102</td>\n",
       "      <td>8</td>\n",
       "    </tr>\n",
       "    <tr>\n",
       "      <th>53630</th>\n",
       "      <td>MONDO:0010679</td>\n",
       "      <td>Duchenne muscular dystrophy</td>\n",
       "      <td>3</td>\n",
       "      <td>4672</td>\n",
       "      <td>associated with phenotype</td>\n",
       "      <td>HP:0001635</td>\n",
       "      <td>Congestive heart failure</td>\n",
       "      <td>8</td>\n",
       "      <td>1015</td>\n",
       "      <td>8</td>\n",
       "    </tr>\n",
       "    <tr>\n",
       "      <th>59511</th>\n",
       "      <td>MONDO:0010679</td>\n",
       "      <td>Duchenne muscular dystrophy</td>\n",
       "      <td>3</td>\n",
       "      <td>4672</td>\n",
       "      <td>associated with phenotype</td>\n",
       "      <td>HP:0003701</td>\n",
       "      <td>Proximal muscle weakness</td>\n",
       "      <td>8</td>\n",
       "      <td>4236</td>\n",
       "      <td>8</td>\n",
       "    </tr>\n",
       "    <tr>\n",
       "      <th>63401</th>\n",
       "      <td>MONDO:0010679</td>\n",
       "      <td>Duchenne muscular dystrophy</td>\n",
       "      <td>3</td>\n",
       "      <td>4672</td>\n",
       "      <td>associated with phenotype</td>\n",
       "      <td>HP:0001290</td>\n",
       "      <td>Generalized hypotonia</td>\n",
       "      <td>8</td>\n",
       "      <td>3309</td>\n",
       "      <td>8</td>\n",
       "    </tr>\n",
       "    <tr>\n",
       "      <th>64177</th>\n",
       "      <td>MONDO:0010679</td>\n",
       "      <td>Duchenne muscular dystrophy</td>\n",
       "      <td>3</td>\n",
       "      <td>4672</td>\n",
       "      <td>associated with phenotype</td>\n",
       "      <td>HP:0003115</td>\n",
       "      <td>Abnormal EKG</td>\n",
       "      <td>8</td>\n",
       "      <td>2323</td>\n",
       "      <td>8</td>\n",
       "    </tr>\n",
       "    <tr>\n",
       "      <th>64386</th>\n",
       "      <td>MONDO:0010679</td>\n",
       "      <td>Duchenne muscular dystrophy</td>\n",
       "      <td>3</td>\n",
       "      <td>4672</td>\n",
       "      <td>associated with phenotype</td>\n",
       "      <td>HP:0003307</td>\n",
       "      <td>Hyperlordosis</td>\n",
       "      <td>8</td>\n",
       "      <td>9566</td>\n",
       "      <td>8</td>\n",
       "    </tr>\n",
       "    <tr>\n",
       "      <th>65518</th>\n",
       "      <td>MONDO:0010679</td>\n",
       "      <td>Duchenne muscular dystrophy</td>\n",
       "      <td>3</td>\n",
       "      <td>4672</td>\n",
       "      <td>associated with phenotype</td>\n",
       "      <td>HP:0002515</td>\n",
       "      <td>Waddling gait</td>\n",
       "      <td>8</td>\n",
       "      <td>923</td>\n",
       "      <td>8</td>\n",
       "    </tr>\n",
       "    <tr>\n",
       "      <th>65549</th>\n",
       "      <td>MONDO:0010679</td>\n",
       "      <td>Duchenne muscular dystrophy</td>\n",
       "      <td>3</td>\n",
       "      <td>4672</td>\n",
       "      <td>associated with phenotype</td>\n",
       "      <td>HP:0003391</td>\n",
       "      <td>Gowers sign</td>\n",
       "      <td>8</td>\n",
       "      <td>5960</td>\n",
       "      <td>8</td>\n",
       "    </tr>\n",
       "    <tr>\n",
       "      <th>65944</th>\n",
       "      <td>MONDO:0010679</td>\n",
       "      <td>Duchenne muscular dystrophy</td>\n",
       "      <td>3</td>\n",
       "      <td>4672</td>\n",
       "      <td>associated with phenotype</td>\n",
       "      <td>HP:0002093</td>\n",
       "      <td>Respiratory insufficiency</td>\n",
       "      <td>8</td>\n",
       "      <td>6016</td>\n",
       "      <td>8</td>\n",
       "    </tr>\n",
       "    <tr>\n",
       "      <th>67351</th>\n",
       "      <td>MONDO:0010679</td>\n",
       "      <td>Duchenne muscular dystrophy</td>\n",
       "      <td>3</td>\n",
       "      <td>4672</td>\n",
       "      <td>associated with phenotype</td>\n",
       "      <td>HP:0003560</td>\n",
       "      <td>Muscular dystrophy</td>\n",
       "      <td>8</td>\n",
       "      <td>184</td>\n",
       "      <td>8</td>\n",
       "    </tr>\n",
       "    <tr>\n",
       "      <th>70121</th>\n",
       "      <td>MONDO:0010679</td>\n",
       "      <td>Duchenne muscular dystrophy</td>\n",
       "      <td>3</td>\n",
       "      <td>4672</td>\n",
       "      <td>associated with phenotype</td>\n",
       "      <td>HP:0003323</td>\n",
       "      <td>Progressive muscle weakness</td>\n",
       "      <td>8</td>\n",
       "      <td>1713</td>\n",
       "      <td>8</td>\n",
       "    </tr>\n",
       "    <tr>\n",
       "      <th>72249</th>\n",
       "      <td>MONDO:0010679</td>\n",
       "      <td>Duchenne muscular dystrophy</td>\n",
       "      <td>3</td>\n",
       "      <td>4672</td>\n",
       "      <td>associated with phenotype</td>\n",
       "      <td>HP:0001263</td>\n",
       "      <td>Global developmental delay</td>\n",
       "      <td>8</td>\n",
       "      <td>7338</td>\n",
       "      <td>8</td>\n",
       "    </tr>\n",
       "    <tr>\n",
       "      <th>73647</th>\n",
       "      <td>MONDO:0010679</td>\n",
       "      <td>Duchenne muscular dystrophy</td>\n",
       "      <td>3</td>\n",
       "      <td>4672</td>\n",
       "      <td>associated with phenotype</td>\n",
       "      <td>HP:0001270</td>\n",
       "      <td>Motor delay</td>\n",
       "      <td>8</td>\n",
       "      <td>8599</td>\n",
       "      <td>8</td>\n",
       "    </tr>\n",
       "    <tr>\n",
       "      <th>78403</th>\n",
       "      <td>MONDO:0010679</td>\n",
       "      <td>Duchenne muscular dystrophy</td>\n",
       "      <td>3</td>\n",
       "      <td>4672</td>\n",
       "      <td>associated with phenotype</td>\n",
       "      <td>HP:0008981</td>\n",
       "      <td>Calf muscle hypertrophy</td>\n",
       "      <td>8</td>\n",
       "      <td>9280</td>\n",
       "      <td>8</td>\n",
       "    </tr>\n",
       "    <tr>\n",
       "      <th>79097</th>\n",
       "      <td>MONDO:0010679</td>\n",
       "      <td>Duchenne muscular dystrophy</td>\n",
       "      <td>3</td>\n",
       "      <td>4672</td>\n",
       "      <td>associated with phenotype</td>\n",
       "      <td>HP:0100543</td>\n",
       "      <td>Cognitive impairment</td>\n",
       "      <td>8</td>\n",
       "      <td>3745</td>\n",
       "      <td>8</td>\n",
       "    </tr>\n",
       "    <tr>\n",
       "      <th>82083</th>\n",
       "      <td>MONDO:0010679</td>\n",
       "      <td>Duchenne muscular dystrophy</td>\n",
       "      <td>3</td>\n",
       "      <td>4672</td>\n",
       "      <td>associated with phenotype</td>\n",
       "      <td>HP:0001328</td>\n",
       "      <td>Specific learning disability</td>\n",
       "      <td>8</td>\n",
       "      <td>1685</td>\n",
       "      <td>8</td>\n",
       "    </tr>\n",
       "    <tr>\n",
       "      <th>83166</th>\n",
       "      <td>MONDO:0010679</td>\n",
       "      <td>Duchenne muscular dystrophy</td>\n",
       "      <td>3</td>\n",
       "      <td>4672</td>\n",
       "      <td>associated with phenotype</td>\n",
       "      <td>HP:0001638</td>\n",
       "      <td>Cardiomyopathy</td>\n",
       "      <td>8</td>\n",
       "      <td>618</td>\n",
       "      <td>8</td>\n",
       "    </tr>\n",
       "  </tbody>\n",
       "</table>\n",
       "</div>"
      ],
      "text/plain": [
       "                head                   label_head  class_head index_head  \\\n",
       "5734   MONDO:0010679  Duchenne muscular dystrophy           3       4672   \n",
       "5831   MONDO:0010679  Duchenne muscular dystrophy           3       4672   \n",
       "22263  MONDO:0010679  Duchenne muscular dystrophy           3       4672   \n",
       "22928  MONDO:0010679  Duchenne muscular dystrophy           3       4672   \n",
       "24828  MONDO:0010679  Duchenne muscular dystrophy           3       4672   \n",
       "29977  MONDO:0010679  Duchenne muscular dystrophy           3       4672   \n",
       "34690  MONDO:0010679  Duchenne muscular dystrophy           3       4672   \n",
       "36112  MONDO:0010679  Duchenne muscular dystrophy           3       4672   \n",
       "39506  MONDO:0010679  Duchenne muscular dystrophy           3       4672   \n",
       "43931  MONDO:0010679  Duchenne muscular dystrophy           3       4672   \n",
       "45889  MONDO:0010679  Duchenne muscular dystrophy           3       4672   \n",
       "53630  MONDO:0010679  Duchenne muscular dystrophy           3       4672   \n",
       "59511  MONDO:0010679  Duchenne muscular dystrophy           3       4672   \n",
       "63401  MONDO:0010679  Duchenne muscular dystrophy           3       4672   \n",
       "64177  MONDO:0010679  Duchenne muscular dystrophy           3       4672   \n",
       "64386  MONDO:0010679  Duchenne muscular dystrophy           3       4672   \n",
       "65518  MONDO:0010679  Duchenne muscular dystrophy           3       4672   \n",
       "65549  MONDO:0010679  Duchenne muscular dystrophy           3       4672   \n",
       "65944  MONDO:0010679  Duchenne muscular dystrophy           3       4672   \n",
       "67351  MONDO:0010679  Duchenne muscular dystrophy           3       4672   \n",
       "70121  MONDO:0010679  Duchenne muscular dystrophy           3       4672   \n",
       "72249  MONDO:0010679  Duchenne muscular dystrophy           3       4672   \n",
       "73647  MONDO:0010679  Duchenne muscular dystrophy           3       4672   \n",
       "78403  MONDO:0010679  Duchenne muscular dystrophy           3       4672   \n",
       "79097  MONDO:0010679  Duchenne muscular dystrophy           3       4672   \n",
       "82083  MONDO:0010679  Duchenne muscular dystrophy           3       4672   \n",
       "83166  MONDO:0010679  Duchenne muscular dystrophy           3       4672   \n",
       "\n",
       "                        relation        tail  \\\n",
       "5734   associated with phenotype  HP:0001265   \n",
       "5831   associated with phenotype  HP:0001371   \n",
       "22263  associated with phenotype  HP:0001644   \n",
       "22928  associated with phenotype  HP:0003202   \n",
       "24828  associated with phenotype  HP:0001256   \n",
       "29977  associated with phenotype  HP:0003236   \n",
       "34690  associated with phenotype  HP:0011675   \n",
       "36112  associated with phenotype  HP:0000750   \n",
       "39506  associated with phenotype  HP:0003707   \n",
       "43931  associated with phenotype  HP:0002791   \n",
       "45889  associated with phenotype  HP:0002650   \n",
       "53630  associated with phenotype  HP:0001635   \n",
       "59511  associated with phenotype  HP:0003701   \n",
       "63401  associated with phenotype  HP:0001290   \n",
       "64177  associated with phenotype  HP:0003115   \n",
       "64386  associated with phenotype  HP:0003307   \n",
       "65518  associated with phenotype  HP:0002515   \n",
       "65549  associated with phenotype  HP:0003391   \n",
       "65944  associated with phenotype  HP:0002093   \n",
       "67351  associated with phenotype  HP:0003560   \n",
       "70121  associated with phenotype  HP:0003323   \n",
       "72249  associated with phenotype  HP:0001263   \n",
       "73647  associated with phenotype  HP:0001270   \n",
       "78403  associated with phenotype  HP:0008981   \n",
       "79097  associated with phenotype  HP:0100543   \n",
       "82083  associated with phenotype  HP:0001328   \n",
       "83166  associated with phenotype  HP:0001638   \n",
       "\n",
       "                                    label_tail  class_tail index_tail  type  \n",
       "5734                              Hyporeflexia           8        489     8  \n",
       "5831                       Flexion contracture           8       1896     8  \n",
       "22263                   Dilated cardiomyopathy           8       2621     8  \n",
       "22928                  Skeletal muscle atrophy           8       1574     8  \n",
       "24828            Intellectual disability, mild           8       2191     8  \n",
       "29977           Elevated serum creatine kinase           8       8294     8  \n",
       "34690                               Arrhythmia           8       9501     8  \n",
       "36112  Delayed speech and language development           8       1393     8  \n",
       "39506            Calf muscle pseudohypertrophy           8       7286     8  \n",
       "43931                          Hypoventilation           8       4540     8  \n",
       "45889                                Scoliosis           8       2102     8  \n",
       "53630                 Congestive heart failure           8       1015     8  \n",
       "59511                 Proximal muscle weakness           8       4236     8  \n",
       "63401                    Generalized hypotonia           8       3309     8  \n",
       "64177                             Abnormal EKG           8       2323     8  \n",
       "64386                            Hyperlordosis           8       9566     8  \n",
       "65518                            Waddling gait           8        923     8  \n",
       "65549                              Gowers sign           8       5960     8  \n",
       "65944                Respiratory insufficiency           8       6016     8  \n",
       "67351                       Muscular dystrophy           8        184     8  \n",
       "70121              Progressive muscle weakness           8       1713     8  \n",
       "72249               Global developmental delay           8       7338     8  \n",
       "73647                              Motor delay           8       8599     8  \n",
       "78403                  Calf muscle hypertrophy           8       9280     8  \n",
       "79097                     Cognitive impairment           8       3745     8  \n",
       "82083             Specific learning disability           8       1685     8  \n",
       "83166                           Cardiomyopathy           8        618     8  "
      ]
     },
     "execution_count": 52,
     "metadata": {},
     "output_type": "execute_result"
    }
   ],
   "source": [
    "disease_ID = 'MONDO:0010679'\n",
    "relation_index = list(relation_labels).index('associated with phenotype')\n",
    "\n",
    "symptoms = edge2vec_df[(edge2vec_df['head'] == 'MONDO:0010679') & (edge2vec_df['type'] == relation_index)]\n",
    "\n",
    "print(f'A total of {symptoms.shape[0]} symptoms found that are associated with {disease_ID}')\n",
    "symptoms.head(symptoms.shape[0])"
   ]
  },
  {
   "attachments": {},
   "cell_type": "markdown",
   "metadata": {},
   "source": [
    "Check alignment between dataframes containing the associations and the nodes"
   ]
  },
  {
   "cell_type": "code",
   "execution_count": 53,
   "metadata": {},
   "outputs": [
    {
     "data": {
      "text/html": [
       "<div>\n",
       "<style scoped>\n",
       "    .dataframe tbody tr th:only-of-type {\n",
       "        vertical-align: middle;\n",
       "    }\n",
       "\n",
       "    .dataframe tbody tr th {\n",
       "        vertical-align: top;\n",
       "    }\n",
       "\n",
       "    .dataframe thead th {\n",
       "        text-align: right;\n",
       "    }\n",
       "</style>\n",
       "<table border=\"1\" class=\"dataframe\">\n",
       "  <thead>\n",
       "    <tr style=\"text-align: right;\">\n",
       "      <th></th>\n",
       "      <th>id</th>\n",
       "      <th>semantic</th>\n",
       "      <th>label</th>\n",
       "      <th>semantic_id</th>\n",
       "    </tr>\n",
       "  </thead>\n",
       "  <tbody>\n",
       "    <tr>\n",
       "      <th>4672</th>\n",
       "      <td>MONDO:0010679</td>\n",
       "      <td>disease</td>\n",
       "      <td>Duchenne muscular dystrophy</td>\n",
       "      <td>3</td>\n",
       "    </tr>\n",
       "  </tbody>\n",
       "</table>\n",
       "</div>"
      ],
      "text/plain": [
       "                 id semantic                        label  semantic_id\n",
       "4672  MONDO:0010679  disease  Duchenne muscular dystrophy            3"
      ]
     },
     "execution_count": 53,
     "metadata": {},
     "output_type": "execute_result"
    }
   ],
   "source": [
    "# Above dataframe indicates that index 4672 represents MONDO:0010679\n",
    "nodes.loc[[4672]]"
   ]
  },
  {
   "attachments": {},
   "cell_type": "markdown",
   "metadata": {},
   "source": [
    "## Component Analysis"
   ]
  },
  {
   "cell_type": "code",
   "execution_count": 54,
   "metadata": {},
   "outputs": [],
   "source": [
    "X_data = best_x.detach().cpu().numpy()\n",
    "z = StandardScaler().fit_transform(X_data)"
   ]
  },
  {
   "attachments": {},
   "cell_type": "markdown",
   "metadata": {},
   "source": [
    "### PCA"
   ]
  },
  {
   "cell_type": "code",
   "execution_count": 55,
   "metadata": {},
   "outputs": [
    {
     "data": {
      "text/html": [
       "<div>\n",
       "<style scoped>\n",
       "    .dataframe tbody tr th:only-of-type {\n",
       "        vertical-align: middle;\n",
       "    }\n",
       "\n",
       "    .dataframe tbody tr th {\n",
       "        vertical-align: top;\n",
       "    }\n",
       "\n",
       "    .dataframe thead th {\n",
       "        text-align: right;\n",
       "    }\n",
       "</style>\n",
       "<table border=\"1\" class=\"dataframe\">\n",
       "  <thead>\n",
       "    <tr style=\"text-align: right;\">\n",
       "      <th></th>\n",
       "      <th>principal component 1</th>\n",
       "      <th>principal component 2</th>\n",
       "    </tr>\n",
       "  </thead>\n",
       "  <tbody>\n",
       "    <tr>\n",
       "      <th>0</th>\n",
       "      <td>0.446142</td>\n",
       "      <td>0.534077</td>\n",
       "    </tr>\n",
       "    <tr>\n",
       "      <th>1</th>\n",
       "      <td>2.293720</td>\n",
       "      <td>4.447126</td>\n",
       "    </tr>\n",
       "    <tr>\n",
       "      <th>2</th>\n",
       "      <td>-6.838203</td>\n",
       "      <td>0.169032</td>\n",
       "    </tr>\n",
       "    <tr>\n",
       "      <th>3</th>\n",
       "      <td>-0.561996</td>\n",
       "      <td>0.125219</td>\n",
       "    </tr>\n",
       "    <tr>\n",
       "      <th>4</th>\n",
       "      <td>0.233409</td>\n",
       "      <td>0.368575</td>\n",
       "    </tr>\n",
       "    <tr>\n",
       "      <th>...</th>\n",
       "      <td>...</td>\n",
       "      <td>...</td>\n",
       "    </tr>\n",
       "    <tr>\n",
       "      <th>10232</th>\n",
       "      <td>3.966065</td>\n",
       "      <td>5.278153</td>\n",
       "    </tr>\n",
       "    <tr>\n",
       "      <th>10233</th>\n",
       "      <td>1.533181</td>\n",
       "      <td>-2.547646</td>\n",
       "    </tr>\n",
       "    <tr>\n",
       "      <th>10234</th>\n",
       "      <td>2.304482</td>\n",
       "      <td>-0.908369</td>\n",
       "    </tr>\n",
       "    <tr>\n",
       "      <th>10235</th>\n",
       "      <td>-0.306509</td>\n",
       "      <td>2.251463</td>\n",
       "    </tr>\n",
       "    <tr>\n",
       "      <th>10236</th>\n",
       "      <td>-3.303704</td>\n",
       "      <td>0.205475</td>\n",
       "    </tr>\n",
       "  </tbody>\n",
       "</table>\n",
       "<p>10237 rows × 2 columns</p>\n",
       "</div>"
      ],
      "text/plain": [
       "       principal component 1  principal component 2\n",
       "0                   0.446142               0.534077\n",
       "1                   2.293720               4.447126\n",
       "2                  -6.838203               0.169032\n",
       "3                  -0.561996               0.125219\n",
       "4                   0.233409               0.368575\n",
       "...                      ...                    ...\n",
       "10232               3.966065               5.278153\n",
       "10233               1.533181              -2.547646\n",
       "10234               2.304482              -0.908369\n",
       "10235              -0.306509               2.251463\n",
       "10236              -3.303704               0.205475\n",
       "\n",
       "[10237 rows x 2 columns]"
      ]
     },
     "execution_count": 55,
     "metadata": {},
     "output_type": "execute_result"
    }
   ],
   "source": [
    "pca = PCA(n_components=32)\n",
    "princ_comp = pca.fit_transform(z)\n",
    "princ_df = pd.DataFrame(data=princ_comp[:, [0,1]], columns=['principal component 1', 'principal component 2'])\n",
    "princ_df"
   ]
  },
  {
   "attachments": {},
   "cell_type": "markdown",
   "metadata": {},
   "source": [
    "Based on plot below, choose the number of components for PCA analysis yielding an amount of variance close to 1.0."
   ]
  },
  {
   "cell_type": "code",
   "execution_count": 56,
   "metadata": {},
   "outputs": [
    {
     "data": {
      "image/png": "[encoded data removed]",
      "text/plain": [
       "<Figure size 640x480 with 1 Axes>"
      ]
     },
     "metadata": {},
     "output_type": "display_data"
    }
   ],
   "source": [
    "plt.plot(np.cumsum(pca.explained_variance_ratio_))\n",
    "plt.xlabel('number of components')\n",
    "plt.ylabel('cumulative explained variance')\n",
    "plt.show()"
   ]
  },
  {
   "cell_type": "code",
   "execution_count": 57,
   "metadata": {},
   "outputs": [
    {
     "data": {
      "text/html": [
       "<div>\n",
       "<style scoped>\n",
       "    .dataframe tbody tr th:only-of-type {\n",
       "        vertical-align: middle;\n",
       "    }\n",
       "\n",
       "    .dataframe tbody tr th {\n",
       "        vertical-align: top;\n",
       "    }\n",
       "\n",
       "    .dataframe thead th {\n",
       "        text-align: right;\n",
       "    }\n",
       "</style>\n",
       "<table border=\"1\" class=\"dataframe\">\n",
       "  <thead>\n",
       "    <tr style=\"text-align: right;\">\n",
       "      <th></th>\n",
       "      <th>principal component 1</th>\n",
       "      <th>principal component 2</th>\n",
       "      <th>semantic</th>\n",
       "    </tr>\n",
       "  </thead>\n",
       "  <tbody>\n",
       "    <tr>\n",
       "      <th>0</th>\n",
       "      <td>0.446142</td>\n",
       "      <td>0.534077</td>\n",
       "      <td>phenotype</td>\n",
       "    </tr>\n",
       "    <tr>\n",
       "      <th>1</th>\n",
       "      <td>2.293720</td>\n",
       "      <td>4.447126</td>\n",
       "      <td>phenotype</td>\n",
       "    </tr>\n",
       "    <tr>\n",
       "      <th>2</th>\n",
       "      <td>-6.838203</td>\n",
       "      <td>0.169032</td>\n",
       "      <td>gene</td>\n",
       "    </tr>\n",
       "    <tr>\n",
       "      <th>3</th>\n",
       "      <td>-0.561996</td>\n",
       "      <td>0.125219</td>\n",
       "      <td>gene</td>\n",
       "    </tr>\n",
       "    <tr>\n",
       "      <th>4</th>\n",
       "      <td>0.233409</td>\n",
       "      <td>0.368575</td>\n",
       "      <td>phenotype</td>\n",
       "    </tr>\n",
       "    <tr>\n",
       "      <th>...</th>\n",
       "      <td>...</td>\n",
       "      <td>...</td>\n",
       "      <td>...</td>\n",
       "    </tr>\n",
       "    <tr>\n",
       "      <th>10232</th>\n",
       "      <td>3.966065</td>\n",
       "      <td>5.278153</td>\n",
       "      <td>genotype</td>\n",
       "    </tr>\n",
       "    <tr>\n",
       "      <th>10233</th>\n",
       "      <td>1.533181</td>\n",
       "      <td>-2.547646</td>\n",
       "      <td>phenotype</td>\n",
       "    </tr>\n",
       "    <tr>\n",
       "      <th>10234</th>\n",
       "      <td>2.304482</td>\n",
       "      <td>-0.908369</td>\n",
       "      <td>variant</td>\n",
       "    </tr>\n",
       "    <tr>\n",
       "      <th>10235</th>\n",
       "      <td>-0.306509</td>\n",
       "      <td>2.251463</td>\n",
       "      <td>phenotype</td>\n",
       "    </tr>\n",
       "    <tr>\n",
       "      <th>10236</th>\n",
       "      <td>-3.303704</td>\n",
       "      <td>0.205475</td>\n",
       "      <td>gene</td>\n",
       "    </tr>\n",
       "  </tbody>\n",
       "</table>\n",
       "<p>10237 rows × 3 columns</p>\n",
       "</div>"
      ],
      "text/plain": [
       "       principal component 1  principal component 2   semantic\n",
       "0                   0.446142               0.534077  phenotype\n",
       "1                   2.293720               4.447126  phenotype\n",
       "2                  -6.838203               0.169032       gene\n",
       "3                  -0.561996               0.125219       gene\n",
       "4                   0.233409               0.368575  phenotype\n",
       "...                      ...                    ...        ...\n",
       "10232               3.966065               5.278153   genotype\n",
       "10233               1.533181              -2.547646  phenotype\n",
       "10234               2.304482              -0.908369    variant\n",
       "10235              -0.306509               2.251463  phenotype\n",
       "10236              -3.303704               0.205475       gene\n",
       "\n",
       "[10237 rows x 3 columns]"
      ]
     },
     "execution_count": 57,
     "metadata": {},
     "output_type": "execute_result"
    }
   ],
   "source": [
    "pca_df = pd.concat([princ_df, nodes[['semantic']]], axis=1)\n",
    "pca_df"
   ]
  },
  {
   "cell_type": "code",
   "execution_count": 58,
   "metadata": {},
   "outputs": [
    {
     "data": {
      "image/png": "[encoded data removed]",
      "text/plain": [
       "<Figure size 800x800 with 1 Axes>"
      ]
     },
     "metadata": {},
     "output_type": "display_data"
    }
   ],
   "source": [
    "fig = plt.figure(figsize = (8,8))\n",
    "ax = fig.add_subplot(1, 1, 1)\n",
    "ax.set_xlabel('Principal Component 1', fontsize = 15)\n",
    "ax.set_ylabel('Principal Component 2', fontsize = 15)\n",
    "ax.set_title('Two components from 32-PCA', fontsize = 16)\n",
    "\n",
    "unique_node_semantics = list(node_semantic_dict.values())\n",
    "colors = ['silver', 'indianred', 'peru', 'gold', 'olivedrab', 'cadetblue', 'skyblue', 'steelblue', 'royalblue', 'mediumpurple', 'palevioletred']\n",
    "\n",
    "for target, color in zip(unique_node_semantics, colors):\n",
    "    indicesToKeep = pca_df['semantic'] == target\n",
    "    ax.scatter(pca_df.loc[indicesToKeep, 'principal component 1'], pca_df.loc[indicesToKeep, 'principal component 2'], c = color, s = 50)\n",
    "    \n",
    "ax.legend(unique_node_semantics)\n",
    "ax.grid()\n",
    "\n",
    "plt.show()"
   ]
  },
  {
   "attachments": {},
   "cell_type": "markdown",
   "metadata": {},
   "source": [
    "### t-SNE"
   ]
  },
  {
   "cell_type": "code",
   "execution_count": 59,
   "metadata": {},
   "outputs": [],
   "source": [
    "X_tsne = TSNE(learning_rate=100, perplexity=40).fit_transform(X_data)"
   ]
  },
  {
   "cell_type": "code",
   "execution_count": 60,
   "metadata": {},
   "outputs": [
    {
     "data": {
      "text/html": [
       "<div>\n",
       "<style scoped>\n",
       "    .dataframe tbody tr th:only-of-type {\n",
       "        vertical-align: middle;\n",
       "    }\n",
       "\n",
       "    .dataframe tbody tr th {\n",
       "        vertical-align: top;\n",
       "    }\n",
       "\n",
       "    .dataframe thead th {\n",
       "        text-align: right;\n",
       "    }\n",
       "</style>\n",
       "<table border=\"1\" class=\"dataframe\">\n",
       "  <thead>\n",
       "    <tr style=\"text-align: right;\">\n",
       "      <th></th>\n",
       "      <th>t-SNE 1</th>\n",
       "      <th>t-SNE 2</th>\n",
       "    </tr>\n",
       "  </thead>\n",
       "  <tbody>\n",
       "    <tr>\n",
       "      <th>0</th>\n",
       "      <td>-15.840627</td>\n",
       "      <td>-14.440085</td>\n",
       "    </tr>\n",
       "    <tr>\n",
       "      <th>1</th>\n",
       "      <td>34.953640</td>\n",
       "      <td>43.717522</td>\n",
       "    </tr>\n",
       "    <tr>\n",
       "      <th>2</th>\n",
       "      <td>-59.741489</td>\n",
       "      <td>4.701775</td>\n",
       "    </tr>\n",
       "    <tr>\n",
       "      <th>3</th>\n",
       "      <td>40.269527</td>\n",
       "      <td>11.425534</td>\n",
       "    </tr>\n",
       "    <tr>\n",
       "      <th>4</th>\n",
       "      <td>25.444637</td>\n",
       "      <td>29.404465</td>\n",
       "    </tr>\n",
       "    <tr>\n",
       "      <th>...</th>\n",
       "      <td>...</td>\n",
       "      <td>...</td>\n",
       "    </tr>\n",
       "    <tr>\n",
       "      <th>10232</th>\n",
       "      <td>-9.552385</td>\n",
       "      <td>39.669540</td>\n",
       "    </tr>\n",
       "    <tr>\n",
       "      <th>10233</th>\n",
       "      <td>-18.560886</td>\n",
       "      <td>-69.567749</td>\n",
       "    </tr>\n",
       "    <tr>\n",
       "      <th>10234</th>\n",
       "      <td>55.157284</td>\n",
       "      <td>-11.451155</td>\n",
       "    </tr>\n",
       "    <tr>\n",
       "      <th>10235</th>\n",
       "      <td>-6.824839</td>\n",
       "      <td>31.584152</td>\n",
       "    </tr>\n",
       "    <tr>\n",
       "      <th>10236</th>\n",
       "      <td>-41.416904</td>\n",
       "      <td>17.535139</td>\n",
       "    </tr>\n",
       "  </tbody>\n",
       "</table>\n",
       "<p>10237 rows × 2 columns</p>\n",
       "</div>"
      ],
      "text/plain": [
       "         t-SNE 1    t-SNE 2\n",
       "0     -15.840627 -14.440085\n",
       "1      34.953640  43.717522\n",
       "2     -59.741489   4.701775\n",
       "3      40.269527  11.425534\n",
       "4      25.444637  29.404465\n",
       "...          ...        ...\n",
       "10232  -9.552385  39.669540\n",
       "10233 -18.560886 -69.567749\n",
       "10234  55.157284 -11.451155\n",
       "10235  -6.824839  31.584152\n",
       "10236 -41.416904  17.535139\n",
       "\n",
       "[10237 rows x 2 columns]"
      ]
     },
     "execution_count": 60,
     "metadata": {},
     "output_type": "execute_result"
    }
   ],
   "source": [
    "comp_tsne = pd.DataFrame(data=X_tsne, columns=['t-SNE 1', 't-SNE 2'])\n",
    "comp_tsne"
   ]
  },
  {
   "cell_type": "code",
   "execution_count": 61,
   "metadata": {},
   "outputs": [
    {
     "data": {
      "text/html": [
       "<div>\n",
       "<style scoped>\n",
       "    .dataframe tbody tr th:only-of-type {\n",
       "        vertical-align: middle;\n",
       "    }\n",
       "\n",
       "    .dataframe tbody tr th {\n",
       "        vertical-align: top;\n",
       "    }\n",
       "\n",
       "    .dataframe thead th {\n",
       "        text-align: right;\n",
       "    }\n",
       "</style>\n",
       "<table border=\"1\" class=\"dataframe\">\n",
       "  <thead>\n",
       "    <tr style=\"text-align: right;\">\n",
       "      <th></th>\n",
       "      <th>t-SNE 1</th>\n",
       "      <th>t-SNE 2</th>\n",
       "      <th>semantic</th>\n",
       "    </tr>\n",
       "  </thead>\n",
       "  <tbody>\n",
       "    <tr>\n",
       "      <th>0</th>\n",
       "      <td>-15.840627</td>\n",
       "      <td>-14.440085</td>\n",
       "      <td>phenotype</td>\n",
       "    </tr>\n",
       "    <tr>\n",
       "      <th>1</th>\n",
       "      <td>34.953640</td>\n",
       "      <td>43.717522</td>\n",
       "      <td>phenotype</td>\n",
       "    </tr>\n",
       "    <tr>\n",
       "      <th>2</th>\n",
       "      <td>-59.741489</td>\n",
       "      <td>4.701775</td>\n",
       "      <td>gene</td>\n",
       "    </tr>\n",
       "    <tr>\n",
       "      <th>3</th>\n",
       "      <td>40.269527</td>\n",
       "      <td>11.425534</td>\n",
       "      <td>gene</td>\n",
       "    </tr>\n",
       "    <tr>\n",
       "      <th>4</th>\n",
       "      <td>25.444637</td>\n",
       "      <td>29.404465</td>\n",
       "      <td>phenotype</td>\n",
       "    </tr>\n",
       "    <tr>\n",
       "      <th>...</th>\n",
       "      <td>...</td>\n",
       "      <td>...</td>\n",
       "      <td>...</td>\n",
       "    </tr>\n",
       "    <tr>\n",
       "      <th>10232</th>\n",
       "      <td>-9.552385</td>\n",
       "      <td>39.669540</td>\n",
       "      <td>genotype</td>\n",
       "    </tr>\n",
       "    <tr>\n",
       "      <th>10233</th>\n",
       "      <td>-18.560886</td>\n",
       "      <td>-69.567749</td>\n",
       "      <td>phenotype</td>\n",
       "    </tr>\n",
       "    <tr>\n",
       "      <th>10234</th>\n",
       "      <td>55.157284</td>\n",
       "      <td>-11.451155</td>\n",
       "      <td>variant</td>\n",
       "    </tr>\n",
       "    <tr>\n",
       "      <th>10235</th>\n",
       "      <td>-6.824839</td>\n",
       "      <td>31.584152</td>\n",
       "      <td>phenotype</td>\n",
       "    </tr>\n",
       "    <tr>\n",
       "      <th>10236</th>\n",
       "      <td>-41.416904</td>\n",
       "      <td>17.535139</td>\n",
       "      <td>gene</td>\n",
       "    </tr>\n",
       "  </tbody>\n",
       "</table>\n",
       "<p>10237 rows × 3 columns</p>\n",
       "</div>"
      ],
      "text/plain": [
       "         t-SNE 1    t-SNE 2   semantic\n",
       "0     -15.840627 -14.440085  phenotype\n",
       "1      34.953640  43.717522  phenotype\n",
       "2     -59.741489   4.701775       gene\n",
       "3      40.269527  11.425534       gene\n",
       "4      25.444637  29.404465  phenotype\n",
       "...          ...        ...        ...\n",
       "10232  -9.552385  39.669540   genotype\n",
       "10233 -18.560886 -69.567749  phenotype\n",
       "10234  55.157284 -11.451155    variant\n",
       "10235  -6.824839  31.584152  phenotype\n",
       "10236 -41.416904  17.535139       gene\n",
       "\n",
       "[10237 rows x 3 columns]"
      ]
     },
     "execution_count": 61,
     "metadata": {},
     "output_type": "execute_result"
    }
   ],
   "source": [
    "tsne_df = pd.concat([comp_tsne, nodes[['semantic']]], axis=1)\n",
    "tsne_df"
   ]
  },
  {
   "cell_type": "code",
   "execution_count": 62,
   "metadata": {},
   "outputs": [
    {
     "data": {
      "image/png": "[encoded data removed]",
      "text/plain": [
       "<Figure size 800x800 with 1 Axes>"
      ]
     },
     "metadata": {},
     "output_type": "display_data"
    }
   ],
   "source": [
    "fig = plt.figure(figsize = (8,8))\n",
    "ax = fig.add_subplot(1, 1, 1)\n",
    "ax.set_xlabel('Principal Component 1', fontsize = 15)\n",
    "ax.set_ylabel('Principal Component 2', fontsize = 15)\n",
    "ax.set_title('Two component t-SNE', fontsize = 16)\n",
    "\n",
    "unique_node_semantics = list(node_semantic_dict.values())\n",
    "colors = ['silver', 'indianred', 'peru', 'gold', 'olivedrab', 'cadetblue', 'skyblue', 'steelblue', 'royalblue', 'mediumpurple', 'palevioletred']\n",
    "\n",
    "for target, color in zip(unique_node_semantics, colors):\n",
    "    indicesToKeep = tsne_df['semantic'] == target\n",
    "    ax.scatter(tsne_df.loc[indicesToKeep, 't-SNE 1'], tsne_df.loc[indicesToKeep, 't-SNE 2'], c = color, s = 50)\n",
    "    \n",
    "ax.legend(unique_node_semantics)\n",
    "ax.grid()\n",
    "\n",
    "plt.show()"
   ]
  },
  {
   "attachments": {},
   "cell_type": "markdown",
   "metadata": {},
   "source": [
    "## GNNExplainer"
   ]
  },
  {
   "cell_type": "code",
   "execution_count": 79,
   "metadata": {},
   "outputs": [],
   "source": [
    "\"\"\"\n",
    "    Copy of source code in TORCH_GEOMETRIC.NN.MODELS.GNN_EXPLAINER from torch_geometric version 2.0.4 \n",
    "    with adaptations https://github.com/PPerdomoQ/rare-disease-explainer/blob/main/3_Predictions_and_explanations.ipynb\n",
    "\"\"\"\n",
    "\n",
    "from math import sqrt\n",
    "from typing import Optional\n",
    "import copy\n",
    "\n",
    "import torch\n",
    "from tqdm import tqdm\n",
    "\n",
    "from torch_geometric.data import Data\n",
    "from torch_geometric.utils import k_hop_subgraph, to_networkx\n",
    "from inspect import signature\n",
    "\n",
    "from torch_geometric.nn.models.explainer import (\n",
    "    Explainer,\n",
    "    clear_masks,\n",
    "    set_masks,\n",
    ")\n",
    "\n",
    "EPS = 1e-15\n",
    "\n",
    "\n",
    "class GNNExplainer(Explainer):\n",
    "    r\"\"\"The GNN-Explainer model from the `\"GNNExplainer: Generating\n",
    "    Explanations for Graph Neural Networks\"\n",
    "    <https://arxiv.org/abs/1903.03894>`_ paper for identifying compact subgraph\n",
    "    structures and small subsets node features that play a crucial role in a\n",
    "    GNN’s node-predictions.\n",
    "\n",
    "    .. note::\n",
    "\n",
    "        For an example of using GNN-Explainer, see `examples/gnn_explainer.py\n",
    "        <https://github.com/pyg-team/pytorch_geometric/blob/master/examples/\n",
    "        gnn_explainer.py>`_.\n",
    "\n",
    "    Args:\n",
    "        model (torch.nn.Module): The GNN module to explain.\n",
    "        epochs (int, optional): The number of epochs to train.\n",
    "            (default: :obj:`100`)\n",
    "        lr (float, optional): The learning rate to apply.\n",
    "            (default: :obj:`0.01`)\n",
    "        num_hops (int, optional): The number of hops the :obj:`model` is\n",
    "            aggregating information from.\n",
    "            If set to :obj:`None`, will automatically try to detect this\n",
    "            information based on the number of\n",
    "            :class:`~torch_geometric.nn.conv.message_passing.MessagePassing`\n",
    "            layers inside :obj:`model`. (default: :obj:`None`)\n",
    "        return_type (str, optional): Denotes the type of output from\n",
    "            :obj:`model`. Valid inputs are :obj:`\"log_prob\"` (the model\n",
    "            returns the logarithm of probabilities), :obj:`\"prob\"` (the\n",
    "            model returns probabilities), :obj:`\"raw\"` (the model returns raw\n",
    "            scores) and :obj:`\"regression\"` (the model returns scalars).\n",
    "            (default: :obj:`\"log_prob\"`)\n",
    "        feat_mask_type (str, optional): Denotes the type of feature mask\n",
    "            that will be learned. Valid inputs are :obj:`\"feature\"` (a single\n",
    "            feature-level mask for all nodes), :obj:`\"individual_feature\"`\n",
    "            (individual feature-level masks for each node), and :obj:`\"scalar\"`\n",
    "            (scalar mask for each each node). (default: :obj:`\"feature\"`)\n",
    "        allow_edge_mask (boolean, optional): If set to :obj:`False`, the edge\n",
    "            mask will not be optimized. (default: :obj:`True`)\n",
    "        log (bool, optional): If set to :obj:`False`, will not log any learning\n",
    "            progress. (default: :obj:`True`)\n",
    "        **kwargs (optional): Additional hyper-parameters to override default\n",
    "            settings in :attr:`~torch_geometric.nn.models.GNNExplainer.coeffs`.\n",
    "    \"\"\"\n",
    "\n",
    "    coeffs = {\n",
    "        'edge_size': 0.00005,\n",
    "        'edge_reduction': 'sum',\n",
    "        'node_feat_size': 1.0,\n",
    "        'node_feat_reduction': 'mean',\n",
    "        'edge_ent': 1.0,\n",
    "        'node_feat_ent': 0.1,\n",
    "    }\n",
    "\n",
    "    def __init__(self, model, epochs: int = 100, lr: float = 0.01, num_hops: Optional[int] = None, \n",
    "                 return_type: str = 'log_prob', feat_mask_type: str = 'feature', allow_edge_mask: bool = True,\n",
    "                 log: bool = True, **kwargs):\n",
    "        \n",
    "        super().__init__(model, lr, epochs, num_hops, return_type, log)\n",
    "        \n",
    "        assert feat_mask_type in ['feature', 'individual_feature', 'scalar']\n",
    "        \n",
    "        self.allow_edge_mask = allow_edge_mask\n",
    "        self.feat_mask_type = feat_mask_type\n",
    "        self.coeffs.update(kwargs)\n",
    "\n",
    "    def _initialize_masks(self, x, edge_index, init=\"normal\"):\n",
    "        (N, F), E = x.size(), edge_index.size(1)\n",
    "        std = 0.1\n",
    "\n",
    "        if self.feat_mask_type == 'individual_feature':\n",
    "            self.node_feat_mask = torch.nn.Parameter(torch.randn(N, F) * std)\n",
    "        elif self.feat_mask_type == 'scalar':\n",
    "            self.node_feat_mask = torch.nn.Parameter(torch.randn(N, 1) * std)\n",
    "        else:\n",
    "            self.node_feat_mask = torch.nn.Parameter(torch.randn(1, F) * std)\n",
    "\n",
    "        std = torch.nn.init.calculate_gain('relu') * sqrt(2.0 / (2 * N))\n",
    "\n",
    "        if self.allow_edge_mask:\n",
    "            self.edge_mask = torch.nn.Parameter(torch.randn(E) * std)\n",
    "\n",
    "    def _clear_masks(self):\n",
    "        clear_masks(self.model)\n",
    "        self.node_feat_masks = None\n",
    "        self.edge_mask = None\n",
    "\n",
    "    def _loss(self, log_logits, prediction, node_idx: Optional[int] = None):\n",
    "        if self.return_type == 'regression':\n",
    "            if node_idx is not None and node_idx >= 0:\n",
    "                loss = torch.cdist(log_logits[node_idx], prediction[node_idx])\n",
    "            else:\n",
    "                loss = torch.cdist(log_logits, prediction)\n",
    "        else:\n",
    "            if node_idx is not None and node_idx >= 0:\n",
    "                loss = -log_logits[node_idx, prediction[node_idx]]\n",
    "            else:\n",
    "                loss = -log_logits[0, prediction[0]]\n",
    "\n",
    "        if self.allow_edge_mask:\n",
    "            m = self.edge_mask.sigmoid()\n",
    "            edge_reduce = getattr(torch, self.coeffs['edge_reduction'])\n",
    "            loss = loss + self.coeffs['edge_size'] * edge_reduce(m)\n",
    "            ent = -m * torch.log(m + EPS) - (1 - m) * torch.log(1 - m + EPS)\n",
    "            loss = loss + self.coeffs['edge_ent'] * ent.mean()\n",
    "\n",
    "        m = self.node_feat_mask.sigmoid()\n",
    "        node_feat_reduce = getattr(torch, self.coeffs['node_feat_reduction'])\n",
    "        loss = loss + self.coeffs['node_feat_size'] * node_feat_reduce(m)\n",
    "        ent = -m * torch.log(m + EPS) - (1 - m) * torch.log(1 - m + EPS)\n",
    "        loss = loss + self.coeffs['node_feat_ent'] * ent.mean()\n",
    "\n",
    "        return loss\n",
    "\n",
    "    def explain_graph(self, x, edge_index, **kwargs):\n",
    "        r\"\"\"Learns and returns a node feature mask and an edge mask that play a\n",
    "        crucial role to explain the prediction made by the GNN for a graph.\n",
    "\n",
    "        Args:\n",
    "            x (Tensor): The node feature matrix.\n",
    "            edge_index (LongTensor): The edge indices.\n",
    "            **kwargs (optional): Additional arguments passed to the GNN module.\n",
    "\n",
    "        :rtype: (:class:`Tensor`, :class:`Tensor`)\n",
    "        \"\"\"\n",
    "\n",
    "        self.model.eval()\n",
    "        self._clear_masks()\n",
    "\n",
    "        # all nodes belong to same graph\n",
    "        batch = torch.zeros(x.shape[0], dtype=int, device=x.device)\n",
    "\n",
    "        # Get the initial prediction.\n",
    "        prediction = self.get_initial_prediction(x, edge_index, batch=batch,\n",
    "                                                 **kwargs)\n",
    "\n",
    "        self._initialize_masks(x, edge_index)\n",
    "        self.to(x.device)\n",
    "        if self.allow_edge_mask:\n",
    "            set_masks(self.model, self.edge_mask, edge_index,\n",
    "                      apply_sigmoid=True)\n",
    "            parameters = [self.node_feat_mask, self.edge_mask]\n",
    "        else:\n",
    "            parameters = [self.node_feat_mask]\n",
    "        optimizer = torch.optim.Adam(parameters, lr=self.lr)\n",
    "\n",
    "        if self.log:  # pragma: no cover\n",
    "            pbar = tqdm(total=self.epochs)\n",
    "            pbar.set_description('Explain graph')\n",
    "\n",
    "        for epoch in range(1, self.epochs + 1):\n",
    "            optimizer.zero_grad()\n",
    "            h = x * self.node_feat_mask.sigmoid()\n",
    "            out = self.model(x=h, edge_index=edge_index, batch=batch, **kwargs)\n",
    "            loss = self.get_loss(out, prediction, None)\n",
    "            loss.backward()\n",
    "            optimizer.step()\n",
    "\n",
    "            if self.log:  # pragma: no cover\n",
    "                pbar.update(1)\n",
    "\n",
    "        if self.log:  # pragma: no cover\n",
    "            pbar.close()\n",
    "\n",
    "        node_feat_mask = self.node_feat_mask.detach().sigmoid().squeeze()\n",
    "        if self.allow_edge_mask:\n",
    "            edge_mask = self.edge_mask.detach().sigmoid()\n",
    "        else:\n",
    "            edge_mask = torch.ones(edge_index.size(1))\n",
    "\n",
    "        self._clear_masks()\n",
    "        return node_feat_mask, edge_mask\n",
    "\n",
    "\n",
    "    def explain_node(self, node_idx, x, edge_index, **kwargs):\n",
    "        r\"\"\"Learns and returns a node feature mask and an edge mask that play a\n",
    "        crucial role to explain the prediction made by the GNN for node\n",
    "        :attr:`node_idx`.\n",
    "\n",
    "        Args:\n",
    "            node_idx (int): The node to explain.\n",
    "            x (Tensor): The node feature matrix.\n",
    "            edge_index (LongTensor): The edge indices.\n",
    "            **kwargs (optional): Additional arguments passed to the GNN module.\n",
    "\n",
    "        :rtype: (:class:`Tensor`, :class:`Tensor`)\n",
    "        \"\"\"\n",
    "\n",
    "        self.model.eval()\n",
    "        self._clear_masks()\n",
    "\n",
    "        num_nodes = x.size(0)\n",
    "        num_edges = edge_index.size(1)\n",
    "\n",
    "        # Only operate on a k-hop subgraph around `node_idx`.\n",
    "        x, edge_index, mapping, hard_edge_mask, subset, kwargs = \\\n",
    "            self.subgraph(node_idx, -x, edge_index, **kwargs)\n",
    "        print('Edge Index 1:', edge_index)\n",
    "        # Get the initial prediction.\n",
    "        prediction = self.get_initial_prediction(x, edge_index, **kwargs)\n",
    "        print('Prediction:', prediction)\n",
    "\n",
    "        self._initialize_masks(x, edge_index)\n",
    "        self.to(x.device)\n",
    "\n",
    "        if self.allow_edge_mask:\n",
    "            set_masks(self.model, self.edge_mask, edge_index,\n",
    "                      apply_sigmoid=True)\n",
    "            parameters = [self.node_feat_mask, self.edge_mask]\n",
    "        else:\n",
    "            parameters = [self.node_feat_mask]\n",
    "        print('Edge Index 2:', edge_index)\n",
    "        optimizer = torch.optim.Adam(parameters, lr=self.lr)\n",
    "\n",
    "        if self.log:  # pragma: no cover\n",
    "            pbar = tqdm(total=self.epochs)\n",
    "            pbar.set_description(f'Explain node {node_idx}')\n",
    "\n",
    "        for epoch in range(1, self.epochs + 1):\n",
    "            optimizer.zero_grad()\n",
    "            h = x * self.node_feat_mask.sigmoid()\n",
    "            print('X:', x)\n",
    "            print('H:', h)\n",
    "            print('Mask:', self.node_feat_mask.sigmoid())\n",
    "            print('Edge Index 3:', edge_index)\n",
    "            out = self.model(x=h, edge_index=edge_index, **kwargs)\n",
    "            print('Out:', out)\n",
    "            print('Prediction:', prediction)\n",
    "            loss = self.get_loss(out, prediction, mapping)\n",
    "            print('Loss:', loss)\n",
    "            loss.backward()\n",
    "            optimizer.step()\n",
    "\n",
    "            if self.log:  # pragma: no cover\n",
    "                pbar.update(1)\n",
    "        print('Out:', out)\n",
    "        print('Mapping:', mapping )\n",
    "        if self.log:  # pragma: no cover\n",
    "            pbar.close()\n",
    "\n",
    "        node_feat_mask = self.node_feat_mask.detach().sigmoid()\n",
    "        if self.feat_mask_type == 'individual_feature':\n",
    "            new_mask = x.new_zeros(num_nodes, x.size(-1))\n",
    "            new_mask[subset] = node_feat_mask\n",
    "            node_feat_mask = new_mask\n",
    "        elif self.feat_mask_type == 'scalar':\n",
    "            new_mask = x.new_zeros(num_nodes, 1)\n",
    "            new_mask[subset] = node_feat_mask\n",
    "            node_feat_mask = new_mask\n",
    "        node_feat_mask = node_feat_mask.squeeze()\n",
    "\n",
    "        if self.allow_edge_mask:\n",
    "            edge_mask = self.edge_mask.new_zeros(num_edges)\n",
    "            print('Hard Edges:', hard_edge_mask)\n",
    "            print('Len Hard Edges:', len(hard_edge_mask))\n",
    "            print('Edges:', edge_mask)\n",
    "            print('Len Edges:', len(edge_mask))      \n",
    "            edge_mask[hard_edge_mask] = self.edge_mask.detach().sigmoid()\n",
    "        else:\n",
    "            edge_mask = torch.zeros(num_edges)\n",
    "            edge_mask[hard_edge_mask] = 1\n",
    "\n",
    "        self._clear_masks()\n",
    "\n",
    "        return node_feat_mask, edge_mask\n",
    "\n",
    "    def __repr__(self):\n",
    "        return f'{self.__class__.__name__}()'\n",
    "    \n",
    "    def explain_link(self, node_idx1, node_idx2, x, edge_index, **kwargs): \n",
    "        r\"\"\"Learns and returns a node feature mask and an edge mask that play a\n",
    "        crucial role to explain the prediction made by the GNN for node\n",
    "        :attr:`node_idx`.\n",
    "\n",
    "        Args:\n",
    "            node_idx (int): The node to explain.\n",
    "            x (Tensor): The node feature matrix.\n",
    "            edge_index (LongTensor): The edge indices.\n",
    "            **kwargs (optional): Additional arguments passed to the GNN module.\n",
    "\n",
    "        :rtype: (:class:`Tensor`, :class:`Tensor`)\n",
    "        \"\"\"\n",
    "\n",
    "        self.model.eval()\n",
    "        self._clear_masks()\n",
    "\n",
    "        num_nodes = x.size(0)\n",
    "        num_edges = edge_index.size(1)\n",
    "\n",
    "        _, emb = self.model(x, edge_index, edge_index)  # yielded node embeddings used to calculate edge existing or not\n",
    "\n",
    "\n",
    "        # Only operate on a k-hop subgraph around `node_idx1`.\n",
    "        x1, edge_index1, mapping1, hard_edge_mask1, subset1, kwargs1 = subgraph(node_idx=[node_idx1, node_idx2], \n",
    "                                                                                x=x, edge_index=edge_index, \n",
    "                                                                                flow='source_to_target', num_hops = self.num_hops, **kwargs)\n",
    "\n",
    "        # Only operate on a k-hop subgraph around `node_idx2`.\n",
    "        # x2, edge_index2, mapping2, hard_edge_mask2, subset2, kwargs2 = self.subgraph(node_idx2, x, edge_index, **kwargs)\n",
    "\n",
    "        # initial embedding\n",
    "        node_embedding_1 = emb[node_idx1]\n",
    "        node_embedding_2 = emb[node_idx2]\n",
    "\n",
    "        # Get the initial prediction.       \n",
    "        prediction = torch.Tensor([torch.sum(node_embedding_1 * node_embedding_2, dim=-1)]).requires_grad_()\n",
    "\n",
    "        self._initialize_masks(x1, edge_index1)\n",
    "        self.to(x1.device)\n",
    "\n",
    "        if self.allow_edge_mask:\n",
    "            set_masks(self.model, self.edge_mask, edge_index1,\n",
    "                      apply_sigmoid=True)\n",
    "            parameters = [self.node_feat_mask, self.edge_mask]\n",
    "        else:\n",
    "            parameters = [self.node_feat_mask]\n",
    "            \n",
    "        optimizer = torch.optim.Adam(parameters, lr=self.lr)\n",
    "\n",
    "        if self.log:  # pragma: no cover\n",
    "            pbar = tqdm(total=self.epochs)\n",
    "            pbar.set_description(f'Explain node {node_idx1}')\n",
    "        \n",
    "        for epoch in range(1, self.epochs + 1):\n",
    "            optimizer.zero_grad()\n",
    "            criterion = torch.nn.MSELoss(reduction='sum')\n",
    "            h = x1 \n",
    "            # # print('X:', x1)\n",
    "            # # print('H:', h)\n",
    "            # # print('Mask:', self.node_feat_mask.sigmoid())\n",
    "            # G1 = nx.Graph()\n",
    "            # for ind, node in enumerate(h): \n",
    "            #   G1.add_node(ind, node_feature=node)\n",
    "            # for i in range(edge_index1.size(1)): \n",
    "            #   G1.add_edge(edge_index1[0][i].item(), edge_index1[1][i].item())\n",
    "            \n",
    "            # # print(\"Number of edges is {}\".format(G1.number_of_edges()))\n",
    "            # # print(\"Number of nodes is {}\".format(G1.number_of_nodes()))\n",
    "            # dataset1 = GraphDataset(\n",
    "            #   G1,\n",
    "            #   task='link_pred',\n",
    "            #   edge_train_mode=\"all\")\n",
    "            \n",
    "            # dataloader1 = DataLoader(\n",
    "            #     dataset1, collate_fn=Batch.collate([]),\n",
    "            #     batch_size=1, shuffle=False)\n",
    "        \n",
    "            # for i, batch in enumerate(dataloader1):\n",
    "            _, emb1 = self.model(h, edge_index1, edge_index1)\n",
    "            \n",
    "            # for module in self.model.modules():  \n",
    "            #   if isinstance(module, MessagePassing):\n",
    "            #     print(module._edge_mask)\n",
    "              # module._loop_mask = loop_mask\n",
    "              # module._apply_sigmoid = apply_sigmoid\n",
    "\n",
    "            out = torch.tensor([torch.sum(emb1[mapping1[1]]* emb1[mapping1[0]], dim=-1)]).requires_grad_()\n",
    "            # print('Out:', out)\n",
    "            # print('Prediction:', prediction)\n",
    "            loss = criterion(out, prediction)\n",
    "            #loss = self.get_loss(out, prediction, mapping1)\n",
    "            m = self.edge_mask.sigmoid()\n",
    "            edge_reduce = getattr(torch, self.coeffs['edge_reduction'])\n",
    "            loss = loss + self.coeffs['edge_size'] * edge_reduce(m)\n",
    "            ent = -m * torch.log(m + EPS) - (1 - m) * torch.log(1 - m + EPS)\n",
    "            loss = loss + self.coeffs['edge_ent'] * ent.mean()\n",
    "            # m = self.node_feat_mask.sigmoid()\n",
    "            # node_feat_reduce = getattr(torch, self.coeffs['node_feat_reduction'])\n",
    "            # loss = loss + self.coeffs['node_feat_size'] * node_feat_reduce(m)\n",
    "            # ent = -m * torch.log(m + EPS) - (1 - m) * torch.log(1 - m + EPS)\n",
    "            # loss = loss + self.coeffs['node_feat_ent'] * ent.mean()\n",
    "            # print('Loss:', loss)\n",
    "            loss.backward()\n",
    "            optimizer.step()\n",
    "\n",
    "            if self.log:  # pragma: no cover\n",
    "                pbar.update(1)\n",
    "\n",
    "        if self.log:  # pragma: no cover\n",
    "            pbar.close()\n",
    "\n",
    "        node_feat_mask = self.node_feat_mask.detach().sigmoid()\n",
    "        if self.feat_mask_type == 'individual_feature':\n",
    "            new_mask = x1.new_zeros(num_nodes, x1.size(-1))\n",
    "            new_mask[subset1] = node_feat_mask\n",
    "            node_feat_mask = new_mask\n",
    "        elif self.feat_mask_type == 'scalar':\n",
    "            new_mask = x1.new_zeros(num_nodes, 1)\n",
    "            new_mask[subset1] = node_feat_mask\n",
    "            node_feat_mask = new_mask\n",
    "        node_feat_mask = node_feat_mask.squeeze()\n",
    "        # print('Non Zero:', torch.count_nonzero(node_feat_mask))\n",
    "\n",
    "        if self.allow_edge_mask:\n",
    "            edge_mask = self.edge_mask.new_zeros(num_edges)\n",
    "            # print('Hard Edges:', hard_edge_mask1)\n",
    "            # print('Len Hard Edges:', len(hard_edge_mask1))\n",
    "            # print('Non Zero:', torch.count_nonzero(hard_edge_mask1))\n",
    "            # print('Edges:', edge_mask)\n",
    "            # print('Len Edges:', len(edge_mask))            \n",
    "            edge_mask[hard_edge_mask1] = self.edge_mask.detach().sigmoid()\n",
    "            #print('Edge Mask:', self.edge_mask.detach().sigmoid())\n",
    "            # print('Non Zero:', torch.count_nonzero(edge_mask))\n",
    "        else:\n",
    "            edge_mask = torch.zeros(num_edges)\n",
    "            edge_mask[hard_edge_mask1] = 1\n",
    "\n",
    "        self._clear_masks()\n",
    "\n",
    "        return node_feat_mask, edge_mask\n",
    "    \n",
    "def maybe_num_nodes(index, num_nodes=None):\n",
    "    return index.max().item() + 1 if num_nodes is None else num_nodes\n",
    "\n",
    "def k_hop_subgraph(node_idx, num_hops, edge_index, relabel_nodes=False,\n",
    "                   num_nodes=None, flow='source_to_target'):\n",
    "    r\"\"\"Computes the :math:`k`-hop subgraph of :obj:`edge_index` around node\n",
    "    :attr:`node_idx`.\n",
    "    It returns (1) the nodes involved in the subgraph, (2) the filtered\n",
    "    :obj:`edge_index` connectivity, (3) the mapping from node indices in\n",
    "    :obj:`node_idx` to their new location, and (4) the edge mask indicating\n",
    "    which edges were preserved.\n",
    "\n",
    "    Args:\n",
    "        node_idx (int, list, tuple or :obj:`torch.Tensor`): The central\n",
    "            node(s).\n",
    "        num_hops: (int): The number of hops :math:`k`.\n",
    "        edge_index (LongTensor): The edge indices.\n",
    "        relabel_nodes (bool, optional): If set to :obj:`True`, the resulting\n",
    "            :obj:`edge_index` will be relabeled to hold consecutive indices\n",
    "            starting from zero. (default: :obj:`False`)\n",
    "        num_nodes (int, optional): The number of nodes, *i.e.*\n",
    "            :obj:`max_val + 1` of :attr:`edge_index`. (default: :obj:`None`)\n",
    "        flow (string, optional): The flow direction of :math:`k`-hop\n",
    "            aggregation (:obj:`\"source_to_target\"` or\n",
    "            :obj:`\"target_to_source\"`). (default: :obj:`\"source_to_target\"`)\n",
    "\n",
    "    :rtype: (:class:`LongTensor`, :class:`LongTensor`, :class:`LongTensor`,\n",
    "             :class:`BoolTensor`)\n",
    "    \"\"\"\n",
    "\n",
    "    num_nodes = maybe_num_nodes(edge_index, num_nodes)\n",
    "\n",
    "    assert flow in ['source_to_target', 'target_to_source']\n",
    "    if flow == 'target_to_source':\n",
    "        row, col = edge_index\n",
    "    else:\n",
    "        col, row = edge_index\n",
    "\n",
    "    node_mask = row.new_empty(num_nodes, dtype=torch.bool)\n",
    "    edge_mask = row.new_empty(row.size(0), dtype=torch.bool)\n",
    "\n",
    "    if isinstance(node_idx, (int, list, tuple)):\n",
    "        node_idx = torch.tensor([node_idx], device=row.device).flatten()\n",
    "    else:\n",
    "        node_idx = node_idx.to(row.device)\n",
    "\n",
    "    subsets = [node_idx]\n",
    "\n",
    "    for _ in range(num_hops):\n",
    "        node_mask.fill_(False)\n",
    "        \n",
    "        node_mask_index = subsets[-1].long()\n",
    "        node_mask[node_mask_index] = True\n",
    "        \n",
    "        torch.index_select(node_mask, 0, row, out=edge_mask)\n",
    "        subsets.append(col[edge_mask])\n",
    "\n",
    "    subset, inv = torch.cat(subsets).unique(return_inverse=True)\n",
    "    inv = inv[:node_idx.numel()]\n",
    "\n",
    "    node_mask.fill_(False)\n",
    "    node_mask[subset] = True\n",
    "    edge_mask = node_mask[row] & node_mask[col]\n",
    "\n",
    "    edge_index = edge_index[:, edge_mask]\n",
    "\n",
    "    if relabel_nodes:\n",
    "        node_idx = row.new_full((num_nodes, ), -1)\n",
    "        node_idx[subset] = torch.arange(subset.size(0), device=row.device)\n",
    "        edge_index = node_idx[edge_index]\n",
    "\n",
    "    return subset, edge_index, inv, edge_mask\n",
    "\n",
    "def subgraph(node_idx, x, edge_index, num_hops, **kwargs):\n",
    "    r\"\"\"Returns the subgraph of the given node.\n",
    "\n",
    "    Args:\n",
    "        node_idx (int): The node to explain.\n",
    "        x (Tensor): The node feature matrix.\n",
    "        edge_index (LongTensor): The edge indices.\n",
    "        **kwargs (optional): Additional arguments passed to the GNN module.\n",
    "    :rtype: (Tensor, Tensor, LongTensor, LongTensor, LongTensor, dict)\n",
    "    \"\"\"\n",
    "    num_nodes, num_edges = x.size(0), edge_index.size(0)\n",
    "    subset, edge_index, mapping, edge_mask = k_hop_subgraph(node_idx, num_hops, edge_index, relabel_nodes=True, num_nodes=num_nodes, flow = 'source_to_target')\n",
    "\n",
    "    x = x[subset]\n",
    "    kwargs_new = {}\n",
    "    for key, value in kwargs.items():\n",
    "        if torch.is_tensor(value) and value.size(0) == num_nodes:\n",
    "            kwargs_new[key] = value[subset]\n",
    "        elif torch.is_tensor(value) and value.size(0) == num_edges:\n",
    "            kwargs_new[key] = value[edge_mask]\n",
    "        kwargs_new[key] = value  # TODO: this is not in PGExplainer\n",
    "    return x, edge_index, mapping, edge_mask, subset, kwargs_new\n",
    "    \n",
    "def visualize_subgraph(node_idx, edge_index_full,\n",
    "                        edge_mask, nodes, y = None,\n",
    "                        threshold = None,\n",
    "                        edge_y = None,\n",
    "                        node_alpha = None, seed= 10,\n",
    "                       flow = 'source_to_target', \n",
    "                       num_hops = 1,node_label = 'preflabel',\n",
    "                       edge_labels = None,\n",
    "                       show_inactive = False,\n",
    "                       remove_unconnected = False,\n",
    "                       \n",
    "                        **kwargs):\n",
    "    r\"\"\"Visualizes the subgraph given an edge mask :attr:`edge_mask`.\n",
    "\n",
    "    Args:\n",
    "        node_idx (int): The node id to explain.\n",
    "            Set to :obj:`None` to explain a graph.\n",
    "        edge_index (LongTensor): The edge indices.\n",
    "        edge_mask (Tensor): The edge mask.\n",
    "        y (Tensor, optional): The ground-truth node-prediction labels used\n",
    "            as node colorings. All nodes will have the same color\n",
    "            if :attr:`node_idx` is :obj:`-1`.(default: :obj:`None`).\n",
    "        threshold (float, optional): Sets a threshold for visualizing\n",
    "            important edges. If set to :obj:`None`, will visualize all\n",
    "            edges with transparancy indicating the importance of edges.\n",
    "            (default: :obj:`None`)\n",
    "        edge_y (Tensor, optional): The edge labels used as edge colorings.\n",
    "        node_alpha (Tensor, optional): Tensor of floats (0 - 1) indicating\n",
    "            transparency of each node.\n",
    "        seed (int, optional): Random seed of the :obj:`networkx` node\n",
    "            placement algorithm. (default: :obj:`10`)\n",
    "        **kwargs (optional): Additional arguments passed to\n",
    "            :func:`nx.draw`.\n",
    "\n",
    "    :rtype: :class:`matplotlib.axes.Axes`, :class:`networkx.DiGraph`\n",
    "    \"\"\"\n",
    "    import matplotlib.pyplot as plt\n",
    "    import networkx as nx\n",
    "\n",
    "    assert edge_mask.size(0) == edge_index_full.size(1)\n",
    "\n",
    "    if node_idx is None or node_idx[0] < 0:\n",
    "        hard_edge_mask = torch.BoolTensor([True] * edge_index_full.size(1),\n",
    "                                          device=edge_mask.device)\n",
    "        subset = torch.arange(edge_index_full.max().item() + 1,\n",
    "                              device=edge_index_full.device)\n",
    "        y = None\n",
    "\n",
    "    else:\n",
    "        # Only operate on a k-hop subgraph around `node_idx`.\n",
    "        subset, edge_index, mapping_sub, hard_edge_mask = k_hop_subgraph(\n",
    "            node_idx, num_hops, edge_index_full, relabel_nodes=True,\n",
    "            num_nodes=None, flow=flow)\n",
    "        \n",
    "\n",
    "    edge_mask = edge_mask[hard_edge_mask]\n",
    "    selected = (hard_edge_mask == True).nonzero(as_tuple=True)\n",
    "\n",
    "    if threshold is not None:\n",
    "        edge_mask = (edge_mask >= threshold).to(torch.float)\n",
    "\n",
    "    if y is None:\n",
    "        y = torch.zeros(edge_index.max().item() + 1,\n",
    "                        device=edge_index.device)\n",
    "    else:\n",
    "        #print(y[subset])\n",
    "        y = y[subset].to(torch.float) / y.max().item()\n",
    "        \n",
    "\n",
    "    if edge_y is None:\n",
    "        edge_color = ['black'] * edge_index.size(1)\n",
    "    else:\n",
    "        colors = list(plt.rcParams['axes.prop_cycle'])\n",
    "        edge_color = [\n",
    "            colors[i % len(colors)]['color']\n",
    "            for i in edge_y[hard_edge_mask]\n",
    "        ]\n",
    "\n",
    "\n",
    "    data = Data(edge_index=edge_index, att=edge_mask,\n",
    "                edge_color=edge_color, y=y, num_nodes=y.size(0)).to('cpu')\n",
    "    #print(data)\n",
    "    G = to_networkx(data, node_attrs=['y'],\n",
    "                    edge_attrs=['att', 'edge_color'])\n",
    "\n",
    "    #print(G.number_of_nodes())\n",
    "    #print(node_label)\n",
    "    \n",
    "    #print(mapping)\n",
    "\n",
    "    #print(len(torch.stack((edge_index[0], edge_index[1])).unique()))\n",
    "    #print(G.number_of_edges())\n",
    "    G2 = copy.deepcopy(G)\n",
    "    if num_hops >= 1 and not show_inactive: \n",
    "      for indx, edge in enumerate(G.edges): \n",
    "        if edge_mask[indx] <  threshold:\n",
    "          G2.remove_edge(edge[0], edge[1])\n",
    "      removed_nodes = list(nx.isolates(G2))\n",
    "      G2.remove_nodes_from(removed_nodes)\n",
    "\n",
    "    \n",
    "    if remove_unconnected:\n",
    "        G2 = G2.to_undirected()\n",
    "        for component in list(nx.connected_components(G2)):\n",
    "            if mapping_sub[0].item() in component or mapping_sub[1].item() in component:\n",
    "                continue\n",
    "            else:\n",
    "                for node in component:\n",
    "                    G2.remove_node(node)\n",
    "                    \n",
    "\n",
    "    active = torch.tensor(list(G2.nodes()))\n",
    "\n",
    "    mapping = {k: str(nodes.iloc[i][node_label]) + ' ' + str(i) for k, i in enumerate(subset.tolist())}\n",
    "    mapping2 = {str(nodes.iloc[i][node_label]) + ' ' + str(i): i for k, i in enumerate(subset.tolist())}\n",
    "    G2 = nx.relabel_nodes(G2, mapping)\n",
    "\n",
    "    node_args = set(signature(nx.draw_networkx_nodes).parameters.keys())\n",
    "    node_kwargs = {k: v for k, v in kwargs.items() if k in node_args}\n",
    "    node_kwargs['node_size'] = kwargs.get('node_size') or 800\n",
    "    node_kwargs['cmap'] = kwargs.get('cmap') or 'cool'\n",
    "\n",
    "    label_args = set(signature(nx.draw_networkx_labels).parameters.keys())\n",
    "    label_kwargs = {k: v for k, v in kwargs.items() if k in label_args}\n",
    "    label_kwargs['font_size'] = kwargs.get('font_size') or 10\n",
    "\n",
    "    pos = nx.spring_layout(G2, seed=seed)\n",
    "    ax = plt.gca()\n",
    "    for source, target, data in G2.edges(data=True):\n",
    "        ax.annotate(\n",
    "            '', xy=pos[target], xycoords='data', xytext=pos[source],\n",
    "            textcoords='data', arrowprops=dict(\n",
    "                arrowstyle=\"->\",\n",
    "                alpha=max(data['att'], 0.1),\n",
    "                color=data['edge_color'],\n",
    "                shrinkA=sqrt(node_kwargs['node_size']) / 2.0,\n",
    "                shrinkB=sqrt(node_kwargs['node_size']) / 2.0,\n",
    "                connectionstyle=\"arc3,rad=0.1\",\n",
    "            ))\n",
    "\n",
    "    if node_alpha is None:\n",
    "        #print(active)\n",
    "        nx.draw_networkx_nodes(G2, pos, node_color=y[active].tolist(),\n",
    "                                **node_kwargs)\n",
    "    else:\n",
    "        node_alpha_subset = node_alpha[subset]\n",
    "        assert ((node_alpha_subset >= 0) & (node_alpha_subset <= 1)).all()\n",
    "        nx.draw_networkx_nodes(G2, pos, alpha=node_alpha_subset.tolist(),\n",
    "                                node_color=y.tolist(), **node_kwargs)\n",
    "\n",
    "    nx.draw_networkx_labels(G2, pos, **label_kwargs)\n",
    "\n",
    "    if edge_labels is not None: \n",
    "\n",
    "      edge_labels_sub = {}\n",
    "      for (n1,n2) in G2.edges(): \n",
    "        #print(n1)\n",
    "        edge_labels_sub[(n1, n2)] = edge_labels[(mapping2[n1], mapping2[n2])]\n",
    "      \n",
    "      nx.draw_networkx_edge_labels(\n",
    "      G2, pos,\n",
    "      edge_labels=edge_labels_sub,\n",
    "      font_color='red', \n",
    "      font_size = 10\n",
    "  )\n",
    "\n",
    "    return ax, G2"
   ]
  },
  {
   "attachments": {},
   "cell_type": "markdown",
   "metadata": {},
   "source": [
    "Explanations will be generated"
   ]
  },
  {
   "cell_type": "code",
   "execution_count": 64,
   "metadata": {},
   "outputs": [
    {
     "data": {
      "text/html": [
       "<div>\n",
       "<style scoped>\n",
       "    .dataframe tbody tr th:only-of-type {\n",
       "        vertical-align: middle;\n",
       "    }\n",
       "\n",
       "    .dataframe tbody tr th {\n",
       "        vertical-align: top;\n",
       "    }\n",
       "\n",
       "    .dataframe thead th {\n",
       "        text-align: right;\n",
       "    }\n",
       "</style>\n",
       "<table border=\"1\" class=\"dataframe\">\n",
       "  <thead>\n",
       "    <tr style=\"text-align: right;\">\n",
       "      <th></th>\n",
       "      <th>Node</th>\n",
       "      <th>Embedding</th>\n",
       "    </tr>\n",
       "  </thead>\n",
       "  <tbody>\n",
       "    <tr>\n",
       "      <th>0</th>\n",
       "      <td>0</td>\n",
       "      <td>[0.13517001, -0.25358334, 0.07978077, 0.045121...</td>\n",
       "    </tr>\n",
       "    <tr>\n",
       "      <th>1</th>\n",
       "      <td>1</td>\n",
       "      <td>[0.16805942, -0.8350107, 0.19610697, 0.1981789...</td>\n",
       "    </tr>\n",
       "    <tr>\n",
       "      <th>2</th>\n",
       "      <td>2</td>\n",
       "      <td>[0.2186089, 0.50546986, 0.6193271, 0.0123952, ...</td>\n",
       "    </tr>\n",
       "    <tr>\n",
       "      <th>3</th>\n",
       "      <td>3</td>\n",
       "      <td>[0.29987955, -0.30054563, 0.15258668, 0.367052...</td>\n",
       "    </tr>\n",
       "    <tr>\n",
       "      <th>4</th>\n",
       "      <td>4</td>\n",
       "      <td>[0.1618276, -0.36085665, 0.295463, 0.17283706,...</td>\n",
       "    </tr>\n",
       "    <tr>\n",
       "      <th>...</th>\n",
       "      <td>...</td>\n",
       "      <td>...</td>\n",
       "    </tr>\n",
       "    <tr>\n",
       "      <th>10232</th>\n",
       "      <td>10232</td>\n",
       "      <td>[0.3500288, -1.1846579, 0.15232153, 0.05306821...</td>\n",
       "    </tr>\n",
       "    <tr>\n",
       "      <th>10233</th>\n",
       "      <td>10233</td>\n",
       "      <td>[0.17927206, -0.17169905, -0.12125319, 0.18529...</td>\n",
       "    </tr>\n",
       "    <tr>\n",
       "      <th>10234</th>\n",
       "      <td>10234</td>\n",
       "      <td>[0.24352823, -0.24893956, 0.22431412, 0.153569...</td>\n",
       "    </tr>\n",
       "    <tr>\n",
       "      <th>10235</th>\n",
       "      <td>10235</td>\n",
       "      <td>[0.3218023, -0.7156479, 0.30151767, -0.3144425...</td>\n",
       "    </tr>\n",
       "    <tr>\n",
       "      <th>10236</th>\n",
       "      <td>10236</td>\n",
       "      <td>[0.031928696, 0.004664857, 0.08043143, 0.36100...</td>\n",
       "    </tr>\n",
       "  </tbody>\n",
       "</table>\n",
       "<p>10237 rows × 2 columns</p>\n",
       "</div>"
      ],
      "text/plain": [
       "        Node                                          Embedding\n",
       "0          0  [0.13517001, -0.25358334, 0.07978077, 0.045121...\n",
       "1          1  [0.16805942, -0.8350107, 0.19610697, 0.1981789...\n",
       "2          2  [0.2186089, 0.50546986, 0.6193271, 0.0123952, ...\n",
       "3          3  [0.29987955, -0.30054563, 0.15258668, 0.367052...\n",
       "4          4  [0.1618276, -0.36085665, 0.295463, 0.17283706,...\n",
       "...      ...                                                ...\n",
       "10232  10232  [0.3500288, -1.1846579, 0.15232153, 0.05306821...\n",
       "10233  10233  [0.17927206, -0.17169905, -0.12125319, 0.18529...\n",
       "10234  10234  [0.24352823, -0.24893956, 0.22431412, 0.153569...\n",
       "10235  10235  [0.3218023, -0.7156479, 0.30151767, -0.3144425...\n",
       "10236  10236  [0.031928696, 0.004664857, 0.08043143, 0.36100...\n",
       "\n",
       "[10237 rows x 2 columns]"
      ]
     },
     "execution_count": 64,
     "metadata": {},
     "output_type": "execute_result"
    }
   ],
   "source": [
    "e2v_embedding"
   ]
  },
  {
   "cell_type": "code",
   "execution_count": 65,
   "metadata": {},
   "outputs": [
    {
     "data": {
      "text/html": [
       "<div>\n",
       "<style scoped>\n",
       "    .dataframe tbody tr th:only-of-type {\n",
       "        vertical-align: middle;\n",
       "    }\n",
       "\n",
       "    .dataframe tbody tr th {\n",
       "        vertical-align: top;\n",
       "    }\n",
       "\n",
       "    .dataframe thead th {\n",
       "        text-align: right;\n",
       "    }\n",
       "</style>\n",
       "<table border=\"1\" class=\"dataframe\">\n",
       "  <thead>\n",
       "    <tr style=\"text-align: right;\">\n",
       "      <th></th>\n",
       "      <th>head</th>\n",
       "      <th>label_head</th>\n",
       "      <th>class_head</th>\n",
       "      <th>index_head</th>\n",
       "      <th>relation</th>\n",
       "      <th>tail</th>\n",
       "      <th>label_tail</th>\n",
       "      <th>class_tail</th>\n",
       "      <th>index_tail</th>\n",
       "      <th>type</th>\n",
       "    </tr>\n",
       "  </thead>\n",
       "  <tbody>\n",
       "    <tr>\n",
       "      <th>0</th>\n",
       "      <td>FlyBase:FBgn0011676</td>\n",
       "      <td>Nos</td>\n",
       "      <td>5</td>\n",
       "      <td>9594</td>\n",
       "      <td>in orthology relationship with</td>\n",
       "      <td>ENSEMBL:ENSCAFG00000009820</td>\n",
       "      <td>ENSEMBL:ENSCAFG00000009820</td>\n",
       "      <td>5</td>\n",
       "      <td>7362</td>\n",
       "      <td>0</td>\n",
       "    </tr>\n",
       "    <tr>\n",
       "      <th>1</th>\n",
       "      <td>HGNC:12012</td>\n",
       "      <td>TPM3</td>\n",
       "      <td>5</td>\n",
       "      <td>1813</td>\n",
       "      <td>interacts with</td>\n",
       "      <td>HGNC:11946</td>\n",
       "      <td>TNNI2</td>\n",
       "      <td>5</td>\n",
       "      <td>7360</td>\n",
       "      <td>1</td>\n",
       "    </tr>\n",
       "    <tr>\n",
       "      <th>2</th>\n",
       "      <td>HGNC:15516</td>\n",
       "      <td>XYLT1</td>\n",
       "      <td>5</td>\n",
       "      <td>3228</td>\n",
       "      <td>causes condition</td>\n",
       "      <td>HP:0002650</td>\n",
       "      <td>Scoliosis</td>\n",
       "      <td>8</td>\n",
       "      <td>2102</td>\n",
       "      <td>2</td>\n",
       "    </tr>\n",
       "    <tr>\n",
       "      <th>3</th>\n",
       "      <td>WormBase:WBGene00000065</td>\n",
       "      <td>act-3</td>\n",
       "      <td>5</td>\n",
       "      <td>3272</td>\n",
       "      <td>in orthology relationship with</td>\n",
       "      <td>ENSEMBL:ENSOANG00000007850</td>\n",
       "      <td>ENSEMBL:ENSOANG00000007850</td>\n",
       "      <td>5</td>\n",
       "      <td>2284</td>\n",
       "      <td>0</td>\n",
       "    </tr>\n",
       "    <tr>\n",
       "      <th>4</th>\n",
       "      <td>HGNC:6485</td>\n",
       "      <td>LAMA5</td>\n",
       "      <td>5</td>\n",
       "      <td>4641</td>\n",
       "      <td>interacts with</td>\n",
       "      <td>HGNC:329</td>\n",
       "      <td>AGRN</td>\n",
       "      <td>5</td>\n",
       "      <td>2205</td>\n",
       "      <td>1</td>\n",
       "    </tr>\n",
       "    <tr>\n",
       "      <th>...</th>\n",
       "      <td>...</td>\n",
       "      <td>...</td>\n",
       "      <td>...</td>\n",
       "      <td>...</td>\n",
       "      <td>...</td>\n",
       "      <td>...</td>\n",
       "      <td>...</td>\n",
       "      <td>...</td>\n",
       "      <td>...</td>\n",
       "      <td>...</td>\n",
       "    </tr>\n",
       "    <tr>\n",
       "      <th>85949</th>\n",
       "      <td>dictyBase:DDB_G0276459</td>\n",
       "      <td>pakB</td>\n",
       "      <td>5</td>\n",
       "      <td>3746</td>\n",
       "      <td>in orthology relationship with</td>\n",
       "      <td>WormBase:WBGene00003911</td>\n",
       "      <td>pak-1</td>\n",
       "      <td>5</td>\n",
       "      <td>6906</td>\n",
       "      <td>0</td>\n",
       "    </tr>\n",
       "    <tr>\n",
       "      <th>85950</th>\n",
       "      <td>ZFIN:ZDB-GENE-030113-2</td>\n",
       "      <td>ttn.2</td>\n",
       "      <td>5</td>\n",
       "      <td>6355</td>\n",
       "      <td>causes condition</td>\n",
       "      <td>ZP:0106692</td>\n",
       "      <td>Z disc myocardium disorganized, abnormal</td>\n",
       "      <td>8</td>\n",
       "      <td>6931</td>\n",
       "      <td>2</td>\n",
       "    </tr>\n",
       "    <tr>\n",
       "      <th>85951</th>\n",
       "      <td>ENSEMBL:ENSGALG00000015211</td>\n",
       "      <td>DTNA</td>\n",
       "      <td>5</td>\n",
       "      <td>828</td>\n",
       "      <td>in orthology relationship with</td>\n",
       "      <td>ENSEMBL:ENSECAG00000020912</td>\n",
       "      <td>ENSEMBL:ENSECAG00000020912</td>\n",
       "      <td>5</td>\n",
       "      <td>6757</td>\n",
       "      <td>0</td>\n",
       "    </tr>\n",
       "    <tr>\n",
       "      <th>85952</th>\n",
       "      <td>ENSEMBL:ENSECAG00000000207</td>\n",
       "      <td>ENSEMBL:ENSECAG00000000207</td>\n",
       "      <td>5</td>\n",
       "      <td>8915</td>\n",
       "      <td>in orthology relationship with</td>\n",
       "      <td>WormBase:WBGene00000064</td>\n",
       "      <td>act-2</td>\n",
       "      <td>5</td>\n",
       "      <td>5490</td>\n",
       "      <td>0</td>\n",
       "    </tr>\n",
       "    <tr>\n",
       "      <th>85953</th>\n",
       "      <td>WormBase:WBGene00010776</td>\n",
       "      <td>pix-1</td>\n",
       "      <td>5</td>\n",
       "      <td>4984</td>\n",
       "      <td>in orthology relationship with</td>\n",
       "      <td>ENSEMBL:ENSMMUG00000013138</td>\n",
       "      <td>ENSEMBL:ENSMMUG00000013138</td>\n",
       "      <td>5</td>\n",
       "      <td>1743</td>\n",
       "      <td>0</td>\n",
       "    </tr>\n",
       "  </tbody>\n",
       "</table>\n",
       "<p>85954 rows × 10 columns</p>\n",
       "</div>"
      ],
      "text/plain": [
       "                             head                  label_head  class_head  \\\n",
       "0             FlyBase:FBgn0011676                         Nos           5   \n",
       "1                      HGNC:12012                        TPM3           5   \n",
       "2                      HGNC:15516                       XYLT1           5   \n",
       "3         WormBase:WBGene00000065                       act-3           5   \n",
       "4                       HGNC:6485                       LAMA5           5   \n",
       "...                           ...                         ...         ...   \n",
       "85949      dictyBase:DDB_G0276459                        pakB           5   \n",
       "85950      ZFIN:ZDB-GENE-030113-2                       ttn.2           5   \n",
       "85951  ENSEMBL:ENSGALG00000015211                        DTNA           5   \n",
       "85952  ENSEMBL:ENSECAG00000000207  ENSEMBL:ENSECAG00000000207           5   \n",
       "85953     WormBase:WBGene00010776                       pix-1           5   \n",
       "\n",
       "      index_head                        relation                        tail  \\\n",
       "0           9594  in orthology relationship with  ENSEMBL:ENSCAFG00000009820   \n",
       "1           1813                  interacts with                  HGNC:11946   \n",
       "2           3228                causes condition                  HP:0002650   \n",
       "3           3272  in orthology relationship with  ENSEMBL:ENSOANG00000007850   \n",
       "4           4641                  interacts with                    HGNC:329   \n",
       "...          ...                             ...                         ...   \n",
       "85949       3746  in orthology relationship with     WormBase:WBGene00003911   \n",
       "85950       6355                causes condition                  ZP:0106692   \n",
       "85951        828  in orthology relationship with  ENSEMBL:ENSECAG00000020912   \n",
       "85952       8915  in orthology relationship with     WormBase:WBGene00000064   \n",
       "85953       4984  in orthology relationship with  ENSEMBL:ENSMMUG00000013138   \n",
       "\n",
       "                                     label_tail  class_tail index_tail  type  \n",
       "0                    ENSEMBL:ENSCAFG00000009820           5       7362     0  \n",
       "1                                         TNNI2           5       7360     1  \n",
       "2                                     Scoliosis           8       2102     2  \n",
       "3                    ENSEMBL:ENSOANG00000007850           5       2284     0  \n",
       "4                                          AGRN           5       2205     1  \n",
       "...                                         ...         ...        ...   ...  \n",
       "85949                                     pak-1           5       6906     0  \n",
       "85950  Z disc myocardium disorganized, abnormal           8       6931     2  \n",
       "85951                ENSEMBL:ENSECAG00000020912           5       6757     0  \n",
       "85952                                     act-2           5       5490     0  \n",
       "85953                ENSEMBL:ENSMMUG00000013138           5       1743     0  \n",
       "\n",
       "[85954 rows x 10 columns]"
      ]
     },
     "execution_count": 65,
     "metadata": {},
     "output_type": "execute_result"
    }
   ],
   "source": [
    "edge2vec_df"
   ]
  },
  {
   "cell_type": "code",
   "execution_count": 66,
   "metadata": {},
   "outputs": [
    {
     "name": "stdout",
     "output_type": "stream",
     "text": [
      "(0, {'node_feature': tensor([ 0.1352, -0.2536,  0.0798,  0.0451,  0.0747, -0.2546, -0.0705, -0.0646,\n",
      "        -0.2445, -0.0202,  0.0493, -0.1636, -0.0623, -0.0508,  0.0288,  0.2002,\n",
      "        -0.1173, -0.0943, -0.0744,  0.1843,  0.2936,  0.1871,  0.0121, -0.1656,\n",
      "        -0.0181,  0.1075, -0.2460, -0.0466,  0.0871,  0.0957,  0.0087,  0.0946,\n",
      "         0.0594, -0.0770, -0.0258,  0.0603, -0.0336, -0.0642,  0.0645,  0.0790,\n",
      "        -0.0484, -0.0365, -0.0421,  0.0775,  0.1667, -0.0309,  0.0096, -0.1305,\n",
      "        -0.0259,  0.1215,  0.0949,  0.0348,  0.1015,  0.1412,  0.0737,  0.0777,\n",
      "         0.0288, -0.0531, -0.1087,  0.0693, -0.1133, -0.0443, -0.0622, -0.0670])})\n",
      "(0, 5535, {'edge_label': 'causes condition'})\n",
      "Number of edges is 54994\n",
      "Number of nodes is 10237\n"
     ]
    }
   ],
   "source": [
    "G = nx.Graph()\n",
    "\n",
    "for ind, node in e2v_embedding.iterrows():\n",
    "    G.add_node(int(node['Node']), node_feature=torch.Tensor(node['Embedding']))\n",
    "for ind, edge in edge2vec_df.iterrows(): \n",
    "  G.add_edge(int(edge['index_head']), int(edge['index_tail']), edge_label = edge['relation'])\n",
    "  \n",
    "for node in G.nodes(data=True):\n",
    "    print(node)\n",
    "    break\n",
    "for edge in G.edges(data=True):\n",
    "    print(edge)\n",
    "    break\n",
    "\n",
    "print(\"Number of edges is {}\".format(G.number_of_edges()))\n",
    "print(\"Number of nodes is {}\".format(G.number_of_nodes()))"
   ]
  },
  {
   "attachments": {},
   "cell_type": "markdown",
   "metadata": {},
   "source": [
    "Obtain predictions for links between node HP:0003560 with any drug node."
   ]
  },
  {
   "cell_type": "code",
   "execution_count": 67,
   "metadata": {},
   "outputs": [
    {
     "data": {
      "text/html": [
       "<div>\n",
       "<style scoped>\n",
       "    .dataframe tbody tr th:only-of-type {\n",
       "        vertical-align: middle;\n",
       "    }\n",
       "\n",
       "    .dataframe tbody tr th {\n",
       "        vertical-align: top;\n",
       "    }\n",
       "\n",
       "    .dataframe thead th {\n",
       "        text-align: right;\n",
       "    }\n",
       "</style>\n",
       "<table border=\"1\" class=\"dataframe\">\n",
       "  <thead>\n",
       "    <tr style=\"text-align: right;\">\n",
       "      <th></th>\n",
       "      <th>id</th>\n",
       "      <th>semantic</th>\n",
       "      <th>label</th>\n",
       "      <th>semantic_id</th>\n",
       "      <th>Score</th>\n",
       "    </tr>\n",
       "  </thead>\n",
       "  <tbody>\n",
       "    <tr>\n",
       "      <th>10137</th>\n",
       "      <td>522</td>\n",
       "      <td>drug</td>\n",
       "      <td>carvedilol</td>\n",
       "      <td>4</td>\n",
       "      <td>[0.9437079]</td>\n",
       "    </tr>\n",
       "    <tr>\n",
       "      <th>7572</th>\n",
       "      <td>1576</td>\n",
       "      <td>drug</td>\n",
       "      <td>levosimendan</td>\n",
       "      <td>4</td>\n",
       "      <td>[0.94072086]</td>\n",
       "    </tr>\n",
       "    <tr>\n",
       "      <th>1881</th>\n",
       "      <td>231</td>\n",
       "      <td>drug</td>\n",
       "      <td>aprindine</td>\n",
       "      <td>4</td>\n",
       "      <td>[0.8937863]</td>\n",
       "    </tr>\n",
       "    <tr>\n",
       "      <th>3755</th>\n",
       "      <td>926</td>\n",
       "      <td>drug</td>\n",
       "      <td>disopyramide</td>\n",
       "      <td>4</td>\n",
       "      <td>[0.8792722]</td>\n",
       "    </tr>\n",
       "    <tr>\n",
       "      <th>2278</th>\n",
       "      <td>1423</td>\n",
       "      <td>drug</td>\n",
       "      <td>imatinib</td>\n",
       "      <td>4</td>\n",
       "      <td>[0.8492114]</td>\n",
       "    </tr>\n",
       "    <tr>\n",
       "      <th>5414</th>\n",
       "      <td>629</td>\n",
       "      <td>drug</td>\n",
       "      <td>cianidanol</td>\n",
       "      <td>4</td>\n",
       "      <td>[0.8442495]</td>\n",
       "    </tr>\n",
       "    <tr>\n",
       "      <th>6018</th>\n",
       "      <td>186</td>\n",
       "      <td>drug</td>\n",
       "      <td>amodiaquine</td>\n",
       "      <td>4</td>\n",
       "      <td>[0.831501]</td>\n",
       "    </tr>\n",
       "    <tr>\n",
       "      <th>4345</th>\n",
       "      <td>3514</td>\n",
       "      <td>drug</td>\n",
       "      <td>quercetin</td>\n",
       "      <td>4</td>\n",
       "      <td>[0.83051103]</td>\n",
       "    </tr>\n",
       "    <tr>\n",
       "      <th>2658</th>\n",
       "      <td>4285</td>\n",
       "      <td>drug</td>\n",
       "      <td>Florbetapir F-18</td>\n",
       "      <td>4</td>\n",
       "      <td>[0.81454134]</td>\n",
       "    </tr>\n",
       "    <tr>\n",
       "      <th>9585</th>\n",
       "      <td>2835</td>\n",
       "      <td>drug</td>\n",
       "      <td>nicotinic acid</td>\n",
       "      <td>4</td>\n",
       "      <td>[0.80421597]</td>\n",
       "    </tr>\n",
       "    <tr>\n",
       "      <th>8188</th>\n",
       "      <td>1763</td>\n",
       "      <td>drug</td>\n",
       "      <td>methylthioninium chloride</td>\n",
       "      <td>4</td>\n",
       "      <td>[0.80362576]</td>\n",
       "    </tr>\n",
       "    <tr>\n",
       "      <th>3135</th>\n",
       "      <td>1795</td>\n",
       "      <td>drug</td>\n",
       "      <td>mezlocillin</td>\n",
       "      <td>4</td>\n",
       "      <td>[0.80025756]</td>\n",
       "    </tr>\n",
       "    <tr>\n",
       "      <th>2396</th>\n",
       "      <td>4301</td>\n",
       "      <td>drug</td>\n",
       "      <td>Flutemetamol (18F)</td>\n",
       "      <td>4</td>\n",
       "      <td>[0.7716936]</td>\n",
       "    </tr>\n",
       "    <tr>\n",
       "      <th>10039</th>\n",
       "      <td>2459</td>\n",
       "      <td>drug</td>\n",
       "      <td>sorafenib</td>\n",
       "      <td>4</td>\n",
       "      <td>[0.76385933]</td>\n",
       "    </tr>\n",
       "    <tr>\n",
       "      <th>3415</th>\n",
       "      <td>4225</td>\n",
       "      <td>drug</td>\n",
       "      <td>axitinib</td>\n",
       "      <td>4</td>\n",
       "      <td>[0.7554343]</td>\n",
       "    </tr>\n",
       "    <tr>\n",
       "      <th>5354</th>\n",
       "      <td>4716</td>\n",
       "      <td>drug</td>\n",
       "      <td>ponatinib</td>\n",
       "      <td>4</td>\n",
       "      <td>[0.75174946]</td>\n",
       "    </tr>\n",
       "    <tr>\n",
       "      <th>3183</th>\n",
       "      <td>4818</td>\n",
       "      <td>drug</td>\n",
       "      <td>florbetaben F18</td>\n",
       "      <td>4</td>\n",
       "      <td>[0.74735683]</td>\n",
       "    </tr>\n",
       "    <tr>\n",
       "      <th>8358</th>\n",
       "      <td>2745</td>\n",
       "      <td>drug</td>\n",
       "      <td>trihexyphenidyl</td>\n",
       "      <td>4</td>\n",
       "      <td>[0.74547875]</td>\n",
       "    </tr>\n",
       "    <tr>\n",
       "      <th>8922</th>\n",
       "      <td>1057</td>\n",
       "      <td>drug</td>\n",
       "      <td>estradiol</td>\n",
       "      <td>4</td>\n",
       "      <td>[0.74015164]</td>\n",
       "    </tr>\n",
       "    <tr>\n",
       "      <th>5806</th>\n",
       "      <td>2173</td>\n",
       "      <td>drug</td>\n",
       "      <td>pinacidil</td>\n",
       "      <td>4</td>\n",
       "      <td>[0.7396917]</td>\n",
       "    </tr>\n",
       "  </tbody>\n",
       "</table>\n",
       "</div>"
      ],
      "text/plain": [
       "         id semantic                      label  semantic_id         Score\n",
       "10137   522     drug                 carvedilol            4   [0.9437079]\n",
       "7572   1576     drug               levosimendan            4  [0.94072086]\n",
       "1881    231     drug                  aprindine            4   [0.8937863]\n",
       "3755    926     drug               disopyramide            4   [0.8792722]\n",
       "2278   1423     drug                   imatinib            4   [0.8492114]\n",
       "5414    629     drug                 cianidanol            4   [0.8442495]\n",
       "6018    186     drug                amodiaquine            4    [0.831501]\n",
       "4345   3514     drug                  quercetin            4  [0.83051103]\n",
       "2658   4285     drug           Florbetapir F-18            4  [0.81454134]\n",
       "9585   2835     drug             nicotinic acid            4  [0.80421597]\n",
       "8188   1763     drug  methylthioninium chloride            4  [0.80362576]\n",
       "3135   1795     drug                mezlocillin            4  [0.80025756]\n",
       "2396   4301     drug         Flutemetamol (18F)            4   [0.7716936]\n",
       "10039  2459     drug                  sorafenib            4  [0.76385933]\n",
       "3415   4225     drug                   axitinib            4   [0.7554343]\n",
       "5354   4716     drug                  ponatinib            4  [0.75174946]\n",
       "3183   4818     drug            florbetaben F18            4  [0.74735683]\n",
       "8358   2745     drug            trihexyphenidyl            4  [0.74547875]\n",
       "8922   1057     drug                  estradiol            4  [0.74015164]\n",
       "5806   2173     drug                  pinacidil            4   [0.7396917]"
      ]
     },
     "execution_count": 67,
     "metadata": {},
     "output_type": "execute_result"
    }
   ],
   "source": [
    "predictions = candidates(nodes, 'HP:0003560', best_x)\n",
    "predictions[predictions['semantic'] == 'drug'].sort_values(by = ['Score'], ascending = False).head(20)"
   ]
  },
  {
   "attachments": {},
   "cell_type": "markdown",
   "metadata": {},
   "source": [
    "Obtain the indices of the nodes of interest."
   ]
  },
  {
   "cell_type": "code",
   "execution_count": 82,
   "metadata": {},
   "outputs": [
    {
     "name": "stdout",
     "output_type": "stream",
     "text": [
      "node1:\n",
      "             id   semantic               label  semantic_id\n",
      "184  HP:0003560  phenotype  Muscular dystrophy            8\n",
      "node2:\n",
      "        id semantic       label  semantic_id\n",
      "10137  522     drug  carvedilol            4\n"
     ]
    }
   ],
   "source": [
    "def get_node_idx(id, nodes): \n",
    "    return nodes[nodes['id'] == id].index.values.astype(int)[0]\n",
    "\n",
    "node_idx1 = get_node_idx('HP:0003560', nodes)\n",
    "print('node1:')\n",
    "print(nodes.loc[[node_idx1]])\n",
    "\n",
    "node_idx2 = get_node_idx('522', nodes)\n",
    "print('node2:')\n",
    "print(nodes.loc[[node_idx2]])"
   ]
  },
  {
   "attachments": {},
   "cell_type": "markdown",
   "metadata": {},
   "source": [
    "Obtain the embedding features per node."
   ]
  },
  {
   "cell_type": "code",
   "execution_count": 83,
   "metadata": {},
   "outputs": [
    {
     "name": "stdout",
     "output_type": "stream",
     "text": [
      "torch.Size([10237, 64])\n"
     ]
    }
   ],
   "source": [
    "x = torch.Tensor(e2v_embedding['Embedding'])\n",
    "print(x.shape)"
   ]
  },
  {
   "attachments": {},
   "cell_type": "markdown",
   "metadata": {},
   "source": [
    "Obtain the indices of the head and tail nodes per edge."
   ]
  },
  {
   "cell_type": "code",
   "execution_count": 84,
   "metadata": {},
   "outputs": [
    {
     "name": "stdout",
     "output_type": "stream",
     "text": [
      "torch.Size([2, 54994])\n",
      "torch.LongTensor\n"
     ]
    }
   ],
   "source": [
    "edge_index = torch.Tensor(np.array(G.edges).transpose()).type(torch.int64).long()\n",
    "print(edge_index.shape)\n",
    "print(edge_index.type())"
   ]
  },
  {
   "cell_type": "code",
   "execution_count": 97,
   "metadata": {},
   "outputs": [
    {
     "name": "stderr",
     "output_type": "stream",
     "text": [
      "Explain node 184: 100%|██████████| 700/700 [00:01<00:00, 475.10it/s]\n"
     ]
    },
    {
     "name": "stdout",
     "output_type": "stream",
     "text": [
      "Explanation found!\n"
     ]
    }
   ],
   "source": [
    "explainer = GNNExplainer(best_model, epochs=700, num_hops=2, lr=0.01)\n",
    "\n",
    "edge_list = []\n",
    "trigger = False\n",
    "early_stop = 0\n",
    "size = 15   # change size of the explanation graph\n",
    "iterations = 10 # number of times GNNExplainer is executed\n",
    "\n",
    "while not trigger:\n",
    "    node_feat_mask, edge_mask = explainer.explain_link(node_idx1=node_idx1, node_idx2=node_idx2, x=x, edge_index=edge_index, G=G)\n",
    "\n",
    "    G2 = copy.deepcopy(G)\n",
    "    \n",
    "    if size is not None: \n",
    "        limit = edge_mask.sort(descending = True)[0][size]\n",
    "    else: \n",
    "        limit = 0.5\n",
    "\n",
    "    for indx, edge in enumerate(G.edges): \n",
    "        if edge_mask[indx] < limit:\n",
    "            G2.remove_edge(edge[0], edge[1])\n",
    "\n",
    "    trigger = nx.has_path(G2, node_idx1, node_idx2)\n",
    "    early_stop += 1\n",
    "    \n",
    "    if early_stop == iterations and not trigger:\n",
    "        print('No good explanation found after {} iterations'.format(early_stop))\n",
    "        trigger = True\n",
    "    elif trigger: \n",
    "        print('Explanation found!')"
   ]
  },
  {
   "cell_type": "code",
   "execution_count": 98,
   "metadata": {},
   "outputs": [],
   "source": [
    "edge_labels_dict = dict([((n1, n2), G.edges[(n1,n2)]['edge_label']) for n1, n2 in G.edges])"
   ]
  },
  {
   "cell_type": "code",
   "execution_count": 105,
   "metadata": {},
   "outputs": [
    {
     "name": "stdout",
     "output_type": "stream",
     "text": [
      "Number of edges is 54994\n",
      "Number of nodes is 10237\n",
      "True\n"
     ]
    }
   ],
   "source": [
    "print(\"Number of edges is {}\".format(G.number_of_edges()))\n",
    "print(\"Number of nodes is {}\".format(G.number_of_nodes()))\n"
   ]
  },
  {
   "cell_type": "code",
   "execution_count": 103,
   "metadata": {},
   "outputs": [
    {
     "data": {
      "image/png": "[encoded data removed]",
      "text/plain": [
       "<Figure size 1000x1000 with 1 Axes>"
      ]
     },
     "metadata": {},
     "output_type": "display_data"
    }
   ],
   "source": [
    "plt.figure(figsize=(10, 10))\n",
    "ax, G_sub = visualize_subgraph([node_idx1, node_idx2], \n",
    "                               edge_index, edge_mask, nodes=nodes, y=torch.Tensor(nodes.semantic_id), \n",
    "                               seed = 667, num_hops = 2, threshold=limit, node_label = 'label', edge_labels = edge_labels_dict, show_inactive = False, remove_unconnected = True)\n"
   ]
  }
 ],
 "metadata": {
  "kernelspec": {
   "display_name": "xaifo",
   "language": "python",
   "name": "python3"
  },
  "language_info": {
   "codemirror_mode": {
    "name": "ipython",
    "version": 3
   },
   "file_extension": ".py",
   "mimetype": "text/x-python",
   "name": "python",
   "nbconvert_exporter": "python",
   "pygments_lexer": "ipython3",
   "version": "3.10.11"
  },
  "orig_nbformat": 4
 },
 "nbformat": 4,
 "nbformat_minor": 2
}
