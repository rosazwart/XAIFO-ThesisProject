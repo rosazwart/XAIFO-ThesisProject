{
 "cells": [
  {
   "attachments": {},
   "cell_type": "markdown",
   "metadata": {},
   "source": [
    "Adapted by Rosa Zwart from Jupyter Notebooks found at https://github.com/PPerdomoQ/rare-disease-explainer"
   ]
  },
  {
   "attachments": {},
   "cell_type": "markdown",
   "metadata": {},
   "source": [
    "# Import Libraries"
   ]
  },
  {
   "attachments": {},
   "cell_type": "markdown",
   "metadata": {},
   "source": [
    "Package                       Version\n",
    "----------------------------- ----------\n",
    "aiosignal                     1.3.1\n",
    "anyio                         3.6.2\n",
    "argon2-cffi                   21.3.0\n",
    "argon2-cffi-bindings          21.2.0\n",
    "arrow                         1.2.3\n",
    "asttokens                     2.2.1\n",
    "attrs                         22.2.0\n",
    "backcall                      0.2.0\n",
    "backports.functools-lru-cache 1.6.4\n",
    "beautifulsoup4                4.12.2\n",
    "bleach                        6.0.0\n",
    "certifi                       2023.5.7\n",
    "cffi                          1.15.1\n",
    "charset-normalizer            3.1.0\n",
    "click                         8.1.3\n",
    "colorama                      0.4.6\n",
    "comm                          0.1.3\n",
    "contourpy                     1.0.7\n",
    "cycler                        0.11.0\n",
    "debugpy                       1.6.6\n",
    "decorator                     5.1.1\n",
    "deepsnap                      0.2.1\n",
    "defusedxml                    0.7.1\n",
    "distlib                       0.3.6\n",
    "executing                     1.2.0\n",
    "fastjsonschema                2.16.3\n",
    "filelock                      3.12.0\n",
    "fonttools                     4.39.3\n",
    "fqdn                          1.5.1\n",
    "frozenlist                    1.3.3\n",
    "gensim                        4.3.1\n",
    "grpcio                        1.54.0\n",
    "idna                          3.4\n",
    "importlib-metadata            6.6.0\n",
    "ipykernel                     6.20.2\n",
    "ipython                       8.13.2\n",
    "ipython-genutils              0.2.0\n",
    "ipywidgets                    8.0.6\n",
    "isoduration                   20.11.0\n",
    "jedi                          0.18.2\n",
    "Jinja2                        3.1.2\n",
    "joblib                        1.2.0\n",
    "jsonpointer                   2.3\n",
    "jsonschema                    4.17.3\n",
    "jupyter                       1.0.0\n",
    "jupyter_client                8.2.0\n",
    "jupyter-console               6.6.3\n",
    "jupyter_core                  5.3.0\n",
    "jupyter-events                0.6.3\n",
    "jupyter_server                2.5.0\n",
    "jupyter_server_terminals      0.4.4\n",
    "jupyterlab-pygments           0.2.2\n",
    "jupyterlab-widgets            3.0.7\n",
    "kiwisolver                    1.4.4\n",
    "MarkupSafe                    2.1.2\n",
    "matplotlib                    3.7.1\n",
    "matplotlib-inline             0.1.6\n",
    "mistune                       2.0.5\n",
    "msgpack                       1.0.5\n",
    "nbclassic                     1.0.0\n",
    "nbclient                      0.7.4\n",
    "nbconvert                     7.4.0\n",
    "nbformat                      5.8.0\n",
    "nest-asyncio                  1.5.6\n",
    "networkx                      3.0\n",
    "notebook                      6.5.4\n",
    "notebook_shim                 0.2.3\n",
    "numpy                         1.24.3\n",
    "packaging                     23.1\n",
    "pandas                        1.3.5\n",
    "pandocfilters                 1.5.0\n",
    "parso                         0.8.3\n",
    "pickleshare                   0.7.5\n",
    "Pillow                        9.5.0\n",
    "pip                           23.1.2\n",
    "platformdirs                  3.5.0\n",
    "prometheus-client             0.16.0\n",
    "prompt-toolkit                3.0.38\n",
    "protobuf                      4.23.0\n",
    "psutil                        5.9.1\n",
    "pure-eval                     0.2.2\n",
    "pycparser                     2.21\n",
    "Pygments                      2.15.1\n",
    "pyparsing                     3.0.9\n",
    "pyrsistent                    0.19.3\n",
    "python-dateutil               2.8.2\n",
    "python-json-logger            2.0.7\n",
    "pytz                          2023.3\n",
    "pywin32                       303\n",
    "pywinpty                      2.0.10\n",
    "PyYAML                        6.0\n",
    "pyzmq                         25.0.2\n",
    "qtconsole                     5.4.3\n",
    "QtPy                          2.3.1\n",
    "ray                           2.3.1\n",
    "requests                      2.30.0\n",
    "rfc3339-validator             0.1.4\n",
    "rfc3986-validator             0.1.1\n",
    "scikit-learn                  1.2.2\n",
    "scipy                         1.10.1\n",
    "Send2Trash                    1.8.2\n",
    "setuptools                    66.0.0\n",
    "six                           1.16.0\n",
    "smart-open                    6.3.0\n",
    "sniffio                       1.3.0\n",
    "soupsieve                     2.4.1\n",
    "stack-data                    0.6.2\n",
    "tabulate                      0.9.0\n",
    "terminado                     0.17.1\n",
    "threadpoolctl                 3.1.0\n",
    "tinycss2                      1.2.1\n",
    "torch                         1.11.0+cpu\n",
    "torch-cluster                 1.6.0\n",
    "torch-geometric               2.0.4\n",
    "torch-scatter                 2.0.9\n",
    "torch-sparse                  0.6.13\n",
    "torch-spline-conv             1.2.2\n",
    "torchaudio                    0.11.0+cpu\n",
    "torchvision                   0.12.0+cpu\n",
    "tornado                       6.2\n",
    "tqdm                          4.65.0\n",
    "traitlets                     5.9.0\n",
    "typing_extensions             4.5.0\n",
    "tzdata                        2023.3\n",
    "uri-template                  1.2.0\n",
    "urllib3                       2.0.2\n",
    "virtualenv                    20.23.0\n",
    "wcwidth                       0.2.6\n",
    "webcolors                     1.13\n",
    "webencodings                  0.5.1\n",
    "websocket-client              1.5.1\n",
    "wheel                         0.38.4\n",
    "widgetsnbextension            4.0.7\n",
    "zipp                          3.15.0"
   ]
  },
  {
   "cell_type": "code",
   "execution_count": 1,
   "metadata": {},
   "outputs": [],
   "source": [
    "import os\n",
    "import pandas as pd\n",
    "import numpy as np\n",
    "import networkx as nx\n",
    "import pickle\n",
    "\n",
    "from gnn.linkpred_model import LinkPredModel, train, test\n",
    "\n",
    "import torch\n",
    "from torch.utils.data import DataLoader\n",
    "\n",
    "from deepsnap.dataset import GraphDataset\n",
    "from deepsnap.batch import Batch\n",
    "from deepsnap.graph import Graph\n",
    "\n",
    "from sklearn.metrics import roc_auc_score, roc_curve, f1_score, classification_report, confusion_matrix\n",
    "import matplotlib.pyplot as plt\n",
    "\n",
    "from gensim.models import KeyedVectors\n",
    "\n",
    "from sklearn.preprocessing import StandardScaler\n",
    "from sklearn.decomposition import PCA\n",
    "from sklearn.manifold import TSNE"
   ]
  },
  {
   "cell_type": "code",
   "execution_count": 2,
   "metadata": {},
   "outputs": [
    {
     "name": "stdout",
     "output_type": "stream",
     "text": [
      "Using device: cpu\n"
     ]
    }
   ],
   "source": [
    "torch_device = torch.device('cuda' if torch.cuda.is_available() else 'cpu')\n",
    "print('Using device:', torch_device)"
   ]
  },
  {
   "cell_type": "markdown",
   "metadata": {},
   "source": [
    "# Set Parameters"
   ]
  },
  {
   "attachments": {},
   "cell_type": "markdown",
   "metadata": {},
   "source": [
    "Specify which dataset is used, 1 (original knowledge graph) or 2 (restructured knowledge graph)"
   ]
  },
  {
   "cell_type": "code",
   "execution_count": 3,
   "metadata": {},
   "outputs": [],
   "source": [
    "dataset_nr = 1\n",
    "assert dataset_nr == 1 or 2\n",
    "\n",
    "embedding_method = 'e2v'\n",
    "assert embedding_method == 'e2v' or 'm2v'"
   ]
  },
  {
   "cell_type": "markdown",
   "metadata": {},
   "source": [
    "# Set Folder"
   ]
  },
  {
   "cell_type": "code",
   "execution_count": 40,
   "metadata": {},
   "outputs": [
    {
     "name": "stdout",
     "output_type": "stream",
     "text": [
      "Output folder for dataset 1 exists and will be used: c:\\Users\\rosa-\\Google Drive\\Msc_Bioinformatics\\thesis\\XAIFO-ThesisProject\\output\\g1_e2v\n",
      "Output folder for predictions from dataset 1 already exists and will be used: c:\\Users\\rosa-\\Google Drive\\Msc_Bioinformatics\\thesis\\XAIFO-ThesisProject\\output\\g1_e2v\\run_001\\pred\n"
     ]
    }
   ],
   "source": [
    "curr_working_dir = os.getcwd()\n",
    "curr_output_dir = os.path.join(curr_working_dir, 'output')\n",
    "dataset_output_dir = os.path.join(curr_output_dir, f'g{dataset_nr}_{embedding_method}')\n",
    "\n",
    "if not os.path.exists(dataset_output_dir):\n",
    "    print('First, run the edge2vec embedding script. Then, run this script.')\n",
    "else:\n",
    "    print(f'Output folder for dataset {dataset_nr} exists and will be used: {dataset_output_dir}')\n",
    "    \n",
    "run_folders_list = []\n",
    "for item in os.listdir(dataset_output_dir):\n",
    "    curr_path = os.path.join(dataset_output_dir, item)\n",
    "    if os.path.isdir(curr_path) and 'run' in item:\n",
    "        run_folders_list.append(item)\n",
    "        \n",
    "if len(run_folders_list) > 0:\n",
    "    run_folders_list.sort(reverse=True)\n",
    "    latest_run = run_folders_list[0]\n",
    "    \n",
    "    run_dir = os.path.join(dataset_output_dir, latest_run)\n",
    "    \n",
    "    pred_output_dir = os.path.join(run_dir, 'pred')\n",
    "    if not os.path.exists(pred_output_dir):\n",
    "        os.mkdir(pred_output_dir)\n",
    "        print(f'Output folder for predictions from dataset {dataset_nr} is created: {pred_output_dir}')\n",
    "    else:\n",
    "        print(f'Output folder for predictions from dataset {dataset_nr} already exists and will be used: {pred_output_dir}')\n",
    "    \n",
    "else:\n",
    "    print('First, run the edge2vec embedding script. Then, run this script.')"
   ]
  },
  {
   "cell_type": "code",
   "execution_count": 42,
   "metadata": {},
   "outputs": [
    {
     "data": {
      "text/plain": [
       "'c:\\\\Users\\\\rosa-\\\\Google Drive\\\\Msc_Bioinformatics\\\\thesis\\\\XAIFO-ThesisProject\\\\output\\\\g1_e2v\\\\run_001'"
      ]
     },
     "execution_count": 42,
     "metadata": {},
     "output_type": "execute_result"
    }
   ],
   "source": [
    "run_dir"
   ]
  },
  {
   "attachments": {},
   "cell_type": "markdown",
   "metadata": {},
   "source": [
    "# Load Data"
   ]
  },
  {
   "cell_type": "markdown",
   "metadata": {},
   "source": [
    "Load all nodes"
   ]
  },
  {
   "cell_type": "code",
   "execution_count": 12,
   "metadata": {},
   "outputs": [
    {
     "data": {
      "text/html": [
       "<div>\n",
       "<style scoped>\n",
       "    .dataframe tbody tr th:only-of-type {\n",
       "        vertical-align: middle;\n",
       "    }\n",
       "\n",
       "    .dataframe tbody tr th {\n",
       "        vertical-align: top;\n",
       "    }\n",
       "\n",
       "    .dataframe thead th {\n",
       "        text-align: right;\n",
       "    }\n",
       "</style>\n",
       "<table border=\"1\" class=\"dataframe\">\n",
       "  <thead>\n",
       "    <tr style=\"text-align: right;\">\n",
       "      <th></th>\n",
       "      <th>id</th>\n",
       "      <th>semantic</th>\n",
       "      <th>label</th>\n",
       "      <th>semantic_id</th>\n",
       "    </tr>\n",
       "  </thead>\n",
       "  <tbody>\n",
       "    <tr>\n",
       "      <th>0</th>\n",
       "      <td>WormBase:WBGene00000389</td>\n",
       "      <td>ORTH</td>\n",
       "      <td>cdc-25.4</td>\n",
       "      <td>5</td>\n",
       "    </tr>\n",
       "    <tr>\n",
       "      <th>1</th>\n",
       "      <td>ZP:0018675</td>\n",
       "      <td>DISO</td>\n",
       "      <td>right side lateral plate mesoderm mislocalised...</td>\n",
       "      <td>1</td>\n",
       "    </tr>\n",
       "    <tr>\n",
       "      <th>2</th>\n",
       "      <td>ZFIN:ZDB-GENE-040426-1197</td>\n",
       "      <td>ORTH</td>\n",
       "      <td>tbc1d5</td>\n",
       "      <td>5</td>\n",
       "    </tr>\n",
       "    <tr>\n",
       "      <th>3</th>\n",
       "      <td>5</td>\n",
       "      <td>DRUG</td>\n",
       "      <td>(S)-nicardipine</td>\n",
       "      <td>2</td>\n",
       "    </tr>\n",
       "    <tr>\n",
       "      <th>4</th>\n",
       "      <td>RGD:3443</td>\n",
       "      <td>ORTH</td>\n",
       "      <td>Ptk2</td>\n",
       "      <td>5</td>\n",
       "    </tr>\n",
       "    <tr>\n",
       "      <th>...</th>\n",
       "      <td>...</td>\n",
       "      <td>...</td>\n",
       "      <td>...</td>\n",
       "      <td>...</td>\n",
       "    </tr>\n",
       "    <tr>\n",
       "      <th>10029</th>\n",
       "      <td>MP:0009763</td>\n",
       "      <td>DISO</td>\n",
       "      <td>increased sensitivity to induced morbidity/mor...</td>\n",
       "      <td>1</td>\n",
       "    </tr>\n",
       "    <tr>\n",
       "      <th>10030</th>\n",
       "      <td>MP:0011057</td>\n",
       "      <td>DISO</td>\n",
       "      <td>absent brain ependyma motile cilia</td>\n",
       "      <td>1</td>\n",
       "    </tr>\n",
       "    <tr>\n",
       "      <th>10031</th>\n",
       "      <td>MP:0001412</td>\n",
       "      <td>DISO</td>\n",
       "      <td>excessive scratching</td>\n",
       "      <td>1</td>\n",
       "    </tr>\n",
       "    <tr>\n",
       "      <th>10032</th>\n",
       "      <td>WBPhenotype:0004023</td>\n",
       "      <td>DISO</td>\n",
       "      <td>frequency of body bend variant</td>\n",
       "      <td>1</td>\n",
       "    </tr>\n",
       "    <tr>\n",
       "      <th>10033</th>\n",
       "      <td>ClinVarVariant:858516</td>\n",
       "      <td>VARI</td>\n",
       "      <td>NM_004006.3(DMD):c.9852G&gt;A (p.Trp3284Ter)</td>\n",
       "      <td>7</td>\n",
       "    </tr>\n",
       "  </tbody>\n",
       "</table>\n",
       "<p>10034 rows × 4 columns</p>\n",
       "</div>"
      ],
      "text/plain": [
       "                              id semantic  \\\n",
       "0        WormBase:WBGene00000389     ORTH   \n",
       "1                     ZP:0018675     DISO   \n",
       "2      ZFIN:ZDB-GENE-040426-1197     ORTH   \n",
       "3                              5     DRUG   \n",
       "4                       RGD:3443     ORTH   \n",
       "...                          ...      ...   \n",
       "10029                 MP:0009763     DISO   \n",
       "10030                 MP:0011057     DISO   \n",
       "10031                 MP:0001412     DISO   \n",
       "10032        WBPhenotype:0004023     DISO   \n",
       "10033      ClinVarVariant:858516     VARI   \n",
       "\n",
       "                                                   label  semantic_id  \n",
       "0                                               cdc-25.4            5  \n",
       "1      right side lateral plate mesoderm mislocalised...            1  \n",
       "2                                                 tbc1d5            5  \n",
       "3                                        (S)-nicardipine            2  \n",
       "4                                                   Ptk2            5  \n",
       "...                                                  ...          ...  \n",
       "10029  increased sensitivity to induced morbidity/mor...            1  \n",
       "10030                 absent brain ependyma motile cilia            1  \n",
       "10031                               excessive scratching            1  \n",
       "10032                     frequency of body bend variant            1  \n",
       "10033          NM_004006.3(DMD):c.9852G>A (p.Trp3284Ter)            7  \n",
       "\n",
       "[10034 rows x 4 columns]"
      ]
     },
     "execution_count": 12,
     "metadata": {},
     "output_type": "execute_result"
    }
   ],
   "source": [
    "nodes = pd.read_csv(f'output/indexed_nodes_{dataset_nr}.csv')\n",
    "nodes.drop('index_id', axis=1, inplace=True)\n",
    "nodes['semantic'] = nodes['semantic'].astype('category')\n",
    "nodes"
   ]
  },
  {
   "cell_type": "code",
   "execution_count": 13,
   "metadata": {},
   "outputs": [
    {
     "data": {
      "text/html": [
       "<div>\n",
       "<style scoped>\n",
       "    .dataframe tbody tr th:only-of-type {\n",
       "        vertical-align: middle;\n",
       "    }\n",
       "\n",
       "    .dataframe tbody tr th {\n",
       "        vertical-align: top;\n",
       "    }\n",
       "\n",
       "    .dataframe thead th {\n",
       "        text-align: right;\n",
       "    }\n",
       "</style>\n",
       "<table border=\"1\" class=\"dataframe\">\n",
       "  <thead>\n",
       "    <tr style=\"text-align: right;\">\n",
       "      <th></th>\n",
       "      <th>id</th>\n",
       "      <th>semantic</th>\n",
       "      <th>label</th>\n",
       "      <th>semantic_id</th>\n",
       "    </tr>\n",
       "  </thead>\n",
       "  <tbody>\n",
       "    <tr>\n",
       "      <th>1320</th>\n",
       "      <td>HGNC:685</td>\n",
       "      <td>GENE</td>\n",
       "      <td>ARHGEF6</td>\n",
       "      <td>3</td>\n",
       "    </tr>\n",
       "  </tbody>\n",
       "</table>\n",
       "</div>"
      ],
      "text/plain": [
       "            id semantic    label  semantic_id\n",
       "1320  HGNC:685     GENE  ARHGEF6            3"
      ]
     },
     "execution_count": 13,
     "metadata": {},
     "output_type": "execute_result"
    }
   ],
   "source": [
    "nodes.iloc[[1320]]"
   ]
  },
  {
   "cell_type": "markdown",
   "metadata": {},
   "source": [
    "The dictionary below can be used as mapping between generated semantic ID and semantic group label."
   ]
  },
  {
   "cell_type": "code",
   "execution_count": 14,
   "metadata": {},
   "outputs": [
    {
     "data": {
      "text/plain": [
       "{0: 'ANAT',\n",
       " 1: 'DISO',\n",
       " 2: 'DRUG',\n",
       " 3: 'GENE',\n",
       " 4: 'GENO',\n",
       " 5: 'ORTH',\n",
       " 6: 'PHYS',\n",
       " 7: 'VARI'}"
      ]
     },
     "execution_count": 14,
     "metadata": {},
     "output_type": "execute_result"
    }
   ],
   "source": [
    "node_semantic_dict = dict(enumerate(nodes['semantic'].cat.categories))\n",
    "node_semantic_dict"
   ]
  },
  {
   "cell_type": "markdown",
   "metadata": {},
   "source": [
    "Load the node embeddings"
   ]
  },
  {
   "cell_type": "code",
   "execution_count": 15,
   "metadata": {},
   "outputs": [],
   "source": [
    "def loadEdge2VecEmbedding(): \n",
    "    node_feat = KeyedVectors.load(f'{run_dir}/w2v_{dataset_nr}.dvectors', mmap='r')\n",
    "    e2v_embedding = pd.DataFrame(columns = ['Node', 'Embedding'])\n",
    "    for idx, key in enumerate(node_feat.index_to_key):\n",
    "        e2v_embedding.loc[int(key)] = pd.Series({'Node':int(key), 'Embedding':list(node_feat[key])})\n",
    "        \n",
    "    return e2v_embedding.sort_values('Node')\n",
    "\n",
    "def loadMetapath2VecEmbedding():\n",
    "    metapath2vec_embedding = pd.read_csv(f'{run_dir}/metapath2vec_embedding_{dataset_nr}.csv')\n",
    "    metapath2vec_embedding['Embedding'] = metapath2vec_embedding.values.tolist()\n",
    "    metapath2vec_embedding = metapath2vec_embedding[['Embedding']]\n",
    "    metapath2vec_embedding['Node'] = metapath2vec_embedding.index\n",
    "    return metapath2vec_embedding[['Node', 'Embedding']]"
   ]
  },
  {
   "cell_type": "code",
   "execution_count": 16,
   "metadata": {},
   "outputs": [
    {
     "data": {
      "text/html": [
       "<div>\n",
       "<style scoped>\n",
       "    .dataframe tbody tr th:only-of-type {\n",
       "        vertical-align: middle;\n",
       "    }\n",
       "\n",
       "    .dataframe tbody tr th {\n",
       "        vertical-align: top;\n",
       "    }\n",
       "\n",
       "    .dataframe thead th {\n",
       "        text-align: right;\n",
       "    }\n",
       "</style>\n",
       "<table border=\"1\" class=\"dataframe\">\n",
       "  <thead>\n",
       "    <tr style=\"text-align: right;\">\n",
       "      <th></th>\n",
       "      <th>Node</th>\n",
       "      <th>Embedding</th>\n",
       "    </tr>\n",
       "  </thead>\n",
       "  <tbody>\n",
       "    <tr>\n",
       "      <th>0</th>\n",
       "      <td>0</td>\n",
       "      <td>[-0.80172193, -0.31312022, 1.3363898, 0.047870...</td>\n",
       "    </tr>\n",
       "    <tr>\n",
       "      <th>1</th>\n",
       "      <td>1</td>\n",
       "      <td>[-0.43657017, -0.59252596, 0.21464153, 0.28127...</td>\n",
       "    </tr>\n",
       "    <tr>\n",
       "      <th>2</th>\n",
       "      <td>2</td>\n",
       "      <td>[-0.6035868, -0.81537753, -0.1698302, 0.029323...</td>\n",
       "    </tr>\n",
       "    <tr>\n",
       "      <th>3</th>\n",
       "      <td>3</td>\n",
       "      <td>[-0.25198308, -0.5973693, 0.116735026, 0.15848...</td>\n",
       "    </tr>\n",
       "    <tr>\n",
       "      <th>4</th>\n",
       "      <td>4</td>\n",
       "      <td>[-0.567523, -0.6277393, 0.22508189, 0.17768621...</td>\n",
       "    </tr>\n",
       "    <tr>\n",
       "      <th>...</th>\n",
       "      <td>...</td>\n",
       "      <td>...</td>\n",
       "    </tr>\n",
       "    <tr>\n",
       "      <th>10029</th>\n",
       "      <td>10029</td>\n",
       "      <td>[-0.3428445, -0.65736985, 0.1452774, 0.1707272...</td>\n",
       "    </tr>\n",
       "    <tr>\n",
       "      <th>10030</th>\n",
       "      <td>10030</td>\n",
       "      <td>[-0.28449383, -0.7016132, 0.23477365, 0.197892...</td>\n",
       "    </tr>\n",
       "    <tr>\n",
       "      <th>10031</th>\n",
       "      <td>10031</td>\n",
       "      <td>[-0.30933982, -0.7699769, 0.20634678, -0.03841...</td>\n",
       "    </tr>\n",
       "    <tr>\n",
       "      <th>10032</th>\n",
       "      <td>10032</td>\n",
       "      <td>[-0.6069677, -1.102868, 0.45715353, 0.82833016...</td>\n",
       "    </tr>\n",
       "    <tr>\n",
       "      <th>10033</th>\n",
       "      <td>10033</td>\n",
       "      <td>[-0.29029033, -0.40503615, 0.09990781, 0.03839...</td>\n",
       "    </tr>\n",
       "  </tbody>\n",
       "</table>\n",
       "<p>10034 rows × 2 columns</p>\n",
       "</div>"
      ],
      "text/plain": [
       "        Node                                          Embedding\n",
       "0          0  [-0.80172193, -0.31312022, 1.3363898, 0.047870...\n",
       "1          1  [-0.43657017, -0.59252596, 0.21464153, 0.28127...\n",
       "2          2  [-0.6035868, -0.81537753, -0.1698302, 0.029323...\n",
       "3          3  [-0.25198308, -0.5973693, 0.116735026, 0.15848...\n",
       "4          4  [-0.567523, -0.6277393, 0.22508189, 0.17768621...\n",
       "...      ...                                                ...\n",
       "10029  10029  [-0.3428445, -0.65736985, 0.1452774, 0.1707272...\n",
       "10030  10030  [-0.28449383, -0.7016132, 0.23477365, 0.197892...\n",
       "10031  10031  [-0.30933982, -0.7699769, 0.20634678, -0.03841...\n",
       "10032  10032  [-0.6069677, -1.102868, 0.45715353, 0.82833016...\n",
       "10033  10033  [-0.29029033, -0.40503615, 0.09990781, 0.03839...\n",
       "\n",
       "[10034 rows x 2 columns]"
      ]
     },
     "execution_count": 16,
     "metadata": {},
     "output_type": "execute_result"
    }
   ],
   "source": [
    "if embedding_method == 'e2v':\n",
    "    embedding = loadEdge2VecEmbedding()\n",
    "else:\n",
    "    embedding = loadMetapath2VecEmbedding()\n",
    "    \n",
    "embedding"
   ]
  },
  {
   "cell_type": "markdown",
   "metadata": {},
   "source": [
    "Load the edges"
   ]
  },
  {
   "cell_type": "code",
   "execution_count": 17,
   "metadata": {},
   "outputs": [
    {
     "data": {
      "text/html": [
       "<div>\n",
       "<style scoped>\n",
       "    .dataframe tbody tr th:only-of-type {\n",
       "        vertical-align: middle;\n",
       "    }\n",
       "\n",
       "    .dataframe tbody tr th {\n",
       "        vertical-align: top;\n",
       "    }\n",
       "\n",
       "    .dataframe thead th {\n",
       "        text-align: right;\n",
       "    }\n",
       "</style>\n",
       "<table border=\"1\" class=\"dataframe\">\n",
       "  <thead>\n",
       "    <tr style=\"text-align: right;\">\n",
       "      <th></th>\n",
       "      <th>head</th>\n",
       "      <th>label_head</th>\n",
       "      <th>class_head</th>\n",
       "      <th>index_head</th>\n",
       "      <th>relation</th>\n",
       "      <th>tail</th>\n",
       "      <th>label_tail</th>\n",
       "      <th>class_tail</th>\n",
       "      <th>index_tail</th>\n",
       "      <th>type</th>\n",
       "    </tr>\n",
       "  </thead>\n",
       "  <tbody>\n",
       "    <tr>\n",
       "      <th>0</th>\n",
       "      <td>ZFIN:ZDB-GENE-050626-112</td>\n",
       "      <td>myl4</td>\n",
       "      <td>5</td>\n",
       "      <td>5279</td>\n",
       "      <td>in orthology relationship with</td>\n",
       "      <td>FlyBase:FBgn0085464</td>\n",
       "      <td>CG34435</td>\n",
       "      <td>5</td>\n",
       "      <td>6825</td>\n",
       "      <td>0</td>\n",
       "    </tr>\n",
       "    <tr>\n",
       "      <th>1</th>\n",
       "      <td>ZFIN:ZDB-GENE-050626-112</td>\n",
       "      <td>myl4</td>\n",
       "      <td>5</td>\n",
       "      <td>5279</td>\n",
       "      <td>in orthology relationship with</td>\n",
       "      <td>HGNC:7585</td>\n",
       "      <td>MYL4</td>\n",
       "      <td>3</td>\n",
       "      <td>27</td>\n",
       "      <td>0</td>\n",
       "    </tr>\n",
       "    <tr>\n",
       "      <th>2</th>\n",
       "      <td>ZFIN:ZDB-GENE-050626-112</td>\n",
       "      <td>myl4</td>\n",
       "      <td>5</td>\n",
       "      <td>5279</td>\n",
       "      <td>in orthology relationship with</td>\n",
       "      <td>FlyBase:FBgn0002772</td>\n",
       "      <td>Mlc1</td>\n",
       "      <td>5</td>\n",
       "      <td>8901</td>\n",
       "      <td>0</td>\n",
       "    </tr>\n",
       "    <tr>\n",
       "      <th>3</th>\n",
       "      <td>ZFIN:ZDB-GENE-050626-112</td>\n",
       "      <td>myl4</td>\n",
       "      <td>5</td>\n",
       "      <td>5279</td>\n",
       "      <td>in orthology relationship with</td>\n",
       "      <td>NCBIGene:396472</td>\n",
       "      <td>MYL4</td>\n",
       "      <td>3</td>\n",
       "      <td>9508</td>\n",
       "      <td>0</td>\n",
       "    </tr>\n",
       "    <tr>\n",
       "      <th>4</th>\n",
       "      <td>ZFIN:ZDB-GENE-050626-112</td>\n",
       "      <td>myl4</td>\n",
       "      <td>5</td>\n",
       "      <td>5279</td>\n",
       "      <td>in 1 to 1 orthology relationship with</td>\n",
       "      <td>ENSEMBL:ENSECAG00000020967</td>\n",
       "      <td>ENSEMBL:ENSECAG00000020967</td>\n",
       "      <td>5</td>\n",
       "      <td>8807</td>\n",
       "      <td>1</td>\n",
       "    </tr>\n",
       "    <tr>\n",
       "      <th>...</th>\n",
       "      <td>...</td>\n",
       "      <td>...</td>\n",
       "      <td>...</td>\n",
       "      <td>...</td>\n",
       "      <td>...</td>\n",
       "      <td>...</td>\n",
       "      <td>...</td>\n",
       "      <td>...</td>\n",
       "      <td>...</td>\n",
       "      <td>...</td>\n",
       "    </tr>\n",
       "    <tr>\n",
       "      <th>82908</th>\n",
       "      <td>4810</td>\n",
       "      <td>ibrutinib</td>\n",
       "      <td>2</td>\n",
       "      <td>1618</td>\n",
       "      <td>targets</td>\n",
       "      <td>HGNC:11283</td>\n",
       "      <td>SRC</td>\n",
       "      <td>3</td>\n",
       "      <td>3279</td>\n",
       "      <td>14</td>\n",
       "    </tr>\n",
       "    <tr>\n",
       "      <th>82909</th>\n",
       "      <td>522</td>\n",
       "      <td>carvedilol</td>\n",
       "      <td>2</td>\n",
       "      <td>184</td>\n",
       "      <td>targets</td>\n",
       "      <td>HGNC:620</td>\n",
       "      <td>APP</td>\n",
       "      <td>3</td>\n",
       "      <td>547</td>\n",
       "      <td>14</td>\n",
       "    </tr>\n",
       "    <tr>\n",
       "      <th>82910</th>\n",
       "      <td>OMIM:300377.0013</td>\n",
       "      <td>DMD, EX18DEL</td>\n",
       "      <td>1</td>\n",
       "      <td>2822</td>\n",
       "      <td>is allele of</td>\n",
       "      <td>HGNC:2928</td>\n",
       "      <td>DMD</td>\n",
       "      <td>3</td>\n",
       "      <td>6612</td>\n",
       "      <td>16</td>\n",
       "    </tr>\n",
       "    <tr>\n",
       "      <th>82911</th>\n",
       "      <td>Coriell:GM05113</td>\n",
       "      <td>NIGMS-GM05113</td>\n",
       "      <td>4</td>\n",
       "      <td>8105</td>\n",
       "      <td>has role in modeling</td>\n",
       "      <td>MONDO:0010679</td>\n",
       "      <td>Duchenne muscular dystrophy</td>\n",
       "      <td>1</td>\n",
       "      <td>6315</td>\n",
       "      <td>15</td>\n",
       "    </tr>\n",
       "    <tr>\n",
       "      <th>82912</th>\n",
       "      <td>OMIM:300377.0039</td>\n",
       "      <td>DMD, 1-BP INS, NT1554</td>\n",
       "      <td>1</td>\n",
       "      <td>7364</td>\n",
       "      <td>is allele of</td>\n",
       "      <td>HGNC:2928</td>\n",
       "      <td>DMD</td>\n",
       "      <td>3</td>\n",
       "      <td>6612</td>\n",
       "      <td>16</td>\n",
       "    </tr>\n",
       "  </tbody>\n",
       "</table>\n",
       "<p>82913 rows × 10 columns</p>\n",
       "</div>"
      ],
      "text/plain": [
       "                           head             label_head  class_head  \\\n",
       "0      ZFIN:ZDB-GENE-050626-112                   myl4           5   \n",
       "1      ZFIN:ZDB-GENE-050626-112                   myl4           5   \n",
       "2      ZFIN:ZDB-GENE-050626-112                   myl4           5   \n",
       "3      ZFIN:ZDB-GENE-050626-112                   myl4           5   \n",
       "4      ZFIN:ZDB-GENE-050626-112                   myl4           5   \n",
       "...                         ...                    ...         ...   \n",
       "82908                      4810              ibrutinib           2   \n",
       "82909                       522             carvedilol           2   \n",
       "82910          OMIM:300377.0013           DMD, EX18DEL           1   \n",
       "82911           Coriell:GM05113          NIGMS-GM05113           4   \n",
       "82912          OMIM:300377.0039  DMD, 1-BP INS, NT1554           1   \n",
       "\n",
       "       index_head                               relation  \\\n",
       "0            5279         in orthology relationship with   \n",
       "1            5279         in orthology relationship with   \n",
       "2            5279         in orthology relationship with   \n",
       "3            5279         in orthology relationship with   \n",
       "4            5279  in 1 to 1 orthology relationship with   \n",
       "...           ...                                    ...   \n",
       "82908        1618                                targets   \n",
       "82909         184                                targets   \n",
       "82910        2822                           is allele of   \n",
       "82911        8105                   has role in modeling   \n",
       "82912        7364                           is allele of   \n",
       "\n",
       "                             tail                   label_tail  class_tail  \\\n",
       "0             FlyBase:FBgn0085464                      CG34435           5   \n",
       "1                       HGNC:7585                         MYL4           3   \n",
       "2             FlyBase:FBgn0002772                         Mlc1           5   \n",
       "3                 NCBIGene:396472                         MYL4           3   \n",
       "4      ENSEMBL:ENSECAG00000020967   ENSEMBL:ENSECAG00000020967           5   \n",
       "...                           ...                          ...         ...   \n",
       "82908                  HGNC:11283                          SRC           3   \n",
       "82909                    HGNC:620                          APP           3   \n",
       "82910                   HGNC:2928                          DMD           3   \n",
       "82911               MONDO:0010679  Duchenne muscular dystrophy           1   \n",
       "82912                   HGNC:2928                          DMD           3   \n",
       "\n",
       "       index_tail  type  \n",
       "0            6825     0  \n",
       "1              27     0  \n",
       "2            8901     0  \n",
       "3            9508     0  \n",
       "4            8807     1  \n",
       "...           ...   ...  \n",
       "82908        3279    14  \n",
       "82909         547    14  \n",
       "82910        6612    16  \n",
       "82911        6315    15  \n",
       "82912        6612    16  \n",
       "\n",
       "[82913 rows x 10 columns]"
      ]
     },
     "execution_count": 17,
     "metadata": {},
     "output_type": "execute_result"
    }
   ],
   "source": [
    "edges = pd.read_csv(f'output/indexed_edges_{dataset_nr}.csv')\n",
    "edges"
   ]
  },
  {
   "cell_type": "code",
   "execution_count": 18,
   "metadata": {},
   "outputs": [
    {
     "data": {
      "text/html": [
       "<div>\n",
       "<style scoped>\n",
       "    .dataframe tbody tr th:only-of-type {\n",
       "        vertical-align: middle;\n",
       "    }\n",
       "\n",
       "    .dataframe tbody tr th {\n",
       "        vertical-align: top;\n",
       "    }\n",
       "\n",
       "    .dataframe thead th {\n",
       "        text-align: right;\n",
       "    }\n",
       "</style>\n",
       "<table border=\"1\" class=\"dataframe\">\n",
       "  <thead>\n",
       "    <tr style=\"text-align: right;\">\n",
       "      <th></th>\n",
       "      <th>head</th>\n",
       "      <th>label_head</th>\n",
       "      <th>class_head</th>\n",
       "      <th>index_head</th>\n",
       "      <th>relation</th>\n",
       "      <th>tail</th>\n",
       "      <th>label_tail</th>\n",
       "      <th>class_tail</th>\n",
       "      <th>index_tail</th>\n",
       "      <th>type</th>\n",
       "    </tr>\n",
       "  </thead>\n",
       "  <tbody>\n",
       "    <tr>\n",
       "      <th>2909</th>\n",
       "      <td>HGNC:6492</td>\n",
       "      <td>LAMC1</td>\n",
       "      <td>3</td>\n",
       "      <td>1231</td>\n",
       "      <td>interacts with</td>\n",
       "      <td>HGNC:620</td>\n",
       "      <td>APP</td>\n",
       "      <td>3</td>\n",
       "      <td>547</td>\n",
       "      <td>6</td>\n",
       "    </tr>\n",
       "    <tr>\n",
       "      <th>3985</th>\n",
       "      <td>HGNC:971</td>\n",
       "      <td>BCAR1</td>\n",
       "      <td>3</td>\n",
       "      <td>4425</td>\n",
       "      <td>interacts with</td>\n",
       "      <td>HGNC:620</td>\n",
       "      <td>APP</td>\n",
       "      <td>3</td>\n",
       "      <td>547</td>\n",
       "      <td>6</td>\n",
       "    </tr>\n",
       "    <tr>\n",
       "      <th>5062</th>\n",
       "      <td>HGNC:11874</td>\n",
       "      <td>TMOD4</td>\n",
       "      <td>3</td>\n",
       "      <td>8208</td>\n",
       "      <td>interacts with</td>\n",
       "      <td>HGNC:620</td>\n",
       "      <td>APP</td>\n",
       "      <td>3</td>\n",
       "      <td>547</td>\n",
       "      <td>6</td>\n",
       "    </tr>\n",
       "    <tr>\n",
       "      <th>5878</th>\n",
       "      <td>HGNC:6256</td>\n",
       "      <td>KCNJ10</td>\n",
       "      <td>3</td>\n",
       "      <td>7806</td>\n",
       "      <td>interacts with</td>\n",
       "      <td>HGNC:620</td>\n",
       "      <td>APP</td>\n",
       "      <td>3</td>\n",
       "      <td>547</td>\n",
       "      <td>6</td>\n",
       "    </tr>\n",
       "    <tr>\n",
       "      <th>5976</th>\n",
       "      <td>HGNC:11427</td>\n",
       "      <td>STUB1</td>\n",
       "      <td>3</td>\n",
       "      <td>5855</td>\n",
       "      <td>interacts with</td>\n",
       "      <td>HGNC:620</td>\n",
       "      <td>APP</td>\n",
       "      <td>3</td>\n",
       "      <td>547</td>\n",
       "      <td>6</td>\n",
       "    </tr>\n",
       "    <tr>\n",
       "      <th>6062</th>\n",
       "      <td>HGNC:6486</td>\n",
       "      <td>LAMB1</td>\n",
       "      <td>3</td>\n",
       "      <td>9250</td>\n",
       "      <td>interacts with</td>\n",
       "      <td>HGNC:620</td>\n",
       "      <td>APP</td>\n",
       "      <td>3</td>\n",
       "      <td>547</td>\n",
       "      <td>6</td>\n",
       "    </tr>\n",
       "    <tr>\n",
       "      <th>6180</th>\n",
       "      <td>HGNC:11138</td>\n",
       "      <td>SNCA</td>\n",
       "      <td>3</td>\n",
       "      <td>6764</td>\n",
       "      <td>interacts with</td>\n",
       "      <td>HGNC:620</td>\n",
       "      <td>APP</td>\n",
       "      <td>3</td>\n",
       "      <td>547</td>\n",
       "      <td>6</td>\n",
       "    </tr>\n",
       "    <tr>\n",
       "      <th>6273</th>\n",
       "      <td>HGNC:19013</td>\n",
       "      <td>TRIM41</td>\n",
       "      <td>3</td>\n",
       "      <td>692</td>\n",
       "      <td>interacts with</td>\n",
       "      <td>HGNC:620</td>\n",
       "      <td>APP</td>\n",
       "      <td>3</td>\n",
       "      <td>547</td>\n",
       "      <td>6</td>\n",
       "    </tr>\n",
       "    <tr>\n",
       "      <th>7062</th>\n",
       "      <td>HGNC:11949</td>\n",
       "      <td>TNNT2</td>\n",
       "      <td>3</td>\n",
       "      <td>5448</td>\n",
       "      <td>interacts with</td>\n",
       "      <td>HGNC:620</td>\n",
       "      <td>APP</td>\n",
       "      <td>3</td>\n",
       "      <td>547</td>\n",
       "      <td>6</td>\n",
       "    </tr>\n",
       "    <tr>\n",
       "      <th>10323</th>\n",
       "      <td>HGNC:16059</td>\n",
       "      <td>PAK4</td>\n",
       "      <td>3</td>\n",
       "      <td>3922</td>\n",
       "      <td>interacts with</td>\n",
       "      <td>HGNC:620</td>\n",
       "      <td>APP</td>\n",
       "      <td>3</td>\n",
       "      <td>547</td>\n",
       "      <td>6</td>\n",
       "    </tr>\n",
       "    <tr>\n",
       "      <th>10806</th>\n",
       "      <td>HGNC:15520</td>\n",
       "      <td>LPAR6</td>\n",
       "      <td>3</td>\n",
       "      <td>1728</td>\n",
       "      <td>interacts with</td>\n",
       "      <td>HGNC:620</td>\n",
       "      <td>APP</td>\n",
       "      <td>3</td>\n",
       "      <td>547</td>\n",
       "      <td>6</td>\n",
       "    </tr>\n",
       "    <tr>\n",
       "      <th>11212</th>\n",
       "      <td>HGNC:9611</td>\n",
       "      <td>PTK2</td>\n",
       "      <td>3</td>\n",
       "      <td>6186</td>\n",
       "      <td>interacts with</td>\n",
       "      <td>HGNC:620</td>\n",
       "      <td>APP</td>\n",
       "      <td>3</td>\n",
       "      <td>547</td>\n",
       "      <td>6</td>\n",
       "    </tr>\n",
       "    <tr>\n",
       "      <th>11581</th>\n",
       "      <td>ZFIN:ZDB-GENE-020220-1</td>\n",
       "      <td>appb</td>\n",
       "      <td>5</td>\n",
       "      <td>6201</td>\n",
       "      <td>in orthology relationship with</td>\n",
       "      <td>HGNC:620</td>\n",
       "      <td>APP</td>\n",
       "      <td>3</td>\n",
       "      <td>547</td>\n",
       "      <td>0</td>\n",
       "    </tr>\n",
       "    <tr>\n",
       "      <th>12160</th>\n",
       "      <td>HGNC:8590</td>\n",
       "      <td>PAK1</td>\n",
       "      <td>3</td>\n",
       "      <td>6478</td>\n",
       "      <td>interacts with</td>\n",
       "      <td>HGNC:620</td>\n",
       "      <td>APP</td>\n",
       "      <td>3</td>\n",
       "      <td>547</td>\n",
       "      <td>6</td>\n",
       "    </tr>\n",
       "    <tr>\n",
       "      <th>13353</th>\n",
       "      <td>HGNC:2928</td>\n",
       "      <td>DMD</td>\n",
       "      <td>3</td>\n",
       "      <td>6612</td>\n",
       "      <td>interacts with</td>\n",
       "      <td>HGNC:620</td>\n",
       "      <td>APP</td>\n",
       "      <td>3</td>\n",
       "      <td>547</td>\n",
       "      <td>6</td>\n",
       "    </tr>\n",
       "    <tr>\n",
       "      <th>15040</th>\n",
       "      <td>HGNC:6487</td>\n",
       "      <td>LAMB2</td>\n",
       "      <td>3</td>\n",
       "      <td>2722</td>\n",
       "      <td>interacts with</td>\n",
       "      <td>HGNC:620</td>\n",
       "      <td>APP</td>\n",
       "      <td>3</td>\n",
       "      <td>547</td>\n",
       "      <td>6</td>\n",
       "    </tr>\n",
       "    <tr>\n",
       "      <th>18250</th>\n",
       "      <td>HGNC:11283</td>\n",
       "      <td>SRC</td>\n",
       "      <td>3</td>\n",
       "      <td>3279</td>\n",
       "      <td>interacts with</td>\n",
       "      <td>HGNC:620</td>\n",
       "      <td>APP</td>\n",
       "      <td>3</td>\n",
       "      <td>547</td>\n",
       "      <td>6</td>\n",
       "    </tr>\n",
       "    <tr>\n",
       "      <th>19566</th>\n",
       "      <td>HGNC:6944</td>\n",
       "      <td>MCM2</td>\n",
       "      <td>3</td>\n",
       "      <td>4808</td>\n",
       "      <td>interacts with</td>\n",
       "      <td>HGNC:620</td>\n",
       "      <td>APP</td>\n",
       "      <td>3</td>\n",
       "      <td>547</td>\n",
       "      <td>6</td>\n",
       "    </tr>\n",
       "    <tr>\n",
       "      <th>21481</th>\n",
       "      <td>HGNC:239</td>\n",
       "      <td>ADCY8</td>\n",
       "      <td>3</td>\n",
       "      <td>7114</td>\n",
       "      <td>interacts with</td>\n",
       "      <td>HGNC:620</td>\n",
       "      <td>APP</td>\n",
       "      <td>3</td>\n",
       "      <td>547</td>\n",
       "      <td>6</td>\n",
       "    </tr>\n",
       "    <tr>\n",
       "      <th>22595</th>\n",
       "      <td>HGNC:7582</td>\n",
       "      <td>MYL1</td>\n",
       "      <td>3</td>\n",
       "      <td>8865</td>\n",
       "      <td>interacts with</td>\n",
       "      <td>HGNC:620</td>\n",
       "      <td>APP</td>\n",
       "      <td>3</td>\n",
       "      <td>547</td>\n",
       "      <td>6</td>\n",
       "    </tr>\n",
       "    <tr>\n",
       "      <th>26187</th>\n",
       "      <td>HGNC:8591</td>\n",
       "      <td>PAK2</td>\n",
       "      <td>3</td>\n",
       "      <td>3563</td>\n",
       "      <td>interacts with</td>\n",
       "      <td>HGNC:620</td>\n",
       "      <td>APP</td>\n",
       "      <td>3</td>\n",
       "      <td>547</td>\n",
       "      <td>6</td>\n",
       "    </tr>\n",
       "    <tr>\n",
       "      <th>26963</th>\n",
       "      <td>HGNC:9449</td>\n",
       "      <td>PRNP</td>\n",
       "      <td>3</td>\n",
       "      <td>4016</td>\n",
       "      <td>interacts with</td>\n",
       "      <td>HGNC:620</td>\n",
       "      <td>APP</td>\n",
       "      <td>3</td>\n",
       "      <td>547</td>\n",
       "      <td>6</td>\n",
       "    </tr>\n",
       "    <tr>\n",
       "      <th>27564</th>\n",
       "      <td>HGNC:9411</td>\n",
       "      <td>PRKCSH</td>\n",
       "      <td>3</td>\n",
       "      <td>1807</td>\n",
       "      <td>interacts with</td>\n",
       "      <td>HGNC:620</td>\n",
       "      <td>APP</td>\n",
       "      <td>3</td>\n",
       "      <td>547</td>\n",
       "      <td>6</td>\n",
       "    </tr>\n",
       "    <tr>\n",
       "      <th>31028</th>\n",
       "      <td>HGNC:10809</td>\n",
       "      <td>SGCG</td>\n",
       "      <td>3</td>\n",
       "      <td>9656</td>\n",
       "      <td>interacts with</td>\n",
       "      <td>HGNC:620</td>\n",
       "      <td>APP</td>\n",
       "      <td>3</td>\n",
       "      <td>547</td>\n",
       "      <td>6</td>\n",
       "    </tr>\n",
       "    <tr>\n",
       "      <th>32913</th>\n",
       "      <td>HGNC:11872</td>\n",
       "      <td>TMOD2</td>\n",
       "      <td>3</td>\n",
       "      <td>4254</td>\n",
       "      <td>interacts with</td>\n",
       "      <td>HGNC:620</td>\n",
       "      <td>APP</td>\n",
       "      <td>3</td>\n",
       "      <td>547</td>\n",
       "      <td>6</td>\n",
       "    </tr>\n",
       "    <tr>\n",
       "      <th>33156</th>\n",
       "      <td>HGNC:17861</td>\n",
       "      <td>TRAF3IP1</td>\n",
       "      <td>3</td>\n",
       "      <td>2053</td>\n",
       "      <td>interacts with</td>\n",
       "      <td>HGNC:620</td>\n",
       "      <td>APP</td>\n",
       "      <td>3</td>\n",
       "      <td>547</td>\n",
       "      <td>6</td>\n",
       "    </tr>\n",
       "    <tr>\n",
       "      <th>39714</th>\n",
       "      <td>HGNC:12692</td>\n",
       "      <td>VIM</td>\n",
       "      <td>3</td>\n",
       "      <td>8264</td>\n",
       "      <td>interacts with</td>\n",
       "      <td>HGNC:620</td>\n",
       "      <td>APP</td>\n",
       "      <td>3</td>\n",
       "      <td>547</td>\n",
       "      <td>6</td>\n",
       "    </tr>\n",
       "    <tr>\n",
       "      <th>43983</th>\n",
       "      <td>HGNC:399</td>\n",
       "      <td>ALB (human)</td>\n",
       "      <td>3</td>\n",
       "      <td>3146</td>\n",
       "      <td>interacts with</td>\n",
       "      <td>HGNC:620</td>\n",
       "      <td>APP</td>\n",
       "      <td>3</td>\n",
       "      <td>547</td>\n",
       "      <td>6</td>\n",
       "    </tr>\n",
       "    <tr>\n",
       "      <th>44185</th>\n",
       "      <td>HGNC:2509</td>\n",
       "      <td>CTNNA1</td>\n",
       "      <td>3</td>\n",
       "      <td>1331</td>\n",
       "      <td>interacts with</td>\n",
       "      <td>HGNC:620</td>\n",
       "      <td>APP</td>\n",
       "      <td>3</td>\n",
       "      <td>547</td>\n",
       "      <td>6</td>\n",
       "    </tr>\n",
       "    <tr>\n",
       "      <th>46322</th>\n",
       "      <td>HGNC:164</td>\n",
       "      <td>ACTN2</td>\n",
       "      <td>3</td>\n",
       "      <td>7581</td>\n",
       "      <td>interacts with</td>\n",
       "      <td>HGNC:620</td>\n",
       "      <td>APP</td>\n",
       "      <td>3</td>\n",
       "      <td>547</td>\n",
       "      <td>6</td>\n",
       "    </tr>\n",
       "    <tr>\n",
       "      <th>48228</th>\n",
       "      <td>HGNC:6857</td>\n",
       "      <td>MAP3K5</td>\n",
       "      <td>3</td>\n",
       "      <td>3410</td>\n",
       "      <td>interacts with</td>\n",
       "      <td>HGNC:620</td>\n",
       "      <td>APP</td>\n",
       "      <td>3</td>\n",
       "      <td>547</td>\n",
       "      <td>6</td>\n",
       "    </tr>\n",
       "    <tr>\n",
       "      <th>50529</th>\n",
       "      <td>HGNC:1950</td>\n",
       "      <td>CHRM1</td>\n",
       "      <td>3</td>\n",
       "      <td>2688</td>\n",
       "      <td>interacts with</td>\n",
       "      <td>HGNC:620</td>\n",
       "      <td>APP</td>\n",
       "      <td>3</td>\n",
       "      <td>547</td>\n",
       "      <td>6</td>\n",
       "    </tr>\n",
       "    <tr>\n",
       "      <th>51016</th>\n",
       "      <td>HGNC:10769</td>\n",
       "      <td>SF3B2</td>\n",
       "      <td>3</td>\n",
       "      <td>4792</td>\n",
       "      <td>interacts with</td>\n",
       "      <td>HGNC:620</td>\n",
       "      <td>APP</td>\n",
       "      <td>3</td>\n",
       "      <td>547</td>\n",
       "      <td>6</td>\n",
       "    </tr>\n",
       "    <tr>\n",
       "      <th>52453</th>\n",
       "      <td>HGNC:232</td>\n",
       "      <td>ADCY1</td>\n",
       "      <td>3</td>\n",
       "      <td>2427</td>\n",
       "      <td>interacts with</td>\n",
       "      <td>HGNC:620</td>\n",
       "      <td>APP</td>\n",
       "      <td>3</td>\n",
       "      <td>547</td>\n",
       "      <td>6</td>\n",
       "    </tr>\n",
       "    <tr>\n",
       "      <th>58507</th>\n",
       "      <td>HGNC:16859</td>\n",
       "      <td>NOS1AP</td>\n",
       "      <td>3</td>\n",
       "      <td>9420</td>\n",
       "      <td>interacts with</td>\n",
       "      <td>HGNC:620</td>\n",
       "      <td>APP</td>\n",
       "      <td>3</td>\n",
       "      <td>547</td>\n",
       "      <td>6</td>\n",
       "    </tr>\n",
       "    <tr>\n",
       "      <th>66503</th>\n",
       "      <td>HGNC:1725</td>\n",
       "      <td>CDC25A</td>\n",
       "      <td>3</td>\n",
       "      <td>1856</td>\n",
       "      <td>interacts with</td>\n",
       "      <td>HGNC:620</td>\n",
       "      <td>APP</td>\n",
       "      <td>3</td>\n",
       "      <td>547</td>\n",
       "      <td>6</td>\n",
       "    </tr>\n",
       "    <tr>\n",
       "      <th>66805</th>\n",
       "      <td>ZFIN:ZDB-GENE-000616-13</td>\n",
       "      <td>appa</td>\n",
       "      <td>5</td>\n",
       "      <td>388</td>\n",
       "      <td>in orthology relationship with</td>\n",
       "      <td>HGNC:620</td>\n",
       "      <td>APP</td>\n",
       "      <td>3</td>\n",
       "      <td>547</td>\n",
       "      <td>0</td>\n",
       "    </tr>\n",
       "    <tr>\n",
       "      <th>68054</th>\n",
       "      <td>HGNC:10056</td>\n",
       "      <td>RNF11</td>\n",
       "      <td>3</td>\n",
       "      <td>6058</td>\n",
       "      <td>interacts with</td>\n",
       "      <td>HGNC:620</td>\n",
       "      <td>APP</td>\n",
       "      <td>3</td>\n",
       "      <td>547</td>\n",
       "      <td>6</td>\n",
       "    </tr>\n",
       "    <tr>\n",
       "      <th>73928</th>\n",
       "      <td>186</td>\n",
       "      <td>amodiaquine</td>\n",
       "      <td>2</td>\n",
       "      <td>67</td>\n",
       "      <td>targets</td>\n",
       "      <td>HGNC:620</td>\n",
       "      <td>APP</td>\n",
       "      <td>3</td>\n",
       "      <td>547</td>\n",
       "      <td>14</td>\n",
       "    </tr>\n",
       "    <tr>\n",
       "      <th>77870</th>\n",
       "      <td>2835</td>\n",
       "      <td>nicotinic acid</td>\n",
       "      <td>2</td>\n",
       "      <td>963</td>\n",
       "      <td>targets</td>\n",
       "      <td>HGNC:620</td>\n",
       "      <td>APP</td>\n",
       "      <td>3</td>\n",
       "      <td>547</td>\n",
       "      <td>14</td>\n",
       "    </tr>\n",
       "    <tr>\n",
       "      <th>78594</th>\n",
       "      <td>4301</td>\n",
       "      <td>Flutemetamol (18F)</td>\n",
       "      <td>2</td>\n",
       "      <td>1444</td>\n",
       "      <td>targets</td>\n",
       "      <td>HGNC:620</td>\n",
       "      <td>APP</td>\n",
       "      <td>3</td>\n",
       "      <td>547</td>\n",
       "      <td>14</td>\n",
       "    </tr>\n",
       "    <tr>\n",
       "      <th>81357</th>\n",
       "      <td>4818</td>\n",
       "      <td>florbetaben F18</td>\n",
       "      <td>2</td>\n",
       "      <td>1622</td>\n",
       "      <td>targets</td>\n",
       "      <td>HGNC:620</td>\n",
       "      <td>APP</td>\n",
       "      <td>3</td>\n",
       "      <td>547</td>\n",
       "      <td>14</td>\n",
       "    </tr>\n",
       "    <tr>\n",
       "      <th>82780</th>\n",
       "      <td>4285</td>\n",
       "      <td>Florbetapir F-18</td>\n",
       "      <td>2</td>\n",
       "      <td>1441</td>\n",
       "      <td>targets</td>\n",
       "      <td>HGNC:620</td>\n",
       "      <td>APP</td>\n",
       "      <td>3</td>\n",
       "      <td>547</td>\n",
       "      <td>14</td>\n",
       "    </tr>\n",
       "    <tr>\n",
       "      <th>82909</th>\n",
       "      <td>522</td>\n",
       "      <td>carvedilol</td>\n",
       "      <td>2</td>\n",
       "      <td>184</td>\n",
       "      <td>targets</td>\n",
       "      <td>HGNC:620</td>\n",
       "      <td>APP</td>\n",
       "      <td>3</td>\n",
       "      <td>547</td>\n",
       "      <td>14</td>\n",
       "    </tr>\n",
       "  </tbody>\n",
       "</table>\n",
       "</div>"
      ],
      "text/plain": [
       "                          head          label_head  class_head  index_head  \\\n",
       "2909                 HGNC:6492               LAMC1           3        1231   \n",
       "3985                  HGNC:971               BCAR1           3        4425   \n",
       "5062                HGNC:11874               TMOD4           3        8208   \n",
       "5878                 HGNC:6256              KCNJ10           3        7806   \n",
       "5976                HGNC:11427               STUB1           3        5855   \n",
       "6062                 HGNC:6486               LAMB1           3        9250   \n",
       "6180                HGNC:11138                SNCA           3        6764   \n",
       "6273                HGNC:19013              TRIM41           3         692   \n",
       "7062                HGNC:11949               TNNT2           3        5448   \n",
       "10323               HGNC:16059                PAK4           3        3922   \n",
       "10806               HGNC:15520               LPAR6           3        1728   \n",
       "11212                HGNC:9611                PTK2           3        6186   \n",
       "11581   ZFIN:ZDB-GENE-020220-1                appb           5        6201   \n",
       "12160                HGNC:8590                PAK1           3        6478   \n",
       "13353                HGNC:2928                 DMD           3        6612   \n",
       "15040                HGNC:6487               LAMB2           3        2722   \n",
       "18250               HGNC:11283                 SRC           3        3279   \n",
       "19566                HGNC:6944                MCM2           3        4808   \n",
       "21481                 HGNC:239               ADCY8           3        7114   \n",
       "22595                HGNC:7582                MYL1           3        8865   \n",
       "26187                HGNC:8591                PAK2           3        3563   \n",
       "26963                HGNC:9449                PRNP           3        4016   \n",
       "27564                HGNC:9411              PRKCSH           3        1807   \n",
       "31028               HGNC:10809                SGCG           3        9656   \n",
       "32913               HGNC:11872               TMOD2           3        4254   \n",
       "33156               HGNC:17861            TRAF3IP1           3        2053   \n",
       "39714               HGNC:12692                 VIM           3        8264   \n",
       "43983                 HGNC:399         ALB (human)           3        3146   \n",
       "44185                HGNC:2509              CTNNA1           3        1331   \n",
       "46322                 HGNC:164               ACTN2           3        7581   \n",
       "48228                HGNC:6857              MAP3K5           3        3410   \n",
       "50529                HGNC:1950               CHRM1           3        2688   \n",
       "51016               HGNC:10769               SF3B2           3        4792   \n",
       "52453                 HGNC:232               ADCY1           3        2427   \n",
       "58507               HGNC:16859              NOS1AP           3        9420   \n",
       "66503                HGNC:1725              CDC25A           3        1856   \n",
       "66805  ZFIN:ZDB-GENE-000616-13                appa           5         388   \n",
       "68054               HGNC:10056               RNF11           3        6058   \n",
       "73928                      186         amodiaquine           2          67   \n",
       "77870                     2835      nicotinic acid           2         963   \n",
       "78594                     4301  Flutemetamol (18F)           2        1444   \n",
       "81357                     4818     florbetaben F18           2        1622   \n",
       "82780                     4285    Florbetapir F-18           2        1441   \n",
       "82909                      522          carvedilol           2         184   \n",
       "\n",
       "                             relation      tail label_tail  class_tail  \\\n",
       "2909                   interacts with  HGNC:620        APP           3   \n",
       "3985                   interacts with  HGNC:620        APP           3   \n",
       "5062                   interacts with  HGNC:620        APP           3   \n",
       "5878                   interacts with  HGNC:620        APP           3   \n",
       "5976                   interacts with  HGNC:620        APP           3   \n",
       "6062                   interacts with  HGNC:620        APP           3   \n",
       "6180                   interacts with  HGNC:620        APP           3   \n",
       "6273                   interacts with  HGNC:620        APP           3   \n",
       "7062                   interacts with  HGNC:620        APP           3   \n",
       "10323                  interacts with  HGNC:620        APP           3   \n",
       "10806                  interacts with  HGNC:620        APP           3   \n",
       "11212                  interacts with  HGNC:620        APP           3   \n",
       "11581  in orthology relationship with  HGNC:620        APP           3   \n",
       "12160                  interacts with  HGNC:620        APP           3   \n",
       "13353                  interacts with  HGNC:620        APP           3   \n",
       "15040                  interacts with  HGNC:620        APP           3   \n",
       "18250                  interacts with  HGNC:620        APP           3   \n",
       "19566                  interacts with  HGNC:620        APP           3   \n",
       "21481                  interacts with  HGNC:620        APP           3   \n",
       "22595                  interacts with  HGNC:620        APP           3   \n",
       "26187                  interacts with  HGNC:620        APP           3   \n",
       "26963                  interacts with  HGNC:620        APP           3   \n",
       "27564                  interacts with  HGNC:620        APP           3   \n",
       "31028                  interacts with  HGNC:620        APP           3   \n",
       "32913                  interacts with  HGNC:620        APP           3   \n",
       "33156                  interacts with  HGNC:620        APP           3   \n",
       "39714                  interacts with  HGNC:620        APP           3   \n",
       "43983                  interacts with  HGNC:620        APP           3   \n",
       "44185                  interacts with  HGNC:620        APP           3   \n",
       "46322                  interacts with  HGNC:620        APP           3   \n",
       "48228                  interacts with  HGNC:620        APP           3   \n",
       "50529                  interacts with  HGNC:620        APP           3   \n",
       "51016                  interacts with  HGNC:620        APP           3   \n",
       "52453                  interacts with  HGNC:620        APP           3   \n",
       "58507                  interacts with  HGNC:620        APP           3   \n",
       "66503                  interacts with  HGNC:620        APP           3   \n",
       "66805  in orthology relationship with  HGNC:620        APP           3   \n",
       "68054                  interacts with  HGNC:620        APP           3   \n",
       "73928                         targets  HGNC:620        APP           3   \n",
       "77870                         targets  HGNC:620        APP           3   \n",
       "78594                         targets  HGNC:620        APP           3   \n",
       "81357                         targets  HGNC:620        APP           3   \n",
       "82780                         targets  HGNC:620        APP           3   \n",
       "82909                         targets  HGNC:620        APP           3   \n",
       "\n",
       "       index_tail  type  \n",
       "2909          547     6  \n",
       "3985          547     6  \n",
       "5062          547     6  \n",
       "5878          547     6  \n",
       "5976          547     6  \n",
       "6062          547     6  \n",
       "6180          547     6  \n",
       "6273          547     6  \n",
       "7062          547     6  \n",
       "10323         547     6  \n",
       "10806         547     6  \n",
       "11212         547     6  \n",
       "11581         547     0  \n",
       "12160         547     6  \n",
       "13353         547     6  \n",
       "15040         547     6  \n",
       "18250         547     6  \n",
       "19566         547     6  \n",
       "21481         547     6  \n",
       "22595         547     6  \n",
       "26187         547     6  \n",
       "26963         547     6  \n",
       "27564         547     6  \n",
       "31028         547     6  \n",
       "32913         547     6  \n",
       "33156         547     6  \n",
       "39714         547     6  \n",
       "43983         547     6  \n",
       "44185         547     6  \n",
       "46322         547     6  \n",
       "48228         547     6  \n",
       "50529         547     6  \n",
       "51016         547     6  \n",
       "52453         547     6  \n",
       "58507         547     6  \n",
       "66503         547     6  \n",
       "66805         547     0  \n",
       "68054         547     6  \n",
       "73928         547    14  \n",
       "77870         547    14  \n",
       "78594         547    14  \n",
       "81357         547    14  \n",
       "82780         547    14  \n",
       "82909         547    14  "
      ]
     },
     "execution_count": 18,
     "metadata": {},
     "output_type": "execute_result"
    }
   ],
   "source": [
    "edges.loc[edges['index_tail'] == 547]"
   ]
  },
  {
   "cell_type": "markdown",
   "metadata": {},
   "source": [
    "Index list can be used later for converting back to the label of the relation."
   ]
  },
  {
   "cell_type": "code",
   "execution_count": 19,
   "metadata": {},
   "outputs": [
    {
     "data": {
      "text/plain": [
       "Index(['in orthology relationship with',\n",
       "       'in 1 to 1 orthology relationship with', 'expressed in', 'is part of',\n",
       "       'has phenotype', 'enables', 'interacts with', 'involved in',\n",
       "       'colocalizes with', 'is causal germline mutation in',\n",
       "       'contributes to condition', 'has affected feature',\n",
       "       'pathogenic for condition', 'contributes to', 'targets',\n",
       "       'has role in modeling', 'is allele of',\n",
       "       'likely pathogenic for condition', 'causes condition', 'source',\n",
       "       'has genotype', 'is causal germline mutation partially giving rise to',\n",
       "       'is marker for'],\n",
       "      dtype='object')"
      ]
     },
     "execution_count": 19,
     "metadata": {},
     "output_type": "execute_result"
    }
   ],
   "source": [
    "_, relation_labels = pd.factorize(edges['relation'])\n",
    "relation_labels"
   ]
  },
  {
   "attachments": {},
   "cell_type": "markdown",
   "metadata": {},
   "source": [
    "# Link Prediction"
   ]
  },
  {
   "attachments": {},
   "cell_type": "markdown",
   "metadata": {},
   "source": [
    "Creating a graph including the node embeddings as features of each node."
   ]
  },
  {
   "cell_type": "code",
   "execution_count": 20,
   "metadata": {},
   "outputs": [
    {
     "name": "stdout",
     "output_type": "stream",
     "text": [
      "(0, {'node_feature': tensor([-0.8017, -0.3131,  1.3364,  0.0479,  0.1519,  0.0036,  0.0339, -0.2446,\n",
      "         1.2985, -0.1459, -0.3350, -1.2716, -1.1471,  0.2593, -0.3035, -1.1219,\n",
      "        -0.0516, -0.6955, -0.2582,  2.0766, -0.1314,  1.2659, -0.3483, -0.8218,\n",
      "         1.4621, -0.6987, -0.0468,  0.3544, -0.2787, -0.7689,  0.3949, -0.3567])})\n",
      "(0, 5765, {})\n",
      "Number of edges is 52024\n",
      "Number of nodes is 10034\n"
     ]
    }
   ],
   "source": [
    "embedded_node_G = nx.Graph() # TODO: DiGraph?\n",
    "\n",
    "for ind, node in embedding.iterrows(): \n",
    "  embedded_node_G.add_node(int(node['Node']), node_feature=torch.Tensor(node['Embedding']))\n",
    "for ind, edge in edges.iterrows(): \n",
    "  embedded_node_G.add_edge(int(edge['index_head']), int(edge['index_tail']))\n",
    "    \n",
    "for node in embedded_node_G.nodes(data=True):\n",
    "    print(node)\n",
    "    break\n",
    "for edge in embedded_node_G.edges(data=True):\n",
    "    print(edge)\n",
    "    break\n",
    "\n",
    "print(\"Number of edges is {}\".format(embedded_node_G.number_of_edges()))\n",
    "print(\"Number of nodes is {}\".format(embedded_node_G.number_of_nodes()))"
   ]
  },
  {
   "attachments": {},
   "cell_type": "markdown",
   "metadata": {},
   "source": [
    "## Generate graph datasets for training, validation and testing"
   ]
  },
  {
   "attachments": {},
   "cell_type": "markdown",
   "metadata": {},
   "source": [
    "Transductive link prediction split (https://zqfang.github.io/2021-08-12-graph-linkpredict/):\n",
    "- Train/validation/test sets are on the same graph\n",
    "- The dataset consists of one graph\n",
    "- The entire graph can be observed in all dataset splits\n",
    "- The labels of the edges are split"
   ]
  },
  {
   "cell_type": "code",
   "execution_count": 21,
   "metadata": {},
   "outputs": [
    {
     "name": "stderr",
     "output_type": "stream",
     "text": [
      "c:\\Users\\rosa-\\anaconda3\\envs\\xaifo\\lib\\site-packages\\deepsnap\\graph.py:2126: UserWarning: __floordiv__ is deprecated, and its behavior will change in a future version of pytorch. It currently rounds toward 0 (like the 'trunc' function NOT 'floor'). This results in incorrect rounding for negative values. To keep the current behavior, use torch.div(a, b, rounding_mode='trunc'), or for actual floor division, use torch.div(a, b, rounding_mode='floor').\n",
      "  row = perm // num_nodes\n"
     ]
    },
    {
     "name": "stdout",
     "output_type": "stream",
     "text": [
      "Input dimension (embedding dimension): 32 \n",
      " Number of edge classes (link or no link): 2\n"
     ]
    }
   ],
   "source": [
    "dataset = GraphDataset(\n",
    "    embedded_node_G,\n",
    "    task='link_pred',\n",
    "    edge_train_mode='all',\n",
    "    edge_negative_sampling_ratio=1\n",
    ")\n",
    "\n",
    "datasets = {}\n",
    "datasets['train'], datasets['val'], datasets['test'] = dataset.split(\n",
    "    transductive=True, split_ratio=[0.8, 0.1, 0.1]\n",
    ")\n",
    "\n",
    "input_dim = datasets['train'].num_node_features\n",
    "num_classes = datasets['train'].num_edge_labels\n",
    "\n",
    "print(f'Input dimension (embedding dimension): {input_dim} \\n Number of edge classes (link or no link): {num_classes}')   "
   ]
  },
  {
   "attachments": {},
   "cell_type": "markdown",
   "metadata": {},
   "source": [
    "Dataloaders allow to feed data into the model by batch."
   ]
  },
  {
   "cell_type": "code",
   "execution_count": 22,
   "metadata": {},
   "outputs": [],
   "source": [
    "dataloaders = {split: DataLoader(ds, collate_fn=Batch.collate([]), batch_size=1, shuffle=(split=='train')) for split, ds in datasets.items()}"
   ]
  },
  {
   "attachments": {},
   "cell_type": "markdown",
   "metadata": {},
   "source": [
    "## Train GNN"
   ]
  },
  {
   "attachments": {},
   "cell_type": "markdown",
   "metadata": {},
   "source": [
    "### Predefined Arguments"
   ]
  },
  {
   "attachments": {},
   "cell_type": "markdown",
   "metadata": {},
   "source": [
    "Train GNN with predefined arguments"
   ]
  },
  {
   "cell_type": "code",
   "execution_count": 23,
   "metadata": {},
   "outputs": [
    {
     "name": "stdout",
     "output_type": "stream",
     "text": [
      "{'device': device(type='cpu'), 'hidden_dim': 256, 'output_dim': 64, 'epochs': 150, 'lr': 0.07, 'aggr': 'mean', 'layers': 2, 'dropout': 0.2} 0.0005\n"
     ]
    }
   ],
   "source": [
    "if embedding_method == 'e2v':\n",
    "    weight_decay = 5e-4\n",
    "else:\n",
    "    weight_decay = 0.01\n",
    "\n",
    "if dataset_nr == 1:\n",
    "    if embedding_method == 'e2v':\n",
    "        args = {\n",
    "            \"device\" : torch_device,   # insert torch_device, or 'cpu' \n",
    "            \"hidden_dim\" : 256,\n",
    "            'output_dim': 64,\n",
    "            \"epochs\" : 150, \n",
    "            'lr': 0.07, \n",
    "            'aggr': 'mean', \n",
    "            'layers': 2, \n",
    "            'dropout': 0.2\n",
    "        }\n",
    "    else:\n",
    "        args = {\n",
    "            \"device\" : torch_device,   # insert torch_device, or 'cpu' \n",
    "            \"hidden_dim\" : 64,\n",
    "            'output_dim': 64,\n",
    "            \"epochs\" : 150, \n",
    "            'lr': 0.08012563751611058, \n",
    "            'aggr': 'mean', \n",
    "            'layers': 6, \n",
    "            'dropout': 0\n",
    "        }\n",
    "    \n",
    "else:\n",
    "    if embedding_method == 'e2v':\n",
    "        args = {\n",
    "            \"device\" : torch_device,   # insert torch_device, or 'cpu' \n",
    "            \"hidden_dim\" : 256,\n",
    "            'output_dim': 64,\n",
    "            \"epochs\" : 100, \n",
    "            'lr': 0.013477408995651594, \n",
    "            'aggr': 'mean', \n",
    "            'layers': 2, \n",
    "            'dropout': 0.2\n",
    "        }\n",
    "    else:\n",
    "        args = {\n",
    "            \"device\" : torch_device,   # insert torch_device, or 'cpu' \n",
    "            \"hidden_dim\" : 128,\n",
    "            'output_dim': 64,\n",
    "            \"epochs\" : 150, \n",
    "            'lr': 0.07, \n",
    "            'aggr': 'mean', \n",
    "            'layers': 2, \n",
    "            'dropout': 0.1\n",
    "        }\n",
    "\n",
    "print(args, weight_decay)\n",
    "\n",
    "model = LinkPredModel(input_dim, args['hidden_dim'], args['output_dim'], args['layers'], args['aggr'], args['dropout'], args['device']).to(args['device'])\n",
    "optimizer = torch.optim.SGD(model.parameters(), lr=args['lr'], momentum=0.9, weight_decay=weight_decay)"
   ]
  },
  {
   "cell_type": "code",
   "execution_count": 24,
   "metadata": {},
   "outputs": [
    {
     "name": "stdout",
     "output_type": "stream",
     "text": [
      "Start Train Function\n",
      "Epoch: 001, Train: 0.9236, Val: 0.9033, Test: 0.8980, Loss: 2.69194\n"
     ]
    },
    {
     "name": "stderr",
     "output_type": "stream",
     "text": [
      "c:\\Users\\rosa-\\anaconda3\\envs\\xaifo\\lib\\site-packages\\deepsnap\\graph.py:2126: UserWarning: __floordiv__ is deprecated, and its behavior will change in a future version of pytorch. It currently rounds toward 0 (like the 'trunc' function NOT 'floor'). This results in incorrect rounding for negative values. To keep the current behavior, use torch.div(a, b, rounding_mode='trunc'), or for actual floor division, use torch.div(a, b, rounding_mode='floor').\n",
      "  row = perm // num_nodes\n"
     ]
    },
    {
     "name": "stdout",
     "output_type": "stream",
     "text": [
      "Epoch: 002, Train: 0.9024, Val: 0.8877, Test: 0.8847, Loss: 2.50589\n"
     ]
    },
    {
     "name": "stderr",
     "output_type": "stream",
     "text": [
      "c:\\Users\\rosa-\\anaconda3\\envs\\xaifo\\lib\\site-packages\\deepsnap\\graph.py:2126: UserWarning: __floordiv__ is deprecated, and its behavior will change in a future version of pytorch. It currently rounds toward 0 (like the 'trunc' function NOT 'floor'). This results in incorrect rounding for negative values. To keep the current behavior, use torch.div(a, b, rounding_mode='trunc'), or for actual floor division, use torch.div(a, b, rounding_mode='floor').\n",
      "  row = perm // num_nodes\n"
     ]
    },
    {
     "name": "stdout",
     "output_type": "stream",
     "text": [
      "Epoch: 003, Train: 0.8920, Val: 0.8807, Test: 0.8790, Loss: 2.28140\n"
     ]
    },
    {
     "name": "stderr",
     "output_type": "stream",
     "text": [
      "c:\\Users\\rosa-\\anaconda3\\envs\\xaifo\\lib\\site-packages\\deepsnap\\graph.py:2126: UserWarning: __floordiv__ is deprecated, and its behavior will change in a future version of pytorch. It currently rounds toward 0 (like the 'trunc' function NOT 'floor'). This results in incorrect rounding for negative values. To keep the current behavior, use torch.div(a, b, rounding_mode='trunc'), or for actual floor division, use torch.div(a, b, rounding_mode='floor').\n",
      "  row = perm // num_nodes\n"
     ]
    },
    {
     "name": "stdout",
     "output_type": "stream",
     "text": [
      "Epoch: 004, Train: 0.9016, Val: 0.8820, Test: 0.8824, Loss: 2.17980\n"
     ]
    },
    {
     "name": "stderr",
     "output_type": "stream",
     "text": [
      "c:\\Users\\rosa-\\anaconda3\\envs\\xaifo\\lib\\site-packages\\deepsnap\\graph.py:2126: UserWarning: __floordiv__ is deprecated, and its behavior will change in a future version of pytorch. It currently rounds toward 0 (like the 'trunc' function NOT 'floor'). This results in incorrect rounding for negative values. To keep the current behavior, use torch.div(a, b, rounding_mode='trunc'), or for actual floor division, use torch.div(a, b, rounding_mode='floor').\n",
      "  row = perm // num_nodes\n"
     ]
    },
    {
     "name": "stdout",
     "output_type": "stream",
     "text": [
      "Epoch: 005, Train: 0.9118, Val: 0.8870, Test: 0.8884, Loss: 1.97292\n"
     ]
    },
    {
     "name": "stderr",
     "output_type": "stream",
     "text": [
      "c:\\Users\\rosa-\\anaconda3\\envs\\xaifo\\lib\\site-packages\\deepsnap\\graph.py:2126: UserWarning: __floordiv__ is deprecated, and its behavior will change in a future version of pytorch. It currently rounds toward 0 (like the 'trunc' function NOT 'floor'). This results in incorrect rounding for negative values. To keep the current behavior, use torch.div(a, b, rounding_mode='trunc'), or for actual floor division, use torch.div(a, b, rounding_mode='floor').\n",
      "  row = perm // num_nodes\n"
     ]
    },
    {
     "name": "stdout",
     "output_type": "stream",
     "text": [
      "Epoch: 006, Train: 0.9227, Val: 0.8942, Test: 0.8964, Loss: 1.86852\n"
     ]
    },
    {
     "name": "stderr",
     "output_type": "stream",
     "text": [
      "c:\\Users\\rosa-\\anaconda3\\envs\\xaifo\\lib\\site-packages\\deepsnap\\graph.py:2126: UserWarning: __floordiv__ is deprecated, and its behavior will change in a future version of pytorch. It currently rounds toward 0 (like the 'trunc' function NOT 'floor'). This results in incorrect rounding for negative values. To keep the current behavior, use torch.div(a, b, rounding_mode='trunc'), or for actual floor division, use torch.div(a, b, rounding_mode='floor').\n",
      "  row = perm // num_nodes\n"
     ]
    },
    {
     "name": "stdout",
     "output_type": "stream",
     "text": [
      "Epoch: 007, Train: 0.9271, Val: 0.8975, Test: 0.9002, Loss: 1.74152\n"
     ]
    },
    {
     "name": "stderr",
     "output_type": "stream",
     "text": [
      "c:\\Users\\rosa-\\anaconda3\\envs\\xaifo\\lib\\site-packages\\deepsnap\\graph.py:2126: UserWarning: __floordiv__ is deprecated, and its behavior will change in a future version of pytorch. It currently rounds toward 0 (like the 'trunc' function NOT 'floor'). This results in incorrect rounding for negative values. To keep the current behavior, use torch.div(a, b, rounding_mode='trunc'), or for actual floor division, use torch.div(a, b, rounding_mode='floor').\n",
      "  row = perm // num_nodes\n"
     ]
    },
    {
     "name": "stdout",
     "output_type": "stream",
     "text": [
      "Epoch: 008, Train: 0.9246, Val: 0.8982, Test: 0.9012, Loss: 1.57374\n"
     ]
    },
    {
     "name": "stderr",
     "output_type": "stream",
     "text": [
      "c:\\Users\\rosa-\\anaconda3\\envs\\xaifo\\lib\\site-packages\\deepsnap\\graph.py:2126: UserWarning: __floordiv__ is deprecated, and its behavior will change in a future version of pytorch. It currently rounds toward 0 (like the 'trunc' function NOT 'floor'). This results in incorrect rounding for negative values. To keep the current behavior, use torch.div(a, b, rounding_mode='trunc'), or for actual floor division, use torch.div(a, b, rounding_mode='floor').\n",
      "  row = perm // num_nodes\n"
     ]
    },
    {
     "name": "stdout",
     "output_type": "stream",
     "text": [
      "Epoch: 009, Train: 0.9179, Val: 0.8970, Test: 0.9005, Loss: 1.43825\n"
     ]
    },
    {
     "name": "stderr",
     "output_type": "stream",
     "text": [
      "c:\\Users\\rosa-\\anaconda3\\envs\\xaifo\\lib\\site-packages\\deepsnap\\graph.py:2126: UserWarning: __floordiv__ is deprecated, and its behavior will change in a future version of pytorch. It currently rounds toward 0 (like the 'trunc' function NOT 'floor'). This results in incorrect rounding for negative values. To keep the current behavior, use torch.div(a, b, rounding_mode='trunc'), or for actual floor division, use torch.div(a, b, rounding_mode='floor').\n",
      "  row = perm // num_nodes\n"
     ]
    },
    {
     "name": "stdout",
     "output_type": "stream",
     "text": [
      "Epoch: 010, Train: 0.9197, Val: 0.9003, Test: 0.9045, Loss: 1.35575\n"
     ]
    },
    {
     "name": "stderr",
     "output_type": "stream",
     "text": [
      "c:\\Users\\rosa-\\anaconda3\\envs\\xaifo\\lib\\site-packages\\deepsnap\\graph.py:2126: UserWarning: __floordiv__ is deprecated, and its behavior will change in a future version of pytorch. It currently rounds toward 0 (like the 'trunc' function NOT 'floor'). This results in incorrect rounding for negative values. To keep the current behavior, use torch.div(a, b, rounding_mode='trunc'), or for actual floor division, use torch.div(a, b, rounding_mode='floor').\n",
      "  row = perm // num_nodes\n"
     ]
    },
    {
     "name": "stdout",
     "output_type": "stream",
     "text": [
      "Epoch: 011, Train: 0.9254, Val: 0.9067, Test: 0.9115, Loss: 1.25194\n"
     ]
    },
    {
     "name": "stderr",
     "output_type": "stream",
     "text": [
      "c:\\Users\\rosa-\\anaconda3\\envs\\xaifo\\lib\\site-packages\\deepsnap\\graph.py:2126: UserWarning: __floordiv__ is deprecated, and its behavior will change in a future version of pytorch. It currently rounds toward 0 (like the 'trunc' function NOT 'floor'). This results in incorrect rounding for negative values. To keep the current behavior, use torch.div(a, b, rounding_mode='trunc'), or for actual floor division, use torch.div(a, b, rounding_mode='floor').\n",
      "  row = perm // num_nodes\n"
     ]
    },
    {
     "name": "stdout",
     "output_type": "stream",
     "text": [
      "Epoch: 012, Train: 0.9322, Val: 0.9133, Test: 0.9185, Loss: 1.16316\n"
     ]
    },
    {
     "name": "stderr",
     "output_type": "stream",
     "text": [
      "c:\\Users\\rosa-\\anaconda3\\envs\\xaifo\\lib\\site-packages\\deepsnap\\graph.py:2126: UserWarning: __floordiv__ is deprecated, and its behavior will change in a future version of pytorch. It currently rounds toward 0 (like the 'trunc' function NOT 'floor'). This results in incorrect rounding for negative values. To keep the current behavior, use torch.div(a, b, rounding_mode='trunc'), or for actual floor division, use torch.div(a, b, rounding_mode='floor').\n",
      "  row = perm // num_nodes\n"
     ]
    },
    {
     "name": "stdout",
     "output_type": "stream",
     "text": [
      "Epoch: 013, Train: 0.9381, Val: 0.9183, Test: 0.9234, Loss: 1.08352\n"
     ]
    },
    {
     "name": "stderr",
     "output_type": "stream",
     "text": [
      "c:\\Users\\rosa-\\anaconda3\\envs\\xaifo\\lib\\site-packages\\deepsnap\\graph.py:2126: UserWarning: __floordiv__ is deprecated, and its behavior will change in a future version of pytorch. It currently rounds toward 0 (like the 'trunc' function NOT 'floor'). This results in incorrect rounding for negative values. To keep the current behavior, use torch.div(a, b, rounding_mode='trunc'), or for actual floor division, use torch.div(a, b, rounding_mode='floor').\n",
      "  row = perm // num_nodes\n"
     ]
    },
    {
     "name": "stdout",
     "output_type": "stream",
     "text": [
      "Epoch: 014, Train: 0.9426, Val: 0.9210, Test: 0.9263, Loss: 1.00029\n"
     ]
    },
    {
     "name": "stderr",
     "output_type": "stream",
     "text": [
      "c:\\Users\\rosa-\\anaconda3\\envs\\xaifo\\lib\\site-packages\\deepsnap\\graph.py:2126: UserWarning: __floordiv__ is deprecated, and its behavior will change in a future version of pytorch. It currently rounds toward 0 (like the 'trunc' function NOT 'floor'). This results in incorrect rounding for negative values. To keep the current behavior, use torch.div(a, b, rounding_mode='trunc'), or for actual floor division, use torch.div(a, b, rounding_mode='floor').\n",
      "  row = perm // num_nodes\n"
     ]
    },
    {
     "name": "stdout",
     "output_type": "stream",
     "text": [
      "Epoch: 015, Train: 0.9444, Val: 0.9214, Test: 0.9266, Loss: 0.93591\n"
     ]
    },
    {
     "name": "stderr",
     "output_type": "stream",
     "text": [
      "c:\\Users\\rosa-\\anaconda3\\envs\\xaifo\\lib\\site-packages\\deepsnap\\graph.py:2126: UserWarning: __floordiv__ is deprecated, and its behavior will change in a future version of pytorch. It currently rounds toward 0 (like the 'trunc' function NOT 'floor'). This results in incorrect rounding for negative values. To keep the current behavior, use torch.div(a, b, rounding_mode='trunc'), or for actual floor division, use torch.div(a, b, rounding_mode='floor').\n",
      "  row = perm // num_nodes\n"
     ]
    },
    {
     "name": "stdout",
     "output_type": "stream",
     "text": [
      "Epoch: 016, Train: 0.9423, Val: 0.9201, Test: 0.9251, Loss: 0.86890\n"
     ]
    },
    {
     "name": "stderr",
     "output_type": "stream",
     "text": [
      "c:\\Users\\rosa-\\anaconda3\\envs\\xaifo\\lib\\site-packages\\deepsnap\\graph.py:2126: UserWarning: __floordiv__ is deprecated, and its behavior will change in a future version of pytorch. It currently rounds toward 0 (like the 'trunc' function NOT 'floor'). This results in incorrect rounding for negative values. To keep the current behavior, use torch.div(a, b, rounding_mode='trunc'), or for actual floor division, use torch.div(a, b, rounding_mode='floor').\n",
      "  row = perm // num_nodes\n"
     ]
    },
    {
     "name": "stdout",
     "output_type": "stream",
     "text": [
      "Epoch: 017, Train: 0.9417, Val: 0.9182, Test: 0.9224, Loss: 0.79451\n"
     ]
    },
    {
     "name": "stderr",
     "output_type": "stream",
     "text": [
      "c:\\Users\\rosa-\\anaconda3\\envs\\xaifo\\lib\\site-packages\\deepsnap\\graph.py:2126: UserWarning: __floordiv__ is deprecated, and its behavior will change in a future version of pytorch. It currently rounds toward 0 (like the 'trunc' function NOT 'floor'). This results in incorrect rounding for negative values. To keep the current behavior, use torch.div(a, b, rounding_mode='trunc'), or for actual floor division, use torch.div(a, b, rounding_mode='floor').\n",
      "  row = perm // num_nodes\n"
     ]
    },
    {
     "name": "stdout",
     "output_type": "stream",
     "text": [
      "Epoch: 018, Train: 0.9419, Val: 0.9164, Test: 0.9196, Loss: 0.75924\n"
     ]
    },
    {
     "name": "stderr",
     "output_type": "stream",
     "text": [
      "c:\\Users\\rosa-\\anaconda3\\envs\\xaifo\\lib\\site-packages\\deepsnap\\graph.py:2126: UserWarning: __floordiv__ is deprecated, and its behavior will change in a future version of pytorch. It currently rounds toward 0 (like the 'trunc' function NOT 'floor'). This results in incorrect rounding for negative values. To keep the current behavior, use torch.div(a, b, rounding_mode='trunc'), or for actual floor division, use torch.div(a, b, rounding_mode='floor').\n",
      "  row = perm // num_nodes\n"
     ]
    },
    {
     "name": "stdout",
     "output_type": "stream",
     "text": [
      "Epoch: 019, Train: 0.9403, Val: 0.9152, Test: 0.9172, Loss: 0.70218\n"
     ]
    },
    {
     "name": "stderr",
     "output_type": "stream",
     "text": [
      "c:\\Users\\rosa-\\anaconda3\\envs\\xaifo\\lib\\site-packages\\deepsnap\\graph.py:2126: UserWarning: __floordiv__ is deprecated, and its behavior will change in a future version of pytorch. It currently rounds toward 0 (like the 'trunc' function NOT 'floor'). This results in incorrect rounding for negative values. To keep the current behavior, use torch.div(a, b, rounding_mode='trunc'), or for actual floor division, use torch.div(a, b, rounding_mode='floor').\n",
      "  row = perm // num_nodes\n"
     ]
    },
    {
     "name": "stdout",
     "output_type": "stream",
     "text": [
      "Epoch: 020, Train: 0.9408, Val: 0.9148, Test: 0.9157, Loss: 0.66536\n"
     ]
    },
    {
     "name": "stderr",
     "output_type": "stream",
     "text": [
      "c:\\Users\\rosa-\\anaconda3\\envs\\xaifo\\lib\\site-packages\\deepsnap\\graph.py:2126: UserWarning: __floordiv__ is deprecated, and its behavior will change in a future version of pytorch. It currently rounds toward 0 (like the 'trunc' function NOT 'floor'). This results in incorrect rounding for negative values. To keep the current behavior, use torch.div(a, b, rounding_mode='trunc'), or for actual floor division, use torch.div(a, b, rounding_mode='floor').\n",
      "  row = perm // num_nodes\n"
     ]
    },
    {
     "name": "stdout",
     "output_type": "stream",
     "text": [
      "Epoch: 021, Train: 0.9413, Val: 0.9153, Test: 0.9149, Loss: 0.63820\n"
     ]
    },
    {
     "name": "stderr",
     "output_type": "stream",
     "text": [
      "c:\\Users\\rosa-\\anaconda3\\envs\\xaifo\\lib\\site-packages\\deepsnap\\graph.py:2126: UserWarning: __floordiv__ is deprecated, and its behavior will change in a future version of pytorch. It currently rounds toward 0 (like the 'trunc' function NOT 'floor'). This results in incorrect rounding for negative values. To keep the current behavior, use torch.div(a, b, rounding_mode='trunc'), or for actual floor division, use torch.div(a, b, rounding_mode='floor').\n",
      "  row = perm // num_nodes\n"
     ]
    },
    {
     "name": "stdout",
     "output_type": "stream",
     "text": [
      "Epoch: 022, Train: 0.9431, Val: 0.9167, Test: 0.9154, Loss: 0.60688\n"
     ]
    },
    {
     "name": "stderr",
     "output_type": "stream",
     "text": [
      "c:\\Users\\rosa-\\anaconda3\\envs\\xaifo\\lib\\site-packages\\deepsnap\\graph.py:2126: UserWarning: __floordiv__ is deprecated, and its behavior will change in a future version of pytorch. It currently rounds toward 0 (like the 'trunc' function NOT 'floor'). This results in incorrect rounding for negative values. To keep the current behavior, use torch.div(a, b, rounding_mode='trunc'), or for actual floor division, use torch.div(a, b, rounding_mode='floor').\n",
      "  row = perm // num_nodes\n"
     ]
    },
    {
     "name": "stdout",
     "output_type": "stream",
     "text": [
      "Epoch: 023, Train: 0.9454, Val: 0.9187, Test: 0.9164, Loss: 0.58435\n"
     ]
    },
    {
     "name": "stderr",
     "output_type": "stream",
     "text": [
      "c:\\Users\\rosa-\\anaconda3\\envs\\xaifo\\lib\\site-packages\\deepsnap\\graph.py:2126: UserWarning: __floordiv__ is deprecated, and its behavior will change in a future version of pytorch. It currently rounds toward 0 (like the 'trunc' function NOT 'floor'). This results in incorrect rounding for negative values. To keep the current behavior, use torch.div(a, b, rounding_mode='trunc'), or for actual floor division, use torch.div(a, b, rounding_mode='floor').\n",
      "  row = perm // num_nodes\n"
     ]
    },
    {
     "name": "stdout",
     "output_type": "stream",
     "text": [
      "Epoch: 024, Train: 0.9494, Val: 0.9210, Test: 0.9178, Loss: 0.56488\n"
     ]
    },
    {
     "name": "stderr",
     "output_type": "stream",
     "text": [
      "c:\\Users\\rosa-\\anaconda3\\envs\\xaifo\\lib\\site-packages\\deepsnap\\graph.py:2126: UserWarning: __floordiv__ is deprecated, and its behavior will change in a future version of pytorch. It currently rounds toward 0 (like the 'trunc' function NOT 'floor'). This results in incorrect rounding for negative values. To keep the current behavior, use torch.div(a, b, rounding_mode='trunc'), or for actual floor division, use torch.div(a, b, rounding_mode='floor').\n",
      "  row = perm // num_nodes\n"
     ]
    },
    {
     "name": "stdout",
     "output_type": "stream",
     "text": [
      "Epoch: 025, Train: 0.9534, Val: 0.9234, Test: 0.9196, Loss: 0.54184\n"
     ]
    },
    {
     "name": "stderr",
     "output_type": "stream",
     "text": [
      "c:\\Users\\rosa-\\anaconda3\\envs\\xaifo\\lib\\site-packages\\deepsnap\\graph.py:2126: UserWarning: __floordiv__ is deprecated, and its behavior will change in a future version of pytorch. It currently rounds toward 0 (like the 'trunc' function NOT 'floor'). This results in incorrect rounding for negative values. To keep the current behavior, use torch.div(a, b, rounding_mode='trunc'), or for actual floor division, use torch.div(a, b, rounding_mode='floor').\n",
      "  row = perm // num_nodes\n"
     ]
    },
    {
     "name": "stdout",
     "output_type": "stream",
     "text": [
      "Epoch: 026, Train: 0.9553, Val: 0.9259, Test: 0.9216, Loss: 0.52678\n"
     ]
    },
    {
     "name": "stderr",
     "output_type": "stream",
     "text": [
      "c:\\Users\\rosa-\\anaconda3\\envs\\xaifo\\lib\\site-packages\\deepsnap\\graph.py:2126: UserWarning: __floordiv__ is deprecated, and its behavior will change in a future version of pytorch. It currently rounds toward 0 (like the 'trunc' function NOT 'floor'). This results in incorrect rounding for negative values. To keep the current behavior, use torch.div(a, b, rounding_mode='trunc'), or for actual floor division, use torch.div(a, b, rounding_mode='floor').\n",
      "  row = perm // num_nodes\n"
     ]
    },
    {
     "name": "stdout",
     "output_type": "stream",
     "text": [
      "Epoch: 027, Train: 0.9599, Val: 0.9284, Test: 0.9238, Loss: 0.51165\n"
     ]
    },
    {
     "name": "stderr",
     "output_type": "stream",
     "text": [
      "c:\\Users\\rosa-\\anaconda3\\envs\\xaifo\\lib\\site-packages\\deepsnap\\graph.py:2126: UserWarning: __floordiv__ is deprecated, and its behavior will change in a future version of pytorch. It currently rounds toward 0 (like the 'trunc' function NOT 'floor'). This results in incorrect rounding for negative values. To keep the current behavior, use torch.div(a, b, rounding_mode='trunc'), or for actual floor division, use torch.div(a, b, rounding_mode='floor').\n",
      "  row = perm // num_nodes\n"
     ]
    },
    {
     "name": "stdout",
     "output_type": "stream",
     "text": [
      "Epoch: 028, Train: 0.9619, Val: 0.9307, Test: 0.9260, Loss: 0.50371\n"
     ]
    },
    {
     "name": "stderr",
     "output_type": "stream",
     "text": [
      "c:\\Users\\rosa-\\anaconda3\\envs\\xaifo\\lib\\site-packages\\deepsnap\\graph.py:2126: UserWarning: __floordiv__ is deprecated, and its behavior will change in a future version of pytorch. It currently rounds toward 0 (like the 'trunc' function NOT 'floor'). This results in incorrect rounding for negative values. To keep the current behavior, use torch.div(a, b, rounding_mode='trunc'), or for actual floor division, use torch.div(a, b, rounding_mode='floor').\n",
      "  row = perm // num_nodes\n"
     ]
    },
    {
     "name": "stdout",
     "output_type": "stream",
     "text": [
      "Epoch: 029, Train: 0.9652, Val: 0.9331, Test: 0.9284, Loss: 0.49271\n"
     ]
    },
    {
     "name": "stderr",
     "output_type": "stream",
     "text": [
      "c:\\Users\\rosa-\\anaconda3\\envs\\xaifo\\lib\\site-packages\\deepsnap\\graph.py:2126: UserWarning: __floordiv__ is deprecated, and its behavior will change in a future version of pytorch. It currently rounds toward 0 (like the 'trunc' function NOT 'floor'). This results in incorrect rounding for negative values. To keep the current behavior, use torch.div(a, b, rounding_mode='trunc'), or for actual floor division, use torch.div(a, b, rounding_mode='floor').\n",
      "  row = perm // num_nodes\n"
     ]
    },
    {
     "name": "stdout",
     "output_type": "stream",
     "text": [
      "Epoch: 030, Train: 0.9681, Val: 0.9355, Test: 0.9310, Loss: 0.48240\n"
     ]
    },
    {
     "name": "stderr",
     "output_type": "stream",
     "text": [
      "c:\\Users\\rosa-\\anaconda3\\envs\\xaifo\\lib\\site-packages\\deepsnap\\graph.py:2126: UserWarning: __floordiv__ is deprecated, and its behavior will change in a future version of pytorch. It currently rounds toward 0 (like the 'trunc' function NOT 'floor'). This results in incorrect rounding for negative values. To keep the current behavior, use torch.div(a, b, rounding_mode='trunc'), or for actual floor division, use torch.div(a, b, rounding_mode='floor').\n",
      "  row = perm // num_nodes\n"
     ]
    },
    {
     "name": "stdout",
     "output_type": "stream",
     "text": [
      "Epoch: 031, Train: 0.9706, Val: 0.9377, Test: 0.9334, Loss: 0.48040\n"
     ]
    },
    {
     "name": "stderr",
     "output_type": "stream",
     "text": [
      "c:\\Users\\rosa-\\anaconda3\\envs\\xaifo\\lib\\site-packages\\deepsnap\\graph.py:2126: UserWarning: __floordiv__ is deprecated, and its behavior will change in a future version of pytorch. It currently rounds toward 0 (like the 'trunc' function NOT 'floor'). This results in incorrect rounding for negative values. To keep the current behavior, use torch.div(a, b, rounding_mode='trunc'), or for actual floor division, use torch.div(a, b, rounding_mode='floor').\n",
      "  row = perm // num_nodes\n"
     ]
    },
    {
     "name": "stdout",
     "output_type": "stream",
     "text": [
      "Epoch: 032, Train: 0.9730, Val: 0.9399, Test: 0.9358, Loss: 0.47576\n"
     ]
    },
    {
     "name": "stderr",
     "output_type": "stream",
     "text": [
      "c:\\Users\\rosa-\\anaconda3\\envs\\xaifo\\lib\\site-packages\\deepsnap\\graph.py:2126: UserWarning: __floordiv__ is deprecated, and its behavior will change in a future version of pytorch. It currently rounds toward 0 (like the 'trunc' function NOT 'floor'). This results in incorrect rounding for negative values. To keep the current behavior, use torch.div(a, b, rounding_mode='trunc'), or for actual floor division, use torch.div(a, b, rounding_mode='floor').\n",
      "  row = perm // num_nodes\n"
     ]
    },
    {
     "name": "stdout",
     "output_type": "stream",
     "text": [
      "Epoch: 033, Train: 0.9753, Val: 0.9417, Test: 0.9379, Loss: 0.46803\n"
     ]
    },
    {
     "name": "stderr",
     "output_type": "stream",
     "text": [
      "c:\\Users\\rosa-\\anaconda3\\envs\\xaifo\\lib\\site-packages\\deepsnap\\graph.py:2126: UserWarning: __floordiv__ is deprecated, and its behavior will change in a future version of pytorch. It currently rounds toward 0 (like the 'trunc' function NOT 'floor'). This results in incorrect rounding for negative values. To keep the current behavior, use torch.div(a, b, rounding_mode='trunc'), or for actual floor division, use torch.div(a, b, rounding_mode='floor').\n",
      "  row = perm // num_nodes\n"
     ]
    },
    {
     "name": "stdout",
     "output_type": "stream",
     "text": [
      "Epoch: 034, Train: 0.9770, Val: 0.9433, Test: 0.9397, Loss: 0.46113\n"
     ]
    },
    {
     "name": "stderr",
     "output_type": "stream",
     "text": [
      "c:\\Users\\rosa-\\anaconda3\\envs\\xaifo\\lib\\site-packages\\deepsnap\\graph.py:2126: UserWarning: __floordiv__ is deprecated, and its behavior will change in a future version of pytorch. It currently rounds toward 0 (like the 'trunc' function NOT 'floor'). This results in incorrect rounding for negative values. To keep the current behavior, use torch.div(a, b, rounding_mode='trunc'), or for actual floor division, use torch.div(a, b, rounding_mode='floor').\n",
      "  row = perm // num_nodes\n"
     ]
    },
    {
     "name": "stdout",
     "output_type": "stream",
     "text": [
      "Epoch: 035, Train: 0.9794, Val: 0.9446, Test: 0.9412, Loss: 0.45949\n"
     ]
    },
    {
     "name": "stderr",
     "output_type": "stream",
     "text": [
      "c:\\Users\\rosa-\\anaconda3\\envs\\xaifo\\lib\\site-packages\\deepsnap\\graph.py:2126: UserWarning: __floordiv__ is deprecated, and its behavior will change in a future version of pytorch. It currently rounds toward 0 (like the 'trunc' function NOT 'floor'). This results in incorrect rounding for negative values. To keep the current behavior, use torch.div(a, b, rounding_mode='trunc'), or for actual floor division, use torch.div(a, b, rounding_mode='floor').\n",
      "  row = perm // num_nodes\n"
     ]
    },
    {
     "name": "stdout",
     "output_type": "stream",
     "text": [
      "Epoch: 036, Train: 0.9797, Val: 0.9455, Test: 0.9424, Loss: 0.45515\n"
     ]
    },
    {
     "name": "stderr",
     "output_type": "stream",
     "text": [
      "c:\\Users\\rosa-\\anaconda3\\envs\\xaifo\\lib\\site-packages\\deepsnap\\graph.py:2126: UserWarning: __floordiv__ is deprecated, and its behavior will change in a future version of pytorch. It currently rounds toward 0 (like the 'trunc' function NOT 'floor'). This results in incorrect rounding for negative values. To keep the current behavior, use torch.div(a, b, rounding_mode='trunc'), or for actual floor division, use torch.div(a, b, rounding_mode='floor').\n",
      "  row = perm // num_nodes\n"
     ]
    },
    {
     "name": "stdout",
     "output_type": "stream",
     "text": [
      "Epoch: 037, Train: 0.9806, Val: 0.9461, Test: 0.9433, Loss: 0.45219\n"
     ]
    },
    {
     "name": "stderr",
     "output_type": "stream",
     "text": [
      "c:\\Users\\rosa-\\anaconda3\\envs\\xaifo\\lib\\site-packages\\deepsnap\\graph.py:2126: UserWarning: __floordiv__ is deprecated, and its behavior will change in a future version of pytorch. It currently rounds toward 0 (like the 'trunc' function NOT 'floor'). This results in incorrect rounding for negative values. To keep the current behavior, use torch.div(a, b, rounding_mode='trunc'), or for actual floor division, use torch.div(a, b, rounding_mode='floor').\n",
      "  row = perm // num_nodes\n"
     ]
    },
    {
     "name": "stdout",
     "output_type": "stream",
     "text": [
      "Epoch: 038, Train: 0.9813, Val: 0.9466, Test: 0.9440, Loss: 0.44787\n"
     ]
    },
    {
     "name": "stderr",
     "output_type": "stream",
     "text": [
      "c:\\Users\\rosa-\\anaconda3\\envs\\xaifo\\lib\\site-packages\\deepsnap\\graph.py:2126: UserWarning: __floordiv__ is deprecated, and its behavior will change in a future version of pytorch. It currently rounds toward 0 (like the 'trunc' function NOT 'floor'). This results in incorrect rounding for negative values. To keep the current behavior, use torch.div(a, b, rounding_mode='trunc'), or for actual floor division, use torch.div(a, b, rounding_mode='floor').\n",
      "  row = perm // num_nodes\n"
     ]
    },
    {
     "name": "stdout",
     "output_type": "stream",
     "text": [
      "Epoch: 039, Train: 0.9823, Val: 0.9469, Test: 0.9445, Loss: 0.44738\n"
     ]
    },
    {
     "name": "stderr",
     "output_type": "stream",
     "text": [
      "c:\\Users\\rosa-\\anaconda3\\envs\\xaifo\\lib\\site-packages\\deepsnap\\graph.py:2126: UserWarning: __floordiv__ is deprecated, and its behavior will change in a future version of pytorch. It currently rounds toward 0 (like the 'trunc' function NOT 'floor'). This results in incorrect rounding for negative values. To keep the current behavior, use torch.div(a, b, rounding_mode='trunc'), or for actual floor division, use torch.div(a, b, rounding_mode='floor').\n",
      "  row = perm // num_nodes\n"
     ]
    },
    {
     "name": "stdout",
     "output_type": "stream",
     "text": [
      "Epoch: 040, Train: 0.9822, Val: 0.9470, Test: 0.9448, Loss: 0.44551\n"
     ]
    },
    {
     "name": "stderr",
     "output_type": "stream",
     "text": [
      "c:\\Users\\rosa-\\anaconda3\\envs\\xaifo\\lib\\site-packages\\deepsnap\\graph.py:2126: UserWarning: __floordiv__ is deprecated, and its behavior will change in a future version of pytorch. It currently rounds toward 0 (like the 'trunc' function NOT 'floor'). This results in incorrect rounding for negative values. To keep the current behavior, use torch.div(a, b, rounding_mode='trunc'), or for actual floor division, use torch.div(a, b, rounding_mode='floor').\n",
      "  row = perm // num_nodes\n"
     ]
    },
    {
     "name": "stdout",
     "output_type": "stream",
     "text": [
      "Epoch: 041, Train: 0.9825, Val: 0.9468, Test: 0.9449, Loss: 0.44562\n"
     ]
    },
    {
     "name": "stderr",
     "output_type": "stream",
     "text": [
      "c:\\Users\\rosa-\\anaconda3\\envs\\xaifo\\lib\\site-packages\\deepsnap\\graph.py:2126: UserWarning: __floordiv__ is deprecated, and its behavior will change in a future version of pytorch. It currently rounds toward 0 (like the 'trunc' function NOT 'floor'). This results in incorrect rounding for negative values. To keep the current behavior, use torch.div(a, b, rounding_mode='trunc'), or for actual floor division, use torch.div(a, b, rounding_mode='floor').\n",
      "  row = perm // num_nodes\n"
     ]
    },
    {
     "name": "stdout",
     "output_type": "stream",
     "text": [
      "Epoch: 042, Train: 0.9822, Val: 0.9466, Test: 0.9450, Loss: 0.44333\n"
     ]
    },
    {
     "name": "stderr",
     "output_type": "stream",
     "text": [
      "c:\\Users\\rosa-\\anaconda3\\envs\\xaifo\\lib\\site-packages\\deepsnap\\graph.py:2126: UserWarning: __floordiv__ is deprecated, and its behavior will change in a future version of pytorch. It currently rounds toward 0 (like the 'trunc' function NOT 'floor'). This results in incorrect rounding for negative values. To keep the current behavior, use torch.div(a, b, rounding_mode='trunc'), or for actual floor division, use torch.div(a, b, rounding_mode='floor').\n",
      "  row = perm // num_nodes\n"
     ]
    },
    {
     "name": "stdout",
     "output_type": "stream",
     "text": [
      "Epoch: 043, Train: 0.9827, Val: 0.9462, Test: 0.9448, Loss: 0.44068\n"
     ]
    },
    {
     "name": "stderr",
     "output_type": "stream",
     "text": [
      "c:\\Users\\rosa-\\anaconda3\\envs\\xaifo\\lib\\site-packages\\deepsnap\\graph.py:2126: UserWarning: __floordiv__ is deprecated, and its behavior will change in a future version of pytorch. It currently rounds toward 0 (like the 'trunc' function NOT 'floor'). This results in incorrect rounding for negative values. To keep the current behavior, use torch.div(a, b, rounding_mode='trunc'), or for actual floor division, use torch.div(a, b, rounding_mode='floor').\n",
      "  row = perm // num_nodes\n"
     ]
    },
    {
     "name": "stdout",
     "output_type": "stream",
     "text": [
      "Epoch: 044, Train: 0.9822, Val: 0.9458, Test: 0.9446, Loss: 0.43967\n"
     ]
    },
    {
     "name": "stderr",
     "output_type": "stream",
     "text": [
      "c:\\Users\\rosa-\\anaconda3\\envs\\xaifo\\lib\\site-packages\\deepsnap\\graph.py:2126: UserWarning: __floordiv__ is deprecated, and its behavior will change in a future version of pytorch. It currently rounds toward 0 (like the 'trunc' function NOT 'floor'). This results in incorrect rounding for negative values. To keep the current behavior, use torch.div(a, b, rounding_mode='trunc'), or for actual floor division, use torch.div(a, b, rounding_mode='floor').\n",
      "  row = perm // num_nodes\n"
     ]
    },
    {
     "name": "stdout",
     "output_type": "stream",
     "text": [
      "Epoch: 045, Train: 0.9824, Val: 0.9453, Test: 0.9443, Loss: 0.43927\n"
     ]
    },
    {
     "name": "stderr",
     "output_type": "stream",
     "text": [
      "c:\\Users\\rosa-\\anaconda3\\envs\\xaifo\\lib\\site-packages\\deepsnap\\graph.py:2126: UserWarning: __floordiv__ is deprecated, and its behavior will change in a future version of pytorch. It currently rounds toward 0 (like the 'trunc' function NOT 'floor'). This results in incorrect rounding for negative values. To keep the current behavior, use torch.div(a, b, rounding_mode='trunc'), or for actual floor division, use torch.div(a, b, rounding_mode='floor').\n",
      "  row = perm // num_nodes\n"
     ]
    },
    {
     "name": "stdout",
     "output_type": "stream",
     "text": [
      "Epoch: 046, Train: 0.9822, Val: 0.9449, Test: 0.9441, Loss: 0.43649\n"
     ]
    },
    {
     "name": "stderr",
     "output_type": "stream",
     "text": [
      "c:\\Users\\rosa-\\anaconda3\\envs\\xaifo\\lib\\site-packages\\deepsnap\\graph.py:2126: UserWarning: __floordiv__ is deprecated, and its behavior will change in a future version of pytorch. It currently rounds toward 0 (like the 'trunc' function NOT 'floor'). This results in incorrect rounding for negative values. To keep the current behavior, use torch.div(a, b, rounding_mode='trunc'), or for actual floor division, use torch.div(a, b, rounding_mode='floor').\n",
      "  row = perm // num_nodes\n"
     ]
    },
    {
     "name": "stdout",
     "output_type": "stream",
     "text": [
      "Epoch: 047, Train: 0.9821, Val: 0.9444, Test: 0.9438, Loss: 0.43501\n"
     ]
    },
    {
     "name": "stderr",
     "output_type": "stream",
     "text": [
      "c:\\Users\\rosa-\\anaconda3\\envs\\xaifo\\lib\\site-packages\\deepsnap\\graph.py:2126: UserWarning: __floordiv__ is deprecated, and its behavior will change in a future version of pytorch. It currently rounds toward 0 (like the 'trunc' function NOT 'floor'). This results in incorrect rounding for negative values. To keep the current behavior, use torch.div(a, b, rounding_mode='trunc'), or for actual floor division, use torch.div(a, b, rounding_mode='floor').\n",
      "  row = perm // num_nodes\n"
     ]
    },
    {
     "name": "stdout",
     "output_type": "stream",
     "text": [
      "Epoch: 048, Train: 0.9817, Val: 0.9439, Test: 0.9434, Loss: 0.43366\n"
     ]
    },
    {
     "name": "stderr",
     "output_type": "stream",
     "text": [
      "c:\\Users\\rosa-\\anaconda3\\envs\\xaifo\\lib\\site-packages\\deepsnap\\graph.py:2126: UserWarning: __floordiv__ is deprecated, and its behavior will change in a future version of pytorch. It currently rounds toward 0 (like the 'trunc' function NOT 'floor'). This results in incorrect rounding for negative values. To keep the current behavior, use torch.div(a, b, rounding_mode='trunc'), or for actual floor division, use torch.div(a, b, rounding_mode='floor').\n",
      "  row = perm // num_nodes\n"
     ]
    },
    {
     "name": "stdout",
     "output_type": "stream",
     "text": [
      "Epoch: 049, Train: 0.9817, Val: 0.9434, Test: 0.9432, Loss: 0.43262\n"
     ]
    },
    {
     "name": "stderr",
     "output_type": "stream",
     "text": [
      "c:\\Users\\rosa-\\anaconda3\\envs\\xaifo\\lib\\site-packages\\deepsnap\\graph.py:2126: UserWarning: __floordiv__ is deprecated, and its behavior will change in a future version of pytorch. It currently rounds toward 0 (like the 'trunc' function NOT 'floor'). This results in incorrect rounding for negative values. To keep the current behavior, use torch.div(a, b, rounding_mode='trunc'), or for actual floor division, use torch.div(a, b, rounding_mode='floor').\n",
      "  row = perm // num_nodes\n"
     ]
    },
    {
     "name": "stdout",
     "output_type": "stream",
     "text": [
      "Epoch: 050, Train: 0.9821, Val: 0.9430, Test: 0.9429, Loss: 0.43024\n"
     ]
    },
    {
     "name": "stderr",
     "output_type": "stream",
     "text": [
      "c:\\Users\\rosa-\\anaconda3\\envs\\xaifo\\lib\\site-packages\\deepsnap\\graph.py:2126: UserWarning: __floordiv__ is deprecated, and its behavior will change in a future version of pytorch. It currently rounds toward 0 (like the 'trunc' function NOT 'floor'). This results in incorrect rounding for negative values. To keep the current behavior, use torch.div(a, b, rounding_mode='trunc'), or for actual floor division, use torch.div(a, b, rounding_mode='floor').\n",
      "  row = perm // num_nodes\n"
     ]
    },
    {
     "name": "stdout",
     "output_type": "stream",
     "text": [
      "Epoch: 051, Train: 0.9814, Val: 0.9426, Test: 0.9427, Loss: 0.43057\n"
     ]
    },
    {
     "name": "stderr",
     "output_type": "stream",
     "text": [
      "c:\\Users\\rosa-\\anaconda3\\envs\\xaifo\\lib\\site-packages\\deepsnap\\graph.py:2126: UserWarning: __floordiv__ is deprecated, and its behavior will change in a future version of pytorch. It currently rounds toward 0 (like the 'trunc' function NOT 'floor'). This results in incorrect rounding for negative values. To keep the current behavior, use torch.div(a, b, rounding_mode='trunc'), or for actual floor division, use torch.div(a, b, rounding_mode='floor').\n",
      "  row = perm // num_nodes\n"
     ]
    },
    {
     "name": "stdout",
     "output_type": "stream",
     "text": [
      "Epoch: 052, Train: 0.9814, Val: 0.9423, Test: 0.9425, Loss: 0.43055\n"
     ]
    },
    {
     "name": "stderr",
     "output_type": "stream",
     "text": [
      "c:\\Users\\rosa-\\anaconda3\\envs\\xaifo\\lib\\site-packages\\deepsnap\\graph.py:2126: UserWarning: __floordiv__ is deprecated, and its behavior will change in a future version of pytorch. It currently rounds toward 0 (like the 'trunc' function NOT 'floor'). This results in incorrect rounding for negative values. To keep the current behavior, use torch.div(a, b, rounding_mode='trunc'), or for actual floor division, use torch.div(a, b, rounding_mode='floor').\n",
      "  row = perm // num_nodes\n"
     ]
    },
    {
     "name": "stdout",
     "output_type": "stream",
     "text": [
      "Epoch: 053, Train: 0.9814, Val: 0.9420, Test: 0.9424, Loss: 0.42859\n"
     ]
    },
    {
     "name": "stderr",
     "output_type": "stream",
     "text": [
      "c:\\Users\\rosa-\\anaconda3\\envs\\xaifo\\lib\\site-packages\\deepsnap\\graph.py:2126: UserWarning: __floordiv__ is deprecated, and its behavior will change in a future version of pytorch. It currently rounds toward 0 (like the 'trunc' function NOT 'floor'). This results in incorrect rounding for negative values. To keep the current behavior, use torch.div(a, b, rounding_mode='trunc'), or for actual floor division, use torch.div(a, b, rounding_mode='floor').\n",
      "  row = perm // num_nodes\n"
     ]
    },
    {
     "name": "stdout",
     "output_type": "stream",
     "text": [
      "Epoch: 054, Train: 0.9814, Val: 0.9418, Test: 0.9424, Loss: 0.42702\n"
     ]
    },
    {
     "name": "stderr",
     "output_type": "stream",
     "text": [
      "c:\\Users\\rosa-\\anaconda3\\envs\\xaifo\\lib\\site-packages\\deepsnap\\graph.py:2126: UserWarning: __floordiv__ is deprecated, and its behavior will change in a future version of pytorch. It currently rounds toward 0 (like the 'trunc' function NOT 'floor'). This results in incorrect rounding for negative values. To keep the current behavior, use torch.div(a, b, rounding_mode='trunc'), or for actual floor division, use torch.div(a, b, rounding_mode='floor').\n",
      "  row = perm // num_nodes\n"
     ]
    },
    {
     "name": "stdout",
     "output_type": "stream",
     "text": [
      "Epoch: 055, Train: 0.9813, Val: 0.9417, Test: 0.9424, Loss: 0.42586\n"
     ]
    },
    {
     "name": "stderr",
     "output_type": "stream",
     "text": [
      "c:\\Users\\rosa-\\anaconda3\\envs\\xaifo\\lib\\site-packages\\deepsnap\\graph.py:2126: UserWarning: __floordiv__ is deprecated, and its behavior will change in a future version of pytorch. It currently rounds toward 0 (like the 'trunc' function NOT 'floor'). This results in incorrect rounding for negative values. To keep the current behavior, use torch.div(a, b, rounding_mode='trunc'), or for actual floor division, use torch.div(a, b, rounding_mode='floor').\n",
      "  row = perm // num_nodes\n"
     ]
    },
    {
     "name": "stdout",
     "output_type": "stream",
     "text": [
      "Epoch: 056, Train: 0.9817, Val: 0.9417, Test: 0.9425, Loss: 0.42599\n"
     ]
    },
    {
     "name": "stderr",
     "output_type": "stream",
     "text": [
      "c:\\Users\\rosa-\\anaconda3\\envs\\xaifo\\lib\\site-packages\\deepsnap\\graph.py:2126: UserWarning: __floordiv__ is deprecated, and its behavior will change in a future version of pytorch. It currently rounds toward 0 (like the 'trunc' function NOT 'floor'). This results in incorrect rounding for negative values. To keep the current behavior, use torch.div(a, b, rounding_mode='trunc'), or for actual floor division, use torch.div(a, b, rounding_mode='floor').\n",
      "  row = perm // num_nodes\n"
     ]
    },
    {
     "name": "stdout",
     "output_type": "stream",
     "text": [
      "Epoch: 057, Train: 0.9815, Val: 0.9417, Test: 0.9426, Loss: 0.42407\n"
     ]
    },
    {
     "name": "stderr",
     "output_type": "stream",
     "text": [
      "c:\\Users\\rosa-\\anaconda3\\envs\\xaifo\\lib\\site-packages\\deepsnap\\graph.py:2126: UserWarning: __floordiv__ is deprecated, and its behavior will change in a future version of pytorch. It currently rounds toward 0 (like the 'trunc' function NOT 'floor'). This results in incorrect rounding for negative values. To keep the current behavior, use torch.div(a, b, rounding_mode='trunc'), or for actual floor division, use torch.div(a, b, rounding_mode='floor').\n",
      "  row = perm // num_nodes\n"
     ]
    },
    {
     "name": "stdout",
     "output_type": "stream",
     "text": [
      "Epoch: 058, Train: 0.9813, Val: 0.9418, Test: 0.9428, Loss: 0.42468\n"
     ]
    },
    {
     "name": "stderr",
     "output_type": "stream",
     "text": [
      "c:\\Users\\rosa-\\anaconda3\\envs\\xaifo\\lib\\site-packages\\deepsnap\\graph.py:2126: UserWarning: __floordiv__ is deprecated, and its behavior will change in a future version of pytorch. It currently rounds toward 0 (like the 'trunc' function NOT 'floor'). This results in incorrect rounding for negative values. To keep the current behavior, use torch.div(a, b, rounding_mode='trunc'), or for actual floor division, use torch.div(a, b, rounding_mode='floor').\n",
      "  row = perm // num_nodes\n"
     ]
    },
    {
     "name": "stdout",
     "output_type": "stream",
     "text": [
      "Epoch: 059, Train: 0.9819, Val: 0.9420, Test: 0.9431, Loss: 0.42237\n"
     ]
    },
    {
     "name": "stderr",
     "output_type": "stream",
     "text": [
      "c:\\Users\\rosa-\\anaconda3\\envs\\xaifo\\lib\\site-packages\\deepsnap\\graph.py:2126: UserWarning: __floordiv__ is deprecated, and its behavior will change in a future version of pytorch. It currently rounds toward 0 (like the 'trunc' function NOT 'floor'). This results in incorrect rounding for negative values. To keep the current behavior, use torch.div(a, b, rounding_mode='trunc'), or for actual floor division, use torch.div(a, b, rounding_mode='floor').\n",
      "  row = perm // num_nodes\n"
     ]
    },
    {
     "name": "stdout",
     "output_type": "stream",
     "text": [
      "Epoch: 060, Train: 0.9816, Val: 0.9421, Test: 0.9433, Loss: 0.42436\n"
     ]
    },
    {
     "name": "stderr",
     "output_type": "stream",
     "text": [
      "c:\\Users\\rosa-\\anaconda3\\envs\\xaifo\\lib\\site-packages\\deepsnap\\graph.py:2126: UserWarning: __floordiv__ is deprecated, and its behavior will change in a future version of pytorch. It currently rounds toward 0 (like the 'trunc' function NOT 'floor'). This results in incorrect rounding for negative values. To keep the current behavior, use torch.div(a, b, rounding_mode='trunc'), or for actual floor division, use torch.div(a, b, rounding_mode='floor').\n",
      "  row = perm // num_nodes\n"
     ]
    },
    {
     "name": "stdout",
     "output_type": "stream",
     "text": [
      "Epoch: 061, Train: 0.9816, Val: 0.9424, Test: 0.9436, Loss: 0.42306\n"
     ]
    },
    {
     "name": "stderr",
     "output_type": "stream",
     "text": [
      "c:\\Users\\rosa-\\anaconda3\\envs\\xaifo\\lib\\site-packages\\deepsnap\\graph.py:2126: UserWarning: __floordiv__ is deprecated, and its behavior will change in a future version of pytorch. It currently rounds toward 0 (like the 'trunc' function NOT 'floor'). This results in incorrect rounding for negative values. To keep the current behavior, use torch.div(a, b, rounding_mode='trunc'), or for actual floor division, use torch.div(a, b, rounding_mode='floor').\n",
      "  row = perm // num_nodes\n"
     ]
    },
    {
     "name": "stdout",
     "output_type": "stream",
     "text": [
      "Epoch: 062, Train: 0.9820, Val: 0.9427, Test: 0.9440, Loss: 0.42082\n"
     ]
    },
    {
     "name": "stderr",
     "output_type": "stream",
     "text": [
      "c:\\Users\\rosa-\\anaconda3\\envs\\xaifo\\lib\\site-packages\\deepsnap\\graph.py:2126: UserWarning: __floordiv__ is deprecated, and its behavior will change in a future version of pytorch. It currently rounds toward 0 (like the 'trunc' function NOT 'floor'). This results in incorrect rounding for negative values. To keep the current behavior, use torch.div(a, b, rounding_mode='trunc'), or for actual floor division, use torch.div(a, b, rounding_mode='floor').\n",
      "  row = perm // num_nodes\n"
     ]
    },
    {
     "name": "stdout",
     "output_type": "stream",
     "text": [
      "Epoch: 063, Train: 0.9822, Val: 0.9431, Test: 0.9445, Loss: 0.42109\n"
     ]
    },
    {
     "name": "stderr",
     "output_type": "stream",
     "text": [
      "c:\\Users\\rosa-\\anaconda3\\envs\\xaifo\\lib\\site-packages\\deepsnap\\graph.py:2126: UserWarning: __floordiv__ is deprecated, and its behavior will change in a future version of pytorch. It currently rounds toward 0 (like the 'trunc' function NOT 'floor'). This results in incorrect rounding for negative values. To keep the current behavior, use torch.div(a, b, rounding_mode='trunc'), or for actual floor division, use torch.div(a, b, rounding_mode='floor').\n",
      "  row = perm // num_nodes\n"
     ]
    },
    {
     "name": "stdout",
     "output_type": "stream",
     "text": [
      "Epoch: 064, Train: 0.9824, Val: 0.9435, Test: 0.9449, Loss: 0.42038\n"
     ]
    },
    {
     "name": "stderr",
     "output_type": "stream",
     "text": [
      "c:\\Users\\rosa-\\anaconda3\\envs\\xaifo\\lib\\site-packages\\deepsnap\\graph.py:2126: UserWarning: __floordiv__ is deprecated, and its behavior will change in a future version of pytorch. It currently rounds toward 0 (like the 'trunc' function NOT 'floor'). This results in incorrect rounding for negative values. To keep the current behavior, use torch.div(a, b, rounding_mode='trunc'), or for actual floor division, use torch.div(a, b, rounding_mode='floor').\n",
      "  row = perm // num_nodes\n"
     ]
    },
    {
     "name": "stdout",
     "output_type": "stream",
     "text": [
      "Epoch: 065, Train: 0.9826, Val: 0.9440, Test: 0.9454, Loss: 0.42134\n"
     ]
    },
    {
     "name": "stderr",
     "output_type": "stream",
     "text": [
      "c:\\Users\\rosa-\\anaconda3\\envs\\xaifo\\lib\\site-packages\\deepsnap\\graph.py:2126: UserWarning: __floordiv__ is deprecated, and its behavior will change in a future version of pytorch. It currently rounds toward 0 (like the 'trunc' function NOT 'floor'). This results in incorrect rounding for negative values. To keep the current behavior, use torch.div(a, b, rounding_mode='trunc'), or for actual floor division, use torch.div(a, b, rounding_mode='floor').\n",
      "  row = perm // num_nodes\n"
     ]
    },
    {
     "name": "stdout",
     "output_type": "stream",
     "text": [
      "Epoch: 066, Train: 0.9830, Val: 0.9445, Test: 0.9459, Loss: 0.41990\n"
     ]
    },
    {
     "name": "stderr",
     "output_type": "stream",
     "text": [
      "c:\\Users\\rosa-\\anaconda3\\envs\\xaifo\\lib\\site-packages\\deepsnap\\graph.py:2126: UserWarning: __floordiv__ is deprecated, and its behavior will change in a future version of pytorch. It currently rounds toward 0 (like the 'trunc' function NOT 'floor'). This results in incorrect rounding for negative values. To keep the current behavior, use torch.div(a, b, rounding_mode='trunc'), or for actual floor division, use torch.div(a, b, rounding_mode='floor').\n",
      "  row = perm // num_nodes\n"
     ]
    },
    {
     "name": "stdout",
     "output_type": "stream",
     "text": [
      "Epoch: 067, Train: 0.9836, Val: 0.9449, Test: 0.9464, Loss: 0.41938\n"
     ]
    },
    {
     "name": "stderr",
     "output_type": "stream",
     "text": [
      "c:\\Users\\rosa-\\anaconda3\\envs\\xaifo\\lib\\site-packages\\deepsnap\\graph.py:2126: UserWarning: __floordiv__ is deprecated, and its behavior will change in a future version of pytorch. It currently rounds toward 0 (like the 'trunc' function NOT 'floor'). This results in incorrect rounding for negative values. To keep the current behavior, use torch.div(a, b, rounding_mode='trunc'), or for actual floor division, use torch.div(a, b, rounding_mode='floor').\n",
      "  row = perm // num_nodes\n"
     ]
    },
    {
     "name": "stdout",
     "output_type": "stream",
     "text": [
      "Epoch: 068, Train: 0.9839, Val: 0.9455, Test: 0.9469, Loss: 0.41823\n"
     ]
    },
    {
     "name": "stderr",
     "output_type": "stream",
     "text": [
      "c:\\Users\\rosa-\\anaconda3\\envs\\xaifo\\lib\\site-packages\\deepsnap\\graph.py:2126: UserWarning: __floordiv__ is deprecated, and its behavior will change in a future version of pytorch. It currently rounds toward 0 (like the 'trunc' function NOT 'floor'). This results in incorrect rounding for negative values. To keep the current behavior, use torch.div(a, b, rounding_mode='trunc'), or for actual floor division, use torch.div(a, b, rounding_mode='floor').\n",
      "  row = perm // num_nodes\n"
     ]
    },
    {
     "name": "stdout",
     "output_type": "stream",
     "text": [
      "Epoch: 069, Train: 0.9840, Val: 0.9459, Test: 0.9473, Loss: 0.41879\n"
     ]
    },
    {
     "name": "stderr",
     "output_type": "stream",
     "text": [
      "c:\\Users\\rosa-\\anaconda3\\envs\\xaifo\\lib\\site-packages\\deepsnap\\graph.py:2126: UserWarning: __floordiv__ is deprecated, and its behavior will change in a future version of pytorch. It currently rounds toward 0 (like the 'trunc' function NOT 'floor'). This results in incorrect rounding for negative values. To keep the current behavior, use torch.div(a, b, rounding_mode='trunc'), or for actual floor division, use torch.div(a, b, rounding_mode='floor').\n",
      "  row = perm // num_nodes\n"
     ]
    },
    {
     "name": "stdout",
     "output_type": "stream",
     "text": [
      "Epoch: 070, Train: 0.9842, Val: 0.9463, Test: 0.9477, Loss: 0.41843\n"
     ]
    },
    {
     "name": "stderr",
     "output_type": "stream",
     "text": [
      "c:\\Users\\rosa-\\anaconda3\\envs\\xaifo\\lib\\site-packages\\deepsnap\\graph.py:2126: UserWarning: __floordiv__ is deprecated, and its behavior will change in a future version of pytorch. It currently rounds toward 0 (like the 'trunc' function NOT 'floor'). This results in incorrect rounding for negative values. To keep the current behavior, use torch.div(a, b, rounding_mode='trunc'), or for actual floor division, use torch.div(a, b, rounding_mode='floor').\n",
      "  row = perm // num_nodes\n"
     ]
    },
    {
     "name": "stdout",
     "output_type": "stream",
     "text": [
      "Epoch: 071, Train: 0.9845, Val: 0.9468, Test: 0.9482, Loss: 0.41836\n"
     ]
    },
    {
     "name": "stderr",
     "output_type": "stream",
     "text": [
      "c:\\Users\\rosa-\\anaconda3\\envs\\xaifo\\lib\\site-packages\\deepsnap\\graph.py:2126: UserWarning: __floordiv__ is deprecated, and its behavior will change in a future version of pytorch. It currently rounds toward 0 (like the 'trunc' function NOT 'floor'). This results in incorrect rounding for negative values. To keep the current behavior, use torch.div(a, b, rounding_mode='trunc'), or for actual floor division, use torch.div(a, b, rounding_mode='floor').\n",
      "  row = perm // num_nodes\n"
     ]
    },
    {
     "name": "stdout",
     "output_type": "stream",
     "text": [
      "Epoch: 072, Train: 0.9848, Val: 0.9472, Test: 0.9486, Loss: 0.41797\n"
     ]
    },
    {
     "name": "stderr",
     "output_type": "stream",
     "text": [
      "c:\\Users\\rosa-\\anaconda3\\envs\\xaifo\\lib\\site-packages\\deepsnap\\graph.py:2126: UserWarning: __floordiv__ is deprecated, and its behavior will change in a future version of pytorch. It currently rounds toward 0 (like the 'trunc' function NOT 'floor'). This results in incorrect rounding for negative values. To keep the current behavior, use torch.div(a, b, rounding_mode='trunc'), or for actual floor division, use torch.div(a, b, rounding_mode='floor').\n",
      "  row = perm // num_nodes\n"
     ]
    },
    {
     "name": "stdout",
     "output_type": "stream",
     "text": [
      "Epoch: 073, Train: 0.9850, Val: 0.9475, Test: 0.9490, Loss: 0.41793\n"
     ]
    },
    {
     "name": "stderr",
     "output_type": "stream",
     "text": [
      "c:\\Users\\rosa-\\anaconda3\\envs\\xaifo\\lib\\site-packages\\deepsnap\\graph.py:2126: UserWarning: __floordiv__ is deprecated, and its behavior will change in a future version of pytorch. It currently rounds toward 0 (like the 'trunc' function NOT 'floor'). This results in incorrect rounding for negative values. To keep the current behavior, use torch.div(a, b, rounding_mode='trunc'), or for actual floor division, use torch.div(a, b, rounding_mode='floor').\n",
      "  row = perm // num_nodes\n"
     ]
    },
    {
     "name": "stdout",
     "output_type": "stream",
     "text": [
      "Epoch: 074, Train: 0.9855, Val: 0.9479, Test: 0.9493, Loss: 0.41558\n"
     ]
    },
    {
     "name": "stderr",
     "output_type": "stream",
     "text": [
      "c:\\Users\\rosa-\\anaconda3\\envs\\xaifo\\lib\\site-packages\\deepsnap\\graph.py:2126: UserWarning: __floordiv__ is deprecated, and its behavior will change in a future version of pytorch. It currently rounds toward 0 (like the 'trunc' function NOT 'floor'). This results in incorrect rounding for negative values. To keep the current behavior, use torch.div(a, b, rounding_mode='trunc'), or for actual floor division, use torch.div(a, b, rounding_mode='floor').\n",
      "  row = perm // num_nodes\n"
     ]
    },
    {
     "name": "stdout",
     "output_type": "stream",
     "text": [
      "Epoch: 075, Train: 0.9855, Val: 0.9482, Test: 0.9496, Loss: 0.41594\n"
     ]
    },
    {
     "name": "stderr",
     "output_type": "stream",
     "text": [
      "c:\\Users\\rosa-\\anaconda3\\envs\\xaifo\\lib\\site-packages\\deepsnap\\graph.py:2126: UserWarning: __floordiv__ is deprecated, and its behavior will change in a future version of pytorch. It currently rounds toward 0 (like the 'trunc' function NOT 'floor'). This results in incorrect rounding for negative values. To keep the current behavior, use torch.div(a, b, rounding_mode='trunc'), or for actual floor division, use torch.div(a, b, rounding_mode='floor').\n",
      "  row = perm // num_nodes\n"
     ]
    },
    {
     "name": "stdout",
     "output_type": "stream",
     "text": [
      "Epoch: 076, Train: 0.9857, Val: 0.9485, Test: 0.9499, Loss: 0.41452\n"
     ]
    },
    {
     "name": "stderr",
     "output_type": "stream",
     "text": [
      "c:\\Users\\rosa-\\anaconda3\\envs\\xaifo\\lib\\site-packages\\deepsnap\\graph.py:2126: UserWarning: __floordiv__ is deprecated, and its behavior will change in a future version of pytorch. It currently rounds toward 0 (like the 'trunc' function NOT 'floor'). This results in incorrect rounding for negative values. To keep the current behavior, use torch.div(a, b, rounding_mode='trunc'), or for actual floor division, use torch.div(a, b, rounding_mode='floor').\n",
      "  row = perm // num_nodes\n"
     ]
    },
    {
     "name": "stdout",
     "output_type": "stream",
     "text": [
      "Epoch: 077, Train: 0.9859, Val: 0.9488, Test: 0.9502, Loss: 0.41363\n"
     ]
    },
    {
     "name": "stderr",
     "output_type": "stream",
     "text": [
      "c:\\Users\\rosa-\\anaconda3\\envs\\xaifo\\lib\\site-packages\\deepsnap\\graph.py:2126: UserWarning: __floordiv__ is deprecated, and its behavior will change in a future version of pytorch. It currently rounds toward 0 (like the 'trunc' function NOT 'floor'). This results in incorrect rounding for negative values. To keep the current behavior, use torch.div(a, b, rounding_mode='trunc'), or for actual floor division, use torch.div(a, b, rounding_mode='floor').\n",
      "  row = perm // num_nodes\n"
     ]
    },
    {
     "name": "stdout",
     "output_type": "stream",
     "text": [
      "Epoch: 078, Train: 0.9863, Val: 0.9490, Test: 0.9505, Loss: 0.41532\n"
     ]
    },
    {
     "name": "stderr",
     "output_type": "stream",
     "text": [
      "c:\\Users\\rosa-\\anaconda3\\envs\\xaifo\\lib\\site-packages\\deepsnap\\graph.py:2126: UserWarning: __floordiv__ is deprecated, and its behavior will change in a future version of pytorch. It currently rounds toward 0 (like the 'trunc' function NOT 'floor'). This results in incorrect rounding for negative values. To keep the current behavior, use torch.div(a, b, rounding_mode='trunc'), or for actual floor division, use torch.div(a, b, rounding_mode='floor').\n",
      "  row = perm // num_nodes\n"
     ]
    },
    {
     "name": "stdout",
     "output_type": "stream",
     "text": [
      "Epoch: 079, Train: 0.9861, Val: 0.9493, Test: 0.9508, Loss: 0.41467\n"
     ]
    },
    {
     "name": "stderr",
     "output_type": "stream",
     "text": [
      "c:\\Users\\rosa-\\anaconda3\\envs\\xaifo\\lib\\site-packages\\deepsnap\\graph.py:2126: UserWarning: __floordiv__ is deprecated, and its behavior will change in a future version of pytorch. It currently rounds toward 0 (like the 'trunc' function NOT 'floor'). This results in incorrect rounding for negative values. To keep the current behavior, use torch.div(a, b, rounding_mode='trunc'), or for actual floor division, use torch.div(a, b, rounding_mode='floor').\n",
      "  row = perm // num_nodes\n"
     ]
    },
    {
     "name": "stdout",
     "output_type": "stream",
     "text": [
      "Epoch: 080, Train: 0.9860, Val: 0.9497, Test: 0.9511, Loss: 0.41428\n"
     ]
    },
    {
     "name": "stderr",
     "output_type": "stream",
     "text": [
      "c:\\Users\\rosa-\\anaconda3\\envs\\xaifo\\lib\\site-packages\\deepsnap\\graph.py:2126: UserWarning: __floordiv__ is deprecated, and its behavior will change in a future version of pytorch. It currently rounds toward 0 (like the 'trunc' function NOT 'floor'). This results in incorrect rounding for negative values. To keep the current behavior, use torch.div(a, b, rounding_mode='trunc'), or for actual floor division, use torch.div(a, b, rounding_mode='floor').\n",
      "  row = perm // num_nodes\n"
     ]
    },
    {
     "name": "stdout",
     "output_type": "stream",
     "text": [
      "Epoch: 081, Train: 0.9865, Val: 0.9499, Test: 0.9514, Loss: 0.41411\n"
     ]
    },
    {
     "name": "stderr",
     "output_type": "stream",
     "text": [
      "c:\\Users\\rosa-\\anaconda3\\envs\\xaifo\\lib\\site-packages\\deepsnap\\graph.py:2126: UserWarning: __floordiv__ is deprecated, and its behavior will change in a future version of pytorch. It currently rounds toward 0 (like the 'trunc' function NOT 'floor'). This results in incorrect rounding for negative values. To keep the current behavior, use torch.div(a, b, rounding_mode='trunc'), or for actual floor division, use torch.div(a, b, rounding_mode='floor').\n",
      "  row = perm // num_nodes\n"
     ]
    },
    {
     "name": "stdout",
     "output_type": "stream",
     "text": [
      "Epoch: 082, Train: 0.9868, Val: 0.9501, Test: 0.9516, Loss: 0.41412\n"
     ]
    },
    {
     "name": "stderr",
     "output_type": "stream",
     "text": [
      "c:\\Users\\rosa-\\anaconda3\\envs\\xaifo\\lib\\site-packages\\deepsnap\\graph.py:2126: UserWarning: __floordiv__ is deprecated, and its behavior will change in a future version of pytorch. It currently rounds toward 0 (like the 'trunc' function NOT 'floor'). This results in incorrect rounding for negative values. To keep the current behavior, use torch.div(a, b, rounding_mode='trunc'), or for actual floor division, use torch.div(a, b, rounding_mode='floor').\n",
      "  row = perm // num_nodes\n"
     ]
    },
    {
     "name": "stdout",
     "output_type": "stream",
     "text": [
      "Epoch: 083, Train: 0.9868, Val: 0.9504, Test: 0.9518, Loss: 0.41330\n"
     ]
    },
    {
     "name": "stderr",
     "output_type": "stream",
     "text": [
      "c:\\Users\\rosa-\\anaconda3\\envs\\xaifo\\lib\\site-packages\\deepsnap\\graph.py:2126: UserWarning: __floordiv__ is deprecated, and its behavior will change in a future version of pytorch. It currently rounds toward 0 (like the 'trunc' function NOT 'floor'). This results in incorrect rounding for negative values. To keep the current behavior, use torch.div(a, b, rounding_mode='trunc'), or for actual floor division, use torch.div(a, b, rounding_mode='floor').\n",
      "  row = perm // num_nodes\n"
     ]
    },
    {
     "name": "stdout",
     "output_type": "stream",
     "text": [
      "Epoch: 084, Train: 0.9869, Val: 0.9506, Test: 0.9521, Loss: 0.41345\n"
     ]
    },
    {
     "name": "stderr",
     "output_type": "stream",
     "text": [
      "c:\\Users\\rosa-\\anaconda3\\envs\\xaifo\\lib\\site-packages\\deepsnap\\graph.py:2126: UserWarning: __floordiv__ is deprecated, and its behavior will change in a future version of pytorch. It currently rounds toward 0 (like the 'trunc' function NOT 'floor'). This results in incorrect rounding for negative values. To keep the current behavior, use torch.div(a, b, rounding_mode='trunc'), or for actual floor division, use torch.div(a, b, rounding_mode='floor').\n",
      "  row = perm // num_nodes\n"
     ]
    },
    {
     "name": "stdout",
     "output_type": "stream",
     "text": [
      "Epoch: 085, Train: 0.9871, Val: 0.9509, Test: 0.9523, Loss: 0.41416\n"
     ]
    },
    {
     "name": "stderr",
     "output_type": "stream",
     "text": [
      "c:\\Users\\rosa-\\anaconda3\\envs\\xaifo\\lib\\site-packages\\deepsnap\\graph.py:2126: UserWarning: __floordiv__ is deprecated, and its behavior will change in a future version of pytorch. It currently rounds toward 0 (like the 'trunc' function NOT 'floor'). This results in incorrect rounding for negative values. To keep the current behavior, use torch.div(a, b, rounding_mode='trunc'), or for actual floor division, use torch.div(a, b, rounding_mode='floor').\n",
      "  row = perm // num_nodes\n"
     ]
    },
    {
     "name": "stdout",
     "output_type": "stream",
     "text": [
      "Epoch: 086, Train: 0.9875, Val: 0.9512, Test: 0.9526, Loss: 0.41339\n"
     ]
    },
    {
     "name": "stderr",
     "output_type": "stream",
     "text": [
      "c:\\Users\\rosa-\\anaconda3\\envs\\xaifo\\lib\\site-packages\\deepsnap\\graph.py:2126: UserWarning: __floordiv__ is deprecated, and its behavior will change in a future version of pytorch. It currently rounds toward 0 (like the 'trunc' function NOT 'floor'). This results in incorrect rounding for negative values. To keep the current behavior, use torch.div(a, b, rounding_mode='trunc'), or for actual floor division, use torch.div(a, b, rounding_mode='floor').\n",
      "  row = perm // num_nodes\n"
     ]
    },
    {
     "name": "stdout",
     "output_type": "stream",
     "text": [
      "Epoch: 087, Train: 0.9871, Val: 0.9515, Test: 0.9529, Loss: 0.41280\n"
     ]
    },
    {
     "name": "stderr",
     "output_type": "stream",
     "text": [
      "c:\\Users\\rosa-\\anaconda3\\envs\\xaifo\\lib\\site-packages\\deepsnap\\graph.py:2126: UserWarning: __floordiv__ is deprecated, and its behavior will change in a future version of pytorch. It currently rounds toward 0 (like the 'trunc' function NOT 'floor'). This results in incorrect rounding for negative values. To keep the current behavior, use torch.div(a, b, rounding_mode='trunc'), or for actual floor division, use torch.div(a, b, rounding_mode='floor').\n",
      "  row = perm // num_nodes\n"
     ]
    },
    {
     "name": "stdout",
     "output_type": "stream",
     "text": [
      "Epoch: 088, Train: 0.9874, Val: 0.9518, Test: 0.9532, Loss: 0.41027\n"
     ]
    },
    {
     "name": "stderr",
     "output_type": "stream",
     "text": [
      "c:\\Users\\rosa-\\anaconda3\\envs\\xaifo\\lib\\site-packages\\deepsnap\\graph.py:2126: UserWarning: __floordiv__ is deprecated, and its behavior will change in a future version of pytorch. It currently rounds toward 0 (like the 'trunc' function NOT 'floor'). This results in incorrect rounding for negative values. To keep the current behavior, use torch.div(a, b, rounding_mode='trunc'), or for actual floor division, use torch.div(a, b, rounding_mode='floor').\n",
      "  row = perm // num_nodes\n"
     ]
    },
    {
     "name": "stdout",
     "output_type": "stream",
     "text": [
      "Epoch: 089, Train: 0.9877, Val: 0.9520, Test: 0.9534, Loss: 0.41238\n"
     ]
    },
    {
     "name": "stderr",
     "output_type": "stream",
     "text": [
      "c:\\Users\\rosa-\\anaconda3\\envs\\xaifo\\lib\\site-packages\\deepsnap\\graph.py:2126: UserWarning: __floordiv__ is deprecated, and its behavior will change in a future version of pytorch. It currently rounds toward 0 (like the 'trunc' function NOT 'floor'). This results in incorrect rounding for negative values. To keep the current behavior, use torch.div(a, b, rounding_mode='trunc'), or for actual floor division, use torch.div(a, b, rounding_mode='floor').\n",
      "  row = perm // num_nodes\n"
     ]
    },
    {
     "name": "stdout",
     "output_type": "stream",
     "text": [
      "Epoch: 090, Train: 0.9878, Val: 0.9522, Test: 0.9536, Loss: 0.41239\n"
     ]
    },
    {
     "name": "stderr",
     "output_type": "stream",
     "text": [
      "c:\\Users\\rosa-\\anaconda3\\envs\\xaifo\\lib\\site-packages\\deepsnap\\graph.py:2126: UserWarning: __floordiv__ is deprecated, and its behavior will change in a future version of pytorch. It currently rounds toward 0 (like the 'trunc' function NOT 'floor'). This results in incorrect rounding for negative values. To keep the current behavior, use torch.div(a, b, rounding_mode='trunc'), or for actual floor division, use torch.div(a, b, rounding_mode='floor').\n",
      "  row = perm // num_nodes\n"
     ]
    },
    {
     "name": "stdout",
     "output_type": "stream",
     "text": [
      "Epoch: 091, Train: 0.9878, Val: 0.9524, Test: 0.9538, Loss: 0.41243\n"
     ]
    },
    {
     "name": "stderr",
     "output_type": "stream",
     "text": [
      "c:\\Users\\rosa-\\anaconda3\\envs\\xaifo\\lib\\site-packages\\deepsnap\\graph.py:2126: UserWarning: __floordiv__ is deprecated, and its behavior will change in a future version of pytorch. It currently rounds toward 0 (like the 'trunc' function NOT 'floor'). This results in incorrect rounding for negative values. To keep the current behavior, use torch.div(a, b, rounding_mode='trunc'), or for actual floor division, use torch.div(a, b, rounding_mode='floor').\n",
      "  row = perm // num_nodes\n"
     ]
    },
    {
     "name": "stdout",
     "output_type": "stream",
     "text": [
      "Epoch: 092, Train: 0.9878, Val: 0.9526, Test: 0.9541, Loss: 0.41270\n"
     ]
    },
    {
     "name": "stderr",
     "output_type": "stream",
     "text": [
      "c:\\Users\\rosa-\\anaconda3\\envs\\xaifo\\lib\\site-packages\\deepsnap\\graph.py:2126: UserWarning: __floordiv__ is deprecated, and its behavior will change in a future version of pytorch. It currently rounds toward 0 (like the 'trunc' function NOT 'floor'). This results in incorrect rounding for negative values. To keep the current behavior, use torch.div(a, b, rounding_mode='trunc'), or for actual floor division, use torch.div(a, b, rounding_mode='floor').\n",
      "  row = perm // num_nodes\n"
     ]
    },
    {
     "name": "stdout",
     "output_type": "stream",
     "text": [
      "Epoch: 093, Train: 0.9877, Val: 0.9529, Test: 0.9544, Loss: 0.41110\n"
     ]
    },
    {
     "name": "stderr",
     "output_type": "stream",
     "text": [
      "c:\\Users\\rosa-\\anaconda3\\envs\\xaifo\\lib\\site-packages\\deepsnap\\graph.py:2126: UserWarning: __floordiv__ is deprecated, and its behavior will change in a future version of pytorch. It currently rounds toward 0 (like the 'trunc' function NOT 'floor'). This results in incorrect rounding for negative values. To keep the current behavior, use torch.div(a, b, rounding_mode='trunc'), or for actual floor division, use torch.div(a, b, rounding_mode='floor').\n",
      "  row = perm // num_nodes\n"
     ]
    },
    {
     "name": "stdout",
     "output_type": "stream",
     "text": [
      "Epoch: 094, Train: 0.9881, Val: 0.9531, Test: 0.9546, Loss: 0.41130\n"
     ]
    },
    {
     "name": "stderr",
     "output_type": "stream",
     "text": [
      "c:\\Users\\rosa-\\anaconda3\\envs\\xaifo\\lib\\site-packages\\deepsnap\\graph.py:2126: UserWarning: __floordiv__ is deprecated, and its behavior will change in a future version of pytorch. It currently rounds toward 0 (like the 'trunc' function NOT 'floor'). This results in incorrect rounding for negative values. To keep the current behavior, use torch.div(a, b, rounding_mode='trunc'), or for actual floor division, use torch.div(a, b, rounding_mode='floor').\n",
      "  row = perm // num_nodes\n"
     ]
    },
    {
     "name": "stdout",
     "output_type": "stream",
     "text": [
      "Epoch: 095, Train: 0.9883, Val: 0.9532, Test: 0.9548, Loss: 0.41196\n"
     ]
    },
    {
     "name": "stderr",
     "output_type": "stream",
     "text": [
      "c:\\Users\\rosa-\\anaconda3\\envs\\xaifo\\lib\\site-packages\\deepsnap\\graph.py:2126: UserWarning: __floordiv__ is deprecated, and its behavior will change in a future version of pytorch. It currently rounds toward 0 (like the 'trunc' function NOT 'floor'). This results in incorrect rounding for negative values. To keep the current behavior, use torch.div(a, b, rounding_mode='trunc'), or for actual floor division, use torch.div(a, b, rounding_mode='floor').\n",
      "  row = perm // num_nodes\n"
     ]
    },
    {
     "name": "stdout",
     "output_type": "stream",
     "text": [
      "Epoch: 096, Train: 0.9884, Val: 0.9534, Test: 0.9549, Loss: 0.41048\n"
     ]
    },
    {
     "name": "stderr",
     "output_type": "stream",
     "text": [
      "c:\\Users\\rosa-\\anaconda3\\envs\\xaifo\\lib\\site-packages\\deepsnap\\graph.py:2126: UserWarning: __floordiv__ is deprecated, and its behavior will change in a future version of pytorch. It currently rounds toward 0 (like the 'trunc' function NOT 'floor'). This results in incorrect rounding for negative values. To keep the current behavior, use torch.div(a, b, rounding_mode='trunc'), or for actual floor division, use torch.div(a, b, rounding_mode='floor').\n",
      "  row = perm // num_nodes\n"
     ]
    },
    {
     "name": "stdout",
     "output_type": "stream",
     "text": [
      "Epoch: 097, Train: 0.9883, Val: 0.9535, Test: 0.9550, Loss: 0.41071\n"
     ]
    },
    {
     "name": "stderr",
     "output_type": "stream",
     "text": [
      "c:\\Users\\rosa-\\anaconda3\\envs\\xaifo\\lib\\site-packages\\deepsnap\\graph.py:2126: UserWarning: __floordiv__ is deprecated, and its behavior will change in a future version of pytorch. It currently rounds toward 0 (like the 'trunc' function NOT 'floor'). This results in incorrect rounding for negative values. To keep the current behavior, use torch.div(a, b, rounding_mode='trunc'), or for actual floor division, use torch.div(a, b, rounding_mode='floor').\n",
      "  row = perm // num_nodes\n"
     ]
    },
    {
     "name": "stdout",
     "output_type": "stream",
     "text": [
      "Epoch: 098, Train: 0.9885, Val: 0.9537, Test: 0.9552, Loss: 0.41097\n"
     ]
    },
    {
     "name": "stderr",
     "output_type": "stream",
     "text": [
      "c:\\Users\\rosa-\\anaconda3\\envs\\xaifo\\lib\\site-packages\\deepsnap\\graph.py:2126: UserWarning: __floordiv__ is deprecated, and its behavior will change in a future version of pytorch. It currently rounds toward 0 (like the 'trunc' function NOT 'floor'). This results in incorrect rounding for negative values. To keep the current behavior, use torch.div(a, b, rounding_mode='trunc'), or for actual floor division, use torch.div(a, b, rounding_mode='floor').\n",
      "  row = perm // num_nodes\n"
     ]
    },
    {
     "name": "stdout",
     "output_type": "stream",
     "text": [
      "Epoch: 099, Train: 0.9887, Val: 0.9537, Test: 0.9553, Loss: 0.40883\n"
     ]
    },
    {
     "name": "stderr",
     "output_type": "stream",
     "text": [
      "c:\\Users\\rosa-\\anaconda3\\envs\\xaifo\\lib\\site-packages\\deepsnap\\graph.py:2126: UserWarning: __floordiv__ is deprecated, and its behavior will change in a future version of pytorch. It currently rounds toward 0 (like the 'trunc' function NOT 'floor'). This results in incorrect rounding for negative values. To keep the current behavior, use torch.div(a, b, rounding_mode='trunc'), or for actual floor division, use torch.div(a, b, rounding_mode='floor').\n",
      "  row = perm // num_nodes\n"
     ]
    },
    {
     "name": "stdout",
     "output_type": "stream",
     "text": [
      "Epoch: 100, Train: 0.9884, Val: 0.9538, Test: 0.9553, Loss: 0.41125\n"
     ]
    },
    {
     "name": "stderr",
     "output_type": "stream",
     "text": [
      "c:\\Users\\rosa-\\anaconda3\\envs\\xaifo\\lib\\site-packages\\deepsnap\\graph.py:2126: UserWarning: __floordiv__ is deprecated, and its behavior will change in a future version of pytorch. It currently rounds toward 0 (like the 'trunc' function NOT 'floor'). This results in incorrect rounding for negative values. To keep the current behavior, use torch.div(a, b, rounding_mode='trunc'), or for actual floor division, use torch.div(a, b, rounding_mode='floor').\n",
      "  row = perm // num_nodes\n"
     ]
    },
    {
     "name": "stdout",
     "output_type": "stream",
     "text": [
      "Epoch: 101, Train: 0.9886, Val: 0.9538, Test: 0.9554, Loss: 0.41024\n"
     ]
    },
    {
     "name": "stderr",
     "output_type": "stream",
     "text": [
      "c:\\Users\\rosa-\\anaconda3\\envs\\xaifo\\lib\\site-packages\\deepsnap\\graph.py:2126: UserWarning: __floordiv__ is deprecated, and its behavior will change in a future version of pytorch. It currently rounds toward 0 (like the 'trunc' function NOT 'floor'). This results in incorrect rounding for negative values. To keep the current behavior, use torch.div(a, b, rounding_mode='trunc'), or for actual floor division, use torch.div(a, b, rounding_mode='floor').\n",
      "  row = perm // num_nodes\n"
     ]
    },
    {
     "name": "stdout",
     "output_type": "stream",
     "text": [
      "Epoch: 102, Train: 0.9887, Val: 0.9540, Test: 0.9556, Loss: 0.41092\n"
     ]
    },
    {
     "name": "stderr",
     "output_type": "stream",
     "text": [
      "c:\\Users\\rosa-\\anaconda3\\envs\\xaifo\\lib\\site-packages\\deepsnap\\graph.py:2126: UserWarning: __floordiv__ is deprecated, and its behavior will change in a future version of pytorch. It currently rounds toward 0 (like the 'trunc' function NOT 'floor'). This results in incorrect rounding for negative values. To keep the current behavior, use torch.div(a, b, rounding_mode='trunc'), or for actual floor division, use torch.div(a, b, rounding_mode='floor').\n",
      "  row = perm // num_nodes\n"
     ]
    },
    {
     "name": "stdout",
     "output_type": "stream",
     "text": [
      "Epoch: 103, Train: 0.9887, Val: 0.9541, Test: 0.9557, Loss: 0.40973\n"
     ]
    },
    {
     "name": "stderr",
     "output_type": "stream",
     "text": [
      "c:\\Users\\rosa-\\anaconda3\\envs\\xaifo\\lib\\site-packages\\deepsnap\\graph.py:2126: UserWarning: __floordiv__ is deprecated, and its behavior will change in a future version of pytorch. It currently rounds toward 0 (like the 'trunc' function NOT 'floor'). This results in incorrect rounding for negative values. To keep the current behavior, use torch.div(a, b, rounding_mode='trunc'), or for actual floor division, use torch.div(a, b, rounding_mode='floor').\n",
      "  row = perm // num_nodes\n"
     ]
    },
    {
     "name": "stdout",
     "output_type": "stream",
     "text": [
      "Epoch: 104, Train: 0.9890, Val: 0.9542, Test: 0.9558, Loss: 0.40856\n"
     ]
    },
    {
     "name": "stderr",
     "output_type": "stream",
     "text": [
      "c:\\Users\\rosa-\\anaconda3\\envs\\xaifo\\lib\\site-packages\\deepsnap\\graph.py:2126: UserWarning: __floordiv__ is deprecated, and its behavior will change in a future version of pytorch. It currently rounds toward 0 (like the 'trunc' function NOT 'floor'). This results in incorrect rounding for negative values. To keep the current behavior, use torch.div(a, b, rounding_mode='trunc'), or for actual floor division, use torch.div(a, b, rounding_mode='floor').\n",
      "  row = perm // num_nodes\n"
     ]
    },
    {
     "name": "stdout",
     "output_type": "stream",
     "text": [
      "Epoch: 105, Train: 0.9888, Val: 0.9543, Test: 0.9560, Loss: 0.41074\n"
     ]
    },
    {
     "name": "stderr",
     "output_type": "stream",
     "text": [
      "c:\\Users\\rosa-\\anaconda3\\envs\\xaifo\\lib\\site-packages\\deepsnap\\graph.py:2126: UserWarning: __floordiv__ is deprecated, and its behavior will change in a future version of pytorch. It currently rounds toward 0 (like the 'trunc' function NOT 'floor'). This results in incorrect rounding for negative values. To keep the current behavior, use torch.div(a, b, rounding_mode='trunc'), or for actual floor division, use torch.div(a, b, rounding_mode='floor').\n",
      "  row = perm // num_nodes\n"
     ]
    },
    {
     "name": "stdout",
     "output_type": "stream",
     "text": [
      "Epoch: 106, Train: 0.9893, Val: 0.9544, Test: 0.9561, Loss: 0.40955\n"
     ]
    },
    {
     "name": "stderr",
     "output_type": "stream",
     "text": [
      "c:\\Users\\rosa-\\anaconda3\\envs\\xaifo\\lib\\site-packages\\deepsnap\\graph.py:2126: UserWarning: __floordiv__ is deprecated, and its behavior will change in a future version of pytorch. It currently rounds toward 0 (like the 'trunc' function NOT 'floor'). This results in incorrect rounding for negative values. To keep the current behavior, use torch.div(a, b, rounding_mode='trunc'), or for actual floor division, use torch.div(a, b, rounding_mode='floor').\n",
      "  row = perm // num_nodes\n"
     ]
    },
    {
     "name": "stdout",
     "output_type": "stream",
     "text": [
      "Epoch: 107, Train: 0.9892, Val: 0.9545, Test: 0.9562, Loss: 0.40930\n"
     ]
    },
    {
     "name": "stderr",
     "output_type": "stream",
     "text": [
      "c:\\Users\\rosa-\\anaconda3\\envs\\xaifo\\lib\\site-packages\\deepsnap\\graph.py:2126: UserWarning: __floordiv__ is deprecated, and its behavior will change in a future version of pytorch. It currently rounds toward 0 (like the 'trunc' function NOT 'floor'). This results in incorrect rounding for negative values. To keep the current behavior, use torch.div(a, b, rounding_mode='trunc'), or for actual floor division, use torch.div(a, b, rounding_mode='floor').\n",
      "  row = perm // num_nodes\n"
     ]
    },
    {
     "name": "stdout",
     "output_type": "stream",
     "text": [
      "Epoch: 108, Train: 0.9893, Val: 0.9546, Test: 0.9563, Loss: 0.40841\n"
     ]
    },
    {
     "name": "stderr",
     "output_type": "stream",
     "text": [
      "c:\\Users\\rosa-\\anaconda3\\envs\\xaifo\\lib\\site-packages\\deepsnap\\graph.py:2126: UserWarning: __floordiv__ is deprecated, and its behavior will change in a future version of pytorch. It currently rounds toward 0 (like the 'trunc' function NOT 'floor'). This results in incorrect rounding for negative values. To keep the current behavior, use torch.div(a, b, rounding_mode='trunc'), or for actual floor division, use torch.div(a, b, rounding_mode='floor').\n",
      "  row = perm // num_nodes\n"
     ]
    },
    {
     "name": "stdout",
     "output_type": "stream",
     "text": [
      "Epoch: 109, Train: 0.9893, Val: 0.9547, Test: 0.9564, Loss: 0.40828\n"
     ]
    },
    {
     "name": "stderr",
     "output_type": "stream",
     "text": [
      "c:\\Users\\rosa-\\anaconda3\\envs\\xaifo\\lib\\site-packages\\deepsnap\\graph.py:2126: UserWarning: __floordiv__ is deprecated, and its behavior will change in a future version of pytorch. It currently rounds toward 0 (like the 'trunc' function NOT 'floor'). This results in incorrect rounding for negative values. To keep the current behavior, use torch.div(a, b, rounding_mode='trunc'), or for actual floor division, use torch.div(a, b, rounding_mode='floor').\n",
      "  row = perm // num_nodes\n"
     ]
    },
    {
     "name": "stdout",
     "output_type": "stream",
     "text": [
      "Epoch: 110, Train: 0.9892, Val: 0.9547, Test: 0.9564, Loss: 0.40866\n"
     ]
    },
    {
     "name": "stderr",
     "output_type": "stream",
     "text": [
      "c:\\Users\\rosa-\\anaconda3\\envs\\xaifo\\lib\\site-packages\\deepsnap\\graph.py:2126: UserWarning: __floordiv__ is deprecated, and its behavior will change in a future version of pytorch. It currently rounds toward 0 (like the 'trunc' function NOT 'floor'). This results in incorrect rounding for negative values. To keep the current behavior, use torch.div(a, b, rounding_mode='trunc'), or for actual floor division, use torch.div(a, b, rounding_mode='floor').\n",
      "  row = perm // num_nodes\n"
     ]
    },
    {
     "name": "stdout",
     "output_type": "stream",
     "text": [
      "Epoch: 111, Train: 0.9895, Val: 0.9548, Test: 0.9565, Loss: 0.40742\n"
     ]
    },
    {
     "name": "stderr",
     "output_type": "stream",
     "text": [
      "c:\\Users\\rosa-\\anaconda3\\envs\\xaifo\\lib\\site-packages\\deepsnap\\graph.py:2126: UserWarning: __floordiv__ is deprecated, and its behavior will change in a future version of pytorch. It currently rounds toward 0 (like the 'trunc' function NOT 'floor'). This results in incorrect rounding for negative values. To keep the current behavior, use torch.div(a, b, rounding_mode='trunc'), or for actual floor division, use torch.div(a, b, rounding_mode='floor').\n",
      "  row = perm // num_nodes\n"
     ]
    },
    {
     "name": "stdout",
     "output_type": "stream",
     "text": [
      "Epoch: 112, Train: 0.9897, Val: 0.9549, Test: 0.9567, Loss: 0.40902\n"
     ]
    },
    {
     "name": "stderr",
     "output_type": "stream",
     "text": [
      "c:\\Users\\rosa-\\anaconda3\\envs\\xaifo\\lib\\site-packages\\deepsnap\\graph.py:2126: UserWarning: __floordiv__ is deprecated, and its behavior will change in a future version of pytorch. It currently rounds toward 0 (like the 'trunc' function NOT 'floor'). This results in incorrect rounding for negative values. To keep the current behavior, use torch.div(a, b, rounding_mode='trunc'), or for actual floor division, use torch.div(a, b, rounding_mode='floor').\n",
      "  row = perm // num_nodes\n"
     ]
    },
    {
     "name": "stdout",
     "output_type": "stream",
     "text": [
      "Epoch: 113, Train: 0.9898, Val: 0.9550, Test: 0.9567, Loss: 0.40788\n"
     ]
    },
    {
     "name": "stderr",
     "output_type": "stream",
     "text": [
      "c:\\Users\\rosa-\\anaconda3\\envs\\xaifo\\lib\\site-packages\\deepsnap\\graph.py:2126: UserWarning: __floordiv__ is deprecated, and its behavior will change in a future version of pytorch. It currently rounds toward 0 (like the 'trunc' function NOT 'floor'). This results in incorrect rounding for negative values. To keep the current behavior, use torch.div(a, b, rounding_mode='trunc'), or for actual floor division, use torch.div(a, b, rounding_mode='floor').\n",
      "  row = perm // num_nodes\n"
     ]
    },
    {
     "name": "stdout",
     "output_type": "stream",
     "text": [
      "Epoch: 114, Train: 0.9898, Val: 0.9550, Test: 0.9568, Loss: 0.40832\n"
     ]
    },
    {
     "name": "stderr",
     "output_type": "stream",
     "text": [
      "c:\\Users\\rosa-\\anaconda3\\envs\\xaifo\\lib\\site-packages\\deepsnap\\graph.py:2126: UserWarning: __floordiv__ is deprecated, and its behavior will change in a future version of pytorch. It currently rounds toward 0 (like the 'trunc' function NOT 'floor'). This results in incorrect rounding for negative values. To keep the current behavior, use torch.div(a, b, rounding_mode='trunc'), or for actual floor division, use torch.div(a, b, rounding_mode='floor').\n",
      "  row = perm // num_nodes\n"
     ]
    },
    {
     "name": "stdout",
     "output_type": "stream",
     "text": [
      "Epoch: 115, Train: 0.9900, Val: 0.9551, Test: 0.9568, Loss: 0.40764\n"
     ]
    },
    {
     "name": "stderr",
     "output_type": "stream",
     "text": [
      "c:\\Users\\rosa-\\anaconda3\\envs\\xaifo\\lib\\site-packages\\deepsnap\\graph.py:2126: UserWarning: __floordiv__ is deprecated, and its behavior will change in a future version of pytorch. It currently rounds toward 0 (like the 'trunc' function NOT 'floor'). This results in incorrect rounding for negative values. To keep the current behavior, use torch.div(a, b, rounding_mode='trunc'), or for actual floor division, use torch.div(a, b, rounding_mode='floor').\n",
      "  row = perm // num_nodes\n"
     ]
    },
    {
     "name": "stdout",
     "output_type": "stream",
     "text": [
      "Epoch: 116, Train: 0.9900, Val: 0.9551, Test: 0.9569, Loss: 0.40628\n"
     ]
    },
    {
     "name": "stderr",
     "output_type": "stream",
     "text": [
      "c:\\Users\\rosa-\\anaconda3\\envs\\xaifo\\lib\\site-packages\\deepsnap\\graph.py:2126: UserWarning: __floordiv__ is deprecated, and its behavior will change in a future version of pytorch. It currently rounds toward 0 (like the 'trunc' function NOT 'floor'). This results in incorrect rounding for negative values. To keep the current behavior, use torch.div(a, b, rounding_mode='trunc'), or for actual floor division, use torch.div(a, b, rounding_mode='floor').\n",
      "  row = perm // num_nodes\n"
     ]
    },
    {
     "name": "stdout",
     "output_type": "stream",
     "text": [
      "Epoch: 117, Train: 0.9900, Val: 0.9552, Test: 0.9570, Loss: 0.40760\n"
     ]
    },
    {
     "name": "stderr",
     "output_type": "stream",
     "text": [
      "c:\\Users\\rosa-\\anaconda3\\envs\\xaifo\\lib\\site-packages\\deepsnap\\graph.py:2126: UserWarning: __floordiv__ is deprecated, and its behavior will change in a future version of pytorch. It currently rounds toward 0 (like the 'trunc' function NOT 'floor'). This results in incorrect rounding for negative values. To keep the current behavior, use torch.div(a, b, rounding_mode='trunc'), or for actual floor division, use torch.div(a, b, rounding_mode='floor').\n",
      "  row = perm // num_nodes\n"
     ]
    },
    {
     "name": "stdout",
     "output_type": "stream",
     "text": [
      "Epoch: 118, Train: 0.9901, Val: 0.9553, Test: 0.9571, Loss: 0.40631\n"
     ]
    },
    {
     "name": "stderr",
     "output_type": "stream",
     "text": [
      "c:\\Users\\rosa-\\anaconda3\\envs\\xaifo\\lib\\site-packages\\deepsnap\\graph.py:2126: UserWarning: __floordiv__ is deprecated, and its behavior will change in a future version of pytorch. It currently rounds toward 0 (like the 'trunc' function NOT 'floor'). This results in incorrect rounding for negative values. To keep the current behavior, use torch.div(a, b, rounding_mode='trunc'), or for actual floor division, use torch.div(a, b, rounding_mode='floor').\n",
      "  row = perm // num_nodes\n"
     ]
    },
    {
     "name": "stdout",
     "output_type": "stream",
     "text": [
      "Epoch: 119, Train: 0.9900, Val: 0.9554, Test: 0.9572, Loss: 0.40698\n"
     ]
    },
    {
     "name": "stderr",
     "output_type": "stream",
     "text": [
      "c:\\Users\\rosa-\\anaconda3\\envs\\xaifo\\lib\\site-packages\\deepsnap\\graph.py:2126: UserWarning: __floordiv__ is deprecated, and its behavior will change in a future version of pytorch. It currently rounds toward 0 (like the 'trunc' function NOT 'floor'). This results in incorrect rounding for negative values. To keep the current behavior, use torch.div(a, b, rounding_mode='trunc'), or for actual floor division, use torch.div(a, b, rounding_mode='floor').\n",
      "  row = perm // num_nodes\n"
     ]
    },
    {
     "name": "stdout",
     "output_type": "stream",
     "text": [
      "Epoch: 120, Train: 0.9901, Val: 0.9555, Test: 0.9573, Loss: 0.40766\n"
     ]
    },
    {
     "name": "stderr",
     "output_type": "stream",
     "text": [
      "c:\\Users\\rosa-\\anaconda3\\envs\\xaifo\\lib\\site-packages\\deepsnap\\graph.py:2126: UserWarning: __floordiv__ is deprecated, and its behavior will change in a future version of pytorch. It currently rounds toward 0 (like the 'trunc' function NOT 'floor'). This results in incorrect rounding for negative values. To keep the current behavior, use torch.div(a, b, rounding_mode='trunc'), or for actual floor division, use torch.div(a, b, rounding_mode='floor').\n",
      "  row = perm // num_nodes\n"
     ]
    },
    {
     "name": "stdout",
     "output_type": "stream",
     "text": [
      "Epoch: 121, Train: 0.9900, Val: 0.9556, Test: 0.9574, Loss: 0.40597\n"
     ]
    },
    {
     "name": "stderr",
     "output_type": "stream",
     "text": [
      "c:\\Users\\rosa-\\anaconda3\\envs\\xaifo\\lib\\site-packages\\deepsnap\\graph.py:2126: UserWarning: __floordiv__ is deprecated, and its behavior will change in a future version of pytorch. It currently rounds toward 0 (like the 'trunc' function NOT 'floor'). This results in incorrect rounding for negative values. To keep the current behavior, use torch.div(a, b, rounding_mode='trunc'), or for actual floor division, use torch.div(a, b, rounding_mode='floor').\n",
      "  row = perm // num_nodes\n"
     ]
    },
    {
     "name": "stdout",
     "output_type": "stream",
     "text": [
      "Epoch: 122, Train: 0.9901, Val: 0.9558, Test: 0.9576, Loss: 0.40767\n"
     ]
    },
    {
     "name": "stderr",
     "output_type": "stream",
     "text": [
      "c:\\Users\\rosa-\\anaconda3\\envs\\xaifo\\lib\\site-packages\\deepsnap\\graph.py:2126: UserWarning: __floordiv__ is deprecated, and its behavior will change in a future version of pytorch. It currently rounds toward 0 (like the 'trunc' function NOT 'floor'). This results in incorrect rounding for negative values. To keep the current behavior, use torch.div(a, b, rounding_mode='trunc'), or for actual floor division, use torch.div(a, b, rounding_mode='floor').\n",
      "  row = perm // num_nodes\n"
     ]
    },
    {
     "name": "stdout",
     "output_type": "stream",
     "text": [
      "Epoch: 123, Train: 0.9901, Val: 0.9559, Test: 0.9577, Loss: 0.40665\n"
     ]
    },
    {
     "name": "stderr",
     "output_type": "stream",
     "text": [
      "c:\\Users\\rosa-\\anaconda3\\envs\\xaifo\\lib\\site-packages\\deepsnap\\graph.py:2126: UserWarning: __floordiv__ is deprecated, and its behavior will change in a future version of pytorch. It currently rounds toward 0 (like the 'trunc' function NOT 'floor'). This results in incorrect rounding for negative values. To keep the current behavior, use torch.div(a, b, rounding_mode='trunc'), or for actual floor division, use torch.div(a, b, rounding_mode='floor').\n",
      "  row = perm // num_nodes\n"
     ]
    },
    {
     "name": "stdout",
     "output_type": "stream",
     "text": [
      "Epoch: 124, Train: 0.9901, Val: 0.9561, Test: 0.9579, Loss: 0.40680\n"
     ]
    },
    {
     "name": "stderr",
     "output_type": "stream",
     "text": [
      "c:\\Users\\rosa-\\anaconda3\\envs\\xaifo\\lib\\site-packages\\deepsnap\\graph.py:2126: UserWarning: __floordiv__ is deprecated, and its behavior will change in a future version of pytorch. It currently rounds toward 0 (like the 'trunc' function NOT 'floor'). This results in incorrect rounding for negative values. To keep the current behavior, use torch.div(a, b, rounding_mode='trunc'), or for actual floor division, use torch.div(a, b, rounding_mode='floor').\n",
      "  row = perm // num_nodes\n"
     ]
    },
    {
     "name": "stdout",
     "output_type": "stream",
     "text": [
      "Epoch: 125, Train: 0.9902, Val: 0.9562, Test: 0.9580, Loss: 0.40663\n"
     ]
    },
    {
     "name": "stderr",
     "output_type": "stream",
     "text": [
      "c:\\Users\\rosa-\\anaconda3\\envs\\xaifo\\lib\\site-packages\\deepsnap\\graph.py:2126: UserWarning: __floordiv__ is deprecated, and its behavior will change in a future version of pytorch. It currently rounds toward 0 (like the 'trunc' function NOT 'floor'). This results in incorrect rounding for negative values. To keep the current behavior, use torch.div(a, b, rounding_mode='trunc'), or for actual floor division, use torch.div(a, b, rounding_mode='floor').\n",
      "  row = perm // num_nodes\n"
     ]
    },
    {
     "name": "stdout",
     "output_type": "stream",
     "text": [
      "Epoch: 126, Train: 0.9904, Val: 0.9564, Test: 0.9581, Loss: 0.40646\n"
     ]
    },
    {
     "name": "stderr",
     "output_type": "stream",
     "text": [
      "c:\\Users\\rosa-\\anaconda3\\envs\\xaifo\\lib\\site-packages\\deepsnap\\graph.py:2126: UserWarning: __floordiv__ is deprecated, and its behavior will change in a future version of pytorch. It currently rounds toward 0 (like the 'trunc' function NOT 'floor'). This results in incorrect rounding for negative values. To keep the current behavior, use torch.div(a, b, rounding_mode='trunc'), or for actual floor division, use torch.div(a, b, rounding_mode='floor').\n",
      "  row = perm // num_nodes\n"
     ]
    },
    {
     "name": "stdout",
     "output_type": "stream",
     "text": [
      "Epoch: 127, Train: 0.9906, Val: 0.9564, Test: 0.9581, Loss: 0.40618\n"
     ]
    },
    {
     "name": "stderr",
     "output_type": "stream",
     "text": [
      "c:\\Users\\rosa-\\anaconda3\\envs\\xaifo\\lib\\site-packages\\deepsnap\\graph.py:2126: UserWarning: __floordiv__ is deprecated, and its behavior will change in a future version of pytorch. It currently rounds toward 0 (like the 'trunc' function NOT 'floor'). This results in incorrect rounding for negative values. To keep the current behavior, use torch.div(a, b, rounding_mode='trunc'), or for actual floor division, use torch.div(a, b, rounding_mode='floor').\n",
      "  row = perm // num_nodes\n"
     ]
    },
    {
     "name": "stdout",
     "output_type": "stream",
     "text": [
      "Epoch: 128, Train: 0.9906, Val: 0.9565, Test: 0.9582, Loss: 0.40685\n"
     ]
    },
    {
     "name": "stderr",
     "output_type": "stream",
     "text": [
      "c:\\Users\\rosa-\\anaconda3\\envs\\xaifo\\lib\\site-packages\\deepsnap\\graph.py:2126: UserWarning: __floordiv__ is deprecated, and its behavior will change in a future version of pytorch. It currently rounds toward 0 (like the 'trunc' function NOT 'floor'). This results in incorrect rounding for negative values. To keep the current behavior, use torch.div(a, b, rounding_mode='trunc'), or for actual floor division, use torch.div(a, b, rounding_mode='floor').\n",
      "  row = perm // num_nodes\n"
     ]
    },
    {
     "name": "stdout",
     "output_type": "stream",
     "text": [
      "Epoch: 129, Train: 0.9907, Val: 0.9566, Test: 0.9583, Loss: 0.40593\n"
     ]
    },
    {
     "name": "stderr",
     "output_type": "stream",
     "text": [
      "c:\\Users\\rosa-\\anaconda3\\envs\\xaifo\\lib\\site-packages\\deepsnap\\graph.py:2126: UserWarning: __floordiv__ is deprecated, and its behavior will change in a future version of pytorch. It currently rounds toward 0 (like the 'trunc' function NOT 'floor'). This results in incorrect rounding for negative values. To keep the current behavior, use torch.div(a, b, rounding_mode='trunc'), or for actual floor division, use torch.div(a, b, rounding_mode='floor').\n",
      "  row = perm // num_nodes\n"
     ]
    },
    {
     "name": "stdout",
     "output_type": "stream",
     "text": [
      "Epoch: 130, Train: 0.9905, Val: 0.9566, Test: 0.9583, Loss: 0.40476\n"
     ]
    },
    {
     "name": "stderr",
     "output_type": "stream",
     "text": [
      "c:\\Users\\rosa-\\anaconda3\\envs\\xaifo\\lib\\site-packages\\deepsnap\\graph.py:2126: UserWarning: __floordiv__ is deprecated, and its behavior will change in a future version of pytorch. It currently rounds toward 0 (like the 'trunc' function NOT 'floor'). This results in incorrect rounding for negative values. To keep the current behavior, use torch.div(a, b, rounding_mode='trunc'), or for actual floor division, use torch.div(a, b, rounding_mode='floor').\n",
      "  row = perm // num_nodes\n"
     ]
    },
    {
     "name": "stdout",
     "output_type": "stream",
     "text": [
      "Epoch: 131, Train: 0.9906, Val: 0.9565, Test: 0.9583, Loss: 0.40522\n"
     ]
    },
    {
     "name": "stderr",
     "output_type": "stream",
     "text": [
      "c:\\Users\\rosa-\\anaconda3\\envs\\xaifo\\lib\\site-packages\\deepsnap\\graph.py:2126: UserWarning: __floordiv__ is deprecated, and its behavior will change in a future version of pytorch. It currently rounds toward 0 (like the 'trunc' function NOT 'floor'). This results in incorrect rounding for negative values. To keep the current behavior, use torch.div(a, b, rounding_mode='trunc'), or for actual floor division, use torch.div(a, b, rounding_mode='floor').\n",
      "  row = perm // num_nodes\n"
     ]
    },
    {
     "name": "stdout",
     "output_type": "stream",
     "text": [
      "Epoch: 132, Train: 0.9904, Val: 0.9566, Test: 0.9583, Loss: 0.40594\n"
     ]
    },
    {
     "name": "stderr",
     "output_type": "stream",
     "text": [
      "c:\\Users\\rosa-\\anaconda3\\envs\\xaifo\\lib\\site-packages\\deepsnap\\graph.py:2126: UserWarning: __floordiv__ is deprecated, and its behavior will change in a future version of pytorch. It currently rounds toward 0 (like the 'trunc' function NOT 'floor'). This results in incorrect rounding for negative values. To keep the current behavior, use torch.div(a, b, rounding_mode='trunc'), or for actual floor division, use torch.div(a, b, rounding_mode='floor').\n",
      "  row = perm // num_nodes\n"
     ]
    },
    {
     "name": "stdout",
     "output_type": "stream",
     "text": [
      "Epoch: 133, Train: 0.9908, Val: 0.9565, Test: 0.9582, Loss: 0.40544\n"
     ]
    },
    {
     "name": "stderr",
     "output_type": "stream",
     "text": [
      "c:\\Users\\rosa-\\anaconda3\\envs\\xaifo\\lib\\site-packages\\deepsnap\\graph.py:2126: UserWarning: __floordiv__ is deprecated, and its behavior will change in a future version of pytorch. It currently rounds toward 0 (like the 'trunc' function NOT 'floor'). This results in incorrect rounding for negative values. To keep the current behavior, use torch.div(a, b, rounding_mode='trunc'), or for actual floor division, use torch.div(a, b, rounding_mode='floor').\n",
      "  row = perm // num_nodes\n"
     ]
    },
    {
     "name": "stdout",
     "output_type": "stream",
     "text": [
      "Epoch: 134, Train: 0.9907, Val: 0.9564, Test: 0.9582, Loss: 0.40546\n"
     ]
    },
    {
     "name": "stderr",
     "output_type": "stream",
     "text": [
      "c:\\Users\\rosa-\\anaconda3\\envs\\xaifo\\lib\\site-packages\\deepsnap\\graph.py:2126: UserWarning: __floordiv__ is deprecated, and its behavior will change in a future version of pytorch. It currently rounds toward 0 (like the 'trunc' function NOT 'floor'). This results in incorrect rounding for negative values. To keep the current behavior, use torch.div(a, b, rounding_mode='trunc'), or for actual floor division, use torch.div(a, b, rounding_mode='floor').\n",
      "  row = perm // num_nodes\n"
     ]
    },
    {
     "name": "stdout",
     "output_type": "stream",
     "text": [
      "Epoch: 135, Train: 0.9908, Val: 0.9564, Test: 0.9581, Loss: 0.40614\n"
     ]
    },
    {
     "name": "stderr",
     "output_type": "stream",
     "text": [
      "c:\\Users\\rosa-\\anaconda3\\envs\\xaifo\\lib\\site-packages\\deepsnap\\graph.py:2126: UserWarning: __floordiv__ is deprecated, and its behavior will change in a future version of pytorch. It currently rounds toward 0 (like the 'trunc' function NOT 'floor'). This results in incorrect rounding for negative values. To keep the current behavior, use torch.div(a, b, rounding_mode='trunc'), or for actual floor division, use torch.div(a, b, rounding_mode='floor').\n",
      "  row = perm // num_nodes\n"
     ]
    },
    {
     "name": "stdout",
     "output_type": "stream",
     "text": [
      "Epoch: 136, Train: 0.9907, Val: 0.9563, Test: 0.9581, Loss: 0.40465\n"
     ]
    },
    {
     "name": "stderr",
     "output_type": "stream",
     "text": [
      "c:\\Users\\rosa-\\anaconda3\\envs\\xaifo\\lib\\site-packages\\deepsnap\\graph.py:2126: UserWarning: __floordiv__ is deprecated, and its behavior will change in a future version of pytorch. It currently rounds toward 0 (like the 'trunc' function NOT 'floor'). This results in incorrect rounding for negative values. To keep the current behavior, use torch.div(a, b, rounding_mode='trunc'), or for actual floor division, use torch.div(a, b, rounding_mode='floor').\n",
      "  row = perm // num_nodes\n"
     ]
    },
    {
     "name": "stdout",
     "output_type": "stream",
     "text": [
      "Epoch: 137, Train: 0.9910, Val: 0.9563, Test: 0.9581, Loss: 0.40424\n"
     ]
    },
    {
     "name": "stderr",
     "output_type": "stream",
     "text": [
      "c:\\Users\\rosa-\\anaconda3\\envs\\xaifo\\lib\\site-packages\\deepsnap\\graph.py:2126: UserWarning: __floordiv__ is deprecated, and its behavior will change in a future version of pytorch. It currently rounds toward 0 (like the 'trunc' function NOT 'floor'). This results in incorrect rounding for negative values. To keep the current behavior, use torch.div(a, b, rounding_mode='trunc'), or for actual floor division, use torch.div(a, b, rounding_mode='floor').\n",
      "  row = perm // num_nodes\n"
     ]
    },
    {
     "name": "stdout",
     "output_type": "stream",
     "text": [
      "Epoch: 138, Train: 0.9910, Val: 0.9563, Test: 0.9581, Loss: 0.40440\n"
     ]
    },
    {
     "name": "stderr",
     "output_type": "stream",
     "text": [
      "c:\\Users\\rosa-\\anaconda3\\envs\\xaifo\\lib\\site-packages\\deepsnap\\graph.py:2126: UserWarning: __floordiv__ is deprecated, and its behavior will change in a future version of pytorch. It currently rounds toward 0 (like the 'trunc' function NOT 'floor'). This results in incorrect rounding for negative values. To keep the current behavior, use torch.div(a, b, rounding_mode='trunc'), or for actual floor division, use torch.div(a, b, rounding_mode='floor').\n",
      "  row = perm // num_nodes\n"
     ]
    },
    {
     "name": "stdout",
     "output_type": "stream",
     "text": [
      "Epoch: 139, Train: 0.9910, Val: 0.9563, Test: 0.9581, Loss: 0.40441\n"
     ]
    },
    {
     "name": "stderr",
     "output_type": "stream",
     "text": [
      "c:\\Users\\rosa-\\anaconda3\\envs\\xaifo\\lib\\site-packages\\deepsnap\\graph.py:2126: UserWarning: __floordiv__ is deprecated, and its behavior will change in a future version of pytorch. It currently rounds toward 0 (like the 'trunc' function NOT 'floor'). This results in incorrect rounding for negative values. To keep the current behavior, use torch.div(a, b, rounding_mode='trunc'), or for actual floor division, use torch.div(a, b, rounding_mode='floor').\n",
      "  row = perm // num_nodes\n"
     ]
    },
    {
     "name": "stdout",
     "output_type": "stream",
     "text": [
      "Epoch: 140, Train: 0.9912, Val: 0.9562, Test: 0.9581, Loss: 0.40424\n"
     ]
    },
    {
     "name": "stderr",
     "output_type": "stream",
     "text": [
      "c:\\Users\\rosa-\\anaconda3\\envs\\xaifo\\lib\\site-packages\\deepsnap\\graph.py:2126: UserWarning: __floordiv__ is deprecated, and its behavior will change in a future version of pytorch. It currently rounds toward 0 (like the 'trunc' function NOT 'floor'). This results in incorrect rounding for negative values. To keep the current behavior, use torch.div(a, b, rounding_mode='trunc'), or for actual floor division, use torch.div(a, b, rounding_mode='floor').\n",
      "  row = perm // num_nodes\n"
     ]
    },
    {
     "name": "stdout",
     "output_type": "stream",
     "text": [
      "Epoch: 141, Train: 0.9913, Val: 0.9562, Test: 0.9581, Loss: 0.40468\n"
     ]
    },
    {
     "name": "stderr",
     "output_type": "stream",
     "text": [
      "c:\\Users\\rosa-\\anaconda3\\envs\\xaifo\\lib\\site-packages\\deepsnap\\graph.py:2126: UserWarning: __floordiv__ is deprecated, and its behavior will change in a future version of pytorch. It currently rounds toward 0 (like the 'trunc' function NOT 'floor'). This results in incorrect rounding for negative values. To keep the current behavior, use torch.div(a, b, rounding_mode='trunc'), or for actual floor division, use torch.div(a, b, rounding_mode='floor').\n",
      "  row = perm // num_nodes\n"
     ]
    },
    {
     "name": "stdout",
     "output_type": "stream",
     "text": [
      "Epoch: 142, Train: 0.9912, Val: 0.9562, Test: 0.9581, Loss: 0.40430\n"
     ]
    },
    {
     "name": "stderr",
     "output_type": "stream",
     "text": [
      "c:\\Users\\rosa-\\anaconda3\\envs\\xaifo\\lib\\site-packages\\deepsnap\\graph.py:2126: UserWarning: __floordiv__ is deprecated, and its behavior will change in a future version of pytorch. It currently rounds toward 0 (like the 'trunc' function NOT 'floor'). This results in incorrect rounding for negative values. To keep the current behavior, use torch.div(a, b, rounding_mode='trunc'), or for actual floor division, use torch.div(a, b, rounding_mode='floor').\n",
      "  row = perm // num_nodes\n"
     ]
    },
    {
     "name": "stdout",
     "output_type": "stream",
     "text": [
      "Epoch: 143, Train: 0.9911, Val: 0.9562, Test: 0.9581, Loss: 0.40533\n"
     ]
    },
    {
     "name": "stderr",
     "output_type": "stream",
     "text": [
      "c:\\Users\\rosa-\\anaconda3\\envs\\xaifo\\lib\\site-packages\\deepsnap\\graph.py:2126: UserWarning: __floordiv__ is deprecated, and its behavior will change in a future version of pytorch. It currently rounds toward 0 (like the 'trunc' function NOT 'floor'). This results in incorrect rounding for negative values. To keep the current behavior, use torch.div(a, b, rounding_mode='trunc'), or for actual floor division, use torch.div(a, b, rounding_mode='floor').\n",
      "  row = perm // num_nodes\n"
     ]
    },
    {
     "name": "stdout",
     "output_type": "stream",
     "text": [
      "Epoch: 144, Train: 0.9911, Val: 0.9563, Test: 0.9582, Loss: 0.40493\n"
     ]
    },
    {
     "name": "stderr",
     "output_type": "stream",
     "text": [
      "c:\\Users\\rosa-\\anaconda3\\envs\\xaifo\\lib\\site-packages\\deepsnap\\graph.py:2126: UserWarning: __floordiv__ is deprecated, and its behavior will change in a future version of pytorch. It currently rounds toward 0 (like the 'trunc' function NOT 'floor'). This results in incorrect rounding for negative values. To keep the current behavior, use torch.div(a, b, rounding_mode='trunc'), or for actual floor division, use torch.div(a, b, rounding_mode='floor').\n",
      "  row = perm // num_nodes\n"
     ]
    },
    {
     "name": "stdout",
     "output_type": "stream",
     "text": [
      "Epoch: 145, Train: 0.9913, Val: 0.9562, Test: 0.9582, Loss: 0.40461\n"
     ]
    },
    {
     "name": "stderr",
     "output_type": "stream",
     "text": [
      "c:\\Users\\rosa-\\anaconda3\\envs\\xaifo\\lib\\site-packages\\deepsnap\\graph.py:2126: UserWarning: __floordiv__ is deprecated, and its behavior will change in a future version of pytorch. It currently rounds toward 0 (like the 'trunc' function NOT 'floor'). This results in incorrect rounding for negative values. To keep the current behavior, use torch.div(a, b, rounding_mode='trunc'), or for actual floor division, use torch.div(a, b, rounding_mode='floor').\n",
      "  row = perm // num_nodes\n"
     ]
    },
    {
     "name": "stdout",
     "output_type": "stream",
     "text": [
      "Epoch: 146, Train: 0.9912, Val: 0.9563, Test: 0.9582, Loss: 0.40343\n"
     ]
    },
    {
     "name": "stderr",
     "output_type": "stream",
     "text": [
      "c:\\Users\\rosa-\\anaconda3\\envs\\xaifo\\lib\\site-packages\\deepsnap\\graph.py:2126: UserWarning: __floordiv__ is deprecated, and its behavior will change in a future version of pytorch. It currently rounds toward 0 (like the 'trunc' function NOT 'floor'). This results in incorrect rounding for negative values. To keep the current behavior, use torch.div(a, b, rounding_mode='trunc'), or for actual floor division, use torch.div(a, b, rounding_mode='floor').\n",
      "  row = perm // num_nodes\n"
     ]
    },
    {
     "name": "stdout",
     "output_type": "stream",
     "text": [
      "Epoch: 147, Train: 0.9913, Val: 0.9562, Test: 0.9582, Loss: 0.40430\n"
     ]
    },
    {
     "name": "stderr",
     "output_type": "stream",
     "text": [
      "c:\\Users\\rosa-\\anaconda3\\envs\\xaifo\\lib\\site-packages\\deepsnap\\graph.py:2126: UserWarning: __floordiv__ is deprecated, and its behavior will change in a future version of pytorch. It currently rounds toward 0 (like the 'trunc' function NOT 'floor'). This results in incorrect rounding for negative values. To keep the current behavior, use torch.div(a, b, rounding_mode='trunc'), or for actual floor division, use torch.div(a, b, rounding_mode='floor').\n",
      "  row = perm // num_nodes\n"
     ]
    },
    {
     "name": "stdout",
     "output_type": "stream",
     "text": [
      "Epoch: 148, Train: 0.9916, Val: 0.9564, Test: 0.9583, Loss: 0.40266\n"
     ]
    },
    {
     "name": "stderr",
     "output_type": "stream",
     "text": [
      "c:\\Users\\rosa-\\anaconda3\\envs\\xaifo\\lib\\site-packages\\deepsnap\\graph.py:2126: UserWarning: __floordiv__ is deprecated, and its behavior will change in a future version of pytorch. It currently rounds toward 0 (like the 'trunc' function NOT 'floor'). This results in incorrect rounding for negative values. To keep the current behavior, use torch.div(a, b, rounding_mode='trunc'), or for actual floor division, use torch.div(a, b, rounding_mode='floor').\n",
      "  row = perm // num_nodes\n"
     ]
    },
    {
     "name": "stdout",
     "output_type": "stream",
     "text": [
      "Epoch: 149, Train: 0.9915, Val: 0.9565, Test: 0.9584, Loss: 0.40388\n"
     ]
    },
    {
     "name": "stderr",
     "output_type": "stream",
     "text": [
      "c:\\Users\\rosa-\\anaconda3\\envs\\xaifo\\lib\\site-packages\\deepsnap\\graph.py:2126: UserWarning: __floordiv__ is deprecated, and its behavior will change in a future version of pytorch. It currently rounds toward 0 (like the 'trunc' function NOT 'floor'). This results in incorrect rounding for negative values. To keep the current behavior, use torch.div(a, b, rounding_mode='trunc'), or for actual floor division, use torch.div(a, b, rounding_mode='floor').\n",
      "  row = perm // num_nodes\n"
     ]
    },
    {
     "name": "stdout",
     "output_type": "stream",
     "text": [
      "Train: 0.9904, Val: 0.9566, Test: 0.9583\n"
     ]
    }
   ],
   "source": [
    "best_model, best_x, performance = train(model, dataloaders, optimizer, args)\n",
    "\n",
    "best_train_roc = test(best_model, dataloaders['train'], args)\n",
    "best_val_roc = test(best_model, dataloaders['val'], args)\n",
    "best_test_roc = test(best_model, dataloaders['test'], args)\n",
    "\n",
    "print('Train: {:.4f}, Val: {:.4f}, Test: {:.4f}'.format(best_train_roc, best_val_roc, best_test_roc))"
   ]
  },
  {
   "attachments": {},
   "cell_type": "markdown",
   "metadata": {},
   "source": [
    "Save the model and parameters"
   ]
  },
  {
   "cell_type": "code",
   "execution_count": 25,
   "metadata": {},
   "outputs": [],
   "source": [
    "torch.save(best_model.state_dict(), f'{run_dir}/best_model_{dataset_nr}_{embedding_method}.pth')\n",
    "with open(f'{run_dir}/best_model_{dataset_nr}_{embedding_method}_args.pkl', 'wb') as f:\n",
    "    pickle.dump(args, f)"
   ]
  },
  {
   "attachments": {},
   "cell_type": "markdown",
   "metadata": {},
   "source": [
    "### Visualize Trained GNN Model Accuracy"
   ]
  },
  {
   "attachments": {},
   "cell_type": "markdown",
   "metadata": {},
   "source": [
    "Plot AUC and loss throughout epochs"
   ]
  },
  {
   "cell_type": "code",
   "execution_count": 26,
   "metadata": {},
   "outputs": [
    {
     "data": {
      "image/png": "[encoded data removed]",
      "text/plain": [
       "<Figure size 1000x700 with 1 Axes>"
      ]
     },
     "metadata": {},
     "output_type": "display_data"
    }
   ],
   "source": [
    "plt.figure(figsize= (10,7))\n",
    "plt.plot(np.log10(performance[0]), label = 'Loss')\n",
    "plt.plot(performance[1], label = 'AUC Train')\n",
    "plt.plot(performance[2], label = 'AUC Validation')\n",
    "plt.plot(performance[3], label = 'AUC Test')\n",
    "plt.legend()\n",
    "plt.ylabel('AUC/Loss')\n",
    "plt.xlabel('Epochs')\n",
    "plt.title(f'Training curve of GNN on dataset {dataset_nr} and method {embedding_method}')\n",
    "plt.show()"
   ]
  },
  {
   "cell_type": "code",
   "execution_count": 27,
   "metadata": {},
   "outputs": [],
   "source": [
    "performance_scores = {}\n",
    "sets = ['Loss', 'AUC Train', 'AUC Validation', 'AUC Test']\n",
    "for set_name, score_list in zip(sets, performance):\n",
    "    performance_scores[set_name] = score_list"
   ]
  },
  {
   "attachments": {},
   "cell_type": "markdown",
   "metadata": {},
   "source": [
    "Plot ROC curve using test set\n",
    "- High TPR and lower FPR indicates that the proportion of correctly classified samples (true positives) is greater than the proportion of incorrectly classified samples (false positives)"
   ]
  },
  {
   "cell_type": "code",
   "execution_count": 28,
   "metadata": {},
   "outputs": [
    {
     "name": "stdout",
     "output_type": "stream",
     "text": [
      "ROC AUC score: 0.9583133505415291\n"
     ]
    },
    {
     "data": {
      "image/png": "[encoded data removed]",
      "text/plain": [
       "<Figure size 700x700 with 1 Axes>"
      ]
     },
     "metadata": {},
     "output_type": "display_data"
    }
   ],
   "source": [
    "for batch in dataloaders['test']:\n",
    "    feat, edge_index, edge_label_index = batch.node_feature, batch.edge_index, batch.edge_label_index\n",
    "    batch.to(args[\"device\"])\n",
    "    pred, x = best_model(feat, edge_index, edge_label_index, training = False)\n",
    "    pred = torch.sigmoid(pred)\n",
    "    score = roc_auc_score(batch.edge_label.flatten().cpu().numpy(), pred.flatten().data.cpu().numpy())\n",
    "    \n",
    "    performance_scores['ROC AUC Score'] = score\n",
    "    print(f'ROC AUC score: {score}')\n",
    "    \n",
    "fpr, tpr, thresholds = roc_curve(batch.edge_label.flatten().cpu().numpy(), pred.flatten().data.cpu().numpy())\n",
    "performance_scores['ROC FPR'] = fpr\n",
    "performance_scores['ROC TPR'] = tpr\n",
    "performance_scores['ROC Thresholds'] = thresholds\n",
    "\n",
    "plt.figure(figsize = (7, 7))\n",
    "plt.plot(fpr, tpr, marker='.')\n",
    "plt.xlabel('False Positive Rate')   # 1 - specificity\n",
    "plt.ylabel('True Positive Rate')    # sensitivity\n",
    "plt.title(f'ROC curve on test set from dataset {dataset_nr} and method {embedding_method}')\n",
    "plt.show()"
   ]
  },
  {
   "attachments": {},
   "cell_type": "markdown",
   "metadata": {},
   "source": [
    "Calculate F1-score using test set\n",
    "\n",
    "Elements of the F1-score:\n",
    "- Precision represents the proportion of correctly classifying samples as positive (high precision: classifying a sample as positive has a high probability to be correct)\n",
    "- Recall represents the proportion of finding all positives (high recall: all positive samples have been classified as being positive)\n",
    "\n",
    "Maximizing both elements in order to yield a model that identifies all positive samples and only identifies these samples as positives.\n",
    "\n",
    "For the F1-score, the average of precision and recall is calculated, using the harmonic mean method (equal importance):\n",
    "- High F1-score indicates that precision and recall are both high\n",
    "- Medium F1-score indicates that one of the elements is high and the other low\n",
    "- Low F1-score indicates that precision and recall are both low"
   ]
  },
  {
   "cell_type": "code",
   "execution_count": 29,
   "metadata": {},
   "outputs": [
    {
     "name": "stdout",
     "output_type": "stream",
     "text": [
      "F1-Score in the test set of dataset 1 and method e2v: 0.8848327715841329\n",
      "              precision    recall  f1-score   support\n",
      "\n",
      "           0       0.84      0.97      0.90     10406\n",
      "           1       0.96      0.82      0.88     10406\n",
      "\n",
      "    accuracy                           0.89     20812\n",
      "   macro avg       0.90      0.89      0.89     20812\n",
      "weighted avg       0.90      0.89      0.89     20812\n",
      "\n"
     ]
    }
   ],
   "source": [
    "def test_f1(model, dataloader, args, threshold):\n",
    "    model.eval()\n",
    "    score = 0\n",
    "    num_batches = 0\n",
    "    for batch in dataloader:\n",
    "        feat, edge_index, edge_label_index = batch.node_feature, batch.edge_index, batch.edge_label_index\n",
    "        batch.to(args[\"device\"])\n",
    "        pred, x = model(feat, edge_index, edge_label_index, training = False)\n",
    "        pred = torch.sigmoid(pred) > threshold\n",
    "        score += f1_score(batch.edge_label.flatten().cpu().numpy(), pred.flatten().data.cpu().numpy())\n",
    "        num_batches += 1\n",
    "    score /= num_batches \n",
    "    return batch.edge_label.flatten().cpu().numpy(), pred.flatten().data.cpu().numpy(), score\n",
    "\n",
    "true_label, pred_label, best_test_f1 = test_f1(best_model, dataloaders['test'], args, 0.8)\n",
    "performance_scores['True Labels'] = true_label\n",
    "performance_scores['Predicted Labels'] = pred_label\n",
    "performance_scores['F1 Score'] = best_test_f1\n",
    "\n",
    "print(f'F1-Score in the test set of dataset {dataset_nr} and method {embedding_method}:', best_test_f1)\n",
    "print(classification_report(true_label, pred_label))"
   ]
  },
  {
   "cell_type": "code",
   "execution_count": 30,
   "metadata": {},
   "outputs": [
    {
     "name": "stdout",
     "output_type": "stream",
     "text": [
      "[[10059   347]\n",
      " [ 1874  8532]]\n"
     ]
    }
   ],
   "source": [
    "def test_cm(model, dataloader, args, threshold):\n",
    "    model.eval()\n",
    "    for batch in dataloader:\n",
    "        feat, edge_index, edge_label_index = batch.node_feature, batch.edge_index, batch.edge_label_index\n",
    "        batch.to(args[\"device\"])\n",
    "        pred, x = model(feat, edge_index, edge_label_index, training = False)\n",
    "        pred = torch.sigmoid(pred) > threshold\n",
    "        score = confusion_matrix(batch.edge_label.flatten().cpu().numpy(), pred.flatten().data.cpu().numpy())\n",
    "    return score\n",
    "\n",
    "table = test_cm(best_model, dataloaders['test'], args, 0.8)\n",
    "print(table)"
   ]
  },
  {
   "cell_type": "code",
   "execution_count": 31,
   "metadata": {},
   "outputs": [
    {
     "data": {
      "text/plain": [
       "{'Loss': [array(2.6919448, dtype=float32),\n",
       "  array(2.5058894, dtype=float32),\n",
       "  array(2.2813997, dtype=float32),\n",
       "  array(2.1797976, dtype=float32),\n",
       "  array(1.9729174, dtype=float32),\n",
       "  array(1.8685231, dtype=float32),\n",
       "  array(1.7415185, dtype=float32),\n",
       "  array(1.5737432, dtype=float32),\n",
       "  array(1.4382534, dtype=float32),\n",
       "  array(1.3557479, dtype=float32),\n",
       "  array(1.2519422, dtype=float32),\n",
       "  array(1.1631634, dtype=float32),\n",
       "  array(1.0835247, dtype=float32),\n",
       "  array(1.0002893, dtype=float32),\n",
       "  array(0.9359076, dtype=float32),\n",
       "  array(0.86890155, dtype=float32),\n",
       "  array(0.794513, dtype=float32),\n",
       "  array(0.7592449, dtype=float32),\n",
       "  array(0.7021782, dtype=float32),\n",
       "  array(0.66535604, dtype=float32),\n",
       "  array(0.6381987, dtype=float32),\n",
       "  array(0.60688156, dtype=float32),\n",
       "  array(0.5843501, dtype=float32),\n",
       "  array(0.564875, dtype=float32),\n",
       "  array(0.5418379, dtype=float32),\n",
       "  array(0.52678096, dtype=float32),\n",
       "  array(0.51164985, dtype=float32),\n",
       "  array(0.5037081, dtype=float32),\n",
       "  array(0.49270645, dtype=float32),\n",
       "  array(0.48239592, dtype=float32),\n",
       "  array(0.48040456, dtype=float32),\n",
       "  array(0.47576335, dtype=float32),\n",
       "  array(0.46803156, dtype=float32),\n",
       "  array(0.46112883, dtype=float32),\n",
       "  array(0.45948768, dtype=float32),\n",
       "  array(0.45514548, dtype=float32),\n",
       "  array(0.4521929, dtype=float32),\n",
       "  array(0.44786534, dtype=float32),\n",
       "  array(0.44737756, dtype=float32),\n",
       "  array(0.4455083, dtype=float32),\n",
       "  array(0.44562092, dtype=float32),\n",
       "  array(0.44332808, dtype=float32),\n",
       "  array(0.4406841, dtype=float32),\n",
       "  array(0.4396712, dtype=float32),\n",
       "  array(0.4392687, dtype=float32),\n",
       "  array(0.43649188, dtype=float32),\n",
       "  array(0.43500555, dtype=float32),\n",
       "  array(0.43366235, dtype=float32),\n",
       "  array(0.43261993, dtype=float32),\n",
       "  array(0.43024173, dtype=float32),\n",
       "  array(0.4305662, dtype=float32),\n",
       "  array(0.43055493, dtype=float32),\n",
       "  array(0.42859265, dtype=float32),\n",
       "  array(0.42702433, dtype=float32),\n",
       "  array(0.42585778, dtype=float32),\n",
       "  array(0.42599145, dtype=float32),\n",
       "  array(0.4240668, dtype=float32),\n",
       "  array(0.42467543, dtype=float32),\n",
       "  array(0.42237103, dtype=float32),\n",
       "  array(0.42435753, dtype=float32),\n",
       "  array(0.4230623, dtype=float32),\n",
       "  array(0.42081648, dtype=float32),\n",
       "  array(0.4210916, dtype=float32),\n",
       "  array(0.42038393, dtype=float32),\n",
       "  array(0.4213401, dtype=float32),\n",
       "  array(0.41989723, dtype=float32),\n",
       "  array(0.4193799, dtype=float32),\n",
       "  array(0.41823128, dtype=float32),\n",
       "  array(0.4187914, dtype=float32),\n",
       "  array(0.41842878, dtype=float32),\n",
       "  array(0.41836038, dtype=float32),\n",
       "  array(0.4179685, dtype=float32),\n",
       "  array(0.41792777, dtype=float32),\n",
       "  array(0.41557726, dtype=float32),\n",
       "  array(0.41593504, dtype=float32),\n",
       "  array(0.41451836, dtype=float32),\n",
       "  array(0.413627, dtype=float32),\n",
       "  array(0.4153245, dtype=float32),\n",
       "  array(0.4146727, dtype=float32),\n",
       "  array(0.414282, dtype=float32),\n",
       "  array(0.41410726, dtype=float32),\n",
       "  array(0.4141236, dtype=float32),\n",
       "  array(0.41329542, dtype=float32),\n",
       "  array(0.41345042, dtype=float32),\n",
       "  array(0.41415805, dtype=float32),\n",
       "  array(0.4133888, dtype=float32),\n",
       "  array(0.41280398, dtype=float32),\n",
       "  array(0.41026807, dtype=float32),\n",
       "  array(0.41237813, dtype=float32),\n",
       "  array(0.41239315, dtype=float32),\n",
       "  array(0.41242862, dtype=float32),\n",
       "  array(0.41269866, dtype=float32),\n",
       "  array(0.4110965, dtype=float32),\n",
       "  array(0.4113018, dtype=float32),\n",
       "  array(0.41196358, dtype=float32),\n",
       "  array(0.4104819, dtype=float32),\n",
       "  array(0.41071326, dtype=float32),\n",
       "  array(0.41097033, dtype=float32),\n",
       "  array(0.40883112, dtype=float32),\n",
       "  array(0.4112481, dtype=float32),\n",
       "  array(0.4102407, dtype=float32),\n",
       "  array(0.41092062, dtype=float32),\n",
       "  array(0.4097325, dtype=float32),\n",
       "  array(0.40855786, dtype=float32),\n",
       "  array(0.4107363, dtype=float32),\n",
       "  array(0.4095512, dtype=float32),\n",
       "  array(0.40930074, dtype=float32),\n",
       "  array(0.40840632, dtype=float32),\n",
       "  array(0.4082848, dtype=float32),\n",
       "  array(0.40865564, dtype=float32),\n",
       "  array(0.40742266, dtype=float32),\n",
       "  array(0.40901953, dtype=float32),\n",
       "  array(0.40788424, dtype=float32),\n",
       "  array(0.4083191, dtype=float32),\n",
       "  array(0.40763712, dtype=float32),\n",
       "  array(0.40628135, dtype=float32),\n",
       "  array(0.40760297, dtype=float32),\n",
       "  array(0.4063137, dtype=float32),\n",
       "  array(0.40697747, dtype=float32),\n",
       "  array(0.4076591, dtype=float32),\n",
       "  array(0.4059708, dtype=float32),\n",
       "  array(0.40766913, dtype=float32),\n",
       "  array(0.4066512, dtype=float32),\n",
       "  array(0.40679887, dtype=float32),\n",
       "  array(0.40662816, dtype=float32),\n",
       "  array(0.4064593, dtype=float32),\n",
       "  array(0.40617558, dtype=float32),\n",
       "  array(0.4068482, dtype=float32),\n",
       "  array(0.40592808, dtype=float32),\n",
       "  array(0.40476057, dtype=float32),\n",
       "  array(0.40522462, dtype=float32),\n",
       "  array(0.405943, dtype=float32),\n",
       "  array(0.40544325, dtype=float32),\n",
       "  array(0.40545648, dtype=float32),\n",
       "  array(0.40613586, dtype=float32),\n",
       "  array(0.40464917, dtype=float32),\n",
       "  array(0.40424314, dtype=float32),\n",
       "  array(0.40439782, dtype=float32),\n",
       "  array(0.4044056, dtype=float32),\n",
       "  array(0.40424412, dtype=float32),\n",
       "  array(0.40467638, dtype=float32),\n",
       "  array(0.40429613, dtype=float32),\n",
       "  array(0.40533292, dtype=float32),\n",
       "  array(0.4049331, dtype=float32),\n",
       "  array(0.40460965, dtype=float32),\n",
       "  array(0.40342948, dtype=float32),\n",
       "  array(0.4043004, dtype=float32),\n",
       "  array(0.40265793, dtype=float32),\n",
       "  array(0.40387574, dtype=float32)],\n",
       " 'AUC Train': [0.9235872752578738,\n",
       "  0.9024439932756727,\n",
       "  0.8920135287114743,\n",
       "  0.901610741470048,\n",
       "  0.9118235843366117,\n",
       "  0.9226981493975364,\n",
       "  0.9271011895028802,\n",
       "  0.9245998118163765,\n",
       "  0.9178615447439276,\n",
       "  0.9196910593189235,\n",
       "  0.9253631912855398,\n",
       "  0.9321606017767279,\n",
       "  0.9381194571993661,\n",
       "  0.9426106540920657,\n",
       "  0.9444028948573666,\n",
       "  0.9422860577123597,\n",
       "  0.9416979868478514,\n",
       "  0.941949854599639,\n",
       "  0.940308750765839,\n",
       "  0.9408416833701695,\n",
       "  0.9412747945777844,\n",
       "  0.9431141110386674,\n",
       "  0.9454479823137232,\n",
       "  0.949431513595906,\n",
       "  0.9533648489114104,\n",
       "  0.9552838600895068,\n",
       "  0.9598743443577806,\n",
       "  0.9619435237241614,\n",
       "  0.9652326111716942,\n",
       "  0.9681378758310102,\n",
       "  0.9706426181393655,\n",
       "  0.9730258017926058,\n",
       "  0.9753297221311168,\n",
       "  0.9769797331488967,\n",
       "  0.9794022447169363,\n",
       "  0.9796806188245764,\n",
       "  0.9806482593597348,\n",
       "  0.9813151224457277,\n",
       "  0.9822692896274866,\n",
       "  0.9822338649742416,\n",
       "  0.982549355716165,\n",
       "  0.9822422023432305,\n",
       "  0.9826511333622191,\n",
       "  0.9822326738184362,\n",
       "  0.9824193729497084,\n",
       "  0.9821916061493559,\n",
       "  0.9820940937445917,\n",
       "  0.9817153061984192,\n",
       "  0.9817423112145534,\n",
       "  0.982095457807783,\n",
       "  0.9813741332251616,\n",
       "  0.9814034242847717,\n",
       "  0.981440211557908,\n",
       "  0.9814384800304391,\n",
       "  0.9813457420633399,\n",
       "  0.9816855612208386,\n",
       "  0.9815158312608219,\n",
       "  0.9813089579654646,\n",
       "  0.9819384335096925,\n",
       "  0.9816296516609365,\n",
       "  0.981616514452196,\n",
       "  0.9819504543255873,\n",
       "  0.9822376946274762,\n",
       "  0.9823942566364543,\n",
       "  0.9826408683212396,\n",
       "  0.9830263013996928,\n",
       "  0.9836340728814308,\n",
       "  0.9839276860761581,\n",
       "  0.9840306719089623,\n",
       "  0.9842433954780894,\n",
       "  0.9844807996280852,\n",
       "  0.9848145322435415,\n",
       "  0.9850488498956697,\n",
       "  0.9854630838889233,\n",
       "  0.9855361102697102,\n",
       "  0.9856893386877952,\n",
       "  0.9858858971483098,\n",
       "  0.9863279507564338,\n",
       "  0.9860722586916227,\n",
       "  0.9860085043611524,\n",
       "  0.9865472401876605,\n",
       "  0.9867827029543119,\n",
       "  0.9868100878471071,\n",
       "  0.9869493633030755,\n",
       "  0.987136066186929,\n",
       "  0.9874533229512004,\n",
       "  0.9871089374799517,\n",
       "  0.9874467947592407,\n",
       "  0.9877459200624584,\n",
       "  0.9877998443626848,\n",
       "  0.9878285156691107,\n",
       "  0.9877745404203809,\n",
       "  0.9877071895296875,\n",
       "  0.9881398149223937,\n",
       "  0.9882759143958707,\n",
       "  0.9884187363295388,\n",
       "  0.9882824713095077,\n",
       "  0.9884535737038582,\n",
       "  0.9886728842072706,\n",
       "  0.9883937152741099,\n",
       "  0.9886373088734653,\n",
       "  0.9886944257541375,\n",
       "  0.988718362024999,\n",
       "  0.9890427328168551,\n",
       "  0.9888168599152642,\n",
       "  0.9892550017463617,\n",
       "  0.9891932651498256,\n",
       "  0.989297790984138,\n",
       "  0.9892727979287365,\n",
       "  0.9891814984991284,\n",
       "  0.9895078108186588,\n",
       "  0.989674269682689,\n",
       "  0.9897704248077734,\n",
       "  0.9897791966101775,\n",
       "  0.989989811661776,\n",
       "  0.9899617723765876,\n",
       "  0.9899678209598299,\n",
       "  0.9901184274784405,\n",
       "  0.9900129432926743,\n",
       "  0.990073878713168,\n",
       "  0.9900172729051613,\n",
       "  0.9901037876496718,\n",
       "  0.9901486106420168,\n",
       "  0.9901422501615619,\n",
       "  0.9902128815296942,\n",
       "  0.9904036402319522,\n",
       "  0.9905894775685663,\n",
       "  0.9906432192912942,\n",
       "  0.9907164070330639,\n",
       "  0.9904627140836127,\n",
       "  0.99059583299747,\n",
       "  0.9903511928610071,\n",
       "  0.9907847512030804,\n",
       "  0.9906792281925341,\n",
       "  0.9907539951935822,\n",
       "  0.9907057993525737,\n",
       "  0.9910138276542001,\n",
       "  0.9910422450840888,\n",
       "  0.9909544554723505,\n",
       "  0.9912049887486045,\n",
       "  0.9912819869477137,\n",
       "  0.991232974776009,\n",
       "  0.9911486772295459,\n",
       "  0.9911104532952092,\n",
       "  0.991300719976367,\n",
       "  0.9911823248913603,\n",
       "  0.9912579953984478,\n",
       "  0.9915617691392069,\n",
       "  0.9914622320726664],\n",
       " 'AUC Validation': [0.9033148737931067,\n",
       "  0.8877422766152847,\n",
       "  0.8807212269081142,\n",
       "  0.8820271101331654,\n",
       "  0.8869870791717792,\n",
       "  0.894171594088631,\n",
       "  0.8974998580973426,\n",
       "  0.8981569616335124,\n",
       "  0.8970400047980834,\n",
       "  0.9003073134855859,\n",
       "  0.9066585290666159,\n",
       "  0.9133457102752749,\n",
       "  0.9182508398493998,\n",
       "  0.9210027813659932,\n",
       "  0.9213689659775076,\n",
       "  0.9201361404487465,\n",
       "  0.9181618827733279,\n",
       "  0.9164329892046076,\n",
       "  0.9152486470838043,\n",
       "  0.9148328242575496,\n",
       "  0.9152807229969959,\n",
       "  0.9167073990115001,\n",
       "  0.9187007156180577,\n",
       "  0.9209529953359848,\n",
       "  0.9233893882088647,\n",
       "  0.9258665688573038,\n",
       "  0.9283590761013605,\n",
       "  0.9307029643317323,\n",
       "  0.9330965554460247,\n",
       "  0.9354871994934075,\n",
       "  0.9377133990549579,\n",
       "  0.9398693401718589,\n",
       "  0.941685121402897,\n",
       "  0.9432879100709646,\n",
       "  0.944569126623141,\n",
       "  0.9454867176156332,\n",
       "  0.9461361717116756,\n",
       "  0.9466084876857319,\n",
       "  0.9469167471890341,\n",
       "  0.9469578675489465,\n",
       "  0.946827512959334,\n",
       "  0.9466455616026781,\n",
       "  0.9462098945766725,\n",
       "  0.9457963906024371,\n",
       "  0.9453344309356071,\n",
       "  0.9448812108465071,\n",
       "  0.944411943562357,\n",
       "  0.9438762240767125,\n",
       "  0.9434132574183679,\n",
       "  0.9429966955157725,\n",
       "  0.9426162374924263,\n",
       "  0.9422585337819231,\n",
       "  0.9420264915262679,\n",
       "  0.941800629796513,\n",
       "  0.9417267960700649,\n",
       "  0.9417191189145748,\n",
       "  0.9416886135386073,\n",
       "  0.9418198734967371,\n",
       "  0.9419782667950295,\n",
       "  0.9421392099066975,\n",
       "  0.9423946069747224,\n",
       "  0.9427166040595099,\n",
       "  0.943132269832042,\n",
       "  0.9435430669391788,\n",
       "  0.9439790757879919,\n",
       "  0.9444877727949251,\n",
       "  0.9449452333345306,\n",
       "  0.945458096884335,\n",
       "  0.9459284173522708,\n",
       "  0.9462972718770661,\n",
       "  0.9467632133176827,\n",
       "  0.9471804588658932,\n",
       "  0.9475400010287942,\n",
       "  0.9479050493104344,\n",
       "  0.9481900279090008,\n",
       "  0.9484654631843163,\n",
       "  0.9487813721277462,\n",
       "  0.9490475412334387,\n",
       "  0.9493320486708379,\n",
       "  0.9496550989394107,\n",
       "  0.9499264877717604,\n",
       "  0.950139637388453,\n",
       "  0.9503865905092842,\n",
       "  0.9506381259034284,\n",
       "  0.9509208410807012,\n",
       "  0.951164736273172,\n",
       "  0.9514620020159048,\n",
       "  0.9517883319357399,\n",
       "  0.9519562777957373,\n",
       "  0.9521873222983323,\n",
       "  0.9523611622921477,\n",
       "  0.9525664592227193,\n",
       "  0.9528544587958289,\n",
       "  0.9530677469893354,\n",
       "  0.9532430651358326,\n",
       "  0.9533503051128858,\n",
       "  0.9534659151294987,\n",
       "  0.9536576869630334,\n",
       "  0.9536993431532929,\n",
       "  0.9537562889853531,\n",
       "  0.9538111192113877,\n",
       "  0.9539741779290813,\n",
       "  0.9541204041831131,\n",
       "  0.9542122067030974,\n",
       "  0.9543337939996166,\n",
       "  0.9544283957712418,\n",
       "  0.9545113108982277,\n",
       "  0.9546126475030084,\n",
       "  0.9547071476516368,\n",
       "  0.9547137993387041,\n",
       "  0.9547826535383058,\n",
       "  0.9549122136208519,\n",
       "  0.9549776588308313,\n",
       "  0.9550231582180633,\n",
       "  0.9550639921858937,\n",
       "  0.9550968626061517,\n",
       "  0.9552328156990457,\n",
       "  0.9553058272030646,\n",
       "  0.9554189705523901,\n",
       "  0.9555290190195385,\n",
       "  0.9556413309079804,\n",
       "  0.9558048515483872,\n",
       "  0.9559457749296731,\n",
       "  0.9561343779733964,\n",
       "  0.9562337929796912,\n",
       "  0.9563789198576658,\n",
       "  0.9564291585719331,\n",
       "  0.9565193813162388,\n",
       "  0.9565946008108259,\n",
       "  0.9565780547392457,\n",
       "  0.9565408884377566,\n",
       "  0.9565550232727749,\n",
       "  0.956504267205069,\n",
       "  0.9564444389752795,\n",
       "  0.9563703835259292,\n",
       "  0.9562986099747812,\n",
       "  0.9562590416751846,\n",
       "  0.9562809183348729,\n",
       "  0.9562791353132005,\n",
       "  0.956244435678999,\n",
       "  0.9561958691249528,\n",
       "  0.9562290259372929,\n",
       "  0.9561768933399024,\n",
       "  0.9562517987270444,\n",
       "  0.9562329060880822,\n",
       "  0.9562530274414611,\n",
       "  0.9562318159504797,\n",
       "  0.9563814973864042,\n",
       "  0.9564506564549967],\n",
       " 'AUC Test': [0.8980224156224422,\n",
       "  0.8847130820791934,\n",
       "  0.8789835540776919,\n",
       "  0.8824252271112089,\n",
       "  0.8883857754561313,\n",
       "  0.8963698665988652,\n",
       "  0.900232743576395,\n",
       "  0.9011627722278676,\n",
       "  0.900538631281669,\n",
       "  0.9045364024931433,\n",
       "  0.9114561802540846,\n",
       "  0.9184504467458399,\n",
       "  0.9234423922477936,\n",
       "  0.9263276808213478,\n",
       "  0.9266087728109964,\n",
       "  0.9250763791155394,\n",
       "  0.9224025421251043,\n",
       "  0.9196319879913749,\n",
       "  0.9172491889815486,\n",
       "  0.9156732434816636,\n",
       "  0.9149384222182321,\n",
       "  0.9153669586755434,\n",
       "  0.9164187772330374,\n",
       "  0.9178280696661903,\n",
       "  0.9196212016242054,\n",
       "  0.9215886516187733,\n",
       "  0.923760497730264,\n",
       "  0.9259636316944692,\n",
       "  0.928379316195298,\n",
       "  0.9309979007586991,\n",
       "  0.9334164019050646,\n",
       "  0.9358088144493288,\n",
       "  0.9378602835950178,\n",
       "  0.9397362156969051,\n",
       "  0.9412486250614076,\n",
       "  0.9423905670411691,\n",
       "  0.9432842563477678,\n",
       "  0.9440015959390657,\n",
       "  0.9445308851924566,\n",
       "  0.9448036195945294,\n",
       "  0.9449259543598514,\n",
       "  0.9449778637518553,\n",
       "  0.9447677142901153,\n",
       "  0.9445718512239331,\n",
       "  0.9443157765875916,\n",
       "  0.9440714764530834,\n",
       "  0.9437845018299699,\n",
       "  0.9434397721210013,\n",
       "  0.943155281686902,\n",
       "  0.9429206135566387,\n",
       "  0.9427168731178575,\n",
       "  0.9425281671018091,\n",
       "  0.9424402508214539,\n",
       "  0.9423759112494755,\n",
       "  0.9424215039675544,\n",
       "  0.9425202804943067,\n",
       "  0.9426006241538751,\n",
       "  0.942825410937502,\n",
       "  0.9430870449856893,\n",
       "  0.9433226458411961,\n",
       "  0.9436383317789759,\n",
       "  0.9440061579813446,\n",
       "  0.944460469054042,\n",
       "  0.9448957285210277,\n",
       "  0.9453735516577778,\n",
       "  0.9458736493815255,\n",
       "  0.9463512878202079,\n",
       "  0.9468821562420799,\n",
       "  0.9473421560152707,\n",
       "  0.9477034808456467,\n",
       "  0.9481512351369308,\n",
       "  0.9486014920870363,\n",
       "  0.9489703156589718,\n",
       "  0.949328306689221,\n",
       "  0.9496124461969911,\n",
       "  0.9498984788599578,\n",
       "  0.9502175170676714,\n",
       "  0.9504951182638353,\n",
       "  0.9507804213694334,\n",
       "  0.9510943065010506,\n",
       "  0.9513569286839019,\n",
       "  0.9515591453636223,\n",
       "  0.9518134561334148,\n",
       "  0.9520686903935469,\n",
       "  0.9523381925794301,\n",
       "  0.9525965574718144,\n",
       "  0.9529025098214121,\n",
       "  0.9532311800333706,\n",
       "  0.9534054426605034,\n",
       "  0.9536401662001871,\n",
       "  0.9538484225067303,\n",
       "  0.9540631155409424,\n",
       "  0.9543599715106923,\n",
       "  0.9545842965491493,\n",
       "  0.9547719497862102,\n",
       "  0.9549058097109737,\n",
       "  0.9550333714316195,\n",
       "  0.9552045865406307,\n",
       "  0.9552766095522367,\n",
       "  0.9553440612866607,\n",
       "  0.9554139602704851,\n",
       "  0.9555779352152318,\n",
       "  0.9557356027209571,\n",
       "  0.9558447685140327,\n",
       "  0.955972247120548,\n",
       "  0.9560753178773803,\n",
       "  0.9561679993678895,\n",
       "  0.9562892074749967,\n",
       "  0.9564105633405586,\n",
       "  0.9564477984710621,\n",
       "  0.9565224257254266,\n",
       "  0.9566665456278661,\n",
       "  0.9567421979565081,\n",
       "  0.9568086984958817,\n",
       "  0.9568449085521078,\n",
       "  0.9568756238408118,\n",
       "  0.9569923991942879,\n",
       "  0.9570572743906636,\n",
       "  0.9571693122386962,\n",
       "  0.9572696771688328,\n",
       "  0.957387523771103,\n",
       "  0.9575583417792681,\n",
       "  0.9576960157191354,\n",
       "  0.9578753667780409,\n",
       "  0.9579621102256645,\n",
       "  0.9580936614245785,\n",
       "  0.9581492463081351,\n",
       "  0.958229700786544,\n",
       "  0.9583133505415291,\n",
       "  0.9583028412214614,\n",
       "  0.9582659108427704,\n",
       "  0.9582703158916913,\n",
       "  0.9582253419121398,\n",
       "  0.9581823996113362,\n",
       "  0.9581331314017044,\n",
       "  0.9580720702204324,\n",
       "  0.9580680899770676,\n",
       "  0.9581147262392307,\n",
       "  0.9581335007978403,\n",
       "  0.9581152988032415,\n",
       "  0.9580715807705521,\n",
       "  0.9581151325749804,\n",
       "  0.9580829858762496,\n",
       "  0.9581616949579164,\n",
       "  0.958156495707303,\n",
       "  0.958184689867379,\n",
       "  0.9581737557417551,\n",
       "  0.9583163426502304,\n",
       "  0.9583759447167655],\n",
       " 'ROC AUC Score': 0.9583133505415291,\n",
       " 'ROC FPR': array([0.        , 0.        , 0.        , ..., 0.99865462, 0.99865462,\n",
       "        1.        ]),\n",
       " 'ROC TPR': array([0.00000000e+00, 1.92196810e-04, 2.19104363e-02, ...,\n",
       "        9.99807803e-01, 1.00000000e+00, 1.00000000e+00]),\n",
       " 'ROC Thresholds': array([1.9997716 , 0.99977165, 0.9984079 , ..., 0.1422274 , 0.14199097,\n",
       "        0.03368242], dtype=float32),\n",
       " 'True Labels': array([1, 1, 1, ..., 0, 0, 0], dtype=int64),\n",
       " 'Predicted Labels': array([ True,  True,  True, ..., False, False, False]),\n",
       " 'F1 Score': 0.8848327715841329}"
      ]
     },
     "execution_count": 31,
     "metadata": {},
     "output_type": "execute_result"
    }
   ],
   "source": [
    "performance_scores"
   ]
  },
  {
   "cell_type": "code",
   "execution_count": 35,
   "metadata": {},
   "outputs": [],
   "source": [
    "with open(f'{pred_output_dir}/performance_scores_{dataset_nr}_{embedding_method}.pkl', 'wb') as f:\n",
    "    pickle.dump(performance_scores, f)"
   ]
  },
  {
   "attachments": {},
   "cell_type": "markdown",
   "metadata": {},
   "source": [
    "# Hyperparameter Optimization of Node Embedding and GNN Training"
   ]
  },
  {
   "attachments": {},
   "cell_type": "markdown",
   "metadata": {},
   "source": [
    "The routine including node embedding and GNN training that needs to be optimized is contained in `hyperparam_opt.py`."
   ]
  },
  {
   "attachments": {},
   "cell_type": "markdown",
   "metadata": {},
   "source": [
    "# GNN Predictions"
   ]
  },
  {
   "attachments": {},
   "cell_type": "markdown",
   "metadata": {},
   "source": [
    "Load the Edge2Vec embedding"
   ]
  },
  {
   "cell_type": "code",
   "execution_count": 36,
   "metadata": {},
   "outputs": [
    {
     "data": {
      "text/html": [
       "<div>\n",
       "<style scoped>\n",
       "    .dataframe tbody tr th:only-of-type {\n",
       "        vertical-align: middle;\n",
       "    }\n",
       "\n",
       "    .dataframe tbody tr th {\n",
       "        vertical-align: top;\n",
       "    }\n",
       "\n",
       "    .dataframe thead th {\n",
       "        text-align: right;\n",
       "    }\n",
       "</style>\n",
       "<table border=\"1\" class=\"dataframe\">\n",
       "  <thead>\n",
       "    <tr style=\"text-align: right;\">\n",
       "      <th></th>\n",
       "      <th>Node</th>\n",
       "      <th>Embedding</th>\n",
       "    </tr>\n",
       "  </thead>\n",
       "  <tbody>\n",
       "    <tr>\n",
       "      <th>0</th>\n",
       "      <td>0</td>\n",
       "      <td>[-0.80172193, -0.31312022, 1.3363898, 0.047870...</td>\n",
       "    </tr>\n",
       "    <tr>\n",
       "      <th>1</th>\n",
       "      <td>1</td>\n",
       "      <td>[-0.43657017, -0.59252596, 0.21464153, 0.28127...</td>\n",
       "    </tr>\n",
       "    <tr>\n",
       "      <th>2</th>\n",
       "      <td>2</td>\n",
       "      <td>[-0.6035868, -0.81537753, -0.1698302, 0.029323...</td>\n",
       "    </tr>\n",
       "    <tr>\n",
       "      <th>3</th>\n",
       "      <td>3</td>\n",
       "      <td>[-0.25198308, -0.5973693, 0.116735026, 0.15848...</td>\n",
       "    </tr>\n",
       "    <tr>\n",
       "      <th>4</th>\n",
       "      <td>4</td>\n",
       "      <td>[-0.567523, -0.6277393, 0.22508189, 0.17768621...</td>\n",
       "    </tr>\n",
       "    <tr>\n",
       "      <th>...</th>\n",
       "      <td>...</td>\n",
       "      <td>...</td>\n",
       "    </tr>\n",
       "    <tr>\n",
       "      <th>10029</th>\n",
       "      <td>10029</td>\n",
       "      <td>[-0.3428445, -0.65736985, 0.1452774, 0.1707272...</td>\n",
       "    </tr>\n",
       "    <tr>\n",
       "      <th>10030</th>\n",
       "      <td>10030</td>\n",
       "      <td>[-0.28449383, -0.7016132, 0.23477365, 0.197892...</td>\n",
       "    </tr>\n",
       "    <tr>\n",
       "      <th>10031</th>\n",
       "      <td>10031</td>\n",
       "      <td>[-0.30933982, -0.7699769, 0.20634678, -0.03841...</td>\n",
       "    </tr>\n",
       "    <tr>\n",
       "      <th>10032</th>\n",
       "      <td>10032</td>\n",
       "      <td>[-0.6069677, -1.102868, 0.45715353, 0.82833016...</td>\n",
       "    </tr>\n",
       "    <tr>\n",
       "      <th>10033</th>\n",
       "      <td>10033</td>\n",
       "      <td>[-0.29029033, -0.40503615, 0.09990781, 0.03839...</td>\n",
       "    </tr>\n",
       "  </tbody>\n",
       "</table>\n",
       "<p>10034 rows × 2 columns</p>\n",
       "</div>"
      ],
      "text/plain": [
       "        Node                                          Embedding\n",
       "0          0  [-0.80172193, -0.31312022, 1.3363898, 0.047870...\n",
       "1          1  [-0.43657017, -0.59252596, 0.21464153, 0.28127...\n",
       "2          2  [-0.6035868, -0.81537753, -0.1698302, 0.029323...\n",
       "3          3  [-0.25198308, -0.5973693, 0.116735026, 0.15848...\n",
       "4          4  [-0.567523, -0.6277393, 0.22508189, 0.17768621...\n",
       "...      ...                                                ...\n",
       "10029  10029  [-0.3428445, -0.65736985, 0.1452774, 0.1707272...\n",
       "10030  10030  [-0.28449383, -0.7016132, 0.23477365, 0.197892...\n",
       "10031  10031  [-0.30933982, -0.7699769, 0.20634678, -0.03841...\n",
       "10032  10032  [-0.6069677, -1.102868, 0.45715353, 0.82833016...\n",
       "10033  10033  [-0.29029033, -0.40503615, 0.09990781, 0.03839...\n",
       "\n",
       "[10034 rows x 2 columns]"
      ]
     },
     "execution_count": 36,
     "metadata": {},
     "output_type": "execute_result"
    }
   ],
   "source": [
    "embedding"
   ]
  },
  {
   "attachments": {},
   "cell_type": "markdown",
   "metadata": {},
   "source": [
    "Initialize a graph with nodes and their embedding features."
   ]
  },
  {
   "cell_type": "code",
   "execution_count": 37,
   "metadata": {},
   "outputs": [
    {
     "name": "stdout",
     "output_type": "stream",
     "text": [
      "(0, {'node_feature': tensor([-0.8017, -0.3131,  1.3364,  0.0479,  0.1519,  0.0036,  0.0339, -0.2446,\n",
      "         1.2985, -0.1459, -0.3350, -1.2716, -1.1471,  0.2593, -0.3035, -1.1219,\n",
      "        -0.0516, -0.6955, -0.2582,  2.0766, -0.1314,  1.2659, -0.3483, -0.8218,\n",
      "         1.4621, -0.6987, -0.0468,  0.3544, -0.2787, -0.7689,  0.3949, -0.3567])})\n",
      "(0, 5765, {})\n",
      "Number of edges is 52024\n",
      "Number of nodes is 10034\n"
     ]
    }
   ],
   "source": [
    "for node in embedded_node_G.nodes(data=True):\n",
    "    print(node)\n",
    "    break\n",
    "for edge in embedded_node_G.edges(data=True):\n",
    "    print(edge)\n",
    "    break\n",
    "\n",
    "print(\"Number of edges is {}\".format(embedded_node_G.number_of_edges()))\n",
    "print(\"Number of nodes is {}\".format(embedded_node_G.number_of_nodes()))"
   ]
  },
  {
   "cell_type": "code",
   "execution_count": 38,
   "metadata": {},
   "outputs": [
    {
     "name": "stdout",
     "output_type": "stream",
     "text": [
      "torch.Size([2, 104048])\n"
     ]
    }
   ],
   "source": [
    "DeepG = Graph(embedded_node_G)\n",
    "print(DeepG.edge_index.shape)"
   ]
  },
  {
   "attachments": {},
   "cell_type": "markdown",
   "metadata": {},
   "source": [
    "Load arguments and parameters of trained GNN model."
   ]
  },
  {
   "cell_type": "code",
   "execution_count": 43,
   "metadata": {},
   "outputs": [
    {
     "data": {
      "text/plain": [
       "<All keys matched successfully>"
      ]
     },
     "execution_count": 43,
     "metadata": {},
     "output_type": "execute_result"
    }
   ],
   "source": [
    "with open(f'{run_dir}/best_model_{dataset_nr}_{embedding_method}_args.pkl', 'rb') as f:\n",
    "    loaded_args = pickle.load(f)\n",
    "    \n",
    "best_model = LinkPredModel(len(embedding['Embedding'][0]), loaded_args['hidden_dim'], loaded_args['output_dim'], loaded_args['layers'], loaded_args['aggr'], loaded_args['dropout'], loaded_args['device']).to(loaded_args['device'])\n",
    "best_model.load_state_dict(torch.load(f'{run_dir}/best_model_{dataset_nr}_{embedding_method}.pth'))"
   ]
  },
  {
   "attachments": {},
   "cell_type": "markdown",
   "metadata": {},
   "source": [
    "Get output of best model given the graph"
   ]
  },
  {
   "cell_type": "code",
   "execution_count": 44,
   "metadata": {},
   "outputs": [
    {
     "name": "stdout",
     "output_type": "stream",
     "text": [
      "torch.Size([10034, 64])\n"
     ]
    }
   ],
   "source": [
    "_, best_x = best_model(DeepG.node_feature, DeepG.edge_index, DeepG.edge_label_index, training = False)\n",
    "print(best_x.shape)"
   ]
  },
  {
   "cell_type": "code",
   "execution_count": 45,
   "metadata": {},
   "outputs": [
    {
     "data": {
      "text/html": [
       "<div>\n",
       "<style scoped>\n",
       "    .dataframe tbody tr th:only-of-type {\n",
       "        vertical-align: middle;\n",
       "    }\n",
       "\n",
       "    .dataframe tbody tr th {\n",
       "        vertical-align: top;\n",
       "    }\n",
       "\n",
       "    .dataframe thead th {\n",
       "        text-align: right;\n",
       "    }\n",
       "</style>\n",
       "<table border=\"1\" class=\"dataframe\">\n",
       "  <thead>\n",
       "    <tr style=\"text-align: right;\">\n",
       "      <th></th>\n",
       "      <th>id</th>\n",
       "      <th>semantic</th>\n",
       "      <th>label</th>\n",
       "      <th>semantic_id</th>\n",
       "    </tr>\n",
       "  </thead>\n",
       "  <tbody>\n",
       "    <tr>\n",
       "      <th>0</th>\n",
       "      <td>WormBase:WBGene00000389</td>\n",
       "      <td>ORTH</td>\n",
       "      <td>cdc-25.4</td>\n",
       "      <td>5</td>\n",
       "    </tr>\n",
       "    <tr>\n",
       "      <th>1</th>\n",
       "      <td>ZP:0018675</td>\n",
       "      <td>DISO</td>\n",
       "      <td>right side lateral plate mesoderm mislocalised...</td>\n",
       "      <td>1</td>\n",
       "    </tr>\n",
       "    <tr>\n",
       "      <th>2</th>\n",
       "      <td>ZFIN:ZDB-GENE-040426-1197</td>\n",
       "      <td>ORTH</td>\n",
       "      <td>tbc1d5</td>\n",
       "      <td>5</td>\n",
       "    </tr>\n",
       "    <tr>\n",
       "      <th>3</th>\n",
       "      <td>5</td>\n",
       "      <td>DRUG</td>\n",
       "      <td>(S)-nicardipine</td>\n",
       "      <td>2</td>\n",
       "    </tr>\n",
       "    <tr>\n",
       "      <th>4</th>\n",
       "      <td>RGD:3443</td>\n",
       "      <td>ORTH</td>\n",
       "      <td>Ptk2</td>\n",
       "      <td>5</td>\n",
       "    </tr>\n",
       "    <tr>\n",
       "      <th>...</th>\n",
       "      <td>...</td>\n",
       "      <td>...</td>\n",
       "      <td>...</td>\n",
       "      <td>...</td>\n",
       "    </tr>\n",
       "    <tr>\n",
       "      <th>10029</th>\n",
       "      <td>MP:0009763</td>\n",
       "      <td>DISO</td>\n",
       "      <td>increased sensitivity to induced morbidity/mor...</td>\n",
       "      <td>1</td>\n",
       "    </tr>\n",
       "    <tr>\n",
       "      <th>10030</th>\n",
       "      <td>MP:0011057</td>\n",
       "      <td>DISO</td>\n",
       "      <td>absent brain ependyma motile cilia</td>\n",
       "      <td>1</td>\n",
       "    </tr>\n",
       "    <tr>\n",
       "      <th>10031</th>\n",
       "      <td>MP:0001412</td>\n",
       "      <td>DISO</td>\n",
       "      <td>excessive scratching</td>\n",
       "      <td>1</td>\n",
       "    </tr>\n",
       "    <tr>\n",
       "      <th>10032</th>\n",
       "      <td>WBPhenotype:0004023</td>\n",
       "      <td>DISO</td>\n",
       "      <td>frequency of body bend variant</td>\n",
       "      <td>1</td>\n",
       "    </tr>\n",
       "    <tr>\n",
       "      <th>10033</th>\n",
       "      <td>ClinVarVariant:858516</td>\n",
       "      <td>VARI</td>\n",
       "      <td>NM_004006.3(DMD):c.9852G&gt;A (p.Trp3284Ter)</td>\n",
       "      <td>7</td>\n",
       "    </tr>\n",
       "  </tbody>\n",
       "</table>\n",
       "<p>10034 rows × 4 columns</p>\n",
       "</div>"
      ],
      "text/plain": [
       "                              id semantic  \\\n",
       "0        WormBase:WBGene00000389     ORTH   \n",
       "1                     ZP:0018675     DISO   \n",
       "2      ZFIN:ZDB-GENE-040426-1197     ORTH   \n",
       "3                              5     DRUG   \n",
       "4                       RGD:3443     ORTH   \n",
       "...                          ...      ...   \n",
       "10029                 MP:0009763     DISO   \n",
       "10030                 MP:0011057     DISO   \n",
       "10031                 MP:0001412     DISO   \n",
       "10032        WBPhenotype:0004023     DISO   \n",
       "10033      ClinVarVariant:858516     VARI   \n",
       "\n",
       "                                                   label  semantic_id  \n",
       "0                                               cdc-25.4            5  \n",
       "1      right side lateral plate mesoderm mislocalised...            1  \n",
       "2                                                 tbc1d5            5  \n",
       "3                                        (S)-nicardipine            2  \n",
       "4                                                   Ptk2            5  \n",
       "...                                                  ...          ...  \n",
       "10029  increased sensitivity to induced morbidity/mor...            1  \n",
       "10030                 absent brain ependyma motile cilia            1  \n",
       "10031                               excessive scratching            1  \n",
       "10032                     frequency of body bend variant            1  \n",
       "10033          NM_004006.3(DMD):c.9852G>A (p.Trp3284Ter)            7  \n",
       "\n",
       "[10034 rows x 4 columns]"
      ]
     },
     "execution_count": 45,
     "metadata": {},
     "output_type": "execute_result"
    }
   ],
   "source": [
    "nodes"
   ]
  },
  {
   "attachments": {},
   "cell_type": "markdown",
   "metadata": {},
   "source": [
    "Define the score function"
   ]
  },
  {
   "cell_type": "code",
   "execution_count": 46,
   "metadata": {},
   "outputs": [],
   "source": [
    "def score(x, id1, id2): \n",
    "    n1 = x[id1]\n",
    "    n2 = x[id2]\n",
    "    score = torch.Tensor([torch.sum(n1 * n2, dim=-1)])\n",
    "    p = torch.sigmoid(score).cpu().detach().numpy()\n",
    "    return p\n",
    "\n",
    "def candidates(nodes, id, x): \n",
    "  ind = nodes[nodes['id'] == id].index.values.astype(int)[0]\n",
    "  predictions = nodes.copy()\n",
    "  scores = []\n",
    "  for i in range(len(x)):  \n",
    "    s = score(x, i, ind)\n",
    "    scores.append(s)\n",
    "  predictions['Score'] = scores\n",
    "  return predictions"
   ]
  },
  {
   "attachments": {},
   "cell_type": "markdown",
   "metadata": {},
   "source": [
    "Calculate the predictions of an edge existing or not between given node ID and each node in the graph contained by semantic group DRUG. Show the top 20 highest probability that an edge exists between a pair of nodes."
   ]
  },
  {
   "cell_type": "code",
   "execution_count": 47,
   "metadata": {},
   "outputs": [
    {
     "data": {
      "text/html": [
       "<div>\n",
       "<style scoped>\n",
       "    .dataframe tbody tr th:only-of-type {\n",
       "        vertical-align: middle;\n",
       "    }\n",
       "\n",
       "    .dataframe tbody tr th {\n",
       "        vertical-align: top;\n",
       "    }\n",
       "\n",
       "    .dataframe thead th {\n",
       "        text-align: right;\n",
       "    }\n",
       "</style>\n",
       "<table border=\"1\" class=\"dataframe\">\n",
       "  <thead>\n",
       "    <tr style=\"text-align: right;\">\n",
       "      <th></th>\n",
       "      <th>id</th>\n",
       "      <th>semantic</th>\n",
       "      <th>label</th>\n",
       "      <th>semantic_id</th>\n",
       "      <th>Score</th>\n",
       "    </tr>\n",
       "  </thead>\n",
       "  <tbody>\n",
       "    <tr>\n",
       "      <th>1456</th>\n",
       "      <td>4318</td>\n",
       "      <td>DRUG</td>\n",
       "      <td>afatinib</td>\n",
       "      <td>2</td>\n",
       "      <td>[0.94188607]</td>\n",
       "    </tr>\n",
       "    <tr>\n",
       "      <th>675</th>\n",
       "      <td>2052</td>\n",
       "      <td>DRUG</td>\n",
       "      <td>pancuronium</td>\n",
       "      <td>2</td>\n",
       "      <td>[0.8880831]</td>\n",
       "    </tr>\n",
       "    <tr>\n",
       "      <th>1420</th>\n",
       "      <td>4225</td>\n",
       "      <td>DRUG</td>\n",
       "      <td>axitinib</td>\n",
       "      <td>2</td>\n",
       "      <td>[0.8864777]</td>\n",
       "    </tr>\n",
       "    <tr>\n",
       "      <th>891</th>\n",
       "      <td>2666</td>\n",
       "      <td>DRUG</td>\n",
       "      <td>tiludronic acid</td>\n",
       "      <td>2</td>\n",
       "      <td>[0.8843495]</td>\n",
       "    </tr>\n",
       "    <tr>\n",
       "      <th>208</th>\n",
       "      <td>624</td>\n",
       "      <td>DRUG</td>\n",
       "      <td>chlortetracycline</td>\n",
       "      <td>2</td>\n",
       "      <td>[0.88351953]</td>\n",
       "    </tr>\n",
       "    <tr>\n",
       "      <th>41</th>\n",
       "      <td>94</td>\n",
       "      <td>DRUG</td>\n",
       "      <td>adiphenine</td>\n",
       "      <td>2</td>\n",
       "      <td>[0.87557477]</td>\n",
       "    </tr>\n",
       "    <tr>\n",
       "      <th>1772</th>\n",
       "      <td>5252</td>\n",
       "      <td>DRUG</td>\n",
       "      <td>neratinib</td>\n",
       "      <td>2</td>\n",
       "      <td>[0.8698633]</td>\n",
       "    </tr>\n",
       "    <tr>\n",
       "      <th>1780</th>\n",
       "      <td>5297</td>\n",
       "      <td>DRUG</td>\n",
       "      <td>dacomitinib</td>\n",
       "      <td>2</td>\n",
       "      <td>[0.86883634]</td>\n",
       "    </tr>\n",
       "    <tr>\n",
       "      <th>1408</th>\n",
       "      <td>4187</td>\n",
       "      <td>DRUG</td>\n",
       "      <td>crizotinib</td>\n",
       "      <td>2</td>\n",
       "      <td>[0.86878604]</td>\n",
       "    </tr>\n",
       "    <tr>\n",
       "      <th>130</th>\n",
       "      <td>332</td>\n",
       "      <td>DRUG</td>\n",
       "      <td>benzthiazide</td>\n",
       "      <td>2</td>\n",
       "      <td>[0.8523263]</td>\n",
       "    </tr>\n",
       "    <tr>\n",
       "      <th>1796</th>\n",
       "      <td>5345</td>\n",
       "      <td>DRUG</td>\n",
       "      <td>entrectinib</td>\n",
       "      <td>2</td>\n",
       "      <td>[0.84929144]</td>\n",
       "    </tr>\n",
       "    <tr>\n",
       "      <th>204</th>\n",
       "      <td>606</td>\n",
       "      <td>DRUG</td>\n",
       "      <td>chloropyramine</td>\n",
       "      <td>2</td>\n",
       "      <td>[0.8466201]</td>\n",
       "    </tr>\n",
       "    <tr>\n",
       "      <th>1782</th>\n",
       "      <td>5302</td>\n",
       "      <td>DRUG</td>\n",
       "      <td>lorlatinib</td>\n",
       "      <td>2</td>\n",
       "      <td>[0.84597206]</td>\n",
       "    </tr>\n",
       "    <tr>\n",
       "      <th>118</th>\n",
       "      <td>305</td>\n",
       "      <td>DRUG</td>\n",
       "      <td>bendroflumethiazide</td>\n",
       "      <td>2</td>\n",
       "      <td>[0.84549236]</td>\n",
       "    </tr>\n",
       "    <tr>\n",
       "      <th>722</th>\n",
       "      <td>2173</td>\n",
       "      <td>DRUG</td>\n",
       "      <td>pinacidil</td>\n",
       "      <td>2</td>\n",
       "      <td>[0.8445608]</td>\n",
       "    </tr>\n",
       "    <tr>\n",
       "      <th>382</th>\n",
       "      <td>1150</td>\n",
       "      <td>DRUG</td>\n",
       "      <td>fenfluramine</td>\n",
       "      <td>2</td>\n",
       "      <td>[0.8350897]</td>\n",
       "    </tr>\n",
       "    <tr>\n",
       "      <th>601</th>\n",
       "      <td>1816</td>\n",
       "      <td>DRUG</td>\n",
       "      <td>mirtazapine</td>\n",
       "      <td>2</td>\n",
       "      <td>[0.8179366]</td>\n",
       "    </tr>\n",
       "    <tr>\n",
       "      <th>1841</th>\n",
       "      <td>5459</td>\n",
       "      <td>DRUG</td>\n",
       "      <td>infigratinib</td>\n",
       "      <td>2</td>\n",
       "      <td>[0.81390786]</td>\n",
       "    </tr>\n",
       "    <tr>\n",
       "      <th>1759</th>\n",
       "      <td>5211</td>\n",
       "      <td>DRUG</td>\n",
       "      <td>apatinib</td>\n",
       "      <td>2</td>\n",
       "      <td>[0.806999]</td>\n",
       "    </tr>\n",
       "    <tr>\n",
       "      <th>1830</th>\n",
       "      <td>5431</td>\n",
       "      <td>DRUG</td>\n",
       "      <td>tirbanibulin</td>\n",
       "      <td>2</td>\n",
       "      <td>[0.80549216]</td>\n",
       "    </tr>\n",
       "  </tbody>\n",
       "</table>\n",
       "</div>"
      ],
      "text/plain": [
       "        id semantic                label  semantic_id         Score\n",
       "1456  4318     DRUG             afatinib            2  [0.94188607]\n",
       "675   2052     DRUG          pancuronium            2   [0.8880831]\n",
       "1420  4225     DRUG             axitinib            2   [0.8864777]\n",
       "891   2666     DRUG      tiludronic acid            2   [0.8843495]\n",
       "208    624     DRUG    chlortetracycline            2  [0.88351953]\n",
       "41      94     DRUG           adiphenine            2  [0.87557477]\n",
       "1772  5252     DRUG            neratinib            2   [0.8698633]\n",
       "1780  5297     DRUG          dacomitinib            2  [0.86883634]\n",
       "1408  4187     DRUG           crizotinib            2  [0.86878604]\n",
       "130    332     DRUG         benzthiazide            2   [0.8523263]\n",
       "1796  5345     DRUG          entrectinib            2  [0.84929144]\n",
       "204    606     DRUG       chloropyramine            2   [0.8466201]\n",
       "1782  5302     DRUG           lorlatinib            2  [0.84597206]\n",
       "118    305     DRUG  bendroflumethiazide            2  [0.84549236]\n",
       "722   2173     DRUG            pinacidil            2   [0.8445608]\n",
       "382   1150     DRUG         fenfluramine            2   [0.8350897]\n",
       "601   1816     DRUG          mirtazapine            2   [0.8179366]\n",
       "1841  5459     DRUG         infigratinib            2  [0.81390786]\n",
       "1759  5211     DRUG             apatinib            2    [0.806999]\n",
       "1830  5431     DRUG         tirbanibulin            2  [0.80549216]"
      ]
     },
     "execution_count": 47,
     "metadata": {},
     "output_type": "execute_result"
    }
   ],
   "source": [
    "if dataset_nr == 1:\n",
    "    drug_semantic = 'DRUG'\n",
    "else:\n",
    "    drug_semantic = 'drug'\n",
    "\n",
    "predictions = candidates(nodes, 'HP:0001265', best_x)\n",
    "predictions[predictions['semantic'] == drug_semantic].sort_values(by = ['Score'], ascending = False).head(20)"
   ]
  },
  {
   "attachments": {},
   "cell_type": "markdown",
   "metadata": {},
   "source": [
    "Use the node semantics dictionary"
   ]
  },
  {
   "cell_type": "code",
   "execution_count": 48,
   "metadata": {},
   "outputs": [
    {
     "data": {
      "text/plain": [
       "{5: 'ORTH',\n",
       " 1: 'DISO',\n",
       " 2: 'DRUG',\n",
       " 4: 'GENO',\n",
       " 7: 'VARI',\n",
       " 3: 'GENE',\n",
       " 0: 'ANAT',\n",
       " 6: 'PHYS'}"
      ]
     },
     "execution_count": 48,
     "metadata": {},
     "output_type": "execute_result"
    }
   ],
   "source": [
    "node_semantics = nodes[['semantic', 'semantic_id']].drop_duplicates().set_index('semantic_id').to_dict()\n",
    "node_semantics_dict = node_semantics['semantic']\n",
    "node_semantics_dict"
   ]
  },
  {
   "attachments": {},
   "cell_type": "markdown",
   "metadata": {},
   "source": [
    "Get all phenotypes and diseases relevant to the disease."
   ]
  },
  {
   "cell_type": "code",
   "execution_count": 49,
   "metadata": {},
   "outputs": [
    {
     "name": "stdout",
     "output_type": "stream",
     "text": [
      "A total of 27 symptoms found that are associated with MONDO:0010679\n"
     ]
    },
    {
     "data": {
      "text/html": [
       "<div>\n",
       "<style scoped>\n",
       "    .dataframe tbody tr th:only-of-type {\n",
       "        vertical-align: middle;\n",
       "    }\n",
       "\n",
       "    .dataframe tbody tr th {\n",
       "        vertical-align: top;\n",
       "    }\n",
       "\n",
       "    .dataframe thead th {\n",
       "        text-align: right;\n",
       "    }\n",
       "</style>\n",
       "<table border=\"1\" class=\"dataframe\">\n",
       "  <thead>\n",
       "    <tr style=\"text-align: right;\">\n",
       "      <th></th>\n",
       "      <th>head</th>\n",
       "      <th>label_head</th>\n",
       "      <th>class_head</th>\n",
       "      <th>index_head</th>\n",
       "      <th>relation</th>\n",
       "      <th>tail</th>\n",
       "      <th>label_tail</th>\n",
       "      <th>class_tail</th>\n",
       "      <th>index_tail</th>\n",
       "      <th>type</th>\n",
       "    </tr>\n",
       "  </thead>\n",
       "  <tbody>\n",
       "    <tr>\n",
       "      <th>37667</th>\n",
       "      <td>MONDO:0010679</td>\n",
       "      <td>Duchenne muscular dystrophy</td>\n",
       "      <td>1</td>\n",
       "      <td>6315</td>\n",
       "      <td>has phenotype</td>\n",
       "      <td>HP:0011675</td>\n",
       "      <td>Arrhythmia</td>\n",
       "      <td>1</td>\n",
       "      <td>9512</td>\n",
       "      <td>4</td>\n",
       "    </tr>\n",
       "    <tr>\n",
       "      <th>37668</th>\n",
       "      <td>MONDO:0010679</td>\n",
       "      <td>Duchenne muscular dystrophy</td>\n",
       "      <td>1</td>\n",
       "      <td>6315</td>\n",
       "      <td>has phenotype</td>\n",
       "      <td>HP:0002515</td>\n",
       "      <td>Waddling gait</td>\n",
       "      <td>1</td>\n",
       "      <td>552</td>\n",
       "      <td>4</td>\n",
       "    </tr>\n",
       "    <tr>\n",
       "      <th>37670</th>\n",
       "      <td>MONDO:0010679</td>\n",
       "      <td>Duchenne muscular dystrophy</td>\n",
       "      <td>1</td>\n",
       "      <td>6315</td>\n",
       "      <td>has phenotype</td>\n",
       "      <td>HP:0003236</td>\n",
       "      <td>Elevated serum creatine kinase</td>\n",
       "      <td>1</td>\n",
       "      <td>1990</td>\n",
       "      <td>4</td>\n",
       "    </tr>\n",
       "    <tr>\n",
       "      <th>37671</th>\n",
       "      <td>MONDO:0010679</td>\n",
       "      <td>Duchenne muscular dystrophy</td>\n",
       "      <td>1</td>\n",
       "      <td>6315</td>\n",
       "      <td>has phenotype</td>\n",
       "      <td>HP:0002093</td>\n",
       "      <td>Respiratory insufficiency</td>\n",
       "      <td>1</td>\n",
       "      <td>4440</td>\n",
       "      <td>4</td>\n",
       "    </tr>\n",
       "    <tr>\n",
       "      <th>37672</th>\n",
       "      <td>MONDO:0010679</td>\n",
       "      <td>Duchenne muscular dystrophy</td>\n",
       "      <td>1</td>\n",
       "      <td>6315</td>\n",
       "      <td>has phenotype</td>\n",
       "      <td>HP:0003707</td>\n",
       "      <td>Calf muscle pseudohypertrophy</td>\n",
       "      <td>1</td>\n",
       "      <td>357</td>\n",
       "      <td>4</td>\n",
       "    </tr>\n",
       "    <tr>\n",
       "      <th>37673</th>\n",
       "      <td>MONDO:0010679</td>\n",
       "      <td>Duchenne muscular dystrophy</td>\n",
       "      <td>1</td>\n",
       "      <td>6315</td>\n",
       "      <td>has phenotype</td>\n",
       "      <td>HP:0001256</td>\n",
       "      <td>Intellectual disability, mild</td>\n",
       "      <td>1</td>\n",
       "      <td>4247</td>\n",
       "      <td>4</td>\n",
       "    </tr>\n",
       "    <tr>\n",
       "      <th>37674</th>\n",
       "      <td>MONDO:0010679</td>\n",
       "      <td>Duchenne muscular dystrophy</td>\n",
       "      <td>1</td>\n",
       "      <td>6315</td>\n",
       "      <td>has phenotype</td>\n",
       "      <td>HP:0003701</td>\n",
       "      <td>Proximal muscle weakness</td>\n",
       "      <td>1</td>\n",
       "      <td>5299</td>\n",
       "      <td>4</td>\n",
       "    </tr>\n",
       "    <tr>\n",
       "      <th>37675</th>\n",
       "      <td>MONDO:0010679</td>\n",
       "      <td>Duchenne muscular dystrophy</td>\n",
       "      <td>1</td>\n",
       "      <td>6315</td>\n",
       "      <td>has phenotype</td>\n",
       "      <td>HP:0003202</td>\n",
       "      <td>Skeletal muscle atrophy</td>\n",
       "      <td>1</td>\n",
       "      <td>4453</td>\n",
       "      <td>4</td>\n",
       "    </tr>\n",
       "    <tr>\n",
       "      <th>37676</th>\n",
       "      <td>MONDO:0010679</td>\n",
       "      <td>Duchenne muscular dystrophy</td>\n",
       "      <td>1</td>\n",
       "      <td>6315</td>\n",
       "      <td>has phenotype</td>\n",
       "      <td>HP:0003560</td>\n",
       "      <td>Muscular dystrophy</td>\n",
       "      <td>1</td>\n",
       "      <td>2788</td>\n",
       "      <td>4</td>\n",
       "    </tr>\n",
       "    <tr>\n",
       "      <th>37677</th>\n",
       "      <td>MONDO:0010679</td>\n",
       "      <td>Duchenne muscular dystrophy</td>\n",
       "      <td>1</td>\n",
       "      <td>6315</td>\n",
       "      <td>has phenotype</td>\n",
       "      <td>HP:0003391</td>\n",
       "      <td>Gowers sign</td>\n",
       "      <td>1</td>\n",
       "      <td>3055</td>\n",
       "      <td>4</td>\n",
       "    </tr>\n",
       "    <tr>\n",
       "      <th>37678</th>\n",
       "      <td>MONDO:0010679</td>\n",
       "      <td>Duchenne muscular dystrophy</td>\n",
       "      <td>1</td>\n",
       "      <td>6315</td>\n",
       "      <td>has phenotype</td>\n",
       "      <td>HP:0001635</td>\n",
       "      <td>Congestive heart failure</td>\n",
       "      <td>1</td>\n",
       "      <td>8053</td>\n",
       "      <td>4</td>\n",
       "    </tr>\n",
       "    <tr>\n",
       "      <th>37679</th>\n",
       "      <td>MONDO:0010679</td>\n",
       "      <td>Duchenne muscular dystrophy</td>\n",
       "      <td>1</td>\n",
       "      <td>6315</td>\n",
       "      <td>has phenotype</td>\n",
       "      <td>HP:0001328</td>\n",
       "      <td>Specific learning disability</td>\n",
       "      <td>1</td>\n",
       "      <td>6142</td>\n",
       "      <td>4</td>\n",
       "    </tr>\n",
       "    <tr>\n",
       "      <th>37680</th>\n",
       "      <td>MONDO:0010679</td>\n",
       "      <td>Duchenne muscular dystrophy</td>\n",
       "      <td>1</td>\n",
       "      <td>6315</td>\n",
       "      <td>has phenotype</td>\n",
       "      <td>HP:0003323</td>\n",
       "      <td>Progressive muscle weakness</td>\n",
       "      <td>1</td>\n",
       "      <td>616</td>\n",
       "      <td>4</td>\n",
       "    </tr>\n",
       "    <tr>\n",
       "      <th>37682</th>\n",
       "      <td>MONDO:0010679</td>\n",
       "      <td>Duchenne muscular dystrophy</td>\n",
       "      <td>1</td>\n",
       "      <td>6315</td>\n",
       "      <td>has phenotype</td>\n",
       "      <td>HP:0001371</td>\n",
       "      <td>Flexion contracture</td>\n",
       "      <td>1</td>\n",
       "      <td>4563</td>\n",
       "      <td>4</td>\n",
       "    </tr>\n",
       "    <tr>\n",
       "      <th>37683</th>\n",
       "      <td>MONDO:0010679</td>\n",
       "      <td>Duchenne muscular dystrophy</td>\n",
       "      <td>1</td>\n",
       "      <td>6315</td>\n",
       "      <td>has phenotype</td>\n",
       "      <td>HP:0002650</td>\n",
       "      <td>Scoliosis</td>\n",
       "      <td>1</td>\n",
       "      <td>4273</td>\n",
       "      <td>4</td>\n",
       "    </tr>\n",
       "    <tr>\n",
       "      <th>37684</th>\n",
       "      <td>MONDO:0010679</td>\n",
       "      <td>Duchenne muscular dystrophy</td>\n",
       "      <td>1</td>\n",
       "      <td>6315</td>\n",
       "      <td>has phenotype</td>\n",
       "      <td>HP:0003115</td>\n",
       "      <td>Abnormal EKG</td>\n",
       "      <td>1</td>\n",
       "      <td>2517</td>\n",
       "      <td>4</td>\n",
       "    </tr>\n",
       "    <tr>\n",
       "      <th>37685</th>\n",
       "      <td>MONDO:0010679</td>\n",
       "      <td>Duchenne muscular dystrophy</td>\n",
       "      <td>1</td>\n",
       "      <td>6315</td>\n",
       "      <td>has phenotype</td>\n",
       "      <td>HP:0001263</td>\n",
       "      <td>Global developmental delay</td>\n",
       "      <td>1</td>\n",
       "      <td>7687</td>\n",
       "      <td>4</td>\n",
       "    </tr>\n",
       "    <tr>\n",
       "      <th>37686</th>\n",
       "      <td>MONDO:0010679</td>\n",
       "      <td>Duchenne muscular dystrophy</td>\n",
       "      <td>1</td>\n",
       "      <td>6315</td>\n",
       "      <td>has phenotype</td>\n",
       "      <td>HP:0008981</td>\n",
       "      <td>Calf muscle hypertrophy</td>\n",
       "      <td>1</td>\n",
       "      <td>5376</td>\n",
       "      <td>4</td>\n",
       "    </tr>\n",
       "    <tr>\n",
       "      <th>37687</th>\n",
       "      <td>MONDO:0010679</td>\n",
       "      <td>Duchenne muscular dystrophy</td>\n",
       "      <td>1</td>\n",
       "      <td>6315</td>\n",
       "      <td>has phenotype</td>\n",
       "      <td>HP:0001638</td>\n",
       "      <td>Cardiomyopathy</td>\n",
       "      <td>1</td>\n",
       "      <td>1379</td>\n",
       "      <td>4</td>\n",
       "    </tr>\n",
       "    <tr>\n",
       "      <th>37688</th>\n",
       "      <td>MONDO:0010679</td>\n",
       "      <td>Duchenne muscular dystrophy</td>\n",
       "      <td>1</td>\n",
       "      <td>6315</td>\n",
       "      <td>has phenotype</td>\n",
       "      <td>HP:0003307</td>\n",
       "      <td>Hyperlordosis</td>\n",
       "      <td>1</td>\n",
       "      <td>9142</td>\n",
       "      <td>4</td>\n",
       "    </tr>\n",
       "    <tr>\n",
       "      <th>37689</th>\n",
       "      <td>MONDO:0010679</td>\n",
       "      <td>Duchenne muscular dystrophy</td>\n",
       "      <td>1</td>\n",
       "      <td>6315</td>\n",
       "      <td>has phenotype</td>\n",
       "      <td>HP:0000750</td>\n",
       "      <td>Delayed speech and language development</td>\n",
       "      <td>1</td>\n",
       "      <td>6575</td>\n",
       "      <td>4</td>\n",
       "    </tr>\n",
       "    <tr>\n",
       "      <th>37690</th>\n",
       "      <td>MONDO:0010679</td>\n",
       "      <td>Duchenne muscular dystrophy</td>\n",
       "      <td>1</td>\n",
       "      <td>6315</td>\n",
       "      <td>has phenotype</td>\n",
       "      <td>HP:0001265</td>\n",
       "      <td>Hyporeflexia</td>\n",
       "      <td>1</td>\n",
       "      <td>9965</td>\n",
       "      <td>4</td>\n",
       "    </tr>\n",
       "    <tr>\n",
       "      <th>37691</th>\n",
       "      <td>MONDO:0010679</td>\n",
       "      <td>Duchenne muscular dystrophy</td>\n",
       "      <td>1</td>\n",
       "      <td>6315</td>\n",
       "      <td>has phenotype</td>\n",
       "      <td>HP:0001644</td>\n",
       "      <td>Dilated cardiomyopathy</td>\n",
       "      <td>1</td>\n",
       "      <td>3067</td>\n",
       "      <td>4</td>\n",
       "    </tr>\n",
       "    <tr>\n",
       "      <th>37692</th>\n",
       "      <td>MONDO:0010679</td>\n",
       "      <td>Duchenne muscular dystrophy</td>\n",
       "      <td>1</td>\n",
       "      <td>6315</td>\n",
       "      <td>has phenotype</td>\n",
       "      <td>HP:0001270</td>\n",
       "      <td>Motor delay</td>\n",
       "      <td>1</td>\n",
       "      <td>1333</td>\n",
       "      <td>4</td>\n",
       "    </tr>\n",
       "    <tr>\n",
       "      <th>37693</th>\n",
       "      <td>MONDO:0010679</td>\n",
       "      <td>Duchenne muscular dystrophy</td>\n",
       "      <td>1</td>\n",
       "      <td>6315</td>\n",
       "      <td>has phenotype</td>\n",
       "      <td>HP:0001290</td>\n",
       "      <td>Generalized hypotonia</td>\n",
       "      <td>1</td>\n",
       "      <td>5347</td>\n",
       "      <td>4</td>\n",
       "    </tr>\n",
       "    <tr>\n",
       "      <th>37694</th>\n",
       "      <td>MONDO:0010679</td>\n",
       "      <td>Duchenne muscular dystrophy</td>\n",
       "      <td>1</td>\n",
       "      <td>6315</td>\n",
       "      <td>has phenotype</td>\n",
       "      <td>HP:0100543</td>\n",
       "      <td>Cognitive impairment</td>\n",
       "      <td>1</td>\n",
       "      <td>9833</td>\n",
       "      <td>4</td>\n",
       "    </tr>\n",
       "    <tr>\n",
       "      <th>37695</th>\n",
       "      <td>MONDO:0010679</td>\n",
       "      <td>Duchenne muscular dystrophy</td>\n",
       "      <td>1</td>\n",
       "      <td>6315</td>\n",
       "      <td>has phenotype</td>\n",
       "      <td>HP:0002791</td>\n",
       "      <td>Hypoventilation</td>\n",
       "      <td>1</td>\n",
       "      <td>1270</td>\n",
       "      <td>4</td>\n",
       "    </tr>\n",
       "  </tbody>\n",
       "</table>\n",
       "</div>"
      ],
      "text/plain": [
       "                head                   label_head  class_head  index_head  \\\n",
       "37667  MONDO:0010679  Duchenne muscular dystrophy           1        6315   \n",
       "37668  MONDO:0010679  Duchenne muscular dystrophy           1        6315   \n",
       "37670  MONDO:0010679  Duchenne muscular dystrophy           1        6315   \n",
       "37671  MONDO:0010679  Duchenne muscular dystrophy           1        6315   \n",
       "37672  MONDO:0010679  Duchenne muscular dystrophy           1        6315   \n",
       "37673  MONDO:0010679  Duchenne muscular dystrophy           1        6315   \n",
       "37674  MONDO:0010679  Duchenne muscular dystrophy           1        6315   \n",
       "37675  MONDO:0010679  Duchenne muscular dystrophy           1        6315   \n",
       "37676  MONDO:0010679  Duchenne muscular dystrophy           1        6315   \n",
       "37677  MONDO:0010679  Duchenne muscular dystrophy           1        6315   \n",
       "37678  MONDO:0010679  Duchenne muscular dystrophy           1        6315   \n",
       "37679  MONDO:0010679  Duchenne muscular dystrophy           1        6315   \n",
       "37680  MONDO:0010679  Duchenne muscular dystrophy           1        6315   \n",
       "37682  MONDO:0010679  Duchenne muscular dystrophy           1        6315   \n",
       "37683  MONDO:0010679  Duchenne muscular dystrophy           1        6315   \n",
       "37684  MONDO:0010679  Duchenne muscular dystrophy           1        6315   \n",
       "37685  MONDO:0010679  Duchenne muscular dystrophy           1        6315   \n",
       "37686  MONDO:0010679  Duchenne muscular dystrophy           1        6315   \n",
       "37687  MONDO:0010679  Duchenne muscular dystrophy           1        6315   \n",
       "37688  MONDO:0010679  Duchenne muscular dystrophy           1        6315   \n",
       "37689  MONDO:0010679  Duchenne muscular dystrophy           1        6315   \n",
       "37690  MONDO:0010679  Duchenne muscular dystrophy           1        6315   \n",
       "37691  MONDO:0010679  Duchenne muscular dystrophy           1        6315   \n",
       "37692  MONDO:0010679  Duchenne muscular dystrophy           1        6315   \n",
       "37693  MONDO:0010679  Duchenne muscular dystrophy           1        6315   \n",
       "37694  MONDO:0010679  Duchenne muscular dystrophy           1        6315   \n",
       "37695  MONDO:0010679  Duchenne muscular dystrophy           1        6315   \n",
       "\n",
       "            relation        tail                               label_tail  \\\n",
       "37667  has phenotype  HP:0011675                               Arrhythmia   \n",
       "37668  has phenotype  HP:0002515                            Waddling gait   \n",
       "37670  has phenotype  HP:0003236           Elevated serum creatine kinase   \n",
       "37671  has phenotype  HP:0002093                Respiratory insufficiency   \n",
       "37672  has phenotype  HP:0003707            Calf muscle pseudohypertrophy   \n",
       "37673  has phenotype  HP:0001256            Intellectual disability, mild   \n",
       "37674  has phenotype  HP:0003701                 Proximal muscle weakness   \n",
       "37675  has phenotype  HP:0003202                  Skeletal muscle atrophy   \n",
       "37676  has phenotype  HP:0003560                       Muscular dystrophy   \n",
       "37677  has phenotype  HP:0003391                              Gowers sign   \n",
       "37678  has phenotype  HP:0001635                 Congestive heart failure   \n",
       "37679  has phenotype  HP:0001328             Specific learning disability   \n",
       "37680  has phenotype  HP:0003323              Progressive muscle weakness   \n",
       "37682  has phenotype  HP:0001371                      Flexion contracture   \n",
       "37683  has phenotype  HP:0002650                                Scoliosis   \n",
       "37684  has phenotype  HP:0003115                             Abnormal EKG   \n",
       "37685  has phenotype  HP:0001263               Global developmental delay   \n",
       "37686  has phenotype  HP:0008981                  Calf muscle hypertrophy   \n",
       "37687  has phenotype  HP:0001638                           Cardiomyopathy   \n",
       "37688  has phenotype  HP:0003307                            Hyperlordosis   \n",
       "37689  has phenotype  HP:0000750  Delayed speech and language development   \n",
       "37690  has phenotype  HP:0001265                             Hyporeflexia   \n",
       "37691  has phenotype  HP:0001644                   Dilated cardiomyopathy   \n",
       "37692  has phenotype  HP:0001270                              Motor delay   \n",
       "37693  has phenotype  HP:0001290                    Generalized hypotonia   \n",
       "37694  has phenotype  HP:0100543                     Cognitive impairment   \n",
       "37695  has phenotype  HP:0002791                          Hypoventilation   \n",
       "\n",
       "       class_tail  index_tail  type  \n",
       "37667           1        9512     4  \n",
       "37668           1         552     4  \n",
       "37670           1        1990     4  \n",
       "37671           1        4440     4  \n",
       "37672           1         357     4  \n",
       "37673           1        4247     4  \n",
       "37674           1        5299     4  \n",
       "37675           1        4453     4  \n",
       "37676           1        2788     4  \n",
       "37677           1        3055     4  \n",
       "37678           1        8053     4  \n",
       "37679           1        6142     4  \n",
       "37680           1         616     4  \n",
       "37682           1        4563     4  \n",
       "37683           1        4273     4  \n",
       "37684           1        2517     4  \n",
       "37685           1        7687     4  \n",
       "37686           1        5376     4  \n",
       "37687           1        1379     4  \n",
       "37688           1        9142     4  \n",
       "37689           1        6575     4  \n",
       "37690           1        9965     4  \n",
       "37691           1        3067     4  \n",
       "37692           1        1333     4  \n",
       "37693           1        5347     4  \n",
       "37694           1        9833     4  \n",
       "37695           1        1270     4  "
      ]
     },
     "execution_count": 49,
     "metadata": {},
     "output_type": "execute_result"
    }
   ],
   "source": [
    "if dataset_nr == 1:\n",
    "    pheno_rel = 'has phenotype'\n",
    "else:\n",
    "    pheno_rel = 'associated with phenotype'\n",
    "\n",
    "disease_ID = 'MONDO:0010679'\n",
    "relation_index = list(relation_labels).index(pheno_rel)\n",
    "\n",
    "symptoms = edges[(edges['head'] == 'MONDO:0010679') & (edges['type'] == relation_index)]\n",
    "\n",
    "print(f'A total of {symptoms.shape[0]} symptoms found that are associated with {disease_ID}')\n",
    "symptoms.head(symptoms.shape[0])"
   ]
  },
  {
   "attachments": {},
   "cell_type": "markdown",
   "metadata": {},
   "source": [
    "Check alignment between dataframes containing the associations and the nodes"
   ]
  },
  {
   "cell_type": "code",
   "execution_count": 50,
   "metadata": {},
   "outputs": [
    {
     "data": {
      "text/html": [
       "<div>\n",
       "<style scoped>\n",
       "    .dataframe tbody tr th:only-of-type {\n",
       "        vertical-align: middle;\n",
       "    }\n",
       "\n",
       "    .dataframe tbody tr th {\n",
       "        vertical-align: top;\n",
       "    }\n",
       "\n",
       "    .dataframe thead th {\n",
       "        text-align: right;\n",
       "    }\n",
       "</style>\n",
       "<table border=\"1\" class=\"dataframe\">\n",
       "  <thead>\n",
       "    <tr style=\"text-align: right;\">\n",
       "      <th></th>\n",
       "      <th>id</th>\n",
       "      <th>semantic</th>\n",
       "      <th>label</th>\n",
       "      <th>semantic_id</th>\n",
       "    </tr>\n",
       "  </thead>\n",
       "  <tbody>\n",
       "    <tr>\n",
       "      <th>6315</th>\n",
       "      <td>MONDO:0010679</td>\n",
       "      <td>DISO</td>\n",
       "      <td>Duchenne muscular dystrophy</td>\n",
       "      <td>1</td>\n",
       "    </tr>\n",
       "  </tbody>\n",
       "</table>\n",
       "</div>"
      ],
      "text/plain": [
       "                 id semantic                        label  semantic_id\n",
       "6315  MONDO:0010679     DISO  Duchenne muscular dystrophy            1"
      ]
     },
     "execution_count": 50,
     "metadata": {},
     "output_type": "execute_result"
    }
   ],
   "source": [
    "nodes.loc[[6315]]"
   ]
  },
  {
   "cell_type": "markdown",
   "metadata": {},
   "source": [
    "Get list of drugs that appear at least once in the top 3 of suggested drugs for an associated phenotype"
   ]
  },
  {
   "cell_type": "code",
   "execution_count": 51,
   "metadata": {},
   "outputs": [],
   "source": [
    "def add_drug_candidate(candidates, drug_name):\n",
    "    if drug_name in candidates:\n",
    "        candidates[drug_name] += 1\n",
    "    else:\n",
    "        candidates[drug_name] = 1\n",
    "        \n",
    "    return candidates\n",
    "\n",
    "drug_candidates = {}\n",
    "symptom_drugs = {}\n",
    "symptom_drugs_scores = []\n",
    "\n",
    "for ind, symptom in symptoms.iterrows(): \n",
    "    symptom_id = symptom['tail']\n",
    "    symptom_drugs[symptom_id] = []\n",
    "    \n",
    "    predictions = candidates(nodes, symptom_id, best_x)\n",
    "    ordered_predictions = predictions[predictions['semantic'] == drug_semantic].sort_values(by = ['Score'], ascending = False).head(3)\n",
    "    \n",
    "    for ind, drug in ordered_predictions.iterrows():\n",
    "        symptom_drugs_scores.append({'Symptom': symptom['label_tail'], 'Symptom ID': symptom['tail'], 'Drug Candidate': drug['label'], 'Score': drug['Score'][0]})\n",
    "        \n",
    "        symptom_drugs[symptom_id].append(drug['id'])\n",
    "        drug_candidates = add_drug_candidate(drug_candidates, drug['label'])"
   ]
  },
  {
   "cell_type": "code",
   "execution_count": 52,
   "metadata": {},
   "outputs": [
    {
     "data": {
      "text/html": [
       "<div>\n",
       "<style scoped>\n",
       "    .dataframe tbody tr th:only-of-type {\n",
       "        vertical-align: middle;\n",
       "    }\n",
       "\n",
       "    .dataframe tbody tr th {\n",
       "        vertical-align: top;\n",
       "    }\n",
       "\n",
       "    .dataframe thead th {\n",
       "        text-align: right;\n",
       "    }\n",
       "</style>\n",
       "<table border=\"1\" class=\"dataframe\">\n",
       "  <thead>\n",
       "    <tr style=\"text-align: right;\">\n",
       "      <th></th>\n",
       "      <th>Symptom</th>\n",
       "      <th>Symptom ID</th>\n",
       "      <th>Drug Candidate</th>\n",
       "      <th>Score</th>\n",
       "    </tr>\n",
       "  </thead>\n",
       "  <tbody>\n",
       "    <tr>\n",
       "      <th>0</th>\n",
       "      <td>Arrhythmia</td>\n",
       "      <td>HP:0011675</td>\n",
       "      <td>aprindine</td>\n",
       "      <td>0.791237</td>\n",
       "    </tr>\n",
       "    <tr>\n",
       "      <th>1</th>\n",
       "      <td>Arrhythmia</td>\n",
       "      <td>HP:0011675</td>\n",
       "      <td>levosimendan</td>\n",
       "      <td>0.714982</td>\n",
       "    </tr>\n",
       "    <tr>\n",
       "      <th>2</th>\n",
       "      <td>Arrhythmia</td>\n",
       "      <td>HP:0011675</td>\n",
       "      <td>nitrendipine</td>\n",
       "      <td>0.704626</td>\n",
       "    </tr>\n",
       "    <tr>\n",
       "      <th>3</th>\n",
       "      <td>Waddling gait</td>\n",
       "      <td>HP:0002515</td>\n",
       "      <td>afatinib</td>\n",
       "      <td>0.895001</td>\n",
       "    </tr>\n",
       "    <tr>\n",
       "      <th>4</th>\n",
       "      <td>Waddling gait</td>\n",
       "      <td>HP:0002515</td>\n",
       "      <td>chlortetracycline</td>\n",
       "      <td>0.875377</td>\n",
       "    </tr>\n",
       "    <tr>\n",
       "      <th>...</th>\n",
       "      <td>...</td>\n",
       "      <td>...</td>\n",
       "      <td>...</td>\n",
       "      <td>...</td>\n",
       "    </tr>\n",
       "    <tr>\n",
       "      <th>76</th>\n",
       "      <td>Cognitive impairment</td>\n",
       "      <td>HP:0100543</td>\n",
       "      <td>axitinib</td>\n",
       "      <td>0.879181</td>\n",
       "    </tr>\n",
       "    <tr>\n",
       "      <th>77</th>\n",
       "      <td>Cognitive impairment</td>\n",
       "      <td>HP:0100543</td>\n",
       "      <td>chlortetracycline</td>\n",
       "      <td>0.876313</td>\n",
       "    </tr>\n",
       "    <tr>\n",
       "      <th>78</th>\n",
       "      <td>Hypoventilation</td>\n",
       "      <td>HP:0002791</td>\n",
       "      <td>afatinib</td>\n",
       "      <td>0.792851</td>\n",
       "    </tr>\n",
       "    <tr>\n",
       "      <th>79</th>\n",
       "      <td>Hypoventilation</td>\n",
       "      <td>HP:0002791</td>\n",
       "      <td>fenfluramine</td>\n",
       "      <td>0.746949</td>\n",
       "    </tr>\n",
       "    <tr>\n",
       "      <th>80</th>\n",
       "      <td>Hypoventilation</td>\n",
       "      <td>HP:0002791</td>\n",
       "      <td>tiludronic acid</td>\n",
       "      <td>0.743573</td>\n",
       "    </tr>\n",
       "  </tbody>\n",
       "</table>\n",
       "<p>81 rows × 4 columns</p>\n",
       "</div>"
      ],
      "text/plain": [
       "                 Symptom  Symptom ID     Drug Candidate     Score\n",
       "0             Arrhythmia  HP:0011675          aprindine  0.791237\n",
       "1             Arrhythmia  HP:0011675       levosimendan  0.714982\n",
       "2             Arrhythmia  HP:0011675       nitrendipine  0.704626\n",
       "3          Waddling gait  HP:0002515           afatinib  0.895001\n",
       "4          Waddling gait  HP:0002515  chlortetracycline  0.875377\n",
       "..                   ...         ...                ...       ...\n",
       "76  Cognitive impairment  HP:0100543           axitinib  0.879181\n",
       "77  Cognitive impairment  HP:0100543  chlortetracycline  0.876313\n",
       "78       Hypoventilation  HP:0002791           afatinib  0.792851\n",
       "79       Hypoventilation  HP:0002791       fenfluramine  0.746949\n",
       "80       Hypoventilation  HP:0002791    tiludronic acid  0.743573\n",
       "\n",
       "[81 rows x 4 columns]"
      ]
     },
     "execution_count": 52,
     "metadata": {},
     "output_type": "execute_result"
    }
   ],
   "source": [
    "symptom_drugs_scores_df = pd.DataFrame.from_dict(symptom_drugs_scores)\n",
    "symptom_drugs_scores_df.to_pickle(f'{pred_output_dir}/score_per_symptom_drug_pair_{dataset_nr}_{embedding_method}.pkl')\n",
    "\n",
    "symptom_drugs_scores_df"
   ]
  },
  {
   "cell_type": "markdown",
   "metadata": {},
   "source": [
    "Get list of drug candidate ids per relevant symptom id."
   ]
  },
  {
   "cell_type": "code",
   "execution_count": 54,
   "metadata": {},
   "outputs": [
    {
     "data": {
      "text/html": [
       "<div>\n",
       "<style scoped>\n",
       "    .dataframe tbody tr th:only-of-type {\n",
       "        vertical-align: middle;\n",
       "    }\n",
       "\n",
       "    .dataframe tbody tr th {\n",
       "        vertical-align: top;\n",
       "    }\n",
       "\n",
       "    .dataframe thead th {\n",
       "        text-align: right;\n",
       "    }\n",
       "</style>\n",
       "<table border=\"1\" class=\"dataframe\">\n",
       "  <thead>\n",
       "    <tr style=\"text-align: right;\">\n",
       "      <th></th>\n",
       "      <th>Symptom</th>\n",
       "      <th>Candidates</th>\n",
       "    </tr>\n",
       "  </thead>\n",
       "  <tbody>\n",
       "    <tr>\n",
       "      <th>0</th>\n",
       "      <td>HP:0011675</td>\n",
       "      <td>[231, 1576, 1947]</td>\n",
       "    </tr>\n",
       "    <tr>\n",
       "      <th>1</th>\n",
       "      <td>HP:0002515</td>\n",
       "      <td>[4318, 624, 4225]</td>\n",
       "    </tr>\n",
       "    <tr>\n",
       "      <th>2</th>\n",
       "      <td>HP:0003236</td>\n",
       "      <td>[231, 4318, 1576]</td>\n",
       "    </tr>\n",
       "    <tr>\n",
       "      <th>3</th>\n",
       "      <td>HP:0002093</td>\n",
       "      <td>[4318, 624, 94]</td>\n",
       "    </tr>\n",
       "    <tr>\n",
       "      <th>4</th>\n",
       "      <td>HP:0003707</td>\n",
       "      <td>[4318, 332, 305]</td>\n",
       "    </tr>\n",
       "    <tr>\n",
       "      <th>5</th>\n",
       "      <td>HP:0001256</td>\n",
       "      <td>[4318, 332, 2052]</td>\n",
       "    </tr>\n",
       "    <tr>\n",
       "      <th>6</th>\n",
       "      <td>HP:0003701</td>\n",
       "      <td>[4318, 4225, 624]</td>\n",
       "    </tr>\n",
       "    <tr>\n",
       "      <th>7</th>\n",
       "      <td>HP:0003202</td>\n",
       "      <td>[4318, 624, 4225]</td>\n",
       "    </tr>\n",
       "    <tr>\n",
       "      <th>8</th>\n",
       "      <td>HP:0003560</td>\n",
       "      <td>[624, 231, 5359]</td>\n",
       "    </tr>\n",
       "    <tr>\n",
       "      <th>9</th>\n",
       "      <td>HP:0003391</td>\n",
       "      <td>[4318, 2052, 4225]</td>\n",
       "    </tr>\n",
       "    <tr>\n",
       "      <th>10</th>\n",
       "      <td>HP:0001635</td>\n",
       "      <td>[231, 6, 1947]</td>\n",
       "    </tr>\n",
       "    <tr>\n",
       "      <th>11</th>\n",
       "      <td>HP:0001328</td>\n",
       "      <td>[4318, 2052, 2666]</td>\n",
       "    </tr>\n",
       "    <tr>\n",
       "      <th>12</th>\n",
       "      <td>HP:0003323</td>\n",
       "      <td>[4318, 231, 624]</td>\n",
       "    </tr>\n",
       "    <tr>\n",
       "      <th>13</th>\n",
       "      <td>HP:0001371</td>\n",
       "      <td>[4318, 4225, 2666]</td>\n",
       "    </tr>\n",
       "    <tr>\n",
       "      <th>14</th>\n",
       "      <td>HP:0002650</td>\n",
       "      <td>[4318, 4225, 624]</td>\n",
       "    </tr>\n",
       "    <tr>\n",
       "      <th>15</th>\n",
       "      <td>HP:0003115</td>\n",
       "      <td>[4318, 1576, 5182]</td>\n",
       "    </tr>\n",
       "    <tr>\n",
       "      <th>16</th>\n",
       "      <td>HP:0001263</td>\n",
       "      <td>[4318, 5252, 4225]</td>\n",
       "    </tr>\n",
       "    <tr>\n",
       "      <th>17</th>\n",
       "      <td>HP:0008981</td>\n",
       "      <td>[4318, 4225, 624]</td>\n",
       "    </tr>\n",
       "    <tr>\n",
       "      <th>18</th>\n",
       "      <td>HP:0001638</td>\n",
       "      <td>[231, 4318, 94]</td>\n",
       "    </tr>\n",
       "    <tr>\n",
       "      <th>19</th>\n",
       "      <td>HP:0003307</td>\n",
       "      <td>[4318, 624, 4225]</td>\n",
       "    </tr>\n",
       "    <tr>\n",
       "      <th>20</th>\n",
       "      <td>HP:0000750</td>\n",
       "      <td>[4318, 4225, 5252]</td>\n",
       "    </tr>\n",
       "    <tr>\n",
       "      <th>21</th>\n",
       "      <td>HP:0001265</td>\n",
       "      <td>[4318, 2052, 4225]</td>\n",
       "    </tr>\n",
       "    <tr>\n",
       "      <th>22</th>\n",
       "      <td>HP:0001644</td>\n",
       "      <td>[4318, 6, 332]</td>\n",
       "    </tr>\n",
       "    <tr>\n",
       "      <th>23</th>\n",
       "      <td>HP:0001270</td>\n",
       "      <td>[4318, 4225, 5252]</td>\n",
       "    </tr>\n",
       "    <tr>\n",
       "      <th>24</th>\n",
       "      <td>HP:0001290</td>\n",
       "      <td>[4318, 4225, 5252]</td>\n",
       "    </tr>\n",
       "    <tr>\n",
       "      <th>25</th>\n",
       "      <td>HP:0100543</td>\n",
       "      <td>[4318, 4225, 624]</td>\n",
       "    </tr>\n",
       "    <tr>\n",
       "      <th>26</th>\n",
       "      <td>HP:0002791</td>\n",
       "      <td>[4318, 1150, 2666]</td>\n",
       "    </tr>\n",
       "  </tbody>\n",
       "</table>\n",
       "</div>"
      ],
      "text/plain": [
       "       Symptom          Candidates\n",
       "0   HP:0011675   [231, 1576, 1947]\n",
       "1   HP:0002515   [4318, 624, 4225]\n",
       "2   HP:0003236   [231, 4318, 1576]\n",
       "3   HP:0002093     [4318, 624, 94]\n",
       "4   HP:0003707    [4318, 332, 305]\n",
       "5   HP:0001256   [4318, 332, 2052]\n",
       "6   HP:0003701   [4318, 4225, 624]\n",
       "7   HP:0003202   [4318, 624, 4225]\n",
       "8   HP:0003560    [624, 231, 5359]\n",
       "9   HP:0003391  [4318, 2052, 4225]\n",
       "10  HP:0001635      [231, 6, 1947]\n",
       "11  HP:0001328  [4318, 2052, 2666]\n",
       "12  HP:0003323    [4318, 231, 624]\n",
       "13  HP:0001371  [4318, 4225, 2666]\n",
       "14  HP:0002650   [4318, 4225, 624]\n",
       "15  HP:0003115  [4318, 1576, 5182]\n",
       "16  HP:0001263  [4318, 5252, 4225]\n",
       "17  HP:0008981   [4318, 4225, 624]\n",
       "18  HP:0001638     [231, 4318, 94]\n",
       "19  HP:0003307   [4318, 624, 4225]\n",
       "20  HP:0000750  [4318, 4225, 5252]\n",
       "21  HP:0001265  [4318, 2052, 4225]\n",
       "22  HP:0001644      [4318, 6, 332]\n",
       "23  HP:0001270  [4318, 4225, 5252]\n",
       "24  HP:0001290  [4318, 4225, 5252]\n",
       "25  HP:0100543   [4318, 4225, 624]\n",
       "26  HP:0002791  [4318, 1150, 2666]"
      ]
     },
     "execution_count": 54,
     "metadata": {},
     "output_type": "execute_result"
    }
   ],
   "source": [
    "symptom_drugs_df_dict = {\n",
    "    'Symptom': [],\n",
    "    'Candidates': [] \n",
    "}\n",
    "for key, val in symptom_drugs.items():\n",
    "    symptom_drugs_df_dict['Symptom'].append(key)\n",
    "    symptom_drugs_df_dict['Candidates'].append(val)\n",
    "    \n",
    "symptom_drugs_df = pd.DataFrame.from_dict(symptom_drugs_df_dict)\n",
    "symptom_drugs_df.to_pickle(f'{pred_output_dir}/candidates_per_symptom_{dataset_nr}_{embedding_method}.pkl')\n",
    "\n",
    "symptom_drugs_df"
   ]
  },
  {
   "cell_type": "markdown",
   "metadata": {},
   "source": [
    "Save dataframe as csv file with all drugs and their total of appearances as a candidate for one or more relevant symptoms."
   ]
  },
  {
   "cell_type": "code",
   "execution_count": 55,
   "metadata": {},
   "outputs": [
    {
     "data": {
      "text/html": [
       "<div>\n",
       "<style scoped>\n",
       "    .dataframe tbody tr th:only-of-type {\n",
       "        vertical-align: middle;\n",
       "    }\n",
       "\n",
       "    .dataframe tbody tr th {\n",
       "        vertical-align: top;\n",
       "    }\n",
       "\n",
       "    .dataframe thead th {\n",
       "        text-align: right;\n",
       "    }\n",
       "</style>\n",
       "<table border=\"1\" class=\"dataframe\">\n",
       "  <thead>\n",
       "    <tr style=\"text-align: right;\">\n",
       "      <th></th>\n",
       "      <th>Drug</th>\n",
       "      <th>Appearances</th>\n",
       "      <th>Percentage</th>\n",
       "    </tr>\n",
       "  </thead>\n",
       "  <tbody>\n",
       "    <tr>\n",
       "      <th>3</th>\n",
       "      <td>afatinib</td>\n",
       "      <td>24</td>\n",
       "      <td>88.89%</td>\n",
       "    </tr>\n",
       "    <tr>\n",
       "      <th>5</th>\n",
       "      <td>axitinib</td>\n",
       "      <td>14</td>\n",
       "      <td>51.85%</td>\n",
       "    </tr>\n",
       "    <tr>\n",
       "      <th>4</th>\n",
       "      <td>chlortetracycline</td>\n",
       "      <td>10</td>\n",
       "      <td>37.04%</td>\n",
       "    </tr>\n",
       "    <tr>\n",
       "      <th>0</th>\n",
       "      <td>aprindine</td>\n",
       "      <td>6</td>\n",
       "      <td>22.22%</td>\n",
       "    </tr>\n",
       "    <tr>\n",
       "      <th>9</th>\n",
       "      <td>pancuronium</td>\n",
       "      <td>4</td>\n",
       "      <td>14.81%</td>\n",
       "    </tr>\n",
       "    <tr>\n",
       "      <th>14</th>\n",
       "      <td>neratinib</td>\n",
       "      <td>4</td>\n",
       "      <td>14.81%</td>\n",
       "    </tr>\n",
       "    <tr>\n",
       "      <th>1</th>\n",
       "      <td>levosimendan</td>\n",
       "      <td>3</td>\n",
       "      <td>11.11%</td>\n",
       "    </tr>\n",
       "    <tr>\n",
       "      <th>7</th>\n",
       "      <td>benzthiazide</td>\n",
       "      <td>3</td>\n",
       "      <td>11.11%</td>\n",
       "    </tr>\n",
       "    <tr>\n",
       "      <th>12</th>\n",
       "      <td>tiludronic acid</td>\n",
       "      <td>3</td>\n",
       "      <td>11.11%</td>\n",
       "    </tr>\n",
       "    <tr>\n",
       "      <th>2</th>\n",
       "      <td>nitrendipine</td>\n",
       "      <td>2</td>\n",
       "      <td>7.41%</td>\n",
       "    </tr>\n",
       "    <tr>\n",
       "      <th>6</th>\n",
       "      <td>adiphenine</td>\n",
       "      <td>2</td>\n",
       "      <td>7.41%</td>\n",
       "    </tr>\n",
       "    <tr>\n",
       "      <th>11</th>\n",
       "      <td>(S)-nitrendipine</td>\n",
       "      <td>2</td>\n",
       "      <td>7.41%</td>\n",
       "    </tr>\n",
       "    <tr>\n",
       "      <th>8</th>\n",
       "      <td>bendroflumethiazide</td>\n",
       "      <td>1</td>\n",
       "      <td>3.70%</td>\n",
       "    </tr>\n",
       "    <tr>\n",
       "      <th>10</th>\n",
       "      <td>brilliant Blue G</td>\n",
       "      <td>1</td>\n",
       "      <td>3.70%</td>\n",
       "    </tr>\n",
       "    <tr>\n",
       "      <th>13</th>\n",
       "      <td>eteplirsen</td>\n",
       "      <td>1</td>\n",
       "      <td>3.70%</td>\n",
       "    </tr>\n",
       "    <tr>\n",
       "      <th>15</th>\n",
       "      <td>fenfluramine</td>\n",
       "      <td>1</td>\n",
       "      <td>3.70%</td>\n",
       "    </tr>\n",
       "  </tbody>\n",
       "</table>\n",
       "</div>"
      ],
      "text/plain": [
       "                   Drug  Appearances Percentage\n",
       "3              afatinib           24     88.89%\n",
       "5              axitinib           14     51.85%\n",
       "4     chlortetracycline           10     37.04%\n",
       "0             aprindine            6     22.22%\n",
       "9           pancuronium            4     14.81%\n",
       "14            neratinib            4     14.81%\n",
       "1          levosimendan            3     11.11%\n",
       "7          benzthiazide            3     11.11%\n",
       "12      tiludronic acid            3     11.11%\n",
       "2          nitrendipine            2      7.41%\n",
       "6            adiphenine            2      7.41%\n",
       "11     (S)-nitrendipine            2      7.41%\n",
       "8   bendroflumethiazide            1      3.70%\n",
       "10     brilliant Blue G            1      3.70%\n",
       "13           eteplirsen            1      3.70%\n",
       "15         fenfluramine            1      3.70%"
      ]
     },
     "execution_count": 55,
     "metadata": {},
     "output_type": "execute_result"
    }
   ],
   "source": [
    "drug_candidate_df_dict = {\n",
    "    'Drug': [],\n",
    "    'Appearances': [],\n",
    "    'Percentage': []\n",
    "}\n",
    "for key, val in drug_candidates.items():\n",
    "    drug_candidate_df_dict['Drug'].append(key)\n",
    "    drug_candidate_df_dict['Appearances'].append(val)\n",
    "    drug_candidate_df_dict['Percentage'].append(val/symptoms.shape[0]*100)\n",
    "    \n",
    "drug_candidates_df = pd.DataFrame.from_dict(drug_candidate_df_dict)\n",
    "drug_candidates_df['Percentage'] = drug_candidates_df['Percentage'].transform(lambda x: '{:,.2f}%'.format(x))\n",
    "drug_candidates_df = drug_candidates_df.sort_values(by = ['Appearances'], ascending = False)\n",
    "\n",
    "drug_candidates_df.to_pickle(f'{pred_output_dir}/drug_candidates_{dataset_nr}_{embedding_method}.pkl')\n",
    "\n",
    "drug_candidates_df"
   ]
  },
  {
   "attachments": {},
   "cell_type": "markdown",
   "metadata": {},
   "source": [
    "## Component Analysis"
   ]
  },
  {
   "cell_type": "code",
   "execution_count": 57,
   "metadata": {},
   "outputs": [],
   "source": [
    "X_data = best_x.detach().cpu().numpy()\n",
    "np.save(f'{pred_output_dir}/trained_node_embeddings_{dataset_nr}_{embedding_method}.npy', X_data)"
   ]
  },
  {
   "cell_type": "code",
   "execution_count": 58,
   "metadata": {},
   "outputs": [],
   "source": [
    "z = StandardScaler().fit_transform(X_data)"
   ]
  },
  {
   "attachments": {},
   "cell_type": "markdown",
   "metadata": {},
   "source": [
    "### PCA"
   ]
  },
  {
   "cell_type": "code",
   "execution_count": 59,
   "metadata": {},
   "outputs": [
    {
     "data": {
      "text/html": [
       "<div>\n",
       "<style scoped>\n",
       "    .dataframe tbody tr th:only-of-type {\n",
       "        vertical-align: middle;\n",
       "    }\n",
       "\n",
       "    .dataframe tbody tr th {\n",
       "        vertical-align: top;\n",
       "    }\n",
       "\n",
       "    .dataframe thead th {\n",
       "        text-align: right;\n",
       "    }\n",
       "</style>\n",
       "<table border=\"1\" class=\"dataframe\">\n",
       "  <thead>\n",
       "    <tr style=\"text-align: right;\">\n",
       "      <th></th>\n",
       "      <th>principal component 1</th>\n",
       "      <th>principal component 2</th>\n",
       "    </tr>\n",
       "  </thead>\n",
       "  <tbody>\n",
       "    <tr>\n",
       "      <th>0</th>\n",
       "      <td>0.399232</td>\n",
       "      <td>0.221885</td>\n",
       "    </tr>\n",
       "    <tr>\n",
       "      <th>1</th>\n",
       "      <td>-1.488762</td>\n",
       "      <td>-1.114727</td>\n",
       "    </tr>\n",
       "    <tr>\n",
       "      <th>2</th>\n",
       "      <td>-1.520401</td>\n",
       "      <td>-1.851887</td>\n",
       "    </tr>\n",
       "    <tr>\n",
       "      <th>3</th>\n",
       "      <td>0.877865</td>\n",
       "      <td>1.286611</td>\n",
       "    </tr>\n",
       "    <tr>\n",
       "      <th>4</th>\n",
       "      <td>4.347893</td>\n",
       "      <td>0.734021</td>\n",
       "    </tr>\n",
       "    <tr>\n",
       "      <th>...</th>\n",
       "      <td>...</td>\n",
       "      <td>...</td>\n",
       "    </tr>\n",
       "    <tr>\n",
       "      <th>10029</th>\n",
       "      <td>3.544599</td>\n",
       "      <td>0.729211</td>\n",
       "    </tr>\n",
       "    <tr>\n",
       "      <th>10030</th>\n",
       "      <td>-0.843063</td>\n",
       "      <td>1.641950</td>\n",
       "    </tr>\n",
       "    <tr>\n",
       "      <th>10031</th>\n",
       "      <td>2.246732</td>\n",
       "      <td>0.430825</td>\n",
       "    </tr>\n",
       "    <tr>\n",
       "      <th>10032</th>\n",
       "      <td>-2.759604</td>\n",
       "      <td>-3.110021</td>\n",
       "    </tr>\n",
       "    <tr>\n",
       "      <th>10033</th>\n",
       "      <td>-1.527216</td>\n",
       "      <td>3.344184</td>\n",
       "    </tr>\n",
       "  </tbody>\n",
       "</table>\n",
       "<p>10034 rows × 2 columns</p>\n",
       "</div>"
      ],
      "text/plain": [
       "       principal component 1  principal component 2\n",
       "0                   0.399232               0.221885\n",
       "1                  -1.488762              -1.114727\n",
       "2                  -1.520401              -1.851887\n",
       "3                   0.877865               1.286611\n",
       "4                   4.347893               0.734021\n",
       "...                      ...                    ...\n",
       "10029               3.544599               0.729211\n",
       "10030              -0.843063               1.641950\n",
       "10031               2.246732               0.430825\n",
       "10032              -2.759604              -3.110021\n",
       "10033              -1.527216               3.344184\n",
       "\n",
       "[10034 rows x 2 columns]"
      ]
     },
     "execution_count": 59,
     "metadata": {},
     "output_type": "execute_result"
    }
   ],
   "source": [
    "pca = PCA(n_components=32)\n",
    "princ_comp = pca.fit_transform(z)\n",
    "princ_df = pd.DataFrame(data=princ_comp[:, [0,1]], columns=['principal component 1', 'principal component 2'])\n",
    "princ_df"
   ]
  },
  {
   "attachments": {},
   "cell_type": "markdown",
   "metadata": {},
   "source": [
    "Based on plot below, choose the number of components for PCA analysis yielding an amount of variance close to 1.0."
   ]
  },
  {
   "cell_type": "code",
   "execution_count": 60,
   "metadata": {},
   "outputs": [
    {
     "data": {
      "image/png": "[encoded data removed]",
      "text/plain": [
       "<Figure size 640x480 with 1 Axes>"
      ]
     },
     "metadata": {},
     "output_type": "display_data"
    }
   ],
   "source": [
    "plt.plot(np.cumsum(pca.explained_variance_ratio_))\n",
    "plt.xlabel('number of components')\n",
    "plt.ylabel('cumulative explained variance')\n",
    "plt.show()"
   ]
  },
  {
   "cell_type": "code",
   "execution_count": 61,
   "metadata": {},
   "outputs": [
    {
     "data": {
      "text/html": [
       "<div>\n",
       "<style scoped>\n",
       "    .dataframe tbody tr th:only-of-type {\n",
       "        vertical-align: middle;\n",
       "    }\n",
       "\n",
       "    .dataframe tbody tr th {\n",
       "        vertical-align: top;\n",
       "    }\n",
       "\n",
       "    .dataframe thead th {\n",
       "        text-align: right;\n",
       "    }\n",
       "</style>\n",
       "<table border=\"1\" class=\"dataframe\">\n",
       "  <thead>\n",
       "    <tr style=\"text-align: right;\">\n",
       "      <th></th>\n",
       "      <th>principal component 1</th>\n",
       "      <th>principal component 2</th>\n",
       "      <th>semantic</th>\n",
       "    </tr>\n",
       "  </thead>\n",
       "  <tbody>\n",
       "    <tr>\n",
       "      <th>0</th>\n",
       "      <td>0.399232</td>\n",
       "      <td>0.221885</td>\n",
       "      <td>ORTH</td>\n",
       "    </tr>\n",
       "    <tr>\n",
       "      <th>1</th>\n",
       "      <td>-1.488762</td>\n",
       "      <td>-1.114727</td>\n",
       "      <td>DISO</td>\n",
       "    </tr>\n",
       "    <tr>\n",
       "      <th>2</th>\n",
       "      <td>-1.520401</td>\n",
       "      <td>-1.851887</td>\n",
       "      <td>ORTH</td>\n",
       "    </tr>\n",
       "    <tr>\n",
       "      <th>3</th>\n",
       "      <td>0.877865</td>\n",
       "      <td>1.286611</td>\n",
       "      <td>DRUG</td>\n",
       "    </tr>\n",
       "    <tr>\n",
       "      <th>4</th>\n",
       "      <td>4.347893</td>\n",
       "      <td>0.734021</td>\n",
       "      <td>ORTH</td>\n",
       "    </tr>\n",
       "    <tr>\n",
       "      <th>...</th>\n",
       "      <td>...</td>\n",
       "      <td>...</td>\n",
       "      <td>...</td>\n",
       "    </tr>\n",
       "    <tr>\n",
       "      <th>10029</th>\n",
       "      <td>3.544599</td>\n",
       "      <td>0.729211</td>\n",
       "      <td>DISO</td>\n",
       "    </tr>\n",
       "    <tr>\n",
       "      <th>10030</th>\n",
       "      <td>-0.843063</td>\n",
       "      <td>1.641950</td>\n",
       "      <td>DISO</td>\n",
       "    </tr>\n",
       "    <tr>\n",
       "      <th>10031</th>\n",
       "      <td>2.246732</td>\n",
       "      <td>0.430825</td>\n",
       "      <td>DISO</td>\n",
       "    </tr>\n",
       "    <tr>\n",
       "      <th>10032</th>\n",
       "      <td>-2.759604</td>\n",
       "      <td>-3.110021</td>\n",
       "      <td>DISO</td>\n",
       "    </tr>\n",
       "    <tr>\n",
       "      <th>10033</th>\n",
       "      <td>-1.527216</td>\n",
       "      <td>3.344184</td>\n",
       "      <td>VARI</td>\n",
       "    </tr>\n",
       "  </tbody>\n",
       "</table>\n",
       "<p>10034 rows × 3 columns</p>\n",
       "</div>"
      ],
      "text/plain": [
       "       principal component 1  principal component 2 semantic\n",
       "0                   0.399232               0.221885     ORTH\n",
       "1                  -1.488762              -1.114727     DISO\n",
       "2                  -1.520401              -1.851887     ORTH\n",
       "3                   0.877865               1.286611     DRUG\n",
       "4                   4.347893               0.734021     ORTH\n",
       "...                      ...                    ...      ...\n",
       "10029               3.544599               0.729211     DISO\n",
       "10030              -0.843063               1.641950     DISO\n",
       "10031               2.246732               0.430825     DISO\n",
       "10032              -2.759604              -3.110021     DISO\n",
       "10033              -1.527216               3.344184     VARI\n",
       "\n",
       "[10034 rows x 3 columns]"
      ]
     },
     "execution_count": 61,
     "metadata": {},
     "output_type": "execute_result"
    }
   ],
   "source": [
    "pca_df = pd.concat([princ_df, nodes[['semantic']]], axis=1)\n",
    "pca_df"
   ]
  },
  {
   "cell_type": "code",
   "execution_count": 62,
   "metadata": {},
   "outputs": [
    {
     "data": {
      "image/png": "[encoded data removed]",
      "text/plain": [
       "<Figure size 800x800 with 1 Axes>"
      ]
     },
     "metadata": {},
     "output_type": "display_data"
    }
   ],
   "source": [
    "fig = plt.figure(figsize = (8,8))\n",
    "ax = fig.add_subplot(1, 1, 1)\n",
    "ax.set_xlabel('Principal Component 1', fontsize = 15)\n",
    "ax.set_ylabel('Principal Component 2', fontsize = 15)\n",
    "ax.set_title(f'Two components from 32-PCA on dataset {dataset_nr} with method {embedding_method}', fontsize = 16)\n",
    "\n",
    "unique_node_semantics = list(node_semantic_dict.values())\n",
    "colors = ['silver', 'indianred', 'peru', 'gold', 'olivedrab', 'cadetblue', 'skyblue', 'steelblue', 'royalblue', 'mediumpurple', 'palevioletred', 'lightpink']\n",
    "\n",
    "for target, color in zip(unique_node_semantics, colors):\n",
    "    indicesToKeep = pca_df['semantic'] == target\n",
    "    ax.scatter(pca_df.loc[indicesToKeep, 'principal component 1'], pca_df.loc[indicesToKeep, 'principal component 2'], c = color, s = 50)\n",
    "    \n",
    "ax.legend(unique_node_semantics)\n",
    "ax.grid()\n",
    "\n",
    "plt.show()"
   ]
  },
  {
   "attachments": {},
   "cell_type": "markdown",
   "metadata": {},
   "source": [
    "### t-SNE"
   ]
  },
  {
   "cell_type": "code",
   "execution_count": 63,
   "metadata": {},
   "outputs": [],
   "source": [
    "X_tsne = TSNE(learning_rate=100, perplexity=40).fit_transform(X_data)"
   ]
  },
  {
   "cell_type": "code",
   "execution_count": 64,
   "metadata": {},
   "outputs": [
    {
     "data": {
      "text/html": [
       "<div>\n",
       "<style scoped>\n",
       "    .dataframe tbody tr th:only-of-type {\n",
       "        vertical-align: middle;\n",
       "    }\n",
       "\n",
       "    .dataframe tbody tr th {\n",
       "        vertical-align: top;\n",
       "    }\n",
       "\n",
       "    .dataframe thead th {\n",
       "        text-align: right;\n",
       "    }\n",
       "</style>\n",
       "<table border=\"1\" class=\"dataframe\">\n",
       "  <thead>\n",
       "    <tr style=\"text-align: right;\">\n",
       "      <th></th>\n",
       "      <th>t-SNE 1</th>\n",
       "      <th>t-SNE 2</th>\n",
       "    </tr>\n",
       "  </thead>\n",
       "  <tbody>\n",
       "    <tr>\n",
       "      <th>0</th>\n",
       "      <td>2.067550</td>\n",
       "      <td>-33.969406</td>\n",
       "    </tr>\n",
       "    <tr>\n",
       "      <th>1</th>\n",
       "      <td>19.619593</td>\n",
       "      <td>-45.572536</td>\n",
       "    </tr>\n",
       "    <tr>\n",
       "      <th>2</th>\n",
       "      <td>-20.684351</td>\n",
       "      <td>-66.577965</td>\n",
       "    </tr>\n",
       "    <tr>\n",
       "      <th>3</th>\n",
       "      <td>1.319223</td>\n",
       "      <td>17.331585</td>\n",
       "    </tr>\n",
       "    <tr>\n",
       "      <th>4</th>\n",
       "      <td>9.055083</td>\n",
       "      <td>-13.951144</td>\n",
       "    </tr>\n",
       "    <tr>\n",
       "      <th>...</th>\n",
       "      <td>...</td>\n",
       "      <td>...</td>\n",
       "    </tr>\n",
       "    <tr>\n",
       "      <th>10029</th>\n",
       "      <td>19.043734</td>\n",
       "      <td>-7.039402</td>\n",
       "    </tr>\n",
       "    <tr>\n",
       "      <th>10030</th>\n",
       "      <td>19.705315</td>\n",
       "      <td>-72.690842</td>\n",
       "    </tr>\n",
       "    <tr>\n",
       "      <th>10031</th>\n",
       "      <td>37.149860</td>\n",
       "      <td>9.597997</td>\n",
       "    </tr>\n",
       "    <tr>\n",
       "      <th>10032</th>\n",
       "      <td>-49.721943</td>\n",
       "      <td>-42.688358</td>\n",
       "    </tr>\n",
       "    <tr>\n",
       "      <th>10033</th>\n",
       "      <td>-11.454991</td>\n",
       "      <td>63.193424</td>\n",
       "    </tr>\n",
       "  </tbody>\n",
       "</table>\n",
       "<p>10034 rows × 2 columns</p>\n",
       "</div>"
      ],
      "text/plain": [
       "         t-SNE 1    t-SNE 2\n",
       "0       2.067550 -33.969406\n",
       "1      19.619593 -45.572536\n",
       "2     -20.684351 -66.577965\n",
       "3       1.319223  17.331585\n",
       "4       9.055083 -13.951144\n",
       "...          ...        ...\n",
       "10029  19.043734  -7.039402\n",
       "10030  19.705315 -72.690842\n",
       "10031  37.149860   9.597997\n",
       "10032 -49.721943 -42.688358\n",
       "10033 -11.454991  63.193424\n",
       "\n",
       "[10034 rows x 2 columns]"
      ]
     },
     "execution_count": 64,
     "metadata": {},
     "output_type": "execute_result"
    }
   ],
   "source": [
    "comp_tsne = pd.DataFrame(data=X_tsne, columns=['t-SNE 1', 't-SNE 2'])\n",
    "comp_tsne"
   ]
  },
  {
   "cell_type": "code",
   "execution_count": 65,
   "metadata": {},
   "outputs": [
    {
     "data": {
      "text/html": [
       "<div>\n",
       "<style scoped>\n",
       "    .dataframe tbody tr th:only-of-type {\n",
       "        vertical-align: middle;\n",
       "    }\n",
       "\n",
       "    .dataframe tbody tr th {\n",
       "        vertical-align: top;\n",
       "    }\n",
       "\n",
       "    .dataframe thead th {\n",
       "        text-align: right;\n",
       "    }\n",
       "</style>\n",
       "<table border=\"1\" class=\"dataframe\">\n",
       "  <thead>\n",
       "    <tr style=\"text-align: right;\">\n",
       "      <th></th>\n",
       "      <th>t-SNE 1</th>\n",
       "      <th>t-SNE 2</th>\n",
       "      <th>semantic</th>\n",
       "    </tr>\n",
       "  </thead>\n",
       "  <tbody>\n",
       "    <tr>\n",
       "      <th>0</th>\n",
       "      <td>2.067550</td>\n",
       "      <td>-33.969406</td>\n",
       "      <td>ORTH</td>\n",
       "    </tr>\n",
       "    <tr>\n",
       "      <th>1</th>\n",
       "      <td>19.619593</td>\n",
       "      <td>-45.572536</td>\n",
       "      <td>DISO</td>\n",
       "    </tr>\n",
       "    <tr>\n",
       "      <th>2</th>\n",
       "      <td>-20.684351</td>\n",
       "      <td>-66.577965</td>\n",
       "      <td>ORTH</td>\n",
       "    </tr>\n",
       "    <tr>\n",
       "      <th>3</th>\n",
       "      <td>1.319223</td>\n",
       "      <td>17.331585</td>\n",
       "      <td>DRUG</td>\n",
       "    </tr>\n",
       "    <tr>\n",
       "      <th>4</th>\n",
       "      <td>9.055083</td>\n",
       "      <td>-13.951144</td>\n",
       "      <td>ORTH</td>\n",
       "    </tr>\n",
       "    <tr>\n",
       "      <th>...</th>\n",
       "      <td>...</td>\n",
       "      <td>...</td>\n",
       "      <td>...</td>\n",
       "    </tr>\n",
       "    <tr>\n",
       "      <th>10029</th>\n",
       "      <td>19.043734</td>\n",
       "      <td>-7.039402</td>\n",
       "      <td>DISO</td>\n",
       "    </tr>\n",
       "    <tr>\n",
       "      <th>10030</th>\n",
       "      <td>19.705315</td>\n",
       "      <td>-72.690842</td>\n",
       "      <td>DISO</td>\n",
       "    </tr>\n",
       "    <tr>\n",
       "      <th>10031</th>\n",
       "      <td>37.149860</td>\n",
       "      <td>9.597997</td>\n",
       "      <td>DISO</td>\n",
       "    </tr>\n",
       "    <tr>\n",
       "      <th>10032</th>\n",
       "      <td>-49.721943</td>\n",
       "      <td>-42.688358</td>\n",
       "      <td>DISO</td>\n",
       "    </tr>\n",
       "    <tr>\n",
       "      <th>10033</th>\n",
       "      <td>-11.454991</td>\n",
       "      <td>63.193424</td>\n",
       "      <td>VARI</td>\n",
       "    </tr>\n",
       "  </tbody>\n",
       "</table>\n",
       "<p>10034 rows × 3 columns</p>\n",
       "</div>"
      ],
      "text/plain": [
       "         t-SNE 1    t-SNE 2 semantic\n",
       "0       2.067550 -33.969406     ORTH\n",
       "1      19.619593 -45.572536     DISO\n",
       "2     -20.684351 -66.577965     ORTH\n",
       "3       1.319223  17.331585     DRUG\n",
       "4       9.055083 -13.951144     ORTH\n",
       "...          ...        ...      ...\n",
       "10029  19.043734  -7.039402     DISO\n",
       "10030  19.705315 -72.690842     DISO\n",
       "10031  37.149860   9.597997     DISO\n",
       "10032 -49.721943 -42.688358     DISO\n",
       "10033 -11.454991  63.193424     VARI\n",
       "\n",
       "[10034 rows x 3 columns]"
      ]
     },
     "execution_count": 65,
     "metadata": {},
     "output_type": "execute_result"
    }
   ],
   "source": [
    "tsne_df = pd.concat([comp_tsne, nodes[['semantic']]], axis=1)\n",
    "tsne_df"
   ]
  },
  {
   "cell_type": "code",
   "execution_count": 66,
   "metadata": {},
   "outputs": [
    {
     "data": {
      "image/png": "[encoded data removed]",
      "text/plain": [
       "<Figure size 800x800 with 1 Axes>"
      ]
     },
     "metadata": {},
     "output_type": "display_data"
    }
   ],
   "source": [
    "fig = plt.figure(figsize = (8,8))\n",
    "ax = fig.add_subplot(1, 1, 1)\n",
    "ax.set_xlabel('Principal Component 1', fontsize = 15)\n",
    "ax.set_ylabel('Principal Component 2', fontsize = 15)\n",
    "ax.set_title(f'Two component t-SNE on dataset {dataset_nr} with method {embedding_method}', fontsize = 16)\n",
    "\n",
    "unique_node_semantics = list(node_semantic_dict.values())\n",
    "colors = ['silver', 'indianred', 'peru', 'gold', 'olivedrab', 'cadetblue', 'skyblue', 'steelblue', 'royalblue', 'mediumpurple', 'palevioletred', 'lightpink']\n",
    "\n",
    "for target, color in zip(unique_node_semantics, colors):\n",
    "    indicesToKeep = tsne_df['semantic'] == target\n",
    "    ax.scatter(tsne_df.loc[indicesToKeep, 't-SNE 1'], tsne_df.loc[indicesToKeep, 't-SNE 2'], c = color, s = 50)\n",
    "    \n",
    "ax.legend(unique_node_semantics)\n",
    "ax.grid()\n",
    "\n",
    "plt.show()"
   ]
  }
 ],
 "metadata": {
  "kernelspec": {
   "display_name": "xaifo",
   "language": "python",
   "name": "python3"
  },
  "language_info": {
   "codemirror_mode": {
    "name": "ipython",
    "version": 3
   },
   "file_extension": ".py",
   "mimetype": "text/x-python",
   "name": "python",
   "nbconvert_exporter": "python",
   "pygments_lexer": "ipython3",
   "version": "3.10.11"
  },
  "orig_nbformat": 4
 },
 "nbformat": 4,
 "nbformat_minor": 2
}
