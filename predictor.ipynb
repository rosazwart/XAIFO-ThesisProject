{
 "cells": [
  {
   "attachments": {},
   "cell_type": "markdown",
   "metadata": {},
   "source": [
    "Adapted by Rosa Zwart from Jupyter Notebooks found at https://github.com/PPerdomoQ/rare-disease-explainer"
   ]
  },
  {
   "attachments": {},
   "cell_type": "markdown",
   "metadata": {},
   "source": [
    "# Import Libraries"
   ]
  },
  {
   "attachments": {},
   "cell_type": "markdown",
   "metadata": {},
   "source": [
    "Package                       Version\n",
    "----------------------------- ----------\n",
    "aiosignal                     1.3.1\n",
    "anyio                         3.6.2\n",
    "argon2-cffi                   21.3.0\n",
    "argon2-cffi-bindings          21.2.0\n",
    "arrow                         1.2.3\n",
    "asttokens                     2.2.1\n",
    "attrs                         22.2.0\n",
    "backcall                      0.2.0\n",
    "backports.functools-lru-cache 1.6.4\n",
    "beautifulsoup4                4.12.2\n",
    "bleach                        6.0.0\n",
    "certifi                       2023.5.7\n",
    "cffi                          1.15.1\n",
    "charset-normalizer            3.1.0\n",
    "click                         8.1.3\n",
    "colorama                      0.4.6\n",
    "comm                          0.1.3\n",
    "contourpy                     1.0.7\n",
    "cycler                        0.11.0\n",
    "debugpy                       1.6.6\n",
    "decorator                     5.1.1\n",
    "deepsnap                      0.2.1\n",
    "defusedxml                    0.7.1\n",
    "distlib                       0.3.6\n",
    "executing                     1.2.0\n",
    "fastjsonschema                2.16.3\n",
    "filelock                      3.12.0\n",
    "fonttools                     4.39.3\n",
    "fqdn                          1.5.1\n",
    "frozenlist                    1.3.3\n",
    "gensim                        4.3.1\n",
    "grpcio                        1.54.0\n",
    "idna                          3.4\n",
    "importlib-metadata            6.6.0\n",
    "ipykernel                     6.20.2\n",
    "ipython                       8.13.2\n",
    "ipython-genutils              0.2.0\n",
    "ipywidgets                    8.0.6\n",
    "isoduration                   20.11.0\n",
    "jedi                          0.18.2\n",
    "Jinja2                        3.1.2\n",
    "joblib                        1.2.0\n",
    "jsonpointer                   2.3\n",
    "jsonschema                    4.17.3\n",
    "jupyter                       1.0.0\n",
    "jupyter_client                8.2.0\n",
    "jupyter-console               6.6.3\n",
    "jupyter_core                  5.3.0\n",
    "jupyter-events                0.6.3\n",
    "jupyter_server                2.5.0\n",
    "jupyter_server_terminals      0.4.4\n",
    "jupyterlab-pygments           0.2.2\n",
    "jupyterlab-widgets            3.0.7\n",
    "kiwisolver                    1.4.4\n",
    "MarkupSafe                    2.1.2\n",
    "matplotlib                    3.7.1\n",
    "matplotlib-inline             0.1.6\n",
    "mistune                       2.0.5\n",
    "msgpack                       1.0.5\n",
    "nbclassic                     1.0.0\n",
    "nbclient                      0.7.4\n",
    "nbconvert                     7.4.0\n",
    "nbformat                      5.8.0\n",
    "nest-asyncio                  1.5.6\n",
    "networkx                      3.0\n",
    "notebook                      6.5.4\n",
    "notebook_shim                 0.2.3\n",
    "numpy                         1.24.3\n",
    "packaging                     23.1\n",
    "pandas                        1.3.5\n",
    "pandocfilters                 1.5.0\n",
    "parso                         0.8.3\n",
    "pickleshare                   0.7.5\n",
    "Pillow                        9.5.0\n",
    "pip                           23.1.2\n",
    "platformdirs                  3.5.0\n",
    "prometheus-client             0.16.0\n",
    "prompt-toolkit                3.0.38\n",
    "protobuf                      4.23.0\n",
    "psutil                        5.9.1\n",
    "pure-eval                     0.2.2\n",
    "pycparser                     2.21\n",
    "Pygments                      2.15.1\n",
    "pyparsing                     3.0.9\n",
    "pyrsistent                    0.19.3\n",
    "python-dateutil               2.8.2\n",
    "python-json-logger            2.0.7\n",
    "pytz                          2023.3\n",
    "pywin32                       303\n",
    "pywinpty                      2.0.10\n",
    "PyYAML                        6.0\n",
    "pyzmq                         25.0.2\n",
    "qtconsole                     5.4.3\n",
    "QtPy                          2.3.1\n",
    "ray                           2.3.1\n",
    "requests                      2.30.0\n",
    "rfc3339-validator             0.1.4\n",
    "rfc3986-validator             0.1.1\n",
    "scikit-learn                  1.2.2\n",
    "scipy                         1.10.1\n",
    "Send2Trash                    1.8.2\n",
    "setuptools                    66.0.0\n",
    "six                           1.16.0\n",
    "smart-open                    6.3.0\n",
    "sniffio                       1.3.0\n",
    "soupsieve                     2.4.1\n",
    "stack-data                    0.6.2\n",
    "tabulate                      0.9.0\n",
    "terminado                     0.17.1\n",
    "threadpoolctl                 3.1.0\n",
    "tinycss2                      1.2.1\n",
    "torch                         1.11.0+cpu\n",
    "torch-cluster                 1.6.0\n",
    "torch-geometric               2.0.4\n",
    "torch-scatter                 2.0.9\n",
    "torch-sparse                  0.6.13\n",
    "torch-spline-conv             1.2.2\n",
    "torchaudio                    0.11.0+cpu\n",
    "torchvision                   0.12.0+cpu\n",
    "tornado                       6.2\n",
    "tqdm                          4.65.0\n",
    "traitlets                     5.9.0\n",
    "typing_extensions             4.5.0\n",
    "tzdata                        2023.3\n",
    "uri-template                  1.2.0\n",
    "urllib3                       2.0.2\n",
    "virtualenv                    20.23.0\n",
    "wcwidth                       0.2.6\n",
    "webcolors                     1.13\n",
    "webencodings                  0.5.1\n",
    "websocket-client              1.5.1\n",
    "wheel                         0.38.4\n",
    "widgetsnbextension            4.0.7\n",
    "zipp                          3.15.0"
   ]
  },
  {
   "cell_type": "code",
   "execution_count": 1,
   "metadata": {},
   "outputs": [],
   "source": [
    "import pandas as pd\n",
    "import numpy as np\n",
    "import networkx as nx\n",
    "import pickle\n",
    "\n",
    "from gnn.linkpred_model import LinkPredModel, train, test\n",
    "\n",
    "import torch\n",
    "from torch.utils.data import DataLoader\n",
    "\n",
    "from deepsnap.dataset import GraphDataset\n",
    "from deepsnap.batch import Batch\n",
    "from deepsnap.graph import Graph\n",
    "\n",
    "from sklearn.metrics import roc_auc_score, roc_curve, f1_score, classification_report, confusion_matrix\n",
    "import matplotlib.pyplot as plt\n",
    "\n",
    "from gensim.models import KeyedVectors\n",
    "\n",
    "from sklearn.preprocessing import StandardScaler\n",
    "from sklearn.decomposition import PCA\n",
    "from sklearn.manifold import TSNE"
   ]
  },
  {
   "cell_type": "code",
   "execution_count": 2,
   "metadata": {},
   "outputs": [
    {
     "name": "stdout",
     "output_type": "stream",
     "text": [
      "Using device: cpu\n"
     ]
    }
   ],
   "source": [
    "torch_device = torch.device('cuda' if torch.cuda.is_available() else 'cpu')\n",
    "print('Using device:', torch_device)"
   ]
  },
  {
   "attachments": {},
   "cell_type": "markdown",
   "metadata": {},
   "source": [
    "Specify which dataset is used, 1 (original knowledge graph) or 2 (restructured knowledge graph)"
   ]
  },
  {
   "cell_type": "code",
   "execution_count": 3,
   "metadata": {},
   "outputs": [],
   "source": [
    "dataset_nr = 2\n",
    "assert dataset_nr == 1 or 2"
   ]
  },
  {
   "cell_type": "markdown",
   "metadata": {},
   "source": [
    "Specify which embedding method is used"
   ]
  },
  {
   "cell_type": "code",
   "execution_count": 4,
   "metadata": {},
   "outputs": [],
   "source": [
    "embedding_method = 'e2v'\n",
    "assert embedding_method == 'e2v' or 'm2v'"
   ]
  },
  {
   "attachments": {},
   "cell_type": "markdown",
   "metadata": {},
   "source": [
    "# Load Data"
   ]
  },
  {
   "cell_type": "markdown",
   "metadata": {},
   "source": [
    "Load all nodes"
   ]
  },
  {
   "cell_type": "code",
   "execution_count": 5,
   "metadata": {},
   "outputs": [
    {
     "data": {
      "text/html": [
       "<div>\n",
       "<style scoped>\n",
       "    .dataframe tbody tr th:only-of-type {\n",
       "        vertical-align: middle;\n",
       "    }\n",
       "\n",
       "    .dataframe tbody tr th {\n",
       "        vertical-align: top;\n",
       "    }\n",
       "\n",
       "    .dataframe thead th {\n",
       "        text-align: right;\n",
       "    }\n",
       "</style>\n",
       "<table border=\"1\" class=\"dataframe\">\n",
       "  <thead>\n",
       "    <tr style=\"text-align: right;\">\n",
       "      <th></th>\n",
       "      <th>id</th>\n",
       "      <th>semantic</th>\n",
       "      <th>label</th>\n",
       "      <th>semantic_id</th>\n",
       "    </tr>\n",
       "  </thead>\n",
       "  <tbody>\n",
       "    <tr>\n",
       "      <th>0</th>\n",
       "      <td>MP:0004187</td>\n",
       "      <td>phenotype</td>\n",
       "      <td>cardia bifida</td>\n",
       "      <td>9</td>\n",
       "    </tr>\n",
       "    <tr>\n",
       "      <th>1</th>\n",
       "      <td>ZP:0100138</td>\n",
       "      <td>phenotype</td>\n",
       "      <td>muscle tendon junction myotome increased amoun...</td>\n",
       "      <td>9</td>\n",
       "    </tr>\n",
       "    <tr>\n",
       "      <th>2</th>\n",
       "      <td>MGI:1346525</td>\n",
       "      <td>gene</td>\n",
       "      <td>Sgcd</td>\n",
       "      <td>5</td>\n",
       "    </tr>\n",
       "    <tr>\n",
       "      <th>3</th>\n",
       "      <td>OMIM:300377.0044</td>\n",
       "      <td>variant</td>\n",
       "      <td>DMD, LYS770TER</td>\n",
       "      <td>11</td>\n",
       "    </tr>\n",
       "    <tr>\n",
       "      <th>4</th>\n",
       "      <td>ZP:0002210</td>\n",
       "      <td>phenotype</td>\n",
       "      <td>posterior lateral line neuromast primordium mi...</td>\n",
       "      <td>9</td>\n",
       "    </tr>\n",
       "    <tr>\n",
       "      <th>...</th>\n",
       "      <td>...</td>\n",
       "      <td>...</td>\n",
       "      <td>...</td>\n",
       "      <td>...</td>\n",
       "    </tr>\n",
       "    <tr>\n",
       "      <th>10270</th>\n",
       "      <td>ZP:0014934</td>\n",
       "      <td>phenotype</td>\n",
       "      <td>atrioventricular valve development process qua...</td>\n",
       "      <td>9</td>\n",
       "    </tr>\n",
       "    <tr>\n",
       "      <th>10271</th>\n",
       "      <td>ENSEMBL:ENSCAFG00000011207</td>\n",
       "      <td>gene</td>\n",
       "      <td>ENSEMBL:ENSCAFG00000011207</td>\n",
       "      <td>5</td>\n",
       "    </tr>\n",
       "    <tr>\n",
       "      <th>10272</th>\n",
       "      <td>ENSEMBL:ENSXETG00000039922</td>\n",
       "      <td>gene</td>\n",
       "      <td>ENSEMBL:ENSXETG00000039922</td>\n",
       "      <td>5</td>\n",
       "    </tr>\n",
       "    <tr>\n",
       "      <th>10273</th>\n",
       "      <td>ENSEMBL:ENSACAG00000010058</td>\n",
       "      <td>gene</td>\n",
       "      <td>ENSEMBL:ENSACAG00000010058</td>\n",
       "      <td>5</td>\n",
       "    </tr>\n",
       "    <tr>\n",
       "      <th>10274</th>\n",
       "      <td>WBPhenotype:0000019</td>\n",
       "      <td>phenotype</td>\n",
       "      <td>pharyngeal pumping reduced</td>\n",
       "      <td>9</td>\n",
       "    </tr>\n",
       "  </tbody>\n",
       "</table>\n",
       "<p>10275 rows × 4 columns</p>\n",
       "</div>"
      ],
      "text/plain": [
       "                               id   semantic  \\\n",
       "0                      MP:0004187  phenotype   \n",
       "1                      ZP:0100138  phenotype   \n",
       "2                     MGI:1346525       gene   \n",
       "3                OMIM:300377.0044    variant   \n",
       "4                      ZP:0002210  phenotype   \n",
       "...                           ...        ...   \n",
       "10270                  ZP:0014934  phenotype   \n",
       "10271  ENSEMBL:ENSCAFG00000011207       gene   \n",
       "10272  ENSEMBL:ENSXETG00000039922       gene   \n",
       "10273  ENSEMBL:ENSACAG00000010058       gene   \n",
       "10274         WBPhenotype:0000019  phenotype   \n",
       "\n",
       "                                                   label  semantic_id  \n",
       "0                                          cardia bifida            9  \n",
       "1      muscle tendon junction myotome increased amoun...            9  \n",
       "2                                                   Sgcd            5  \n",
       "3                                         DMD, LYS770TER           11  \n",
       "4      posterior lateral line neuromast primordium mi...            9  \n",
       "...                                                  ...          ...  \n",
       "10270  atrioventricular valve development process qua...            9  \n",
       "10271                         ENSEMBL:ENSCAFG00000011207            5  \n",
       "10272                         ENSEMBL:ENSXETG00000039922            5  \n",
       "10273                         ENSEMBL:ENSACAG00000010058            5  \n",
       "10274                         pharyngeal pumping reduced            9  \n",
       "\n",
       "[10275 rows x 4 columns]"
      ]
     },
     "execution_count": 5,
     "metadata": {},
     "output_type": "execute_result"
    }
   ],
   "source": [
    "nodes = pd.read_csv(f'output/indexed_nodes_{dataset_nr}.csv')\n",
    "nodes.drop('index_id', axis=1, inplace=True)\n",
    "nodes['semantic'] = nodes['semantic'].astype('category')\n",
    "nodes"
   ]
  },
  {
   "cell_type": "markdown",
   "metadata": {},
   "source": [
    "The dictionary below can be used as mapping between generated semantic ID and semantic group label."
   ]
  },
  {
   "cell_type": "code",
   "execution_count": 6,
   "metadata": {},
   "outputs": [
    {
     "data": {
      "text/plain": [
       "{0: 'biological artifact',\n",
       " 1: 'biological process',\n",
       " 2: 'cellular component',\n",
       " 3: 'disease',\n",
       " 4: 'drug',\n",
       " 5: 'gene',\n",
       " 6: 'gene product',\n",
       " 7: 'genotype',\n",
       " 8: 'molecular function',\n",
       " 9: 'phenotype',\n",
       " 10: 'taxon',\n",
       " 11: 'variant'}"
      ]
     },
     "execution_count": 6,
     "metadata": {},
     "output_type": "execute_result"
    }
   ],
   "source": [
    "node_semantic_dict = dict(enumerate(nodes['semantic'].cat.categories))\n",
    "node_semantic_dict"
   ]
  },
  {
   "cell_type": "markdown",
   "metadata": {},
   "source": [
    "Load the node embeddings"
   ]
  },
  {
   "cell_type": "code",
   "execution_count": 7,
   "metadata": {},
   "outputs": [],
   "source": [
    "def loadEdge2VecEmbedding(): \n",
    "    node_feat = KeyedVectors.load(f'output/w2v_{dataset_nr}.dvectors', mmap='r')\n",
    "    e2v_embedding = pd.DataFrame(columns = ['Node', 'Embedding'])\n",
    "    for idx, key in enumerate(node_feat.index_to_key):\n",
    "        e2v_embedding.loc[int(key)] = pd.Series({'Node':int(key), 'Embedding':list(node_feat[key])})\n",
    "        \n",
    "    return e2v_embedding.sort_values('Node')\n",
    "\n",
    "def loadMetapath2VecEmbedding():\n",
    "    metapath2vec_embedding = pd.read_csv(f'output/metapath2vec_embedding_{dataset_nr}.csv')\n",
    "    metapath2vec_embedding['Embedding'] = metapath2vec_embedding.values.tolist()\n",
    "    metapath2vec_embedding = metapath2vec_embedding[['Embedding']]\n",
    "    metapath2vec_embedding['Node'] = metapath2vec_embedding.index\n",
    "    return metapath2vec_embedding[['Node', 'Embedding']]"
   ]
  },
  {
   "cell_type": "code",
   "execution_count": 8,
   "metadata": {},
   "outputs": [
    {
     "data": {
      "text/html": [
       "<div>\n",
       "<style scoped>\n",
       "    .dataframe tbody tr th:only-of-type {\n",
       "        vertical-align: middle;\n",
       "    }\n",
       "\n",
       "    .dataframe tbody tr th {\n",
       "        vertical-align: top;\n",
       "    }\n",
       "\n",
       "    .dataframe thead th {\n",
       "        text-align: right;\n",
       "    }\n",
       "</style>\n",
       "<table border=\"1\" class=\"dataframe\">\n",
       "  <thead>\n",
       "    <tr style=\"text-align: right;\">\n",
       "      <th></th>\n",
       "      <th>Node</th>\n",
       "      <th>Embedding</th>\n",
       "    </tr>\n",
       "  </thead>\n",
       "  <tbody>\n",
       "    <tr>\n",
       "      <th>0</th>\n",
       "      <td>0</td>\n",
       "      <td>[0.3984332, -0.31286958, 0.5400291, 0.50470465...</td>\n",
       "    </tr>\n",
       "    <tr>\n",
       "      <th>1</th>\n",
       "      <td>1</td>\n",
       "      <td>[0.44448715, -0.21083395, 0.77053374, 0.059516...</td>\n",
       "    </tr>\n",
       "    <tr>\n",
       "      <th>2</th>\n",
       "      <td>2</td>\n",
       "      <td>[0.06366989, 0.3194347, 1.0812027, 0.20341216,...</td>\n",
       "    </tr>\n",
       "    <tr>\n",
       "      <th>3</th>\n",
       "      <td>3</td>\n",
       "      <td>[0.1271398, 0.03148787, 0.27353236, 0.39875212...</td>\n",
       "    </tr>\n",
       "    <tr>\n",
       "      <th>4</th>\n",
       "      <td>4</td>\n",
       "      <td>[0.5111069, -0.14326268, 0.4403008, 0.511082, ...</td>\n",
       "    </tr>\n",
       "    <tr>\n",
       "      <th>...</th>\n",
       "      <td>...</td>\n",
       "      <td>...</td>\n",
       "    </tr>\n",
       "    <tr>\n",
       "      <th>10270</th>\n",
       "      <td>10270</td>\n",
       "      <td>[0.14994565, 0.14421983, 0.35291353, 0.1048778...</td>\n",
       "    </tr>\n",
       "    <tr>\n",
       "      <th>10271</th>\n",
       "      <td>10271</td>\n",
       "      <td>[0.57958156, 0.07746426, 0.004016864, -0.28448...</td>\n",
       "    </tr>\n",
       "    <tr>\n",
       "      <th>10272</th>\n",
       "      <td>10272</td>\n",
       "      <td>[0.74247813, -0.6906312, 0.66188675, 0.8234299...</td>\n",
       "    </tr>\n",
       "    <tr>\n",
       "      <th>10273</th>\n",
       "      <td>10273</td>\n",
       "      <td>[-0.22202384, -0.9451154, 0.3080682, 0.2242091...</td>\n",
       "    </tr>\n",
       "    <tr>\n",
       "      <th>10274</th>\n",
       "      <td>10274</td>\n",
       "      <td>[0.27521524, -0.017406194, -0.11163712, 0.4879...</td>\n",
       "    </tr>\n",
       "  </tbody>\n",
       "</table>\n",
       "<p>10275 rows × 2 columns</p>\n",
       "</div>"
      ],
      "text/plain": [
       "        Node                                          Embedding\n",
       "0          0  [0.3984332, -0.31286958, 0.5400291, 0.50470465...\n",
       "1          1  [0.44448715, -0.21083395, 0.77053374, 0.059516...\n",
       "2          2  [0.06366989, 0.3194347, 1.0812027, 0.20341216,...\n",
       "3          3  [0.1271398, 0.03148787, 0.27353236, 0.39875212...\n",
       "4          4  [0.5111069, -0.14326268, 0.4403008, 0.511082, ...\n",
       "...      ...                                                ...\n",
       "10270  10270  [0.14994565, 0.14421983, 0.35291353, 0.1048778...\n",
       "10271  10271  [0.57958156, 0.07746426, 0.004016864, -0.28448...\n",
       "10272  10272  [0.74247813, -0.6906312, 0.66188675, 0.8234299...\n",
       "10273  10273  [-0.22202384, -0.9451154, 0.3080682, 0.2242091...\n",
       "10274  10274  [0.27521524, -0.017406194, -0.11163712, 0.4879...\n",
       "\n",
       "[10275 rows x 2 columns]"
      ]
     },
     "execution_count": 8,
     "metadata": {},
     "output_type": "execute_result"
    }
   ],
   "source": [
    "if embedding_method == 'e2v':\n",
    "    embedding = loadEdge2VecEmbedding()\n",
    "else:\n",
    "    embedding = loadMetapath2VecEmbedding()\n",
    "    \n",
    "embedding"
   ]
  },
  {
   "cell_type": "markdown",
   "metadata": {},
   "source": [
    "Load the edges"
   ]
  },
  {
   "cell_type": "code",
   "execution_count": 9,
   "metadata": {},
   "outputs": [
    {
     "data": {
      "text/html": [
       "<div>\n",
       "<style scoped>\n",
       "    .dataframe tbody tr th:only-of-type {\n",
       "        vertical-align: middle;\n",
       "    }\n",
       "\n",
       "    .dataframe tbody tr th {\n",
       "        vertical-align: top;\n",
       "    }\n",
       "\n",
       "    .dataframe thead th {\n",
       "        text-align: right;\n",
       "    }\n",
       "</style>\n",
       "<table border=\"1\" class=\"dataframe\">\n",
       "  <thead>\n",
       "    <tr style=\"text-align: right;\">\n",
       "      <th></th>\n",
       "      <th>head</th>\n",
       "      <th>label_head</th>\n",
       "      <th>class_head</th>\n",
       "      <th>index_head</th>\n",
       "      <th>relation</th>\n",
       "      <th>tail</th>\n",
       "      <th>label_tail</th>\n",
       "      <th>class_tail</th>\n",
       "      <th>index_tail</th>\n",
       "      <th>type</th>\n",
       "    </tr>\n",
       "  </thead>\n",
       "  <tbody>\n",
       "    <tr>\n",
       "      <th>0</th>\n",
       "      <td>WormBase:WBGene00006787</td>\n",
       "      <td>unc-52</td>\n",
       "      <td>5</td>\n",
       "      <td>304</td>\n",
       "      <td>interacts with</td>\n",
       "      <td>WormBase:WBGene00003929</td>\n",
       "      <td>pat-2</td>\n",
       "      <td>5</td>\n",
       "      <td>1542</td>\n",
       "      <td>0</td>\n",
       "    </tr>\n",
       "    <tr>\n",
       "      <th>1</th>\n",
       "      <td>WormBase:WBGene00006787</td>\n",
       "      <td>unc-52</td>\n",
       "      <td>5</td>\n",
       "      <td>304</td>\n",
       "      <td>interacts with</td>\n",
       "      <td>WormBase:WBGene00006789</td>\n",
       "      <td>unc-54</td>\n",
       "      <td>5</td>\n",
       "      <td>6544</td>\n",
       "      <td>0</td>\n",
       "    </tr>\n",
       "    <tr>\n",
       "      <th>2</th>\n",
       "      <td>WormBase:WBGene00006787</td>\n",
       "      <td>unc-52</td>\n",
       "      <td>5</td>\n",
       "      <td>304</td>\n",
       "      <td>in orthology relationship with</td>\n",
       "      <td>ENSEMBL:ENSSSCG00000015555</td>\n",
       "      <td>LAMC1</td>\n",
       "      <td>5</td>\n",
       "      <td>9268</td>\n",
       "      <td>1</td>\n",
       "    </tr>\n",
       "    <tr>\n",
       "      <th>3</th>\n",
       "      <td>WormBase:WBGene00006787</td>\n",
       "      <td>unc-52</td>\n",
       "      <td>5</td>\n",
       "      <td>304</td>\n",
       "      <td>in orthology relationship with</td>\n",
       "      <td>ZFIN:ZDB-GENE-021226-3</td>\n",
       "      <td>lamc1</td>\n",
       "      <td>5</td>\n",
       "      <td>5387</td>\n",
       "      <td>1</td>\n",
       "    </tr>\n",
       "    <tr>\n",
       "      <th>4</th>\n",
       "      <td>WormBase:WBGene00006787</td>\n",
       "      <td>unc-52</td>\n",
       "      <td>5</td>\n",
       "      <td>304</td>\n",
       "      <td>in orthology relationship with</td>\n",
       "      <td>ENSEMBL:ENSOANG00000001050</td>\n",
       "      <td>ENSEMBL:ENSOANG00000001050</td>\n",
       "      <td>5</td>\n",
       "      <td>2204</td>\n",
       "      <td>1</td>\n",
       "    </tr>\n",
       "    <tr>\n",
       "      <th>...</th>\n",
       "      <td>...</td>\n",
       "      <td>...</td>\n",
       "      <td>...</td>\n",
       "      <td>...</td>\n",
       "      <td>...</td>\n",
       "      <td>...</td>\n",
       "      <td>...</td>\n",
       "      <td>...</td>\n",
       "      <td>...</td>\n",
       "      <td>...</td>\n",
       "    </tr>\n",
       "    <tr>\n",
       "      <th>85987</th>\n",
       "      <td>458</td>\n",
       "      <td>scopolamine butylbromide</td>\n",
       "      <td>4</td>\n",
       "      <td>5945</td>\n",
       "      <td>targets</td>\n",
       "      <td>P11229</td>\n",
       "      <td>Muscarinic acetylcholine receptor M1</td>\n",
       "      <td>6</td>\n",
       "      <td>5919</td>\n",
       "      <td>17</td>\n",
       "    </tr>\n",
       "    <tr>\n",
       "      <th>85988</th>\n",
       "      <td>OMIM:300377.0080</td>\n",
       "      <td>DMD, IVS62, A-G, -285</td>\n",
       "      <td>11</td>\n",
       "      <td>1578</td>\n",
       "      <td>is allele of</td>\n",
       "      <td>HGNC:2928</td>\n",
       "      <td>DMD</td>\n",
       "      <td>5</td>\n",
       "      <td>3310</td>\n",
       "      <td>15</td>\n",
       "    </tr>\n",
       "    <tr>\n",
       "      <th>85989</th>\n",
       "      <td>5297</td>\n",
       "      <td>dacomitinib</td>\n",
       "      <td>4</td>\n",
       "      <td>8798</td>\n",
       "      <td>targets</td>\n",
       "      <td>P12931</td>\n",
       "      <td>Proto-oncogene tyrosine-protein kinase Src</td>\n",
       "      <td>6</td>\n",
       "      <td>2379</td>\n",
       "      <td>17</td>\n",
       "    </tr>\n",
       "    <tr>\n",
       "      <th>85990</th>\n",
       "      <td>ClinVarVariant:981988</td>\n",
       "      <td>NC_000023.11:g.(31875374_31929595)_(31968515_3...</td>\n",
       "      <td>11</td>\n",
       "      <td>8189</td>\n",
       "      <td>has affected feature</td>\n",
       "      <td>HGNC:2928</td>\n",
       "      <td>DMD</td>\n",
       "      <td>5</td>\n",
       "      <td>3310</td>\n",
       "      <td>11</td>\n",
       "    </tr>\n",
       "    <tr>\n",
       "      <th>85991</th>\n",
       "      <td>ClinVarVariant:584105</td>\n",
       "      <td>NC_000023.11:g.(?_32595737)_(32699313_?)del</td>\n",
       "      <td>11</td>\n",
       "      <td>9866</td>\n",
       "      <td>causes condition</td>\n",
       "      <td>MONDO:0010679</td>\n",
       "      <td>Duchenne muscular dystrophy</td>\n",
       "      <td>3</td>\n",
       "      <td>1913</td>\n",
       "      <td>2</td>\n",
       "    </tr>\n",
       "  </tbody>\n",
       "</table>\n",
       "<p>85992 rows × 10 columns</p>\n",
       "</div>"
      ],
      "text/plain": [
       "                          head  \\\n",
       "0      WormBase:WBGene00006787   \n",
       "1      WormBase:WBGene00006787   \n",
       "2      WormBase:WBGene00006787   \n",
       "3      WormBase:WBGene00006787   \n",
       "4      WormBase:WBGene00006787   \n",
       "...                        ...   \n",
       "85987                      458   \n",
       "85988         OMIM:300377.0080   \n",
       "85989                     5297   \n",
       "85990    ClinVarVariant:981988   \n",
       "85991    ClinVarVariant:584105   \n",
       "\n",
       "                                              label_head  class_head  \\\n",
       "0                                                 unc-52           5   \n",
       "1                                                 unc-52           5   \n",
       "2                                                 unc-52           5   \n",
       "3                                                 unc-52           5   \n",
       "4                                                 unc-52           5   \n",
       "...                                                  ...         ...   \n",
       "85987                           scopolamine butylbromide           4   \n",
       "85988                              DMD, IVS62, A-G, -285          11   \n",
       "85989                                        dacomitinib           4   \n",
       "85990  NC_000023.11:g.(31875374_31929595)_(31968515_3...          11   \n",
       "85991        NC_000023.11:g.(?_32595737)_(32699313_?)del          11   \n",
       "\n",
       "       index_head                        relation                        tail  \\\n",
       "0             304                  interacts with     WormBase:WBGene00003929   \n",
       "1             304                  interacts with     WormBase:WBGene00006789   \n",
       "2             304  in orthology relationship with  ENSEMBL:ENSSSCG00000015555   \n",
       "3             304  in orthology relationship with      ZFIN:ZDB-GENE-021226-3   \n",
       "4             304  in orthology relationship with  ENSEMBL:ENSOANG00000001050   \n",
       "...           ...                             ...                         ...   \n",
       "85987        5945                         targets                      P11229   \n",
       "85988        1578                    is allele of                   HGNC:2928   \n",
       "85989        8798                         targets                      P12931   \n",
       "85990        8189            has affected feature                   HGNC:2928   \n",
       "85991        9866                causes condition               MONDO:0010679   \n",
       "\n",
       "                                       label_tail  class_tail  index_tail  \\\n",
       "0                                           pat-2           5        1542   \n",
       "1                                          unc-54           5        6544   \n",
       "2                                           LAMC1           5        9268   \n",
       "3                                           lamc1           5        5387   \n",
       "4                      ENSEMBL:ENSOANG00000001050           5        2204   \n",
       "...                                           ...         ...         ...   \n",
       "85987        Muscarinic acetylcholine receptor M1           6        5919   \n",
       "85988                                         DMD           5        3310   \n",
       "85989  Proto-oncogene tyrosine-protein kinase Src           6        2379   \n",
       "85990                                         DMD           5        3310   \n",
       "85991                 Duchenne muscular dystrophy           3        1913   \n",
       "\n",
       "       type  \n",
       "0         0  \n",
       "1         0  \n",
       "2         1  \n",
       "3         1  \n",
       "4         1  \n",
       "...     ...  \n",
       "85987    17  \n",
       "85988    15  \n",
       "85989    17  \n",
       "85990    11  \n",
       "85991     2  \n",
       "\n",
       "[85992 rows x 10 columns]"
      ]
     },
     "execution_count": 9,
     "metadata": {},
     "output_type": "execute_result"
    }
   ],
   "source": [
    "edges = pd.read_csv(f'output/indexed_edges_{dataset_nr}.csv')\n",
    "edges"
   ]
  },
  {
   "cell_type": "markdown",
   "metadata": {},
   "source": [
    "Index list can be used later for converting back to the label of the relation."
   ]
  },
  {
   "cell_type": "code",
   "execution_count": 10,
   "metadata": {},
   "outputs": [
    {
     "data": {
      "text/plain": [
       "Index(['interacts with', 'in orthology relationship with', 'causes condition',\n",
       "       'involved in', 'found in', 'is part of', 'enables', 'colocalizes with',\n",
       "       'has role in modeling', 'contributes to condition', 'expresses gene',\n",
       "       'has affected feature', 'is of', 'likely causes condition',\n",
       "       'is variant in', 'is allele of', 'is substance that treats', 'targets',\n",
       "       'associated with phenotype', 'is product of', 'has genotype'],\n",
       "      dtype='object')"
      ]
     },
     "execution_count": 10,
     "metadata": {},
     "output_type": "execute_result"
    }
   ],
   "source": [
    "_, relation_labels = pd.factorize(edges['relation'])\n",
    "relation_labels"
   ]
  },
  {
   "attachments": {},
   "cell_type": "markdown",
   "metadata": {},
   "source": [
    "# Link Prediction"
   ]
  },
  {
   "attachments": {},
   "cell_type": "markdown",
   "metadata": {},
   "source": [
    "Creating a graph including the node embeddings as features of each node."
   ]
  },
  {
   "cell_type": "code",
   "execution_count": 13,
   "metadata": {},
   "outputs": [
    {
     "name": "stdout",
     "output_type": "stream",
     "text": [
      "(0, {'node_feature': tensor([ 0.3984, -0.3129,  0.5400,  0.5047,  0.3606, -0.1538, -0.4962, -0.2255,\n",
      "        -0.3281, -0.0869,  0.2944, -0.4044,  0.2928, -0.4601,  0.1927, -0.1504,\n",
      "        -0.4191, -0.1028, -0.3842,  0.1555,  0.4455,  0.3406,  0.0176, -0.4781,\n",
      "        -0.3071,  0.6394, -0.4143, -0.0489,  0.0523, -0.2817, -0.2545, -0.5112,\n",
      "        -0.1196, -0.2351,  0.3489,  0.1787,  0.1554,  0.1126,  0.6581,  0.2639,\n",
      "        -0.0216, -0.2815, -0.3214, -0.1436,  0.1828, -0.0387,  0.1260,  0.1041,\n",
      "         0.0978,  0.0397,  0.1876,  0.1959,  0.2125,  0.5915,  0.2164, -0.2079,\n",
      "        -0.3812, -0.3433, -0.0945,  0.2793, -0.4201, -0.2743, -0.4724, -0.3125])})\n",
      "(0, 8472, {})\n",
      "Number of edges is 55032\n",
      "Number of nodes is 10275\n"
     ]
    }
   ],
   "source": [
    "embedded_node_G = nx.Graph() # TODO: DiGraph?\n",
    "\n",
    "for ind, node in embedding.iterrows(): \n",
    "  embedded_node_G.add_node(int(node['Node']), node_feature=torch.Tensor(node['Embedding']))\n",
    "for ind, edge in edges.iterrows(): \n",
    "  embedded_node_G.add_edge(int(edge['index_head']), int(edge['index_tail']))\n",
    "    \n",
    "for node in embedded_node_G.nodes(data=True):\n",
    "    print(node)\n",
    "    break\n",
    "for edge in embedded_node_G.edges(data=True):\n",
    "    print(edge)\n",
    "    break\n",
    "\n",
    "print(\"Number of edges is {}\".format(embedded_node_G.number_of_edges()))\n",
    "print(\"Number of nodes is {}\".format(embedded_node_G.number_of_nodes()))"
   ]
  },
  {
   "attachments": {},
   "cell_type": "markdown",
   "metadata": {},
   "source": [
    "## Generate graph datasets for training, validation and testing"
   ]
  },
  {
   "attachments": {},
   "cell_type": "markdown",
   "metadata": {},
   "source": [
    "Transductive link prediction split (https://zqfang.github.io/2021-08-12-graph-linkpredict/):\n",
    "- Train/validation/test sets are on the same graph\n",
    "- The dataset consists of one graph\n",
    "- The entire graph can be observed in all dataset splits\n",
    "- The labels of the edges are split"
   ]
  },
  {
   "cell_type": "code",
   "execution_count": 45,
   "metadata": {},
   "outputs": [
    {
     "name": "stderr",
     "output_type": "stream",
     "text": [
      "c:\\Users\\rosa-\\anaconda3\\envs\\xaifo\\lib\\site-packages\\deepsnap\\graph.py:2126: UserWarning: __floordiv__ is deprecated, and its behavior will change in a future version of pytorch. It currently rounds toward 0 (like the 'trunc' function NOT 'floor'). This results in incorrect rounding for negative values. To keep the current behavior, use torch.div(a, b, rounding_mode='trunc'), or for actual floor division, use torch.div(a, b, rounding_mode='floor').\n",
      "  row = perm // num_nodes\n"
     ]
    },
    {
     "name": "stdout",
     "output_type": "stream",
     "text": [
      "Input dimension (embedding dimension): 64 \n",
      " Number of edge classes (link or no link): 2\n"
     ]
    }
   ],
   "source": [
    "dataset = GraphDataset(\n",
    "    embedded_node_G,\n",
    "    task='link_pred',\n",
    "    edge_train_mode='all'\n",
    ")\n",
    "\n",
    "datasets = {}\n",
    "datasets['train'], datasets['val'], datasets['test'] = dataset.split(\n",
    "    transductive=True, split_ratio=[0.8, 0.1, 0.1]\n",
    ")\n",
    "\n",
    "input_dim = datasets['train'].num_node_features\n",
    "num_classes = datasets['train'].num_edge_labels\n",
    "\n",
    "print(f'Input dimension (embedding dimension): {input_dim} \\n Number of edge classes (link or no link): {num_classes}')   "
   ]
  },
  {
   "attachments": {},
   "cell_type": "markdown",
   "metadata": {},
   "source": [
    "Dataloaders allow to feed data into the model by batch."
   ]
  },
  {
   "cell_type": "code",
   "execution_count": 46,
   "metadata": {},
   "outputs": [],
   "source": [
    "dataloaders = {split: DataLoader(ds, collate_fn=Batch.collate([]), batch_size=1, shuffle=(split=='train')) for split, ds in datasets.items()}"
   ]
  },
  {
   "attachments": {},
   "cell_type": "markdown",
   "metadata": {},
   "source": [
    "## Train GNN"
   ]
  },
  {
   "attachments": {},
   "cell_type": "markdown",
   "metadata": {},
   "source": [
    "### Predefined Arguments"
   ]
  },
  {
   "attachments": {},
   "cell_type": "markdown",
   "metadata": {},
   "source": [
    "Train GNN with predefined arguments"
   ]
  },
  {
   "cell_type": "code",
   "execution_count": 52,
   "metadata": {},
   "outputs": [
    {
     "name": "stdout",
     "output_type": "stream",
     "text": [
      "{'device': device(type='cpu'), 'hidden_dim': 256, 'output_dim': 64, 'epochs': 100, 'lr': 0.013477408995651594, 'aggr': 'mean', 'layers': 2, 'dropout': 0.2}\n"
     ]
    }
   ],
   "source": [
    "if dataset_nr == 1:\n",
    "    args = {\n",
    "        \"device\" : torch_device,   # insert torch_device, or 'cpu' \n",
    "        \"hidden_dim\" : 264,\n",
    "        'output_dim': 64,\n",
    "        \"epochs\" : 150, \n",
    "        'lr': 0.07, \n",
    "        'aggr': 'mean', \n",
    "        'layers': 2, \n",
    "        'dropout': 0.2\n",
    "    }\n",
    "else:\n",
    "    args = {\n",
    "        \"device\" : torch_device,   # insert torch_device, or 'cpu' \n",
    "        \"hidden_dim\" : 256,\n",
    "        'output_dim': 64,\n",
    "        \"epochs\" : 100, \n",
    "        'lr': 0.013477408995651594, \n",
    "        'aggr': 'mean', \n",
    "        'layers': 2, \n",
    "        'dropout': 0.2\n",
    "    }\n",
    "\n",
    "print(args)\n",
    "\n",
    "model = LinkPredModel(input_dim, args[\"hidden_dim\"], args['output_dim'], args['layers'], args['aggr'], args['dropout'], args[\"device\"]).to(args[\"device\"])\n",
    "optimizer = torch.optim.SGD(model.parameters(), lr=args['lr'], momentum=0.9, weight_decay=5e-4)"
   ]
  },
  {
   "cell_type": "code",
   "execution_count": 53,
   "metadata": {},
   "outputs": [
    {
     "name": "stdout",
     "output_type": "stream",
     "text": [
      "Start Train Function\n"
     ]
    },
    {
     "name": "stderr",
     "output_type": "stream",
     "text": [
      "c:\\Users\\rosa-\\anaconda3\\envs\\xaifo\\lib\\site-packages\\deepsnap\\graph.py:2126: UserWarning: __floordiv__ is deprecated, and its behavior will change in a future version of pytorch. It currently rounds toward 0 (like the 'trunc' function NOT 'floor'). This results in incorrect rounding for negative values. To keep the current behavior, use torch.div(a, b, rounding_mode='trunc'), or for actual floor division, use torch.div(a, b, rounding_mode='floor').\n",
      "  row = perm // num_nodes\n"
     ]
    },
    {
     "name": "stdout",
     "output_type": "stream",
     "text": [
      "Epoch: 001, Train: 0.9675, Val: 0.9480, Test: 0.9507, Loss: 2.17597\n"
     ]
    },
    {
     "name": "stderr",
     "output_type": "stream",
     "text": [
      "c:\\Users\\rosa-\\anaconda3\\envs\\xaifo\\lib\\site-packages\\deepsnap\\graph.py:2126: UserWarning: __floordiv__ is deprecated, and its behavior will change in a future version of pytorch. It currently rounds toward 0 (like the 'trunc' function NOT 'floor'). This results in incorrect rounding for negative values. To keep the current behavior, use torch.div(a, b, rounding_mode='trunc'), or for actual floor division, use torch.div(a, b, rounding_mode='floor').\n",
      "  row = perm // num_nodes\n"
     ]
    },
    {
     "name": "stdout",
     "output_type": "stream",
     "text": [
      "Epoch: 002, Train: 0.9648, Val: 0.9468, Test: 0.9493, Loss: 2.14057\n"
     ]
    },
    {
     "name": "stderr",
     "output_type": "stream",
     "text": [
      "c:\\Users\\rosa-\\anaconda3\\envs\\xaifo\\lib\\site-packages\\deepsnap\\graph.py:2126: UserWarning: __floordiv__ is deprecated, and its behavior will change in a future version of pytorch. It currently rounds toward 0 (like the 'trunc' function NOT 'floor'). This results in incorrect rounding for negative values. To keep the current behavior, use torch.div(a, b, rounding_mode='trunc'), or for actual floor division, use torch.div(a, b, rounding_mode='floor').\n",
      "  row = perm // num_nodes\n"
     ]
    },
    {
     "name": "stdout",
     "output_type": "stream",
     "text": [
      "Epoch: 003, Train: 0.9628, Val: 0.9443, Test: 0.9465, Loss: 2.09683\n"
     ]
    },
    {
     "name": "stderr",
     "output_type": "stream",
     "text": [
      "c:\\Users\\rosa-\\anaconda3\\envs\\xaifo\\lib\\site-packages\\deepsnap\\graph.py:2126: UserWarning: __floordiv__ is deprecated, and its behavior will change in a future version of pytorch. It currently rounds toward 0 (like the 'trunc' function NOT 'floor'). This results in incorrect rounding for negative values. To keep the current behavior, use torch.div(a, b, rounding_mode='trunc'), or for actual floor division, use torch.div(a, b, rounding_mode='floor').\n",
      "  row = perm // num_nodes\n"
     ]
    },
    {
     "name": "stdout",
     "output_type": "stream",
     "text": [
      "Epoch: 004, Train: 0.9599, Val: 0.9419, Test: 0.9441, Loss: 2.03817\n"
     ]
    },
    {
     "name": "stderr",
     "output_type": "stream",
     "text": [
      "c:\\Users\\rosa-\\anaconda3\\envs\\xaifo\\lib\\site-packages\\deepsnap\\graph.py:2126: UserWarning: __floordiv__ is deprecated, and its behavior will change in a future version of pytorch. It currently rounds toward 0 (like the 'trunc' function NOT 'floor'). This results in incorrect rounding for negative values. To keep the current behavior, use torch.div(a, b, rounding_mode='trunc'), or for actual floor division, use torch.div(a, b, rounding_mode='floor').\n",
      "  row = perm // num_nodes\n"
     ]
    },
    {
     "name": "stdout",
     "output_type": "stream",
     "text": [
      "Epoch: 005, Train: 0.9585, Val: 0.9403, Test: 0.9427, Loss: 1.95256\n"
     ]
    },
    {
     "name": "stderr",
     "output_type": "stream",
     "text": [
      "c:\\Users\\rosa-\\anaconda3\\envs\\xaifo\\lib\\site-packages\\deepsnap\\graph.py:2126: UserWarning: __floordiv__ is deprecated, and its behavior will change in a future version of pytorch. It currently rounds toward 0 (like the 'trunc' function NOT 'floor'). This results in incorrect rounding for negative values. To keep the current behavior, use torch.div(a, b, rounding_mode='trunc'), or for actual floor division, use torch.div(a, b, rounding_mode='floor').\n",
      "  row = perm // num_nodes\n"
     ]
    },
    {
     "name": "stdout",
     "output_type": "stream",
     "text": [
      "Epoch: 006, Train: 0.9580, Val: 0.9390, Test: 0.9420, Loss: 1.90945\n"
     ]
    },
    {
     "name": "stderr",
     "output_type": "stream",
     "text": [
      "c:\\Users\\rosa-\\anaconda3\\envs\\xaifo\\lib\\site-packages\\deepsnap\\graph.py:2126: UserWarning: __floordiv__ is deprecated, and its behavior will change in a future version of pytorch. It currently rounds toward 0 (like the 'trunc' function NOT 'floor'). This results in incorrect rounding for negative values. To keep the current behavior, use torch.div(a, b, rounding_mode='trunc'), or for actual floor division, use torch.div(a, b, rounding_mode='floor').\n",
      "  row = perm // num_nodes\n"
     ]
    },
    {
     "name": "stdout",
     "output_type": "stream",
     "text": [
      "Epoch: 007, Train: 0.9564, Val: 0.9379, Test: 0.9415, Loss: 1.86704\n"
     ]
    },
    {
     "name": "stderr",
     "output_type": "stream",
     "text": [
      "c:\\Users\\rosa-\\anaconda3\\envs\\xaifo\\lib\\site-packages\\deepsnap\\graph.py:2126: UserWarning: __floordiv__ is deprecated, and its behavior will change in a future version of pytorch. It currently rounds toward 0 (like the 'trunc' function NOT 'floor'). This results in incorrect rounding for negative values. To keep the current behavior, use torch.div(a, b, rounding_mode='trunc'), or for actual floor division, use torch.div(a, b, rounding_mode='floor').\n",
      "  row = perm // num_nodes\n"
     ]
    },
    {
     "name": "stdout",
     "output_type": "stream",
     "text": [
      "Epoch: 008, Train: 0.9564, Val: 0.9372, Test: 0.9414, Loss: 1.82376\n"
     ]
    },
    {
     "name": "stderr",
     "output_type": "stream",
     "text": [
      "c:\\Users\\rosa-\\anaconda3\\envs\\xaifo\\lib\\site-packages\\deepsnap\\graph.py:2126: UserWarning: __floordiv__ is deprecated, and its behavior will change in a future version of pytorch. It currently rounds toward 0 (like the 'trunc' function NOT 'floor'). This results in incorrect rounding for negative values. To keep the current behavior, use torch.div(a, b, rounding_mode='trunc'), or for actual floor division, use torch.div(a, b, rounding_mode='floor').\n",
      "  row = perm // num_nodes\n"
     ]
    },
    {
     "name": "stdout",
     "output_type": "stream",
     "text": [
      "Epoch: 009, Train: 0.9560, Val: 0.9366, Test: 0.9412, Loss: 1.81268\n"
     ]
    },
    {
     "name": "stderr",
     "output_type": "stream",
     "text": [
      "c:\\Users\\rosa-\\anaconda3\\envs\\xaifo\\lib\\site-packages\\deepsnap\\graph.py:2126: UserWarning: __floordiv__ is deprecated, and its behavior will change in a future version of pytorch. It currently rounds toward 0 (like the 'trunc' function NOT 'floor'). This results in incorrect rounding for negative values. To keep the current behavior, use torch.div(a, b, rounding_mode='trunc'), or for actual floor division, use torch.div(a, b, rounding_mode='floor').\n",
      "  row = perm // num_nodes\n"
     ]
    },
    {
     "name": "stdout",
     "output_type": "stream",
     "text": [
      "Epoch: 010, Train: 0.9554, Val: 0.9360, Test: 0.9409, Loss: 1.76921\n"
     ]
    },
    {
     "name": "stderr",
     "output_type": "stream",
     "text": [
      "c:\\Users\\rosa-\\anaconda3\\envs\\xaifo\\lib\\site-packages\\deepsnap\\graph.py:2126: UserWarning: __floordiv__ is deprecated, and its behavior will change in a future version of pytorch. It currently rounds toward 0 (like the 'trunc' function NOT 'floor'). This results in incorrect rounding for negative values. To keep the current behavior, use torch.div(a, b, rounding_mode='trunc'), or for actual floor division, use torch.div(a, b, rounding_mode='floor').\n",
      "  row = perm // num_nodes\n"
     ]
    },
    {
     "name": "stdout",
     "output_type": "stream",
     "text": [
      "Epoch: 011, Train: 0.9550, Val: 0.9355, Test: 0.9407, Loss: 1.71789\n"
     ]
    },
    {
     "name": "stderr",
     "output_type": "stream",
     "text": [
      "c:\\Users\\rosa-\\anaconda3\\envs\\xaifo\\lib\\site-packages\\deepsnap\\graph.py:2126: UserWarning: __floordiv__ is deprecated, and its behavior will change in a future version of pytorch. It currently rounds toward 0 (like the 'trunc' function NOT 'floor'). This results in incorrect rounding for negative values. To keep the current behavior, use torch.div(a, b, rounding_mode='trunc'), or for actual floor division, use torch.div(a, b, rounding_mode='floor').\n",
      "  row = perm // num_nodes\n"
     ]
    },
    {
     "name": "stdout",
     "output_type": "stream",
     "text": [
      "Epoch: 012, Train: 0.9557, Val: 0.9355, Test: 0.9407, Loss: 1.70719\n"
     ]
    },
    {
     "name": "stderr",
     "output_type": "stream",
     "text": [
      "c:\\Users\\rosa-\\anaconda3\\envs\\xaifo\\lib\\site-packages\\deepsnap\\graph.py:2126: UserWarning: __floordiv__ is deprecated, and its behavior will change in a future version of pytorch. It currently rounds toward 0 (like the 'trunc' function NOT 'floor'). This results in incorrect rounding for negative values. To keep the current behavior, use torch.div(a, b, rounding_mode='trunc'), or for actual floor division, use torch.div(a, b, rounding_mode='floor').\n",
      "  row = perm // num_nodes\n"
     ]
    },
    {
     "name": "stdout",
     "output_type": "stream",
     "text": [
      "Epoch: 013, Train: 0.9560, Val: 0.9359, Test: 0.9410, Loss: 1.65573\n"
     ]
    },
    {
     "name": "stderr",
     "output_type": "stream",
     "text": [
      "c:\\Users\\rosa-\\anaconda3\\envs\\xaifo\\lib\\site-packages\\deepsnap\\graph.py:2126: UserWarning: __floordiv__ is deprecated, and its behavior will change in a future version of pytorch. It currently rounds toward 0 (like the 'trunc' function NOT 'floor'). This results in incorrect rounding for negative values. To keep the current behavior, use torch.div(a, b, rounding_mode='trunc'), or for actual floor division, use torch.div(a, b, rounding_mode='floor').\n",
      "  row = perm // num_nodes\n"
     ]
    },
    {
     "name": "stdout",
     "output_type": "stream",
     "text": [
      "Epoch: 014, Train: 0.9564, Val: 0.9366, Test: 0.9415, Loss: 1.62648\n"
     ]
    },
    {
     "name": "stderr",
     "output_type": "stream",
     "text": [
      "c:\\Users\\rosa-\\anaconda3\\envs\\xaifo\\lib\\site-packages\\deepsnap\\graph.py:2126: UserWarning: __floordiv__ is deprecated, and its behavior will change in a future version of pytorch. It currently rounds toward 0 (like the 'trunc' function NOT 'floor'). This results in incorrect rounding for negative values. To keep the current behavior, use torch.div(a, b, rounding_mode='trunc'), or for actual floor division, use torch.div(a, b, rounding_mode='floor').\n",
      "  row = perm // num_nodes\n"
     ]
    },
    {
     "name": "stdout",
     "output_type": "stream",
     "text": [
      "Epoch: 015, Train: 0.9573, Val: 0.9374, Test: 0.9421, Loss: 1.56769\n"
     ]
    },
    {
     "name": "stderr",
     "output_type": "stream",
     "text": [
      "c:\\Users\\rosa-\\anaconda3\\envs\\xaifo\\lib\\site-packages\\deepsnap\\graph.py:2126: UserWarning: __floordiv__ is deprecated, and its behavior will change in a future version of pytorch. It currently rounds toward 0 (like the 'trunc' function NOT 'floor'). This results in incorrect rounding for negative values. To keep the current behavior, use torch.div(a, b, rounding_mode='trunc'), or for actual floor division, use torch.div(a, b, rounding_mode='floor').\n",
      "  row = perm // num_nodes\n"
     ]
    },
    {
     "name": "stdout",
     "output_type": "stream",
     "text": [
      "Epoch: 016, Train: 0.9579, Val: 0.9381, Test: 0.9426, Loss: 1.55237\n"
     ]
    },
    {
     "name": "stderr",
     "output_type": "stream",
     "text": [
      "c:\\Users\\rosa-\\anaconda3\\envs\\xaifo\\lib\\site-packages\\deepsnap\\graph.py:2126: UserWarning: __floordiv__ is deprecated, and its behavior will change in a future version of pytorch. It currently rounds toward 0 (like the 'trunc' function NOT 'floor'). This results in incorrect rounding for negative values. To keep the current behavior, use torch.div(a, b, rounding_mode='trunc'), or for actual floor division, use torch.div(a, b, rounding_mode='floor').\n",
      "  row = perm // num_nodes\n"
     ]
    },
    {
     "name": "stdout",
     "output_type": "stream",
     "text": [
      "Epoch: 017, Train: 0.9580, Val: 0.9390, Test: 0.9432, Loss: 1.53028\n"
     ]
    },
    {
     "name": "stderr",
     "output_type": "stream",
     "text": [
      "c:\\Users\\rosa-\\anaconda3\\envs\\xaifo\\lib\\site-packages\\deepsnap\\graph.py:2126: UserWarning: __floordiv__ is deprecated, and its behavior will change in a future version of pytorch. It currently rounds toward 0 (like the 'trunc' function NOT 'floor'). This results in incorrect rounding for negative values. To keep the current behavior, use torch.div(a, b, rounding_mode='trunc'), or for actual floor division, use torch.div(a, b, rounding_mode='floor').\n",
      "  row = perm // num_nodes\n"
     ]
    },
    {
     "name": "stdout",
     "output_type": "stream",
     "text": [
      "Epoch: 018, Train: 0.9590, Val: 0.9400, Test: 0.9439, Loss: 1.49205\n"
     ]
    },
    {
     "name": "stderr",
     "output_type": "stream",
     "text": [
      "c:\\Users\\rosa-\\anaconda3\\envs\\xaifo\\lib\\site-packages\\deepsnap\\graph.py:2126: UserWarning: __floordiv__ is deprecated, and its behavior will change in a future version of pytorch. It currently rounds toward 0 (like the 'trunc' function NOT 'floor'). This results in incorrect rounding for negative values. To keep the current behavior, use torch.div(a, b, rounding_mode='trunc'), or for actual floor division, use torch.div(a, b, rounding_mode='floor').\n",
      "  row = perm // num_nodes\n"
     ]
    },
    {
     "name": "stdout",
     "output_type": "stream",
     "text": [
      "Epoch: 019, Train: 0.9603, Val: 0.9412, Test: 0.9450, Loss: 1.47203\n"
     ]
    },
    {
     "name": "stderr",
     "output_type": "stream",
     "text": [
      "c:\\Users\\rosa-\\anaconda3\\envs\\xaifo\\lib\\site-packages\\deepsnap\\graph.py:2126: UserWarning: __floordiv__ is deprecated, and its behavior will change in a future version of pytorch. It currently rounds toward 0 (like the 'trunc' function NOT 'floor'). This results in incorrect rounding for negative values. To keep the current behavior, use torch.div(a, b, rounding_mode='trunc'), or for actual floor division, use torch.div(a, b, rounding_mode='floor').\n",
      "  row = perm // num_nodes\n"
     ]
    },
    {
     "name": "stdout",
     "output_type": "stream",
     "text": [
      "Epoch: 020, Train: 0.9614, Val: 0.9425, Test: 0.9460, Loss: 1.42994\n"
     ]
    },
    {
     "name": "stderr",
     "output_type": "stream",
     "text": [
      "c:\\Users\\rosa-\\anaconda3\\envs\\xaifo\\lib\\site-packages\\deepsnap\\graph.py:2126: UserWarning: __floordiv__ is deprecated, and its behavior will change in a future version of pytorch. It currently rounds toward 0 (like the 'trunc' function NOT 'floor'). This results in incorrect rounding for negative values. To keep the current behavior, use torch.div(a, b, rounding_mode='trunc'), or for actual floor division, use torch.div(a, b, rounding_mode='floor').\n",
      "  row = perm // num_nodes\n"
     ]
    },
    {
     "name": "stdout",
     "output_type": "stream",
     "text": [
      "Epoch: 021, Train: 0.9628, Val: 0.9442, Test: 0.9475, Loss: 1.42749\n"
     ]
    },
    {
     "name": "stderr",
     "output_type": "stream",
     "text": [
      "c:\\Users\\rosa-\\anaconda3\\envs\\xaifo\\lib\\site-packages\\deepsnap\\graph.py:2126: UserWarning: __floordiv__ is deprecated, and its behavior will change in a future version of pytorch. It currently rounds toward 0 (like the 'trunc' function NOT 'floor'). This results in incorrect rounding for negative values. To keep the current behavior, use torch.div(a, b, rounding_mode='trunc'), or for actual floor division, use torch.div(a, b, rounding_mode='floor').\n",
      "  row = perm // num_nodes\n"
     ]
    },
    {
     "name": "stdout",
     "output_type": "stream",
     "text": [
      "Epoch: 022, Train: 0.9640, Val: 0.9457, Test: 0.9490, Loss: 1.37454\n"
     ]
    },
    {
     "name": "stderr",
     "output_type": "stream",
     "text": [
      "c:\\Users\\rosa-\\anaconda3\\envs\\xaifo\\lib\\site-packages\\deepsnap\\graph.py:2126: UserWarning: __floordiv__ is deprecated, and its behavior will change in a future version of pytorch. It currently rounds toward 0 (like the 'trunc' function NOT 'floor'). This results in incorrect rounding for negative values. To keep the current behavior, use torch.div(a, b, rounding_mode='trunc'), or for actual floor division, use torch.div(a, b, rounding_mode='floor').\n",
      "  row = perm // num_nodes\n"
     ]
    },
    {
     "name": "stdout",
     "output_type": "stream",
     "text": [
      "Epoch: 023, Train: 0.9655, Val: 0.9473, Test: 0.9505, Loss: 1.35312\n"
     ]
    },
    {
     "name": "stderr",
     "output_type": "stream",
     "text": [
      "c:\\Users\\rosa-\\anaconda3\\envs\\xaifo\\lib\\site-packages\\deepsnap\\graph.py:2126: UserWarning: __floordiv__ is deprecated, and its behavior will change in a future version of pytorch. It currently rounds toward 0 (like the 'trunc' function NOT 'floor'). This results in incorrect rounding for negative values. To keep the current behavior, use torch.div(a, b, rounding_mode='trunc'), or for actual floor division, use torch.div(a, b, rounding_mode='floor').\n",
      "  row = perm // num_nodes\n"
     ]
    },
    {
     "name": "stdout",
     "output_type": "stream",
     "text": [
      "Epoch: 024, Train: 0.9675, Val: 0.9490, Test: 0.9521, Loss: 1.33823\n"
     ]
    },
    {
     "name": "stderr",
     "output_type": "stream",
     "text": [
      "c:\\Users\\rosa-\\anaconda3\\envs\\xaifo\\lib\\site-packages\\deepsnap\\graph.py:2126: UserWarning: __floordiv__ is deprecated, and its behavior will change in a future version of pytorch. It currently rounds toward 0 (like the 'trunc' function NOT 'floor'). This results in incorrect rounding for negative values. To keep the current behavior, use torch.div(a, b, rounding_mode='trunc'), or for actual floor division, use torch.div(a, b, rounding_mode='floor').\n",
      "  row = perm // num_nodes\n"
     ]
    },
    {
     "name": "stdout",
     "output_type": "stream",
     "text": [
      "Epoch: 025, Train: 0.9683, Val: 0.9507, Test: 0.9536, Loss: 1.32398\n"
     ]
    },
    {
     "name": "stderr",
     "output_type": "stream",
     "text": [
      "c:\\Users\\rosa-\\anaconda3\\envs\\xaifo\\lib\\site-packages\\deepsnap\\graph.py:2126: UserWarning: __floordiv__ is deprecated, and its behavior will change in a future version of pytorch. It currently rounds toward 0 (like the 'trunc' function NOT 'floor'). This results in incorrect rounding for negative values. To keep the current behavior, use torch.div(a, b, rounding_mode='trunc'), or for actual floor division, use torch.div(a, b, rounding_mode='floor').\n",
      "  row = perm // num_nodes\n"
     ]
    },
    {
     "name": "stdout",
     "output_type": "stream",
     "text": [
      "Epoch: 026, Train: 0.9694, Val: 0.9523, Test: 0.9551, Loss: 1.27725\n"
     ]
    },
    {
     "name": "stderr",
     "output_type": "stream",
     "text": [
      "c:\\Users\\rosa-\\anaconda3\\envs\\xaifo\\lib\\site-packages\\deepsnap\\graph.py:2126: UserWarning: __floordiv__ is deprecated, and its behavior will change in a future version of pytorch. It currently rounds toward 0 (like the 'trunc' function NOT 'floor'). This results in incorrect rounding for negative values. To keep the current behavior, use torch.div(a, b, rounding_mode='trunc'), or for actual floor division, use torch.div(a, b, rounding_mode='floor').\n",
      "  row = perm // num_nodes\n"
     ]
    },
    {
     "name": "stdout",
     "output_type": "stream",
     "text": [
      "Epoch: 027, Train: 0.9704, Val: 0.9537, Test: 0.9564, Loss: 1.26238\n"
     ]
    },
    {
     "name": "stderr",
     "output_type": "stream",
     "text": [
      "c:\\Users\\rosa-\\anaconda3\\envs\\xaifo\\lib\\site-packages\\deepsnap\\graph.py:2126: UserWarning: __floordiv__ is deprecated, and its behavior will change in a future version of pytorch. It currently rounds toward 0 (like the 'trunc' function NOT 'floor'). This results in incorrect rounding for negative values. To keep the current behavior, use torch.div(a, b, rounding_mode='trunc'), or for actual floor division, use torch.div(a, b, rounding_mode='floor').\n",
      "  row = perm // num_nodes\n"
     ]
    },
    {
     "name": "stdout",
     "output_type": "stream",
     "text": [
      "Epoch: 028, Train: 0.9710, Val: 0.9549, Test: 0.9576, Loss: 1.24372\n"
     ]
    },
    {
     "name": "stderr",
     "output_type": "stream",
     "text": [
      "c:\\Users\\rosa-\\anaconda3\\envs\\xaifo\\lib\\site-packages\\deepsnap\\graph.py:2126: UserWarning: __floordiv__ is deprecated, and its behavior will change in a future version of pytorch. It currently rounds toward 0 (like the 'trunc' function NOT 'floor'). This results in incorrect rounding for negative values. To keep the current behavior, use torch.div(a, b, rounding_mode='trunc'), or for actual floor division, use torch.div(a, b, rounding_mode='floor').\n",
      "  row = perm // num_nodes\n"
     ]
    },
    {
     "name": "stdout",
     "output_type": "stream",
     "text": [
      "Epoch: 029, Train: 0.9720, Val: 0.9559, Test: 0.9586, Loss: 1.20520\n"
     ]
    },
    {
     "name": "stderr",
     "output_type": "stream",
     "text": [
      "c:\\Users\\rosa-\\anaconda3\\envs\\xaifo\\lib\\site-packages\\deepsnap\\graph.py:2126: UserWarning: __floordiv__ is deprecated, and its behavior will change in a future version of pytorch. It currently rounds toward 0 (like the 'trunc' function NOT 'floor'). This results in incorrect rounding for negative values. To keep the current behavior, use torch.div(a, b, rounding_mode='trunc'), or for actual floor division, use torch.div(a, b, rounding_mode='floor').\n",
      "  row = perm // num_nodes\n"
     ]
    },
    {
     "name": "stdout",
     "output_type": "stream",
     "text": [
      "Epoch: 030, Train: 0.9728, Val: 0.9568, Test: 0.9596, Loss: 1.20789\n"
     ]
    },
    {
     "name": "stderr",
     "output_type": "stream",
     "text": [
      "c:\\Users\\rosa-\\anaconda3\\envs\\xaifo\\lib\\site-packages\\deepsnap\\graph.py:2126: UserWarning: __floordiv__ is deprecated, and its behavior will change in a future version of pytorch. It currently rounds toward 0 (like the 'trunc' function NOT 'floor'). This results in incorrect rounding for negative values. To keep the current behavior, use torch.div(a, b, rounding_mode='trunc'), or for actual floor division, use torch.div(a, b, rounding_mode='floor').\n",
      "  row = perm // num_nodes\n"
     ]
    },
    {
     "name": "stdout",
     "output_type": "stream",
     "text": [
      "Epoch: 031, Train: 0.9730, Val: 0.9577, Test: 0.9605, Loss: 1.18399\n"
     ]
    },
    {
     "name": "stderr",
     "output_type": "stream",
     "text": [
      "c:\\Users\\rosa-\\anaconda3\\envs\\xaifo\\lib\\site-packages\\deepsnap\\graph.py:2126: UserWarning: __floordiv__ is deprecated, and its behavior will change in a future version of pytorch. It currently rounds toward 0 (like the 'trunc' function NOT 'floor'). This results in incorrect rounding for negative values. To keep the current behavior, use torch.div(a, b, rounding_mode='trunc'), or for actual floor division, use torch.div(a, b, rounding_mode='floor').\n",
      "  row = perm // num_nodes\n"
     ]
    },
    {
     "name": "stdout",
     "output_type": "stream",
     "text": [
      "Epoch: 032, Train: 0.9731, Val: 0.9583, Test: 0.9611, Loss: 1.16583\n"
     ]
    },
    {
     "name": "stderr",
     "output_type": "stream",
     "text": [
      "c:\\Users\\rosa-\\anaconda3\\envs\\xaifo\\lib\\site-packages\\deepsnap\\graph.py:2126: UserWarning: __floordiv__ is deprecated, and its behavior will change in a future version of pytorch. It currently rounds toward 0 (like the 'trunc' function NOT 'floor'). This results in incorrect rounding for negative values. To keep the current behavior, use torch.div(a, b, rounding_mode='trunc'), or for actual floor division, use torch.div(a, b, rounding_mode='floor').\n",
      "  row = perm // num_nodes\n"
     ]
    },
    {
     "name": "stdout",
     "output_type": "stream",
     "text": [
      "Epoch: 033, Train: 0.9733, Val: 0.9587, Test: 0.9616, Loss: 1.14501\n"
     ]
    },
    {
     "name": "stderr",
     "output_type": "stream",
     "text": [
      "c:\\Users\\rosa-\\anaconda3\\envs\\xaifo\\lib\\site-packages\\deepsnap\\graph.py:2126: UserWarning: __floordiv__ is deprecated, and its behavior will change in a future version of pytorch. It currently rounds toward 0 (like the 'trunc' function NOT 'floor'). This results in incorrect rounding for negative values. To keep the current behavior, use torch.div(a, b, rounding_mode='trunc'), or for actual floor division, use torch.div(a, b, rounding_mode='floor').\n",
      "  row = perm // num_nodes\n"
     ]
    },
    {
     "name": "stdout",
     "output_type": "stream",
     "text": [
      "Epoch: 034, Train: 0.9738, Val: 0.9590, Test: 0.9620, Loss: 1.12685\n"
     ]
    },
    {
     "name": "stderr",
     "output_type": "stream",
     "text": [
      "c:\\Users\\rosa-\\anaconda3\\envs\\xaifo\\lib\\site-packages\\deepsnap\\graph.py:2126: UserWarning: __floordiv__ is deprecated, and its behavior will change in a future version of pytorch. It currently rounds toward 0 (like the 'trunc' function NOT 'floor'). This results in incorrect rounding for negative values. To keep the current behavior, use torch.div(a, b, rounding_mode='trunc'), or for actual floor division, use torch.div(a, b, rounding_mode='floor').\n",
      "  row = perm // num_nodes\n"
     ]
    },
    {
     "name": "stdout",
     "output_type": "stream",
     "text": [
      "Epoch: 035, Train: 0.9739, Val: 0.9592, Test: 0.9623, Loss: 1.09968\n"
     ]
    },
    {
     "name": "stderr",
     "output_type": "stream",
     "text": [
      "c:\\Users\\rosa-\\anaconda3\\envs\\xaifo\\lib\\site-packages\\deepsnap\\graph.py:2126: UserWarning: __floordiv__ is deprecated, and its behavior will change in a future version of pytorch. It currently rounds toward 0 (like the 'trunc' function NOT 'floor'). This results in incorrect rounding for negative values. To keep the current behavior, use torch.div(a, b, rounding_mode='trunc'), or for actual floor division, use torch.div(a, b, rounding_mode='floor').\n",
      "  row = perm // num_nodes\n"
     ]
    },
    {
     "name": "stdout",
     "output_type": "stream",
     "text": [
      "Epoch: 036, Train: 0.9740, Val: 0.9592, Test: 0.9625, Loss: 1.09146\n"
     ]
    },
    {
     "name": "stderr",
     "output_type": "stream",
     "text": [
      "c:\\Users\\rosa-\\anaconda3\\envs\\xaifo\\lib\\site-packages\\deepsnap\\graph.py:2126: UserWarning: __floordiv__ is deprecated, and its behavior will change in a future version of pytorch. It currently rounds toward 0 (like the 'trunc' function NOT 'floor'). This results in incorrect rounding for negative values. To keep the current behavior, use torch.div(a, b, rounding_mode='trunc'), or for actual floor division, use torch.div(a, b, rounding_mode='floor').\n",
      "  row = perm // num_nodes\n"
     ]
    },
    {
     "name": "stdout",
     "output_type": "stream",
     "text": [
      "Epoch: 037, Train: 0.9740, Val: 0.9594, Test: 0.9628, Loss: 1.07685\n"
     ]
    },
    {
     "name": "stderr",
     "output_type": "stream",
     "text": [
      "c:\\Users\\rosa-\\anaconda3\\envs\\xaifo\\lib\\site-packages\\deepsnap\\graph.py:2126: UserWarning: __floordiv__ is deprecated, and its behavior will change in a future version of pytorch. It currently rounds toward 0 (like the 'trunc' function NOT 'floor'). This results in incorrect rounding for negative values. To keep the current behavior, use torch.div(a, b, rounding_mode='trunc'), or for actual floor division, use torch.div(a, b, rounding_mode='floor').\n",
      "  row = perm // num_nodes\n"
     ]
    },
    {
     "name": "stdout",
     "output_type": "stream",
     "text": [
      "Epoch: 038, Train: 0.9741, Val: 0.9594, Test: 0.9630, Loss: 1.05939\n"
     ]
    },
    {
     "name": "stderr",
     "output_type": "stream",
     "text": [
      "c:\\Users\\rosa-\\anaconda3\\envs\\xaifo\\lib\\site-packages\\deepsnap\\graph.py:2126: UserWarning: __floordiv__ is deprecated, and its behavior will change in a future version of pytorch. It currently rounds toward 0 (like the 'trunc' function NOT 'floor'). This results in incorrect rounding for negative values. To keep the current behavior, use torch.div(a, b, rounding_mode='trunc'), or for actual floor division, use torch.div(a, b, rounding_mode='floor').\n",
      "  row = perm // num_nodes\n"
     ]
    },
    {
     "name": "stdout",
     "output_type": "stream",
     "text": [
      "Epoch: 039, Train: 0.9746, Val: 0.9594, Test: 0.9631, Loss: 1.03587\n"
     ]
    },
    {
     "name": "stderr",
     "output_type": "stream",
     "text": [
      "c:\\Users\\rosa-\\anaconda3\\envs\\xaifo\\lib\\site-packages\\deepsnap\\graph.py:2126: UserWarning: __floordiv__ is deprecated, and its behavior will change in a future version of pytorch. It currently rounds toward 0 (like the 'trunc' function NOT 'floor'). This results in incorrect rounding for negative values. To keep the current behavior, use torch.div(a, b, rounding_mode='trunc'), or for actual floor division, use torch.div(a, b, rounding_mode='floor').\n",
      "  row = perm // num_nodes\n"
     ]
    },
    {
     "name": "stdout",
     "output_type": "stream",
     "text": [
      "Epoch: 040, Train: 0.9746, Val: 0.9594, Test: 0.9633, Loss: 1.02241\n"
     ]
    },
    {
     "name": "stderr",
     "output_type": "stream",
     "text": [
      "c:\\Users\\rosa-\\anaconda3\\envs\\xaifo\\lib\\site-packages\\deepsnap\\graph.py:2126: UserWarning: __floordiv__ is deprecated, and its behavior will change in a future version of pytorch. It currently rounds toward 0 (like the 'trunc' function NOT 'floor'). This results in incorrect rounding for negative values. To keep the current behavior, use torch.div(a, b, rounding_mode='trunc'), or for actual floor division, use torch.div(a, b, rounding_mode='floor').\n",
      "  row = perm // num_nodes\n"
     ]
    },
    {
     "name": "stdout",
     "output_type": "stream",
     "text": [
      "Epoch: 041, Train: 0.9748, Val: 0.9593, Test: 0.9634, Loss: 1.00968\n"
     ]
    },
    {
     "name": "stderr",
     "output_type": "stream",
     "text": [
      "c:\\Users\\rosa-\\anaconda3\\envs\\xaifo\\lib\\site-packages\\deepsnap\\graph.py:2126: UserWarning: __floordiv__ is deprecated, and its behavior will change in a future version of pytorch. It currently rounds toward 0 (like the 'trunc' function NOT 'floor'). This results in incorrect rounding for negative values. To keep the current behavior, use torch.div(a, b, rounding_mode='trunc'), or for actual floor division, use torch.div(a, b, rounding_mode='floor').\n",
      "  row = perm // num_nodes\n"
     ]
    },
    {
     "name": "stdout",
     "output_type": "stream",
     "text": [
      "Epoch: 042, Train: 0.9744, Val: 0.9591, Test: 0.9634, Loss: 0.99782\n"
     ]
    },
    {
     "name": "stderr",
     "output_type": "stream",
     "text": [
      "c:\\Users\\rosa-\\anaconda3\\envs\\xaifo\\lib\\site-packages\\deepsnap\\graph.py:2126: UserWarning: __floordiv__ is deprecated, and its behavior will change in a future version of pytorch. It currently rounds toward 0 (like the 'trunc' function NOT 'floor'). This results in incorrect rounding for negative values. To keep the current behavior, use torch.div(a, b, rounding_mode='trunc'), or for actual floor division, use torch.div(a, b, rounding_mode='floor').\n",
      "  row = perm // num_nodes\n"
     ]
    },
    {
     "name": "stdout",
     "output_type": "stream",
     "text": [
      "Epoch: 043, Train: 0.9744, Val: 0.9587, Test: 0.9633, Loss: 0.99466\n"
     ]
    },
    {
     "name": "stderr",
     "output_type": "stream",
     "text": [
      "c:\\Users\\rosa-\\anaconda3\\envs\\xaifo\\lib\\site-packages\\deepsnap\\graph.py:2126: UserWarning: __floordiv__ is deprecated, and its behavior will change in a future version of pytorch. It currently rounds toward 0 (like the 'trunc' function NOT 'floor'). This results in incorrect rounding for negative values. To keep the current behavior, use torch.div(a, b, rounding_mode='trunc'), or for actual floor division, use torch.div(a, b, rounding_mode='floor').\n",
      "  row = perm // num_nodes\n"
     ]
    },
    {
     "name": "stdout",
     "output_type": "stream",
     "text": [
      "Epoch: 044, Train: 0.9745, Val: 0.9584, Test: 0.9631, Loss: 0.98032\n"
     ]
    },
    {
     "name": "stderr",
     "output_type": "stream",
     "text": [
      "c:\\Users\\rosa-\\anaconda3\\envs\\xaifo\\lib\\site-packages\\deepsnap\\graph.py:2126: UserWarning: __floordiv__ is deprecated, and its behavior will change in a future version of pytorch. It currently rounds toward 0 (like the 'trunc' function NOT 'floor'). This results in incorrect rounding for negative values. To keep the current behavior, use torch.div(a, b, rounding_mode='trunc'), or for actual floor division, use torch.div(a, b, rounding_mode='floor').\n",
      "  row = perm // num_nodes\n"
     ]
    },
    {
     "name": "stdout",
     "output_type": "stream",
     "text": [
      "Epoch: 045, Train: 0.9743, Val: 0.9582, Test: 0.9630, Loss: 0.96486\n"
     ]
    },
    {
     "name": "stderr",
     "output_type": "stream",
     "text": [
      "c:\\Users\\rosa-\\anaconda3\\envs\\xaifo\\lib\\site-packages\\deepsnap\\graph.py:2126: UserWarning: __floordiv__ is deprecated, and its behavior will change in a future version of pytorch. It currently rounds toward 0 (like the 'trunc' function NOT 'floor'). This results in incorrect rounding for negative values. To keep the current behavior, use torch.div(a, b, rounding_mode='trunc'), or for actual floor division, use torch.div(a, b, rounding_mode='floor').\n",
      "  row = perm // num_nodes\n"
     ]
    },
    {
     "name": "stdout",
     "output_type": "stream",
     "text": [
      "Epoch: 046, Train: 0.9745, Val: 0.9581, Test: 0.9630, Loss: 0.93755\n"
     ]
    },
    {
     "name": "stderr",
     "output_type": "stream",
     "text": [
      "c:\\Users\\rosa-\\anaconda3\\envs\\xaifo\\lib\\site-packages\\deepsnap\\graph.py:2126: UserWarning: __floordiv__ is deprecated, and its behavior will change in a future version of pytorch. It currently rounds toward 0 (like the 'trunc' function NOT 'floor'). This results in incorrect rounding for negative values. To keep the current behavior, use torch.div(a, b, rounding_mode='trunc'), or for actual floor division, use torch.div(a, b, rounding_mode='floor').\n",
      "  row = perm // num_nodes\n"
     ]
    },
    {
     "name": "stdout",
     "output_type": "stream",
     "text": [
      "Epoch: 047, Train: 0.9735, Val: 0.9580, Test: 0.9630, Loss: 0.93855\n"
     ]
    },
    {
     "name": "stderr",
     "output_type": "stream",
     "text": [
      "c:\\Users\\rosa-\\anaconda3\\envs\\xaifo\\lib\\site-packages\\deepsnap\\graph.py:2126: UserWarning: __floordiv__ is deprecated, and its behavior will change in a future version of pytorch. It currently rounds toward 0 (like the 'trunc' function NOT 'floor'). This results in incorrect rounding for negative values. To keep the current behavior, use torch.div(a, b, rounding_mode='trunc'), or for actual floor division, use torch.div(a, b, rounding_mode='floor').\n",
      "  row = perm // num_nodes\n"
     ]
    },
    {
     "name": "stdout",
     "output_type": "stream",
     "text": [
      "Epoch: 048, Train: 0.9737, Val: 0.9580, Test: 0.9630, Loss: 0.91856\n"
     ]
    },
    {
     "name": "stderr",
     "output_type": "stream",
     "text": [
      "c:\\Users\\rosa-\\anaconda3\\envs\\xaifo\\lib\\site-packages\\deepsnap\\graph.py:2126: UserWarning: __floordiv__ is deprecated, and its behavior will change in a future version of pytorch. It currently rounds toward 0 (like the 'trunc' function NOT 'floor'). This results in incorrect rounding for negative values. To keep the current behavior, use torch.div(a, b, rounding_mode='trunc'), or for actual floor division, use torch.div(a, b, rounding_mode='floor').\n",
      "  row = perm // num_nodes\n"
     ]
    },
    {
     "name": "stdout",
     "output_type": "stream",
     "text": [
      "Epoch: 049, Train: 0.9743, Val: 0.9581, Test: 0.9630, Loss: 0.90763\n"
     ]
    },
    {
     "name": "stderr",
     "output_type": "stream",
     "text": [
      "c:\\Users\\rosa-\\anaconda3\\envs\\xaifo\\lib\\site-packages\\deepsnap\\graph.py:2126: UserWarning: __floordiv__ is deprecated, and its behavior will change in a future version of pytorch. It currently rounds toward 0 (like the 'trunc' function NOT 'floor'). This results in incorrect rounding for negative values. To keep the current behavior, use torch.div(a, b, rounding_mode='trunc'), or for actual floor division, use torch.div(a, b, rounding_mode='floor').\n",
      "  row = perm // num_nodes\n"
     ]
    },
    {
     "name": "stdout",
     "output_type": "stream",
     "text": [
      "Epoch: 050, Train: 0.9739, Val: 0.9582, Test: 0.9631, Loss: 0.88780\n"
     ]
    },
    {
     "name": "stderr",
     "output_type": "stream",
     "text": [
      "c:\\Users\\rosa-\\anaconda3\\envs\\xaifo\\lib\\site-packages\\deepsnap\\graph.py:2126: UserWarning: __floordiv__ is deprecated, and its behavior will change in a future version of pytorch. It currently rounds toward 0 (like the 'trunc' function NOT 'floor'). This results in incorrect rounding for negative values. To keep the current behavior, use torch.div(a, b, rounding_mode='trunc'), or for actual floor division, use torch.div(a, b, rounding_mode='floor').\n",
      "  row = perm // num_nodes\n"
     ]
    },
    {
     "name": "stdout",
     "output_type": "stream",
     "text": [
      "Epoch: 051, Train: 0.9739, Val: 0.9584, Test: 0.9633, Loss: 0.87207\n"
     ]
    },
    {
     "name": "stderr",
     "output_type": "stream",
     "text": [
      "c:\\Users\\rosa-\\anaconda3\\envs\\xaifo\\lib\\site-packages\\deepsnap\\graph.py:2126: UserWarning: __floordiv__ is deprecated, and its behavior will change in a future version of pytorch. It currently rounds toward 0 (like the 'trunc' function NOT 'floor'). This results in incorrect rounding for negative values. To keep the current behavior, use torch.div(a, b, rounding_mode='trunc'), or for actual floor division, use torch.div(a, b, rounding_mode='floor').\n",
      "  row = perm // num_nodes\n"
     ]
    },
    {
     "name": "stdout",
     "output_type": "stream",
     "text": [
      "Epoch: 052, Train: 0.9741, Val: 0.9588, Test: 0.9636, Loss: 0.86726\n"
     ]
    },
    {
     "name": "stderr",
     "output_type": "stream",
     "text": [
      "c:\\Users\\rosa-\\anaconda3\\envs\\xaifo\\lib\\site-packages\\deepsnap\\graph.py:2126: UserWarning: __floordiv__ is deprecated, and its behavior will change in a future version of pytorch. It currently rounds toward 0 (like the 'trunc' function NOT 'floor'). This results in incorrect rounding for negative values. To keep the current behavior, use torch.div(a, b, rounding_mode='trunc'), or for actual floor division, use torch.div(a, b, rounding_mode='floor').\n",
      "  row = perm // num_nodes\n"
     ]
    },
    {
     "name": "stdout",
     "output_type": "stream",
     "text": [
      "Epoch: 053, Train: 0.9744, Val: 0.9592, Test: 0.9639, Loss: 0.86525\n"
     ]
    },
    {
     "name": "stderr",
     "output_type": "stream",
     "text": [
      "c:\\Users\\rosa-\\anaconda3\\envs\\xaifo\\lib\\site-packages\\deepsnap\\graph.py:2126: UserWarning: __floordiv__ is deprecated, and its behavior will change in a future version of pytorch. It currently rounds toward 0 (like the 'trunc' function NOT 'floor'). This results in incorrect rounding for negative values. To keep the current behavior, use torch.div(a, b, rounding_mode='trunc'), or for actual floor division, use torch.div(a, b, rounding_mode='floor').\n",
      "  row = perm // num_nodes\n"
     ]
    },
    {
     "name": "stdout",
     "output_type": "stream",
     "text": [
      "Epoch: 054, Train: 0.9743, Val: 0.9597, Test: 0.9643, Loss: 0.84720\n"
     ]
    },
    {
     "name": "stderr",
     "output_type": "stream",
     "text": [
      "c:\\Users\\rosa-\\anaconda3\\envs\\xaifo\\lib\\site-packages\\deepsnap\\graph.py:2126: UserWarning: __floordiv__ is deprecated, and its behavior will change in a future version of pytorch. It currently rounds toward 0 (like the 'trunc' function NOT 'floor'). This results in incorrect rounding for negative values. To keep the current behavior, use torch.div(a, b, rounding_mode='trunc'), or for actual floor division, use torch.div(a, b, rounding_mode='floor').\n",
      "  row = perm // num_nodes\n"
     ]
    },
    {
     "name": "stdout",
     "output_type": "stream",
     "text": [
      "Epoch: 055, Train: 0.9745, Val: 0.9602, Test: 0.9646, Loss: 0.83515\n"
     ]
    },
    {
     "name": "stderr",
     "output_type": "stream",
     "text": [
      "c:\\Users\\rosa-\\anaconda3\\envs\\xaifo\\lib\\site-packages\\deepsnap\\graph.py:2126: UserWarning: __floordiv__ is deprecated, and its behavior will change in a future version of pytorch. It currently rounds toward 0 (like the 'trunc' function NOT 'floor'). This results in incorrect rounding for negative values. To keep the current behavior, use torch.div(a, b, rounding_mode='trunc'), or for actual floor division, use torch.div(a, b, rounding_mode='floor').\n",
      "  row = perm // num_nodes\n"
     ]
    },
    {
     "name": "stdout",
     "output_type": "stream",
     "text": [
      "Epoch: 056, Train: 0.9744, Val: 0.9607, Test: 0.9649, Loss: 0.83527\n"
     ]
    },
    {
     "name": "stderr",
     "output_type": "stream",
     "text": [
      "c:\\Users\\rosa-\\anaconda3\\envs\\xaifo\\lib\\site-packages\\deepsnap\\graph.py:2126: UserWarning: __floordiv__ is deprecated, and its behavior will change in a future version of pytorch. It currently rounds toward 0 (like the 'trunc' function NOT 'floor'). This results in incorrect rounding for negative values. To keep the current behavior, use torch.div(a, b, rounding_mode='trunc'), or for actual floor division, use torch.div(a, b, rounding_mode='floor').\n",
      "  row = perm // num_nodes\n"
     ]
    },
    {
     "name": "stdout",
     "output_type": "stream",
     "text": [
      "Epoch: 057, Train: 0.9748, Val: 0.9610, Test: 0.9651, Loss: 0.82841\n"
     ]
    },
    {
     "name": "stderr",
     "output_type": "stream",
     "text": [
      "c:\\Users\\rosa-\\anaconda3\\envs\\xaifo\\lib\\site-packages\\deepsnap\\graph.py:2126: UserWarning: __floordiv__ is deprecated, and its behavior will change in a future version of pytorch. It currently rounds toward 0 (like the 'trunc' function NOT 'floor'). This results in incorrect rounding for negative values. To keep the current behavior, use torch.div(a, b, rounding_mode='trunc'), or for actual floor division, use torch.div(a, b, rounding_mode='floor').\n",
      "  row = perm // num_nodes\n"
     ]
    },
    {
     "name": "stdout",
     "output_type": "stream",
     "text": [
      "Epoch: 058, Train: 0.9742, Val: 0.9613, Test: 0.9652, Loss: 0.80735\n"
     ]
    },
    {
     "name": "stderr",
     "output_type": "stream",
     "text": [
      "c:\\Users\\rosa-\\anaconda3\\envs\\xaifo\\lib\\site-packages\\deepsnap\\graph.py:2126: UserWarning: __floordiv__ is deprecated, and its behavior will change in a future version of pytorch. It currently rounds toward 0 (like the 'trunc' function NOT 'floor'). This results in incorrect rounding for negative values. To keep the current behavior, use torch.div(a, b, rounding_mode='trunc'), or for actual floor division, use torch.div(a, b, rounding_mode='floor').\n",
      "  row = perm // num_nodes\n"
     ]
    },
    {
     "name": "stdout",
     "output_type": "stream",
     "text": [
      "Epoch: 059, Train: 0.9749, Val: 0.9615, Test: 0.9653, Loss: 0.79565\n"
     ]
    },
    {
     "name": "stderr",
     "output_type": "stream",
     "text": [
      "c:\\Users\\rosa-\\anaconda3\\envs\\xaifo\\lib\\site-packages\\deepsnap\\graph.py:2126: UserWarning: __floordiv__ is deprecated, and its behavior will change in a future version of pytorch. It currently rounds toward 0 (like the 'trunc' function NOT 'floor'). This results in incorrect rounding for negative values. To keep the current behavior, use torch.div(a, b, rounding_mode='trunc'), or for actual floor division, use torch.div(a, b, rounding_mode='floor').\n",
      "  row = perm // num_nodes\n"
     ]
    },
    {
     "name": "stdout",
     "output_type": "stream",
     "text": [
      "Epoch: 060, Train: 0.9747, Val: 0.9615, Test: 0.9654, Loss: 0.79996\n"
     ]
    },
    {
     "name": "stderr",
     "output_type": "stream",
     "text": [
      "c:\\Users\\rosa-\\anaconda3\\envs\\xaifo\\lib\\site-packages\\deepsnap\\graph.py:2126: UserWarning: __floordiv__ is deprecated, and its behavior will change in a future version of pytorch. It currently rounds toward 0 (like the 'trunc' function NOT 'floor'). This results in incorrect rounding for negative values. To keep the current behavior, use torch.div(a, b, rounding_mode='trunc'), or for actual floor division, use torch.div(a, b, rounding_mode='floor').\n",
      "  row = perm // num_nodes\n"
     ]
    },
    {
     "name": "stdout",
     "output_type": "stream",
     "text": [
      "Epoch: 061, Train: 0.9743, Val: 0.9616, Test: 0.9654, Loss: 0.77717\n"
     ]
    },
    {
     "name": "stderr",
     "output_type": "stream",
     "text": [
      "c:\\Users\\rosa-\\anaconda3\\envs\\xaifo\\lib\\site-packages\\deepsnap\\graph.py:2126: UserWarning: __floordiv__ is deprecated, and its behavior will change in a future version of pytorch. It currently rounds toward 0 (like the 'trunc' function NOT 'floor'). This results in incorrect rounding for negative values. To keep the current behavior, use torch.div(a, b, rounding_mode='trunc'), or for actual floor division, use torch.div(a, b, rounding_mode='floor').\n",
      "  row = perm // num_nodes\n"
     ]
    },
    {
     "name": "stdout",
     "output_type": "stream",
     "text": [
      "Epoch: 062, Train: 0.9749, Val: 0.9616, Test: 0.9654, Loss: 0.77727\n"
     ]
    },
    {
     "name": "stderr",
     "output_type": "stream",
     "text": [
      "c:\\Users\\rosa-\\anaconda3\\envs\\xaifo\\lib\\site-packages\\deepsnap\\graph.py:2126: UserWarning: __floordiv__ is deprecated, and its behavior will change in a future version of pytorch. It currently rounds toward 0 (like the 'trunc' function NOT 'floor'). This results in incorrect rounding for negative values. To keep the current behavior, use torch.div(a, b, rounding_mode='trunc'), or for actual floor division, use torch.div(a, b, rounding_mode='floor').\n",
      "  row = perm // num_nodes\n"
     ]
    },
    {
     "name": "stdout",
     "output_type": "stream",
     "text": [
      "Epoch: 063, Train: 0.9743, Val: 0.9616, Test: 0.9654, Loss: 0.76426\n"
     ]
    },
    {
     "name": "stderr",
     "output_type": "stream",
     "text": [
      "c:\\Users\\rosa-\\anaconda3\\envs\\xaifo\\lib\\site-packages\\deepsnap\\graph.py:2126: UserWarning: __floordiv__ is deprecated, and its behavior will change in a future version of pytorch. It currently rounds toward 0 (like the 'trunc' function NOT 'floor'). This results in incorrect rounding for negative values. To keep the current behavior, use torch.div(a, b, rounding_mode='trunc'), or for actual floor division, use torch.div(a, b, rounding_mode='floor').\n",
      "  row = perm // num_nodes\n"
     ]
    },
    {
     "name": "stdout",
     "output_type": "stream",
     "text": [
      "Epoch: 064, Train: 0.9743, Val: 0.9616, Test: 0.9653, Loss: 0.75909\n"
     ]
    },
    {
     "name": "stderr",
     "output_type": "stream",
     "text": [
      "c:\\Users\\rosa-\\anaconda3\\envs\\xaifo\\lib\\site-packages\\deepsnap\\graph.py:2126: UserWarning: __floordiv__ is deprecated, and its behavior will change in a future version of pytorch. It currently rounds toward 0 (like the 'trunc' function NOT 'floor'). This results in incorrect rounding for negative values. To keep the current behavior, use torch.div(a, b, rounding_mode='trunc'), or for actual floor division, use torch.div(a, b, rounding_mode='floor').\n",
      "  row = perm // num_nodes\n"
     ]
    },
    {
     "name": "stdout",
     "output_type": "stream",
     "text": [
      "Epoch: 065, Train: 0.9741, Val: 0.9616, Test: 0.9654, Loss: 0.75149\n"
     ]
    },
    {
     "name": "stderr",
     "output_type": "stream",
     "text": [
      "c:\\Users\\rosa-\\anaconda3\\envs\\xaifo\\lib\\site-packages\\deepsnap\\graph.py:2126: UserWarning: __floordiv__ is deprecated, and its behavior will change in a future version of pytorch. It currently rounds toward 0 (like the 'trunc' function NOT 'floor'). This results in incorrect rounding for negative values. To keep the current behavior, use torch.div(a, b, rounding_mode='trunc'), or for actual floor division, use torch.div(a, b, rounding_mode='floor').\n",
      "  row = perm // num_nodes\n"
     ]
    },
    {
     "name": "stdout",
     "output_type": "stream",
     "text": [
      "Epoch: 066, Train: 0.9746, Val: 0.9617, Test: 0.9654, Loss: 0.74457\n"
     ]
    },
    {
     "name": "stderr",
     "output_type": "stream",
     "text": [
      "c:\\Users\\rosa-\\anaconda3\\envs\\xaifo\\lib\\site-packages\\deepsnap\\graph.py:2126: UserWarning: __floordiv__ is deprecated, and its behavior will change in a future version of pytorch. It currently rounds toward 0 (like the 'trunc' function NOT 'floor'). This results in incorrect rounding for negative values. To keep the current behavior, use torch.div(a, b, rounding_mode='trunc'), or for actual floor division, use torch.div(a, b, rounding_mode='floor').\n",
      "  row = perm // num_nodes\n"
     ]
    },
    {
     "name": "stdout",
     "output_type": "stream",
     "text": [
      "Epoch: 067, Train: 0.9746, Val: 0.9619, Test: 0.9654, Loss: 0.73637\n"
     ]
    },
    {
     "name": "stderr",
     "output_type": "stream",
     "text": [
      "c:\\Users\\rosa-\\anaconda3\\envs\\xaifo\\lib\\site-packages\\deepsnap\\graph.py:2126: UserWarning: __floordiv__ is deprecated, and its behavior will change in a future version of pytorch. It currently rounds toward 0 (like the 'trunc' function NOT 'floor'). This results in incorrect rounding for negative values. To keep the current behavior, use torch.div(a, b, rounding_mode='trunc'), or for actual floor division, use torch.div(a, b, rounding_mode='floor').\n",
      "  row = perm // num_nodes\n"
     ]
    },
    {
     "name": "stdout",
     "output_type": "stream",
     "text": [
      "Epoch: 068, Train: 0.9745, Val: 0.9621, Test: 0.9656, Loss: 0.72946\n"
     ]
    },
    {
     "name": "stderr",
     "output_type": "stream",
     "text": [
      "c:\\Users\\rosa-\\anaconda3\\envs\\xaifo\\lib\\site-packages\\deepsnap\\graph.py:2126: UserWarning: __floordiv__ is deprecated, and its behavior will change in a future version of pytorch. It currently rounds toward 0 (like the 'trunc' function NOT 'floor'). This results in incorrect rounding for negative values. To keep the current behavior, use torch.div(a, b, rounding_mode='trunc'), or for actual floor division, use torch.div(a, b, rounding_mode='floor').\n",
      "  row = perm // num_nodes\n"
     ]
    },
    {
     "name": "stdout",
     "output_type": "stream",
     "text": [
      "Epoch: 069, Train: 0.9744, Val: 0.9623, Test: 0.9656, Loss: 0.72352\n"
     ]
    },
    {
     "name": "stderr",
     "output_type": "stream",
     "text": [
      "c:\\Users\\rosa-\\anaconda3\\envs\\xaifo\\lib\\site-packages\\deepsnap\\graph.py:2126: UserWarning: __floordiv__ is deprecated, and its behavior will change in a future version of pytorch. It currently rounds toward 0 (like the 'trunc' function NOT 'floor'). This results in incorrect rounding for negative values. To keep the current behavior, use torch.div(a, b, rounding_mode='trunc'), or for actual floor division, use torch.div(a, b, rounding_mode='floor').\n",
      "  row = perm // num_nodes\n"
     ]
    },
    {
     "name": "stdout",
     "output_type": "stream",
     "text": [
      "Epoch: 070, Train: 0.9746, Val: 0.9623, Test: 0.9656, Loss: 0.71523\n"
     ]
    },
    {
     "name": "stderr",
     "output_type": "stream",
     "text": [
      "c:\\Users\\rosa-\\anaconda3\\envs\\xaifo\\lib\\site-packages\\deepsnap\\graph.py:2126: UserWarning: __floordiv__ is deprecated, and its behavior will change in a future version of pytorch. It currently rounds toward 0 (like the 'trunc' function NOT 'floor'). This results in incorrect rounding for negative values. To keep the current behavior, use torch.div(a, b, rounding_mode='trunc'), or for actual floor division, use torch.div(a, b, rounding_mode='floor').\n",
      "  row = perm // num_nodes\n"
     ]
    },
    {
     "name": "stdout",
     "output_type": "stream",
     "text": [
      "Epoch: 071, Train: 0.9742, Val: 0.9623, Test: 0.9655, Loss: 0.70901\n"
     ]
    },
    {
     "name": "stderr",
     "output_type": "stream",
     "text": [
      "c:\\Users\\rosa-\\anaconda3\\envs\\xaifo\\lib\\site-packages\\deepsnap\\graph.py:2126: UserWarning: __floordiv__ is deprecated, and its behavior will change in a future version of pytorch. It currently rounds toward 0 (like the 'trunc' function NOT 'floor'). This results in incorrect rounding for negative values. To keep the current behavior, use torch.div(a, b, rounding_mode='trunc'), or for actual floor division, use torch.div(a, b, rounding_mode='floor').\n",
      "  row = perm // num_nodes\n"
     ]
    },
    {
     "name": "stdout",
     "output_type": "stream",
     "text": [
      "Epoch: 072, Train: 0.9746, Val: 0.9623, Test: 0.9655, Loss: 0.70682\n"
     ]
    },
    {
     "name": "stderr",
     "output_type": "stream",
     "text": [
      "c:\\Users\\rosa-\\anaconda3\\envs\\xaifo\\lib\\site-packages\\deepsnap\\graph.py:2126: UserWarning: __floordiv__ is deprecated, and its behavior will change in a future version of pytorch. It currently rounds toward 0 (like the 'trunc' function NOT 'floor'). This results in incorrect rounding for negative values. To keep the current behavior, use torch.div(a, b, rounding_mode='trunc'), or for actual floor division, use torch.div(a, b, rounding_mode='floor').\n",
      "  row = perm // num_nodes\n"
     ]
    },
    {
     "name": "stdout",
     "output_type": "stream",
     "text": [
      "Epoch: 073, Train: 0.9748, Val: 0.9624, Test: 0.9655, Loss: 0.69609\n"
     ]
    },
    {
     "name": "stderr",
     "output_type": "stream",
     "text": [
      "c:\\Users\\rosa-\\anaconda3\\envs\\xaifo\\lib\\site-packages\\deepsnap\\graph.py:2126: UserWarning: __floordiv__ is deprecated, and its behavior will change in a future version of pytorch. It currently rounds toward 0 (like the 'trunc' function NOT 'floor'). This results in incorrect rounding for negative values. To keep the current behavior, use torch.div(a, b, rounding_mode='trunc'), or for actual floor division, use torch.div(a, b, rounding_mode='floor').\n",
      "  row = perm // num_nodes\n"
     ]
    },
    {
     "name": "stdout",
     "output_type": "stream",
     "text": [
      "Epoch: 074, Train: 0.9742, Val: 0.9625, Test: 0.9656, Loss: 0.69439\n"
     ]
    },
    {
     "name": "stderr",
     "output_type": "stream",
     "text": [
      "c:\\Users\\rosa-\\anaconda3\\envs\\xaifo\\lib\\site-packages\\deepsnap\\graph.py:2126: UserWarning: __floordiv__ is deprecated, and its behavior will change in a future version of pytorch. It currently rounds toward 0 (like the 'trunc' function NOT 'floor'). This results in incorrect rounding for negative values. To keep the current behavior, use torch.div(a, b, rounding_mode='trunc'), or for actual floor division, use torch.div(a, b, rounding_mode='floor').\n",
      "  row = perm // num_nodes\n"
     ]
    },
    {
     "name": "stdout",
     "output_type": "stream",
     "text": [
      "Epoch: 075, Train: 0.9745, Val: 0.9626, Test: 0.9656, Loss: 0.67756\n"
     ]
    },
    {
     "name": "stderr",
     "output_type": "stream",
     "text": [
      "c:\\Users\\rosa-\\anaconda3\\envs\\xaifo\\lib\\site-packages\\deepsnap\\graph.py:2126: UserWarning: __floordiv__ is deprecated, and its behavior will change in a future version of pytorch. It currently rounds toward 0 (like the 'trunc' function NOT 'floor'). This results in incorrect rounding for negative values. To keep the current behavior, use torch.div(a, b, rounding_mode='trunc'), or for actual floor division, use torch.div(a, b, rounding_mode='floor').\n",
      "  row = perm // num_nodes\n"
     ]
    },
    {
     "name": "stdout",
     "output_type": "stream",
     "text": [
      "Epoch: 076, Train: 0.9752, Val: 0.9628, Test: 0.9658, Loss: 0.67698\n"
     ]
    },
    {
     "name": "stderr",
     "output_type": "stream",
     "text": [
      "c:\\Users\\rosa-\\anaconda3\\envs\\xaifo\\lib\\site-packages\\deepsnap\\graph.py:2126: UserWarning: __floordiv__ is deprecated, and its behavior will change in a future version of pytorch. It currently rounds toward 0 (like the 'trunc' function NOT 'floor'). This results in incorrect rounding for negative values. To keep the current behavior, use torch.div(a, b, rounding_mode='trunc'), or for actual floor division, use torch.div(a, b, rounding_mode='floor').\n",
      "  row = perm // num_nodes\n"
     ]
    },
    {
     "name": "stdout",
     "output_type": "stream",
     "text": [
      "Epoch: 077, Train: 0.9748, Val: 0.9630, Test: 0.9660, Loss: 0.67516\n"
     ]
    },
    {
     "name": "stderr",
     "output_type": "stream",
     "text": [
      "c:\\Users\\rosa-\\anaconda3\\envs\\xaifo\\lib\\site-packages\\deepsnap\\graph.py:2126: UserWarning: __floordiv__ is deprecated, and its behavior will change in a future version of pytorch. It currently rounds toward 0 (like the 'trunc' function NOT 'floor'). This results in incorrect rounding for negative values. To keep the current behavior, use torch.div(a, b, rounding_mode='trunc'), or for actual floor division, use torch.div(a, b, rounding_mode='floor').\n",
      "  row = perm // num_nodes\n"
     ]
    },
    {
     "name": "stdout",
     "output_type": "stream",
     "text": [
      "Epoch: 078, Train: 0.9750, Val: 0.9631, Test: 0.9661, Loss: 0.67539\n"
     ]
    },
    {
     "name": "stderr",
     "output_type": "stream",
     "text": [
      "c:\\Users\\rosa-\\anaconda3\\envs\\xaifo\\lib\\site-packages\\deepsnap\\graph.py:2126: UserWarning: __floordiv__ is deprecated, and its behavior will change in a future version of pytorch. It currently rounds toward 0 (like the 'trunc' function NOT 'floor'). This results in incorrect rounding for negative values. To keep the current behavior, use torch.div(a, b, rounding_mode='trunc'), or for actual floor division, use torch.div(a, b, rounding_mode='floor').\n",
      "  row = perm // num_nodes\n"
     ]
    },
    {
     "name": "stdout",
     "output_type": "stream",
     "text": [
      "Epoch: 079, Train: 0.9747, Val: 0.9633, Test: 0.9663, Loss: 0.66251\n"
     ]
    },
    {
     "name": "stderr",
     "output_type": "stream",
     "text": [
      "c:\\Users\\rosa-\\anaconda3\\envs\\xaifo\\lib\\site-packages\\deepsnap\\graph.py:2126: UserWarning: __floordiv__ is deprecated, and its behavior will change in a future version of pytorch. It currently rounds toward 0 (like the 'trunc' function NOT 'floor'). This results in incorrect rounding for negative values. To keep the current behavior, use torch.div(a, b, rounding_mode='trunc'), or for actual floor division, use torch.div(a, b, rounding_mode='floor').\n",
      "  row = perm // num_nodes\n"
     ]
    },
    {
     "name": "stdout",
     "output_type": "stream",
     "text": [
      "Epoch: 080, Train: 0.9744, Val: 0.9634, Test: 0.9664, Loss: 0.66597\n"
     ]
    },
    {
     "name": "stderr",
     "output_type": "stream",
     "text": [
      "c:\\Users\\rosa-\\anaconda3\\envs\\xaifo\\lib\\site-packages\\deepsnap\\graph.py:2126: UserWarning: __floordiv__ is deprecated, and its behavior will change in a future version of pytorch. It currently rounds toward 0 (like the 'trunc' function NOT 'floor'). This results in incorrect rounding for negative values. To keep the current behavior, use torch.div(a, b, rounding_mode='trunc'), or for actual floor division, use torch.div(a, b, rounding_mode='floor').\n",
      "  row = perm // num_nodes\n"
     ]
    },
    {
     "name": "stdout",
     "output_type": "stream",
     "text": [
      "Epoch: 081, Train: 0.9752, Val: 0.9637, Test: 0.9667, Loss: 0.65476\n"
     ]
    },
    {
     "name": "stderr",
     "output_type": "stream",
     "text": [
      "c:\\Users\\rosa-\\anaconda3\\envs\\xaifo\\lib\\site-packages\\deepsnap\\graph.py:2126: UserWarning: __floordiv__ is deprecated, and its behavior will change in a future version of pytorch. It currently rounds toward 0 (like the 'trunc' function NOT 'floor'). This results in incorrect rounding for negative values. To keep the current behavior, use torch.div(a, b, rounding_mode='trunc'), or for actual floor division, use torch.div(a, b, rounding_mode='floor').\n",
      "  row = perm // num_nodes\n"
     ]
    },
    {
     "name": "stdout",
     "output_type": "stream",
     "text": [
      "Epoch: 082, Train: 0.9753, Val: 0.9639, Test: 0.9669, Loss: 0.64983\n"
     ]
    },
    {
     "name": "stderr",
     "output_type": "stream",
     "text": [
      "c:\\Users\\rosa-\\anaconda3\\envs\\xaifo\\lib\\site-packages\\deepsnap\\graph.py:2126: UserWarning: __floordiv__ is deprecated, and its behavior will change in a future version of pytorch. It currently rounds toward 0 (like the 'trunc' function NOT 'floor'). This results in incorrect rounding for negative values. To keep the current behavior, use torch.div(a, b, rounding_mode='trunc'), or for actual floor division, use torch.div(a, b, rounding_mode='floor').\n",
      "  row = perm // num_nodes\n"
     ]
    },
    {
     "name": "stdout",
     "output_type": "stream",
     "text": [
      "Epoch: 083, Train: 0.9755, Val: 0.9643, Test: 0.9672, Loss: 0.64602\n"
     ]
    },
    {
     "name": "stderr",
     "output_type": "stream",
     "text": [
      "c:\\Users\\rosa-\\anaconda3\\envs\\xaifo\\lib\\site-packages\\deepsnap\\graph.py:2126: UserWarning: __floordiv__ is deprecated, and its behavior will change in a future version of pytorch. It currently rounds toward 0 (like the 'trunc' function NOT 'floor'). This results in incorrect rounding for negative values. To keep the current behavior, use torch.div(a, b, rounding_mode='trunc'), or for actual floor division, use torch.div(a, b, rounding_mode='floor').\n",
      "  row = perm // num_nodes\n"
     ]
    },
    {
     "name": "stdout",
     "output_type": "stream",
     "text": [
      "Epoch: 084, Train: 0.9761, Val: 0.9646, Test: 0.9675, Loss: 0.63809\n"
     ]
    },
    {
     "name": "stderr",
     "output_type": "stream",
     "text": [
      "c:\\Users\\rosa-\\anaconda3\\envs\\xaifo\\lib\\site-packages\\deepsnap\\graph.py:2126: UserWarning: __floordiv__ is deprecated, and its behavior will change in a future version of pytorch. It currently rounds toward 0 (like the 'trunc' function NOT 'floor'). This results in incorrect rounding for negative values. To keep the current behavior, use torch.div(a, b, rounding_mode='trunc'), or for actual floor division, use torch.div(a, b, rounding_mode='floor').\n",
      "  row = perm // num_nodes\n"
     ]
    },
    {
     "name": "stdout",
     "output_type": "stream",
     "text": [
      "Epoch: 085, Train: 0.9757, Val: 0.9649, Test: 0.9678, Loss: 0.63239\n"
     ]
    },
    {
     "name": "stderr",
     "output_type": "stream",
     "text": [
      "c:\\Users\\rosa-\\anaconda3\\envs\\xaifo\\lib\\site-packages\\deepsnap\\graph.py:2126: UserWarning: __floordiv__ is deprecated, and its behavior will change in a future version of pytorch. It currently rounds toward 0 (like the 'trunc' function NOT 'floor'). This results in incorrect rounding for negative values. To keep the current behavior, use torch.div(a, b, rounding_mode='trunc'), or for actual floor division, use torch.div(a, b, rounding_mode='floor').\n",
      "  row = perm // num_nodes\n"
     ]
    },
    {
     "name": "stdout",
     "output_type": "stream",
     "text": [
      "Epoch: 086, Train: 0.9757, Val: 0.9652, Test: 0.9682, Loss: 0.63771\n"
     ]
    },
    {
     "name": "stderr",
     "output_type": "stream",
     "text": [
      "c:\\Users\\rosa-\\anaconda3\\envs\\xaifo\\lib\\site-packages\\deepsnap\\graph.py:2126: UserWarning: __floordiv__ is deprecated, and its behavior will change in a future version of pytorch. It currently rounds toward 0 (like the 'trunc' function NOT 'floor'). This results in incorrect rounding for negative values. To keep the current behavior, use torch.div(a, b, rounding_mode='trunc'), or for actual floor division, use torch.div(a, b, rounding_mode='floor').\n",
      "  row = perm // num_nodes\n"
     ]
    },
    {
     "name": "stdout",
     "output_type": "stream",
     "text": [
      "Epoch: 087, Train: 0.9766, Val: 0.9655, Test: 0.9684, Loss: 0.61982\n"
     ]
    },
    {
     "name": "stderr",
     "output_type": "stream",
     "text": [
      "c:\\Users\\rosa-\\anaconda3\\envs\\xaifo\\lib\\site-packages\\deepsnap\\graph.py:2126: UserWarning: __floordiv__ is deprecated, and its behavior will change in a future version of pytorch. It currently rounds toward 0 (like the 'trunc' function NOT 'floor'). This results in incorrect rounding for negative values. To keep the current behavior, use torch.div(a, b, rounding_mode='trunc'), or for actual floor division, use torch.div(a, b, rounding_mode='floor').\n",
      "  row = perm // num_nodes\n"
     ]
    },
    {
     "name": "stdout",
     "output_type": "stream",
     "text": [
      "Epoch: 088, Train: 0.9761, Val: 0.9657, Test: 0.9687, Loss: 0.63126\n"
     ]
    },
    {
     "name": "stderr",
     "output_type": "stream",
     "text": [
      "c:\\Users\\rosa-\\anaconda3\\envs\\xaifo\\lib\\site-packages\\deepsnap\\graph.py:2126: UserWarning: __floordiv__ is deprecated, and its behavior will change in a future version of pytorch. It currently rounds toward 0 (like the 'trunc' function NOT 'floor'). This results in incorrect rounding for negative values. To keep the current behavior, use torch.div(a, b, rounding_mode='trunc'), or for actual floor division, use torch.div(a, b, rounding_mode='floor').\n",
      "  row = perm // num_nodes\n"
     ]
    },
    {
     "name": "stdout",
     "output_type": "stream",
     "text": [
      "Epoch: 089, Train: 0.9765, Val: 0.9660, Test: 0.9690, Loss: 0.62870\n"
     ]
    },
    {
     "name": "stderr",
     "output_type": "stream",
     "text": [
      "c:\\Users\\rosa-\\anaconda3\\envs\\xaifo\\lib\\site-packages\\deepsnap\\graph.py:2126: UserWarning: __floordiv__ is deprecated, and its behavior will change in a future version of pytorch. It currently rounds toward 0 (like the 'trunc' function NOT 'floor'). This results in incorrect rounding for negative values. To keep the current behavior, use torch.div(a, b, rounding_mode='trunc'), or for actual floor division, use torch.div(a, b, rounding_mode='floor').\n",
      "  row = perm // num_nodes\n"
     ]
    },
    {
     "name": "stdout",
     "output_type": "stream",
     "text": [
      "Epoch: 090, Train: 0.9764, Val: 0.9663, Test: 0.9693, Loss: 0.61538\n"
     ]
    },
    {
     "name": "stderr",
     "output_type": "stream",
     "text": [
      "c:\\Users\\rosa-\\anaconda3\\envs\\xaifo\\lib\\site-packages\\deepsnap\\graph.py:2126: UserWarning: __floordiv__ is deprecated, and its behavior will change in a future version of pytorch. It currently rounds toward 0 (like the 'trunc' function NOT 'floor'). This results in incorrect rounding for negative values. To keep the current behavior, use torch.div(a, b, rounding_mode='trunc'), or for actual floor division, use torch.div(a, b, rounding_mode='floor').\n",
      "  row = perm // num_nodes\n"
     ]
    },
    {
     "name": "stdout",
     "output_type": "stream",
     "text": [
      "Epoch: 091, Train: 0.9768, Val: 0.9664, Test: 0.9694, Loss: 0.61380\n"
     ]
    },
    {
     "name": "stderr",
     "output_type": "stream",
     "text": [
      "c:\\Users\\rosa-\\anaconda3\\envs\\xaifo\\lib\\site-packages\\deepsnap\\graph.py:2126: UserWarning: __floordiv__ is deprecated, and its behavior will change in a future version of pytorch. It currently rounds toward 0 (like the 'trunc' function NOT 'floor'). This results in incorrect rounding for negative values. To keep the current behavior, use torch.div(a, b, rounding_mode='trunc'), or for actual floor division, use torch.div(a, b, rounding_mode='floor').\n",
      "  row = perm // num_nodes\n"
     ]
    },
    {
     "name": "stdout",
     "output_type": "stream",
     "text": [
      "Epoch: 092, Train: 0.9776, Val: 0.9666, Test: 0.9696, Loss: 0.61162\n"
     ]
    },
    {
     "name": "stderr",
     "output_type": "stream",
     "text": [
      "c:\\Users\\rosa-\\anaconda3\\envs\\xaifo\\lib\\site-packages\\deepsnap\\graph.py:2126: UserWarning: __floordiv__ is deprecated, and its behavior will change in a future version of pytorch. It currently rounds toward 0 (like the 'trunc' function NOT 'floor'). This results in incorrect rounding for negative values. To keep the current behavior, use torch.div(a, b, rounding_mode='trunc'), or for actual floor division, use torch.div(a, b, rounding_mode='floor').\n",
      "  row = perm // num_nodes\n"
     ]
    },
    {
     "name": "stdout",
     "output_type": "stream",
     "text": [
      "Epoch: 093, Train: 0.9766, Val: 0.9668, Test: 0.9698, Loss: 0.61315\n"
     ]
    },
    {
     "name": "stderr",
     "output_type": "stream",
     "text": [
      "c:\\Users\\rosa-\\anaconda3\\envs\\xaifo\\lib\\site-packages\\deepsnap\\graph.py:2126: UserWarning: __floordiv__ is deprecated, and its behavior will change in a future version of pytorch. It currently rounds toward 0 (like the 'trunc' function NOT 'floor'). This results in incorrect rounding for negative values. To keep the current behavior, use torch.div(a, b, rounding_mode='trunc'), or for actual floor division, use torch.div(a, b, rounding_mode='floor').\n",
      "  row = perm // num_nodes\n"
     ]
    },
    {
     "name": "stdout",
     "output_type": "stream",
     "text": [
      "Epoch: 094, Train: 0.9769, Val: 0.9671, Test: 0.9701, Loss: 0.60799\n"
     ]
    },
    {
     "name": "stderr",
     "output_type": "stream",
     "text": [
      "c:\\Users\\rosa-\\anaconda3\\envs\\xaifo\\lib\\site-packages\\deepsnap\\graph.py:2126: UserWarning: __floordiv__ is deprecated, and its behavior will change in a future version of pytorch. It currently rounds toward 0 (like the 'trunc' function NOT 'floor'). This results in incorrect rounding for negative values. To keep the current behavior, use torch.div(a, b, rounding_mode='trunc'), or for actual floor division, use torch.div(a, b, rounding_mode='floor').\n",
      "  row = perm // num_nodes\n"
     ]
    },
    {
     "name": "stdout",
     "output_type": "stream",
     "text": [
      "Epoch: 095, Train: 0.9778, Val: 0.9672, Test: 0.9703, Loss: 0.59548\n"
     ]
    },
    {
     "name": "stderr",
     "output_type": "stream",
     "text": [
      "c:\\Users\\rosa-\\anaconda3\\envs\\xaifo\\lib\\site-packages\\deepsnap\\graph.py:2126: UserWarning: __floordiv__ is deprecated, and its behavior will change in a future version of pytorch. It currently rounds toward 0 (like the 'trunc' function NOT 'floor'). This results in incorrect rounding for negative values. To keep the current behavior, use torch.div(a, b, rounding_mode='trunc'), or for actual floor division, use torch.div(a, b, rounding_mode='floor').\n",
      "  row = perm // num_nodes\n"
     ]
    },
    {
     "name": "stdout",
     "output_type": "stream",
     "text": [
      "Epoch: 096, Train: 0.9778, Val: 0.9674, Test: 0.9705, Loss: 0.60804\n"
     ]
    },
    {
     "name": "stderr",
     "output_type": "stream",
     "text": [
      "c:\\Users\\rosa-\\anaconda3\\envs\\xaifo\\lib\\site-packages\\deepsnap\\graph.py:2126: UserWarning: __floordiv__ is deprecated, and its behavior will change in a future version of pytorch. It currently rounds toward 0 (like the 'trunc' function NOT 'floor'). This results in incorrect rounding for negative values. To keep the current behavior, use torch.div(a, b, rounding_mode='trunc'), or for actual floor division, use torch.div(a, b, rounding_mode='floor').\n",
      "  row = perm // num_nodes\n"
     ]
    },
    {
     "name": "stdout",
     "output_type": "stream",
     "text": [
      "Epoch: 097, Train: 0.9774, Val: 0.9676, Test: 0.9706, Loss: 0.59339\n"
     ]
    },
    {
     "name": "stderr",
     "output_type": "stream",
     "text": [
      "c:\\Users\\rosa-\\anaconda3\\envs\\xaifo\\lib\\site-packages\\deepsnap\\graph.py:2126: UserWarning: __floordiv__ is deprecated, and its behavior will change in a future version of pytorch. It currently rounds toward 0 (like the 'trunc' function NOT 'floor'). This results in incorrect rounding for negative values. To keep the current behavior, use torch.div(a, b, rounding_mode='trunc'), or for actual floor division, use torch.div(a, b, rounding_mode='floor').\n",
      "  row = perm // num_nodes\n"
     ]
    },
    {
     "name": "stdout",
     "output_type": "stream",
     "text": [
      "Epoch: 098, Train: 0.9777, Val: 0.9678, Test: 0.9708, Loss: 0.59150\n"
     ]
    },
    {
     "name": "stderr",
     "output_type": "stream",
     "text": [
      "c:\\Users\\rosa-\\anaconda3\\envs\\xaifo\\lib\\site-packages\\deepsnap\\graph.py:2126: UserWarning: __floordiv__ is deprecated, and its behavior will change in a future version of pytorch. It currently rounds toward 0 (like the 'trunc' function NOT 'floor'). This results in incorrect rounding for negative values. To keep the current behavior, use torch.div(a, b, rounding_mode='trunc'), or for actual floor division, use torch.div(a, b, rounding_mode='floor').\n",
      "  row = perm // num_nodes\n"
     ]
    },
    {
     "name": "stdout",
     "output_type": "stream",
     "text": [
      "Epoch: 099, Train: 0.9779, Val: 0.9680, Test: 0.9710, Loss: 0.59328\n"
     ]
    },
    {
     "name": "stderr",
     "output_type": "stream",
     "text": [
      "c:\\Users\\rosa-\\anaconda3\\envs\\xaifo\\lib\\site-packages\\deepsnap\\graph.py:2126: UserWarning: __floordiv__ is deprecated, and its behavior will change in a future version of pytorch. It currently rounds toward 0 (like the 'trunc' function NOT 'floor'). This results in incorrect rounding for negative values. To keep the current behavior, use torch.div(a, b, rounding_mode='trunc'), or for actual floor division, use torch.div(a, b, rounding_mode='floor').\n",
      "  row = perm // num_nodes\n"
     ]
    },
    {
     "name": "stdout",
     "output_type": "stream",
     "text": [
      "Train: 0.9781, Val: 0.9680, Test: 0.9710\n"
     ]
    }
   ],
   "source": [
    "best_model, best_x, performance = train(model, dataloaders, optimizer, args)\n",
    "\n",
    "best_train_roc = test(best_model, dataloaders['train'], args)\n",
    "best_val_roc = test(best_model, dataloaders['val'], args)\n",
    "best_test_roc = test(best_model, dataloaders['test'], args)\n",
    "\n",
    "print('Train: {:.4f}, Val: {:.4f}, Test: {:.4f}'.format(best_train_roc, best_val_roc, best_test_roc))"
   ]
  },
  {
   "attachments": {},
   "cell_type": "markdown",
   "metadata": {},
   "source": [
    "Save the model and parameters"
   ]
  },
  {
   "cell_type": "code",
   "execution_count": 54,
   "metadata": {},
   "outputs": [],
   "source": [
    "torch.save(best_model.state_dict(), f'output/best_model_{dataset_nr}.pth')\n",
    "with open(f'output/best_model_{dataset_nr}_args.pkl', 'wb') as f:\n",
    "    pickle.dump(args, f)"
   ]
  },
  {
   "attachments": {},
   "cell_type": "markdown",
   "metadata": {},
   "source": [
    "### Visualize Trained GNN Model Accuracy"
   ]
  },
  {
   "attachments": {},
   "cell_type": "markdown",
   "metadata": {},
   "source": [
    "Plot AUC and loss throughout epochs"
   ]
  },
  {
   "cell_type": "code",
   "execution_count": 55,
   "metadata": {},
   "outputs": [
    {
     "data": {
      "image/png": "[encoded data removed]",
      "text/plain": [
       "<Figure size 1000x700 with 1 Axes>"
      ]
     },
     "metadata": {},
     "output_type": "display_data"
    }
   ],
   "source": [
    "plt.figure(figsize= (10,7))\n",
    "plt.plot(np.log10(performance[0]), label = 'Loss')\n",
    "plt.plot(performance[1], label = 'AUC Train')\n",
    "plt.plot(performance[2], label = 'AUC Validation')\n",
    "plt.plot(performance[3], label = 'AUC Test')\n",
    "plt.legend()\n",
    "plt.ylabel('AUC/Loss')\n",
    "plt.xlabel('Epochs')\n",
    "plt.title(f'Training curve of GNN on dataset {dataset_nr}')\n",
    "plt.show()"
   ]
  },
  {
   "attachments": {},
   "cell_type": "markdown",
   "metadata": {},
   "source": [
    "Plot ROC curve using test set\n",
    "- High TPR and lower FPR indicates that the proportion of correctly classified samples (true positives) is greater than the proportion of incorrectly classified samples (false positives)"
   ]
  },
  {
   "cell_type": "code",
   "execution_count": 56,
   "metadata": {},
   "outputs": [
    {
     "name": "stdout",
     "output_type": "stream",
     "text": [
      "0.9710497611145382\n"
     ]
    },
    {
     "data": {
      "image/png": "[encoded data removed]",
      "text/plain": [
       "<Figure size 700x700 with 1 Axes>"
      ]
     },
     "metadata": {},
     "output_type": "display_data"
    }
   ],
   "source": [
    "for batch in dataloaders['test']:\n",
    "    feat, edge_index, edge_label_index = batch.node_feature, batch.edge_index, batch.edge_label_index\n",
    "    batch.to(args[\"device\"])\n",
    "    pred, x = best_model(feat, edge_index, edge_label_index, training = False)\n",
    "    pred = torch.sigmoid(pred)\n",
    "    score = roc_auc_score(batch.edge_label.flatten().cpu().numpy(), pred.flatten().data.cpu().numpy())\n",
    "    print(score)\n",
    "    \n",
    "fpr, tpr, thresholds = roc_curve(batch.edge_label.flatten().cpu().numpy(), pred.flatten().data.cpu().numpy())\n",
    "plt.figure(figsize = (7, 7))\n",
    "plt.plot(fpr, tpr, marker='.')\n",
    "plt.xlabel('False Positive Rate')   # 1 - specificity\n",
    "plt.ylabel('True Positive Rate')    # sensitivity\n",
    "plt.title(f'ROC curve on test set from dataset {dataset_nr}')\n",
    "plt.show()"
   ]
  },
  {
   "attachments": {},
   "cell_type": "markdown",
   "metadata": {},
   "source": [
    "Calculate F1-score using test set\n",
    "\n",
    "Elements of the F1-score:\n",
    "- Precision represents the proportion of correctly classifying samples as positive (high precision: classifying a sample as positive has a high probability to be correct)\n",
    "- Recall represents the proportion of finding all positives (high recall: all positive samples have been classified as being positive)\n",
    "\n",
    "Maximizing both elements in order to yield a model that identifies all positive samples and only identifies these samples as positives.\n",
    "\n",
    "For the F1-score, the average of precision and recall is calculated, using the harmonic mean method (equal importance):\n",
    "- High F1-score indicates that precision and recall are both high\n",
    "- Medium F1-score indicates that one of the elements is high and the other low\n",
    "- Low F1-score indicates that precision and recall are both low"
   ]
  },
  {
   "cell_type": "code",
   "execution_count": 57,
   "metadata": {},
   "outputs": [
    {
     "name": "stdout",
     "output_type": "stream",
     "text": [
      "F1-Score in the test set of dataset 2: 0.9087070785403473\n",
      "              precision    recall  f1-score   support\n",
      "\n",
      "           0       0.95      0.85      0.90     11008\n",
      "           1       0.86      0.96      0.91     11008\n",
      "\n",
      "    accuracy                           0.90     22016\n",
      "   macro avg       0.91      0.90      0.90     22016\n",
      "weighted avg       0.91      0.90      0.90     22016\n",
      "\n"
     ]
    }
   ],
   "source": [
    "def test_f1(model, dataloader, args, threshold):\n",
    "    model.eval()\n",
    "    score = 0\n",
    "    num_batches = 0\n",
    "    for batch in dataloader:\n",
    "        feat, edge_index, edge_label_index = batch.node_feature, batch.edge_index, batch.edge_label_index\n",
    "        batch.to(args[\"device\"])\n",
    "        pred, x = model(feat, edge_index, edge_label_index, training = False)\n",
    "        pred = torch.sigmoid(pred) > threshold\n",
    "        score += f1_score(batch.edge_label.flatten().cpu().numpy(), pred.flatten().data.cpu().numpy())\n",
    "        num_batches += 1\n",
    "    score /= num_batches \n",
    "    return batch.edge_label.flatten().cpu().numpy(), pred.flatten().data.cpu().numpy(), score\n",
    "\n",
    "true_label, pred_label, best_test_f1 = test_f1(best_model, dataloaders['test'], args, 0.75)\n",
    "print(f'F1-Score in the test set of dataset {dataset_nr}:', best_test_f1)\n",
    "print(classification_report(true_label, pred_label))"
   ]
  },
  {
   "cell_type": "code",
   "execution_count": 58,
   "metadata": {},
   "outputs": [
    {
     "name": "stderr",
     "output_type": "stream",
     "text": [
      "c:\\Users\\rosa-\\anaconda3\\envs\\xaifo\\lib\\site-packages\\deepsnap\\graph.py:2126: UserWarning: __floordiv__ is deprecated, and its behavior will change in a future version of pytorch. It currently rounds toward 0 (like the 'trunc' function NOT 'floor'). This results in incorrect rounding for negative values. To keep the current behavior, use torch.div(a, b, rounding_mode='trunc'), or for actual floor division, use torch.div(a, b, rounding_mode='floor').\n",
      "  row = perm // num_nodes\n"
     ]
    },
    {
     "name": "stdout",
     "output_type": "stream",
     "text": [
      "[[78028 10022]\n",
      " [ 2876 85174]]\n"
     ]
    }
   ],
   "source": [
    "def test_cm(model, dataloader, args, threshold):\n",
    "    model.eval()\n",
    "    for batch in dataloader:\n",
    "        feat, edge_index, edge_label_index = batch.node_feature, batch.edge_index, batch.edge_label_index\n",
    "        batch.to(args[\"device\"])\n",
    "        pred, x = model(feat, edge_index, edge_label_index, training = False)\n",
    "        pred = torch.sigmoid(pred) > threshold\n",
    "        score = confusion_matrix(batch.edge_label.flatten().cpu().numpy(), pred.flatten().data.cpu().numpy())\n",
    "    return score\n",
    "\n",
    "table = test_cm(best_model, dataloaders['train'], args, 0.8)\n",
    "print(table)"
   ]
  },
  {
   "attachments": {},
   "cell_type": "markdown",
   "metadata": {},
   "source": [
    "# Hyperparameter Optimization of Node Embedding and GNN Training"
   ]
  },
  {
   "attachments": {},
   "cell_type": "markdown",
   "metadata": {},
   "source": [
    "The routine including node embedding and GNN training that needs to be optimized is contained in `hyperparam_opt.py`."
   ]
  },
  {
   "attachments": {},
   "cell_type": "markdown",
   "metadata": {},
   "source": [
    "# GNN Predictions"
   ]
  },
  {
   "attachments": {},
   "cell_type": "markdown",
   "metadata": {},
   "source": [
    "Load the Edge2Vec embedding"
   ]
  },
  {
   "cell_type": "code",
   "execution_count": 14,
   "metadata": {},
   "outputs": [
    {
     "data": {
      "text/html": [
       "<div>\n",
       "<style scoped>\n",
       "    .dataframe tbody tr th:only-of-type {\n",
       "        vertical-align: middle;\n",
       "    }\n",
       "\n",
       "    .dataframe tbody tr th {\n",
       "        vertical-align: top;\n",
       "    }\n",
       "\n",
       "    .dataframe thead th {\n",
       "        text-align: right;\n",
       "    }\n",
       "</style>\n",
       "<table border=\"1\" class=\"dataframe\">\n",
       "  <thead>\n",
       "    <tr style=\"text-align: right;\">\n",
       "      <th></th>\n",
       "      <th>Node</th>\n",
       "      <th>Embedding</th>\n",
       "    </tr>\n",
       "  </thead>\n",
       "  <tbody>\n",
       "    <tr>\n",
       "      <th>0</th>\n",
       "      <td>0</td>\n",
       "      <td>[0.3984332, -0.31286958, 0.5400291, 0.50470465...</td>\n",
       "    </tr>\n",
       "    <tr>\n",
       "      <th>1</th>\n",
       "      <td>1</td>\n",
       "      <td>[0.44448715, -0.21083395, 0.77053374, 0.059516...</td>\n",
       "    </tr>\n",
       "    <tr>\n",
       "      <th>2</th>\n",
       "      <td>2</td>\n",
       "      <td>[0.06366989, 0.3194347, 1.0812027, 0.20341216,...</td>\n",
       "    </tr>\n",
       "    <tr>\n",
       "      <th>3</th>\n",
       "      <td>3</td>\n",
       "      <td>[0.1271398, 0.03148787, 0.27353236, 0.39875212...</td>\n",
       "    </tr>\n",
       "    <tr>\n",
       "      <th>4</th>\n",
       "      <td>4</td>\n",
       "      <td>[0.5111069, -0.14326268, 0.4403008, 0.511082, ...</td>\n",
       "    </tr>\n",
       "    <tr>\n",
       "      <th>...</th>\n",
       "      <td>...</td>\n",
       "      <td>...</td>\n",
       "    </tr>\n",
       "    <tr>\n",
       "      <th>10270</th>\n",
       "      <td>10270</td>\n",
       "      <td>[0.14994565, 0.14421983, 0.35291353, 0.1048778...</td>\n",
       "    </tr>\n",
       "    <tr>\n",
       "      <th>10271</th>\n",
       "      <td>10271</td>\n",
       "      <td>[0.57958156, 0.07746426, 0.004016864, -0.28448...</td>\n",
       "    </tr>\n",
       "    <tr>\n",
       "      <th>10272</th>\n",
       "      <td>10272</td>\n",
       "      <td>[0.74247813, -0.6906312, 0.66188675, 0.8234299...</td>\n",
       "    </tr>\n",
       "    <tr>\n",
       "      <th>10273</th>\n",
       "      <td>10273</td>\n",
       "      <td>[-0.22202384, -0.9451154, 0.3080682, 0.2242091...</td>\n",
       "    </tr>\n",
       "    <tr>\n",
       "      <th>10274</th>\n",
       "      <td>10274</td>\n",
       "      <td>[0.27521524, -0.017406194, -0.11163712, 0.4879...</td>\n",
       "    </tr>\n",
       "  </tbody>\n",
       "</table>\n",
       "<p>10275 rows × 2 columns</p>\n",
       "</div>"
      ],
      "text/plain": [
       "        Node                                          Embedding\n",
       "0          0  [0.3984332, -0.31286958, 0.5400291, 0.50470465...\n",
       "1          1  [0.44448715, -0.21083395, 0.77053374, 0.059516...\n",
       "2          2  [0.06366989, 0.3194347, 1.0812027, 0.20341216,...\n",
       "3          3  [0.1271398, 0.03148787, 0.27353236, 0.39875212...\n",
       "4          4  [0.5111069, -0.14326268, 0.4403008, 0.511082, ...\n",
       "...      ...                                                ...\n",
       "10270  10270  [0.14994565, 0.14421983, 0.35291353, 0.1048778...\n",
       "10271  10271  [0.57958156, 0.07746426, 0.004016864, -0.28448...\n",
       "10272  10272  [0.74247813, -0.6906312, 0.66188675, 0.8234299...\n",
       "10273  10273  [-0.22202384, -0.9451154, 0.3080682, 0.2242091...\n",
       "10274  10274  [0.27521524, -0.017406194, -0.11163712, 0.4879...\n",
       "\n",
       "[10275 rows x 2 columns]"
      ]
     },
     "execution_count": 14,
     "metadata": {},
     "output_type": "execute_result"
    }
   ],
   "source": [
    "embedding"
   ]
  },
  {
   "attachments": {},
   "cell_type": "markdown",
   "metadata": {},
   "source": [
    "Initialize a graph with nodes and their embedding features."
   ]
  },
  {
   "cell_type": "code",
   "execution_count": 15,
   "metadata": {},
   "outputs": [
    {
     "name": "stdout",
     "output_type": "stream",
     "text": [
      "(0, {'node_feature': tensor([ 0.3984, -0.3129,  0.5400,  0.5047,  0.3606, -0.1538, -0.4962, -0.2255,\n",
      "        -0.3281, -0.0869,  0.2944, -0.4044,  0.2928, -0.4601,  0.1927, -0.1504,\n",
      "        -0.4191, -0.1028, -0.3842,  0.1555,  0.4455,  0.3406,  0.0176, -0.4781,\n",
      "        -0.3071,  0.6394, -0.4143, -0.0489,  0.0523, -0.2817, -0.2545, -0.5112,\n",
      "        -0.1196, -0.2351,  0.3489,  0.1787,  0.1554,  0.1126,  0.6581,  0.2639,\n",
      "        -0.0216, -0.2815, -0.3214, -0.1436,  0.1828, -0.0387,  0.1260,  0.1041,\n",
      "         0.0978,  0.0397,  0.1876,  0.1959,  0.2125,  0.5915,  0.2164, -0.2079,\n",
      "        -0.3812, -0.3433, -0.0945,  0.2793, -0.4201, -0.2743, -0.4724, -0.3125])})\n",
      "(0, 8472, {})\n",
      "Number of edges is 55032\n",
      "Number of nodes is 10275\n"
     ]
    }
   ],
   "source": [
    "for node in embedded_node_G.nodes(data=True):\n",
    "    print(node)\n",
    "    break\n",
    "for edge in embedded_node_G.edges(data=True):\n",
    "    print(edge)\n",
    "    break\n",
    "\n",
    "print(\"Number of edges is {}\".format(embedded_node_G.number_of_edges()))\n",
    "print(\"Number of nodes is {}\".format(embedded_node_G.number_of_nodes()))"
   ]
  },
  {
   "cell_type": "code",
   "execution_count": 16,
   "metadata": {},
   "outputs": [
    {
     "name": "stdout",
     "output_type": "stream",
     "text": [
      "torch.Size([2, 110064])\n"
     ]
    }
   ],
   "source": [
    "DeepG = Graph(embedded_node_G)\n",
    "print(DeepG.edge_index.shape)"
   ]
  },
  {
   "attachments": {},
   "cell_type": "markdown",
   "metadata": {},
   "source": [
    "Load arguments and parameters of trained GNN model."
   ]
  },
  {
   "cell_type": "code",
   "execution_count": 17,
   "metadata": {},
   "outputs": [
    {
     "data": {
      "text/plain": [
       "<All keys matched successfully>"
      ]
     },
     "execution_count": 17,
     "metadata": {},
     "output_type": "execute_result"
    }
   ],
   "source": [
    "with open(f'output/best_model_{dataset_nr}_args.pkl', 'rb') as f:\n",
    "    loaded_args = pickle.load(f)\n",
    "    \n",
    "best_model = LinkPredModel(len(embedding['Embedding'][0]), loaded_args['hidden_dim'], loaded_args['output_dim'], loaded_args['layers'], loaded_args['aggr'], loaded_args['dropout'], loaded_args['device']).to(loaded_args['device'])\n",
    "best_model.load_state_dict(torch.load(f'output/best_model_{dataset_nr}.pth'))"
   ]
  },
  {
   "attachments": {},
   "cell_type": "markdown",
   "metadata": {},
   "source": [
    "Get output of best model given the graph"
   ]
  },
  {
   "cell_type": "code",
   "execution_count": 18,
   "metadata": {},
   "outputs": [
    {
     "name": "stdout",
     "output_type": "stream",
     "text": [
      "torch.Size([10275, 64])\n"
     ]
    }
   ],
   "source": [
    "_, best_x = best_model(DeepG.node_feature, DeepG.edge_index, DeepG.edge_label_index, training = False)\n",
    "print(best_x.shape)"
   ]
  },
  {
   "cell_type": "code",
   "execution_count": 19,
   "metadata": {},
   "outputs": [
    {
     "data": {
      "text/html": [
       "<div>\n",
       "<style scoped>\n",
       "    .dataframe tbody tr th:only-of-type {\n",
       "        vertical-align: middle;\n",
       "    }\n",
       "\n",
       "    .dataframe tbody tr th {\n",
       "        vertical-align: top;\n",
       "    }\n",
       "\n",
       "    .dataframe thead th {\n",
       "        text-align: right;\n",
       "    }\n",
       "</style>\n",
       "<table border=\"1\" class=\"dataframe\">\n",
       "  <thead>\n",
       "    <tr style=\"text-align: right;\">\n",
       "      <th></th>\n",
       "      <th>id</th>\n",
       "      <th>semantic</th>\n",
       "      <th>label</th>\n",
       "      <th>semantic_id</th>\n",
       "    </tr>\n",
       "  </thead>\n",
       "  <tbody>\n",
       "    <tr>\n",
       "      <th>0</th>\n",
       "      <td>MP:0004187</td>\n",
       "      <td>phenotype</td>\n",
       "      <td>cardia bifida</td>\n",
       "      <td>9</td>\n",
       "    </tr>\n",
       "    <tr>\n",
       "      <th>1</th>\n",
       "      <td>ZP:0100138</td>\n",
       "      <td>phenotype</td>\n",
       "      <td>muscle tendon junction myotome increased amoun...</td>\n",
       "      <td>9</td>\n",
       "    </tr>\n",
       "    <tr>\n",
       "      <th>2</th>\n",
       "      <td>MGI:1346525</td>\n",
       "      <td>gene</td>\n",
       "      <td>Sgcd</td>\n",
       "      <td>5</td>\n",
       "    </tr>\n",
       "    <tr>\n",
       "      <th>3</th>\n",
       "      <td>OMIM:300377.0044</td>\n",
       "      <td>variant</td>\n",
       "      <td>DMD, LYS770TER</td>\n",
       "      <td>11</td>\n",
       "    </tr>\n",
       "    <tr>\n",
       "      <th>4</th>\n",
       "      <td>ZP:0002210</td>\n",
       "      <td>phenotype</td>\n",
       "      <td>posterior lateral line neuromast primordium mi...</td>\n",
       "      <td>9</td>\n",
       "    </tr>\n",
       "    <tr>\n",
       "      <th>...</th>\n",
       "      <td>...</td>\n",
       "      <td>...</td>\n",
       "      <td>...</td>\n",
       "      <td>...</td>\n",
       "    </tr>\n",
       "    <tr>\n",
       "      <th>10270</th>\n",
       "      <td>ZP:0014934</td>\n",
       "      <td>phenotype</td>\n",
       "      <td>atrioventricular valve development process qua...</td>\n",
       "      <td>9</td>\n",
       "    </tr>\n",
       "    <tr>\n",
       "      <th>10271</th>\n",
       "      <td>ENSEMBL:ENSCAFG00000011207</td>\n",
       "      <td>gene</td>\n",
       "      <td>ENSEMBL:ENSCAFG00000011207</td>\n",
       "      <td>5</td>\n",
       "    </tr>\n",
       "    <tr>\n",
       "      <th>10272</th>\n",
       "      <td>ENSEMBL:ENSXETG00000039922</td>\n",
       "      <td>gene</td>\n",
       "      <td>ENSEMBL:ENSXETG00000039922</td>\n",
       "      <td>5</td>\n",
       "    </tr>\n",
       "    <tr>\n",
       "      <th>10273</th>\n",
       "      <td>ENSEMBL:ENSACAG00000010058</td>\n",
       "      <td>gene</td>\n",
       "      <td>ENSEMBL:ENSACAG00000010058</td>\n",
       "      <td>5</td>\n",
       "    </tr>\n",
       "    <tr>\n",
       "      <th>10274</th>\n",
       "      <td>WBPhenotype:0000019</td>\n",
       "      <td>phenotype</td>\n",
       "      <td>pharyngeal pumping reduced</td>\n",
       "      <td>9</td>\n",
       "    </tr>\n",
       "  </tbody>\n",
       "</table>\n",
       "<p>10275 rows × 4 columns</p>\n",
       "</div>"
      ],
      "text/plain": [
       "                               id   semantic  \\\n",
       "0                      MP:0004187  phenotype   \n",
       "1                      ZP:0100138  phenotype   \n",
       "2                     MGI:1346525       gene   \n",
       "3                OMIM:300377.0044    variant   \n",
       "4                      ZP:0002210  phenotype   \n",
       "...                           ...        ...   \n",
       "10270                  ZP:0014934  phenotype   \n",
       "10271  ENSEMBL:ENSCAFG00000011207       gene   \n",
       "10272  ENSEMBL:ENSXETG00000039922       gene   \n",
       "10273  ENSEMBL:ENSACAG00000010058       gene   \n",
       "10274         WBPhenotype:0000019  phenotype   \n",
       "\n",
       "                                                   label  semantic_id  \n",
       "0                                          cardia bifida            9  \n",
       "1      muscle tendon junction myotome increased amoun...            9  \n",
       "2                                                   Sgcd            5  \n",
       "3                                         DMD, LYS770TER           11  \n",
       "4      posterior lateral line neuromast primordium mi...            9  \n",
       "...                                                  ...          ...  \n",
       "10270  atrioventricular valve development process qua...            9  \n",
       "10271                         ENSEMBL:ENSCAFG00000011207            5  \n",
       "10272                         ENSEMBL:ENSXETG00000039922            5  \n",
       "10273                         ENSEMBL:ENSACAG00000010058            5  \n",
       "10274                         pharyngeal pumping reduced            9  \n",
       "\n",
       "[10275 rows x 4 columns]"
      ]
     },
     "execution_count": 19,
     "metadata": {},
     "output_type": "execute_result"
    }
   ],
   "source": [
    "nodes"
   ]
  },
  {
   "attachments": {},
   "cell_type": "markdown",
   "metadata": {},
   "source": [
    "Define the score function"
   ]
  },
  {
   "cell_type": "code",
   "execution_count": 20,
   "metadata": {},
   "outputs": [],
   "source": [
    "def score(x, id1, id2): \n",
    "    n1 = x[id1]\n",
    "    n2 = x[id2]\n",
    "    score = torch.Tensor([torch.sum(n1 * n2, dim=-1)])\n",
    "    p = torch.sigmoid(score).cpu().detach().numpy()\n",
    "    return p\n",
    "\n",
    "def candidates(nodes, id, x): \n",
    "  ind = nodes[nodes['id'] == id].index.values.astype(int)[0]\n",
    "  predictions = nodes.copy()\n",
    "  scores = []\n",
    "  for i in range(len(x)):  \n",
    "    s = score(x, i, ind)\n",
    "    scores.append(s)\n",
    "  predictions['Score'] = scores\n",
    "  return predictions"
   ]
  },
  {
   "attachments": {},
   "cell_type": "markdown",
   "metadata": {},
   "source": [
    "Calculate the predictions of an edge existing or not between given node ID and each node in the graph contained by semantic group DRUG. Show the top 20 highest probability that an edge exists between a pair of nodes."
   ]
  },
  {
   "cell_type": "code",
   "execution_count": 21,
   "metadata": {},
   "outputs": [
    {
     "data": {
      "text/html": [
       "<div>\n",
       "<style scoped>\n",
       "    .dataframe tbody tr th:only-of-type {\n",
       "        vertical-align: middle;\n",
       "    }\n",
       "\n",
       "    .dataframe tbody tr th {\n",
       "        vertical-align: top;\n",
       "    }\n",
       "\n",
       "    .dataframe thead th {\n",
       "        text-align: right;\n",
       "    }\n",
       "</style>\n",
       "<table border=\"1\" class=\"dataframe\">\n",
       "  <thead>\n",
       "    <tr style=\"text-align: right;\">\n",
       "      <th></th>\n",
       "      <th>id</th>\n",
       "      <th>semantic</th>\n",
       "      <th>label</th>\n",
       "      <th>semantic_id</th>\n",
       "      <th>Score</th>\n",
       "    </tr>\n",
       "  </thead>\n",
       "  <tbody>\n",
       "    <tr>\n",
       "      <th>4998</th>\n",
       "      <td>269</td>\n",
       "      <td>drug</td>\n",
       "      <td>azathioprine</td>\n",
       "      <td>4</td>\n",
       "      <td>[0.99622583]</td>\n",
       "    </tr>\n",
       "    <tr>\n",
       "      <th>5262</th>\n",
       "      <td>1576</td>\n",
       "      <td>drug</td>\n",
       "      <td>levosimendan</td>\n",
       "      <td>4</td>\n",
       "      <td>[0.9954869]</td>\n",
       "    </tr>\n",
       "    <tr>\n",
       "      <th>9966</th>\n",
       "      <td>1795</td>\n",
       "      <td>drug</td>\n",
       "      <td>mezlocillin</td>\n",
       "      <td>4</td>\n",
       "      <td>[0.9896119]</td>\n",
       "    </tr>\n",
       "    <tr>\n",
       "      <th>4772</th>\n",
       "      <td>5330</td>\n",
       "      <td>drug</td>\n",
       "      <td>selinexor</td>\n",
       "      <td>4</td>\n",
       "      <td>[0.98523474]</td>\n",
       "    </tr>\n",
       "    <tr>\n",
       "      <th>6955</th>\n",
       "      <td>1646</td>\n",
       "      <td>drug</td>\n",
       "      <td>mecamylamine</td>\n",
       "      <td>4</td>\n",
       "      <td>[0.9677117]</td>\n",
       "    </tr>\n",
       "    <tr>\n",
       "      <th>1253</th>\n",
       "      <td>1920</td>\n",
       "      <td>drug</td>\n",
       "      <td>nicotine</td>\n",
       "      <td>4</td>\n",
       "      <td>[0.9538333]</td>\n",
       "    </tr>\n",
       "    <tr>\n",
       "      <th>3776</th>\n",
       "      <td>5359</td>\n",
       "      <td>drug</td>\n",
       "      <td>brilliant Blue G</td>\n",
       "      <td>4</td>\n",
       "      <td>[0.9516884]</td>\n",
       "    </tr>\n",
       "    <tr>\n",
       "      <th>10201</th>\n",
       "      <td>MESH:D000077185</td>\n",
       "      <td>drug</td>\n",
       "      <td>Resveratrol</td>\n",
       "      <td>4</td>\n",
       "      <td>[0.9224986]</td>\n",
       "    </tr>\n",
       "    <tr>\n",
       "      <th>1615</th>\n",
       "      <td>MESH:C056165</td>\n",
       "      <td>drug</td>\n",
       "      <td>acetovanillone</td>\n",
       "      <td>4</td>\n",
       "      <td>[0.90357023]</td>\n",
       "    </tr>\n",
       "    <tr>\n",
       "      <th>4008</th>\n",
       "      <td>MESH:D019808</td>\n",
       "      <td>drug</td>\n",
       "      <td>Losartan</td>\n",
       "      <td>4</td>\n",
       "      <td>[0.8961306]</td>\n",
       "    </tr>\n",
       "    <tr>\n",
       "      <th>9805</th>\n",
       "      <td>MESH:D013654</td>\n",
       "      <td>drug</td>\n",
       "      <td>Taurine</td>\n",
       "      <td>4</td>\n",
       "      <td>[0.8885601]</td>\n",
       "    </tr>\n",
       "    <tr>\n",
       "      <th>5428</th>\n",
       "      <td>MESH:D008775</td>\n",
       "      <td>drug</td>\n",
       "      <td>Methylprednisolone</td>\n",
       "      <td>4</td>\n",
       "      <td>[0.8681531]</td>\n",
       "    </tr>\n",
       "    <tr>\n",
       "      <th>2193</th>\n",
       "      <td>MESH:D002185</td>\n",
       "      <td>drug</td>\n",
       "      <td>Cannabidiol</td>\n",
       "      <td>4</td>\n",
       "      <td>[0.86067337]</td>\n",
       "    </tr>\n",
       "    <tr>\n",
       "      <th>2695</th>\n",
       "      <td>5345</td>\n",
       "      <td>drug</td>\n",
       "      <td>entrectinib</td>\n",
       "      <td>4</td>\n",
       "      <td>[0.8546156]</td>\n",
       "    </tr>\n",
       "    <tr>\n",
       "      <th>9999</th>\n",
       "      <td>MESH:D000806</td>\n",
       "      <td>drug</td>\n",
       "      <td>Angiotensin-Converting Enzyme Inhibitors</td>\n",
       "      <td>4</td>\n",
       "      <td>[0.82028174]</td>\n",
       "    </tr>\n",
       "    <tr>\n",
       "      <th>5072</th>\n",
       "      <td>MESH:C580853</td>\n",
       "      <td>drug</td>\n",
       "      <td>cannabidivarin</td>\n",
       "      <td>4</td>\n",
       "      <td>[0.8057699]</td>\n",
       "    </tr>\n",
       "    <tr>\n",
       "      <th>3956</th>\n",
       "      <td>4483</td>\n",
       "      <td>drug</td>\n",
       "      <td>carfilzomib</td>\n",
       "      <td>4</td>\n",
       "      <td>[0.80061936]</td>\n",
       "    </tr>\n",
       "    <tr>\n",
       "      <th>716</th>\n",
       "      <td>4728</td>\n",
       "      <td>drug</td>\n",
       "      <td>tenidap</td>\n",
       "      <td>4</td>\n",
       "      <td>[0.7711448]</td>\n",
       "    </tr>\n",
       "    <tr>\n",
       "      <th>7303</th>\n",
       "      <td>926</td>\n",
       "      <td>drug</td>\n",
       "      <td>disopyramide</td>\n",
       "      <td>4</td>\n",
       "      <td>[0.7629954]</td>\n",
       "    </tr>\n",
       "    <tr>\n",
       "      <th>6041</th>\n",
       "      <td>MESH:C540944</td>\n",
       "      <td>drug</td>\n",
       "      <td>5-O-(5-amino-5-deoxyribofuranosyl)-1N-(4-amino...</td>\n",
       "      <td>4</td>\n",
       "      <td>[0.7610016]</td>\n",
       "    </tr>\n",
       "  </tbody>\n",
       "</table>\n",
       "</div>"
      ],
      "text/plain": [
       "                    id semantic  \\\n",
       "4998               269     drug   \n",
       "5262              1576     drug   \n",
       "9966              1795     drug   \n",
       "4772              5330     drug   \n",
       "6955              1646     drug   \n",
       "1253              1920     drug   \n",
       "3776              5359     drug   \n",
       "10201  MESH:D000077185     drug   \n",
       "1615      MESH:C056165     drug   \n",
       "4008      MESH:D019808     drug   \n",
       "9805      MESH:D013654     drug   \n",
       "5428      MESH:D008775     drug   \n",
       "2193      MESH:D002185     drug   \n",
       "2695              5345     drug   \n",
       "9999      MESH:D000806     drug   \n",
       "5072      MESH:C580853     drug   \n",
       "3956              4483     drug   \n",
       "716               4728     drug   \n",
       "7303               926     drug   \n",
       "6041      MESH:C540944     drug   \n",
       "\n",
       "                                                   label  semantic_id  \\\n",
       "4998                                        azathioprine            4   \n",
       "5262                                        levosimendan            4   \n",
       "9966                                         mezlocillin            4   \n",
       "4772                                           selinexor            4   \n",
       "6955                                        mecamylamine            4   \n",
       "1253                                            nicotine            4   \n",
       "3776                                    brilliant Blue G            4   \n",
       "10201                                        Resveratrol            4   \n",
       "1615                                      acetovanillone            4   \n",
       "4008                                            Losartan            4   \n",
       "9805                                             Taurine            4   \n",
       "5428                                  Methylprednisolone            4   \n",
       "2193                                         Cannabidiol            4   \n",
       "2695                                         entrectinib            4   \n",
       "9999            Angiotensin-Converting Enzyme Inhibitors            4   \n",
       "5072                                      cannabidivarin            4   \n",
       "3956                                         carfilzomib            4   \n",
       "716                                              tenidap            4   \n",
       "7303                                        disopyramide            4   \n",
       "6041   5-O-(5-amino-5-deoxyribofuranosyl)-1N-(4-amino...            4   \n",
       "\n",
       "              Score  \n",
       "4998   [0.99622583]  \n",
       "5262    [0.9954869]  \n",
       "9966    [0.9896119]  \n",
       "4772   [0.98523474]  \n",
       "6955    [0.9677117]  \n",
       "1253    [0.9538333]  \n",
       "3776    [0.9516884]  \n",
       "10201   [0.9224986]  \n",
       "1615   [0.90357023]  \n",
       "4008    [0.8961306]  \n",
       "9805    [0.8885601]  \n",
       "5428    [0.8681531]  \n",
       "2193   [0.86067337]  \n",
       "2695    [0.8546156]  \n",
       "9999   [0.82028174]  \n",
       "5072    [0.8057699]  \n",
       "3956   [0.80061936]  \n",
       "716     [0.7711448]  \n",
       "7303    [0.7629954]  \n",
       "6041    [0.7610016]  "
      ]
     },
     "execution_count": 21,
     "metadata": {},
     "output_type": "execute_result"
    }
   ],
   "source": [
    "if dataset_nr == 1:\n",
    "    drug_semantic = 'DRUG'\n",
    "else:\n",
    "    drug_semantic = 'drug'\n",
    "\n",
    "predictions = candidates(nodes, 'HP:0001265', best_x)\n",
    "predictions[predictions['semantic'] == drug_semantic].sort_values(by = ['Score'], ascending = False).head(20)"
   ]
  },
  {
   "attachments": {},
   "cell_type": "markdown",
   "metadata": {},
   "source": [
    "Use the node semantics dictionary"
   ]
  },
  {
   "cell_type": "code",
   "execution_count": 22,
   "metadata": {},
   "outputs": [
    {
     "data": {
      "text/plain": [
       "{9: 'phenotype',\n",
       " 5: 'gene',\n",
       " 11: 'variant',\n",
       " 6: 'gene product',\n",
       " 4: 'drug',\n",
       " 10: 'taxon',\n",
       " 0: 'biological artifact',\n",
       " 7: 'genotype',\n",
       " 1: 'biological process',\n",
       " 3: 'disease',\n",
       " 2: 'cellular component',\n",
       " 8: 'molecular function'}"
      ]
     },
     "execution_count": 22,
     "metadata": {},
     "output_type": "execute_result"
    }
   ],
   "source": [
    "node_semantics = nodes[['semantic', 'semantic_id']].drop_duplicates().set_index('semantic_id').to_dict()\n",
    "node_semantics_dict = node_semantics['semantic']\n",
    "node_semantics_dict"
   ]
  },
  {
   "attachments": {},
   "cell_type": "markdown",
   "metadata": {},
   "source": [
    "Get all phenotypes and diseases relevant to the disease."
   ]
  },
  {
   "cell_type": "code",
   "execution_count": 23,
   "metadata": {},
   "outputs": [
    {
     "name": "stdout",
     "output_type": "stream",
     "text": [
      "A total of 27 symptoms found that are associated with MONDO:0010679\n"
     ]
    },
    {
     "data": {
      "text/html": [
       "<div>\n",
       "<style scoped>\n",
       "    .dataframe tbody tr th:only-of-type {\n",
       "        vertical-align: middle;\n",
       "    }\n",
       "\n",
       "    .dataframe tbody tr th {\n",
       "        vertical-align: top;\n",
       "    }\n",
       "\n",
       "    .dataframe thead th {\n",
       "        text-align: right;\n",
       "    }\n",
       "</style>\n",
       "<table border=\"1\" class=\"dataframe\">\n",
       "  <thead>\n",
       "    <tr style=\"text-align: right;\">\n",
       "      <th></th>\n",
       "      <th>head</th>\n",
       "      <th>label_head</th>\n",
       "      <th>class_head</th>\n",
       "      <th>index_head</th>\n",
       "      <th>relation</th>\n",
       "      <th>tail</th>\n",
       "      <th>label_tail</th>\n",
       "      <th>class_tail</th>\n",
       "      <th>index_tail</th>\n",
       "      <th>type</th>\n",
       "    </tr>\n",
       "  </thead>\n",
       "  <tbody>\n",
       "    <tr>\n",
       "      <th>41373</th>\n",
       "      <td>MONDO:0010679</td>\n",
       "      <td>Duchenne muscular dystrophy</td>\n",
       "      <td>3</td>\n",
       "      <td>1913</td>\n",
       "      <td>associated with phenotype</td>\n",
       "      <td>HP:0003707</td>\n",
       "      <td>Calf muscle pseudohypertrophy</td>\n",
       "      <td>9</td>\n",
       "      <td>5727</td>\n",
       "      <td>18</td>\n",
       "    </tr>\n",
       "    <tr>\n",
       "      <th>41374</th>\n",
       "      <td>MONDO:0010679</td>\n",
       "      <td>Duchenne muscular dystrophy</td>\n",
       "      <td>3</td>\n",
       "      <td>1913</td>\n",
       "      <td>associated with phenotype</td>\n",
       "      <td>HP:0003236</td>\n",
       "      <td>Elevated serum creatine kinase</td>\n",
       "      <td>9</td>\n",
       "      <td>1351</td>\n",
       "      <td>18</td>\n",
       "    </tr>\n",
       "    <tr>\n",
       "      <th>41375</th>\n",
       "      <td>MONDO:0010679</td>\n",
       "      <td>Duchenne muscular dystrophy</td>\n",
       "      <td>3</td>\n",
       "      <td>1913</td>\n",
       "      <td>associated with phenotype</td>\n",
       "      <td>HP:0001256</td>\n",
       "      <td>Intellectual disability, mild</td>\n",
       "      <td>9</td>\n",
       "      <td>4533</td>\n",
       "      <td>18</td>\n",
       "    </tr>\n",
       "    <tr>\n",
       "      <th>41376</th>\n",
       "      <td>MONDO:0010679</td>\n",
       "      <td>Duchenne muscular dystrophy</td>\n",
       "      <td>3</td>\n",
       "      <td>1913</td>\n",
       "      <td>associated with phenotype</td>\n",
       "      <td>HP:0001265</td>\n",
       "      <td>Hyporeflexia</td>\n",
       "      <td>9</td>\n",
       "      <td>6515</td>\n",
       "      <td>18</td>\n",
       "    </tr>\n",
       "    <tr>\n",
       "      <th>41377</th>\n",
       "      <td>MONDO:0010679</td>\n",
       "      <td>Duchenne muscular dystrophy</td>\n",
       "      <td>3</td>\n",
       "      <td>1913</td>\n",
       "      <td>associated with phenotype</td>\n",
       "      <td>HP:0001290</td>\n",
       "      <td>Generalized hypotonia</td>\n",
       "      <td>9</td>\n",
       "      <td>5372</td>\n",
       "      <td>18</td>\n",
       "    </tr>\n",
       "    <tr>\n",
       "      <th>41378</th>\n",
       "      <td>MONDO:0010679</td>\n",
       "      <td>Duchenne muscular dystrophy</td>\n",
       "      <td>3</td>\n",
       "      <td>1913</td>\n",
       "      <td>associated with phenotype</td>\n",
       "      <td>HP:0003307</td>\n",
       "      <td>Hyperlordosis</td>\n",
       "      <td>9</td>\n",
       "      <td>2737</td>\n",
       "      <td>18</td>\n",
       "    </tr>\n",
       "    <tr>\n",
       "      <th>41379</th>\n",
       "      <td>MONDO:0010679</td>\n",
       "      <td>Duchenne muscular dystrophy</td>\n",
       "      <td>3</td>\n",
       "      <td>1913</td>\n",
       "      <td>associated with phenotype</td>\n",
       "      <td>HP:0003202</td>\n",
       "      <td>Skeletal muscle atrophy</td>\n",
       "      <td>9</td>\n",
       "      <td>788</td>\n",
       "      <td>18</td>\n",
       "    </tr>\n",
       "    <tr>\n",
       "      <th>41380</th>\n",
       "      <td>MONDO:0010679</td>\n",
       "      <td>Duchenne muscular dystrophy</td>\n",
       "      <td>3</td>\n",
       "      <td>1913</td>\n",
       "      <td>associated with phenotype</td>\n",
       "      <td>HP:0001263</td>\n",
       "      <td>Global developmental delay</td>\n",
       "      <td>9</td>\n",
       "      <td>7259</td>\n",
       "      <td>18</td>\n",
       "    </tr>\n",
       "    <tr>\n",
       "      <th>41381</th>\n",
       "      <td>MONDO:0010679</td>\n",
       "      <td>Duchenne muscular dystrophy</td>\n",
       "      <td>3</td>\n",
       "      <td>1913</td>\n",
       "      <td>associated with phenotype</td>\n",
       "      <td>HP:0002791</td>\n",
       "      <td>Hypoventilation</td>\n",
       "      <td>9</td>\n",
       "      <td>1682</td>\n",
       "      <td>18</td>\n",
       "    </tr>\n",
       "    <tr>\n",
       "      <th>41382</th>\n",
       "      <td>MONDO:0010679</td>\n",
       "      <td>Duchenne muscular dystrophy</td>\n",
       "      <td>3</td>\n",
       "      <td>1913</td>\n",
       "      <td>associated with phenotype</td>\n",
       "      <td>HP:0001371</td>\n",
       "      <td>Flexion contracture</td>\n",
       "      <td>9</td>\n",
       "      <td>5052</td>\n",
       "      <td>18</td>\n",
       "    </tr>\n",
       "    <tr>\n",
       "      <th>41383</th>\n",
       "      <td>MONDO:0010679</td>\n",
       "      <td>Duchenne muscular dystrophy</td>\n",
       "      <td>3</td>\n",
       "      <td>1913</td>\n",
       "      <td>associated with phenotype</td>\n",
       "      <td>HP:0003701</td>\n",
       "      <td>Proximal muscle weakness</td>\n",
       "      <td>9</td>\n",
       "      <td>5762</td>\n",
       "      <td>18</td>\n",
       "    </tr>\n",
       "    <tr>\n",
       "      <th>41384</th>\n",
       "      <td>MONDO:0010679</td>\n",
       "      <td>Duchenne muscular dystrophy</td>\n",
       "      <td>3</td>\n",
       "      <td>1913</td>\n",
       "      <td>associated with phenotype</td>\n",
       "      <td>HP:0001270</td>\n",
       "      <td>Motor delay</td>\n",
       "      <td>9</td>\n",
       "      <td>1429</td>\n",
       "      <td>18</td>\n",
       "    </tr>\n",
       "    <tr>\n",
       "      <th>41386</th>\n",
       "      <td>MONDO:0010679</td>\n",
       "      <td>Duchenne muscular dystrophy</td>\n",
       "      <td>3</td>\n",
       "      <td>1913</td>\n",
       "      <td>associated with phenotype</td>\n",
       "      <td>HP:0003560</td>\n",
       "      <td>Muscular dystrophy</td>\n",
       "      <td>9</td>\n",
       "      <td>898</td>\n",
       "      <td>18</td>\n",
       "    </tr>\n",
       "    <tr>\n",
       "      <th>41387</th>\n",
       "      <td>MONDO:0010679</td>\n",
       "      <td>Duchenne muscular dystrophy</td>\n",
       "      <td>3</td>\n",
       "      <td>1913</td>\n",
       "      <td>associated with phenotype</td>\n",
       "      <td>HP:0008981</td>\n",
       "      <td>Calf muscle hypertrophy</td>\n",
       "      <td>9</td>\n",
       "      <td>4673</td>\n",
       "      <td>18</td>\n",
       "    </tr>\n",
       "    <tr>\n",
       "      <th>41388</th>\n",
       "      <td>MONDO:0010679</td>\n",
       "      <td>Duchenne muscular dystrophy</td>\n",
       "      <td>3</td>\n",
       "      <td>1913</td>\n",
       "      <td>associated with phenotype</td>\n",
       "      <td>HP:0002650</td>\n",
       "      <td>Scoliosis</td>\n",
       "      <td>9</td>\n",
       "      <td>4540</td>\n",
       "      <td>18</td>\n",
       "    </tr>\n",
       "    <tr>\n",
       "      <th>41389</th>\n",
       "      <td>MONDO:0010679</td>\n",
       "      <td>Duchenne muscular dystrophy</td>\n",
       "      <td>3</td>\n",
       "      <td>1913</td>\n",
       "      <td>associated with phenotype</td>\n",
       "      <td>HP:0001638</td>\n",
       "      <td>Cardiomyopathy</td>\n",
       "      <td>9</td>\n",
       "      <td>3222</td>\n",
       "      <td>18</td>\n",
       "    </tr>\n",
       "    <tr>\n",
       "      <th>41390</th>\n",
       "      <td>MONDO:0010679</td>\n",
       "      <td>Duchenne muscular dystrophy</td>\n",
       "      <td>3</td>\n",
       "      <td>1913</td>\n",
       "      <td>associated with phenotype</td>\n",
       "      <td>HP:0003323</td>\n",
       "      <td>Progressive muscle weakness</td>\n",
       "      <td>9</td>\n",
       "      <td>10187</td>\n",
       "      <td>18</td>\n",
       "    </tr>\n",
       "    <tr>\n",
       "      <th>41391</th>\n",
       "      <td>MONDO:0010679</td>\n",
       "      <td>Duchenne muscular dystrophy</td>\n",
       "      <td>3</td>\n",
       "      <td>1913</td>\n",
       "      <td>associated with phenotype</td>\n",
       "      <td>HP:0001635</td>\n",
       "      <td>Congestive heart failure</td>\n",
       "      <td>9</td>\n",
       "      <td>1660</td>\n",
       "      <td>18</td>\n",
       "    </tr>\n",
       "    <tr>\n",
       "      <th>41392</th>\n",
       "      <td>MONDO:0010679</td>\n",
       "      <td>Duchenne muscular dystrophy</td>\n",
       "      <td>3</td>\n",
       "      <td>1913</td>\n",
       "      <td>associated with phenotype</td>\n",
       "      <td>HP:0000750</td>\n",
       "      <td>Delayed speech and language development</td>\n",
       "      <td>9</td>\n",
       "      <td>7722</td>\n",
       "      <td>18</td>\n",
       "    </tr>\n",
       "    <tr>\n",
       "      <th>41393</th>\n",
       "      <td>MONDO:0010679</td>\n",
       "      <td>Duchenne muscular dystrophy</td>\n",
       "      <td>3</td>\n",
       "      <td>1913</td>\n",
       "      <td>associated with phenotype</td>\n",
       "      <td>HP:0003115</td>\n",
       "      <td>Abnormal EKG</td>\n",
       "      <td>9</td>\n",
       "      <td>3941</td>\n",
       "      <td>18</td>\n",
       "    </tr>\n",
       "    <tr>\n",
       "      <th>41394</th>\n",
       "      <td>MONDO:0010679</td>\n",
       "      <td>Duchenne muscular dystrophy</td>\n",
       "      <td>3</td>\n",
       "      <td>1913</td>\n",
       "      <td>associated with phenotype</td>\n",
       "      <td>HP:0011675</td>\n",
       "      <td>Arrhythmia</td>\n",
       "      <td>9</td>\n",
       "      <td>4336</td>\n",
       "      <td>18</td>\n",
       "    </tr>\n",
       "    <tr>\n",
       "      <th>41395</th>\n",
       "      <td>MONDO:0010679</td>\n",
       "      <td>Duchenne muscular dystrophy</td>\n",
       "      <td>3</td>\n",
       "      <td>1913</td>\n",
       "      <td>associated with phenotype</td>\n",
       "      <td>HP:0003391</td>\n",
       "      <td>Gowers sign</td>\n",
       "      <td>9</td>\n",
       "      <td>8594</td>\n",
       "      <td>18</td>\n",
       "    </tr>\n",
       "    <tr>\n",
       "      <th>41397</th>\n",
       "      <td>MONDO:0010679</td>\n",
       "      <td>Duchenne muscular dystrophy</td>\n",
       "      <td>3</td>\n",
       "      <td>1913</td>\n",
       "      <td>associated with phenotype</td>\n",
       "      <td>HP:0002093</td>\n",
       "      <td>Respiratory insufficiency</td>\n",
       "      <td>9</td>\n",
       "      <td>1688</td>\n",
       "      <td>18</td>\n",
       "    </tr>\n",
       "    <tr>\n",
       "      <th>41398</th>\n",
       "      <td>MONDO:0010679</td>\n",
       "      <td>Duchenne muscular dystrophy</td>\n",
       "      <td>3</td>\n",
       "      <td>1913</td>\n",
       "      <td>associated with phenotype</td>\n",
       "      <td>HP:0100543</td>\n",
       "      <td>Cognitive impairment</td>\n",
       "      <td>9</td>\n",
       "      <td>9574</td>\n",
       "      <td>18</td>\n",
       "    </tr>\n",
       "    <tr>\n",
       "      <th>41399</th>\n",
       "      <td>MONDO:0010679</td>\n",
       "      <td>Duchenne muscular dystrophy</td>\n",
       "      <td>3</td>\n",
       "      <td>1913</td>\n",
       "      <td>associated with phenotype</td>\n",
       "      <td>HP:0001644</td>\n",
       "      <td>Dilated cardiomyopathy</td>\n",
       "      <td>9</td>\n",
       "      <td>556</td>\n",
       "      <td>18</td>\n",
       "    </tr>\n",
       "    <tr>\n",
       "      <th>41400</th>\n",
       "      <td>MONDO:0010679</td>\n",
       "      <td>Duchenne muscular dystrophy</td>\n",
       "      <td>3</td>\n",
       "      <td>1913</td>\n",
       "      <td>associated with phenotype</td>\n",
       "      <td>HP:0002515</td>\n",
       "      <td>Waddling gait</td>\n",
       "      <td>9</td>\n",
       "      <td>1474</td>\n",
       "      <td>18</td>\n",
       "    </tr>\n",
       "    <tr>\n",
       "      <th>41401</th>\n",
       "      <td>MONDO:0010679</td>\n",
       "      <td>Duchenne muscular dystrophy</td>\n",
       "      <td>3</td>\n",
       "      <td>1913</td>\n",
       "      <td>associated with phenotype</td>\n",
       "      <td>HP:0001328</td>\n",
       "      <td>Specific learning disability</td>\n",
       "      <td>9</td>\n",
       "      <td>1174</td>\n",
       "      <td>18</td>\n",
       "    </tr>\n",
       "  </tbody>\n",
       "</table>\n",
       "</div>"
      ],
      "text/plain": [
       "                head                   label_head  class_head  index_head  \\\n",
       "41373  MONDO:0010679  Duchenne muscular dystrophy           3        1913   \n",
       "41374  MONDO:0010679  Duchenne muscular dystrophy           3        1913   \n",
       "41375  MONDO:0010679  Duchenne muscular dystrophy           3        1913   \n",
       "41376  MONDO:0010679  Duchenne muscular dystrophy           3        1913   \n",
       "41377  MONDO:0010679  Duchenne muscular dystrophy           3        1913   \n",
       "41378  MONDO:0010679  Duchenne muscular dystrophy           3        1913   \n",
       "41379  MONDO:0010679  Duchenne muscular dystrophy           3        1913   \n",
       "41380  MONDO:0010679  Duchenne muscular dystrophy           3        1913   \n",
       "41381  MONDO:0010679  Duchenne muscular dystrophy           3        1913   \n",
       "41382  MONDO:0010679  Duchenne muscular dystrophy           3        1913   \n",
       "41383  MONDO:0010679  Duchenne muscular dystrophy           3        1913   \n",
       "41384  MONDO:0010679  Duchenne muscular dystrophy           3        1913   \n",
       "41386  MONDO:0010679  Duchenne muscular dystrophy           3        1913   \n",
       "41387  MONDO:0010679  Duchenne muscular dystrophy           3        1913   \n",
       "41388  MONDO:0010679  Duchenne muscular dystrophy           3        1913   \n",
       "41389  MONDO:0010679  Duchenne muscular dystrophy           3        1913   \n",
       "41390  MONDO:0010679  Duchenne muscular dystrophy           3        1913   \n",
       "41391  MONDO:0010679  Duchenne muscular dystrophy           3        1913   \n",
       "41392  MONDO:0010679  Duchenne muscular dystrophy           3        1913   \n",
       "41393  MONDO:0010679  Duchenne muscular dystrophy           3        1913   \n",
       "41394  MONDO:0010679  Duchenne muscular dystrophy           3        1913   \n",
       "41395  MONDO:0010679  Duchenne muscular dystrophy           3        1913   \n",
       "41397  MONDO:0010679  Duchenne muscular dystrophy           3        1913   \n",
       "41398  MONDO:0010679  Duchenne muscular dystrophy           3        1913   \n",
       "41399  MONDO:0010679  Duchenne muscular dystrophy           3        1913   \n",
       "41400  MONDO:0010679  Duchenne muscular dystrophy           3        1913   \n",
       "41401  MONDO:0010679  Duchenne muscular dystrophy           3        1913   \n",
       "\n",
       "                        relation        tail  \\\n",
       "41373  associated with phenotype  HP:0003707   \n",
       "41374  associated with phenotype  HP:0003236   \n",
       "41375  associated with phenotype  HP:0001256   \n",
       "41376  associated with phenotype  HP:0001265   \n",
       "41377  associated with phenotype  HP:0001290   \n",
       "41378  associated with phenotype  HP:0003307   \n",
       "41379  associated with phenotype  HP:0003202   \n",
       "41380  associated with phenotype  HP:0001263   \n",
       "41381  associated with phenotype  HP:0002791   \n",
       "41382  associated with phenotype  HP:0001371   \n",
       "41383  associated with phenotype  HP:0003701   \n",
       "41384  associated with phenotype  HP:0001270   \n",
       "41386  associated with phenotype  HP:0003560   \n",
       "41387  associated with phenotype  HP:0008981   \n",
       "41388  associated with phenotype  HP:0002650   \n",
       "41389  associated with phenotype  HP:0001638   \n",
       "41390  associated with phenotype  HP:0003323   \n",
       "41391  associated with phenotype  HP:0001635   \n",
       "41392  associated with phenotype  HP:0000750   \n",
       "41393  associated with phenotype  HP:0003115   \n",
       "41394  associated with phenotype  HP:0011675   \n",
       "41395  associated with phenotype  HP:0003391   \n",
       "41397  associated with phenotype  HP:0002093   \n",
       "41398  associated with phenotype  HP:0100543   \n",
       "41399  associated with phenotype  HP:0001644   \n",
       "41400  associated with phenotype  HP:0002515   \n",
       "41401  associated with phenotype  HP:0001328   \n",
       "\n",
       "                                    label_tail  class_tail  index_tail  type  \n",
       "41373            Calf muscle pseudohypertrophy           9        5727    18  \n",
       "41374           Elevated serum creatine kinase           9        1351    18  \n",
       "41375            Intellectual disability, mild           9        4533    18  \n",
       "41376                             Hyporeflexia           9        6515    18  \n",
       "41377                    Generalized hypotonia           9        5372    18  \n",
       "41378                            Hyperlordosis           9        2737    18  \n",
       "41379                  Skeletal muscle atrophy           9         788    18  \n",
       "41380               Global developmental delay           9        7259    18  \n",
       "41381                          Hypoventilation           9        1682    18  \n",
       "41382                      Flexion contracture           9        5052    18  \n",
       "41383                 Proximal muscle weakness           9        5762    18  \n",
       "41384                              Motor delay           9        1429    18  \n",
       "41386                       Muscular dystrophy           9         898    18  \n",
       "41387                  Calf muscle hypertrophy           9        4673    18  \n",
       "41388                                Scoliosis           9        4540    18  \n",
       "41389                           Cardiomyopathy           9        3222    18  \n",
       "41390              Progressive muscle weakness           9       10187    18  \n",
       "41391                 Congestive heart failure           9        1660    18  \n",
       "41392  Delayed speech and language development           9        7722    18  \n",
       "41393                             Abnormal EKG           9        3941    18  \n",
       "41394                               Arrhythmia           9        4336    18  \n",
       "41395                              Gowers sign           9        8594    18  \n",
       "41397                Respiratory insufficiency           9        1688    18  \n",
       "41398                     Cognitive impairment           9        9574    18  \n",
       "41399                   Dilated cardiomyopathy           9         556    18  \n",
       "41400                            Waddling gait           9        1474    18  \n",
       "41401             Specific learning disability           9        1174    18  "
      ]
     },
     "execution_count": 23,
     "metadata": {},
     "output_type": "execute_result"
    }
   ],
   "source": [
    "if dataset_nr == 1:\n",
    "    pheno_rel = 'has phenotype'\n",
    "else:\n",
    "    pheno_rel = 'associated with phenotype'\n",
    "\n",
    "disease_ID = 'MONDO:0010679'\n",
    "relation_index = list(relation_labels).index(pheno_rel)\n",
    "\n",
    "symptoms = edges[(edges['head'] == 'MONDO:0010679') & (edges['type'] == relation_index)]\n",
    "\n",
    "print(f'A total of {symptoms.shape[0]} symptoms found that are associated with {disease_ID}')\n",
    "symptoms.head(symptoms.shape[0])"
   ]
  },
  {
   "attachments": {},
   "cell_type": "markdown",
   "metadata": {},
   "source": [
    "Check alignment between dataframes containing the associations and the nodes"
   ]
  },
  {
   "cell_type": "code",
   "execution_count": 24,
   "metadata": {},
   "outputs": [
    {
     "data": {
      "text/html": [
       "<div>\n",
       "<style scoped>\n",
       "    .dataframe tbody tr th:only-of-type {\n",
       "        vertical-align: middle;\n",
       "    }\n",
       "\n",
       "    .dataframe tbody tr th {\n",
       "        vertical-align: top;\n",
       "    }\n",
       "\n",
       "    .dataframe thead th {\n",
       "        text-align: right;\n",
       "    }\n",
       "</style>\n",
       "<table border=\"1\" class=\"dataframe\">\n",
       "  <thead>\n",
       "    <tr style=\"text-align: right;\">\n",
       "      <th></th>\n",
       "      <th>id</th>\n",
       "      <th>semantic</th>\n",
       "      <th>label</th>\n",
       "      <th>semantic_id</th>\n",
       "    </tr>\n",
       "  </thead>\n",
       "  <tbody>\n",
       "    <tr>\n",
       "      <th>6315</th>\n",
       "      <td>WBPhenotype:0001833</td>\n",
       "      <td>phenotype</td>\n",
       "      <td>membrane trafficking variant</td>\n",
       "      <td>9</td>\n",
       "    </tr>\n",
       "  </tbody>\n",
       "</table>\n",
       "</div>"
      ],
      "text/plain": [
       "                       id   semantic                         label  \\\n",
       "6315  WBPhenotype:0001833  phenotype  membrane trafficking variant   \n",
       "\n",
       "      semantic_id  \n",
       "6315            9  "
      ]
     },
     "execution_count": 24,
     "metadata": {},
     "output_type": "execute_result"
    }
   ],
   "source": [
    "nodes.loc[[6315]]"
   ]
  },
  {
   "cell_type": "markdown",
   "metadata": {},
   "source": [
    "Get list of drugs that appear at least once in the top 3 of suggested drugs for an associated phenotype"
   ]
  },
  {
   "cell_type": "code",
   "execution_count": 25,
   "metadata": {},
   "outputs": [],
   "source": [
    "def add_drug_candidate(candidates, drug_name):\n",
    "    if drug_name in candidates:\n",
    "        candidates[drug_name] += 1\n",
    "    else:\n",
    "        candidates[drug_name] = 1\n",
    "        \n",
    "    return candidates\n",
    "\n",
    "drug_candidates = {}\n",
    "symptom_drugs = {}\n",
    "\n",
    "for ind, symptom in symptoms.iterrows(): \n",
    "    symptom_id = symptom['tail']\n",
    "    symptom_drugs[symptom_id] = []\n",
    "    \n",
    "    predictions = candidates(nodes, symptom_id, best_x)\n",
    "    ordered_predictions = predictions[predictions['semantic'] == drug_semantic].sort_values(by = ['Score'], ascending = False).head(3)\n",
    "    \n",
    "    for ind, drug in ordered_predictions.iterrows():\n",
    "        symptom_drugs[symptom_id].append(drug['id'])\n",
    "        drug_candidates = add_drug_candidate(drug_candidates, drug['label'])"
   ]
  },
  {
   "cell_type": "markdown",
   "metadata": {},
   "source": [
    "Get list of drug candidate ids per relevant symptom id."
   ]
  },
  {
   "cell_type": "code",
   "execution_count": 26,
   "metadata": {},
   "outputs": [
    {
     "data": {
      "text/html": [
       "<div>\n",
       "<style scoped>\n",
       "    .dataframe tbody tr th:only-of-type {\n",
       "        vertical-align: middle;\n",
       "    }\n",
       "\n",
       "    .dataframe tbody tr th {\n",
       "        vertical-align: top;\n",
       "    }\n",
       "\n",
       "    .dataframe thead th {\n",
       "        text-align: right;\n",
       "    }\n",
       "</style>\n",
       "<table border=\"1\" class=\"dataframe\">\n",
       "  <thead>\n",
       "    <tr style=\"text-align: right;\">\n",
       "      <th></th>\n",
       "      <th>Symptom</th>\n",
       "      <th>Candidates</th>\n",
       "    </tr>\n",
       "  </thead>\n",
       "  <tbody>\n",
       "    <tr>\n",
       "      <th>0</th>\n",
       "      <td>HP:0003707</td>\n",
       "      <td>[269, 1576, 926]</td>\n",
       "    </tr>\n",
       "    <tr>\n",
       "      <th>1</th>\n",
       "      <td>HP:0003236</td>\n",
       "      <td>[1576, 269, 1795]</td>\n",
       "    </tr>\n",
       "    <tr>\n",
       "      <th>2</th>\n",
       "      <td>HP:0001256</td>\n",
       "      <td>[269, 1576, 5359]</td>\n",
       "    </tr>\n",
       "    <tr>\n",
       "      <th>3</th>\n",
       "      <td>HP:0001265</td>\n",
       "      <td>[269, 1576, 1795]</td>\n",
       "    </tr>\n",
       "    <tr>\n",
       "      <th>4</th>\n",
       "      <td>HP:0001290</td>\n",
       "      <td>[1795, 269, 1576]</td>\n",
       "    </tr>\n",
       "    <tr>\n",
       "      <th>5</th>\n",
       "      <td>HP:0003307</td>\n",
       "      <td>[1576, 1795, 522]</td>\n",
       "    </tr>\n",
       "    <tr>\n",
       "      <th>6</th>\n",
       "      <td>HP:0003202</td>\n",
       "      <td>[1795, 1576, 5330]</td>\n",
       "    </tr>\n",
       "    <tr>\n",
       "      <th>7</th>\n",
       "      <td>HP:0001263</td>\n",
       "      <td>[269, 5359, 1795]</td>\n",
       "    </tr>\n",
       "    <tr>\n",
       "      <th>8</th>\n",
       "      <td>HP:0002791</td>\n",
       "      <td>[1576, 269, 5359]</td>\n",
       "    </tr>\n",
       "    <tr>\n",
       "      <th>9</th>\n",
       "      <td>HP:0001371</td>\n",
       "      <td>[1576, 1795, 522]</td>\n",
       "    </tr>\n",
       "    <tr>\n",
       "      <th>10</th>\n",
       "      <td>HP:0003701</td>\n",
       "      <td>[1576, 1795, 269]</td>\n",
       "    </tr>\n",
       "    <tr>\n",
       "      <th>11</th>\n",
       "      <td>HP:0001270</td>\n",
       "      <td>[1576, 269, 1795]</td>\n",
       "    </tr>\n",
       "    <tr>\n",
       "      <th>12</th>\n",
       "      <td>HP:0003560</td>\n",
       "      <td>[269, 176, 700]</td>\n",
       "    </tr>\n",
       "    <tr>\n",
       "      <th>13</th>\n",
       "      <td>HP:0008981</td>\n",
       "      <td>[1576, 1795, 269]</td>\n",
       "    </tr>\n",
       "    <tr>\n",
       "      <th>14</th>\n",
       "      <td>HP:0002650</td>\n",
       "      <td>[1795, 269, 1576]</td>\n",
       "    </tr>\n",
       "    <tr>\n",
       "      <th>15</th>\n",
       "      <td>HP:0001638</td>\n",
       "      <td>[1576, 176, 269]</td>\n",
       "    </tr>\n",
       "    <tr>\n",
       "      <th>16</th>\n",
       "      <td>HP:0003323</td>\n",
       "      <td>[1576, 5359, 269]</td>\n",
       "    </tr>\n",
       "    <tr>\n",
       "      <th>17</th>\n",
       "      <td>HP:0001635</td>\n",
       "      <td>[1576, 522, 186]</td>\n",
       "    </tr>\n",
       "    <tr>\n",
       "      <th>18</th>\n",
       "      <td>HP:0000750</td>\n",
       "      <td>[1057, 812, 65]</td>\n",
       "    </tr>\n",
       "    <tr>\n",
       "      <th>19</th>\n",
       "      <td>HP:0003115</td>\n",
       "      <td>[1576, 176, 4483]</td>\n",
       "    </tr>\n",
       "    <tr>\n",
       "      <th>20</th>\n",
       "      <td>HP:0011675</td>\n",
       "      <td>[231, 1576, 522]</td>\n",
       "    </tr>\n",
       "    <tr>\n",
       "      <th>21</th>\n",
       "      <td>HP:0003391</td>\n",
       "      <td>[1576, 269, 1795]</td>\n",
       "    </tr>\n",
       "    <tr>\n",
       "      <th>22</th>\n",
       "      <td>HP:0002093</td>\n",
       "      <td>[1576, 1795, 269]</td>\n",
       "    </tr>\n",
       "    <tr>\n",
       "      <th>23</th>\n",
       "      <td>HP:0100543</td>\n",
       "      <td>[269, 5359, 1795]</td>\n",
       "    </tr>\n",
       "    <tr>\n",
       "      <th>24</th>\n",
       "      <td>HP:0001644</td>\n",
       "      <td>[1576, 3659, 1810]</td>\n",
       "    </tr>\n",
       "    <tr>\n",
       "      <th>25</th>\n",
       "      <td>HP:0002515</td>\n",
       "      <td>[1576, 1795, 269]</td>\n",
       "    </tr>\n",
       "    <tr>\n",
       "      <th>26</th>\n",
       "      <td>HP:0001328</td>\n",
       "      <td>[269, 5359, 926]</td>\n",
       "    </tr>\n",
       "  </tbody>\n",
       "</table>\n",
       "</div>"
      ],
      "text/plain": [
       "       Symptom          Candidates\n",
       "0   HP:0003707    [269, 1576, 926]\n",
       "1   HP:0003236   [1576, 269, 1795]\n",
       "2   HP:0001256   [269, 1576, 5359]\n",
       "3   HP:0001265   [269, 1576, 1795]\n",
       "4   HP:0001290   [1795, 269, 1576]\n",
       "5   HP:0003307   [1576, 1795, 522]\n",
       "6   HP:0003202  [1795, 1576, 5330]\n",
       "7   HP:0001263   [269, 5359, 1795]\n",
       "8   HP:0002791   [1576, 269, 5359]\n",
       "9   HP:0001371   [1576, 1795, 522]\n",
       "10  HP:0003701   [1576, 1795, 269]\n",
       "11  HP:0001270   [1576, 269, 1795]\n",
       "12  HP:0003560     [269, 176, 700]\n",
       "13  HP:0008981   [1576, 1795, 269]\n",
       "14  HP:0002650   [1795, 269, 1576]\n",
       "15  HP:0001638    [1576, 176, 269]\n",
       "16  HP:0003323   [1576, 5359, 269]\n",
       "17  HP:0001635    [1576, 522, 186]\n",
       "18  HP:0000750     [1057, 812, 65]\n",
       "19  HP:0003115   [1576, 176, 4483]\n",
       "20  HP:0011675    [231, 1576, 522]\n",
       "21  HP:0003391   [1576, 269, 1795]\n",
       "22  HP:0002093   [1576, 1795, 269]\n",
       "23  HP:0100543   [269, 5359, 1795]\n",
       "24  HP:0001644  [1576, 3659, 1810]\n",
       "25  HP:0002515   [1576, 1795, 269]\n",
       "26  HP:0001328    [269, 5359, 926]"
      ]
     },
     "execution_count": 26,
     "metadata": {},
     "output_type": "execute_result"
    }
   ],
   "source": [
    "symptom_drugs_df_dict = {\n",
    "    'Symptom': [],\n",
    "    'Candidates': [] \n",
    "}\n",
    "for key, val in symptom_drugs.items():\n",
    "    symptom_drugs_df_dict['Symptom'].append(key)\n",
    "    symptom_drugs_df_dict['Candidates'].append(val)\n",
    "    \n",
    "symptom_drugs_df = pd.DataFrame.from_dict(symptom_drugs_df_dict)\n",
    "symptom_drugs_df.to_csv(f'output/symptom_drugs_{dataset_nr}.csv', index=False)\n",
    "\n",
    "symptom_drugs_df"
   ]
  },
  {
   "cell_type": "markdown",
   "metadata": {},
   "source": [
    "Save dataframe as csv file with all drugs and their total of appearances as a candidate for one or more relevant symptoms."
   ]
  },
  {
   "cell_type": "code",
   "execution_count": 27,
   "metadata": {},
   "outputs": [
    {
     "data": {
      "text/html": [
       "<div>\n",
       "<style scoped>\n",
       "    .dataframe tbody tr th:only-of-type {\n",
       "        vertical-align: middle;\n",
       "    }\n",
       "\n",
       "    .dataframe tbody tr th {\n",
       "        vertical-align: top;\n",
       "    }\n",
       "\n",
       "    .dataframe thead th {\n",
       "        text-align: right;\n",
       "    }\n",
       "</style>\n",
       "<table border=\"1\" class=\"dataframe\">\n",
       "  <thead>\n",
       "    <tr style=\"text-align: right;\">\n",
       "      <th></th>\n",
       "      <th>Drug</th>\n",
       "      <th>Appearances</th>\n",
       "      <th>Percentage</th>\n",
       "    </tr>\n",
       "  </thead>\n",
       "  <tbody>\n",
       "    <tr>\n",
       "      <th>1</th>\n",
       "      <td>levosimendan</td>\n",
       "      <td>22</td>\n",
       "      <td>81.48%</td>\n",
       "    </tr>\n",
       "    <tr>\n",
       "      <th>0</th>\n",
       "      <td>azathioprine</td>\n",
       "      <td>19</td>\n",
       "      <td>70.37%</td>\n",
       "    </tr>\n",
       "    <tr>\n",
       "      <th>3</th>\n",
       "      <td>mezlocillin</td>\n",
       "      <td>15</td>\n",
       "      <td>55.56%</td>\n",
       "    </tr>\n",
       "    <tr>\n",
       "      <th>4</th>\n",
       "      <td>brilliant Blue G</td>\n",
       "      <td>6</td>\n",
       "      <td>22.22%</td>\n",
       "    </tr>\n",
       "    <tr>\n",
       "      <th>5</th>\n",
       "      <td>carvedilol</td>\n",
       "      <td>4</td>\n",
       "      <td>14.81%</td>\n",
       "    </tr>\n",
       "    <tr>\n",
       "      <th>7</th>\n",
       "      <td>amiodarone</td>\n",
       "      <td>3</td>\n",
       "      <td>11.11%</td>\n",
       "    </tr>\n",
       "    <tr>\n",
       "      <th>2</th>\n",
       "      <td>disopyramide</td>\n",
       "      <td>2</td>\n",
       "      <td>7.41%</td>\n",
       "    </tr>\n",
       "    <tr>\n",
       "      <th>12</th>\n",
       "      <td>acetylcholine</td>\n",
       "      <td>1</td>\n",
       "      <td>3.70%</td>\n",
       "    </tr>\n",
       "    <tr>\n",
       "      <th>15</th>\n",
       "      <td>yohimbine</td>\n",
       "      <td>1</td>\n",
       "      <td>3.70%</td>\n",
       "    </tr>\n",
       "    <tr>\n",
       "      <th>14</th>\n",
       "      <td>aprindine</td>\n",
       "      <td>1</td>\n",
       "      <td>3.70%</td>\n",
       "    </tr>\n",
       "    <tr>\n",
       "      <th>13</th>\n",
       "      <td>carfilzomib</td>\n",
       "      <td>1</td>\n",
       "      <td>3.70%</td>\n",
       "    </tr>\n",
       "    <tr>\n",
       "      <th>8</th>\n",
       "      <td>clomifene</td>\n",
       "      <td>1</td>\n",
       "      <td>3.70%</td>\n",
       "    </tr>\n",
       "    <tr>\n",
       "      <th>11</th>\n",
       "      <td>desipramine</td>\n",
       "      <td>1</td>\n",
       "      <td>3.70%</td>\n",
       "    </tr>\n",
       "    <tr>\n",
       "      <th>10</th>\n",
       "      <td>estradiol</td>\n",
       "      <td>1</td>\n",
       "      <td>3.70%</td>\n",
       "    </tr>\n",
       "    <tr>\n",
       "      <th>9</th>\n",
       "      <td>amodiaquine</td>\n",
       "      <td>1</td>\n",
       "      <td>3.70%</td>\n",
       "    </tr>\n",
       "    <tr>\n",
       "      <th>6</th>\n",
       "      <td>selinexor</td>\n",
       "      <td>1</td>\n",
       "      <td>3.70%</td>\n",
       "    </tr>\n",
       "    <tr>\n",
       "      <th>16</th>\n",
       "      <td>miltefosine</td>\n",
       "      <td>1</td>\n",
       "      <td>3.70%</td>\n",
       "    </tr>\n",
       "  </tbody>\n",
       "</table>\n",
       "</div>"
      ],
      "text/plain": [
       "                Drug  Appearances Percentage\n",
       "1       levosimendan           22     81.48%\n",
       "0       azathioprine           19     70.37%\n",
       "3        mezlocillin           15     55.56%\n",
       "4   brilliant Blue G            6     22.22%\n",
       "5         carvedilol            4     14.81%\n",
       "7         amiodarone            3     11.11%\n",
       "2       disopyramide            2      7.41%\n",
       "12     acetylcholine            1      3.70%\n",
       "15         yohimbine            1      3.70%\n",
       "14         aprindine            1      3.70%\n",
       "13       carfilzomib            1      3.70%\n",
       "8          clomifene            1      3.70%\n",
       "11       desipramine            1      3.70%\n",
       "10         estradiol            1      3.70%\n",
       "9        amodiaquine            1      3.70%\n",
       "6          selinexor            1      3.70%\n",
       "16       miltefosine            1      3.70%"
      ]
     },
     "execution_count": 27,
     "metadata": {},
     "output_type": "execute_result"
    }
   ],
   "source": [
    "drug_candidate_df_dict = {\n",
    "    'Drug': [],\n",
    "    'Appearances': [],\n",
    "    'Percentage': []\n",
    "}\n",
    "for key, val in drug_candidates.items():\n",
    "    drug_candidate_df_dict['Drug'].append(key)\n",
    "    drug_candidate_df_dict['Appearances'].append(val)\n",
    "    drug_candidate_df_dict['Percentage'].append(val/symptoms.shape[0]*100)\n",
    "    \n",
    "drug_candidates_df = pd.DataFrame.from_dict(drug_candidate_df_dict)\n",
    "drug_candidates_df['Percentage'] = drug_candidates_df['Percentage'].transform(lambda x: '{:,.2f}%'.format(x))\n",
    "drug_candidates_df = drug_candidates_df.sort_values(by = ['Appearances'], ascending = False)\n",
    "\n",
    "drug_candidates_df.to_csv(f'output/drug_candidates_{dataset_nr}.csv', index=False)\n",
    "\n",
    "drug_candidates_df"
   ]
  },
  {
   "attachments": {},
   "cell_type": "markdown",
   "metadata": {},
   "source": [
    "## Component Analysis"
   ]
  },
  {
   "cell_type": "code",
   "execution_count": 28,
   "metadata": {},
   "outputs": [],
   "source": [
    "X_data = best_x.detach().cpu().numpy()\n",
    "z = StandardScaler().fit_transform(X_data)"
   ]
  },
  {
   "attachments": {},
   "cell_type": "markdown",
   "metadata": {},
   "source": [
    "### PCA"
   ]
  },
  {
   "cell_type": "code",
   "execution_count": 33,
   "metadata": {},
   "outputs": [
    {
     "data": {
      "text/html": [
       "<div>\n",
       "<style scoped>\n",
       "    .dataframe tbody tr th:only-of-type {\n",
       "        vertical-align: middle;\n",
       "    }\n",
       "\n",
       "    .dataframe tbody tr th {\n",
       "        vertical-align: top;\n",
       "    }\n",
       "\n",
       "    .dataframe thead th {\n",
       "        text-align: right;\n",
       "    }\n",
       "</style>\n",
       "<table border=\"1\" class=\"dataframe\">\n",
       "  <thead>\n",
       "    <tr style=\"text-align: right;\">\n",
       "      <th></th>\n",
       "      <th>principal component 1</th>\n",
       "      <th>principal component 2</th>\n",
       "    </tr>\n",
       "  </thead>\n",
       "  <tbody>\n",
       "    <tr>\n",
       "      <th>0</th>\n",
       "      <td>3.444246</td>\n",
       "      <td>-1.378637</td>\n",
       "    </tr>\n",
       "    <tr>\n",
       "      <th>1</th>\n",
       "      <td>2.771031</td>\n",
       "      <td>-3.510199</td>\n",
       "    </tr>\n",
       "    <tr>\n",
       "      <th>2</th>\n",
       "      <td>-1.528438</td>\n",
       "      <td>1.543400</td>\n",
       "    </tr>\n",
       "    <tr>\n",
       "      <th>3</th>\n",
       "      <td>1.316939</td>\n",
       "      <td>2.409710</td>\n",
       "    </tr>\n",
       "    <tr>\n",
       "      <th>4</th>\n",
       "      <td>-0.493928</td>\n",
       "      <td>-1.668100</td>\n",
       "    </tr>\n",
       "    <tr>\n",
       "      <th>...</th>\n",
       "      <td>...</td>\n",
       "      <td>...</td>\n",
       "    </tr>\n",
       "    <tr>\n",
       "      <th>10270</th>\n",
       "      <td>-0.220897</td>\n",
       "      <td>-0.075026</td>\n",
       "    </tr>\n",
       "    <tr>\n",
       "      <th>10271</th>\n",
       "      <td>-2.511697</td>\n",
       "      <td>0.933266</td>\n",
       "    </tr>\n",
       "    <tr>\n",
       "      <th>10272</th>\n",
       "      <td>0.364404</td>\n",
       "      <td>-0.403596</td>\n",
       "    </tr>\n",
       "    <tr>\n",
       "      <th>10273</th>\n",
       "      <td>-0.823210</td>\n",
       "      <td>-0.510739</td>\n",
       "    </tr>\n",
       "    <tr>\n",
       "      <th>10274</th>\n",
       "      <td>-0.443336</td>\n",
       "      <td>-0.879372</td>\n",
       "    </tr>\n",
       "  </tbody>\n",
       "</table>\n",
       "<p>10275 rows × 2 columns</p>\n",
       "</div>"
      ],
      "text/plain": [
       "       principal component 1  principal component 2\n",
       "0                   3.444246              -1.378637\n",
       "1                   2.771031              -3.510199\n",
       "2                  -1.528438               1.543400\n",
       "3                   1.316939               2.409710\n",
       "4                  -0.493928              -1.668100\n",
       "...                      ...                    ...\n",
       "10270              -0.220897              -0.075026\n",
       "10271              -2.511697               0.933266\n",
       "10272               0.364404              -0.403596\n",
       "10273              -0.823210              -0.510739\n",
       "10274              -0.443336              -0.879372\n",
       "\n",
       "[10275 rows x 2 columns]"
      ]
     },
     "execution_count": 33,
     "metadata": {},
     "output_type": "execute_result"
    }
   ],
   "source": [
    "pca = PCA(n_components=32)\n",
    "princ_comp = pca.fit_transform(z)\n",
    "princ_df = pd.DataFrame(data=princ_comp[:, [0,1]], columns=['principal component 1', 'principal component 2'])\n",
    "princ_df"
   ]
  },
  {
   "attachments": {},
   "cell_type": "markdown",
   "metadata": {},
   "source": [
    "Based on plot below, choose the number of components for PCA analysis yielding an amount of variance close to 1.0."
   ]
  },
  {
   "cell_type": "code",
   "execution_count": 34,
   "metadata": {},
   "outputs": [
    {
     "data": {
      "image/png": "[encoded data removed]",
      "text/plain": [
       "<Figure size 640x480 with 1 Axes>"
      ]
     },
     "metadata": {},
     "output_type": "display_data"
    }
   ],
   "source": [
    "plt.plot(np.cumsum(pca.explained_variance_ratio_))\n",
    "plt.xlabel('number of components')\n",
    "plt.ylabel('cumulative explained variance')\n",
    "plt.show()"
   ]
  },
  {
   "cell_type": "code",
   "execution_count": 35,
   "metadata": {},
   "outputs": [
    {
     "data": {
      "text/html": [
       "<div>\n",
       "<style scoped>\n",
       "    .dataframe tbody tr th:only-of-type {\n",
       "        vertical-align: middle;\n",
       "    }\n",
       "\n",
       "    .dataframe tbody tr th {\n",
       "        vertical-align: top;\n",
       "    }\n",
       "\n",
       "    .dataframe thead th {\n",
       "        text-align: right;\n",
       "    }\n",
       "</style>\n",
       "<table border=\"1\" class=\"dataframe\">\n",
       "  <thead>\n",
       "    <tr style=\"text-align: right;\">\n",
       "      <th></th>\n",
       "      <th>principal component 1</th>\n",
       "      <th>principal component 2</th>\n",
       "      <th>semantic</th>\n",
       "    </tr>\n",
       "  </thead>\n",
       "  <tbody>\n",
       "    <tr>\n",
       "      <th>0</th>\n",
       "      <td>3.444246</td>\n",
       "      <td>-1.378637</td>\n",
       "      <td>phenotype</td>\n",
       "    </tr>\n",
       "    <tr>\n",
       "      <th>1</th>\n",
       "      <td>2.771031</td>\n",
       "      <td>-3.510199</td>\n",
       "      <td>phenotype</td>\n",
       "    </tr>\n",
       "    <tr>\n",
       "      <th>2</th>\n",
       "      <td>-1.528438</td>\n",
       "      <td>1.543400</td>\n",
       "      <td>gene</td>\n",
       "    </tr>\n",
       "    <tr>\n",
       "      <th>3</th>\n",
       "      <td>1.316939</td>\n",
       "      <td>2.409710</td>\n",
       "      <td>variant</td>\n",
       "    </tr>\n",
       "    <tr>\n",
       "      <th>4</th>\n",
       "      <td>-0.493928</td>\n",
       "      <td>-1.668100</td>\n",
       "      <td>phenotype</td>\n",
       "    </tr>\n",
       "    <tr>\n",
       "      <th>...</th>\n",
       "      <td>...</td>\n",
       "      <td>...</td>\n",
       "      <td>...</td>\n",
       "    </tr>\n",
       "    <tr>\n",
       "      <th>10270</th>\n",
       "      <td>-0.220897</td>\n",
       "      <td>-0.075026</td>\n",
       "      <td>phenotype</td>\n",
       "    </tr>\n",
       "    <tr>\n",
       "      <th>10271</th>\n",
       "      <td>-2.511697</td>\n",
       "      <td>0.933266</td>\n",
       "      <td>gene</td>\n",
       "    </tr>\n",
       "    <tr>\n",
       "      <th>10272</th>\n",
       "      <td>0.364404</td>\n",
       "      <td>-0.403596</td>\n",
       "      <td>gene</td>\n",
       "    </tr>\n",
       "    <tr>\n",
       "      <th>10273</th>\n",
       "      <td>-0.823210</td>\n",
       "      <td>-0.510739</td>\n",
       "      <td>gene</td>\n",
       "    </tr>\n",
       "    <tr>\n",
       "      <th>10274</th>\n",
       "      <td>-0.443336</td>\n",
       "      <td>-0.879372</td>\n",
       "      <td>phenotype</td>\n",
       "    </tr>\n",
       "  </tbody>\n",
       "</table>\n",
       "<p>10275 rows × 3 columns</p>\n",
       "</div>"
      ],
      "text/plain": [
       "       principal component 1  principal component 2   semantic\n",
       "0                   3.444246              -1.378637  phenotype\n",
       "1                   2.771031              -3.510199  phenotype\n",
       "2                  -1.528438               1.543400       gene\n",
       "3                   1.316939               2.409710    variant\n",
       "4                  -0.493928              -1.668100  phenotype\n",
       "...                      ...                    ...        ...\n",
       "10270              -0.220897              -0.075026  phenotype\n",
       "10271              -2.511697               0.933266       gene\n",
       "10272               0.364404              -0.403596       gene\n",
       "10273              -0.823210              -0.510739       gene\n",
       "10274              -0.443336              -0.879372  phenotype\n",
       "\n",
       "[10275 rows x 3 columns]"
      ]
     },
     "execution_count": 35,
     "metadata": {},
     "output_type": "execute_result"
    }
   ],
   "source": [
    "pca_df = pd.concat([princ_df, nodes[['semantic']]], axis=1)\n",
    "pca_df"
   ]
  },
  {
   "cell_type": "code",
   "execution_count": 36,
   "metadata": {},
   "outputs": [
    {
     "data": {
      "image/png": "[encoded data removed]",
      "text/plain": [
       "<Figure size 800x800 with 1 Axes>"
      ]
     },
     "metadata": {},
     "output_type": "display_data"
    }
   ],
   "source": [
    "fig = plt.figure(figsize = (8,8))\n",
    "ax = fig.add_subplot(1, 1, 1)\n",
    "ax.set_xlabel('Principal Component 1', fontsize = 15)\n",
    "ax.set_ylabel('Principal Component 2', fontsize = 15)\n",
    "ax.set_title(f'Two components from 32-PCA on dataset {dataset_nr}', fontsize = 16)\n",
    "\n",
    "unique_node_semantics = list(node_semantic_dict.values())\n",
    "colors = ['silver', 'indianred', 'peru', 'gold', 'olivedrab', 'cadetblue', 'skyblue', 'steelblue', 'royalblue', 'mediumpurple', 'palevioletred', 'lightpink']\n",
    "\n",
    "for target, color in zip(unique_node_semantics, colors):\n",
    "    indicesToKeep = pca_df['semantic'] == target\n",
    "    ax.scatter(pca_df.loc[indicesToKeep, 'principal component 1'], pca_df.loc[indicesToKeep, 'principal component 2'], c = color, s = 50)\n",
    "    \n",
    "ax.legend(unique_node_semantics)\n",
    "ax.grid()\n",
    "\n",
    "plt.show()"
   ]
  },
  {
   "attachments": {},
   "cell_type": "markdown",
   "metadata": {},
   "source": [
    "### t-SNE"
   ]
  },
  {
   "cell_type": "code",
   "execution_count": 37,
   "metadata": {},
   "outputs": [],
   "source": [
    "X_tsne = TSNE(learning_rate=100, perplexity=40).fit_transform(X_data)"
   ]
  },
  {
   "cell_type": "code",
   "execution_count": 38,
   "metadata": {},
   "outputs": [
    {
     "data": {
      "text/html": [
       "<div>\n",
       "<style scoped>\n",
       "    .dataframe tbody tr th:only-of-type {\n",
       "        vertical-align: middle;\n",
       "    }\n",
       "\n",
       "    .dataframe tbody tr th {\n",
       "        vertical-align: top;\n",
       "    }\n",
       "\n",
       "    .dataframe thead th {\n",
       "        text-align: right;\n",
       "    }\n",
       "</style>\n",
       "<table border=\"1\" class=\"dataframe\">\n",
       "  <thead>\n",
       "    <tr style=\"text-align: right;\">\n",
       "      <th></th>\n",
       "      <th>t-SNE 1</th>\n",
       "      <th>t-SNE 2</th>\n",
       "    </tr>\n",
       "  </thead>\n",
       "  <tbody>\n",
       "    <tr>\n",
       "      <th>0</th>\n",
       "      <td>34.599564</td>\n",
       "      <td>-5.064021</td>\n",
       "    </tr>\n",
       "    <tr>\n",
       "      <th>1</th>\n",
       "      <td>5.956419</td>\n",
       "      <td>-60.076801</td>\n",
       "    </tr>\n",
       "    <tr>\n",
       "      <th>2</th>\n",
       "      <td>6.597436</td>\n",
       "      <td>-5.610342</td>\n",
       "    </tr>\n",
       "    <tr>\n",
       "      <th>3</th>\n",
       "      <td>10.480719</td>\n",
       "      <td>70.072601</td>\n",
       "    </tr>\n",
       "    <tr>\n",
       "      <th>4</th>\n",
       "      <td>-12.959617</td>\n",
       "      <td>-19.468843</td>\n",
       "    </tr>\n",
       "    <tr>\n",
       "      <th>...</th>\n",
       "      <td>...</td>\n",
       "      <td>...</td>\n",
       "    </tr>\n",
       "    <tr>\n",
       "      <th>10270</th>\n",
       "      <td>-36.252235</td>\n",
       "      <td>68.926979</td>\n",
       "    </tr>\n",
       "    <tr>\n",
       "      <th>10271</th>\n",
       "      <td>-14.118690</td>\n",
       "      <td>0.242795</td>\n",
       "    </tr>\n",
       "    <tr>\n",
       "      <th>10272</th>\n",
       "      <td>15.971727</td>\n",
       "      <td>16.508242</td>\n",
       "    </tr>\n",
       "    <tr>\n",
       "      <th>10273</th>\n",
       "      <td>24.868654</td>\n",
       "      <td>26.344906</td>\n",
       "    </tr>\n",
       "    <tr>\n",
       "      <th>10274</th>\n",
       "      <td>-37.379375</td>\n",
       "      <td>-25.817736</td>\n",
       "    </tr>\n",
       "  </tbody>\n",
       "</table>\n",
       "<p>10275 rows × 2 columns</p>\n",
       "</div>"
      ],
      "text/plain": [
       "         t-SNE 1    t-SNE 2\n",
       "0      34.599564  -5.064021\n",
       "1       5.956419 -60.076801\n",
       "2       6.597436  -5.610342\n",
       "3      10.480719  70.072601\n",
       "4     -12.959617 -19.468843\n",
       "...          ...        ...\n",
       "10270 -36.252235  68.926979\n",
       "10271 -14.118690   0.242795\n",
       "10272  15.971727  16.508242\n",
       "10273  24.868654  26.344906\n",
       "10274 -37.379375 -25.817736\n",
       "\n",
       "[10275 rows x 2 columns]"
      ]
     },
     "execution_count": 38,
     "metadata": {},
     "output_type": "execute_result"
    }
   ],
   "source": [
    "comp_tsne = pd.DataFrame(data=X_tsne, columns=['t-SNE 1', 't-SNE 2'])\n",
    "comp_tsne"
   ]
  },
  {
   "cell_type": "code",
   "execution_count": 39,
   "metadata": {},
   "outputs": [
    {
     "data": {
      "text/html": [
       "<div>\n",
       "<style scoped>\n",
       "    .dataframe tbody tr th:only-of-type {\n",
       "        vertical-align: middle;\n",
       "    }\n",
       "\n",
       "    .dataframe tbody tr th {\n",
       "        vertical-align: top;\n",
       "    }\n",
       "\n",
       "    .dataframe thead th {\n",
       "        text-align: right;\n",
       "    }\n",
       "</style>\n",
       "<table border=\"1\" class=\"dataframe\">\n",
       "  <thead>\n",
       "    <tr style=\"text-align: right;\">\n",
       "      <th></th>\n",
       "      <th>t-SNE 1</th>\n",
       "      <th>t-SNE 2</th>\n",
       "      <th>semantic</th>\n",
       "    </tr>\n",
       "  </thead>\n",
       "  <tbody>\n",
       "    <tr>\n",
       "      <th>0</th>\n",
       "      <td>34.599564</td>\n",
       "      <td>-5.064021</td>\n",
       "      <td>phenotype</td>\n",
       "    </tr>\n",
       "    <tr>\n",
       "      <th>1</th>\n",
       "      <td>5.956419</td>\n",
       "      <td>-60.076801</td>\n",
       "      <td>phenotype</td>\n",
       "    </tr>\n",
       "    <tr>\n",
       "      <th>2</th>\n",
       "      <td>6.597436</td>\n",
       "      <td>-5.610342</td>\n",
       "      <td>gene</td>\n",
       "    </tr>\n",
       "    <tr>\n",
       "      <th>3</th>\n",
       "      <td>10.480719</td>\n",
       "      <td>70.072601</td>\n",
       "      <td>variant</td>\n",
       "    </tr>\n",
       "    <tr>\n",
       "      <th>4</th>\n",
       "      <td>-12.959617</td>\n",
       "      <td>-19.468843</td>\n",
       "      <td>phenotype</td>\n",
       "    </tr>\n",
       "    <tr>\n",
       "      <th>...</th>\n",
       "      <td>...</td>\n",
       "      <td>...</td>\n",
       "      <td>...</td>\n",
       "    </tr>\n",
       "    <tr>\n",
       "      <th>10270</th>\n",
       "      <td>-36.252235</td>\n",
       "      <td>68.926979</td>\n",
       "      <td>phenotype</td>\n",
       "    </tr>\n",
       "    <tr>\n",
       "      <th>10271</th>\n",
       "      <td>-14.118690</td>\n",
       "      <td>0.242795</td>\n",
       "      <td>gene</td>\n",
       "    </tr>\n",
       "    <tr>\n",
       "      <th>10272</th>\n",
       "      <td>15.971727</td>\n",
       "      <td>16.508242</td>\n",
       "      <td>gene</td>\n",
       "    </tr>\n",
       "    <tr>\n",
       "      <th>10273</th>\n",
       "      <td>24.868654</td>\n",
       "      <td>26.344906</td>\n",
       "      <td>gene</td>\n",
       "    </tr>\n",
       "    <tr>\n",
       "      <th>10274</th>\n",
       "      <td>-37.379375</td>\n",
       "      <td>-25.817736</td>\n",
       "      <td>phenotype</td>\n",
       "    </tr>\n",
       "  </tbody>\n",
       "</table>\n",
       "<p>10275 rows × 3 columns</p>\n",
       "</div>"
      ],
      "text/plain": [
       "         t-SNE 1    t-SNE 2   semantic\n",
       "0      34.599564  -5.064021  phenotype\n",
       "1       5.956419 -60.076801  phenotype\n",
       "2       6.597436  -5.610342       gene\n",
       "3      10.480719  70.072601    variant\n",
       "4     -12.959617 -19.468843  phenotype\n",
       "...          ...        ...        ...\n",
       "10270 -36.252235  68.926979  phenotype\n",
       "10271 -14.118690   0.242795       gene\n",
       "10272  15.971727  16.508242       gene\n",
       "10273  24.868654  26.344906       gene\n",
       "10274 -37.379375 -25.817736  phenotype\n",
       "\n",
       "[10275 rows x 3 columns]"
      ]
     },
     "execution_count": 39,
     "metadata": {},
     "output_type": "execute_result"
    }
   ],
   "source": [
    "tsne_df = pd.concat([comp_tsne, nodes[['semantic']]], axis=1)\n",
    "tsne_df"
   ]
  },
  {
   "cell_type": "code",
   "execution_count": 40,
   "metadata": {},
   "outputs": [
    {
     "data": {
      "image/png": "[encoded data removed]",
      "text/plain": [
       "<Figure size 800x800 with 1 Axes>"
      ]
     },
     "metadata": {},
     "output_type": "display_data"
    }
   ],
   "source": [
    "fig = plt.figure(figsize = (8,8))\n",
    "ax = fig.add_subplot(1, 1, 1)\n",
    "ax.set_xlabel('Principal Component 1', fontsize = 15)\n",
    "ax.set_ylabel('Principal Component 2', fontsize = 15)\n",
    "ax.set_title(f'Two component t-SNE on dataset {dataset_nr}', fontsize = 16)\n",
    "\n",
    "unique_node_semantics = list(node_semantic_dict.values())\n",
    "colors = ['silver', 'indianred', 'peru', 'gold', 'olivedrab', 'cadetblue', 'skyblue', 'steelblue', 'royalblue', 'mediumpurple', 'palevioletred', 'lightpink']\n",
    "\n",
    "for target, color in zip(unique_node_semantics, colors):\n",
    "    indicesToKeep = tsne_df['semantic'] == target\n",
    "    ax.scatter(tsne_df.loc[indicesToKeep, 't-SNE 1'], tsne_df.loc[indicesToKeep, 't-SNE 2'], c = color, s = 50)\n",
    "    \n",
    "ax.legend(unique_node_semantics)\n",
    "ax.grid()\n",
    "\n",
    "plt.show()"
   ]
  }
 ],
 "metadata": {
  "kernelspec": {
   "display_name": "xaifo",
   "language": "python",
   "name": "python3"
  },
  "language_info": {
   "codemirror_mode": {
    "name": "ipython",
    "version": 3
   },
   "file_extension": ".py",
   "mimetype": "text/x-python",
   "name": "python",
   "nbconvert_exporter": "python",
   "pygments_lexer": "ipython3",
   "version": "3.10.11"
  },
  "orig_nbformat": 4
 },
 "nbformat": 4,
 "nbformat_minor": 2
}
