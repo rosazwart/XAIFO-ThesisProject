{
 "cells": [
  {
   "attachments": {},
   "cell_type": "markdown",
   "metadata": {},
   "source": [
    "Adapted by Rosa Zwart from Jupyter Notebooks found at https://github.com/PPerdomoQ/rare-disease-explainer"
   ]
  },
  {
   "attachments": {},
   "cell_type": "markdown",
   "metadata": {},
   "source": [
    "# Import Libraries"
   ]
  },
  {
   "attachments": {},
   "cell_type": "markdown",
   "metadata": {},
   "source": [
    "Package                       Version\n",
    "----------------------------- ----------\n",
    "aiosignal                     1.3.1\n",
    "anyio                         3.6.2\n",
    "argon2-cffi                   21.3.0\n",
    "argon2-cffi-bindings          21.2.0\n",
    "arrow                         1.2.3\n",
    "asttokens                     2.2.1\n",
    "attrs                         22.2.0\n",
    "backcall                      0.2.0\n",
    "backports.functools-lru-cache 1.6.4\n",
    "beautifulsoup4                4.12.2\n",
    "bleach                        6.0.0\n",
    "certifi                       2023.5.7\n",
    "cffi                          1.15.1\n",
    "charset-normalizer            3.1.0\n",
    "click                         8.1.3\n",
    "colorama                      0.4.6\n",
    "comm                          0.1.3\n",
    "contourpy                     1.0.7\n",
    "cycler                        0.11.0\n",
    "debugpy                       1.6.6\n",
    "decorator                     5.1.1\n",
    "deepsnap                      0.2.1\n",
    "defusedxml                    0.7.1\n",
    "distlib                       0.3.6\n",
    "executing                     1.2.0\n",
    "fastjsonschema                2.16.3\n",
    "filelock                      3.12.0\n",
    "fonttools                     4.39.3\n",
    "fqdn                          1.5.1\n",
    "frozenlist                    1.3.3\n",
    "gensim                        4.3.1\n",
    "grpcio                        1.54.0\n",
    "idna                          3.4\n",
    "importlib-metadata            6.6.0\n",
    "ipykernel                     6.20.2\n",
    "ipython                       8.13.2\n",
    "ipython-genutils              0.2.0\n",
    "ipywidgets                    8.0.6\n",
    "isoduration                   20.11.0\n",
    "jedi                          0.18.2\n",
    "Jinja2                        3.1.2\n",
    "joblib                        1.2.0\n",
    "jsonpointer                   2.3\n",
    "jsonschema                    4.17.3\n",
    "jupyter                       1.0.0\n",
    "jupyter_client                8.2.0\n",
    "jupyter-console               6.6.3\n",
    "jupyter_core                  5.3.0\n",
    "jupyter-events                0.6.3\n",
    "jupyter_server                2.5.0\n",
    "jupyter_server_terminals      0.4.4\n",
    "jupyterlab-pygments           0.2.2\n",
    "jupyterlab-widgets            3.0.7\n",
    "kiwisolver                    1.4.4\n",
    "MarkupSafe                    2.1.2\n",
    "matplotlib                    3.7.1\n",
    "matplotlib-inline             0.1.6\n",
    "mistune                       2.0.5\n",
    "msgpack                       1.0.5\n",
    "nbclassic                     1.0.0\n",
    "nbclient                      0.7.4\n",
    "nbconvert                     7.4.0\n",
    "nbformat                      5.8.0\n",
    "nest-asyncio                  1.5.6\n",
    "networkx                      3.0\n",
    "notebook                      6.5.4\n",
    "notebook_shim                 0.2.3\n",
    "numpy                         1.24.3\n",
    "packaging                     23.1\n",
    "pandas                        1.3.5\n",
    "pandocfilters                 1.5.0\n",
    "parso                         0.8.3\n",
    "pickleshare                   0.7.5\n",
    "Pillow                        9.5.0\n",
    "pip                           23.1.2\n",
    "platformdirs                  3.5.0\n",
    "prometheus-client             0.16.0\n",
    "prompt-toolkit                3.0.38\n",
    "protobuf                      4.23.0\n",
    "psutil                        5.9.1\n",
    "pure-eval                     0.2.2\n",
    "pycparser                     2.21\n",
    "Pygments                      2.15.1\n",
    "pyparsing                     3.0.9\n",
    "pyrsistent                    0.19.3\n",
    "python-dateutil               2.8.2\n",
    "python-json-logger            2.0.7\n",
    "pytz                          2023.3\n",
    "pywin32                       303\n",
    "pywinpty                      2.0.10\n",
    "PyYAML                        6.0\n",
    "pyzmq                         25.0.2\n",
    "qtconsole                     5.4.3\n",
    "QtPy                          2.3.1\n",
    "ray                           2.3.1\n",
    "requests                      2.30.0\n",
    "rfc3339-validator             0.1.4\n",
    "rfc3986-validator             0.1.1\n",
    "scikit-learn                  1.2.2\n",
    "scipy                         1.10.1\n",
    "Send2Trash                    1.8.2\n",
    "setuptools                    66.0.0\n",
    "six                           1.16.0\n",
    "smart-open                    6.3.0\n",
    "sniffio                       1.3.0\n",
    "soupsieve                     2.4.1\n",
    "stack-data                    0.6.2\n",
    "tabulate                      0.9.0\n",
    "terminado                     0.17.1\n",
    "threadpoolctl                 3.1.0\n",
    "tinycss2                      1.2.1\n",
    "torch                         1.11.0+cpu\n",
    "torch-cluster                 1.6.0\n",
    "torch-geometric               2.0.4\n",
    "torch-scatter                 2.0.9\n",
    "torch-sparse                  0.6.13\n",
    "torch-spline-conv             1.2.2\n",
    "torchaudio                    0.11.0+cpu\n",
    "torchvision                   0.12.0+cpu\n",
    "tornado                       6.2\n",
    "tqdm                          4.65.0\n",
    "traitlets                     5.9.0\n",
    "typing_extensions             4.5.0\n",
    "tzdata                        2023.3\n",
    "uri-template                  1.2.0\n",
    "urllib3                       2.0.2\n",
    "virtualenv                    20.23.0\n",
    "wcwidth                       0.2.6\n",
    "webcolors                     1.13\n",
    "webencodings                  0.5.1\n",
    "websocket-client              1.5.1\n",
    "wheel                         0.38.4\n",
    "widgetsnbextension            4.0.7\n",
    "zipp                          3.15.0"
   ]
  },
  {
   "cell_type": "code",
   "execution_count": 1,
   "metadata": {
    "execution": {
     "iopub.execute_input": "2023-11-10T19:10:21.957290Z",
     "iopub.status.busy": "2023-11-10T19:10:21.957290Z",
     "iopub.status.idle": "2023-11-10T19:10:25.588952Z",
     "shell.execute_reply": "2023-11-10T19:10:25.588011Z"
    }
   },
   "outputs": [],
   "source": [
    "import os\n",
    "import pandas as pd\n",
    "import numpy as np\n",
    "import networkx as nx\n",
    "import pickle\n",
    "\n",
    "from gnn.linkpred_model import LinkPredModel, train, test\n",
    "\n",
    "import torch\n",
    "from torch.utils.data import DataLoader\n",
    "\n",
    "from deepsnap.dataset import GraphDataset\n",
    "from deepsnap.batch import Batch\n",
    "from deepsnap.graph import Graph\n",
    "\n",
    "from sklearn.metrics import roc_auc_score, roc_curve, f1_score, classification_report, confusion_matrix\n",
    "import matplotlib.pyplot as plt\n",
    "\n",
    "from gensim.models import KeyedVectors\n",
    "\n",
    "from sklearn.preprocessing import StandardScaler\n",
    "from sklearn.decomposition import PCA\n",
    "from sklearn.manifold import TSNE"
   ]
  },
  {
   "cell_type": "code",
   "execution_count": 2,
   "metadata": {
    "execution": {
     "iopub.execute_input": "2023-11-10T19:10:25.593952Z",
     "iopub.status.busy": "2023-11-10T19:10:25.592951Z",
     "iopub.status.idle": "2023-11-10T19:10:25.604337Z",
     "shell.execute_reply": "2023-11-10T19:10:25.603333Z"
    }
   },
   "outputs": [
    {
     "name": "stdout",
     "output_type": "stream",
     "text": [
      "Using device: cpu\n"
     ]
    }
   ],
   "source": [
    "torch_device = torch.device('cuda' if torch.cuda.is_available() else 'cpu')\n",
    "print('Using device:', torch_device)"
   ]
  },
  {
   "cell_type": "markdown",
   "metadata": {},
   "source": [
    "# Set Parameters"
   ]
  },
  {
   "attachments": {},
   "cell_type": "markdown",
   "metadata": {},
   "source": [
    "Specify which dataset is used, 1 (original knowledge graph) or 2 (restructured knowledge graph)"
   ]
  },
  {
   "cell_type": "code",
   "execution_count": 3,
   "metadata": {
    "execution": {
     "iopub.execute_input": "2023-11-10T19:10:25.642122Z",
     "iopub.status.busy": "2023-11-10T19:10:25.641114Z",
     "iopub.status.idle": "2023-11-10T19:10:25.651180Z",
     "shell.execute_reply": "2023-11-10T19:10:25.650161Z"
    }
   },
   "outputs": [],
   "source": [
    "dataset_nr = 2\n",
    "assert dataset_nr == 1 or 2\n",
    "\n",
    "embedding_method = 'e2v'\n",
    "assert embedding_method == 'e2v' or 'm2v'\n",
    "\n",
    "seeded_emb = False\n",
    "\n",
    "if seeded_emb:\n",
    "    fixed_emb = '_seeded'\n",
    "else:\n",
    "    fixed_emb = ''"
   ]
  },
  {
   "cell_type": "markdown",
   "metadata": {},
   "source": [
    "# Set Folder"
   ]
  },
  {
   "cell_type": "code",
   "execution_count": 4,
   "metadata": {
    "execution": {
     "iopub.execute_input": "2023-11-10T19:10:25.655178Z",
     "iopub.status.busy": "2023-11-10T19:10:25.654178Z",
     "iopub.status.idle": "2023-11-10T19:10:25.666444Z",
     "shell.execute_reply": "2023-11-10T19:10:25.665443Z"
    }
   },
   "outputs": [
    {
     "name": "stdout",
     "output_type": "stream",
     "text": [
      "Output folder for dataset 2 exists and will be used: C:\\Users\\rosa-\\Google Drive\\Msc_Bioinformatics\\thesis\\XAIFO-ThesisProject\\output\\g2_e2v\n",
      "Output folder for predictions from dataset 2 is created: C:\\Users\\rosa-\\Google Drive\\Msc_Bioinformatics\\thesis\\XAIFO-ThesisProject\\output\\g2_e2v\\run_010\\pred\n"
     ]
    }
   ],
   "source": [
    "curr_working_dir = os.getcwd()\n",
    "curr_output_dir = os.path.join(curr_working_dir, 'output')\n",
    "dataset_output_dir = os.path.join(curr_output_dir, f'g{dataset_nr}_{embedding_method}{fixed_emb}')\n",
    "\n",
    "if not os.path.exists(dataset_output_dir):\n",
    "    print('First, run the edge2vec embedding script. Then, run this script.')\n",
    "else:\n",
    "    print(f'Output folder for dataset {dataset_nr} exists and will be used: {dataset_output_dir}')\n",
    "    \n",
    "run_folders_list = []\n",
    "for item in os.listdir(dataset_output_dir):\n",
    "    curr_path = os.path.join(dataset_output_dir, item)\n",
    "    if os.path.isdir(curr_path) and 'run' in item:\n",
    "        run_folders_list.append(item)\n",
    "        \n",
    "if len(run_folders_list) > 0:\n",
    "    run_folders_list.sort(reverse=True)\n",
    "    latest_run = run_folders_list[0]\n",
    "    \n",
    "    run_dir = os.path.join(dataset_output_dir, latest_run)\n",
    "    \n",
    "    pred_output_dir = os.path.join(run_dir, 'pred')\n",
    "    if not os.path.exists(pred_output_dir):\n",
    "        os.mkdir(pred_output_dir)\n",
    "        print(f'Output folder for predictions from dataset {dataset_nr} is created: {pred_output_dir}')\n",
    "    else:\n",
    "        print(f'Output folder for predictions from dataset {dataset_nr} already exists and will be used: {pred_output_dir}')\n",
    "    \n",
    "else:\n",
    "    print('First, run the edge2vec embedding script. Then, run this script.')"
   ]
  },
  {
   "cell_type": "code",
   "execution_count": 5,
   "metadata": {
    "execution": {
     "iopub.execute_input": "2023-11-10T19:10:25.671064Z",
     "iopub.status.busy": "2023-11-10T19:10:25.670063Z",
     "iopub.status.idle": "2023-11-10T19:10:25.681525Z",
     "shell.execute_reply": "2023-11-10T19:10:25.680524Z"
    }
   },
   "outputs": [
    {
     "data": {
      "text/plain": [
       "'C:\\\\Users\\\\rosa-\\\\Google Drive\\\\Msc_Bioinformatics\\\\thesis\\\\XAIFO-ThesisProject\\\\output\\\\g2_e2v\\\\run_010'"
      ]
     },
     "execution_count": 5,
     "metadata": {},
     "output_type": "execute_result"
    }
   ],
   "source": [
    "run_dir"
   ]
  },
  {
   "attachments": {},
   "cell_type": "markdown",
   "metadata": {},
   "source": [
    "# Load Data"
   ]
  },
  {
   "cell_type": "markdown",
   "metadata": {},
   "source": [
    "Load all nodes"
   ]
  },
  {
   "cell_type": "code",
   "execution_count": 6,
   "metadata": {
    "execution": {
     "iopub.execute_input": "2023-11-10T19:10:25.685549Z",
     "iopub.status.busy": "2023-11-10T19:10:25.685549Z",
     "iopub.status.idle": "2023-11-10T19:10:25.730336Z",
     "shell.execute_reply": "2023-11-10T19:10:25.728034Z"
    }
   },
   "outputs": [
    {
     "data": {
      "text/html": [
       "<div>\n",
       "<style scoped>\n",
       "    .dataframe tbody tr th:only-of-type {\n",
       "        vertical-align: middle;\n",
       "    }\n",
       "\n",
       "    .dataframe tbody tr th {\n",
       "        vertical-align: top;\n",
       "    }\n",
       "\n",
       "    .dataframe thead th {\n",
       "        text-align: right;\n",
       "    }\n",
       "</style>\n",
       "<table border=\"1\" class=\"dataframe\">\n",
       "  <thead>\n",
       "    <tr style=\"text-align: right;\">\n",
       "      <th></th>\n",
       "      <th>id</th>\n",
       "      <th>semantic</th>\n",
       "      <th>label</th>\n",
       "      <th>semantic_id</th>\n",
       "    </tr>\n",
       "  </thead>\n",
       "  <tbody>\n",
       "    <tr>\n",
       "      <th>0</th>\n",
       "      <td>MP:0004187</td>\n",
       "      <td>phenotype</td>\n",
       "      <td>cardia bifida</td>\n",
       "      <td>9</td>\n",
       "    </tr>\n",
       "    <tr>\n",
       "      <th>1</th>\n",
       "      <td>ZP:0100138</td>\n",
       "      <td>phenotype</td>\n",
       "      <td>muscle tendon junction myotome increased amoun...</td>\n",
       "      <td>9</td>\n",
       "    </tr>\n",
       "    <tr>\n",
       "      <th>2</th>\n",
       "      <td>MGI:1346525</td>\n",
       "      <td>gene</td>\n",
       "      <td>Sgcd</td>\n",
       "      <td>5</td>\n",
       "    </tr>\n",
       "    <tr>\n",
       "      <th>3</th>\n",
       "      <td>OMIM:300377.0044</td>\n",
       "      <td>variant</td>\n",
       "      <td>DMD, LYS770TER</td>\n",
       "      <td>11</td>\n",
       "    </tr>\n",
       "    <tr>\n",
       "      <th>4</th>\n",
       "      <td>ZP:0002210</td>\n",
       "      <td>phenotype</td>\n",
       "      <td>posterior lateral line neuromast primordium mi...</td>\n",
       "      <td>9</td>\n",
       "    </tr>\n",
       "    <tr>\n",
       "      <th>...</th>\n",
       "      <td>...</td>\n",
       "      <td>...</td>\n",
       "      <td>...</td>\n",
       "      <td>...</td>\n",
       "    </tr>\n",
       "    <tr>\n",
       "      <th>10270</th>\n",
       "      <td>ZP:0014934</td>\n",
       "      <td>phenotype</td>\n",
       "      <td>atrioventricular valve development process qua...</td>\n",
       "      <td>9</td>\n",
       "    </tr>\n",
       "    <tr>\n",
       "      <th>10271</th>\n",
       "      <td>ENSEMBL:ENSCAFG00000011207</td>\n",
       "      <td>gene</td>\n",
       "      <td>ENSEMBL:ENSCAFG00000011207</td>\n",
       "      <td>5</td>\n",
       "    </tr>\n",
       "    <tr>\n",
       "      <th>10272</th>\n",
       "      <td>ENSEMBL:ENSXETG00000039922</td>\n",
       "      <td>gene</td>\n",
       "      <td>ENSEMBL:ENSXETG00000039922</td>\n",
       "      <td>5</td>\n",
       "    </tr>\n",
       "    <tr>\n",
       "      <th>10273</th>\n",
       "      <td>ENSEMBL:ENSACAG00000010058</td>\n",
       "      <td>gene</td>\n",
       "      <td>ENSEMBL:ENSACAG00000010058</td>\n",
       "      <td>5</td>\n",
       "    </tr>\n",
       "    <tr>\n",
       "      <th>10274</th>\n",
       "      <td>WBPhenotype:0000019</td>\n",
       "      <td>phenotype</td>\n",
       "      <td>pharyngeal pumping reduced</td>\n",
       "      <td>9</td>\n",
       "    </tr>\n",
       "  </tbody>\n",
       "</table>\n",
       "<p>10275 rows × 4 columns</p>\n",
       "</div>"
      ],
      "text/plain": [
       "                               id   semantic  \\\n",
       "0                      MP:0004187  phenotype   \n",
       "1                      ZP:0100138  phenotype   \n",
       "2                     MGI:1346525       gene   \n",
       "3                OMIM:300377.0044    variant   \n",
       "4                      ZP:0002210  phenotype   \n",
       "...                           ...        ...   \n",
       "10270                  ZP:0014934  phenotype   \n",
       "10271  ENSEMBL:ENSCAFG00000011207       gene   \n",
       "10272  ENSEMBL:ENSXETG00000039922       gene   \n",
       "10273  ENSEMBL:ENSACAG00000010058       gene   \n",
       "10274         WBPhenotype:0000019  phenotype   \n",
       "\n",
       "                                                   label  semantic_id  \n",
       "0                                          cardia bifida            9  \n",
       "1      muscle tendon junction myotome increased amoun...            9  \n",
       "2                                                   Sgcd            5  \n",
       "3                                         DMD, LYS770TER           11  \n",
       "4      posterior lateral line neuromast primordium mi...            9  \n",
       "...                                                  ...          ...  \n",
       "10270  atrioventricular valve development process qua...            9  \n",
       "10271                         ENSEMBL:ENSCAFG00000011207            5  \n",
       "10272                         ENSEMBL:ENSXETG00000039922            5  \n",
       "10273                         ENSEMBL:ENSACAG00000010058            5  \n",
       "10274                         pharyngeal pumping reduced            9  \n",
       "\n",
       "[10275 rows x 4 columns]"
      ]
     },
     "execution_count": 6,
     "metadata": {},
     "output_type": "execute_result"
    }
   ],
   "source": [
    "nodes = pd.read_csv(f'output/indexed_nodes_{dataset_nr}.csv')\n",
    "nodes.drop('index_id', axis=1, inplace=True)\n",
    "nodes['semantic'] = nodes['semantic'].astype('category')\n",
    "nodes"
   ]
  },
  {
   "cell_type": "code",
   "execution_count": 7,
   "metadata": {
    "execution": {
     "iopub.execute_input": "2023-11-10T19:10:25.733324Z",
     "iopub.status.busy": "2023-11-10T19:10:25.733324Z",
     "iopub.status.idle": "2023-11-10T19:10:25.760140Z",
     "shell.execute_reply": "2023-11-10T19:10:25.759118Z"
    }
   },
   "outputs": [
    {
     "data": {
      "text/html": [
       "<div>\n",
       "<style scoped>\n",
       "    .dataframe tbody tr th:only-of-type {\n",
       "        vertical-align: middle;\n",
       "    }\n",
       "\n",
       "    .dataframe tbody tr th {\n",
       "        vertical-align: top;\n",
       "    }\n",
       "\n",
       "    .dataframe thead th {\n",
       "        text-align: right;\n",
       "    }\n",
       "</style>\n",
       "<table border=\"1\" class=\"dataframe\">\n",
       "  <thead>\n",
       "    <tr style=\"text-align: right;\">\n",
       "      <th></th>\n",
       "      <th>id</th>\n",
       "      <th>semantic</th>\n",
       "      <th>label</th>\n",
       "      <th>semantic_id</th>\n",
       "    </tr>\n",
       "  </thead>\n",
       "  <tbody>\n",
       "    <tr>\n",
       "      <th>89</th>\n",
       "      <td>606</td>\n",
       "      <td>drug</td>\n",
       "      <td>chloropyramine</td>\n",
       "      <td>4</td>\n",
       "    </tr>\n",
       "    <tr>\n",
       "      <th>98</th>\n",
       "      <td>3294</td>\n",
       "      <td>drug</td>\n",
       "      <td>iloperidone</td>\n",
       "      <td>4</td>\n",
       "    </tr>\n",
       "    <tr>\n",
       "      <th>103</th>\n",
       "      <td>1982</td>\n",
       "      <td>drug</td>\n",
       "      <td>olanzapine</td>\n",
       "      <td>4</td>\n",
       "    </tr>\n",
       "    <tr>\n",
       "      <th>129</th>\n",
       "      <td>1214</td>\n",
       "      <td>drug</td>\n",
       "      <td>fluphenazine enanthate</td>\n",
       "      <td>4</td>\n",
       "    </tr>\n",
       "    <tr>\n",
       "      <th>246</th>\n",
       "      <td>5303</td>\n",
       "      <td>drug</td>\n",
       "      <td>revefenacin</td>\n",
       "      <td>4</td>\n",
       "    </tr>\n",
       "    <tr>\n",
       "      <th>...</th>\n",
       "      <td>...</td>\n",
       "      <td>...</td>\n",
       "      <td>...</td>\n",
       "      <td>...</td>\n",
       "    </tr>\n",
       "    <tr>\n",
       "      <th>10140</th>\n",
       "      <td>3659</td>\n",
       "      <td>drug</td>\n",
       "      <td>yohimbine</td>\n",
       "      <td>4</td>\n",
       "    </tr>\n",
       "    <tr>\n",
       "      <th>10150</th>\n",
       "      <td>1836</td>\n",
       "      <td>drug</td>\n",
       "      <td>montelukast</td>\n",
       "      <td>4</td>\n",
       "    </tr>\n",
       "    <tr>\n",
       "      <th>10174</th>\n",
       "      <td>1402</td>\n",
       "      <td>drug</td>\n",
       "      <td>hyoscyamine</td>\n",
       "      <td>4</td>\n",
       "    </tr>\n",
       "    <tr>\n",
       "      <th>10201</th>\n",
       "      <td>MESH:D000077185</td>\n",
       "      <td>drug</td>\n",
       "      <td>Resveratrol</td>\n",
       "      <td>4</td>\n",
       "    </tr>\n",
       "    <tr>\n",
       "      <th>10250</th>\n",
       "      <td>987</td>\n",
       "      <td>drug</td>\n",
       "      <td>edetic acid</td>\n",
       "      <td>4</td>\n",
       "    </tr>\n",
       "  </tbody>\n",
       "</table>\n",
       "<p>291 rows × 4 columns</p>\n",
       "</div>"
      ],
      "text/plain": [
       "                    id semantic                   label  semantic_id\n",
       "89                 606     drug          chloropyramine            4\n",
       "98                3294     drug             iloperidone            4\n",
       "103               1982     drug              olanzapine            4\n",
       "129               1214     drug  fluphenazine enanthate            4\n",
       "246               5303     drug             revefenacin            4\n",
       "...                ...      ...                     ...          ...\n",
       "10140             3659     drug               yohimbine            4\n",
       "10150             1836     drug             montelukast            4\n",
       "10174             1402     drug             hyoscyamine            4\n",
       "10201  MESH:D000077185     drug             Resveratrol            4\n",
       "10250              987     drug             edetic acid            4\n",
       "\n",
       "[291 rows x 4 columns]"
      ]
     },
     "execution_count": 7,
     "metadata": {},
     "output_type": "execute_result"
    }
   ],
   "source": [
    "nodes[nodes['semantic'] == 'drug']"
   ]
  },
  {
   "cell_type": "code",
   "execution_count": 8,
   "metadata": {
    "execution": {
     "iopub.execute_input": "2023-11-10T19:10:25.763124Z",
     "iopub.status.busy": "2023-11-10T19:10:25.763124Z",
     "iopub.status.idle": "2023-11-10T19:10:25.775241Z",
     "shell.execute_reply": "2023-11-10T19:10:25.774251Z"
    }
   },
   "outputs": [
    {
     "data": {
      "text/html": [
       "<div>\n",
       "<style scoped>\n",
       "    .dataframe tbody tr th:only-of-type {\n",
       "        vertical-align: middle;\n",
       "    }\n",
       "\n",
       "    .dataframe tbody tr th {\n",
       "        vertical-align: top;\n",
       "    }\n",
       "\n",
       "    .dataframe thead th {\n",
       "        text-align: right;\n",
       "    }\n",
       "</style>\n",
       "<table border=\"1\" class=\"dataframe\">\n",
       "  <thead>\n",
       "    <tr style=\"text-align: right;\">\n",
       "      <th></th>\n",
       "      <th>id</th>\n",
       "      <th>semantic</th>\n",
       "      <th>label</th>\n",
       "      <th>semantic_id</th>\n",
       "    </tr>\n",
       "  </thead>\n",
       "  <tbody>\n",
       "    <tr>\n",
       "      <th>1320</th>\n",
       "      <td>MP:0013006</td>\n",
       "      <td>phenotype</td>\n",
       "      <td>abnormal enteric neural crest cell migration</td>\n",
       "      <td>9</td>\n",
       "    </tr>\n",
       "  </tbody>\n",
       "</table>\n",
       "</div>"
      ],
      "text/plain": [
       "              id   semantic                                         label  \\\n",
       "1320  MP:0013006  phenotype  abnormal enteric neural crest cell migration   \n",
       "\n",
       "      semantic_id  \n",
       "1320            9  "
      ]
     },
     "execution_count": 8,
     "metadata": {},
     "output_type": "execute_result"
    }
   ],
   "source": [
    "nodes.iloc[[1320]]"
   ]
  },
  {
   "cell_type": "markdown",
   "metadata": {},
   "source": [
    "The dictionary below can be used as mapping between generated semantic ID and semantic group label."
   ]
  },
  {
   "cell_type": "code",
   "execution_count": 9,
   "metadata": {
    "execution": {
     "iopub.execute_input": "2023-11-10T19:10:25.778756Z",
     "iopub.status.busy": "2023-11-10T19:10:25.778756Z",
     "iopub.status.idle": "2023-11-10T19:10:25.790334Z",
     "shell.execute_reply": "2023-11-10T19:10:25.789330Z"
    }
   },
   "outputs": [
    {
     "data": {
      "text/plain": [
       "{0: 'biological artifact',\n",
       " 1: 'biological process',\n",
       " 2: 'cellular component',\n",
       " 3: 'disease',\n",
       " 4: 'drug',\n",
       " 5: 'gene',\n",
       " 6: 'gene product',\n",
       " 7: 'genotype',\n",
       " 8: 'molecular function',\n",
       " 9: 'phenotype',\n",
       " 10: 'taxon',\n",
       " 11: 'variant'}"
      ]
     },
     "execution_count": 9,
     "metadata": {},
     "output_type": "execute_result"
    }
   ],
   "source": [
    "node_semantic_dict = dict(enumerate(nodes['semantic'].cat.categories))\n",
    "node_semantic_dict"
   ]
  },
  {
   "cell_type": "markdown",
   "metadata": {},
   "source": [
    "Load the node embeddings"
   ]
  },
  {
   "cell_type": "code",
   "execution_count": 10,
   "metadata": {
    "execution": {
     "iopub.execute_input": "2023-11-10T19:10:25.794331Z",
     "iopub.status.busy": "2023-11-10T19:10:25.794331Z",
     "iopub.status.idle": "2023-11-10T19:10:25.806394Z",
     "shell.execute_reply": "2023-11-10T19:10:25.805381Z"
    }
   },
   "outputs": [],
   "source": [
    "def loadEdge2VecEmbedding(): \n",
    "    node_feat = KeyedVectors.load(f'{run_dir}/w2v_{dataset_nr}.dvectors', mmap='r')\n",
    "    e2v_embedding = pd.DataFrame(columns = ['Node', 'Embedding'])\n",
    "    for idx, key in enumerate(node_feat.index_to_key):\n",
    "        e2v_embedding.loc[int(key)] = pd.Series({'Node':int(key), 'Embedding':list(node_feat[key])})\n",
    "        \n",
    "    return e2v_embedding.sort_values('Node')\n",
    "\n",
    "def loadMetapath2VecEmbedding():\n",
    "    metapath2vec_embedding = pd.read_csv(f'{run_dir}/metapath2vec_embedding_{dataset_nr}.csv')\n",
    "    metapath2vec_embedding['Embedding'] = metapath2vec_embedding.values.tolist()\n",
    "    metapath2vec_embedding = metapath2vec_embedding[['Embedding']]\n",
    "    metapath2vec_embedding['Node'] = metapath2vec_embedding.index\n",
    "    return metapath2vec_embedding[['Node', 'Embedding']]"
   ]
  },
  {
   "cell_type": "code",
   "execution_count": 11,
   "metadata": {
    "execution": {
     "iopub.execute_input": "2023-11-10T19:10:25.810968Z",
     "iopub.status.busy": "2023-11-10T19:10:25.809957Z",
     "iopub.status.idle": "2023-11-10T19:10:45.401982Z",
     "shell.execute_reply": "2023-11-10T19:10:45.400956Z"
    }
   },
   "outputs": [
    {
     "data": {
      "text/html": [
       "<div>\n",
       "<style scoped>\n",
       "    .dataframe tbody tr th:only-of-type {\n",
       "        vertical-align: middle;\n",
       "    }\n",
       "\n",
       "    .dataframe tbody tr th {\n",
       "        vertical-align: top;\n",
       "    }\n",
       "\n",
       "    .dataframe thead th {\n",
       "        text-align: right;\n",
       "    }\n",
       "</style>\n",
       "<table border=\"1\" class=\"dataframe\">\n",
       "  <thead>\n",
       "    <tr style=\"text-align: right;\">\n",
       "      <th></th>\n",
       "      <th>Node</th>\n",
       "      <th>Embedding</th>\n",
       "    </tr>\n",
       "  </thead>\n",
       "  <tbody>\n",
       "    <tr>\n",
       "      <th>0</th>\n",
       "      <td>0</td>\n",
       "      <td>[-0.4509384, 0.26219618, 0.22912742, -0.490363...</td>\n",
       "    </tr>\n",
       "    <tr>\n",
       "      <th>1</th>\n",
       "      <td>1</td>\n",
       "      <td>[-0.19627458, 0.3617337, 0.098969914, -0.14412...</td>\n",
       "    </tr>\n",
       "    <tr>\n",
       "      <th>2</th>\n",
       "      <td>2</td>\n",
       "      <td>[-0.6794914, -0.37078336, 0.06792965, -0.48939...</td>\n",
       "    </tr>\n",
       "    <tr>\n",
       "      <th>3</th>\n",
       "      <td>3</td>\n",
       "      <td>[-0.23343344, -0.22049727, 0.1907085, -0.26642...</td>\n",
       "    </tr>\n",
       "    <tr>\n",
       "      <th>4</th>\n",
       "      <td>4</td>\n",
       "      <td>[-0.5576051, 0.6320138, -0.04318564, -0.541861...</td>\n",
       "    </tr>\n",
       "    <tr>\n",
       "      <th>...</th>\n",
       "      <td>...</td>\n",
       "      <td>...</td>\n",
       "    </tr>\n",
       "    <tr>\n",
       "      <th>10270</th>\n",
       "      <td>10270</td>\n",
       "      <td>[0.08807494, -0.08262835, 0.16558804, -0.39253...</td>\n",
       "    </tr>\n",
       "    <tr>\n",
       "      <th>10271</th>\n",
       "      <td>10271</td>\n",
       "      <td>[-0.45895448, 0.05399244, -0.43017498, -0.7118...</td>\n",
       "    </tr>\n",
       "    <tr>\n",
       "      <th>10272</th>\n",
       "      <td>10272</td>\n",
       "      <td>[0.21327412, 0.72659385, -0.38959756, 0.071948...</td>\n",
       "    </tr>\n",
       "    <tr>\n",
       "      <th>10273</th>\n",
       "      <td>10273</td>\n",
       "      <td>[-0.28663635, 0.5266847, -0.31698784, -0.23052...</td>\n",
       "    </tr>\n",
       "    <tr>\n",
       "      <th>10274</th>\n",
       "      <td>10274</td>\n",
       "      <td>[-0.29519475, -0.0704584, 0.2901069, -0.310091...</td>\n",
       "    </tr>\n",
       "  </tbody>\n",
       "</table>\n",
       "<p>10275 rows × 2 columns</p>\n",
       "</div>"
      ],
      "text/plain": [
       "        Node                                          Embedding\n",
       "0          0  [-0.4509384, 0.26219618, 0.22912742, -0.490363...\n",
       "1          1  [-0.19627458, 0.3617337, 0.098969914, -0.14412...\n",
       "2          2  [-0.6794914, -0.37078336, 0.06792965, -0.48939...\n",
       "3          3  [-0.23343344, -0.22049727, 0.1907085, -0.26642...\n",
       "4          4  [-0.5576051, 0.6320138, -0.04318564, -0.541861...\n",
       "...      ...                                                ...\n",
       "10270  10270  [0.08807494, -0.08262835, 0.16558804, -0.39253...\n",
       "10271  10271  [-0.45895448, 0.05399244, -0.43017498, -0.7118...\n",
       "10272  10272  [0.21327412, 0.72659385, -0.38959756, 0.071948...\n",
       "10273  10273  [-0.28663635, 0.5266847, -0.31698784, -0.23052...\n",
       "10274  10274  [-0.29519475, -0.0704584, 0.2901069, -0.310091...\n",
       "\n",
       "[10275 rows x 2 columns]"
      ]
     },
     "execution_count": 11,
     "metadata": {},
     "output_type": "execute_result"
    }
   ],
   "source": [
    "if embedding_method == 'e2v':\n",
    "    embedding = loadEdge2VecEmbedding()\n",
    "else:\n",
    "    embedding = loadMetapath2VecEmbedding()\n",
    "    \n",
    "embedding"
   ]
  },
  {
   "cell_type": "markdown",
   "metadata": {},
   "source": [
    "Load the edges"
   ]
  },
  {
   "cell_type": "code",
   "execution_count": 12,
   "metadata": {
    "execution": {
     "iopub.execute_input": "2023-11-10T19:10:45.406957Z",
     "iopub.status.busy": "2023-11-10T19:10:45.405957Z",
     "iopub.status.idle": "2023-11-10T19:10:45.525028Z",
     "shell.execute_reply": "2023-11-10T19:10:45.524040Z"
    }
   },
   "outputs": [
    {
     "data": {
      "text/html": [
       "<div>\n",
       "<style scoped>\n",
       "    .dataframe tbody tr th:only-of-type {\n",
       "        vertical-align: middle;\n",
       "    }\n",
       "\n",
       "    .dataframe tbody tr th {\n",
       "        vertical-align: top;\n",
       "    }\n",
       "\n",
       "    .dataframe thead th {\n",
       "        text-align: right;\n",
       "    }\n",
       "</style>\n",
       "<table border=\"1\" class=\"dataframe\">\n",
       "  <thead>\n",
       "    <tr style=\"text-align: right;\">\n",
       "      <th></th>\n",
       "      <th>head</th>\n",
       "      <th>label_head</th>\n",
       "      <th>class_head</th>\n",
       "      <th>index_head</th>\n",
       "      <th>relation</th>\n",
       "      <th>tail</th>\n",
       "      <th>label_tail</th>\n",
       "      <th>class_tail</th>\n",
       "      <th>index_tail</th>\n",
       "      <th>type</th>\n",
       "    </tr>\n",
       "  </thead>\n",
       "  <tbody>\n",
       "    <tr>\n",
       "      <th>0</th>\n",
       "      <td>WormBase:WBGene00006787</td>\n",
       "      <td>unc-52</td>\n",
       "      <td>5</td>\n",
       "      <td>304</td>\n",
       "      <td>interacts with</td>\n",
       "      <td>WormBase:WBGene00003929</td>\n",
       "      <td>pat-2</td>\n",
       "      <td>5</td>\n",
       "      <td>1542</td>\n",
       "      <td>0</td>\n",
       "    </tr>\n",
       "    <tr>\n",
       "      <th>1</th>\n",
       "      <td>WormBase:WBGene00006787</td>\n",
       "      <td>unc-52</td>\n",
       "      <td>5</td>\n",
       "      <td>304</td>\n",
       "      <td>interacts with</td>\n",
       "      <td>WormBase:WBGene00006789</td>\n",
       "      <td>unc-54</td>\n",
       "      <td>5</td>\n",
       "      <td>6544</td>\n",
       "      <td>0</td>\n",
       "    </tr>\n",
       "    <tr>\n",
       "      <th>2</th>\n",
       "      <td>WormBase:WBGene00006787</td>\n",
       "      <td>unc-52</td>\n",
       "      <td>5</td>\n",
       "      <td>304</td>\n",
       "      <td>in orthology relationship with</td>\n",
       "      <td>ENSEMBL:ENSSSCG00000015555</td>\n",
       "      <td>LAMC1</td>\n",
       "      <td>5</td>\n",
       "      <td>9268</td>\n",
       "      <td>1</td>\n",
       "    </tr>\n",
       "    <tr>\n",
       "      <th>3</th>\n",
       "      <td>WormBase:WBGene00006787</td>\n",
       "      <td>unc-52</td>\n",
       "      <td>5</td>\n",
       "      <td>304</td>\n",
       "      <td>in orthology relationship with</td>\n",
       "      <td>ZFIN:ZDB-GENE-021226-3</td>\n",
       "      <td>lamc1</td>\n",
       "      <td>5</td>\n",
       "      <td>5387</td>\n",
       "      <td>1</td>\n",
       "    </tr>\n",
       "    <tr>\n",
       "      <th>4</th>\n",
       "      <td>WormBase:WBGene00006787</td>\n",
       "      <td>unc-52</td>\n",
       "      <td>5</td>\n",
       "      <td>304</td>\n",
       "      <td>in orthology relationship with</td>\n",
       "      <td>ENSEMBL:ENSOANG00000001050</td>\n",
       "      <td>ENSEMBL:ENSOANG00000001050</td>\n",
       "      <td>5</td>\n",
       "      <td>2204</td>\n",
       "      <td>1</td>\n",
       "    </tr>\n",
       "    <tr>\n",
       "      <th>...</th>\n",
       "      <td>...</td>\n",
       "      <td>...</td>\n",
       "      <td>...</td>\n",
       "      <td>...</td>\n",
       "      <td>...</td>\n",
       "      <td>...</td>\n",
       "      <td>...</td>\n",
       "      <td>...</td>\n",
       "      <td>...</td>\n",
       "      <td>...</td>\n",
       "    </tr>\n",
       "    <tr>\n",
       "      <th>85987</th>\n",
       "      <td>458</td>\n",
       "      <td>scopolamine butylbromide</td>\n",
       "      <td>4</td>\n",
       "      <td>5945</td>\n",
       "      <td>targets</td>\n",
       "      <td>P11229</td>\n",
       "      <td>Muscarinic acetylcholine receptor M1</td>\n",
       "      <td>6</td>\n",
       "      <td>5919</td>\n",
       "      <td>17</td>\n",
       "    </tr>\n",
       "    <tr>\n",
       "      <th>85988</th>\n",
       "      <td>OMIM:300377.0080</td>\n",
       "      <td>DMD, IVS62, A-G, -285</td>\n",
       "      <td>11</td>\n",
       "      <td>1578</td>\n",
       "      <td>is allele of</td>\n",
       "      <td>HGNC:2928</td>\n",
       "      <td>DMD</td>\n",
       "      <td>5</td>\n",
       "      <td>3310</td>\n",
       "      <td>15</td>\n",
       "    </tr>\n",
       "    <tr>\n",
       "      <th>85989</th>\n",
       "      <td>5297</td>\n",
       "      <td>dacomitinib</td>\n",
       "      <td>4</td>\n",
       "      <td>8798</td>\n",
       "      <td>targets</td>\n",
       "      <td>P12931</td>\n",
       "      <td>Proto-oncogene tyrosine-protein kinase Src</td>\n",
       "      <td>6</td>\n",
       "      <td>2379</td>\n",
       "      <td>17</td>\n",
       "    </tr>\n",
       "    <tr>\n",
       "      <th>85990</th>\n",
       "      <td>ClinVarVariant:981988</td>\n",
       "      <td>NC_000023.11:g.(31875374_31929595)_(31968515_3...</td>\n",
       "      <td>11</td>\n",
       "      <td>8189</td>\n",
       "      <td>has affected feature</td>\n",
       "      <td>HGNC:2928</td>\n",
       "      <td>DMD</td>\n",
       "      <td>5</td>\n",
       "      <td>3310</td>\n",
       "      <td>11</td>\n",
       "    </tr>\n",
       "    <tr>\n",
       "      <th>85991</th>\n",
       "      <td>ClinVarVariant:584105</td>\n",
       "      <td>NC_000023.11:g.(?_32595737)_(32699313_?)del</td>\n",
       "      <td>11</td>\n",
       "      <td>9866</td>\n",
       "      <td>causes condition</td>\n",
       "      <td>MONDO:0010679</td>\n",
       "      <td>Duchenne muscular dystrophy</td>\n",
       "      <td>3</td>\n",
       "      <td>1913</td>\n",
       "      <td>2</td>\n",
       "    </tr>\n",
       "  </tbody>\n",
       "</table>\n",
       "<p>85992 rows × 10 columns</p>\n",
       "</div>"
      ],
      "text/plain": [
       "                          head  \\\n",
       "0      WormBase:WBGene00006787   \n",
       "1      WormBase:WBGene00006787   \n",
       "2      WormBase:WBGene00006787   \n",
       "3      WormBase:WBGene00006787   \n",
       "4      WormBase:WBGene00006787   \n",
       "...                        ...   \n",
       "85987                      458   \n",
       "85988         OMIM:300377.0080   \n",
       "85989                     5297   \n",
       "85990    ClinVarVariant:981988   \n",
       "85991    ClinVarVariant:584105   \n",
       "\n",
       "                                              label_head  class_head  \\\n",
       "0                                                 unc-52           5   \n",
       "1                                                 unc-52           5   \n",
       "2                                                 unc-52           5   \n",
       "3                                                 unc-52           5   \n",
       "4                                                 unc-52           5   \n",
       "...                                                  ...         ...   \n",
       "85987                           scopolamine butylbromide           4   \n",
       "85988                              DMD, IVS62, A-G, -285          11   \n",
       "85989                                        dacomitinib           4   \n",
       "85990  NC_000023.11:g.(31875374_31929595)_(31968515_3...          11   \n",
       "85991        NC_000023.11:g.(?_32595737)_(32699313_?)del          11   \n",
       "\n",
       "       index_head                        relation                        tail  \\\n",
       "0             304                  interacts with     WormBase:WBGene00003929   \n",
       "1             304                  interacts with     WormBase:WBGene00006789   \n",
       "2             304  in orthology relationship with  ENSEMBL:ENSSSCG00000015555   \n",
       "3             304  in orthology relationship with      ZFIN:ZDB-GENE-021226-3   \n",
       "4             304  in orthology relationship with  ENSEMBL:ENSOANG00000001050   \n",
       "...           ...                             ...                         ...   \n",
       "85987        5945                         targets                      P11229   \n",
       "85988        1578                    is allele of                   HGNC:2928   \n",
       "85989        8798                         targets                      P12931   \n",
       "85990        8189            has affected feature                   HGNC:2928   \n",
       "85991        9866                causes condition               MONDO:0010679   \n",
       "\n",
       "                                       label_tail  class_tail  index_tail  \\\n",
       "0                                           pat-2           5        1542   \n",
       "1                                          unc-54           5        6544   \n",
       "2                                           LAMC1           5        9268   \n",
       "3                                           lamc1           5        5387   \n",
       "4                      ENSEMBL:ENSOANG00000001050           5        2204   \n",
       "...                                           ...         ...         ...   \n",
       "85987        Muscarinic acetylcholine receptor M1           6        5919   \n",
       "85988                                         DMD           5        3310   \n",
       "85989  Proto-oncogene tyrosine-protein kinase Src           6        2379   \n",
       "85990                                         DMD           5        3310   \n",
       "85991                 Duchenne muscular dystrophy           3        1913   \n",
       "\n",
       "       type  \n",
       "0         0  \n",
       "1         0  \n",
       "2         1  \n",
       "3         1  \n",
       "4         1  \n",
       "...     ...  \n",
       "85987    17  \n",
       "85988    15  \n",
       "85989    17  \n",
       "85990    11  \n",
       "85991     2  \n",
       "\n",
       "[85992 rows x 10 columns]"
      ]
     },
     "execution_count": 12,
     "metadata": {},
     "output_type": "execute_result"
    }
   ],
   "source": [
    "edges = pd.read_csv(f'output/indexed_edges_{dataset_nr}.csv')\n",
    "edges"
   ]
  },
  {
   "cell_type": "code",
   "execution_count": 13,
   "metadata": {
    "execution": {
     "iopub.execute_input": "2023-11-10T19:10:45.528029Z",
     "iopub.status.busy": "2023-11-10T19:10:45.528029Z",
     "iopub.status.idle": "2023-11-10T19:10:45.556145Z",
     "shell.execute_reply": "2023-11-10T19:10:45.555140Z"
    }
   },
   "outputs": [
    {
     "data": {
      "text/html": [
       "<div>\n",
       "<style scoped>\n",
       "    .dataframe tbody tr th:only-of-type {\n",
       "        vertical-align: middle;\n",
       "    }\n",
       "\n",
       "    .dataframe tbody tr th {\n",
       "        vertical-align: top;\n",
       "    }\n",
       "\n",
       "    .dataframe thead th {\n",
       "        text-align: right;\n",
       "    }\n",
       "</style>\n",
       "<table border=\"1\" class=\"dataframe\">\n",
       "  <thead>\n",
       "    <tr style=\"text-align: right;\">\n",
       "      <th></th>\n",
       "      <th>head</th>\n",
       "      <th>label_head</th>\n",
       "      <th>class_head</th>\n",
       "      <th>index_head</th>\n",
       "      <th>relation</th>\n",
       "      <th>tail</th>\n",
       "      <th>label_tail</th>\n",
       "      <th>class_tail</th>\n",
       "      <th>index_tail</th>\n",
       "      <th>type</th>\n",
       "    </tr>\n",
       "  </thead>\n",
       "  <tbody>\n",
       "    <tr>\n",
       "      <th>11901</th>\n",
       "      <td>FlyBase:FBgn0000244</td>\n",
       "      <td>FlyBase:FBgn0000244</td>\n",
       "      <td>5</td>\n",
       "      <td>2629</td>\n",
       "      <td>in orthology relationship with</td>\n",
       "      <td>ENSEMBL:ENSFCAG00000007717</td>\n",
       "      <td>ENSEMBL:ENSFCAG00000007717</td>\n",
       "      <td>5</td>\n",
       "      <td>547</td>\n",
       "      <td>1</td>\n",
       "    </tr>\n",
       "    <tr>\n",
       "      <th>16952</th>\n",
       "      <td>FlyBase:FBgn0053993</td>\n",
       "      <td>CG33993</td>\n",
       "      <td>5</td>\n",
       "      <td>2451</td>\n",
       "      <td>in orthology relationship with</td>\n",
       "      <td>ENSEMBL:ENSFCAG00000007717</td>\n",
       "      <td>ENSEMBL:ENSFCAG00000007717</td>\n",
       "      <td>5</td>\n",
       "      <td>547</td>\n",
       "      <td>1</td>\n",
       "    </tr>\n",
       "    <tr>\n",
       "      <th>20488</th>\n",
       "      <td>MGI:2443012</td>\n",
       "      <td>Tns3</td>\n",
       "      <td>5</td>\n",
       "      <td>7780</td>\n",
       "      <td>in orthology relationship with</td>\n",
       "      <td>ENSEMBL:ENSFCAG00000007717</td>\n",
       "      <td>ENSEMBL:ENSFCAG00000007717</td>\n",
       "      <td>5</td>\n",
       "      <td>547</td>\n",
       "      <td>1</td>\n",
       "    </tr>\n",
       "    <tr>\n",
       "      <th>31189</th>\n",
       "      <td>HGNC:21616</td>\n",
       "      <td>TNS3</td>\n",
       "      <td>5</td>\n",
       "      <td>4377</td>\n",
       "      <td>in orthology relationship with</td>\n",
       "      <td>ENSEMBL:ENSFCAG00000007717</td>\n",
       "      <td>ENSEMBL:ENSFCAG00000007717</td>\n",
       "      <td>5</td>\n",
       "      <td>547</td>\n",
       "      <td>1</td>\n",
       "    </tr>\n",
       "    <tr>\n",
       "      <th>34083</th>\n",
       "      <td>RGD:1564174</td>\n",
       "      <td>Tns3</td>\n",
       "      <td>5</td>\n",
       "      <td>2122</td>\n",
       "      <td>in orthology relationship with</td>\n",
       "      <td>ENSEMBL:ENSFCAG00000007717</td>\n",
       "      <td>ENSEMBL:ENSFCAG00000007717</td>\n",
       "      <td>5</td>\n",
       "      <td>547</td>\n",
       "      <td>1</td>\n",
       "    </tr>\n",
       "    <tr>\n",
       "      <th>43118</th>\n",
       "      <td>WormBase:WBGene00006508</td>\n",
       "      <td>tns-1</td>\n",
       "      <td>5</td>\n",
       "      <td>7363</td>\n",
       "      <td>in orthology relationship with</td>\n",
       "      <td>ENSEMBL:ENSFCAG00000007717</td>\n",
       "      <td>ENSEMBL:ENSFCAG00000007717</td>\n",
       "      <td>5</td>\n",
       "      <td>547</td>\n",
       "      <td>1</td>\n",
       "    </tr>\n",
       "    <tr>\n",
       "      <th>43955</th>\n",
       "      <td>FlyBase:FBgn0035656</td>\n",
       "      <td>CG10479</td>\n",
       "      <td>5</td>\n",
       "      <td>10239</td>\n",
       "      <td>in orthology relationship with</td>\n",
       "      <td>ENSEMBL:ENSFCAG00000007717</td>\n",
       "      <td>ENSEMBL:ENSFCAG00000007717</td>\n",
       "      <td>5</td>\n",
       "      <td>547</td>\n",
       "      <td>1</td>\n",
       "    </tr>\n",
       "    <tr>\n",
       "      <th>53907</th>\n",
       "      <td>ENSEMBL:ENSSSCG00000016725</td>\n",
       "      <td>TNS3</td>\n",
       "      <td>5</td>\n",
       "      <td>490</td>\n",
       "      <td>in orthology relationship with</td>\n",
       "      <td>ENSEMBL:ENSFCAG00000007717</td>\n",
       "      <td>ENSEMBL:ENSFCAG00000007717</td>\n",
       "      <td>5</td>\n",
       "      <td>547</td>\n",
       "      <td>1</td>\n",
       "    </tr>\n",
       "    <tr>\n",
       "      <th>58097</th>\n",
       "      <td>ENSEMBL:ENSCAFG00000012301</td>\n",
       "      <td>TNS3</td>\n",
       "      <td>5</td>\n",
       "      <td>7915</td>\n",
       "      <td>in orthology relationship with</td>\n",
       "      <td>ENSEMBL:ENSFCAG00000007717</td>\n",
       "      <td>ENSEMBL:ENSFCAG00000007717</td>\n",
       "      <td>5</td>\n",
       "      <td>547</td>\n",
       "      <td>1</td>\n",
       "    </tr>\n",
       "    <tr>\n",
       "      <th>59774</th>\n",
       "      <td>ENSEMBL:ENSBTAG00000009655</td>\n",
       "      <td>TNS3</td>\n",
       "      <td>5</td>\n",
       "      <td>4720</td>\n",
       "      <td>in orthology relationship with</td>\n",
       "      <td>ENSEMBL:ENSFCAG00000007717</td>\n",
       "      <td>ENSEMBL:ENSFCAG00000007717</td>\n",
       "      <td>5</td>\n",
       "      <td>547</td>\n",
       "      <td>1</td>\n",
       "    </tr>\n",
       "    <tr>\n",
       "      <th>61887</th>\n",
       "      <td>ZFIN:ZDB-GENE-081031-95</td>\n",
       "      <td>tns3.2</td>\n",
       "      <td>5</td>\n",
       "      <td>5772</td>\n",
       "      <td>in orthology relationship with</td>\n",
       "      <td>ENSEMBL:ENSFCAG00000007717</td>\n",
       "      <td>ENSEMBL:ENSFCAG00000007717</td>\n",
       "      <td>5</td>\n",
       "      <td>547</td>\n",
       "      <td>1</td>\n",
       "    </tr>\n",
       "    <tr>\n",
       "      <th>64057</th>\n",
       "      <td>FlyBase:FBgn0052406</td>\n",
       "      <td>PVRAP</td>\n",
       "      <td>5</td>\n",
       "      <td>6360</td>\n",
       "      <td>in orthology relationship with</td>\n",
       "      <td>ENSEMBL:ENSFCAG00000007717</td>\n",
       "      <td>ENSEMBL:ENSFCAG00000007717</td>\n",
       "      <td>5</td>\n",
       "      <td>547</td>\n",
       "      <td>1</td>\n",
       "    </tr>\n",
       "    <tr>\n",
       "      <th>65940</th>\n",
       "      <td>ENSEMBL:ENSECAG00000020052</td>\n",
       "      <td>ENSEMBL:ENSECAG00000020052</td>\n",
       "      <td>5</td>\n",
       "      <td>9958</td>\n",
       "      <td>in orthology relationship with</td>\n",
       "      <td>ENSEMBL:ENSFCAG00000007717</td>\n",
       "      <td>ENSEMBL:ENSFCAG00000007717</td>\n",
       "      <td>5</td>\n",
       "      <td>547</td>\n",
       "      <td>1</td>\n",
       "    </tr>\n",
       "    <tr>\n",
       "      <th>73278</th>\n",
       "      <td>ENSEMBL:ENSGALG00000039139</td>\n",
       "      <td>ENSEMBL:ENSGALG00000039139</td>\n",
       "      <td>5</td>\n",
       "      <td>7890</td>\n",
       "      <td>in orthology relationship with</td>\n",
       "      <td>ENSEMBL:ENSFCAG00000007717</td>\n",
       "      <td>ENSEMBL:ENSFCAG00000007717</td>\n",
       "      <td>5</td>\n",
       "      <td>547</td>\n",
       "      <td>1</td>\n",
       "    </tr>\n",
       "  </tbody>\n",
       "</table>\n",
       "</div>"
      ],
      "text/plain": [
       "                             head                  label_head  class_head  \\\n",
       "11901         FlyBase:FBgn0000244         FlyBase:FBgn0000244           5   \n",
       "16952         FlyBase:FBgn0053993                     CG33993           5   \n",
       "20488                 MGI:2443012                        Tns3           5   \n",
       "31189                  HGNC:21616                        TNS3           5   \n",
       "34083                 RGD:1564174                        Tns3           5   \n",
       "43118     WormBase:WBGene00006508                       tns-1           5   \n",
       "43955         FlyBase:FBgn0035656                     CG10479           5   \n",
       "53907  ENSEMBL:ENSSSCG00000016725                        TNS3           5   \n",
       "58097  ENSEMBL:ENSCAFG00000012301                        TNS3           5   \n",
       "59774  ENSEMBL:ENSBTAG00000009655                        TNS3           5   \n",
       "61887     ZFIN:ZDB-GENE-081031-95                      tns3.2           5   \n",
       "64057         FlyBase:FBgn0052406                       PVRAP           5   \n",
       "65940  ENSEMBL:ENSECAG00000020052  ENSEMBL:ENSECAG00000020052           5   \n",
       "73278  ENSEMBL:ENSGALG00000039139  ENSEMBL:ENSGALG00000039139           5   \n",
       "\n",
       "       index_head                        relation                        tail  \\\n",
       "11901        2629  in orthology relationship with  ENSEMBL:ENSFCAG00000007717   \n",
       "16952        2451  in orthology relationship with  ENSEMBL:ENSFCAG00000007717   \n",
       "20488        7780  in orthology relationship with  ENSEMBL:ENSFCAG00000007717   \n",
       "31189        4377  in orthology relationship with  ENSEMBL:ENSFCAG00000007717   \n",
       "34083        2122  in orthology relationship with  ENSEMBL:ENSFCAG00000007717   \n",
       "43118        7363  in orthology relationship with  ENSEMBL:ENSFCAG00000007717   \n",
       "43955       10239  in orthology relationship with  ENSEMBL:ENSFCAG00000007717   \n",
       "53907         490  in orthology relationship with  ENSEMBL:ENSFCAG00000007717   \n",
       "58097        7915  in orthology relationship with  ENSEMBL:ENSFCAG00000007717   \n",
       "59774        4720  in orthology relationship with  ENSEMBL:ENSFCAG00000007717   \n",
       "61887        5772  in orthology relationship with  ENSEMBL:ENSFCAG00000007717   \n",
       "64057        6360  in orthology relationship with  ENSEMBL:ENSFCAG00000007717   \n",
       "65940        9958  in orthology relationship with  ENSEMBL:ENSFCAG00000007717   \n",
       "73278        7890  in orthology relationship with  ENSEMBL:ENSFCAG00000007717   \n",
       "\n",
       "                       label_tail  class_tail  index_tail  type  \n",
       "11901  ENSEMBL:ENSFCAG00000007717           5         547     1  \n",
       "16952  ENSEMBL:ENSFCAG00000007717           5         547     1  \n",
       "20488  ENSEMBL:ENSFCAG00000007717           5         547     1  \n",
       "31189  ENSEMBL:ENSFCAG00000007717           5         547     1  \n",
       "34083  ENSEMBL:ENSFCAG00000007717           5         547     1  \n",
       "43118  ENSEMBL:ENSFCAG00000007717           5         547     1  \n",
       "43955  ENSEMBL:ENSFCAG00000007717           5         547     1  \n",
       "53907  ENSEMBL:ENSFCAG00000007717           5         547     1  \n",
       "58097  ENSEMBL:ENSFCAG00000007717           5         547     1  \n",
       "59774  ENSEMBL:ENSFCAG00000007717           5         547     1  \n",
       "61887  ENSEMBL:ENSFCAG00000007717           5         547     1  \n",
       "64057  ENSEMBL:ENSFCAG00000007717           5         547     1  \n",
       "65940  ENSEMBL:ENSFCAG00000007717           5         547     1  \n",
       "73278  ENSEMBL:ENSFCAG00000007717           5         547     1  "
      ]
     },
     "execution_count": 13,
     "metadata": {},
     "output_type": "execute_result"
    }
   ],
   "source": [
    "edges.loc[edges['index_tail'] == 547]"
   ]
  },
  {
   "cell_type": "markdown",
   "metadata": {},
   "source": [
    "Index list can be used later for converting back to the label of the relation."
   ]
  },
  {
   "cell_type": "code",
   "execution_count": 14,
   "metadata": {
    "execution": {
     "iopub.execute_input": "2023-11-10T19:10:45.559651Z",
     "iopub.status.busy": "2023-11-10T19:10:45.559651Z",
     "iopub.status.idle": "2023-11-10T19:10:45.586892Z",
     "shell.execute_reply": "2023-11-10T19:10:45.585906Z"
    }
   },
   "outputs": [
    {
     "data": {
      "text/plain": [
       "Index(['interacts with', 'in orthology relationship with', 'causes condition',\n",
       "       'involved in', 'found in', 'is part of', 'enables', 'colocalizes with',\n",
       "       'has role in modeling', 'contributes to condition', 'expresses gene',\n",
       "       'has affected feature', 'is of', 'likely causes condition',\n",
       "       'is variant in', 'is allele of', 'is substance that treats', 'targets',\n",
       "       'associated with phenotype', 'is product of', 'has genotype'],\n",
       "      dtype='object')"
      ]
     },
     "execution_count": 14,
     "metadata": {},
     "output_type": "execute_result"
    }
   ],
   "source": [
    "_, relation_labels = pd.factorize(edges['relation'])\n",
    "relation_labels"
   ]
  },
  {
   "attachments": {},
   "cell_type": "markdown",
   "metadata": {},
   "source": [
    "# Link Prediction"
   ]
  },
  {
   "attachments": {},
   "cell_type": "markdown",
   "metadata": {},
   "source": [
    "Creating a graph including the node embeddings as features of each node."
   ]
  },
  {
   "cell_type": "code",
   "execution_count": 15,
   "metadata": {
    "execution": {
     "iopub.execute_input": "2023-11-10T19:10:45.591969Z",
     "iopub.status.busy": "2023-11-10T19:10:45.591005Z",
     "iopub.status.idle": "2023-11-10T19:10:50.055860Z",
     "shell.execute_reply": "2023-11-10T19:10:50.053814Z"
    }
   },
   "outputs": [
    {
     "name": "stdout",
     "output_type": "stream",
     "text": [
      "(0, {'node_feature': tensor([-0.4509,  0.2622,  0.2291, -0.4904,  0.3818,  0.5481,  0.1687, -0.3421,\n",
      "        -0.4601,  0.2711,  0.1248,  0.2584,  0.1844, -0.0448,  0.1521, -0.5556,\n",
      "         0.2471,  0.5365,  0.1329, -0.5690,  0.2744, -0.0057, -0.2026,  0.0462,\n",
      "         0.2343,  0.3218, -0.2072,  0.5780,  0.1912,  0.3074,  0.0648,  0.1621,\n",
      "        -0.0945, -0.2544,  0.1522,  0.4952,  0.1920, -0.1342,  0.4838,  0.2582,\n",
      "        -0.1710,  0.0028, -0.0378,  0.3734,  0.0745, -0.0683, -0.2787, -0.8189,\n",
      "         0.2985, -0.2350,  0.5074, -0.1224, -0.1789,  0.0482, -0.1783, -0.1887,\n",
      "        -0.2891,  0.0113, -0.2606, -0.1360,  0.0728,  0.0624, -0.1738, -0.0448])})\n",
      "(0, 8472, {})\n",
      "Number of edges is 55032\n",
      "Number of nodes is 10275\n"
     ]
    }
   ],
   "source": [
    "embedded_node_G = nx.Graph() # TODO: DiGraph?\n",
    "\n",
    "for ind, node in embedding.iterrows(): \n",
    "  embedded_node_G.add_node(int(node['Node']), node_feature=torch.Tensor(node['Embedding']))\n",
    "for ind, edge in edges.iterrows(): \n",
    "  embedded_node_G.add_edge(int(edge['index_head']), int(edge['index_tail']))\n",
    "    \n",
    "for node in embedded_node_G.nodes(data=True):\n",
    "    print(node)\n",
    "    break\n",
    "for edge in embedded_node_G.edges(data=True):\n",
    "    print(edge)\n",
    "    break\n",
    "\n",
    "print(\"Number of edges is {}\".format(embedded_node_G.number_of_edges()))\n",
    "print(\"Number of nodes is {}\".format(embedded_node_G.number_of_nodes()))"
   ]
  },
  {
   "attachments": {},
   "cell_type": "markdown",
   "metadata": {},
   "source": [
    "## Generate graph datasets for training, validation and testing"
   ]
  },
  {
   "attachments": {},
   "cell_type": "markdown",
   "metadata": {},
   "source": [
    "Transductive link prediction split (https://zqfang.github.io/2021-08-12-graph-linkpredict/):\n",
    "- Train/validation/test sets are on the same graph\n",
    "- The dataset consists of one graph\n",
    "- The entire graph can be observed in all dataset splits\n",
    "- The labels of the edges are split"
   ]
  },
  {
   "cell_type": "code",
   "execution_count": 16,
   "metadata": {
    "execution": {
     "iopub.execute_input": "2023-11-10T19:10:50.059412Z",
     "iopub.status.busy": "2023-11-10T19:10:50.058382Z",
     "iopub.status.idle": "2023-11-10T19:10:52.067910Z",
     "shell.execute_reply": "2023-11-10T19:10:52.066911Z"
    }
   },
   "outputs": [
    {
     "name": "stderr",
     "output_type": "stream",
     "text": [
      "c:\\Users\\rosa-\\anaconda3\\envs\\xaifo\\lib\\site-packages\\deepsnap\\graph.py:2126: UserWarning: __floordiv__ is deprecated, and its behavior will change in a future version of pytorch. It currently rounds toward 0 (like the 'trunc' function NOT 'floor'). This results in incorrect rounding for negative values. To keep the current behavior, use torch.div(a, b, rounding_mode='trunc'), or for actual floor division, use torch.div(a, b, rounding_mode='floor').\n",
      "  row = perm // num_nodes\n"
     ]
    },
    {
     "name": "stdout",
     "output_type": "stream",
     "text": [
      "Input dimension (embedding dimension): 64 \n",
      " Number of edge classes (link or no link): 2\n"
     ]
    }
   ],
   "source": [
    "dataset = GraphDataset(\n",
    "    embedded_node_G,\n",
    "    task='link_pred',\n",
    "    edge_train_mode='all',\n",
    "    edge_negative_sampling_ratio=1\n",
    ")\n",
    "\n",
    "datasets = {}\n",
    "datasets['train'], datasets['val'], datasets['test'] = dataset.split(\n",
    "    transductive=True, split_ratio=[0.8, 0.1, 0.1]\n",
    ")\n",
    "\n",
    "input_dim = datasets['train'].num_node_features\n",
    "num_classes = datasets['train'].num_edge_labels\n",
    "\n",
    "print(f'Input dimension (embedding dimension): {input_dim} \\n Number of edge classes (link or no link): {num_classes}')   "
   ]
  },
  {
   "attachments": {},
   "cell_type": "markdown",
   "metadata": {},
   "source": [
    "Dataloaders allow to feed data into the model by batch."
   ]
  },
  {
   "cell_type": "code",
   "execution_count": 17,
   "metadata": {
    "execution": {
     "iopub.execute_input": "2023-11-10T19:10:52.071421Z",
     "iopub.status.busy": "2023-11-10T19:10:52.070421Z",
     "iopub.status.idle": "2023-11-10T19:10:52.083931Z",
     "shell.execute_reply": "2023-11-10T19:10:52.082931Z"
    }
   },
   "outputs": [],
   "source": [
    "dataloaders = {split: DataLoader(ds, collate_fn=Batch.collate([]), batch_size=1, shuffle=(split=='train')) for split, ds in datasets.items()}"
   ]
  },
  {
   "attachments": {},
   "cell_type": "markdown",
   "metadata": {},
   "source": [
    "## Train GNN"
   ]
  },
  {
   "attachments": {},
   "cell_type": "markdown",
   "metadata": {},
   "source": [
    "### Predefined Arguments"
   ]
  },
  {
   "attachments": {},
   "cell_type": "markdown",
   "metadata": {},
   "source": [
    "Train GNN with predefined arguments"
   ]
  },
  {
   "cell_type": "code",
   "execution_count": 18,
   "metadata": {
    "execution": {
     "iopub.execute_input": "2023-11-10T19:10:52.088434Z",
     "iopub.status.busy": "2023-11-10T19:10:52.086931Z",
     "iopub.status.idle": "2023-11-10T19:10:52.099953Z",
     "shell.execute_reply": "2023-11-10T19:10:52.098949Z"
    }
   },
   "outputs": [
    {
     "name": "stdout",
     "output_type": "stream",
     "text": [
      "{'device': device(type='cpu'), 'hidden_dim': 256, 'output_dim': 64, 'epochs': 100, 'lr': 0.013477408995651594, 'aggr': 'mean', 'layers': 2, 'dropout': 0.2} 0.0005\n"
     ]
    }
   ],
   "source": [
    "if embedding_method == 'e2v':\n",
    "    weight_decay = 5e-4\n",
    "else:\n",
    "    weight_decay = 0.01\n",
    "\n",
    "if dataset_nr == 1:\n",
    "    if embedding_method == 'e2v':\n",
    "        args = {\n",
    "            \"device\" : torch_device,   # insert torch_device, or 'cpu' \n",
    "            \"hidden_dim\" : 256,\n",
    "            'output_dim': 64,\n",
    "            \"epochs\" : 150, \n",
    "            'lr': 0.07, \n",
    "            'aggr': 'mean', \n",
    "            'layers': 2, \n",
    "            'dropout': 0.2\n",
    "        }\n",
    "    else:\n",
    "        args = {\n",
    "            \"device\" : torch_device,   # insert torch_device, or 'cpu' \n",
    "            \"hidden_dim\" : 64,\n",
    "            'output_dim': 64,\n",
    "            \"epochs\" : 150, \n",
    "            'lr': 0.08012563751611058, \n",
    "            'aggr': 'mean', \n",
    "            'layers': 6, \n",
    "            'dropout': 0\n",
    "        }\n",
    "    \n",
    "else:\n",
    "    if embedding_method == 'e2v':\n",
    "        args = {\n",
    "            \"device\" : torch_device,   # insert torch_device, or 'cpu' \n",
    "            \"hidden_dim\" : 256,\n",
    "            'output_dim': 64,\n",
    "            \"epochs\" : 100, \n",
    "            'lr': 0.013477408995651594, \n",
    "            'aggr': 'mean', \n",
    "            'layers': 2, \n",
    "            'dropout': 0.2\n",
    "        }\n",
    "    else:\n",
    "        args = {\n",
    "            \"device\" : torch_device,   # insert torch_device, or 'cpu' \n",
    "            \"hidden_dim\" : 128,\n",
    "            'output_dim': 64,\n",
    "            \"epochs\" : 150, \n",
    "            'lr': 0.07, \n",
    "            'aggr': 'mean', \n",
    "            'layers': 2, \n",
    "            'dropout': 0.1\n",
    "        }\n",
    "\n",
    "print(args, weight_decay)\n",
    "\n",
    "model = LinkPredModel(input_dim, args['hidden_dim'], args['output_dim'], args['layers'], args['aggr'], args['dropout'], args['device']).to(args['device'])\n",
    "optimizer = torch.optim.SGD(model.parameters(), lr=args['lr'], momentum=0.9, weight_decay=weight_decay)"
   ]
  },
  {
   "cell_type": "code",
   "execution_count": 19,
   "metadata": {
    "execution": {
     "iopub.execute_input": "2023-11-10T19:10:52.102950Z",
     "iopub.status.busy": "2023-11-10T19:10:52.102950Z",
     "iopub.status.idle": "2023-11-10T19:12:12.356737Z",
     "shell.execute_reply": "2023-11-10T19:12:12.354733Z"
    }
   },
   "outputs": [
    {
     "name": "stdout",
     "output_type": "stream",
     "text": [
      "Start Train Function\n",
      "Epoch: 001, Train: 0.9670, Val: 0.9419, Test: 0.9396, Loss: 2.22372\n"
     ]
    },
    {
     "name": "stderr",
     "output_type": "stream",
     "text": [
      "c:\\Users\\rosa-\\anaconda3\\envs\\xaifo\\lib\\site-packages\\deepsnap\\graph.py:2126: UserWarning: __floordiv__ is deprecated, and its behavior will change in a future version of pytorch. It currently rounds toward 0 (like the 'trunc' function NOT 'floor'). This results in incorrect rounding for negative values. To keep the current behavior, use torch.div(a, b, rounding_mode='trunc'), or for actual floor division, use torch.div(a, b, rounding_mode='floor').\n",
      "  row = perm // num_nodes\n"
     ]
    },
    {
     "name": "stdout",
     "output_type": "stream",
     "text": [
      "Epoch: 002, Train: 0.9641, Val: 0.9405, Test: 0.9381, Loss: 2.19938\n"
     ]
    },
    {
     "name": "stderr",
     "output_type": "stream",
     "text": [
      "c:\\Users\\rosa-\\anaconda3\\envs\\xaifo\\lib\\site-packages\\deepsnap\\graph.py:2126: UserWarning: __floordiv__ is deprecated, and its behavior will change in a future version of pytorch. It currently rounds toward 0 (like the 'trunc' function NOT 'floor'). This results in incorrect rounding for negative values. To keep the current behavior, use torch.div(a, b, rounding_mode='trunc'), or for actual floor division, use torch.div(a, b, rounding_mode='floor').\n",
      "  row = perm // num_nodes\n"
     ]
    },
    {
     "name": "stdout",
     "output_type": "stream",
     "text": [
      "Epoch: 003, Train: 0.9602, Val: 0.9374, Test: 0.9350, Loss: 2.10281\n"
     ]
    },
    {
     "name": "stderr",
     "output_type": "stream",
     "text": [
      "c:\\Users\\rosa-\\anaconda3\\envs\\xaifo\\lib\\site-packages\\deepsnap\\graph.py:2126: UserWarning: __floordiv__ is deprecated, and its behavior will change in a future version of pytorch. It currently rounds toward 0 (like the 'trunc' function NOT 'floor'). This results in incorrect rounding for negative values. To keep the current behavior, use torch.div(a, b, rounding_mode='trunc'), or for actual floor division, use torch.div(a, b, rounding_mode='floor').\n",
      "  row = perm // num_nodes\n"
     ]
    },
    {
     "name": "stdout",
     "output_type": "stream",
     "text": [
      "Epoch: 004, Train: 0.9569, Val: 0.9353, Test: 0.9333, Loss: 2.01035\n"
     ]
    },
    {
     "name": "stderr",
     "output_type": "stream",
     "text": [
      "c:\\Users\\rosa-\\anaconda3\\envs\\xaifo\\lib\\site-packages\\deepsnap\\graph.py:2126: UserWarning: __floordiv__ is deprecated, and its behavior will change in a future version of pytorch. It currently rounds toward 0 (like the 'trunc' function NOT 'floor'). This results in incorrect rounding for negative values. To keep the current behavior, use torch.div(a, b, rounding_mode='trunc'), or for actual floor division, use torch.div(a, b, rounding_mode='floor').\n",
      "  row = perm // num_nodes\n"
     ]
    },
    {
     "name": "stdout",
     "output_type": "stream",
     "text": [
      "Epoch: 005, Train: 0.9555, Val: 0.9351, Test: 0.9339, Loss: 1.96441\n"
     ]
    },
    {
     "name": "stderr",
     "output_type": "stream",
     "text": [
      "c:\\Users\\rosa-\\anaconda3\\envs\\xaifo\\lib\\site-packages\\deepsnap\\graph.py:2126: UserWarning: __floordiv__ is deprecated, and its behavior will change in a future version of pytorch. It currently rounds toward 0 (like the 'trunc' function NOT 'floor'). This results in incorrect rounding for negative values. To keep the current behavior, use torch.div(a, b, rounding_mode='trunc'), or for actual floor division, use torch.div(a, b, rounding_mode='floor').\n",
      "  row = perm // num_nodes\n"
     ]
    },
    {
     "name": "stdout",
     "output_type": "stream",
     "text": [
      "Epoch: 006, Train: 0.9558, Val: 0.9353, Test: 0.9350, Loss: 1.93748\n"
     ]
    },
    {
     "name": "stderr",
     "output_type": "stream",
     "text": [
      "c:\\Users\\rosa-\\anaconda3\\envs\\xaifo\\lib\\site-packages\\deepsnap\\graph.py:2126: UserWarning: __floordiv__ is deprecated, and its behavior will change in a future version of pytorch. It currently rounds toward 0 (like the 'trunc' function NOT 'floor'). This results in incorrect rounding for negative values. To keep the current behavior, use torch.div(a, b, rounding_mode='trunc'), or for actual floor division, use torch.div(a, b, rounding_mode='floor').\n",
      "  row = perm // num_nodes\n"
     ]
    },
    {
     "name": "stdout",
     "output_type": "stream",
     "text": [
      "Epoch: 007, Train: 0.9551, Val: 0.9359, Test: 0.9363, Loss: 1.90209\n"
     ]
    },
    {
     "name": "stderr",
     "output_type": "stream",
     "text": [
      "c:\\Users\\rosa-\\anaconda3\\envs\\xaifo\\lib\\site-packages\\deepsnap\\graph.py:2126: UserWarning: __floordiv__ is deprecated, and its behavior will change in a future version of pytorch. It currently rounds toward 0 (like the 'trunc' function NOT 'floor'). This results in incorrect rounding for negative values. To keep the current behavior, use torch.div(a, b, rounding_mode='trunc'), or for actual floor division, use torch.div(a, b, rounding_mode='floor').\n",
      "  row = perm // num_nodes\n"
     ]
    },
    {
     "name": "stdout",
     "output_type": "stream",
     "text": [
      "Epoch: 008, Train: 0.9556, Val: 0.9363, Test: 0.9373, Loss: 1.83895\n"
     ]
    },
    {
     "name": "stderr",
     "output_type": "stream",
     "text": [
      "c:\\Users\\rosa-\\anaconda3\\envs\\xaifo\\lib\\site-packages\\deepsnap\\graph.py:2126: UserWarning: __floordiv__ is deprecated, and its behavior will change in a future version of pytorch. It currently rounds toward 0 (like the 'trunc' function NOT 'floor'). This results in incorrect rounding for negative values. To keep the current behavior, use torch.div(a, b, rounding_mode='trunc'), or for actual floor division, use torch.div(a, b, rounding_mode='floor').\n",
      "  row = perm // num_nodes\n"
     ]
    },
    {
     "name": "stdout",
     "output_type": "stream",
     "text": [
      "Epoch: 009, Train: 0.9562, Val: 0.9367, Test: 0.9382, Loss: 1.79144\n"
     ]
    },
    {
     "name": "stderr",
     "output_type": "stream",
     "text": [
      "c:\\Users\\rosa-\\anaconda3\\envs\\xaifo\\lib\\site-packages\\deepsnap\\graph.py:2126: UserWarning: __floordiv__ is deprecated, and its behavior will change in a future version of pytorch. It currently rounds toward 0 (like the 'trunc' function NOT 'floor'). This results in incorrect rounding for negative values. To keep the current behavior, use torch.div(a, b, rounding_mode='trunc'), or for actual floor division, use torch.div(a, b, rounding_mode='floor').\n",
      "  row = perm // num_nodes\n"
     ]
    },
    {
     "name": "stdout",
     "output_type": "stream",
     "text": [
      "Epoch: 010, Train: 0.9568, Val: 0.9370, Test: 0.9388, Loss: 1.74887\n"
     ]
    },
    {
     "name": "stderr",
     "output_type": "stream",
     "text": [
      "c:\\Users\\rosa-\\anaconda3\\envs\\xaifo\\lib\\site-packages\\deepsnap\\graph.py:2126: UserWarning: __floordiv__ is deprecated, and its behavior will change in a future version of pytorch. It currently rounds toward 0 (like the 'trunc' function NOT 'floor'). This results in incorrect rounding for negative values. To keep the current behavior, use torch.div(a, b, rounding_mode='trunc'), or for actual floor division, use torch.div(a, b, rounding_mode='floor').\n",
      "  row = perm // num_nodes\n"
     ]
    },
    {
     "name": "stdout",
     "output_type": "stream",
     "text": [
      "Epoch: 011, Train: 0.9564, Val: 0.9374, Test: 0.9395, Loss: 1.72584\n"
     ]
    },
    {
     "name": "stderr",
     "output_type": "stream",
     "text": [
      "c:\\Users\\rosa-\\anaconda3\\envs\\xaifo\\lib\\site-packages\\deepsnap\\graph.py:2126: UserWarning: __floordiv__ is deprecated, and its behavior will change in a future version of pytorch. It currently rounds toward 0 (like the 'trunc' function NOT 'floor'). This results in incorrect rounding for negative values. To keep the current behavior, use torch.div(a, b, rounding_mode='trunc'), or for actual floor division, use torch.div(a, b, rounding_mode='floor').\n",
      "  row = perm // num_nodes\n"
     ]
    },
    {
     "name": "stdout",
     "output_type": "stream",
     "text": [
      "Epoch: 012, Train: 0.9567, Val: 0.9381, Test: 0.9403, Loss: 1.69779\n"
     ]
    },
    {
     "name": "stderr",
     "output_type": "stream",
     "text": [
      "c:\\Users\\rosa-\\anaconda3\\envs\\xaifo\\lib\\site-packages\\deepsnap\\graph.py:2126: UserWarning: __floordiv__ is deprecated, and its behavior will change in a future version of pytorch. It currently rounds toward 0 (like the 'trunc' function NOT 'floor'). This results in incorrect rounding for negative values. To keep the current behavior, use torch.div(a, b, rounding_mode='trunc'), or for actual floor division, use torch.div(a, b, rounding_mode='floor').\n",
      "  row = perm // num_nodes\n"
     ]
    },
    {
     "name": "stdout",
     "output_type": "stream",
     "text": [
      "Epoch: 013, Train: 0.9573, Val: 0.9386, Test: 0.9409, Loss: 1.62740\n"
     ]
    },
    {
     "name": "stderr",
     "output_type": "stream",
     "text": [
      "c:\\Users\\rosa-\\anaconda3\\envs\\xaifo\\lib\\site-packages\\deepsnap\\graph.py:2126: UserWarning: __floordiv__ is deprecated, and its behavior will change in a future version of pytorch. It currently rounds toward 0 (like the 'trunc' function NOT 'floor'). This results in incorrect rounding for negative values. To keep the current behavior, use torch.div(a, b, rounding_mode='trunc'), or for actual floor division, use torch.div(a, b, rounding_mode='floor').\n",
      "  row = perm // num_nodes\n"
     ]
    },
    {
     "name": "stdout",
     "output_type": "stream",
     "text": [
      "Epoch: 014, Train: 0.9561, Val: 0.9392, Test: 0.9417, Loss: 1.58410\n"
     ]
    },
    {
     "name": "stderr",
     "output_type": "stream",
     "text": [
      "c:\\Users\\rosa-\\anaconda3\\envs\\xaifo\\lib\\site-packages\\deepsnap\\graph.py:2126: UserWarning: __floordiv__ is deprecated, and its behavior will change in a future version of pytorch. It currently rounds toward 0 (like the 'trunc' function NOT 'floor'). This results in incorrect rounding for negative values. To keep the current behavior, use torch.div(a, b, rounding_mode='trunc'), or for actual floor division, use torch.div(a, b, rounding_mode='floor').\n",
      "  row = perm // num_nodes\n"
     ]
    },
    {
     "name": "stdout",
     "output_type": "stream",
     "text": [
      "Epoch: 015, Train: 0.9580, Val: 0.9398, Test: 0.9425, Loss: 1.57225\n"
     ]
    },
    {
     "name": "stderr",
     "output_type": "stream",
     "text": [
      "c:\\Users\\rosa-\\anaconda3\\envs\\xaifo\\lib\\site-packages\\deepsnap\\graph.py:2126: UserWarning: __floordiv__ is deprecated, and its behavior will change in a future version of pytorch. It currently rounds toward 0 (like the 'trunc' function NOT 'floor'). This results in incorrect rounding for negative values. To keep the current behavior, use torch.div(a, b, rounding_mode='trunc'), or for actual floor division, use torch.div(a, b, rounding_mode='floor').\n",
      "  row = perm // num_nodes\n"
     ]
    },
    {
     "name": "stdout",
     "output_type": "stream",
     "text": [
      "Epoch: 016, Train: 0.9585, Val: 0.9406, Test: 0.9434, Loss: 1.54579\n"
     ]
    },
    {
     "name": "stderr",
     "output_type": "stream",
     "text": [
      "c:\\Users\\rosa-\\anaconda3\\envs\\xaifo\\lib\\site-packages\\deepsnap\\graph.py:2126: UserWarning: __floordiv__ is deprecated, and its behavior will change in a future version of pytorch. It currently rounds toward 0 (like the 'trunc' function NOT 'floor'). This results in incorrect rounding for negative values. To keep the current behavior, use torch.div(a, b, rounding_mode='trunc'), or for actual floor division, use torch.div(a, b, rounding_mode='floor').\n",
      "  row = perm // num_nodes\n"
     ]
    },
    {
     "name": "stdout",
     "output_type": "stream",
     "text": [
      "Epoch: 017, Train: 0.9596, Val: 0.9418, Test: 0.9446, Loss: 1.50705\n"
     ]
    },
    {
     "name": "stderr",
     "output_type": "stream",
     "text": [
      "c:\\Users\\rosa-\\anaconda3\\envs\\xaifo\\lib\\site-packages\\deepsnap\\graph.py:2126: UserWarning: __floordiv__ is deprecated, and its behavior will change in a future version of pytorch. It currently rounds toward 0 (like the 'trunc' function NOT 'floor'). This results in incorrect rounding for negative values. To keep the current behavior, use torch.div(a, b, rounding_mode='trunc'), or for actual floor division, use torch.div(a, b, rounding_mode='floor').\n",
      "  row = perm // num_nodes\n"
     ]
    },
    {
     "name": "stdout",
     "output_type": "stream",
     "text": [
      "Epoch: 018, Train: 0.9607, Val: 0.9432, Test: 0.9460, Loss: 1.49564\n"
     ]
    },
    {
     "name": "stderr",
     "output_type": "stream",
     "text": [
      "c:\\Users\\rosa-\\anaconda3\\envs\\xaifo\\lib\\site-packages\\deepsnap\\graph.py:2126: UserWarning: __floordiv__ is deprecated, and its behavior will change in a future version of pytorch. It currently rounds toward 0 (like the 'trunc' function NOT 'floor'). This results in incorrect rounding for negative values. To keep the current behavior, use torch.div(a, b, rounding_mode='trunc'), or for actual floor division, use torch.div(a, b, rounding_mode='floor').\n",
      "  row = perm // num_nodes\n"
     ]
    },
    {
     "name": "stdout",
     "output_type": "stream",
     "text": [
      "Epoch: 019, Train: 0.9616, Val: 0.9447, Test: 0.9474, Loss: 1.44506\n"
     ]
    },
    {
     "name": "stderr",
     "output_type": "stream",
     "text": [
      "c:\\Users\\rosa-\\anaconda3\\envs\\xaifo\\lib\\site-packages\\deepsnap\\graph.py:2126: UserWarning: __floordiv__ is deprecated, and its behavior will change in a future version of pytorch. It currently rounds toward 0 (like the 'trunc' function NOT 'floor'). This results in incorrect rounding for negative values. To keep the current behavior, use torch.div(a, b, rounding_mode='trunc'), or for actual floor division, use torch.div(a, b, rounding_mode='floor').\n",
      "  row = perm // num_nodes\n"
     ]
    },
    {
     "name": "stdout",
     "output_type": "stream",
     "text": [
      "Epoch: 020, Train: 0.9627, Val: 0.9463, Test: 0.9489, Loss: 1.41192\n"
     ]
    },
    {
     "name": "stderr",
     "output_type": "stream",
     "text": [
      "c:\\Users\\rosa-\\anaconda3\\envs\\xaifo\\lib\\site-packages\\deepsnap\\graph.py:2126: UserWarning: __floordiv__ is deprecated, and its behavior will change in a future version of pytorch. It currently rounds toward 0 (like the 'trunc' function NOT 'floor'). This results in incorrect rounding for negative values. To keep the current behavior, use torch.div(a, b, rounding_mode='trunc'), or for actual floor division, use torch.div(a, b, rounding_mode='floor').\n",
      "  row = perm // num_nodes\n"
     ]
    },
    {
     "name": "stdout",
     "output_type": "stream",
     "text": [
      "Epoch: 021, Train: 0.9650, Val: 0.9481, Test: 0.9506, Loss: 1.41703\n"
     ]
    },
    {
     "name": "stderr",
     "output_type": "stream",
     "text": [
      "c:\\Users\\rosa-\\anaconda3\\envs\\xaifo\\lib\\site-packages\\deepsnap\\graph.py:2126: UserWarning: __floordiv__ is deprecated, and its behavior will change in a future version of pytorch. It currently rounds toward 0 (like the 'trunc' function NOT 'floor'). This results in incorrect rounding for negative values. To keep the current behavior, use torch.div(a, b, rounding_mode='trunc'), or for actual floor division, use torch.div(a, b, rounding_mode='floor').\n",
      "  row = perm // num_nodes\n"
     ]
    },
    {
     "name": "stdout",
     "output_type": "stream",
     "text": [
      "Epoch: 022, Train: 0.9662, Val: 0.9500, Test: 0.9524, Loss: 1.37143\n"
     ]
    },
    {
     "name": "stderr",
     "output_type": "stream",
     "text": [
      "c:\\Users\\rosa-\\anaconda3\\envs\\xaifo\\lib\\site-packages\\deepsnap\\graph.py:2126: UserWarning: __floordiv__ is deprecated, and its behavior will change in a future version of pytorch. It currently rounds toward 0 (like the 'trunc' function NOT 'floor'). This results in incorrect rounding for negative values. To keep the current behavior, use torch.div(a, b, rounding_mode='trunc'), or for actual floor division, use torch.div(a, b, rounding_mode='floor').\n",
      "  row = perm // num_nodes\n"
     ]
    },
    {
     "name": "stdout",
     "output_type": "stream",
     "text": [
      "Epoch: 023, Train: 0.9675, Val: 0.9516, Test: 0.9540, Loss: 1.34123\n"
     ]
    },
    {
     "name": "stderr",
     "output_type": "stream",
     "text": [
      "c:\\Users\\rosa-\\anaconda3\\envs\\xaifo\\lib\\site-packages\\deepsnap\\graph.py:2126: UserWarning: __floordiv__ is deprecated, and its behavior will change in a future version of pytorch. It currently rounds toward 0 (like the 'trunc' function NOT 'floor'). This results in incorrect rounding for negative values. To keep the current behavior, use torch.div(a, b, rounding_mode='trunc'), or for actual floor division, use torch.div(a, b, rounding_mode='floor').\n",
      "  row = perm // num_nodes\n"
     ]
    },
    {
     "name": "stdout",
     "output_type": "stream",
     "text": [
      "Epoch: 024, Train: 0.9685, Val: 0.9531, Test: 0.9554, Loss: 1.31727\n"
     ]
    },
    {
     "name": "stderr",
     "output_type": "stream",
     "text": [
      "c:\\Users\\rosa-\\anaconda3\\envs\\xaifo\\lib\\site-packages\\deepsnap\\graph.py:2126: UserWarning: __floordiv__ is deprecated, and its behavior will change in a future version of pytorch. It currently rounds toward 0 (like the 'trunc' function NOT 'floor'). This results in incorrect rounding for negative values. To keep the current behavior, use torch.div(a, b, rounding_mode='trunc'), or for actual floor division, use torch.div(a, b, rounding_mode='floor').\n",
      "  row = perm // num_nodes\n"
     ]
    },
    {
     "name": "stdout",
     "output_type": "stream",
     "text": [
      "Epoch: 025, Train: 0.9697, Val: 0.9544, Test: 0.9566, Loss: 1.29883\n"
     ]
    },
    {
     "name": "stderr",
     "output_type": "stream",
     "text": [
      "c:\\Users\\rosa-\\anaconda3\\envs\\xaifo\\lib\\site-packages\\deepsnap\\graph.py:2126: UserWarning: __floordiv__ is deprecated, and its behavior will change in a future version of pytorch. It currently rounds toward 0 (like the 'trunc' function NOT 'floor'). This results in incorrect rounding for negative values. To keep the current behavior, use torch.div(a, b, rounding_mode='trunc'), or for actual floor division, use torch.div(a, b, rounding_mode='floor').\n",
      "  row = perm // num_nodes\n"
     ]
    },
    {
     "name": "stdout",
     "output_type": "stream",
     "text": [
      "Epoch: 026, Train: 0.9704, Val: 0.9554, Test: 0.9576, Loss: 1.28717\n"
     ]
    },
    {
     "name": "stderr",
     "output_type": "stream",
     "text": [
      "c:\\Users\\rosa-\\anaconda3\\envs\\xaifo\\lib\\site-packages\\deepsnap\\graph.py:2126: UserWarning: __floordiv__ is deprecated, and its behavior will change in a future version of pytorch. It currently rounds toward 0 (like the 'trunc' function NOT 'floor'). This results in incorrect rounding for negative values. To keep the current behavior, use torch.div(a, b, rounding_mode='trunc'), or for actual floor division, use torch.div(a, b, rounding_mode='floor').\n",
      "  row = perm // num_nodes\n"
     ]
    },
    {
     "name": "stdout",
     "output_type": "stream",
     "text": [
      "Epoch: 027, Train: 0.9715, Val: 0.9564, Test: 0.9585, Loss: 1.24432\n"
     ]
    },
    {
     "name": "stderr",
     "output_type": "stream",
     "text": [
      "c:\\Users\\rosa-\\anaconda3\\envs\\xaifo\\lib\\site-packages\\deepsnap\\graph.py:2126: UserWarning: __floordiv__ is deprecated, and its behavior will change in a future version of pytorch. It currently rounds toward 0 (like the 'trunc' function NOT 'floor'). This results in incorrect rounding for negative values. To keep the current behavior, use torch.div(a, b, rounding_mode='trunc'), or for actual floor division, use torch.div(a, b, rounding_mode='floor').\n",
      "  row = perm // num_nodes\n"
     ]
    },
    {
     "name": "stdout",
     "output_type": "stream",
     "text": [
      "Epoch: 028, Train: 0.9724, Val: 0.9571, Test: 0.9593, Loss: 1.24757\n"
     ]
    },
    {
     "name": "stderr",
     "output_type": "stream",
     "text": [
      "c:\\Users\\rosa-\\anaconda3\\envs\\xaifo\\lib\\site-packages\\deepsnap\\graph.py:2126: UserWarning: __floordiv__ is deprecated, and its behavior will change in a future version of pytorch. It currently rounds toward 0 (like the 'trunc' function NOT 'floor'). This results in incorrect rounding for negative values. To keep the current behavior, use torch.div(a, b, rounding_mode='trunc'), or for actual floor division, use torch.div(a, b, rounding_mode='floor').\n",
      "  row = perm // num_nodes\n"
     ]
    },
    {
     "name": "stdout",
     "output_type": "stream",
     "text": [
      "Epoch: 029, Train: 0.9725, Val: 0.9577, Test: 0.9598, Loss: 1.21456\n"
     ]
    },
    {
     "name": "stderr",
     "output_type": "stream",
     "text": [
      "c:\\Users\\rosa-\\anaconda3\\envs\\xaifo\\lib\\site-packages\\deepsnap\\graph.py:2126: UserWarning: __floordiv__ is deprecated, and its behavior will change in a future version of pytorch. It currently rounds toward 0 (like the 'trunc' function NOT 'floor'). This results in incorrect rounding for negative values. To keep the current behavior, use torch.div(a, b, rounding_mode='trunc'), or for actual floor division, use torch.div(a, b, rounding_mode='floor').\n",
      "  row = perm // num_nodes\n"
     ]
    },
    {
     "name": "stdout",
     "output_type": "stream",
     "text": [
      "Epoch: 030, Train: 0.9729, Val: 0.9581, Test: 0.9602, Loss: 1.19792\n"
     ]
    },
    {
     "name": "stderr",
     "output_type": "stream",
     "text": [
      "c:\\Users\\rosa-\\anaconda3\\envs\\xaifo\\lib\\site-packages\\deepsnap\\graph.py:2126: UserWarning: __floordiv__ is deprecated, and its behavior will change in a future version of pytorch. It currently rounds toward 0 (like the 'trunc' function NOT 'floor'). This results in incorrect rounding for negative values. To keep the current behavior, use torch.div(a, b, rounding_mode='trunc'), or for actual floor division, use torch.div(a, b, rounding_mode='floor').\n",
      "  row = perm // num_nodes\n"
     ]
    },
    {
     "name": "stdout",
     "output_type": "stream",
     "text": [
      "Epoch: 031, Train: 0.9738, Val: 0.9585, Test: 0.9605, Loss: 1.17957\n"
     ]
    },
    {
     "name": "stderr",
     "output_type": "stream",
     "text": [
      "c:\\Users\\rosa-\\anaconda3\\envs\\xaifo\\lib\\site-packages\\deepsnap\\graph.py:2126: UserWarning: __floordiv__ is deprecated, and its behavior will change in a future version of pytorch. It currently rounds toward 0 (like the 'trunc' function NOT 'floor'). This results in incorrect rounding for negative values. To keep the current behavior, use torch.div(a, b, rounding_mode='trunc'), or for actual floor division, use torch.div(a, b, rounding_mode='floor').\n",
      "  row = perm // num_nodes\n"
     ]
    },
    {
     "name": "stdout",
     "output_type": "stream",
     "text": [
      "Epoch: 032, Train: 0.9737, Val: 0.9589, Test: 0.9609, Loss: 1.15673\n"
     ]
    },
    {
     "name": "stderr",
     "output_type": "stream",
     "text": [
      "c:\\Users\\rosa-\\anaconda3\\envs\\xaifo\\lib\\site-packages\\deepsnap\\graph.py:2126: UserWarning: __floordiv__ is deprecated, and its behavior will change in a future version of pytorch. It currently rounds toward 0 (like the 'trunc' function NOT 'floor'). This results in incorrect rounding for negative values. To keep the current behavior, use torch.div(a, b, rounding_mode='trunc'), or for actual floor division, use torch.div(a, b, rounding_mode='floor').\n",
      "  row = perm // num_nodes\n"
     ]
    },
    {
     "name": "stdout",
     "output_type": "stream",
     "text": [
      "Epoch: 033, Train: 0.9738, Val: 0.9592, Test: 0.9611, Loss: 1.13722\n"
     ]
    },
    {
     "name": "stderr",
     "output_type": "stream",
     "text": [
      "c:\\Users\\rosa-\\anaconda3\\envs\\xaifo\\lib\\site-packages\\deepsnap\\graph.py:2126: UserWarning: __floordiv__ is deprecated, and its behavior will change in a future version of pytorch. It currently rounds toward 0 (like the 'trunc' function NOT 'floor'). This results in incorrect rounding for negative values. To keep the current behavior, use torch.div(a, b, rounding_mode='trunc'), or for actual floor division, use torch.div(a, b, rounding_mode='floor').\n",
      "  row = perm // num_nodes\n"
     ]
    },
    {
     "name": "stdout",
     "output_type": "stream",
     "text": [
      "Epoch: 034, Train: 0.9742, Val: 0.9595, Test: 0.9614, Loss: 1.12203\n"
     ]
    },
    {
     "name": "stderr",
     "output_type": "stream",
     "text": [
      "c:\\Users\\rosa-\\anaconda3\\envs\\xaifo\\lib\\site-packages\\deepsnap\\graph.py:2126: UserWarning: __floordiv__ is deprecated, and its behavior will change in a future version of pytorch. It currently rounds toward 0 (like the 'trunc' function NOT 'floor'). This results in incorrect rounding for negative values. To keep the current behavior, use torch.div(a, b, rounding_mode='trunc'), or for actual floor division, use torch.div(a, b, rounding_mode='floor').\n",
      "  row = perm // num_nodes\n"
     ]
    },
    {
     "name": "stdout",
     "output_type": "stream",
     "text": [
      "Epoch: 035, Train: 0.9743, Val: 0.9597, Test: 0.9616, Loss: 1.10659\n"
     ]
    },
    {
     "name": "stderr",
     "output_type": "stream",
     "text": [
      "c:\\Users\\rosa-\\anaconda3\\envs\\xaifo\\lib\\site-packages\\deepsnap\\graph.py:2126: UserWarning: __floordiv__ is deprecated, and its behavior will change in a future version of pytorch. It currently rounds toward 0 (like the 'trunc' function NOT 'floor'). This results in incorrect rounding for negative values. To keep the current behavior, use torch.div(a, b, rounding_mode='trunc'), or for actual floor division, use torch.div(a, b, rounding_mode='floor').\n",
      "  row = perm // num_nodes\n"
     ]
    },
    {
     "name": "stdout",
     "output_type": "stream",
     "text": [
      "Epoch: 036, Train: 0.9748, Val: 0.9599, Test: 0.9618, Loss: 1.07844\n"
     ]
    },
    {
     "name": "stderr",
     "output_type": "stream",
     "text": [
      "c:\\Users\\rosa-\\anaconda3\\envs\\xaifo\\lib\\site-packages\\deepsnap\\graph.py:2126: UserWarning: __floordiv__ is deprecated, and its behavior will change in a future version of pytorch. It currently rounds toward 0 (like the 'trunc' function NOT 'floor'). This results in incorrect rounding for negative values. To keep the current behavior, use torch.div(a, b, rounding_mode='trunc'), or for actual floor division, use torch.div(a, b, rounding_mode='floor').\n",
      "  row = perm // num_nodes\n"
     ]
    },
    {
     "name": "stdout",
     "output_type": "stream",
     "text": [
      "Epoch: 037, Train: 0.9741, Val: 0.9600, Test: 0.9620, Loss: 1.07406\n"
     ]
    },
    {
     "name": "stderr",
     "output_type": "stream",
     "text": [
      "c:\\Users\\rosa-\\anaconda3\\envs\\xaifo\\lib\\site-packages\\deepsnap\\graph.py:2126: UserWarning: __floordiv__ is deprecated, and its behavior will change in a future version of pytorch. It currently rounds toward 0 (like the 'trunc' function NOT 'floor'). This results in incorrect rounding for negative values. To keep the current behavior, use torch.div(a, b, rounding_mode='trunc'), or for actual floor division, use torch.div(a, b, rounding_mode='floor').\n",
      "  row = perm // num_nodes\n"
     ]
    },
    {
     "name": "stdout",
     "output_type": "stream",
     "text": [
      "Epoch: 038, Train: 0.9745, Val: 0.9602, Test: 0.9621, Loss: 1.04710\n"
     ]
    },
    {
     "name": "stderr",
     "output_type": "stream",
     "text": [
      "c:\\Users\\rosa-\\anaconda3\\envs\\xaifo\\lib\\site-packages\\deepsnap\\graph.py:2126: UserWarning: __floordiv__ is deprecated, and its behavior will change in a future version of pytorch. It currently rounds toward 0 (like the 'trunc' function NOT 'floor'). This results in incorrect rounding for negative values. To keep the current behavior, use torch.div(a, b, rounding_mode='trunc'), or for actual floor division, use torch.div(a, b, rounding_mode='floor').\n",
      "  row = perm // num_nodes\n"
     ]
    },
    {
     "name": "stdout",
     "output_type": "stream",
     "text": [
      "Epoch: 039, Train: 0.9745, Val: 0.9604, Test: 0.9623, Loss: 1.03032\n"
     ]
    },
    {
     "name": "stderr",
     "output_type": "stream",
     "text": [
      "c:\\Users\\rosa-\\anaconda3\\envs\\xaifo\\lib\\site-packages\\deepsnap\\graph.py:2126: UserWarning: __floordiv__ is deprecated, and its behavior will change in a future version of pytorch. It currently rounds toward 0 (like the 'trunc' function NOT 'floor'). This results in incorrect rounding for negative values. To keep the current behavior, use torch.div(a, b, rounding_mode='trunc'), or for actual floor division, use torch.div(a, b, rounding_mode='floor').\n",
      "  row = perm // num_nodes\n"
     ]
    },
    {
     "name": "stdout",
     "output_type": "stream",
     "text": [
      "Epoch: 040, Train: 0.9746, Val: 0.9605, Test: 0.9623, Loss: 1.01599\n"
     ]
    },
    {
     "name": "stderr",
     "output_type": "stream",
     "text": [
      "c:\\Users\\rosa-\\anaconda3\\envs\\xaifo\\lib\\site-packages\\deepsnap\\graph.py:2126: UserWarning: __floordiv__ is deprecated, and its behavior will change in a future version of pytorch. It currently rounds toward 0 (like the 'trunc' function NOT 'floor'). This results in incorrect rounding for negative values. To keep the current behavior, use torch.div(a, b, rounding_mode='trunc'), or for actual floor division, use torch.div(a, b, rounding_mode='floor').\n",
      "  row = perm // num_nodes\n"
     ]
    },
    {
     "name": "stdout",
     "output_type": "stream",
     "text": [
      "Epoch: 041, Train: 0.9744, Val: 0.9606, Test: 0.9624, Loss: 1.01364\n"
     ]
    },
    {
     "name": "stderr",
     "output_type": "stream",
     "text": [
      "c:\\Users\\rosa-\\anaconda3\\envs\\xaifo\\lib\\site-packages\\deepsnap\\graph.py:2126: UserWarning: __floordiv__ is deprecated, and its behavior will change in a future version of pytorch. It currently rounds toward 0 (like the 'trunc' function NOT 'floor'). This results in incorrect rounding for negative values. To keep the current behavior, use torch.div(a, b, rounding_mode='trunc'), or for actual floor division, use torch.div(a, b, rounding_mode='floor').\n",
      "  row = perm // num_nodes\n"
     ]
    },
    {
     "name": "stdout",
     "output_type": "stream",
     "text": [
      "Epoch: 042, Train: 0.9753, Val: 0.9607, Test: 0.9624, Loss: 0.98431\n"
     ]
    },
    {
     "name": "stderr",
     "output_type": "stream",
     "text": [
      "c:\\Users\\rosa-\\anaconda3\\envs\\xaifo\\lib\\site-packages\\deepsnap\\graph.py:2126: UserWarning: __floordiv__ is deprecated, and its behavior will change in a future version of pytorch. It currently rounds toward 0 (like the 'trunc' function NOT 'floor'). This results in incorrect rounding for negative values. To keep the current behavior, use torch.div(a, b, rounding_mode='trunc'), or for actual floor division, use torch.div(a, b, rounding_mode='floor').\n",
      "  row = perm // num_nodes\n"
     ]
    },
    {
     "name": "stdout",
     "output_type": "stream",
     "text": [
      "Epoch: 043, Train: 0.9742, Val: 0.9607, Test: 0.9624, Loss: 0.97469\n"
     ]
    },
    {
     "name": "stderr",
     "output_type": "stream",
     "text": [
      "c:\\Users\\rosa-\\anaconda3\\envs\\xaifo\\lib\\site-packages\\deepsnap\\graph.py:2126: UserWarning: __floordiv__ is deprecated, and its behavior will change in a future version of pytorch. It currently rounds toward 0 (like the 'trunc' function NOT 'floor'). This results in incorrect rounding for negative values. To keep the current behavior, use torch.div(a, b, rounding_mode='trunc'), or for actual floor division, use torch.div(a, b, rounding_mode='floor').\n",
      "  row = perm // num_nodes\n"
     ]
    },
    {
     "name": "stdout",
     "output_type": "stream",
     "text": [
      "Epoch: 044, Train: 0.9752, Val: 0.9607, Test: 0.9623, Loss: 0.97018\n"
     ]
    },
    {
     "name": "stderr",
     "output_type": "stream",
     "text": [
      "c:\\Users\\rosa-\\anaconda3\\envs\\xaifo\\lib\\site-packages\\deepsnap\\graph.py:2126: UserWarning: __floordiv__ is deprecated, and its behavior will change in a future version of pytorch. It currently rounds toward 0 (like the 'trunc' function NOT 'floor'). This results in incorrect rounding for negative values. To keep the current behavior, use torch.div(a, b, rounding_mode='trunc'), or for actual floor division, use torch.div(a, b, rounding_mode='floor').\n",
      "  row = perm // num_nodes\n"
     ]
    },
    {
     "name": "stdout",
     "output_type": "stream",
     "text": [
      "Epoch: 045, Train: 0.9741, Val: 0.9607, Test: 0.9623, Loss: 0.94246\n"
     ]
    },
    {
     "name": "stderr",
     "output_type": "stream",
     "text": [
      "c:\\Users\\rosa-\\anaconda3\\envs\\xaifo\\lib\\site-packages\\deepsnap\\graph.py:2126: UserWarning: __floordiv__ is deprecated, and its behavior will change in a future version of pytorch. It currently rounds toward 0 (like the 'trunc' function NOT 'floor'). This results in incorrect rounding for negative values. To keep the current behavior, use torch.div(a, b, rounding_mode='trunc'), or for actual floor division, use torch.div(a, b, rounding_mode='floor').\n",
      "  row = perm // num_nodes\n"
     ]
    },
    {
     "name": "stdout",
     "output_type": "stream",
     "text": [
      "Epoch: 046, Train: 0.9750, Val: 0.9607, Test: 0.9624, Loss: 0.93776\n"
     ]
    },
    {
     "name": "stderr",
     "output_type": "stream",
     "text": [
      "c:\\Users\\rosa-\\anaconda3\\envs\\xaifo\\lib\\site-packages\\deepsnap\\graph.py:2126: UserWarning: __floordiv__ is deprecated, and its behavior will change in a future version of pytorch. It currently rounds toward 0 (like the 'trunc' function NOT 'floor'). This results in incorrect rounding for negative values. To keep the current behavior, use torch.div(a, b, rounding_mode='trunc'), or for actual floor division, use torch.div(a, b, rounding_mode='floor').\n",
      "  row = perm // num_nodes\n"
     ]
    },
    {
     "name": "stdout",
     "output_type": "stream",
     "text": [
      "Epoch: 047, Train: 0.9749, Val: 0.9607, Test: 0.9624, Loss: 0.92112\n"
     ]
    },
    {
     "name": "stderr",
     "output_type": "stream",
     "text": [
      "c:\\Users\\rosa-\\anaconda3\\envs\\xaifo\\lib\\site-packages\\deepsnap\\graph.py:2126: UserWarning: __floordiv__ is deprecated, and its behavior will change in a future version of pytorch. It currently rounds toward 0 (like the 'trunc' function NOT 'floor'). This results in incorrect rounding for negative values. To keep the current behavior, use torch.div(a, b, rounding_mode='trunc'), or for actual floor division, use torch.div(a, b, rounding_mode='floor').\n",
      "  row = perm // num_nodes\n"
     ]
    },
    {
     "name": "stdout",
     "output_type": "stream",
     "text": [
      "Epoch: 048, Train: 0.9743, Val: 0.9607, Test: 0.9624, Loss: 0.90064\n"
     ]
    },
    {
     "name": "stderr",
     "output_type": "stream",
     "text": [
      "c:\\Users\\rosa-\\anaconda3\\envs\\xaifo\\lib\\site-packages\\deepsnap\\graph.py:2126: UserWarning: __floordiv__ is deprecated, and its behavior will change in a future version of pytorch. It currently rounds toward 0 (like the 'trunc' function NOT 'floor'). This results in incorrect rounding for negative values. To keep the current behavior, use torch.div(a, b, rounding_mode='trunc'), or for actual floor division, use torch.div(a, b, rounding_mode='floor').\n",
      "  row = perm // num_nodes\n"
     ]
    },
    {
     "name": "stdout",
     "output_type": "stream",
     "text": [
      "Epoch: 049, Train: 0.9750, Val: 0.9608, Test: 0.9625, Loss: 0.88979\n"
     ]
    },
    {
     "name": "stderr",
     "output_type": "stream",
     "text": [
      "c:\\Users\\rosa-\\anaconda3\\envs\\xaifo\\lib\\site-packages\\deepsnap\\graph.py:2126: UserWarning: __floordiv__ is deprecated, and its behavior will change in a future version of pytorch. It currently rounds toward 0 (like the 'trunc' function NOT 'floor'). This results in incorrect rounding for negative values. To keep the current behavior, use torch.div(a, b, rounding_mode='trunc'), or for actual floor division, use torch.div(a, b, rounding_mode='floor').\n",
      "  row = perm // num_nodes\n"
     ]
    },
    {
     "name": "stdout",
     "output_type": "stream",
     "text": [
      "Epoch: 050, Train: 0.9740, Val: 0.9608, Test: 0.9625, Loss: 0.87964\n"
     ]
    },
    {
     "name": "stderr",
     "output_type": "stream",
     "text": [
      "c:\\Users\\rosa-\\anaconda3\\envs\\xaifo\\lib\\site-packages\\deepsnap\\graph.py:2126: UserWarning: __floordiv__ is deprecated, and its behavior will change in a future version of pytorch. It currently rounds toward 0 (like the 'trunc' function NOT 'floor'). This results in incorrect rounding for negative values. To keep the current behavior, use torch.div(a, b, rounding_mode='trunc'), or for actual floor division, use torch.div(a, b, rounding_mode='floor').\n",
      "  row = perm // num_nodes\n"
     ]
    },
    {
     "name": "stdout",
     "output_type": "stream",
     "text": [
      "Epoch: 051, Train: 0.9741, Val: 0.9609, Test: 0.9626, Loss: 0.87047\n"
     ]
    },
    {
     "name": "stderr",
     "output_type": "stream",
     "text": [
      "c:\\Users\\rosa-\\anaconda3\\envs\\xaifo\\lib\\site-packages\\deepsnap\\graph.py:2126: UserWarning: __floordiv__ is deprecated, and its behavior will change in a future version of pytorch. It currently rounds toward 0 (like the 'trunc' function NOT 'floor'). This results in incorrect rounding for negative values. To keep the current behavior, use torch.div(a, b, rounding_mode='trunc'), or for actual floor division, use torch.div(a, b, rounding_mode='floor').\n",
      "  row = perm // num_nodes\n"
     ]
    },
    {
     "name": "stdout",
     "output_type": "stream",
     "text": [
      "Epoch: 052, Train: 0.9741, Val: 0.9609, Test: 0.9627, Loss: 0.87012\n"
     ]
    },
    {
     "name": "stderr",
     "output_type": "stream",
     "text": [
      "c:\\Users\\rosa-\\anaconda3\\envs\\xaifo\\lib\\site-packages\\deepsnap\\graph.py:2126: UserWarning: __floordiv__ is deprecated, and its behavior will change in a future version of pytorch. It currently rounds toward 0 (like the 'trunc' function NOT 'floor'). This results in incorrect rounding for negative values. To keep the current behavior, use torch.div(a, b, rounding_mode='trunc'), or for actual floor division, use torch.div(a, b, rounding_mode='floor').\n",
      "  row = perm // num_nodes\n"
     ]
    },
    {
     "name": "stdout",
     "output_type": "stream",
     "text": [
      "Epoch: 053, Train: 0.9736, Val: 0.9610, Test: 0.9627, Loss: 0.85557\n"
     ]
    },
    {
     "name": "stderr",
     "output_type": "stream",
     "text": [
      "c:\\Users\\rosa-\\anaconda3\\envs\\xaifo\\lib\\site-packages\\deepsnap\\graph.py:2126: UserWarning: __floordiv__ is deprecated, and its behavior will change in a future version of pytorch. It currently rounds toward 0 (like the 'trunc' function NOT 'floor'). This results in incorrect rounding for negative values. To keep the current behavior, use torch.div(a, b, rounding_mode='trunc'), or for actual floor division, use torch.div(a, b, rounding_mode='floor').\n",
      "  row = perm // num_nodes\n"
     ]
    },
    {
     "name": "stdout",
     "output_type": "stream",
     "text": [
      "Epoch: 054, Train: 0.9739, Val: 0.9610, Test: 0.9628, Loss: 0.85280\n"
     ]
    },
    {
     "name": "stderr",
     "output_type": "stream",
     "text": [
      "c:\\Users\\rosa-\\anaconda3\\envs\\xaifo\\lib\\site-packages\\deepsnap\\graph.py:2126: UserWarning: __floordiv__ is deprecated, and its behavior will change in a future version of pytorch. It currently rounds toward 0 (like the 'trunc' function NOT 'floor'). This results in incorrect rounding for negative values. To keep the current behavior, use torch.div(a, b, rounding_mode='trunc'), or for actual floor division, use torch.div(a, b, rounding_mode='floor').\n",
      "  row = perm // num_nodes\n"
     ]
    },
    {
     "name": "stdout",
     "output_type": "stream",
     "text": [
      "Epoch: 055, Train: 0.9738, Val: 0.9610, Test: 0.9627, Loss: 0.83651\n"
     ]
    },
    {
     "name": "stderr",
     "output_type": "stream",
     "text": [
      "c:\\Users\\rosa-\\anaconda3\\envs\\xaifo\\lib\\site-packages\\deepsnap\\graph.py:2126: UserWarning: __floordiv__ is deprecated, and its behavior will change in a future version of pytorch. It currently rounds toward 0 (like the 'trunc' function NOT 'floor'). This results in incorrect rounding for negative values. To keep the current behavior, use torch.div(a, b, rounding_mode='trunc'), or for actual floor division, use torch.div(a, b, rounding_mode='floor').\n",
      "  row = perm // num_nodes\n"
     ]
    },
    {
     "name": "stdout",
     "output_type": "stream",
     "text": [
      "Epoch: 056, Train: 0.9742, Val: 0.9609, Test: 0.9627, Loss: 0.81023\n"
     ]
    },
    {
     "name": "stderr",
     "output_type": "stream",
     "text": [
      "c:\\Users\\rosa-\\anaconda3\\envs\\xaifo\\lib\\site-packages\\deepsnap\\graph.py:2126: UserWarning: __floordiv__ is deprecated, and its behavior will change in a future version of pytorch. It currently rounds toward 0 (like the 'trunc' function NOT 'floor'). This results in incorrect rounding for negative values. To keep the current behavior, use torch.div(a, b, rounding_mode='trunc'), or for actual floor division, use torch.div(a, b, rounding_mode='floor').\n",
      "  row = perm // num_nodes\n"
     ]
    },
    {
     "name": "stdout",
     "output_type": "stream",
     "text": [
      "Epoch: 057, Train: 0.9737, Val: 0.9609, Test: 0.9627, Loss: 0.82168\n"
     ]
    },
    {
     "name": "stderr",
     "output_type": "stream",
     "text": [
      "c:\\Users\\rosa-\\anaconda3\\envs\\xaifo\\lib\\site-packages\\deepsnap\\graph.py:2126: UserWarning: __floordiv__ is deprecated, and its behavior will change in a future version of pytorch. It currently rounds toward 0 (like the 'trunc' function NOT 'floor'). This results in incorrect rounding for negative values. To keep the current behavior, use torch.div(a, b, rounding_mode='trunc'), or for actual floor division, use torch.div(a, b, rounding_mode='floor').\n",
      "  row = perm // num_nodes\n"
     ]
    },
    {
     "name": "stdout",
     "output_type": "stream",
     "text": [
      "Epoch: 058, Train: 0.9743, Val: 0.9610, Test: 0.9628, Loss: 0.79460\n"
     ]
    },
    {
     "name": "stderr",
     "output_type": "stream",
     "text": [
      "c:\\Users\\rosa-\\anaconda3\\envs\\xaifo\\lib\\site-packages\\deepsnap\\graph.py:2126: UserWarning: __floordiv__ is deprecated, and its behavior will change in a future version of pytorch. It currently rounds toward 0 (like the 'trunc' function NOT 'floor'). This results in incorrect rounding for negative values. To keep the current behavior, use torch.div(a, b, rounding_mode='trunc'), or for actual floor division, use torch.div(a, b, rounding_mode='floor').\n",
      "  row = perm // num_nodes\n"
     ]
    },
    {
     "name": "stdout",
     "output_type": "stream",
     "text": [
      "Epoch: 059, Train: 0.9742, Val: 0.9611, Test: 0.9630, Loss: 0.80243\n"
     ]
    },
    {
     "name": "stderr",
     "output_type": "stream",
     "text": [
      "c:\\Users\\rosa-\\anaconda3\\envs\\xaifo\\lib\\site-packages\\deepsnap\\graph.py:2126: UserWarning: __floordiv__ is deprecated, and its behavior will change in a future version of pytorch. It currently rounds toward 0 (like the 'trunc' function NOT 'floor'). This results in incorrect rounding for negative values. To keep the current behavior, use torch.div(a, b, rounding_mode='trunc'), or for actual floor division, use torch.div(a, b, rounding_mode='floor').\n",
      "  row = perm // num_nodes\n"
     ]
    },
    {
     "name": "stdout",
     "output_type": "stream",
     "text": [
      "Epoch: 060, Train: 0.9736, Val: 0.9613, Test: 0.9632, Loss: 0.78511\n"
     ]
    },
    {
     "name": "stderr",
     "output_type": "stream",
     "text": [
      "c:\\Users\\rosa-\\anaconda3\\envs\\xaifo\\lib\\site-packages\\deepsnap\\graph.py:2126: UserWarning: __floordiv__ is deprecated, and its behavior will change in a future version of pytorch. It currently rounds toward 0 (like the 'trunc' function NOT 'floor'). This results in incorrect rounding for negative values. To keep the current behavior, use torch.div(a, b, rounding_mode='trunc'), or for actual floor division, use torch.div(a, b, rounding_mode='floor').\n",
      "  row = perm // num_nodes\n"
     ]
    },
    {
     "name": "stdout",
     "output_type": "stream",
     "text": [
      "Epoch: 061, Train: 0.9739, Val: 0.9615, Test: 0.9634, Loss: 0.77120\n"
     ]
    },
    {
     "name": "stderr",
     "output_type": "stream",
     "text": [
      "c:\\Users\\rosa-\\anaconda3\\envs\\xaifo\\lib\\site-packages\\deepsnap\\graph.py:2126: UserWarning: __floordiv__ is deprecated, and its behavior will change in a future version of pytorch. It currently rounds toward 0 (like the 'trunc' function NOT 'floor'). This results in incorrect rounding for negative values. To keep the current behavior, use torch.div(a, b, rounding_mode='trunc'), or for actual floor division, use torch.div(a, b, rounding_mode='floor').\n",
      "  row = perm // num_nodes\n"
     ]
    },
    {
     "name": "stdout",
     "output_type": "stream",
     "text": [
      "Epoch: 062, Train: 0.9737, Val: 0.9615, Test: 0.9636, Loss: 0.76328\n"
     ]
    },
    {
     "name": "stderr",
     "output_type": "stream",
     "text": [
      "c:\\Users\\rosa-\\anaconda3\\envs\\xaifo\\lib\\site-packages\\deepsnap\\graph.py:2126: UserWarning: __floordiv__ is deprecated, and its behavior will change in a future version of pytorch. It currently rounds toward 0 (like the 'trunc' function NOT 'floor'). This results in incorrect rounding for negative values. To keep the current behavior, use torch.div(a, b, rounding_mode='trunc'), or for actual floor division, use torch.div(a, b, rounding_mode='floor').\n",
      "  row = perm // num_nodes\n"
     ]
    },
    {
     "name": "stdout",
     "output_type": "stream",
     "text": [
      "Epoch: 063, Train: 0.9737, Val: 0.9617, Test: 0.9638, Loss: 0.76578\n"
     ]
    },
    {
     "name": "stderr",
     "output_type": "stream",
     "text": [
      "c:\\Users\\rosa-\\anaconda3\\envs\\xaifo\\lib\\site-packages\\deepsnap\\graph.py:2126: UserWarning: __floordiv__ is deprecated, and its behavior will change in a future version of pytorch. It currently rounds toward 0 (like the 'trunc' function NOT 'floor'). This results in incorrect rounding for negative values. To keep the current behavior, use torch.div(a, b, rounding_mode='trunc'), or for actual floor division, use torch.div(a, b, rounding_mode='floor').\n",
      "  row = perm // num_nodes\n"
     ]
    },
    {
     "name": "stdout",
     "output_type": "stream",
     "text": [
      "Epoch: 064, Train: 0.9746, Val: 0.9617, Test: 0.9640, Loss: 0.76527\n"
     ]
    },
    {
     "name": "stderr",
     "output_type": "stream",
     "text": [
      "c:\\Users\\rosa-\\anaconda3\\envs\\xaifo\\lib\\site-packages\\deepsnap\\graph.py:2126: UserWarning: __floordiv__ is deprecated, and its behavior will change in a future version of pytorch. It currently rounds toward 0 (like the 'trunc' function NOT 'floor'). This results in incorrect rounding for negative values. To keep the current behavior, use torch.div(a, b, rounding_mode='trunc'), or for actual floor division, use torch.div(a, b, rounding_mode='floor').\n",
      "  row = perm // num_nodes\n"
     ]
    },
    {
     "name": "stdout",
     "output_type": "stream",
     "text": [
      "Epoch: 065, Train: 0.9741, Val: 0.9618, Test: 0.9642, Loss: 0.74606\n"
     ]
    },
    {
     "name": "stderr",
     "output_type": "stream",
     "text": [
      "c:\\Users\\rosa-\\anaconda3\\envs\\xaifo\\lib\\site-packages\\deepsnap\\graph.py:2126: UserWarning: __floordiv__ is deprecated, and its behavior will change in a future version of pytorch. It currently rounds toward 0 (like the 'trunc' function NOT 'floor'). This results in incorrect rounding for negative values. To keep the current behavior, use torch.div(a, b, rounding_mode='trunc'), or for actual floor division, use torch.div(a, b, rounding_mode='floor').\n",
      "  row = perm // num_nodes\n"
     ]
    },
    {
     "name": "stdout",
     "output_type": "stream",
     "text": [
      "Epoch: 066, Train: 0.9745, Val: 0.9620, Test: 0.9645, Loss: 0.72768\n"
     ]
    },
    {
     "name": "stderr",
     "output_type": "stream",
     "text": [
      "c:\\Users\\rosa-\\anaconda3\\envs\\xaifo\\lib\\site-packages\\deepsnap\\graph.py:2126: UserWarning: __floordiv__ is deprecated, and its behavior will change in a future version of pytorch. It currently rounds toward 0 (like the 'trunc' function NOT 'floor'). This results in incorrect rounding for negative values. To keep the current behavior, use torch.div(a, b, rounding_mode='trunc'), or for actual floor division, use torch.div(a, b, rounding_mode='floor').\n",
      "  row = perm // num_nodes\n"
     ]
    },
    {
     "name": "stdout",
     "output_type": "stream",
     "text": [
      "Epoch: 067, Train: 0.9752, Val: 0.9621, Test: 0.9647, Loss: 0.73259\n"
     ]
    },
    {
     "name": "stderr",
     "output_type": "stream",
     "text": [
      "c:\\Users\\rosa-\\anaconda3\\envs\\xaifo\\lib\\site-packages\\deepsnap\\graph.py:2126: UserWarning: __floordiv__ is deprecated, and its behavior will change in a future version of pytorch. It currently rounds toward 0 (like the 'trunc' function NOT 'floor'). This results in incorrect rounding for negative values. To keep the current behavior, use torch.div(a, b, rounding_mode='trunc'), or for actual floor division, use torch.div(a, b, rounding_mode='floor').\n",
      "  row = perm // num_nodes\n"
     ]
    },
    {
     "name": "stdout",
     "output_type": "stream",
     "text": [
      "Epoch: 068, Train: 0.9746, Val: 0.9622, Test: 0.9649, Loss: 0.72219\n"
     ]
    },
    {
     "name": "stderr",
     "output_type": "stream",
     "text": [
      "c:\\Users\\rosa-\\anaconda3\\envs\\xaifo\\lib\\site-packages\\deepsnap\\graph.py:2126: UserWarning: __floordiv__ is deprecated, and its behavior will change in a future version of pytorch. It currently rounds toward 0 (like the 'trunc' function NOT 'floor'). This results in incorrect rounding for negative values. To keep the current behavior, use torch.div(a, b, rounding_mode='trunc'), or for actual floor division, use torch.div(a, b, rounding_mode='floor').\n",
      "  row = perm // num_nodes\n"
     ]
    },
    {
     "name": "stdout",
     "output_type": "stream",
     "text": [
      "Epoch: 069, Train: 0.9747, Val: 0.9623, Test: 0.9651, Loss: 0.71066\n"
     ]
    },
    {
     "name": "stderr",
     "output_type": "stream",
     "text": [
      "c:\\Users\\rosa-\\anaconda3\\envs\\xaifo\\lib\\site-packages\\deepsnap\\graph.py:2126: UserWarning: __floordiv__ is deprecated, and its behavior will change in a future version of pytorch. It currently rounds toward 0 (like the 'trunc' function NOT 'floor'). This results in incorrect rounding for negative values. To keep the current behavior, use torch.div(a, b, rounding_mode='trunc'), or for actual floor division, use torch.div(a, b, rounding_mode='floor').\n",
      "  row = perm // num_nodes\n"
     ]
    },
    {
     "name": "stdout",
     "output_type": "stream",
     "text": [
      "Epoch: 070, Train: 0.9746, Val: 0.9624, Test: 0.9652, Loss: 0.71432\n"
     ]
    },
    {
     "name": "stderr",
     "output_type": "stream",
     "text": [
      "c:\\Users\\rosa-\\anaconda3\\envs\\xaifo\\lib\\site-packages\\deepsnap\\graph.py:2126: UserWarning: __floordiv__ is deprecated, and its behavior will change in a future version of pytorch. It currently rounds toward 0 (like the 'trunc' function NOT 'floor'). This results in incorrect rounding for negative values. To keep the current behavior, use torch.div(a, b, rounding_mode='trunc'), or for actual floor division, use torch.div(a, b, rounding_mode='floor').\n",
      "  row = perm // num_nodes\n"
     ]
    },
    {
     "name": "stdout",
     "output_type": "stream",
     "text": [
      "Epoch: 071, Train: 0.9745, Val: 0.9624, Test: 0.9654, Loss: 0.69990\n"
     ]
    },
    {
     "name": "stderr",
     "output_type": "stream",
     "text": [
      "c:\\Users\\rosa-\\anaconda3\\envs\\xaifo\\lib\\site-packages\\deepsnap\\graph.py:2126: UserWarning: __floordiv__ is deprecated, and its behavior will change in a future version of pytorch. It currently rounds toward 0 (like the 'trunc' function NOT 'floor'). This results in incorrect rounding for negative values. To keep the current behavior, use torch.div(a, b, rounding_mode='trunc'), or for actual floor division, use torch.div(a, b, rounding_mode='floor').\n",
      "  row = perm // num_nodes\n"
     ]
    },
    {
     "name": "stdout",
     "output_type": "stream",
     "text": [
      "Epoch: 072, Train: 0.9740, Val: 0.9624, Test: 0.9654, Loss: 0.70324\n"
     ]
    },
    {
     "name": "stderr",
     "output_type": "stream",
     "text": [
      "c:\\Users\\rosa-\\anaconda3\\envs\\xaifo\\lib\\site-packages\\deepsnap\\graph.py:2126: UserWarning: __floordiv__ is deprecated, and its behavior will change in a future version of pytorch. It currently rounds toward 0 (like the 'trunc' function NOT 'floor'). This results in incorrect rounding for negative values. To keep the current behavior, use torch.div(a, b, rounding_mode='trunc'), or for actual floor division, use torch.div(a, b, rounding_mode='floor').\n",
      "  row = perm // num_nodes\n"
     ]
    },
    {
     "name": "stdout",
     "output_type": "stream",
     "text": [
      "Epoch: 073, Train: 0.9755, Val: 0.9625, Test: 0.9655, Loss: 0.69577\n"
     ]
    },
    {
     "name": "stderr",
     "output_type": "stream",
     "text": [
      "c:\\Users\\rosa-\\anaconda3\\envs\\xaifo\\lib\\site-packages\\deepsnap\\graph.py:2126: UserWarning: __floordiv__ is deprecated, and its behavior will change in a future version of pytorch. It currently rounds toward 0 (like the 'trunc' function NOT 'floor'). This results in incorrect rounding for negative values. To keep the current behavior, use torch.div(a, b, rounding_mode='trunc'), or for actual floor division, use torch.div(a, b, rounding_mode='floor').\n",
      "  row = perm // num_nodes\n"
     ]
    },
    {
     "name": "stdout",
     "output_type": "stream",
     "text": [
      "Epoch: 074, Train: 0.9750, Val: 0.9624, Test: 0.9656, Loss: 0.68395\n"
     ]
    },
    {
     "name": "stderr",
     "output_type": "stream",
     "text": [
      "c:\\Users\\rosa-\\anaconda3\\envs\\xaifo\\lib\\site-packages\\deepsnap\\graph.py:2126: UserWarning: __floordiv__ is deprecated, and its behavior will change in a future version of pytorch. It currently rounds toward 0 (like the 'trunc' function NOT 'floor'). This results in incorrect rounding for negative values. To keep the current behavior, use torch.div(a, b, rounding_mode='trunc'), or for actual floor division, use torch.div(a, b, rounding_mode='floor').\n",
      "  row = perm // num_nodes\n"
     ]
    },
    {
     "name": "stdout",
     "output_type": "stream",
     "text": [
      "Epoch: 075, Train: 0.9745, Val: 0.9625, Test: 0.9657, Loss: 0.69045\n"
     ]
    },
    {
     "name": "stderr",
     "output_type": "stream",
     "text": [
      "c:\\Users\\rosa-\\anaconda3\\envs\\xaifo\\lib\\site-packages\\deepsnap\\graph.py:2126: UserWarning: __floordiv__ is deprecated, and its behavior will change in a future version of pytorch. It currently rounds toward 0 (like the 'trunc' function NOT 'floor'). This results in incorrect rounding for negative values. To keep the current behavior, use torch.div(a, b, rounding_mode='trunc'), or for actual floor division, use torch.div(a, b, rounding_mode='floor').\n",
      "  row = perm // num_nodes\n"
     ]
    },
    {
     "name": "stdout",
     "output_type": "stream",
     "text": [
      "Epoch: 076, Train: 0.9745, Val: 0.9625, Test: 0.9658, Loss: 0.67788\n"
     ]
    },
    {
     "name": "stderr",
     "output_type": "stream",
     "text": [
      "c:\\Users\\rosa-\\anaconda3\\envs\\xaifo\\lib\\site-packages\\deepsnap\\graph.py:2126: UserWarning: __floordiv__ is deprecated, and its behavior will change in a future version of pytorch. It currently rounds toward 0 (like the 'trunc' function NOT 'floor'). This results in incorrect rounding for negative values. To keep the current behavior, use torch.div(a, b, rounding_mode='trunc'), or for actual floor division, use torch.div(a, b, rounding_mode='floor').\n",
      "  row = perm // num_nodes\n"
     ]
    },
    {
     "name": "stdout",
     "output_type": "stream",
     "text": [
      "Epoch: 077, Train: 0.9747, Val: 0.9625, Test: 0.9658, Loss: 0.66482\n"
     ]
    },
    {
     "name": "stderr",
     "output_type": "stream",
     "text": [
      "c:\\Users\\rosa-\\anaconda3\\envs\\xaifo\\lib\\site-packages\\deepsnap\\graph.py:2126: UserWarning: __floordiv__ is deprecated, and its behavior will change in a future version of pytorch. It currently rounds toward 0 (like the 'trunc' function NOT 'floor'). This results in incorrect rounding for negative values. To keep the current behavior, use torch.div(a, b, rounding_mode='trunc'), or for actual floor division, use torch.div(a, b, rounding_mode='floor').\n",
      "  row = perm // num_nodes\n"
     ]
    },
    {
     "name": "stdout",
     "output_type": "stream",
     "text": [
      "Epoch: 078, Train: 0.9755, Val: 0.9625, Test: 0.9659, Loss: 0.65831\n"
     ]
    },
    {
     "name": "stderr",
     "output_type": "stream",
     "text": [
      "c:\\Users\\rosa-\\anaconda3\\envs\\xaifo\\lib\\site-packages\\deepsnap\\graph.py:2126: UserWarning: __floordiv__ is deprecated, and its behavior will change in a future version of pytorch. It currently rounds toward 0 (like the 'trunc' function NOT 'floor'). This results in incorrect rounding for negative values. To keep the current behavior, use torch.div(a, b, rounding_mode='trunc'), or for actual floor division, use torch.div(a, b, rounding_mode='floor').\n",
      "  row = perm // num_nodes\n"
     ]
    },
    {
     "name": "stdout",
     "output_type": "stream",
     "text": [
      "Epoch: 079, Train: 0.9752, Val: 0.9625, Test: 0.9659, Loss: 0.66666\n"
     ]
    },
    {
     "name": "stderr",
     "output_type": "stream",
     "text": [
      "c:\\Users\\rosa-\\anaconda3\\envs\\xaifo\\lib\\site-packages\\deepsnap\\graph.py:2126: UserWarning: __floordiv__ is deprecated, and its behavior will change in a future version of pytorch. It currently rounds toward 0 (like the 'trunc' function NOT 'floor'). This results in incorrect rounding for negative values. To keep the current behavior, use torch.div(a, b, rounding_mode='trunc'), or for actual floor division, use torch.div(a, b, rounding_mode='floor').\n",
      "  row = perm // num_nodes\n"
     ]
    },
    {
     "name": "stdout",
     "output_type": "stream",
     "text": [
      "Epoch: 080, Train: 0.9753, Val: 0.9625, Test: 0.9660, Loss: 0.65752\n"
     ]
    },
    {
     "name": "stderr",
     "output_type": "stream",
     "text": [
      "c:\\Users\\rosa-\\anaconda3\\envs\\xaifo\\lib\\site-packages\\deepsnap\\graph.py:2126: UserWarning: __floordiv__ is deprecated, and its behavior will change in a future version of pytorch. It currently rounds toward 0 (like the 'trunc' function NOT 'floor'). This results in incorrect rounding for negative values. To keep the current behavior, use torch.div(a, b, rounding_mode='trunc'), or for actual floor division, use torch.div(a, b, rounding_mode='floor').\n",
      "  row = perm // num_nodes\n"
     ]
    },
    {
     "name": "stdout",
     "output_type": "stream",
     "text": [
      "Epoch: 081, Train: 0.9754, Val: 0.9626, Test: 0.9662, Loss: 0.65108\n"
     ]
    },
    {
     "name": "stderr",
     "output_type": "stream",
     "text": [
      "c:\\Users\\rosa-\\anaconda3\\envs\\xaifo\\lib\\site-packages\\deepsnap\\graph.py:2126: UserWarning: __floordiv__ is deprecated, and its behavior will change in a future version of pytorch. It currently rounds toward 0 (like the 'trunc' function NOT 'floor'). This results in incorrect rounding for negative values. To keep the current behavior, use torch.div(a, b, rounding_mode='trunc'), or for actual floor division, use torch.div(a, b, rounding_mode='floor').\n",
      "  row = perm // num_nodes\n"
     ]
    },
    {
     "name": "stdout",
     "output_type": "stream",
     "text": [
      "Epoch: 082, Train: 0.9754, Val: 0.9627, Test: 0.9664, Loss: 0.64418\n"
     ]
    },
    {
     "name": "stderr",
     "output_type": "stream",
     "text": [
      "c:\\Users\\rosa-\\anaconda3\\envs\\xaifo\\lib\\site-packages\\deepsnap\\graph.py:2126: UserWarning: __floordiv__ is deprecated, and its behavior will change in a future version of pytorch. It currently rounds toward 0 (like the 'trunc' function NOT 'floor'). This results in incorrect rounding for negative values. To keep the current behavior, use torch.div(a, b, rounding_mode='trunc'), or for actual floor division, use torch.div(a, b, rounding_mode='floor').\n",
      "  row = perm // num_nodes\n"
     ]
    },
    {
     "name": "stdout",
     "output_type": "stream",
     "text": [
      "Epoch: 083, Train: 0.9752, Val: 0.9628, Test: 0.9665, Loss: 0.64122\n"
     ]
    },
    {
     "name": "stderr",
     "output_type": "stream",
     "text": [
      "c:\\Users\\rosa-\\anaconda3\\envs\\xaifo\\lib\\site-packages\\deepsnap\\graph.py:2126: UserWarning: __floordiv__ is deprecated, and its behavior will change in a future version of pytorch. It currently rounds toward 0 (like the 'trunc' function NOT 'floor'). This results in incorrect rounding for negative values. To keep the current behavior, use torch.div(a, b, rounding_mode='trunc'), or for actual floor division, use torch.div(a, b, rounding_mode='floor').\n",
      "  row = perm // num_nodes\n"
     ]
    },
    {
     "name": "stdout",
     "output_type": "stream",
     "text": [
      "Epoch: 084, Train: 0.9753, Val: 0.9629, Test: 0.9667, Loss: 0.63689\n"
     ]
    },
    {
     "name": "stderr",
     "output_type": "stream",
     "text": [
      "c:\\Users\\rosa-\\anaconda3\\envs\\xaifo\\lib\\site-packages\\deepsnap\\graph.py:2126: UserWarning: __floordiv__ is deprecated, and its behavior will change in a future version of pytorch. It currently rounds toward 0 (like the 'trunc' function NOT 'floor'). This results in incorrect rounding for negative values. To keep the current behavior, use torch.div(a, b, rounding_mode='trunc'), or for actual floor division, use torch.div(a, b, rounding_mode='floor').\n",
      "  row = perm // num_nodes\n"
     ]
    },
    {
     "name": "stdout",
     "output_type": "stream",
     "text": [
      "Epoch: 085, Train: 0.9753, Val: 0.9631, Test: 0.9670, Loss: 0.63504\n"
     ]
    },
    {
     "name": "stderr",
     "output_type": "stream",
     "text": [
      "c:\\Users\\rosa-\\anaconda3\\envs\\xaifo\\lib\\site-packages\\deepsnap\\graph.py:2126: UserWarning: __floordiv__ is deprecated, and its behavior will change in a future version of pytorch. It currently rounds toward 0 (like the 'trunc' function NOT 'floor'). This results in incorrect rounding for negative values. To keep the current behavior, use torch.div(a, b, rounding_mode='trunc'), or for actual floor division, use torch.div(a, b, rounding_mode='floor').\n",
      "  row = perm // num_nodes\n"
     ]
    },
    {
     "name": "stdout",
     "output_type": "stream",
     "text": [
      "Epoch: 086, Train: 0.9759, Val: 0.9632, Test: 0.9671, Loss: 0.64099\n"
     ]
    },
    {
     "name": "stderr",
     "output_type": "stream",
     "text": [
      "c:\\Users\\rosa-\\anaconda3\\envs\\xaifo\\lib\\site-packages\\deepsnap\\graph.py:2126: UserWarning: __floordiv__ is deprecated, and its behavior will change in a future version of pytorch. It currently rounds toward 0 (like the 'trunc' function NOT 'floor'). This results in incorrect rounding for negative values. To keep the current behavior, use torch.div(a, b, rounding_mode='trunc'), or for actual floor division, use torch.div(a, b, rounding_mode='floor').\n",
      "  row = perm // num_nodes\n"
     ]
    },
    {
     "name": "stdout",
     "output_type": "stream",
     "text": [
      "Epoch: 087, Train: 0.9760, Val: 0.9633, Test: 0.9673, Loss: 0.63646\n"
     ]
    },
    {
     "name": "stderr",
     "output_type": "stream",
     "text": [
      "c:\\Users\\rosa-\\anaconda3\\envs\\xaifo\\lib\\site-packages\\deepsnap\\graph.py:2126: UserWarning: __floordiv__ is deprecated, and its behavior will change in a future version of pytorch. It currently rounds toward 0 (like the 'trunc' function NOT 'floor'). This results in incorrect rounding for negative values. To keep the current behavior, use torch.div(a, b, rounding_mode='trunc'), or for actual floor division, use torch.div(a, b, rounding_mode='floor').\n",
      "  row = perm // num_nodes\n"
     ]
    },
    {
     "name": "stdout",
     "output_type": "stream",
     "text": [
      "Epoch: 088, Train: 0.9760, Val: 0.9635, Test: 0.9675, Loss: 0.62261\n"
     ]
    },
    {
     "name": "stderr",
     "output_type": "stream",
     "text": [
      "c:\\Users\\rosa-\\anaconda3\\envs\\xaifo\\lib\\site-packages\\deepsnap\\graph.py:2126: UserWarning: __floordiv__ is deprecated, and its behavior will change in a future version of pytorch. It currently rounds toward 0 (like the 'trunc' function NOT 'floor'). This results in incorrect rounding for negative values. To keep the current behavior, use torch.div(a, b, rounding_mode='trunc'), or for actual floor division, use torch.div(a, b, rounding_mode='floor').\n",
      "  row = perm // num_nodes\n"
     ]
    },
    {
     "name": "stdout",
     "output_type": "stream",
     "text": [
      "Epoch: 089, Train: 0.9758, Val: 0.9635, Test: 0.9677, Loss: 0.62575\n"
     ]
    },
    {
     "name": "stderr",
     "output_type": "stream",
     "text": [
      "c:\\Users\\rosa-\\anaconda3\\envs\\xaifo\\lib\\site-packages\\deepsnap\\graph.py:2126: UserWarning: __floordiv__ is deprecated, and its behavior will change in a future version of pytorch. It currently rounds toward 0 (like the 'trunc' function NOT 'floor'). This results in incorrect rounding for negative values. To keep the current behavior, use torch.div(a, b, rounding_mode='trunc'), or for actual floor division, use torch.div(a, b, rounding_mode='floor').\n",
      "  row = perm // num_nodes\n"
     ]
    },
    {
     "name": "stdout",
     "output_type": "stream",
     "text": [
      "Epoch: 090, Train: 0.9761, Val: 0.9637, Test: 0.9679, Loss: 0.61935\n"
     ]
    },
    {
     "name": "stderr",
     "output_type": "stream",
     "text": [
      "c:\\Users\\rosa-\\anaconda3\\envs\\xaifo\\lib\\site-packages\\deepsnap\\graph.py:2126: UserWarning: __floordiv__ is deprecated, and its behavior will change in a future version of pytorch. It currently rounds toward 0 (like the 'trunc' function NOT 'floor'). This results in incorrect rounding for negative values. To keep the current behavior, use torch.div(a, b, rounding_mode='trunc'), or for actual floor division, use torch.div(a, b, rounding_mode='floor').\n",
      "  row = perm // num_nodes\n"
     ]
    },
    {
     "name": "stdout",
     "output_type": "stream",
     "text": [
      "Epoch: 091, Train: 0.9758, Val: 0.9638, Test: 0.9681, Loss: 0.61609\n"
     ]
    },
    {
     "name": "stderr",
     "output_type": "stream",
     "text": [
      "c:\\Users\\rosa-\\anaconda3\\envs\\xaifo\\lib\\site-packages\\deepsnap\\graph.py:2126: UserWarning: __floordiv__ is deprecated, and its behavior will change in a future version of pytorch. It currently rounds toward 0 (like the 'trunc' function NOT 'floor'). This results in incorrect rounding for negative values. To keep the current behavior, use torch.div(a, b, rounding_mode='trunc'), or for actual floor division, use torch.div(a, b, rounding_mode='floor').\n",
      "  row = perm // num_nodes\n"
     ]
    },
    {
     "name": "stdout",
     "output_type": "stream",
     "text": [
      "Epoch: 092, Train: 0.9767, Val: 0.9639, Test: 0.9683, Loss: 0.61008\n"
     ]
    },
    {
     "name": "stderr",
     "output_type": "stream",
     "text": [
      "c:\\Users\\rosa-\\anaconda3\\envs\\xaifo\\lib\\site-packages\\deepsnap\\graph.py:2126: UserWarning: __floordiv__ is deprecated, and its behavior will change in a future version of pytorch. It currently rounds toward 0 (like the 'trunc' function NOT 'floor'). This results in incorrect rounding for negative values. To keep the current behavior, use torch.div(a, b, rounding_mode='trunc'), or for actual floor division, use torch.div(a, b, rounding_mode='floor').\n",
      "  row = perm // num_nodes\n"
     ]
    },
    {
     "name": "stdout",
     "output_type": "stream",
     "text": [
      "Epoch: 093, Train: 0.9768, Val: 0.9641, Test: 0.9685, Loss: 0.60649\n"
     ]
    },
    {
     "name": "stderr",
     "output_type": "stream",
     "text": [
      "c:\\Users\\rosa-\\anaconda3\\envs\\xaifo\\lib\\site-packages\\deepsnap\\graph.py:2126: UserWarning: __floordiv__ is deprecated, and its behavior will change in a future version of pytorch. It currently rounds toward 0 (like the 'trunc' function NOT 'floor'). This results in incorrect rounding for negative values. To keep the current behavior, use torch.div(a, b, rounding_mode='trunc'), or for actual floor division, use torch.div(a, b, rounding_mode='floor').\n",
      "  row = perm // num_nodes\n"
     ]
    },
    {
     "name": "stdout",
     "output_type": "stream",
     "text": [
      "Epoch: 094, Train: 0.9768, Val: 0.9642, Test: 0.9686, Loss: 0.60066\n"
     ]
    },
    {
     "name": "stderr",
     "output_type": "stream",
     "text": [
      "c:\\Users\\rosa-\\anaconda3\\envs\\xaifo\\lib\\site-packages\\deepsnap\\graph.py:2126: UserWarning: __floordiv__ is deprecated, and its behavior will change in a future version of pytorch. It currently rounds toward 0 (like the 'trunc' function NOT 'floor'). This results in incorrect rounding for negative values. To keep the current behavior, use torch.div(a, b, rounding_mode='trunc'), or for actual floor division, use torch.div(a, b, rounding_mode='floor').\n",
      "  row = perm // num_nodes\n"
     ]
    },
    {
     "name": "stdout",
     "output_type": "stream",
     "text": [
      "Epoch: 095, Train: 0.9768, Val: 0.9643, Test: 0.9688, Loss: 0.59873\n"
     ]
    },
    {
     "name": "stderr",
     "output_type": "stream",
     "text": [
      "c:\\Users\\rosa-\\anaconda3\\envs\\xaifo\\lib\\site-packages\\deepsnap\\graph.py:2126: UserWarning: __floordiv__ is deprecated, and its behavior will change in a future version of pytorch. It currently rounds toward 0 (like the 'trunc' function NOT 'floor'). This results in incorrect rounding for negative values. To keep the current behavior, use torch.div(a, b, rounding_mode='trunc'), or for actual floor division, use torch.div(a, b, rounding_mode='floor').\n",
      "  row = perm // num_nodes\n"
     ]
    },
    {
     "name": "stdout",
     "output_type": "stream",
     "text": [
      "Epoch: 096, Train: 0.9769, Val: 0.9645, Test: 0.9691, Loss: 0.60520\n"
     ]
    },
    {
     "name": "stderr",
     "output_type": "stream",
     "text": [
      "c:\\Users\\rosa-\\anaconda3\\envs\\xaifo\\lib\\site-packages\\deepsnap\\graph.py:2126: UserWarning: __floordiv__ is deprecated, and its behavior will change in a future version of pytorch. It currently rounds toward 0 (like the 'trunc' function NOT 'floor'). This results in incorrect rounding for negative values. To keep the current behavior, use torch.div(a, b, rounding_mode='trunc'), or for actual floor division, use torch.div(a, b, rounding_mode='floor').\n",
      "  row = perm // num_nodes\n"
     ]
    },
    {
     "name": "stdout",
     "output_type": "stream",
     "text": [
      "Epoch: 097, Train: 0.9763, Val: 0.9647, Test: 0.9694, Loss: 0.59173\n"
     ]
    },
    {
     "name": "stderr",
     "output_type": "stream",
     "text": [
      "c:\\Users\\rosa-\\anaconda3\\envs\\xaifo\\lib\\site-packages\\deepsnap\\graph.py:2126: UserWarning: __floordiv__ is deprecated, and its behavior will change in a future version of pytorch. It currently rounds toward 0 (like the 'trunc' function NOT 'floor'). This results in incorrect rounding for negative values. To keep the current behavior, use torch.div(a, b, rounding_mode='trunc'), or for actual floor division, use torch.div(a, b, rounding_mode='floor').\n",
      "  row = perm // num_nodes\n"
     ]
    },
    {
     "name": "stdout",
     "output_type": "stream",
     "text": [
      "Epoch: 098, Train: 0.9774, Val: 0.9649, Test: 0.9696, Loss: 0.59592\n"
     ]
    },
    {
     "name": "stderr",
     "output_type": "stream",
     "text": [
      "c:\\Users\\rosa-\\anaconda3\\envs\\xaifo\\lib\\site-packages\\deepsnap\\graph.py:2126: UserWarning: __floordiv__ is deprecated, and its behavior will change in a future version of pytorch. It currently rounds toward 0 (like the 'trunc' function NOT 'floor'). This results in incorrect rounding for negative values. To keep the current behavior, use torch.div(a, b, rounding_mode='trunc'), or for actual floor division, use torch.div(a, b, rounding_mode='floor').\n",
      "  row = perm // num_nodes\n"
     ]
    },
    {
     "name": "stdout",
     "output_type": "stream",
     "text": [
      "Epoch: 099, Train: 0.9775, Val: 0.9651, Test: 0.9699, Loss: 0.57711\n"
     ]
    },
    {
     "name": "stderr",
     "output_type": "stream",
     "text": [
      "c:\\Users\\rosa-\\anaconda3\\envs\\xaifo\\lib\\site-packages\\deepsnap\\graph.py:2126: UserWarning: __floordiv__ is deprecated, and its behavior will change in a future version of pytorch. It currently rounds toward 0 (like the 'trunc' function NOT 'floor'). This results in incorrect rounding for negative values. To keep the current behavior, use torch.div(a, b, rounding_mode='trunc'), or for actual floor division, use torch.div(a, b, rounding_mode='floor').\n",
      "  row = perm // num_nodes\n"
     ]
    },
    {
     "name": "stdout",
     "output_type": "stream",
     "text": [
      "Train: 0.9776, Val: 0.9651, Test: 0.9699\n"
     ]
    }
   ],
   "source": [
    "best_model, best_x, performance = train(model, dataloaders, optimizer, args)\n",
    "\n",
    "best_train_roc = test(best_model, dataloaders['train'], args)\n",
    "best_val_roc = test(best_model, dataloaders['val'], args)\n",
    "best_test_roc = test(best_model, dataloaders['test'], args)\n",
    "\n",
    "print('Train: {:.4f}, Val: {:.4f}, Test: {:.4f}'.format(best_train_roc, best_val_roc, best_test_roc))"
   ]
  },
  {
   "attachments": {},
   "cell_type": "markdown",
   "metadata": {},
   "source": [
    "Save the model and parameters"
   ]
  },
  {
   "cell_type": "code",
   "execution_count": 20,
   "metadata": {
    "execution": {
     "iopub.execute_input": "2023-11-10T19:12:12.360248Z",
     "iopub.status.busy": "2023-11-10T19:12:12.359245Z",
     "iopub.status.idle": "2023-11-10T19:12:12.371760Z",
     "shell.execute_reply": "2023-11-10T19:12:12.370759Z"
    }
   },
   "outputs": [],
   "source": [
    "torch.save(best_model.state_dict(), f'{run_dir}/best_model_{dataset_nr}_{embedding_method}.pth')\n",
    "with open(f'{run_dir}/best_model_{dataset_nr}_{embedding_method}_args.pkl', 'wb') as f:\n",
    "    pickle.dump(args, f)"
   ]
  },
  {
   "attachments": {},
   "cell_type": "markdown",
   "metadata": {},
   "source": [
    "### Visualize Trained GNN Model Accuracy"
   ]
  },
  {
   "attachments": {},
   "cell_type": "markdown",
   "metadata": {},
   "source": [
    "Plot AUC and loss throughout epochs"
   ]
  },
  {
   "cell_type": "code",
   "execution_count": 21,
   "metadata": {
    "execution": {
     "iopub.execute_input": "2023-11-10T19:12:12.375759Z",
     "iopub.status.busy": "2023-11-10T19:12:12.375759Z",
     "iopub.status.idle": "2023-11-10T19:12:12.605095Z",
     "shell.execute_reply": "2023-11-10T19:12:12.605095Z"
    }
   },
   "outputs": [
    {
     "data": {
      "image/png": "[encoded data removed]",
      "text/plain": [
       "<Figure size 1000x700 with 1 Axes>"
      ]
     },
     "metadata": {},
     "output_type": "display_data"
    }
   ],
   "source": [
    "plt.figure(figsize= (10,7))\n",
    "plt.plot(np.log10(performance[0]), label = 'Loss')\n",
    "plt.plot(performance[1], label = 'AUC Train')\n",
    "plt.plot(performance[2], label = 'AUC Validation')\n",
    "plt.plot(performance[3], label = 'AUC Test')\n",
    "plt.legend()\n",
    "plt.ylabel('AUC/Loss')\n",
    "plt.xlabel('Epochs')\n",
    "plt.title(f'Training curve of GNN on dataset {dataset_nr} and method {embedding_method}')\n",
    "plt.show()"
   ]
  },
  {
   "cell_type": "code",
   "execution_count": 22,
   "metadata": {
    "execution": {
     "iopub.execute_input": "2023-11-10T19:12:12.608639Z",
     "iopub.status.busy": "2023-11-10T19:12:12.608639Z",
     "iopub.status.idle": "2023-11-10T19:12:12.621715Z",
     "shell.execute_reply": "2023-11-10T19:12:12.620720Z"
    }
   },
   "outputs": [],
   "source": [
    "performance_scores = {}\n",
    "sets = ['Loss', 'AUC Train', 'AUC Validation', 'AUC Test']\n",
    "for set_name, score_list in zip(sets, performance):\n",
    "    performance_scores[set_name] = score_list"
   ]
  },
  {
   "attachments": {},
   "cell_type": "markdown",
   "metadata": {},
   "source": [
    "Plot ROC curve using test set\n",
    "- High TPR and lower FPR indicates that the proportion of correctly classified samples (true positives) is greater than the proportion of incorrectly classified samples (false positives)"
   ]
  },
  {
   "cell_type": "code",
   "execution_count": 23,
   "metadata": {
    "execution": {
     "iopub.execute_input": "2023-11-10T19:12:12.625744Z",
     "iopub.status.busy": "2023-11-10T19:12:12.624732Z",
     "iopub.status.idle": "2023-11-10T19:12:12.902829Z",
     "shell.execute_reply": "2023-11-10T19:12:12.901826Z"
    }
   },
   "outputs": [
    {
     "name": "stdout",
     "output_type": "stream",
     "text": [
      "ROC AUC score: 0.9698685459861116\n"
     ]
    },
    {
     "data": {
      "image/png": "[encoded data removed]",
      "text/plain": [
       "<Figure size 700x700 with 1 Axes>"
      ]
     },
     "metadata": {},
     "output_type": "display_data"
    }
   ],
   "source": [
    "for batch in dataloaders['test']:\n",
    "    feat, edge_index, edge_label_index = batch.node_feature, batch.edge_index, batch.edge_label_index\n",
    "    batch.to(args[\"device\"])\n",
    "    pred, x = best_model(feat, edge_index, edge_label_index, training = False)\n",
    "    pred = torch.sigmoid(pred)\n",
    "    score = roc_auc_score(batch.edge_label.flatten().cpu().numpy(), pred.flatten().data.cpu().numpy())\n",
    "    \n",
    "    performance_scores['ROC AUC Score'] = score\n",
    "    print(f'ROC AUC score: {score}')\n",
    "    \n",
    "fpr, tpr, thresholds = roc_curve(batch.edge_label.flatten().cpu().numpy(), pred.flatten().data.cpu().numpy())\n",
    "performance_scores['ROC FPR'] = fpr\n",
    "performance_scores['ROC TPR'] = tpr\n",
    "performance_scores['ROC Thresholds'] = thresholds\n",
    "\n",
    "plt.figure(figsize = (7, 7))\n",
    "plt.plot(fpr, tpr, marker='.')\n",
    "plt.xlabel('False Positive Rate')   # 1 - specificity\n",
    "plt.ylabel('True Positive Rate')    # sensitivity\n",
    "plt.title(f'ROC curve on test set from dataset {dataset_nr} and method {embedding_method}')\n",
    "plt.show()"
   ]
  },
  {
   "attachments": {},
   "cell_type": "markdown",
   "metadata": {},
   "source": [
    "Calculate F1-score using test set\n",
    "\n",
    "Elements of the F1-score:\n",
    "- Precision represents the proportion of correctly classifying samples as positive (high precision: classifying a sample as positive has a high probability to be correct)\n",
    "- Recall represents the proportion of finding all positives (high recall: all positive samples have been classified as being positive)\n",
    "\n",
    "Maximizing both elements in order to yield a model that identifies all positive samples and only identifies these samples as positives.\n",
    "\n",
    "For the F1-score, the average of precision and recall is calculated, using the harmonic mean method (equal importance):\n",
    "- High F1-score indicates that precision and recall are both high\n",
    "- Medium F1-score indicates that one of the elements is high and the other low\n",
    "- Low F1-score indicates that precision and recall are both low"
   ]
  },
  {
   "cell_type": "code",
   "execution_count": 24,
   "metadata": {
    "execution": {
     "iopub.execute_input": "2023-11-10T19:12:12.905825Z",
     "iopub.status.busy": "2023-11-10T19:12:12.905825Z",
     "iopub.status.idle": "2023-11-10T19:12:13.028260Z",
     "shell.execute_reply": "2023-11-10T19:12:13.027323Z"
    }
   },
   "outputs": [
    {
     "name": "stdout",
     "output_type": "stream",
     "text": [
      "F1-Score in the test set of dataset 2 and method e2v: 0.917631284916201\n",
      "              precision    recall  f1-score   support\n",
      "\n",
      "           0       0.93      0.90      0.91     11008\n",
      "           1       0.90      0.93      0.92     11008\n",
      "\n",
      "    accuracy                           0.92     22016\n",
      "   macro avg       0.92      0.92      0.92     22016\n",
      "weighted avg       0.92      0.92      0.92     22016\n",
      "\n"
     ]
    }
   ],
   "source": [
    "def test_f1(model, dataloader, args, threshold):\n",
    "    # TODO: f1 score only for label 1?\n",
    "    model.eval()\n",
    "    score = 0\n",
    "    num_batches = 0\n",
    "    for batch in dataloader:\n",
    "        feat, edge_index, edge_label_index = batch.node_feature, batch.edge_index, batch.edge_label_index\n",
    "        batch.to(args[\"device\"])\n",
    "        pred, x = model(feat, edge_index, edge_label_index, training = False)\n",
    "        pred = torch.sigmoid(pred) > threshold\n",
    "        score += f1_score(batch.edge_label.flatten().cpu().numpy(), pred.flatten().data.cpu().numpy())\n",
    "        num_batches += 1\n",
    "    score /= num_batches \n",
    "    return batch.edge_label.flatten().cpu().numpy(), pred.flatten().data.cpu().numpy(), score\n",
    "\n",
    "true_label, pred_label, best_test_f1 = test_f1(best_model, dataloaders['test'], args, 0.8)\n",
    "performance_scores['True Labels'] = true_label\n",
    "performance_scores['Predicted Labels'] = pred_label\n",
    "performance_scores['F1 Score'] = best_test_f1\n",
    "\n",
    "print(f'F1-Score in the test set of dataset {dataset_nr} and method {embedding_method}:', best_test_f1)\n",
    "print(classification_report(true_label, pred_label))"
   ]
  },
  {
   "cell_type": "code",
   "execution_count": 25,
   "metadata": {
    "execution": {
     "iopub.execute_input": "2023-11-10T19:12:13.031258Z",
     "iopub.status.busy": "2023-11-10T19:12:13.031258Z",
     "iopub.status.idle": "2023-11-10T19:12:13.136010Z",
     "shell.execute_reply": "2023-11-10T19:12:13.136010Z"
    }
   },
   "outputs": [
    {
     "name": "stdout",
     "output_type": "stream",
     "text": [
      "[[ 9907  1101]\n",
      " [  742 10266]]\n"
     ]
    }
   ],
   "source": [
    "def test_cm(model, dataloader, args, threshold):\n",
    "    model.eval()\n",
    "    for batch in dataloader:\n",
    "        feat, edge_index, edge_label_index = batch.node_feature, batch.edge_index, batch.edge_label_index\n",
    "        batch.to(args[\"device\"])\n",
    "        pred, x = model(feat, edge_index, edge_label_index, training = False)\n",
    "        pred = torch.sigmoid(pred) > threshold\n",
    "        score = confusion_matrix(batch.edge_label.flatten().cpu().numpy(), pred.flatten().data.cpu().numpy())\n",
    "    return score\n",
    "\n",
    "table = test_cm(best_model, dataloaders['test'], args, 0.8)\n",
    "print(table)"
   ]
  },
  {
   "cell_type": "code",
   "execution_count": 26,
   "metadata": {
    "execution": {
     "iopub.execute_input": "2023-11-10T19:12:13.139525Z",
     "iopub.status.busy": "2023-11-10T19:12:13.139525Z",
     "iopub.status.idle": "2023-11-10T19:12:13.169567Z",
     "shell.execute_reply": "2023-11-10T19:12:13.167664Z"
    }
   },
   "outputs": [
    {
     "data": {
      "text/plain": [
       "{'Loss': [array(2.2237175, dtype=float32),\n",
       "  array(2.1993792, dtype=float32),\n",
       "  array(2.1028106, dtype=float32),\n",
       "  array(2.0103471, dtype=float32),\n",
       "  array(1.9644128, dtype=float32),\n",
       "  array(1.9374763, dtype=float32),\n",
       "  array(1.9020929, dtype=float32),\n",
       "  array(1.8389459, dtype=float32),\n",
       "  array(1.7914406, dtype=float32),\n",
       "  array(1.7488662, dtype=float32),\n",
       "  array(1.7258391, dtype=float32),\n",
       "  array(1.6977872, dtype=float32),\n",
       "  array(1.6273991, dtype=float32),\n",
       "  array(1.5840961, dtype=float32),\n",
       "  array(1.5722501, dtype=float32),\n",
       "  array(1.5457865, dtype=float32),\n",
       "  array(1.5070468, dtype=float32),\n",
       "  array(1.4956359, dtype=float32),\n",
       "  array(1.4450638, dtype=float32),\n",
       "  array(1.4119203, dtype=float32),\n",
       "  array(1.4170318, dtype=float32),\n",
       "  array(1.3714291, dtype=float32),\n",
       "  array(1.3412347, dtype=float32),\n",
       "  array(1.3172728, dtype=float32),\n",
       "  array(1.2988267, dtype=float32),\n",
       "  array(1.2871721, dtype=float32),\n",
       "  array(1.2443194, dtype=float32),\n",
       "  array(1.2475723, dtype=float32),\n",
       "  array(1.2145613, dtype=float32),\n",
       "  array(1.1979235, dtype=float32),\n",
       "  array(1.1795735, dtype=float32),\n",
       "  array(1.1567283, dtype=float32),\n",
       "  array(1.137216, dtype=float32),\n",
       "  array(1.1220305, dtype=float32),\n",
       "  array(1.1065853, dtype=float32),\n",
       "  array(1.0784382, dtype=float32),\n",
       "  array(1.0740635, dtype=float32),\n",
       "  array(1.047104, dtype=float32),\n",
       "  array(1.0303249, dtype=float32),\n",
       "  array(1.0159919, dtype=float32),\n",
       "  array(1.0136403, dtype=float32),\n",
       "  array(0.984306, dtype=float32),\n",
       "  array(0.97468793, dtype=float32),\n",
       "  array(0.9701789, dtype=float32),\n",
       "  array(0.9424578, dtype=float32),\n",
       "  array(0.9377642, dtype=float32),\n",
       "  array(0.92111975, dtype=float32),\n",
       "  array(0.9006423, dtype=float32),\n",
       "  array(0.88979346, dtype=float32),\n",
       "  array(0.87963885, dtype=float32),\n",
       "  array(0.8704693, dtype=float32),\n",
       "  array(0.8701242, dtype=float32),\n",
       "  array(0.8555675, dtype=float32),\n",
       "  array(0.85279864, dtype=float32),\n",
       "  array(0.8365098, dtype=float32),\n",
       "  array(0.81023014, dtype=float32),\n",
       "  array(0.82168275, dtype=float32),\n",
       "  array(0.79460037, dtype=float32),\n",
       "  array(0.80243254, dtype=float32),\n",
       "  array(0.78510684, dtype=float32),\n",
       "  array(0.7711959, dtype=float32),\n",
       "  array(0.76327896, dtype=float32),\n",
       "  array(0.76577514, dtype=float32),\n",
       "  array(0.7652745, dtype=float32),\n",
       "  array(0.7460572, dtype=float32),\n",
       "  array(0.72768277, dtype=float32),\n",
       "  array(0.7325925, dtype=float32),\n",
       "  array(0.7221865, dtype=float32),\n",
       "  array(0.7106625, dtype=float32),\n",
       "  array(0.71432185, dtype=float32),\n",
       "  array(0.69989866, dtype=float32),\n",
       "  array(0.7032445, dtype=float32),\n",
       "  array(0.6957663, dtype=float32),\n",
       "  array(0.68394774, dtype=float32),\n",
       "  array(0.6904525, dtype=float32),\n",
       "  array(0.6778764, dtype=float32),\n",
       "  array(0.66482484, dtype=float32),\n",
       "  array(0.65831, dtype=float32),\n",
       "  array(0.66666096, dtype=float32),\n",
       "  array(0.65752476, dtype=float32),\n",
       "  array(0.65107846, dtype=float32),\n",
       "  array(0.64418286, dtype=float32),\n",
       "  array(0.6412153, dtype=float32),\n",
       "  array(0.63688767, dtype=float32),\n",
       "  array(0.63504356, dtype=float32),\n",
       "  array(0.6409858, dtype=float32),\n",
       "  array(0.63646364, dtype=float32),\n",
       "  array(0.62260646, dtype=float32),\n",
       "  array(0.6257454, dtype=float32),\n",
       "  array(0.61935395, dtype=float32),\n",
       "  array(0.6160919, dtype=float32),\n",
       "  array(0.61008143, dtype=float32),\n",
       "  array(0.60648984, dtype=float32),\n",
       "  array(0.600664, dtype=float32),\n",
       "  array(0.59873116, dtype=float32),\n",
       "  array(0.6052047, dtype=float32),\n",
       "  array(0.59172636, dtype=float32),\n",
       "  array(0.5959236, dtype=float32),\n",
       "  array(0.5771143, dtype=float32)],\n",
       " 'AUC Train': [0.9670126255634657,\n",
       "  0.9640802686512394,\n",
       "  0.9601618432818326,\n",
       "  0.956913652966137,\n",
       "  0.9555465572610679,\n",
       "  0.9557532827645228,\n",
       "  0.9551305776201573,\n",
       "  0.9555999740738912,\n",
       "  0.9561946083367918,\n",
       "  0.9568438467251036,\n",
       "  0.9563522662933823,\n",
       "  0.9566845754164381,\n",
       "  0.9573458592554113,\n",
       "  0.9561261834027115,\n",
       "  0.9579972257773882,\n",
       "  0.9585199099293449,\n",
       "  0.9596327560259661,\n",
       "  0.9607407156315408,\n",
       "  0.961567748436775,\n",
       "  0.9626756672828953,\n",
       "  0.9649943285669924,\n",
       "  0.9661660860056734,\n",
       "  0.9675098621433991,\n",
       "  0.968469108815812,\n",
       "  0.969745959219263,\n",
       "  0.9704378612766159,\n",
       "  0.9714721850582418,\n",
       "  0.9724261291320139,\n",
       "  0.9724818173815212,\n",
       "  0.9728582617705016,\n",
       "  0.9738137433528071,\n",
       "  0.9737365978302686,\n",
       "  0.9738220684713689,\n",
       "  0.9742090625938169,\n",
       "  0.9742743463412101,\n",
       "  0.9747771692881382,\n",
       "  0.9740539682263285,\n",
       "  0.9745017154764357,\n",
       "  0.9745246051347238,\n",
       "  0.974559008693953,\n",
       "  0.9743971870817036,\n",
       "  0.9752807234545187,\n",
       "  0.974218805909218,\n",
       "  0.9751555398193106,\n",
       "  0.9740714629322752,\n",
       "  0.9749669287976832,\n",
       "  0.974902065027453,\n",
       "  0.9743001714541288,\n",
       "  0.9749785954175927,\n",
       "  0.9740087185246883,\n",
       "  0.9741421097725629,\n",
       "  0.9741388917104492,\n",
       "  0.973567410236492,\n",
       "  0.973862052077297,\n",
       "  0.9738289054828883,\n",
       "  0.9741944489105714,\n",
       "  0.9737183765483515,\n",
       "  0.974309031218066,\n",
       "  0.9741701201597746,\n",
       "  0.9735714717355434,\n",
       "  0.9738893146059118,\n",
       "  0.973733494307381,\n",
       "  0.9737459013047218,\n",
       "  0.9746496671364967,\n",
       "  0.9740989051378517,\n",
       "  0.9744592838525166,\n",
       "  0.9752496816473786,\n",
       "  0.9745619460833678,\n",
       "  0.9747256663638729,\n",
       "  0.9746146262593429,\n",
       "  0.9744891833630485,\n",
       "  0.9740005441903105,\n",
       "  0.9754769386941045,\n",
       "  0.9750087091732312,\n",
       "  0.9745336812075375,\n",
       "  0.9744987484203292,\n",
       "  0.9747310494495377,\n",
       "  0.9754613008650744,\n",
       "  0.9751887113079432,\n",
       "  0.9752539975060631,\n",
       "  0.9753501676329301,\n",
       "  0.9754496302466108,\n",
       "  0.9752139318652836,\n",
       "  0.9752946337792041,\n",
       "  0.9753417002432345,\n",
       "  0.9758529431131516,\n",
       "  0.9759910652954206,\n",
       "  0.9760023170975916,\n",
       "  0.9757766167782553,\n",
       "  0.976050839293275,\n",
       "  0.9758139351544168,\n",
       "  0.9767222927451074,\n",
       "  0.9768481175678084,\n",
       "  0.976776971166233,\n",
       "  0.9768048956490248,\n",
       "  0.9769484525112048,\n",
       "  0.9763347099323115,\n",
       "  0.9774474042128637,\n",
       "  0.9774907098433115],\n",
       " 'AUC Validation': [0.9418913259247124,\n",
       "  0.9404980528850355,\n",
       "  0.9374057000082126,\n",
       "  0.9352838666065184,\n",
       "  0.9350600034494592,\n",
       "  0.9353361483992558,\n",
       "  0.9358774172672207,\n",
       "  0.9362923033837224,\n",
       "  0.9367473770522605,\n",
       "  0.9370090749568513,\n",
       "  0.9374277007941979,\n",
       "  0.9381024933816847,\n",
       "  0.938556634183875,\n",
       "  0.9391833304940074,\n",
       "  0.9398114797641147,\n",
       "  0.9406441414061595,\n",
       "  0.9417802652966223,\n",
       "  0.9431874322660605,\n",
       "  0.9447301950740761,\n",
       "  0.9462698455757814,\n",
       "  0.9480551949114435,\n",
       "  0.9499680167185501,\n",
       "  0.9516399443661625,\n",
       "  0.9531495367583849,\n",
       "  0.9544217518146891,\n",
       "  0.9554422828325944,\n",
       "  0.9563875653836116,\n",
       "  0.9571310185853724,\n",
       "  0.9576895413530406,\n",
       "  0.9581130213975765,\n",
       "  0.9585248860177664,\n",
       "  0.9589119512529286,\n",
       "  0.9592022625624819,\n",
       "  0.9594978738737618,\n",
       "  0.9596846617850954,\n",
       "  0.9599016068713648,\n",
       "  0.9600498913433602,\n",
       "  0.960194089365426,\n",
       "  0.9603971487773886,\n",
       "  0.9605242827752024,\n",
       "  0.960639710538672,\n",
       "  0.9606794770625338,\n",
       "  0.9606950055722667,\n",
       "  0.9606710647544965,\n",
       "  0.9606734588362735,\n",
       "  0.9607290758325897,\n",
       "  0.9606736404562704,\n",
       "  0.9607091636765686,\n",
       "  0.9607539577721619,\n",
       "  0.9607640541928975,\n",
       "  0.9608541872440747,\n",
       "  0.9608999307169245,\n",
       "  0.9609765826110609,\n",
       "  0.9610362447800347,\n",
       "  0.9609737344792917,\n",
       "  0.9609400687362342,\n",
       "  0.9609208417829286,\n",
       "  0.9610074910323476,\n",
       "  0.9611465624172287,\n",
       "  0.9613116962716618,\n",
       "  0.9614612273172721,\n",
       "  0.9615368968123346,\n",
       "  0.961653851834869,\n",
       "  0.961718714940117,\n",
       "  0.9618294040727591,\n",
       "  0.9619688386976342,\n",
       "  0.9620630829651043,\n",
       "  0.9621811772403465,\n",
       "  0.9623120592144593,\n",
       "  0.9623740246552117,\n",
       "  0.9624199992807848,\n",
       "  0.9624043139174182,\n",
       "  0.9624562489810704,\n",
       "  0.962440852558608,\n",
       "  0.9625035692457115,\n",
       "  0.9625161835800398,\n",
       "  0.962519419718166,\n",
       "  0.9625125676910111,\n",
       "  0.9624816014815437,\n",
       "  0.9624782332561471,\n",
       "  0.9625537871748475,\n",
       "  0.9626655330056533,\n",
       "  0.9627877880299147,\n",
       "  0.962938970166406,\n",
       "  0.9631060275417148,\n",
       "  0.9632129026544225,\n",
       "  0.9633094832154889,\n",
       "  0.9634707370063523,\n",
       "  0.9635153990146752,\n",
       "  0.9636509040432539,\n",
       "  0.9637584891250404,\n",
       "  0.9639365840428871,\n",
       "  0.9640897722547981,\n",
       "  0.9641613635553851,\n",
       "  0.9642836763678272,\n",
       "  0.9644501806276913,\n",
       "  0.964671162631164,\n",
       "  0.9648609885497178,\n",
       "  0.9650886161939852],\n",
       " 'AUC Test': [0.939629009570735,\n",
       "  0.9381332851345955,\n",
       "  0.9349694919947227,\n",
       "  0.9332707984309508,\n",
       "  0.9338918781847874,\n",
       "  0.9350061246419095,\n",
       "  0.9363325417138487,\n",
       "  0.9373150707387229,\n",
       "  0.9381674255404102,\n",
       "  0.9387886538384346,\n",
       "  0.9394848804463563,\n",
       "  0.9403318711523754,\n",
       "  0.9409297780129251,\n",
       "  0.9417258180625508,\n",
       "  0.9425291202724657,\n",
       "  0.9434289679519545,\n",
       "  0.9446230321526203,\n",
       "  0.9459599711045243,\n",
       "  0.9474441833661144,\n",
       "  0.9489291135912783,\n",
       "  0.9505927837365636,\n",
       "  0.9523860669381041,\n",
       "  0.9539593809549713,\n",
       "  0.9553550031134861,\n",
       "  0.9565679571833592,\n",
       "  0.9575567745788475,\n",
       "  0.9585308695948401,\n",
       "  0.9592719152851836,\n",
       "  0.9597781786343549,\n",
       "  0.960156908545899,\n",
       "  0.9605259253180563,\n",
       "  0.9608597866324492,\n",
       "  0.9610865063252096,\n",
       "  0.9613660912438944,\n",
       "  0.9615919031666187,\n",
       "  0.9618404010877923,\n",
       "  0.9619739588174773,\n",
       "  0.962108713153119,\n",
       "  0.9622674986373546,\n",
       "  0.9623473081284435,\n",
       "  0.9624100515428525,\n",
       "  0.9624026490908305,\n",
       "  0.9623790058076156,\n",
       "  0.9623332046830635,\n",
       "  0.9623378755725224,\n",
       "  0.9624295851035399,\n",
       "  0.962380507754403,\n",
       "  0.9624351967728544,\n",
       "  0.9624819304248073,\n",
       "  0.9625164586960012,\n",
       "  0.9626129546508458,\n",
       "  0.96265535576399,\n",
       "  0.9627113156604922,\n",
       "  0.9627647420533482,\n",
       "  0.96269339958096,\n",
       "  0.9626668514336296,\n",
       "  0.9626857578077468,\n",
       "  0.9628233344829554,\n",
       "  0.9630029739206581,\n",
       "  0.9632250969960536,\n",
       "  0.9634373088731449,\n",
       "  0.9636154628689706,\n",
       "  0.963828392709636,\n",
       "  0.9640148321701554,\n",
       "  0.9642262765689436,\n",
       "  0.9644755419684204,\n",
       "  0.9646763159430563,\n",
       "  0.9648816122629632,\n",
       "  0.9650872304286102,\n",
       "  0.9652405857975385,\n",
       "  0.9653709663320967,\n",
       "  0.9654091339358902,\n",
       "  0.9655118192318907,\n",
       "  0.9655723922506675,\n",
       "  0.9657078975597028,\n",
       "  0.9657938221198537,\n",
       "  0.9658382120746223,\n",
       "  0.9658893030227489,\n",
       "  0.9659386609553516,\n",
       "  0.9660221757986793,\n",
       "  0.9661762491311816,\n",
       "  0.9663524803050213,\n",
       "  0.9665091284034444,\n",
       "  0.9667243936888393,\n",
       "  0.9669660503249222,\n",
       "  0.9671392363429134,\n",
       "  0.9673132971211212,\n",
       "  0.9675476668395502,\n",
       "  0.9676719405575015,\n",
       "  0.9678843587459649,\n",
       "  0.9680638166296605,\n",
       "  0.9682842314468969,\n",
       "  0.9684906005859376,\n",
       "  0.9686452433378263,\n",
       "  0.9688300570647352,\n",
       "  0.9690638078490484,\n",
       "  0.9693593860252797,\n",
       "  0.9695935576847917,\n",
       "  0.9698685459861116],\n",
       " 'ROC AUC Score': 0.9698685459861116,\n",
       " 'ROC FPR': array([0.0000000e+00, 2.7252907e-04, 2.7252907e-04, ..., 9.3450218e-01,\n",
       "        9.3450218e-01, 1.0000000e+00]),\n",
       " 'ROC TPR': array([0.        , 0.01617006, 0.02053052, ..., 0.99981831, 1.        ,\n",
       "        1.        ]),\n",
       " 'ROC Thresholds': array([2.0000000e+00, 1.0000000e+00, 9.9999988e-01, ..., 1.8541734e-01,\n",
       "        1.8531144e-01, 6.1262975e-17], dtype=float32),\n",
       " 'True Labels': array([1, 1, 1, ..., 0, 0, 0], dtype=int64),\n",
       " 'Predicted Labels': array([False,  True,  True, ..., False, False, False]),\n",
       " 'F1 Score': 0.917631284916201}"
      ]
     },
     "execution_count": 26,
     "metadata": {},
     "output_type": "execute_result"
    }
   ],
   "source": [
    "performance_scores"
   ]
  },
  {
   "cell_type": "code",
   "execution_count": 27,
   "metadata": {
    "execution": {
     "iopub.execute_input": "2023-11-10T19:12:13.172571Z",
     "iopub.status.busy": "2023-11-10T19:12:13.172571Z",
     "iopub.status.idle": "2023-11-10T19:12:13.184090Z",
     "shell.execute_reply": "2023-11-10T19:12:13.183084Z"
    }
   },
   "outputs": [],
   "source": [
    "with open(f'{pred_output_dir}/performance_scores_{dataset_nr}_{embedding_method}.pkl', 'wb') as f:\n",
    "    pickle.dump(performance_scores, f)"
   ]
  },
  {
   "attachments": {},
   "cell_type": "markdown",
   "metadata": {},
   "source": [
    "# Hyperparameter Optimization of Node Embedding and GNN Training"
   ]
  },
  {
   "attachments": {},
   "cell_type": "markdown",
   "metadata": {},
   "source": [
    "The routine including node embedding and GNN training that needs to be optimized is contained in `hyperparam_opt.py`."
   ]
  },
  {
   "attachments": {},
   "cell_type": "markdown",
   "metadata": {},
   "source": [
    "# GNN Predictions"
   ]
  },
  {
   "attachments": {},
   "cell_type": "markdown",
   "metadata": {},
   "source": [
    "Load the Edge2Vec embedding"
   ]
  },
  {
   "cell_type": "code",
   "execution_count": 28,
   "metadata": {
    "execution": {
     "iopub.execute_input": "2023-11-10T19:12:13.187592Z",
     "iopub.status.busy": "2023-11-10T19:12:13.187592Z",
     "iopub.status.idle": "2023-11-10T19:12:13.215618Z",
     "shell.execute_reply": "2023-11-10T19:12:13.214618Z"
    }
   },
   "outputs": [
    {
     "data": {
      "text/html": [
       "<div>\n",
       "<style scoped>\n",
       "    .dataframe tbody tr th:only-of-type {\n",
       "        vertical-align: middle;\n",
       "    }\n",
       "\n",
       "    .dataframe tbody tr th {\n",
       "        vertical-align: top;\n",
       "    }\n",
       "\n",
       "    .dataframe thead th {\n",
       "        text-align: right;\n",
       "    }\n",
       "</style>\n",
       "<table border=\"1\" class=\"dataframe\">\n",
       "  <thead>\n",
       "    <tr style=\"text-align: right;\">\n",
       "      <th></th>\n",
       "      <th>Node</th>\n",
       "      <th>Embedding</th>\n",
       "    </tr>\n",
       "  </thead>\n",
       "  <tbody>\n",
       "    <tr>\n",
       "      <th>0</th>\n",
       "      <td>0</td>\n",
       "      <td>[-0.4509384, 0.26219618, 0.22912742, -0.490363...</td>\n",
       "    </tr>\n",
       "    <tr>\n",
       "      <th>1</th>\n",
       "      <td>1</td>\n",
       "      <td>[-0.19627458, 0.3617337, 0.098969914, -0.14412...</td>\n",
       "    </tr>\n",
       "    <tr>\n",
       "      <th>2</th>\n",
       "      <td>2</td>\n",
       "      <td>[-0.6794914, -0.37078336, 0.06792965, -0.48939...</td>\n",
       "    </tr>\n",
       "    <tr>\n",
       "      <th>3</th>\n",
       "      <td>3</td>\n",
       "      <td>[-0.23343344, -0.22049727, 0.1907085, -0.26642...</td>\n",
       "    </tr>\n",
       "    <tr>\n",
       "      <th>4</th>\n",
       "      <td>4</td>\n",
       "      <td>[-0.5576051, 0.6320138, -0.04318564, -0.541861...</td>\n",
       "    </tr>\n",
       "    <tr>\n",
       "      <th>...</th>\n",
       "      <td>...</td>\n",
       "      <td>...</td>\n",
       "    </tr>\n",
       "    <tr>\n",
       "      <th>10270</th>\n",
       "      <td>10270</td>\n",
       "      <td>[0.08807494, -0.08262835, 0.16558804, -0.39253...</td>\n",
       "    </tr>\n",
       "    <tr>\n",
       "      <th>10271</th>\n",
       "      <td>10271</td>\n",
       "      <td>[-0.45895448, 0.05399244, -0.43017498, -0.7118...</td>\n",
       "    </tr>\n",
       "    <tr>\n",
       "      <th>10272</th>\n",
       "      <td>10272</td>\n",
       "      <td>[0.21327412, 0.72659385, -0.38959756, 0.071948...</td>\n",
       "    </tr>\n",
       "    <tr>\n",
       "      <th>10273</th>\n",
       "      <td>10273</td>\n",
       "      <td>[-0.28663635, 0.5266847, -0.31698784, -0.23052...</td>\n",
       "    </tr>\n",
       "    <tr>\n",
       "      <th>10274</th>\n",
       "      <td>10274</td>\n",
       "      <td>[-0.29519475, -0.0704584, 0.2901069, -0.310091...</td>\n",
       "    </tr>\n",
       "  </tbody>\n",
       "</table>\n",
       "<p>10275 rows × 2 columns</p>\n",
       "</div>"
      ],
      "text/plain": [
       "        Node                                          Embedding\n",
       "0          0  [-0.4509384, 0.26219618, 0.22912742, -0.490363...\n",
       "1          1  [-0.19627458, 0.3617337, 0.098969914, -0.14412...\n",
       "2          2  [-0.6794914, -0.37078336, 0.06792965, -0.48939...\n",
       "3          3  [-0.23343344, -0.22049727, 0.1907085, -0.26642...\n",
       "4          4  [-0.5576051, 0.6320138, -0.04318564, -0.541861...\n",
       "...      ...                                                ...\n",
       "10270  10270  [0.08807494, -0.08262835, 0.16558804, -0.39253...\n",
       "10271  10271  [-0.45895448, 0.05399244, -0.43017498, -0.7118...\n",
       "10272  10272  [0.21327412, 0.72659385, -0.38959756, 0.071948...\n",
       "10273  10273  [-0.28663635, 0.5266847, -0.31698784, -0.23052...\n",
       "10274  10274  [-0.29519475, -0.0704584, 0.2901069, -0.310091...\n",
       "\n",
       "[10275 rows x 2 columns]"
      ]
     },
     "execution_count": 28,
     "metadata": {},
     "output_type": "execute_result"
    }
   ],
   "source": [
    "embedding"
   ]
  },
  {
   "attachments": {},
   "cell_type": "markdown",
   "metadata": {},
   "source": [
    "Initialize a graph with nodes and their embedding features."
   ]
  },
  {
   "cell_type": "code",
   "execution_count": 29,
   "metadata": {
    "execution": {
     "iopub.execute_input": "2023-11-10T19:12:13.219125Z",
     "iopub.status.busy": "2023-11-10T19:12:13.219125Z",
     "iopub.status.idle": "2023-11-10T19:12:13.231643Z",
     "shell.execute_reply": "2023-11-10T19:12:13.230639Z"
    }
   },
   "outputs": [
    {
     "name": "stdout",
     "output_type": "stream",
     "text": [
      "(0, {'node_feature': tensor([-0.4509,  0.2622,  0.2291, -0.4904,  0.3818,  0.5481,  0.1687, -0.3421,\n",
      "        -0.4601,  0.2711,  0.1248,  0.2584,  0.1844, -0.0448,  0.1521, -0.5556,\n",
      "         0.2471,  0.5365,  0.1329, -0.5690,  0.2744, -0.0057, -0.2026,  0.0462,\n",
      "         0.2343,  0.3218, -0.2072,  0.5780,  0.1912,  0.3074,  0.0648,  0.1621,\n",
      "        -0.0945, -0.2544,  0.1522,  0.4952,  0.1920, -0.1342,  0.4838,  0.2582,\n",
      "        -0.1710,  0.0028, -0.0378,  0.3734,  0.0745, -0.0683, -0.2787, -0.8189,\n",
      "         0.2985, -0.2350,  0.5074, -0.1224, -0.1789,  0.0482, -0.1783, -0.1887,\n",
      "        -0.2891,  0.0113, -0.2606, -0.1360,  0.0728,  0.0624, -0.1738, -0.0448])})\n",
      "(0, 8472, {})\n",
      "Number of edges is 55032\n",
      "Number of nodes is 10275\n"
     ]
    }
   ],
   "source": [
    "for node in embedded_node_G.nodes(data=True):\n",
    "    print(node)\n",
    "    break\n",
    "for edge in embedded_node_G.edges(data=True):\n",
    "    print(edge)\n",
    "    break\n",
    "\n",
    "print(\"Number of edges is {}\".format(embedded_node_G.number_of_edges()))\n",
    "print(\"Number of nodes is {}\".format(embedded_node_G.number_of_nodes()))"
   ]
  },
  {
   "cell_type": "code",
   "execution_count": 30,
   "metadata": {
    "execution": {
     "iopub.execute_input": "2023-11-10T19:12:13.235643Z",
     "iopub.status.busy": "2023-11-10T19:12:13.234639Z",
     "iopub.status.idle": "2023-11-10T19:12:13.325772Z",
     "shell.execute_reply": "2023-11-10T19:12:13.324768Z"
    }
   },
   "outputs": [
    {
     "name": "stdout",
     "output_type": "stream",
     "text": [
      "torch.Size([2, 110064])\n"
     ]
    }
   ],
   "source": [
    "DeepG = Graph(embedded_node_G)\n",
    "print(DeepG.edge_index.shape)"
   ]
  },
  {
   "attachments": {},
   "cell_type": "markdown",
   "metadata": {},
   "source": [
    "Load arguments and parameters of trained GNN model."
   ]
  },
  {
   "cell_type": "code",
   "execution_count": 31,
   "metadata": {
    "execution": {
     "iopub.execute_input": "2023-11-10T19:12:13.330285Z",
     "iopub.status.busy": "2023-11-10T19:12:13.329286Z",
     "iopub.status.idle": "2023-11-10T19:12:13.356410Z",
     "shell.execute_reply": "2023-11-10T19:12:13.355308Z"
    }
   },
   "outputs": [
    {
     "data": {
      "text/plain": [
       "<All keys matched successfully>"
      ]
     },
     "execution_count": 31,
     "metadata": {},
     "output_type": "execute_result"
    }
   ],
   "source": [
    "with open(f'{run_dir}/best_model_{dataset_nr}_{embedding_method}_args.pkl', 'rb') as f:\n",
    "    loaded_args = pickle.load(f)\n",
    "    \n",
    "best_model = LinkPredModel(len(embedding['Embedding'][0]), loaded_args['hidden_dim'], loaded_args['output_dim'], loaded_args['layers'], loaded_args['aggr'], loaded_args['dropout'], loaded_args['device']).to(loaded_args['device'])\n",
    "best_model.load_state_dict(torch.load(f'{run_dir}/best_model_{dataset_nr}_{embedding_method}.pth'))"
   ]
  },
  {
   "attachments": {},
   "cell_type": "markdown",
   "metadata": {},
   "source": [
    "Get output of best model given the graph"
   ]
  },
  {
   "cell_type": "code",
   "execution_count": 32,
   "metadata": {
    "execution": {
     "iopub.execute_input": "2023-11-10T19:12:13.359925Z",
     "iopub.status.busy": "2023-11-10T19:12:13.359925Z",
     "iopub.status.idle": "2023-11-10T19:12:13.483057Z",
     "shell.execute_reply": "2023-11-10T19:12:13.481059Z"
    }
   },
   "outputs": [
    {
     "name": "stdout",
     "output_type": "stream",
     "text": [
      "torch.Size([10275, 64])\n"
     ]
    }
   ],
   "source": [
    "_, best_x = best_model(DeepG.node_feature, DeepG.edge_index, DeepG.edge_label_index, training = False)\n",
    "print(best_x.shape)"
   ]
  },
  {
   "cell_type": "code",
   "execution_count": 33,
   "metadata": {
    "execution": {
     "iopub.execute_input": "2023-11-10T19:12:13.486058Z",
     "iopub.status.busy": "2023-11-10T19:12:13.486058Z",
     "iopub.status.idle": "2023-11-10T19:12:13.512592Z",
     "shell.execute_reply": "2023-11-10T19:12:13.511593Z"
    }
   },
   "outputs": [
    {
     "data": {
      "text/html": [
       "<div>\n",
       "<style scoped>\n",
       "    .dataframe tbody tr th:only-of-type {\n",
       "        vertical-align: middle;\n",
       "    }\n",
       "\n",
       "    .dataframe tbody tr th {\n",
       "        vertical-align: top;\n",
       "    }\n",
       "\n",
       "    .dataframe thead th {\n",
       "        text-align: right;\n",
       "    }\n",
       "</style>\n",
       "<table border=\"1\" class=\"dataframe\">\n",
       "  <thead>\n",
       "    <tr style=\"text-align: right;\">\n",
       "      <th></th>\n",
       "      <th>id</th>\n",
       "      <th>semantic</th>\n",
       "      <th>label</th>\n",
       "      <th>semantic_id</th>\n",
       "    </tr>\n",
       "  </thead>\n",
       "  <tbody>\n",
       "    <tr>\n",
       "      <th>0</th>\n",
       "      <td>MP:0004187</td>\n",
       "      <td>phenotype</td>\n",
       "      <td>cardia bifida</td>\n",
       "      <td>9</td>\n",
       "    </tr>\n",
       "    <tr>\n",
       "      <th>1</th>\n",
       "      <td>ZP:0100138</td>\n",
       "      <td>phenotype</td>\n",
       "      <td>muscle tendon junction myotome increased amoun...</td>\n",
       "      <td>9</td>\n",
       "    </tr>\n",
       "    <tr>\n",
       "      <th>2</th>\n",
       "      <td>MGI:1346525</td>\n",
       "      <td>gene</td>\n",
       "      <td>Sgcd</td>\n",
       "      <td>5</td>\n",
       "    </tr>\n",
       "    <tr>\n",
       "      <th>3</th>\n",
       "      <td>OMIM:300377.0044</td>\n",
       "      <td>variant</td>\n",
       "      <td>DMD, LYS770TER</td>\n",
       "      <td>11</td>\n",
       "    </tr>\n",
       "    <tr>\n",
       "      <th>4</th>\n",
       "      <td>ZP:0002210</td>\n",
       "      <td>phenotype</td>\n",
       "      <td>posterior lateral line neuromast primordium mi...</td>\n",
       "      <td>9</td>\n",
       "    </tr>\n",
       "    <tr>\n",
       "      <th>...</th>\n",
       "      <td>...</td>\n",
       "      <td>...</td>\n",
       "      <td>...</td>\n",
       "      <td>...</td>\n",
       "    </tr>\n",
       "    <tr>\n",
       "      <th>10270</th>\n",
       "      <td>ZP:0014934</td>\n",
       "      <td>phenotype</td>\n",
       "      <td>atrioventricular valve development process qua...</td>\n",
       "      <td>9</td>\n",
       "    </tr>\n",
       "    <tr>\n",
       "      <th>10271</th>\n",
       "      <td>ENSEMBL:ENSCAFG00000011207</td>\n",
       "      <td>gene</td>\n",
       "      <td>ENSEMBL:ENSCAFG00000011207</td>\n",
       "      <td>5</td>\n",
       "    </tr>\n",
       "    <tr>\n",
       "      <th>10272</th>\n",
       "      <td>ENSEMBL:ENSXETG00000039922</td>\n",
       "      <td>gene</td>\n",
       "      <td>ENSEMBL:ENSXETG00000039922</td>\n",
       "      <td>5</td>\n",
       "    </tr>\n",
       "    <tr>\n",
       "      <th>10273</th>\n",
       "      <td>ENSEMBL:ENSACAG00000010058</td>\n",
       "      <td>gene</td>\n",
       "      <td>ENSEMBL:ENSACAG00000010058</td>\n",
       "      <td>5</td>\n",
       "    </tr>\n",
       "    <tr>\n",
       "      <th>10274</th>\n",
       "      <td>WBPhenotype:0000019</td>\n",
       "      <td>phenotype</td>\n",
       "      <td>pharyngeal pumping reduced</td>\n",
       "      <td>9</td>\n",
       "    </tr>\n",
       "  </tbody>\n",
       "</table>\n",
       "<p>10275 rows × 4 columns</p>\n",
       "</div>"
      ],
      "text/plain": [
       "                               id   semantic  \\\n",
       "0                      MP:0004187  phenotype   \n",
       "1                      ZP:0100138  phenotype   \n",
       "2                     MGI:1346525       gene   \n",
       "3                OMIM:300377.0044    variant   \n",
       "4                      ZP:0002210  phenotype   \n",
       "...                           ...        ...   \n",
       "10270                  ZP:0014934  phenotype   \n",
       "10271  ENSEMBL:ENSCAFG00000011207       gene   \n",
       "10272  ENSEMBL:ENSXETG00000039922       gene   \n",
       "10273  ENSEMBL:ENSACAG00000010058       gene   \n",
       "10274         WBPhenotype:0000019  phenotype   \n",
       "\n",
       "                                                   label  semantic_id  \n",
       "0                                          cardia bifida            9  \n",
       "1      muscle tendon junction myotome increased amoun...            9  \n",
       "2                                                   Sgcd            5  \n",
       "3                                         DMD, LYS770TER           11  \n",
       "4      posterior lateral line neuromast primordium mi...            9  \n",
       "...                                                  ...          ...  \n",
       "10270  atrioventricular valve development process qua...            9  \n",
       "10271                         ENSEMBL:ENSCAFG00000011207            5  \n",
       "10272                         ENSEMBL:ENSXETG00000039922            5  \n",
       "10273                         ENSEMBL:ENSACAG00000010058            5  \n",
       "10274                         pharyngeal pumping reduced            9  \n",
       "\n",
       "[10275 rows x 4 columns]"
      ]
     },
     "execution_count": 33,
     "metadata": {},
     "output_type": "execute_result"
    }
   ],
   "source": [
    "nodes"
   ]
  },
  {
   "attachments": {},
   "cell_type": "markdown",
   "metadata": {},
   "source": [
    "Define the score function"
   ]
  },
  {
   "cell_type": "code",
   "execution_count": 34,
   "metadata": {
    "execution": {
     "iopub.execute_input": "2023-11-10T19:12:13.515591Z",
     "iopub.status.busy": "2023-11-10T19:12:13.515591Z",
     "iopub.status.idle": "2023-11-10T19:12:13.528612Z",
     "shell.execute_reply": "2023-11-10T19:12:13.527658Z"
    }
   },
   "outputs": [],
   "source": [
    "def score(x, id1, id2): \n",
    "    n1 = x[id1]\n",
    "    n2 = x[id2]\n",
    "    score = torch.Tensor([torch.sum(n1 * n2, dim=-1)])\n",
    "    p = torch.sigmoid(score).cpu().detach().numpy()\n",
    "    return p\n",
    "\n",
    "def candidates(nodes, id, x): \n",
    "  ind = nodes[nodes['id'] == id].index.values.astype(int)[0]\n",
    "  predictions = nodes.copy()\n",
    "  scores = []\n",
    "  for i in range(len(x)):  \n",
    "    s = score(x, i, ind)\n",
    "    scores.append(s)\n",
    "  predictions['Score'] = scores\n",
    "  return predictions"
   ]
  },
  {
   "attachments": {},
   "cell_type": "markdown",
   "metadata": {},
   "source": [
    "Calculate the predictions of an edge existing or not between given node ID and each node in the graph contained by semantic group DRUG. Show the top 20 highest probability that an edge exists between a pair of nodes."
   ]
  },
  {
   "cell_type": "code",
   "execution_count": 35,
   "metadata": {
    "execution": {
     "iopub.execute_input": "2023-11-10T19:12:13.533617Z",
     "iopub.status.busy": "2023-11-10T19:12:13.532617Z",
     "iopub.status.idle": "2023-11-10T19:12:13.870950Z",
     "shell.execute_reply": "2023-11-10T19:12:13.869963Z"
    }
   },
   "outputs": [
    {
     "data": {
      "text/html": [
       "<div>\n",
       "<style scoped>\n",
       "    .dataframe tbody tr th:only-of-type {\n",
       "        vertical-align: middle;\n",
       "    }\n",
       "\n",
       "    .dataframe tbody tr th {\n",
       "        vertical-align: top;\n",
       "    }\n",
       "\n",
       "    .dataframe thead th {\n",
       "        text-align: right;\n",
       "    }\n",
       "</style>\n",
       "<table border=\"1\" class=\"dataframe\">\n",
       "  <thead>\n",
       "    <tr style=\"text-align: right;\">\n",
       "      <th></th>\n",
       "      <th>id</th>\n",
       "      <th>semantic</th>\n",
       "      <th>label</th>\n",
       "      <th>semantic_id</th>\n",
       "      <th>Score</th>\n",
       "    </tr>\n",
       "  </thead>\n",
       "  <tbody>\n",
       "    <tr>\n",
       "      <th>4998</th>\n",
       "      <td>269</td>\n",
       "      <td>drug</td>\n",
       "      <td>azathioprine</td>\n",
       "      <td>4</td>\n",
       "      <td>[0.9997483]</td>\n",
       "    </tr>\n",
       "    <tr>\n",
       "      <th>3776</th>\n",
       "      <td>5359</td>\n",
       "      <td>drug</td>\n",
       "      <td>brilliant Blue G</td>\n",
       "      <td>4</td>\n",
       "      <td>[0.99900585]</td>\n",
       "    </tr>\n",
       "    <tr>\n",
       "      <th>9966</th>\n",
       "      <td>1795</td>\n",
       "      <td>drug</td>\n",
       "      <td>mezlocillin</td>\n",
       "      <td>4</td>\n",
       "      <td>[0.9887805]</td>\n",
       "    </tr>\n",
       "    <tr>\n",
       "      <th>4772</th>\n",
       "      <td>5330</td>\n",
       "      <td>drug</td>\n",
       "      <td>selinexor</td>\n",
       "      <td>4</td>\n",
       "      <td>[0.98546094]</td>\n",
       "    </tr>\n",
       "    <tr>\n",
       "      <th>10053</th>\n",
       "      <td>4225</td>\n",
       "      <td>drug</td>\n",
       "      <td>axitinib</td>\n",
       "      <td>4</td>\n",
       "      <td>[0.9811576]</td>\n",
       "    </tr>\n",
       "    <tr>\n",
       "      <th>3956</th>\n",
       "      <td>4483</td>\n",
       "      <td>drug</td>\n",
       "      <td>carfilzomib</td>\n",
       "      <td>4</td>\n",
       "      <td>[0.97799915]</td>\n",
       "    </tr>\n",
       "    <tr>\n",
       "      <th>2695</th>\n",
       "      <td>5345</td>\n",
       "      <td>drug</td>\n",
       "      <td>entrectinib</td>\n",
       "      <td>4</td>\n",
       "      <td>[0.9773117]</td>\n",
       "    </tr>\n",
       "    <tr>\n",
       "      <th>6918</th>\n",
       "      <td>5067</td>\n",
       "      <td>drug</td>\n",
       "      <td>ixazomib</td>\n",
       "      <td>4</td>\n",
       "      <td>[0.9597563]</td>\n",
       "    </tr>\n",
       "    <tr>\n",
       "      <th>4961</th>\n",
       "      <td>4301</td>\n",
       "      <td>drug</td>\n",
       "      <td>Flutemetamol (18F)</td>\n",
       "      <td>4</td>\n",
       "      <td>[0.95265883]</td>\n",
       "    </tr>\n",
       "    <tr>\n",
       "      <th>1757</th>\n",
       "      <td>391</td>\n",
       "      <td>drug</td>\n",
       "      <td>bortezomib</td>\n",
       "      <td>4</td>\n",
       "      <td>[0.9519582]</td>\n",
       "    </tr>\n",
       "    <tr>\n",
       "      <th>3697</th>\n",
       "      <td>231</td>\n",
       "      <td>drug</td>\n",
       "      <td>aprindine</td>\n",
       "      <td>4</td>\n",
       "      <td>[0.9499212]</td>\n",
       "    </tr>\n",
       "    <tr>\n",
       "      <th>5810</th>\n",
       "      <td>629</td>\n",
       "      <td>drug</td>\n",
       "      <td>cianidanol</td>\n",
       "      <td>4</td>\n",
       "      <td>[0.94251907]</td>\n",
       "    </tr>\n",
       "    <tr>\n",
       "      <th>7851</th>\n",
       "      <td>1989</td>\n",
       "      <td>drug</td>\n",
       "      <td>omapatrilat</td>\n",
       "      <td>4</td>\n",
       "      <td>[0.9298582]</td>\n",
       "    </tr>\n",
       "    <tr>\n",
       "      <th>7498</th>\n",
       "      <td>2459</td>\n",
       "      <td>drug</td>\n",
       "      <td>sorafenib</td>\n",
       "      <td>4</td>\n",
       "      <td>[0.9297089]</td>\n",
       "    </tr>\n",
       "    <tr>\n",
       "      <th>4341</th>\n",
       "      <td>4119</td>\n",
       "      <td>drug</td>\n",
       "      <td>romidepsin</td>\n",
       "      <td>4</td>\n",
       "      <td>[0.92799693]</td>\n",
       "    </tr>\n",
       "    <tr>\n",
       "      <th>7476</th>\n",
       "      <td>4818</td>\n",
       "      <td>drug</td>\n",
       "      <td>florbetaben F18</td>\n",
       "      <td>4</td>\n",
       "      <td>[0.9244103]</td>\n",
       "    </tr>\n",
       "    <tr>\n",
       "      <th>3795</th>\n",
       "      <td>681</td>\n",
       "      <td>drug</td>\n",
       "      <td>clioquinol</td>\n",
       "      <td>4</td>\n",
       "      <td>[0.92315865]</td>\n",
       "    </tr>\n",
       "    <tr>\n",
       "      <th>670</th>\n",
       "      <td>1763</td>\n",
       "      <td>drug</td>\n",
       "      <td>methylthioninium chloride</td>\n",
       "      <td>4</td>\n",
       "      <td>[0.92297125]</td>\n",
       "    </tr>\n",
       "    <tr>\n",
       "      <th>9921</th>\n",
       "      <td>1922</td>\n",
       "      <td>drug</td>\n",
       "      <td>nifedipine</td>\n",
       "      <td>4</td>\n",
       "      <td>[0.91960424]</td>\n",
       "    </tr>\n",
       "    <tr>\n",
       "      <th>2302</th>\n",
       "      <td>2835</td>\n",
       "      <td>drug</td>\n",
       "      <td>nicotinic acid</td>\n",
       "      <td>4</td>\n",
       "      <td>[0.9098294]</td>\n",
       "    </tr>\n",
       "  </tbody>\n",
       "</table>\n",
       "</div>"
      ],
      "text/plain": [
       "         id semantic                      label  semantic_id         Score\n",
       "4998    269     drug               azathioprine            4   [0.9997483]\n",
       "3776   5359     drug           brilliant Blue G            4  [0.99900585]\n",
       "9966   1795     drug                mezlocillin            4   [0.9887805]\n",
       "4772   5330     drug                  selinexor            4  [0.98546094]\n",
       "10053  4225     drug                   axitinib            4   [0.9811576]\n",
       "3956   4483     drug                carfilzomib            4  [0.97799915]\n",
       "2695   5345     drug                entrectinib            4   [0.9773117]\n",
       "6918   5067     drug                   ixazomib            4   [0.9597563]\n",
       "4961   4301     drug         Flutemetamol (18F)            4  [0.95265883]\n",
       "1757    391     drug                 bortezomib            4   [0.9519582]\n",
       "3697    231     drug                  aprindine            4   [0.9499212]\n",
       "5810    629     drug                 cianidanol            4  [0.94251907]\n",
       "7851   1989     drug                omapatrilat            4   [0.9298582]\n",
       "7498   2459     drug                  sorafenib            4   [0.9297089]\n",
       "4341   4119     drug                 romidepsin            4  [0.92799693]\n",
       "7476   4818     drug            florbetaben F18            4   [0.9244103]\n",
       "3795    681     drug                 clioquinol            4  [0.92315865]\n",
       "670    1763     drug  methylthioninium chloride            4  [0.92297125]\n",
       "9921   1922     drug                 nifedipine            4  [0.91960424]\n",
       "2302   2835     drug             nicotinic acid            4   [0.9098294]"
      ]
     },
     "execution_count": 35,
     "metadata": {},
     "output_type": "execute_result"
    }
   ],
   "source": [
    "if dataset_nr == 1:\n",
    "    drug_semantic = 'DRUG'\n",
    "else:\n",
    "    drug_semantic = 'drug'\n",
    "\n",
    "predictions = candidates(nodes, 'HP:0001265', best_x)\n",
    "predictions[predictions['semantic'] == drug_semantic].sort_values(by = ['Score'], ascending = False).head(20)"
   ]
  },
  {
   "attachments": {},
   "cell_type": "markdown",
   "metadata": {},
   "source": [
    "Use the node semantics dictionary"
   ]
  },
  {
   "cell_type": "code",
   "execution_count": 36,
   "metadata": {
    "execution": {
     "iopub.execute_input": "2023-11-10T19:12:13.873951Z",
     "iopub.status.busy": "2023-11-10T19:12:13.873951Z",
     "iopub.status.idle": "2023-11-10T19:12:13.886485Z",
     "shell.execute_reply": "2023-11-10T19:12:13.885489Z"
    }
   },
   "outputs": [
    {
     "data": {
      "text/plain": [
       "{9: 'phenotype',\n",
       " 5: 'gene',\n",
       " 11: 'variant',\n",
       " 6: 'gene product',\n",
       " 4: 'drug',\n",
       " 10: 'taxon',\n",
       " 0: 'biological artifact',\n",
       " 7: 'genotype',\n",
       " 1: 'biological process',\n",
       " 3: 'disease',\n",
       " 2: 'cellular component',\n",
       " 8: 'molecular function'}"
      ]
     },
     "execution_count": 36,
     "metadata": {},
     "output_type": "execute_result"
    }
   ],
   "source": [
    "node_semantics = nodes[['semantic', 'semantic_id']].drop_duplicates().set_index('semantic_id').to_dict()\n",
    "node_semantics_dict = node_semantics['semantic']\n",
    "node_semantics_dict"
   ]
  },
  {
   "attachments": {},
   "cell_type": "markdown",
   "metadata": {},
   "source": [
    "Get all phenotypes and diseases relevant to the disease."
   ]
  },
  {
   "cell_type": "code",
   "execution_count": 37,
   "metadata": {
    "execution": {
     "iopub.execute_input": "2023-11-10T19:12:13.890021Z",
     "iopub.status.busy": "2023-11-10T19:12:13.889039Z",
     "iopub.status.idle": "2023-11-10T19:12:13.918249Z",
     "shell.execute_reply": "2023-11-10T19:12:13.917315Z"
    }
   },
   "outputs": [
    {
     "name": "stdout",
     "output_type": "stream",
     "text": [
      "A total of 27 symptoms found that are associated with MONDO:0010679\n"
     ]
    },
    {
     "data": {
      "text/html": [
       "<div>\n",
       "<style scoped>\n",
       "    .dataframe tbody tr th:only-of-type {\n",
       "        vertical-align: middle;\n",
       "    }\n",
       "\n",
       "    .dataframe tbody tr th {\n",
       "        vertical-align: top;\n",
       "    }\n",
       "\n",
       "    .dataframe thead th {\n",
       "        text-align: right;\n",
       "    }\n",
       "</style>\n",
       "<table border=\"1\" class=\"dataframe\">\n",
       "  <thead>\n",
       "    <tr style=\"text-align: right;\">\n",
       "      <th></th>\n",
       "      <th>head</th>\n",
       "      <th>label_head</th>\n",
       "      <th>class_head</th>\n",
       "      <th>index_head</th>\n",
       "      <th>relation</th>\n",
       "      <th>tail</th>\n",
       "      <th>label_tail</th>\n",
       "      <th>class_tail</th>\n",
       "      <th>index_tail</th>\n",
       "      <th>type</th>\n",
       "    </tr>\n",
       "  </thead>\n",
       "  <tbody>\n",
       "    <tr>\n",
       "      <th>41373</th>\n",
       "      <td>MONDO:0010679</td>\n",
       "      <td>Duchenne muscular dystrophy</td>\n",
       "      <td>3</td>\n",
       "      <td>1913</td>\n",
       "      <td>associated with phenotype</td>\n",
       "      <td>HP:0003707</td>\n",
       "      <td>Calf muscle pseudohypertrophy</td>\n",
       "      <td>9</td>\n",
       "      <td>5727</td>\n",
       "      <td>18</td>\n",
       "    </tr>\n",
       "    <tr>\n",
       "      <th>41374</th>\n",
       "      <td>MONDO:0010679</td>\n",
       "      <td>Duchenne muscular dystrophy</td>\n",
       "      <td>3</td>\n",
       "      <td>1913</td>\n",
       "      <td>associated with phenotype</td>\n",
       "      <td>HP:0003236</td>\n",
       "      <td>Elevated serum creatine kinase</td>\n",
       "      <td>9</td>\n",
       "      <td>1351</td>\n",
       "      <td>18</td>\n",
       "    </tr>\n",
       "    <tr>\n",
       "      <th>41375</th>\n",
       "      <td>MONDO:0010679</td>\n",
       "      <td>Duchenne muscular dystrophy</td>\n",
       "      <td>3</td>\n",
       "      <td>1913</td>\n",
       "      <td>associated with phenotype</td>\n",
       "      <td>HP:0001256</td>\n",
       "      <td>Intellectual disability, mild</td>\n",
       "      <td>9</td>\n",
       "      <td>4533</td>\n",
       "      <td>18</td>\n",
       "    </tr>\n",
       "    <tr>\n",
       "      <th>41376</th>\n",
       "      <td>MONDO:0010679</td>\n",
       "      <td>Duchenne muscular dystrophy</td>\n",
       "      <td>3</td>\n",
       "      <td>1913</td>\n",
       "      <td>associated with phenotype</td>\n",
       "      <td>HP:0001265</td>\n",
       "      <td>Hyporeflexia</td>\n",
       "      <td>9</td>\n",
       "      <td>6515</td>\n",
       "      <td>18</td>\n",
       "    </tr>\n",
       "    <tr>\n",
       "      <th>41377</th>\n",
       "      <td>MONDO:0010679</td>\n",
       "      <td>Duchenne muscular dystrophy</td>\n",
       "      <td>3</td>\n",
       "      <td>1913</td>\n",
       "      <td>associated with phenotype</td>\n",
       "      <td>HP:0001290</td>\n",
       "      <td>Generalized hypotonia</td>\n",
       "      <td>9</td>\n",
       "      <td>5372</td>\n",
       "      <td>18</td>\n",
       "    </tr>\n",
       "    <tr>\n",
       "      <th>41378</th>\n",
       "      <td>MONDO:0010679</td>\n",
       "      <td>Duchenne muscular dystrophy</td>\n",
       "      <td>3</td>\n",
       "      <td>1913</td>\n",
       "      <td>associated with phenotype</td>\n",
       "      <td>HP:0003307</td>\n",
       "      <td>Hyperlordosis</td>\n",
       "      <td>9</td>\n",
       "      <td>2737</td>\n",
       "      <td>18</td>\n",
       "    </tr>\n",
       "    <tr>\n",
       "      <th>41379</th>\n",
       "      <td>MONDO:0010679</td>\n",
       "      <td>Duchenne muscular dystrophy</td>\n",
       "      <td>3</td>\n",
       "      <td>1913</td>\n",
       "      <td>associated with phenotype</td>\n",
       "      <td>HP:0003202</td>\n",
       "      <td>Skeletal muscle atrophy</td>\n",
       "      <td>9</td>\n",
       "      <td>788</td>\n",
       "      <td>18</td>\n",
       "    </tr>\n",
       "    <tr>\n",
       "      <th>41380</th>\n",
       "      <td>MONDO:0010679</td>\n",
       "      <td>Duchenne muscular dystrophy</td>\n",
       "      <td>3</td>\n",
       "      <td>1913</td>\n",
       "      <td>associated with phenotype</td>\n",
       "      <td>HP:0001263</td>\n",
       "      <td>Global developmental delay</td>\n",
       "      <td>9</td>\n",
       "      <td>7259</td>\n",
       "      <td>18</td>\n",
       "    </tr>\n",
       "    <tr>\n",
       "      <th>41381</th>\n",
       "      <td>MONDO:0010679</td>\n",
       "      <td>Duchenne muscular dystrophy</td>\n",
       "      <td>3</td>\n",
       "      <td>1913</td>\n",
       "      <td>associated with phenotype</td>\n",
       "      <td>HP:0002791</td>\n",
       "      <td>Hypoventilation</td>\n",
       "      <td>9</td>\n",
       "      <td>1682</td>\n",
       "      <td>18</td>\n",
       "    </tr>\n",
       "    <tr>\n",
       "      <th>41382</th>\n",
       "      <td>MONDO:0010679</td>\n",
       "      <td>Duchenne muscular dystrophy</td>\n",
       "      <td>3</td>\n",
       "      <td>1913</td>\n",
       "      <td>associated with phenotype</td>\n",
       "      <td>HP:0001371</td>\n",
       "      <td>Flexion contracture</td>\n",
       "      <td>9</td>\n",
       "      <td>5052</td>\n",
       "      <td>18</td>\n",
       "    </tr>\n",
       "    <tr>\n",
       "      <th>41383</th>\n",
       "      <td>MONDO:0010679</td>\n",
       "      <td>Duchenne muscular dystrophy</td>\n",
       "      <td>3</td>\n",
       "      <td>1913</td>\n",
       "      <td>associated with phenotype</td>\n",
       "      <td>HP:0003701</td>\n",
       "      <td>Proximal muscle weakness</td>\n",
       "      <td>9</td>\n",
       "      <td>5762</td>\n",
       "      <td>18</td>\n",
       "    </tr>\n",
       "    <tr>\n",
       "      <th>41384</th>\n",
       "      <td>MONDO:0010679</td>\n",
       "      <td>Duchenne muscular dystrophy</td>\n",
       "      <td>3</td>\n",
       "      <td>1913</td>\n",
       "      <td>associated with phenotype</td>\n",
       "      <td>HP:0001270</td>\n",
       "      <td>Motor delay</td>\n",
       "      <td>9</td>\n",
       "      <td>1429</td>\n",
       "      <td>18</td>\n",
       "    </tr>\n",
       "    <tr>\n",
       "      <th>41386</th>\n",
       "      <td>MONDO:0010679</td>\n",
       "      <td>Duchenne muscular dystrophy</td>\n",
       "      <td>3</td>\n",
       "      <td>1913</td>\n",
       "      <td>associated with phenotype</td>\n",
       "      <td>HP:0003560</td>\n",
       "      <td>Muscular dystrophy</td>\n",
       "      <td>9</td>\n",
       "      <td>898</td>\n",
       "      <td>18</td>\n",
       "    </tr>\n",
       "    <tr>\n",
       "      <th>41387</th>\n",
       "      <td>MONDO:0010679</td>\n",
       "      <td>Duchenne muscular dystrophy</td>\n",
       "      <td>3</td>\n",
       "      <td>1913</td>\n",
       "      <td>associated with phenotype</td>\n",
       "      <td>HP:0008981</td>\n",
       "      <td>Calf muscle hypertrophy</td>\n",
       "      <td>9</td>\n",
       "      <td>4673</td>\n",
       "      <td>18</td>\n",
       "    </tr>\n",
       "    <tr>\n",
       "      <th>41388</th>\n",
       "      <td>MONDO:0010679</td>\n",
       "      <td>Duchenne muscular dystrophy</td>\n",
       "      <td>3</td>\n",
       "      <td>1913</td>\n",
       "      <td>associated with phenotype</td>\n",
       "      <td>HP:0002650</td>\n",
       "      <td>Scoliosis</td>\n",
       "      <td>9</td>\n",
       "      <td>4540</td>\n",
       "      <td>18</td>\n",
       "    </tr>\n",
       "    <tr>\n",
       "      <th>41389</th>\n",
       "      <td>MONDO:0010679</td>\n",
       "      <td>Duchenne muscular dystrophy</td>\n",
       "      <td>3</td>\n",
       "      <td>1913</td>\n",
       "      <td>associated with phenotype</td>\n",
       "      <td>HP:0001638</td>\n",
       "      <td>Cardiomyopathy</td>\n",
       "      <td>9</td>\n",
       "      <td>3222</td>\n",
       "      <td>18</td>\n",
       "    </tr>\n",
       "    <tr>\n",
       "      <th>41390</th>\n",
       "      <td>MONDO:0010679</td>\n",
       "      <td>Duchenne muscular dystrophy</td>\n",
       "      <td>3</td>\n",
       "      <td>1913</td>\n",
       "      <td>associated with phenotype</td>\n",
       "      <td>HP:0003323</td>\n",
       "      <td>Progressive muscle weakness</td>\n",
       "      <td>9</td>\n",
       "      <td>10187</td>\n",
       "      <td>18</td>\n",
       "    </tr>\n",
       "    <tr>\n",
       "      <th>41391</th>\n",
       "      <td>MONDO:0010679</td>\n",
       "      <td>Duchenne muscular dystrophy</td>\n",
       "      <td>3</td>\n",
       "      <td>1913</td>\n",
       "      <td>associated with phenotype</td>\n",
       "      <td>HP:0001635</td>\n",
       "      <td>Congestive heart failure</td>\n",
       "      <td>9</td>\n",
       "      <td>1660</td>\n",
       "      <td>18</td>\n",
       "    </tr>\n",
       "    <tr>\n",
       "      <th>41392</th>\n",
       "      <td>MONDO:0010679</td>\n",
       "      <td>Duchenne muscular dystrophy</td>\n",
       "      <td>3</td>\n",
       "      <td>1913</td>\n",
       "      <td>associated with phenotype</td>\n",
       "      <td>HP:0000750</td>\n",
       "      <td>Delayed speech and language development</td>\n",
       "      <td>9</td>\n",
       "      <td>7722</td>\n",
       "      <td>18</td>\n",
       "    </tr>\n",
       "    <tr>\n",
       "      <th>41393</th>\n",
       "      <td>MONDO:0010679</td>\n",
       "      <td>Duchenne muscular dystrophy</td>\n",
       "      <td>3</td>\n",
       "      <td>1913</td>\n",
       "      <td>associated with phenotype</td>\n",
       "      <td>HP:0003115</td>\n",
       "      <td>Abnormal EKG</td>\n",
       "      <td>9</td>\n",
       "      <td>3941</td>\n",
       "      <td>18</td>\n",
       "    </tr>\n",
       "    <tr>\n",
       "      <th>41394</th>\n",
       "      <td>MONDO:0010679</td>\n",
       "      <td>Duchenne muscular dystrophy</td>\n",
       "      <td>3</td>\n",
       "      <td>1913</td>\n",
       "      <td>associated with phenotype</td>\n",
       "      <td>HP:0011675</td>\n",
       "      <td>Arrhythmia</td>\n",
       "      <td>9</td>\n",
       "      <td>4336</td>\n",
       "      <td>18</td>\n",
       "    </tr>\n",
       "    <tr>\n",
       "      <th>41395</th>\n",
       "      <td>MONDO:0010679</td>\n",
       "      <td>Duchenne muscular dystrophy</td>\n",
       "      <td>3</td>\n",
       "      <td>1913</td>\n",
       "      <td>associated with phenotype</td>\n",
       "      <td>HP:0003391</td>\n",
       "      <td>Gowers sign</td>\n",
       "      <td>9</td>\n",
       "      <td>8594</td>\n",
       "      <td>18</td>\n",
       "    </tr>\n",
       "    <tr>\n",
       "      <th>41397</th>\n",
       "      <td>MONDO:0010679</td>\n",
       "      <td>Duchenne muscular dystrophy</td>\n",
       "      <td>3</td>\n",
       "      <td>1913</td>\n",
       "      <td>associated with phenotype</td>\n",
       "      <td>HP:0002093</td>\n",
       "      <td>Respiratory insufficiency</td>\n",
       "      <td>9</td>\n",
       "      <td>1688</td>\n",
       "      <td>18</td>\n",
       "    </tr>\n",
       "    <tr>\n",
       "      <th>41398</th>\n",
       "      <td>MONDO:0010679</td>\n",
       "      <td>Duchenne muscular dystrophy</td>\n",
       "      <td>3</td>\n",
       "      <td>1913</td>\n",
       "      <td>associated with phenotype</td>\n",
       "      <td>HP:0100543</td>\n",
       "      <td>Cognitive impairment</td>\n",
       "      <td>9</td>\n",
       "      <td>9574</td>\n",
       "      <td>18</td>\n",
       "    </tr>\n",
       "    <tr>\n",
       "      <th>41399</th>\n",
       "      <td>MONDO:0010679</td>\n",
       "      <td>Duchenne muscular dystrophy</td>\n",
       "      <td>3</td>\n",
       "      <td>1913</td>\n",
       "      <td>associated with phenotype</td>\n",
       "      <td>HP:0001644</td>\n",
       "      <td>Dilated cardiomyopathy</td>\n",
       "      <td>9</td>\n",
       "      <td>556</td>\n",
       "      <td>18</td>\n",
       "    </tr>\n",
       "    <tr>\n",
       "      <th>41400</th>\n",
       "      <td>MONDO:0010679</td>\n",
       "      <td>Duchenne muscular dystrophy</td>\n",
       "      <td>3</td>\n",
       "      <td>1913</td>\n",
       "      <td>associated with phenotype</td>\n",
       "      <td>HP:0002515</td>\n",
       "      <td>Waddling gait</td>\n",
       "      <td>9</td>\n",
       "      <td>1474</td>\n",
       "      <td>18</td>\n",
       "    </tr>\n",
       "    <tr>\n",
       "      <th>41401</th>\n",
       "      <td>MONDO:0010679</td>\n",
       "      <td>Duchenne muscular dystrophy</td>\n",
       "      <td>3</td>\n",
       "      <td>1913</td>\n",
       "      <td>associated with phenotype</td>\n",
       "      <td>HP:0001328</td>\n",
       "      <td>Specific learning disability</td>\n",
       "      <td>9</td>\n",
       "      <td>1174</td>\n",
       "      <td>18</td>\n",
       "    </tr>\n",
       "  </tbody>\n",
       "</table>\n",
       "</div>"
      ],
      "text/plain": [
       "                head                   label_head  class_head  index_head  \\\n",
       "41373  MONDO:0010679  Duchenne muscular dystrophy           3        1913   \n",
       "41374  MONDO:0010679  Duchenne muscular dystrophy           3        1913   \n",
       "41375  MONDO:0010679  Duchenne muscular dystrophy           3        1913   \n",
       "41376  MONDO:0010679  Duchenne muscular dystrophy           3        1913   \n",
       "41377  MONDO:0010679  Duchenne muscular dystrophy           3        1913   \n",
       "41378  MONDO:0010679  Duchenne muscular dystrophy           3        1913   \n",
       "41379  MONDO:0010679  Duchenne muscular dystrophy           3        1913   \n",
       "41380  MONDO:0010679  Duchenne muscular dystrophy           3        1913   \n",
       "41381  MONDO:0010679  Duchenne muscular dystrophy           3        1913   \n",
       "41382  MONDO:0010679  Duchenne muscular dystrophy           3        1913   \n",
       "41383  MONDO:0010679  Duchenne muscular dystrophy           3        1913   \n",
       "41384  MONDO:0010679  Duchenne muscular dystrophy           3        1913   \n",
       "41386  MONDO:0010679  Duchenne muscular dystrophy           3        1913   \n",
       "41387  MONDO:0010679  Duchenne muscular dystrophy           3        1913   \n",
       "41388  MONDO:0010679  Duchenne muscular dystrophy           3        1913   \n",
       "41389  MONDO:0010679  Duchenne muscular dystrophy           3        1913   \n",
       "41390  MONDO:0010679  Duchenne muscular dystrophy           3        1913   \n",
       "41391  MONDO:0010679  Duchenne muscular dystrophy           3        1913   \n",
       "41392  MONDO:0010679  Duchenne muscular dystrophy           3        1913   \n",
       "41393  MONDO:0010679  Duchenne muscular dystrophy           3        1913   \n",
       "41394  MONDO:0010679  Duchenne muscular dystrophy           3        1913   \n",
       "41395  MONDO:0010679  Duchenne muscular dystrophy           3        1913   \n",
       "41397  MONDO:0010679  Duchenne muscular dystrophy           3        1913   \n",
       "41398  MONDO:0010679  Duchenne muscular dystrophy           3        1913   \n",
       "41399  MONDO:0010679  Duchenne muscular dystrophy           3        1913   \n",
       "41400  MONDO:0010679  Duchenne muscular dystrophy           3        1913   \n",
       "41401  MONDO:0010679  Duchenne muscular dystrophy           3        1913   \n",
       "\n",
       "                        relation        tail  \\\n",
       "41373  associated with phenotype  HP:0003707   \n",
       "41374  associated with phenotype  HP:0003236   \n",
       "41375  associated with phenotype  HP:0001256   \n",
       "41376  associated with phenotype  HP:0001265   \n",
       "41377  associated with phenotype  HP:0001290   \n",
       "41378  associated with phenotype  HP:0003307   \n",
       "41379  associated with phenotype  HP:0003202   \n",
       "41380  associated with phenotype  HP:0001263   \n",
       "41381  associated with phenotype  HP:0002791   \n",
       "41382  associated with phenotype  HP:0001371   \n",
       "41383  associated with phenotype  HP:0003701   \n",
       "41384  associated with phenotype  HP:0001270   \n",
       "41386  associated with phenotype  HP:0003560   \n",
       "41387  associated with phenotype  HP:0008981   \n",
       "41388  associated with phenotype  HP:0002650   \n",
       "41389  associated with phenotype  HP:0001638   \n",
       "41390  associated with phenotype  HP:0003323   \n",
       "41391  associated with phenotype  HP:0001635   \n",
       "41392  associated with phenotype  HP:0000750   \n",
       "41393  associated with phenotype  HP:0003115   \n",
       "41394  associated with phenotype  HP:0011675   \n",
       "41395  associated with phenotype  HP:0003391   \n",
       "41397  associated with phenotype  HP:0002093   \n",
       "41398  associated with phenotype  HP:0100543   \n",
       "41399  associated with phenotype  HP:0001644   \n",
       "41400  associated with phenotype  HP:0002515   \n",
       "41401  associated with phenotype  HP:0001328   \n",
       "\n",
       "                                    label_tail  class_tail  index_tail  type  \n",
       "41373            Calf muscle pseudohypertrophy           9        5727    18  \n",
       "41374           Elevated serum creatine kinase           9        1351    18  \n",
       "41375            Intellectual disability, mild           9        4533    18  \n",
       "41376                             Hyporeflexia           9        6515    18  \n",
       "41377                    Generalized hypotonia           9        5372    18  \n",
       "41378                            Hyperlordosis           9        2737    18  \n",
       "41379                  Skeletal muscle atrophy           9         788    18  \n",
       "41380               Global developmental delay           9        7259    18  \n",
       "41381                          Hypoventilation           9        1682    18  \n",
       "41382                      Flexion contracture           9        5052    18  \n",
       "41383                 Proximal muscle weakness           9        5762    18  \n",
       "41384                              Motor delay           9        1429    18  \n",
       "41386                       Muscular dystrophy           9         898    18  \n",
       "41387                  Calf muscle hypertrophy           9        4673    18  \n",
       "41388                                Scoliosis           9        4540    18  \n",
       "41389                           Cardiomyopathy           9        3222    18  \n",
       "41390              Progressive muscle weakness           9       10187    18  \n",
       "41391                 Congestive heart failure           9        1660    18  \n",
       "41392  Delayed speech and language development           9        7722    18  \n",
       "41393                             Abnormal EKG           9        3941    18  \n",
       "41394                               Arrhythmia           9        4336    18  \n",
       "41395                              Gowers sign           9        8594    18  \n",
       "41397                Respiratory insufficiency           9        1688    18  \n",
       "41398                     Cognitive impairment           9        9574    18  \n",
       "41399                   Dilated cardiomyopathy           9         556    18  \n",
       "41400                            Waddling gait           9        1474    18  \n",
       "41401             Specific learning disability           9        1174    18  "
      ]
     },
     "execution_count": 37,
     "metadata": {},
     "output_type": "execute_result"
    }
   ],
   "source": [
    "if dataset_nr == 1:\n",
    "    pheno_rel = 'has phenotype'\n",
    "else:\n",
    "    pheno_rel = 'associated with phenotype'\n",
    "\n",
    "disease_ID = 'MONDO:0010679'\n",
    "relation_index = list(relation_labels).index(pheno_rel)\n",
    "\n",
    "symptoms = edges[(edges['head'] == 'MONDO:0010679') & (edges['type'] == relation_index)]\n",
    "\n",
    "print(f'A total of {symptoms.shape[0]} symptoms found that are associated with {disease_ID}')\n",
    "symptoms.head(symptoms.shape[0])"
   ]
  },
  {
   "attachments": {},
   "cell_type": "markdown",
   "metadata": {},
   "source": [
    "Check alignment between dataframes containing the associations and the nodes"
   ]
  },
  {
   "cell_type": "code",
   "execution_count": 38,
   "metadata": {
    "execution": {
     "iopub.execute_input": "2023-11-10T19:12:13.923249Z",
     "iopub.status.busy": "2023-11-10T19:12:13.922276Z",
     "iopub.status.idle": "2023-11-10T19:12:13.933793Z",
     "shell.execute_reply": "2023-11-10T19:12:13.932788Z"
    }
   },
   "outputs": [
    {
     "data": {
      "text/html": [
       "<div>\n",
       "<style scoped>\n",
       "    .dataframe tbody tr th:only-of-type {\n",
       "        vertical-align: middle;\n",
       "    }\n",
       "\n",
       "    .dataframe tbody tr th {\n",
       "        vertical-align: top;\n",
       "    }\n",
       "\n",
       "    .dataframe thead th {\n",
       "        text-align: right;\n",
       "    }\n",
       "</style>\n",
       "<table border=\"1\" class=\"dataframe\">\n",
       "  <thead>\n",
       "    <tr style=\"text-align: right;\">\n",
       "      <th></th>\n",
       "      <th>id</th>\n",
       "      <th>semantic</th>\n",
       "      <th>label</th>\n",
       "      <th>semantic_id</th>\n",
       "    </tr>\n",
       "  </thead>\n",
       "  <tbody>\n",
       "    <tr>\n",
       "      <th>6315</th>\n",
       "      <td>WBPhenotype:0001833</td>\n",
       "      <td>phenotype</td>\n",
       "      <td>membrane trafficking variant</td>\n",
       "      <td>9</td>\n",
       "    </tr>\n",
       "  </tbody>\n",
       "</table>\n",
       "</div>"
      ],
      "text/plain": [
       "                       id   semantic                         label  \\\n",
       "6315  WBPhenotype:0001833  phenotype  membrane trafficking variant   \n",
       "\n",
       "      semantic_id  \n",
       "6315            9  "
      ]
     },
     "execution_count": 38,
     "metadata": {},
     "output_type": "execute_result"
    }
   ],
   "source": [
    "nodes.loc[[6315]]"
   ]
  },
  {
   "cell_type": "markdown",
   "metadata": {},
   "source": [
    "Get list of drugs that appear at least once in the top 3 of suggested drugs for an associated phenotype"
   ]
  },
  {
   "cell_type": "code",
   "execution_count": 39,
   "metadata": {
    "execution": {
     "iopub.execute_input": "2023-11-10T19:12:13.937318Z",
     "iopub.status.busy": "2023-11-10T19:12:13.937318Z",
     "iopub.status.idle": "2023-11-10T19:12:22.646073Z",
     "shell.execute_reply": "2023-11-10T19:12:22.646073Z"
    }
   },
   "outputs": [],
   "source": [
    "def add_drug_candidate(candidates, drug_name):\n",
    "    if drug_name in candidates:\n",
    "        candidates[drug_name] += 1\n",
    "    else:\n",
    "        candidates[drug_name] = 1\n",
    "        \n",
    "    return candidates\n",
    "\n",
    "if dataset_nr == 1:\n",
    "    treats_rel = 'is substance that treats'\n",
    "else:\n",
    "    treats_rel = 'is substance that treats'\n",
    "\n",
    "relation_treats_index = list(relation_labels).index(treats_rel)\n",
    "\n",
    "drug_candidates = {}\n",
    "symptom_drugs = {}\n",
    "symptom_drugs_scores = []\n",
    "\n",
    "for ind, symptom in symptoms.iterrows(): \n",
    "    symptom_id = symptom['tail']\n",
    "    symptom_drugs[symptom_id] = []\n",
    "    \n",
    "    predictions = candidates(nodes, symptom_id, best_x)\n",
    "    \n",
    "    predictions_drugs = predictions[predictions['semantic'] == drug_semantic]\n",
    "    \n",
    "    symptom_treated_by = edges.loc[(edges['tail'] == symptom_id) & (edges['type'] == relation_treats_index)]\n",
    "    \n",
    "    merged_df = pd.merge(predictions_drugs, symptom_treated_by, how='left', left_on='id', right_on='head', indicator=True)\n",
    "    result_df = merged_df[merged_df['_merge'] == 'left_only']\n",
    "    result_df = result_df.drop('_merge', axis=1)\n",
    "    \n",
    "    ordered_predictions = result_df.sort_values(by = ['Score'], ascending = False).head(3)\n",
    "    \n",
    "    for ind, drug in ordered_predictions.iterrows():\n",
    "        symptom_drugs_scores.append({'Symptom': symptom['label_tail'], 'Symptom ID': symptom['tail'], 'Drug Candidate': drug['label'], 'Score': drug['Score'][0]})\n",
    "        \n",
    "        symptom_drugs[symptom_id].append(drug['id'])\n",
    "        drug_candidates = add_drug_candidate(drug_candidates, drug['label'])"
   ]
  },
  {
   "cell_type": "code",
   "execution_count": 40,
   "metadata": {
    "execution": {
     "iopub.execute_input": "2023-11-10T19:12:22.651602Z",
     "iopub.status.busy": "2023-11-10T19:12:22.651602Z",
     "iopub.status.idle": "2023-11-10T19:12:22.678317Z",
     "shell.execute_reply": "2023-11-10T19:12:22.677299Z"
    }
   },
   "outputs": [
    {
     "data": {
      "text/html": [
       "<div>\n",
       "<style scoped>\n",
       "    .dataframe tbody tr th:only-of-type {\n",
       "        vertical-align: middle;\n",
       "    }\n",
       "\n",
       "    .dataframe tbody tr th {\n",
       "        vertical-align: top;\n",
       "    }\n",
       "\n",
       "    .dataframe thead th {\n",
       "        text-align: right;\n",
       "    }\n",
       "</style>\n",
       "<table border=\"1\" class=\"dataframe\">\n",
       "  <thead>\n",
       "    <tr style=\"text-align: right;\">\n",
       "      <th></th>\n",
       "      <th>Symptom</th>\n",
       "      <th>Symptom ID</th>\n",
       "      <th>Drug Candidate</th>\n",
       "      <th>Score</th>\n",
       "    </tr>\n",
       "  </thead>\n",
       "  <tbody>\n",
       "    <tr>\n",
       "      <th>0</th>\n",
       "      <td>Calf muscle pseudohypertrophy</td>\n",
       "      <td>HP:0003707</td>\n",
       "      <td>azathioprine</td>\n",
       "      <td>0.999277</td>\n",
       "    </tr>\n",
       "    <tr>\n",
       "      <th>1</th>\n",
       "      <td>Calf muscle pseudohypertrophy</td>\n",
       "      <td>HP:0003707</td>\n",
       "      <td>brilliant Blue G</td>\n",
       "      <td>0.982724</td>\n",
       "    </tr>\n",
       "    <tr>\n",
       "      <th>2</th>\n",
       "      <td>Calf muscle pseudohypertrophy</td>\n",
       "      <td>HP:0003707</td>\n",
       "      <td>aprindine</td>\n",
       "      <td>0.980523</td>\n",
       "    </tr>\n",
       "    <tr>\n",
       "      <th>3</th>\n",
       "      <td>Elevated serum creatine kinase</td>\n",
       "      <td>HP:0003236</td>\n",
       "      <td>brilliant Blue G</td>\n",
       "      <td>0.997461</td>\n",
       "    </tr>\n",
       "    <tr>\n",
       "      <th>4</th>\n",
       "      <td>Elevated serum creatine kinase</td>\n",
       "      <td>HP:0003236</td>\n",
       "      <td>levosimendan</td>\n",
       "      <td>0.996489</td>\n",
       "    </tr>\n",
       "    <tr>\n",
       "      <th>...</th>\n",
       "      <td>...</td>\n",
       "      <td>...</td>\n",
       "      <td>...</td>\n",
       "      <td>...</td>\n",
       "    </tr>\n",
       "    <tr>\n",
       "      <th>76</th>\n",
       "      <td>Waddling gait</td>\n",
       "      <td>HP:0002515</td>\n",
       "      <td>brilliant Blue G</td>\n",
       "      <td>0.999838</td>\n",
       "    </tr>\n",
       "    <tr>\n",
       "      <th>77</th>\n",
       "      <td>Waddling gait</td>\n",
       "      <td>HP:0002515</td>\n",
       "      <td>mezlocillin</td>\n",
       "      <td>0.996193</td>\n",
       "    </tr>\n",
       "    <tr>\n",
       "      <th>78</th>\n",
       "      <td>Specific learning disability</td>\n",
       "      <td>HP:0001328</td>\n",
       "      <td>azathioprine</td>\n",
       "      <td>0.999897</td>\n",
       "    </tr>\n",
       "    <tr>\n",
       "      <th>79</th>\n",
       "      <td>Specific learning disability</td>\n",
       "      <td>HP:0001328</td>\n",
       "      <td>brilliant Blue G</td>\n",
       "      <td>0.998983</td>\n",
       "    </tr>\n",
       "    <tr>\n",
       "      <th>80</th>\n",
       "      <td>Specific learning disability</td>\n",
       "      <td>HP:0001328</td>\n",
       "      <td>entrectinib</td>\n",
       "      <td>0.992444</td>\n",
       "    </tr>\n",
       "  </tbody>\n",
       "</table>\n",
       "<p>81 rows × 4 columns</p>\n",
       "</div>"
      ],
      "text/plain": [
       "                           Symptom  Symptom ID    Drug Candidate     Score\n",
       "0    Calf muscle pseudohypertrophy  HP:0003707      azathioprine  0.999277\n",
       "1    Calf muscle pseudohypertrophy  HP:0003707  brilliant Blue G  0.982724\n",
       "2    Calf muscle pseudohypertrophy  HP:0003707         aprindine  0.980523\n",
       "3   Elevated serum creatine kinase  HP:0003236  brilliant Blue G  0.997461\n",
       "4   Elevated serum creatine kinase  HP:0003236      levosimendan  0.996489\n",
       "..                             ...         ...               ...       ...\n",
       "76                   Waddling gait  HP:0002515  brilliant Blue G  0.999838\n",
       "77                   Waddling gait  HP:0002515       mezlocillin  0.996193\n",
       "78    Specific learning disability  HP:0001328      azathioprine  0.999897\n",
       "79    Specific learning disability  HP:0001328  brilliant Blue G  0.998983\n",
       "80    Specific learning disability  HP:0001328       entrectinib  0.992444\n",
       "\n",
       "[81 rows x 4 columns]"
      ]
     },
     "execution_count": 40,
     "metadata": {},
     "output_type": "execute_result"
    }
   ],
   "source": [
    "symptom_drugs_scores_df = pd.DataFrame.from_dict(symptom_drugs_scores)\n",
    "symptom_drugs_scores_df.to_pickle(f'{pred_output_dir}/score_per_symptom_drug_pair_{dataset_nr}_{embedding_method}.pkl')\n",
    "\n",
    "symptom_drugs_scores_df"
   ]
  },
  {
   "cell_type": "markdown",
   "metadata": {},
   "source": [
    "Get list of drug candidate ids per relevant symptom id."
   ]
  },
  {
   "cell_type": "code",
   "execution_count": 41,
   "metadata": {
    "execution": {
     "iopub.execute_input": "2023-11-10T19:12:22.683323Z",
     "iopub.status.busy": "2023-11-10T19:12:22.682341Z",
     "iopub.status.idle": "2023-11-10T19:12:22.710341Z",
     "shell.execute_reply": "2023-11-10T19:12:22.708343Z"
    }
   },
   "outputs": [
    {
     "data": {
      "text/html": [
       "<div>\n",
       "<style scoped>\n",
       "    .dataframe tbody tr th:only-of-type {\n",
       "        vertical-align: middle;\n",
       "    }\n",
       "\n",
       "    .dataframe tbody tr th {\n",
       "        vertical-align: top;\n",
       "    }\n",
       "\n",
       "    .dataframe thead th {\n",
       "        text-align: right;\n",
       "    }\n",
       "</style>\n",
       "<table border=\"1\" class=\"dataframe\">\n",
       "  <thead>\n",
       "    <tr style=\"text-align: right;\">\n",
       "      <th></th>\n",
       "      <th>Symptom</th>\n",
       "      <th>Candidates</th>\n",
       "    </tr>\n",
       "  </thead>\n",
       "  <tbody>\n",
       "    <tr>\n",
       "      <th>0</th>\n",
       "      <td>HP:0003707</td>\n",
       "      <td>[269, 5359, 231]</td>\n",
       "    </tr>\n",
       "    <tr>\n",
       "      <th>1</th>\n",
       "      <td>HP:0003236</td>\n",
       "      <td>[5359, 1576, 231]</td>\n",
       "    </tr>\n",
       "    <tr>\n",
       "      <th>2</th>\n",
       "      <td>HP:0001256</td>\n",
       "      <td>[5359, 269, 1795]</td>\n",
       "    </tr>\n",
       "    <tr>\n",
       "      <th>3</th>\n",
       "      <td>HP:0001265</td>\n",
       "      <td>[269, 5359, 1795]</td>\n",
       "    </tr>\n",
       "    <tr>\n",
       "      <th>4</th>\n",
       "      <td>HP:0001290</td>\n",
       "      <td>[269, 5359, 1795]</td>\n",
       "    </tr>\n",
       "    <tr>\n",
       "      <th>5</th>\n",
       "      <td>HP:0003307</td>\n",
       "      <td>[5359, 1576, 269]</td>\n",
       "    </tr>\n",
       "    <tr>\n",
       "      <th>6</th>\n",
       "      <td>HP:0003202</td>\n",
       "      <td>[5359, 269, 231]</td>\n",
       "    </tr>\n",
       "    <tr>\n",
       "      <th>7</th>\n",
       "      <td>HP:0001263</td>\n",
       "      <td>[269, 5359, 1795]</td>\n",
       "    </tr>\n",
       "    <tr>\n",
       "      <th>8</th>\n",
       "      <td>HP:0002791</td>\n",
       "      <td>[269, 5359, 5330]</td>\n",
       "    </tr>\n",
       "    <tr>\n",
       "      <th>9</th>\n",
       "      <td>HP:0001371</td>\n",
       "      <td>[5359, 269, 1795]</td>\n",
       "    </tr>\n",
       "    <tr>\n",
       "      <th>10</th>\n",
       "      <td>HP:0003701</td>\n",
       "      <td>[5359, 269, 1795]</td>\n",
       "    </tr>\n",
       "    <tr>\n",
       "      <th>11</th>\n",
       "      <td>HP:0001270</td>\n",
       "      <td>[269, 5359, 5330]</td>\n",
       "    </tr>\n",
       "    <tr>\n",
       "      <th>12</th>\n",
       "      <td>HP:0003560</td>\n",
       "      <td>[269, 5359, 1795]</td>\n",
       "    </tr>\n",
       "    <tr>\n",
       "      <th>13</th>\n",
       "      <td>HP:0008981</td>\n",
       "      <td>[5359, 269, 1576]</td>\n",
       "    </tr>\n",
       "    <tr>\n",
       "      <th>14</th>\n",
       "      <td>HP:0002650</td>\n",
       "      <td>[269, 5359, 4682]</td>\n",
       "    </tr>\n",
       "    <tr>\n",
       "      <th>15</th>\n",
       "      <td>HP:0001638</td>\n",
       "      <td>[1576, 231, 5359]</td>\n",
       "    </tr>\n",
       "    <tr>\n",
       "      <th>16</th>\n",
       "      <td>HP:0003323</td>\n",
       "      <td>[176, 1576, 73]</td>\n",
       "    </tr>\n",
       "    <tr>\n",
       "      <th>17</th>\n",
       "      <td>HP:0001635</td>\n",
       "      <td>[231, 176, 5359]</td>\n",
       "    </tr>\n",
       "    <tr>\n",
       "      <th>18</th>\n",
       "      <td>HP:0000750</td>\n",
       "      <td>[5359, 269, 4225]</td>\n",
       "    </tr>\n",
       "    <tr>\n",
       "      <th>19</th>\n",
       "      <td>HP:0003115</td>\n",
       "      <td>[1576, 2774, 812]</td>\n",
       "    </tr>\n",
       "    <tr>\n",
       "      <th>20</th>\n",
       "      <td>HP:0011675</td>\n",
       "      <td>[1576, 5359, 926]</td>\n",
       "    </tr>\n",
       "    <tr>\n",
       "      <th>21</th>\n",
       "      <td>HP:0003391</td>\n",
       "      <td>[269, 5359, 5330]</td>\n",
       "    </tr>\n",
       "    <tr>\n",
       "      <th>22</th>\n",
       "      <td>HP:0002093</td>\n",
       "      <td>[1795, 4682, 4119]</td>\n",
       "    </tr>\n",
       "    <tr>\n",
       "      <th>23</th>\n",
       "      <td>HP:0100543</td>\n",
       "      <td>[5359, 269, 1795]</td>\n",
       "    </tr>\n",
       "    <tr>\n",
       "      <th>24</th>\n",
       "      <td>HP:0001644</td>\n",
       "      <td>[1576, 231, 5359]</td>\n",
       "    </tr>\n",
       "    <tr>\n",
       "      <th>25</th>\n",
       "      <td>HP:0002515</td>\n",
       "      <td>[269, 5359, 1795]</td>\n",
       "    </tr>\n",
       "    <tr>\n",
       "      <th>26</th>\n",
       "      <td>HP:0001328</td>\n",
       "      <td>[269, 5359, 5345]</td>\n",
       "    </tr>\n",
       "  </tbody>\n",
       "</table>\n",
       "</div>"
      ],
      "text/plain": [
       "       Symptom          Candidates\n",
       "0   HP:0003707    [269, 5359, 231]\n",
       "1   HP:0003236   [5359, 1576, 231]\n",
       "2   HP:0001256   [5359, 269, 1795]\n",
       "3   HP:0001265   [269, 5359, 1795]\n",
       "4   HP:0001290   [269, 5359, 1795]\n",
       "5   HP:0003307   [5359, 1576, 269]\n",
       "6   HP:0003202    [5359, 269, 231]\n",
       "7   HP:0001263   [269, 5359, 1795]\n",
       "8   HP:0002791   [269, 5359, 5330]\n",
       "9   HP:0001371   [5359, 269, 1795]\n",
       "10  HP:0003701   [5359, 269, 1795]\n",
       "11  HP:0001270   [269, 5359, 5330]\n",
       "12  HP:0003560   [269, 5359, 1795]\n",
       "13  HP:0008981   [5359, 269, 1576]\n",
       "14  HP:0002650   [269, 5359, 4682]\n",
       "15  HP:0001638   [1576, 231, 5359]\n",
       "16  HP:0003323     [176, 1576, 73]\n",
       "17  HP:0001635    [231, 176, 5359]\n",
       "18  HP:0000750   [5359, 269, 4225]\n",
       "19  HP:0003115   [1576, 2774, 812]\n",
       "20  HP:0011675   [1576, 5359, 926]\n",
       "21  HP:0003391   [269, 5359, 5330]\n",
       "22  HP:0002093  [1795, 4682, 4119]\n",
       "23  HP:0100543   [5359, 269, 1795]\n",
       "24  HP:0001644   [1576, 231, 5359]\n",
       "25  HP:0002515   [269, 5359, 1795]\n",
       "26  HP:0001328   [269, 5359, 5345]"
      ]
     },
     "execution_count": 41,
     "metadata": {},
     "output_type": "execute_result"
    }
   ],
   "source": [
    "symptom_drugs_df_dict = {\n",
    "    'Symptom': [],\n",
    "    'Candidates': [] \n",
    "}\n",
    "for key, val in symptom_drugs.items():\n",
    "    symptom_drugs_df_dict['Symptom'].append(key)\n",
    "    symptom_drugs_df_dict['Candidates'].append(val)\n",
    "    \n",
    "symptom_drugs_df = pd.DataFrame.from_dict(symptom_drugs_df_dict)\n",
    "symptom_drugs_df.to_pickle(f'{pred_output_dir}/candidates_per_symptom_{dataset_nr}_{embedding_method}.pkl')\n",
    "\n",
    "symptom_drugs_df"
   ]
  },
  {
   "cell_type": "markdown",
   "metadata": {},
   "source": [
    "Save dataframe as csv file with all drugs and their total of appearances as a candidate for one or more relevant symptoms."
   ]
  },
  {
   "cell_type": "code",
   "execution_count": 42,
   "metadata": {
    "execution": {
     "iopub.execute_input": "2023-11-10T19:12:22.714352Z",
     "iopub.status.busy": "2023-11-10T19:12:22.714352Z",
     "iopub.status.idle": "2023-11-10T19:12:22.740343Z",
     "shell.execute_reply": "2023-11-10T19:12:22.739365Z"
    }
   },
   "outputs": [
    {
     "data": {
      "text/html": [
       "<div>\n",
       "<style scoped>\n",
       "    .dataframe tbody tr th:only-of-type {\n",
       "        vertical-align: middle;\n",
       "    }\n",
       "\n",
       "    .dataframe tbody tr th {\n",
       "        vertical-align: top;\n",
       "    }\n",
       "\n",
       "    .dataframe thead th {\n",
       "        text-align: right;\n",
       "    }\n",
       "</style>\n",
       "<table border=\"1\" class=\"dataframe\">\n",
       "  <thead>\n",
       "    <tr style=\"text-align: right;\">\n",
       "      <th></th>\n",
       "      <th>Drug</th>\n",
       "      <th>Appearances</th>\n",
       "      <th>Percentage</th>\n",
       "    </tr>\n",
       "  </thead>\n",
       "  <tbody>\n",
       "    <tr>\n",
       "      <th>1</th>\n",
       "      <td>brilliant Blue G</td>\n",
       "      <td>24</td>\n",
       "      <td>88.89%</td>\n",
       "    </tr>\n",
       "    <tr>\n",
       "      <th>0</th>\n",
       "      <td>azathioprine</td>\n",
       "      <td>19</td>\n",
       "      <td>70.37%</td>\n",
       "    </tr>\n",
       "    <tr>\n",
       "      <th>4</th>\n",
       "      <td>mezlocillin</td>\n",
       "      <td>10</td>\n",
       "      <td>37.04%</td>\n",
       "    </tr>\n",
       "    <tr>\n",
       "      <th>3</th>\n",
       "      <td>levosimendan</td>\n",
       "      <td>8</td>\n",
       "      <td>29.63%</td>\n",
       "    </tr>\n",
       "    <tr>\n",
       "      <th>2</th>\n",
       "      <td>aprindine</td>\n",
       "      <td>6</td>\n",
       "      <td>22.22%</td>\n",
       "    </tr>\n",
       "    <tr>\n",
       "      <th>5</th>\n",
       "      <td>selinexor</td>\n",
       "      <td>3</td>\n",
       "      <td>11.11%</td>\n",
       "    </tr>\n",
       "    <tr>\n",
       "      <th>6</th>\n",
       "      <td>panobinostat</td>\n",
       "      <td>2</td>\n",
       "      <td>7.41%</td>\n",
       "    </tr>\n",
       "    <tr>\n",
       "      <th>7</th>\n",
       "      <td>amiodarone</td>\n",
       "      <td>2</td>\n",
       "      <td>7.41%</td>\n",
       "    </tr>\n",
       "    <tr>\n",
       "      <th>8</th>\n",
       "      <td>acepromazine</td>\n",
       "      <td>1</td>\n",
       "      <td>3.70%</td>\n",
       "    </tr>\n",
       "    <tr>\n",
       "      <th>9</th>\n",
       "      <td>axitinib</td>\n",
       "      <td>1</td>\n",
       "      <td>3.70%</td>\n",
       "    </tr>\n",
       "    <tr>\n",
       "      <th>10</th>\n",
       "      <td>tropicamide</td>\n",
       "      <td>1</td>\n",
       "      <td>3.70%</td>\n",
       "    </tr>\n",
       "    <tr>\n",
       "      <th>11</th>\n",
       "      <td>desipramine</td>\n",
       "      <td>1</td>\n",
       "      <td>3.70%</td>\n",
       "    </tr>\n",
       "    <tr>\n",
       "      <th>12</th>\n",
       "      <td>disopyramide</td>\n",
       "      <td>1</td>\n",
       "      <td>3.70%</td>\n",
       "    </tr>\n",
       "    <tr>\n",
       "      <th>13</th>\n",
       "      <td>romidepsin</td>\n",
       "      <td>1</td>\n",
       "      <td>3.70%</td>\n",
       "    </tr>\n",
       "    <tr>\n",
       "      <th>14</th>\n",
       "      <td>entrectinib</td>\n",
       "      <td>1</td>\n",
       "      <td>3.70%</td>\n",
       "    </tr>\n",
       "  </tbody>\n",
       "</table>\n",
       "</div>"
      ],
      "text/plain": [
       "                Drug  Appearances Percentage\n",
       "1   brilliant Blue G           24     88.89%\n",
       "0       azathioprine           19     70.37%\n",
       "4        mezlocillin           10     37.04%\n",
       "3       levosimendan            8     29.63%\n",
       "2          aprindine            6     22.22%\n",
       "5          selinexor            3     11.11%\n",
       "6       panobinostat            2      7.41%\n",
       "7         amiodarone            2      7.41%\n",
       "8       acepromazine            1      3.70%\n",
       "9           axitinib            1      3.70%\n",
       "10       tropicamide            1      3.70%\n",
       "11       desipramine            1      3.70%\n",
       "12      disopyramide            1      3.70%\n",
       "13        romidepsin            1      3.70%\n",
       "14       entrectinib            1      3.70%"
      ]
     },
     "execution_count": 42,
     "metadata": {},
     "output_type": "execute_result"
    }
   ],
   "source": [
    "drug_candidate_df_dict = {\n",
    "    'Drug': [],\n",
    "    'Appearances': [],\n",
    "    'Percentage': []\n",
    "}\n",
    "for key, val in drug_candidates.items():\n",
    "    drug_candidate_df_dict['Drug'].append(key)\n",
    "    drug_candidate_df_dict['Appearances'].append(val)\n",
    "    drug_candidate_df_dict['Percentage'].append(val/symptoms.shape[0]*100)\n",
    "    \n",
    "drug_candidates_df = pd.DataFrame.from_dict(drug_candidate_df_dict)\n",
    "drug_candidates_df['Percentage'] = drug_candidates_df['Percentage'].transform(lambda x: '{:,.2f}%'.format(x))\n",
    "drug_candidates_df = drug_candidates_df.sort_values(by = ['Appearances'], ascending = False)\n",
    "\n",
    "drug_candidates_df.to_pickle(f'{pred_output_dir}/drug_candidates_{dataset_nr}_{embedding_method}.pkl')\n",
    "\n",
    "drug_candidates_df"
   ]
  },
  {
   "attachments": {},
   "cell_type": "markdown",
   "metadata": {},
   "source": [
    "## Component Analysis"
   ]
  },
  {
   "cell_type": "code",
   "execution_count": 43,
   "metadata": {
    "execution": {
     "iopub.execute_input": "2023-11-10T19:12:22.745337Z",
     "iopub.status.busy": "2023-11-10T19:12:22.743497Z",
     "iopub.status.idle": "2023-11-10T19:12:22.756446Z",
     "shell.execute_reply": "2023-11-10T19:12:22.755432Z"
    }
   },
   "outputs": [],
   "source": [
    "X_data = best_x.detach().cpu().numpy()\n",
    "np.save(f'{pred_output_dir}/trained_node_embeddings_{dataset_nr}_{embedding_method}.npy', X_data)"
   ]
  },
  {
   "cell_type": "code",
   "execution_count": 44,
   "metadata": {
    "execution": {
     "iopub.execute_input": "2023-11-10T19:12:22.759987Z",
     "iopub.status.busy": "2023-11-10T19:12:22.759987Z",
     "iopub.status.idle": "2023-11-10T19:12:22.788435Z",
     "shell.execute_reply": "2023-11-10T19:12:22.787418Z"
    }
   },
   "outputs": [],
   "source": [
    "z = StandardScaler().fit_transform(X_data)"
   ]
  },
  {
   "attachments": {},
   "cell_type": "markdown",
   "metadata": {},
   "source": [
    "### PCA"
   ]
  },
  {
   "cell_type": "code",
   "execution_count": 45,
   "metadata": {
    "execution": {
     "iopub.execute_input": "2023-11-10T19:12:22.792437Z",
     "iopub.status.busy": "2023-11-10T19:12:22.792437Z",
     "iopub.status.idle": "2023-11-10T19:12:22.865654Z",
     "shell.execute_reply": "2023-11-10T19:12:22.864691Z"
    }
   },
   "outputs": [
    {
     "data": {
      "text/html": [
       "<div>\n",
       "<style scoped>\n",
       "    .dataframe tbody tr th:only-of-type {\n",
       "        vertical-align: middle;\n",
       "    }\n",
       "\n",
       "    .dataframe tbody tr th {\n",
       "        vertical-align: top;\n",
       "    }\n",
       "\n",
       "    .dataframe thead th {\n",
       "        text-align: right;\n",
       "    }\n",
       "</style>\n",
       "<table border=\"1\" class=\"dataframe\">\n",
       "  <thead>\n",
       "    <tr style=\"text-align: right;\">\n",
       "      <th></th>\n",
       "      <th>principal component 1</th>\n",
       "      <th>principal component 2</th>\n",
       "    </tr>\n",
       "  </thead>\n",
       "  <tbody>\n",
       "    <tr>\n",
       "      <th>0</th>\n",
       "      <td>1.712900</td>\n",
       "      <td>-0.914128</td>\n",
       "    </tr>\n",
       "    <tr>\n",
       "      <th>1</th>\n",
       "      <td>3.476570</td>\n",
       "      <td>-0.820690</td>\n",
       "    </tr>\n",
       "    <tr>\n",
       "      <th>2</th>\n",
       "      <td>-2.739732</td>\n",
       "      <td>0.918549</td>\n",
       "    </tr>\n",
       "    <tr>\n",
       "      <th>3</th>\n",
       "      <td>-0.551095</td>\n",
       "      <td>2.181924</td>\n",
       "    </tr>\n",
       "    <tr>\n",
       "      <th>4</th>\n",
       "      <td>-2.115329</td>\n",
       "      <td>-0.335137</td>\n",
       "    </tr>\n",
       "    <tr>\n",
       "      <th>...</th>\n",
       "      <td>...</td>\n",
       "      <td>...</td>\n",
       "    </tr>\n",
       "    <tr>\n",
       "      <th>10270</th>\n",
       "      <td>-1.472954</td>\n",
       "      <td>-0.675107</td>\n",
       "    </tr>\n",
       "    <tr>\n",
       "      <th>10271</th>\n",
       "      <td>-1.337881</td>\n",
       "      <td>-0.025990</td>\n",
       "    </tr>\n",
       "    <tr>\n",
       "      <th>10272</th>\n",
       "      <td>-0.412926</td>\n",
       "      <td>-1.409044</td>\n",
       "    </tr>\n",
       "    <tr>\n",
       "      <th>10273</th>\n",
       "      <td>0.299089</td>\n",
       "      <td>0.274692</td>\n",
       "    </tr>\n",
       "    <tr>\n",
       "      <th>10274</th>\n",
       "      <td>0.720268</td>\n",
       "      <td>0.296366</td>\n",
       "    </tr>\n",
       "  </tbody>\n",
       "</table>\n",
       "<p>10275 rows × 2 columns</p>\n",
       "</div>"
      ],
      "text/plain": [
       "       principal component 1  principal component 2\n",
       "0                   1.712900              -0.914128\n",
       "1                   3.476570              -0.820690\n",
       "2                  -2.739732               0.918549\n",
       "3                  -0.551095               2.181924\n",
       "4                  -2.115329              -0.335137\n",
       "...                      ...                    ...\n",
       "10270              -1.472954              -0.675107\n",
       "10271              -1.337881              -0.025990\n",
       "10272              -0.412926              -1.409044\n",
       "10273               0.299089               0.274692\n",
       "10274               0.720268               0.296366\n",
       "\n",
       "[10275 rows x 2 columns]"
      ]
     },
     "execution_count": 45,
     "metadata": {},
     "output_type": "execute_result"
    }
   ],
   "source": [
    "pca = PCA(n_components=32)\n",
    "princ_comp = pca.fit_transform(z)\n",
    "princ_df = pd.DataFrame(data=princ_comp[:, [0,1]], columns=['principal component 1', 'principal component 2'])\n",
    "princ_df"
   ]
  },
  {
   "attachments": {},
   "cell_type": "markdown",
   "metadata": {},
   "source": [
    "Based on plot below, choose the number of components for PCA analysis yielding an amount of variance close to 1.0."
   ]
  },
  {
   "cell_type": "code",
   "execution_count": 46,
   "metadata": {
    "execution": {
     "iopub.execute_input": "2023-11-10T19:12:22.870822Z",
     "iopub.status.busy": "2023-11-10T19:12:22.869813Z",
     "iopub.status.idle": "2023-11-10T19:12:23.005395Z",
     "shell.execute_reply": "2023-11-10T19:12:23.004405Z"
    }
   },
   "outputs": [
    {
     "data": {
      "image/png": "[encoded data removed]",
      "text/plain": [
       "<Figure size 640x480 with 1 Axes>"
      ]
     },
     "metadata": {},
     "output_type": "display_data"
    }
   ],
   "source": [
    "plt.plot(np.cumsum(pca.explained_variance_ratio_))\n",
    "plt.xlabel('number of components')\n",
    "plt.ylabel('cumulative explained variance')\n",
    "plt.show()"
   ]
  },
  {
   "cell_type": "code",
   "execution_count": 47,
   "metadata": {
    "execution": {
     "iopub.execute_input": "2023-11-10T19:12:23.008922Z",
     "iopub.status.busy": "2023-11-10T19:12:23.007898Z",
     "iopub.status.idle": "2023-11-10T19:12:23.020520Z",
     "shell.execute_reply": "2023-11-10T19:12:23.019499Z"
    }
   },
   "outputs": [
    {
     "data": {
      "text/html": [
       "<div>\n",
       "<style scoped>\n",
       "    .dataframe tbody tr th:only-of-type {\n",
       "        vertical-align: middle;\n",
       "    }\n",
       "\n",
       "    .dataframe tbody tr th {\n",
       "        vertical-align: top;\n",
       "    }\n",
       "\n",
       "    .dataframe thead th {\n",
       "        text-align: right;\n",
       "    }\n",
       "</style>\n",
       "<table border=\"1\" class=\"dataframe\">\n",
       "  <thead>\n",
       "    <tr style=\"text-align: right;\">\n",
       "      <th></th>\n",
       "      <th>principal component 1</th>\n",
       "      <th>principal component 2</th>\n",
       "      <th>semantic</th>\n",
       "    </tr>\n",
       "  </thead>\n",
       "  <tbody>\n",
       "    <tr>\n",
       "      <th>0</th>\n",
       "      <td>1.712900</td>\n",
       "      <td>-0.914128</td>\n",
       "      <td>phenotype</td>\n",
       "    </tr>\n",
       "    <tr>\n",
       "      <th>1</th>\n",
       "      <td>3.476570</td>\n",
       "      <td>-0.820690</td>\n",
       "      <td>phenotype</td>\n",
       "    </tr>\n",
       "    <tr>\n",
       "      <th>2</th>\n",
       "      <td>-2.739732</td>\n",
       "      <td>0.918549</td>\n",
       "      <td>gene</td>\n",
       "    </tr>\n",
       "    <tr>\n",
       "      <th>3</th>\n",
       "      <td>-0.551095</td>\n",
       "      <td>2.181924</td>\n",
       "      <td>variant</td>\n",
       "    </tr>\n",
       "    <tr>\n",
       "      <th>4</th>\n",
       "      <td>-2.115329</td>\n",
       "      <td>-0.335137</td>\n",
       "      <td>phenotype</td>\n",
       "    </tr>\n",
       "    <tr>\n",
       "      <th>...</th>\n",
       "      <td>...</td>\n",
       "      <td>...</td>\n",
       "      <td>...</td>\n",
       "    </tr>\n",
       "    <tr>\n",
       "      <th>10270</th>\n",
       "      <td>-1.472954</td>\n",
       "      <td>-0.675107</td>\n",
       "      <td>phenotype</td>\n",
       "    </tr>\n",
       "    <tr>\n",
       "      <th>10271</th>\n",
       "      <td>-1.337881</td>\n",
       "      <td>-0.025990</td>\n",
       "      <td>gene</td>\n",
       "    </tr>\n",
       "    <tr>\n",
       "      <th>10272</th>\n",
       "      <td>-0.412926</td>\n",
       "      <td>-1.409044</td>\n",
       "      <td>gene</td>\n",
       "    </tr>\n",
       "    <tr>\n",
       "      <th>10273</th>\n",
       "      <td>0.299089</td>\n",
       "      <td>0.274692</td>\n",
       "      <td>gene</td>\n",
       "    </tr>\n",
       "    <tr>\n",
       "      <th>10274</th>\n",
       "      <td>0.720268</td>\n",
       "      <td>0.296366</td>\n",
       "      <td>phenotype</td>\n",
       "    </tr>\n",
       "  </tbody>\n",
       "</table>\n",
       "<p>10275 rows × 3 columns</p>\n",
       "</div>"
      ],
      "text/plain": [
       "       principal component 1  principal component 2   semantic\n",
       "0                   1.712900              -0.914128  phenotype\n",
       "1                   3.476570              -0.820690  phenotype\n",
       "2                  -2.739732               0.918549       gene\n",
       "3                  -0.551095               2.181924    variant\n",
       "4                  -2.115329              -0.335137  phenotype\n",
       "...                      ...                    ...        ...\n",
       "10270              -1.472954              -0.675107  phenotype\n",
       "10271              -1.337881              -0.025990       gene\n",
       "10272              -0.412926              -1.409044       gene\n",
       "10273               0.299089               0.274692       gene\n",
       "10274               0.720268               0.296366  phenotype\n",
       "\n",
       "[10275 rows x 3 columns]"
      ]
     },
     "execution_count": 47,
     "metadata": {},
     "output_type": "execute_result"
    }
   ],
   "source": [
    "pca_df = pd.concat([princ_df, nodes[['semantic']]], axis=1)\n",
    "pca_df"
   ]
  },
  {
   "cell_type": "code",
   "execution_count": 48,
   "metadata": {
    "execution": {
     "iopub.execute_input": "2023-11-10T19:12:23.024521Z",
     "iopub.status.busy": "2023-11-10T19:12:23.023519Z",
     "iopub.status.idle": "2023-11-10T19:12:23.735729Z",
     "shell.execute_reply": "2023-11-10T19:12:23.734730Z"
    }
   },
   "outputs": [
    {
     "data": {
      "image/png": "[encoded data removed]",
      "text/plain": [
       "<Figure size 800x800 with 1 Axes>"
      ]
     },
     "metadata": {},
     "output_type": "display_data"
    }
   ],
   "source": [
    "fig = plt.figure(figsize = (8,8))\n",
    "ax = fig.add_subplot(1, 1, 1)\n",
    "ax.set_xlabel('Principal Component 1', fontsize = 15)\n",
    "ax.set_ylabel('Principal Component 2', fontsize = 15)\n",
    "ax.set_title(f'Two components from 32-PCA on dataset {dataset_nr} with method {embedding_method}', fontsize = 16)\n",
    "\n",
    "unique_node_semantics = list(node_semantic_dict.values())\n",
    "colors = ['silver', 'indianred', 'peru', 'gold', 'olivedrab', 'cadetblue', 'skyblue', 'steelblue', 'royalblue', 'mediumpurple', 'palevioletred', 'lightpink']\n",
    "\n",
    "for target, color in zip(unique_node_semantics, colors):\n",
    "    indicesToKeep = pca_df['semantic'] == target\n",
    "    ax.scatter(pca_df.loc[indicesToKeep, 'principal component 1'], pca_df.loc[indicesToKeep, 'principal component 2'], c = color, s = 50)\n",
    "    \n",
    "ax.legend(unique_node_semantics)\n",
    "ax.grid()\n",
    "\n",
    "plt.show()"
   ]
  },
  {
   "attachments": {},
   "cell_type": "markdown",
   "metadata": {},
   "source": [
    "### t-SNE"
   ]
  },
  {
   "cell_type": "code",
   "execution_count": 49,
   "metadata": {
    "execution": {
     "iopub.execute_input": "2023-11-10T19:12:23.740247Z",
     "iopub.status.busy": "2023-11-10T19:12:23.739260Z",
     "iopub.status.idle": "2023-11-10T19:12:53.736083Z",
     "shell.execute_reply": "2023-11-10T19:12:53.735082Z"
    }
   },
   "outputs": [],
   "source": [
    "X_tsne = TSNE(learning_rate=100, perplexity=40).fit_transform(X_data)"
   ]
  },
  {
   "cell_type": "code",
   "execution_count": 50,
   "metadata": {
    "execution": {
     "iopub.execute_input": "2023-11-10T19:12:53.740593Z",
     "iopub.status.busy": "2023-11-10T19:12:53.739593Z",
     "iopub.status.idle": "2023-11-10T19:12:53.752107Z",
     "shell.execute_reply": "2023-11-10T19:12:53.751110Z"
    }
   },
   "outputs": [
    {
     "data": {
      "text/html": [
       "<div>\n",
       "<style scoped>\n",
       "    .dataframe tbody tr th:only-of-type {\n",
       "        vertical-align: middle;\n",
       "    }\n",
       "\n",
       "    .dataframe tbody tr th {\n",
       "        vertical-align: top;\n",
       "    }\n",
       "\n",
       "    .dataframe thead th {\n",
       "        text-align: right;\n",
       "    }\n",
       "</style>\n",
       "<table border=\"1\" class=\"dataframe\">\n",
       "  <thead>\n",
       "    <tr style=\"text-align: right;\">\n",
       "      <th></th>\n",
       "      <th>t-SNE 1</th>\n",
       "      <th>t-SNE 2</th>\n",
       "    </tr>\n",
       "  </thead>\n",
       "  <tbody>\n",
       "    <tr>\n",
       "      <th>0</th>\n",
       "      <td>-62.659801</td>\n",
       "      <td>6.921517</td>\n",
       "    </tr>\n",
       "    <tr>\n",
       "      <th>1</th>\n",
       "      <td>56.273067</td>\n",
       "      <td>-5.003350</td>\n",
       "    </tr>\n",
       "    <tr>\n",
       "      <th>2</th>\n",
       "      <td>-50.522663</td>\n",
       "      <td>49.207729</td>\n",
       "    </tr>\n",
       "    <tr>\n",
       "      <th>3</th>\n",
       "      <td>17.269070</td>\n",
       "      <td>56.708881</td>\n",
       "    </tr>\n",
       "    <tr>\n",
       "      <th>4</th>\n",
       "      <td>-0.486472</td>\n",
       "      <td>-20.842777</td>\n",
       "    </tr>\n",
       "    <tr>\n",
       "      <th>...</th>\n",
       "      <td>...</td>\n",
       "      <td>...</td>\n",
       "    </tr>\n",
       "    <tr>\n",
       "      <th>10270</th>\n",
       "      <td>-66.895004</td>\n",
       "      <td>-12.515274</td>\n",
       "    </tr>\n",
       "    <tr>\n",
       "      <th>10271</th>\n",
       "      <td>-9.799498</td>\n",
       "      <td>55.401249</td>\n",
       "    </tr>\n",
       "    <tr>\n",
       "      <th>10272</th>\n",
       "      <td>-39.962292</td>\n",
       "      <td>31.775364</td>\n",
       "    </tr>\n",
       "    <tr>\n",
       "      <th>10273</th>\n",
       "      <td>-39.065815</td>\n",
       "      <td>24.821154</td>\n",
       "    </tr>\n",
       "    <tr>\n",
       "      <th>10274</th>\n",
       "      <td>-12.178032</td>\n",
       "      <td>-46.960270</td>\n",
       "    </tr>\n",
       "  </tbody>\n",
       "</table>\n",
       "<p>10275 rows × 2 columns</p>\n",
       "</div>"
      ],
      "text/plain": [
       "         t-SNE 1    t-SNE 2\n",
       "0     -62.659801   6.921517\n",
       "1      56.273067  -5.003350\n",
       "2     -50.522663  49.207729\n",
       "3      17.269070  56.708881\n",
       "4      -0.486472 -20.842777\n",
       "...          ...        ...\n",
       "10270 -66.895004 -12.515274\n",
       "10271  -9.799498  55.401249\n",
       "10272 -39.962292  31.775364\n",
       "10273 -39.065815  24.821154\n",
       "10274 -12.178032 -46.960270\n",
       "\n",
       "[10275 rows x 2 columns]"
      ]
     },
     "execution_count": 50,
     "metadata": {},
     "output_type": "execute_result"
    }
   ],
   "source": [
    "comp_tsne = pd.DataFrame(data=X_tsne, columns=['t-SNE 1', 't-SNE 2'])\n",
    "comp_tsne"
   ]
  },
  {
   "cell_type": "code",
   "execution_count": 51,
   "metadata": {
    "execution": {
     "iopub.execute_input": "2023-11-10T19:12:53.755106Z",
     "iopub.status.busy": "2023-11-10T19:12:53.755106Z",
     "iopub.status.idle": "2023-11-10T19:12:53.783644Z",
     "shell.execute_reply": "2023-11-10T19:12:53.782641Z"
    }
   },
   "outputs": [
    {
     "data": {
      "text/html": [
       "<div>\n",
       "<style scoped>\n",
       "    .dataframe tbody tr th:only-of-type {\n",
       "        vertical-align: middle;\n",
       "    }\n",
       "\n",
       "    .dataframe tbody tr th {\n",
       "        vertical-align: top;\n",
       "    }\n",
       "\n",
       "    .dataframe thead th {\n",
       "        text-align: right;\n",
       "    }\n",
       "</style>\n",
       "<table border=\"1\" class=\"dataframe\">\n",
       "  <thead>\n",
       "    <tr style=\"text-align: right;\">\n",
       "      <th></th>\n",
       "      <th>t-SNE 1</th>\n",
       "      <th>t-SNE 2</th>\n",
       "      <th>semantic</th>\n",
       "    </tr>\n",
       "  </thead>\n",
       "  <tbody>\n",
       "    <tr>\n",
       "      <th>0</th>\n",
       "      <td>-62.659801</td>\n",
       "      <td>6.921517</td>\n",
       "      <td>phenotype</td>\n",
       "    </tr>\n",
       "    <tr>\n",
       "      <th>1</th>\n",
       "      <td>56.273067</td>\n",
       "      <td>-5.003350</td>\n",
       "      <td>phenotype</td>\n",
       "    </tr>\n",
       "    <tr>\n",
       "      <th>2</th>\n",
       "      <td>-50.522663</td>\n",
       "      <td>49.207729</td>\n",
       "      <td>gene</td>\n",
       "    </tr>\n",
       "    <tr>\n",
       "      <th>3</th>\n",
       "      <td>17.269070</td>\n",
       "      <td>56.708881</td>\n",
       "      <td>variant</td>\n",
       "    </tr>\n",
       "    <tr>\n",
       "      <th>4</th>\n",
       "      <td>-0.486472</td>\n",
       "      <td>-20.842777</td>\n",
       "      <td>phenotype</td>\n",
       "    </tr>\n",
       "    <tr>\n",
       "      <th>...</th>\n",
       "      <td>...</td>\n",
       "      <td>...</td>\n",
       "      <td>...</td>\n",
       "    </tr>\n",
       "    <tr>\n",
       "      <th>10270</th>\n",
       "      <td>-66.895004</td>\n",
       "      <td>-12.515274</td>\n",
       "      <td>phenotype</td>\n",
       "    </tr>\n",
       "    <tr>\n",
       "      <th>10271</th>\n",
       "      <td>-9.799498</td>\n",
       "      <td>55.401249</td>\n",
       "      <td>gene</td>\n",
       "    </tr>\n",
       "    <tr>\n",
       "      <th>10272</th>\n",
       "      <td>-39.962292</td>\n",
       "      <td>31.775364</td>\n",
       "      <td>gene</td>\n",
       "    </tr>\n",
       "    <tr>\n",
       "      <th>10273</th>\n",
       "      <td>-39.065815</td>\n",
       "      <td>24.821154</td>\n",
       "      <td>gene</td>\n",
       "    </tr>\n",
       "    <tr>\n",
       "      <th>10274</th>\n",
       "      <td>-12.178032</td>\n",
       "      <td>-46.960270</td>\n",
       "      <td>phenotype</td>\n",
       "    </tr>\n",
       "  </tbody>\n",
       "</table>\n",
       "<p>10275 rows × 3 columns</p>\n",
       "</div>"
      ],
      "text/plain": [
       "         t-SNE 1    t-SNE 2   semantic\n",
       "0     -62.659801   6.921517  phenotype\n",
       "1      56.273067  -5.003350  phenotype\n",
       "2     -50.522663  49.207729       gene\n",
       "3      17.269070  56.708881    variant\n",
       "4      -0.486472 -20.842777  phenotype\n",
       "...          ...        ...        ...\n",
       "10270 -66.895004 -12.515274  phenotype\n",
       "10271  -9.799498  55.401249       gene\n",
       "10272 -39.962292  31.775364       gene\n",
       "10273 -39.065815  24.821154       gene\n",
       "10274 -12.178032 -46.960270  phenotype\n",
       "\n",
       "[10275 rows x 3 columns]"
      ]
     },
     "execution_count": 51,
     "metadata": {},
     "output_type": "execute_result"
    }
   ],
   "source": [
    "tsne_df = pd.concat([comp_tsne, nodes[['semantic']]], axis=1)\n",
    "tsne_df"
   ]
  },
  {
   "cell_type": "code",
   "execution_count": 52,
   "metadata": {
    "execution": {
     "iopub.execute_input": "2023-11-10T19:12:53.787144Z",
     "iopub.status.busy": "2023-11-10T19:12:53.787144Z",
     "iopub.status.idle": "2023-11-10T19:12:54.517560Z",
     "shell.execute_reply": "2023-11-10T19:12:54.515869Z"
    }
   },
   "outputs": [
    {
     "data": {
      "image/png": "[encoded data removed]",
      "text/plain": [
       "<Figure size 800x800 with 1 Axes>"
      ]
     },
     "metadata": {},
     "output_type": "display_data"
    }
   ],
   "source": [
    "fig = plt.figure(figsize = (8,8))\n",
    "ax = fig.add_subplot(1, 1, 1)\n",
    "ax.set_xlabel('Principal Component 1', fontsize = 15)\n",
    "ax.set_ylabel('Principal Component 2', fontsize = 15)\n",
    "ax.set_title(f'Two component t-SNE on dataset {dataset_nr} with method {embedding_method}', fontsize = 16)\n",
    "\n",
    "unique_node_semantics = list(node_semantic_dict.values())\n",
    "colors = ['silver', 'indianred', 'peru', 'gold', 'olivedrab', 'cadetblue', 'skyblue', 'steelblue', 'royalblue', 'mediumpurple', 'palevioletred', 'lightpink']\n",
    "\n",
    "for target, color in zip(unique_node_semantics, colors):\n",
    "    indicesToKeep = tsne_df['semantic'] == target\n",
    "    ax.scatter(tsne_df.loc[indicesToKeep, 't-SNE 1'], tsne_df.loc[indicesToKeep, 't-SNE 2'], c = color, s = 50)\n",
    "    \n",
    "ax.legend(unique_node_semantics)\n",
    "ax.grid()\n",
    "\n",
    "plt.show()"
   ]
  }
 ],
 "metadata": {
  "kernelspec": {
   "display_name": "xaifo",
   "language": "python",
   "name": "python3"
  },
  "language_info": {
   "codemirror_mode": {
    "name": "ipython",
    "version": 3
   },
   "file_extension": ".py",
   "mimetype": "text/x-python",
   "name": "python",
   "nbconvert_exporter": "python",
   "pygments_lexer": "ipython3",
   "version": "3.10.11"
  }
 },
 "nbformat": 4,
 "nbformat_minor": 2
}
