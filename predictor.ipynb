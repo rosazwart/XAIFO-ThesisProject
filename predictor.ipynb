{
 "cells": [
  {
   "attachments": {},
   "cell_type": "markdown",
   "metadata": {},
   "source": [
    "# Import Libraries"
   ]
  },
  {
   "cell_type": "code",
   "execution_count": 1,
   "metadata": {},
   "outputs": [],
   "source": [
    "import pandas as pd\n",
    "import numpy as np\n",
    "import networkx as nx\n",
    "import edge2vec.transition3 as transitions\n",
    "import edge2vec.edge2vec3 as edge2vec\n",
    "import torch\n",
    "import torch.nn as nn\n"
   ]
  },
  {
   "cell_type": "code",
   "execution_count": null,
   "metadata": {},
   "outputs": [],
   "source": [
    "\n",
    "from deepsnap.dataset import GraphDataset\n",
    "from deepsnap.batch import Batch\n",
    "from torch.utils.data import DataLoader\n",
    "from torch_geometric.nn import SAGEConv\n",
    "import torch.nn.functional as F\n",
    "from ray import tune\n",
    "import copy\n",
    "import pickle\n",
    "from sklearn.metrics import roc_auc_score\n",
    "import matplotlib.pyplot as plt"
   ]
  },
  {
   "cell_type": "code",
   "execution_count": 6,
   "metadata": {},
   "outputs": [
    {
     "name": "stdout",
     "output_type": "stream",
     "text": [
      "Using device: cuda\n"
     ]
    }
   ],
   "source": [
    "device = torch.device('cuda' if torch.cuda.is_available() else 'cpu')\n",
    "print('Using device:', device)"
   ]
  },
  {
   "attachments": {},
   "cell_type": "markdown",
   "metadata": {},
   "source": [
    "# Load Data"
   ]
  },
  {
   "attachments": {},
   "cell_type": "markdown",
   "metadata": {},
   "source": [
    "Load all edges of the knowledge graph."
   ]
  },
  {
   "cell_type": "markdown",
   "metadata": {},
   "source": [
    "Adapted by Rosa Zwart from Jupyter Notebooks found at https://github.com/PPerdomoQ/rare-disease-explainer"
   ]
  },
  {
   "cell_type": "code",
   "execution_count": 2,
   "metadata": {},
   "outputs": [
    {
     "data": {
      "text/html": [
       "<div>\n",
       "<style scoped>\n",
       "    .dataframe tbody tr th:only-of-type {\n",
       "        vertical-align: middle;\n",
       "    }\n",
       "\n",
       "    .dataframe tbody tr th {\n",
       "        vertical-align: top;\n",
       "    }\n",
       "\n",
       "    .dataframe thead th {\n",
       "        text-align: right;\n",
       "    }\n",
       "</style>\n",
       "<table border=\"1\" class=\"dataframe\">\n",
       "  <thead>\n",
       "    <tr style=\"text-align: right;\">\n",
       "      <th></th>\n",
       "      <th>id</th>\n",
       "      <th>subject</th>\n",
       "      <th>object</th>\n",
       "      <th>relation_id</th>\n",
       "      <th>relation_label</th>\n",
       "      <th>relation_iri</th>\n",
       "    </tr>\n",
       "  </thead>\n",
       "  <tbody>\n",
       "    <tr>\n",
       "      <th>0</th>\n",
       "      <td>3d6516a6-a46a-4a31-b3a3-26b99382fbaf</td>\n",
       "      <td>FlyBase:FBgn0011676</td>\n",
       "      <td>ENSEMBL:ENSCAFG00000009820</td>\n",
       "      <td>RO:HOM0000017</td>\n",
       "      <td>in orthology relationship with</td>\n",
       "      <td>http://purl.obolibrary.org/obo/RO_HOM0000017</td>\n",
       "    </tr>\n",
       "    <tr>\n",
       "      <th>1</th>\n",
       "      <td>5b3867c6-befd-4bad-b61c-97de75ae22c6</td>\n",
       "      <td>HGNC:12012</td>\n",
       "      <td>HGNC:11946</td>\n",
       "      <td>RO:0002434</td>\n",
       "      <td>interacts with</td>\n",
       "      <td>http://purl.obolibrary.org/obo/RO_0002434</td>\n",
       "    </tr>\n",
       "    <tr>\n",
       "      <th>2</th>\n",
       "      <td>a276b95d-2137-49a2-84fd-585298f81a1f</td>\n",
       "      <td>HGNC:15516</td>\n",
       "      <td>HP:0002650</td>\n",
       "      <td>RO:0003303</td>\n",
       "      <td>causes condition</td>\n",
       "      <td>http://purl.obolibrary.org/obo/RO_0003303</td>\n",
       "    </tr>\n",
       "    <tr>\n",
       "      <th>3</th>\n",
       "      <td>ff4c3b46-0c34-4e73-9754-5351221f4b40</td>\n",
       "      <td>WormBase:WBGene00000065</td>\n",
       "      <td>ENSEMBL:ENSOANG00000007850</td>\n",
       "      <td>RO:HOM0000017</td>\n",
       "      <td>in orthology relationship with</td>\n",
       "      <td>http://purl.obolibrary.org/obo/RO_HOM0000017</td>\n",
       "    </tr>\n",
       "    <tr>\n",
       "      <th>4</th>\n",
       "      <td>4f82bdff-cbcb-45b2-95d7-086b142257c9</td>\n",
       "      <td>HGNC:6485</td>\n",
       "      <td>HGNC:329</td>\n",
       "      <td>RO:0002434</td>\n",
       "      <td>interacts with</td>\n",
       "      <td>http://purl.obolibrary.org/obo/RO_0002434</td>\n",
       "    </tr>\n",
       "    <tr>\n",
       "      <th>5</th>\n",
       "      <td>48dee90f-a334-459b-8cbc-999bc745c49f</td>\n",
       "      <td>ENSEMBL:ENSECAG00000023844</td>\n",
       "      <td>ENSEMBL:ENSGALG00000042388</td>\n",
       "      <td>RO:HOM0000017</td>\n",
       "      <td>in orthology relationship with</td>\n",
       "      <td>http://purl.obolibrary.org/obo/RO_HOM0000017</td>\n",
       "    </tr>\n",
       "    <tr>\n",
       "      <th>6</th>\n",
       "      <td>657f2866-d1a5-405b-bd02-dec3964150d5</td>\n",
       "      <td>MGI:3621491</td>\n",
       "      <td>MP:0011966</td>\n",
       "      <td>RO:0003303</td>\n",
       "      <td>causes condition</td>\n",
       "      <td>http://purl.obolibrary.org/obo/RO_0003303</td>\n",
       "    </tr>\n",
       "    <tr>\n",
       "      <th>7</th>\n",
       "      <td>25a138d1-4498-4864-96c0-12c1f91ae493</td>\n",
       "      <td>MGI:1859649</td>\n",
       "      <td>ENSEMBL:ENSACAG00000001940</td>\n",
       "      <td>RO:HOM0000017</td>\n",
       "      <td>in orthology relationship with</td>\n",
       "      <td>http://purl.obolibrary.org/obo/RO_HOM0000017</td>\n",
       "    </tr>\n",
       "    <tr>\n",
       "      <th>8</th>\n",
       "      <td>439999a4-578f-4641-b022-90d2ea670eed</td>\n",
       "      <td>ClinVarVariant:803793</td>\n",
       "      <td>MONDO:0010679</td>\n",
       "      <td>RO:0003303</td>\n",
       "      <td>causes condition</td>\n",
       "      <td>http://purl.obolibrary.org/obo/RO_0003303</td>\n",
       "    </tr>\n",
       "    <tr>\n",
       "      <th>9</th>\n",
       "      <td>8b79b610-3a7b-4f87-af8c-47010bc60e69</td>\n",
       "      <td>PomBase:SPAC27F1.02c</td>\n",
       "      <td>RGD:1559479</td>\n",
       "      <td>RO:HOM0000017</td>\n",
       "      <td>in orthology relationship with</td>\n",
       "      <td>http://purl.obolibrary.org/obo/RO_HOM0000017</td>\n",
       "    </tr>\n",
       "  </tbody>\n",
       "</table>\n",
       "</div>"
      ],
      "text/plain": [
       "                                     id                     subject  \\\n",
       "0  3d6516a6-a46a-4a31-b3a3-26b99382fbaf         FlyBase:FBgn0011676   \n",
       "1  5b3867c6-befd-4bad-b61c-97de75ae22c6                  HGNC:12012   \n",
       "2  a276b95d-2137-49a2-84fd-585298f81a1f                  HGNC:15516   \n",
       "3  ff4c3b46-0c34-4e73-9754-5351221f4b40     WormBase:WBGene00000065   \n",
       "4  4f82bdff-cbcb-45b2-95d7-086b142257c9                   HGNC:6485   \n",
       "5  48dee90f-a334-459b-8cbc-999bc745c49f  ENSEMBL:ENSECAG00000023844   \n",
       "6  657f2866-d1a5-405b-bd02-dec3964150d5                 MGI:3621491   \n",
       "7  25a138d1-4498-4864-96c0-12c1f91ae493                 MGI:1859649   \n",
       "8  439999a4-578f-4641-b022-90d2ea670eed       ClinVarVariant:803793   \n",
       "9  8b79b610-3a7b-4f87-af8c-47010bc60e69        PomBase:SPAC27F1.02c   \n",
       "\n",
       "                       object    relation_id                  relation_label  \\\n",
       "0  ENSEMBL:ENSCAFG00000009820  RO:HOM0000017  in orthology relationship with   \n",
       "1                  HGNC:11946     RO:0002434                  interacts with   \n",
       "2                  HP:0002650     RO:0003303                causes condition   \n",
       "3  ENSEMBL:ENSOANG00000007850  RO:HOM0000017  in orthology relationship with   \n",
       "4                    HGNC:329     RO:0002434                  interacts with   \n",
       "5  ENSEMBL:ENSGALG00000042388  RO:HOM0000017  in orthology relationship with   \n",
       "6                  MP:0011966     RO:0003303                causes condition   \n",
       "7  ENSEMBL:ENSACAG00000001940  RO:HOM0000017  in orthology relationship with   \n",
       "8               MONDO:0010679     RO:0003303                causes condition   \n",
       "9                 RGD:1559479  RO:HOM0000017  in orthology relationship with   \n",
       "\n",
       "                                   relation_iri  \n",
       "0  http://purl.obolibrary.org/obo/RO_HOM0000017  \n",
       "1     http://purl.obolibrary.org/obo/RO_0002434  \n",
       "2     http://purl.obolibrary.org/obo/RO_0003303  \n",
       "3  http://purl.obolibrary.org/obo/RO_HOM0000017  \n",
       "4     http://purl.obolibrary.org/obo/RO_0002434  \n",
       "5  http://purl.obolibrary.org/obo/RO_HOM0000017  \n",
       "6     http://purl.obolibrary.org/obo/RO_0003303  \n",
       "7  http://purl.obolibrary.org/obo/RO_HOM0000017  \n",
       "8     http://purl.obolibrary.org/obo/RO_0003303  \n",
       "9  http://purl.obolibrary.org/obo/RO_HOM0000017  "
      ]
     },
     "execution_count": 2,
     "metadata": {},
     "output_type": "execute_result"
    }
   ],
   "source": [
    "edges = pd.read_csv('output/new_kg_edges.csv', header=0)\n",
    "edges.head(10)"
   ]
  },
  {
   "attachments": {},
   "cell_type": "markdown",
   "metadata": {},
   "source": [
    "Extract the relevant columns and rename these columns."
   ]
  },
  {
   "cell_type": "code",
   "execution_count": 3,
   "metadata": {},
   "outputs": [
    {
     "data": {
      "text/html": [
       "<div>\n",
       "<style scoped>\n",
       "    .dataframe tbody tr th:only-of-type {\n",
       "        vertical-align: middle;\n",
       "    }\n",
       "\n",
       "    .dataframe tbody tr th {\n",
       "        vertical-align: top;\n",
       "    }\n",
       "\n",
       "    .dataframe thead th {\n",
       "        text-align: right;\n",
       "    }\n",
       "</style>\n",
       "<table border=\"1\" class=\"dataframe\">\n",
       "  <thead>\n",
       "    <tr style=\"text-align: right;\">\n",
       "      <th></th>\n",
       "      <th>head</th>\n",
       "      <th>relation</th>\n",
       "      <th>tail</th>\n",
       "    </tr>\n",
       "  </thead>\n",
       "  <tbody>\n",
       "    <tr>\n",
       "      <th>0</th>\n",
       "      <td>FlyBase:FBgn0011676</td>\n",
       "      <td>in orthology relationship with</td>\n",
       "      <td>ENSEMBL:ENSCAFG00000009820</td>\n",
       "    </tr>\n",
       "    <tr>\n",
       "      <th>1</th>\n",
       "      <td>HGNC:12012</td>\n",
       "      <td>interacts with</td>\n",
       "      <td>HGNC:11946</td>\n",
       "    </tr>\n",
       "    <tr>\n",
       "      <th>2</th>\n",
       "      <td>HGNC:15516</td>\n",
       "      <td>causes condition</td>\n",
       "      <td>HP:0002650</td>\n",
       "    </tr>\n",
       "    <tr>\n",
       "      <th>3</th>\n",
       "      <td>WormBase:WBGene00000065</td>\n",
       "      <td>in orthology relationship with</td>\n",
       "      <td>ENSEMBL:ENSOANG00000007850</td>\n",
       "    </tr>\n",
       "    <tr>\n",
       "      <th>4</th>\n",
       "      <td>HGNC:6485</td>\n",
       "      <td>interacts with</td>\n",
       "      <td>HGNC:329</td>\n",
       "    </tr>\n",
       "    <tr>\n",
       "      <th>5</th>\n",
       "      <td>ENSEMBL:ENSECAG00000023844</td>\n",
       "      <td>in orthology relationship with</td>\n",
       "      <td>ENSEMBL:ENSGALG00000042388</td>\n",
       "    </tr>\n",
       "    <tr>\n",
       "      <th>6</th>\n",
       "      <td>MGI:3621491</td>\n",
       "      <td>causes condition</td>\n",
       "      <td>MP:0011966</td>\n",
       "    </tr>\n",
       "    <tr>\n",
       "      <th>7</th>\n",
       "      <td>MGI:1859649</td>\n",
       "      <td>in orthology relationship with</td>\n",
       "      <td>ENSEMBL:ENSACAG00000001940</td>\n",
       "    </tr>\n",
       "    <tr>\n",
       "      <th>8</th>\n",
       "      <td>ClinVarVariant:803793</td>\n",
       "      <td>causes condition</td>\n",
       "      <td>MONDO:0010679</td>\n",
       "    </tr>\n",
       "    <tr>\n",
       "      <th>9</th>\n",
       "      <td>PomBase:SPAC27F1.02c</td>\n",
       "      <td>in orthology relationship with</td>\n",
       "      <td>RGD:1559479</td>\n",
       "    </tr>\n",
       "  </tbody>\n",
       "</table>\n",
       "</div>"
      ],
      "text/plain": [
       "                         head                        relation  \\\n",
       "0         FlyBase:FBgn0011676  in orthology relationship with   \n",
       "1                  HGNC:12012                  interacts with   \n",
       "2                  HGNC:15516                causes condition   \n",
       "3     WormBase:WBGene00000065  in orthology relationship with   \n",
       "4                   HGNC:6485                  interacts with   \n",
       "5  ENSEMBL:ENSECAG00000023844  in orthology relationship with   \n",
       "6                 MGI:3621491                causes condition   \n",
       "7                 MGI:1859649  in orthology relationship with   \n",
       "8       ClinVarVariant:803793                causes condition   \n",
       "9        PomBase:SPAC27F1.02c  in orthology relationship with   \n",
       "\n",
       "                         tail  \n",
       "0  ENSEMBL:ENSCAFG00000009820  \n",
       "1                  HGNC:11946  \n",
       "2                  HP:0002650  \n",
       "3  ENSEMBL:ENSOANG00000007850  \n",
       "4                    HGNC:329  \n",
       "5  ENSEMBL:ENSGALG00000042388  \n",
       "6                  MP:0011966  \n",
       "7  ENSEMBL:ENSACAG00000001940  \n",
       "8               MONDO:0010679  \n",
       "9                 RGD:1559479  "
      ]
     },
     "execution_count": 3,
     "metadata": {},
     "output_type": "execute_result"
    }
   ],
   "source": [
    "edges = edges[['subject', 'relation_label', 'object']]\n",
    "edges.rename(columns={'subject': 'head', 'relation_label': 'relation', 'object': 'tail'}, inplace=True)\n",
    "edges.head(10)"
   ]
  },
  {
   "attachments": {},
   "cell_type": "markdown",
   "metadata": {},
   "source": [
    "Load all nodes of the knowledge graph."
   ]
  },
  {
   "cell_type": "code",
   "execution_count": 4,
   "metadata": {},
   "outputs": [
    {
     "data": {
      "text/html": [
       "<div>\n",
       "<style scoped>\n",
       "    .dataframe tbody tr th:only-of-type {\n",
       "        vertical-align: middle;\n",
       "    }\n",
       "\n",
       "    .dataframe tbody tr th {\n",
       "        vertical-align: top;\n",
       "    }\n",
       "\n",
       "    .dataframe thead th {\n",
       "        text-align: right;\n",
       "    }\n",
       "</style>\n",
       "<table border=\"1\" class=\"dataframe\">\n",
       "  <thead>\n",
       "    <tr style=\"text-align: right;\">\n",
       "      <th></th>\n",
       "      <th>id</th>\n",
       "      <th>label</th>\n",
       "      <th>iri</th>\n",
       "      <th>semantic</th>\n",
       "      <th>index_id</th>\n",
       "    </tr>\n",
       "  </thead>\n",
       "  <tbody>\n",
       "    <tr>\n",
       "      <th>0</th>\n",
       "      <td>MP:0020358</td>\n",
       "      <td>abnormal inhibitory synapse morphology</td>\n",
       "      <td>http://purl.obolibrary.org/obo/MP_0020358</td>\n",
       "      <td>phenotype</td>\n",
       "      <td>0</td>\n",
       "    </tr>\n",
       "    <tr>\n",
       "      <th>1</th>\n",
       "      <td>HP:0000670</td>\n",
       "      <td>Carious teeth</td>\n",
       "      <td>http://purl.obolibrary.org/obo/HP_0000670</td>\n",
       "      <td>phenotype</td>\n",
       "      <td>1</td>\n",
       "    </tr>\n",
       "    <tr>\n",
       "      <th>2</th>\n",
       "      <td>ENSEMBL:ENSCAFG00000017522</td>\n",
       "      <td>ENSEMBL:ENSCAFG00000017522</td>\n",
       "      <td>http://ensembl.org/id/ENSCAFG00000017522</td>\n",
       "      <td>gene</td>\n",
       "      <td>2</td>\n",
       "    </tr>\n",
       "    <tr>\n",
       "      <th>3</th>\n",
       "      <td>ZFIN:ZDB-GENE-070705-188</td>\n",
       "      <td>chrm1b</td>\n",
       "      <td>http://zfin.org/ZDB-GENE-070705-188</td>\n",
       "      <td>gene</td>\n",
       "      <td>3</td>\n",
       "    </tr>\n",
       "    <tr>\n",
       "      <th>4</th>\n",
       "      <td>HP:0000544</td>\n",
       "      <td>External ophthalmoplegia</td>\n",
       "      <td>http://purl.obolibrary.org/obo/HP_0000544</td>\n",
       "      <td>phenotype</td>\n",
       "      <td>4</td>\n",
       "    </tr>\n",
       "    <tr>\n",
       "      <th>5</th>\n",
       "      <td>ZFIN:ZDB-GENE-040426-1146</td>\n",
       "      <td>traf3ip1</td>\n",
       "      <td>http://zfin.org/ZDB-GENE-040426-1146</td>\n",
       "      <td>gene</td>\n",
       "      <td>5</td>\n",
       "    </tr>\n",
       "    <tr>\n",
       "      <th>6</th>\n",
       "      <td>MP:0001900</td>\n",
       "      <td>impaired synaptic plasticity</td>\n",
       "      <td>http://purl.obolibrary.org/obo/MP_0001900</td>\n",
       "      <td>phenotype</td>\n",
       "      <td>6</td>\n",
       "    </tr>\n",
       "    <tr>\n",
       "      <th>7</th>\n",
       "      <td>ClinVarVariant:650539</td>\n",
       "      <td>NM_004006.2(DMD):c.6439-10_8217+32103dup</td>\n",
       "      <td>http://www.ncbi.nlm.nih.gov/clinvar/variation/...</td>\n",
       "      <td>variant</td>\n",
       "      <td>7</td>\n",
       "    </tr>\n",
       "    <tr>\n",
       "      <th>8</th>\n",
       "      <td>ZFIN:ZDB-GENE-070228-4</td>\n",
       "      <td>drp2</td>\n",
       "      <td>http://zfin.org/ZDB-GENE-070228-4</td>\n",
       "      <td>gene</td>\n",
       "      <td>8</td>\n",
       "    </tr>\n",
       "    <tr>\n",
       "      <th>9</th>\n",
       "      <td>HGNC:7611</td>\n",
       "      <td>MYOD1</td>\n",
       "      <td>https://www.genenames.org/data/gene-symbol-rep...</td>\n",
       "      <td>gene</td>\n",
       "      <td>9</td>\n",
       "    </tr>\n",
       "  </tbody>\n",
       "</table>\n",
       "</div>"
      ],
      "text/plain": [
       "                           id                                     label  \\\n",
       "0                  MP:0020358    abnormal inhibitory synapse morphology   \n",
       "1                  HP:0000670                             Carious teeth   \n",
       "2  ENSEMBL:ENSCAFG00000017522                ENSEMBL:ENSCAFG00000017522   \n",
       "3    ZFIN:ZDB-GENE-070705-188                                    chrm1b   \n",
       "4                  HP:0000544                  External ophthalmoplegia   \n",
       "5   ZFIN:ZDB-GENE-040426-1146                                  traf3ip1   \n",
       "6                  MP:0001900              impaired synaptic plasticity   \n",
       "7       ClinVarVariant:650539  NM_004006.2(DMD):c.6439-10_8217+32103dup   \n",
       "8      ZFIN:ZDB-GENE-070228-4                                      drp2   \n",
       "9                   HGNC:7611                                     MYOD1   \n",
       "\n",
       "                                                 iri   semantic  index_id  \n",
       "0          http://purl.obolibrary.org/obo/MP_0020358  phenotype         0  \n",
       "1          http://purl.obolibrary.org/obo/HP_0000670  phenotype         1  \n",
       "2           http://ensembl.org/id/ENSCAFG00000017522       gene         2  \n",
       "3                http://zfin.org/ZDB-GENE-070705-188       gene         3  \n",
       "4          http://purl.obolibrary.org/obo/HP_0000544  phenotype         4  \n",
       "5               http://zfin.org/ZDB-GENE-040426-1146       gene         5  \n",
       "6          http://purl.obolibrary.org/obo/MP_0001900  phenotype         6  \n",
       "7  http://www.ncbi.nlm.nih.gov/clinvar/variation/...    variant         7  \n",
       "8                  http://zfin.org/ZDB-GENE-070228-4       gene         8  \n",
       "9  https://www.genenames.org/data/gene-symbol-rep...       gene         9  "
      ]
     },
     "execution_count": 4,
     "metadata": {},
     "output_type": "execute_result"
    }
   ],
   "source": [
    "nodes = pd.read_csv('output/new_kg_nodes.csv', header=0)\n",
    "nodes['index_id'] = nodes.index\n",
    "nodes.head(10)"
   ]
  },
  {
   "attachments": {},
   "cell_type": "markdown",
   "metadata": {},
   "source": [
    "Extract the relevant columns and rename these columns."
   ]
  },
  {
   "cell_type": "code",
   "execution_count": 5,
   "metadata": {},
   "outputs": [
    {
     "data": {
      "text/html": [
       "<div>\n",
       "<style scoped>\n",
       "    .dataframe tbody tr th:only-of-type {\n",
       "        vertical-align: middle;\n",
       "    }\n",
       "\n",
       "    .dataframe tbody tr th {\n",
       "        vertical-align: top;\n",
       "    }\n",
       "\n",
       "    .dataframe thead th {\n",
       "        text-align: right;\n",
       "    }\n",
       "</style>\n",
       "<table border=\"1\" class=\"dataframe\">\n",
       "  <thead>\n",
       "    <tr style=\"text-align: right;\">\n",
       "      <th></th>\n",
       "      <th>index_id</th>\n",
       "      <th>id</th>\n",
       "      <th>semantic</th>\n",
       "      <th>label</th>\n",
       "    </tr>\n",
       "  </thead>\n",
       "  <tbody>\n",
       "    <tr>\n",
       "      <th>0</th>\n",
       "      <td>0</td>\n",
       "      <td>MP:0020358</td>\n",
       "      <td>phenotype</td>\n",
       "      <td>abnormal inhibitory synapse morphology</td>\n",
       "    </tr>\n",
       "    <tr>\n",
       "      <th>1</th>\n",
       "      <td>1</td>\n",
       "      <td>HP:0000670</td>\n",
       "      <td>phenotype</td>\n",
       "      <td>Carious teeth</td>\n",
       "    </tr>\n",
       "    <tr>\n",
       "      <th>2</th>\n",
       "      <td>2</td>\n",
       "      <td>ENSEMBL:ENSCAFG00000017522</td>\n",
       "      <td>gene</td>\n",
       "      <td>ENSEMBL:ENSCAFG00000017522</td>\n",
       "    </tr>\n",
       "    <tr>\n",
       "      <th>3</th>\n",
       "      <td>3</td>\n",
       "      <td>ZFIN:ZDB-GENE-070705-188</td>\n",
       "      <td>gene</td>\n",
       "      <td>chrm1b</td>\n",
       "    </tr>\n",
       "    <tr>\n",
       "      <th>4</th>\n",
       "      <td>4</td>\n",
       "      <td>HP:0000544</td>\n",
       "      <td>phenotype</td>\n",
       "      <td>External ophthalmoplegia</td>\n",
       "    </tr>\n",
       "    <tr>\n",
       "      <th>5</th>\n",
       "      <td>5</td>\n",
       "      <td>ZFIN:ZDB-GENE-040426-1146</td>\n",
       "      <td>gene</td>\n",
       "      <td>traf3ip1</td>\n",
       "    </tr>\n",
       "    <tr>\n",
       "      <th>6</th>\n",
       "      <td>6</td>\n",
       "      <td>MP:0001900</td>\n",
       "      <td>phenotype</td>\n",
       "      <td>impaired synaptic plasticity</td>\n",
       "    </tr>\n",
       "    <tr>\n",
       "      <th>7</th>\n",
       "      <td>7</td>\n",
       "      <td>ClinVarVariant:650539</td>\n",
       "      <td>variant</td>\n",
       "      <td>NM_004006.2(DMD):c.6439-10_8217+32103dup</td>\n",
       "    </tr>\n",
       "    <tr>\n",
       "      <th>8</th>\n",
       "      <td>8</td>\n",
       "      <td>ZFIN:ZDB-GENE-070228-4</td>\n",
       "      <td>gene</td>\n",
       "      <td>drp2</td>\n",
       "    </tr>\n",
       "    <tr>\n",
       "      <th>9</th>\n",
       "      <td>9</td>\n",
       "      <td>HGNC:7611</td>\n",
       "      <td>gene</td>\n",
       "      <td>MYOD1</td>\n",
       "    </tr>\n",
       "  </tbody>\n",
       "</table>\n",
       "</div>"
      ],
      "text/plain": [
       "   index_id                          id   semantic  \\\n",
       "0         0                  MP:0020358  phenotype   \n",
       "1         1                  HP:0000670  phenotype   \n",
       "2         2  ENSEMBL:ENSCAFG00000017522       gene   \n",
       "3         3    ZFIN:ZDB-GENE-070705-188       gene   \n",
       "4         4                  HP:0000544  phenotype   \n",
       "5         5   ZFIN:ZDB-GENE-040426-1146       gene   \n",
       "6         6                  MP:0001900  phenotype   \n",
       "7         7       ClinVarVariant:650539    variant   \n",
       "8         8      ZFIN:ZDB-GENE-070228-4       gene   \n",
       "9         9                   HGNC:7611       gene   \n",
       "\n",
       "                                      label  \n",
       "0    abnormal inhibitory synapse morphology  \n",
       "1                             Carious teeth  \n",
       "2                ENSEMBL:ENSCAFG00000017522  \n",
       "3                                    chrm1b  \n",
       "4                  External ophthalmoplegia  \n",
       "5                                  traf3ip1  \n",
       "6              impaired synaptic plasticity  \n",
       "7  NM_004006.2(DMD):c.6439-10_8217+32103dup  \n",
       "8                                      drp2  \n",
       "9                                     MYOD1  "
      ]
     },
     "execution_count": 5,
     "metadata": {},
     "output_type": "execute_result"
    }
   ],
   "source": [
    "nodes = nodes[['index_id', 'id', 'semantic', 'label']]\n",
    "nodes.head(10)"
   ]
  },
  {
   "attachments": {},
   "cell_type": "markdown",
   "metadata": {},
   "source": [
    "Convert categorical to numerical values for the semantic groups."
   ]
  },
  {
   "cell_type": "code",
   "execution_count": 8,
   "metadata": {},
   "outputs": [
    {
     "data": {
      "text/html": [
       "<div>\n",
       "<style scoped>\n",
       "    .dataframe tbody tr th:only-of-type {\n",
       "        vertical-align: middle;\n",
       "    }\n",
       "\n",
       "    .dataframe tbody tr th {\n",
       "        vertical-align: top;\n",
       "    }\n",
       "\n",
       "    .dataframe thead th {\n",
       "        text-align: right;\n",
       "    }\n",
       "</style>\n",
       "<table border=\"1\" class=\"dataframe\">\n",
       "  <thead>\n",
       "    <tr style=\"text-align: right;\">\n",
       "      <th></th>\n",
       "      <th>index_id</th>\n",
       "      <th>id</th>\n",
       "      <th>semantic</th>\n",
       "      <th>label</th>\n",
       "      <th>semantic_id</th>\n",
       "    </tr>\n",
       "  </thead>\n",
       "  <tbody>\n",
       "    <tr>\n",
       "      <th>0</th>\n",
       "      <td>0</td>\n",
       "      <td>MP:0020358</td>\n",
       "      <td>phenotype</td>\n",
       "      <td>abnormal inhibitory synapse morphology</td>\n",
       "      <td>8</td>\n",
       "    </tr>\n",
       "    <tr>\n",
       "      <th>1</th>\n",
       "      <td>1</td>\n",
       "      <td>HP:0000670</td>\n",
       "      <td>phenotype</td>\n",
       "      <td>Carious teeth</td>\n",
       "      <td>8</td>\n",
       "    </tr>\n",
       "    <tr>\n",
       "      <th>2</th>\n",
       "      <td>2</td>\n",
       "      <td>ENSEMBL:ENSCAFG00000017522</td>\n",
       "      <td>gene</td>\n",
       "      <td>ENSEMBL:ENSCAFG00000017522</td>\n",
       "      <td>5</td>\n",
       "    </tr>\n",
       "    <tr>\n",
       "      <th>3</th>\n",
       "      <td>3</td>\n",
       "      <td>ZFIN:ZDB-GENE-070705-188</td>\n",
       "      <td>gene</td>\n",
       "      <td>chrm1b</td>\n",
       "      <td>5</td>\n",
       "    </tr>\n",
       "    <tr>\n",
       "      <th>4</th>\n",
       "      <td>4</td>\n",
       "      <td>HP:0000544</td>\n",
       "      <td>phenotype</td>\n",
       "      <td>External ophthalmoplegia</td>\n",
       "      <td>8</td>\n",
       "    </tr>\n",
       "    <tr>\n",
       "      <th>5</th>\n",
       "      <td>5</td>\n",
       "      <td>ZFIN:ZDB-GENE-040426-1146</td>\n",
       "      <td>gene</td>\n",
       "      <td>traf3ip1</td>\n",
       "      <td>5</td>\n",
       "    </tr>\n",
       "    <tr>\n",
       "      <th>6</th>\n",
       "      <td>6</td>\n",
       "      <td>MP:0001900</td>\n",
       "      <td>phenotype</td>\n",
       "      <td>impaired synaptic plasticity</td>\n",
       "      <td>8</td>\n",
       "    </tr>\n",
       "    <tr>\n",
       "      <th>7</th>\n",
       "      <td>7</td>\n",
       "      <td>ClinVarVariant:650539</td>\n",
       "      <td>variant</td>\n",
       "      <td>NM_004006.2(DMD):c.6439-10_8217+32103dup</td>\n",
       "      <td>10</td>\n",
       "    </tr>\n",
       "    <tr>\n",
       "      <th>8</th>\n",
       "      <td>8</td>\n",
       "      <td>ZFIN:ZDB-GENE-070228-4</td>\n",
       "      <td>gene</td>\n",
       "      <td>drp2</td>\n",
       "      <td>5</td>\n",
       "    </tr>\n",
       "    <tr>\n",
       "      <th>9</th>\n",
       "      <td>9</td>\n",
       "      <td>HGNC:7611</td>\n",
       "      <td>gene</td>\n",
       "      <td>MYOD1</td>\n",
       "      <td>5</td>\n",
       "    </tr>\n",
       "  </tbody>\n",
       "</table>\n",
       "</div>"
      ],
      "text/plain": [
       "   index_id                          id   semantic  \\\n",
       "0         0                  MP:0020358  phenotype   \n",
       "1         1                  HP:0000670  phenotype   \n",
       "2         2  ENSEMBL:ENSCAFG00000017522       gene   \n",
       "3         3    ZFIN:ZDB-GENE-070705-188       gene   \n",
       "4         4                  HP:0000544  phenotype   \n",
       "5         5   ZFIN:ZDB-GENE-040426-1146       gene   \n",
       "6         6                  MP:0001900  phenotype   \n",
       "7         7       ClinVarVariant:650539    variant   \n",
       "8         8      ZFIN:ZDB-GENE-070228-4       gene   \n",
       "9         9                   HGNC:7611       gene   \n",
       "\n",
       "                                      label  semantic_id  \n",
       "0    abnormal inhibitory synapse morphology            8  \n",
       "1                             Carious teeth            8  \n",
       "2                ENSEMBL:ENSCAFG00000017522            5  \n",
       "3                                    chrm1b            5  \n",
       "4                  External ophthalmoplegia            8  \n",
       "5                                  traf3ip1            5  \n",
       "6              impaired synaptic plasticity            8  \n",
       "7  NM_004006.2(DMD):c.6439-10_8217+32103dup           10  \n",
       "8                                      drp2            5  \n",
       "9                                     MYOD1            5  "
      ]
     },
     "execution_count": 8,
     "metadata": {},
     "output_type": "execute_result"
    }
   ],
   "source": [
    "nodes['semantic'] = nodes['semantic'].astype('category')\n",
    "nodes['semantic_id'] = nodes['semantic'].cat.codes\n",
    "nodes.head(10)"
   ]
  },
  {
   "attachments": {},
   "cell_type": "markdown",
   "metadata": {},
   "source": [
    "The dictionary below can be used as mapping between generated semantic ID and semantic group label."
   ]
  },
  {
   "cell_type": "code",
   "execution_count": 9,
   "metadata": {},
   "outputs": [
    {
     "data": {
      "text/plain": [
       "{0: 'biological artifact',\n",
       " 1: 'biological process',\n",
       " 2: 'cellular component',\n",
       " 3: 'disease',\n",
       " 4: 'drug',\n",
       " 5: 'gene',\n",
       " 6: 'genotype',\n",
       " 7: 'molecular function',\n",
       " 8: 'phenotype',\n",
       " 9: 'taxon',\n",
       " 10: 'variant'}"
      ]
     },
     "execution_count": 9,
     "metadata": {},
     "output_type": "execute_result"
    }
   ],
   "source": [
    "node_semantic_dict = dict(enumerate(nodes['semantic'].cat.categories))\n",
    "node_semantic_dict"
   ]
  },
  {
   "attachments": {},
   "cell_type": "markdown",
   "metadata": {},
   "source": [
    "Merge nodes and edges in order to join semantic classes of nodes with heads and tails of the edges."
   ]
  },
  {
   "cell_type": "code",
   "execution_count": 10,
   "metadata": {},
   "outputs": [
    {
     "data": {
      "text/html": [
       "<div>\n",
       "<style scoped>\n",
       "    .dataframe tbody tr th:only-of-type {\n",
       "        vertical-align: middle;\n",
       "    }\n",
       "\n",
       "    .dataframe tbody tr th {\n",
       "        vertical-align: top;\n",
       "    }\n",
       "\n",
       "    .dataframe thead th {\n",
       "        text-align: right;\n",
       "    }\n",
       "</style>\n",
       "<table border=\"1\" class=\"dataframe\">\n",
       "  <thead>\n",
       "    <tr style=\"text-align: right;\">\n",
       "      <th></th>\n",
       "      <th>head</th>\n",
       "      <th>label_head</th>\n",
       "      <th>class_head</th>\n",
       "      <th>index_head</th>\n",
       "      <th>relation</th>\n",
       "      <th>tail</th>\n",
       "    </tr>\n",
       "  </thead>\n",
       "  <tbody>\n",
       "    <tr>\n",
       "      <th>0</th>\n",
       "      <td>FlyBase:FBgn0011676</td>\n",
       "      <td>Nos</td>\n",
       "      <td>5</td>\n",
       "      <td>9594</td>\n",
       "      <td>in orthology relationship with</td>\n",
       "      <td>ENSEMBL:ENSCAFG00000009820</td>\n",
       "    </tr>\n",
       "    <tr>\n",
       "      <th>1</th>\n",
       "      <td>HGNC:12012</td>\n",
       "      <td>TPM3</td>\n",
       "      <td>5</td>\n",
       "      <td>1813</td>\n",
       "      <td>interacts with</td>\n",
       "      <td>HGNC:11946</td>\n",
       "    </tr>\n",
       "    <tr>\n",
       "      <th>2</th>\n",
       "      <td>HGNC:15516</td>\n",
       "      <td>XYLT1</td>\n",
       "      <td>5</td>\n",
       "      <td>3228</td>\n",
       "      <td>causes condition</td>\n",
       "      <td>HP:0002650</td>\n",
       "    </tr>\n",
       "    <tr>\n",
       "      <th>3</th>\n",
       "      <td>WormBase:WBGene00000065</td>\n",
       "      <td>act-3</td>\n",
       "      <td>5</td>\n",
       "      <td>3272</td>\n",
       "      <td>in orthology relationship with</td>\n",
       "      <td>ENSEMBL:ENSOANG00000007850</td>\n",
       "    </tr>\n",
       "    <tr>\n",
       "      <th>4</th>\n",
       "      <td>HGNC:6485</td>\n",
       "      <td>LAMA5</td>\n",
       "      <td>5</td>\n",
       "      <td>4641</td>\n",
       "      <td>interacts with</td>\n",
       "      <td>HGNC:329</td>\n",
       "    </tr>\n",
       "    <tr>\n",
       "      <th>5</th>\n",
       "      <td>ENSEMBL:ENSECAG00000023844</td>\n",
       "      <td>ENSEMBL:ENSECAG00000023844</td>\n",
       "      <td>5</td>\n",
       "      <td>9822</td>\n",
       "      <td>in orthology relationship with</td>\n",
       "      <td>ENSEMBL:ENSGALG00000042388</td>\n",
       "    </tr>\n",
       "    <tr>\n",
       "      <th>6</th>\n",
       "      <td>MGI:3621491</td>\n",
       "      <td>Dmd&lt;mdx&gt;/Dmd&lt;mdx&gt; [C57BL/10ScSn-Dmd&lt;mdx&gt;/J]</td>\n",
       "      <td>6</td>\n",
       "      <td>4598</td>\n",
       "      <td>causes condition</td>\n",
       "      <td>MP:0011966</td>\n",
       "    </tr>\n",
       "    <tr>\n",
       "      <th>7</th>\n",
       "      <td>MGI:1859649</td>\n",
       "      <td>Ctnnal1</td>\n",
       "      <td>5</td>\n",
       "      <td>5773</td>\n",
       "      <td>in orthology relationship with</td>\n",
       "      <td>ENSEMBL:ENSACAG00000001940</td>\n",
       "    </tr>\n",
       "    <tr>\n",
       "      <th>8</th>\n",
       "      <td>ClinVarVariant:803793</td>\n",
       "      <td>NM_004006.3(DMD):c.9950_9951del (p.Lys3317fs)</td>\n",
       "      <td>10</td>\n",
       "      <td>1815</td>\n",
       "      <td>causes condition</td>\n",
       "      <td>MONDO:0010679</td>\n",
       "    </tr>\n",
       "    <tr>\n",
       "      <th>9</th>\n",
       "      <td>PomBase:SPAC27F1.02c</td>\n",
       "      <td>cdc8</td>\n",
       "      <td>5</td>\n",
       "      <td>3477</td>\n",
       "      <td>in orthology relationship with</td>\n",
       "      <td>RGD:1559479</td>\n",
       "    </tr>\n",
       "  </tbody>\n",
       "</table>\n",
       "</div>"
      ],
      "text/plain": [
       "                         head                                     label_head  \\\n",
       "0         FlyBase:FBgn0011676                                            Nos   \n",
       "1                  HGNC:12012                                           TPM3   \n",
       "2                  HGNC:15516                                          XYLT1   \n",
       "3     WormBase:WBGene00000065                                          act-3   \n",
       "4                   HGNC:6485                                          LAMA5   \n",
       "5  ENSEMBL:ENSECAG00000023844                     ENSEMBL:ENSECAG00000023844   \n",
       "6                 MGI:3621491    Dmd<mdx>/Dmd<mdx> [C57BL/10ScSn-Dmd<mdx>/J]   \n",
       "7                 MGI:1859649                                        Ctnnal1   \n",
       "8       ClinVarVariant:803793  NM_004006.3(DMD):c.9950_9951del (p.Lys3317fs)   \n",
       "9        PomBase:SPAC27F1.02c                                           cdc8   \n",
       "\n",
       "   class_head  index_head                        relation  \\\n",
       "0           5        9594  in orthology relationship with   \n",
       "1           5        1813                  interacts with   \n",
       "2           5        3228                causes condition   \n",
       "3           5        3272  in orthology relationship with   \n",
       "4           5        4641                  interacts with   \n",
       "5           5        9822  in orthology relationship with   \n",
       "6           6        4598                causes condition   \n",
       "7           5        5773  in orthology relationship with   \n",
       "8          10        1815                causes condition   \n",
       "9           5        3477  in orthology relationship with   \n",
       "\n",
       "                         tail  \n",
       "0  ENSEMBL:ENSCAFG00000009820  \n",
       "1                  HGNC:11946  \n",
       "2                  HP:0002650  \n",
       "3  ENSEMBL:ENSOANG00000007850  \n",
       "4                    HGNC:329  \n",
       "5  ENSEMBL:ENSGALG00000042388  \n",
       "6                  MP:0011966  \n",
       "7  ENSEMBL:ENSACAG00000001940  \n",
       "8               MONDO:0010679  \n",
       "9                 RGD:1559479  "
      ]
     },
     "execution_count": 10,
     "metadata": {},
     "output_type": "execute_result"
    }
   ],
   "source": [
    "kg_df = pd.merge(edges, nodes,\n",
    "                 left_on='head', right_on='id',\n",
    "                 how='left')\n",
    "kg_df = kg_df[['head', 'label', 'semantic_id', 'index_id', 'relation', 'tail']]\n",
    "kg_df.rename(columns={'label': 'label_head', 'semantic_id': 'class_head', 'index_id': 'index_head'}, inplace=True)\n",
    "kg_df.head(10)"
   ]
  },
  {
   "cell_type": "code",
   "execution_count": 11,
   "metadata": {},
   "outputs": [
    {
     "data": {
      "text/html": [
       "<div>\n",
       "<style scoped>\n",
       "    .dataframe tbody tr th:only-of-type {\n",
       "        vertical-align: middle;\n",
       "    }\n",
       "\n",
       "    .dataframe tbody tr th {\n",
       "        vertical-align: top;\n",
       "    }\n",
       "\n",
       "    .dataframe thead th {\n",
       "        text-align: right;\n",
       "    }\n",
       "</style>\n",
       "<table border=\"1\" class=\"dataframe\">\n",
       "  <thead>\n",
       "    <tr style=\"text-align: right;\">\n",
       "      <th></th>\n",
       "      <th>head</th>\n",
       "      <th>label_head</th>\n",
       "      <th>class_head</th>\n",
       "      <th>index_head</th>\n",
       "      <th>relation</th>\n",
       "      <th>tail</th>\n",
       "      <th>label_tail</th>\n",
       "      <th>class_tail</th>\n",
       "      <th>index_tail</th>\n",
       "    </tr>\n",
       "  </thead>\n",
       "  <tbody>\n",
       "    <tr>\n",
       "      <th>0</th>\n",
       "      <td>FlyBase:FBgn0011676</td>\n",
       "      <td>Nos</td>\n",
       "      <td>5</td>\n",
       "      <td>9594</td>\n",
       "      <td>in orthology relationship with</td>\n",
       "      <td>ENSEMBL:ENSCAFG00000009820</td>\n",
       "      <td>ENSEMBL:ENSCAFG00000009820</td>\n",
       "      <td>5</td>\n",
       "      <td>7362</td>\n",
       "    </tr>\n",
       "    <tr>\n",
       "      <th>1</th>\n",
       "      <td>HGNC:12012</td>\n",
       "      <td>TPM3</td>\n",
       "      <td>5</td>\n",
       "      <td>1813</td>\n",
       "      <td>interacts with</td>\n",
       "      <td>HGNC:11946</td>\n",
       "      <td>TNNI2</td>\n",
       "      <td>5</td>\n",
       "      <td>7360</td>\n",
       "    </tr>\n",
       "    <tr>\n",
       "      <th>2</th>\n",
       "      <td>HGNC:15516</td>\n",
       "      <td>XYLT1</td>\n",
       "      <td>5</td>\n",
       "      <td>3228</td>\n",
       "      <td>causes condition</td>\n",
       "      <td>HP:0002650</td>\n",
       "      <td>Scoliosis</td>\n",
       "      <td>8</td>\n",
       "      <td>2102</td>\n",
       "    </tr>\n",
       "    <tr>\n",
       "      <th>3</th>\n",
       "      <td>WormBase:WBGene00000065</td>\n",
       "      <td>act-3</td>\n",
       "      <td>5</td>\n",
       "      <td>3272</td>\n",
       "      <td>in orthology relationship with</td>\n",
       "      <td>ENSEMBL:ENSOANG00000007850</td>\n",
       "      <td>ENSEMBL:ENSOANG00000007850</td>\n",
       "      <td>5</td>\n",
       "      <td>2284</td>\n",
       "    </tr>\n",
       "    <tr>\n",
       "      <th>4</th>\n",
       "      <td>HGNC:6485</td>\n",
       "      <td>LAMA5</td>\n",
       "      <td>5</td>\n",
       "      <td>4641</td>\n",
       "      <td>interacts with</td>\n",
       "      <td>HGNC:329</td>\n",
       "      <td>AGRN</td>\n",
       "      <td>5</td>\n",
       "      <td>2205</td>\n",
       "    </tr>\n",
       "    <tr>\n",
       "      <th>5</th>\n",
       "      <td>ENSEMBL:ENSECAG00000023844</td>\n",
       "      <td>ENSEMBL:ENSECAG00000023844</td>\n",
       "      <td>5</td>\n",
       "      <td>9822</td>\n",
       "      <td>in orthology relationship with</td>\n",
       "      <td>ENSEMBL:ENSGALG00000042388</td>\n",
       "      <td>A0A3Q2TS00</td>\n",
       "      <td>5</td>\n",
       "      <td>9573</td>\n",
       "    </tr>\n",
       "    <tr>\n",
       "      <th>6</th>\n",
       "      <td>MGI:3621491</td>\n",
       "      <td>Dmd&lt;mdx&gt;/Dmd&lt;mdx&gt; [C57BL/10ScSn-Dmd&lt;mdx&gt;/J]</td>\n",
       "      <td>6</td>\n",
       "      <td>4598</td>\n",
       "      <td>causes condition</td>\n",
       "      <td>MP:0011966</td>\n",
       "      <td>abnormal auditory brainstem response waveform ...</td>\n",
       "      <td>8</td>\n",
       "      <td>839</td>\n",
       "    </tr>\n",
       "    <tr>\n",
       "      <th>7</th>\n",
       "      <td>MGI:1859649</td>\n",
       "      <td>Ctnnal1</td>\n",
       "      <td>5</td>\n",
       "      <td>5773</td>\n",
       "      <td>in orthology relationship with</td>\n",
       "      <td>ENSEMBL:ENSACAG00000001940</td>\n",
       "      <td>ENSEMBL:ENSACAG00000001940</td>\n",
       "      <td>5</td>\n",
       "      <td>2803</td>\n",
       "    </tr>\n",
       "    <tr>\n",
       "      <th>8</th>\n",
       "      <td>ClinVarVariant:803793</td>\n",
       "      <td>NM_004006.3(DMD):c.9950_9951del (p.Lys3317fs)</td>\n",
       "      <td>10</td>\n",
       "      <td>1815</td>\n",
       "      <td>causes condition</td>\n",
       "      <td>MONDO:0010679</td>\n",
       "      <td>Duchenne muscular dystrophy</td>\n",
       "      <td>3</td>\n",
       "      <td>4672</td>\n",
       "    </tr>\n",
       "    <tr>\n",
       "      <th>9</th>\n",
       "      <td>PomBase:SPAC27F1.02c</td>\n",
       "      <td>cdc8</td>\n",
       "      <td>5</td>\n",
       "      <td>3477</td>\n",
       "      <td>in orthology relationship with</td>\n",
       "      <td>RGD:1559479</td>\n",
       "      <td>Tpm2</td>\n",
       "      <td>5</td>\n",
       "      <td>6456</td>\n",
       "    </tr>\n",
       "  </tbody>\n",
       "</table>\n",
       "</div>"
      ],
      "text/plain": [
       "                         head                                     label_head  \\\n",
       "0         FlyBase:FBgn0011676                                            Nos   \n",
       "1                  HGNC:12012                                           TPM3   \n",
       "2                  HGNC:15516                                          XYLT1   \n",
       "3     WormBase:WBGene00000065                                          act-3   \n",
       "4                   HGNC:6485                                          LAMA5   \n",
       "5  ENSEMBL:ENSECAG00000023844                     ENSEMBL:ENSECAG00000023844   \n",
       "6                 MGI:3621491    Dmd<mdx>/Dmd<mdx> [C57BL/10ScSn-Dmd<mdx>/J]   \n",
       "7                 MGI:1859649                                        Ctnnal1   \n",
       "8       ClinVarVariant:803793  NM_004006.3(DMD):c.9950_9951del (p.Lys3317fs)   \n",
       "9        PomBase:SPAC27F1.02c                                           cdc8   \n",
       "\n",
       "   class_head  index_head                        relation  \\\n",
       "0           5        9594  in orthology relationship with   \n",
       "1           5        1813                  interacts with   \n",
       "2           5        3228                causes condition   \n",
       "3           5        3272  in orthology relationship with   \n",
       "4           5        4641                  interacts with   \n",
       "5           5        9822  in orthology relationship with   \n",
       "6           6        4598                causes condition   \n",
       "7           5        5773  in orthology relationship with   \n",
       "8          10        1815                causes condition   \n",
       "9           5        3477  in orthology relationship with   \n",
       "\n",
       "                         tail  \\\n",
       "0  ENSEMBL:ENSCAFG00000009820   \n",
       "1                  HGNC:11946   \n",
       "2                  HP:0002650   \n",
       "3  ENSEMBL:ENSOANG00000007850   \n",
       "4                    HGNC:329   \n",
       "5  ENSEMBL:ENSGALG00000042388   \n",
       "6                  MP:0011966   \n",
       "7  ENSEMBL:ENSACAG00000001940   \n",
       "8               MONDO:0010679   \n",
       "9                 RGD:1559479   \n",
       "\n",
       "                                          label_tail  class_tail  index_tail  \n",
       "0                         ENSEMBL:ENSCAFG00000009820           5        7362  \n",
       "1                                              TNNI2           5        7360  \n",
       "2                                          Scoliosis           8        2102  \n",
       "3                         ENSEMBL:ENSOANG00000007850           5        2284  \n",
       "4                                               AGRN           5        2205  \n",
       "5                                         A0A3Q2TS00           5        9573  \n",
       "6  abnormal auditory brainstem response waveform ...           8         839  \n",
       "7                         ENSEMBL:ENSACAG00000001940           5        2803  \n",
       "8                        Duchenne muscular dystrophy           3        4672  \n",
       "9                                               Tpm2           5        6456  "
      ]
     },
     "execution_count": 11,
     "metadata": {},
     "output_type": "execute_result"
    }
   ],
   "source": [
    "kg_df = pd.merge(kg_df, nodes,\n",
    "                 left_on='tail', right_on='id',\n",
    "                 how='left')\n",
    "kg_df = kg_df[['head', 'label_head', 'class_head', 'index_head', 'relation', 'tail', 'label', 'semantic_id', 'index_id']]\n",
    "kg_df.rename(columns={'label': 'label_tail', 'semantic_id': 'class_tail', 'index_id': 'index_tail'}, inplace=True)\n",
    "kg_df.head(10)"
   ]
  },
  {
   "cell_type": "code",
   "execution_count": 12,
   "metadata": {},
   "outputs": [
    {
     "data": {
      "text/html": [
       "<div>\n",
       "<style scoped>\n",
       "    .dataframe tbody tr th:only-of-type {\n",
       "        vertical-align: middle;\n",
       "    }\n",
       "\n",
       "    .dataframe tbody tr th {\n",
       "        vertical-align: top;\n",
       "    }\n",
       "\n",
       "    .dataframe thead th {\n",
       "        text-align: right;\n",
       "    }\n",
       "</style>\n",
       "<table border=\"1\" class=\"dataframe\">\n",
       "  <thead>\n",
       "    <tr style=\"text-align: right;\">\n",
       "      <th></th>\n",
       "      <th>id</th>\n",
       "      <th>semantic</th>\n",
       "      <th>label</th>\n",
       "      <th>semantic_id</th>\n",
       "    </tr>\n",
       "  </thead>\n",
       "  <tbody>\n",
       "    <tr>\n",
       "      <th>0</th>\n",
       "      <td>MP:0020358</td>\n",
       "      <td>phenotype</td>\n",
       "      <td>abnormal inhibitory synapse morphology</td>\n",
       "      <td>8</td>\n",
       "    </tr>\n",
       "    <tr>\n",
       "      <th>1</th>\n",
       "      <td>HP:0000670</td>\n",
       "      <td>phenotype</td>\n",
       "      <td>Carious teeth</td>\n",
       "      <td>8</td>\n",
       "    </tr>\n",
       "    <tr>\n",
       "      <th>2</th>\n",
       "      <td>ENSEMBL:ENSCAFG00000017522</td>\n",
       "      <td>gene</td>\n",
       "      <td>ENSEMBL:ENSCAFG00000017522</td>\n",
       "      <td>5</td>\n",
       "    </tr>\n",
       "    <tr>\n",
       "      <th>3</th>\n",
       "      <td>ZFIN:ZDB-GENE-070705-188</td>\n",
       "      <td>gene</td>\n",
       "      <td>chrm1b</td>\n",
       "      <td>5</td>\n",
       "    </tr>\n",
       "    <tr>\n",
       "      <th>4</th>\n",
       "      <td>HP:0000544</td>\n",
       "      <td>phenotype</td>\n",
       "      <td>External ophthalmoplegia</td>\n",
       "      <td>8</td>\n",
       "    </tr>\n",
       "    <tr>\n",
       "      <th>5</th>\n",
       "      <td>ZFIN:ZDB-GENE-040426-1146</td>\n",
       "      <td>gene</td>\n",
       "      <td>traf3ip1</td>\n",
       "      <td>5</td>\n",
       "    </tr>\n",
       "    <tr>\n",
       "      <th>6</th>\n",
       "      <td>MP:0001900</td>\n",
       "      <td>phenotype</td>\n",
       "      <td>impaired synaptic plasticity</td>\n",
       "      <td>8</td>\n",
       "    </tr>\n",
       "    <tr>\n",
       "      <th>7</th>\n",
       "      <td>ClinVarVariant:650539</td>\n",
       "      <td>variant</td>\n",
       "      <td>NM_004006.2(DMD):c.6439-10_8217+32103dup</td>\n",
       "      <td>10</td>\n",
       "    </tr>\n",
       "    <tr>\n",
       "      <th>8</th>\n",
       "      <td>ZFIN:ZDB-GENE-070228-4</td>\n",
       "      <td>gene</td>\n",
       "      <td>drp2</td>\n",
       "      <td>5</td>\n",
       "    </tr>\n",
       "    <tr>\n",
       "      <th>9</th>\n",
       "      <td>HGNC:7611</td>\n",
       "      <td>gene</td>\n",
       "      <td>MYOD1</td>\n",
       "      <td>5</td>\n",
       "    </tr>\n",
       "  </tbody>\n",
       "</table>\n",
       "</div>"
      ],
      "text/plain": [
       "                           id   semantic  \\\n",
       "0                  MP:0020358  phenotype   \n",
       "1                  HP:0000670  phenotype   \n",
       "2  ENSEMBL:ENSCAFG00000017522       gene   \n",
       "3    ZFIN:ZDB-GENE-070705-188       gene   \n",
       "4                  HP:0000544  phenotype   \n",
       "5   ZFIN:ZDB-GENE-040426-1146       gene   \n",
       "6                  MP:0001900  phenotype   \n",
       "7       ClinVarVariant:650539    variant   \n",
       "8      ZFIN:ZDB-GENE-070228-4       gene   \n",
       "9                   HGNC:7611       gene   \n",
       "\n",
       "                                      label  semantic_id  \n",
       "0    abnormal inhibitory synapse morphology            8  \n",
       "1                             Carious teeth            8  \n",
       "2                ENSEMBL:ENSCAFG00000017522            5  \n",
       "3                                    chrm1b            5  \n",
       "4                  External ophthalmoplegia            8  \n",
       "5                                  traf3ip1            5  \n",
       "6              impaired synaptic plasticity            8  \n",
       "7  NM_004006.2(DMD):c.6439-10_8217+32103dup           10  \n",
       "8                                      drp2            5  \n",
       "9                                     MYOD1            5  "
      ]
     },
     "execution_count": 12,
     "metadata": {},
     "output_type": "execute_result"
    }
   ],
   "source": [
    "nodes.drop('index_id', axis=1, inplace=True)\n",
    "nodes.head(10)"
   ]
  },
  {
   "cell_type": "code",
   "execution_count": 13,
   "metadata": {},
   "outputs": [
    {
     "data": {
      "text/html": [
       "<div>\n",
       "<style scoped>\n",
       "    .dataframe tbody tr th:only-of-type {\n",
       "        vertical-align: middle;\n",
       "    }\n",
       "\n",
       "    .dataframe tbody tr th {\n",
       "        vertical-align: top;\n",
       "    }\n",
       "\n",
       "    .dataframe thead th {\n",
       "        text-align: right;\n",
       "    }\n",
       "</style>\n",
       "<table border=\"1\" class=\"dataframe\">\n",
       "  <thead>\n",
       "    <tr style=\"text-align: right;\">\n",
       "      <th></th>\n",
       "      <th>head</th>\n",
       "      <th>label_head</th>\n",
       "      <th>class_head</th>\n",
       "      <th>index_head</th>\n",
       "      <th>relation</th>\n",
       "      <th>tail</th>\n",
       "      <th>label_tail</th>\n",
       "      <th>class_tail</th>\n",
       "      <th>index_tail</th>\n",
       "    </tr>\n",
       "  </thead>\n",
       "  <tbody>\n",
       "    <tr>\n",
       "      <th>0</th>\n",
       "      <td>FlyBase:FBgn0011676</td>\n",
       "      <td>Nos</td>\n",
       "      <td>5</td>\n",
       "      <td>9594</td>\n",
       "      <td>in orthology relationship with</td>\n",
       "      <td>ENSEMBL:ENSCAFG00000009820</td>\n",
       "      <td>ENSEMBL:ENSCAFG00000009820</td>\n",
       "      <td>5</td>\n",
       "      <td>7362</td>\n",
       "    </tr>\n",
       "    <tr>\n",
       "      <th>1</th>\n",
       "      <td>HGNC:12012</td>\n",
       "      <td>TPM3</td>\n",
       "      <td>5</td>\n",
       "      <td>1813</td>\n",
       "      <td>interacts with</td>\n",
       "      <td>HGNC:11946</td>\n",
       "      <td>TNNI2</td>\n",
       "      <td>5</td>\n",
       "      <td>7360</td>\n",
       "    </tr>\n",
       "    <tr>\n",
       "      <th>2</th>\n",
       "      <td>HGNC:15516</td>\n",
       "      <td>XYLT1</td>\n",
       "      <td>5</td>\n",
       "      <td>3228</td>\n",
       "      <td>causes condition</td>\n",
       "      <td>HP:0002650</td>\n",
       "      <td>Scoliosis</td>\n",
       "      <td>8</td>\n",
       "      <td>2102</td>\n",
       "    </tr>\n",
       "    <tr>\n",
       "      <th>3</th>\n",
       "      <td>WormBase:WBGene00000065</td>\n",
       "      <td>act-3</td>\n",
       "      <td>5</td>\n",
       "      <td>3272</td>\n",
       "      <td>in orthology relationship with</td>\n",
       "      <td>ENSEMBL:ENSOANG00000007850</td>\n",
       "      <td>ENSEMBL:ENSOANG00000007850</td>\n",
       "      <td>5</td>\n",
       "      <td>2284</td>\n",
       "    </tr>\n",
       "    <tr>\n",
       "      <th>4</th>\n",
       "      <td>HGNC:6485</td>\n",
       "      <td>LAMA5</td>\n",
       "      <td>5</td>\n",
       "      <td>4641</td>\n",
       "      <td>interacts with</td>\n",
       "      <td>HGNC:329</td>\n",
       "      <td>AGRN</td>\n",
       "      <td>5</td>\n",
       "      <td>2205</td>\n",
       "    </tr>\n",
       "    <tr>\n",
       "      <th>5</th>\n",
       "      <td>ENSEMBL:ENSECAG00000023844</td>\n",
       "      <td>ENSEMBL:ENSECAG00000023844</td>\n",
       "      <td>5</td>\n",
       "      <td>9822</td>\n",
       "      <td>in orthology relationship with</td>\n",
       "      <td>ENSEMBL:ENSGALG00000042388</td>\n",
       "      <td>A0A3Q2TS00</td>\n",
       "      <td>5</td>\n",
       "      <td>9573</td>\n",
       "    </tr>\n",
       "    <tr>\n",
       "      <th>6</th>\n",
       "      <td>MGI:3621491</td>\n",
       "      <td>Dmd&lt;mdx&gt;/Dmd&lt;mdx&gt; [C57BL/10ScSn-Dmd&lt;mdx&gt;/J]</td>\n",
       "      <td>6</td>\n",
       "      <td>4598</td>\n",
       "      <td>causes condition</td>\n",
       "      <td>MP:0011966</td>\n",
       "      <td>abnormal auditory brainstem response waveform ...</td>\n",
       "      <td>8</td>\n",
       "      <td>839</td>\n",
       "    </tr>\n",
       "    <tr>\n",
       "      <th>7</th>\n",
       "      <td>MGI:1859649</td>\n",
       "      <td>Ctnnal1</td>\n",
       "      <td>5</td>\n",
       "      <td>5773</td>\n",
       "      <td>in orthology relationship with</td>\n",
       "      <td>ENSEMBL:ENSACAG00000001940</td>\n",
       "      <td>ENSEMBL:ENSACAG00000001940</td>\n",
       "      <td>5</td>\n",
       "      <td>2803</td>\n",
       "    </tr>\n",
       "    <tr>\n",
       "      <th>8</th>\n",
       "      <td>ClinVarVariant:803793</td>\n",
       "      <td>NM_004006.3(DMD):c.9950_9951del (p.Lys3317fs)</td>\n",
       "      <td>10</td>\n",
       "      <td>1815</td>\n",
       "      <td>causes condition</td>\n",
       "      <td>MONDO:0010679</td>\n",
       "      <td>Duchenne muscular dystrophy</td>\n",
       "      <td>3</td>\n",
       "      <td>4672</td>\n",
       "    </tr>\n",
       "    <tr>\n",
       "      <th>9</th>\n",
       "      <td>PomBase:SPAC27F1.02c</td>\n",
       "      <td>cdc8</td>\n",
       "      <td>5</td>\n",
       "      <td>3477</td>\n",
       "      <td>in orthology relationship with</td>\n",
       "      <td>RGD:1559479</td>\n",
       "      <td>Tpm2</td>\n",
       "      <td>5</td>\n",
       "      <td>6456</td>\n",
       "    </tr>\n",
       "    <tr>\n",
       "      <th>10</th>\n",
       "      <td>ENSEMBL:ENSSSCG00000014878</td>\n",
       "      <td>PAK1</td>\n",
       "      <td>5</td>\n",
       "      <td>1355</td>\n",
       "      <td>in orthology relationship with</td>\n",
       "      <td>ENSEMBL:ENSBTAG00000010191</td>\n",
       "      <td>ENSEMBL:ENSBTAG00000010191</td>\n",
       "      <td>5</td>\n",
       "      <td>9981</td>\n",
       "    </tr>\n",
       "    <tr>\n",
       "      <th>11</th>\n",
       "      <td>HGNC:7576</td>\n",
       "      <td>MYH6</td>\n",
       "      <td>5</td>\n",
       "      <td>9096</td>\n",
       "      <td>in orthology relationship with</td>\n",
       "      <td>ENSEMBL:ENSFCAG00000009092</td>\n",
       "      <td>ENSEMBL:ENSFCAG00000009092</td>\n",
       "      <td>5</td>\n",
       "      <td>8297</td>\n",
       "    </tr>\n",
       "    <tr>\n",
       "      <th>12</th>\n",
       "      <td>180</td>\n",
       "      <td>amitriptyline</td>\n",
       "      <td>4</td>\n",
       "      <td>8839</td>\n",
       "      <td>targets</td>\n",
       "      <td>HGNC:1950</td>\n",
       "      <td>CHRM1</td>\n",
       "      <td>5</td>\n",
       "      <td>8797</td>\n",
       "    </tr>\n",
       "    <tr>\n",
       "      <th>13</th>\n",
       "      <td>MGI:1277968</td>\n",
       "      <td>Cavin1</td>\n",
       "      <td>5</td>\n",
       "      <td>5519</td>\n",
       "      <td>interacts with</td>\n",
       "      <td>MGI:94909</td>\n",
       "      <td>Dmd</td>\n",
       "      <td>5</td>\n",
       "      <td>1400</td>\n",
       "    </tr>\n",
       "    <tr>\n",
       "      <th>14</th>\n",
       "      <td>ENSEMBL:ENSOANG00000013754</td>\n",
       "      <td>ENSEMBL:ENSOANG00000013754</td>\n",
       "      <td>5</td>\n",
       "      <td>1381</td>\n",
       "      <td>in orthology relationship with</td>\n",
       "      <td>HGNC:28958</td>\n",
       "      <td>NUP93</td>\n",
       "      <td>5</td>\n",
       "      <td>1826</td>\n",
       "    </tr>\n",
       "  </tbody>\n",
       "</table>\n",
       "</div>"
      ],
      "text/plain": [
       "                          head                                     label_head  \\\n",
       "0          FlyBase:FBgn0011676                                            Nos   \n",
       "1                   HGNC:12012                                           TPM3   \n",
       "2                   HGNC:15516                                          XYLT1   \n",
       "3      WormBase:WBGene00000065                                          act-3   \n",
       "4                    HGNC:6485                                          LAMA5   \n",
       "5   ENSEMBL:ENSECAG00000023844                     ENSEMBL:ENSECAG00000023844   \n",
       "6                  MGI:3621491    Dmd<mdx>/Dmd<mdx> [C57BL/10ScSn-Dmd<mdx>/J]   \n",
       "7                  MGI:1859649                                        Ctnnal1   \n",
       "8        ClinVarVariant:803793  NM_004006.3(DMD):c.9950_9951del (p.Lys3317fs)   \n",
       "9         PomBase:SPAC27F1.02c                                           cdc8   \n",
       "10  ENSEMBL:ENSSSCG00000014878                                           PAK1   \n",
       "11                   HGNC:7576                                           MYH6   \n",
       "12                         180                                  amitriptyline   \n",
       "13                 MGI:1277968                                         Cavin1   \n",
       "14  ENSEMBL:ENSOANG00000013754                     ENSEMBL:ENSOANG00000013754   \n",
       "\n",
       "    class_head  index_head                        relation  \\\n",
       "0            5        9594  in orthology relationship with   \n",
       "1            5        1813                  interacts with   \n",
       "2            5        3228                causes condition   \n",
       "3            5        3272  in orthology relationship with   \n",
       "4            5        4641                  interacts with   \n",
       "5            5        9822  in orthology relationship with   \n",
       "6            6        4598                causes condition   \n",
       "7            5        5773  in orthology relationship with   \n",
       "8           10        1815                causes condition   \n",
       "9            5        3477  in orthology relationship with   \n",
       "10           5        1355  in orthology relationship with   \n",
       "11           5        9096  in orthology relationship with   \n",
       "12           4        8839                         targets   \n",
       "13           5        5519                  interacts with   \n",
       "14           5        1381  in orthology relationship with   \n",
       "\n",
       "                          tail  \\\n",
       "0   ENSEMBL:ENSCAFG00000009820   \n",
       "1                   HGNC:11946   \n",
       "2                   HP:0002650   \n",
       "3   ENSEMBL:ENSOANG00000007850   \n",
       "4                     HGNC:329   \n",
       "5   ENSEMBL:ENSGALG00000042388   \n",
       "6                   MP:0011966   \n",
       "7   ENSEMBL:ENSACAG00000001940   \n",
       "8                MONDO:0010679   \n",
       "9                  RGD:1559479   \n",
       "10  ENSEMBL:ENSBTAG00000010191   \n",
       "11  ENSEMBL:ENSFCAG00000009092   \n",
       "12                   HGNC:1950   \n",
       "13                   MGI:94909   \n",
       "14                  HGNC:28958   \n",
       "\n",
       "                                           label_tail  class_tail  index_tail  \n",
       "0                          ENSEMBL:ENSCAFG00000009820           5        7362  \n",
       "1                                               TNNI2           5        7360  \n",
       "2                                           Scoliosis           8        2102  \n",
       "3                          ENSEMBL:ENSOANG00000007850           5        2284  \n",
       "4                                                AGRN           5        2205  \n",
       "5                                          A0A3Q2TS00           5        9573  \n",
       "6   abnormal auditory brainstem response waveform ...           8         839  \n",
       "7                          ENSEMBL:ENSACAG00000001940           5        2803  \n",
       "8                         Duchenne muscular dystrophy           3        4672  \n",
       "9                                                Tpm2           5        6456  \n",
       "10                         ENSEMBL:ENSBTAG00000010191           5        9981  \n",
       "11                         ENSEMBL:ENSFCAG00000009092           5        8297  \n",
       "12                                              CHRM1           5        8797  \n",
       "13                                                Dmd           5        1400  \n",
       "14                                              NUP93           5        1826  "
      ]
     },
     "execution_count": 13,
     "metadata": {},
     "output_type": "execute_result"
    }
   ],
   "source": [
    "kg_df.head(15)"
   ]
  },
  {
   "attachments": {},
   "cell_type": "markdown",
   "metadata": {},
   "source": [
    "# Preparation E2V Data"
   ]
  },
  {
   "attachments": {},
   "cell_type": "markdown",
   "metadata": {},
   "source": [
    "Encode string values of relation labels as numeric values."
   ]
  },
  {
   "cell_type": "code",
   "execution_count": 14,
   "metadata": {},
   "outputs": [
    {
     "data": {
      "text/html": [
       "<div>\n",
       "<style scoped>\n",
       "    .dataframe tbody tr th:only-of-type {\n",
       "        vertical-align: middle;\n",
       "    }\n",
       "\n",
       "    .dataframe tbody tr th {\n",
       "        vertical-align: top;\n",
       "    }\n",
       "\n",
       "    .dataframe thead th {\n",
       "        text-align: right;\n",
       "    }\n",
       "</style>\n",
       "<table border=\"1\" class=\"dataframe\">\n",
       "  <thead>\n",
       "    <tr style=\"text-align: right;\">\n",
       "      <th></th>\n",
       "      <th>head</th>\n",
       "      <th>label_head</th>\n",
       "      <th>class_head</th>\n",
       "      <th>index_head</th>\n",
       "      <th>relation</th>\n",
       "      <th>tail</th>\n",
       "      <th>label_tail</th>\n",
       "      <th>class_tail</th>\n",
       "      <th>index_tail</th>\n",
       "      <th>type</th>\n",
       "    </tr>\n",
       "  </thead>\n",
       "  <tbody>\n",
       "    <tr>\n",
       "      <th>0</th>\n",
       "      <td>FlyBase:FBgn0011676</td>\n",
       "      <td>Nos</td>\n",
       "      <td>5</td>\n",
       "      <td>9594</td>\n",
       "      <td>in orthology relationship with</td>\n",
       "      <td>ENSEMBL:ENSCAFG00000009820</td>\n",
       "      <td>ENSEMBL:ENSCAFG00000009820</td>\n",
       "      <td>5</td>\n",
       "      <td>7362</td>\n",
       "      <td>0</td>\n",
       "    </tr>\n",
       "    <tr>\n",
       "      <th>1</th>\n",
       "      <td>HGNC:12012</td>\n",
       "      <td>TPM3</td>\n",
       "      <td>5</td>\n",
       "      <td>1813</td>\n",
       "      <td>interacts with</td>\n",
       "      <td>HGNC:11946</td>\n",
       "      <td>TNNI2</td>\n",
       "      <td>5</td>\n",
       "      <td>7360</td>\n",
       "      <td>1</td>\n",
       "    </tr>\n",
       "    <tr>\n",
       "      <th>2</th>\n",
       "      <td>HGNC:15516</td>\n",
       "      <td>XYLT1</td>\n",
       "      <td>5</td>\n",
       "      <td>3228</td>\n",
       "      <td>causes condition</td>\n",
       "      <td>HP:0002650</td>\n",
       "      <td>Scoliosis</td>\n",
       "      <td>8</td>\n",
       "      <td>2102</td>\n",
       "      <td>2</td>\n",
       "    </tr>\n",
       "    <tr>\n",
       "      <th>3</th>\n",
       "      <td>WormBase:WBGene00000065</td>\n",
       "      <td>act-3</td>\n",
       "      <td>5</td>\n",
       "      <td>3272</td>\n",
       "      <td>in orthology relationship with</td>\n",
       "      <td>ENSEMBL:ENSOANG00000007850</td>\n",
       "      <td>ENSEMBL:ENSOANG00000007850</td>\n",
       "      <td>5</td>\n",
       "      <td>2284</td>\n",
       "      <td>0</td>\n",
       "    </tr>\n",
       "    <tr>\n",
       "      <th>4</th>\n",
       "      <td>HGNC:6485</td>\n",
       "      <td>LAMA5</td>\n",
       "      <td>5</td>\n",
       "      <td>4641</td>\n",
       "      <td>interacts with</td>\n",
       "      <td>HGNC:329</td>\n",
       "      <td>AGRN</td>\n",
       "      <td>5</td>\n",
       "      <td>2205</td>\n",
       "      <td>1</td>\n",
       "    </tr>\n",
       "    <tr>\n",
       "      <th>5</th>\n",
       "      <td>ENSEMBL:ENSECAG00000023844</td>\n",
       "      <td>ENSEMBL:ENSECAG00000023844</td>\n",
       "      <td>5</td>\n",
       "      <td>9822</td>\n",
       "      <td>in orthology relationship with</td>\n",
       "      <td>ENSEMBL:ENSGALG00000042388</td>\n",
       "      <td>A0A3Q2TS00</td>\n",
       "      <td>5</td>\n",
       "      <td>9573</td>\n",
       "      <td>0</td>\n",
       "    </tr>\n",
       "    <tr>\n",
       "      <th>6</th>\n",
       "      <td>MGI:3621491</td>\n",
       "      <td>Dmd&lt;mdx&gt;/Dmd&lt;mdx&gt; [C57BL/10ScSn-Dmd&lt;mdx&gt;/J]</td>\n",
       "      <td>6</td>\n",
       "      <td>4598</td>\n",
       "      <td>causes condition</td>\n",
       "      <td>MP:0011966</td>\n",
       "      <td>abnormal auditory brainstem response waveform ...</td>\n",
       "      <td>8</td>\n",
       "      <td>839</td>\n",
       "      <td>2</td>\n",
       "    </tr>\n",
       "    <tr>\n",
       "      <th>7</th>\n",
       "      <td>MGI:1859649</td>\n",
       "      <td>Ctnnal1</td>\n",
       "      <td>5</td>\n",
       "      <td>5773</td>\n",
       "      <td>in orthology relationship with</td>\n",
       "      <td>ENSEMBL:ENSACAG00000001940</td>\n",
       "      <td>ENSEMBL:ENSACAG00000001940</td>\n",
       "      <td>5</td>\n",
       "      <td>2803</td>\n",
       "      <td>0</td>\n",
       "    </tr>\n",
       "    <tr>\n",
       "      <th>8</th>\n",
       "      <td>ClinVarVariant:803793</td>\n",
       "      <td>NM_004006.3(DMD):c.9950_9951del (p.Lys3317fs)</td>\n",
       "      <td>10</td>\n",
       "      <td>1815</td>\n",
       "      <td>causes condition</td>\n",
       "      <td>MONDO:0010679</td>\n",
       "      <td>Duchenne muscular dystrophy</td>\n",
       "      <td>3</td>\n",
       "      <td>4672</td>\n",
       "      <td>2</td>\n",
       "    </tr>\n",
       "    <tr>\n",
       "      <th>9</th>\n",
       "      <td>PomBase:SPAC27F1.02c</td>\n",
       "      <td>cdc8</td>\n",
       "      <td>5</td>\n",
       "      <td>3477</td>\n",
       "      <td>in orthology relationship with</td>\n",
       "      <td>RGD:1559479</td>\n",
       "      <td>Tpm2</td>\n",
       "      <td>5</td>\n",
       "      <td>6456</td>\n",
       "      <td>0</td>\n",
       "    </tr>\n",
       "  </tbody>\n",
       "</table>\n",
       "</div>"
      ],
      "text/plain": [
       "                         head                                     label_head  \\\n",
       "0         FlyBase:FBgn0011676                                            Nos   \n",
       "1                  HGNC:12012                                           TPM3   \n",
       "2                  HGNC:15516                                          XYLT1   \n",
       "3     WormBase:WBGene00000065                                          act-3   \n",
       "4                   HGNC:6485                                          LAMA5   \n",
       "5  ENSEMBL:ENSECAG00000023844                     ENSEMBL:ENSECAG00000023844   \n",
       "6                 MGI:3621491    Dmd<mdx>/Dmd<mdx> [C57BL/10ScSn-Dmd<mdx>/J]   \n",
       "7                 MGI:1859649                                        Ctnnal1   \n",
       "8       ClinVarVariant:803793  NM_004006.3(DMD):c.9950_9951del (p.Lys3317fs)   \n",
       "9        PomBase:SPAC27F1.02c                                           cdc8   \n",
       "\n",
       "   class_head  index_head                        relation  \\\n",
       "0           5        9594  in orthology relationship with   \n",
       "1           5        1813                  interacts with   \n",
       "2           5        3228                causes condition   \n",
       "3           5        3272  in orthology relationship with   \n",
       "4           5        4641                  interacts with   \n",
       "5           5        9822  in orthology relationship with   \n",
       "6           6        4598                causes condition   \n",
       "7           5        5773  in orthology relationship with   \n",
       "8          10        1815                causes condition   \n",
       "9           5        3477  in orthology relationship with   \n",
       "\n",
       "                         tail  \\\n",
       "0  ENSEMBL:ENSCAFG00000009820   \n",
       "1                  HGNC:11946   \n",
       "2                  HP:0002650   \n",
       "3  ENSEMBL:ENSOANG00000007850   \n",
       "4                    HGNC:329   \n",
       "5  ENSEMBL:ENSGALG00000042388   \n",
       "6                  MP:0011966   \n",
       "7  ENSEMBL:ENSACAG00000001940   \n",
       "8               MONDO:0010679   \n",
       "9                 RGD:1559479   \n",
       "\n",
       "                                          label_tail  class_tail  index_tail  \\\n",
       "0                         ENSEMBL:ENSCAFG00000009820           5        7362   \n",
       "1                                              TNNI2           5        7360   \n",
       "2                                          Scoliosis           8        2102   \n",
       "3                         ENSEMBL:ENSOANG00000007850           5        2284   \n",
       "4                                               AGRN           5        2205   \n",
       "5                                         A0A3Q2TS00           5        9573   \n",
       "6  abnormal auditory brainstem response waveform ...           8         839   \n",
       "7                         ENSEMBL:ENSACAG00000001940           5        2803   \n",
       "8                        Duchenne muscular dystrophy           3        4672   \n",
       "9                                               Tpm2           5        6456   \n",
       "\n",
       "   type  \n",
       "0     0  \n",
       "1     1  \n",
       "2     2  \n",
       "3     0  \n",
       "4     1  \n",
       "5     0  \n",
       "6     2  \n",
       "7     0  \n",
       "8     2  \n",
       "9     0  "
      ]
     },
     "execution_count": 14,
     "metadata": {},
     "output_type": "execute_result"
    }
   ],
   "source": [
    "kg_df['type'], relation_labels = pd.factorize(kg_df['relation'])\n",
    "kg_df.head(10)"
   ]
  },
  {
   "attachments": {},
   "cell_type": "markdown",
   "metadata": {},
   "source": [
    "Index list can be used later for converting back to the label of the relation."
   ]
  },
  {
   "cell_type": "code",
   "execution_count": 15,
   "metadata": {},
   "outputs": [
    {
     "data": {
      "text/plain": [
       "Index(['in orthology relationship with', 'interacts with', 'causes condition',\n",
       "       'targets', 'is part of', 'found in', 'has role in modeling', 'is of',\n",
       "       'associated with phenotype', 'contributes to condition',\n",
       "       'likely causes condition', 'has affected feature', 'expresses gene',\n",
       "       'enables', 'is substance that treats', 'involved in',\n",
       "       'colocalizes with', 'is allele of', 'is variant in', 'has genotype'],\n",
       "      dtype='object')"
      ]
     },
     "execution_count": 15,
     "metadata": {},
     "output_type": "execute_result"
    }
   ],
   "source": [
    "relation_labels"
   ]
  },
  {
   "attachments": {},
   "cell_type": "markdown",
   "metadata": {},
   "source": [
    "Extract the relevant columns for applying the Edge2Vec method."
   ]
  },
  {
   "cell_type": "code",
   "execution_count": 16,
   "metadata": {},
   "outputs": [
    {
     "data": {
      "text/html": [
       "<div>\n",
       "<style scoped>\n",
       "    .dataframe tbody tr th:only-of-type {\n",
       "        vertical-align: middle;\n",
       "    }\n",
       "\n",
       "    .dataframe tbody tr th {\n",
       "        vertical-align: top;\n",
       "    }\n",
       "\n",
       "    .dataframe thead th {\n",
       "        text-align: right;\n",
       "    }\n",
       "</style>\n",
       "<table border=\"1\" class=\"dataframe\">\n",
       "  <thead>\n",
       "    <tr style=\"text-align: right;\">\n",
       "      <th></th>\n",
       "      <th>head</th>\n",
       "      <th>label_head</th>\n",
       "      <th>class_head</th>\n",
       "      <th>index_head</th>\n",
       "      <th>relation</th>\n",
       "      <th>tail</th>\n",
       "      <th>label_tail</th>\n",
       "      <th>class_tail</th>\n",
       "      <th>index_tail</th>\n",
       "      <th>type</th>\n",
       "    </tr>\n",
       "  </thead>\n",
       "  <tbody>\n",
       "    <tr>\n",
       "      <th>0</th>\n",
       "      <td>FlyBase:FBgn0011676</td>\n",
       "      <td>Nos</td>\n",
       "      <td>5</td>\n",
       "      <td>9594</td>\n",
       "      <td>in orthology relationship with</td>\n",
       "      <td>ENSEMBL:ENSCAFG00000009820</td>\n",
       "      <td>ENSEMBL:ENSCAFG00000009820</td>\n",
       "      <td>5</td>\n",
       "      <td>7362</td>\n",
       "      <td>0</td>\n",
       "    </tr>\n",
       "    <tr>\n",
       "      <th>1</th>\n",
       "      <td>HGNC:12012</td>\n",
       "      <td>TPM3</td>\n",
       "      <td>5</td>\n",
       "      <td>1813</td>\n",
       "      <td>interacts with</td>\n",
       "      <td>HGNC:11946</td>\n",
       "      <td>TNNI2</td>\n",
       "      <td>5</td>\n",
       "      <td>7360</td>\n",
       "      <td>1</td>\n",
       "    </tr>\n",
       "    <tr>\n",
       "      <th>2</th>\n",
       "      <td>HGNC:15516</td>\n",
       "      <td>XYLT1</td>\n",
       "      <td>5</td>\n",
       "      <td>3228</td>\n",
       "      <td>causes condition</td>\n",
       "      <td>HP:0002650</td>\n",
       "      <td>Scoliosis</td>\n",
       "      <td>8</td>\n",
       "      <td>2102</td>\n",
       "      <td>2</td>\n",
       "    </tr>\n",
       "    <tr>\n",
       "      <th>3</th>\n",
       "      <td>WormBase:WBGene00000065</td>\n",
       "      <td>act-3</td>\n",
       "      <td>5</td>\n",
       "      <td>3272</td>\n",
       "      <td>in orthology relationship with</td>\n",
       "      <td>ENSEMBL:ENSOANG00000007850</td>\n",
       "      <td>ENSEMBL:ENSOANG00000007850</td>\n",
       "      <td>5</td>\n",
       "      <td>2284</td>\n",
       "      <td>0</td>\n",
       "    </tr>\n",
       "    <tr>\n",
       "      <th>4</th>\n",
       "      <td>HGNC:6485</td>\n",
       "      <td>LAMA5</td>\n",
       "      <td>5</td>\n",
       "      <td>4641</td>\n",
       "      <td>interacts with</td>\n",
       "      <td>HGNC:329</td>\n",
       "      <td>AGRN</td>\n",
       "      <td>5</td>\n",
       "      <td>2205</td>\n",
       "      <td>1</td>\n",
       "    </tr>\n",
       "    <tr>\n",
       "      <th>5</th>\n",
       "      <td>ENSEMBL:ENSECAG00000023844</td>\n",
       "      <td>ENSEMBL:ENSECAG00000023844</td>\n",
       "      <td>5</td>\n",
       "      <td>9822</td>\n",
       "      <td>in orthology relationship with</td>\n",
       "      <td>ENSEMBL:ENSGALG00000042388</td>\n",
       "      <td>A0A3Q2TS00</td>\n",
       "      <td>5</td>\n",
       "      <td>9573</td>\n",
       "      <td>0</td>\n",
       "    </tr>\n",
       "    <tr>\n",
       "      <th>6</th>\n",
       "      <td>MGI:3621491</td>\n",
       "      <td>Dmd&lt;mdx&gt;/Dmd&lt;mdx&gt; [C57BL/10ScSn-Dmd&lt;mdx&gt;/J]</td>\n",
       "      <td>6</td>\n",
       "      <td>4598</td>\n",
       "      <td>causes condition</td>\n",
       "      <td>MP:0011966</td>\n",
       "      <td>abnormal auditory brainstem response waveform ...</td>\n",
       "      <td>8</td>\n",
       "      <td>839</td>\n",
       "      <td>2</td>\n",
       "    </tr>\n",
       "    <tr>\n",
       "      <th>7</th>\n",
       "      <td>MGI:1859649</td>\n",
       "      <td>Ctnnal1</td>\n",
       "      <td>5</td>\n",
       "      <td>5773</td>\n",
       "      <td>in orthology relationship with</td>\n",
       "      <td>ENSEMBL:ENSACAG00000001940</td>\n",
       "      <td>ENSEMBL:ENSACAG00000001940</td>\n",
       "      <td>5</td>\n",
       "      <td>2803</td>\n",
       "      <td>0</td>\n",
       "    </tr>\n",
       "    <tr>\n",
       "      <th>8</th>\n",
       "      <td>ClinVarVariant:803793</td>\n",
       "      <td>NM_004006.3(DMD):c.9950_9951del (p.Lys3317fs)</td>\n",
       "      <td>10</td>\n",
       "      <td>1815</td>\n",
       "      <td>causes condition</td>\n",
       "      <td>MONDO:0010679</td>\n",
       "      <td>Duchenne muscular dystrophy</td>\n",
       "      <td>3</td>\n",
       "      <td>4672</td>\n",
       "      <td>2</td>\n",
       "    </tr>\n",
       "    <tr>\n",
       "      <th>9</th>\n",
       "      <td>PomBase:SPAC27F1.02c</td>\n",
       "      <td>cdc8</td>\n",
       "      <td>5</td>\n",
       "      <td>3477</td>\n",
       "      <td>in orthology relationship with</td>\n",
       "      <td>RGD:1559479</td>\n",
       "      <td>Tpm2</td>\n",
       "      <td>5</td>\n",
       "      <td>6456</td>\n",
       "      <td>0</td>\n",
       "    </tr>\n",
       "  </tbody>\n",
       "</table>\n",
       "</div>"
      ],
      "text/plain": [
       "                         head                                     label_head  \\\n",
       "0         FlyBase:FBgn0011676                                            Nos   \n",
       "1                  HGNC:12012                                           TPM3   \n",
       "2                  HGNC:15516                                          XYLT1   \n",
       "3     WormBase:WBGene00000065                                          act-3   \n",
       "4                   HGNC:6485                                          LAMA5   \n",
       "5  ENSEMBL:ENSECAG00000023844                     ENSEMBL:ENSECAG00000023844   \n",
       "6                 MGI:3621491    Dmd<mdx>/Dmd<mdx> [C57BL/10ScSn-Dmd<mdx>/J]   \n",
       "7                 MGI:1859649                                        Ctnnal1   \n",
       "8       ClinVarVariant:803793  NM_004006.3(DMD):c.9950_9951del (p.Lys3317fs)   \n",
       "9        PomBase:SPAC27F1.02c                                           cdc8   \n",
       "\n",
       "   class_head index_head                        relation  \\\n",
       "0           5       9594  in orthology relationship with   \n",
       "1           5       1813                  interacts with   \n",
       "2           5       3228                causes condition   \n",
       "3           5       3272  in orthology relationship with   \n",
       "4           5       4641                  interacts with   \n",
       "5           5       9822  in orthology relationship with   \n",
       "6           6       4598                causes condition   \n",
       "7           5       5773  in orthology relationship with   \n",
       "8          10       1815                causes condition   \n",
       "9           5       3477  in orthology relationship with   \n",
       "\n",
       "                         tail  \\\n",
       "0  ENSEMBL:ENSCAFG00000009820   \n",
       "1                  HGNC:11946   \n",
       "2                  HP:0002650   \n",
       "3  ENSEMBL:ENSOANG00000007850   \n",
       "4                    HGNC:329   \n",
       "5  ENSEMBL:ENSGALG00000042388   \n",
       "6                  MP:0011966   \n",
       "7  ENSEMBL:ENSACAG00000001940   \n",
       "8               MONDO:0010679   \n",
       "9                 RGD:1559479   \n",
       "\n",
       "                                          label_tail  class_tail index_tail  \\\n",
       "0                         ENSEMBL:ENSCAFG00000009820           5       7362   \n",
       "1                                              TNNI2           5       7360   \n",
       "2                                          Scoliosis           8       2102   \n",
       "3                         ENSEMBL:ENSOANG00000007850           5       2284   \n",
       "4                                               AGRN           5       2205   \n",
       "5                                         A0A3Q2TS00           5       9573   \n",
       "6  abnormal auditory brainstem response waveform ...           8        839   \n",
       "7                         ENSEMBL:ENSACAG00000001940           5       2803   \n",
       "8                        Duchenne muscular dystrophy           3       4672   \n",
       "9                                               Tpm2           5       6456   \n",
       "\n",
       "   type  \n",
       "0     0  \n",
       "1     1  \n",
       "2     2  \n",
       "3     0  \n",
       "4     1  \n",
       "5     0  \n",
       "6     2  \n",
       "7     0  \n",
       "8     2  \n",
       "9     0  "
      ]
     },
     "execution_count": 16,
     "metadata": {},
     "output_type": "execute_result"
    }
   ],
   "source": [
    "edge2vec_df = kg_df.copy()\n",
    "#edge2vec_df = kg_df.drop(['head', 'relation', 'tail'], axis=1)\n",
    "edge2vec_df['index_head'] = edge2vec_df['index_head'].apply(str)\n",
    "edge2vec_df['index_tail'] = edge2vec_df['index_tail'].apply(str)\n",
    "edge2vec_df.head(10)"
   ]
  },
  {
   "attachments": {},
   "cell_type": "markdown",
   "metadata": {},
   "source": [
    "Initialize edge list with keys 'type' and 'weight'. The 'weight' of each edge is initialized to 1.0. "
   ]
  },
  {
   "cell_type": "code",
   "execution_count": 17,
   "metadata": {},
   "outputs": [],
   "source": [
    "G = nx.from_pandas_edgelist(edge2vec_df, 'index_head', 'index_tail', 'type', create_using=nx.DiGraph(), edge_key= (('type', int),('id',int)))\n",
    "G = G.to_undirected()\n",
    "for edge in G.edges():\n",
    "    G[edge[0]][edge[1]]['weight'] = 1.0"
   ]
  },
  {
   "cell_type": "code",
   "execution_count": 18,
   "metadata": {},
   "outputs": [
    {
     "name": "stdout",
     "output_type": "stream",
     "text": [
      "First node in graph: ('9594', {})\n",
      "First edge in graph: ('9594', '7362', {'type': 0, 'weight': 1.0})\n",
      "Total number of edges is 54994\n",
      "Total number of nodes is 10237\n"
     ]
    }
   ],
   "source": [
    "for node in G.nodes(data=True):\n",
    "    print('First node in graph:', node)\n",
    "    break\n",
    "\n",
    "for edge in G.edges(data=True):\n",
    "    print('First edge in graph:', edge)\n",
    "    break\n",
    "\n",
    "print('Total number of edges is {}'.format(G.number_of_edges()))\n",
    "print('Total number of nodes is {}'.format(G.number_of_nodes()))"
   ]
  },
  {
   "cell_type": "code",
   "execution_count": 19,
   "metadata": {},
   "outputs": [
    {
     "name": "stdout",
     "output_type": "stream",
     "text": [
      "('9594', '7362', {'type': 0, 'weight': 1.0})\n"
     ]
    }
   ],
   "source": [
    "links = list(G.edges(data = True))\n",
    "print(links[0])"
   ]
  },
  {
   "attachments": {},
   "cell_type": "markdown",
   "metadata": {},
   "source": [
    "# Obtain Node Embeddings with E2V"
   ]
  },
  {
   "cell_type": "code",
   "execution_count": 20,
   "metadata": {},
   "outputs": [
    {
     "name": "stdout",
     "output_type": "stream",
     "text": [
      "There are 20 edge types\n"
     ]
    }
   ],
   "source": [
    "type_size = len(set(edge2vec_df['type']))\n",
    "print(f'There are {type_size} edge types')"
   ]
  },
  {
   "attachments": {},
   "cell_type": "markdown",
   "metadata": {},
   "source": [
    "Define parameters and generate edge type transition matrix using Edge2Vec EM approach"
   ]
  },
  {
   "cell_type": "code",
   "execution_count": 21,
   "metadata": {},
   "outputs": [
    {
     "name": "stdout",
     "output_type": "stream",
     "text": [
      "Initializing transition matrix...\n",
      "Updating transition matrix...\n",
      "Walk iteration:\n",
      "1 / 2\n",
      "2 / 2\n",
      "0th iteration of updating matrix\n"
     ]
    },
    {
     "name": "stderr",
     "output_type": "stream",
     "text": [
      "c:\\Users\\rosa-\\anaconda3\\envs\\xaifo\\lib\\site-packages\\scipy\\stats\\_morestats.py:3428: UserWarning: Sample size too small for normal approximation.\n",
      "  warnings.warn(\"Sample size too small for normal approximation.\")\n"
     ]
    },
    {
     "name": "stdout",
     "output_type": "stream",
     "text": [
      "Walk iteration:\n",
      "1 / 2\n",
      "2 / 2\n",
      "1th iteration of updating matrix\n",
      "Walk iteration:\n",
      "1 / 2\n",
      "2 / 2\n",
      "2th iteration of updating matrix\n",
      "Walk iteration:\n",
      "1 / 2\n",
      "2 / 2\n",
      "3th iteration of updating matrix\n",
      "Walk iteration:\n",
      "1 / 2\n",
      "2 / 2\n",
      "4th iteration of updating matrix\n",
      "Walk iteration:\n",
      "1 / 2\n",
      "2 / 2\n",
      "5th iteration of updating matrix\n",
      "Walk iteration:\n",
      "1 / 2\n",
      "2 / 2\n",
      "6th iteration of updating matrix\n",
      "Walk iteration:\n",
      "1 / 2\n",
      "2 / 2\n",
      "7th iteration of updating matrix\n",
      "Walk iteration:\n",
      "1 / 2\n",
      "2 / 2\n",
      "8th iteration of updating matrix\n",
      "Walk iteration:\n",
      "1 / 2\n",
      "2 / 2\n",
      "9th iteration of updating matrix\n",
      "Finished generating values for transition matrix!\n"
     ]
    }
   ],
   "source": [
    "epoch = 10  # number of epochs\n",
    "num_walks = 2   # number of walks per node\n",
    "walk_length = 7 # length of each walk\n",
    "directed = True\n",
    "p = 0.7\n",
    "q = 1\n",
    "e_step = 3\n",
    "\n",
    "print('Initializing transition matrix...')\n",
    "M = transitions.initialize_edge_type_matrix(type_size)\n",
    "\n",
    "print('Updating transition matrix...')\n",
    "for i in range(epoch):\n",
    "    walks = transitions.simulate_walks_1(G, num_walks, walk_length, M, directed, p, q) # M step\n",
    "    print(f'{i}th iteration of updating matrix')\n",
    "    M = transitions.update_trans_matrix(walks, type_size, e_step) # E step\n",
    "\n",
    "print(\"Finished generating values for transition matrix!\")"
   ]
  },
  {
   "cell_type": "code",
   "execution_count": 22,
   "metadata": {},
   "outputs": [
    {
     "name": "stdout",
     "output_type": "stream",
     "text": [
      "Overview of resulting edge type transition matrix (float values have been truncated to fit the view!):\n",
      "0.5\t1.0\t1.0\t1.0\t1.0\t1.0\t1.0\t1.0\t1.0\t1.0\t1.0\t1.0\t1.0\t1.0\t1.0\t1.0\t1.0\t1.0\t1.0\t0.5\n",
      "1.0\t0.5\t1.0\t1.0\t1.0\t1.0\t1.0\t1.0\t1.0\t1.0\t1.0\t1.0\t1.0\t1.0\t1.0\t1.0\t1.0\t0.5\t0.5\t0.5\n",
      "1.0\t1.0\t0.5\t1.0\t1.0\t1.0\t1.0\t1.0\t1.0\t1.0\t1.0\t1.0\t1.0\t1.0\t1.0\t1.0\t1.0\t1.0\t0.999\t0.5\n",
      "1.0\t1.0\t1.0\t0.5\t1.0\t1.0\t1.0\t1.0\t1.0\t1.0\t1.0\t1.0\t1.0\t1.0\t1.0\t1.0\t1.0\t1.0\t1.0\t0.5\n",
      "1.0\t1.0\t1.0\t1.0\t0.5\t1.0\t1.0\t1.0\t1.0\t1.0\t1.0\t1.0\t1.0\t1.0\t1.0\t1.0\t1.0\t1.0\t1.0\t0.5\n",
      "1.0\t1.0\t1.0\t1.0\t1.0\t0.5\t1.0\t1.0\t1.0\t1.0\t1.0\t1.0\t1.0\t1.0\t1.0\t1.0\t1.0\t1.0\t0.999\t0.5\n",
      "1.0\t1.0\t1.0\t1.0\t1.0\t1.0\t0.5\t1.0\t1.0\t1.0\t1.0\t1.0\t1.0\t1.0\t1.0\t1.0\t1.0\t1.0\t0.999\t0.5\n",
      "1.0\t1.0\t1.0\t1.0\t1.0\t1.0\t1.0\t0.5\t1.0\t1.0\t1.0\t1.0\t1.0\t1.0\t1.0\t1.0\t1.0\t1.0\t1.0\t0.5\n",
      "1.0\t1.0\t1.0\t1.0\t1.0\t1.0\t1.0\t1.0\t0.5\t1.0\t1.0\t1.0\t1.0\t1.0\t1.0\t1.0\t1.0\t1.0\t0.999\t0.5\n",
      "1.0\t1.0\t1.0\t1.0\t1.0\t1.0\t1.0\t1.0\t1.0\t0.5\t1.0\t1.0\t1.0\t1.0\t1.0\t1.0\t1.0\t1.0\t1.0\t0.5\n",
      "1.0\t1.0\t1.0\t1.0\t1.0\t1.0\t1.0\t1.0\t1.0\t1.0\t0.5\t1.0\t1.0\t1.0\t1.0\t1.0\t1.0\t1.0\t1.0\t0.5\n",
      "1.0\t1.0\t1.0\t1.0\t1.0\t1.0\t1.0\t1.0\t1.0\t1.0\t1.0\t0.5\t1.0\t1.0\t1.0\t1.0\t1.0\t1.0\t0.999\t0.5\n",
      "1.0\t1.0\t1.0\t1.0\t1.0\t1.0\t1.0\t1.0\t1.0\t1.0\t1.0\t1.0\t0.5\t1.0\t1.0\t1.0\t1.0\t1.0\t1.0\t0.5\n",
      "1.0\t1.0\t1.0\t1.0\t1.0\t1.0\t1.0\t1.0\t1.0\t1.0\t1.0\t1.0\t1.0\t0.5\t1.0\t1.0\t1.0\t1.0\t0.999\t0.5\n",
      "1.0\t1.0\t1.0\t1.0\t1.0\t1.0\t1.0\t1.0\t1.0\t1.0\t1.0\t1.0\t1.0\t1.0\t0.5\t1.0\t1.0\t1.0\t0.999\t0.5\n",
      "1.0\t1.0\t1.0\t1.0\t1.0\t1.0\t1.0\t1.0\t1.0\t1.0\t1.0\t1.0\t1.0\t1.0\t1.0\t0.5\t1.0\t1.0\t0.999\t0.5\n",
      "1.0\t1.0\t1.0\t1.0\t1.0\t1.0\t1.0\t1.0\t1.0\t1.0\t1.0\t1.0\t1.0\t1.0\t1.0\t1.0\t0.5\t1.0\t0.999\t0.5\n",
      "1.0\t0.5\t1.0\t1.0\t1.0\t1.0\t1.0\t1.0\t1.0\t1.0\t1.0\t1.0\t1.0\t1.0\t1.0\t1.0\t1.0\t0.5\t0.999\t0.5\n",
      "1.0\t0.5\t0.999\t1.0\t1.0\t0.999\t0.999\t1.0\t0.999\t1.0\t1.0\t0.999\t1.0\t0.999\t0.999\t0.999\t0.999\t0.999\t0.5\t0.5\n",
      "0.5\t0.5\t0.5\t0.5\t0.5\t0.5\t0.5\t0.5\t0.5\t0.5\t0.5\t0.5\t0.5\t0.5\t0.5\t0.5\t0.5\t0.5\t0.5\t0.5\n"
     ]
    }
   ],
   "source": [
    "print('Overview of resulting edge type transition matrix (float values have been truncated to fit the view!):')\n",
    "print('\\n'.join(['\\t'.join([str(cell)[:5] for cell in row]) for row in M]))"
   ]
  },
  {
   "attachments": {},
   "cell_type": "markdown",
   "metadata": {},
   "source": [
    "Generate walks constrained by final edge type transition matrix"
   ]
  },
  {
   "cell_type": "code",
   "execution_count": 23,
   "metadata": {},
   "outputs": [
    {
     "name": "stdout",
     "output_type": "stream",
     "text": [
      "Generate walks constrained by edge type transition matrix...\n",
      "Walk iteration:\n",
      "1 / 2\n",
      "2 / 2\n"
     ]
    }
   ],
   "source": [
    "print('Generate walks constrained by edge type transition matrix...')\n",
    "walks = edge2vec.simulate_walks_2(G, num_walks, walk_length, M, p, q)"
   ]
  },
  {
   "attachments": {},
   "cell_type": "markdown",
   "metadata": {},
   "source": [
    "Generate node embeddings using Word2Vec (skip-gram model) with as input the generated walks"
   ]
  },
  {
   "cell_type": "code",
   "execution_count": 24,
   "metadata": {},
   "outputs": [],
   "source": [
    "dim = 64    # desired dimension of the node embedding\n",
    "window_size = walk_length - 1   # maximum distance between predicted and context node\n",
    "workers = 8 # threads used\n",
    "epochs = 10\n",
    "\n",
    "w2v_model = edge2vec.Word2Vec(walks, vector_size=dim, window=window_size, min_count=0, sg=1, workers=workers, epochs=epochs)"
   ]
  },
  {
   "attachments": {},
   "cell_type": "markdown",
   "metadata": {},
   "source": [
    "Save the node embeddings"
   ]
  },
  {
   "cell_type": "code",
   "execution_count": 25,
   "metadata": {},
   "outputs": [],
   "source": [
    "word_vectors = w2v_model.wv\n",
    "word_vectors.save('output/w2v.dvectors')"
   ]
  },
  {
   "cell_type": "code",
   "execution_count": 26,
   "metadata": {},
   "outputs": [],
   "source": [
    "e2v_embedding = pd.DataFrame(columns = ['Node', 'Embedding'])\n",
    "for idx, key in enumerate(w2v_model.wv.index_to_key):\n",
    "    e2v_embedding.loc[int(key)] = pd.Series({'Node':int(key), 'Embedding':list(w2v_model.wv[key])})\n",
    "    \n",
    "e2v_embedding = e2v_embedding.sort_values('Node')"
   ]
  },
  {
   "attachments": {},
   "cell_type": "markdown",
   "metadata": {},
   "source": [
    "The embeddings of each node in the graph"
   ]
  },
  {
   "cell_type": "code",
   "execution_count": 27,
   "metadata": {},
   "outputs": [
    {
     "data": {
      "text/html": [
       "<div>\n",
       "<style scoped>\n",
       "    .dataframe tbody tr th:only-of-type {\n",
       "        vertical-align: middle;\n",
       "    }\n",
       "\n",
       "    .dataframe tbody tr th {\n",
       "        vertical-align: top;\n",
       "    }\n",
       "\n",
       "    .dataframe thead th {\n",
       "        text-align: right;\n",
       "    }\n",
       "</style>\n",
       "<table border=\"1\" class=\"dataframe\">\n",
       "  <thead>\n",
       "    <tr style=\"text-align: right;\">\n",
       "      <th></th>\n",
       "      <th>Node</th>\n",
       "      <th>Embedding</th>\n",
       "    </tr>\n",
       "  </thead>\n",
       "  <tbody>\n",
       "    <tr>\n",
       "      <th>0</th>\n",
       "      <td>0</td>\n",
       "      <td>[0.11225051, -0.25511783, 0.25983098, 0.176023...</td>\n",
       "    </tr>\n",
       "    <tr>\n",
       "      <th>1</th>\n",
       "      <td>1</td>\n",
       "      <td>[0.34979722, -0.62904394, 0.53671396, 0.262882...</td>\n",
       "    </tr>\n",
       "    <tr>\n",
       "      <th>2</th>\n",
       "      <td>2</td>\n",
       "      <td>[-0.25210163, -0.099180385, 0.5106355, 0.68303...</td>\n",
       "    </tr>\n",
       "    <tr>\n",
       "      <th>3</th>\n",
       "      <td>3</td>\n",
       "      <td>[0.3501621, -0.23517528, 0.20476423, 0.0283515...</td>\n",
       "    </tr>\n",
       "    <tr>\n",
       "      <th>4</th>\n",
       "      <td>4</td>\n",
       "      <td>[0.1695277, -0.2734498, 0.11407004, 0.14288948...</td>\n",
       "    </tr>\n",
       "    <tr>\n",
       "      <th>...</th>\n",
       "      <td>...</td>\n",
       "      <td>...</td>\n",
       "    </tr>\n",
       "    <tr>\n",
       "      <th>10232</th>\n",
       "      <td>10232</td>\n",
       "      <td>[0.02911124, -0.46311736, 0.1294549, 0.4228357...</td>\n",
       "    </tr>\n",
       "    <tr>\n",
       "      <th>10233</th>\n",
       "      <td>10233</td>\n",
       "      <td>[0.43597043, -0.20432128, 0.74268174, 0.160278...</td>\n",
       "    </tr>\n",
       "    <tr>\n",
       "      <th>10234</th>\n",
       "      <td>10234</td>\n",
       "      <td>[0.048678614, -0.29749003, 0.205907, 0.2931736...</td>\n",
       "    </tr>\n",
       "    <tr>\n",
       "      <th>10235</th>\n",
       "      <td>10235</td>\n",
       "      <td>[0.2199836, -0.098209746, 0.02327514, 0.153976...</td>\n",
       "    </tr>\n",
       "    <tr>\n",
       "      <th>10236</th>\n",
       "      <td>10236</td>\n",
       "      <td>[0.06222249, -0.11903294, 0.59626645, 0.419652...</td>\n",
       "    </tr>\n",
       "  </tbody>\n",
       "</table>\n",
       "<p>10237 rows × 2 columns</p>\n",
       "</div>"
      ],
      "text/plain": [
       "        Node                                          Embedding\n",
       "0          0  [0.11225051, -0.25511783, 0.25983098, 0.176023...\n",
       "1          1  [0.34979722, -0.62904394, 0.53671396, 0.262882...\n",
       "2          2  [-0.25210163, -0.099180385, 0.5106355, 0.68303...\n",
       "3          3  [0.3501621, -0.23517528, 0.20476423, 0.0283515...\n",
       "4          4  [0.1695277, -0.2734498, 0.11407004, 0.14288948...\n",
       "...      ...                                                ...\n",
       "10232  10232  [0.02911124, -0.46311736, 0.1294549, 0.4228357...\n",
       "10233  10233  [0.43597043, -0.20432128, 0.74268174, 0.160278...\n",
       "10234  10234  [0.048678614, -0.29749003, 0.205907, 0.2931736...\n",
       "10235  10235  [0.2199836, -0.098209746, 0.02327514, 0.153976...\n",
       "10236  10236  [0.06222249, -0.11903294, 0.59626645, 0.419652...\n",
       "\n",
       "[10237 rows x 2 columns]"
      ]
     },
     "execution_count": 27,
     "metadata": {},
     "output_type": "execute_result"
    }
   ],
   "source": [
    "e2v_embedding"
   ]
  },
  {
   "attachments": {},
   "cell_type": "markdown",
   "metadata": {},
   "source": [
    "# Link Prediction"
   ]
  },
  {
   "attachments": {},
   "cell_type": "markdown",
   "metadata": {},
   "source": [
    "Creating a graph including the node embeddings as features of each node."
   ]
  },
  {
   "cell_type": "code",
   "execution_count": 25,
   "metadata": {},
   "outputs": [
    {
     "name": "stdout",
     "output_type": "stream",
     "text": [
      "(0, {'node_feature': tensor([ 0.1575, -0.2404,  0.0834,  0.1046,  0.0502, -0.1121,  0.1122,  0.0652,\n",
      "        -0.2676, -0.0648,  0.2266, -0.1252, -0.0365,  0.0067,  0.1923,  0.1789,\n",
      "        -0.1351, -0.1226, -0.1055,  0.3186,  0.0707,  0.3056,  0.0140, -0.0494,\n",
      "        -0.0711,  0.0821, -0.1392, -0.0402, -0.1460, -0.0612, -0.0731,  0.1153,\n",
      "         0.0109, -0.1871, -0.0251, -0.0309,  0.0310, -0.0408,  0.0858, -0.0142,\n",
      "         0.0634,  0.1060, -0.0653,  0.0683,  0.1540, -0.1084,  0.0056,  0.0574,\n",
      "         0.0816,  0.1179,  0.1821, -0.0603,  0.1207,  0.1257,  0.0485, -0.0168,\n",
      "         0.1784, -0.1505, -0.1151,  0.1646, -0.0936, -0.0551,  0.0663, -0.0260])})\n",
      "(0, 5535, {})\n",
      "Number of edges is 54994\n",
      "Number of nodes is 10237\n"
     ]
    }
   ],
   "source": [
    "G = nx.Graph()\n",
    "\n",
    "for ind, node in e2v_embedding.iterrows(): \n",
    "  G.add_node(int(node['Node']), node_feature=torch.Tensor(node['Embedding']))\n",
    "for ind, edge in edge2vec_df.iterrows(): \n",
    "  G.add_edge(int(edge['index_head']), int(edge['index_tail']))\n",
    "    \n",
    "for node in G.nodes(data=True):\n",
    "    print(node)\n",
    "    break\n",
    "for edge in G.edges(data=True):\n",
    "    print(edge)\n",
    "    break\n",
    "\n",
    "print(\"Number of edges is {}\".format(G.number_of_edges()))\n",
    "print(\"Number of nodes is {}\".format(G.number_of_nodes()))"
   ]
  },
  {
   "attachments": {},
   "cell_type": "markdown",
   "metadata": {},
   "source": [
    "## Generate graph datasets for training, validation and testing"
   ]
  },
  {
   "attachments": {},
   "cell_type": "markdown",
   "metadata": {},
   "source": [
    "Transductive link prediction split (https://zqfang.github.io/2021-08-12-graph-linkpredict/):\n",
    "- Train/validation/test sets are on the same graph\n",
    "- The dataset consists of one graph\n",
    "- The entire graph can be observed in all dataset splits\n",
    "- The labels of the edges are split"
   ]
  },
  {
   "cell_type": "code",
   "execution_count": 26,
   "metadata": {},
   "outputs": [
    {
     "name": "stderr",
     "output_type": "stream",
     "text": [
      "c:\\Users\\rosa-\\anaconda3\\envs\\xaifo\\lib\\site-packages\\deepsnap\\graph.py:2126: UserWarning: __floordiv__ is deprecated, and its behavior will change in a future version of pytorch. It currently rounds toward 0 (like the 'trunc' function NOT 'floor'). This results in incorrect rounding for negative values. To keep the current behavior, use torch.div(a, b, rounding_mode='trunc'), or for actual floor division, use torch.div(a, b, rounding_mode='floor').\n",
      "  row = perm // num_nodes\n"
     ]
    },
    {
     "name": "stdout",
     "output_type": "stream",
     "text": [
      "Input dimension (embedding dimension): 64 \n",
      " Number of edge classes (link or no link): 2\n"
     ]
    }
   ],
   "source": [
    "dataset = GraphDataset(\n",
    "    G,\n",
    "    task='link_pred',\n",
    "    edge_train_mode='all'\n",
    ")\n",
    "\n",
    "datasets = {}\n",
    "datasets['train'], datasets['val'], datasets['test'] = dataset.split(\n",
    "    transductive=True, split_ratio=[0.8, 0.1, 0.1]\n",
    ")\n",
    "\n",
    "input_dim = datasets['train'].num_node_features\n",
    "num_classes = datasets['train'].num_edge_labels\n",
    "\n",
    "print(f'Input dimension (embedding dimension): {input_dim} \\n Number of edge classes (link or no link): {num_classes}')   "
   ]
  },
  {
   "attachments": {},
   "cell_type": "markdown",
   "metadata": {},
   "source": [
    "Dataloaders allow to feed data into the model by batch."
   ]
  },
  {
   "cell_type": "code",
   "execution_count": 27,
   "metadata": {},
   "outputs": [],
   "source": [
    "dataloaders = {split: DataLoader(ds, collate_fn=Batch.collate([]), batch_size=1, shuffle=(split=='train')) for split, ds in datasets.items()}"
   ]
  },
  {
   "cell_type": "code",
   "execution_count": 70,
   "metadata": {},
   "outputs": [
    {
     "name": "stdout",
     "output_type": "stream",
     "text": [
      "train\n",
      "feat (10237, 64)\n",
      "edge_index (2, 87990)\n",
      "edge_label_index (2, 175980)\n",
      "nodes first (175980, 64)\n",
      "nodes second (175980, 64)\n",
      "predicted values [7.982099  7.7416654 9.858581  ... 1.6247797 2.6561453 1.7147326]\n",
      "predicted (175980,)\n",
      "pred dtype torch.float32\n",
      "edge label dtype torch.LongTensor\n",
      "label tensor([1., 1., 1.,  ..., 0., 0., 0.])\n",
      "label torch.Size([175980])\n",
      "test\n",
      "feat (10237, 64)\n",
      "edge_index (2, 98988)\n",
      "edge_label_index (2, 22000)\n",
      "edge label (22000,)\n"
     ]
    }
   ],
   "source": [
    "print('train')\n",
    "\n",
    "for i, batch in enumerate(dataloaders['train']):\n",
    "    feat, edge_index, edge_label_index = batch.node_feature, batch.edge_index, batch.edge_label_index\n",
    "    print('feat', feat.detach().numpy().shape)\n",
    "    \n",
    "    print('edge_index', edge_index.detach().numpy().shape)\n",
    "    \n",
    "    print('edge_label_index', edge_label_index.detach().numpy().shape)\n",
    "    \n",
    "    nodes_first = torch.index_select(feat, 0, edge_label_index[0,:])\n",
    "    print('nodes first', nodes_first.detach().numpy().shape)\n",
    "    nodes_second = torch.index_select(feat, 0, edge_label_index[1,:])\n",
    "    print('nodes second', nodes_second.detach().numpy().shape)\n",
    "    \n",
    "    pred = torch.sum(nodes_first * nodes_second, dim=-1)\n",
    "    print('predicted values', pred.detach().numpy())\n",
    "    print('predicted', pred.detach().numpy().shape)\n",
    "    \n",
    "    print('pred dtype', pred.dtype)\n",
    "    print('edge label dtype', batch.edge_label.type())\n",
    "    print('label', batch.edge_label.type(pred.dtype))\n",
    "    print('label', batch.edge_label.type(pred.dtype).shape)\n",
    "    \n",
    "print('test')\n",
    "    \n",
    "for i, batch in enumerate(dataloaders['test']):\n",
    "    feat, edge_index, edge_label_index = batch.node_feature, batch.edge_index, batch.edge_label_index\n",
    "    print('feat', feat.detach().numpy().shape)\n",
    "    \n",
    "    print('edge_index', edge_index.detach().numpy().shape)\n",
    "    \n",
    "    print('edge_label_index', edge_label_index.detach().numpy().shape)\n",
    "    print('edge label', batch.edge_label.detach().numpy().shape)"
   ]
  },
  {
   "attachments": {},
   "cell_type": "markdown",
   "metadata": {},
   "source": [
    "## Train GNN"
   ]
  },
  {
   "cell_type": "code",
   "execution_count": 28,
   "metadata": {},
   "outputs": [],
   "source": [
    "class LinkPredModel(torch.nn.Module):\n",
    "    \"\"\"\n",
    "        Architecture contains Batch Normalization layers (https://towardsdatascience.com/batch-norm-explained-visually-how-it-works-and-why-neural-networks-need-it-b18919692739) \n",
    "        between the SAGEConvolutional layers.\n",
    "    \"\"\"\n",
    "    def __init__(self, input_size, hidden_size, out_size, num_layers, aggr, dropout):\n",
    "        super(LinkPredModel, self).__init__()\n",
    "\n",
    "        self.convs = torch.nn.ModuleList()\n",
    "        self.bns = torch.nn.ModuleList()\n",
    "        \n",
    "        self.convs.append(SAGEConv(input_size, hidden_size, normalize=True, aggr=aggr)) # input node embedding features, output is size of hidden layers\n",
    "        self.bns.append(nn.BatchNorm1d(hidden_size))\n",
    "        for _ in range(num_layers - 2):\n",
    "            self.convs.append(SAGEConv(hidden_size, hidden_size, normalize=True, aggr=aggr))\n",
    "            self.bns.append(nn.BatchNorm1d(hidden_size))\n",
    "        self.convs.append(SAGEConv(hidden_size, out_size, normalize=True, aggr=aggr))\n",
    "        self.bns.append(nn.BatchNorm1d(out_size))\n",
    "\n",
    "        self.dropout = dropout\n",
    "        self.loss_fn = torch.nn.BCEWithLogitsLoss()\n",
    "\n",
    "\n",
    "    def forward(self, x, edge_index, edge_label_index, training = True):\n",
    "\n",
    "        for i in range(len(self.convs) - 1):\n",
    "          x = self.convs[i](x, edge_index)\n",
    "          x = self.bns[i](x)\n",
    "          x = F.leaky_relu(x)\n",
    "          x = F.dropout(x, p=self.dropout, training=training)\n",
    "        \n",
    "        x = self.convs[-1](x, edge_index)  \n",
    "        x = self.bns[-1](x)\n",
    "        \n",
    "\n",
    "        nodes_first = torch.index_select(x, 0, edge_label_index[0,:].long())\n",
    "        nodes_second = torch.index_select(x, 0, edge_label_index[1,:].long())\n",
    "        pred = torch.sum(nodes_first * nodes_second, dim=-1)\n",
    "        \n",
    "        return pred, x\n",
    "    \n",
    "    def loss(self, pred, label):\n",
    "        return self.loss_fn(pred, label)\n",
    "\n",
    "def train(model, dataloaders, optimizer, args, ho = False):\n",
    "    val_max = 0\n",
    "    best_model = model\n",
    "    best_x = None\n",
    "    train_per = []\n",
    "    val_per = []\n",
    "    test_per = []\n",
    "    loss_per = []\n",
    "    \n",
    "    print('Start Train Function')\n",
    "    for epoch in range(1, args[\"epochs\"]):\n",
    "        for i, batch in enumerate(dataloaders['train']):\n",
    "            feat, edge_index, edge_label_index = batch.node_feature, batch.edge_index, batch.edge_label_index\n",
    "            batch.to(args[\"device\"])\n",
    "            model.train()\n",
    "            optimizer.zero_grad()\n",
    "            pred, x = model(feat, edge_index, edge_label_index)\n",
    "            loss = model.loss(pred, batch.edge_label.type(pred.dtype))\n",
    "\n",
    "            loss.backward()\n",
    "            optimizer.step()\n",
    "\n",
    "            log = 'Epoch: {:03d}, Train: {:.4f}, Val: {:.4f}, Test: {:.4f}, Loss: {:.5f}'\n",
    "            score_train = test(model, dataloaders['train'], args)\n",
    "            score_val = test(model, dataloaders['val'], args)\n",
    "            score_test = test(model, dataloaders['test'], args)\n",
    "\n",
    "            print(log.format(epoch, score_train, score_val, score_test, loss.item()))\n",
    "            if val_max < score_val:\n",
    "                val_max = score_val\n",
    "                best_model = copy.deepcopy(model)\n",
    "                best_x = x\n",
    "            if ho: \n",
    "                tune.report(val_auc=score_val, train_auc = score_train, test_auc = score_test )\n",
    "            \n",
    "            loss_per.append(loss.detach().numpy())\n",
    "            train_per.append(score_train)\n",
    "            val_per.append(score_val)\n",
    "            test_per.append(score_test)\n",
    "            \n",
    "            \n",
    "    return best_model, best_x, [loss_per, train_per, val_per, test_per]\n",
    "\n",
    "def test(model, dataloader, args):\n",
    "    model.eval()\n",
    "    score = 0\n",
    "    num_batches = 0\n",
    "    for batch in dataloader:\n",
    "        feat, edge_index, edge_label_index = batch.node_feature, batch.edge_index, batch.edge_label_index\n",
    "        batch.to(args[\"device\"])\n",
    "        pred, x = model(feat, edge_index, edge_label_index, training = False)\n",
    "        pred = torch.sigmoid(pred)\n",
    "        score += roc_auc_score(batch.edge_label.flatten().cpu().numpy(), pred.flatten().data.cpu().numpy())\n",
    "        num_batches += 1\n",
    "    score /= num_batches \n",
    "    return score"
   ]
  },
  {
   "attachments": {},
   "cell_type": "markdown",
   "metadata": {},
   "source": [
    "### Predefined Arguments"
   ]
  },
  {
   "attachments": {},
   "cell_type": "markdown",
   "metadata": {},
   "source": [
    "Train GNN with predefined arguments"
   ]
  },
  {
   "cell_type": "code",
   "execution_count": 29,
   "metadata": {},
   "outputs": [],
   "source": [
    "args = {\n",
    "    \"device\" : 'cpu', \n",
    "    \"hidden_dim\" : 264,\n",
    "    'output_dim':64,\n",
    "    \"epochs\" : 150, \n",
    "    'lr': 0.07, \n",
    "    'aggr': 'mean', \n",
    "    'layers': 2, \n",
    "    'dropout': 0.2\n",
    "}\n",
    "\n",
    "model = LinkPredModel(input_dim, args[\"hidden_dim\"], args['output_dim'], args['layers'], args['aggr'],args['dropout'] ).to(args[\"device\"])\n",
    "optimizer = torch.optim.SGD(model.parameters(), lr=args['lr'], momentum=0.9, weight_decay=5e-4)"
   ]
  },
  {
   "cell_type": "code",
   "execution_count": 30,
   "metadata": {},
   "outputs": [
    {
     "name": "stdout",
     "output_type": "stream",
     "text": [
      "Start Train Function\n",
      "Epoch: 001, Train: 0.9563, Val: 0.9298, Test: 0.9266, Loss: 2.37916\n"
     ]
    },
    {
     "name": "stderr",
     "output_type": "stream",
     "text": [
      "c:\\Users\\rosa-\\anaconda3\\envs\\xaifo\\lib\\site-packages\\deepsnap\\graph.py:2126: UserWarning: __floordiv__ is deprecated, and its behavior will change in a future version of pytorch. It currently rounds toward 0 (like the 'trunc' function NOT 'floor'). This results in incorrect rounding for negative values. To keep the current behavior, use torch.div(a, b, rounding_mode='trunc'), or for actual floor division, use torch.div(a, b, rounding_mode='floor').\n",
      "  row = perm // num_nodes\n"
     ]
    },
    {
     "name": "stdout",
     "output_type": "stream",
     "text": [
      "Epoch: 002, Train: 0.9504, Val: 0.9322, Test: 0.9295, Loss: 2.33235\n"
     ]
    },
    {
     "name": "stderr",
     "output_type": "stream",
     "text": [
      "c:\\Users\\rosa-\\anaconda3\\envs\\xaifo\\lib\\site-packages\\deepsnap\\graph.py:2126: UserWarning: __floordiv__ is deprecated, and its behavior will change in a future version of pytorch. It currently rounds toward 0 (like the 'trunc' function NOT 'floor'). This results in incorrect rounding for negative values. To keep the current behavior, use torch.div(a, b, rounding_mode='trunc'), or for actual floor division, use torch.div(a, b, rounding_mode='floor').\n",
      "  row = perm // num_nodes\n"
     ]
    },
    {
     "name": "stdout",
     "output_type": "stream",
     "text": [
      "Epoch: 003, Train: 0.9318, Val: 0.9229, Test: 0.9215, Loss: 2.10830\n"
     ]
    },
    {
     "name": "stderr",
     "output_type": "stream",
     "text": [
      "c:\\Users\\rosa-\\anaconda3\\envs\\xaifo\\lib\\site-packages\\deepsnap\\graph.py:2126: UserWarning: __floordiv__ is deprecated, and its behavior will change in a future version of pytorch. It currently rounds toward 0 (like the 'trunc' function NOT 'floor'). This results in incorrect rounding for negative values. To keep the current behavior, use torch.div(a, b, rounding_mode='trunc'), or for actual floor division, use torch.div(a, b, rounding_mode='floor').\n",
      "  row = perm // num_nodes\n"
     ]
    },
    {
     "name": "stdout",
     "output_type": "stream",
     "text": [
      "Epoch: 004, Train: 0.9504, Val: 0.9362, Test: 0.9339, Loss: 2.02894\n"
     ]
    },
    {
     "name": "stderr",
     "output_type": "stream",
     "text": [
      "c:\\Users\\rosa-\\anaconda3\\envs\\xaifo\\lib\\site-packages\\deepsnap\\graph.py:2126: UserWarning: __floordiv__ is deprecated, and its behavior will change in a future version of pytorch. It currently rounds toward 0 (like the 'trunc' function NOT 'floor'). This results in incorrect rounding for negative values. To keep the current behavior, use torch.div(a, b, rounding_mode='trunc'), or for actual floor division, use torch.div(a, b, rounding_mode='floor').\n",
      "  row = perm // num_nodes\n"
     ]
    },
    {
     "name": "stdout",
     "output_type": "stream",
     "text": [
      "Epoch: 005, Train: 0.9577, Val: 0.9412, Test: 0.9398, Loss: 1.80980\n"
     ]
    },
    {
     "name": "stderr",
     "output_type": "stream",
     "text": [
      "c:\\Users\\rosa-\\anaconda3\\envs\\xaifo\\lib\\site-packages\\deepsnap\\graph.py:2126: UserWarning: __floordiv__ is deprecated, and its behavior will change in a future version of pytorch. It currently rounds toward 0 (like the 'trunc' function NOT 'floor'). This results in incorrect rounding for negative values. To keep the current behavior, use torch.div(a, b, rounding_mode='trunc'), or for actual floor division, use torch.div(a, b, rounding_mode='floor').\n",
      "  row = perm // num_nodes\n"
     ]
    },
    {
     "name": "stdout",
     "output_type": "stream",
     "text": [
      "Epoch: 006, Train: 0.9578, Val: 0.9415, Test: 0.9416, Loss: 1.76054\n"
     ]
    },
    {
     "name": "stderr",
     "output_type": "stream",
     "text": [
      "c:\\Users\\rosa-\\anaconda3\\envs\\xaifo\\lib\\site-packages\\deepsnap\\graph.py:2126: UserWarning: __floordiv__ is deprecated, and its behavior will change in a future version of pytorch. It currently rounds toward 0 (like the 'trunc' function NOT 'floor'). This results in incorrect rounding for negative values. To keep the current behavior, use torch.div(a, b, rounding_mode='trunc'), or for actual floor division, use torch.div(a, b, rounding_mode='floor').\n",
      "  row = perm // num_nodes\n"
     ]
    },
    {
     "name": "stdout",
     "output_type": "stream",
     "text": [
      "Epoch: 007, Train: 0.9582, Val: 0.9409, Test: 0.9418, Loss: 1.60751\n"
     ]
    },
    {
     "name": "stderr",
     "output_type": "stream",
     "text": [
      "c:\\Users\\rosa-\\anaconda3\\envs\\xaifo\\lib\\site-packages\\deepsnap\\graph.py:2126: UserWarning: __floordiv__ is deprecated, and its behavior will change in a future version of pytorch. It currently rounds toward 0 (like the 'trunc' function NOT 'floor'). This results in incorrect rounding for negative values. To keep the current behavior, use torch.div(a, b, rounding_mode='trunc'), or for actual floor division, use torch.div(a, b, rounding_mode='floor').\n",
      "  row = perm // num_nodes\n"
     ]
    },
    {
     "name": "stdout",
     "output_type": "stream",
     "text": [
      "Epoch: 008, Train: 0.9542, Val: 0.9388, Test: 0.9404, Loss: 1.46882\n"
     ]
    },
    {
     "name": "stderr",
     "output_type": "stream",
     "text": [
      "c:\\Users\\rosa-\\anaconda3\\envs\\xaifo\\lib\\site-packages\\deepsnap\\graph.py:2126: UserWarning: __floordiv__ is deprecated, and its behavior will change in a future version of pytorch. It currently rounds toward 0 (like the 'trunc' function NOT 'floor'). This results in incorrect rounding for negative values. To keep the current behavior, use torch.div(a, b, rounding_mode='trunc'), or for actual floor division, use torch.div(a, b, rounding_mode='floor').\n",
      "  row = perm // num_nodes\n"
     ]
    },
    {
     "name": "stdout",
     "output_type": "stream",
     "text": [
      "Epoch: 009, Train: 0.9504, Val: 0.9362, Test: 0.9388, Loss: 1.39641\n"
     ]
    },
    {
     "name": "stderr",
     "output_type": "stream",
     "text": [
      "c:\\Users\\rosa-\\anaconda3\\envs\\xaifo\\lib\\site-packages\\deepsnap\\graph.py:2126: UserWarning: __floordiv__ is deprecated, and its behavior will change in a future version of pytorch. It currently rounds toward 0 (like the 'trunc' function NOT 'floor'). This results in incorrect rounding for negative values. To keep the current behavior, use torch.div(a, b, rounding_mode='trunc'), or for actual floor division, use torch.div(a, b, rounding_mode='floor').\n",
      "  row = perm // num_nodes\n"
     ]
    },
    {
     "name": "stdout",
     "output_type": "stream",
     "text": [
      "Epoch: 010, Train: 0.9490, Val: 0.9351, Test: 0.9386, Loss: 1.29864\n"
     ]
    },
    {
     "name": "stderr",
     "output_type": "stream",
     "text": [
      "c:\\Users\\rosa-\\anaconda3\\envs\\xaifo\\lib\\site-packages\\deepsnap\\graph.py:2126: UserWarning: __floordiv__ is deprecated, and its behavior will change in a future version of pytorch. It currently rounds toward 0 (like the 'trunc' function NOT 'floor'). This results in incorrect rounding for negative values. To keep the current behavior, use torch.div(a, b, rounding_mode='trunc'), or for actual floor division, use torch.div(a, b, rounding_mode='floor').\n",
      "  row = perm // num_nodes\n"
     ]
    },
    {
     "name": "stdout",
     "output_type": "stream",
     "text": [
      "Epoch: 011, Train: 0.9486, Val: 0.9346, Test: 0.9388, Loss: 1.19466\n"
     ]
    },
    {
     "name": "stderr",
     "output_type": "stream",
     "text": [
      "c:\\Users\\rosa-\\anaconda3\\envs\\xaifo\\lib\\site-packages\\deepsnap\\graph.py:2126: UserWarning: __floordiv__ is deprecated, and its behavior will change in a future version of pytorch. It currently rounds toward 0 (like the 'trunc' function NOT 'floor'). This results in incorrect rounding for negative values. To keep the current behavior, use torch.div(a, b, rounding_mode='trunc'), or for actual floor division, use torch.div(a, b, rounding_mode='floor').\n",
      "  row = perm // num_nodes\n"
     ]
    },
    {
     "name": "stdout",
     "output_type": "stream",
     "text": [
      "Epoch: 012, Train: 0.9512, Val: 0.9355, Test: 0.9400, Loss: 1.13959\n"
     ]
    },
    {
     "name": "stderr",
     "output_type": "stream",
     "text": [
      "c:\\Users\\rosa-\\anaconda3\\envs\\xaifo\\lib\\site-packages\\deepsnap\\graph.py:2126: UserWarning: __floordiv__ is deprecated, and its behavior will change in a future version of pytorch. It currently rounds toward 0 (like the 'trunc' function NOT 'floor'). This results in incorrect rounding for negative values. To keep the current behavior, use torch.div(a, b, rounding_mode='trunc'), or for actual floor division, use torch.div(a, b, rounding_mode='floor').\n",
      "  row = perm // num_nodes\n"
     ]
    },
    {
     "name": "stdout",
     "output_type": "stream",
     "text": [
      "Epoch: 013, Train: 0.9513, Val: 0.9363, Test: 0.9408, Loss: 1.04896\n"
     ]
    },
    {
     "name": "stderr",
     "output_type": "stream",
     "text": [
      "c:\\Users\\rosa-\\anaconda3\\envs\\xaifo\\lib\\site-packages\\deepsnap\\graph.py:2126: UserWarning: __floordiv__ is deprecated, and its behavior will change in a future version of pytorch. It currently rounds toward 0 (like the 'trunc' function NOT 'floor'). This results in incorrect rounding for negative values. To keep the current behavior, use torch.div(a, b, rounding_mode='trunc'), or for actual floor division, use torch.div(a, b, rounding_mode='floor').\n",
      "  row = perm // num_nodes\n"
     ]
    },
    {
     "name": "stdout",
     "output_type": "stream",
     "text": [
      "Epoch: 014, Train: 0.9520, Val: 0.9363, Test: 0.9407, Loss: 0.98273\n"
     ]
    },
    {
     "name": "stderr",
     "output_type": "stream",
     "text": [
      "c:\\Users\\rosa-\\anaconda3\\envs\\xaifo\\lib\\site-packages\\deepsnap\\graph.py:2126: UserWarning: __floordiv__ is deprecated, and its behavior will change in a future version of pytorch. It currently rounds toward 0 (like the 'trunc' function NOT 'floor'). This results in incorrect rounding for negative values. To keep the current behavior, use torch.div(a, b, rounding_mode='trunc'), or for actual floor division, use torch.div(a, b, rounding_mode='floor').\n",
      "  row = perm // num_nodes\n"
     ]
    },
    {
     "name": "stdout",
     "output_type": "stream",
     "text": [
      "Epoch: 015, Train: 0.9528, Val: 0.9355, Test: 0.9401, Loss: 0.91992\n"
     ]
    },
    {
     "name": "stderr",
     "output_type": "stream",
     "text": [
      "c:\\Users\\rosa-\\anaconda3\\envs\\xaifo\\lib\\site-packages\\deepsnap\\graph.py:2126: UserWarning: __floordiv__ is deprecated, and its behavior will change in a future version of pytorch. It currently rounds toward 0 (like the 'trunc' function NOT 'floor'). This results in incorrect rounding for negative values. To keep the current behavior, use torch.div(a, b, rounding_mode='trunc'), or for actual floor division, use torch.div(a, b, rounding_mode='floor').\n",
      "  row = perm // num_nodes\n"
     ]
    },
    {
     "name": "stdout",
     "output_type": "stream",
     "text": [
      "Epoch: 016, Train: 0.9513, Val: 0.9347, Test: 0.9396, Loss: 0.86662\n"
     ]
    },
    {
     "name": "stderr",
     "output_type": "stream",
     "text": [
      "c:\\Users\\rosa-\\anaconda3\\envs\\xaifo\\lib\\site-packages\\deepsnap\\graph.py:2126: UserWarning: __floordiv__ is deprecated, and its behavior will change in a future version of pytorch. It currently rounds toward 0 (like the 'trunc' function NOT 'floor'). This results in incorrect rounding for negative values. To keep the current behavior, use torch.div(a, b, rounding_mode='trunc'), or for actual floor division, use torch.div(a, b, rounding_mode='floor').\n",
      "  row = perm // num_nodes\n"
     ]
    },
    {
     "name": "stdout",
     "output_type": "stream",
     "text": [
      "Epoch: 017, Train: 0.9496, Val: 0.9333, Test: 0.9388, Loss: 0.80384\n"
     ]
    },
    {
     "name": "stderr",
     "output_type": "stream",
     "text": [
      "c:\\Users\\rosa-\\anaconda3\\envs\\xaifo\\lib\\site-packages\\deepsnap\\graph.py:2126: UserWarning: __floordiv__ is deprecated, and its behavior will change in a future version of pytorch. It currently rounds toward 0 (like the 'trunc' function NOT 'floor'). This results in incorrect rounding for negative values. To keep the current behavior, use torch.div(a, b, rounding_mode='trunc'), or for actual floor division, use torch.div(a, b, rounding_mode='floor').\n",
      "  row = perm // num_nodes\n"
     ]
    },
    {
     "name": "stdout",
     "output_type": "stream",
     "text": [
      "Epoch: 018, Train: 0.9480, Val: 0.9319, Test: 0.9378, Loss: 0.75701\n"
     ]
    },
    {
     "name": "stderr",
     "output_type": "stream",
     "text": [
      "c:\\Users\\rosa-\\anaconda3\\envs\\xaifo\\lib\\site-packages\\deepsnap\\graph.py:2126: UserWarning: __floordiv__ is deprecated, and its behavior will change in a future version of pytorch. It currently rounds toward 0 (like the 'trunc' function NOT 'floor'). This results in incorrect rounding for negative values. To keep the current behavior, use torch.div(a, b, rounding_mode='trunc'), or for actual floor division, use torch.div(a, b, rounding_mode='floor').\n",
      "  row = perm // num_nodes\n"
     ]
    },
    {
     "name": "stdout",
     "output_type": "stream",
     "text": [
      "Epoch: 019, Train: 0.9452, Val: 0.9305, Test: 0.9370, Loss: 0.71548\n"
     ]
    },
    {
     "name": "stderr",
     "output_type": "stream",
     "text": [
      "c:\\Users\\rosa-\\anaconda3\\envs\\xaifo\\lib\\site-packages\\deepsnap\\graph.py:2126: UserWarning: __floordiv__ is deprecated, and its behavior will change in a future version of pytorch. It currently rounds toward 0 (like the 'trunc' function NOT 'floor'). This results in incorrect rounding for negative values. To keep the current behavior, use torch.div(a, b, rounding_mode='trunc'), or for actual floor division, use torch.div(a, b, rounding_mode='floor').\n",
      "  row = perm // num_nodes\n"
     ]
    },
    {
     "name": "stdout",
     "output_type": "stream",
     "text": [
      "Epoch: 020, Train: 0.9447, Val: 0.9299, Test: 0.9368, Loss: 0.68299\n"
     ]
    },
    {
     "name": "stderr",
     "output_type": "stream",
     "text": [
      "c:\\Users\\rosa-\\anaconda3\\envs\\xaifo\\lib\\site-packages\\deepsnap\\graph.py:2126: UserWarning: __floordiv__ is deprecated, and its behavior will change in a future version of pytorch. It currently rounds toward 0 (like the 'trunc' function NOT 'floor'). This results in incorrect rounding for negative values. To keep the current behavior, use torch.div(a, b, rounding_mode='trunc'), or for actual floor division, use torch.div(a, b, rounding_mode='floor').\n",
      "  row = perm // num_nodes\n"
     ]
    },
    {
     "name": "stdout",
     "output_type": "stream",
     "text": [
      "Epoch: 021, Train: 0.9428, Val: 0.9302, Test: 0.9372, Loss: 0.64694\n"
     ]
    },
    {
     "name": "stderr",
     "output_type": "stream",
     "text": [
      "c:\\Users\\rosa-\\anaconda3\\envs\\xaifo\\lib\\site-packages\\deepsnap\\graph.py:2126: UserWarning: __floordiv__ is deprecated, and its behavior will change in a future version of pytorch. It currently rounds toward 0 (like the 'trunc' function NOT 'floor'). This results in incorrect rounding for negative values. To keep the current behavior, use torch.div(a, b, rounding_mode='trunc'), or for actual floor division, use torch.div(a, b, rounding_mode='floor').\n",
      "  row = perm // num_nodes\n"
     ]
    },
    {
     "name": "stdout",
     "output_type": "stream",
     "text": [
      "Epoch: 022, Train: 0.9449, Val: 0.9314, Test: 0.9384, Loss: 0.60820\n"
     ]
    },
    {
     "name": "stderr",
     "output_type": "stream",
     "text": [
      "c:\\Users\\rosa-\\anaconda3\\envs\\xaifo\\lib\\site-packages\\deepsnap\\graph.py:2126: UserWarning: __floordiv__ is deprecated, and its behavior will change in a future version of pytorch. It currently rounds toward 0 (like the 'trunc' function NOT 'floor'). This results in incorrect rounding for negative values. To keep the current behavior, use torch.div(a, b, rounding_mode='trunc'), or for actual floor division, use torch.div(a, b, rounding_mode='floor').\n",
      "  row = perm // num_nodes\n"
     ]
    },
    {
     "name": "stdout",
     "output_type": "stream",
     "text": [
      "Epoch: 023, Train: 0.9465, Val: 0.9340, Test: 0.9405, Loss: 0.58653\n"
     ]
    },
    {
     "name": "stderr",
     "output_type": "stream",
     "text": [
      "c:\\Users\\rosa-\\anaconda3\\envs\\xaifo\\lib\\site-packages\\deepsnap\\graph.py:2126: UserWarning: __floordiv__ is deprecated, and its behavior will change in a future version of pytorch. It currently rounds toward 0 (like the 'trunc' function NOT 'floor'). This results in incorrect rounding for negative values. To keep the current behavior, use torch.div(a, b, rounding_mode='trunc'), or for actual floor division, use torch.div(a, b, rounding_mode='floor').\n",
      "  row = perm // num_nodes\n"
     ]
    },
    {
     "name": "stdout",
     "output_type": "stream",
     "text": [
      "Epoch: 024, Train: 0.9502, Val: 0.9369, Test: 0.9430, Loss: 0.55871\n"
     ]
    },
    {
     "name": "stderr",
     "output_type": "stream",
     "text": [
      "c:\\Users\\rosa-\\anaconda3\\envs\\xaifo\\lib\\site-packages\\deepsnap\\graph.py:2126: UserWarning: __floordiv__ is deprecated, and its behavior will change in a future version of pytorch. It currently rounds toward 0 (like the 'trunc' function NOT 'floor'). This results in incorrect rounding for negative values. To keep the current behavior, use torch.div(a, b, rounding_mode='trunc'), or for actual floor division, use torch.div(a, b, rounding_mode='floor').\n",
      "  row = perm // num_nodes\n"
     ]
    },
    {
     "name": "stdout",
     "output_type": "stream",
     "text": [
      "Epoch: 025, Train: 0.9525, Val: 0.9401, Test: 0.9461, Loss: 0.54468\n"
     ]
    },
    {
     "name": "stderr",
     "output_type": "stream",
     "text": [
      "c:\\Users\\rosa-\\anaconda3\\envs\\xaifo\\lib\\site-packages\\deepsnap\\graph.py:2126: UserWarning: __floordiv__ is deprecated, and its behavior will change in a future version of pytorch. It currently rounds toward 0 (like the 'trunc' function NOT 'floor'). This results in incorrect rounding for negative values. To keep the current behavior, use torch.div(a, b, rounding_mode='trunc'), or for actual floor division, use torch.div(a, b, rounding_mode='floor').\n",
      "  row = perm // num_nodes\n"
     ]
    },
    {
     "name": "stdout",
     "output_type": "stream",
     "text": [
      "Epoch: 026, Train: 0.9560, Val: 0.9439, Test: 0.9497, Loss: 0.52617\n"
     ]
    },
    {
     "name": "stderr",
     "output_type": "stream",
     "text": [
      "c:\\Users\\rosa-\\anaconda3\\envs\\xaifo\\lib\\site-packages\\deepsnap\\graph.py:2126: UserWarning: __floordiv__ is deprecated, and its behavior will change in a future version of pytorch. It currently rounds toward 0 (like the 'trunc' function NOT 'floor'). This results in incorrect rounding for negative values. To keep the current behavior, use torch.div(a, b, rounding_mode='trunc'), or for actual floor division, use torch.div(a, b, rounding_mode='floor').\n",
      "  row = perm // num_nodes\n"
     ]
    },
    {
     "name": "stdout",
     "output_type": "stream",
     "text": [
      "Epoch: 027, Train: 0.9592, Val: 0.9478, Test: 0.9534, Loss: 0.51486\n"
     ]
    },
    {
     "name": "stderr",
     "output_type": "stream",
     "text": [
      "c:\\Users\\rosa-\\anaconda3\\envs\\xaifo\\lib\\site-packages\\deepsnap\\graph.py:2126: UserWarning: __floordiv__ is deprecated, and its behavior will change in a future version of pytorch. It currently rounds toward 0 (like the 'trunc' function NOT 'floor'). This results in incorrect rounding for negative values. To keep the current behavior, use torch.div(a, b, rounding_mode='trunc'), or for actual floor division, use torch.div(a, b, rounding_mode='floor').\n",
      "  row = perm // num_nodes\n"
     ]
    },
    {
     "name": "stdout",
     "output_type": "stream",
     "text": [
      "Epoch: 028, Train: 0.9631, Val: 0.9520, Test: 0.9573, Loss: 0.51033\n"
     ]
    },
    {
     "name": "stderr",
     "output_type": "stream",
     "text": [
      "c:\\Users\\rosa-\\anaconda3\\envs\\xaifo\\lib\\site-packages\\deepsnap\\graph.py:2126: UserWarning: __floordiv__ is deprecated, and its behavior will change in a future version of pytorch. It currently rounds toward 0 (like the 'trunc' function NOT 'floor'). This results in incorrect rounding for negative values. To keep the current behavior, use torch.div(a, b, rounding_mode='trunc'), or for actual floor division, use torch.div(a, b, rounding_mode='floor').\n",
      "  row = perm // num_nodes\n"
     ]
    },
    {
     "name": "stdout",
     "output_type": "stream",
     "text": [
      "Epoch: 029, Train: 0.9676, Val: 0.9558, Test: 0.9607, Loss: 0.50318\n"
     ]
    },
    {
     "name": "stderr",
     "output_type": "stream",
     "text": [
      "c:\\Users\\rosa-\\anaconda3\\envs\\xaifo\\lib\\site-packages\\deepsnap\\graph.py:2126: UserWarning: __floordiv__ is deprecated, and its behavior will change in a future version of pytorch. It currently rounds toward 0 (like the 'trunc' function NOT 'floor'). This results in incorrect rounding for negative values. To keep the current behavior, use torch.div(a, b, rounding_mode='trunc'), or for actual floor division, use torch.div(a, b, rounding_mode='floor').\n",
      "  row = perm // num_nodes\n"
     ]
    },
    {
     "name": "stdout",
     "output_type": "stream",
     "text": [
      "Epoch: 030, Train: 0.9696, Val: 0.9593, Test: 0.9639, Loss: 0.49167\n"
     ]
    },
    {
     "name": "stderr",
     "output_type": "stream",
     "text": [
      "c:\\Users\\rosa-\\anaconda3\\envs\\xaifo\\lib\\site-packages\\deepsnap\\graph.py:2126: UserWarning: __floordiv__ is deprecated, and its behavior will change in a future version of pytorch. It currently rounds toward 0 (like the 'trunc' function NOT 'floor'). This results in incorrect rounding for negative values. To keep the current behavior, use torch.div(a, b, rounding_mode='trunc'), or for actual floor division, use torch.div(a, b, rounding_mode='floor').\n",
      "  row = perm // num_nodes\n"
     ]
    },
    {
     "name": "stdout",
     "output_type": "stream",
     "text": [
      "Epoch: 031, Train: 0.9726, Val: 0.9623, Test: 0.9665, Loss: 0.47834\n"
     ]
    },
    {
     "name": "stderr",
     "output_type": "stream",
     "text": [
      "c:\\Users\\rosa-\\anaconda3\\envs\\xaifo\\lib\\site-packages\\deepsnap\\graph.py:2126: UserWarning: __floordiv__ is deprecated, and its behavior will change in a future version of pytorch. It currently rounds toward 0 (like the 'trunc' function NOT 'floor'). This results in incorrect rounding for negative values. To keep the current behavior, use torch.div(a, b, rounding_mode='trunc'), or for actual floor division, use torch.div(a, b, rounding_mode='floor').\n",
      "  row = perm // num_nodes\n"
     ]
    },
    {
     "name": "stdout",
     "output_type": "stream",
     "text": [
      "Epoch: 032, Train: 0.9753, Val: 0.9647, Test: 0.9687, Loss: 0.47050\n"
     ]
    },
    {
     "name": "stderr",
     "output_type": "stream",
     "text": [
      "c:\\Users\\rosa-\\anaconda3\\envs\\xaifo\\lib\\site-packages\\deepsnap\\graph.py:2126: UserWarning: __floordiv__ is deprecated, and its behavior will change in a future version of pytorch. It currently rounds toward 0 (like the 'trunc' function NOT 'floor'). This results in incorrect rounding for negative values. To keep the current behavior, use torch.div(a, b, rounding_mode='trunc'), or for actual floor division, use torch.div(a, b, rounding_mode='floor').\n",
      "  row = perm // num_nodes\n"
     ]
    },
    {
     "name": "stdout",
     "output_type": "stream",
     "text": [
      "Epoch: 033, Train: 0.9775, Val: 0.9666, Test: 0.9705, Loss: 0.46862\n"
     ]
    },
    {
     "name": "stderr",
     "output_type": "stream",
     "text": [
      "c:\\Users\\rosa-\\anaconda3\\envs\\xaifo\\lib\\site-packages\\deepsnap\\graph.py:2126: UserWarning: __floordiv__ is deprecated, and its behavior will change in a future version of pytorch. It currently rounds toward 0 (like the 'trunc' function NOT 'floor'). This results in incorrect rounding for negative values. To keep the current behavior, use torch.div(a, b, rounding_mode='trunc'), or for actual floor division, use torch.div(a, b, rounding_mode='floor').\n",
      "  row = perm // num_nodes\n"
     ]
    },
    {
     "name": "stdout",
     "output_type": "stream",
     "text": [
      "Epoch: 034, Train: 0.9787, Val: 0.9682, Test: 0.9719, Loss: 0.46114\n"
     ]
    },
    {
     "name": "stderr",
     "output_type": "stream",
     "text": [
      "c:\\Users\\rosa-\\anaconda3\\envs\\xaifo\\lib\\site-packages\\deepsnap\\graph.py:2126: UserWarning: __floordiv__ is deprecated, and its behavior will change in a future version of pytorch. It currently rounds toward 0 (like the 'trunc' function NOT 'floor'). This results in incorrect rounding for negative values. To keep the current behavior, use torch.div(a, b, rounding_mode='trunc'), or for actual floor division, use torch.div(a, b, rounding_mode='floor').\n",
      "  row = perm // num_nodes\n"
     ]
    },
    {
     "name": "stdout",
     "output_type": "stream",
     "text": [
      "Epoch: 035, Train: 0.9787, Val: 0.9695, Test: 0.9730, Loss: 0.45501\n"
     ]
    },
    {
     "name": "stderr",
     "output_type": "stream",
     "text": [
      "c:\\Users\\rosa-\\anaconda3\\envs\\xaifo\\lib\\site-packages\\deepsnap\\graph.py:2126: UserWarning: __floordiv__ is deprecated, and its behavior will change in a future version of pytorch. It currently rounds toward 0 (like the 'trunc' function NOT 'floor'). This results in incorrect rounding for negative values. To keep the current behavior, use torch.div(a, b, rounding_mode='trunc'), or for actual floor division, use torch.div(a, b, rounding_mode='floor').\n",
      "  row = perm // num_nodes\n"
     ]
    },
    {
     "name": "stdout",
     "output_type": "stream",
     "text": [
      "Epoch: 036, Train: 0.9798, Val: 0.9705, Test: 0.9739, Loss: 0.45465\n"
     ]
    },
    {
     "name": "stderr",
     "output_type": "stream",
     "text": [
      "c:\\Users\\rosa-\\anaconda3\\envs\\xaifo\\lib\\site-packages\\deepsnap\\graph.py:2126: UserWarning: __floordiv__ is deprecated, and its behavior will change in a future version of pytorch. It currently rounds toward 0 (like the 'trunc' function NOT 'floor'). This results in incorrect rounding for negative values. To keep the current behavior, use torch.div(a, b, rounding_mode='trunc'), or for actual floor division, use torch.div(a, b, rounding_mode='floor').\n",
      "  row = perm // num_nodes\n"
     ]
    },
    {
     "name": "stdout",
     "output_type": "stream",
     "text": [
      "Epoch: 037, Train: 0.9800, Val: 0.9714, Test: 0.9746, Loss: 0.44574\n"
     ]
    },
    {
     "name": "stderr",
     "output_type": "stream",
     "text": [
      "c:\\Users\\rosa-\\anaconda3\\envs\\xaifo\\lib\\site-packages\\deepsnap\\graph.py:2126: UserWarning: __floordiv__ is deprecated, and its behavior will change in a future version of pytorch. It currently rounds toward 0 (like the 'trunc' function NOT 'floor'). This results in incorrect rounding for negative values. To keep the current behavior, use torch.div(a, b, rounding_mode='trunc'), or for actual floor division, use torch.div(a, b, rounding_mode='floor').\n",
      "  row = perm // num_nodes\n"
     ]
    },
    {
     "name": "stdout",
     "output_type": "stream",
     "text": [
      "Epoch: 038, Train: 0.9815, Val: 0.9720, Test: 0.9751, Loss: 0.44537\n"
     ]
    },
    {
     "name": "stderr",
     "output_type": "stream",
     "text": [
      "c:\\Users\\rosa-\\anaconda3\\envs\\xaifo\\lib\\site-packages\\deepsnap\\graph.py:2126: UserWarning: __floordiv__ is deprecated, and its behavior will change in a future version of pytorch. It currently rounds toward 0 (like the 'trunc' function NOT 'floor'). This results in incorrect rounding for negative values. To keep the current behavior, use torch.div(a, b, rounding_mode='trunc'), or for actual floor division, use torch.div(a, b, rounding_mode='floor').\n",
      "  row = perm // num_nodes\n"
     ]
    },
    {
     "name": "stdout",
     "output_type": "stream",
     "text": [
      "Epoch: 039, Train: 0.9818, Val: 0.9726, Test: 0.9756, Loss: 0.44147\n"
     ]
    },
    {
     "name": "stderr",
     "output_type": "stream",
     "text": [
      "c:\\Users\\rosa-\\anaconda3\\envs\\xaifo\\lib\\site-packages\\deepsnap\\graph.py:2126: UserWarning: __floordiv__ is deprecated, and its behavior will change in a future version of pytorch. It currently rounds toward 0 (like the 'trunc' function NOT 'floor'). This results in incorrect rounding for negative values. To keep the current behavior, use torch.div(a, b, rounding_mode='trunc'), or for actual floor division, use torch.div(a, b, rounding_mode='floor').\n",
      "  row = perm // num_nodes\n"
     ]
    },
    {
     "name": "stdout",
     "output_type": "stream",
     "text": [
      "Epoch: 040, Train: 0.9820, Val: 0.9731, Test: 0.9759, Loss: 0.43633\n"
     ]
    },
    {
     "name": "stderr",
     "output_type": "stream",
     "text": [
      "c:\\Users\\rosa-\\anaconda3\\envs\\xaifo\\lib\\site-packages\\deepsnap\\graph.py:2126: UserWarning: __floordiv__ is deprecated, and its behavior will change in a future version of pytorch. It currently rounds toward 0 (like the 'trunc' function NOT 'floor'). This results in incorrect rounding for negative values. To keep the current behavior, use torch.div(a, b, rounding_mode='trunc'), or for actual floor division, use torch.div(a, b, rounding_mode='floor').\n",
      "  row = perm // num_nodes\n"
     ]
    },
    {
     "name": "stdout",
     "output_type": "stream",
     "text": [
      "Epoch: 041, Train: 0.9827, Val: 0.9735, Test: 0.9761, Loss: 0.43569\n"
     ]
    },
    {
     "name": "stderr",
     "output_type": "stream",
     "text": [
      "c:\\Users\\rosa-\\anaconda3\\envs\\xaifo\\lib\\site-packages\\deepsnap\\graph.py:2126: UserWarning: __floordiv__ is deprecated, and its behavior will change in a future version of pytorch. It currently rounds toward 0 (like the 'trunc' function NOT 'floor'). This results in incorrect rounding for negative values. To keep the current behavior, use torch.div(a, b, rounding_mode='trunc'), or for actual floor division, use torch.div(a, b, rounding_mode='floor').\n",
      "  row = perm // num_nodes\n"
     ]
    },
    {
     "name": "stdout",
     "output_type": "stream",
     "text": [
      "Epoch: 042, Train: 0.9825, Val: 0.9738, Test: 0.9763, Loss: 0.43774\n"
     ]
    },
    {
     "name": "stderr",
     "output_type": "stream",
     "text": [
      "c:\\Users\\rosa-\\anaconda3\\envs\\xaifo\\lib\\site-packages\\deepsnap\\graph.py:2126: UserWarning: __floordiv__ is deprecated, and its behavior will change in a future version of pytorch. It currently rounds toward 0 (like the 'trunc' function NOT 'floor'). This results in incorrect rounding for negative values. To keep the current behavior, use torch.div(a, b, rounding_mode='trunc'), or for actual floor division, use torch.div(a, b, rounding_mode='floor').\n",
      "  row = perm // num_nodes\n"
     ]
    },
    {
     "name": "stdout",
     "output_type": "stream",
     "text": [
      "Epoch: 043, Train: 0.9832, Val: 0.9741, Test: 0.9764, Loss: 0.43225\n"
     ]
    },
    {
     "name": "stderr",
     "output_type": "stream",
     "text": [
      "c:\\Users\\rosa-\\anaconda3\\envs\\xaifo\\lib\\site-packages\\deepsnap\\graph.py:2126: UserWarning: __floordiv__ is deprecated, and its behavior will change in a future version of pytorch. It currently rounds toward 0 (like the 'trunc' function NOT 'floor'). This results in incorrect rounding for negative values. To keep the current behavior, use torch.div(a, b, rounding_mode='trunc'), or for actual floor division, use torch.div(a, b, rounding_mode='floor').\n",
      "  row = perm // num_nodes\n"
     ]
    },
    {
     "name": "stdout",
     "output_type": "stream",
     "text": [
      "Epoch: 044, Train: 0.9836, Val: 0.9743, Test: 0.9764, Loss: 0.43413\n"
     ]
    },
    {
     "name": "stderr",
     "output_type": "stream",
     "text": [
      "c:\\Users\\rosa-\\anaconda3\\envs\\xaifo\\lib\\site-packages\\deepsnap\\graph.py:2126: UserWarning: __floordiv__ is deprecated, and its behavior will change in a future version of pytorch. It currently rounds toward 0 (like the 'trunc' function NOT 'floor'). This results in incorrect rounding for negative values. To keep the current behavior, use torch.div(a, b, rounding_mode='trunc'), or for actual floor division, use torch.div(a, b, rounding_mode='floor').\n",
      "  row = perm // num_nodes\n"
     ]
    },
    {
     "name": "stdout",
     "output_type": "stream",
     "text": [
      "Epoch: 045, Train: 0.9835, Val: 0.9745, Test: 0.9764, Loss: 0.43074\n"
     ]
    },
    {
     "name": "stderr",
     "output_type": "stream",
     "text": [
      "c:\\Users\\rosa-\\anaconda3\\envs\\xaifo\\lib\\site-packages\\deepsnap\\graph.py:2126: UserWarning: __floordiv__ is deprecated, and its behavior will change in a future version of pytorch. It currently rounds toward 0 (like the 'trunc' function NOT 'floor'). This results in incorrect rounding for negative values. To keep the current behavior, use torch.div(a, b, rounding_mode='trunc'), or for actual floor division, use torch.div(a, b, rounding_mode='floor').\n",
      "  row = perm // num_nodes\n"
     ]
    },
    {
     "name": "stdout",
     "output_type": "stream",
     "text": [
      "Epoch: 046, Train: 0.9841, Val: 0.9746, Test: 0.9764, Loss: 0.42982\n"
     ]
    },
    {
     "name": "stderr",
     "output_type": "stream",
     "text": [
      "c:\\Users\\rosa-\\anaconda3\\envs\\xaifo\\lib\\site-packages\\deepsnap\\graph.py:2126: UserWarning: __floordiv__ is deprecated, and its behavior will change in a future version of pytorch. It currently rounds toward 0 (like the 'trunc' function NOT 'floor'). This results in incorrect rounding for negative values. To keep the current behavior, use torch.div(a, b, rounding_mode='trunc'), or for actual floor division, use torch.div(a, b, rounding_mode='floor').\n",
      "  row = perm // num_nodes\n"
     ]
    },
    {
     "name": "stdout",
     "output_type": "stream",
     "text": [
      "Epoch: 047, Train: 0.9835, Val: 0.9748, Test: 0.9764, Loss: 0.42935\n"
     ]
    },
    {
     "name": "stderr",
     "output_type": "stream",
     "text": [
      "c:\\Users\\rosa-\\anaconda3\\envs\\xaifo\\lib\\site-packages\\deepsnap\\graph.py:2126: UserWarning: __floordiv__ is deprecated, and its behavior will change in a future version of pytorch. It currently rounds toward 0 (like the 'trunc' function NOT 'floor'). This results in incorrect rounding for negative values. To keep the current behavior, use torch.div(a, b, rounding_mode='trunc'), or for actual floor division, use torch.div(a, b, rounding_mode='floor').\n",
      "  row = perm // num_nodes\n"
     ]
    },
    {
     "name": "stdout",
     "output_type": "stream",
     "text": [
      "Epoch: 048, Train: 0.9837, Val: 0.9750, Test: 0.9765, Loss: 0.42813\n"
     ]
    },
    {
     "name": "stderr",
     "output_type": "stream",
     "text": [
      "c:\\Users\\rosa-\\anaconda3\\envs\\xaifo\\lib\\site-packages\\deepsnap\\graph.py:2126: UserWarning: __floordiv__ is deprecated, and its behavior will change in a future version of pytorch. It currently rounds toward 0 (like the 'trunc' function NOT 'floor'). This results in incorrect rounding for negative values. To keep the current behavior, use torch.div(a, b, rounding_mode='trunc'), or for actual floor division, use torch.div(a, b, rounding_mode='floor').\n",
      "  row = perm // num_nodes\n"
     ]
    },
    {
     "name": "stdout",
     "output_type": "stream",
     "text": [
      "Epoch: 049, Train: 0.9840, Val: 0.9751, Test: 0.9765, Loss: 0.42512\n"
     ]
    },
    {
     "name": "stderr",
     "output_type": "stream",
     "text": [
      "c:\\Users\\rosa-\\anaconda3\\envs\\xaifo\\lib\\site-packages\\deepsnap\\graph.py:2126: UserWarning: __floordiv__ is deprecated, and its behavior will change in a future version of pytorch. It currently rounds toward 0 (like the 'trunc' function NOT 'floor'). This results in incorrect rounding for negative values. To keep the current behavior, use torch.div(a, b, rounding_mode='trunc'), or for actual floor division, use torch.div(a, b, rounding_mode='floor').\n",
      "  row = perm // num_nodes\n"
     ]
    },
    {
     "name": "stdout",
     "output_type": "stream",
     "text": [
      "Epoch: 050, Train: 0.9842, Val: 0.9753, Test: 0.9765, Loss: 0.42549\n"
     ]
    },
    {
     "name": "stderr",
     "output_type": "stream",
     "text": [
      "c:\\Users\\rosa-\\anaconda3\\envs\\xaifo\\lib\\site-packages\\deepsnap\\graph.py:2126: UserWarning: __floordiv__ is deprecated, and its behavior will change in a future version of pytorch. It currently rounds toward 0 (like the 'trunc' function NOT 'floor'). This results in incorrect rounding for negative values. To keep the current behavior, use torch.div(a, b, rounding_mode='trunc'), or for actual floor division, use torch.div(a, b, rounding_mode='floor').\n",
      "  row = perm // num_nodes\n"
     ]
    },
    {
     "name": "stdout",
     "output_type": "stream",
     "text": [
      "Epoch: 051, Train: 0.9841, Val: 0.9754, Test: 0.9765, Loss: 0.42360\n"
     ]
    },
    {
     "name": "stderr",
     "output_type": "stream",
     "text": [
      "c:\\Users\\rosa-\\anaconda3\\envs\\xaifo\\lib\\site-packages\\deepsnap\\graph.py:2126: UserWarning: __floordiv__ is deprecated, and its behavior will change in a future version of pytorch. It currently rounds toward 0 (like the 'trunc' function NOT 'floor'). This results in incorrect rounding for negative values. To keep the current behavior, use torch.div(a, b, rounding_mode='trunc'), or for actual floor division, use torch.div(a, b, rounding_mode='floor').\n",
      "  row = perm // num_nodes\n"
     ]
    },
    {
     "name": "stdout",
     "output_type": "stream",
     "text": [
      "Epoch: 052, Train: 0.9848, Val: 0.9757, Test: 0.9766, Loss: 0.42288\n"
     ]
    },
    {
     "name": "stderr",
     "output_type": "stream",
     "text": [
      "c:\\Users\\rosa-\\anaconda3\\envs\\xaifo\\lib\\site-packages\\deepsnap\\graph.py:2126: UserWarning: __floordiv__ is deprecated, and its behavior will change in a future version of pytorch. It currently rounds toward 0 (like the 'trunc' function NOT 'floor'). This results in incorrect rounding for negative values. To keep the current behavior, use torch.div(a, b, rounding_mode='trunc'), or for actual floor division, use torch.div(a, b, rounding_mode='floor').\n",
      "  row = perm // num_nodes\n"
     ]
    },
    {
     "name": "stdout",
     "output_type": "stream",
     "text": [
      "Epoch: 053, Train: 0.9845, Val: 0.9759, Test: 0.9767, Loss: 0.42220\n"
     ]
    },
    {
     "name": "stderr",
     "output_type": "stream",
     "text": [
      "c:\\Users\\rosa-\\anaconda3\\envs\\xaifo\\lib\\site-packages\\deepsnap\\graph.py:2126: UserWarning: __floordiv__ is deprecated, and its behavior will change in a future version of pytorch. It currently rounds toward 0 (like the 'trunc' function NOT 'floor'). This results in incorrect rounding for negative values. To keep the current behavior, use torch.div(a, b, rounding_mode='trunc'), or for actual floor division, use torch.div(a, b, rounding_mode='floor').\n",
      "  row = perm // num_nodes\n"
     ]
    },
    {
     "name": "stdout",
     "output_type": "stream",
     "text": [
      "Epoch: 054, Train: 0.9847, Val: 0.9761, Test: 0.9768, Loss: 0.42248\n"
     ]
    },
    {
     "name": "stderr",
     "output_type": "stream",
     "text": [
      "c:\\Users\\rosa-\\anaconda3\\envs\\xaifo\\lib\\site-packages\\deepsnap\\graph.py:2126: UserWarning: __floordiv__ is deprecated, and its behavior will change in a future version of pytorch. It currently rounds toward 0 (like the 'trunc' function NOT 'floor'). This results in incorrect rounding for negative values. To keep the current behavior, use torch.div(a, b, rounding_mode='trunc'), or for actual floor division, use torch.div(a, b, rounding_mode='floor').\n",
      "  row = perm // num_nodes\n"
     ]
    },
    {
     "name": "stdout",
     "output_type": "stream",
     "text": [
      "Epoch: 055, Train: 0.9853, Val: 0.9764, Test: 0.9769, Loss: 0.41998\n"
     ]
    },
    {
     "name": "stderr",
     "output_type": "stream",
     "text": [
      "c:\\Users\\rosa-\\anaconda3\\envs\\xaifo\\lib\\site-packages\\deepsnap\\graph.py:2126: UserWarning: __floordiv__ is deprecated, and its behavior will change in a future version of pytorch. It currently rounds toward 0 (like the 'trunc' function NOT 'floor'). This results in incorrect rounding for negative values. To keep the current behavior, use torch.div(a, b, rounding_mode='trunc'), or for actual floor division, use torch.div(a, b, rounding_mode='floor').\n",
      "  row = perm // num_nodes\n"
     ]
    },
    {
     "name": "stdout",
     "output_type": "stream",
     "text": [
      "Epoch: 056, Train: 0.9856, Val: 0.9767, Test: 0.9771, Loss: 0.41939\n"
     ]
    },
    {
     "name": "stderr",
     "output_type": "stream",
     "text": [
      "c:\\Users\\rosa-\\anaconda3\\envs\\xaifo\\lib\\site-packages\\deepsnap\\graph.py:2126: UserWarning: __floordiv__ is deprecated, and its behavior will change in a future version of pytorch. It currently rounds toward 0 (like the 'trunc' function NOT 'floor'). This results in incorrect rounding for negative values. To keep the current behavior, use torch.div(a, b, rounding_mode='trunc'), or for actual floor division, use torch.div(a, b, rounding_mode='floor').\n",
      "  row = perm // num_nodes\n"
     ]
    },
    {
     "name": "stdout",
     "output_type": "stream",
     "text": [
      "Epoch: 057, Train: 0.9855, Val: 0.9769, Test: 0.9772, Loss: 0.41807\n"
     ]
    },
    {
     "name": "stderr",
     "output_type": "stream",
     "text": [
      "c:\\Users\\rosa-\\anaconda3\\envs\\xaifo\\lib\\site-packages\\deepsnap\\graph.py:2126: UserWarning: __floordiv__ is deprecated, and its behavior will change in a future version of pytorch. It currently rounds toward 0 (like the 'trunc' function NOT 'floor'). This results in incorrect rounding for negative values. To keep the current behavior, use torch.div(a, b, rounding_mode='trunc'), or for actual floor division, use torch.div(a, b, rounding_mode='floor').\n",
      "  row = perm // num_nodes\n"
     ]
    },
    {
     "name": "stdout",
     "output_type": "stream",
     "text": [
      "Epoch: 058, Train: 0.9857, Val: 0.9771, Test: 0.9773, Loss: 0.41918\n"
     ]
    },
    {
     "name": "stderr",
     "output_type": "stream",
     "text": [
      "c:\\Users\\rosa-\\anaconda3\\envs\\xaifo\\lib\\site-packages\\deepsnap\\graph.py:2126: UserWarning: __floordiv__ is deprecated, and its behavior will change in a future version of pytorch. It currently rounds toward 0 (like the 'trunc' function NOT 'floor'). This results in incorrect rounding for negative values. To keep the current behavior, use torch.div(a, b, rounding_mode='trunc'), or for actual floor division, use torch.div(a, b, rounding_mode='floor').\n",
      "  row = perm // num_nodes\n"
     ]
    },
    {
     "name": "stdout",
     "output_type": "stream",
     "text": [
      "Epoch: 059, Train: 0.9861, Val: 0.9773, Test: 0.9774, Loss: 0.41907\n"
     ]
    },
    {
     "name": "stderr",
     "output_type": "stream",
     "text": [
      "c:\\Users\\rosa-\\anaconda3\\envs\\xaifo\\lib\\site-packages\\deepsnap\\graph.py:2126: UserWarning: __floordiv__ is deprecated, and its behavior will change in a future version of pytorch. It currently rounds toward 0 (like the 'trunc' function NOT 'floor'). This results in incorrect rounding for negative values. To keep the current behavior, use torch.div(a, b, rounding_mode='trunc'), or for actual floor division, use torch.div(a, b, rounding_mode='floor').\n",
      "  row = perm // num_nodes\n"
     ]
    },
    {
     "name": "stdout",
     "output_type": "stream",
     "text": [
      "Epoch: 060, Train: 0.9863, Val: 0.9775, Test: 0.9775, Loss: 0.41721\n"
     ]
    },
    {
     "name": "stderr",
     "output_type": "stream",
     "text": [
      "c:\\Users\\rosa-\\anaconda3\\envs\\xaifo\\lib\\site-packages\\deepsnap\\graph.py:2126: UserWarning: __floordiv__ is deprecated, and its behavior will change in a future version of pytorch. It currently rounds toward 0 (like the 'trunc' function NOT 'floor'). This results in incorrect rounding for negative values. To keep the current behavior, use torch.div(a, b, rounding_mode='trunc'), or for actual floor division, use torch.div(a, b, rounding_mode='floor').\n",
      "  row = perm // num_nodes\n"
     ]
    },
    {
     "name": "stdout",
     "output_type": "stream",
     "text": [
      "Epoch: 061, Train: 0.9866, Val: 0.9778, Test: 0.9777, Loss: 0.41689\n"
     ]
    },
    {
     "name": "stderr",
     "output_type": "stream",
     "text": [
      "c:\\Users\\rosa-\\anaconda3\\envs\\xaifo\\lib\\site-packages\\deepsnap\\graph.py:2126: UserWarning: __floordiv__ is deprecated, and its behavior will change in a future version of pytorch. It currently rounds toward 0 (like the 'trunc' function NOT 'floor'). This results in incorrect rounding for negative values. To keep the current behavior, use torch.div(a, b, rounding_mode='trunc'), or for actual floor division, use torch.div(a, b, rounding_mode='floor').\n",
      "  row = perm // num_nodes\n"
     ]
    },
    {
     "name": "stdout",
     "output_type": "stream",
     "text": [
      "Epoch: 062, Train: 0.9865, Val: 0.9780, Test: 0.9778, Loss: 0.41514\n"
     ]
    },
    {
     "name": "stderr",
     "output_type": "stream",
     "text": [
      "c:\\Users\\rosa-\\anaconda3\\envs\\xaifo\\lib\\site-packages\\deepsnap\\graph.py:2126: UserWarning: __floordiv__ is deprecated, and its behavior will change in a future version of pytorch. It currently rounds toward 0 (like the 'trunc' function NOT 'floor'). This results in incorrect rounding for negative values. To keep the current behavior, use torch.div(a, b, rounding_mode='trunc'), or for actual floor division, use torch.div(a, b, rounding_mode='floor').\n",
      "  row = perm // num_nodes\n"
     ]
    },
    {
     "name": "stdout",
     "output_type": "stream",
     "text": [
      "Epoch: 063, Train: 0.9870, Val: 0.9782, Test: 0.9780, Loss: 0.41538\n"
     ]
    },
    {
     "name": "stderr",
     "output_type": "stream",
     "text": [
      "c:\\Users\\rosa-\\anaconda3\\envs\\xaifo\\lib\\site-packages\\deepsnap\\graph.py:2126: UserWarning: __floordiv__ is deprecated, and its behavior will change in a future version of pytorch. It currently rounds toward 0 (like the 'trunc' function NOT 'floor'). This results in incorrect rounding for negative values. To keep the current behavior, use torch.div(a, b, rounding_mode='trunc'), or for actual floor division, use torch.div(a, b, rounding_mode='floor').\n",
      "  row = perm // num_nodes\n"
     ]
    },
    {
     "name": "stdout",
     "output_type": "stream",
     "text": [
      "Epoch: 064, Train: 0.9872, Val: 0.9784, Test: 0.9781, Loss: 0.41536\n"
     ]
    },
    {
     "name": "stderr",
     "output_type": "stream",
     "text": [
      "c:\\Users\\rosa-\\anaconda3\\envs\\xaifo\\lib\\site-packages\\deepsnap\\graph.py:2126: UserWarning: __floordiv__ is deprecated, and its behavior will change in a future version of pytorch. It currently rounds toward 0 (like the 'trunc' function NOT 'floor'). This results in incorrect rounding for negative values. To keep the current behavior, use torch.div(a, b, rounding_mode='trunc'), or for actual floor division, use torch.div(a, b, rounding_mode='floor').\n",
      "  row = perm // num_nodes\n"
     ]
    },
    {
     "name": "stdout",
     "output_type": "stream",
     "text": [
      "Epoch: 065, Train: 0.9872, Val: 0.9786, Test: 0.9782, Loss: 0.41558\n"
     ]
    },
    {
     "name": "stderr",
     "output_type": "stream",
     "text": [
      "c:\\Users\\rosa-\\anaconda3\\envs\\xaifo\\lib\\site-packages\\deepsnap\\graph.py:2126: UserWarning: __floordiv__ is deprecated, and its behavior will change in a future version of pytorch. It currently rounds toward 0 (like the 'trunc' function NOT 'floor'). This results in incorrect rounding for negative values. To keep the current behavior, use torch.div(a, b, rounding_mode='trunc'), or for actual floor division, use torch.div(a, b, rounding_mode='floor').\n",
      "  row = perm // num_nodes\n"
     ]
    },
    {
     "name": "stdout",
     "output_type": "stream",
     "text": [
      "Epoch: 066, Train: 0.9876, Val: 0.9788, Test: 0.9784, Loss: 0.41444\n"
     ]
    },
    {
     "name": "stderr",
     "output_type": "stream",
     "text": [
      "c:\\Users\\rosa-\\anaconda3\\envs\\xaifo\\lib\\site-packages\\deepsnap\\graph.py:2126: UserWarning: __floordiv__ is deprecated, and its behavior will change in a future version of pytorch. It currently rounds toward 0 (like the 'trunc' function NOT 'floor'). This results in incorrect rounding for negative values. To keep the current behavior, use torch.div(a, b, rounding_mode='trunc'), or for actual floor division, use torch.div(a, b, rounding_mode='floor').\n",
      "  row = perm // num_nodes\n"
     ]
    },
    {
     "name": "stdout",
     "output_type": "stream",
     "text": [
      "Epoch: 067, Train: 0.9877, Val: 0.9790, Test: 0.9785, Loss: 0.41509\n"
     ]
    },
    {
     "name": "stderr",
     "output_type": "stream",
     "text": [
      "c:\\Users\\rosa-\\anaconda3\\envs\\xaifo\\lib\\site-packages\\deepsnap\\graph.py:2126: UserWarning: __floordiv__ is deprecated, and its behavior will change in a future version of pytorch. It currently rounds toward 0 (like the 'trunc' function NOT 'floor'). This results in incorrect rounding for negative values. To keep the current behavior, use torch.div(a, b, rounding_mode='trunc'), or for actual floor division, use torch.div(a, b, rounding_mode='floor').\n",
      "  row = perm // num_nodes\n"
     ]
    },
    {
     "name": "stdout",
     "output_type": "stream",
     "text": [
      "Epoch: 068, Train: 0.9877, Val: 0.9792, Test: 0.9787, Loss: 0.41377\n"
     ]
    },
    {
     "name": "stderr",
     "output_type": "stream",
     "text": [
      "c:\\Users\\rosa-\\anaconda3\\envs\\xaifo\\lib\\site-packages\\deepsnap\\graph.py:2126: UserWarning: __floordiv__ is deprecated, and its behavior will change in a future version of pytorch. It currently rounds toward 0 (like the 'trunc' function NOT 'floor'). This results in incorrect rounding for negative values. To keep the current behavior, use torch.div(a, b, rounding_mode='trunc'), or for actual floor division, use torch.div(a, b, rounding_mode='floor').\n",
      "  row = perm // num_nodes\n"
     ]
    },
    {
     "name": "stdout",
     "output_type": "stream",
     "text": [
      "Epoch: 069, Train: 0.9882, Val: 0.9794, Test: 0.9789, Loss: 0.41297\n"
     ]
    },
    {
     "name": "stderr",
     "output_type": "stream",
     "text": [
      "c:\\Users\\rosa-\\anaconda3\\envs\\xaifo\\lib\\site-packages\\deepsnap\\graph.py:2126: UserWarning: __floordiv__ is deprecated, and its behavior will change in a future version of pytorch. It currently rounds toward 0 (like the 'trunc' function NOT 'floor'). This results in incorrect rounding for negative values. To keep the current behavior, use torch.div(a, b, rounding_mode='trunc'), or for actual floor division, use torch.div(a, b, rounding_mode='floor').\n",
      "  row = perm // num_nodes\n"
     ]
    },
    {
     "name": "stdout",
     "output_type": "stream",
     "text": [
      "Epoch: 070, Train: 0.9877, Val: 0.9796, Test: 0.9790, Loss: 0.41240\n"
     ]
    },
    {
     "name": "stderr",
     "output_type": "stream",
     "text": [
      "c:\\Users\\rosa-\\anaconda3\\envs\\xaifo\\lib\\site-packages\\deepsnap\\graph.py:2126: UserWarning: __floordiv__ is deprecated, and its behavior will change in a future version of pytorch. It currently rounds toward 0 (like the 'trunc' function NOT 'floor'). This results in incorrect rounding for negative values. To keep the current behavior, use torch.div(a, b, rounding_mode='trunc'), or for actual floor division, use torch.div(a, b, rounding_mode='floor').\n",
      "  row = perm // num_nodes\n"
     ]
    },
    {
     "name": "stdout",
     "output_type": "stream",
     "text": [
      "Epoch: 071, Train: 0.9883, Val: 0.9798, Test: 0.9791, Loss: 0.41409\n"
     ]
    },
    {
     "name": "stderr",
     "output_type": "stream",
     "text": [
      "c:\\Users\\rosa-\\anaconda3\\envs\\xaifo\\lib\\site-packages\\deepsnap\\graph.py:2126: UserWarning: __floordiv__ is deprecated, and its behavior will change in a future version of pytorch. It currently rounds toward 0 (like the 'trunc' function NOT 'floor'). This results in incorrect rounding for negative values. To keep the current behavior, use torch.div(a, b, rounding_mode='trunc'), or for actual floor division, use torch.div(a, b, rounding_mode='floor').\n",
      "  row = perm // num_nodes\n"
     ]
    },
    {
     "name": "stdout",
     "output_type": "stream",
     "text": [
      "Epoch: 072, Train: 0.9887, Val: 0.9799, Test: 0.9793, Loss: 0.41238\n"
     ]
    },
    {
     "name": "stderr",
     "output_type": "stream",
     "text": [
      "c:\\Users\\rosa-\\anaconda3\\envs\\xaifo\\lib\\site-packages\\deepsnap\\graph.py:2126: UserWarning: __floordiv__ is deprecated, and its behavior will change in a future version of pytorch. It currently rounds toward 0 (like the 'trunc' function NOT 'floor'). This results in incorrect rounding for negative values. To keep the current behavior, use torch.div(a, b, rounding_mode='trunc'), or for actual floor division, use torch.div(a, b, rounding_mode='floor').\n",
      "  row = perm // num_nodes\n"
     ]
    },
    {
     "name": "stdout",
     "output_type": "stream",
     "text": [
      "Epoch: 073, Train: 0.9887, Val: 0.9801, Test: 0.9794, Loss: 0.41198\n"
     ]
    },
    {
     "name": "stderr",
     "output_type": "stream",
     "text": [
      "c:\\Users\\rosa-\\anaconda3\\envs\\xaifo\\lib\\site-packages\\deepsnap\\graph.py:2126: UserWarning: __floordiv__ is deprecated, and its behavior will change in a future version of pytorch. It currently rounds toward 0 (like the 'trunc' function NOT 'floor'). This results in incorrect rounding for negative values. To keep the current behavior, use torch.div(a, b, rounding_mode='trunc'), or for actual floor division, use torch.div(a, b, rounding_mode='floor').\n",
      "  row = perm // num_nodes\n"
     ]
    },
    {
     "name": "stdout",
     "output_type": "stream",
     "text": [
      "Epoch: 074, Train: 0.9888, Val: 0.9802, Test: 0.9795, Loss: 0.41010\n"
     ]
    },
    {
     "name": "stderr",
     "output_type": "stream",
     "text": [
      "c:\\Users\\rosa-\\anaconda3\\envs\\xaifo\\lib\\site-packages\\deepsnap\\graph.py:2126: UserWarning: __floordiv__ is deprecated, and its behavior will change in a future version of pytorch. It currently rounds toward 0 (like the 'trunc' function NOT 'floor'). This results in incorrect rounding for negative values. To keep the current behavior, use torch.div(a, b, rounding_mode='trunc'), or for actual floor division, use torch.div(a, b, rounding_mode='floor').\n",
      "  row = perm // num_nodes\n"
     ]
    },
    {
     "name": "stdout",
     "output_type": "stream",
     "text": [
      "Epoch: 075, Train: 0.9889, Val: 0.9803, Test: 0.9796, Loss: 0.41101\n"
     ]
    },
    {
     "name": "stderr",
     "output_type": "stream",
     "text": [
      "c:\\Users\\rosa-\\anaconda3\\envs\\xaifo\\lib\\site-packages\\deepsnap\\graph.py:2126: UserWarning: __floordiv__ is deprecated, and its behavior will change in a future version of pytorch. It currently rounds toward 0 (like the 'trunc' function NOT 'floor'). This results in incorrect rounding for negative values. To keep the current behavior, use torch.div(a, b, rounding_mode='trunc'), or for actual floor division, use torch.div(a, b, rounding_mode='floor').\n",
      "  row = perm // num_nodes\n"
     ]
    },
    {
     "name": "stdout",
     "output_type": "stream",
     "text": [
      "Epoch: 076, Train: 0.9891, Val: 0.9805, Test: 0.9797, Loss: 0.41128\n"
     ]
    },
    {
     "name": "stderr",
     "output_type": "stream",
     "text": [
      "c:\\Users\\rosa-\\anaconda3\\envs\\xaifo\\lib\\site-packages\\deepsnap\\graph.py:2126: UserWarning: __floordiv__ is deprecated, and its behavior will change in a future version of pytorch. It currently rounds toward 0 (like the 'trunc' function NOT 'floor'). This results in incorrect rounding for negative values. To keep the current behavior, use torch.div(a, b, rounding_mode='trunc'), or for actual floor division, use torch.div(a, b, rounding_mode='floor').\n",
      "  row = perm // num_nodes\n"
     ]
    },
    {
     "name": "stdout",
     "output_type": "stream",
     "text": [
      "Epoch: 077, Train: 0.9894, Val: 0.9806, Test: 0.9798, Loss: 0.41072\n"
     ]
    },
    {
     "name": "stderr",
     "output_type": "stream",
     "text": [
      "c:\\Users\\rosa-\\anaconda3\\envs\\xaifo\\lib\\site-packages\\deepsnap\\graph.py:2126: UserWarning: __floordiv__ is deprecated, and its behavior will change in a future version of pytorch. It currently rounds toward 0 (like the 'trunc' function NOT 'floor'). This results in incorrect rounding for negative values. To keep the current behavior, use torch.div(a, b, rounding_mode='trunc'), or for actual floor division, use torch.div(a, b, rounding_mode='floor').\n",
      "  row = perm // num_nodes\n"
     ]
    },
    {
     "name": "stdout",
     "output_type": "stream",
     "text": [
      "Epoch: 078, Train: 0.9893, Val: 0.9807, Test: 0.9799, Loss: 0.40973\n"
     ]
    },
    {
     "name": "stderr",
     "output_type": "stream",
     "text": [
      "c:\\Users\\rosa-\\anaconda3\\envs\\xaifo\\lib\\site-packages\\deepsnap\\graph.py:2126: UserWarning: __floordiv__ is deprecated, and its behavior will change in a future version of pytorch. It currently rounds toward 0 (like the 'trunc' function NOT 'floor'). This results in incorrect rounding for negative values. To keep the current behavior, use torch.div(a, b, rounding_mode='trunc'), or for actual floor division, use torch.div(a, b, rounding_mode='floor').\n",
      "  row = perm // num_nodes\n"
     ]
    },
    {
     "name": "stdout",
     "output_type": "stream",
     "text": [
      "Epoch: 079, Train: 0.9893, Val: 0.9809, Test: 0.9800, Loss: 0.40975\n"
     ]
    },
    {
     "name": "stderr",
     "output_type": "stream",
     "text": [
      "c:\\Users\\rosa-\\anaconda3\\envs\\xaifo\\lib\\site-packages\\deepsnap\\graph.py:2126: UserWarning: __floordiv__ is deprecated, and its behavior will change in a future version of pytorch. It currently rounds toward 0 (like the 'trunc' function NOT 'floor'). This results in incorrect rounding for negative values. To keep the current behavior, use torch.div(a, b, rounding_mode='trunc'), or for actual floor division, use torch.div(a, b, rounding_mode='floor').\n",
      "  row = perm // num_nodes\n"
     ]
    },
    {
     "name": "stdout",
     "output_type": "stream",
     "text": [
      "Epoch: 080, Train: 0.9895, Val: 0.9810, Test: 0.9800, Loss: 0.40889\n"
     ]
    },
    {
     "name": "stderr",
     "output_type": "stream",
     "text": [
      "c:\\Users\\rosa-\\anaconda3\\envs\\xaifo\\lib\\site-packages\\deepsnap\\graph.py:2126: UserWarning: __floordiv__ is deprecated, and its behavior will change in a future version of pytorch. It currently rounds toward 0 (like the 'trunc' function NOT 'floor'). This results in incorrect rounding for negative values. To keep the current behavior, use torch.div(a, b, rounding_mode='trunc'), or for actual floor division, use torch.div(a, b, rounding_mode='floor').\n",
      "  row = perm // num_nodes\n"
     ]
    },
    {
     "name": "stdout",
     "output_type": "stream",
     "text": [
      "Epoch: 081, Train: 0.9897, Val: 0.9811, Test: 0.9801, Loss: 0.41065\n"
     ]
    },
    {
     "name": "stderr",
     "output_type": "stream",
     "text": [
      "c:\\Users\\rosa-\\anaconda3\\envs\\xaifo\\lib\\site-packages\\deepsnap\\graph.py:2126: UserWarning: __floordiv__ is deprecated, and its behavior will change in a future version of pytorch. It currently rounds toward 0 (like the 'trunc' function NOT 'floor'). This results in incorrect rounding for negative values. To keep the current behavior, use torch.div(a, b, rounding_mode='trunc'), or for actual floor division, use torch.div(a, b, rounding_mode='floor').\n",
      "  row = perm // num_nodes\n"
     ]
    },
    {
     "name": "stdout",
     "output_type": "stream",
     "text": [
      "Epoch: 082, Train: 0.9896, Val: 0.9812, Test: 0.9802, Loss: 0.40906\n"
     ]
    },
    {
     "name": "stderr",
     "output_type": "stream",
     "text": [
      "c:\\Users\\rosa-\\anaconda3\\envs\\xaifo\\lib\\site-packages\\deepsnap\\graph.py:2126: UserWarning: __floordiv__ is deprecated, and its behavior will change in a future version of pytorch. It currently rounds toward 0 (like the 'trunc' function NOT 'floor'). This results in incorrect rounding for negative values. To keep the current behavior, use torch.div(a, b, rounding_mode='trunc'), or for actual floor division, use torch.div(a, b, rounding_mode='floor').\n",
      "  row = perm // num_nodes\n"
     ]
    },
    {
     "name": "stdout",
     "output_type": "stream",
     "text": [
      "Epoch: 083, Train: 0.9898, Val: 0.9813, Test: 0.9803, Loss: 0.40815\n"
     ]
    },
    {
     "name": "stderr",
     "output_type": "stream",
     "text": [
      "c:\\Users\\rosa-\\anaconda3\\envs\\xaifo\\lib\\site-packages\\deepsnap\\graph.py:2126: UserWarning: __floordiv__ is deprecated, and its behavior will change in a future version of pytorch. It currently rounds toward 0 (like the 'trunc' function NOT 'floor'). This results in incorrect rounding for negative values. To keep the current behavior, use torch.div(a, b, rounding_mode='trunc'), or for actual floor division, use torch.div(a, b, rounding_mode='floor').\n",
      "  row = perm // num_nodes\n"
     ]
    },
    {
     "name": "stdout",
     "output_type": "stream",
     "text": [
      "Epoch: 084, Train: 0.9895, Val: 0.9814, Test: 0.9804, Loss: 0.40793\n"
     ]
    },
    {
     "name": "stderr",
     "output_type": "stream",
     "text": [
      "c:\\Users\\rosa-\\anaconda3\\envs\\xaifo\\lib\\site-packages\\deepsnap\\graph.py:2126: UserWarning: __floordiv__ is deprecated, and its behavior will change in a future version of pytorch. It currently rounds toward 0 (like the 'trunc' function NOT 'floor'). This results in incorrect rounding for negative values. To keep the current behavior, use torch.div(a, b, rounding_mode='trunc'), or for actual floor division, use torch.div(a, b, rounding_mode='floor').\n",
      "  row = perm // num_nodes\n"
     ]
    },
    {
     "name": "stdout",
     "output_type": "stream",
     "text": [
      "Epoch: 085, Train: 0.9896, Val: 0.9815, Test: 0.9805, Loss: 0.40934\n"
     ]
    },
    {
     "name": "stderr",
     "output_type": "stream",
     "text": [
      "c:\\Users\\rosa-\\anaconda3\\envs\\xaifo\\lib\\site-packages\\deepsnap\\graph.py:2126: UserWarning: __floordiv__ is deprecated, and its behavior will change in a future version of pytorch. It currently rounds toward 0 (like the 'trunc' function NOT 'floor'). This results in incorrect rounding for negative values. To keep the current behavior, use torch.div(a, b, rounding_mode='trunc'), or for actual floor division, use torch.div(a, b, rounding_mode='floor').\n",
      "  row = perm // num_nodes\n"
     ]
    },
    {
     "name": "stdout",
     "output_type": "stream",
     "text": [
      "Epoch: 086, Train: 0.9900, Val: 0.9816, Test: 0.9806, Loss: 0.40715\n"
     ]
    },
    {
     "name": "stderr",
     "output_type": "stream",
     "text": [
      "c:\\Users\\rosa-\\anaconda3\\envs\\xaifo\\lib\\site-packages\\deepsnap\\graph.py:2126: UserWarning: __floordiv__ is deprecated, and its behavior will change in a future version of pytorch. It currently rounds toward 0 (like the 'trunc' function NOT 'floor'). This results in incorrect rounding for negative values. To keep the current behavior, use torch.div(a, b, rounding_mode='trunc'), or for actual floor division, use torch.div(a, b, rounding_mode='floor').\n",
      "  row = perm // num_nodes\n"
     ]
    },
    {
     "name": "stdout",
     "output_type": "stream",
     "text": [
      "Epoch: 087, Train: 0.9900, Val: 0.9817, Test: 0.9807, Loss: 0.40971\n"
     ]
    },
    {
     "name": "stderr",
     "output_type": "stream",
     "text": [
      "c:\\Users\\rosa-\\anaconda3\\envs\\xaifo\\lib\\site-packages\\deepsnap\\graph.py:2126: UserWarning: __floordiv__ is deprecated, and its behavior will change in a future version of pytorch. It currently rounds toward 0 (like the 'trunc' function NOT 'floor'). This results in incorrect rounding for negative values. To keep the current behavior, use torch.div(a, b, rounding_mode='trunc'), or for actual floor division, use torch.div(a, b, rounding_mode='floor').\n",
      "  row = perm // num_nodes\n"
     ]
    },
    {
     "name": "stdout",
     "output_type": "stream",
     "text": [
      "Epoch: 088, Train: 0.9902, Val: 0.9818, Test: 0.9807, Loss: 0.40724\n"
     ]
    },
    {
     "name": "stderr",
     "output_type": "stream",
     "text": [
      "c:\\Users\\rosa-\\anaconda3\\envs\\xaifo\\lib\\site-packages\\deepsnap\\graph.py:2126: UserWarning: __floordiv__ is deprecated, and its behavior will change in a future version of pytorch. It currently rounds toward 0 (like the 'trunc' function NOT 'floor'). This results in incorrect rounding for negative values. To keep the current behavior, use torch.div(a, b, rounding_mode='trunc'), or for actual floor division, use torch.div(a, b, rounding_mode='floor').\n",
      "  row = perm // num_nodes\n"
     ]
    },
    {
     "name": "stdout",
     "output_type": "stream",
     "text": [
      "Epoch: 089, Train: 0.9902, Val: 0.9819, Test: 0.9808, Loss: 0.40729\n"
     ]
    },
    {
     "name": "stderr",
     "output_type": "stream",
     "text": [
      "c:\\Users\\rosa-\\anaconda3\\envs\\xaifo\\lib\\site-packages\\deepsnap\\graph.py:2126: UserWarning: __floordiv__ is deprecated, and its behavior will change in a future version of pytorch. It currently rounds toward 0 (like the 'trunc' function NOT 'floor'). This results in incorrect rounding for negative values. To keep the current behavior, use torch.div(a, b, rounding_mode='trunc'), or for actual floor division, use torch.div(a, b, rounding_mode='floor').\n",
      "  row = perm // num_nodes\n"
     ]
    },
    {
     "name": "stdout",
     "output_type": "stream",
     "text": [
      "Epoch: 090, Train: 0.9902, Val: 0.9820, Test: 0.9809, Loss: 0.40773\n"
     ]
    },
    {
     "name": "stderr",
     "output_type": "stream",
     "text": [
      "c:\\Users\\rosa-\\anaconda3\\envs\\xaifo\\lib\\site-packages\\deepsnap\\graph.py:2126: UserWarning: __floordiv__ is deprecated, and its behavior will change in a future version of pytorch. It currently rounds toward 0 (like the 'trunc' function NOT 'floor'). This results in incorrect rounding for negative values. To keep the current behavior, use torch.div(a, b, rounding_mode='trunc'), or for actual floor division, use torch.div(a, b, rounding_mode='floor').\n",
      "  row = perm // num_nodes\n"
     ]
    },
    {
     "name": "stdout",
     "output_type": "stream",
     "text": [
      "Epoch: 091, Train: 0.9904, Val: 0.9821, Test: 0.9810, Loss: 0.40597\n"
     ]
    },
    {
     "name": "stderr",
     "output_type": "stream",
     "text": [
      "c:\\Users\\rosa-\\anaconda3\\envs\\xaifo\\lib\\site-packages\\deepsnap\\graph.py:2126: UserWarning: __floordiv__ is deprecated, and its behavior will change in a future version of pytorch. It currently rounds toward 0 (like the 'trunc' function NOT 'floor'). This results in incorrect rounding for negative values. To keep the current behavior, use torch.div(a, b, rounding_mode='trunc'), or for actual floor division, use torch.div(a, b, rounding_mode='floor').\n",
      "  row = perm // num_nodes\n"
     ]
    },
    {
     "name": "stdout",
     "output_type": "stream",
     "text": [
      "Epoch: 092, Train: 0.9903, Val: 0.9821, Test: 0.9811, Loss: 0.40544\n"
     ]
    },
    {
     "name": "stderr",
     "output_type": "stream",
     "text": [
      "c:\\Users\\rosa-\\anaconda3\\envs\\xaifo\\lib\\site-packages\\deepsnap\\graph.py:2126: UserWarning: __floordiv__ is deprecated, and its behavior will change in a future version of pytorch. It currently rounds toward 0 (like the 'trunc' function NOT 'floor'). This results in incorrect rounding for negative values. To keep the current behavior, use torch.div(a, b, rounding_mode='trunc'), or for actual floor division, use torch.div(a, b, rounding_mode='floor').\n",
      "  row = perm // num_nodes\n"
     ]
    },
    {
     "name": "stdout",
     "output_type": "stream",
     "text": [
      "Epoch: 093, Train: 0.9906, Val: 0.9822, Test: 0.9811, Loss: 0.40775\n"
     ]
    },
    {
     "name": "stderr",
     "output_type": "stream",
     "text": [
      "c:\\Users\\rosa-\\anaconda3\\envs\\xaifo\\lib\\site-packages\\deepsnap\\graph.py:2126: UserWarning: __floordiv__ is deprecated, and its behavior will change in a future version of pytorch. It currently rounds toward 0 (like the 'trunc' function NOT 'floor'). This results in incorrect rounding for negative values. To keep the current behavior, use torch.div(a, b, rounding_mode='trunc'), or for actual floor division, use torch.div(a, b, rounding_mode='floor').\n",
      "  row = perm // num_nodes\n"
     ]
    },
    {
     "name": "stdout",
     "output_type": "stream",
     "text": [
      "Epoch: 094, Train: 0.9907, Val: 0.9824, Test: 0.9813, Loss: 0.40611\n"
     ]
    },
    {
     "name": "stderr",
     "output_type": "stream",
     "text": [
      "c:\\Users\\rosa-\\anaconda3\\envs\\xaifo\\lib\\site-packages\\deepsnap\\graph.py:2126: UserWarning: __floordiv__ is deprecated, and its behavior will change in a future version of pytorch. It currently rounds toward 0 (like the 'trunc' function NOT 'floor'). This results in incorrect rounding for negative values. To keep the current behavior, use torch.div(a, b, rounding_mode='trunc'), or for actual floor division, use torch.div(a, b, rounding_mode='floor').\n",
      "  row = perm // num_nodes\n"
     ]
    },
    {
     "name": "stdout",
     "output_type": "stream",
     "text": [
      "Epoch: 095, Train: 0.9909, Val: 0.9825, Test: 0.9814, Loss: 0.40554\n"
     ]
    },
    {
     "name": "stderr",
     "output_type": "stream",
     "text": [
      "c:\\Users\\rosa-\\anaconda3\\envs\\xaifo\\lib\\site-packages\\deepsnap\\graph.py:2126: UserWarning: __floordiv__ is deprecated, and its behavior will change in a future version of pytorch. It currently rounds toward 0 (like the 'trunc' function NOT 'floor'). This results in incorrect rounding for negative values. To keep the current behavior, use torch.div(a, b, rounding_mode='trunc'), or for actual floor division, use torch.div(a, b, rounding_mode='floor').\n",
      "  row = perm // num_nodes\n"
     ]
    },
    {
     "name": "stdout",
     "output_type": "stream",
     "text": [
      "Epoch: 096, Train: 0.9908, Val: 0.9826, Test: 0.9815, Loss: 0.40640\n"
     ]
    },
    {
     "name": "stderr",
     "output_type": "stream",
     "text": [
      "c:\\Users\\rosa-\\anaconda3\\envs\\xaifo\\lib\\site-packages\\deepsnap\\graph.py:2126: UserWarning: __floordiv__ is deprecated, and its behavior will change in a future version of pytorch. It currently rounds toward 0 (like the 'trunc' function NOT 'floor'). This results in incorrect rounding for negative values. To keep the current behavior, use torch.div(a, b, rounding_mode='trunc'), or for actual floor division, use torch.div(a, b, rounding_mode='floor').\n",
      "  row = perm // num_nodes\n"
     ]
    },
    {
     "name": "stdout",
     "output_type": "stream",
     "text": [
      "Epoch: 097, Train: 0.9911, Val: 0.9827, Test: 0.9816, Loss: 0.40511\n"
     ]
    },
    {
     "name": "stderr",
     "output_type": "stream",
     "text": [
      "c:\\Users\\rosa-\\anaconda3\\envs\\xaifo\\lib\\site-packages\\deepsnap\\graph.py:2126: UserWarning: __floordiv__ is deprecated, and its behavior will change in a future version of pytorch. It currently rounds toward 0 (like the 'trunc' function NOT 'floor'). This results in incorrect rounding for negative values. To keep the current behavior, use torch.div(a, b, rounding_mode='trunc'), or for actual floor division, use torch.div(a, b, rounding_mode='floor').\n",
      "  row = perm // num_nodes\n"
     ]
    },
    {
     "name": "stdout",
     "output_type": "stream",
     "text": [
      "Epoch: 098, Train: 0.9910, Val: 0.9828, Test: 0.9816, Loss: 0.40541\n"
     ]
    },
    {
     "name": "stderr",
     "output_type": "stream",
     "text": [
      "c:\\Users\\rosa-\\anaconda3\\envs\\xaifo\\lib\\site-packages\\deepsnap\\graph.py:2126: UserWarning: __floordiv__ is deprecated, and its behavior will change in a future version of pytorch. It currently rounds toward 0 (like the 'trunc' function NOT 'floor'). This results in incorrect rounding for negative values. To keep the current behavior, use torch.div(a, b, rounding_mode='trunc'), or for actual floor division, use torch.div(a, b, rounding_mode='floor').\n",
      "  row = perm // num_nodes\n"
     ]
    },
    {
     "name": "stdout",
     "output_type": "stream",
     "text": [
      "Epoch: 099, Train: 0.9911, Val: 0.9829, Test: 0.9817, Loss: 0.40567\n"
     ]
    },
    {
     "name": "stderr",
     "output_type": "stream",
     "text": [
      "c:\\Users\\rosa-\\anaconda3\\envs\\xaifo\\lib\\site-packages\\deepsnap\\graph.py:2126: UserWarning: __floordiv__ is deprecated, and its behavior will change in a future version of pytorch. It currently rounds toward 0 (like the 'trunc' function NOT 'floor'). This results in incorrect rounding for negative values. To keep the current behavior, use torch.div(a, b, rounding_mode='trunc'), or for actual floor division, use torch.div(a, b, rounding_mode='floor').\n",
      "  row = perm // num_nodes\n"
     ]
    },
    {
     "name": "stdout",
     "output_type": "stream",
     "text": [
      "Epoch: 100, Train: 0.9911, Val: 0.9830, Test: 0.9818, Loss: 0.40486\n"
     ]
    },
    {
     "name": "stderr",
     "output_type": "stream",
     "text": [
      "c:\\Users\\rosa-\\anaconda3\\envs\\xaifo\\lib\\site-packages\\deepsnap\\graph.py:2126: UserWarning: __floordiv__ is deprecated, and its behavior will change in a future version of pytorch. It currently rounds toward 0 (like the 'trunc' function NOT 'floor'). This results in incorrect rounding for negative values. To keep the current behavior, use torch.div(a, b, rounding_mode='trunc'), or for actual floor division, use torch.div(a, b, rounding_mode='floor').\n",
      "  row = perm // num_nodes\n"
     ]
    },
    {
     "name": "stdout",
     "output_type": "stream",
     "text": [
      "Epoch: 101, Train: 0.9912, Val: 0.9830, Test: 0.9819, Loss: 0.40415\n"
     ]
    },
    {
     "name": "stderr",
     "output_type": "stream",
     "text": [
      "c:\\Users\\rosa-\\anaconda3\\envs\\xaifo\\lib\\site-packages\\deepsnap\\graph.py:2126: UserWarning: __floordiv__ is deprecated, and its behavior will change in a future version of pytorch. It currently rounds toward 0 (like the 'trunc' function NOT 'floor'). This results in incorrect rounding for negative values. To keep the current behavior, use torch.div(a, b, rounding_mode='trunc'), or for actual floor division, use torch.div(a, b, rounding_mode='floor').\n",
      "  row = perm // num_nodes\n"
     ]
    },
    {
     "name": "stdout",
     "output_type": "stream",
     "text": [
      "Epoch: 102, Train: 0.9917, Val: 0.9831, Test: 0.9820, Loss: 0.40392\n"
     ]
    },
    {
     "name": "stderr",
     "output_type": "stream",
     "text": [
      "c:\\Users\\rosa-\\anaconda3\\envs\\xaifo\\lib\\site-packages\\deepsnap\\graph.py:2126: UserWarning: __floordiv__ is deprecated, and its behavior will change in a future version of pytorch. It currently rounds toward 0 (like the 'trunc' function NOT 'floor'). This results in incorrect rounding for negative values. To keep the current behavior, use torch.div(a, b, rounding_mode='trunc'), or for actual floor division, use torch.div(a, b, rounding_mode='floor').\n",
      "  row = perm // num_nodes\n"
     ]
    },
    {
     "name": "stdout",
     "output_type": "stream",
     "text": [
      "Epoch: 103, Train: 0.9914, Val: 0.9832, Test: 0.9821, Loss: 0.40433\n"
     ]
    },
    {
     "name": "stderr",
     "output_type": "stream",
     "text": [
      "c:\\Users\\rosa-\\anaconda3\\envs\\xaifo\\lib\\site-packages\\deepsnap\\graph.py:2126: UserWarning: __floordiv__ is deprecated, and its behavior will change in a future version of pytorch. It currently rounds toward 0 (like the 'trunc' function NOT 'floor'). This results in incorrect rounding for negative values. To keep the current behavior, use torch.div(a, b, rounding_mode='trunc'), or for actual floor division, use torch.div(a, b, rounding_mode='floor').\n",
      "  row = perm // num_nodes\n"
     ]
    },
    {
     "name": "stdout",
     "output_type": "stream",
     "text": [
      "Epoch: 104, Train: 0.9917, Val: 0.9833, Test: 0.9822, Loss: 0.40398\n"
     ]
    },
    {
     "name": "stderr",
     "output_type": "stream",
     "text": [
      "c:\\Users\\rosa-\\anaconda3\\envs\\xaifo\\lib\\site-packages\\deepsnap\\graph.py:2126: UserWarning: __floordiv__ is deprecated, and its behavior will change in a future version of pytorch. It currently rounds toward 0 (like the 'trunc' function NOT 'floor'). This results in incorrect rounding for negative values. To keep the current behavior, use torch.div(a, b, rounding_mode='trunc'), or for actual floor division, use torch.div(a, b, rounding_mode='floor').\n",
      "  row = perm // num_nodes\n"
     ]
    },
    {
     "name": "stdout",
     "output_type": "stream",
     "text": [
      "Epoch: 105, Train: 0.9915, Val: 0.9834, Test: 0.9823, Loss: 0.40330\n"
     ]
    },
    {
     "name": "stderr",
     "output_type": "stream",
     "text": [
      "c:\\Users\\rosa-\\anaconda3\\envs\\xaifo\\lib\\site-packages\\deepsnap\\graph.py:2126: UserWarning: __floordiv__ is deprecated, and its behavior will change in a future version of pytorch. It currently rounds toward 0 (like the 'trunc' function NOT 'floor'). This results in incorrect rounding for negative values. To keep the current behavior, use torch.div(a, b, rounding_mode='trunc'), or for actual floor division, use torch.div(a, b, rounding_mode='floor').\n",
      "  row = perm // num_nodes\n"
     ]
    },
    {
     "name": "stdout",
     "output_type": "stream",
     "text": [
      "Epoch: 106, Train: 0.9916, Val: 0.9835, Test: 0.9824, Loss: 0.40448\n"
     ]
    },
    {
     "name": "stderr",
     "output_type": "stream",
     "text": [
      "c:\\Users\\rosa-\\anaconda3\\envs\\xaifo\\lib\\site-packages\\deepsnap\\graph.py:2126: UserWarning: __floordiv__ is deprecated, and its behavior will change in a future version of pytorch. It currently rounds toward 0 (like the 'trunc' function NOT 'floor'). This results in incorrect rounding for negative values. To keep the current behavior, use torch.div(a, b, rounding_mode='trunc'), or for actual floor division, use torch.div(a, b, rounding_mode='floor').\n",
      "  row = perm // num_nodes\n"
     ]
    },
    {
     "name": "stdout",
     "output_type": "stream",
     "text": [
      "Epoch: 107, Train: 0.9919, Val: 0.9835, Test: 0.9824, Loss: 0.40292\n"
     ]
    },
    {
     "name": "stderr",
     "output_type": "stream",
     "text": [
      "c:\\Users\\rosa-\\anaconda3\\envs\\xaifo\\lib\\site-packages\\deepsnap\\graph.py:2126: UserWarning: __floordiv__ is deprecated, and its behavior will change in a future version of pytorch. It currently rounds toward 0 (like the 'trunc' function NOT 'floor'). This results in incorrect rounding for negative values. To keep the current behavior, use torch.div(a, b, rounding_mode='trunc'), or for actual floor division, use torch.div(a, b, rounding_mode='floor').\n",
      "  row = perm // num_nodes\n"
     ]
    },
    {
     "name": "stdout",
     "output_type": "stream",
     "text": [
      "Epoch: 108, Train: 0.9918, Val: 0.9836, Test: 0.9825, Loss: 0.40445\n"
     ]
    },
    {
     "name": "stderr",
     "output_type": "stream",
     "text": [
      "c:\\Users\\rosa-\\anaconda3\\envs\\xaifo\\lib\\site-packages\\deepsnap\\graph.py:2126: UserWarning: __floordiv__ is deprecated, and its behavior will change in a future version of pytorch. It currently rounds toward 0 (like the 'trunc' function NOT 'floor'). This results in incorrect rounding for negative values. To keep the current behavior, use torch.div(a, b, rounding_mode='trunc'), or for actual floor division, use torch.div(a, b, rounding_mode='floor').\n",
      "  row = perm // num_nodes\n"
     ]
    },
    {
     "name": "stdout",
     "output_type": "stream",
     "text": [
      "Epoch: 109, Train: 0.9918, Val: 0.9837, Test: 0.9825, Loss: 0.40351\n"
     ]
    },
    {
     "name": "stderr",
     "output_type": "stream",
     "text": [
      "c:\\Users\\rosa-\\anaconda3\\envs\\xaifo\\lib\\site-packages\\deepsnap\\graph.py:2126: UserWarning: __floordiv__ is deprecated, and its behavior will change in a future version of pytorch. It currently rounds toward 0 (like the 'trunc' function NOT 'floor'). This results in incorrect rounding for negative values. To keep the current behavior, use torch.div(a, b, rounding_mode='trunc'), or for actual floor division, use torch.div(a, b, rounding_mode='floor').\n",
      "  row = perm // num_nodes\n"
     ]
    },
    {
     "name": "stdout",
     "output_type": "stream",
     "text": [
      "Epoch: 110, Train: 0.9920, Val: 0.9837, Test: 0.9826, Loss: 0.40403\n"
     ]
    },
    {
     "name": "stderr",
     "output_type": "stream",
     "text": [
      "c:\\Users\\rosa-\\anaconda3\\envs\\xaifo\\lib\\site-packages\\deepsnap\\graph.py:2126: UserWarning: __floordiv__ is deprecated, and its behavior will change in a future version of pytorch. It currently rounds toward 0 (like the 'trunc' function NOT 'floor'). This results in incorrect rounding for negative values. To keep the current behavior, use torch.div(a, b, rounding_mode='trunc'), or for actual floor division, use torch.div(a, b, rounding_mode='floor').\n",
      "  row = perm // num_nodes\n"
     ]
    },
    {
     "name": "stdout",
     "output_type": "stream",
     "text": [
      "Epoch: 111, Train: 0.9924, Val: 0.9837, Test: 0.9826, Loss: 0.40333\n"
     ]
    },
    {
     "name": "stderr",
     "output_type": "stream",
     "text": [
      "c:\\Users\\rosa-\\anaconda3\\envs\\xaifo\\lib\\site-packages\\deepsnap\\graph.py:2126: UserWarning: __floordiv__ is deprecated, and its behavior will change in a future version of pytorch. It currently rounds toward 0 (like the 'trunc' function NOT 'floor'). This results in incorrect rounding for negative values. To keep the current behavior, use torch.div(a, b, rounding_mode='trunc'), or for actual floor division, use torch.div(a, b, rounding_mode='floor').\n",
      "  row = perm // num_nodes\n"
     ]
    },
    {
     "name": "stdout",
     "output_type": "stream",
     "text": [
      "Epoch: 112, Train: 0.9918, Val: 0.9838, Test: 0.9826, Loss: 0.40313\n"
     ]
    },
    {
     "name": "stderr",
     "output_type": "stream",
     "text": [
      "c:\\Users\\rosa-\\anaconda3\\envs\\xaifo\\lib\\site-packages\\deepsnap\\graph.py:2126: UserWarning: __floordiv__ is deprecated, and its behavior will change in a future version of pytorch. It currently rounds toward 0 (like the 'trunc' function NOT 'floor'). This results in incorrect rounding for negative values. To keep the current behavior, use torch.div(a, b, rounding_mode='trunc'), or for actual floor division, use torch.div(a, b, rounding_mode='floor').\n",
      "  row = perm // num_nodes\n"
     ]
    },
    {
     "name": "stdout",
     "output_type": "stream",
     "text": [
      "Epoch: 113, Train: 0.9922, Val: 0.9838, Test: 0.9826, Loss: 0.40338\n"
     ]
    },
    {
     "name": "stderr",
     "output_type": "stream",
     "text": [
      "c:\\Users\\rosa-\\anaconda3\\envs\\xaifo\\lib\\site-packages\\deepsnap\\graph.py:2126: UserWarning: __floordiv__ is deprecated, and its behavior will change in a future version of pytorch. It currently rounds toward 0 (like the 'trunc' function NOT 'floor'). This results in incorrect rounding for negative values. To keep the current behavior, use torch.div(a, b, rounding_mode='trunc'), or for actual floor division, use torch.div(a, b, rounding_mode='floor').\n",
      "  row = perm // num_nodes\n"
     ]
    },
    {
     "name": "stdout",
     "output_type": "stream",
     "text": [
      "Epoch: 114, Train: 0.9919, Val: 0.9838, Test: 0.9826, Loss: 0.40226\n"
     ]
    },
    {
     "name": "stderr",
     "output_type": "stream",
     "text": [
      "c:\\Users\\rosa-\\anaconda3\\envs\\xaifo\\lib\\site-packages\\deepsnap\\graph.py:2126: UserWarning: __floordiv__ is deprecated, and its behavior will change in a future version of pytorch. It currently rounds toward 0 (like the 'trunc' function NOT 'floor'). This results in incorrect rounding for negative values. To keep the current behavior, use torch.div(a, b, rounding_mode='trunc'), or for actual floor division, use torch.div(a, b, rounding_mode='floor').\n",
      "  row = perm // num_nodes\n"
     ]
    },
    {
     "name": "stdout",
     "output_type": "stream",
     "text": [
      "Epoch: 115, Train: 0.9919, Val: 0.9838, Test: 0.9826, Loss: 0.40304\n"
     ]
    },
    {
     "name": "stderr",
     "output_type": "stream",
     "text": [
      "c:\\Users\\rosa-\\anaconda3\\envs\\xaifo\\lib\\site-packages\\deepsnap\\graph.py:2126: UserWarning: __floordiv__ is deprecated, and its behavior will change in a future version of pytorch. It currently rounds toward 0 (like the 'trunc' function NOT 'floor'). This results in incorrect rounding for negative values. To keep the current behavior, use torch.div(a, b, rounding_mode='trunc'), or for actual floor division, use torch.div(a, b, rounding_mode='floor').\n",
      "  row = perm // num_nodes\n"
     ]
    },
    {
     "name": "stdout",
     "output_type": "stream",
     "text": [
      "Epoch: 116, Train: 0.9919, Val: 0.9838, Test: 0.9827, Loss: 0.40224\n"
     ]
    },
    {
     "name": "stderr",
     "output_type": "stream",
     "text": [
      "c:\\Users\\rosa-\\anaconda3\\envs\\xaifo\\lib\\site-packages\\deepsnap\\graph.py:2126: UserWarning: __floordiv__ is deprecated, and its behavior will change in a future version of pytorch. It currently rounds toward 0 (like the 'trunc' function NOT 'floor'). This results in incorrect rounding for negative values. To keep the current behavior, use torch.div(a, b, rounding_mode='trunc'), or for actual floor division, use torch.div(a, b, rounding_mode='floor').\n",
      "  row = perm // num_nodes\n"
     ]
    },
    {
     "name": "stdout",
     "output_type": "stream",
     "text": [
      "Epoch: 117, Train: 0.9921, Val: 0.9838, Test: 0.9827, Loss: 0.40276\n"
     ]
    },
    {
     "name": "stderr",
     "output_type": "stream",
     "text": [
      "c:\\Users\\rosa-\\anaconda3\\envs\\xaifo\\lib\\site-packages\\deepsnap\\graph.py:2126: UserWarning: __floordiv__ is deprecated, and its behavior will change in a future version of pytorch. It currently rounds toward 0 (like the 'trunc' function NOT 'floor'). This results in incorrect rounding for negative values. To keep the current behavior, use torch.div(a, b, rounding_mode='trunc'), or for actual floor division, use torch.div(a, b, rounding_mode='floor').\n",
      "  row = perm // num_nodes\n"
     ]
    },
    {
     "name": "stdout",
     "output_type": "stream",
     "text": [
      "Epoch: 118, Train: 0.9921, Val: 0.9838, Test: 0.9827, Loss: 0.40326\n"
     ]
    },
    {
     "name": "stderr",
     "output_type": "stream",
     "text": [
      "c:\\Users\\rosa-\\anaconda3\\envs\\xaifo\\lib\\site-packages\\deepsnap\\graph.py:2126: UserWarning: __floordiv__ is deprecated, and its behavior will change in a future version of pytorch. It currently rounds toward 0 (like the 'trunc' function NOT 'floor'). This results in incorrect rounding for negative values. To keep the current behavior, use torch.div(a, b, rounding_mode='trunc'), or for actual floor division, use torch.div(a, b, rounding_mode='floor').\n",
      "  row = perm // num_nodes\n"
     ]
    },
    {
     "name": "stdout",
     "output_type": "stream",
     "text": [
      "Epoch: 119, Train: 0.9924, Val: 0.9839, Test: 0.9827, Loss: 0.40256\n"
     ]
    },
    {
     "name": "stderr",
     "output_type": "stream",
     "text": [
      "c:\\Users\\rosa-\\anaconda3\\envs\\xaifo\\lib\\site-packages\\deepsnap\\graph.py:2126: UserWarning: __floordiv__ is deprecated, and its behavior will change in a future version of pytorch. It currently rounds toward 0 (like the 'trunc' function NOT 'floor'). This results in incorrect rounding for negative values. To keep the current behavior, use torch.div(a, b, rounding_mode='trunc'), or for actual floor division, use torch.div(a, b, rounding_mode='floor').\n",
      "  row = perm // num_nodes\n"
     ]
    },
    {
     "name": "stdout",
     "output_type": "stream",
     "text": [
      "Epoch: 120, Train: 0.9923, Val: 0.9839, Test: 0.9828, Loss: 0.40164\n"
     ]
    },
    {
     "name": "stderr",
     "output_type": "stream",
     "text": [
      "c:\\Users\\rosa-\\anaconda3\\envs\\xaifo\\lib\\site-packages\\deepsnap\\graph.py:2126: UserWarning: __floordiv__ is deprecated, and its behavior will change in a future version of pytorch. It currently rounds toward 0 (like the 'trunc' function NOT 'floor'). This results in incorrect rounding for negative values. To keep the current behavior, use torch.div(a, b, rounding_mode='trunc'), or for actual floor division, use torch.div(a, b, rounding_mode='floor').\n",
      "  row = perm // num_nodes\n"
     ]
    },
    {
     "name": "stdout",
     "output_type": "stream",
     "text": [
      "Epoch: 121, Train: 0.9923, Val: 0.9840, Test: 0.9828, Loss: 0.40091\n"
     ]
    },
    {
     "name": "stderr",
     "output_type": "stream",
     "text": [
      "c:\\Users\\rosa-\\anaconda3\\envs\\xaifo\\lib\\site-packages\\deepsnap\\graph.py:2126: UserWarning: __floordiv__ is deprecated, and its behavior will change in a future version of pytorch. It currently rounds toward 0 (like the 'trunc' function NOT 'floor'). This results in incorrect rounding for negative values. To keep the current behavior, use torch.div(a, b, rounding_mode='trunc'), or for actual floor division, use torch.div(a, b, rounding_mode='floor').\n",
      "  row = perm // num_nodes\n"
     ]
    },
    {
     "name": "stdout",
     "output_type": "stream",
     "text": [
      "Epoch: 122, Train: 0.9925, Val: 0.9840, Test: 0.9829, Loss: 0.40124\n"
     ]
    },
    {
     "name": "stderr",
     "output_type": "stream",
     "text": [
      "c:\\Users\\rosa-\\anaconda3\\envs\\xaifo\\lib\\site-packages\\deepsnap\\graph.py:2126: UserWarning: __floordiv__ is deprecated, and its behavior will change in a future version of pytorch. It currently rounds toward 0 (like the 'trunc' function NOT 'floor'). This results in incorrect rounding for negative values. To keep the current behavior, use torch.div(a, b, rounding_mode='trunc'), or for actual floor division, use torch.div(a, b, rounding_mode='floor').\n",
      "  row = perm // num_nodes\n"
     ]
    },
    {
     "name": "stdout",
     "output_type": "stream",
     "text": [
      "Epoch: 123, Train: 0.9925, Val: 0.9841, Test: 0.9830, Loss: 0.40214\n"
     ]
    },
    {
     "name": "stderr",
     "output_type": "stream",
     "text": [
      "c:\\Users\\rosa-\\anaconda3\\envs\\xaifo\\lib\\site-packages\\deepsnap\\graph.py:2126: UserWarning: __floordiv__ is deprecated, and its behavior will change in a future version of pytorch. It currently rounds toward 0 (like the 'trunc' function NOT 'floor'). This results in incorrect rounding for negative values. To keep the current behavior, use torch.div(a, b, rounding_mode='trunc'), or for actual floor division, use torch.div(a, b, rounding_mode='floor').\n",
      "  row = perm // num_nodes\n"
     ]
    },
    {
     "name": "stdout",
     "output_type": "stream",
     "text": [
      "Epoch: 124, Train: 0.9928, Val: 0.9842, Test: 0.9830, Loss: 0.40173\n"
     ]
    },
    {
     "name": "stderr",
     "output_type": "stream",
     "text": [
      "c:\\Users\\rosa-\\anaconda3\\envs\\xaifo\\lib\\site-packages\\deepsnap\\graph.py:2126: UserWarning: __floordiv__ is deprecated, and its behavior will change in a future version of pytorch. It currently rounds toward 0 (like the 'trunc' function NOT 'floor'). This results in incorrect rounding for negative values. To keep the current behavior, use torch.div(a, b, rounding_mode='trunc'), or for actual floor division, use torch.div(a, b, rounding_mode='floor').\n",
      "  row = perm // num_nodes\n"
     ]
    },
    {
     "name": "stdout",
     "output_type": "stream",
     "text": [
      "Epoch: 125, Train: 0.9925, Val: 0.9842, Test: 0.9830, Loss: 0.40103\n"
     ]
    },
    {
     "name": "stderr",
     "output_type": "stream",
     "text": [
      "c:\\Users\\rosa-\\anaconda3\\envs\\xaifo\\lib\\site-packages\\deepsnap\\graph.py:2126: UserWarning: __floordiv__ is deprecated, and its behavior will change in a future version of pytorch. It currently rounds toward 0 (like the 'trunc' function NOT 'floor'). This results in incorrect rounding for negative values. To keep the current behavior, use torch.div(a, b, rounding_mode='trunc'), or for actual floor division, use torch.div(a, b, rounding_mode='floor').\n",
      "  row = perm // num_nodes\n"
     ]
    },
    {
     "name": "stdout",
     "output_type": "stream",
     "text": [
      "Epoch: 126, Train: 0.9927, Val: 0.9843, Test: 0.9831, Loss: 0.40065\n"
     ]
    },
    {
     "name": "stderr",
     "output_type": "stream",
     "text": [
      "c:\\Users\\rosa-\\anaconda3\\envs\\xaifo\\lib\\site-packages\\deepsnap\\graph.py:2126: UserWarning: __floordiv__ is deprecated, and its behavior will change in a future version of pytorch. It currently rounds toward 0 (like the 'trunc' function NOT 'floor'). This results in incorrect rounding for negative values. To keep the current behavior, use torch.div(a, b, rounding_mode='trunc'), or for actual floor division, use torch.div(a, b, rounding_mode='floor').\n",
      "  row = perm // num_nodes\n"
     ]
    },
    {
     "name": "stdout",
     "output_type": "stream",
     "text": [
      "Epoch: 127, Train: 0.9928, Val: 0.9843, Test: 0.9832, Loss: 0.40219\n"
     ]
    },
    {
     "name": "stderr",
     "output_type": "stream",
     "text": [
      "c:\\Users\\rosa-\\anaconda3\\envs\\xaifo\\lib\\site-packages\\deepsnap\\graph.py:2126: UserWarning: __floordiv__ is deprecated, and its behavior will change in a future version of pytorch. It currently rounds toward 0 (like the 'trunc' function NOT 'floor'). This results in incorrect rounding for negative values. To keep the current behavior, use torch.div(a, b, rounding_mode='trunc'), or for actual floor division, use torch.div(a, b, rounding_mode='floor').\n",
      "  row = perm // num_nodes\n"
     ]
    },
    {
     "name": "stdout",
     "output_type": "stream",
     "text": [
      "Epoch: 128, Train: 0.9927, Val: 0.9844, Test: 0.9832, Loss: 0.40074\n"
     ]
    },
    {
     "name": "stderr",
     "output_type": "stream",
     "text": [
      "c:\\Users\\rosa-\\anaconda3\\envs\\xaifo\\lib\\site-packages\\deepsnap\\graph.py:2126: UserWarning: __floordiv__ is deprecated, and its behavior will change in a future version of pytorch. It currently rounds toward 0 (like the 'trunc' function NOT 'floor'). This results in incorrect rounding for negative values. To keep the current behavior, use torch.div(a, b, rounding_mode='trunc'), or for actual floor division, use torch.div(a, b, rounding_mode='floor').\n",
      "  row = perm // num_nodes\n"
     ]
    },
    {
     "name": "stdout",
     "output_type": "stream",
     "text": [
      "Epoch: 129, Train: 0.9929, Val: 0.9845, Test: 0.9833, Loss: 0.40096\n"
     ]
    },
    {
     "name": "stderr",
     "output_type": "stream",
     "text": [
      "c:\\Users\\rosa-\\anaconda3\\envs\\xaifo\\lib\\site-packages\\deepsnap\\graph.py:2126: UserWarning: __floordiv__ is deprecated, and its behavior will change in a future version of pytorch. It currently rounds toward 0 (like the 'trunc' function NOT 'floor'). This results in incorrect rounding for negative values. To keep the current behavior, use torch.div(a, b, rounding_mode='trunc'), or for actual floor division, use torch.div(a, b, rounding_mode='floor').\n",
      "  row = perm // num_nodes\n"
     ]
    },
    {
     "name": "stdout",
     "output_type": "stream",
     "text": [
      "Epoch: 130, Train: 0.9927, Val: 0.9845, Test: 0.9833, Loss: 0.39969\n"
     ]
    },
    {
     "name": "stderr",
     "output_type": "stream",
     "text": [
      "c:\\Users\\rosa-\\anaconda3\\envs\\xaifo\\lib\\site-packages\\deepsnap\\graph.py:2126: UserWarning: __floordiv__ is deprecated, and its behavior will change in a future version of pytorch. It currently rounds toward 0 (like the 'trunc' function NOT 'floor'). This results in incorrect rounding for negative values. To keep the current behavior, use torch.div(a, b, rounding_mode='trunc'), or for actual floor division, use torch.div(a, b, rounding_mode='floor').\n",
      "  row = perm // num_nodes\n"
     ]
    },
    {
     "name": "stdout",
     "output_type": "stream",
     "text": [
      "Epoch: 131, Train: 0.9930, Val: 0.9846, Test: 0.9834, Loss: 0.40089\n"
     ]
    },
    {
     "name": "stderr",
     "output_type": "stream",
     "text": [
      "c:\\Users\\rosa-\\anaconda3\\envs\\xaifo\\lib\\site-packages\\deepsnap\\graph.py:2126: UserWarning: __floordiv__ is deprecated, and its behavior will change in a future version of pytorch. It currently rounds toward 0 (like the 'trunc' function NOT 'floor'). This results in incorrect rounding for negative values. To keep the current behavior, use torch.div(a, b, rounding_mode='trunc'), or for actual floor division, use torch.div(a, b, rounding_mode='floor').\n",
      "  row = perm // num_nodes\n"
     ]
    },
    {
     "name": "stdout",
     "output_type": "stream",
     "text": [
      "Epoch: 132, Train: 0.9929, Val: 0.9846, Test: 0.9834, Loss: 0.39970\n"
     ]
    },
    {
     "name": "stderr",
     "output_type": "stream",
     "text": [
      "c:\\Users\\rosa-\\anaconda3\\envs\\xaifo\\lib\\site-packages\\deepsnap\\graph.py:2126: UserWarning: __floordiv__ is deprecated, and its behavior will change in a future version of pytorch. It currently rounds toward 0 (like the 'trunc' function NOT 'floor'). This results in incorrect rounding for negative values. To keep the current behavior, use torch.div(a, b, rounding_mode='trunc'), or for actual floor division, use torch.div(a, b, rounding_mode='floor').\n",
      "  row = perm // num_nodes\n"
     ]
    },
    {
     "name": "stdout",
     "output_type": "stream",
     "text": [
      "Epoch: 133, Train: 0.9926, Val: 0.9847, Test: 0.9835, Loss: 0.40052\n"
     ]
    },
    {
     "name": "stderr",
     "output_type": "stream",
     "text": [
      "c:\\Users\\rosa-\\anaconda3\\envs\\xaifo\\lib\\site-packages\\deepsnap\\graph.py:2126: UserWarning: __floordiv__ is deprecated, and its behavior will change in a future version of pytorch. It currently rounds toward 0 (like the 'trunc' function NOT 'floor'). This results in incorrect rounding for negative values. To keep the current behavior, use torch.div(a, b, rounding_mode='trunc'), or for actual floor division, use torch.div(a, b, rounding_mode='floor').\n",
      "  row = perm // num_nodes\n"
     ]
    },
    {
     "name": "stdout",
     "output_type": "stream",
     "text": [
      "Epoch: 134, Train: 0.9931, Val: 0.9847, Test: 0.9835, Loss: 0.40052\n"
     ]
    },
    {
     "name": "stderr",
     "output_type": "stream",
     "text": [
      "c:\\Users\\rosa-\\anaconda3\\envs\\xaifo\\lib\\site-packages\\deepsnap\\graph.py:2126: UserWarning: __floordiv__ is deprecated, and its behavior will change in a future version of pytorch. It currently rounds toward 0 (like the 'trunc' function NOT 'floor'). This results in incorrect rounding for negative values. To keep the current behavior, use torch.div(a, b, rounding_mode='trunc'), or for actual floor division, use torch.div(a, b, rounding_mode='floor').\n",
      "  row = perm // num_nodes\n"
     ]
    },
    {
     "name": "stdout",
     "output_type": "stream",
     "text": [
      "Epoch: 135, Train: 0.9930, Val: 0.9848, Test: 0.9836, Loss: 0.39954\n"
     ]
    },
    {
     "name": "stderr",
     "output_type": "stream",
     "text": [
      "c:\\Users\\rosa-\\anaconda3\\envs\\xaifo\\lib\\site-packages\\deepsnap\\graph.py:2126: UserWarning: __floordiv__ is deprecated, and its behavior will change in a future version of pytorch. It currently rounds toward 0 (like the 'trunc' function NOT 'floor'). This results in incorrect rounding for negative values. To keep the current behavior, use torch.div(a, b, rounding_mode='trunc'), or for actual floor division, use torch.div(a, b, rounding_mode='floor').\n",
      "  row = perm // num_nodes\n"
     ]
    },
    {
     "name": "stdout",
     "output_type": "stream",
     "text": [
      "Epoch: 136, Train: 0.9931, Val: 0.9848, Test: 0.9836, Loss: 0.39924\n"
     ]
    },
    {
     "name": "stderr",
     "output_type": "stream",
     "text": [
      "c:\\Users\\rosa-\\anaconda3\\envs\\xaifo\\lib\\site-packages\\deepsnap\\graph.py:2126: UserWarning: __floordiv__ is deprecated, and its behavior will change in a future version of pytorch. It currently rounds toward 0 (like the 'trunc' function NOT 'floor'). This results in incorrect rounding for negative values. To keep the current behavior, use torch.div(a, b, rounding_mode='trunc'), or for actual floor division, use torch.div(a, b, rounding_mode='floor').\n",
      "  row = perm // num_nodes\n"
     ]
    },
    {
     "name": "stdout",
     "output_type": "stream",
     "text": [
      "Epoch: 137, Train: 0.9929, Val: 0.9849, Test: 0.9837, Loss: 0.39925\n"
     ]
    },
    {
     "name": "stderr",
     "output_type": "stream",
     "text": [
      "c:\\Users\\rosa-\\anaconda3\\envs\\xaifo\\lib\\site-packages\\deepsnap\\graph.py:2126: UserWarning: __floordiv__ is deprecated, and its behavior will change in a future version of pytorch. It currently rounds toward 0 (like the 'trunc' function NOT 'floor'). This results in incorrect rounding for negative values. To keep the current behavior, use torch.div(a, b, rounding_mode='trunc'), or for actual floor division, use torch.div(a, b, rounding_mode='floor').\n",
      "  row = perm // num_nodes\n"
     ]
    },
    {
     "name": "stdout",
     "output_type": "stream",
     "text": [
      "Epoch: 138, Train: 0.9933, Val: 0.9849, Test: 0.9837, Loss: 0.39892\n"
     ]
    },
    {
     "name": "stderr",
     "output_type": "stream",
     "text": [
      "c:\\Users\\rosa-\\anaconda3\\envs\\xaifo\\lib\\site-packages\\deepsnap\\graph.py:2126: UserWarning: __floordiv__ is deprecated, and its behavior will change in a future version of pytorch. It currently rounds toward 0 (like the 'trunc' function NOT 'floor'). This results in incorrect rounding for negative values. To keep the current behavior, use torch.div(a, b, rounding_mode='trunc'), or for actual floor division, use torch.div(a, b, rounding_mode='floor').\n",
      "  row = perm // num_nodes\n"
     ]
    },
    {
     "name": "stdout",
     "output_type": "stream",
     "text": [
      "Epoch: 139, Train: 0.9932, Val: 0.9850, Test: 0.9838, Loss: 0.39920\n"
     ]
    },
    {
     "name": "stderr",
     "output_type": "stream",
     "text": [
      "c:\\Users\\rosa-\\anaconda3\\envs\\xaifo\\lib\\site-packages\\deepsnap\\graph.py:2126: UserWarning: __floordiv__ is deprecated, and its behavior will change in a future version of pytorch. It currently rounds toward 0 (like the 'trunc' function NOT 'floor'). This results in incorrect rounding for negative values. To keep the current behavior, use torch.div(a, b, rounding_mode='trunc'), or for actual floor division, use torch.div(a, b, rounding_mode='floor').\n",
      "  row = perm // num_nodes\n"
     ]
    },
    {
     "name": "stdout",
     "output_type": "stream",
     "text": [
      "Epoch: 140, Train: 0.9931, Val: 0.9850, Test: 0.9838, Loss: 0.39953\n"
     ]
    },
    {
     "name": "stderr",
     "output_type": "stream",
     "text": [
      "c:\\Users\\rosa-\\anaconda3\\envs\\xaifo\\lib\\site-packages\\deepsnap\\graph.py:2126: UserWarning: __floordiv__ is deprecated, and its behavior will change in a future version of pytorch. It currently rounds toward 0 (like the 'trunc' function NOT 'floor'). This results in incorrect rounding for negative values. To keep the current behavior, use torch.div(a, b, rounding_mode='trunc'), or for actual floor division, use torch.div(a, b, rounding_mode='floor').\n",
      "  row = perm // num_nodes\n"
     ]
    },
    {
     "name": "stdout",
     "output_type": "stream",
     "text": [
      "Epoch: 141, Train: 0.9934, Val: 0.9851, Test: 0.9839, Loss: 0.39826\n"
     ]
    },
    {
     "name": "stderr",
     "output_type": "stream",
     "text": [
      "c:\\Users\\rosa-\\anaconda3\\envs\\xaifo\\lib\\site-packages\\deepsnap\\graph.py:2126: UserWarning: __floordiv__ is deprecated, and its behavior will change in a future version of pytorch. It currently rounds toward 0 (like the 'trunc' function NOT 'floor'). This results in incorrect rounding for negative values. To keep the current behavior, use torch.div(a, b, rounding_mode='trunc'), or for actual floor division, use torch.div(a, b, rounding_mode='floor').\n",
      "  row = perm // num_nodes\n"
     ]
    },
    {
     "name": "stdout",
     "output_type": "stream",
     "text": [
      "Epoch: 142, Train: 0.9935, Val: 0.9851, Test: 0.9839, Loss: 0.40047\n"
     ]
    },
    {
     "name": "stderr",
     "output_type": "stream",
     "text": [
      "c:\\Users\\rosa-\\anaconda3\\envs\\xaifo\\lib\\site-packages\\deepsnap\\graph.py:2126: UserWarning: __floordiv__ is deprecated, and its behavior will change in a future version of pytorch. It currently rounds toward 0 (like the 'trunc' function NOT 'floor'). This results in incorrect rounding for negative values. To keep the current behavior, use torch.div(a, b, rounding_mode='trunc'), or for actual floor division, use torch.div(a, b, rounding_mode='floor').\n",
      "  row = perm // num_nodes\n"
     ]
    },
    {
     "name": "stdout",
     "output_type": "stream",
     "text": [
      "Epoch: 143, Train: 0.9935, Val: 0.9851, Test: 0.9839, Loss: 0.39932\n"
     ]
    },
    {
     "name": "stderr",
     "output_type": "stream",
     "text": [
      "c:\\Users\\rosa-\\anaconda3\\envs\\xaifo\\lib\\site-packages\\deepsnap\\graph.py:2126: UserWarning: __floordiv__ is deprecated, and its behavior will change in a future version of pytorch. It currently rounds toward 0 (like the 'trunc' function NOT 'floor'). This results in incorrect rounding for negative values. To keep the current behavior, use torch.div(a, b, rounding_mode='trunc'), or for actual floor division, use torch.div(a, b, rounding_mode='floor').\n",
      "  row = perm // num_nodes\n"
     ]
    },
    {
     "name": "stdout",
     "output_type": "stream",
     "text": [
      "Epoch: 144, Train: 0.9933, Val: 0.9852, Test: 0.9840, Loss: 0.39823\n"
     ]
    },
    {
     "name": "stderr",
     "output_type": "stream",
     "text": [
      "c:\\Users\\rosa-\\anaconda3\\envs\\xaifo\\lib\\site-packages\\deepsnap\\graph.py:2126: UserWarning: __floordiv__ is deprecated, and its behavior will change in a future version of pytorch. It currently rounds toward 0 (like the 'trunc' function NOT 'floor'). This results in incorrect rounding for negative values. To keep the current behavior, use torch.div(a, b, rounding_mode='trunc'), or for actual floor division, use torch.div(a, b, rounding_mode='floor').\n",
      "  row = perm // num_nodes\n"
     ]
    },
    {
     "name": "stdout",
     "output_type": "stream",
     "text": [
      "Epoch: 145, Train: 0.9936, Val: 0.9852, Test: 0.9840, Loss: 0.39953\n"
     ]
    },
    {
     "name": "stderr",
     "output_type": "stream",
     "text": [
      "c:\\Users\\rosa-\\anaconda3\\envs\\xaifo\\lib\\site-packages\\deepsnap\\graph.py:2126: UserWarning: __floordiv__ is deprecated, and its behavior will change in a future version of pytorch. It currently rounds toward 0 (like the 'trunc' function NOT 'floor'). This results in incorrect rounding for negative values. To keep the current behavior, use torch.div(a, b, rounding_mode='trunc'), or for actual floor division, use torch.div(a, b, rounding_mode='floor').\n",
      "  row = perm // num_nodes\n"
     ]
    },
    {
     "name": "stdout",
     "output_type": "stream",
     "text": [
      "Epoch: 146, Train: 0.9936, Val: 0.9853, Test: 0.9840, Loss: 0.39900\n"
     ]
    },
    {
     "name": "stderr",
     "output_type": "stream",
     "text": [
      "c:\\Users\\rosa-\\anaconda3\\envs\\xaifo\\lib\\site-packages\\deepsnap\\graph.py:2126: UserWarning: __floordiv__ is deprecated, and its behavior will change in a future version of pytorch. It currently rounds toward 0 (like the 'trunc' function NOT 'floor'). This results in incorrect rounding for negative values. To keep the current behavior, use torch.div(a, b, rounding_mode='trunc'), or for actual floor division, use torch.div(a, b, rounding_mode='floor').\n",
      "  row = perm // num_nodes\n"
     ]
    },
    {
     "name": "stdout",
     "output_type": "stream",
     "text": [
      "Epoch: 147, Train: 0.9935, Val: 0.9853, Test: 0.9841, Loss: 0.39757\n"
     ]
    },
    {
     "name": "stderr",
     "output_type": "stream",
     "text": [
      "c:\\Users\\rosa-\\anaconda3\\envs\\xaifo\\lib\\site-packages\\deepsnap\\graph.py:2126: UserWarning: __floordiv__ is deprecated, and its behavior will change in a future version of pytorch. It currently rounds toward 0 (like the 'trunc' function NOT 'floor'). This results in incorrect rounding for negative values. To keep the current behavior, use torch.div(a, b, rounding_mode='trunc'), or for actual floor division, use torch.div(a, b, rounding_mode='floor').\n",
      "  row = perm // num_nodes\n"
     ]
    },
    {
     "name": "stdout",
     "output_type": "stream",
     "text": [
      "Epoch: 148, Train: 0.9933, Val: 0.9853, Test: 0.9841, Loss: 0.39905\n"
     ]
    },
    {
     "name": "stderr",
     "output_type": "stream",
     "text": [
      "c:\\Users\\rosa-\\anaconda3\\envs\\xaifo\\lib\\site-packages\\deepsnap\\graph.py:2126: UserWarning: __floordiv__ is deprecated, and its behavior will change in a future version of pytorch. It currently rounds toward 0 (like the 'trunc' function NOT 'floor'). This results in incorrect rounding for negative values. To keep the current behavior, use torch.div(a, b, rounding_mode='trunc'), or for actual floor division, use torch.div(a, b, rounding_mode='floor').\n",
      "  row = perm // num_nodes\n"
     ]
    },
    {
     "name": "stdout",
     "output_type": "stream",
     "text": [
      "Epoch: 149, Train: 0.9936, Val: 0.9854, Test: 0.9841, Loss: 0.39716\n"
     ]
    },
    {
     "name": "stderr",
     "output_type": "stream",
     "text": [
      "c:\\Users\\rosa-\\anaconda3\\envs\\xaifo\\lib\\site-packages\\deepsnap\\graph.py:2126: UserWarning: __floordiv__ is deprecated, and its behavior will change in a future version of pytorch. It currently rounds toward 0 (like the 'trunc' function NOT 'floor'). This results in incorrect rounding for negative values. To keep the current behavior, use torch.div(a, b, rounding_mode='trunc'), or for actual floor division, use torch.div(a, b, rounding_mode='floor').\n",
      "  row = perm // num_nodes\n"
     ]
    },
    {
     "name": "stdout",
     "output_type": "stream",
     "text": [
      "Train: 0.9934, Val: 0.9854, Test: 0.9841\n"
     ]
    }
   ],
   "source": [
    "best_model, best_x, performance = train(model, dataloaders, optimizer, args)\n",
    "\n",
    "best_train_roc = test(best_model, dataloaders['train'], args)\n",
    "best_val_roc = test(best_model, dataloaders['val'], args)\n",
    "best_test_roc = test(best_model, dataloaders['test'], args)\n",
    "\n",
    "print('Train: {:.4f}, Val: {:.4f}, Test: {:.4f}'.format(best_train_roc, best_val_roc, best_test_roc))"
   ]
  },
  {
   "attachments": {},
   "cell_type": "markdown",
   "metadata": {},
   "source": [
    "Save the model and parameters"
   ]
  },
  {
   "cell_type": "code",
   "execution_count": 32,
   "metadata": {},
   "outputs": [],
   "source": [
    "torch.save(best_model.state_dict(), 'output/best_model.pth')\n",
    "with open('output/best_model_args.pkl', 'wb') as f:\n",
    "    pickle.dump(args, f)"
   ]
  },
  {
   "attachments": {},
   "cell_type": "markdown",
   "metadata": {},
   "source": [
    "### Visualize Trained GNN Model Accuracy"
   ]
  },
  {
   "cell_type": "code",
   "execution_count": 47,
   "metadata": {},
   "outputs": [],
   "source": [
    "from sklearn.metrics import roc_auc_score, roc_curve, f1_score, classification_report, confusion_matrix"
   ]
  },
  {
   "attachments": {},
   "cell_type": "markdown",
   "metadata": {},
   "source": [
    "Plot AUC and loss throughout epochs"
   ]
  },
  {
   "cell_type": "code",
   "execution_count": 33,
   "metadata": {},
   "outputs": [
    {
     "data": {
      "image/png": "[encoded data removed]",
      "text/plain": [
       "<Figure size 1000x700 with 1 Axes>"
      ]
     },
     "metadata": {},
     "output_type": "display_data"
    }
   ],
   "source": [
    "plt.figure(figsize= (10,7))\n",
    "plt.plot(np.log10(performance[0]), label = 'Loss')\n",
    "plt.plot(performance[1], label = 'AUC Train')\n",
    "plt.plot(performance[2], label = 'AUC Validation')\n",
    "plt.plot(performance[3], label = 'AUC Test')\n",
    "plt.legend()\n",
    "plt.ylabel('AUC/Loss')\n",
    "plt.xlabel('Epochs')\n",
    "plt.show()"
   ]
  },
  {
   "attachments": {},
   "cell_type": "markdown",
   "metadata": {},
   "source": [
    "Plot ROC curve using test set\n",
    "- High TPR and lower FPR indicates that the proportion of correctly classified samples (true positives) is greater than the proportion of incorrectly classified samples (false positives)"
   ]
  },
  {
   "cell_type": "code",
   "execution_count": 40,
   "metadata": {},
   "outputs": [
    {
     "name": "stdout",
     "output_type": "stream",
     "text": [
      "0.9841152066115703\n"
     ]
    },
    {
     "data": {
      "image/png": "[encoded data removed]",
      "text/plain": [
       "<Figure size 700x700 with 1 Axes>"
      ]
     },
     "metadata": {},
     "output_type": "display_data"
    }
   ],
   "source": [
    "for batch in dataloaders['test']:\n",
    "    feat, edge_index, edge_label_index = batch.node_feature, batch.edge_index, batch.edge_label_index\n",
    "    batch.to(args[\"device\"])\n",
    "    pred, x = best_model(feat, edge_index, edge_label_index, training = False)\n",
    "    pred = torch.sigmoid(pred)\n",
    "    score = roc_auc_score(batch.edge_label.flatten().cpu().numpy(), pred.flatten().data.cpu().numpy())\n",
    "    print(score)\n",
    "    \n",
    "fpr, tpr, thresholds = roc_curve(batch.edge_label.flatten().cpu().numpy(), pred.flatten().data.cpu().numpy())\n",
    "plt.figure(figsize = (7, 7))\n",
    "plt.plot(fpr, tpr, marker='.')\n",
    "plt.xlabel('False Positive Rate')   # 1 - specificity\n",
    "plt.ylabel('True Positive Rate')    # sensitivity\n",
    "plt.show()"
   ]
  },
  {
   "attachments": {},
   "cell_type": "markdown",
   "metadata": {},
   "source": [
    "Calculate F1-score using test set\n",
    "\n",
    "Elements of the F1-score:\n",
    "- Precision represents the proportion of correctly classifying samples as positive (high precision: classifying a sample as positive has a high probability to be correct)\n",
    "- Recall represents the proportion of finding all positives (high recall: all positive samples have been classified as being positive)\n",
    "\n",
    "Maximizing both elements in order to yield a model that identifies all positive samples and only identifies these samples as positives.\n",
    "\n",
    "For the F1-score, the average of precision and recall is calculated, using the harmonic mean method (equal importance):\n",
    "- High F1-score indicates that precision and recall are both high\n",
    "- Medium F1-score indicates that one of the elements is high and the other low\n",
    "- Low F1-score indicates that precision and recall are both low"
   ]
  },
  {
   "cell_type": "code",
   "execution_count": 45,
   "metadata": {},
   "outputs": [
    {
     "name": "stdout",
     "output_type": "stream",
     "text": [
      "F1-Score in the test set: 0.9473151428702894\n",
      "              precision    recall  f1-score   support\n",
      "\n",
      "           0       0.94      0.96      0.95     11000\n",
      "           1       0.96      0.94      0.95     11000\n",
      "\n",
      "    accuracy                           0.95     22000\n",
      "   macro avg       0.95      0.95      0.95     22000\n",
      "weighted avg       0.95      0.95      0.95     22000\n",
      "\n"
     ]
    }
   ],
   "source": [
    "def test_f1(model, dataloader, args, threshold):\n",
    "    model.eval()\n",
    "    score = 0\n",
    "    num_batches = 0\n",
    "    for batch in dataloader:\n",
    "        feat, edge_index, edge_label_index = batch.node_feature, batch.edge_index, batch.edge_label_index\n",
    "        batch.to(args[\"device\"])\n",
    "        pred, x = model(feat, edge_index, edge_label_index, training = False)\n",
    "        pred = torch.sigmoid(pred) > threshold\n",
    "        score += f1_score(batch.edge_label.flatten().cpu().numpy(), pred.flatten().data.cpu().numpy())\n",
    "        num_batches += 1\n",
    "    score /= num_batches \n",
    "    return batch.edge_label.flatten().cpu().numpy(), pred.flatten().data.cpu().numpy(), score\n",
    "\n",
    "true_label, pred_label, best_test_f1 = test_f1(best_model, dataloaders['test'], args, 0.75)\n",
    "print('F1-Score in the test set:', best_test_f1)\n",
    "print(classification_report(true_label, pred_label))"
   ]
  },
  {
   "cell_type": "code",
   "execution_count": 49,
   "metadata": {},
   "outputs": [
    {
     "name": "stderr",
     "output_type": "stream",
     "text": [
      "c:\\Users\\rosa-\\anaconda3\\envs\\xaifo\\lib\\site-packages\\deepsnap\\graph.py:2126: UserWarning: __floordiv__ is deprecated, and its behavior will change in a future version of pytorch. It currently rounds toward 0 (like the 'trunc' function NOT 'floor'). This results in incorrect rounding for negative values. To keep the current behavior, use torch.div(a, b, rounding_mode='trunc'), or for actual floor division, use torch.div(a, b, rounding_mode='floor').\n",
      "  row = perm // num_nodes\n"
     ]
    },
    {
     "name": "stdout",
     "output_type": "stream",
     "text": [
      "[[85250  2740]\n",
      " [ 2764 85226]]\n"
     ]
    }
   ],
   "source": [
    "def test_cm(model, dataloader, args, threshold):\n",
    "    model.eval()\n",
    "    for batch in dataloader:\n",
    "        feat, edge_index, edge_label_index = batch.node_feature, batch.edge_index, batch.edge_label_index\n",
    "        batch.to(args[\"device\"])\n",
    "        pred, x = model(feat, edge_index, edge_label_index, training = False)\n",
    "        pred = torch.sigmoid(pred) > threshold\n",
    "        score = confusion_matrix(batch.edge_label.flatten().cpu().numpy(), pred.flatten().data.cpu().numpy())\n",
    "    return score\n",
    "\n",
    "table = test_cm(best_model, dataloaders['train'], args, 0.8)\n",
    "print(table)"
   ]
  },
  {
   "attachments": {},
   "cell_type": "markdown",
   "metadata": {},
   "source": [
    "# Hyperparameter Optimization of Node Embedding and GNN Training"
   ]
  },
  {
   "cell_type": "code",
   "execution_count": 52,
   "metadata": {},
   "outputs": [],
   "source": [
    "from ray.tune.schedulers import ASHAScheduler"
   ]
  },
  {
   "attachments": {},
   "cell_type": "markdown",
   "metadata": {},
   "source": [
    "The routine including node embedding and GNN training that needs to be optimized is contained in the function below."
   ]
  },
  {
   "cell_type": "code",
   "execution_count": 51,
   "metadata": {},
   "outputs": [],
   "source": [
    "def optim(args):\n",
    "    # Node embedding using Edge2Vec\n",
    "    trans_matrix = transitions.initialize_edge_type_matrix(args['type_size'])\n",
    "    \n",
    "    for i in range(args['epoch_e2v']):\n",
    "        walks = transitions.simulate_walks_1(args['G'], args['num_walks'], args['walk_length'], trans_matrix, True, args['p'], args['q'])\n",
    "        trans_matrix = transitions.update_trans_matrix(walks,args['type_size'], 3)\n",
    "    \n",
    "    walks = edge2vec.simulate_walks_2(args['G'], args['num_walks'], args['walk_length'], trans_matrix, True, args['p'], args['q'])\n",
    "    w2v_model = edge2vec.Word2Vec(walks, vector_size=args['dimensions_e2v'], window=args['walk_length']-1, min_count=0, sg=1, workers=8, epochs=args['epoch_e2v'])\n",
    "\n",
    "    e2v_embedding = pd.DataFrame(columns = ['Node', 'Embedding'])\n",
    "    for idx, key in enumerate(w2v_model.wv.index_to_key):\n",
    "        e2v_embedding.loc[int(key)] = pd.Series({'Node':int(key), 'Embedding':list(w2v_model.wv[key])})\n",
    "    e2v_embedding = e2v_embedding.sort_values('Node')\n",
    "    \n",
    "    # Build graph with nodes and their embedding as node feature\n",
    "    G2 = nx.Graph()\n",
    "    for ind, node in e2v_embedding.iterrows(): \n",
    "        G2.add_node(node['Node'], node_feature=torch.Tensor(node['Embedding']))\n",
    "    for ind, edge in args['df'].iterrows(): \n",
    "        G2.add_edge(edge['index_head'], edge['index_tail'])\n",
    "        \n",
    "    # Split graph dataset into train, test and validation sets\n",
    "    dataset = GraphDataset(\n",
    "        G2,\n",
    "        task='link_pred',\n",
    "        edge_train_mode=\"all\"\n",
    "    )\n",
    "    \n",
    "    datasets = {}\n",
    "    datasets['train'], datasets['val'], datasets['test']= dataset.split(transductive=True, split_ratio=[0.8, 0.1, 0.1])\n",
    "    \n",
    "    # Set up link prediction model\n",
    "    input_dim = datasets['train'].num_node_features\n",
    "    \n",
    "    model = LinkPredModel(input_dim, args[\"hidden_dim\"], args['output_dim'], args['layers'], args['aggr'], args['dropout']).to('cpu')\n",
    "    optimizer = torch.optim.SGD(model.parameters(), lr=args['lr'], momentum=0.9, weight_decay=5e-4)\n",
    "    \n",
    "    # Generate dataloaders\n",
    "    dataloaders = {split: DataLoader(ds, collate_fn=Batch.collate([]), batch_size=1, shuffle=(split=='train')) for split, ds in datasets.items()}\n",
    "    \n",
    "    best_model, best_x = train(model, dataloaders, optimizer, args, ho = False)\n",
    "    best_train_roc = test(best_model, dataloaders['train'], args)\n",
    "    best_val_roc = test(best_model, dataloaders['val'], args)\n",
    "    best_test_roc = test(best_model, dataloaders['test'], args)\n",
    "    \n",
    "    print('AUC:', best_test_roc)\n",
    "    log = \"Train: {:.4f}, Val: {:.4f}, Test: {:.4f}\"\n",
    "    print(log.format(best_train_roc, best_val_roc, best_test_roc))\n",
    "    tune.report(accuracy=best_val_roc)"
   ]
  },
  {
   "attachments": {},
   "cell_type": "markdown",
   "metadata": {},
   "source": [
    "Select the different parameters that need to be tested during the optimization search."
   ]
  },
  {
   "cell_type": "code",
   "execution_count": 54,
   "metadata": {},
   "outputs": [
    {
     "data": {
      "text/html": [
       "<div>\n",
       "<style scoped>\n",
       "    .dataframe tbody tr th:only-of-type {\n",
       "        vertical-align: middle;\n",
       "    }\n",
       "\n",
       "    .dataframe tbody tr th {\n",
       "        vertical-align: top;\n",
       "    }\n",
       "\n",
       "    .dataframe thead th {\n",
       "        text-align: right;\n",
       "    }\n",
       "</style>\n",
       "<table border=\"1\" class=\"dataframe\">\n",
       "  <thead>\n",
       "    <tr style=\"text-align: right;\">\n",
       "      <th></th>\n",
       "      <th>label_head</th>\n",
       "      <th>class_head</th>\n",
       "      <th>index_head</th>\n",
       "      <th>label_tail</th>\n",
       "      <th>class_tail</th>\n",
       "      <th>index_tail</th>\n",
       "      <th>type</th>\n",
       "    </tr>\n",
       "  </thead>\n",
       "  <tbody>\n",
       "    <tr>\n",
       "      <th>0</th>\n",
       "      <td>Nos</td>\n",
       "      <td>5</td>\n",
       "      <td>9594</td>\n",
       "      <td>ENSEMBL:ENSCAFG00000009820</td>\n",
       "      <td>5</td>\n",
       "      <td>7362</td>\n",
       "      <td>0</td>\n",
       "    </tr>\n",
       "    <tr>\n",
       "      <th>1</th>\n",
       "      <td>TPM3</td>\n",
       "      <td>5</td>\n",
       "      <td>1813</td>\n",
       "      <td>TNNI2</td>\n",
       "      <td>5</td>\n",
       "      <td>7360</td>\n",
       "      <td>1</td>\n",
       "    </tr>\n",
       "    <tr>\n",
       "      <th>2</th>\n",
       "      <td>XYLT1</td>\n",
       "      <td>5</td>\n",
       "      <td>3228</td>\n",
       "      <td>Scoliosis</td>\n",
       "      <td>8</td>\n",
       "      <td>2102</td>\n",
       "      <td>2</td>\n",
       "    </tr>\n",
       "    <tr>\n",
       "      <th>3</th>\n",
       "      <td>act-3</td>\n",
       "      <td>5</td>\n",
       "      <td>3272</td>\n",
       "      <td>ENSEMBL:ENSOANG00000007850</td>\n",
       "      <td>5</td>\n",
       "      <td>2284</td>\n",
       "      <td>0</td>\n",
       "    </tr>\n",
       "    <tr>\n",
       "      <th>4</th>\n",
       "      <td>LAMA5</td>\n",
       "      <td>5</td>\n",
       "      <td>4641</td>\n",
       "      <td>AGRN</td>\n",
       "      <td>5</td>\n",
       "      <td>2205</td>\n",
       "      <td>1</td>\n",
       "    </tr>\n",
       "    <tr>\n",
       "      <th>...</th>\n",
       "      <td>...</td>\n",
       "      <td>...</td>\n",
       "      <td>...</td>\n",
       "      <td>...</td>\n",
       "      <td>...</td>\n",
       "      <td>...</td>\n",
       "      <td>...</td>\n",
       "    </tr>\n",
       "    <tr>\n",
       "      <th>85949</th>\n",
       "      <td>pakB</td>\n",
       "      <td>5</td>\n",
       "      <td>3746</td>\n",
       "      <td>pak-1</td>\n",
       "      <td>5</td>\n",
       "      <td>6906</td>\n",
       "      <td>0</td>\n",
       "    </tr>\n",
       "    <tr>\n",
       "      <th>85950</th>\n",
       "      <td>ttn.2</td>\n",
       "      <td>5</td>\n",
       "      <td>6355</td>\n",
       "      <td>Z disc myocardium disorganized, abnormal</td>\n",
       "      <td>8</td>\n",
       "      <td>6931</td>\n",
       "      <td>2</td>\n",
       "    </tr>\n",
       "    <tr>\n",
       "      <th>85951</th>\n",
       "      <td>DTNA</td>\n",
       "      <td>5</td>\n",
       "      <td>828</td>\n",
       "      <td>ENSEMBL:ENSECAG00000020912</td>\n",
       "      <td>5</td>\n",
       "      <td>6757</td>\n",
       "      <td>0</td>\n",
       "    </tr>\n",
       "    <tr>\n",
       "      <th>85952</th>\n",
       "      <td>ENSEMBL:ENSECAG00000000207</td>\n",
       "      <td>5</td>\n",
       "      <td>8915</td>\n",
       "      <td>act-2</td>\n",
       "      <td>5</td>\n",
       "      <td>5490</td>\n",
       "      <td>0</td>\n",
       "    </tr>\n",
       "    <tr>\n",
       "      <th>85953</th>\n",
       "      <td>pix-1</td>\n",
       "      <td>5</td>\n",
       "      <td>4984</td>\n",
       "      <td>ENSEMBL:ENSMMUG00000013138</td>\n",
       "      <td>5</td>\n",
       "      <td>1743</td>\n",
       "      <td>0</td>\n",
       "    </tr>\n",
       "  </tbody>\n",
       "</table>\n",
       "<p>85954 rows × 7 columns</p>\n",
       "</div>"
      ],
      "text/plain": [
       "                       label_head  class_head index_head  \\\n",
       "0                             Nos           5       9594   \n",
       "1                            TPM3           5       1813   \n",
       "2                           XYLT1           5       3228   \n",
       "3                           act-3           5       3272   \n",
       "4                           LAMA5           5       4641   \n",
       "...                           ...         ...        ...   \n",
       "85949                        pakB           5       3746   \n",
       "85950                       ttn.2           5       6355   \n",
       "85951                        DTNA           5        828   \n",
       "85952  ENSEMBL:ENSECAG00000000207           5       8915   \n",
       "85953                       pix-1           5       4984   \n",
       "\n",
       "                                     label_tail  class_tail index_tail  type  \n",
       "0                    ENSEMBL:ENSCAFG00000009820           5       7362     0  \n",
       "1                                         TNNI2           5       7360     1  \n",
       "2                                     Scoliosis           8       2102     2  \n",
       "3                    ENSEMBL:ENSOANG00000007850           5       2284     0  \n",
       "4                                          AGRN           5       2205     1  \n",
       "...                                         ...         ...        ...   ...  \n",
       "85949                                     pak-1           5       6906     0  \n",
       "85950  Z disc myocardium disorganized, abnormal           8       6931     2  \n",
       "85951                ENSEMBL:ENSECAG00000020912           5       6757     0  \n",
       "85952                                     act-2           5       5490     0  \n",
       "85953                ENSEMBL:ENSMMUG00000013138           5       1743     0  \n",
       "\n",
       "[85954 rows x 7 columns]"
      ]
     },
     "execution_count": 54,
     "metadata": {},
     "output_type": "execute_result"
    }
   ],
   "source": [
    "edge2vec_df"
   ]
  },
  {
   "cell_type": "code",
   "execution_count": 59,
   "metadata": {},
   "outputs": [
    {
     "ename": "PicklingError",
     "evalue": "ray.cloudpickle.dumps(<class 'ray.tune.trainable.function_trainable.wrap_function.<locals>.ImplicitFunc'>) failed.\nTo check which non-serializable variables are captured in scope, re-run the ray script with 'RAY_PICKLE_VERBOSE_DEBUG=1'. Other options: \n-Try reproducing the issue by calling `pickle.dumps(trainable)`. \n-If the error is typing-related, try removing the type annotations and try again.",
     "output_type": "error",
     "traceback": [
      "\u001b[1;31m---------------------------------------------------------------------------\u001b[0m",
      "\u001b[1;31mPicklingError\u001b[0m                             Traceback (most recent call last)",
      "Cell \u001b[1;32mIn[59], line 26\u001b[0m\n\u001b[0;32m      1\u001b[0m args \u001b[39m=\u001b[39m {\n\u001b[0;32m      2\u001b[0m     \u001b[39m'\u001b[39m\u001b[39mG\u001b[39m\u001b[39m'\u001b[39m: G,\n\u001b[0;32m      3\u001b[0m     \u001b[39m'\u001b[39m\u001b[39mdevice\u001b[39m\u001b[39m'\u001b[39m: \u001b[39m'\u001b[39m\u001b[39mcpu\u001b[39m\u001b[39m'\u001b[39m, \n\u001b[1;32m   (...)\u001b[0m\n\u001b[0;32m     18\u001b[0m     \u001b[39m'\u001b[39m\u001b[39mlayers\u001b[39m\u001b[39m'\u001b[39m: tune\u001b[39m.\u001b[39mchoice([\u001b[39m2\u001b[39m, \u001b[39m4\u001b[39m, \u001b[39m6\u001b[39m])\n\u001b[0;32m     19\u001b[0m }\n\u001b[0;32m     21\u001b[0m scheduler \u001b[39m=\u001b[39m ASHAScheduler(\n\u001b[0;32m     22\u001b[0m         max_t\u001b[39m=\u001b[39m\u001b[39m10\u001b[39m,\n\u001b[0;32m     23\u001b[0m         grace_period\u001b[39m=\u001b[39m\u001b[39m1\u001b[39m,\n\u001b[0;32m     24\u001b[0m         reduction_factor\u001b[39m=\u001b[39m\u001b[39m2\u001b[39m)\n\u001b[1;32m---> 26\u001b[0m result \u001b[39m=\u001b[39m tune\u001b[39m.\u001b[39;49mrun(\n\u001b[0;32m     27\u001b[0m         tune\u001b[39m.\u001b[39;49mwith_parameters(optim),\n\u001b[0;32m     28\u001b[0m         resources_per_trial\u001b[39m=\u001b[39;49m{\u001b[39m\"\u001b[39;49m\u001b[39mgpu\u001b[39;49m\u001b[39m\"\u001b[39;49m: \u001b[39m2\u001b[39;49m}, \u001b[39m#change this value according to the gpu units you would like to use\u001b[39;49;00m\n\u001b[0;32m     29\u001b[0m         config\u001b[39m=\u001b[39;49margs,\n\u001b[0;32m     30\u001b[0m         metric\u001b[39m=\u001b[39;49m\u001b[39m\"\u001b[39;49m\u001b[39mval_auc\u001b[39;49m\u001b[39m\"\u001b[39;49m,\n\u001b[0;32m     31\u001b[0m         mode\u001b[39m=\u001b[39;49m\u001b[39m\"\u001b[39;49m\u001b[39mmax\u001b[39;49m\u001b[39m\"\u001b[39;49m,\n\u001b[0;32m     32\u001b[0m         num_samples\u001b[39m=\u001b[39;49m\u001b[39m30\u001b[39;49m, \u001b[39m#select the maximum number of models you would like to test\u001b[39;49;00m\n\u001b[0;32m     33\u001b[0m         scheduler\u001b[39m=\u001b[39;49mscheduler, \n\u001b[0;32m     34\u001b[0m         resume \u001b[39m=\u001b[39;49m \u001b[39mFalse\u001b[39;49;00m, \n\u001b[0;32m     35\u001b[0m         local_dir\u001b[39m=\u001b[39;49m\u001b[39m\"\u001b[39;49m\u001b[39moutput\u001b[39;49m\u001b[39m\"\u001b[39;49m\n\u001b[0;32m     36\u001b[0m     )\n\u001b[0;32m     38\u001b[0m best_trial \u001b[39m=\u001b[39m result\u001b[39m.\u001b[39mget_best_trial(\u001b[39m\"\u001b[39m\u001b[39mval_auc\u001b[39m\u001b[39m\"\u001b[39m)\n\u001b[0;32m     39\u001b[0m \u001b[39mprint\u001b[39m(\u001b[39m\"\u001b[39m\u001b[39mBest trial config: \u001b[39m\u001b[39m{}\u001b[39;00m\u001b[39m\"\u001b[39m\u001b[39m.\u001b[39mformat(best_trial\u001b[39m.\u001b[39mconfig))\n",
      "File \u001b[1;32mc:\\Users\\rosa-\\anaconda3\\envs\\xaifo\\lib\\site-packages\\ray\\tune\\tune.py:574\u001b[0m, in \u001b[0;36mrun\u001b[1;34m(run_or_experiment, name, metric, mode, stop, time_budget_s, config, resources_per_trial, num_samples, local_dir, search_alg, scheduler, keep_checkpoints_num, checkpoint_score_attr, checkpoint_freq, checkpoint_at_end, verbose, progress_reporter, log_to_file, trial_name_creator, trial_dirname_creator, chdir_to_trial_dir, sync_config, export_formats, max_failures, fail_fast, restore, server_port, resume, reuse_actors, raise_on_failed_trial, callbacks, max_concurrent_trials, trial_executor, _experiment_checkpoint_dir, _remote, _remote_string_queue)\u001b[0m\n\u001b[0;32m    572\u001b[0m \u001b[39mfor\u001b[39;00m i, exp \u001b[39min\u001b[39;00m \u001b[39menumerate\u001b[39m(experiments):\n\u001b[0;32m    573\u001b[0m     \u001b[39mif\u001b[39;00m \u001b[39mnot\u001b[39;00m \u001b[39misinstance\u001b[39m(exp, Experiment):\n\u001b[1;32m--> 574\u001b[0m         experiments[i] \u001b[39m=\u001b[39m Experiment(\n\u001b[0;32m    575\u001b[0m             name\u001b[39m=\u001b[39;49mname,\n\u001b[0;32m    576\u001b[0m             run\u001b[39m=\u001b[39;49mexp,\n\u001b[0;32m    577\u001b[0m             stop\u001b[39m=\u001b[39;49mstop,\n\u001b[0;32m    578\u001b[0m             time_budget_s\u001b[39m=\u001b[39;49mtime_budget_s,\n\u001b[0;32m    579\u001b[0m             config\u001b[39m=\u001b[39;49mconfig,\n\u001b[0;32m    580\u001b[0m             resources_per_trial\u001b[39m=\u001b[39;49mresources_per_trial,\n\u001b[0;32m    581\u001b[0m             num_samples\u001b[39m=\u001b[39;49mnum_samples,\n\u001b[0;32m    582\u001b[0m             local_dir\u001b[39m=\u001b[39;49mlocal_dir,\n\u001b[0;32m    583\u001b[0m             _experiment_checkpoint_dir\u001b[39m=\u001b[39;49m_experiment_checkpoint_dir,\n\u001b[0;32m    584\u001b[0m             sync_config\u001b[39m=\u001b[39;49msync_config,\n\u001b[0;32m    585\u001b[0m             checkpoint_config\u001b[39m=\u001b[39;49mcheckpoint_config,\n\u001b[0;32m    586\u001b[0m             trial_name_creator\u001b[39m=\u001b[39;49mtrial_name_creator,\n\u001b[0;32m    587\u001b[0m             trial_dirname_creator\u001b[39m=\u001b[39;49mtrial_dirname_creator,\n\u001b[0;32m    588\u001b[0m             log_to_file\u001b[39m=\u001b[39;49mlog_to_file,\n\u001b[0;32m    589\u001b[0m             export_formats\u001b[39m=\u001b[39;49mexport_formats,\n\u001b[0;32m    590\u001b[0m             max_failures\u001b[39m=\u001b[39;49mmax_failures,\n\u001b[0;32m    591\u001b[0m             restore\u001b[39m=\u001b[39;49mrestore,\n\u001b[0;32m    592\u001b[0m         )\n\u001b[0;32m    593\u001b[0m \u001b[39melse\u001b[39;00m:\n\u001b[0;32m    594\u001b[0m     logger\u001b[39m.\u001b[39mdebug(\u001b[39m\"\u001b[39m\u001b[39mIgnoring some parameters passed into tune.run.\u001b[39m\u001b[39m\"\u001b[39m)\n",
      "File \u001b[1;32mc:\\Users\\rosa-\\anaconda3\\envs\\xaifo\\lib\\site-packages\\ray\\tune\\experiment\\experiment.py:188\u001b[0m, in \u001b[0;36mExperiment.__init__\u001b[1;34m(self, name, run, stop, time_budget_s, config, resources_per_trial, num_samples, local_dir, _experiment_checkpoint_dir, sync_config, checkpoint_config, trial_name_creator, trial_dirname_creator, log_to_file, export_formats, max_failures, restore)\u001b[0m\n\u001b[0;32m    180\u001b[0m         \u001b[39mraise\u001b[39;00m \u001b[39mValueError\u001b[39;00m(\n\u001b[0;32m    181\u001b[0m             \u001b[39m\"\u001b[39m\u001b[39m'\u001b[39m\u001b[39mcheckpoint_frequency\u001b[39m\u001b[39m'\u001b[39m\u001b[39m cannot be set for a function trainable. \u001b[39m\u001b[39m\"\u001b[39m\n\u001b[0;32m    182\u001b[0m             \u001b[39m\"\u001b[39m\u001b[39mYou will need to report a checkpoint every \u001b[39m\u001b[39m\"\u001b[39m\n\u001b[1;32m   (...)\u001b[0m\n\u001b[0;32m    185\u001b[0m             \u001b[39m\"\u001b[39m\u001b[39mto get this behavior.\u001b[39m\u001b[39m\"\u001b[39m\n\u001b[0;32m    186\u001b[0m         )\n\u001b[0;32m    187\u001b[0m \u001b[39mtry\u001b[39;00m:\n\u001b[1;32m--> 188\u001b[0m     \u001b[39mself\u001b[39m\u001b[39m.\u001b[39m_run_identifier \u001b[39m=\u001b[39m Experiment\u001b[39m.\u001b[39;49mregister_if_needed(run)\n\u001b[0;32m    189\u001b[0m \u001b[39mexcept\u001b[39;00m grpc\u001b[39m.\u001b[39mRpcError \u001b[39mas\u001b[39;00m e:\n\u001b[0;32m    190\u001b[0m     \u001b[39mif\u001b[39;00m e\u001b[39m.\u001b[39mcode() \u001b[39m==\u001b[39m grpc\u001b[39m.\u001b[39mStatusCode\u001b[39m.\u001b[39mRESOURCE_EXHAUSTED:\n",
      "File \u001b[1;32mc:\\Users\\rosa-\\anaconda3\\envs\\xaifo\\lib\\site-packages\\ray\\tune\\experiment\\experiment.py:391\u001b[0m, in \u001b[0;36mExperiment.register_if_needed\u001b[1;34m(cls, run_object)\u001b[0m\n\u001b[0;32m    383\u001b[0m \u001b[39mexcept\u001b[39;00m (\u001b[39mTypeError\u001b[39;00m, PicklingError) \u001b[39mas\u001b[39;00m e:\n\u001b[0;32m    384\u001b[0m     extra_msg \u001b[39m=\u001b[39m (\n\u001b[0;32m    385\u001b[0m         \u001b[39m\"\u001b[39m\u001b[39mOther options: \u001b[39m\u001b[39m\"\u001b[39m\n\u001b[0;32m    386\u001b[0m         \u001b[39m\"\u001b[39m\u001b[39m\\n\u001b[39;00m\u001b[39m-Try reproducing the issue by calling \u001b[39m\u001b[39m\"\u001b[39m\n\u001b[1;32m   (...)\u001b[0m\n\u001b[0;32m    389\u001b[0m         \u001b[39m\"\u001b[39m\u001b[39mthe type annotations and try again.\u001b[39m\u001b[39m\"\u001b[39m\n\u001b[0;32m    390\u001b[0m     )\n\u001b[1;32m--> 391\u001b[0m     \u001b[39mraise\u001b[39;00m \u001b[39mtype\u001b[39m(e)(\u001b[39mstr\u001b[39m(e) \u001b[39m+\u001b[39m \u001b[39m\"\u001b[39m\u001b[39m \u001b[39m\u001b[39m\"\u001b[39m \u001b[39m+\u001b[39m extra_msg) \u001b[39mfrom\u001b[39;00m \u001b[39mNone\u001b[39m\n\u001b[0;32m    392\u001b[0m \u001b[39mreturn\u001b[39;00m name\n",
      "\u001b[1;31mPicklingError\u001b[0m: ray.cloudpickle.dumps(<class 'ray.tune.trainable.function_trainable.wrap_function.<locals>.ImplicitFunc'>) failed.\nTo check which non-serializable variables are captured in scope, re-run the ray script with 'RAY_PICKLE_VERBOSE_DEBUG=1'. Other options: \n-Try reproducing the issue by calling `pickle.dumps(trainable)`. \n-If the error is typing-related, try removing the type annotations and try again."
     ]
    }
   ],
   "source": [
    "args = {\n",
    "    'G': G,\n",
    "    'device': 'cpu', \n",
    "    \"hidden_dim\" : tune.choice([64, 128, 256]),\n",
    "    'output_dim': tune.choice([64, 128, 256]),\n",
    "    \"epochs\" : tune.choice([100, 150, 200]),\n",
    "    'type_size' : len(set(edge2vec_df['type'])),\n",
    "    'epoch_e2v' : tune.choice([5, 10]),\n",
    "    'num_walks' : tune.choice([2, 4, 6]),\n",
    "    'walk_length' : tune.choice([3, 5, 7]),\n",
    "    'p' : tune.choice([0.5, 0.75, 1]),\n",
    "    'q' : tune.choice([0.5, 0.75, 1]),\n",
    "    'dimensions_e2v' : tune.choice([32, 64, 128]),\n",
    "    'df': edge2vec_df, \n",
    "    'lr': tune.loguniform(1e-4, 1e-1), \n",
    "    'aggr': tune.choice(['mean', 'sum']), \n",
    "    'dropout': tune.choice([0, 0.1, 0.2]), \n",
    "    'layers': tune.choice([2, 4, 6])\n",
    "}\n",
    "\n",
    "scheduler = ASHAScheduler(\n",
    "        max_t=10,\n",
    "        grace_period=1,\n",
    "        reduction_factor=2)\n",
    "\n",
    "result = tune.run(\n",
    "        tune.with_parameters(optim),\n",
    "        resources_per_trial={\"gpu\": 2}, #change this value according to the gpu units you would like to use\n",
    "        config=args,\n",
    "        metric=\"val_auc\",\n",
    "        mode=\"max\",\n",
    "        num_samples=30, #select the maximum number of models you would like to test\n",
    "        scheduler=scheduler, \n",
    "        resume = False, \n",
    "        local_dir=\"output\"\n",
    "    )\n",
    "\n",
    "best_trial = result.get_best_trial(\"val_auc\")\n",
    "print(\"Best trial config: {}\".format(best_trial.config))"
   ]
  },
  {
   "attachments": {},
   "cell_type": "markdown",
   "metadata": {},
   "source": [
    "# GNN Predictions"
   ]
  },
  {
   "cell_type": "code",
   "execution_count": 127,
   "metadata": {},
   "outputs": [],
   "source": [
    "from gensim.models import KeyedVectors\n",
    "from deepsnap.graph import Graph"
   ]
  },
  {
   "cell_type": "code",
   "execution_count": 132,
   "metadata": {},
   "outputs": [
    {
     "ename": "FileNotFoundError",
     "evalue": "Could not find module 'C:\\Users\\rosa-\\anaconda3\\envs\\xaifo\\Lib\\site-packages\\torch_sparse\\_convert_cuda.pyd' (or one of its dependencies). Try using the full path with constructor syntax.",
     "output_type": "error",
     "traceback": [
      "\u001b[1;31m---------------------------------------------------------------------------\u001b[0m",
      "\u001b[1;31mFileNotFoundError\u001b[0m                         Traceback (most recent call last)",
      "Cell \u001b[1;32mIn[132], line 1\u001b[0m\n\u001b[1;32m----> 1\u001b[0m \u001b[39mimport\u001b[39;00m \u001b[39mdeepsnap\u001b[39;00m\n\u001b[0;32m      2\u001b[0m \u001b[39mprint\u001b[39m(deepsnap\u001b[39m.\u001b[39m_netlib)\n",
      "File \u001b[1;32mc:\\Users\\rosa-\\anaconda3\\envs\\xaifo\\lib\\site-packages\\deepsnap\\__init__.py:9\u001b[0m\n\u001b[0;32m      7\u001b[0m \u001b[39mimport\u001b[39;00m \u001b[39mdeepsnap\u001b[39;00m\u001b[39m.\u001b[39;00m\u001b[39mbatch\u001b[39;00m\n\u001b[0;32m      8\u001b[0m \u001b[39mimport\u001b[39;00m \u001b[39mdeepsnap\u001b[39;00m\u001b[39m.\u001b[39;00m\u001b[39mhetero_graph\u001b[39;00m\n\u001b[1;32m----> 9\u001b[0m \u001b[39mimport\u001b[39;00m \u001b[39mdeepsnap\u001b[39;00m\u001b[39m.\u001b[39;00m\u001b[39mhetero_gnn\u001b[39;00m\n\u001b[0;32m     11\u001b[0m \u001b[39mimport\u001b[39;00m \u001b[39mnetworkx\u001b[39;00m \u001b[39mas\u001b[39;00m \u001b[39m_netlib\u001b[39;00m\n\u001b[0;32m     13\u001b[0m __version__ \u001b[39m=\u001b[39m \u001b[39m\"\u001b[39m\u001b[39m0.2.1\u001b[39m\u001b[39m\"\u001b[39m\n",
      "File \u001b[1;32mc:\\Users\\rosa-\\anaconda3\\envs\\xaifo\\lib\\site-packages\\deepsnap\\hetero_gnn.py:9\u001b[0m\n\u001b[0;32m      7\u001b[0m \u001b[39mfrom\u001b[39;00m \u001b[39mtorch\u001b[39;00m \u001b[39mimport\u001b[39;00m Tensor\n\u001b[0;32m      8\u001b[0m \u001b[39mfrom\u001b[39;00m \u001b[39mtorch_geometric\u001b[39;00m\u001b[39m.\u001b[39;00m\u001b[39mnn\u001b[39;00m\u001b[39m.\u001b[39;00m\u001b[39minits\u001b[39;00m \u001b[39mimport\u001b[39;00m reset\n\u001b[1;32m----> 9\u001b[0m \u001b[39mfrom\u001b[39;00m \u001b[39mtorch_sparse\u001b[39;00m \u001b[39mimport\u001b[39;00m matmul\n\u001b[0;32m     10\u001b[0m \u001b[39mfrom\u001b[39;00m \u001b[39mtyping\u001b[39;00m \u001b[39mimport\u001b[39;00m (\n\u001b[0;32m     11\u001b[0m     List,\n\u001b[0;32m     12\u001b[0m     Dict,\n\u001b[0;32m     13\u001b[0m )\n\u001b[0;32m     15\u001b[0m \u001b[39m# TODO: add another new \"HeteroSAGEConv\" add edge_features\u001b[39;00m\n",
      "File \u001b[1;32mc:\\Users\\rosa-\\anaconda3\\envs\\xaifo\\lib\\site-packages\\torch_sparse\\__init__.py:19\u001b[0m\n\u001b[0;32m     17\u001b[0m spec \u001b[39m=\u001b[39m cuda_spec \u001b[39mor\u001b[39;00m cpu_spec\n\u001b[0;32m     18\u001b[0m \u001b[39mif\u001b[39;00m spec \u001b[39mis\u001b[39;00m \u001b[39mnot\u001b[39;00m \u001b[39mNone\u001b[39;00m:\n\u001b[1;32m---> 19\u001b[0m     torch\u001b[39m.\u001b[39;49mops\u001b[39m.\u001b[39;49mload_library(spec\u001b[39m.\u001b[39;49morigin)\n\u001b[0;32m     20\u001b[0m \u001b[39melse\u001b[39;00m:  \u001b[39m# pragma: no cover\u001b[39;00m\n\u001b[0;32m     21\u001b[0m     \u001b[39mraise\u001b[39;00m \u001b[39mImportError\u001b[39;00m(\u001b[39mf\u001b[39m\u001b[39m\"\u001b[39m\u001b[39mCould not find module \u001b[39m\u001b[39m'\u001b[39m\u001b[39m{\u001b[39;00mlibrary\u001b[39m}\u001b[39;00m\u001b[39m_cpu\u001b[39m\u001b[39m'\u001b[39m\u001b[39m in \u001b[39m\u001b[39m\"\u001b[39m\n\u001b[0;32m     22\u001b[0m                       \u001b[39mf\u001b[39m\u001b[39m\"\u001b[39m\u001b[39m{\u001b[39;00mosp\u001b[39m.\u001b[39mdirname(\u001b[39m__file__\u001b[39m)\u001b[39m}\u001b[39;00m\u001b[39m\"\u001b[39m)\n",
      "File \u001b[1;32mc:\\Users\\rosa-\\anaconda3\\envs\\xaifo\\lib\\site-packages\\torch\\_ops.py:255\u001b[0m, in \u001b[0;36m_Ops.load_library\u001b[1;34m(self, path)\u001b[0m\n\u001b[0;32m    250\u001b[0m path \u001b[39m=\u001b[39m torch\u001b[39m.\u001b[39m_utils_internal\u001b[39m.\u001b[39mresolve_library_path(path)\n\u001b[0;32m    251\u001b[0m \u001b[39mwith\u001b[39;00m dl_open_guard():\n\u001b[0;32m    252\u001b[0m     \u001b[39m# Import the shared library into the process, thus running its\u001b[39;00m\n\u001b[0;32m    253\u001b[0m     \u001b[39m# static (global) initialization code in order to register custom\u001b[39;00m\n\u001b[0;32m    254\u001b[0m     \u001b[39m# operators with the JIT.\u001b[39;00m\n\u001b[1;32m--> 255\u001b[0m     ctypes\u001b[39m.\u001b[39;49mCDLL(path)\n\u001b[0;32m    256\u001b[0m \u001b[39mself\u001b[39m\u001b[39m.\u001b[39mloaded_libraries\u001b[39m.\u001b[39madd(path)\n",
      "File \u001b[1;32mc:\\Users\\rosa-\\anaconda3\\envs\\xaifo\\lib\\ctypes\\__init__.py:374\u001b[0m, in \u001b[0;36mCDLL.__init__\u001b[1;34m(self, name, mode, handle, use_errno, use_last_error, winmode)\u001b[0m\n\u001b[0;32m    371\u001b[0m \u001b[39mself\u001b[39m\u001b[39m.\u001b[39m_FuncPtr \u001b[39m=\u001b[39m _FuncPtr\n\u001b[0;32m    373\u001b[0m \u001b[39mif\u001b[39;00m handle \u001b[39mis\u001b[39;00m \u001b[39mNone\u001b[39;00m:\n\u001b[1;32m--> 374\u001b[0m     \u001b[39mself\u001b[39m\u001b[39m.\u001b[39m_handle \u001b[39m=\u001b[39m _dlopen(\u001b[39mself\u001b[39;49m\u001b[39m.\u001b[39;49m_name, mode)\n\u001b[0;32m    375\u001b[0m \u001b[39melse\u001b[39;00m:\n\u001b[0;32m    376\u001b[0m     \u001b[39mself\u001b[39m\u001b[39m.\u001b[39m_handle \u001b[39m=\u001b[39m handle\n",
      "\u001b[1;31mFileNotFoundError\u001b[0m: Could not find module 'C:\\Users\\rosa-\\anaconda3\\envs\\xaifo\\Lib\\site-packages\\torch_sparse\\_convert_cuda.pyd' (or one of its dependencies). Try using the full path with constructor syntax."
     ]
    }
   ],
   "source": [
    "import deepsnap\n",
    "print(deepsnap._netlib)"
   ]
  },
  {
   "attachments": {},
   "cell_type": "markdown",
   "metadata": {},
   "source": [
    "Load the Edge2Vec embedding"
   ]
  },
  {
   "cell_type": "code",
   "execution_count": 128,
   "metadata": {},
   "outputs": [
    {
     "data": {
      "text/html": [
       "<div>\n",
       "<style scoped>\n",
       "    .dataframe tbody tr th:only-of-type {\n",
       "        vertical-align: middle;\n",
       "    }\n",
       "\n",
       "    .dataframe tbody tr th {\n",
       "        vertical-align: top;\n",
       "    }\n",
       "\n",
       "    .dataframe thead th {\n",
       "        text-align: right;\n",
       "    }\n",
       "</style>\n",
       "<table border=\"1\" class=\"dataframe\">\n",
       "  <thead>\n",
       "    <tr style=\"text-align: right;\">\n",
       "      <th></th>\n",
       "      <th>Node</th>\n",
       "      <th>Embedding</th>\n",
       "    </tr>\n",
       "  </thead>\n",
       "  <tbody>\n",
       "    <tr>\n",
       "      <th>0</th>\n",
       "      <td>0</td>\n",
       "      <td>[0.15754397, -0.24042161, 0.08335133, 0.104554...</td>\n",
       "    </tr>\n",
       "    <tr>\n",
       "      <th>1</th>\n",
       "      <td>1</td>\n",
       "      <td>[0.3793249, -0.4108982, 0.39194363, 0.44584343...</td>\n",
       "    </tr>\n",
       "    <tr>\n",
       "      <th>2</th>\n",
       "      <td>2</td>\n",
       "      <td>[0.13685282, -0.17267337, 0.43381485, 0.024253...</td>\n",
       "    </tr>\n",
       "    <tr>\n",
       "      <th>3</th>\n",
       "      <td>3</td>\n",
       "      <td>[-0.017890714, -0.18036617, 0.32314074, 0.1885...</td>\n",
       "    </tr>\n",
       "    <tr>\n",
       "      <th>4</th>\n",
       "      <td>4</td>\n",
       "      <td>[0.4474043, -0.17649676, 0.583655, 0.34179944,...</td>\n",
       "    </tr>\n",
       "    <tr>\n",
       "      <th>...</th>\n",
       "      <td>...</td>\n",
       "      <td>...</td>\n",
       "    </tr>\n",
       "    <tr>\n",
       "      <th>10232</th>\n",
       "      <td>10232</td>\n",
       "      <td>[1.1780987, -0.7080818, 0.43507773, 0.14682144...</td>\n",
       "    </tr>\n",
       "    <tr>\n",
       "      <th>10233</th>\n",
       "      <td>10233</td>\n",
       "      <td>[0.25520208, -0.19718602, -0.123729914, 0.0669...</td>\n",
       "    </tr>\n",
       "    <tr>\n",
       "      <th>10234</th>\n",
       "      <td>10234</td>\n",
       "      <td>[0.29335433, -0.25838223, 0.11639204, 0.440502...</td>\n",
       "    </tr>\n",
       "    <tr>\n",
       "      <th>10235</th>\n",
       "      <td>10235</td>\n",
       "      <td>[0.6423682, -0.45579347, 0.5955048, 0.11881701...</td>\n",
       "    </tr>\n",
       "    <tr>\n",
       "      <th>10236</th>\n",
       "      <td>10236</td>\n",
       "      <td>[0.160081, -0.27142376, 0.10808327, 0.15163551...</td>\n",
       "    </tr>\n",
       "  </tbody>\n",
       "</table>\n",
       "<p>10237 rows × 2 columns</p>\n",
       "</div>"
      ],
      "text/plain": [
       "        Node                                          Embedding\n",
       "0          0  [0.15754397, -0.24042161, 0.08335133, 0.104554...\n",
       "1          1  [0.3793249, -0.4108982, 0.39194363, 0.44584343...\n",
       "2          2  [0.13685282, -0.17267337, 0.43381485, 0.024253...\n",
       "3          3  [-0.017890714, -0.18036617, 0.32314074, 0.1885...\n",
       "4          4  [0.4474043, -0.17649676, 0.583655, 0.34179944,...\n",
       "...      ...                                                ...\n",
       "10232  10232  [1.1780987, -0.7080818, 0.43507773, 0.14682144...\n",
       "10233  10233  [0.25520208, -0.19718602, -0.123729914, 0.0669...\n",
       "10234  10234  [0.29335433, -0.25838223, 0.11639204, 0.440502...\n",
       "10235  10235  [0.6423682, -0.45579347, 0.5955048, 0.11881701...\n",
       "10236  10236  [0.160081, -0.27142376, 0.10808327, 0.15163551...\n",
       "\n",
       "[10237 rows x 2 columns]"
      ]
     },
     "execution_count": 128,
     "metadata": {},
     "output_type": "execute_result"
    }
   ],
   "source": [
    "node_feat = KeyedVectors.load('output/w2v.dvectors', mmap='r')\n",
    "\n",
    "e2v_embedding = pd.DataFrame(columns = ['Node', 'Embedding'])\n",
    "for idx, key in enumerate(node_feat.index_to_key):\n",
    "    e2v_embedding.loc[int(key)] = pd.Series({'Node':int(key), 'Embedding':list(node_feat[key])})\n",
    "    \n",
    "e2v_embedding = e2v_embedding.sort_values('Node')\n",
    "e2v_embedding"
   ]
  },
  {
   "attachments": {},
   "cell_type": "markdown",
   "metadata": {},
   "source": [
    "Initialize a graph with nodes and their embedding features."
   ]
  },
  {
   "cell_type": "code",
   "execution_count": 129,
   "metadata": {},
   "outputs": [
    {
     "name": "stdout",
     "output_type": "stream",
     "text": [
      "(0, {'node_feature': tensor([ 0.1575, -0.2404,  0.0834,  0.1046,  0.0502, -0.1121,  0.1122,  0.0652,\n",
      "        -0.2676, -0.0648,  0.2266, -0.1252, -0.0365,  0.0067,  0.1923,  0.1789,\n",
      "        -0.1351, -0.1226, -0.1055,  0.3186,  0.0707,  0.3056,  0.0140, -0.0494,\n",
      "        -0.0711,  0.0821, -0.1392, -0.0402, -0.1460, -0.0612, -0.0731,  0.1153,\n",
      "         0.0109, -0.1871, -0.0251, -0.0309,  0.0310, -0.0408,  0.0858, -0.0142,\n",
      "         0.0634,  0.1060, -0.0653,  0.0683,  0.1540, -0.1084,  0.0056,  0.0574,\n",
      "         0.0816,  0.1179,  0.1821, -0.0603,  0.1207,  0.1257,  0.0485, -0.0168,\n",
      "         0.1784, -0.1505, -0.1151,  0.1646, -0.0936, -0.0551,  0.0663, -0.0260])})\n",
      "('9594', '7362', {})\n",
      "Number of edges is 54994\n",
      "Number of nodes is 20474\n"
     ]
    }
   ],
   "source": [
    "G = nx.Graph()\n",
    "for ind, node in e2v_embedding.iterrows(): \n",
    "    G.add_node(node['Node'], node_feature=torch.Tensor(node['Embedding']))\n",
    "for ind, edge in edge2vec_df.iterrows(): \n",
    "    G.add_edge(edge['index_head'], edge['index_tail'])\n",
    "  \n",
    "for node in G.nodes(data=True):\n",
    "    print(node)\n",
    "    break\n",
    "for edge in G.edges(data=True):\n",
    "    print(edge)\n",
    "    break\n",
    "\n",
    "print(\"Number of edges is {}\".format(G.number_of_edges()))\n",
    "print(\"Number of nodes is {}\".format(G.number_of_nodes()))"
   ]
  },
  {
   "cell_type": "code",
   "execution_count": 130,
   "metadata": {},
   "outputs": [
    {
     "ename": "AttributeError",
     "evalue": "module 'deepsnap' has no attribute '_netlib'",
     "output_type": "error",
     "traceback": [
      "\u001b[1;31m---------------------------------------------------------------------------\u001b[0m",
      "\u001b[1;31mAttributeError\u001b[0m                            Traceback (most recent call last)",
      "Cell \u001b[1;32mIn[130], line 1\u001b[0m\n\u001b[1;32m----> 1\u001b[0m DeepG \u001b[39m=\u001b[39m Graph(G)\n",
      "File \u001b[1;32mc:\\Users\\rosa-\\anaconda3\\envs\\xaifo\\lib\\site-packages\\deepsnap\\graph.py:100\u001b[0m, in \u001b[0;36mGraph.__init__\u001b[1;34m(self, G, netlib, **kwargs)\u001b[0m\n\u001b[0;32m     94\u001b[0m \u001b[39mif\u001b[39;00m G \u001b[39mis\u001b[39;00m \u001b[39mnot\u001b[39;00m \u001b[39mNone\u001b[39;00m \u001b[39mor\u001b[39;00m kwargs:\n\u001b[0;32m     95\u001b[0m     \u001b[39m# handle tensor backend + custom support\u001b[39;00m\n\u001b[0;32m     96\u001b[0m     \u001b[39mif\u001b[39;00m (\n\u001b[0;32m     97\u001b[0m         (\u001b[39m\"\u001b[39m\u001b[39medge_label_index\u001b[39m\u001b[39m\"\u001b[39m \u001b[39mnot\u001b[39;00m \u001b[39min\u001b[39;00m kwargs)\n\u001b[0;32m     98\u001b[0m         \u001b[39mand\u001b[39;00m (\u001b[39m\"\u001b[39m\u001b[39mnode_label_index\u001b[39m\u001b[39m\"\u001b[39m \u001b[39mnot\u001b[39;00m \u001b[39min\u001b[39;00m kwargs)\n\u001b[0;32m     99\u001b[0m     ):\n\u001b[1;32m--> 100\u001b[0m         \u001b[39mself\u001b[39;49m\u001b[39m.\u001b[39;49m_update_tensors(init\u001b[39m=\u001b[39;49m\u001b[39mTrue\u001b[39;49;00m)\n\u001b[0;32m    101\u001b[0m     \u001b[39melse\u001b[39;00m:\n\u001b[0;32m    102\u001b[0m         \u001b[39mself\u001b[39m\u001b[39m.\u001b[39m_update_tensors(init\u001b[39m=\u001b[39m\u001b[39mFalse\u001b[39;00m)\n",
      "File \u001b[1;32mc:\\Users\\rosa-\\anaconda3\\envs\\xaifo\\lib\\site-packages\\deepsnap\\graph.py:524\u001b[0m, in \u001b[0;36mGraph._update_tensors\u001b[1;34m(self, init)\u001b[0m\n\u001b[0;32m    521\u001b[0m \u001b[39mif\u001b[39;00m \u001b[39mself\u001b[39m\u001b[39m.\u001b[39m_node_related_key \u001b[39mis\u001b[39;00m \u001b[39mNone\u001b[39;00m:\n\u001b[0;32m    522\u001b[0m     warnings\u001b[39m.\u001b[39mwarn(\u001b[39m\"\u001b[39m\u001b[39mNode related key is required.\u001b[39m\u001b[39m\"\u001b[39m)\n\u001b[1;32m--> 524\u001b[0m \u001b[39mself\u001b[39;49m\u001b[39m.\u001b[39;49m_update_index(init)\n",
      "File \u001b[1;32mc:\\Users\\rosa-\\anaconda3\\envs\\xaifo\\lib\\site-packages\\deepsnap\\graph.py:808\u001b[0m, in \u001b[0;36mGraph._update_index\u001b[1;34m(self, init)\u001b[0m\n\u001b[0;32m    806\u001b[0m mapping \u001b[39m=\u001b[39m \u001b[39mdict\u001b[39m(\u001b[39mzip\u001b[39m(keys, vals))\n\u001b[0;32m    807\u001b[0m \u001b[39mif\u001b[39;00m keys \u001b[39m!=\u001b[39m vals:\n\u001b[1;32m--> 808\u001b[0m     \u001b[39mself\u001b[39m\u001b[39m.\u001b[39mG \u001b[39m=\u001b[39m deepsnap\u001b[39m.\u001b[39;49m_netlib\u001b[39m.\u001b[39mrelabel_nodes(\n\u001b[0;32m    809\u001b[0m         \u001b[39mself\u001b[39m\u001b[39m.\u001b[39mG, mapping, copy\u001b[39m=\u001b[39m\u001b[39mTrue\u001b[39;00m\n\u001b[0;32m    810\u001b[0m     )\n\u001b[0;32m    811\u001b[0m \u001b[39m# get edges\u001b[39;00m\n\u001b[0;32m    812\u001b[0m \u001b[39mself\u001b[39m\u001b[39m.\u001b[39medge_index \u001b[39m=\u001b[39m \u001b[39mself\u001b[39m\u001b[39m.\u001b[39m_edge_to_index(\u001b[39mlist\u001b[39m(\u001b[39mself\u001b[39m\u001b[39m.\u001b[39mG\u001b[39m.\u001b[39medges))\n",
      "\u001b[1;31mAttributeError\u001b[0m: module 'deepsnap' has no attribute '_netlib'"
     ]
    }
   ],
   "source": [
    "DeepG = Graph(G)\n"
   ]
  },
  {
   "attachments": {},
   "cell_type": "markdown",
   "metadata": {},
   "source": [
    "Load arguments and parameters of trained GNN model."
   ]
  },
  {
   "cell_type": "code",
   "execution_count": 64,
   "metadata": {},
   "outputs": [
    {
     "data": {
      "text/plain": [
       "<All keys matched successfully>"
      ]
     },
     "execution_count": 64,
     "metadata": {},
     "output_type": "execute_result"
    }
   ],
   "source": [
    "with open('output/best_model_args.pkl', 'rb') as f:\n",
    "    loaded_args = pickle.load(f)\n",
    "    \n",
    "best_model =  LinkPredModel(len(e2v_embedding['Embedding'][0]), loaded_args[\"hidden_dim\"], loaded_args['output_dim'], loaded_args['layers'], loaded_args['aggr'],loaded_args['dropout'] ).to(loaded_args[\"device\"])\n",
    "best_model.load_state_dict(torch.load('output/best_model.pth'))"
   ]
  },
  {
   "attachments": {},
   "cell_type": "markdown",
   "metadata": {},
   "source": [
    "Define the score function"
   ]
  },
  {
   "cell_type": "code",
   "execution_count": 65,
   "metadata": {},
   "outputs": [],
   "source": [
    "def score(x, id1, id2): \n",
    "    n1 = x[id1]\n",
    "    n2 = x[id2]\n",
    "    score = torch.Tensor([torch.sum(n1 * n2, dim=-1)])\n",
    "    p = torch.sigmoid(score).cpu().detach().numpy()\n",
    "    return p"
   ]
  },
  {
   "attachments": {},
   "cell_type": "markdown",
   "metadata": {},
   "source": [
    "Get all phenotypes and diseases relevant to the disease."
   ]
  },
  {
   "cell_type": "code",
   "execution_count": 108,
   "metadata": {},
   "outputs": [
    {
     "data": {
      "text/plain": [
       "{0: 'biological artifact',\n",
       " 1: 'biological process',\n",
       " 2: 'cellular component',\n",
       " 3: 'disease',\n",
       " 4: 'drug',\n",
       " 5: 'gene',\n",
       " 6: 'genotype',\n",
       " 7: 'molecular function',\n",
       " 8: 'phenotype',\n",
       " 9: 'taxon',\n",
       " 10: 'variant'}"
      ]
     },
     "execution_count": 108,
     "metadata": {},
     "output_type": "execute_result"
    }
   ],
   "source": [
    "node_semantic_dict"
   ]
  },
  {
   "cell_type": "code",
   "execution_count": 98,
   "metadata": {},
   "outputs": [
    {
     "name": "stdout",
     "output_type": "stream",
     "text": [
      "A total of 27 symptoms found that are associated with MONDO:0010679\n"
     ]
    },
    {
     "data": {
      "text/html": [
       "<div>\n",
       "<style scoped>\n",
       "    .dataframe tbody tr th:only-of-type {\n",
       "        vertical-align: middle;\n",
       "    }\n",
       "\n",
       "    .dataframe tbody tr th {\n",
       "        vertical-align: top;\n",
       "    }\n",
       "\n",
       "    .dataframe thead th {\n",
       "        text-align: right;\n",
       "    }\n",
       "</style>\n",
       "<table border=\"1\" class=\"dataframe\">\n",
       "  <thead>\n",
       "    <tr style=\"text-align: right;\">\n",
       "      <th></th>\n",
       "      <th>head</th>\n",
       "      <th>label_head</th>\n",
       "      <th>class_head</th>\n",
       "      <th>index_head</th>\n",
       "      <th>relation</th>\n",
       "      <th>tail</th>\n",
       "      <th>label_tail</th>\n",
       "      <th>class_tail</th>\n",
       "      <th>index_tail</th>\n",
       "      <th>type</th>\n",
       "    </tr>\n",
       "  </thead>\n",
       "  <tbody>\n",
       "    <tr>\n",
       "      <th>5734</th>\n",
       "      <td>MONDO:0010679</td>\n",
       "      <td>Duchenne muscular dystrophy</td>\n",
       "      <td>3</td>\n",
       "      <td>4672</td>\n",
       "      <td>associated with phenotype</td>\n",
       "      <td>HP:0001265</td>\n",
       "      <td>Hyporeflexia</td>\n",
       "      <td>8</td>\n",
       "      <td>489</td>\n",
       "      <td>8</td>\n",
       "    </tr>\n",
       "    <tr>\n",
       "      <th>5831</th>\n",
       "      <td>MONDO:0010679</td>\n",
       "      <td>Duchenne muscular dystrophy</td>\n",
       "      <td>3</td>\n",
       "      <td>4672</td>\n",
       "      <td>associated with phenotype</td>\n",
       "      <td>HP:0001371</td>\n",
       "      <td>Flexion contracture</td>\n",
       "      <td>8</td>\n",
       "      <td>1896</td>\n",
       "      <td>8</td>\n",
       "    </tr>\n",
       "    <tr>\n",
       "      <th>22263</th>\n",
       "      <td>MONDO:0010679</td>\n",
       "      <td>Duchenne muscular dystrophy</td>\n",
       "      <td>3</td>\n",
       "      <td>4672</td>\n",
       "      <td>associated with phenotype</td>\n",
       "      <td>HP:0001644</td>\n",
       "      <td>Dilated cardiomyopathy</td>\n",
       "      <td>8</td>\n",
       "      <td>2621</td>\n",
       "      <td>8</td>\n",
       "    </tr>\n",
       "    <tr>\n",
       "      <th>22928</th>\n",
       "      <td>MONDO:0010679</td>\n",
       "      <td>Duchenne muscular dystrophy</td>\n",
       "      <td>3</td>\n",
       "      <td>4672</td>\n",
       "      <td>associated with phenotype</td>\n",
       "      <td>HP:0003202</td>\n",
       "      <td>Skeletal muscle atrophy</td>\n",
       "      <td>8</td>\n",
       "      <td>1574</td>\n",
       "      <td>8</td>\n",
       "    </tr>\n",
       "    <tr>\n",
       "      <th>24828</th>\n",
       "      <td>MONDO:0010679</td>\n",
       "      <td>Duchenne muscular dystrophy</td>\n",
       "      <td>3</td>\n",
       "      <td>4672</td>\n",
       "      <td>associated with phenotype</td>\n",
       "      <td>HP:0001256</td>\n",
       "      <td>Intellectual disability, mild</td>\n",
       "      <td>8</td>\n",
       "      <td>2191</td>\n",
       "      <td>8</td>\n",
       "    </tr>\n",
       "    <tr>\n",
       "      <th>29977</th>\n",
       "      <td>MONDO:0010679</td>\n",
       "      <td>Duchenne muscular dystrophy</td>\n",
       "      <td>3</td>\n",
       "      <td>4672</td>\n",
       "      <td>associated with phenotype</td>\n",
       "      <td>HP:0003236</td>\n",
       "      <td>Elevated serum creatine kinase</td>\n",
       "      <td>8</td>\n",
       "      <td>8294</td>\n",
       "      <td>8</td>\n",
       "    </tr>\n",
       "    <tr>\n",
       "      <th>34690</th>\n",
       "      <td>MONDO:0010679</td>\n",
       "      <td>Duchenne muscular dystrophy</td>\n",
       "      <td>3</td>\n",
       "      <td>4672</td>\n",
       "      <td>associated with phenotype</td>\n",
       "      <td>HP:0011675</td>\n",
       "      <td>Arrhythmia</td>\n",
       "      <td>8</td>\n",
       "      <td>9501</td>\n",
       "      <td>8</td>\n",
       "    </tr>\n",
       "    <tr>\n",
       "      <th>36112</th>\n",
       "      <td>MONDO:0010679</td>\n",
       "      <td>Duchenne muscular dystrophy</td>\n",
       "      <td>3</td>\n",
       "      <td>4672</td>\n",
       "      <td>associated with phenotype</td>\n",
       "      <td>HP:0000750</td>\n",
       "      <td>Delayed speech and language development</td>\n",
       "      <td>8</td>\n",
       "      <td>1393</td>\n",
       "      <td>8</td>\n",
       "    </tr>\n",
       "    <tr>\n",
       "      <th>39506</th>\n",
       "      <td>MONDO:0010679</td>\n",
       "      <td>Duchenne muscular dystrophy</td>\n",
       "      <td>3</td>\n",
       "      <td>4672</td>\n",
       "      <td>associated with phenotype</td>\n",
       "      <td>HP:0003707</td>\n",
       "      <td>Calf muscle pseudohypertrophy</td>\n",
       "      <td>8</td>\n",
       "      <td>7286</td>\n",
       "      <td>8</td>\n",
       "    </tr>\n",
       "    <tr>\n",
       "      <th>43931</th>\n",
       "      <td>MONDO:0010679</td>\n",
       "      <td>Duchenne muscular dystrophy</td>\n",
       "      <td>3</td>\n",
       "      <td>4672</td>\n",
       "      <td>associated with phenotype</td>\n",
       "      <td>HP:0002791</td>\n",
       "      <td>Hypoventilation</td>\n",
       "      <td>8</td>\n",
       "      <td>4540</td>\n",
       "      <td>8</td>\n",
       "    </tr>\n",
       "  </tbody>\n",
       "</table>\n",
       "</div>"
      ],
      "text/plain": [
       "                head                   label_head  class_head index_head  \\\n",
       "5734   MONDO:0010679  Duchenne muscular dystrophy           3       4672   \n",
       "5831   MONDO:0010679  Duchenne muscular dystrophy           3       4672   \n",
       "22263  MONDO:0010679  Duchenne muscular dystrophy           3       4672   \n",
       "22928  MONDO:0010679  Duchenne muscular dystrophy           3       4672   \n",
       "24828  MONDO:0010679  Duchenne muscular dystrophy           3       4672   \n",
       "29977  MONDO:0010679  Duchenne muscular dystrophy           3       4672   \n",
       "34690  MONDO:0010679  Duchenne muscular dystrophy           3       4672   \n",
       "36112  MONDO:0010679  Duchenne muscular dystrophy           3       4672   \n",
       "39506  MONDO:0010679  Duchenne muscular dystrophy           3       4672   \n",
       "43931  MONDO:0010679  Duchenne muscular dystrophy           3       4672   \n",
       "\n",
       "                        relation        tail  \\\n",
       "5734   associated with phenotype  HP:0001265   \n",
       "5831   associated with phenotype  HP:0001371   \n",
       "22263  associated with phenotype  HP:0001644   \n",
       "22928  associated with phenotype  HP:0003202   \n",
       "24828  associated with phenotype  HP:0001256   \n",
       "29977  associated with phenotype  HP:0003236   \n",
       "34690  associated with phenotype  HP:0011675   \n",
       "36112  associated with phenotype  HP:0000750   \n",
       "39506  associated with phenotype  HP:0003707   \n",
       "43931  associated with phenotype  HP:0002791   \n",
       "\n",
       "                                    label_tail  class_tail index_tail  type  \n",
       "5734                              Hyporeflexia           8        489     8  \n",
       "5831                       Flexion contracture           8       1896     8  \n",
       "22263                   Dilated cardiomyopathy           8       2621     8  \n",
       "22928                  Skeletal muscle atrophy           8       1574     8  \n",
       "24828            Intellectual disability, mild           8       2191     8  \n",
       "29977           Elevated serum creatine kinase           8       8294     8  \n",
       "34690                               Arrhythmia           8       9501     8  \n",
       "36112  Delayed speech and language development           8       1393     8  \n",
       "39506            Calf muscle pseudohypertrophy           8       7286     8  \n",
       "43931                          Hypoventilation           8       4540     8  "
      ]
     },
     "execution_count": 98,
     "metadata": {},
     "output_type": "execute_result"
    }
   ],
   "source": [
    "disease_ID = 'MONDO:0010679'\n",
    "relation_index = list(relation_labels).index('associated with phenotype')\n",
    "\n",
    "symptoms = edge2vec_df[(edge2vec_df['head'] == 'MONDO:0010679') & (edge2vec_df['type'] == relation_index)]\n",
    "\n",
    "print(f'A total of {symptoms.shape[0]} symptoms found that are associated with {disease_ID}')\n",
    "symptoms.head(10)"
   ]
  },
  {
   "cell_type": "code",
   "execution_count": 119,
   "metadata": {},
   "outputs": [
    {
     "data": {
      "text/html": [
       "<div>\n",
       "<style scoped>\n",
       "    .dataframe tbody tr th:only-of-type {\n",
       "        vertical-align: middle;\n",
       "    }\n",
       "\n",
       "    .dataframe tbody tr th {\n",
       "        vertical-align: top;\n",
       "    }\n",
       "\n",
       "    .dataframe thead th {\n",
       "        text-align: right;\n",
       "    }\n",
       "</style>\n",
       "<table border=\"1\" class=\"dataframe\">\n",
       "  <thead>\n",
       "    <tr style=\"text-align: right;\">\n",
       "      <th></th>\n",
       "      <th>id</th>\n",
       "      <th>semantic</th>\n",
       "      <th>label</th>\n",
       "      <th>semantic_id</th>\n",
       "    </tr>\n",
       "  </thead>\n",
       "  <tbody>\n",
       "    <tr>\n",
       "      <th>0</th>\n",
       "      <td>MP:0020358</td>\n",
       "      <td>phenotype</td>\n",
       "      <td>abnormal inhibitory synapse morphology</td>\n",
       "      <td>8</td>\n",
       "    </tr>\n",
       "    <tr>\n",
       "      <th>1</th>\n",
       "      <td>HP:0000670</td>\n",
       "      <td>phenotype</td>\n",
       "      <td>Carious teeth</td>\n",
       "      <td>8</td>\n",
       "    </tr>\n",
       "    <tr>\n",
       "      <th>2</th>\n",
       "      <td>ENSEMBL:ENSCAFG00000017522</td>\n",
       "      <td>gene</td>\n",
       "      <td>ENSEMBL:ENSCAFG00000017522</td>\n",
       "      <td>5</td>\n",
       "    </tr>\n",
       "    <tr>\n",
       "      <th>3</th>\n",
       "      <td>ZFIN:ZDB-GENE-070705-188</td>\n",
       "      <td>gene</td>\n",
       "      <td>chrm1b</td>\n",
       "      <td>5</td>\n",
       "    </tr>\n",
       "    <tr>\n",
       "      <th>4</th>\n",
       "      <td>HP:0000544</td>\n",
       "      <td>phenotype</td>\n",
       "      <td>External ophthalmoplegia</td>\n",
       "      <td>8</td>\n",
       "    </tr>\n",
       "    <tr>\n",
       "      <th>...</th>\n",
       "      <td>...</td>\n",
       "      <td>...</td>\n",
       "      <td>...</td>\n",
       "      <td>...</td>\n",
       "    </tr>\n",
       "    <tr>\n",
       "      <th>10232</th>\n",
       "      <td>MGI:2176879</td>\n",
       "      <td>genotype</td>\n",
       "      <td>Dmd&lt;mdx&gt;/Dmd&lt;mdx&gt;; Utrn&lt;tm1Ked&gt;/Utrn&lt;tm1Ked&gt; [...</td>\n",
       "      <td>6</td>\n",
       "    </tr>\n",
       "    <tr>\n",
       "      <th>10233</th>\n",
       "      <td>ZP:0008070</td>\n",
       "      <td>phenotype</td>\n",
       "      <td>skeletal muscle cell dystrophic, abnormal</td>\n",
       "      <td>8</td>\n",
       "    </tr>\n",
       "    <tr>\n",
       "      <th>10234</th>\n",
       "      <td>ClinVarVariant:577742</td>\n",
       "      <td>variant</td>\n",
       "      <td>NM_004006.2(DMD):c.8655C&gt;A (p.Tyr2885Ter)</td>\n",
       "      <td>10</td>\n",
       "    </tr>\n",
       "    <tr>\n",
       "      <th>10235</th>\n",
       "      <td>MP:0004087</td>\n",
       "      <td>phenotype</td>\n",
       "      <td>abnormal muscle fiber morphology</td>\n",
       "      <td>8</td>\n",
       "    </tr>\n",
       "    <tr>\n",
       "      <th>10236</th>\n",
       "      <td>ENSEMBL:ENSGALG00000005079</td>\n",
       "      <td>gene</td>\n",
       "      <td>ENSEMBL:ENSGALG00000005079</td>\n",
       "      <td>5</td>\n",
       "    </tr>\n",
       "  </tbody>\n",
       "</table>\n",
       "<p>10237 rows × 4 columns</p>\n",
       "</div>"
      ],
      "text/plain": [
       "                               id   semantic  \\\n",
       "0                      MP:0020358  phenotype   \n",
       "1                      HP:0000670  phenotype   \n",
       "2      ENSEMBL:ENSCAFG00000017522       gene   \n",
       "3        ZFIN:ZDB-GENE-070705-188       gene   \n",
       "4                      HP:0000544  phenotype   \n",
       "...                           ...        ...   \n",
       "10232                 MGI:2176879   genotype   \n",
       "10233                  ZP:0008070  phenotype   \n",
       "10234       ClinVarVariant:577742    variant   \n",
       "10235                  MP:0004087  phenotype   \n",
       "10236  ENSEMBL:ENSGALG00000005079       gene   \n",
       "\n",
       "                                                   label  semantic_id  \n",
       "0                 abnormal inhibitory synapse morphology            8  \n",
       "1                                          Carious teeth            8  \n",
       "2                             ENSEMBL:ENSCAFG00000017522            5  \n",
       "3                                                 chrm1b            5  \n",
       "4                               External ophthalmoplegia            8  \n",
       "...                                                  ...          ...  \n",
       "10232  Dmd<mdx>/Dmd<mdx>; Utrn<tm1Ked>/Utrn<tm1Ked> [...            6  \n",
       "10233          skeletal muscle cell dystrophic, abnormal            8  \n",
       "10234          NM_004006.2(DMD):c.8655C>A (p.Tyr2885Ter)           10  \n",
       "10235                   abnormal muscle fiber morphology            8  \n",
       "10236                         ENSEMBL:ENSGALG00000005079            5  \n",
       "\n",
       "[10237 rows x 4 columns]"
      ]
     },
     "execution_count": 119,
     "metadata": {},
     "output_type": "execute_result"
    }
   ],
   "source": [
    "nodes"
   ]
  },
  {
   "cell_type": "code",
   "execution_count": 122,
   "metadata": {},
   "outputs": [
    {
     "data": {
      "text/html": [
       "<div>\n",
       "<style scoped>\n",
       "    .dataframe tbody tr th:only-of-type {\n",
       "        vertical-align: middle;\n",
       "    }\n",
       "\n",
       "    .dataframe tbody tr th {\n",
       "        vertical-align: top;\n",
       "    }\n",
       "\n",
       "    .dataframe thead th {\n",
       "        text-align: right;\n",
       "    }\n",
       "</style>\n",
       "<table border=\"1\" class=\"dataframe\">\n",
       "  <thead>\n",
       "    <tr style=\"text-align: right;\">\n",
       "      <th></th>\n",
       "      <th>id</th>\n",
       "      <th>semantic</th>\n",
       "      <th>label</th>\n",
       "      <th>semantic_id</th>\n",
       "    </tr>\n",
       "  </thead>\n",
       "  <tbody>\n",
       "    <tr>\n",
       "      <th>4672</th>\n",
       "      <td>MONDO:0010679</td>\n",
       "      <td>disease</td>\n",
       "      <td>Duchenne muscular dystrophy</td>\n",
       "      <td>3</td>\n",
       "    </tr>\n",
       "  </tbody>\n",
       "</table>\n",
       "</div>"
      ],
      "text/plain": [
       "                 id semantic                        label  semantic_id\n",
       "4672  MONDO:0010679  disease  Duchenne muscular dystrophy            3"
      ]
     },
     "execution_count": 122,
     "metadata": {},
     "output_type": "execute_result"
    }
   ],
   "source": [
    "nodes.loc[[4672]]"
   ]
  },
  {
   "cell_type": "code",
   "execution_count": null,
   "metadata": {},
   "outputs": [],
   "source": []
  }
 ],
 "metadata": {
  "kernelspec": {
   "display_name": "xaifo",
   "language": "python",
   "name": "python3"
  },
  "language_info": {
   "codemirror_mode": {
    "name": "ipython",
    "version": 3
   },
   "file_extension": ".py",
   "mimetype": "text/x-python",
   "name": "python",
   "nbconvert_exporter": "python",
   "pygments_lexer": "ipython3",
   "version": "3.10.11"
  },
  "orig_nbformat": 4
 },
 "nbformat": 4,
 "nbformat_minor": 2
}
