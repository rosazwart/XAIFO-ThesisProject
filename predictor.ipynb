{
 "cells": [
  {
   "attachments": {},
   "cell_type": "markdown",
   "metadata": {},
   "source": [
    "Adapted by Rosa Zwart from Jupyter Notebooks found at https://github.com/PPerdomoQ/rare-disease-explainer"
   ]
  },
  {
   "attachments": {},
   "cell_type": "markdown",
   "metadata": {},
   "source": [
    "# Import Libraries"
   ]
  },
  {
   "attachments": {},
   "cell_type": "markdown",
   "metadata": {},
   "source": [
    "Package                       Version\n",
    "----------------------------- ----------\n",
    "aiosignal                     1.3.1\n",
    "anyio                         3.6.2\n",
    "argon2-cffi                   21.3.0\n",
    "argon2-cffi-bindings          21.2.0\n",
    "arrow                         1.2.3\n",
    "asttokens                     2.2.1\n",
    "attrs                         22.2.0\n",
    "backcall                      0.2.0\n",
    "backports.functools-lru-cache 1.6.4\n",
    "beautifulsoup4                4.12.2\n",
    "bleach                        6.0.0\n",
    "certifi                       2023.5.7\n",
    "cffi                          1.15.1\n",
    "charset-normalizer            3.1.0\n",
    "click                         8.1.3\n",
    "colorama                      0.4.6\n",
    "comm                          0.1.3\n",
    "contourpy                     1.0.7\n",
    "cycler                        0.11.0\n",
    "debugpy                       1.6.6\n",
    "decorator                     5.1.1\n",
    "deepsnap                      0.2.1\n",
    "defusedxml                    0.7.1\n",
    "distlib                       0.3.6\n",
    "executing                     1.2.0\n",
    "fastjsonschema                2.16.3\n",
    "filelock                      3.12.0\n",
    "fonttools                     4.39.3\n",
    "fqdn                          1.5.1\n",
    "frozenlist                    1.3.3\n",
    "gensim                        4.3.1\n",
    "grpcio                        1.54.0\n",
    "idna                          3.4\n",
    "importlib-metadata            6.6.0\n",
    "ipykernel                     6.20.2\n",
    "ipython                       8.13.2\n",
    "ipython-genutils              0.2.0\n",
    "ipywidgets                    8.0.6\n",
    "isoduration                   20.11.0\n",
    "jedi                          0.18.2\n",
    "Jinja2                        3.1.2\n",
    "joblib                        1.2.0\n",
    "jsonpointer                   2.3\n",
    "jsonschema                    4.17.3\n",
    "jupyter                       1.0.0\n",
    "jupyter_client                8.2.0\n",
    "jupyter-console               6.6.3\n",
    "jupyter_core                  5.3.0\n",
    "jupyter-events                0.6.3\n",
    "jupyter_server                2.5.0\n",
    "jupyter_server_terminals      0.4.4\n",
    "jupyterlab-pygments           0.2.2\n",
    "jupyterlab-widgets            3.0.7\n",
    "kiwisolver                    1.4.4\n",
    "MarkupSafe                    2.1.2\n",
    "matplotlib                    3.7.1\n",
    "matplotlib-inline             0.1.6\n",
    "mistune                       2.0.5\n",
    "msgpack                       1.0.5\n",
    "nbclassic                     1.0.0\n",
    "nbclient                      0.7.4\n",
    "nbconvert                     7.4.0\n",
    "nbformat                      5.8.0\n",
    "nest-asyncio                  1.5.6\n",
    "networkx                      3.0\n",
    "notebook                      6.5.4\n",
    "notebook_shim                 0.2.3\n",
    "numpy                         1.24.3\n",
    "packaging                     23.1\n",
    "pandas                        1.3.5\n",
    "pandocfilters                 1.5.0\n",
    "parso                         0.8.3\n",
    "pickleshare                   0.7.5\n",
    "Pillow                        9.5.0\n",
    "pip                           23.1.2\n",
    "platformdirs                  3.5.0\n",
    "prometheus-client             0.16.0\n",
    "prompt-toolkit                3.0.38\n",
    "protobuf                      4.23.0\n",
    "psutil                        5.9.1\n",
    "pure-eval                     0.2.2\n",
    "pycparser                     2.21\n",
    "Pygments                      2.15.1\n",
    "pyparsing                     3.0.9\n",
    "pyrsistent                    0.19.3\n",
    "python-dateutil               2.8.2\n",
    "python-json-logger            2.0.7\n",
    "pytz                          2023.3\n",
    "pywin32                       303\n",
    "pywinpty                      2.0.10\n",
    "PyYAML                        6.0\n",
    "pyzmq                         25.0.2\n",
    "qtconsole                     5.4.3\n",
    "QtPy                          2.3.1\n",
    "ray                           2.3.1\n",
    "requests                      2.30.0\n",
    "rfc3339-validator             0.1.4\n",
    "rfc3986-validator             0.1.1\n",
    "scikit-learn                  1.2.2\n",
    "scipy                         1.10.1\n",
    "Send2Trash                    1.8.2\n",
    "setuptools                    66.0.0\n",
    "six                           1.16.0\n",
    "smart-open                    6.3.0\n",
    "sniffio                       1.3.0\n",
    "soupsieve                     2.4.1\n",
    "stack-data                    0.6.2\n",
    "tabulate                      0.9.0\n",
    "terminado                     0.17.1\n",
    "threadpoolctl                 3.1.0\n",
    "tinycss2                      1.2.1\n",
    "torch                         1.11.0+cpu\n",
    "torch-cluster                 1.6.0\n",
    "torch-geometric               2.0.4\n",
    "torch-scatter                 2.0.9\n",
    "torch-sparse                  0.6.13\n",
    "torch-spline-conv             1.2.2\n",
    "torchaudio                    0.11.0+cpu\n",
    "torchvision                   0.12.0+cpu\n",
    "tornado                       6.2\n",
    "tqdm                          4.65.0\n",
    "traitlets                     5.9.0\n",
    "typing_extensions             4.5.0\n",
    "tzdata                        2023.3\n",
    "uri-template                  1.2.0\n",
    "urllib3                       2.0.2\n",
    "virtualenv                    20.23.0\n",
    "wcwidth                       0.2.6\n",
    "webcolors                     1.13\n",
    "webencodings                  0.5.1\n",
    "websocket-client              1.5.1\n",
    "wheel                         0.38.4\n",
    "widgetsnbextension            4.0.7\n",
    "zipp                          3.15.0"
   ]
  },
  {
   "cell_type": "code",
   "execution_count": 1,
   "metadata": {},
   "outputs": [],
   "source": [
    "import pandas as pd\n",
    "import numpy as np\n",
    "import networkx as nx\n",
    "import pickle\n",
    "\n",
    "from gnn.linkpred_model import LinkPredModel, train, test\n",
    "\n",
    "import torch\n",
    "from torch.utils.data import DataLoader\n",
    "\n",
    "from deepsnap.dataset import GraphDataset\n",
    "from deepsnap.batch import Batch\n",
    "from deepsnap.graph import Graph\n",
    "\n",
    "from sklearn.metrics import roc_auc_score, roc_curve, f1_score, classification_report, confusion_matrix\n",
    "import matplotlib.pyplot as plt\n",
    "\n",
    "from gensim.models import KeyedVectors\n",
    "\n",
    "from sklearn.preprocessing import StandardScaler\n",
    "from sklearn.decomposition import PCA\n",
    "from sklearn.manifold import TSNE"
   ]
  },
  {
   "cell_type": "code",
   "execution_count": 2,
   "metadata": {},
   "outputs": [
    {
     "name": "stdout",
     "output_type": "stream",
     "text": [
      "Using device: cpu\n"
     ]
    }
   ],
   "source": [
    "torch_device = torch.device('cuda' if torch.cuda.is_available() else 'cpu')\n",
    "print('Using device:', torch_device)"
   ]
  },
  {
   "attachments": {},
   "cell_type": "markdown",
   "metadata": {},
   "source": [
    "Specify which dataset is used, 1 (original knowledge graph) or 2 (restructured knowledge graph)"
   ]
  },
  {
   "cell_type": "code",
   "execution_count": 3,
   "metadata": {},
   "outputs": [],
   "source": [
    "dataset_nr = 2\n",
    "assert dataset_nr == 1 or 2"
   ]
  },
  {
   "cell_type": "markdown",
   "metadata": {},
   "source": [
    "Specify which embedding method is used"
   ]
  },
  {
   "cell_type": "code",
   "execution_count": 4,
   "metadata": {},
   "outputs": [],
   "source": [
    "embedding_method = 'e2v'\n",
    "assert embedding_method == 'e2v' or 'm2v'"
   ]
  },
  {
   "attachments": {},
   "cell_type": "markdown",
   "metadata": {},
   "source": [
    "# Load Data"
   ]
  },
  {
   "cell_type": "markdown",
   "metadata": {},
   "source": [
    "Load all nodes"
   ]
  },
  {
   "cell_type": "code",
   "execution_count": 5,
   "metadata": {},
   "outputs": [
    {
     "data": {
      "text/html": [
       "<div>\n",
       "<style scoped>\n",
       "    .dataframe tbody tr th:only-of-type {\n",
       "        vertical-align: middle;\n",
       "    }\n",
       "\n",
       "    .dataframe tbody tr th {\n",
       "        vertical-align: top;\n",
       "    }\n",
       "\n",
       "    .dataframe thead th {\n",
       "        text-align: right;\n",
       "    }\n",
       "</style>\n",
       "<table border=\"1\" class=\"dataframe\">\n",
       "  <thead>\n",
       "    <tr style=\"text-align: right;\">\n",
       "      <th></th>\n",
       "      <th>id</th>\n",
       "      <th>semantic</th>\n",
       "      <th>label</th>\n",
       "      <th>semantic_id</th>\n",
       "    </tr>\n",
       "  </thead>\n",
       "  <tbody>\n",
       "    <tr>\n",
       "      <th>0</th>\n",
       "      <td>MP:0004187</td>\n",
       "      <td>phenotype</td>\n",
       "      <td>cardia bifida</td>\n",
       "      <td>9</td>\n",
       "    </tr>\n",
       "    <tr>\n",
       "      <th>1</th>\n",
       "      <td>ZP:0100138</td>\n",
       "      <td>phenotype</td>\n",
       "      <td>muscle tendon junction myotome increased amoun...</td>\n",
       "      <td>9</td>\n",
       "    </tr>\n",
       "    <tr>\n",
       "      <th>2</th>\n",
       "      <td>MGI:1346525</td>\n",
       "      <td>gene</td>\n",
       "      <td>Sgcd</td>\n",
       "      <td>5</td>\n",
       "    </tr>\n",
       "    <tr>\n",
       "      <th>3</th>\n",
       "      <td>OMIM:300377.0044</td>\n",
       "      <td>variant</td>\n",
       "      <td>DMD, LYS770TER</td>\n",
       "      <td>11</td>\n",
       "    </tr>\n",
       "    <tr>\n",
       "      <th>4</th>\n",
       "      <td>ZP:0002210</td>\n",
       "      <td>phenotype</td>\n",
       "      <td>posterior lateral line neuromast primordium mi...</td>\n",
       "      <td>9</td>\n",
       "    </tr>\n",
       "    <tr>\n",
       "      <th>...</th>\n",
       "      <td>...</td>\n",
       "      <td>...</td>\n",
       "      <td>...</td>\n",
       "      <td>...</td>\n",
       "    </tr>\n",
       "    <tr>\n",
       "      <th>10270</th>\n",
       "      <td>ZP:0014934</td>\n",
       "      <td>phenotype</td>\n",
       "      <td>atrioventricular valve development process qua...</td>\n",
       "      <td>9</td>\n",
       "    </tr>\n",
       "    <tr>\n",
       "      <th>10271</th>\n",
       "      <td>ENSEMBL:ENSCAFG00000011207</td>\n",
       "      <td>gene</td>\n",
       "      <td>ENSEMBL:ENSCAFG00000011207</td>\n",
       "      <td>5</td>\n",
       "    </tr>\n",
       "    <tr>\n",
       "      <th>10272</th>\n",
       "      <td>ENSEMBL:ENSXETG00000039922</td>\n",
       "      <td>gene</td>\n",
       "      <td>ENSEMBL:ENSXETG00000039922</td>\n",
       "      <td>5</td>\n",
       "    </tr>\n",
       "    <tr>\n",
       "      <th>10273</th>\n",
       "      <td>ENSEMBL:ENSACAG00000010058</td>\n",
       "      <td>gene</td>\n",
       "      <td>ENSEMBL:ENSACAG00000010058</td>\n",
       "      <td>5</td>\n",
       "    </tr>\n",
       "    <tr>\n",
       "      <th>10274</th>\n",
       "      <td>WBPhenotype:0000019</td>\n",
       "      <td>phenotype</td>\n",
       "      <td>pharyngeal pumping reduced</td>\n",
       "      <td>9</td>\n",
       "    </tr>\n",
       "  </tbody>\n",
       "</table>\n",
       "<p>10275 rows × 4 columns</p>\n",
       "</div>"
      ],
      "text/plain": [
       "                               id   semantic  \\\n",
       "0                      MP:0004187  phenotype   \n",
       "1                      ZP:0100138  phenotype   \n",
       "2                     MGI:1346525       gene   \n",
       "3                OMIM:300377.0044    variant   \n",
       "4                      ZP:0002210  phenotype   \n",
       "...                           ...        ...   \n",
       "10270                  ZP:0014934  phenotype   \n",
       "10271  ENSEMBL:ENSCAFG00000011207       gene   \n",
       "10272  ENSEMBL:ENSXETG00000039922       gene   \n",
       "10273  ENSEMBL:ENSACAG00000010058       gene   \n",
       "10274         WBPhenotype:0000019  phenotype   \n",
       "\n",
       "                                                   label  semantic_id  \n",
       "0                                          cardia bifida            9  \n",
       "1      muscle tendon junction myotome increased amoun...            9  \n",
       "2                                                   Sgcd            5  \n",
       "3                                         DMD, LYS770TER           11  \n",
       "4      posterior lateral line neuromast primordium mi...            9  \n",
       "...                                                  ...          ...  \n",
       "10270  atrioventricular valve development process qua...            9  \n",
       "10271                         ENSEMBL:ENSCAFG00000011207            5  \n",
       "10272                         ENSEMBL:ENSXETG00000039922            5  \n",
       "10273                         ENSEMBL:ENSACAG00000010058            5  \n",
       "10274                         pharyngeal pumping reduced            9  \n",
       "\n",
       "[10275 rows x 4 columns]"
      ]
     },
     "execution_count": 5,
     "metadata": {},
     "output_type": "execute_result"
    }
   ],
   "source": [
    "nodes = pd.read_csv(f'output/indexed_nodes_{dataset_nr}.csv')\n",
    "nodes.drop('index_id', axis=1, inplace=True)\n",
    "nodes['semantic'] = nodes['semantic'].astype('category')\n",
    "nodes"
   ]
  },
  {
   "cell_type": "markdown",
   "metadata": {},
   "source": [
    "The dictionary below can be used as mapping between generated semantic ID and semantic group label."
   ]
  },
  {
   "cell_type": "code",
   "execution_count": 6,
   "metadata": {},
   "outputs": [
    {
     "data": {
      "text/plain": [
       "{0: 'biological artifact',\n",
       " 1: 'biological process',\n",
       " 2: 'cellular component',\n",
       " 3: 'disease',\n",
       " 4: 'drug',\n",
       " 5: 'gene',\n",
       " 6: 'gene product',\n",
       " 7: 'genotype',\n",
       " 8: 'molecular function',\n",
       " 9: 'phenotype',\n",
       " 10: 'taxon',\n",
       " 11: 'variant'}"
      ]
     },
     "execution_count": 6,
     "metadata": {},
     "output_type": "execute_result"
    }
   ],
   "source": [
    "node_semantic_dict = dict(enumerate(nodes['semantic'].cat.categories))\n",
    "node_semantic_dict"
   ]
  },
  {
   "cell_type": "markdown",
   "metadata": {},
   "source": [
    "Load the node embeddings"
   ]
  },
  {
   "cell_type": "code",
   "execution_count": 7,
   "metadata": {},
   "outputs": [],
   "source": [
    "def loadEdge2VecEmbedding(): \n",
    "    node_feat = KeyedVectors.load(f'output/w2v_{dataset_nr}.dvectors', mmap='r')\n",
    "    e2v_embedding = pd.DataFrame(columns = ['Node', 'Embedding'])\n",
    "    for idx, key in enumerate(node_feat.index_to_key):\n",
    "        e2v_embedding.loc[int(key)] = pd.Series({'Node':int(key), 'Embedding':list(node_feat[key])})\n",
    "        \n",
    "    return e2v_embedding.sort_values('Node')\n",
    "\n",
    "def loadMetapath2VecEmbedding():\n",
    "    metapath2vec_embedding = pd.read_csv(f'output/metapath2vec_embedding_{dataset_nr}.csv')\n",
    "    metapath2vec_embedding['Embedding'] = metapath2vec_embedding.values.tolist()\n",
    "    metapath2vec_embedding = metapath2vec_embedding[['Embedding']]\n",
    "    metapath2vec_embedding['Node'] = metapath2vec_embedding.index\n",
    "    return metapath2vec_embedding[['Node', 'Embedding']]"
   ]
  },
  {
   "cell_type": "code",
   "execution_count": 8,
   "metadata": {},
   "outputs": [
    {
     "data": {
      "text/html": [
       "<div>\n",
       "<style scoped>\n",
       "    .dataframe tbody tr th:only-of-type {\n",
       "        vertical-align: middle;\n",
       "    }\n",
       "\n",
       "    .dataframe tbody tr th {\n",
       "        vertical-align: top;\n",
       "    }\n",
       "\n",
       "    .dataframe thead th {\n",
       "        text-align: right;\n",
       "    }\n",
       "</style>\n",
       "<table border=\"1\" class=\"dataframe\">\n",
       "  <thead>\n",
       "    <tr style=\"text-align: right;\">\n",
       "      <th></th>\n",
       "      <th>Node</th>\n",
       "      <th>Embedding</th>\n",
       "    </tr>\n",
       "  </thead>\n",
       "  <tbody>\n",
       "    <tr>\n",
       "      <th>0</th>\n",
       "      <td>0</td>\n",
       "      <td>[0.40247095, -0.3845948, -0.15081137, 0.431301...</td>\n",
       "    </tr>\n",
       "    <tr>\n",
       "      <th>1</th>\n",
       "      <td>1</td>\n",
       "      <td>[0.65280753, -0.77770376, 0.42025816, -0.13486...</td>\n",
       "    </tr>\n",
       "    <tr>\n",
       "      <th>2</th>\n",
       "      <td>2</td>\n",
       "      <td>[1.0554308, -0.3017892, -0.5273176, 0.18507732...</td>\n",
       "    </tr>\n",
       "    <tr>\n",
       "      <th>3</th>\n",
       "      <td>3</td>\n",
       "      <td>[0.07937027, -0.10965026, 0.042475987, 0.48398...</td>\n",
       "    </tr>\n",
       "    <tr>\n",
       "      <th>4</th>\n",
       "      <td>4</td>\n",
       "      <td>[0.347987, -0.08308155, 0.7126711, 0.22988968,...</td>\n",
       "    </tr>\n",
       "    <tr>\n",
       "      <th>...</th>\n",
       "      <td>...</td>\n",
       "      <td>...</td>\n",
       "    </tr>\n",
       "    <tr>\n",
       "      <th>10270</th>\n",
       "      <td>10270</td>\n",
       "      <td>[0.39331457, -0.18525663, 0.29220355, 0.318986...</td>\n",
       "    </tr>\n",
       "    <tr>\n",
       "      <th>10271</th>\n",
       "      <td>10271</td>\n",
       "      <td>[0.8446364, -0.20415954, 0.50082487, 0.7357071...</td>\n",
       "    </tr>\n",
       "    <tr>\n",
       "      <th>10272</th>\n",
       "      <td>10272</td>\n",
       "      <td>[-0.15475902, -0.85957384, 1.009266, 1.1616921...</td>\n",
       "    </tr>\n",
       "    <tr>\n",
       "      <th>10273</th>\n",
       "      <td>10273</td>\n",
       "      <td>[0.79140633, -0.63430583, 0.89944196, 0.494408...</td>\n",
       "    </tr>\n",
       "    <tr>\n",
       "      <th>10274</th>\n",
       "      <td>10274</td>\n",
       "      <td>[0.25945067, -0.25986457, -0.05330717, 0.05300...</td>\n",
       "    </tr>\n",
       "  </tbody>\n",
       "</table>\n",
       "<p>10275 rows × 2 columns</p>\n",
       "</div>"
      ],
      "text/plain": [
       "        Node                                          Embedding\n",
       "0          0  [0.40247095, -0.3845948, -0.15081137, 0.431301...\n",
       "1          1  [0.65280753, -0.77770376, 0.42025816, -0.13486...\n",
       "2          2  [1.0554308, -0.3017892, -0.5273176, 0.18507732...\n",
       "3          3  [0.07937027, -0.10965026, 0.042475987, 0.48398...\n",
       "4          4  [0.347987, -0.08308155, 0.7126711, 0.22988968,...\n",
       "...      ...                                                ...\n",
       "10270  10270  [0.39331457, -0.18525663, 0.29220355, 0.318986...\n",
       "10271  10271  [0.8446364, -0.20415954, 0.50082487, 0.7357071...\n",
       "10272  10272  [-0.15475902, -0.85957384, 1.009266, 1.1616921...\n",
       "10273  10273  [0.79140633, -0.63430583, 0.89944196, 0.494408...\n",
       "10274  10274  [0.25945067, -0.25986457, -0.05330717, 0.05300...\n",
       "\n",
       "[10275 rows x 2 columns]"
      ]
     },
     "execution_count": 8,
     "metadata": {},
     "output_type": "execute_result"
    }
   ],
   "source": [
    "if embedding_method == 'e2v':\n",
    "    embedding = loadEdge2VecEmbedding()\n",
    "else:\n",
    "    embedding = loadMetapath2VecEmbedding()\n",
    "    \n",
    "embedding"
   ]
  },
  {
   "cell_type": "markdown",
   "metadata": {},
   "source": [
    "Load the edges"
   ]
  },
  {
   "cell_type": "code",
   "execution_count": 9,
   "metadata": {},
   "outputs": [
    {
     "data": {
      "text/html": [
       "<div>\n",
       "<style scoped>\n",
       "    .dataframe tbody tr th:only-of-type {\n",
       "        vertical-align: middle;\n",
       "    }\n",
       "\n",
       "    .dataframe tbody tr th {\n",
       "        vertical-align: top;\n",
       "    }\n",
       "\n",
       "    .dataframe thead th {\n",
       "        text-align: right;\n",
       "    }\n",
       "</style>\n",
       "<table border=\"1\" class=\"dataframe\">\n",
       "  <thead>\n",
       "    <tr style=\"text-align: right;\">\n",
       "      <th></th>\n",
       "      <th>head</th>\n",
       "      <th>label_head</th>\n",
       "      <th>class_head</th>\n",
       "      <th>index_head</th>\n",
       "      <th>relation</th>\n",
       "      <th>tail</th>\n",
       "      <th>label_tail</th>\n",
       "      <th>class_tail</th>\n",
       "      <th>index_tail</th>\n",
       "      <th>type</th>\n",
       "    </tr>\n",
       "  </thead>\n",
       "  <tbody>\n",
       "    <tr>\n",
       "      <th>0</th>\n",
       "      <td>WormBase:WBGene00006787</td>\n",
       "      <td>unc-52</td>\n",
       "      <td>5</td>\n",
       "      <td>304</td>\n",
       "      <td>interacts with</td>\n",
       "      <td>WormBase:WBGene00003929</td>\n",
       "      <td>pat-2</td>\n",
       "      <td>5</td>\n",
       "      <td>1542</td>\n",
       "      <td>0</td>\n",
       "    </tr>\n",
       "    <tr>\n",
       "      <th>1</th>\n",
       "      <td>WormBase:WBGene00006787</td>\n",
       "      <td>unc-52</td>\n",
       "      <td>5</td>\n",
       "      <td>304</td>\n",
       "      <td>interacts with</td>\n",
       "      <td>WormBase:WBGene00006789</td>\n",
       "      <td>unc-54</td>\n",
       "      <td>5</td>\n",
       "      <td>6544</td>\n",
       "      <td>0</td>\n",
       "    </tr>\n",
       "    <tr>\n",
       "      <th>2</th>\n",
       "      <td>WormBase:WBGene00006787</td>\n",
       "      <td>unc-52</td>\n",
       "      <td>5</td>\n",
       "      <td>304</td>\n",
       "      <td>in orthology relationship with</td>\n",
       "      <td>ENSEMBL:ENSSSCG00000015555</td>\n",
       "      <td>LAMC1</td>\n",
       "      <td>5</td>\n",
       "      <td>9268</td>\n",
       "      <td>1</td>\n",
       "    </tr>\n",
       "    <tr>\n",
       "      <th>3</th>\n",
       "      <td>WormBase:WBGene00006787</td>\n",
       "      <td>unc-52</td>\n",
       "      <td>5</td>\n",
       "      <td>304</td>\n",
       "      <td>in orthology relationship with</td>\n",
       "      <td>ZFIN:ZDB-GENE-021226-3</td>\n",
       "      <td>lamc1</td>\n",
       "      <td>5</td>\n",
       "      <td>5387</td>\n",
       "      <td>1</td>\n",
       "    </tr>\n",
       "    <tr>\n",
       "      <th>4</th>\n",
       "      <td>WormBase:WBGene00006787</td>\n",
       "      <td>unc-52</td>\n",
       "      <td>5</td>\n",
       "      <td>304</td>\n",
       "      <td>in orthology relationship with</td>\n",
       "      <td>ENSEMBL:ENSOANG00000001050</td>\n",
       "      <td>ENSEMBL:ENSOANG00000001050</td>\n",
       "      <td>5</td>\n",
       "      <td>2204</td>\n",
       "      <td>1</td>\n",
       "    </tr>\n",
       "    <tr>\n",
       "      <th>...</th>\n",
       "      <td>...</td>\n",
       "      <td>...</td>\n",
       "      <td>...</td>\n",
       "      <td>...</td>\n",
       "      <td>...</td>\n",
       "      <td>...</td>\n",
       "      <td>...</td>\n",
       "      <td>...</td>\n",
       "      <td>...</td>\n",
       "      <td>...</td>\n",
       "    </tr>\n",
       "    <tr>\n",
       "      <th>85987</th>\n",
       "      <td>458</td>\n",
       "      <td>scopolamine butylbromide</td>\n",
       "      <td>4</td>\n",
       "      <td>5945</td>\n",
       "      <td>targets</td>\n",
       "      <td>P11229</td>\n",
       "      <td>Muscarinic acetylcholine receptor M1</td>\n",
       "      <td>6</td>\n",
       "      <td>5919</td>\n",
       "      <td>17</td>\n",
       "    </tr>\n",
       "    <tr>\n",
       "      <th>85988</th>\n",
       "      <td>OMIM:300377.0080</td>\n",
       "      <td>DMD, IVS62, A-G, -285</td>\n",
       "      <td>11</td>\n",
       "      <td>1578</td>\n",
       "      <td>is allele of</td>\n",
       "      <td>HGNC:2928</td>\n",
       "      <td>DMD</td>\n",
       "      <td>5</td>\n",
       "      <td>3310</td>\n",
       "      <td>15</td>\n",
       "    </tr>\n",
       "    <tr>\n",
       "      <th>85989</th>\n",
       "      <td>5297</td>\n",
       "      <td>dacomitinib</td>\n",
       "      <td>4</td>\n",
       "      <td>8798</td>\n",
       "      <td>targets</td>\n",
       "      <td>P12931</td>\n",
       "      <td>Proto-oncogene tyrosine-protein kinase Src</td>\n",
       "      <td>6</td>\n",
       "      <td>2379</td>\n",
       "      <td>17</td>\n",
       "    </tr>\n",
       "    <tr>\n",
       "      <th>85990</th>\n",
       "      <td>ClinVarVariant:981988</td>\n",
       "      <td>NC_000023.11:g.(31875374_31929595)_(31968515_3...</td>\n",
       "      <td>11</td>\n",
       "      <td>8189</td>\n",
       "      <td>has affected feature</td>\n",
       "      <td>HGNC:2928</td>\n",
       "      <td>DMD</td>\n",
       "      <td>5</td>\n",
       "      <td>3310</td>\n",
       "      <td>11</td>\n",
       "    </tr>\n",
       "    <tr>\n",
       "      <th>85991</th>\n",
       "      <td>ClinVarVariant:584105</td>\n",
       "      <td>NC_000023.11:g.(?_32595737)_(32699313_?)del</td>\n",
       "      <td>11</td>\n",
       "      <td>9866</td>\n",
       "      <td>causes condition</td>\n",
       "      <td>MONDO:0010679</td>\n",
       "      <td>Duchenne muscular dystrophy</td>\n",
       "      <td>3</td>\n",
       "      <td>1913</td>\n",
       "      <td>2</td>\n",
       "    </tr>\n",
       "  </tbody>\n",
       "</table>\n",
       "<p>85992 rows × 10 columns</p>\n",
       "</div>"
      ],
      "text/plain": [
       "                          head  \\\n",
       "0      WormBase:WBGene00006787   \n",
       "1      WormBase:WBGene00006787   \n",
       "2      WormBase:WBGene00006787   \n",
       "3      WormBase:WBGene00006787   \n",
       "4      WormBase:WBGene00006787   \n",
       "...                        ...   \n",
       "85987                      458   \n",
       "85988         OMIM:300377.0080   \n",
       "85989                     5297   \n",
       "85990    ClinVarVariant:981988   \n",
       "85991    ClinVarVariant:584105   \n",
       "\n",
       "                                              label_head  class_head  \\\n",
       "0                                                 unc-52           5   \n",
       "1                                                 unc-52           5   \n",
       "2                                                 unc-52           5   \n",
       "3                                                 unc-52           5   \n",
       "4                                                 unc-52           5   \n",
       "...                                                  ...         ...   \n",
       "85987                           scopolamine butylbromide           4   \n",
       "85988                              DMD, IVS62, A-G, -285          11   \n",
       "85989                                        dacomitinib           4   \n",
       "85990  NC_000023.11:g.(31875374_31929595)_(31968515_3...          11   \n",
       "85991        NC_000023.11:g.(?_32595737)_(32699313_?)del          11   \n",
       "\n",
       "       index_head                        relation                        tail  \\\n",
       "0             304                  interacts with     WormBase:WBGene00003929   \n",
       "1             304                  interacts with     WormBase:WBGene00006789   \n",
       "2             304  in orthology relationship with  ENSEMBL:ENSSSCG00000015555   \n",
       "3             304  in orthology relationship with      ZFIN:ZDB-GENE-021226-3   \n",
       "4             304  in orthology relationship with  ENSEMBL:ENSOANG00000001050   \n",
       "...           ...                             ...                         ...   \n",
       "85987        5945                         targets                      P11229   \n",
       "85988        1578                    is allele of                   HGNC:2928   \n",
       "85989        8798                         targets                      P12931   \n",
       "85990        8189            has affected feature                   HGNC:2928   \n",
       "85991        9866                causes condition               MONDO:0010679   \n",
       "\n",
       "                                       label_tail  class_tail  index_tail  \\\n",
       "0                                           pat-2           5        1542   \n",
       "1                                          unc-54           5        6544   \n",
       "2                                           LAMC1           5        9268   \n",
       "3                                           lamc1           5        5387   \n",
       "4                      ENSEMBL:ENSOANG00000001050           5        2204   \n",
       "...                                           ...         ...         ...   \n",
       "85987        Muscarinic acetylcholine receptor M1           6        5919   \n",
       "85988                                         DMD           5        3310   \n",
       "85989  Proto-oncogene tyrosine-protein kinase Src           6        2379   \n",
       "85990                                         DMD           5        3310   \n",
       "85991                 Duchenne muscular dystrophy           3        1913   \n",
       "\n",
       "       type  \n",
       "0         0  \n",
       "1         0  \n",
       "2         1  \n",
       "3         1  \n",
       "4         1  \n",
       "...     ...  \n",
       "85987    17  \n",
       "85988    15  \n",
       "85989    17  \n",
       "85990    11  \n",
       "85991     2  \n",
       "\n",
       "[85992 rows x 10 columns]"
      ]
     },
     "execution_count": 9,
     "metadata": {},
     "output_type": "execute_result"
    }
   ],
   "source": [
    "edges = pd.read_csv(f'output/indexed_edges_{dataset_nr}.csv')\n",
    "edges"
   ]
  },
  {
   "cell_type": "markdown",
   "metadata": {},
   "source": [
    "Index list can be used later for converting back to the label of the relation."
   ]
  },
  {
   "cell_type": "code",
   "execution_count": 10,
   "metadata": {},
   "outputs": [
    {
     "data": {
      "text/plain": [
       "Index(['interacts with', 'in orthology relationship with', 'causes condition',\n",
       "       'involved in', 'found in', 'is part of', 'enables', 'colocalizes with',\n",
       "       'has role in modeling', 'contributes to condition', 'expresses gene',\n",
       "       'has affected feature', 'is of', 'likely causes condition',\n",
       "       'is variant in', 'is allele of', 'is substance that treats', 'targets',\n",
       "       'associated with phenotype', 'is product of', 'has genotype'],\n",
       "      dtype='object')"
      ]
     },
     "execution_count": 10,
     "metadata": {},
     "output_type": "execute_result"
    }
   ],
   "source": [
    "_, relation_labels = pd.factorize(edges['relation'])\n",
    "relation_labels"
   ]
  },
  {
   "attachments": {},
   "cell_type": "markdown",
   "metadata": {},
   "source": [
    "# Link Prediction"
   ]
  },
  {
   "attachments": {},
   "cell_type": "markdown",
   "metadata": {},
   "source": [
    "Creating a graph including the node embeddings as features of each node."
   ]
  },
  {
   "cell_type": "code",
   "execution_count": 11,
   "metadata": {},
   "outputs": [
    {
     "name": "stdout",
     "output_type": "stream",
     "text": [
      "(0, {'node_feature': tensor([ 0.4025, -0.3846, -0.1508,  0.4313, -0.1584, -0.2483, -0.4238,  0.0153,\n",
      "        -0.4962,  0.1547,  0.1589, -0.4305, -0.0581, -0.1972, -0.2055,  0.5037,\n",
      "        -0.5105,  0.1909,  0.0012,  0.1537,  0.6672,  0.7506,  0.3028, -0.2849,\n",
      "         0.3139,  0.3975, -0.7756, -0.2581, -0.0448,  0.2015, -0.0455, -0.1286,\n",
      "        -0.1689, -0.4998,  0.2879,  0.3030, -0.3495,  0.2530,  0.5342, -0.1021,\n",
      "        -0.1558, -0.0990,  0.1053,  0.0252, -0.0097, -0.0465, -0.0074, -0.2006,\n",
      "        -0.5433,  0.1710, -0.0038, -0.0586,  0.2605,  0.3435,  0.1108, -0.2850,\n",
      "         0.1566, -0.1954, -0.1330,  0.3439, -0.5885, -0.0843, -0.3107, -0.2844])})\n",
      "(0, 8472, {})\n",
      "Number of edges is 55032\n",
      "Number of nodes is 10275\n"
     ]
    }
   ],
   "source": [
    "embedded_node_G = nx.Graph() # TODO: DiGraph?\n",
    "\n",
    "for ind, node in embedding.iterrows(): \n",
    "  embedded_node_G.add_node(int(node['Node']), node_feature=torch.Tensor(node['Embedding']))\n",
    "for ind, edge in edges.iterrows(): \n",
    "  embedded_node_G.add_edge(int(edge['index_head']), int(edge['index_tail']))\n",
    "    \n",
    "for node in embedded_node_G.nodes(data=True):\n",
    "    print(node)\n",
    "    break\n",
    "for edge in embedded_node_G.edges(data=True):\n",
    "    print(edge)\n",
    "    break\n",
    "\n",
    "print(\"Number of edges is {}\".format(embedded_node_G.number_of_edges()))\n",
    "print(\"Number of nodes is {}\".format(embedded_node_G.number_of_nodes()))"
   ]
  },
  {
   "attachments": {},
   "cell_type": "markdown",
   "metadata": {},
   "source": [
    "## Generate graph datasets for training, validation and testing"
   ]
  },
  {
   "attachments": {},
   "cell_type": "markdown",
   "metadata": {},
   "source": [
    "Transductive link prediction split (https://zqfang.github.io/2021-08-12-graph-linkpredict/):\n",
    "- Train/validation/test sets are on the same graph\n",
    "- The dataset consists of one graph\n",
    "- The entire graph can be observed in all dataset splits\n",
    "- The labels of the edges are split"
   ]
  },
  {
   "cell_type": "code",
   "execution_count": 12,
   "metadata": {},
   "outputs": [
    {
     "name": "stderr",
     "output_type": "stream",
     "text": [
      "c:\\Users\\rosa-\\anaconda3\\envs\\xaifo\\lib\\site-packages\\deepsnap\\graph.py:2126: UserWarning: __floordiv__ is deprecated, and its behavior will change in a future version of pytorch. It currently rounds toward 0 (like the 'trunc' function NOT 'floor'). This results in incorrect rounding for negative values. To keep the current behavior, use torch.div(a, b, rounding_mode='trunc'), or for actual floor division, use torch.div(a, b, rounding_mode='floor').\n",
      "  row = perm // num_nodes\n"
     ]
    },
    {
     "name": "stdout",
     "output_type": "stream",
     "text": [
      "Input dimension (embedding dimension): 64 \n",
      " Number of edge classes (link or no link): 2\n"
     ]
    }
   ],
   "source": [
    "dataset = GraphDataset(\n",
    "    embedded_node_G,\n",
    "    task='link_pred',\n",
    "    edge_train_mode='all'\n",
    ")\n",
    "\n",
    "datasets = {}\n",
    "datasets['train'], datasets['val'], datasets['test'] = dataset.split(\n",
    "    transductive=True, split_ratio=[0.8, 0.1, 0.1]\n",
    ")\n",
    "\n",
    "input_dim = datasets['train'].num_node_features\n",
    "num_classes = datasets['train'].num_edge_labels\n",
    "\n",
    "print(f'Input dimension (embedding dimension): {input_dim} \\n Number of edge classes (link or no link): {num_classes}')   "
   ]
  },
  {
   "attachments": {},
   "cell_type": "markdown",
   "metadata": {},
   "source": [
    "Dataloaders allow to feed data into the model by batch."
   ]
  },
  {
   "cell_type": "code",
   "execution_count": 13,
   "metadata": {},
   "outputs": [],
   "source": [
    "dataloaders = {split: DataLoader(ds, collate_fn=Batch.collate([]), batch_size=1, shuffle=(split=='train')) for split, ds in datasets.items()}"
   ]
  },
  {
   "attachments": {},
   "cell_type": "markdown",
   "metadata": {},
   "source": [
    "## Train GNN"
   ]
  },
  {
   "attachments": {},
   "cell_type": "markdown",
   "metadata": {},
   "source": [
    "### Predefined Arguments"
   ]
  },
  {
   "attachments": {},
   "cell_type": "markdown",
   "metadata": {},
   "source": [
    "Train GNN with predefined arguments"
   ]
  },
  {
   "cell_type": "code",
   "execution_count": 14,
   "metadata": {},
   "outputs": [
    {
     "name": "stdout",
     "output_type": "stream",
     "text": [
      "{'device': device(type='cpu'), 'hidden_dim': 256, 'output_dim': 64, 'epochs': 100, 'lr': 0.013477408995651594, 'aggr': 'mean', 'layers': 2, 'dropout': 0.2}\n"
     ]
    }
   ],
   "source": [
    "if dataset_nr == 1:\n",
    "    args = {\n",
    "        \"device\" : torch_device,   # insert torch_device, or 'cpu' \n",
    "        \"hidden_dim\" : 264,\n",
    "        'output_dim': 64,\n",
    "        \"epochs\" : 150, \n",
    "        'lr': 0.07, \n",
    "        'aggr': 'mean', \n",
    "        'layers': 2, \n",
    "        'dropout': 0.2\n",
    "    }\n",
    "else:\n",
    "    args = {\n",
    "        \"device\" : torch_device,   # insert torch_device, or 'cpu' \n",
    "        \"hidden_dim\" : 256,\n",
    "        'output_dim': 64,\n",
    "        \"epochs\" : 100, \n",
    "        'lr': 0.013477408995651594, \n",
    "        'aggr': 'mean', \n",
    "        'layers': 2, \n",
    "        'dropout': 0.2\n",
    "    }\n",
    "\n",
    "print(args)\n",
    "\n",
    "model = LinkPredModel(input_dim, args[\"hidden_dim\"], args['output_dim'], args['layers'], args['aggr'], args['dropout'], args[\"device\"]).to(args[\"device\"])\n",
    "optimizer = torch.optim.SGD(model.parameters(), lr=args['lr'], momentum=0.9, weight_decay=5e-4)"
   ]
  },
  {
   "cell_type": "code",
   "execution_count": 15,
   "metadata": {},
   "outputs": [
    {
     "name": "stdout",
     "output_type": "stream",
     "text": [
      "Start Train Function\n",
      "Epoch: 001, Train: 0.9676, Val: 0.9456, Test: 0.9462, Loss: 2.18831\n"
     ]
    },
    {
     "name": "stderr",
     "output_type": "stream",
     "text": [
      "c:\\Users\\rosa-\\anaconda3\\envs\\xaifo\\lib\\site-packages\\deepsnap\\graph.py:2126: UserWarning: __floordiv__ is deprecated, and its behavior will change in a future version of pytorch. It currently rounds toward 0 (like the 'trunc' function NOT 'floor'). This results in incorrect rounding for negative values. To keep the current behavior, use torch.div(a, b, rounding_mode='trunc'), or for actual floor division, use torch.div(a, b, rounding_mode='floor').\n",
      "  row = perm // num_nodes\n"
     ]
    },
    {
     "name": "stdout",
     "output_type": "stream",
     "text": [
      "Epoch: 002, Train: 0.9656, Val: 0.9467, Test: 0.9470, Loss: 2.09066\n"
     ]
    },
    {
     "name": "stderr",
     "output_type": "stream",
     "text": [
      "c:\\Users\\rosa-\\anaconda3\\envs\\xaifo\\lib\\site-packages\\deepsnap\\graph.py:2126: UserWarning: __floordiv__ is deprecated, and its behavior will change in a future version of pytorch. It currently rounds toward 0 (like the 'trunc' function NOT 'floor'). This results in incorrect rounding for negative values. To keep the current behavior, use torch.div(a, b, rounding_mode='trunc'), or for actual floor division, use torch.div(a, b, rounding_mode='floor').\n",
      "  row = perm // num_nodes\n"
     ]
    },
    {
     "name": "stdout",
     "output_type": "stream",
     "text": [
      "Epoch: 003, Train: 0.9645, Val: 0.9464, Test: 0.9463, Loss: 2.07032\n"
     ]
    },
    {
     "name": "stderr",
     "output_type": "stream",
     "text": [
      "c:\\Users\\rosa-\\anaconda3\\envs\\xaifo\\lib\\site-packages\\deepsnap\\graph.py:2126: UserWarning: __floordiv__ is deprecated, and its behavior will change in a future version of pytorch. It currently rounds toward 0 (like the 'trunc' function NOT 'floor'). This results in incorrect rounding for negative values. To keep the current behavior, use torch.div(a, b, rounding_mode='trunc'), or for actual floor division, use torch.div(a, b, rounding_mode='floor').\n",
      "  row = perm // num_nodes\n"
     ]
    },
    {
     "name": "stdout",
     "output_type": "stream",
     "text": [
      "Epoch: 004, Train: 0.9638, Val: 0.9455, Test: 0.9454, Loss: 2.00472\n"
     ]
    },
    {
     "name": "stderr",
     "output_type": "stream",
     "text": [
      "c:\\Users\\rosa-\\anaconda3\\envs\\xaifo\\lib\\site-packages\\deepsnap\\graph.py:2126: UserWarning: __floordiv__ is deprecated, and its behavior will change in a future version of pytorch. It currently rounds toward 0 (like the 'trunc' function NOT 'floor'). This results in incorrect rounding for negative values. To keep the current behavior, use torch.div(a, b, rounding_mode='trunc'), or for actual floor division, use torch.div(a, b, rounding_mode='floor').\n",
      "  row = perm // num_nodes\n"
     ]
    },
    {
     "name": "stdout",
     "output_type": "stream",
     "text": [
      "Epoch: 005, Train: 0.9635, Val: 0.9455, Test: 0.9455, Loss: 1.92535\n"
     ]
    },
    {
     "name": "stderr",
     "output_type": "stream",
     "text": [
      "c:\\Users\\rosa-\\anaconda3\\envs\\xaifo\\lib\\site-packages\\deepsnap\\graph.py:2126: UserWarning: __floordiv__ is deprecated, and its behavior will change in a future version of pytorch. It currently rounds toward 0 (like the 'trunc' function NOT 'floor'). This results in incorrect rounding for negative values. To keep the current behavior, use torch.div(a, b, rounding_mode='trunc'), or for actual floor division, use torch.div(a, b, rounding_mode='floor').\n",
      "  row = perm // num_nodes\n"
     ]
    },
    {
     "name": "stdout",
     "output_type": "stream",
     "text": [
      "Epoch: 006, Train: 0.9633, Val: 0.9464, Test: 0.9465, Loss: 1.89585\n"
     ]
    },
    {
     "name": "stderr",
     "output_type": "stream",
     "text": [
      "c:\\Users\\rosa-\\anaconda3\\envs\\xaifo\\lib\\site-packages\\deepsnap\\graph.py:2126: UserWarning: __floordiv__ is deprecated, and its behavior will change in a future version of pytorch. It currently rounds toward 0 (like the 'trunc' function NOT 'floor'). This results in incorrect rounding for negative values. To keep the current behavior, use torch.div(a, b, rounding_mode='trunc'), or for actual floor division, use torch.div(a, b, rounding_mode='floor').\n",
      "  row = perm // num_nodes\n"
     ]
    },
    {
     "name": "stdout",
     "output_type": "stream",
     "text": [
      "Epoch: 007, Train: 0.9647, Val: 0.9476, Test: 0.9479, Loss: 1.84864\n"
     ]
    },
    {
     "name": "stderr",
     "output_type": "stream",
     "text": [
      "c:\\Users\\rosa-\\anaconda3\\envs\\xaifo\\lib\\site-packages\\deepsnap\\graph.py:2126: UserWarning: __floordiv__ is deprecated, and its behavior will change in a future version of pytorch. It currently rounds toward 0 (like the 'trunc' function NOT 'floor'). This results in incorrect rounding for negative values. To keep the current behavior, use torch.div(a, b, rounding_mode='trunc'), or for actual floor division, use torch.div(a, b, rounding_mode='floor').\n",
      "  row = perm // num_nodes\n"
     ]
    },
    {
     "name": "stdout",
     "output_type": "stream",
     "text": [
      "Epoch: 008, Train: 0.9651, Val: 0.9486, Test: 0.9491, Loss: 1.80321\n"
     ]
    },
    {
     "name": "stderr",
     "output_type": "stream",
     "text": [
      "c:\\Users\\rosa-\\anaconda3\\envs\\xaifo\\lib\\site-packages\\deepsnap\\graph.py:2126: UserWarning: __floordiv__ is deprecated, and its behavior will change in a future version of pytorch. It currently rounds toward 0 (like the 'trunc' function NOT 'floor'). This results in incorrect rounding for negative values. To keep the current behavior, use torch.div(a, b, rounding_mode='trunc'), or for actual floor division, use torch.div(a, b, rounding_mode='floor').\n",
      "  row = perm // num_nodes\n"
     ]
    },
    {
     "name": "stdout",
     "output_type": "stream",
     "text": [
      "Epoch: 009, Train: 0.9663, Val: 0.9497, Test: 0.9504, Loss: 1.79667\n"
     ]
    },
    {
     "name": "stderr",
     "output_type": "stream",
     "text": [
      "c:\\Users\\rosa-\\anaconda3\\envs\\xaifo\\lib\\site-packages\\deepsnap\\graph.py:2126: UserWarning: __floordiv__ is deprecated, and its behavior will change in a future version of pytorch. It currently rounds toward 0 (like the 'trunc' function NOT 'floor'). This results in incorrect rounding for negative values. To keep the current behavior, use torch.div(a, b, rounding_mode='trunc'), or for actual floor division, use torch.div(a, b, rounding_mode='floor').\n",
      "  row = perm // num_nodes\n"
     ]
    },
    {
     "name": "stdout",
     "output_type": "stream",
     "text": [
      "Epoch: 010, Train: 0.9669, Val: 0.9507, Test: 0.9515, Loss: 1.75767\n"
     ]
    },
    {
     "name": "stderr",
     "output_type": "stream",
     "text": [
      "c:\\Users\\rosa-\\anaconda3\\envs\\xaifo\\lib\\site-packages\\deepsnap\\graph.py:2126: UserWarning: __floordiv__ is deprecated, and its behavior will change in a future version of pytorch. It currently rounds toward 0 (like the 'trunc' function NOT 'floor'). This results in incorrect rounding for negative values. To keep the current behavior, use torch.div(a, b, rounding_mode='trunc'), or for actual floor division, use torch.div(a, b, rounding_mode='floor').\n",
      "  row = perm // num_nodes\n"
     ]
    },
    {
     "name": "stdout",
     "output_type": "stream",
     "text": [
      "Epoch: 011, Train: 0.9675, Val: 0.9513, Test: 0.9524, Loss: 1.72433\n"
     ]
    },
    {
     "name": "stderr",
     "output_type": "stream",
     "text": [
      "c:\\Users\\rosa-\\anaconda3\\envs\\xaifo\\lib\\site-packages\\deepsnap\\graph.py:2126: UserWarning: __floordiv__ is deprecated, and its behavior will change in a future version of pytorch. It currently rounds toward 0 (like the 'trunc' function NOT 'floor'). This results in incorrect rounding for negative values. To keep the current behavior, use torch.div(a, b, rounding_mode='trunc'), or for actual floor division, use torch.div(a, b, rounding_mode='floor').\n",
      "  row = perm // num_nodes\n"
     ]
    },
    {
     "name": "stdout",
     "output_type": "stream",
     "text": [
      "Epoch: 012, Train: 0.9683, Val: 0.9519, Test: 0.9530, Loss: 1.68901\n"
     ]
    },
    {
     "name": "stderr",
     "output_type": "stream",
     "text": [
      "c:\\Users\\rosa-\\anaconda3\\envs\\xaifo\\lib\\site-packages\\deepsnap\\graph.py:2126: UserWarning: __floordiv__ is deprecated, and its behavior will change in a future version of pytorch. It currently rounds toward 0 (like the 'trunc' function NOT 'floor'). This results in incorrect rounding for negative values. To keep the current behavior, use torch.div(a, b, rounding_mode='trunc'), or for actual floor division, use torch.div(a, b, rounding_mode='floor').\n",
      "  row = perm // num_nodes\n"
     ]
    },
    {
     "name": "stdout",
     "output_type": "stream",
     "text": [
      "Epoch: 013, Train: 0.9689, Val: 0.9524, Test: 0.9537, Loss: 1.63228\n"
     ]
    },
    {
     "name": "stderr",
     "output_type": "stream",
     "text": [
      "c:\\Users\\rosa-\\anaconda3\\envs\\xaifo\\lib\\site-packages\\deepsnap\\graph.py:2126: UserWarning: __floordiv__ is deprecated, and its behavior will change in a future version of pytorch. It currently rounds toward 0 (like the 'trunc' function NOT 'floor'). This results in incorrect rounding for negative values. To keep the current behavior, use torch.div(a, b, rounding_mode='trunc'), or for actual floor division, use torch.div(a, b, rounding_mode='floor').\n",
      "  row = perm // num_nodes\n"
     ]
    },
    {
     "name": "stdout",
     "output_type": "stream",
     "text": [
      "Epoch: 014, Train: 0.9698, Val: 0.9532, Test: 0.9545, Loss: 1.62789\n"
     ]
    },
    {
     "name": "stderr",
     "output_type": "stream",
     "text": [
      "c:\\Users\\rosa-\\anaconda3\\envs\\xaifo\\lib\\site-packages\\deepsnap\\graph.py:2126: UserWarning: __floordiv__ is deprecated, and its behavior will change in a future version of pytorch. It currently rounds toward 0 (like the 'trunc' function NOT 'floor'). This results in incorrect rounding for negative values. To keep the current behavior, use torch.div(a, b, rounding_mode='trunc'), or for actual floor division, use torch.div(a, b, rounding_mode='floor').\n",
      "  row = perm // num_nodes\n"
     ]
    },
    {
     "name": "stdout",
     "output_type": "stream",
     "text": [
      "Epoch: 015, Train: 0.9704, Val: 0.9542, Test: 0.9556, Loss: 1.57310\n"
     ]
    },
    {
     "name": "stderr",
     "output_type": "stream",
     "text": [
      "c:\\Users\\rosa-\\anaconda3\\envs\\xaifo\\lib\\site-packages\\deepsnap\\graph.py:2126: UserWarning: __floordiv__ is deprecated, and its behavior will change in a future version of pytorch. It currently rounds toward 0 (like the 'trunc' function NOT 'floor'). This results in incorrect rounding for negative values. To keep the current behavior, use torch.div(a, b, rounding_mode='trunc'), or for actual floor division, use torch.div(a, b, rounding_mode='floor').\n",
      "  row = perm // num_nodes\n"
     ]
    },
    {
     "name": "stdout",
     "output_type": "stream",
     "text": [
      "Epoch: 016, Train: 0.9714, Val: 0.9552, Test: 0.9565, Loss: 1.53514\n"
     ]
    },
    {
     "name": "stderr",
     "output_type": "stream",
     "text": [
      "c:\\Users\\rosa-\\anaconda3\\envs\\xaifo\\lib\\site-packages\\deepsnap\\graph.py:2126: UserWarning: __floordiv__ is deprecated, and its behavior will change in a future version of pytorch. It currently rounds toward 0 (like the 'trunc' function NOT 'floor'). This results in incorrect rounding for negative values. To keep the current behavior, use torch.div(a, b, rounding_mode='trunc'), or for actual floor division, use torch.div(a, b, rounding_mode='floor').\n",
      "  row = perm // num_nodes\n"
     ]
    },
    {
     "name": "stdout",
     "output_type": "stream",
     "text": [
      "Epoch: 017, Train: 0.9721, Val: 0.9563, Test: 0.9575, Loss: 1.51852\n"
     ]
    },
    {
     "name": "stderr",
     "output_type": "stream",
     "text": [
      "c:\\Users\\rosa-\\anaconda3\\envs\\xaifo\\lib\\site-packages\\deepsnap\\graph.py:2126: UserWarning: __floordiv__ is deprecated, and its behavior will change in a future version of pytorch. It currently rounds toward 0 (like the 'trunc' function NOT 'floor'). This results in incorrect rounding for negative values. To keep the current behavior, use torch.div(a, b, rounding_mode='trunc'), or for actual floor division, use torch.div(a, b, rounding_mode='floor').\n",
      "  row = perm // num_nodes\n"
     ]
    },
    {
     "name": "stdout",
     "output_type": "stream",
     "text": [
      "Epoch: 018, Train: 0.9727, Val: 0.9573, Test: 0.9586, Loss: 1.47619\n"
     ]
    },
    {
     "name": "stderr",
     "output_type": "stream",
     "text": [
      "c:\\Users\\rosa-\\anaconda3\\envs\\xaifo\\lib\\site-packages\\deepsnap\\graph.py:2126: UserWarning: __floordiv__ is deprecated, and its behavior will change in a future version of pytorch. It currently rounds toward 0 (like the 'trunc' function NOT 'floor'). This results in incorrect rounding for negative values. To keep the current behavior, use torch.div(a, b, rounding_mode='trunc'), or for actual floor division, use torch.div(a, b, rounding_mode='floor').\n",
      "  row = perm // num_nodes\n"
     ]
    },
    {
     "name": "stdout",
     "output_type": "stream",
     "text": [
      "Epoch: 019, Train: 0.9741, Val: 0.9583, Test: 0.9596, Loss: 1.45555\n"
     ]
    },
    {
     "name": "stderr",
     "output_type": "stream",
     "text": [
      "c:\\Users\\rosa-\\anaconda3\\envs\\xaifo\\lib\\site-packages\\deepsnap\\graph.py:2126: UserWarning: __floordiv__ is deprecated, and its behavior will change in a future version of pytorch. It currently rounds toward 0 (like the 'trunc' function NOT 'floor'). This results in incorrect rounding for negative values. To keep the current behavior, use torch.div(a, b, rounding_mode='trunc'), or for actual floor division, use torch.div(a, b, rounding_mode='floor').\n",
      "  row = perm // num_nodes\n"
     ]
    },
    {
     "name": "stdout",
     "output_type": "stream",
     "text": [
      "Epoch: 020, Train: 0.9747, Val: 0.9592, Test: 0.9605, Loss: 1.44998\n"
     ]
    },
    {
     "name": "stderr",
     "output_type": "stream",
     "text": [
      "c:\\Users\\rosa-\\anaconda3\\envs\\xaifo\\lib\\site-packages\\deepsnap\\graph.py:2126: UserWarning: __floordiv__ is deprecated, and its behavior will change in a future version of pytorch. It currently rounds toward 0 (like the 'trunc' function NOT 'floor'). This results in incorrect rounding for negative values. To keep the current behavior, use torch.div(a, b, rounding_mode='trunc'), or for actual floor division, use torch.div(a, b, rounding_mode='floor').\n",
      "  row = perm // num_nodes\n"
     ]
    },
    {
     "name": "stdout",
     "output_type": "stream",
     "text": [
      "Epoch: 021, Train: 0.9754, Val: 0.9600, Test: 0.9612, Loss: 1.42390\n"
     ]
    },
    {
     "name": "stderr",
     "output_type": "stream",
     "text": [
      "c:\\Users\\rosa-\\anaconda3\\envs\\xaifo\\lib\\site-packages\\deepsnap\\graph.py:2126: UserWarning: __floordiv__ is deprecated, and its behavior will change in a future version of pytorch. It currently rounds toward 0 (like the 'trunc' function NOT 'floor'). This results in incorrect rounding for negative values. To keep the current behavior, use torch.div(a, b, rounding_mode='trunc'), or for actual floor division, use torch.div(a, b, rounding_mode='floor').\n",
      "  row = perm // num_nodes\n"
     ]
    },
    {
     "name": "stdout",
     "output_type": "stream",
     "text": [
      "Epoch: 022, Train: 0.9759, Val: 0.9608, Test: 0.9621, Loss: 1.38889\n"
     ]
    },
    {
     "name": "stderr",
     "output_type": "stream",
     "text": [
      "c:\\Users\\rosa-\\anaconda3\\envs\\xaifo\\lib\\site-packages\\deepsnap\\graph.py:2126: UserWarning: __floordiv__ is deprecated, and its behavior will change in a future version of pytorch. It currently rounds toward 0 (like the 'trunc' function NOT 'floor'). This results in incorrect rounding for negative values. To keep the current behavior, use torch.div(a, b, rounding_mode='trunc'), or for actual floor division, use torch.div(a, b, rounding_mode='floor').\n",
      "  row = perm // num_nodes\n"
     ]
    },
    {
     "name": "stdout",
     "output_type": "stream",
     "text": [
      "Epoch: 023, Train: 0.9759, Val: 0.9615, Test: 0.9627, Loss: 1.35637\n"
     ]
    },
    {
     "name": "stderr",
     "output_type": "stream",
     "text": [
      "c:\\Users\\rosa-\\anaconda3\\envs\\xaifo\\lib\\site-packages\\deepsnap\\graph.py:2126: UserWarning: __floordiv__ is deprecated, and its behavior will change in a future version of pytorch. It currently rounds toward 0 (like the 'trunc' function NOT 'floor'). This results in incorrect rounding for negative values. To keep the current behavior, use torch.div(a, b, rounding_mode='trunc'), or for actual floor division, use torch.div(a, b, rounding_mode='floor').\n",
      "  row = perm // num_nodes\n"
     ]
    },
    {
     "name": "stdout",
     "output_type": "stream",
     "text": [
      "Epoch: 024, Train: 0.9760, Val: 0.9619, Test: 0.9630, Loss: 1.33837\n"
     ]
    },
    {
     "name": "stderr",
     "output_type": "stream",
     "text": [
      "c:\\Users\\rosa-\\anaconda3\\envs\\xaifo\\lib\\site-packages\\deepsnap\\graph.py:2126: UserWarning: __floordiv__ is deprecated, and its behavior will change in a future version of pytorch. It currently rounds toward 0 (like the 'trunc' function NOT 'floor'). This results in incorrect rounding for negative values. To keep the current behavior, use torch.div(a, b, rounding_mode='trunc'), or for actual floor division, use torch.div(a, b, rounding_mode='floor').\n",
      "  row = perm // num_nodes\n"
     ]
    },
    {
     "name": "stdout",
     "output_type": "stream",
     "text": [
      "Epoch: 025, Train: 0.9766, Val: 0.9622, Test: 0.9634, Loss: 1.30752\n"
     ]
    },
    {
     "name": "stderr",
     "output_type": "stream",
     "text": [
      "c:\\Users\\rosa-\\anaconda3\\envs\\xaifo\\lib\\site-packages\\deepsnap\\graph.py:2126: UserWarning: __floordiv__ is deprecated, and its behavior will change in a future version of pytorch. It currently rounds toward 0 (like the 'trunc' function NOT 'floor'). This results in incorrect rounding for negative values. To keep the current behavior, use torch.div(a, b, rounding_mode='trunc'), or for actual floor division, use torch.div(a, b, rounding_mode='floor').\n",
      "  row = perm // num_nodes\n"
     ]
    },
    {
     "name": "stdout",
     "output_type": "stream",
     "text": [
      "Epoch: 026, Train: 0.9765, Val: 0.9625, Test: 0.9636, Loss: 1.27718\n"
     ]
    },
    {
     "name": "stderr",
     "output_type": "stream",
     "text": [
      "c:\\Users\\rosa-\\anaconda3\\envs\\xaifo\\lib\\site-packages\\deepsnap\\graph.py:2126: UserWarning: __floordiv__ is deprecated, and its behavior will change in a future version of pytorch. It currently rounds toward 0 (like the 'trunc' function NOT 'floor'). This results in incorrect rounding for negative values. To keep the current behavior, use torch.div(a, b, rounding_mode='trunc'), or for actual floor division, use torch.div(a, b, rounding_mode='floor').\n",
      "  row = perm // num_nodes\n"
     ]
    },
    {
     "name": "stdout",
     "output_type": "stream",
     "text": [
      "Epoch: 027, Train: 0.9767, Val: 0.9627, Test: 0.9637, Loss: 1.27067\n"
     ]
    },
    {
     "name": "stderr",
     "output_type": "stream",
     "text": [
      "c:\\Users\\rosa-\\anaconda3\\envs\\xaifo\\lib\\site-packages\\deepsnap\\graph.py:2126: UserWarning: __floordiv__ is deprecated, and its behavior will change in a future version of pytorch. It currently rounds toward 0 (like the 'trunc' function NOT 'floor'). This results in incorrect rounding for negative values. To keep the current behavior, use torch.div(a, b, rounding_mode='trunc'), or for actual floor division, use torch.div(a, b, rounding_mode='floor').\n",
      "  row = perm // num_nodes\n"
     ]
    },
    {
     "name": "stdout",
     "output_type": "stream",
     "text": [
      "Epoch: 028, Train: 0.9770, Val: 0.9628, Test: 0.9639, Loss: 1.24787\n"
     ]
    },
    {
     "name": "stderr",
     "output_type": "stream",
     "text": [
      "c:\\Users\\rosa-\\anaconda3\\envs\\xaifo\\lib\\site-packages\\deepsnap\\graph.py:2126: UserWarning: __floordiv__ is deprecated, and its behavior will change in a future version of pytorch. It currently rounds toward 0 (like the 'trunc' function NOT 'floor'). This results in incorrect rounding for negative values. To keep the current behavior, use torch.div(a, b, rounding_mode='trunc'), or for actual floor division, use torch.div(a, b, rounding_mode='floor').\n",
      "  row = perm // num_nodes\n"
     ]
    },
    {
     "name": "stdout",
     "output_type": "stream",
     "text": [
      "Epoch: 029, Train: 0.9769, Val: 0.9629, Test: 0.9640, Loss: 1.22417\n"
     ]
    },
    {
     "name": "stderr",
     "output_type": "stream",
     "text": [
      "c:\\Users\\rosa-\\anaconda3\\envs\\xaifo\\lib\\site-packages\\deepsnap\\graph.py:2126: UserWarning: __floordiv__ is deprecated, and its behavior will change in a future version of pytorch. It currently rounds toward 0 (like the 'trunc' function NOT 'floor'). This results in incorrect rounding for negative values. To keep the current behavior, use torch.div(a, b, rounding_mode='trunc'), or for actual floor division, use torch.div(a, b, rounding_mode='floor').\n",
      "  row = perm // num_nodes\n"
     ]
    },
    {
     "name": "stdout",
     "output_type": "stream",
     "text": [
      "Epoch: 030, Train: 0.9769, Val: 0.9631, Test: 0.9641, Loss: 1.19582\n"
     ]
    },
    {
     "name": "stderr",
     "output_type": "stream",
     "text": [
      "c:\\Users\\rosa-\\anaconda3\\envs\\xaifo\\lib\\site-packages\\deepsnap\\graph.py:2126: UserWarning: __floordiv__ is deprecated, and its behavior will change in a future version of pytorch. It currently rounds toward 0 (like the 'trunc' function NOT 'floor'). This results in incorrect rounding for negative values. To keep the current behavior, use torch.div(a, b, rounding_mode='trunc'), or for actual floor division, use torch.div(a, b, rounding_mode='floor').\n",
      "  row = perm // num_nodes\n"
     ]
    },
    {
     "name": "stdout",
     "output_type": "stream",
     "text": [
      "Epoch: 031, Train: 0.9768, Val: 0.9633, Test: 0.9644, Loss: 1.19527\n"
     ]
    },
    {
     "name": "stderr",
     "output_type": "stream",
     "text": [
      "c:\\Users\\rosa-\\anaconda3\\envs\\xaifo\\lib\\site-packages\\deepsnap\\graph.py:2126: UserWarning: __floordiv__ is deprecated, and its behavior will change in a future version of pytorch. It currently rounds toward 0 (like the 'trunc' function NOT 'floor'). This results in incorrect rounding for negative values. To keep the current behavior, use torch.div(a, b, rounding_mode='trunc'), or for actual floor division, use torch.div(a, b, rounding_mode='floor').\n",
      "  row = perm // num_nodes\n"
     ]
    },
    {
     "name": "stdout",
     "output_type": "stream",
     "text": [
      "Epoch: 032, Train: 0.9779, Val: 0.9635, Test: 0.9646, Loss: 1.17572\n"
     ]
    },
    {
     "name": "stderr",
     "output_type": "stream",
     "text": [
      "c:\\Users\\rosa-\\anaconda3\\envs\\xaifo\\lib\\site-packages\\deepsnap\\graph.py:2126: UserWarning: __floordiv__ is deprecated, and its behavior will change in a future version of pytorch. It currently rounds toward 0 (like the 'trunc' function NOT 'floor'). This results in incorrect rounding for negative values. To keep the current behavior, use torch.div(a, b, rounding_mode='trunc'), or for actual floor division, use torch.div(a, b, rounding_mode='floor').\n",
      "  row = perm // num_nodes\n"
     ]
    },
    {
     "name": "stdout",
     "output_type": "stream",
     "text": [
      "Epoch: 033, Train: 0.9775, Val: 0.9637, Test: 0.9649, Loss: 1.14944\n"
     ]
    },
    {
     "name": "stderr",
     "output_type": "stream",
     "text": [
      "c:\\Users\\rosa-\\anaconda3\\envs\\xaifo\\lib\\site-packages\\deepsnap\\graph.py:2126: UserWarning: __floordiv__ is deprecated, and its behavior will change in a future version of pytorch. It currently rounds toward 0 (like the 'trunc' function NOT 'floor'). This results in incorrect rounding for negative values. To keep the current behavior, use torch.div(a, b, rounding_mode='trunc'), or for actual floor division, use torch.div(a, b, rounding_mode='floor').\n",
      "  row = perm // num_nodes\n"
     ]
    },
    {
     "name": "stdout",
     "output_type": "stream",
     "text": [
      "Epoch: 034, Train: 0.9781, Val: 0.9639, Test: 0.9653, Loss: 1.13672\n"
     ]
    },
    {
     "name": "stderr",
     "output_type": "stream",
     "text": [
      "c:\\Users\\rosa-\\anaconda3\\envs\\xaifo\\lib\\site-packages\\deepsnap\\graph.py:2126: UserWarning: __floordiv__ is deprecated, and its behavior will change in a future version of pytorch. It currently rounds toward 0 (like the 'trunc' function NOT 'floor'). This results in incorrect rounding for negative values. To keep the current behavior, use torch.div(a, b, rounding_mode='trunc'), or for actual floor division, use torch.div(a, b, rounding_mode='floor').\n",
      "  row = perm // num_nodes\n"
     ]
    },
    {
     "name": "stdout",
     "output_type": "stream",
     "text": [
      "Epoch: 035, Train: 0.9777, Val: 0.9641, Test: 0.9655, Loss: 1.10711\n"
     ]
    },
    {
     "name": "stderr",
     "output_type": "stream",
     "text": [
      "c:\\Users\\rosa-\\anaconda3\\envs\\xaifo\\lib\\site-packages\\deepsnap\\graph.py:2126: UserWarning: __floordiv__ is deprecated, and its behavior will change in a future version of pytorch. It currently rounds toward 0 (like the 'trunc' function NOT 'floor'). This results in incorrect rounding for negative values. To keep the current behavior, use torch.div(a, b, rounding_mode='trunc'), or for actual floor division, use torch.div(a, b, rounding_mode='floor').\n",
      "  row = perm // num_nodes\n"
     ]
    },
    {
     "name": "stdout",
     "output_type": "stream",
     "text": [
      "Epoch: 036, Train: 0.9777, Val: 0.9642, Test: 0.9657, Loss: 1.09642\n"
     ]
    },
    {
     "name": "stderr",
     "output_type": "stream",
     "text": [
      "c:\\Users\\rosa-\\anaconda3\\envs\\xaifo\\lib\\site-packages\\deepsnap\\graph.py:2126: UserWarning: __floordiv__ is deprecated, and its behavior will change in a future version of pytorch. It currently rounds toward 0 (like the 'trunc' function NOT 'floor'). This results in incorrect rounding for negative values. To keep the current behavior, use torch.div(a, b, rounding_mode='trunc'), or for actual floor division, use torch.div(a, b, rounding_mode='floor').\n",
      "  row = perm // num_nodes\n"
     ]
    },
    {
     "name": "stdout",
     "output_type": "stream",
     "text": [
      "Epoch: 037, Train: 0.9778, Val: 0.9642, Test: 0.9658, Loss: 1.06451\n"
     ]
    },
    {
     "name": "stderr",
     "output_type": "stream",
     "text": [
      "c:\\Users\\rosa-\\anaconda3\\envs\\xaifo\\lib\\site-packages\\deepsnap\\graph.py:2126: UserWarning: __floordiv__ is deprecated, and its behavior will change in a future version of pytorch. It currently rounds toward 0 (like the 'trunc' function NOT 'floor'). This results in incorrect rounding for negative values. To keep the current behavior, use torch.div(a, b, rounding_mode='trunc'), or for actual floor division, use torch.div(a, b, rounding_mode='floor').\n",
      "  row = perm // num_nodes\n"
     ]
    },
    {
     "name": "stdout",
     "output_type": "stream",
     "text": [
      "Epoch: 038, Train: 0.9774, Val: 0.9641, Test: 0.9658, Loss: 1.05919\n"
     ]
    },
    {
     "name": "stderr",
     "output_type": "stream",
     "text": [
      "c:\\Users\\rosa-\\anaconda3\\envs\\xaifo\\lib\\site-packages\\deepsnap\\graph.py:2126: UserWarning: __floordiv__ is deprecated, and its behavior will change in a future version of pytorch. It currently rounds toward 0 (like the 'trunc' function NOT 'floor'). This results in incorrect rounding for negative values. To keep the current behavior, use torch.div(a, b, rounding_mode='trunc'), or for actual floor division, use torch.div(a, b, rounding_mode='floor').\n",
      "  row = perm // num_nodes\n"
     ]
    },
    {
     "name": "stdout",
     "output_type": "stream",
     "text": [
      "Epoch: 039, Train: 0.9778, Val: 0.9641, Test: 0.9658, Loss: 1.05130\n"
     ]
    },
    {
     "name": "stderr",
     "output_type": "stream",
     "text": [
      "c:\\Users\\rosa-\\anaconda3\\envs\\xaifo\\lib\\site-packages\\deepsnap\\graph.py:2126: UserWarning: __floordiv__ is deprecated, and its behavior will change in a future version of pytorch. It currently rounds toward 0 (like the 'trunc' function NOT 'floor'). This results in incorrect rounding for negative values. To keep the current behavior, use torch.div(a, b, rounding_mode='trunc'), or for actual floor division, use torch.div(a, b, rounding_mode='floor').\n",
      "  row = perm // num_nodes\n"
     ]
    },
    {
     "name": "stdout",
     "output_type": "stream",
     "text": [
      "Epoch: 040, Train: 0.9779, Val: 0.9642, Test: 0.9659, Loss: 1.02688\n"
     ]
    },
    {
     "name": "stderr",
     "output_type": "stream",
     "text": [
      "c:\\Users\\rosa-\\anaconda3\\envs\\xaifo\\lib\\site-packages\\deepsnap\\graph.py:2126: UserWarning: __floordiv__ is deprecated, and its behavior will change in a future version of pytorch. It currently rounds toward 0 (like the 'trunc' function NOT 'floor'). This results in incorrect rounding for negative values. To keep the current behavior, use torch.div(a, b, rounding_mode='trunc'), or for actual floor division, use torch.div(a, b, rounding_mode='floor').\n",
      "  row = perm // num_nodes\n"
     ]
    },
    {
     "name": "stdout",
     "output_type": "stream",
     "text": [
      "Epoch: 041, Train: 0.9771, Val: 0.9641, Test: 0.9659, Loss: 1.02103\n"
     ]
    },
    {
     "name": "stderr",
     "output_type": "stream",
     "text": [
      "c:\\Users\\rosa-\\anaconda3\\envs\\xaifo\\lib\\site-packages\\deepsnap\\graph.py:2126: UserWarning: __floordiv__ is deprecated, and its behavior will change in a future version of pytorch. It currently rounds toward 0 (like the 'trunc' function NOT 'floor'). This results in incorrect rounding for negative values. To keep the current behavior, use torch.div(a, b, rounding_mode='trunc'), or for actual floor division, use torch.div(a, b, rounding_mode='floor').\n",
      "  row = perm // num_nodes\n"
     ]
    },
    {
     "name": "stdout",
     "output_type": "stream",
     "text": [
      "Epoch: 042, Train: 0.9774, Val: 0.9642, Test: 0.9660, Loss: 1.00638\n"
     ]
    },
    {
     "name": "stderr",
     "output_type": "stream",
     "text": [
      "c:\\Users\\rosa-\\anaconda3\\envs\\xaifo\\lib\\site-packages\\deepsnap\\graph.py:2126: UserWarning: __floordiv__ is deprecated, and its behavior will change in a future version of pytorch. It currently rounds toward 0 (like the 'trunc' function NOT 'floor'). This results in incorrect rounding for negative values. To keep the current behavior, use torch.div(a, b, rounding_mode='trunc'), or for actual floor division, use torch.div(a, b, rounding_mode='floor').\n",
      "  row = perm // num_nodes\n"
     ]
    },
    {
     "name": "stdout",
     "output_type": "stream",
     "text": [
      "Epoch: 043, Train: 0.9775, Val: 0.9643, Test: 0.9660, Loss: 0.99170\n"
     ]
    },
    {
     "name": "stderr",
     "output_type": "stream",
     "text": [
      "c:\\Users\\rosa-\\anaconda3\\envs\\xaifo\\lib\\site-packages\\deepsnap\\graph.py:2126: UserWarning: __floordiv__ is deprecated, and its behavior will change in a future version of pytorch. It currently rounds toward 0 (like the 'trunc' function NOT 'floor'). This results in incorrect rounding for negative values. To keep the current behavior, use torch.div(a, b, rounding_mode='trunc'), or for actual floor division, use torch.div(a, b, rounding_mode='floor').\n",
      "  row = perm // num_nodes\n"
     ]
    },
    {
     "name": "stdout",
     "output_type": "stream",
     "text": [
      "Epoch: 044, Train: 0.9769, Val: 0.9642, Test: 0.9660, Loss: 0.96163\n"
     ]
    },
    {
     "name": "stderr",
     "output_type": "stream",
     "text": [
      "c:\\Users\\rosa-\\anaconda3\\envs\\xaifo\\lib\\site-packages\\deepsnap\\graph.py:2126: UserWarning: __floordiv__ is deprecated, and its behavior will change in a future version of pytorch. It currently rounds toward 0 (like the 'trunc' function NOT 'floor'). This results in incorrect rounding for negative values. To keep the current behavior, use torch.div(a, b, rounding_mode='trunc'), or for actual floor division, use torch.div(a, b, rounding_mode='floor').\n",
      "  row = perm // num_nodes\n"
     ]
    },
    {
     "name": "stdout",
     "output_type": "stream",
     "text": [
      "Epoch: 045, Train: 0.9768, Val: 0.9642, Test: 0.9660, Loss: 0.95089\n"
     ]
    },
    {
     "name": "stderr",
     "output_type": "stream",
     "text": [
      "c:\\Users\\rosa-\\anaconda3\\envs\\xaifo\\lib\\site-packages\\deepsnap\\graph.py:2126: UserWarning: __floordiv__ is deprecated, and its behavior will change in a future version of pytorch. It currently rounds toward 0 (like the 'trunc' function NOT 'floor'). This results in incorrect rounding for negative values. To keep the current behavior, use torch.div(a, b, rounding_mode='trunc'), or for actual floor division, use torch.div(a, b, rounding_mode='floor').\n",
      "  row = perm // num_nodes\n"
     ]
    },
    {
     "name": "stdout",
     "output_type": "stream",
     "text": [
      "Epoch: 046, Train: 0.9763, Val: 0.9642, Test: 0.9660, Loss: 0.93584\n"
     ]
    },
    {
     "name": "stderr",
     "output_type": "stream",
     "text": [
      "c:\\Users\\rosa-\\anaconda3\\envs\\xaifo\\lib\\site-packages\\deepsnap\\graph.py:2126: UserWarning: __floordiv__ is deprecated, and its behavior will change in a future version of pytorch. It currently rounds toward 0 (like the 'trunc' function NOT 'floor'). This results in incorrect rounding for negative values. To keep the current behavior, use torch.div(a, b, rounding_mode='trunc'), or for actual floor division, use torch.div(a, b, rounding_mode='floor').\n",
      "  row = perm // num_nodes\n"
     ]
    },
    {
     "name": "stdout",
     "output_type": "stream",
     "text": [
      "Epoch: 047, Train: 0.9765, Val: 0.9642, Test: 0.9660, Loss: 0.92791\n"
     ]
    },
    {
     "name": "stderr",
     "output_type": "stream",
     "text": [
      "c:\\Users\\rosa-\\anaconda3\\envs\\xaifo\\lib\\site-packages\\deepsnap\\graph.py:2126: UserWarning: __floordiv__ is deprecated, and its behavior will change in a future version of pytorch. It currently rounds toward 0 (like the 'trunc' function NOT 'floor'). This results in incorrect rounding for negative values. To keep the current behavior, use torch.div(a, b, rounding_mode='trunc'), or for actual floor division, use torch.div(a, b, rounding_mode='floor').\n",
      "  row = perm // num_nodes\n"
     ]
    },
    {
     "name": "stdout",
     "output_type": "stream",
     "text": [
      "Epoch: 048, Train: 0.9771, Val: 0.9642, Test: 0.9660, Loss: 0.91760\n"
     ]
    },
    {
     "name": "stderr",
     "output_type": "stream",
     "text": [
      "c:\\Users\\rosa-\\anaconda3\\envs\\xaifo\\lib\\site-packages\\deepsnap\\graph.py:2126: UserWarning: __floordiv__ is deprecated, and its behavior will change in a future version of pytorch. It currently rounds toward 0 (like the 'trunc' function NOT 'floor'). This results in incorrect rounding for negative values. To keep the current behavior, use torch.div(a, b, rounding_mode='trunc'), or for actual floor division, use torch.div(a, b, rounding_mode='floor').\n",
      "  row = perm // num_nodes\n"
     ]
    },
    {
     "name": "stdout",
     "output_type": "stream",
     "text": [
      "Epoch: 049, Train: 0.9764, Val: 0.9643, Test: 0.9661, Loss: 0.91735\n"
     ]
    },
    {
     "name": "stderr",
     "output_type": "stream",
     "text": [
      "c:\\Users\\rosa-\\anaconda3\\envs\\xaifo\\lib\\site-packages\\deepsnap\\graph.py:2126: UserWarning: __floordiv__ is deprecated, and its behavior will change in a future version of pytorch. It currently rounds toward 0 (like the 'trunc' function NOT 'floor'). This results in incorrect rounding for negative values. To keep the current behavior, use torch.div(a, b, rounding_mode='trunc'), or for actual floor division, use torch.div(a, b, rounding_mode='floor').\n",
      "  row = perm // num_nodes\n"
     ]
    },
    {
     "name": "stdout",
     "output_type": "stream",
     "text": [
      "Epoch: 050, Train: 0.9764, Val: 0.9643, Test: 0.9662, Loss: 0.90359\n"
     ]
    },
    {
     "name": "stderr",
     "output_type": "stream",
     "text": [
      "c:\\Users\\rosa-\\anaconda3\\envs\\xaifo\\lib\\site-packages\\deepsnap\\graph.py:2126: UserWarning: __floordiv__ is deprecated, and its behavior will change in a future version of pytorch. It currently rounds toward 0 (like the 'trunc' function NOT 'floor'). This results in incorrect rounding for negative values. To keep the current behavior, use torch.div(a, b, rounding_mode='trunc'), or for actual floor division, use torch.div(a, b, rounding_mode='floor').\n",
      "  row = perm // num_nodes\n"
     ]
    },
    {
     "name": "stdout",
     "output_type": "stream",
     "text": [
      "Epoch: 051, Train: 0.9767, Val: 0.9644, Test: 0.9662, Loss: 0.89028\n"
     ]
    },
    {
     "name": "stderr",
     "output_type": "stream",
     "text": [
      "c:\\Users\\rosa-\\anaconda3\\envs\\xaifo\\lib\\site-packages\\deepsnap\\graph.py:2126: UserWarning: __floordiv__ is deprecated, and its behavior will change in a future version of pytorch. It currently rounds toward 0 (like the 'trunc' function NOT 'floor'). This results in incorrect rounding for negative values. To keep the current behavior, use torch.div(a, b, rounding_mode='trunc'), or for actual floor division, use torch.div(a, b, rounding_mode='floor').\n",
      "  row = perm // num_nodes\n"
     ]
    },
    {
     "name": "stdout",
     "output_type": "stream",
     "text": [
      "Epoch: 052, Train: 0.9764, Val: 0.9644, Test: 0.9663, Loss: 0.88235\n"
     ]
    },
    {
     "name": "stderr",
     "output_type": "stream",
     "text": [
      "c:\\Users\\rosa-\\anaconda3\\envs\\xaifo\\lib\\site-packages\\deepsnap\\graph.py:2126: UserWarning: __floordiv__ is deprecated, and its behavior will change in a future version of pytorch. It currently rounds toward 0 (like the 'trunc' function NOT 'floor'). This results in incorrect rounding for negative values. To keep the current behavior, use torch.div(a, b, rounding_mode='trunc'), or for actual floor division, use torch.div(a, b, rounding_mode='floor').\n",
      "  row = perm // num_nodes\n"
     ]
    },
    {
     "name": "stdout",
     "output_type": "stream",
     "text": [
      "Epoch: 053, Train: 0.9765, Val: 0.9644, Test: 0.9663, Loss: 0.87219\n"
     ]
    },
    {
     "name": "stderr",
     "output_type": "stream",
     "text": [
      "c:\\Users\\rosa-\\anaconda3\\envs\\xaifo\\lib\\site-packages\\deepsnap\\graph.py:2126: UserWarning: __floordiv__ is deprecated, and its behavior will change in a future version of pytorch. It currently rounds toward 0 (like the 'trunc' function NOT 'floor'). This results in incorrect rounding for negative values. To keep the current behavior, use torch.div(a, b, rounding_mode='trunc'), or for actual floor division, use torch.div(a, b, rounding_mode='floor').\n",
      "  row = perm // num_nodes\n"
     ]
    },
    {
     "name": "stdout",
     "output_type": "stream",
     "text": [
      "Epoch: 054, Train: 0.9762, Val: 0.9644, Test: 0.9663, Loss: 0.85194\n"
     ]
    },
    {
     "name": "stderr",
     "output_type": "stream",
     "text": [
      "c:\\Users\\rosa-\\anaconda3\\envs\\xaifo\\lib\\site-packages\\deepsnap\\graph.py:2126: UserWarning: __floordiv__ is deprecated, and its behavior will change in a future version of pytorch. It currently rounds toward 0 (like the 'trunc' function NOT 'floor'). This results in incorrect rounding for negative values. To keep the current behavior, use torch.div(a, b, rounding_mode='trunc'), or for actual floor division, use torch.div(a, b, rounding_mode='floor').\n",
      "  row = perm // num_nodes\n"
     ]
    },
    {
     "name": "stdout",
     "output_type": "stream",
     "text": [
      "Epoch: 055, Train: 0.9765, Val: 0.9643, Test: 0.9662, Loss: 0.85773\n"
     ]
    },
    {
     "name": "stderr",
     "output_type": "stream",
     "text": [
      "c:\\Users\\rosa-\\anaconda3\\envs\\xaifo\\lib\\site-packages\\deepsnap\\graph.py:2126: UserWarning: __floordiv__ is deprecated, and its behavior will change in a future version of pytorch. It currently rounds toward 0 (like the 'trunc' function NOT 'floor'). This results in incorrect rounding for negative values. To keep the current behavior, use torch.div(a, b, rounding_mode='trunc'), or for actual floor division, use torch.div(a, b, rounding_mode='floor').\n",
      "  row = perm // num_nodes\n"
     ]
    },
    {
     "name": "stdout",
     "output_type": "stream",
     "text": [
      "Epoch: 056, Train: 0.9766, Val: 0.9642, Test: 0.9661, Loss: 0.83260\n"
     ]
    },
    {
     "name": "stderr",
     "output_type": "stream",
     "text": [
      "c:\\Users\\rosa-\\anaconda3\\envs\\xaifo\\lib\\site-packages\\deepsnap\\graph.py:2126: UserWarning: __floordiv__ is deprecated, and its behavior will change in a future version of pytorch. It currently rounds toward 0 (like the 'trunc' function NOT 'floor'). This results in incorrect rounding for negative values. To keep the current behavior, use torch.div(a, b, rounding_mode='trunc'), or for actual floor division, use torch.div(a, b, rounding_mode='floor').\n",
      "  row = perm // num_nodes\n"
     ]
    },
    {
     "name": "stdout",
     "output_type": "stream",
     "text": [
      "Epoch: 057, Train: 0.9769, Val: 0.9640, Test: 0.9659, Loss: 0.82403\n"
     ]
    },
    {
     "name": "stderr",
     "output_type": "stream",
     "text": [
      "c:\\Users\\rosa-\\anaconda3\\envs\\xaifo\\lib\\site-packages\\deepsnap\\graph.py:2126: UserWarning: __floordiv__ is deprecated, and its behavior will change in a future version of pytorch. It currently rounds toward 0 (like the 'trunc' function NOT 'floor'). This results in incorrect rounding for negative values. To keep the current behavior, use torch.div(a, b, rounding_mode='trunc'), or for actual floor division, use torch.div(a, b, rounding_mode='floor').\n",
      "  row = perm // num_nodes\n"
     ]
    },
    {
     "name": "stdout",
     "output_type": "stream",
     "text": [
      "Epoch: 058, Train: 0.9763, Val: 0.9639, Test: 0.9657, Loss: 0.82691\n"
     ]
    },
    {
     "name": "stderr",
     "output_type": "stream",
     "text": [
      "c:\\Users\\rosa-\\anaconda3\\envs\\xaifo\\lib\\site-packages\\deepsnap\\graph.py:2126: UserWarning: __floordiv__ is deprecated, and its behavior will change in a future version of pytorch. It currently rounds toward 0 (like the 'trunc' function NOT 'floor'). This results in incorrect rounding for negative values. To keep the current behavior, use torch.div(a, b, rounding_mode='trunc'), or for actual floor division, use torch.div(a, b, rounding_mode='floor').\n",
      "  row = perm // num_nodes\n"
     ]
    },
    {
     "name": "stdout",
     "output_type": "stream",
     "text": [
      "Epoch: 059, Train: 0.9765, Val: 0.9638, Test: 0.9656, Loss: 0.80487\n"
     ]
    },
    {
     "name": "stderr",
     "output_type": "stream",
     "text": [
      "c:\\Users\\rosa-\\anaconda3\\envs\\xaifo\\lib\\site-packages\\deepsnap\\graph.py:2126: UserWarning: __floordiv__ is deprecated, and its behavior will change in a future version of pytorch. It currently rounds toward 0 (like the 'trunc' function NOT 'floor'). This results in incorrect rounding for negative values. To keep the current behavior, use torch.div(a, b, rounding_mode='trunc'), or for actual floor division, use torch.div(a, b, rounding_mode='floor').\n",
      "  row = perm // num_nodes\n"
     ]
    },
    {
     "name": "stdout",
     "output_type": "stream",
     "text": [
      "Epoch: 060, Train: 0.9765, Val: 0.9637, Test: 0.9655, Loss: 0.78876\n"
     ]
    },
    {
     "name": "stderr",
     "output_type": "stream",
     "text": [
      "c:\\Users\\rosa-\\anaconda3\\envs\\xaifo\\lib\\site-packages\\deepsnap\\graph.py:2126: UserWarning: __floordiv__ is deprecated, and its behavior will change in a future version of pytorch. It currently rounds toward 0 (like the 'trunc' function NOT 'floor'). This results in incorrect rounding for negative values. To keep the current behavior, use torch.div(a, b, rounding_mode='trunc'), or for actual floor division, use torch.div(a, b, rounding_mode='floor').\n",
      "  row = perm // num_nodes\n"
     ]
    },
    {
     "name": "stdout",
     "output_type": "stream",
     "text": [
      "Epoch: 061, Train: 0.9757, Val: 0.9636, Test: 0.9655, Loss: 0.78696\n"
     ]
    },
    {
     "name": "stderr",
     "output_type": "stream",
     "text": [
      "c:\\Users\\rosa-\\anaconda3\\envs\\xaifo\\lib\\site-packages\\deepsnap\\graph.py:2126: UserWarning: __floordiv__ is deprecated, and its behavior will change in a future version of pytorch. It currently rounds toward 0 (like the 'trunc' function NOT 'floor'). This results in incorrect rounding for negative values. To keep the current behavior, use torch.div(a, b, rounding_mode='trunc'), or for actual floor division, use torch.div(a, b, rounding_mode='floor').\n",
      "  row = perm // num_nodes\n"
     ]
    },
    {
     "name": "stdout",
     "output_type": "stream",
     "text": [
      "Epoch: 062, Train: 0.9755, Val: 0.9636, Test: 0.9654, Loss: 0.78648\n"
     ]
    },
    {
     "name": "stderr",
     "output_type": "stream",
     "text": [
      "c:\\Users\\rosa-\\anaconda3\\envs\\xaifo\\lib\\site-packages\\deepsnap\\graph.py:2126: UserWarning: __floordiv__ is deprecated, and its behavior will change in a future version of pytorch. It currently rounds toward 0 (like the 'trunc' function NOT 'floor'). This results in incorrect rounding for negative values. To keep the current behavior, use torch.div(a, b, rounding_mode='trunc'), or for actual floor division, use torch.div(a, b, rounding_mode='floor').\n",
      "  row = perm // num_nodes\n"
     ]
    },
    {
     "name": "stdout",
     "output_type": "stream",
     "text": [
      "Epoch: 063, Train: 0.9756, Val: 0.9635, Test: 0.9654, Loss: 0.76797\n"
     ]
    },
    {
     "name": "stderr",
     "output_type": "stream",
     "text": [
      "c:\\Users\\rosa-\\anaconda3\\envs\\xaifo\\lib\\site-packages\\deepsnap\\graph.py:2126: UserWarning: __floordiv__ is deprecated, and its behavior will change in a future version of pytorch. It currently rounds toward 0 (like the 'trunc' function NOT 'floor'). This results in incorrect rounding for negative values. To keep the current behavior, use torch.div(a, b, rounding_mode='trunc'), or for actual floor division, use torch.div(a, b, rounding_mode='floor').\n",
      "  row = perm // num_nodes\n"
     ]
    },
    {
     "name": "stdout",
     "output_type": "stream",
     "text": [
      "Epoch: 064, Train: 0.9760, Val: 0.9635, Test: 0.9654, Loss: 0.74972\n"
     ]
    },
    {
     "name": "stderr",
     "output_type": "stream",
     "text": [
      "c:\\Users\\rosa-\\anaconda3\\envs\\xaifo\\lib\\site-packages\\deepsnap\\graph.py:2126: UserWarning: __floordiv__ is deprecated, and its behavior will change in a future version of pytorch. It currently rounds toward 0 (like the 'trunc' function NOT 'floor'). This results in incorrect rounding for negative values. To keep the current behavior, use torch.div(a, b, rounding_mode='trunc'), or for actual floor division, use torch.div(a, b, rounding_mode='floor').\n",
      "  row = perm // num_nodes\n"
     ]
    },
    {
     "name": "stdout",
     "output_type": "stream",
     "text": [
      "Epoch: 065, Train: 0.9757, Val: 0.9636, Test: 0.9655, Loss: 0.75042\n"
     ]
    },
    {
     "name": "stderr",
     "output_type": "stream",
     "text": [
      "c:\\Users\\rosa-\\anaconda3\\envs\\xaifo\\lib\\site-packages\\deepsnap\\graph.py:2126: UserWarning: __floordiv__ is deprecated, and its behavior will change in a future version of pytorch. It currently rounds toward 0 (like the 'trunc' function NOT 'floor'). This results in incorrect rounding for negative values. To keep the current behavior, use torch.div(a, b, rounding_mode='trunc'), or for actual floor division, use torch.div(a, b, rounding_mode='floor').\n",
      "  row = perm // num_nodes\n"
     ]
    },
    {
     "name": "stdout",
     "output_type": "stream",
     "text": [
      "Epoch: 066, Train: 0.9762, Val: 0.9636, Test: 0.9656, Loss: 0.74554\n"
     ]
    },
    {
     "name": "stderr",
     "output_type": "stream",
     "text": [
      "c:\\Users\\rosa-\\anaconda3\\envs\\xaifo\\lib\\site-packages\\deepsnap\\graph.py:2126: UserWarning: __floordiv__ is deprecated, and its behavior will change in a future version of pytorch. It currently rounds toward 0 (like the 'trunc' function NOT 'floor'). This results in incorrect rounding for negative values. To keep the current behavior, use torch.div(a, b, rounding_mode='trunc'), or for actual floor division, use torch.div(a, b, rounding_mode='floor').\n",
      "  row = perm // num_nodes\n"
     ]
    },
    {
     "name": "stdout",
     "output_type": "stream",
     "text": [
      "Epoch: 067, Train: 0.9758, Val: 0.9637, Test: 0.9657, Loss: 0.74314\n"
     ]
    },
    {
     "name": "stderr",
     "output_type": "stream",
     "text": [
      "c:\\Users\\rosa-\\anaconda3\\envs\\xaifo\\lib\\site-packages\\deepsnap\\graph.py:2126: UserWarning: __floordiv__ is deprecated, and its behavior will change in a future version of pytorch. It currently rounds toward 0 (like the 'trunc' function NOT 'floor'). This results in incorrect rounding for negative values. To keep the current behavior, use torch.div(a, b, rounding_mode='trunc'), or for actual floor division, use torch.div(a, b, rounding_mode='floor').\n",
      "  row = perm // num_nodes\n"
     ]
    },
    {
     "name": "stdout",
     "output_type": "stream",
     "text": [
      "Epoch: 068, Train: 0.9763, Val: 0.9637, Test: 0.9658, Loss: 0.72013\n"
     ]
    },
    {
     "name": "stderr",
     "output_type": "stream",
     "text": [
      "c:\\Users\\rosa-\\anaconda3\\envs\\xaifo\\lib\\site-packages\\deepsnap\\graph.py:2126: UserWarning: __floordiv__ is deprecated, and its behavior will change in a future version of pytorch. It currently rounds toward 0 (like the 'trunc' function NOT 'floor'). This results in incorrect rounding for negative values. To keep the current behavior, use torch.div(a, b, rounding_mode='trunc'), or for actual floor division, use torch.div(a, b, rounding_mode='floor').\n",
      "  row = perm // num_nodes\n"
     ]
    },
    {
     "name": "stdout",
     "output_type": "stream",
     "text": [
      "Epoch: 069, Train: 0.9765, Val: 0.9637, Test: 0.9658, Loss: 0.72675\n"
     ]
    },
    {
     "name": "stderr",
     "output_type": "stream",
     "text": [
      "c:\\Users\\rosa-\\anaconda3\\envs\\xaifo\\lib\\site-packages\\deepsnap\\graph.py:2126: UserWarning: __floordiv__ is deprecated, and its behavior will change in a future version of pytorch. It currently rounds toward 0 (like the 'trunc' function NOT 'floor'). This results in incorrect rounding for negative values. To keep the current behavior, use torch.div(a, b, rounding_mode='trunc'), or for actual floor division, use torch.div(a, b, rounding_mode='floor').\n",
      "  row = perm // num_nodes\n"
     ]
    },
    {
     "name": "stdout",
     "output_type": "stream",
     "text": [
      "Epoch: 070, Train: 0.9760, Val: 0.9637, Test: 0.9658, Loss: 0.71904\n"
     ]
    },
    {
     "name": "stderr",
     "output_type": "stream",
     "text": [
      "c:\\Users\\rosa-\\anaconda3\\envs\\xaifo\\lib\\site-packages\\deepsnap\\graph.py:2126: UserWarning: __floordiv__ is deprecated, and its behavior will change in a future version of pytorch. It currently rounds toward 0 (like the 'trunc' function NOT 'floor'). This results in incorrect rounding for negative values. To keep the current behavior, use torch.div(a, b, rounding_mode='trunc'), or for actual floor division, use torch.div(a, b, rounding_mode='floor').\n",
      "  row = perm // num_nodes\n"
     ]
    },
    {
     "name": "stdout",
     "output_type": "stream",
     "text": [
      "Epoch: 071, Train: 0.9765, Val: 0.9637, Test: 0.9658, Loss: 0.70339\n"
     ]
    },
    {
     "name": "stderr",
     "output_type": "stream",
     "text": [
      "c:\\Users\\rosa-\\anaconda3\\envs\\xaifo\\lib\\site-packages\\deepsnap\\graph.py:2126: UserWarning: __floordiv__ is deprecated, and its behavior will change in a future version of pytorch. It currently rounds toward 0 (like the 'trunc' function NOT 'floor'). This results in incorrect rounding for negative values. To keep the current behavior, use torch.div(a, b, rounding_mode='trunc'), or for actual floor division, use torch.div(a, b, rounding_mode='floor').\n",
      "  row = perm // num_nodes\n"
     ]
    },
    {
     "name": "stdout",
     "output_type": "stream",
     "text": [
      "Epoch: 072, Train: 0.9762, Val: 0.9636, Test: 0.9658, Loss: 0.70366\n"
     ]
    },
    {
     "name": "stderr",
     "output_type": "stream",
     "text": [
      "c:\\Users\\rosa-\\anaconda3\\envs\\xaifo\\lib\\site-packages\\deepsnap\\graph.py:2126: UserWarning: __floordiv__ is deprecated, and its behavior will change in a future version of pytorch. It currently rounds toward 0 (like the 'trunc' function NOT 'floor'). This results in incorrect rounding for negative values. To keep the current behavior, use torch.div(a, b, rounding_mode='trunc'), or for actual floor division, use torch.div(a, b, rounding_mode='floor').\n",
      "  row = perm // num_nodes\n"
     ]
    },
    {
     "name": "stdout",
     "output_type": "stream",
     "text": [
      "Epoch: 073, Train: 0.9762, Val: 0.9636, Test: 0.9659, Loss: 0.69826\n"
     ]
    },
    {
     "name": "stderr",
     "output_type": "stream",
     "text": [
      "c:\\Users\\rosa-\\anaconda3\\envs\\xaifo\\lib\\site-packages\\deepsnap\\graph.py:2126: UserWarning: __floordiv__ is deprecated, and its behavior will change in a future version of pytorch. It currently rounds toward 0 (like the 'trunc' function NOT 'floor'). This results in incorrect rounding for negative values. To keep the current behavior, use torch.div(a, b, rounding_mode='trunc'), or for actual floor division, use torch.div(a, b, rounding_mode='floor').\n",
      "  row = perm // num_nodes\n"
     ]
    },
    {
     "name": "stdout",
     "output_type": "stream",
     "text": [
      "Epoch: 074, Train: 0.9761, Val: 0.9636, Test: 0.9658, Loss: 0.69628\n"
     ]
    },
    {
     "name": "stderr",
     "output_type": "stream",
     "text": [
      "c:\\Users\\rosa-\\anaconda3\\envs\\xaifo\\lib\\site-packages\\deepsnap\\graph.py:2126: UserWarning: __floordiv__ is deprecated, and its behavior will change in a future version of pytorch. It currently rounds toward 0 (like the 'trunc' function NOT 'floor'). This results in incorrect rounding for negative values. To keep the current behavior, use torch.div(a, b, rounding_mode='trunc'), or for actual floor division, use torch.div(a, b, rounding_mode='floor').\n",
      "  row = perm // num_nodes\n"
     ]
    },
    {
     "name": "stdout",
     "output_type": "stream",
     "text": [
      "Epoch: 075, Train: 0.9762, Val: 0.9636, Test: 0.9659, Loss: 0.68499\n"
     ]
    },
    {
     "name": "stderr",
     "output_type": "stream",
     "text": [
      "c:\\Users\\rosa-\\anaconda3\\envs\\xaifo\\lib\\site-packages\\deepsnap\\graph.py:2126: UserWarning: __floordiv__ is deprecated, and its behavior will change in a future version of pytorch. It currently rounds toward 0 (like the 'trunc' function NOT 'floor'). This results in incorrect rounding for negative values. To keep the current behavior, use torch.div(a, b, rounding_mode='trunc'), or for actual floor division, use torch.div(a, b, rounding_mode='floor').\n",
      "  row = perm // num_nodes\n"
     ]
    },
    {
     "name": "stdout",
     "output_type": "stream",
     "text": [
      "Epoch: 076, Train: 0.9765, Val: 0.9636, Test: 0.9659, Loss: 0.68158\n"
     ]
    },
    {
     "name": "stderr",
     "output_type": "stream",
     "text": [
      "c:\\Users\\rosa-\\anaconda3\\envs\\xaifo\\lib\\site-packages\\deepsnap\\graph.py:2126: UserWarning: __floordiv__ is deprecated, and its behavior will change in a future version of pytorch. It currently rounds toward 0 (like the 'trunc' function NOT 'floor'). This results in incorrect rounding for negative values. To keep the current behavior, use torch.div(a, b, rounding_mode='trunc'), or for actual floor division, use torch.div(a, b, rounding_mode='floor').\n",
      "  row = perm // num_nodes\n"
     ]
    },
    {
     "name": "stdout",
     "output_type": "stream",
     "text": [
      "Epoch: 077, Train: 0.9766, Val: 0.9637, Test: 0.9660, Loss: 0.66965\n"
     ]
    },
    {
     "name": "stderr",
     "output_type": "stream",
     "text": [
      "c:\\Users\\rosa-\\anaconda3\\envs\\xaifo\\lib\\site-packages\\deepsnap\\graph.py:2126: UserWarning: __floordiv__ is deprecated, and its behavior will change in a future version of pytorch. It currently rounds toward 0 (like the 'trunc' function NOT 'floor'). This results in incorrect rounding for negative values. To keep the current behavior, use torch.div(a, b, rounding_mode='trunc'), or for actual floor division, use torch.div(a, b, rounding_mode='floor').\n",
      "  row = perm // num_nodes\n"
     ]
    },
    {
     "name": "stdout",
     "output_type": "stream",
     "text": [
      "Epoch: 078, Train: 0.9763, Val: 0.9638, Test: 0.9661, Loss: 0.67183\n"
     ]
    },
    {
     "name": "stderr",
     "output_type": "stream",
     "text": [
      "c:\\Users\\rosa-\\anaconda3\\envs\\xaifo\\lib\\site-packages\\deepsnap\\graph.py:2126: UserWarning: __floordiv__ is deprecated, and its behavior will change in a future version of pytorch. It currently rounds toward 0 (like the 'trunc' function NOT 'floor'). This results in incorrect rounding for negative values. To keep the current behavior, use torch.div(a, b, rounding_mode='trunc'), or for actual floor division, use torch.div(a, b, rounding_mode='floor').\n",
      "  row = perm // num_nodes\n"
     ]
    },
    {
     "name": "stdout",
     "output_type": "stream",
     "text": [
      "Epoch: 079, Train: 0.9757, Val: 0.9640, Test: 0.9662, Loss: 0.65612\n"
     ]
    },
    {
     "name": "stderr",
     "output_type": "stream",
     "text": [
      "c:\\Users\\rosa-\\anaconda3\\envs\\xaifo\\lib\\site-packages\\deepsnap\\graph.py:2126: UserWarning: __floordiv__ is deprecated, and its behavior will change in a future version of pytorch. It currently rounds toward 0 (like the 'trunc' function NOT 'floor'). This results in incorrect rounding for negative values. To keep the current behavior, use torch.div(a, b, rounding_mode='trunc'), or for actual floor division, use torch.div(a, b, rounding_mode='floor').\n",
      "  row = perm // num_nodes\n"
     ]
    },
    {
     "name": "stdout",
     "output_type": "stream",
     "text": [
      "Epoch: 080, Train: 0.9769, Val: 0.9641, Test: 0.9664, Loss: 0.65584\n"
     ]
    },
    {
     "name": "stderr",
     "output_type": "stream",
     "text": [
      "c:\\Users\\rosa-\\anaconda3\\envs\\xaifo\\lib\\site-packages\\deepsnap\\graph.py:2126: UserWarning: __floordiv__ is deprecated, and its behavior will change in a future version of pytorch. It currently rounds toward 0 (like the 'trunc' function NOT 'floor'). This results in incorrect rounding for negative values. To keep the current behavior, use torch.div(a, b, rounding_mode='trunc'), or for actual floor division, use torch.div(a, b, rounding_mode='floor').\n",
      "  row = perm // num_nodes\n"
     ]
    },
    {
     "name": "stdout",
     "output_type": "stream",
     "text": [
      "Epoch: 081, Train: 0.9762, Val: 0.9642, Test: 0.9665, Loss: 0.65465\n"
     ]
    },
    {
     "name": "stderr",
     "output_type": "stream",
     "text": [
      "c:\\Users\\rosa-\\anaconda3\\envs\\xaifo\\lib\\site-packages\\deepsnap\\graph.py:2126: UserWarning: __floordiv__ is deprecated, and its behavior will change in a future version of pytorch. It currently rounds toward 0 (like the 'trunc' function NOT 'floor'). This results in incorrect rounding for negative values. To keep the current behavior, use torch.div(a, b, rounding_mode='trunc'), or for actual floor division, use torch.div(a, b, rounding_mode='floor').\n",
      "  row = perm // num_nodes\n"
     ]
    },
    {
     "name": "stdout",
     "output_type": "stream",
     "text": [
      "Epoch: 082, Train: 0.9767, Val: 0.9642, Test: 0.9666, Loss: 0.64178\n"
     ]
    },
    {
     "name": "stderr",
     "output_type": "stream",
     "text": [
      "c:\\Users\\rosa-\\anaconda3\\envs\\xaifo\\lib\\site-packages\\deepsnap\\graph.py:2126: UserWarning: __floordiv__ is deprecated, and its behavior will change in a future version of pytorch. It currently rounds toward 0 (like the 'trunc' function NOT 'floor'). This results in incorrect rounding for negative values. To keep the current behavior, use torch.div(a, b, rounding_mode='trunc'), or for actual floor division, use torch.div(a, b, rounding_mode='floor').\n",
      "  row = perm // num_nodes\n"
     ]
    },
    {
     "name": "stdout",
     "output_type": "stream",
     "text": [
      "Epoch: 083, Train: 0.9763, Val: 0.9644, Test: 0.9669, Loss: 0.64497\n"
     ]
    },
    {
     "name": "stderr",
     "output_type": "stream",
     "text": [
      "c:\\Users\\rosa-\\anaconda3\\envs\\xaifo\\lib\\site-packages\\deepsnap\\graph.py:2126: UserWarning: __floordiv__ is deprecated, and its behavior will change in a future version of pytorch. It currently rounds toward 0 (like the 'trunc' function NOT 'floor'). This results in incorrect rounding for negative values. To keep the current behavior, use torch.div(a, b, rounding_mode='trunc'), or for actual floor division, use torch.div(a, b, rounding_mode='floor').\n",
      "  row = perm // num_nodes\n"
     ]
    },
    {
     "name": "stdout",
     "output_type": "stream",
     "text": [
      "Epoch: 084, Train: 0.9766, Val: 0.9646, Test: 0.9672, Loss: 0.63395\n"
     ]
    },
    {
     "name": "stderr",
     "output_type": "stream",
     "text": [
      "c:\\Users\\rosa-\\anaconda3\\envs\\xaifo\\lib\\site-packages\\deepsnap\\graph.py:2126: UserWarning: __floordiv__ is deprecated, and its behavior will change in a future version of pytorch. It currently rounds toward 0 (like the 'trunc' function NOT 'floor'). This results in incorrect rounding for negative values. To keep the current behavior, use torch.div(a, b, rounding_mode='trunc'), or for actual floor division, use torch.div(a, b, rounding_mode='floor').\n",
      "  row = perm // num_nodes\n"
     ]
    },
    {
     "name": "stdout",
     "output_type": "stream",
     "text": [
      "Epoch: 085, Train: 0.9773, Val: 0.9648, Test: 0.9675, Loss: 0.63423\n"
     ]
    },
    {
     "name": "stderr",
     "output_type": "stream",
     "text": [
      "c:\\Users\\rosa-\\anaconda3\\envs\\xaifo\\lib\\site-packages\\deepsnap\\graph.py:2126: UserWarning: __floordiv__ is deprecated, and its behavior will change in a future version of pytorch. It currently rounds toward 0 (like the 'trunc' function NOT 'floor'). This results in incorrect rounding for negative values. To keep the current behavior, use torch.div(a, b, rounding_mode='trunc'), or for actual floor division, use torch.div(a, b, rounding_mode='floor').\n",
      "  row = perm // num_nodes\n"
     ]
    },
    {
     "name": "stdout",
     "output_type": "stream",
     "text": [
      "Epoch: 086, Train: 0.9774, Val: 0.9650, Test: 0.9677, Loss: 0.63486\n"
     ]
    },
    {
     "name": "stderr",
     "output_type": "stream",
     "text": [
      "c:\\Users\\rosa-\\anaconda3\\envs\\xaifo\\lib\\site-packages\\deepsnap\\graph.py:2126: UserWarning: __floordiv__ is deprecated, and its behavior will change in a future version of pytorch. It currently rounds toward 0 (like the 'trunc' function NOT 'floor'). This results in incorrect rounding for negative values. To keep the current behavior, use torch.div(a, b, rounding_mode='trunc'), or for actual floor division, use torch.div(a, b, rounding_mode='floor').\n",
      "  row = perm // num_nodes\n"
     ]
    },
    {
     "name": "stdout",
     "output_type": "stream",
     "text": [
      "Epoch: 087, Train: 0.9772, Val: 0.9652, Test: 0.9680, Loss: 0.62320\n"
     ]
    },
    {
     "name": "stderr",
     "output_type": "stream",
     "text": [
      "c:\\Users\\rosa-\\anaconda3\\envs\\xaifo\\lib\\site-packages\\deepsnap\\graph.py:2126: UserWarning: __floordiv__ is deprecated, and its behavior will change in a future version of pytorch. It currently rounds toward 0 (like the 'trunc' function NOT 'floor'). This results in incorrect rounding for negative values. To keep the current behavior, use torch.div(a, b, rounding_mode='trunc'), or for actual floor division, use torch.div(a, b, rounding_mode='floor').\n",
      "  row = perm // num_nodes\n"
     ]
    },
    {
     "name": "stdout",
     "output_type": "stream",
     "text": [
      "Epoch: 088, Train: 0.9779, Val: 0.9654, Test: 0.9682, Loss: 0.63243\n"
     ]
    },
    {
     "name": "stderr",
     "output_type": "stream",
     "text": [
      "c:\\Users\\rosa-\\anaconda3\\envs\\xaifo\\lib\\site-packages\\deepsnap\\graph.py:2126: UserWarning: __floordiv__ is deprecated, and its behavior will change in a future version of pytorch. It currently rounds toward 0 (like the 'trunc' function NOT 'floor'). This results in incorrect rounding for negative values. To keep the current behavior, use torch.div(a, b, rounding_mode='trunc'), or for actual floor division, use torch.div(a, b, rounding_mode='floor').\n",
      "  row = perm // num_nodes\n"
     ]
    },
    {
     "name": "stdout",
     "output_type": "stream",
     "text": [
      "Epoch: 089, Train: 0.9776, Val: 0.9656, Test: 0.9684, Loss: 0.62365\n"
     ]
    },
    {
     "name": "stderr",
     "output_type": "stream",
     "text": [
      "c:\\Users\\rosa-\\anaconda3\\envs\\xaifo\\lib\\site-packages\\deepsnap\\graph.py:2126: UserWarning: __floordiv__ is deprecated, and its behavior will change in a future version of pytorch. It currently rounds toward 0 (like the 'trunc' function NOT 'floor'). This results in incorrect rounding for negative values. To keep the current behavior, use torch.div(a, b, rounding_mode='trunc'), or for actual floor division, use torch.div(a, b, rounding_mode='floor').\n",
      "  row = perm // num_nodes\n"
     ]
    },
    {
     "name": "stdout",
     "output_type": "stream",
     "text": [
      "Epoch: 090, Train: 0.9781, Val: 0.9659, Test: 0.9687, Loss: 0.62100\n"
     ]
    },
    {
     "name": "stderr",
     "output_type": "stream",
     "text": [
      "c:\\Users\\rosa-\\anaconda3\\envs\\xaifo\\lib\\site-packages\\deepsnap\\graph.py:2126: UserWarning: __floordiv__ is deprecated, and its behavior will change in a future version of pytorch. It currently rounds toward 0 (like the 'trunc' function NOT 'floor'). This results in incorrect rounding for negative values. To keep the current behavior, use torch.div(a, b, rounding_mode='trunc'), or for actual floor division, use torch.div(a, b, rounding_mode='floor').\n",
      "  row = perm // num_nodes\n"
     ]
    },
    {
     "name": "stdout",
     "output_type": "stream",
     "text": [
      "Epoch: 091, Train: 0.9776, Val: 0.9662, Test: 0.9690, Loss: 0.60749\n"
     ]
    },
    {
     "name": "stderr",
     "output_type": "stream",
     "text": [
      "c:\\Users\\rosa-\\anaconda3\\envs\\xaifo\\lib\\site-packages\\deepsnap\\graph.py:2126: UserWarning: __floordiv__ is deprecated, and its behavior will change in a future version of pytorch. It currently rounds toward 0 (like the 'trunc' function NOT 'floor'). This results in incorrect rounding for negative values. To keep the current behavior, use torch.div(a, b, rounding_mode='trunc'), or for actual floor division, use torch.div(a, b, rounding_mode='floor').\n",
      "  row = perm // num_nodes\n"
     ]
    },
    {
     "name": "stdout",
     "output_type": "stream",
     "text": [
      "Epoch: 092, Train: 0.9782, Val: 0.9664, Test: 0.9692, Loss: 0.61051\n"
     ]
    },
    {
     "name": "stderr",
     "output_type": "stream",
     "text": [
      "c:\\Users\\rosa-\\anaconda3\\envs\\xaifo\\lib\\site-packages\\deepsnap\\graph.py:2126: UserWarning: __floordiv__ is deprecated, and its behavior will change in a future version of pytorch. It currently rounds toward 0 (like the 'trunc' function NOT 'floor'). This results in incorrect rounding for negative values. To keep the current behavior, use torch.div(a, b, rounding_mode='trunc'), or for actual floor division, use torch.div(a, b, rounding_mode='floor').\n",
      "  row = perm // num_nodes\n"
     ]
    },
    {
     "name": "stdout",
     "output_type": "stream",
     "text": [
      "Epoch: 093, Train: 0.9779, Val: 0.9667, Test: 0.9694, Loss: 0.61975\n"
     ]
    },
    {
     "name": "stderr",
     "output_type": "stream",
     "text": [
      "c:\\Users\\rosa-\\anaconda3\\envs\\xaifo\\lib\\site-packages\\deepsnap\\graph.py:2126: UserWarning: __floordiv__ is deprecated, and its behavior will change in a future version of pytorch. It currently rounds toward 0 (like the 'trunc' function NOT 'floor'). This results in incorrect rounding for negative values. To keep the current behavior, use torch.div(a, b, rounding_mode='trunc'), or for actual floor division, use torch.div(a, b, rounding_mode='floor').\n",
      "  row = perm // num_nodes\n"
     ]
    },
    {
     "name": "stdout",
     "output_type": "stream",
     "text": [
      "Epoch: 094, Train: 0.9787, Val: 0.9670, Test: 0.9697, Loss: 0.60149\n"
     ]
    },
    {
     "name": "stderr",
     "output_type": "stream",
     "text": [
      "c:\\Users\\rosa-\\anaconda3\\envs\\xaifo\\lib\\site-packages\\deepsnap\\graph.py:2126: UserWarning: __floordiv__ is deprecated, and its behavior will change in a future version of pytorch. It currently rounds toward 0 (like the 'trunc' function NOT 'floor'). This results in incorrect rounding for negative values. To keep the current behavior, use torch.div(a, b, rounding_mode='trunc'), or for actual floor division, use torch.div(a, b, rounding_mode='floor').\n",
      "  row = perm // num_nodes\n"
     ]
    },
    {
     "name": "stdout",
     "output_type": "stream",
     "text": [
      "Epoch: 095, Train: 0.9784, Val: 0.9672, Test: 0.9699, Loss: 0.60891\n"
     ]
    },
    {
     "name": "stderr",
     "output_type": "stream",
     "text": [
      "c:\\Users\\rosa-\\anaconda3\\envs\\xaifo\\lib\\site-packages\\deepsnap\\graph.py:2126: UserWarning: __floordiv__ is deprecated, and its behavior will change in a future version of pytorch. It currently rounds toward 0 (like the 'trunc' function NOT 'floor'). This results in incorrect rounding for negative values. To keep the current behavior, use torch.div(a, b, rounding_mode='trunc'), or for actual floor division, use torch.div(a, b, rounding_mode='floor').\n",
      "  row = perm // num_nodes\n"
     ]
    },
    {
     "name": "stdout",
     "output_type": "stream",
     "text": [
      "Epoch: 096, Train: 0.9787, Val: 0.9673, Test: 0.9701, Loss: 0.59714\n"
     ]
    },
    {
     "name": "stderr",
     "output_type": "stream",
     "text": [
      "c:\\Users\\rosa-\\anaconda3\\envs\\xaifo\\lib\\site-packages\\deepsnap\\graph.py:2126: UserWarning: __floordiv__ is deprecated, and its behavior will change in a future version of pytorch. It currently rounds toward 0 (like the 'trunc' function NOT 'floor'). This results in incorrect rounding for negative values. To keep the current behavior, use torch.div(a, b, rounding_mode='trunc'), or for actual floor division, use torch.div(a, b, rounding_mode='floor').\n",
      "  row = perm // num_nodes\n"
     ]
    },
    {
     "name": "stdout",
     "output_type": "stream",
     "text": [
      "Epoch: 097, Train: 0.9786, Val: 0.9675, Test: 0.9702, Loss: 0.59116\n"
     ]
    },
    {
     "name": "stderr",
     "output_type": "stream",
     "text": [
      "c:\\Users\\rosa-\\anaconda3\\envs\\xaifo\\lib\\site-packages\\deepsnap\\graph.py:2126: UserWarning: __floordiv__ is deprecated, and its behavior will change in a future version of pytorch. It currently rounds toward 0 (like the 'trunc' function NOT 'floor'). This results in incorrect rounding for negative values. To keep the current behavior, use torch.div(a, b, rounding_mode='trunc'), or for actual floor division, use torch.div(a, b, rounding_mode='floor').\n",
      "  row = perm // num_nodes\n"
     ]
    },
    {
     "name": "stdout",
     "output_type": "stream",
     "text": [
      "Epoch: 098, Train: 0.9783, Val: 0.9677, Test: 0.9705, Loss: 0.59185\n"
     ]
    },
    {
     "name": "stderr",
     "output_type": "stream",
     "text": [
      "c:\\Users\\rosa-\\anaconda3\\envs\\xaifo\\lib\\site-packages\\deepsnap\\graph.py:2126: UserWarning: __floordiv__ is deprecated, and its behavior will change in a future version of pytorch. It currently rounds toward 0 (like the 'trunc' function NOT 'floor'). This results in incorrect rounding for negative values. To keep the current behavior, use torch.div(a, b, rounding_mode='trunc'), or for actual floor division, use torch.div(a, b, rounding_mode='floor').\n",
      "  row = perm // num_nodes\n"
     ]
    },
    {
     "name": "stdout",
     "output_type": "stream",
     "text": [
      "Epoch: 099, Train: 0.9788, Val: 0.9678, Test: 0.9707, Loss: 0.58074\n"
     ]
    },
    {
     "name": "stderr",
     "output_type": "stream",
     "text": [
      "c:\\Users\\rosa-\\anaconda3\\envs\\xaifo\\lib\\site-packages\\deepsnap\\graph.py:2126: UserWarning: __floordiv__ is deprecated, and its behavior will change in a future version of pytorch. It currently rounds toward 0 (like the 'trunc' function NOT 'floor'). This results in incorrect rounding for negative values. To keep the current behavior, use torch.div(a, b, rounding_mode='trunc'), or for actual floor division, use torch.div(a, b, rounding_mode='floor').\n",
      "  row = perm // num_nodes\n"
     ]
    },
    {
     "name": "stdout",
     "output_type": "stream",
     "text": [
      "Train: 0.9787, Val: 0.9678, Test: 0.9707\n"
     ]
    }
   ],
   "source": [
    "best_model, best_x, performance = train(model, dataloaders, optimizer, args)\n",
    "\n",
    "best_train_roc = test(best_model, dataloaders['train'], args)\n",
    "best_val_roc = test(best_model, dataloaders['val'], args)\n",
    "best_test_roc = test(best_model, dataloaders['test'], args)\n",
    "\n",
    "print('Train: {:.4f}, Val: {:.4f}, Test: {:.4f}'.format(best_train_roc, best_val_roc, best_test_roc))"
   ]
  },
  {
   "attachments": {},
   "cell_type": "markdown",
   "metadata": {},
   "source": [
    "Save the model and parameters"
   ]
  },
  {
   "cell_type": "code",
   "execution_count": 16,
   "metadata": {},
   "outputs": [],
   "source": [
    "torch.save(best_model.state_dict(), f'output/best_model_{dataset_nr}.pth')\n",
    "with open(f'output/best_model_{dataset_nr}_args.pkl', 'wb') as f:\n",
    "    pickle.dump(args, f)"
   ]
  },
  {
   "attachments": {},
   "cell_type": "markdown",
   "metadata": {},
   "source": [
    "### Visualize Trained GNN Model Accuracy"
   ]
  },
  {
   "attachments": {},
   "cell_type": "markdown",
   "metadata": {},
   "source": [
    "Plot AUC and loss throughout epochs"
   ]
  },
  {
   "cell_type": "code",
   "execution_count": 17,
   "metadata": {},
   "outputs": [
    {
     "data": {
      "image/png": "[encoded data removed]",
      "text/plain": [
       "<Figure size 1000x700 with 1 Axes>"
      ]
     },
     "metadata": {},
     "output_type": "display_data"
    }
   ],
   "source": [
    "plt.figure(figsize= (10,7))\n",
    "plt.plot(np.log10(performance[0]), label = 'Loss')\n",
    "plt.plot(performance[1], label = 'AUC Train')\n",
    "plt.plot(performance[2], label = 'AUC Validation')\n",
    "plt.plot(performance[3], label = 'AUC Test')\n",
    "plt.legend()\n",
    "plt.ylabel('AUC/Loss')\n",
    "plt.xlabel('Epochs')\n",
    "plt.title(f'Training curve of GNN on dataset {dataset_nr}')\n",
    "plt.show()"
   ]
  },
  {
   "attachments": {},
   "cell_type": "markdown",
   "metadata": {},
   "source": [
    "Plot ROC curve using test set\n",
    "- High TPR and lower FPR indicates that the proportion of correctly classified samples (true positives) is greater than the proportion of incorrectly classified samples (false positives)"
   ]
  },
  {
   "cell_type": "code",
   "execution_count": 18,
   "metadata": {},
   "outputs": [
    {
     "name": "stdout",
     "output_type": "stream",
     "text": [
      "0.9706697108102142\n"
     ]
    },
    {
     "data": {
      "image/png": "[encoded data removed]",
      "text/plain": [
       "<Figure size 700x700 with 1 Axes>"
      ]
     },
     "metadata": {},
     "output_type": "display_data"
    }
   ],
   "source": [
    "for batch in dataloaders['test']:\n",
    "    feat, edge_index, edge_label_index = batch.node_feature, batch.edge_index, batch.edge_label_index\n",
    "    batch.to(args[\"device\"])\n",
    "    pred, x = best_model(feat, edge_index, edge_label_index, training = False)\n",
    "    pred = torch.sigmoid(pred)\n",
    "    score = roc_auc_score(batch.edge_label.flatten().cpu().numpy(), pred.flatten().data.cpu().numpy())\n",
    "    print(score)\n",
    "    \n",
    "fpr, tpr, thresholds = roc_curve(batch.edge_label.flatten().cpu().numpy(), pred.flatten().data.cpu().numpy())\n",
    "plt.figure(figsize = (7, 7))\n",
    "plt.plot(fpr, tpr, marker='.')\n",
    "plt.xlabel('False Positive Rate')   # 1 - specificity\n",
    "plt.ylabel('True Positive Rate')    # sensitivity\n",
    "plt.title(f'ROC curve on test set from dataset {dataset_nr}')\n",
    "plt.show()"
   ]
  },
  {
   "attachments": {},
   "cell_type": "markdown",
   "metadata": {},
   "source": [
    "Calculate F1-score using test set\n",
    "\n",
    "Elements of the F1-score:\n",
    "- Precision represents the proportion of correctly classifying samples as positive (high precision: classifying a sample as positive has a high probability to be correct)\n",
    "- Recall represents the proportion of finding all positives (high recall: all positive samples have been classified as being positive)\n",
    "\n",
    "Maximizing both elements in order to yield a model that identifies all positive samples and only identifies these samples as positives.\n",
    "\n",
    "For the F1-score, the average of precision and recall is calculated, using the harmonic mean method (equal importance):\n",
    "- High F1-score indicates that precision and recall are both high\n",
    "- Medium F1-score indicates that one of the elements is high and the other low\n",
    "- Low F1-score indicates that precision and recall are both low"
   ]
  },
  {
   "cell_type": "code",
   "execution_count": 15,
   "metadata": {},
   "outputs": [
    {
     "name": "stdout",
     "output_type": "stream",
     "text": [
      "F1-Score in the test set of dataset 1: 0.9447065940713854\n",
      "              precision    recall  f1-score   support\n",
      "\n",
      "           0       0.94      0.95      0.95      8291\n",
      "           1       0.95      0.94      0.94      8291\n",
      "\n",
      "    accuracy                           0.94     16582\n",
      "   macro avg       0.94      0.94      0.94     16582\n",
      "weighted avg       0.94      0.94      0.94     16582\n",
      "\n"
     ]
    }
   ],
   "source": [
    "def test_f1(model, dataloader, args, threshold):\n",
    "    model.eval()\n",
    "    score = 0\n",
    "    num_batches = 0\n",
    "    for batch in dataloader:\n",
    "        feat, edge_index, edge_label_index = batch.node_feature, batch.edge_index, batch.edge_label_index\n",
    "        batch.to(args[\"device\"])\n",
    "        pred, x = model(feat, edge_index, edge_label_index, training = False)\n",
    "        pred = torch.sigmoid(pred) > threshold\n",
    "        score += f1_score(batch.edge_label.flatten().cpu().numpy(), pred.flatten().data.cpu().numpy())\n",
    "        num_batches += 1\n",
    "    score /= num_batches \n",
    "    return batch.edge_label.flatten().cpu().numpy(), pred.flatten().data.cpu().numpy(), score\n",
    "\n",
    "true_label, pred_label, best_test_f1 = test_f1(best_model, dataloaders['test'], args, 0.75)\n",
    "print(f'F1-Score in the test set of dataset {dataset_nr}:', best_test_f1)\n",
    "print(classification_report(true_label, pred_label))"
   ]
  },
  {
   "cell_type": "code",
   "execution_count": 16,
   "metadata": {},
   "outputs": [
    {
     "name": "stdout",
     "output_type": "stream",
     "text": [
      "[[63963  2356]\n",
      " [ 2636 63683]]\n"
     ]
    },
    {
     "name": "stderr",
     "output_type": "stream",
     "text": [
      "c:\\Users\\rosa-\\anaconda3\\envs\\xaifo\\lib\\site-packages\\deepsnap\\graph.py:2126: UserWarning: __floordiv__ is deprecated, and its behavior will change in a future version of pytorch. It currently rounds toward 0 (like the 'trunc' function NOT 'floor'). This results in incorrect rounding for negative values. To keep the current behavior, use torch.div(a, b, rounding_mode='trunc'), or for actual floor division, use torch.div(a, b, rounding_mode='floor').\n",
      "  row = perm // num_nodes\n"
     ]
    }
   ],
   "source": [
    "def test_cm(model, dataloader, args, threshold):\n",
    "    model.eval()\n",
    "    for batch in dataloader:\n",
    "        feat, edge_index, edge_label_index = batch.node_feature, batch.edge_index, batch.edge_label_index\n",
    "        batch.to(args[\"device\"])\n",
    "        pred, x = model(feat, edge_index, edge_label_index, training = False)\n",
    "        pred = torch.sigmoid(pred) > threshold\n",
    "        score = confusion_matrix(batch.edge_label.flatten().cpu().numpy(), pred.flatten().data.cpu().numpy())\n",
    "    return score\n",
    "\n",
    "table = test_cm(best_model, dataloaders['train'], args, 0.8)\n",
    "print(table)"
   ]
  },
  {
   "attachments": {},
   "cell_type": "markdown",
   "metadata": {},
   "source": [
    "# Hyperparameter Optimization of Node Embedding and GNN Training"
   ]
  },
  {
   "attachments": {},
   "cell_type": "markdown",
   "metadata": {},
   "source": [
    "The routine including node embedding and GNN training that needs to be optimized is contained in `hyperparam_opt.py`."
   ]
  },
  {
   "attachments": {},
   "cell_type": "markdown",
   "metadata": {},
   "source": [
    "# GNN Predictions"
   ]
  },
  {
   "attachments": {},
   "cell_type": "markdown",
   "metadata": {},
   "source": [
    "Load the Edge2Vec embedding"
   ]
  },
  {
   "cell_type": "code",
   "execution_count": 17,
   "metadata": {},
   "outputs": [
    {
     "data": {
      "text/html": [
       "<div>\n",
       "<style scoped>\n",
       "    .dataframe tbody tr th:only-of-type {\n",
       "        vertical-align: middle;\n",
       "    }\n",
       "\n",
       "    .dataframe tbody tr th {\n",
       "        vertical-align: top;\n",
       "    }\n",
       "\n",
       "    .dataframe thead th {\n",
       "        text-align: right;\n",
       "    }\n",
       "</style>\n",
       "<table border=\"1\" class=\"dataframe\">\n",
       "  <thead>\n",
       "    <tr style=\"text-align: right;\">\n",
       "      <th></th>\n",
       "      <th>Node</th>\n",
       "      <th>Embedding</th>\n",
       "    </tr>\n",
       "  </thead>\n",
       "  <tbody>\n",
       "    <tr>\n",
       "      <th>0</th>\n",
       "      <td>0</td>\n",
       "      <td>[0.09083791, 0.64974296, 0.7782852, 0.25919193...</td>\n",
       "    </tr>\n",
       "    <tr>\n",
       "      <th>1</th>\n",
       "      <td>1</td>\n",
       "      <td>[0.15716696, 0.0034764674, 0.1479481, 0.108134...</td>\n",
       "    </tr>\n",
       "    <tr>\n",
       "      <th>2</th>\n",
       "      <td>2</td>\n",
       "      <td>[0.42515945, -0.617652, 0.805783, 0.35255384, ...</td>\n",
       "    </tr>\n",
       "    <tr>\n",
       "      <th>3</th>\n",
       "      <td>3</td>\n",
       "      <td>[0.2717513, -0.3064278, 0.1124591, 0.38972694,...</td>\n",
       "    </tr>\n",
       "    <tr>\n",
       "      <th>4</th>\n",
       "      <td>4</td>\n",
       "      <td>[0.57811725, -0.17772698, -0.112528116, 0.5507...</td>\n",
       "    </tr>\n",
       "    <tr>\n",
       "      <th>...</th>\n",
       "      <td>...</td>\n",
       "      <td>...</td>\n",
       "    </tr>\n",
       "    <tr>\n",
       "      <th>10029</th>\n",
       "      <td>10029</td>\n",
       "      <td>[0.34240082, -0.38084978, 0.16754319, 0.720097...</td>\n",
       "    </tr>\n",
       "    <tr>\n",
       "      <th>10030</th>\n",
       "      <td>10030</td>\n",
       "      <td>[0.25831556, -0.22565734, 0.29581633, 0.272049...</td>\n",
       "    </tr>\n",
       "    <tr>\n",
       "      <th>10031</th>\n",
       "      <td>10031</td>\n",
       "      <td>[0.44271225, -0.29667243, 0.18890032, 0.576830...</td>\n",
       "    </tr>\n",
       "    <tr>\n",
       "      <th>10032</th>\n",
       "      <td>10032</td>\n",
       "      <td>[0.31620622, -0.07276407, 0.74929845, 0.075423...</td>\n",
       "    </tr>\n",
       "    <tr>\n",
       "      <th>10033</th>\n",
       "      <td>10033</td>\n",
       "      <td>[0.07193001, -0.13132738, 0.05226315, 0.431149...</td>\n",
       "    </tr>\n",
       "  </tbody>\n",
       "</table>\n",
       "<p>10034 rows × 2 columns</p>\n",
       "</div>"
      ],
      "text/plain": [
       "        Node                                          Embedding\n",
       "0          0  [0.09083791, 0.64974296, 0.7782852, 0.25919193...\n",
       "1          1  [0.15716696, 0.0034764674, 0.1479481, 0.108134...\n",
       "2          2  [0.42515945, -0.617652, 0.805783, 0.35255384, ...\n",
       "3          3  [0.2717513, -0.3064278, 0.1124591, 0.38972694,...\n",
       "4          4  [0.57811725, -0.17772698, -0.112528116, 0.5507...\n",
       "...      ...                                                ...\n",
       "10029  10029  [0.34240082, -0.38084978, 0.16754319, 0.720097...\n",
       "10030  10030  [0.25831556, -0.22565734, 0.29581633, 0.272049...\n",
       "10031  10031  [0.44271225, -0.29667243, 0.18890032, 0.576830...\n",
       "10032  10032  [0.31620622, -0.07276407, 0.74929845, 0.075423...\n",
       "10033  10033  [0.07193001, -0.13132738, 0.05226315, 0.431149...\n",
       "\n",
       "[10034 rows x 2 columns]"
      ]
     },
     "execution_count": 17,
     "metadata": {},
     "output_type": "execute_result"
    }
   ],
   "source": [
    "embedding"
   ]
  },
  {
   "attachments": {},
   "cell_type": "markdown",
   "metadata": {},
   "source": [
    "Initialize a graph with nodes and their embedding features."
   ]
  },
  {
   "cell_type": "code",
   "execution_count": 19,
   "metadata": {},
   "outputs": [
    {
     "name": "stdout",
     "output_type": "stream",
     "text": [
      "(0, {'node_feature': tensor([ 0.0908,  0.6497,  0.7783,  0.2592, -0.3890, -0.3893, -0.3067,  0.1439,\n",
      "        -0.6868,  0.2832,  0.0500, -0.2312, -0.4122,  0.1875,  0.2706,  0.8355,\n",
      "         0.0015, -0.3863, -0.5794,  0.8096,  0.2541,  0.9824, -0.3287,  0.4029,\n",
      "         0.0530,  0.7307, -0.5185, -0.0015,  0.6087,  0.1035, -0.0539,  0.6877,\n",
      "        -0.1114, -0.6363,  0.5413,  0.5248,  0.4756,  0.5064,  0.1237,  0.0172,\n",
      "         0.3695,  0.7431,  0.1255, -0.0350,  0.8183, -0.5830,  0.0410, -0.2480,\n",
      "         0.7220, -0.2687,  0.9163,  0.0490,  0.3611, -0.2805,  0.2794,  0.0380,\n",
      "        -0.2670, -0.8113,  0.0804,  0.5752,  0.4569, -0.4111, -0.1957, -0.3623])})\n",
      "(0, 6308, {})\n",
      "Number of edges is 82899\n",
      "Number of nodes is 10034\n"
     ]
    }
   ],
   "source": [
    "for node in embedded_node_G.nodes(data=True):\n",
    "    print(node)\n",
    "    break\n",
    "for edge in embedded_node_G.edges(data=True):\n",
    "    print(edge)\n",
    "    break\n",
    "\n",
    "print(\"Number of edges is {}\".format(embedded_node_G.number_of_edges()))\n",
    "print(\"Number of nodes is {}\".format(embedded_node_G.number_of_nodes()))"
   ]
  },
  {
   "cell_type": "code",
   "execution_count": 20,
   "metadata": {},
   "outputs": [
    {
     "name": "stdout",
     "output_type": "stream",
     "text": [
      "torch.Size([2, 82899])\n"
     ]
    }
   ],
   "source": [
    "DeepG = Graph(embedded_node_G)\n",
    "print(DeepG.edge_index.shape)"
   ]
  },
  {
   "attachments": {},
   "cell_type": "markdown",
   "metadata": {},
   "source": [
    "Load arguments and parameters of trained GNN model."
   ]
  },
  {
   "cell_type": "code",
   "execution_count": 21,
   "metadata": {},
   "outputs": [
    {
     "data": {
      "text/plain": [
       "<All keys matched successfully>"
      ]
     },
     "execution_count": 21,
     "metadata": {},
     "output_type": "execute_result"
    }
   ],
   "source": [
    "with open(f'output/best_model_{dataset_nr}_args.pkl', 'rb') as f:\n",
    "    loaded_args = pickle.load(f)\n",
    "    \n",
    "best_model = LinkPredModel(len(embedding['Embedding'][0]), loaded_args['hidden_dim'], loaded_args['output_dim'], loaded_args['layers'], loaded_args['aggr'], loaded_args['dropout'], loaded_args['device']).to(loaded_args['device'])\n",
    "best_model.load_state_dict(torch.load(f'output/best_model_{dataset_nr}.pth'))"
   ]
  },
  {
   "attachments": {},
   "cell_type": "markdown",
   "metadata": {},
   "source": [
    "Get output of best model given the graph"
   ]
  },
  {
   "cell_type": "code",
   "execution_count": 22,
   "metadata": {},
   "outputs": [
    {
     "name": "stdout",
     "output_type": "stream",
     "text": [
      "torch.Size([10034, 128])\n"
     ]
    }
   ],
   "source": [
    "_, best_x = best_model(DeepG.node_feature, DeepG.edge_index, DeepG.edge_label_index, training = False)\n",
    "print(best_x.shape)"
   ]
  },
  {
   "cell_type": "code",
   "execution_count": 24,
   "metadata": {},
   "outputs": [
    {
     "data": {
      "text/html": [
       "<div>\n",
       "<style scoped>\n",
       "    .dataframe tbody tr th:only-of-type {\n",
       "        vertical-align: middle;\n",
       "    }\n",
       "\n",
       "    .dataframe tbody tr th {\n",
       "        vertical-align: top;\n",
       "    }\n",
       "\n",
       "    .dataframe thead th {\n",
       "        text-align: right;\n",
       "    }\n",
       "</style>\n",
       "<table border=\"1\" class=\"dataframe\">\n",
       "  <thead>\n",
       "    <tr style=\"text-align: right;\">\n",
       "      <th></th>\n",
       "      <th>index_id</th>\n",
       "      <th>id</th>\n",
       "      <th>semantic</th>\n",
       "      <th>label</th>\n",
       "      <th>semantic_id</th>\n",
       "    </tr>\n",
       "  </thead>\n",
       "  <tbody>\n",
       "    <tr>\n",
       "      <th>0</th>\n",
       "      <td>0</td>\n",
       "      <td>WormBase:WBGene00000389</td>\n",
       "      <td>ORTH</td>\n",
       "      <td>cdc-25.4</td>\n",
       "      <td>5</td>\n",
       "    </tr>\n",
       "    <tr>\n",
       "      <th>1</th>\n",
       "      <td>1</td>\n",
       "      <td>ZP:0018675</td>\n",
       "      <td>DISO</td>\n",
       "      <td>right side lateral plate mesoderm mislocalised...</td>\n",
       "      <td>1</td>\n",
       "    </tr>\n",
       "    <tr>\n",
       "      <th>2</th>\n",
       "      <td>2</td>\n",
       "      <td>ZFIN:ZDB-GENE-040426-1197</td>\n",
       "      <td>ORTH</td>\n",
       "      <td>tbc1d5</td>\n",
       "      <td>5</td>\n",
       "    </tr>\n",
       "    <tr>\n",
       "      <th>3</th>\n",
       "      <td>3</td>\n",
       "      <td>5</td>\n",
       "      <td>DRUG</td>\n",
       "      <td>(S)-nicardipine</td>\n",
       "      <td>2</td>\n",
       "    </tr>\n",
       "    <tr>\n",
       "      <th>4</th>\n",
       "      <td>4</td>\n",
       "      <td>RGD:3443</td>\n",
       "      <td>ORTH</td>\n",
       "      <td>Ptk2</td>\n",
       "      <td>5</td>\n",
       "    </tr>\n",
       "    <tr>\n",
       "      <th>...</th>\n",
       "      <td>...</td>\n",
       "      <td>...</td>\n",
       "      <td>...</td>\n",
       "      <td>...</td>\n",
       "      <td>...</td>\n",
       "    </tr>\n",
       "    <tr>\n",
       "      <th>10029</th>\n",
       "      <td>10029</td>\n",
       "      <td>MP:0009763</td>\n",
       "      <td>DISO</td>\n",
       "      <td>increased sensitivity to induced morbidity/mor...</td>\n",
       "      <td>1</td>\n",
       "    </tr>\n",
       "    <tr>\n",
       "      <th>10030</th>\n",
       "      <td>10030</td>\n",
       "      <td>MP:0011057</td>\n",
       "      <td>DISO</td>\n",
       "      <td>absent brain ependyma motile cilia</td>\n",
       "      <td>1</td>\n",
       "    </tr>\n",
       "    <tr>\n",
       "      <th>10031</th>\n",
       "      <td>10031</td>\n",
       "      <td>MP:0001412</td>\n",
       "      <td>DISO</td>\n",
       "      <td>excessive scratching</td>\n",
       "      <td>1</td>\n",
       "    </tr>\n",
       "    <tr>\n",
       "      <th>10032</th>\n",
       "      <td>10032</td>\n",
       "      <td>WBPhenotype:0004023</td>\n",
       "      <td>DISO</td>\n",
       "      <td>frequency of body bend variant</td>\n",
       "      <td>1</td>\n",
       "    </tr>\n",
       "    <tr>\n",
       "      <th>10033</th>\n",
       "      <td>10033</td>\n",
       "      <td>ClinVarVariant:858516</td>\n",
       "      <td>VARI</td>\n",
       "      <td>NM_004006.3(DMD):c.9852G&gt;A (p.Trp3284Ter)</td>\n",
       "      <td>7</td>\n",
       "    </tr>\n",
       "  </tbody>\n",
       "</table>\n",
       "<p>10034 rows × 5 columns</p>\n",
       "</div>"
      ],
      "text/plain": [
       "       index_id                         id semantic  \\\n",
       "0             0    WormBase:WBGene00000389     ORTH   \n",
       "1             1                 ZP:0018675     DISO   \n",
       "2             2  ZFIN:ZDB-GENE-040426-1197     ORTH   \n",
       "3             3                          5     DRUG   \n",
       "4             4                   RGD:3443     ORTH   \n",
       "...         ...                        ...      ...   \n",
       "10029     10029                 MP:0009763     DISO   \n",
       "10030     10030                 MP:0011057     DISO   \n",
       "10031     10031                 MP:0001412     DISO   \n",
       "10032     10032        WBPhenotype:0004023     DISO   \n",
       "10033     10033      ClinVarVariant:858516     VARI   \n",
       "\n",
       "                                                   label  semantic_id  \n",
       "0                                               cdc-25.4            5  \n",
       "1      right side lateral plate mesoderm mislocalised...            1  \n",
       "2                                                 tbc1d5            5  \n",
       "3                                        (S)-nicardipine            2  \n",
       "4                                                   Ptk2            5  \n",
       "...                                                  ...          ...  \n",
       "10029  increased sensitivity to induced morbidity/mor...            1  \n",
       "10030                 absent brain ependyma motile cilia            1  \n",
       "10031                               excessive scratching            1  \n",
       "10032                     frequency of body bend variant            1  \n",
       "10033          NM_004006.3(DMD):c.9852G>A (p.Trp3284Ter)            7  \n",
       "\n",
       "[10034 rows x 5 columns]"
      ]
     },
     "execution_count": 24,
     "metadata": {},
     "output_type": "execute_result"
    }
   ],
   "source": [
    "nodes"
   ]
  },
  {
   "attachments": {},
   "cell_type": "markdown",
   "metadata": {},
   "source": [
    "Define the score function"
   ]
  },
  {
   "cell_type": "code",
   "execution_count": 25,
   "metadata": {},
   "outputs": [],
   "source": [
    "def score(x, id1, id2): \n",
    "    n1 = x[id1]\n",
    "    n2 = x[id2]\n",
    "    score = torch.Tensor([torch.sum(n1 * n2, dim=-1)])\n",
    "    p = torch.sigmoid(score).cpu().detach().numpy()\n",
    "    return p\n",
    "\n",
    "def candidates(nodes, id, x): \n",
    "  ind = nodes[nodes['id'] == id].index.values.astype(int)[0]\n",
    "  predictions = nodes.copy()\n",
    "  scores = []\n",
    "  for i in range(len(x)):  \n",
    "    s = score(x, i, ind)\n",
    "    scores.append(s)\n",
    "  predictions['Score'] = scores\n",
    "  return predictions"
   ]
  },
  {
   "attachments": {},
   "cell_type": "markdown",
   "metadata": {},
   "source": [
    "Calculate the predictions of an edge existing or not between given node ID and each node in the graph contained by semantic group DRUG. Show the top 20 highest probability that an edge exists between a pair of nodes."
   ]
  },
  {
   "cell_type": "code",
   "execution_count": 28,
   "metadata": {},
   "outputs": [
    {
     "data": {
      "text/html": [
       "<div>\n",
       "<style scoped>\n",
       "    .dataframe tbody tr th:only-of-type {\n",
       "        vertical-align: middle;\n",
       "    }\n",
       "\n",
       "    .dataframe tbody tr th {\n",
       "        vertical-align: top;\n",
       "    }\n",
       "\n",
       "    .dataframe thead th {\n",
       "        text-align: right;\n",
       "    }\n",
       "</style>\n",
       "<table border=\"1\" class=\"dataframe\">\n",
       "  <thead>\n",
       "    <tr style=\"text-align: right;\">\n",
       "      <th></th>\n",
       "      <th>id</th>\n",
       "      <th>semantic</th>\n",
       "      <th>label</th>\n",
       "      <th>semantic_id</th>\n",
       "      <th>Score</th>\n",
       "    </tr>\n",
       "  </thead>\n",
       "  <tbody>\n",
       "    <tr>\n",
       "      <th>1772</th>\n",
       "      <td>5252</td>\n",
       "      <td>DRUG</td>\n",
       "      <td>neratinib</td>\n",
       "      <td>2</td>\n",
       "      <td>[0.8860187]</td>\n",
       "    </tr>\n",
       "    <tr>\n",
       "      <th>1408</th>\n",
       "      <td>4187</td>\n",
       "      <td>DRUG</td>\n",
       "      <td>crizotinib</td>\n",
       "      <td>2</td>\n",
       "      <td>[0.8077064]</td>\n",
       "    </tr>\n",
       "    <tr>\n",
       "      <th>1796</th>\n",
       "      <td>5345</td>\n",
       "      <td>DRUG</td>\n",
       "      <td>entrectinib</td>\n",
       "      <td>2</td>\n",
       "      <td>[0.79940796]</td>\n",
       "    </tr>\n",
       "    <tr>\n",
       "      <th>204</th>\n",
       "      <td>606</td>\n",
       "      <td>DRUG</td>\n",
       "      <td>chloropyramine</td>\n",
       "      <td>2</td>\n",
       "      <td>[0.79252887]</td>\n",
       "    </tr>\n",
       "    <tr>\n",
       "      <th>1790</th>\n",
       "      <td>5330</td>\n",
       "      <td>DRUG</td>\n",
       "      <td>selinexor</td>\n",
       "      <td>2</td>\n",
       "      <td>[0.7858968]</td>\n",
       "    </tr>\n",
       "    <tr>\n",
       "      <th>30</th>\n",
       "      <td>73</td>\n",
       "      <td>DRUG</td>\n",
       "      <td>acepromazine</td>\n",
       "      <td>2</td>\n",
       "      <td>[0.7406401]</td>\n",
       "    </tr>\n",
       "    <tr>\n",
       "      <th>1456</th>\n",
       "      <td>4318</td>\n",
       "      <td>DRUG</td>\n",
       "      <td>afatinib</td>\n",
       "      <td>2</td>\n",
       "      <td>[0.72511786]</td>\n",
       "    </tr>\n",
       "    <tr>\n",
       "      <th>208</th>\n",
       "      <td>624</td>\n",
       "      <td>DRUG</td>\n",
       "      <td>chlortetracycline</td>\n",
       "      <td>2</td>\n",
       "      <td>[0.7221485]</td>\n",
       "    </tr>\n",
       "    <tr>\n",
       "      <th>726</th>\n",
       "      <td>2183</td>\n",
       "      <td>DRUG</td>\n",
       "      <td>pipecuronium</td>\n",
       "      <td>2</td>\n",
       "      <td>[0.7137144]</td>\n",
       "    </tr>\n",
       "    <tr>\n",
       "      <th>1444</th>\n",
       "      <td>4301</td>\n",
       "      <td>DRUG</td>\n",
       "      <td>Flutemetamol (18F)</td>\n",
       "      <td>2</td>\n",
       "      <td>[0.711623]</td>\n",
       "    </tr>\n",
       "    <tr>\n",
       "      <th>1710</th>\n",
       "      <td>5067</td>\n",
       "      <td>DRUG</td>\n",
       "      <td>ixazomib</td>\n",
       "      <td>2</td>\n",
       "      <td>[0.7075823]</td>\n",
       "    </tr>\n",
       "    <tr>\n",
       "      <th>289</th>\n",
       "      <td>908</td>\n",
       "      <td>DRUG</td>\n",
       "      <td>dimethyltubocurarinium</td>\n",
       "      <td>2</td>\n",
       "      <td>[0.7018041]</td>\n",
       "    </tr>\n",
       "    <tr>\n",
       "      <th>1562</th>\n",
       "      <td>4633</td>\n",
       "      <td>DRUG</td>\n",
       "      <td>trabectedin</td>\n",
       "      <td>2</td>\n",
       "      <td>[0.6954811]</td>\n",
       "    </tr>\n",
       "    <tr>\n",
       "      <th>1441</th>\n",
       "      <td>4285</td>\n",
       "      <td>DRUG</td>\n",
       "      <td>Florbetapir F-18</td>\n",
       "      <td>2</td>\n",
       "      <td>[0.691477]</td>\n",
       "    </tr>\n",
       "    <tr>\n",
       "      <th>184</th>\n",
       "      <td>522</td>\n",
       "      <td>DRUG</td>\n",
       "      <td>carvedilol</td>\n",
       "      <td>2</td>\n",
       "      <td>[0.68086433]</td>\n",
       "    </tr>\n",
       "    <tr>\n",
       "      <th>1830</th>\n",
       "      <td>5431</td>\n",
       "      <td>DRUG</td>\n",
       "      <td>tirbanibulin</td>\n",
       "      <td>2</td>\n",
       "      <td>[0.6764378]</td>\n",
       "    </tr>\n",
       "    <tr>\n",
       "      <th>1652</th>\n",
       "      <td>4902</td>\n",
       "      <td>DRUG</td>\n",
       "      <td>imidafenacin</td>\n",
       "      <td>2</td>\n",
       "      <td>[0.665445]</td>\n",
       "    </tr>\n",
       "    <tr>\n",
       "      <th>1088</th>\n",
       "      <td>3170</td>\n",
       "      <td>DRUG</td>\n",
       "      <td>eburnamonine</td>\n",
       "      <td>2</td>\n",
       "      <td>[0.6650018]</td>\n",
       "    </tr>\n",
       "    <tr>\n",
       "      <th>1780</th>\n",
       "      <td>5297</td>\n",
       "      <td>DRUG</td>\n",
       "      <td>dacomitinib</td>\n",
       "      <td>2</td>\n",
       "      <td>[0.65913326]</td>\n",
       "    </tr>\n",
       "    <tr>\n",
       "      <th>675</th>\n",
       "      <td>2052</td>\n",
       "      <td>DRUG</td>\n",
       "      <td>pancuronium</td>\n",
       "      <td>2</td>\n",
       "      <td>[0.6581321]</td>\n",
       "    </tr>\n",
       "  </tbody>\n",
       "</table>\n",
       "</div>"
      ],
      "text/plain": [
       "        id semantic                   label  semantic_id         Score\n",
       "1772  5252     DRUG               neratinib            2   [0.8860187]\n",
       "1408  4187     DRUG              crizotinib            2   [0.8077064]\n",
       "1796  5345     DRUG             entrectinib            2  [0.79940796]\n",
       "204    606     DRUG          chloropyramine            2  [0.79252887]\n",
       "1790  5330     DRUG               selinexor            2   [0.7858968]\n",
       "30      73     DRUG            acepromazine            2   [0.7406401]\n",
       "1456  4318     DRUG                afatinib            2  [0.72511786]\n",
       "208    624     DRUG       chlortetracycline            2   [0.7221485]\n",
       "726   2183     DRUG            pipecuronium            2   [0.7137144]\n",
       "1444  4301     DRUG      Flutemetamol (18F)            2    [0.711623]\n",
       "1710  5067     DRUG                ixazomib            2   [0.7075823]\n",
       "289    908     DRUG  dimethyltubocurarinium            2   [0.7018041]\n",
       "1562  4633     DRUG             trabectedin            2   [0.6954811]\n",
       "1441  4285     DRUG        Florbetapir F-18            2    [0.691477]\n",
       "184    522     DRUG              carvedilol            2  [0.68086433]\n",
       "1830  5431     DRUG            tirbanibulin            2   [0.6764378]\n",
       "1652  4902     DRUG            imidafenacin            2    [0.665445]\n",
       "1088  3170     DRUG            eburnamonine            2   [0.6650018]\n",
       "1780  5297     DRUG             dacomitinib            2  [0.65913326]\n",
       "675   2052     DRUG             pancuronium            2   [0.6581321]"
      ]
     },
     "execution_count": 28,
     "metadata": {},
     "output_type": "execute_result"
    }
   ],
   "source": [
    "if dataset_nr == 1:\n",
    "    drug_semantic = 'DRUG'\n",
    "else:\n",
    "    drug_semantic = 'drug'\n",
    "\n",
    "predictions = candidates(nodes, 'HP:0001265', best_x)\n",
    "predictions[predictions['semantic'] == drug_semantic].sort_values(by = ['Score'], ascending = False).head(20)"
   ]
  },
  {
   "attachments": {},
   "cell_type": "markdown",
   "metadata": {},
   "source": [
    "Use the node semantics dictionary"
   ]
  },
  {
   "cell_type": "code",
   "execution_count": 29,
   "metadata": {},
   "outputs": [
    {
     "data": {
      "text/plain": [
       "{5: 'ORTH',\n",
       " 1: 'DISO',\n",
       " 2: 'DRUG',\n",
       " 4: 'GENO',\n",
       " 7: 'VARI',\n",
       " 3: 'GENE',\n",
       " 0: 'ANAT',\n",
       " 6: 'PHYS'}"
      ]
     },
     "execution_count": 29,
     "metadata": {},
     "output_type": "execute_result"
    }
   ],
   "source": [
    "node_semantics = nodes[['semantic', 'semantic_id']].drop_duplicates().set_index('semantic_id').to_dict()\n",
    "node_semantics_dict = node_semantics['semantic']\n",
    "node_semantics_dict"
   ]
  },
  {
   "attachments": {},
   "cell_type": "markdown",
   "metadata": {},
   "source": [
    "Get all phenotypes and diseases relevant to the disease."
   ]
  },
  {
   "cell_type": "code",
   "execution_count": 31,
   "metadata": {},
   "outputs": [
    {
     "name": "stdout",
     "output_type": "stream",
     "text": [
      "A total of 27 symptoms found that are associated with MONDO:0010679\n"
     ]
    },
    {
     "data": {
      "text/html": [
       "<div>\n",
       "<style scoped>\n",
       "    .dataframe tbody tr th:only-of-type {\n",
       "        vertical-align: middle;\n",
       "    }\n",
       "\n",
       "    .dataframe tbody tr th {\n",
       "        vertical-align: top;\n",
       "    }\n",
       "\n",
       "    .dataframe thead th {\n",
       "        text-align: right;\n",
       "    }\n",
       "</style>\n",
       "<table border=\"1\" class=\"dataframe\">\n",
       "  <thead>\n",
       "    <tr style=\"text-align: right;\">\n",
       "      <th></th>\n",
       "      <th>head</th>\n",
       "      <th>label_head</th>\n",
       "      <th>class_head</th>\n",
       "      <th>index_head</th>\n",
       "      <th>relation</th>\n",
       "      <th>tail</th>\n",
       "      <th>label_tail</th>\n",
       "      <th>class_tail</th>\n",
       "      <th>index_tail</th>\n",
       "      <th>type</th>\n",
       "    </tr>\n",
       "  </thead>\n",
       "  <tbody>\n",
       "    <tr>\n",
       "      <th>37667</th>\n",
       "      <td>MONDO:0010679</td>\n",
       "      <td>Duchenne muscular dystrophy</td>\n",
       "      <td>1</td>\n",
       "      <td>6315</td>\n",
       "      <td>has phenotype</td>\n",
       "      <td>HP:0011675</td>\n",
       "      <td>Arrhythmia</td>\n",
       "      <td>1</td>\n",
       "      <td>9512</td>\n",
       "      <td>4</td>\n",
       "    </tr>\n",
       "    <tr>\n",
       "      <th>37668</th>\n",
       "      <td>MONDO:0010679</td>\n",
       "      <td>Duchenne muscular dystrophy</td>\n",
       "      <td>1</td>\n",
       "      <td>6315</td>\n",
       "      <td>has phenotype</td>\n",
       "      <td>HP:0002515</td>\n",
       "      <td>Waddling gait</td>\n",
       "      <td>1</td>\n",
       "      <td>552</td>\n",
       "      <td>4</td>\n",
       "    </tr>\n",
       "    <tr>\n",
       "      <th>37670</th>\n",
       "      <td>MONDO:0010679</td>\n",
       "      <td>Duchenne muscular dystrophy</td>\n",
       "      <td>1</td>\n",
       "      <td>6315</td>\n",
       "      <td>has phenotype</td>\n",
       "      <td>HP:0003236</td>\n",
       "      <td>Elevated serum creatine kinase</td>\n",
       "      <td>1</td>\n",
       "      <td>1990</td>\n",
       "      <td>4</td>\n",
       "    </tr>\n",
       "    <tr>\n",
       "      <th>37671</th>\n",
       "      <td>MONDO:0010679</td>\n",
       "      <td>Duchenne muscular dystrophy</td>\n",
       "      <td>1</td>\n",
       "      <td>6315</td>\n",
       "      <td>has phenotype</td>\n",
       "      <td>HP:0002093</td>\n",
       "      <td>Respiratory insufficiency</td>\n",
       "      <td>1</td>\n",
       "      <td>4440</td>\n",
       "      <td>4</td>\n",
       "    </tr>\n",
       "    <tr>\n",
       "      <th>37672</th>\n",
       "      <td>MONDO:0010679</td>\n",
       "      <td>Duchenne muscular dystrophy</td>\n",
       "      <td>1</td>\n",
       "      <td>6315</td>\n",
       "      <td>has phenotype</td>\n",
       "      <td>HP:0003707</td>\n",
       "      <td>Calf muscle pseudohypertrophy</td>\n",
       "      <td>1</td>\n",
       "      <td>357</td>\n",
       "      <td>4</td>\n",
       "    </tr>\n",
       "    <tr>\n",
       "      <th>37673</th>\n",
       "      <td>MONDO:0010679</td>\n",
       "      <td>Duchenne muscular dystrophy</td>\n",
       "      <td>1</td>\n",
       "      <td>6315</td>\n",
       "      <td>has phenotype</td>\n",
       "      <td>HP:0001256</td>\n",
       "      <td>Intellectual disability, mild</td>\n",
       "      <td>1</td>\n",
       "      <td>4247</td>\n",
       "      <td>4</td>\n",
       "    </tr>\n",
       "    <tr>\n",
       "      <th>37674</th>\n",
       "      <td>MONDO:0010679</td>\n",
       "      <td>Duchenne muscular dystrophy</td>\n",
       "      <td>1</td>\n",
       "      <td>6315</td>\n",
       "      <td>has phenotype</td>\n",
       "      <td>HP:0003701</td>\n",
       "      <td>Proximal muscle weakness</td>\n",
       "      <td>1</td>\n",
       "      <td>5299</td>\n",
       "      <td>4</td>\n",
       "    </tr>\n",
       "    <tr>\n",
       "      <th>37675</th>\n",
       "      <td>MONDO:0010679</td>\n",
       "      <td>Duchenne muscular dystrophy</td>\n",
       "      <td>1</td>\n",
       "      <td>6315</td>\n",
       "      <td>has phenotype</td>\n",
       "      <td>HP:0003202</td>\n",
       "      <td>Skeletal muscle atrophy</td>\n",
       "      <td>1</td>\n",
       "      <td>4453</td>\n",
       "      <td>4</td>\n",
       "    </tr>\n",
       "    <tr>\n",
       "      <th>37676</th>\n",
       "      <td>MONDO:0010679</td>\n",
       "      <td>Duchenne muscular dystrophy</td>\n",
       "      <td>1</td>\n",
       "      <td>6315</td>\n",
       "      <td>has phenotype</td>\n",
       "      <td>HP:0003560</td>\n",
       "      <td>Muscular dystrophy</td>\n",
       "      <td>1</td>\n",
       "      <td>2788</td>\n",
       "      <td>4</td>\n",
       "    </tr>\n",
       "    <tr>\n",
       "      <th>37677</th>\n",
       "      <td>MONDO:0010679</td>\n",
       "      <td>Duchenne muscular dystrophy</td>\n",
       "      <td>1</td>\n",
       "      <td>6315</td>\n",
       "      <td>has phenotype</td>\n",
       "      <td>HP:0003391</td>\n",
       "      <td>Gowers sign</td>\n",
       "      <td>1</td>\n",
       "      <td>3055</td>\n",
       "      <td>4</td>\n",
       "    </tr>\n",
       "    <tr>\n",
       "      <th>37678</th>\n",
       "      <td>MONDO:0010679</td>\n",
       "      <td>Duchenne muscular dystrophy</td>\n",
       "      <td>1</td>\n",
       "      <td>6315</td>\n",
       "      <td>has phenotype</td>\n",
       "      <td>HP:0001635</td>\n",
       "      <td>Congestive heart failure</td>\n",
       "      <td>1</td>\n",
       "      <td>8053</td>\n",
       "      <td>4</td>\n",
       "    </tr>\n",
       "    <tr>\n",
       "      <th>37679</th>\n",
       "      <td>MONDO:0010679</td>\n",
       "      <td>Duchenne muscular dystrophy</td>\n",
       "      <td>1</td>\n",
       "      <td>6315</td>\n",
       "      <td>has phenotype</td>\n",
       "      <td>HP:0001328</td>\n",
       "      <td>Specific learning disability</td>\n",
       "      <td>1</td>\n",
       "      <td>6142</td>\n",
       "      <td>4</td>\n",
       "    </tr>\n",
       "    <tr>\n",
       "      <th>37680</th>\n",
       "      <td>MONDO:0010679</td>\n",
       "      <td>Duchenne muscular dystrophy</td>\n",
       "      <td>1</td>\n",
       "      <td>6315</td>\n",
       "      <td>has phenotype</td>\n",
       "      <td>HP:0003323</td>\n",
       "      <td>Progressive muscle weakness</td>\n",
       "      <td>1</td>\n",
       "      <td>616</td>\n",
       "      <td>4</td>\n",
       "    </tr>\n",
       "    <tr>\n",
       "      <th>37682</th>\n",
       "      <td>MONDO:0010679</td>\n",
       "      <td>Duchenne muscular dystrophy</td>\n",
       "      <td>1</td>\n",
       "      <td>6315</td>\n",
       "      <td>has phenotype</td>\n",
       "      <td>HP:0001371</td>\n",
       "      <td>Flexion contracture</td>\n",
       "      <td>1</td>\n",
       "      <td>4563</td>\n",
       "      <td>4</td>\n",
       "    </tr>\n",
       "    <tr>\n",
       "      <th>37683</th>\n",
       "      <td>MONDO:0010679</td>\n",
       "      <td>Duchenne muscular dystrophy</td>\n",
       "      <td>1</td>\n",
       "      <td>6315</td>\n",
       "      <td>has phenotype</td>\n",
       "      <td>HP:0002650</td>\n",
       "      <td>Scoliosis</td>\n",
       "      <td>1</td>\n",
       "      <td>4273</td>\n",
       "      <td>4</td>\n",
       "    </tr>\n",
       "    <tr>\n",
       "      <th>37684</th>\n",
       "      <td>MONDO:0010679</td>\n",
       "      <td>Duchenne muscular dystrophy</td>\n",
       "      <td>1</td>\n",
       "      <td>6315</td>\n",
       "      <td>has phenotype</td>\n",
       "      <td>HP:0003115</td>\n",
       "      <td>Abnormal EKG</td>\n",
       "      <td>1</td>\n",
       "      <td>2517</td>\n",
       "      <td>4</td>\n",
       "    </tr>\n",
       "    <tr>\n",
       "      <th>37685</th>\n",
       "      <td>MONDO:0010679</td>\n",
       "      <td>Duchenne muscular dystrophy</td>\n",
       "      <td>1</td>\n",
       "      <td>6315</td>\n",
       "      <td>has phenotype</td>\n",
       "      <td>HP:0001263</td>\n",
       "      <td>Global developmental delay</td>\n",
       "      <td>1</td>\n",
       "      <td>7687</td>\n",
       "      <td>4</td>\n",
       "    </tr>\n",
       "    <tr>\n",
       "      <th>37686</th>\n",
       "      <td>MONDO:0010679</td>\n",
       "      <td>Duchenne muscular dystrophy</td>\n",
       "      <td>1</td>\n",
       "      <td>6315</td>\n",
       "      <td>has phenotype</td>\n",
       "      <td>HP:0008981</td>\n",
       "      <td>Calf muscle hypertrophy</td>\n",
       "      <td>1</td>\n",
       "      <td>5376</td>\n",
       "      <td>4</td>\n",
       "    </tr>\n",
       "    <tr>\n",
       "      <th>37687</th>\n",
       "      <td>MONDO:0010679</td>\n",
       "      <td>Duchenne muscular dystrophy</td>\n",
       "      <td>1</td>\n",
       "      <td>6315</td>\n",
       "      <td>has phenotype</td>\n",
       "      <td>HP:0001638</td>\n",
       "      <td>Cardiomyopathy</td>\n",
       "      <td>1</td>\n",
       "      <td>1379</td>\n",
       "      <td>4</td>\n",
       "    </tr>\n",
       "    <tr>\n",
       "      <th>37688</th>\n",
       "      <td>MONDO:0010679</td>\n",
       "      <td>Duchenne muscular dystrophy</td>\n",
       "      <td>1</td>\n",
       "      <td>6315</td>\n",
       "      <td>has phenotype</td>\n",
       "      <td>HP:0003307</td>\n",
       "      <td>Hyperlordosis</td>\n",
       "      <td>1</td>\n",
       "      <td>9142</td>\n",
       "      <td>4</td>\n",
       "    </tr>\n",
       "    <tr>\n",
       "      <th>37689</th>\n",
       "      <td>MONDO:0010679</td>\n",
       "      <td>Duchenne muscular dystrophy</td>\n",
       "      <td>1</td>\n",
       "      <td>6315</td>\n",
       "      <td>has phenotype</td>\n",
       "      <td>HP:0000750</td>\n",
       "      <td>Delayed speech and language development</td>\n",
       "      <td>1</td>\n",
       "      <td>6575</td>\n",
       "      <td>4</td>\n",
       "    </tr>\n",
       "    <tr>\n",
       "      <th>37690</th>\n",
       "      <td>MONDO:0010679</td>\n",
       "      <td>Duchenne muscular dystrophy</td>\n",
       "      <td>1</td>\n",
       "      <td>6315</td>\n",
       "      <td>has phenotype</td>\n",
       "      <td>HP:0001265</td>\n",
       "      <td>Hyporeflexia</td>\n",
       "      <td>1</td>\n",
       "      <td>9965</td>\n",
       "      <td>4</td>\n",
       "    </tr>\n",
       "    <tr>\n",
       "      <th>37691</th>\n",
       "      <td>MONDO:0010679</td>\n",
       "      <td>Duchenne muscular dystrophy</td>\n",
       "      <td>1</td>\n",
       "      <td>6315</td>\n",
       "      <td>has phenotype</td>\n",
       "      <td>HP:0001644</td>\n",
       "      <td>Dilated cardiomyopathy</td>\n",
       "      <td>1</td>\n",
       "      <td>3067</td>\n",
       "      <td>4</td>\n",
       "    </tr>\n",
       "    <tr>\n",
       "      <th>37692</th>\n",
       "      <td>MONDO:0010679</td>\n",
       "      <td>Duchenne muscular dystrophy</td>\n",
       "      <td>1</td>\n",
       "      <td>6315</td>\n",
       "      <td>has phenotype</td>\n",
       "      <td>HP:0001270</td>\n",
       "      <td>Motor delay</td>\n",
       "      <td>1</td>\n",
       "      <td>1333</td>\n",
       "      <td>4</td>\n",
       "    </tr>\n",
       "    <tr>\n",
       "      <th>37693</th>\n",
       "      <td>MONDO:0010679</td>\n",
       "      <td>Duchenne muscular dystrophy</td>\n",
       "      <td>1</td>\n",
       "      <td>6315</td>\n",
       "      <td>has phenotype</td>\n",
       "      <td>HP:0001290</td>\n",
       "      <td>Generalized hypotonia</td>\n",
       "      <td>1</td>\n",
       "      <td>5347</td>\n",
       "      <td>4</td>\n",
       "    </tr>\n",
       "    <tr>\n",
       "      <th>37694</th>\n",
       "      <td>MONDO:0010679</td>\n",
       "      <td>Duchenne muscular dystrophy</td>\n",
       "      <td>1</td>\n",
       "      <td>6315</td>\n",
       "      <td>has phenotype</td>\n",
       "      <td>HP:0100543</td>\n",
       "      <td>Cognitive impairment</td>\n",
       "      <td>1</td>\n",
       "      <td>9833</td>\n",
       "      <td>4</td>\n",
       "    </tr>\n",
       "    <tr>\n",
       "      <th>37695</th>\n",
       "      <td>MONDO:0010679</td>\n",
       "      <td>Duchenne muscular dystrophy</td>\n",
       "      <td>1</td>\n",
       "      <td>6315</td>\n",
       "      <td>has phenotype</td>\n",
       "      <td>HP:0002791</td>\n",
       "      <td>Hypoventilation</td>\n",
       "      <td>1</td>\n",
       "      <td>1270</td>\n",
       "      <td>4</td>\n",
       "    </tr>\n",
       "  </tbody>\n",
       "</table>\n",
       "</div>"
      ],
      "text/plain": [
       "                head                   label_head  class_head  index_head  \\\n",
       "37667  MONDO:0010679  Duchenne muscular dystrophy           1        6315   \n",
       "37668  MONDO:0010679  Duchenne muscular dystrophy           1        6315   \n",
       "37670  MONDO:0010679  Duchenne muscular dystrophy           1        6315   \n",
       "37671  MONDO:0010679  Duchenne muscular dystrophy           1        6315   \n",
       "37672  MONDO:0010679  Duchenne muscular dystrophy           1        6315   \n",
       "37673  MONDO:0010679  Duchenne muscular dystrophy           1        6315   \n",
       "37674  MONDO:0010679  Duchenne muscular dystrophy           1        6315   \n",
       "37675  MONDO:0010679  Duchenne muscular dystrophy           1        6315   \n",
       "37676  MONDO:0010679  Duchenne muscular dystrophy           1        6315   \n",
       "37677  MONDO:0010679  Duchenne muscular dystrophy           1        6315   \n",
       "37678  MONDO:0010679  Duchenne muscular dystrophy           1        6315   \n",
       "37679  MONDO:0010679  Duchenne muscular dystrophy           1        6315   \n",
       "37680  MONDO:0010679  Duchenne muscular dystrophy           1        6315   \n",
       "37682  MONDO:0010679  Duchenne muscular dystrophy           1        6315   \n",
       "37683  MONDO:0010679  Duchenne muscular dystrophy           1        6315   \n",
       "37684  MONDO:0010679  Duchenne muscular dystrophy           1        6315   \n",
       "37685  MONDO:0010679  Duchenne muscular dystrophy           1        6315   \n",
       "37686  MONDO:0010679  Duchenne muscular dystrophy           1        6315   \n",
       "37687  MONDO:0010679  Duchenne muscular dystrophy           1        6315   \n",
       "37688  MONDO:0010679  Duchenne muscular dystrophy           1        6315   \n",
       "37689  MONDO:0010679  Duchenne muscular dystrophy           1        6315   \n",
       "37690  MONDO:0010679  Duchenne muscular dystrophy           1        6315   \n",
       "37691  MONDO:0010679  Duchenne muscular dystrophy           1        6315   \n",
       "37692  MONDO:0010679  Duchenne muscular dystrophy           1        6315   \n",
       "37693  MONDO:0010679  Duchenne muscular dystrophy           1        6315   \n",
       "37694  MONDO:0010679  Duchenne muscular dystrophy           1        6315   \n",
       "37695  MONDO:0010679  Duchenne muscular dystrophy           1        6315   \n",
       "\n",
       "            relation        tail                               label_tail  \\\n",
       "37667  has phenotype  HP:0011675                               Arrhythmia   \n",
       "37668  has phenotype  HP:0002515                            Waddling gait   \n",
       "37670  has phenotype  HP:0003236           Elevated serum creatine kinase   \n",
       "37671  has phenotype  HP:0002093                Respiratory insufficiency   \n",
       "37672  has phenotype  HP:0003707            Calf muscle pseudohypertrophy   \n",
       "37673  has phenotype  HP:0001256            Intellectual disability, mild   \n",
       "37674  has phenotype  HP:0003701                 Proximal muscle weakness   \n",
       "37675  has phenotype  HP:0003202                  Skeletal muscle atrophy   \n",
       "37676  has phenotype  HP:0003560                       Muscular dystrophy   \n",
       "37677  has phenotype  HP:0003391                              Gowers sign   \n",
       "37678  has phenotype  HP:0001635                 Congestive heart failure   \n",
       "37679  has phenotype  HP:0001328             Specific learning disability   \n",
       "37680  has phenotype  HP:0003323              Progressive muscle weakness   \n",
       "37682  has phenotype  HP:0001371                      Flexion contracture   \n",
       "37683  has phenotype  HP:0002650                                Scoliosis   \n",
       "37684  has phenotype  HP:0003115                             Abnormal EKG   \n",
       "37685  has phenotype  HP:0001263               Global developmental delay   \n",
       "37686  has phenotype  HP:0008981                  Calf muscle hypertrophy   \n",
       "37687  has phenotype  HP:0001638                           Cardiomyopathy   \n",
       "37688  has phenotype  HP:0003307                            Hyperlordosis   \n",
       "37689  has phenotype  HP:0000750  Delayed speech and language development   \n",
       "37690  has phenotype  HP:0001265                             Hyporeflexia   \n",
       "37691  has phenotype  HP:0001644                   Dilated cardiomyopathy   \n",
       "37692  has phenotype  HP:0001270                              Motor delay   \n",
       "37693  has phenotype  HP:0001290                    Generalized hypotonia   \n",
       "37694  has phenotype  HP:0100543                     Cognitive impairment   \n",
       "37695  has phenotype  HP:0002791                          Hypoventilation   \n",
       "\n",
       "       class_tail  index_tail  type  \n",
       "37667           1        9512     4  \n",
       "37668           1         552     4  \n",
       "37670           1        1990     4  \n",
       "37671           1        4440     4  \n",
       "37672           1         357     4  \n",
       "37673           1        4247     4  \n",
       "37674           1        5299     4  \n",
       "37675           1        4453     4  \n",
       "37676           1        2788     4  \n",
       "37677           1        3055     4  \n",
       "37678           1        8053     4  \n",
       "37679           1        6142     4  \n",
       "37680           1         616     4  \n",
       "37682           1        4563     4  \n",
       "37683           1        4273     4  \n",
       "37684           1        2517     4  \n",
       "37685           1        7687     4  \n",
       "37686           1        5376     4  \n",
       "37687           1        1379     4  \n",
       "37688           1        9142     4  \n",
       "37689           1        6575     4  \n",
       "37690           1        9965     4  \n",
       "37691           1        3067     4  \n",
       "37692           1        1333     4  \n",
       "37693           1        5347     4  \n",
       "37694           1        9833     4  \n",
       "37695           1        1270     4  "
      ]
     },
     "execution_count": 31,
     "metadata": {},
     "output_type": "execute_result"
    }
   ],
   "source": [
    "if dataset_nr == 1:\n",
    "    pheno_rel = 'has phenotype'\n",
    "else:\n",
    "    pheno_rel = 'associated with phenotype'\n",
    "\n",
    "disease_ID = 'MONDO:0010679'\n",
    "relation_index = list(relation_labels).index(pheno_rel)\n",
    "\n",
    "symptoms = edges[(edges['head'] == 'MONDO:0010679') & (edges['type'] == relation_index)]\n",
    "\n",
    "print(f'A total of {symptoms.shape[0]} symptoms found that are associated with {disease_ID}')\n",
    "symptoms.head(symptoms.shape[0])"
   ]
  },
  {
   "attachments": {},
   "cell_type": "markdown",
   "metadata": {},
   "source": [
    "Check alignment between dataframes containing the associations and the nodes"
   ]
  },
  {
   "cell_type": "code",
   "execution_count": 32,
   "metadata": {},
   "outputs": [
    {
     "data": {
      "text/html": [
       "<div>\n",
       "<style scoped>\n",
       "    .dataframe tbody tr th:only-of-type {\n",
       "        vertical-align: middle;\n",
       "    }\n",
       "\n",
       "    .dataframe tbody tr th {\n",
       "        vertical-align: top;\n",
       "    }\n",
       "\n",
       "    .dataframe thead th {\n",
       "        text-align: right;\n",
       "    }\n",
       "</style>\n",
       "<table border=\"1\" class=\"dataframe\">\n",
       "  <thead>\n",
       "    <tr style=\"text-align: right;\">\n",
       "      <th></th>\n",
       "      <th>id</th>\n",
       "      <th>semantic</th>\n",
       "      <th>label</th>\n",
       "      <th>semantic_id</th>\n",
       "    </tr>\n",
       "  </thead>\n",
       "  <tbody>\n",
       "    <tr>\n",
       "      <th>6315</th>\n",
       "      <td>MONDO:0010679</td>\n",
       "      <td>DISO</td>\n",
       "      <td>Duchenne muscular dystrophy</td>\n",
       "      <td>1</td>\n",
       "    </tr>\n",
       "  </tbody>\n",
       "</table>\n",
       "</div>"
      ],
      "text/plain": [
       "                 id semantic                        label  semantic_id\n",
       "6315  MONDO:0010679     DISO  Duchenne muscular dystrophy            1"
      ]
     },
     "execution_count": 32,
     "metadata": {},
     "output_type": "execute_result"
    }
   ],
   "source": [
    "nodes.loc[[6315]]"
   ]
  },
  {
   "cell_type": "markdown",
   "metadata": {},
   "source": [
    "Get list of drugs that appear at least once in the top 3 of suggested drugs for an associated phenotype"
   ]
  },
  {
   "cell_type": "code",
   "execution_count": 33,
   "metadata": {},
   "outputs": [],
   "source": [
    "def add_drug_candidate(candidates, drug_name):\n",
    "    if drug_name in candidates:\n",
    "        candidates[drug_name] += 1\n",
    "    else:\n",
    "        candidates[drug_name] = 1\n",
    "        \n",
    "    return candidates\n",
    "\n",
    "drug_candidates = {}\n",
    "symptom_drugs = {}\n",
    "\n",
    "for ind, symptom in symptoms.iterrows(): \n",
    "    symptom_id = symptom['tail']\n",
    "    symptom_drugs[symptom_id] = []\n",
    "    \n",
    "    predictions = candidates(nodes, symptom_id, best_x)\n",
    "    ordered_predictions = predictions[predictions['semantic'] == drug_semantic].sort_values(by = ['Score'], ascending = False).head(3)\n",
    "    \n",
    "    for ind, drug in ordered_predictions.iterrows():\n",
    "        symptom_drugs[symptom_id].append(drug['id'])\n",
    "        drug_candidates = add_drug_candidate(drug_candidates, drug['label'])"
   ]
  },
  {
   "cell_type": "markdown",
   "metadata": {},
   "source": [
    "Get list of drug candidate ids per relevant symptom id."
   ]
  },
  {
   "cell_type": "code",
   "execution_count": 34,
   "metadata": {},
   "outputs": [
    {
     "data": {
      "text/html": [
       "<div>\n",
       "<style scoped>\n",
       "    .dataframe tbody tr th:only-of-type {\n",
       "        vertical-align: middle;\n",
       "    }\n",
       "\n",
       "    .dataframe tbody tr th {\n",
       "        vertical-align: top;\n",
       "    }\n",
       "\n",
       "    .dataframe thead th {\n",
       "        text-align: right;\n",
       "    }\n",
       "</style>\n",
       "<table border=\"1\" class=\"dataframe\">\n",
       "  <thead>\n",
       "    <tr style=\"text-align: right;\">\n",
       "      <th></th>\n",
       "      <th>Symptom</th>\n",
       "      <th>Candidates</th>\n",
       "    </tr>\n",
       "  </thead>\n",
       "  <tbody>\n",
       "    <tr>\n",
       "      <th>0</th>\n",
       "      <td>HP:0011675</td>\n",
       "      <td>[5252, 1934, 606]</td>\n",
       "    </tr>\n",
       "    <tr>\n",
       "      <th>1</th>\n",
       "      <td>HP:0002515</td>\n",
       "      <td>[5252, 4187, 606]</td>\n",
       "    </tr>\n",
       "    <tr>\n",
       "      <th>2</th>\n",
       "      <td>HP:0003236</td>\n",
       "      <td>[5252, 1971, 908]</td>\n",
       "    </tr>\n",
       "    <tr>\n",
       "      <th>3</th>\n",
       "      <td>HP:0002093</td>\n",
       "      <td>[1971, 5252, 73]</td>\n",
       "    </tr>\n",
       "    <tr>\n",
       "      <th>4</th>\n",
       "      <td>HP:0003707</td>\n",
       "      <td>[5252, 5330, 4187]</td>\n",
       "    </tr>\n",
       "    <tr>\n",
       "      <th>5</th>\n",
       "      <td>HP:0001256</td>\n",
       "      <td>[5252, 5345, 4187]</td>\n",
       "    </tr>\n",
       "    <tr>\n",
       "      <th>6</th>\n",
       "      <td>HP:0003701</td>\n",
       "      <td>[5252, 4187, 5345]</td>\n",
       "    </tr>\n",
       "    <tr>\n",
       "      <th>7</th>\n",
       "      <td>HP:0003202</td>\n",
       "      <td>[5252, 606, 5345]</td>\n",
       "    </tr>\n",
       "    <tr>\n",
       "      <th>8</th>\n",
       "      <td>HP:0003560</td>\n",
       "      <td>[4902, 4301, 5182]</td>\n",
       "    </tr>\n",
       "    <tr>\n",
       "      <th>9</th>\n",
       "      <td>HP:0003391</td>\n",
       "      <td>[5252, 606, 5345]</td>\n",
       "    </tr>\n",
       "    <tr>\n",
       "      <th>10</th>\n",
       "      <td>HP:0001635</td>\n",
       "      <td>[1971, 3170, 1836]</td>\n",
       "    </tr>\n",
       "    <tr>\n",
       "      <th>11</th>\n",
       "      <td>HP:0001328</td>\n",
       "      <td>[5252, 5330, 5345]</td>\n",
       "    </tr>\n",
       "    <tr>\n",
       "      <th>12</th>\n",
       "      <td>HP:0003323</td>\n",
       "      <td>[4301, 73, 5252]</td>\n",
       "    </tr>\n",
       "    <tr>\n",
       "      <th>13</th>\n",
       "      <td>HP:0001371</td>\n",
       "      <td>[5252, 606, 5345]</td>\n",
       "    </tr>\n",
       "    <tr>\n",
       "      <th>14</th>\n",
       "      <td>HP:0002650</td>\n",
       "      <td>[5252, 606, 4187]</td>\n",
       "    </tr>\n",
       "    <tr>\n",
       "      <th>15</th>\n",
       "      <td>HP:0003115</td>\n",
       "      <td>[5252, 606, 5345]</td>\n",
       "    </tr>\n",
       "    <tr>\n",
       "      <th>16</th>\n",
       "      <td>HP:0001263</td>\n",
       "      <td>[5252, 1532, 4187]</td>\n",
       "    </tr>\n",
       "    <tr>\n",
       "      <th>17</th>\n",
       "      <td>HP:0008981</td>\n",
       "      <td>[5252, 4187, 606]</td>\n",
       "    </tr>\n",
       "    <tr>\n",
       "      <th>18</th>\n",
       "      <td>HP:0001638</td>\n",
       "      <td>[5252, 5182, 5443]</td>\n",
       "    </tr>\n",
       "    <tr>\n",
       "      <th>19</th>\n",
       "      <td>HP:0003307</td>\n",
       "      <td>[5252, 5330, 606]</td>\n",
       "    </tr>\n",
       "    <tr>\n",
       "      <th>20</th>\n",
       "      <td>HP:0000750</td>\n",
       "      <td>[5252, 4187, 5345]</td>\n",
       "    </tr>\n",
       "    <tr>\n",
       "      <th>21</th>\n",
       "      <td>HP:0001265</td>\n",
       "      <td>[5252, 4187, 5345]</td>\n",
       "    </tr>\n",
       "    <tr>\n",
       "      <th>22</th>\n",
       "      <td>HP:0001644</td>\n",
       "      <td>[5252, 606, 5345]</td>\n",
       "    </tr>\n",
       "    <tr>\n",
       "      <th>23</th>\n",
       "      <td>HP:0001270</td>\n",
       "      <td>[5252, 4187, 5345]</td>\n",
       "    </tr>\n",
       "    <tr>\n",
       "      <th>24</th>\n",
       "      <td>HP:0001290</td>\n",
       "      <td>[5252, 4187, 606]</td>\n",
       "    </tr>\n",
       "    <tr>\n",
       "      <th>25</th>\n",
       "      <td>HP:0100543</td>\n",
       "      <td>[5252, 606, 4187]</td>\n",
       "    </tr>\n",
       "    <tr>\n",
       "      <th>26</th>\n",
       "      <td>HP:0002791</td>\n",
       "      <td>[5252, 5345, 5330]</td>\n",
       "    </tr>\n",
       "  </tbody>\n",
       "</table>\n",
       "</div>"
      ],
      "text/plain": [
       "       Symptom          Candidates\n",
       "0   HP:0011675   [5252, 1934, 606]\n",
       "1   HP:0002515   [5252, 4187, 606]\n",
       "2   HP:0003236   [5252, 1971, 908]\n",
       "3   HP:0002093    [1971, 5252, 73]\n",
       "4   HP:0003707  [5252, 5330, 4187]\n",
       "5   HP:0001256  [5252, 5345, 4187]\n",
       "6   HP:0003701  [5252, 4187, 5345]\n",
       "7   HP:0003202   [5252, 606, 5345]\n",
       "8   HP:0003560  [4902, 4301, 5182]\n",
       "9   HP:0003391   [5252, 606, 5345]\n",
       "10  HP:0001635  [1971, 3170, 1836]\n",
       "11  HP:0001328  [5252, 5330, 5345]\n",
       "12  HP:0003323    [4301, 73, 5252]\n",
       "13  HP:0001371   [5252, 606, 5345]\n",
       "14  HP:0002650   [5252, 606, 4187]\n",
       "15  HP:0003115   [5252, 606, 5345]\n",
       "16  HP:0001263  [5252, 1532, 4187]\n",
       "17  HP:0008981   [5252, 4187, 606]\n",
       "18  HP:0001638  [5252, 5182, 5443]\n",
       "19  HP:0003307   [5252, 5330, 606]\n",
       "20  HP:0000750  [5252, 4187, 5345]\n",
       "21  HP:0001265  [5252, 4187, 5345]\n",
       "22  HP:0001644   [5252, 606, 5345]\n",
       "23  HP:0001270  [5252, 4187, 5345]\n",
       "24  HP:0001290   [5252, 4187, 606]\n",
       "25  HP:0100543   [5252, 606, 4187]\n",
       "26  HP:0002791  [5252, 5345, 5330]"
      ]
     },
     "execution_count": 34,
     "metadata": {},
     "output_type": "execute_result"
    }
   ],
   "source": [
    "symptom_drugs_df_dict = {\n",
    "    'Symptom': [],\n",
    "    'Candidates': [] \n",
    "}\n",
    "for key, val in symptom_drugs.items():\n",
    "    symptom_drugs_df_dict['Symptom'].append(key)\n",
    "    symptom_drugs_df_dict['Candidates'].append(val)\n",
    "    \n",
    "symptom_drugs_df = pd.DataFrame.from_dict(symptom_drugs_df_dict)\n",
    "symptom_drugs_df.to_csv(f'output/symptom_drugs_{dataset_nr}.csv', index=False)\n",
    "\n",
    "symptom_drugs_df"
   ]
  },
  {
   "cell_type": "markdown",
   "metadata": {},
   "source": [
    "Save dataframe as csv file with all drugs and their total of appearances as a candidate for one or more relevant symptoms."
   ]
  },
  {
   "cell_type": "code",
   "execution_count": 35,
   "metadata": {},
   "outputs": [
    {
     "data": {
      "text/html": [
       "<div>\n",
       "<style scoped>\n",
       "    .dataframe tbody tr th:only-of-type {\n",
       "        vertical-align: middle;\n",
       "    }\n",
       "\n",
       "    .dataframe tbody tr th {\n",
       "        vertical-align: top;\n",
       "    }\n",
       "\n",
       "    .dataframe thead th {\n",
       "        text-align: right;\n",
       "    }\n",
       "</style>\n",
       "<table border=\"1\" class=\"dataframe\">\n",
       "  <thead>\n",
       "    <tr style=\"text-align: right;\">\n",
       "      <th></th>\n",
       "      <th>Drug</th>\n",
       "      <th>Appearances</th>\n",
       "      <th>Percentage</th>\n",
       "    </tr>\n",
       "  </thead>\n",
       "  <tbody>\n",
       "    <tr>\n",
       "      <th>0</th>\n",
       "      <td>neratinib</td>\n",
       "      <td>25</td>\n",
       "      <td>92.59%</td>\n",
       "    </tr>\n",
       "    <tr>\n",
       "      <th>2</th>\n",
       "      <td>chloropyramine</td>\n",
       "      <td>12</td>\n",
       "      <td>44.44%</td>\n",
       "    </tr>\n",
       "    <tr>\n",
       "      <th>3</th>\n",
       "      <td>crizotinib</td>\n",
       "      <td>12</td>\n",
       "      <td>44.44%</td>\n",
       "    </tr>\n",
       "    <tr>\n",
       "      <th>8</th>\n",
       "      <td>entrectinib</td>\n",
       "      <td>12</td>\n",
       "      <td>44.44%</td>\n",
       "    </tr>\n",
       "    <tr>\n",
       "      <th>7</th>\n",
       "      <td>selinexor</td>\n",
       "      <td>4</td>\n",
       "      <td>14.81%</td>\n",
       "    </tr>\n",
       "    <tr>\n",
       "      <th>4</th>\n",
       "      <td>nortriptyline</td>\n",
       "      <td>3</td>\n",
       "      <td>11.11%</td>\n",
       "    </tr>\n",
       "    <tr>\n",
       "      <th>6</th>\n",
       "      <td>acepromazine</td>\n",
       "      <td>2</td>\n",
       "      <td>7.41%</td>\n",
       "    </tr>\n",
       "    <tr>\n",
       "      <th>10</th>\n",
       "      <td>Flutemetamol (18F)</td>\n",
       "      <td>2</td>\n",
       "      <td>7.41%</td>\n",
       "    </tr>\n",
       "    <tr>\n",
       "      <th>11</th>\n",
       "      <td>eteplirsen</td>\n",
       "      <td>2</td>\n",
       "      <td>7.41%</td>\n",
       "    </tr>\n",
       "    <tr>\n",
       "      <th>1</th>\n",
       "      <td>nilvadipine</td>\n",
       "      <td>1</td>\n",
       "      <td>3.70%</td>\n",
       "    </tr>\n",
       "    <tr>\n",
       "      <th>5</th>\n",
       "      <td>dimethyltubocurarinium</td>\n",
       "      <td>1</td>\n",
       "      <td>3.70%</td>\n",
       "    </tr>\n",
       "    <tr>\n",
       "      <th>9</th>\n",
       "      <td>imidafenacin</td>\n",
       "      <td>1</td>\n",
       "      <td>3.70%</td>\n",
       "    </tr>\n",
       "    <tr>\n",
       "      <th>12</th>\n",
       "      <td>eburnamonine</td>\n",
       "      <td>1</td>\n",
       "      <td>3.70%</td>\n",
       "    </tr>\n",
       "    <tr>\n",
       "      <th>13</th>\n",
       "      <td>montelukast</td>\n",
       "      <td>1</td>\n",
       "      <td>3.70%</td>\n",
       "    </tr>\n",
       "    <tr>\n",
       "      <th>14</th>\n",
       "      <td>lacidipine</td>\n",
       "      <td>1</td>\n",
       "      <td>3.70%</td>\n",
       "    </tr>\n",
       "    <tr>\n",
       "      <th>15</th>\n",
       "      <td>casimersen</td>\n",
       "      <td>1</td>\n",
       "      <td>3.70%</td>\n",
       "    </tr>\n",
       "  </tbody>\n",
       "</table>\n",
       "</div>"
      ],
      "text/plain": [
       "                      Drug  Appearances Percentage\n",
       "0                neratinib           25     92.59%\n",
       "2           chloropyramine           12     44.44%\n",
       "3               crizotinib           12     44.44%\n",
       "8              entrectinib           12     44.44%\n",
       "7                selinexor            4     14.81%\n",
       "4            nortriptyline            3     11.11%\n",
       "6             acepromazine            2      7.41%\n",
       "10      Flutemetamol (18F)            2      7.41%\n",
       "11              eteplirsen            2      7.41%\n",
       "1              nilvadipine            1      3.70%\n",
       "5   dimethyltubocurarinium            1      3.70%\n",
       "9             imidafenacin            1      3.70%\n",
       "12            eburnamonine            1      3.70%\n",
       "13             montelukast            1      3.70%\n",
       "14              lacidipine            1      3.70%\n",
       "15              casimersen            1      3.70%"
      ]
     },
     "execution_count": 35,
     "metadata": {},
     "output_type": "execute_result"
    }
   ],
   "source": [
    "drug_candidate_df_dict = {\n",
    "    'Drug': [],\n",
    "    'Appearances': [],\n",
    "    'Percentage': []\n",
    "}\n",
    "for key, val in drug_candidates.items():\n",
    "    drug_candidate_df_dict['Drug'].append(key)\n",
    "    drug_candidate_df_dict['Appearances'].append(val)\n",
    "    drug_candidate_df_dict['Percentage'].append(val/symptoms.shape[0]*100)\n",
    "    \n",
    "drug_candidates_df = pd.DataFrame.from_dict(drug_candidate_df_dict)\n",
    "drug_candidates_df['Percentage'] = drug_candidates_df['Percentage'].transform(lambda x: '{:,.2f}%'.format(x))\n",
    "drug_candidates_df = drug_candidates_df.sort_values(by = ['Appearances'], ascending = False)\n",
    "\n",
    "drug_candidates_df.to_csv(f'output/drug_candidates_{dataset_nr}.csv', index=False)\n",
    "\n",
    "drug_candidates_df"
   ]
  },
  {
   "attachments": {},
   "cell_type": "markdown",
   "metadata": {},
   "source": [
    "## Component Analysis"
   ]
  },
  {
   "cell_type": "code",
   "execution_count": 36,
   "metadata": {},
   "outputs": [],
   "source": [
    "X_data = best_x.detach().cpu().numpy()\n",
    "z = StandardScaler().fit_transform(X_data)"
   ]
  },
  {
   "attachments": {},
   "cell_type": "markdown",
   "metadata": {},
   "source": [
    "### PCA"
   ]
  },
  {
   "cell_type": "code",
   "execution_count": 37,
   "metadata": {},
   "outputs": [
    {
     "data": {
      "text/html": [
       "<div>\n",
       "<style scoped>\n",
       "    .dataframe tbody tr th:only-of-type {\n",
       "        vertical-align: middle;\n",
       "    }\n",
       "\n",
       "    .dataframe tbody tr th {\n",
       "        vertical-align: top;\n",
       "    }\n",
       "\n",
       "    .dataframe thead th {\n",
       "        text-align: right;\n",
       "    }\n",
       "</style>\n",
       "<table border=\"1\" class=\"dataframe\">\n",
       "  <thead>\n",
       "    <tr style=\"text-align: right;\">\n",
       "      <th></th>\n",
       "      <th>principal component 1</th>\n",
       "      <th>principal component 2</th>\n",
       "    </tr>\n",
       "  </thead>\n",
       "  <tbody>\n",
       "    <tr>\n",
       "      <th>0</th>\n",
       "      <td>-0.601489</td>\n",
       "      <td>0.185530</td>\n",
       "    </tr>\n",
       "    <tr>\n",
       "      <th>1</th>\n",
       "      <td>2.306813</td>\n",
       "      <td>-1.524685</td>\n",
       "    </tr>\n",
       "    <tr>\n",
       "      <th>2</th>\n",
       "      <td>-1.319286</td>\n",
       "      <td>0.984035</td>\n",
       "    </tr>\n",
       "    <tr>\n",
       "      <th>3</th>\n",
       "      <td>-0.258733</td>\n",
       "      <td>-0.967167</td>\n",
       "    </tr>\n",
       "    <tr>\n",
       "      <th>4</th>\n",
       "      <td>-1.996289</td>\n",
       "      <td>0.412887</td>\n",
       "    </tr>\n",
       "    <tr>\n",
       "      <th>...</th>\n",
       "      <td>...</td>\n",
       "      <td>...</td>\n",
       "    </tr>\n",
       "    <tr>\n",
       "      <th>10029</th>\n",
       "      <td>-1.526361</td>\n",
       "      <td>1.294888</td>\n",
       "    </tr>\n",
       "    <tr>\n",
       "      <th>10030</th>\n",
       "      <td>0.662773</td>\n",
       "      <td>-0.124591</td>\n",
       "    </tr>\n",
       "    <tr>\n",
       "      <th>10031</th>\n",
       "      <td>-0.048687</td>\n",
       "      <td>0.096513</td>\n",
       "    </tr>\n",
       "    <tr>\n",
       "      <th>10032</th>\n",
       "      <td>0.050731</td>\n",
       "      <td>-1.147563</td>\n",
       "    </tr>\n",
       "    <tr>\n",
       "      <th>10033</th>\n",
       "      <td>-0.464100</td>\n",
       "      <td>-1.534137</td>\n",
       "    </tr>\n",
       "  </tbody>\n",
       "</table>\n",
       "<p>10034 rows × 2 columns</p>\n",
       "</div>"
      ],
      "text/plain": [
       "       principal component 1  principal component 2\n",
       "0                  -0.601489               0.185530\n",
       "1                   2.306813              -1.524685\n",
       "2                  -1.319286               0.984035\n",
       "3                  -0.258733              -0.967167\n",
       "4                  -1.996289               0.412887\n",
       "...                      ...                    ...\n",
       "10029              -1.526361               1.294888\n",
       "10030               0.662773              -0.124591\n",
       "10031              -0.048687               0.096513\n",
       "10032               0.050731              -1.147563\n",
       "10033              -0.464100              -1.534137\n",
       "\n",
       "[10034 rows x 2 columns]"
      ]
     },
     "execution_count": 37,
     "metadata": {},
     "output_type": "execute_result"
    }
   ],
   "source": [
    "pca = PCA(n_components=32)\n",
    "princ_comp = pca.fit_transform(z)\n",
    "princ_df = pd.DataFrame(data=princ_comp[:, [0,1]], columns=['principal component 1', 'principal component 2'])\n",
    "princ_df"
   ]
  },
  {
   "attachments": {},
   "cell_type": "markdown",
   "metadata": {},
   "source": [
    "Based on plot below, choose the number of components for PCA analysis yielding an amount of variance close to 1.0."
   ]
  },
  {
   "cell_type": "code",
   "execution_count": 38,
   "metadata": {},
   "outputs": [
    {
     "data": {
      "image/png": "[encoded data removed]",
      "text/plain": [
       "<Figure size 640x480 with 1 Axes>"
      ]
     },
     "metadata": {},
     "output_type": "display_data"
    }
   ],
   "source": [
    "plt.plot(np.cumsum(pca.explained_variance_ratio_))\n",
    "plt.xlabel('number of components')\n",
    "plt.ylabel('cumulative explained variance')\n",
    "plt.show()"
   ]
  },
  {
   "cell_type": "code",
   "execution_count": 39,
   "metadata": {},
   "outputs": [
    {
     "data": {
      "text/html": [
       "<div>\n",
       "<style scoped>\n",
       "    .dataframe tbody tr th:only-of-type {\n",
       "        vertical-align: middle;\n",
       "    }\n",
       "\n",
       "    .dataframe tbody tr th {\n",
       "        vertical-align: top;\n",
       "    }\n",
       "\n",
       "    .dataframe thead th {\n",
       "        text-align: right;\n",
       "    }\n",
       "</style>\n",
       "<table border=\"1\" class=\"dataframe\">\n",
       "  <thead>\n",
       "    <tr style=\"text-align: right;\">\n",
       "      <th></th>\n",
       "      <th>principal component 1</th>\n",
       "      <th>principal component 2</th>\n",
       "      <th>semantic</th>\n",
       "    </tr>\n",
       "  </thead>\n",
       "  <tbody>\n",
       "    <tr>\n",
       "      <th>0</th>\n",
       "      <td>-0.601489</td>\n",
       "      <td>0.185530</td>\n",
       "      <td>ORTH</td>\n",
       "    </tr>\n",
       "    <tr>\n",
       "      <th>1</th>\n",
       "      <td>2.306813</td>\n",
       "      <td>-1.524685</td>\n",
       "      <td>DISO</td>\n",
       "    </tr>\n",
       "    <tr>\n",
       "      <th>2</th>\n",
       "      <td>-1.319286</td>\n",
       "      <td>0.984035</td>\n",
       "      <td>ORTH</td>\n",
       "    </tr>\n",
       "    <tr>\n",
       "      <th>3</th>\n",
       "      <td>-0.258733</td>\n",
       "      <td>-0.967167</td>\n",
       "      <td>DRUG</td>\n",
       "    </tr>\n",
       "    <tr>\n",
       "      <th>4</th>\n",
       "      <td>-1.996289</td>\n",
       "      <td>0.412887</td>\n",
       "      <td>ORTH</td>\n",
       "    </tr>\n",
       "    <tr>\n",
       "      <th>...</th>\n",
       "      <td>...</td>\n",
       "      <td>...</td>\n",
       "      <td>...</td>\n",
       "    </tr>\n",
       "    <tr>\n",
       "      <th>10029</th>\n",
       "      <td>-1.526361</td>\n",
       "      <td>1.294888</td>\n",
       "      <td>DISO</td>\n",
       "    </tr>\n",
       "    <tr>\n",
       "      <th>10030</th>\n",
       "      <td>0.662773</td>\n",
       "      <td>-0.124591</td>\n",
       "      <td>DISO</td>\n",
       "    </tr>\n",
       "    <tr>\n",
       "      <th>10031</th>\n",
       "      <td>-0.048687</td>\n",
       "      <td>0.096513</td>\n",
       "      <td>DISO</td>\n",
       "    </tr>\n",
       "    <tr>\n",
       "      <th>10032</th>\n",
       "      <td>0.050731</td>\n",
       "      <td>-1.147563</td>\n",
       "      <td>DISO</td>\n",
       "    </tr>\n",
       "    <tr>\n",
       "      <th>10033</th>\n",
       "      <td>-0.464100</td>\n",
       "      <td>-1.534137</td>\n",
       "      <td>VARI</td>\n",
       "    </tr>\n",
       "  </tbody>\n",
       "</table>\n",
       "<p>10034 rows × 3 columns</p>\n",
       "</div>"
      ],
      "text/plain": [
       "       principal component 1  principal component 2 semantic\n",
       "0                  -0.601489               0.185530     ORTH\n",
       "1                   2.306813              -1.524685     DISO\n",
       "2                  -1.319286               0.984035     ORTH\n",
       "3                  -0.258733              -0.967167     DRUG\n",
       "4                  -1.996289               0.412887     ORTH\n",
       "...                      ...                    ...      ...\n",
       "10029              -1.526361               1.294888     DISO\n",
       "10030               0.662773              -0.124591     DISO\n",
       "10031              -0.048687               0.096513     DISO\n",
       "10032               0.050731              -1.147563     DISO\n",
       "10033              -0.464100              -1.534137     VARI\n",
       "\n",
       "[10034 rows x 3 columns]"
      ]
     },
     "execution_count": 39,
     "metadata": {},
     "output_type": "execute_result"
    }
   ],
   "source": [
    "pca_df = pd.concat([princ_df, nodes[['semantic']]], axis=1)\n",
    "pca_df"
   ]
  },
  {
   "cell_type": "code",
   "execution_count": 46,
   "metadata": {},
   "outputs": [
    {
     "data": {
      "image/png": "[encoded data removed]",
      "text/plain": [
       "<Figure size 800x800 with 1 Axes>"
      ]
     },
     "metadata": {},
     "output_type": "display_data"
    }
   ],
   "source": [
    "fig = plt.figure(figsize = (8,8))\n",
    "ax = fig.add_subplot(1, 1, 1)\n",
    "ax.set_xlabel('Principal Component 1', fontsize = 15)\n",
    "ax.set_ylabel('Principal Component 2', fontsize = 15)\n",
    "ax.set_title(f'Two components from 32-PCA on dataset {dataset_nr}', fontsize = 16)\n",
    "\n",
    "unique_node_semantics = list(node_semantic_dict.values())\n",
    "colors = ['silver', 'indianred', 'peru', 'gold', 'olivedrab', 'cadetblue', 'skyblue', 'steelblue', 'royalblue', 'mediumpurple', 'palevioletred', 'lightpink']\n",
    "\n",
    "for target, color in zip(unique_node_semantics, colors):\n",
    "    indicesToKeep = pca_df['semantic'] == target\n",
    "    ax.scatter(pca_df.loc[indicesToKeep, 'principal component 1'], pca_df.loc[indicesToKeep, 'principal component 2'], c = color, s = 50)\n",
    "    \n",
    "ax.legend(unique_node_semantics)\n",
    "ax.grid()\n",
    "\n",
    "plt.show()"
   ]
  },
  {
   "attachments": {},
   "cell_type": "markdown",
   "metadata": {},
   "source": [
    "### t-SNE"
   ]
  },
  {
   "cell_type": "code",
   "execution_count": 47,
   "metadata": {},
   "outputs": [],
   "source": [
    "X_tsne = TSNE(learning_rate=100, perplexity=40).fit_transform(X_data)"
   ]
  },
  {
   "cell_type": "code",
   "execution_count": 48,
   "metadata": {},
   "outputs": [
    {
     "data": {
      "text/html": [
       "<div>\n",
       "<style scoped>\n",
       "    .dataframe tbody tr th:only-of-type {\n",
       "        vertical-align: middle;\n",
       "    }\n",
       "\n",
       "    .dataframe tbody tr th {\n",
       "        vertical-align: top;\n",
       "    }\n",
       "\n",
       "    .dataframe thead th {\n",
       "        text-align: right;\n",
       "    }\n",
       "</style>\n",
       "<table border=\"1\" class=\"dataframe\">\n",
       "  <thead>\n",
       "    <tr style=\"text-align: right;\">\n",
       "      <th></th>\n",
       "      <th>t-SNE 1</th>\n",
       "      <th>t-SNE 2</th>\n",
       "    </tr>\n",
       "  </thead>\n",
       "  <tbody>\n",
       "    <tr>\n",
       "      <th>0</th>\n",
       "      <td>16.644581</td>\n",
       "      <td>17.272015</td>\n",
       "    </tr>\n",
       "    <tr>\n",
       "      <th>1</th>\n",
       "      <td>54.724277</td>\n",
       "      <td>-31.808844</td>\n",
       "    </tr>\n",
       "    <tr>\n",
       "      <th>2</th>\n",
       "      <td>1.172849</td>\n",
       "      <td>41.032772</td>\n",
       "    </tr>\n",
       "    <tr>\n",
       "      <th>3</th>\n",
       "      <td>-23.359966</td>\n",
       "      <td>52.627708</td>\n",
       "    </tr>\n",
       "    <tr>\n",
       "      <th>4</th>\n",
       "      <td>-7.242720</td>\n",
       "      <td>-19.102787</td>\n",
       "    </tr>\n",
       "    <tr>\n",
       "      <th>...</th>\n",
       "      <td>...</td>\n",
       "      <td>...</td>\n",
       "    </tr>\n",
       "    <tr>\n",
       "      <th>10029</th>\n",
       "      <td>-19.364267</td>\n",
       "      <td>-14.032401</td>\n",
       "    </tr>\n",
       "    <tr>\n",
       "      <th>10030</th>\n",
       "      <td>-21.724602</td>\n",
       "      <td>-49.554306</td>\n",
       "    </tr>\n",
       "    <tr>\n",
       "      <th>10031</th>\n",
       "      <td>-6.060464</td>\n",
       "      <td>-33.491642</td>\n",
       "    </tr>\n",
       "    <tr>\n",
       "      <th>10032</th>\n",
       "      <td>48.999554</td>\n",
       "      <td>10.894489</td>\n",
       "    </tr>\n",
       "    <tr>\n",
       "      <th>10033</th>\n",
       "      <td>-15.707342</td>\n",
       "      <td>20.432726</td>\n",
       "    </tr>\n",
       "  </tbody>\n",
       "</table>\n",
       "<p>10034 rows × 2 columns</p>\n",
       "</div>"
      ],
      "text/plain": [
       "         t-SNE 1    t-SNE 2\n",
       "0      16.644581  17.272015\n",
       "1      54.724277 -31.808844\n",
       "2       1.172849  41.032772\n",
       "3     -23.359966  52.627708\n",
       "4      -7.242720 -19.102787\n",
       "...          ...        ...\n",
       "10029 -19.364267 -14.032401\n",
       "10030 -21.724602 -49.554306\n",
       "10031  -6.060464 -33.491642\n",
       "10032  48.999554  10.894489\n",
       "10033 -15.707342  20.432726\n",
       "\n",
       "[10034 rows x 2 columns]"
      ]
     },
     "execution_count": 48,
     "metadata": {},
     "output_type": "execute_result"
    }
   ],
   "source": [
    "comp_tsne = pd.DataFrame(data=X_tsne, columns=['t-SNE 1', 't-SNE 2'])\n",
    "comp_tsne"
   ]
  },
  {
   "cell_type": "code",
   "execution_count": 49,
   "metadata": {},
   "outputs": [
    {
     "data": {
      "text/html": [
       "<div>\n",
       "<style scoped>\n",
       "    .dataframe tbody tr th:only-of-type {\n",
       "        vertical-align: middle;\n",
       "    }\n",
       "\n",
       "    .dataframe tbody tr th {\n",
       "        vertical-align: top;\n",
       "    }\n",
       "\n",
       "    .dataframe thead th {\n",
       "        text-align: right;\n",
       "    }\n",
       "</style>\n",
       "<table border=\"1\" class=\"dataframe\">\n",
       "  <thead>\n",
       "    <tr style=\"text-align: right;\">\n",
       "      <th></th>\n",
       "      <th>t-SNE 1</th>\n",
       "      <th>t-SNE 2</th>\n",
       "      <th>semantic</th>\n",
       "    </tr>\n",
       "  </thead>\n",
       "  <tbody>\n",
       "    <tr>\n",
       "      <th>0</th>\n",
       "      <td>16.644581</td>\n",
       "      <td>17.272015</td>\n",
       "      <td>ORTH</td>\n",
       "    </tr>\n",
       "    <tr>\n",
       "      <th>1</th>\n",
       "      <td>54.724277</td>\n",
       "      <td>-31.808844</td>\n",
       "      <td>DISO</td>\n",
       "    </tr>\n",
       "    <tr>\n",
       "      <th>2</th>\n",
       "      <td>1.172849</td>\n",
       "      <td>41.032772</td>\n",
       "      <td>ORTH</td>\n",
       "    </tr>\n",
       "    <tr>\n",
       "      <th>3</th>\n",
       "      <td>-23.359966</td>\n",
       "      <td>52.627708</td>\n",
       "      <td>DRUG</td>\n",
       "    </tr>\n",
       "    <tr>\n",
       "      <th>4</th>\n",
       "      <td>-7.242720</td>\n",
       "      <td>-19.102787</td>\n",
       "      <td>ORTH</td>\n",
       "    </tr>\n",
       "    <tr>\n",
       "      <th>...</th>\n",
       "      <td>...</td>\n",
       "      <td>...</td>\n",
       "      <td>...</td>\n",
       "    </tr>\n",
       "    <tr>\n",
       "      <th>10029</th>\n",
       "      <td>-19.364267</td>\n",
       "      <td>-14.032401</td>\n",
       "      <td>DISO</td>\n",
       "    </tr>\n",
       "    <tr>\n",
       "      <th>10030</th>\n",
       "      <td>-21.724602</td>\n",
       "      <td>-49.554306</td>\n",
       "      <td>DISO</td>\n",
       "    </tr>\n",
       "    <tr>\n",
       "      <th>10031</th>\n",
       "      <td>-6.060464</td>\n",
       "      <td>-33.491642</td>\n",
       "      <td>DISO</td>\n",
       "    </tr>\n",
       "    <tr>\n",
       "      <th>10032</th>\n",
       "      <td>48.999554</td>\n",
       "      <td>10.894489</td>\n",
       "      <td>DISO</td>\n",
       "    </tr>\n",
       "    <tr>\n",
       "      <th>10033</th>\n",
       "      <td>-15.707342</td>\n",
       "      <td>20.432726</td>\n",
       "      <td>VARI</td>\n",
       "    </tr>\n",
       "  </tbody>\n",
       "</table>\n",
       "<p>10034 rows × 3 columns</p>\n",
       "</div>"
      ],
      "text/plain": [
       "         t-SNE 1    t-SNE 2 semantic\n",
       "0      16.644581  17.272015     ORTH\n",
       "1      54.724277 -31.808844     DISO\n",
       "2       1.172849  41.032772     ORTH\n",
       "3     -23.359966  52.627708     DRUG\n",
       "4      -7.242720 -19.102787     ORTH\n",
       "...          ...        ...      ...\n",
       "10029 -19.364267 -14.032401     DISO\n",
       "10030 -21.724602 -49.554306     DISO\n",
       "10031  -6.060464 -33.491642     DISO\n",
       "10032  48.999554  10.894489     DISO\n",
       "10033 -15.707342  20.432726     VARI\n",
       "\n",
       "[10034 rows x 3 columns]"
      ]
     },
     "execution_count": 49,
     "metadata": {},
     "output_type": "execute_result"
    }
   ],
   "source": [
    "tsne_df = pd.concat([comp_tsne, nodes[['semantic']]], axis=1)\n",
    "tsne_df"
   ]
  },
  {
   "cell_type": "code",
   "execution_count": 50,
   "metadata": {},
   "outputs": [
    {
     "data": {
      "image/png": "[encoded data removed]",
      "text/plain": [
       "<Figure size 800x800 with 1 Axes>"
      ]
     },
     "metadata": {},
     "output_type": "display_data"
    }
   ],
   "source": [
    "fig = plt.figure(figsize = (8,8))\n",
    "ax = fig.add_subplot(1, 1, 1)\n",
    "ax.set_xlabel('Principal Component 1', fontsize = 15)\n",
    "ax.set_ylabel('Principal Component 2', fontsize = 15)\n",
    "ax.set_title(f'Two component t-SNE on dataset {dataset_nr}', fontsize = 16)\n",
    "\n",
    "unique_node_semantics = list(node_semantic_dict.values())\n",
    "colors = ['silver', 'indianred', 'peru', 'gold', 'olivedrab', 'cadetblue', 'skyblue', 'steelblue', 'royalblue', 'mediumpurple', 'palevioletred', 'lightpink']\n",
    "\n",
    "for target, color in zip(unique_node_semantics, colors):\n",
    "    indicesToKeep = tsne_df['semantic'] == target\n",
    "    ax.scatter(tsne_df.loc[indicesToKeep, 't-SNE 1'], tsne_df.loc[indicesToKeep, 't-SNE 2'], c = color, s = 50)\n",
    "    \n",
    "ax.legend(unique_node_semantics)\n",
    "ax.grid()\n",
    "\n",
    "plt.show()"
   ]
  }
 ],
 "metadata": {
  "kernelspec": {
   "display_name": "xaifo",
   "language": "python",
   "name": "python3"
  },
  "language_info": {
   "codemirror_mode": {
    "name": "ipython",
    "version": 3
   },
   "file_extension": ".py",
   "mimetype": "text/x-python",
   "name": "python",
   "nbconvert_exporter": "python",
   "pygments_lexer": "ipython3",
   "version": "3.10.11"
  },
  "orig_nbformat": 4
 },
 "nbformat": 4,
 "nbformat_minor": 2
}
