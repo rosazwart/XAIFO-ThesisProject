{
 "cells": [
  {
   "attachments": {},
   "cell_type": "markdown",
   "metadata": {},
   "source": [
    "Adapted by Rosa Zwart from Jupyter Notebooks found at https://github.com/PPerdomoQ/rare-disease-explainer"
   ]
  },
  {
   "attachments": {},
   "cell_type": "markdown",
   "metadata": {},
   "source": [
    "# Import Libraries"
   ]
  },
  {
   "cell_type": "code",
   "execution_count": 3,
   "metadata": {},
   "outputs": [],
   "source": [
    "import pandas as pd\n",
    "import numpy as np\n",
    "import networkx as nx\n",
    "import copy\n",
    "import pickle\n",
    "\n",
    "import edge2vec.transition3 as transitions\n",
    "import edge2vec.edge2vec3 as edge2vec\n",
    "\n",
    "import torch\n",
    "import torch.nn as nn\n",
    "from torch.utils.data import DataLoader\n",
    "import torch.nn.functional as F\n",
    "\n",
    "from torch_geometric.nn import SAGEConv\n",
    "\n",
    "from deepsnap.dataset import GraphDataset\n",
    "from deepsnap.batch import Batch\n",
    "from deepsnap.graph import Graph\n",
    "\n",
    "from ray import tune\n",
    "from ray.tune.schedulers import ASHAScheduler\n",
    "\n",
    "from sklearn.metrics import roc_auc_score, roc_curve, f1_score, classification_report, confusion_matrix\n",
    "import matplotlib.pyplot as plt\n",
    "\n",
    "from gensim.models import KeyedVectors\n",
    "\n",
    "from sklearn.preprocessing import StandardScaler\n",
    "from sklearn.decomposition import PCA\n",
    "from sklearn.manifold import TSNE"
   ]
  },
  {
   "cell_type": "code",
   "execution_count": 4,
   "metadata": {},
   "outputs": [
    {
     "name": "stdout",
     "output_type": "stream",
     "text": [
      "Using device: cpu\n"
     ]
    }
   ],
   "source": [
    "torch_device = torch.device('cuda' if torch.cuda.is_available() else 'cpu')\n",
    "print('Using device:', torch_device)"
   ]
  },
  {
   "attachments": {},
   "cell_type": "markdown",
   "metadata": {},
   "source": [
    "# Load Data"
   ]
  },
  {
   "attachments": {},
   "cell_type": "markdown",
   "metadata": {},
   "source": [
    "Load all edges of the knowledge graph."
   ]
  },
  {
   "cell_type": "code",
   "execution_count": 5,
   "metadata": {},
   "outputs": [
    {
     "data": {
      "text/html": [
       "<div>\n",
       "<style scoped>\n",
       "    .dataframe tbody tr th:only-of-type {\n",
       "        vertical-align: middle;\n",
       "    }\n",
       "\n",
       "    .dataframe tbody tr th {\n",
       "        vertical-align: top;\n",
       "    }\n",
       "\n",
       "    .dataframe thead th {\n",
       "        text-align: right;\n",
       "    }\n",
       "</style>\n",
       "<table border=\"1\" class=\"dataframe\">\n",
       "  <thead>\n",
       "    <tr style=\"text-align: right;\">\n",
       "      <th></th>\n",
       "      <th>id</th>\n",
       "      <th>subject</th>\n",
       "      <th>object</th>\n",
       "      <th>relation_id</th>\n",
       "      <th>relation_label</th>\n",
       "      <th>relation_iri</th>\n",
       "    </tr>\n",
       "  </thead>\n",
       "  <tbody>\n",
       "    <tr>\n",
       "      <th>0</th>\n",
       "      <td>MONARCH75386</td>\n",
       "      <td>ZFIN:ZDB-GENE-050626-112</td>\n",
       "      <td>FlyBase:FBgn0085464</td>\n",
       "      <td>RO:HOM0000017</td>\n",
       "      <td>in orthology relationship with</td>\n",
       "      <td>NaN</td>\n",
       "    </tr>\n",
       "    <tr>\n",
       "      <th>1</th>\n",
       "      <td>MONARCH48847</td>\n",
       "      <td>ENSEMBL:ENSCAFG00000007343</td>\n",
       "      <td>FlyBase:FBgn0026598</td>\n",
       "      <td>RO:HOM0000017</td>\n",
       "      <td>in orthology relationship with</td>\n",
       "      <td>NaN</td>\n",
       "    </tr>\n",
       "    <tr>\n",
       "      <th>2</th>\n",
       "      <td>MONARCH41069</td>\n",
       "      <td>ENSEMBL:ENSECAG00000018600</td>\n",
       "      <td>MGI:87906</td>\n",
       "      <td>RO:HOM0000020</td>\n",
       "      <td>in 1 to 1 orthology relationship with</td>\n",
       "      <td>NaN</td>\n",
       "    </tr>\n",
       "    <tr>\n",
       "      <th>3</th>\n",
       "      <td>MONARCH9916</td>\n",
       "      <td>ENSEMBL:ENSXETG00000039919</td>\n",
       "      <td>ENSEMBL:ENSECAG00000016277</td>\n",
       "      <td>RO:HOM0000020</td>\n",
       "      <td>in 1 to 1 orthology relationship with</td>\n",
       "      <td>NaN</td>\n",
       "    </tr>\n",
       "    <tr>\n",
       "      <th>4</th>\n",
       "      <td>MONARCH51257</td>\n",
       "      <td>MGI:94909</td>\n",
       "      <td>MP:0004819</td>\n",
       "      <td>RO:0002200</td>\n",
       "      <td>has phenotype</td>\n",
       "      <td>NaN</td>\n",
       "    </tr>\n",
       "    <tr>\n",
       "      <th>5</th>\n",
       "      <td>MONARCH59350</td>\n",
       "      <td>ENSEMBL:ENSFCAG00000014942</td>\n",
       "      <td>Xenbase:XB-GENE-6041092</td>\n",
       "      <td>RO:HOM0000017</td>\n",
       "      <td>in orthology relationship with</td>\n",
       "      <td>NaN</td>\n",
       "    </tr>\n",
       "    <tr>\n",
       "      <th>6</th>\n",
       "      <td>MONARCH1688</td>\n",
       "      <td>FlyBase:FBgn0283681</td>\n",
       "      <td>FBcv:0002002</td>\n",
       "      <td>RO:0002200</td>\n",
       "      <td>has phenotype</td>\n",
       "      <td>NaN</td>\n",
       "    </tr>\n",
       "    <tr>\n",
       "      <th>7</th>\n",
       "      <td>MONARCH53712</td>\n",
       "      <td>ZFIN:ZDB-GENE-070412-4</td>\n",
       "      <td>ZP:0005599</td>\n",
       "      <td>RO:0002200</td>\n",
       "      <td>has phenotype</td>\n",
       "      <td>NaN</td>\n",
       "    </tr>\n",
       "    <tr>\n",
       "      <th>8</th>\n",
       "      <td>MONARCH40288</td>\n",
       "      <td>WormBase:WBGene00003930</td>\n",
       "      <td>GO:0005515</td>\n",
       "      <td>RO:0002327</td>\n",
       "      <td>enables</td>\n",
       "      <td>NaN</td>\n",
       "    </tr>\n",
       "    <tr>\n",
       "      <th>9</th>\n",
       "      <td>MONARCH69749</td>\n",
       "      <td>ENSEMBL:ENSSSCG00000006344</td>\n",
       "      <td>ZFIN:ZDB-GENE-081024-1</td>\n",
       "      <td>RO:HOM0000020</td>\n",
       "      <td>in 1 to 1 orthology relationship with</td>\n",
       "      <td>NaN</td>\n",
       "    </tr>\n",
       "  </tbody>\n",
       "</table>\n",
       "</div>"
      ],
      "text/plain": [
       "             id                     subject                      object  \\\n",
       "0  MONARCH75386    ZFIN:ZDB-GENE-050626-112         FlyBase:FBgn0085464   \n",
       "1  MONARCH48847  ENSEMBL:ENSCAFG00000007343         FlyBase:FBgn0026598   \n",
       "2  MONARCH41069  ENSEMBL:ENSECAG00000018600                   MGI:87906   \n",
       "3   MONARCH9916  ENSEMBL:ENSXETG00000039919  ENSEMBL:ENSECAG00000016277   \n",
       "4  MONARCH51257                   MGI:94909                  MP:0004819   \n",
       "5  MONARCH59350  ENSEMBL:ENSFCAG00000014942     Xenbase:XB-GENE-6041092   \n",
       "6   MONARCH1688         FlyBase:FBgn0283681                FBcv:0002002   \n",
       "7  MONARCH53712      ZFIN:ZDB-GENE-070412-4                  ZP:0005599   \n",
       "8  MONARCH40288     WormBase:WBGene00003930                  GO:0005515   \n",
       "9  MONARCH69749  ENSEMBL:ENSSSCG00000006344      ZFIN:ZDB-GENE-081024-1   \n",
       "\n",
       "     relation_id                         relation_label  relation_iri  \n",
       "0  RO:HOM0000017         in orthology relationship with           NaN  \n",
       "1  RO:HOM0000017         in orthology relationship with           NaN  \n",
       "2  RO:HOM0000020  in 1 to 1 orthology relationship with           NaN  \n",
       "3  RO:HOM0000020  in 1 to 1 orthology relationship with           NaN  \n",
       "4     RO:0002200                          has phenotype           NaN  \n",
       "5  RO:HOM0000017         in orthology relationship with           NaN  \n",
       "6     RO:0002200                          has phenotype           NaN  \n",
       "7     RO:0002200                          has phenotype           NaN  \n",
       "8     RO:0002327                                enables           NaN  \n",
       "9  RO:HOM0000020  in 1 to 1 orthology relationship with           NaN  "
      ]
     },
     "execution_count": 5,
     "metadata": {},
     "output_type": "execute_result"
    }
   ],
   "source": [
    "edges = pd.read_csv('output/prev_kg_edges.csv', header=0)\n",
    "#edges = pd.read_csv('output/new_kg_edges.csv', header=0)\n",
    "edges.head(10)"
   ]
  },
  {
   "attachments": {},
   "cell_type": "markdown",
   "metadata": {},
   "source": [
    "Extract the relevant columns and rename these columns."
   ]
  },
  {
   "cell_type": "code",
   "execution_count": 6,
   "metadata": {},
   "outputs": [
    {
     "data": {
      "text/html": [
       "<div>\n",
       "<style scoped>\n",
       "    .dataframe tbody tr th:only-of-type {\n",
       "        vertical-align: middle;\n",
       "    }\n",
       "\n",
       "    .dataframe tbody tr th {\n",
       "        vertical-align: top;\n",
       "    }\n",
       "\n",
       "    .dataframe thead th {\n",
       "        text-align: right;\n",
       "    }\n",
       "</style>\n",
       "<table border=\"1\" class=\"dataframe\">\n",
       "  <thead>\n",
       "    <tr style=\"text-align: right;\">\n",
       "      <th></th>\n",
       "      <th>head</th>\n",
       "      <th>relation</th>\n",
       "      <th>tail</th>\n",
       "    </tr>\n",
       "  </thead>\n",
       "  <tbody>\n",
       "    <tr>\n",
       "      <th>0</th>\n",
       "      <td>ZFIN:ZDB-GENE-050626-112</td>\n",
       "      <td>in orthology relationship with</td>\n",
       "      <td>FlyBase:FBgn0085464</td>\n",
       "    </tr>\n",
       "    <tr>\n",
       "      <th>1</th>\n",
       "      <td>ENSEMBL:ENSCAFG00000007343</td>\n",
       "      <td>in orthology relationship with</td>\n",
       "      <td>FlyBase:FBgn0026598</td>\n",
       "    </tr>\n",
       "    <tr>\n",
       "      <th>2</th>\n",
       "      <td>ENSEMBL:ENSECAG00000018600</td>\n",
       "      <td>in 1 to 1 orthology relationship with</td>\n",
       "      <td>MGI:87906</td>\n",
       "    </tr>\n",
       "    <tr>\n",
       "      <th>3</th>\n",
       "      <td>ENSEMBL:ENSXETG00000039919</td>\n",
       "      <td>in 1 to 1 orthology relationship with</td>\n",
       "      <td>ENSEMBL:ENSECAG00000016277</td>\n",
       "    </tr>\n",
       "    <tr>\n",
       "      <th>4</th>\n",
       "      <td>MGI:94909</td>\n",
       "      <td>has phenotype</td>\n",
       "      <td>MP:0004819</td>\n",
       "    </tr>\n",
       "    <tr>\n",
       "      <th>5</th>\n",
       "      <td>ENSEMBL:ENSFCAG00000014942</td>\n",
       "      <td>in orthology relationship with</td>\n",
       "      <td>Xenbase:XB-GENE-6041092</td>\n",
       "    </tr>\n",
       "    <tr>\n",
       "      <th>6</th>\n",
       "      <td>FlyBase:FBgn0283681</td>\n",
       "      <td>has phenotype</td>\n",
       "      <td>FBcv:0002002</td>\n",
       "    </tr>\n",
       "    <tr>\n",
       "      <th>7</th>\n",
       "      <td>ZFIN:ZDB-GENE-070412-4</td>\n",
       "      <td>has phenotype</td>\n",
       "      <td>ZP:0005599</td>\n",
       "    </tr>\n",
       "    <tr>\n",
       "      <th>8</th>\n",
       "      <td>WormBase:WBGene00003930</td>\n",
       "      <td>enables</td>\n",
       "      <td>GO:0005515</td>\n",
       "    </tr>\n",
       "    <tr>\n",
       "      <th>9</th>\n",
       "      <td>ENSEMBL:ENSSSCG00000006344</td>\n",
       "      <td>in 1 to 1 orthology relationship with</td>\n",
       "      <td>ZFIN:ZDB-GENE-081024-1</td>\n",
       "    </tr>\n",
       "  </tbody>\n",
       "</table>\n",
       "</div>"
      ],
      "text/plain": [
       "                         head                               relation  \\\n",
       "0    ZFIN:ZDB-GENE-050626-112         in orthology relationship with   \n",
       "1  ENSEMBL:ENSCAFG00000007343         in orthology relationship with   \n",
       "2  ENSEMBL:ENSECAG00000018600  in 1 to 1 orthology relationship with   \n",
       "3  ENSEMBL:ENSXETG00000039919  in 1 to 1 orthology relationship with   \n",
       "4                   MGI:94909                          has phenotype   \n",
       "5  ENSEMBL:ENSFCAG00000014942         in orthology relationship with   \n",
       "6         FlyBase:FBgn0283681                          has phenotype   \n",
       "7      ZFIN:ZDB-GENE-070412-4                          has phenotype   \n",
       "8     WormBase:WBGene00003930                                enables   \n",
       "9  ENSEMBL:ENSSSCG00000006344  in 1 to 1 orthology relationship with   \n",
       "\n",
       "                         tail  \n",
       "0         FlyBase:FBgn0085464  \n",
       "1         FlyBase:FBgn0026598  \n",
       "2                   MGI:87906  \n",
       "3  ENSEMBL:ENSECAG00000016277  \n",
       "4                  MP:0004819  \n",
       "5     Xenbase:XB-GENE-6041092  \n",
       "6                FBcv:0002002  \n",
       "7                  ZP:0005599  \n",
       "8                  GO:0005515  \n",
       "9      ZFIN:ZDB-GENE-081024-1  "
      ]
     },
     "execution_count": 6,
     "metadata": {},
     "output_type": "execute_result"
    }
   ],
   "source": [
    "edges = edges[['subject', 'relation_label', 'object']]\n",
    "edges.rename(columns={'subject': 'head', 'relation_label': 'relation', 'object': 'tail'}, inplace=True)\n",
    "edges.head(10)"
   ]
  },
  {
   "cell_type": "code",
   "execution_count": 7,
   "metadata": {},
   "outputs": [
    {
     "name": "stdout",
     "output_type": "stream",
     "text": [
      "There are 82944 edges\n"
     ]
    }
   ],
   "source": [
    "print(f'There are {edges.shape[0]} edges')"
   ]
  },
  {
   "attachments": {},
   "cell_type": "markdown",
   "metadata": {},
   "source": [
    "Load all nodes of the knowledge graph."
   ]
  },
  {
   "cell_type": "code",
   "execution_count": 8,
   "metadata": {},
   "outputs": [
    {
     "data": {
      "text/html": [
       "<div>\n",
       "<style scoped>\n",
       "    .dataframe tbody tr th:only-of-type {\n",
       "        vertical-align: middle;\n",
       "    }\n",
       "\n",
       "    .dataframe tbody tr th {\n",
       "        vertical-align: top;\n",
       "    }\n",
       "\n",
       "    .dataframe thead th {\n",
       "        text-align: right;\n",
       "    }\n",
       "</style>\n",
       "<table border=\"1\" class=\"dataframe\">\n",
       "  <thead>\n",
       "    <tr style=\"text-align: right;\">\n",
       "      <th></th>\n",
       "      <th>id</th>\n",
       "      <th>label</th>\n",
       "      <th>iri</th>\n",
       "      <th>semantic</th>\n",
       "      <th>taxon_id</th>\n",
       "      <th>taxon_label</th>\n",
       "      <th>index_id</th>\n",
       "    </tr>\n",
       "  </thead>\n",
       "  <tbody>\n",
       "    <tr>\n",
       "      <th>0</th>\n",
       "      <td>WormBase:WBGene00000389</td>\n",
       "      <td>cdc-25.4</td>\n",
       "      <td>NaN</td>\n",
       "      <td>ORTH</td>\n",
       "      <td>NaN</td>\n",
       "      <td>NaN</td>\n",
       "      <td>0</td>\n",
       "    </tr>\n",
       "    <tr>\n",
       "      <th>1</th>\n",
       "      <td>ZP:0018675</td>\n",
       "      <td>right side lateral plate mesoderm mislocalised...</td>\n",
       "      <td>NaN</td>\n",
       "      <td>DISO</td>\n",
       "      <td>NaN</td>\n",
       "      <td>NaN</td>\n",
       "      <td>1</td>\n",
       "    </tr>\n",
       "    <tr>\n",
       "      <th>2</th>\n",
       "      <td>ZFIN:ZDB-GENE-040426-1197</td>\n",
       "      <td>tbc1d5</td>\n",
       "      <td>NaN</td>\n",
       "      <td>ORTH</td>\n",
       "      <td>NaN</td>\n",
       "      <td>NaN</td>\n",
       "      <td>2</td>\n",
       "    </tr>\n",
       "    <tr>\n",
       "      <th>3</th>\n",
       "      <td>5</td>\n",
       "      <td>(S)-nicardipine</td>\n",
       "      <td>NaN</td>\n",
       "      <td>DRUG</td>\n",
       "      <td>NaN</td>\n",
       "      <td>NaN</td>\n",
       "      <td>3</td>\n",
       "    </tr>\n",
       "    <tr>\n",
       "      <th>4</th>\n",
       "      <td>RGD:3443</td>\n",
       "      <td>Ptk2</td>\n",
       "      <td>NaN</td>\n",
       "      <td>ORTH</td>\n",
       "      <td>NaN</td>\n",
       "      <td>NaN</td>\n",
       "      <td>4</td>\n",
       "    </tr>\n",
       "    <tr>\n",
       "      <th>5</th>\n",
       "      <td>dbSNP:rs73460075</td>\n",
       "      <td>rs73460075-C</td>\n",
       "      <td>NaN</td>\n",
       "      <td>GENO</td>\n",
       "      <td>NaN</td>\n",
       "      <td>NaN</td>\n",
       "      <td>5</td>\n",
       "    </tr>\n",
       "    <tr>\n",
       "      <th>6</th>\n",
       "      <td>6</td>\n",
       "      <td>(S)-nitrendipine</td>\n",
       "      <td>NaN</td>\n",
       "      <td>DRUG</td>\n",
       "      <td>NaN</td>\n",
       "      <td>NaN</td>\n",
       "      <td>6</td>\n",
       "    </tr>\n",
       "    <tr>\n",
       "      <th>7</th>\n",
       "      <td>HP:0000997</td>\n",
       "      <td>Axillary freckling</td>\n",
       "      <td>NaN</td>\n",
       "      <td>DISO</td>\n",
       "      <td>NaN</td>\n",
       "      <td>NaN</td>\n",
       "      <td>7</td>\n",
       "    </tr>\n",
       "    <tr>\n",
       "      <th>8</th>\n",
       "      <td>ZP:0105707</td>\n",
       "      <td>Reissner's fiber malformed, abnormal</td>\n",
       "      <td>NaN</td>\n",
       "      <td>DISO</td>\n",
       "      <td>NaN</td>\n",
       "      <td>NaN</td>\n",
       "      <td>8</td>\n",
       "    </tr>\n",
       "    <tr>\n",
       "      <th>9</th>\n",
       "      <td>MESH:C580853</td>\n",
       "      <td>cannabidivarin</td>\n",
       "      <td>NaN</td>\n",
       "      <td>DRUG</td>\n",
       "      <td>NaN</td>\n",
       "      <td>NaN</td>\n",
       "      <td>9</td>\n",
       "    </tr>\n",
       "  </tbody>\n",
       "</table>\n",
       "</div>"
      ],
      "text/plain": [
       "                          id  \\\n",
       "0    WormBase:WBGene00000389   \n",
       "1                 ZP:0018675   \n",
       "2  ZFIN:ZDB-GENE-040426-1197   \n",
       "3                          5   \n",
       "4                   RGD:3443   \n",
       "5           dbSNP:rs73460075   \n",
       "6                          6   \n",
       "7                 HP:0000997   \n",
       "8                 ZP:0105707   \n",
       "9               MESH:C580853   \n",
       "\n",
       "                                               label  iri semantic  taxon_id  \\\n",
       "0                                           cdc-25.4  NaN     ORTH       NaN   \n",
       "1  right side lateral plate mesoderm mislocalised...  NaN     DISO       NaN   \n",
       "2                                             tbc1d5  NaN     ORTH       NaN   \n",
       "3                                    (S)-nicardipine  NaN     DRUG       NaN   \n",
       "4                                               Ptk2  NaN     ORTH       NaN   \n",
       "5                                       rs73460075-C  NaN     GENO       NaN   \n",
       "6                                   (S)-nitrendipine  NaN     DRUG       NaN   \n",
       "7                                 Axillary freckling  NaN     DISO       NaN   \n",
       "8               Reissner's fiber malformed, abnormal  NaN     DISO       NaN   \n",
       "9                                     cannabidivarin  NaN     DRUG       NaN   \n",
       "\n",
       "   taxon_label  index_id  \n",
       "0          NaN         0  \n",
       "1          NaN         1  \n",
       "2          NaN         2  \n",
       "3          NaN         3  \n",
       "4          NaN         4  \n",
       "5          NaN         5  \n",
       "6          NaN         6  \n",
       "7          NaN         7  \n",
       "8          NaN         8  \n",
       "9          NaN         9  "
      ]
     },
     "execution_count": 8,
     "metadata": {},
     "output_type": "execute_result"
    }
   ],
   "source": [
    "nodes = pd.read_csv('output/prev_kg_nodes.csv', header=0)\n",
    "#nodes = pd.read_csv('output/new_kg_nodes.csv', header=0)\n",
    "nodes['index_id'] = nodes.index\n",
    "nodes.head(10)"
   ]
  },
  {
   "cell_type": "code",
   "execution_count": 9,
   "metadata": {},
   "outputs": [
    {
     "name": "stdout",
     "output_type": "stream",
     "text": [
      "There are 10034 nodes\n"
     ]
    }
   ],
   "source": [
    "print(f'There are {nodes.shape[0]} nodes')"
   ]
  },
  {
   "attachments": {},
   "cell_type": "markdown",
   "metadata": {},
   "source": [
    "Extract the relevant columns."
   ]
  },
  {
   "cell_type": "code",
   "execution_count": 10,
   "metadata": {},
   "outputs": [
    {
     "data": {
      "text/html": [
       "<div>\n",
       "<style scoped>\n",
       "    .dataframe tbody tr th:only-of-type {\n",
       "        vertical-align: middle;\n",
       "    }\n",
       "\n",
       "    .dataframe tbody tr th {\n",
       "        vertical-align: top;\n",
       "    }\n",
       "\n",
       "    .dataframe thead th {\n",
       "        text-align: right;\n",
       "    }\n",
       "</style>\n",
       "<table border=\"1\" class=\"dataframe\">\n",
       "  <thead>\n",
       "    <tr style=\"text-align: right;\">\n",
       "      <th></th>\n",
       "      <th>index_id</th>\n",
       "      <th>id</th>\n",
       "      <th>semantic</th>\n",
       "      <th>label</th>\n",
       "    </tr>\n",
       "  </thead>\n",
       "  <tbody>\n",
       "    <tr>\n",
       "      <th>0</th>\n",
       "      <td>0</td>\n",
       "      <td>WormBase:WBGene00000389</td>\n",
       "      <td>ORTH</td>\n",
       "      <td>cdc-25.4</td>\n",
       "    </tr>\n",
       "    <tr>\n",
       "      <th>1</th>\n",
       "      <td>1</td>\n",
       "      <td>ZP:0018675</td>\n",
       "      <td>DISO</td>\n",
       "      <td>right side lateral plate mesoderm mislocalised...</td>\n",
       "    </tr>\n",
       "    <tr>\n",
       "      <th>2</th>\n",
       "      <td>2</td>\n",
       "      <td>ZFIN:ZDB-GENE-040426-1197</td>\n",
       "      <td>ORTH</td>\n",
       "      <td>tbc1d5</td>\n",
       "    </tr>\n",
       "    <tr>\n",
       "      <th>3</th>\n",
       "      <td>3</td>\n",
       "      <td>5</td>\n",
       "      <td>DRUG</td>\n",
       "      <td>(S)-nicardipine</td>\n",
       "    </tr>\n",
       "    <tr>\n",
       "      <th>4</th>\n",
       "      <td>4</td>\n",
       "      <td>RGD:3443</td>\n",
       "      <td>ORTH</td>\n",
       "      <td>Ptk2</td>\n",
       "    </tr>\n",
       "    <tr>\n",
       "      <th>5</th>\n",
       "      <td>5</td>\n",
       "      <td>dbSNP:rs73460075</td>\n",
       "      <td>GENO</td>\n",
       "      <td>rs73460075-C</td>\n",
       "    </tr>\n",
       "    <tr>\n",
       "      <th>6</th>\n",
       "      <td>6</td>\n",
       "      <td>6</td>\n",
       "      <td>DRUG</td>\n",
       "      <td>(S)-nitrendipine</td>\n",
       "    </tr>\n",
       "    <tr>\n",
       "      <th>7</th>\n",
       "      <td>7</td>\n",
       "      <td>HP:0000997</td>\n",
       "      <td>DISO</td>\n",
       "      <td>Axillary freckling</td>\n",
       "    </tr>\n",
       "    <tr>\n",
       "      <th>8</th>\n",
       "      <td>8</td>\n",
       "      <td>ZP:0105707</td>\n",
       "      <td>DISO</td>\n",
       "      <td>Reissner's fiber malformed, abnormal</td>\n",
       "    </tr>\n",
       "    <tr>\n",
       "      <th>9</th>\n",
       "      <td>9</td>\n",
       "      <td>MESH:C580853</td>\n",
       "      <td>DRUG</td>\n",
       "      <td>cannabidivarin</td>\n",
       "    </tr>\n",
       "  </tbody>\n",
       "</table>\n",
       "</div>"
      ],
      "text/plain": [
       "   index_id                         id semantic  \\\n",
       "0         0    WormBase:WBGene00000389     ORTH   \n",
       "1         1                 ZP:0018675     DISO   \n",
       "2         2  ZFIN:ZDB-GENE-040426-1197     ORTH   \n",
       "3         3                          5     DRUG   \n",
       "4         4                   RGD:3443     ORTH   \n",
       "5         5           dbSNP:rs73460075     GENO   \n",
       "6         6                          6     DRUG   \n",
       "7         7                 HP:0000997     DISO   \n",
       "8         8                 ZP:0105707     DISO   \n",
       "9         9               MESH:C580853     DRUG   \n",
       "\n",
       "                                               label  \n",
       "0                                           cdc-25.4  \n",
       "1  right side lateral plate mesoderm mislocalised...  \n",
       "2                                             tbc1d5  \n",
       "3                                    (S)-nicardipine  \n",
       "4                                               Ptk2  \n",
       "5                                       rs73460075-C  \n",
       "6                                   (S)-nitrendipine  \n",
       "7                                 Axillary freckling  \n",
       "8               Reissner's fiber malformed, abnormal  \n",
       "9                                     cannabidivarin  "
      ]
     },
     "execution_count": 10,
     "metadata": {},
     "output_type": "execute_result"
    }
   ],
   "source": [
    "nodes = nodes[['index_id', 'id', 'semantic', 'label']]\n",
    "nodes.head(10)"
   ]
  },
  {
   "attachments": {},
   "cell_type": "markdown",
   "metadata": {},
   "source": [
    "Convert categorical to numerical values for the semantic groups."
   ]
  },
  {
   "cell_type": "code",
   "execution_count": 11,
   "metadata": {},
   "outputs": [
    {
     "data": {
      "text/html": [
       "<div>\n",
       "<style scoped>\n",
       "    .dataframe tbody tr th:only-of-type {\n",
       "        vertical-align: middle;\n",
       "    }\n",
       "\n",
       "    .dataframe tbody tr th {\n",
       "        vertical-align: top;\n",
       "    }\n",
       "\n",
       "    .dataframe thead th {\n",
       "        text-align: right;\n",
       "    }\n",
       "</style>\n",
       "<table border=\"1\" class=\"dataframe\">\n",
       "  <thead>\n",
       "    <tr style=\"text-align: right;\">\n",
       "      <th></th>\n",
       "      <th>index_id</th>\n",
       "      <th>id</th>\n",
       "      <th>semantic</th>\n",
       "      <th>label</th>\n",
       "      <th>semantic_id</th>\n",
       "    </tr>\n",
       "  </thead>\n",
       "  <tbody>\n",
       "    <tr>\n",
       "      <th>0</th>\n",
       "      <td>0</td>\n",
       "      <td>WormBase:WBGene00000389</td>\n",
       "      <td>ORTH</td>\n",
       "      <td>cdc-25.4</td>\n",
       "      <td>5</td>\n",
       "    </tr>\n",
       "    <tr>\n",
       "      <th>1</th>\n",
       "      <td>1</td>\n",
       "      <td>ZP:0018675</td>\n",
       "      <td>DISO</td>\n",
       "      <td>right side lateral plate mesoderm mislocalised...</td>\n",
       "      <td>1</td>\n",
       "    </tr>\n",
       "    <tr>\n",
       "      <th>2</th>\n",
       "      <td>2</td>\n",
       "      <td>ZFIN:ZDB-GENE-040426-1197</td>\n",
       "      <td>ORTH</td>\n",
       "      <td>tbc1d5</td>\n",
       "      <td>5</td>\n",
       "    </tr>\n",
       "    <tr>\n",
       "      <th>3</th>\n",
       "      <td>3</td>\n",
       "      <td>5</td>\n",
       "      <td>DRUG</td>\n",
       "      <td>(S)-nicardipine</td>\n",
       "      <td>2</td>\n",
       "    </tr>\n",
       "    <tr>\n",
       "      <th>4</th>\n",
       "      <td>4</td>\n",
       "      <td>RGD:3443</td>\n",
       "      <td>ORTH</td>\n",
       "      <td>Ptk2</td>\n",
       "      <td>5</td>\n",
       "    </tr>\n",
       "    <tr>\n",
       "      <th>5</th>\n",
       "      <td>5</td>\n",
       "      <td>dbSNP:rs73460075</td>\n",
       "      <td>GENO</td>\n",
       "      <td>rs73460075-C</td>\n",
       "      <td>4</td>\n",
       "    </tr>\n",
       "    <tr>\n",
       "      <th>6</th>\n",
       "      <td>6</td>\n",
       "      <td>6</td>\n",
       "      <td>DRUG</td>\n",
       "      <td>(S)-nitrendipine</td>\n",
       "      <td>2</td>\n",
       "    </tr>\n",
       "    <tr>\n",
       "      <th>7</th>\n",
       "      <td>7</td>\n",
       "      <td>HP:0000997</td>\n",
       "      <td>DISO</td>\n",
       "      <td>Axillary freckling</td>\n",
       "      <td>1</td>\n",
       "    </tr>\n",
       "    <tr>\n",
       "      <th>8</th>\n",
       "      <td>8</td>\n",
       "      <td>ZP:0105707</td>\n",
       "      <td>DISO</td>\n",
       "      <td>Reissner's fiber malformed, abnormal</td>\n",
       "      <td>1</td>\n",
       "    </tr>\n",
       "    <tr>\n",
       "      <th>9</th>\n",
       "      <td>9</td>\n",
       "      <td>MESH:C580853</td>\n",
       "      <td>DRUG</td>\n",
       "      <td>cannabidivarin</td>\n",
       "      <td>2</td>\n",
       "    </tr>\n",
       "  </tbody>\n",
       "</table>\n",
       "</div>"
      ],
      "text/plain": [
       "   index_id                         id semantic  \\\n",
       "0         0    WormBase:WBGene00000389     ORTH   \n",
       "1         1                 ZP:0018675     DISO   \n",
       "2         2  ZFIN:ZDB-GENE-040426-1197     ORTH   \n",
       "3         3                          5     DRUG   \n",
       "4         4                   RGD:3443     ORTH   \n",
       "5         5           dbSNP:rs73460075     GENO   \n",
       "6         6                          6     DRUG   \n",
       "7         7                 HP:0000997     DISO   \n",
       "8         8                 ZP:0105707     DISO   \n",
       "9         9               MESH:C580853     DRUG   \n",
       "\n",
       "                                               label  semantic_id  \n",
       "0                                           cdc-25.4            5  \n",
       "1  right side lateral plate mesoderm mislocalised...            1  \n",
       "2                                             tbc1d5            5  \n",
       "3                                    (S)-nicardipine            2  \n",
       "4                                               Ptk2            5  \n",
       "5                                       rs73460075-C            4  \n",
       "6                                   (S)-nitrendipine            2  \n",
       "7                                 Axillary freckling            1  \n",
       "8               Reissner's fiber malformed, abnormal            1  \n",
       "9                                     cannabidivarin            2  "
      ]
     },
     "execution_count": 11,
     "metadata": {},
     "output_type": "execute_result"
    }
   ],
   "source": [
    "nodes['semantic'] = nodes['semantic'].astype('category')\n",
    "nodes['semantic_id'] = nodes['semantic'].cat.codes\n",
    "nodes.head(10)"
   ]
  },
  {
   "cell_type": "code",
   "execution_count": 12,
   "metadata": {},
   "outputs": [],
   "source": [
    "nodes.to_csv('output/indexed_nodes.csv', index=False)"
   ]
  },
  {
   "attachments": {},
   "cell_type": "markdown",
   "metadata": {},
   "source": [
    "The dictionary below can be used as mapping between generated semantic ID and semantic group label."
   ]
  },
  {
   "cell_type": "code",
   "execution_count": 13,
   "metadata": {},
   "outputs": [
    {
     "data": {
      "text/plain": [
       "{0: 'ANAT',\n",
       " 1: 'DISO',\n",
       " 2: 'DRUG',\n",
       " 3: 'GENE',\n",
       " 4: 'GENO',\n",
       " 5: 'ORTH',\n",
       " 6: 'PHYS',\n",
       " 7: 'VARI'}"
      ]
     },
     "execution_count": 13,
     "metadata": {},
     "output_type": "execute_result"
    }
   ],
   "source": [
    "node_semantic_dict = dict(enumerate(nodes['semantic'].cat.categories))\n",
    "node_semantic_dict"
   ]
  },
  {
   "attachments": {},
   "cell_type": "markdown",
   "metadata": {},
   "source": [
    "Merge nodes and edges in order to join semantic classes of nodes with heads and tails of the edges."
   ]
  },
  {
   "cell_type": "code",
   "execution_count": 14,
   "metadata": {},
   "outputs": [
    {
     "data": {
      "text/html": [
       "<div>\n",
       "<style scoped>\n",
       "    .dataframe tbody tr th:only-of-type {\n",
       "        vertical-align: middle;\n",
       "    }\n",
       "\n",
       "    .dataframe tbody tr th {\n",
       "        vertical-align: top;\n",
       "    }\n",
       "\n",
       "    .dataframe thead th {\n",
       "        text-align: right;\n",
       "    }\n",
       "</style>\n",
       "<table border=\"1\" class=\"dataframe\">\n",
       "  <thead>\n",
       "    <tr style=\"text-align: right;\">\n",
       "      <th></th>\n",
       "      <th>head</th>\n",
       "      <th>label_head</th>\n",
       "      <th>class_head</th>\n",
       "      <th>index_head</th>\n",
       "      <th>relation</th>\n",
       "      <th>tail</th>\n",
       "    </tr>\n",
       "  </thead>\n",
       "  <tbody>\n",
       "    <tr>\n",
       "      <th>0</th>\n",
       "      <td>ZFIN:ZDB-GENE-050626-112</td>\n",
       "      <td>myl4</td>\n",
       "      <td>5</td>\n",
       "      <td>5279</td>\n",
       "      <td>in orthology relationship with</td>\n",
       "      <td>FlyBase:FBgn0085464</td>\n",
       "    </tr>\n",
       "    <tr>\n",
       "      <th>1</th>\n",
       "      <td>ZFIN:ZDB-GENE-050626-112</td>\n",
       "      <td>myl4</td>\n",
       "      <td>5</td>\n",
       "      <td>5279</td>\n",
       "      <td>in orthology relationship with</td>\n",
       "      <td>HGNC:7585</td>\n",
       "    </tr>\n",
       "    <tr>\n",
       "      <th>2</th>\n",
       "      <td>ZFIN:ZDB-GENE-050626-112</td>\n",
       "      <td>myl4</td>\n",
       "      <td>5</td>\n",
       "      <td>5279</td>\n",
       "      <td>in orthology relationship with</td>\n",
       "      <td>FlyBase:FBgn0002772</td>\n",
       "    </tr>\n",
       "    <tr>\n",
       "      <th>3</th>\n",
       "      <td>ZFIN:ZDB-GENE-050626-112</td>\n",
       "      <td>myl4</td>\n",
       "      <td>5</td>\n",
       "      <td>5279</td>\n",
       "      <td>in orthology relationship with</td>\n",
       "      <td>NCBIGene:396472</td>\n",
       "    </tr>\n",
       "    <tr>\n",
       "      <th>4</th>\n",
       "      <td>ZFIN:ZDB-GENE-050626-112</td>\n",
       "      <td>myl4</td>\n",
       "      <td>5</td>\n",
       "      <td>5279</td>\n",
       "      <td>in 1 to 1 orthology relationship with</td>\n",
       "      <td>ENSEMBL:ENSECAG00000020967</td>\n",
       "    </tr>\n",
       "    <tr>\n",
       "      <th>5</th>\n",
       "      <td>ZFIN:ZDB-GENE-050626-112</td>\n",
       "      <td>myl4</td>\n",
       "      <td>5</td>\n",
       "      <td>5279</td>\n",
       "      <td>in 1 to 1 orthology relationship with</td>\n",
       "      <td>ENSEMBL:ENSACAG00000017407</td>\n",
       "    </tr>\n",
       "    <tr>\n",
       "      <th>6</th>\n",
       "      <td>ZFIN:ZDB-GENE-050626-112</td>\n",
       "      <td>myl4</td>\n",
       "      <td>5</td>\n",
       "      <td>5279</td>\n",
       "      <td>in 1 to 1 orthology relationship with</td>\n",
       "      <td>MGI:97267</td>\n",
       "    </tr>\n",
       "    <tr>\n",
       "      <th>7</th>\n",
       "      <td>ZFIN:ZDB-GENE-050626-112</td>\n",
       "      <td>myl4</td>\n",
       "      <td>5</td>\n",
       "      <td>5279</td>\n",
       "      <td>in 1 to 1 orthology relationship with</td>\n",
       "      <td>RGD:1591197</td>\n",
       "    </tr>\n",
       "    <tr>\n",
       "      <th>8</th>\n",
       "      <td>ZFIN:ZDB-GENE-050626-112</td>\n",
       "      <td>myl4</td>\n",
       "      <td>5</td>\n",
       "      <td>5279</td>\n",
       "      <td>in 1 to 1 orthology relationship with</td>\n",
       "      <td>ENSEMBL:ENSFCAG00000003878</td>\n",
       "    </tr>\n",
       "    <tr>\n",
       "      <th>9</th>\n",
       "      <td>ZFIN:ZDB-GENE-050626-112</td>\n",
       "      <td>myl4</td>\n",
       "      <td>5</td>\n",
       "      <td>5279</td>\n",
       "      <td>in 1 to 1 orthology relationship with</td>\n",
       "      <td>ENSEMBL:ENSMODG00000010887</td>\n",
       "    </tr>\n",
       "  </tbody>\n",
       "</table>\n",
       "</div>"
      ],
      "text/plain": [
       "                       head label_head  class_head  index_head  \\\n",
       "0  ZFIN:ZDB-GENE-050626-112       myl4           5        5279   \n",
       "1  ZFIN:ZDB-GENE-050626-112       myl4           5        5279   \n",
       "2  ZFIN:ZDB-GENE-050626-112       myl4           5        5279   \n",
       "3  ZFIN:ZDB-GENE-050626-112       myl4           5        5279   \n",
       "4  ZFIN:ZDB-GENE-050626-112       myl4           5        5279   \n",
       "5  ZFIN:ZDB-GENE-050626-112       myl4           5        5279   \n",
       "6  ZFIN:ZDB-GENE-050626-112       myl4           5        5279   \n",
       "7  ZFIN:ZDB-GENE-050626-112       myl4           5        5279   \n",
       "8  ZFIN:ZDB-GENE-050626-112       myl4           5        5279   \n",
       "9  ZFIN:ZDB-GENE-050626-112       myl4           5        5279   \n",
       "\n",
       "                                relation                        tail  \n",
       "0         in orthology relationship with         FlyBase:FBgn0085464  \n",
       "1         in orthology relationship with                   HGNC:7585  \n",
       "2         in orthology relationship with         FlyBase:FBgn0002772  \n",
       "3         in orthology relationship with             NCBIGene:396472  \n",
       "4  in 1 to 1 orthology relationship with  ENSEMBL:ENSECAG00000020967  \n",
       "5  in 1 to 1 orthology relationship with  ENSEMBL:ENSACAG00000017407  \n",
       "6  in 1 to 1 orthology relationship with                   MGI:97267  \n",
       "7  in 1 to 1 orthology relationship with                 RGD:1591197  \n",
       "8  in 1 to 1 orthology relationship with  ENSEMBL:ENSFCAG00000003878  \n",
       "9  in 1 to 1 orthology relationship with  ENSEMBL:ENSMODG00000010887  "
      ]
     },
     "execution_count": 14,
     "metadata": {},
     "output_type": "execute_result"
    }
   ],
   "source": [
    "kg_df = pd.merge(edges, nodes,\n",
    "                 left_on='head', right_on='id',\n",
    "                 how='inner')   # TODO: inner changed left\n",
    "kg_df = kg_df[['head', 'label', 'semantic_id', 'index_id', 'relation', 'tail']]\n",
    "kg_df.rename(columns={'label': 'label_head', 'semantic_id': 'class_head', 'index_id': 'index_head'}, inplace=True)\n",
    "kg_df.head(10)"
   ]
  },
  {
   "cell_type": "code",
   "execution_count": 15,
   "metadata": {},
   "outputs": [
    {
     "data": {
      "text/html": [
       "<div>\n",
       "<style scoped>\n",
       "    .dataframe tbody tr th:only-of-type {\n",
       "        vertical-align: middle;\n",
       "    }\n",
       "\n",
       "    .dataframe tbody tr th {\n",
       "        vertical-align: top;\n",
       "    }\n",
       "\n",
       "    .dataframe thead th {\n",
       "        text-align: right;\n",
       "    }\n",
       "</style>\n",
       "<table border=\"1\" class=\"dataframe\">\n",
       "  <thead>\n",
       "    <tr style=\"text-align: right;\">\n",
       "      <th></th>\n",
       "      <th>head</th>\n",
       "      <th>label_head</th>\n",
       "      <th>class_head</th>\n",
       "      <th>index_head</th>\n",
       "      <th>relation</th>\n",
       "      <th>tail</th>\n",
       "      <th>label_tail</th>\n",
       "      <th>class_tail</th>\n",
       "      <th>index_tail</th>\n",
       "    </tr>\n",
       "  </thead>\n",
       "  <tbody>\n",
       "    <tr>\n",
       "      <th>0</th>\n",
       "      <td>ZFIN:ZDB-GENE-050626-112</td>\n",
       "      <td>myl4</td>\n",
       "      <td>5</td>\n",
       "      <td>5279</td>\n",
       "      <td>in orthology relationship with</td>\n",
       "      <td>FlyBase:FBgn0085464</td>\n",
       "      <td>CG34435</td>\n",
       "      <td>5</td>\n",
       "      <td>6825</td>\n",
       "    </tr>\n",
       "    <tr>\n",
       "      <th>1</th>\n",
       "      <td>ZFIN:ZDB-GENE-050626-112</td>\n",
       "      <td>myl4</td>\n",
       "      <td>5</td>\n",
       "      <td>5279</td>\n",
       "      <td>in orthology relationship with</td>\n",
       "      <td>HGNC:7585</td>\n",
       "      <td>MYL4</td>\n",
       "      <td>3</td>\n",
       "      <td>27</td>\n",
       "    </tr>\n",
       "    <tr>\n",
       "      <th>2</th>\n",
       "      <td>ZFIN:ZDB-GENE-050626-112</td>\n",
       "      <td>myl4</td>\n",
       "      <td>5</td>\n",
       "      <td>5279</td>\n",
       "      <td>in orthology relationship with</td>\n",
       "      <td>FlyBase:FBgn0002772</td>\n",
       "      <td>Mlc1</td>\n",
       "      <td>5</td>\n",
       "      <td>8901</td>\n",
       "    </tr>\n",
       "    <tr>\n",
       "      <th>3</th>\n",
       "      <td>ZFIN:ZDB-GENE-050626-112</td>\n",
       "      <td>myl4</td>\n",
       "      <td>5</td>\n",
       "      <td>5279</td>\n",
       "      <td>in orthology relationship with</td>\n",
       "      <td>NCBIGene:396472</td>\n",
       "      <td>MYL4</td>\n",
       "      <td>3</td>\n",
       "      <td>9508</td>\n",
       "    </tr>\n",
       "    <tr>\n",
       "      <th>4</th>\n",
       "      <td>ZFIN:ZDB-GENE-050626-112</td>\n",
       "      <td>myl4</td>\n",
       "      <td>5</td>\n",
       "      <td>5279</td>\n",
       "      <td>in 1 to 1 orthology relationship with</td>\n",
       "      <td>ENSEMBL:ENSECAG00000020967</td>\n",
       "      <td>ENSEMBL:ENSECAG00000020967</td>\n",
       "      <td>5</td>\n",
       "      <td>8807</td>\n",
       "    </tr>\n",
       "    <tr>\n",
       "      <th>5</th>\n",
       "      <td>ZFIN:ZDB-GENE-050626-112</td>\n",
       "      <td>myl4</td>\n",
       "      <td>5</td>\n",
       "      <td>5279</td>\n",
       "      <td>in 1 to 1 orthology relationship with</td>\n",
       "      <td>ENSEMBL:ENSACAG00000017407</td>\n",
       "      <td>ENSEMBL:ENSACAG00000017407</td>\n",
       "      <td>5</td>\n",
       "      <td>6449</td>\n",
       "    </tr>\n",
       "    <tr>\n",
       "      <th>6</th>\n",
       "      <td>ZFIN:ZDB-GENE-050626-112</td>\n",
       "      <td>myl4</td>\n",
       "      <td>5</td>\n",
       "      <td>5279</td>\n",
       "      <td>in 1 to 1 orthology relationship with</td>\n",
       "      <td>MGI:97267</td>\n",
       "      <td>Myl4</td>\n",
       "      <td>5</td>\n",
       "      <td>904</td>\n",
       "    </tr>\n",
       "    <tr>\n",
       "      <th>7</th>\n",
       "      <td>ZFIN:ZDB-GENE-050626-112</td>\n",
       "      <td>myl4</td>\n",
       "      <td>5</td>\n",
       "      <td>5279</td>\n",
       "      <td>in 1 to 1 orthology relationship with</td>\n",
       "      <td>RGD:1591197</td>\n",
       "      <td>Myl4</td>\n",
       "      <td>5</td>\n",
       "      <td>9266</td>\n",
       "    </tr>\n",
       "    <tr>\n",
       "      <th>8</th>\n",
       "      <td>ZFIN:ZDB-GENE-050626-112</td>\n",
       "      <td>myl4</td>\n",
       "      <td>5</td>\n",
       "      <td>5279</td>\n",
       "      <td>in 1 to 1 orthology relationship with</td>\n",
       "      <td>ENSEMBL:ENSFCAG00000003878</td>\n",
       "      <td>ENSEMBL:ENSFCAG00000003878</td>\n",
       "      <td>5</td>\n",
       "      <td>660</td>\n",
       "    </tr>\n",
       "    <tr>\n",
       "      <th>9</th>\n",
       "      <td>ZFIN:ZDB-GENE-050626-112</td>\n",
       "      <td>myl4</td>\n",
       "      <td>5</td>\n",
       "      <td>5279</td>\n",
       "      <td>in 1 to 1 orthology relationship with</td>\n",
       "      <td>ENSEMBL:ENSMODG00000010887</td>\n",
       "      <td>ENSEMBL:ENSMODG00000010887</td>\n",
       "      <td>5</td>\n",
       "      <td>8400</td>\n",
       "    </tr>\n",
       "  </tbody>\n",
       "</table>\n",
       "</div>"
      ],
      "text/plain": [
       "                       head label_head  class_head  index_head  \\\n",
       "0  ZFIN:ZDB-GENE-050626-112       myl4           5        5279   \n",
       "1  ZFIN:ZDB-GENE-050626-112       myl4           5        5279   \n",
       "2  ZFIN:ZDB-GENE-050626-112       myl4           5        5279   \n",
       "3  ZFIN:ZDB-GENE-050626-112       myl4           5        5279   \n",
       "4  ZFIN:ZDB-GENE-050626-112       myl4           5        5279   \n",
       "5  ZFIN:ZDB-GENE-050626-112       myl4           5        5279   \n",
       "6  ZFIN:ZDB-GENE-050626-112       myl4           5        5279   \n",
       "7  ZFIN:ZDB-GENE-050626-112       myl4           5        5279   \n",
       "8  ZFIN:ZDB-GENE-050626-112       myl4           5        5279   \n",
       "9  ZFIN:ZDB-GENE-050626-112       myl4           5        5279   \n",
       "\n",
       "                                relation                        tail  \\\n",
       "0         in orthology relationship with         FlyBase:FBgn0085464   \n",
       "1         in orthology relationship with                   HGNC:7585   \n",
       "2         in orthology relationship with         FlyBase:FBgn0002772   \n",
       "3         in orthology relationship with             NCBIGene:396472   \n",
       "4  in 1 to 1 orthology relationship with  ENSEMBL:ENSECAG00000020967   \n",
       "5  in 1 to 1 orthology relationship with  ENSEMBL:ENSACAG00000017407   \n",
       "6  in 1 to 1 orthology relationship with                   MGI:97267   \n",
       "7  in 1 to 1 orthology relationship with                 RGD:1591197   \n",
       "8  in 1 to 1 orthology relationship with  ENSEMBL:ENSFCAG00000003878   \n",
       "9  in 1 to 1 orthology relationship with  ENSEMBL:ENSMODG00000010887   \n",
       "\n",
       "                   label_tail  class_tail  index_tail  \n",
       "0                     CG34435           5        6825  \n",
       "1                        MYL4           3          27  \n",
       "2                        Mlc1           5        8901  \n",
       "3                        MYL4           3        9508  \n",
       "4  ENSEMBL:ENSECAG00000020967           5        8807  \n",
       "5  ENSEMBL:ENSACAG00000017407           5        6449  \n",
       "6                        Myl4           5         904  \n",
       "7                        Myl4           5        9266  \n",
       "8  ENSEMBL:ENSFCAG00000003878           5         660  \n",
       "9  ENSEMBL:ENSMODG00000010887           5        8400  "
      ]
     },
     "execution_count": 15,
     "metadata": {},
     "output_type": "execute_result"
    }
   ],
   "source": [
    "kg_df = pd.merge(kg_df, nodes,\n",
    "                 left_on='tail', right_on='id',\n",
    "                 how='left')\n",
    "kg_df = kg_df[['head', 'label_head', 'class_head', 'index_head', 'relation', 'tail', 'label', 'semantic_id', 'index_id']]\n",
    "kg_df.rename(columns={'label': 'label_tail', 'semantic_id': 'class_tail', 'index_id': 'index_tail'}, inplace=True)\n",
    "kg_df.head(10)"
   ]
  },
  {
   "attachments": {},
   "cell_type": "markdown",
   "metadata": {},
   "source": [
    "The indices in the `index_id` column can be found as the actual indices of the row. So, this column can be removed as it was only needed for merging purposes."
   ]
  },
  {
   "cell_type": "code",
   "execution_count": 16,
   "metadata": {},
   "outputs": [
    {
     "data": {
      "text/html": [
       "<div>\n",
       "<style scoped>\n",
       "    .dataframe tbody tr th:only-of-type {\n",
       "        vertical-align: middle;\n",
       "    }\n",
       "\n",
       "    .dataframe tbody tr th {\n",
       "        vertical-align: top;\n",
       "    }\n",
       "\n",
       "    .dataframe thead th {\n",
       "        text-align: right;\n",
       "    }\n",
       "</style>\n",
       "<table border=\"1\" class=\"dataframe\">\n",
       "  <thead>\n",
       "    <tr style=\"text-align: right;\">\n",
       "      <th></th>\n",
       "      <th>id</th>\n",
       "      <th>semantic</th>\n",
       "      <th>label</th>\n",
       "      <th>semantic_id</th>\n",
       "    </tr>\n",
       "  </thead>\n",
       "  <tbody>\n",
       "    <tr>\n",
       "      <th>0</th>\n",
       "      <td>WormBase:WBGene00000389</td>\n",
       "      <td>ORTH</td>\n",
       "      <td>cdc-25.4</td>\n",
       "      <td>5</td>\n",
       "    </tr>\n",
       "    <tr>\n",
       "      <th>1</th>\n",
       "      <td>ZP:0018675</td>\n",
       "      <td>DISO</td>\n",
       "      <td>right side lateral plate mesoderm mislocalised...</td>\n",
       "      <td>1</td>\n",
       "    </tr>\n",
       "    <tr>\n",
       "      <th>2</th>\n",
       "      <td>ZFIN:ZDB-GENE-040426-1197</td>\n",
       "      <td>ORTH</td>\n",
       "      <td>tbc1d5</td>\n",
       "      <td>5</td>\n",
       "    </tr>\n",
       "    <tr>\n",
       "      <th>3</th>\n",
       "      <td>5</td>\n",
       "      <td>DRUG</td>\n",
       "      <td>(S)-nicardipine</td>\n",
       "      <td>2</td>\n",
       "    </tr>\n",
       "    <tr>\n",
       "      <th>4</th>\n",
       "      <td>RGD:3443</td>\n",
       "      <td>ORTH</td>\n",
       "      <td>Ptk2</td>\n",
       "      <td>5</td>\n",
       "    </tr>\n",
       "    <tr>\n",
       "      <th>5</th>\n",
       "      <td>dbSNP:rs73460075</td>\n",
       "      <td>GENO</td>\n",
       "      <td>rs73460075-C</td>\n",
       "      <td>4</td>\n",
       "    </tr>\n",
       "    <tr>\n",
       "      <th>6</th>\n",
       "      <td>6</td>\n",
       "      <td>DRUG</td>\n",
       "      <td>(S)-nitrendipine</td>\n",
       "      <td>2</td>\n",
       "    </tr>\n",
       "    <tr>\n",
       "      <th>7</th>\n",
       "      <td>HP:0000997</td>\n",
       "      <td>DISO</td>\n",
       "      <td>Axillary freckling</td>\n",
       "      <td>1</td>\n",
       "    </tr>\n",
       "    <tr>\n",
       "      <th>8</th>\n",
       "      <td>ZP:0105707</td>\n",
       "      <td>DISO</td>\n",
       "      <td>Reissner's fiber malformed, abnormal</td>\n",
       "      <td>1</td>\n",
       "    </tr>\n",
       "    <tr>\n",
       "      <th>9</th>\n",
       "      <td>MESH:C580853</td>\n",
       "      <td>DRUG</td>\n",
       "      <td>cannabidivarin</td>\n",
       "      <td>2</td>\n",
       "    </tr>\n",
       "  </tbody>\n",
       "</table>\n",
       "</div>"
      ],
      "text/plain": [
       "                          id semantic  \\\n",
       "0    WormBase:WBGene00000389     ORTH   \n",
       "1                 ZP:0018675     DISO   \n",
       "2  ZFIN:ZDB-GENE-040426-1197     ORTH   \n",
       "3                          5     DRUG   \n",
       "4                   RGD:3443     ORTH   \n",
       "5           dbSNP:rs73460075     GENO   \n",
       "6                          6     DRUG   \n",
       "7                 HP:0000997     DISO   \n",
       "8                 ZP:0105707     DISO   \n",
       "9               MESH:C580853     DRUG   \n",
       "\n",
       "                                               label  semantic_id  \n",
       "0                                           cdc-25.4            5  \n",
       "1  right side lateral plate mesoderm mislocalised...            1  \n",
       "2                                             tbc1d5            5  \n",
       "3                                    (S)-nicardipine            2  \n",
       "4                                               Ptk2            5  \n",
       "5                                       rs73460075-C            4  \n",
       "6                                   (S)-nitrendipine            2  \n",
       "7                                 Axillary freckling            1  \n",
       "8               Reissner's fiber malformed, abnormal            1  \n",
       "9                                     cannabidivarin            2  "
      ]
     },
     "execution_count": 16,
     "metadata": {},
     "output_type": "execute_result"
    }
   ],
   "source": [
    "nodes.drop('index_id', axis=1, inplace=True)\n",
    "nodes.head(10)"
   ]
  },
  {
   "cell_type": "code",
   "execution_count": 17,
   "metadata": {},
   "outputs": [
    {
     "data": {
      "text/html": [
       "<div>\n",
       "<style scoped>\n",
       "    .dataframe tbody tr th:only-of-type {\n",
       "        vertical-align: middle;\n",
       "    }\n",
       "\n",
       "    .dataframe tbody tr th {\n",
       "        vertical-align: top;\n",
       "    }\n",
       "\n",
       "    .dataframe thead th {\n",
       "        text-align: right;\n",
       "    }\n",
       "</style>\n",
       "<table border=\"1\" class=\"dataframe\">\n",
       "  <thead>\n",
       "    <tr style=\"text-align: right;\">\n",
       "      <th></th>\n",
       "      <th>head</th>\n",
       "      <th>label_head</th>\n",
       "      <th>class_head</th>\n",
       "      <th>index_head</th>\n",
       "      <th>relation</th>\n",
       "      <th>tail</th>\n",
       "      <th>label_tail</th>\n",
       "      <th>class_tail</th>\n",
       "      <th>index_tail</th>\n",
       "    </tr>\n",
       "  </thead>\n",
       "  <tbody>\n",
       "    <tr>\n",
       "      <th>0</th>\n",
       "      <td>ZFIN:ZDB-GENE-050626-112</td>\n",
       "      <td>myl4</td>\n",
       "      <td>5</td>\n",
       "      <td>5279</td>\n",
       "      <td>in orthology relationship with</td>\n",
       "      <td>FlyBase:FBgn0085464</td>\n",
       "      <td>CG34435</td>\n",
       "      <td>5</td>\n",
       "      <td>6825</td>\n",
       "    </tr>\n",
       "    <tr>\n",
       "      <th>1</th>\n",
       "      <td>ZFIN:ZDB-GENE-050626-112</td>\n",
       "      <td>myl4</td>\n",
       "      <td>5</td>\n",
       "      <td>5279</td>\n",
       "      <td>in orthology relationship with</td>\n",
       "      <td>HGNC:7585</td>\n",
       "      <td>MYL4</td>\n",
       "      <td>3</td>\n",
       "      <td>27</td>\n",
       "    </tr>\n",
       "    <tr>\n",
       "      <th>2</th>\n",
       "      <td>ZFIN:ZDB-GENE-050626-112</td>\n",
       "      <td>myl4</td>\n",
       "      <td>5</td>\n",
       "      <td>5279</td>\n",
       "      <td>in orthology relationship with</td>\n",
       "      <td>FlyBase:FBgn0002772</td>\n",
       "      <td>Mlc1</td>\n",
       "      <td>5</td>\n",
       "      <td>8901</td>\n",
       "    </tr>\n",
       "    <tr>\n",
       "      <th>3</th>\n",
       "      <td>ZFIN:ZDB-GENE-050626-112</td>\n",
       "      <td>myl4</td>\n",
       "      <td>5</td>\n",
       "      <td>5279</td>\n",
       "      <td>in orthology relationship with</td>\n",
       "      <td>NCBIGene:396472</td>\n",
       "      <td>MYL4</td>\n",
       "      <td>3</td>\n",
       "      <td>9508</td>\n",
       "    </tr>\n",
       "    <tr>\n",
       "      <th>4</th>\n",
       "      <td>ZFIN:ZDB-GENE-050626-112</td>\n",
       "      <td>myl4</td>\n",
       "      <td>5</td>\n",
       "      <td>5279</td>\n",
       "      <td>in 1 to 1 orthology relationship with</td>\n",
       "      <td>ENSEMBL:ENSECAG00000020967</td>\n",
       "      <td>ENSEMBL:ENSECAG00000020967</td>\n",
       "      <td>5</td>\n",
       "      <td>8807</td>\n",
       "    </tr>\n",
       "    <tr>\n",
       "      <th>5</th>\n",
       "      <td>ZFIN:ZDB-GENE-050626-112</td>\n",
       "      <td>myl4</td>\n",
       "      <td>5</td>\n",
       "      <td>5279</td>\n",
       "      <td>in 1 to 1 orthology relationship with</td>\n",
       "      <td>ENSEMBL:ENSACAG00000017407</td>\n",
       "      <td>ENSEMBL:ENSACAG00000017407</td>\n",
       "      <td>5</td>\n",
       "      <td>6449</td>\n",
       "    </tr>\n",
       "    <tr>\n",
       "      <th>6</th>\n",
       "      <td>ZFIN:ZDB-GENE-050626-112</td>\n",
       "      <td>myl4</td>\n",
       "      <td>5</td>\n",
       "      <td>5279</td>\n",
       "      <td>in 1 to 1 orthology relationship with</td>\n",
       "      <td>MGI:97267</td>\n",
       "      <td>Myl4</td>\n",
       "      <td>5</td>\n",
       "      <td>904</td>\n",
       "    </tr>\n",
       "    <tr>\n",
       "      <th>7</th>\n",
       "      <td>ZFIN:ZDB-GENE-050626-112</td>\n",
       "      <td>myl4</td>\n",
       "      <td>5</td>\n",
       "      <td>5279</td>\n",
       "      <td>in 1 to 1 orthology relationship with</td>\n",
       "      <td>RGD:1591197</td>\n",
       "      <td>Myl4</td>\n",
       "      <td>5</td>\n",
       "      <td>9266</td>\n",
       "    </tr>\n",
       "    <tr>\n",
       "      <th>8</th>\n",
       "      <td>ZFIN:ZDB-GENE-050626-112</td>\n",
       "      <td>myl4</td>\n",
       "      <td>5</td>\n",
       "      <td>5279</td>\n",
       "      <td>in 1 to 1 orthology relationship with</td>\n",
       "      <td>ENSEMBL:ENSFCAG00000003878</td>\n",
       "      <td>ENSEMBL:ENSFCAG00000003878</td>\n",
       "      <td>5</td>\n",
       "      <td>660</td>\n",
       "    </tr>\n",
       "    <tr>\n",
       "      <th>9</th>\n",
       "      <td>ZFIN:ZDB-GENE-050626-112</td>\n",
       "      <td>myl4</td>\n",
       "      <td>5</td>\n",
       "      <td>5279</td>\n",
       "      <td>in 1 to 1 orthology relationship with</td>\n",
       "      <td>ENSEMBL:ENSMODG00000010887</td>\n",
       "      <td>ENSEMBL:ENSMODG00000010887</td>\n",
       "      <td>5</td>\n",
       "      <td>8400</td>\n",
       "    </tr>\n",
       "    <tr>\n",
       "      <th>10</th>\n",
       "      <td>ZFIN:ZDB-GENE-050626-112</td>\n",
       "      <td>myl4</td>\n",
       "      <td>5</td>\n",
       "      <td>5279</td>\n",
       "      <td>in 1 to 1 orthology relationship with</td>\n",
       "      <td>dictyBase:DDB_G0277859</td>\n",
       "      <td>mlcE</td>\n",
       "      <td>4</td>\n",
       "      <td>9104</td>\n",
       "    </tr>\n",
       "    <tr>\n",
       "      <th>11</th>\n",
       "      <td>ZFIN:ZDB-GENE-050626-112</td>\n",
       "      <td>myl4</td>\n",
       "      <td>5</td>\n",
       "      <td>5279</td>\n",
       "      <td>in 1 to 1 orthology relationship with</td>\n",
       "      <td>ENSEMBL:ENSPTRG00000024314</td>\n",
       "      <td>ENSEMBL:ENSPTRG00000024314</td>\n",
       "      <td>5</td>\n",
       "      <td>7197</td>\n",
       "    </tr>\n",
       "    <tr>\n",
       "      <th>12</th>\n",
       "      <td>ZFIN:ZDB-GENE-050626-112</td>\n",
       "      <td>myl4</td>\n",
       "      <td>5</td>\n",
       "      <td>5279</td>\n",
       "      <td>in 1 to 1 orthology relationship with</td>\n",
       "      <td>ENSEMBL:ENSBTAG00000021916</td>\n",
       "      <td>ENSEMBL:ENSBTAG00000021916</td>\n",
       "      <td>5</td>\n",
       "      <td>9520</td>\n",
       "    </tr>\n",
       "    <tr>\n",
       "      <th>13</th>\n",
       "      <td>ZFIN:ZDB-GENE-050626-112</td>\n",
       "      <td>myl4</td>\n",
       "      <td>5</td>\n",
       "      <td>5279</td>\n",
       "      <td>in 1 to 1 orthology relationship with</td>\n",
       "      <td>FlyBase:FBgn0004687</td>\n",
       "      <td>Mlc-c</td>\n",
       "      <td>5</td>\n",
       "      <td>5344</td>\n",
       "    </tr>\n",
       "    <tr>\n",
       "      <th>14</th>\n",
       "      <td>ZFIN:ZDB-GENE-050626-112</td>\n",
       "      <td>myl4</td>\n",
       "      <td>5</td>\n",
       "      <td>5279</td>\n",
       "      <td>in orthology relationship with</td>\n",
       "      <td>WormBase:WBGene00009585</td>\n",
       "      <td>cal-7</td>\n",
       "      <td>5</td>\n",
       "      <td>753</td>\n",
       "    </tr>\n",
       "  </tbody>\n",
       "</table>\n",
       "</div>"
      ],
      "text/plain": [
       "                        head label_head  class_head  index_head  \\\n",
       "0   ZFIN:ZDB-GENE-050626-112       myl4           5        5279   \n",
       "1   ZFIN:ZDB-GENE-050626-112       myl4           5        5279   \n",
       "2   ZFIN:ZDB-GENE-050626-112       myl4           5        5279   \n",
       "3   ZFIN:ZDB-GENE-050626-112       myl4           5        5279   \n",
       "4   ZFIN:ZDB-GENE-050626-112       myl4           5        5279   \n",
       "5   ZFIN:ZDB-GENE-050626-112       myl4           5        5279   \n",
       "6   ZFIN:ZDB-GENE-050626-112       myl4           5        5279   \n",
       "7   ZFIN:ZDB-GENE-050626-112       myl4           5        5279   \n",
       "8   ZFIN:ZDB-GENE-050626-112       myl4           5        5279   \n",
       "9   ZFIN:ZDB-GENE-050626-112       myl4           5        5279   \n",
       "10  ZFIN:ZDB-GENE-050626-112       myl4           5        5279   \n",
       "11  ZFIN:ZDB-GENE-050626-112       myl4           5        5279   \n",
       "12  ZFIN:ZDB-GENE-050626-112       myl4           5        5279   \n",
       "13  ZFIN:ZDB-GENE-050626-112       myl4           5        5279   \n",
       "14  ZFIN:ZDB-GENE-050626-112       myl4           5        5279   \n",
       "\n",
       "                                 relation                        tail  \\\n",
       "0          in orthology relationship with         FlyBase:FBgn0085464   \n",
       "1          in orthology relationship with                   HGNC:7585   \n",
       "2          in orthology relationship with         FlyBase:FBgn0002772   \n",
       "3          in orthology relationship with             NCBIGene:396472   \n",
       "4   in 1 to 1 orthology relationship with  ENSEMBL:ENSECAG00000020967   \n",
       "5   in 1 to 1 orthology relationship with  ENSEMBL:ENSACAG00000017407   \n",
       "6   in 1 to 1 orthology relationship with                   MGI:97267   \n",
       "7   in 1 to 1 orthology relationship with                 RGD:1591197   \n",
       "8   in 1 to 1 orthology relationship with  ENSEMBL:ENSFCAG00000003878   \n",
       "9   in 1 to 1 orthology relationship with  ENSEMBL:ENSMODG00000010887   \n",
       "10  in 1 to 1 orthology relationship with      dictyBase:DDB_G0277859   \n",
       "11  in 1 to 1 orthology relationship with  ENSEMBL:ENSPTRG00000024314   \n",
       "12  in 1 to 1 orthology relationship with  ENSEMBL:ENSBTAG00000021916   \n",
       "13  in 1 to 1 orthology relationship with         FlyBase:FBgn0004687   \n",
       "14         in orthology relationship with     WormBase:WBGene00009585   \n",
       "\n",
       "                    label_tail  class_tail  index_tail  \n",
       "0                      CG34435           5        6825  \n",
       "1                         MYL4           3          27  \n",
       "2                         Mlc1           5        8901  \n",
       "3                         MYL4           3        9508  \n",
       "4   ENSEMBL:ENSECAG00000020967           5        8807  \n",
       "5   ENSEMBL:ENSACAG00000017407           5        6449  \n",
       "6                         Myl4           5         904  \n",
       "7                         Myl4           5        9266  \n",
       "8   ENSEMBL:ENSFCAG00000003878           5         660  \n",
       "9   ENSEMBL:ENSMODG00000010887           5        8400  \n",
       "10                        mlcE           4        9104  \n",
       "11  ENSEMBL:ENSPTRG00000024314           5        7197  \n",
       "12  ENSEMBL:ENSBTAG00000021916           5        9520  \n",
       "13                       Mlc-c           5        5344  \n",
       "14                       cal-7           5         753  "
      ]
     },
     "execution_count": 17,
     "metadata": {},
     "output_type": "execute_result"
    }
   ],
   "source": [
    "kg_df.head(15)"
   ]
  },
  {
   "attachments": {},
   "cell_type": "markdown",
   "metadata": {},
   "source": [
    "# Preparation E2V Data"
   ]
  },
  {
   "attachments": {},
   "cell_type": "markdown",
   "metadata": {},
   "source": [
    "Encode string values of relation labels as numeric values."
   ]
  },
  {
   "cell_type": "code",
   "execution_count": 18,
   "metadata": {},
   "outputs": [
    {
     "data": {
      "text/html": [
       "<div>\n",
       "<style scoped>\n",
       "    .dataframe tbody tr th:only-of-type {\n",
       "        vertical-align: middle;\n",
       "    }\n",
       "\n",
       "    .dataframe tbody tr th {\n",
       "        vertical-align: top;\n",
       "    }\n",
       "\n",
       "    .dataframe thead th {\n",
       "        text-align: right;\n",
       "    }\n",
       "</style>\n",
       "<table border=\"1\" class=\"dataframe\">\n",
       "  <thead>\n",
       "    <tr style=\"text-align: right;\">\n",
       "      <th></th>\n",
       "      <th>head</th>\n",
       "      <th>label_head</th>\n",
       "      <th>class_head</th>\n",
       "      <th>index_head</th>\n",
       "      <th>relation</th>\n",
       "      <th>tail</th>\n",
       "      <th>label_tail</th>\n",
       "      <th>class_tail</th>\n",
       "      <th>index_tail</th>\n",
       "      <th>type</th>\n",
       "    </tr>\n",
       "  </thead>\n",
       "  <tbody>\n",
       "    <tr>\n",
       "      <th>0</th>\n",
       "      <td>ZFIN:ZDB-GENE-050626-112</td>\n",
       "      <td>myl4</td>\n",
       "      <td>5</td>\n",
       "      <td>5279</td>\n",
       "      <td>in orthology relationship with</td>\n",
       "      <td>FlyBase:FBgn0085464</td>\n",
       "      <td>CG34435</td>\n",
       "      <td>5</td>\n",
       "      <td>6825</td>\n",
       "      <td>0</td>\n",
       "    </tr>\n",
       "    <tr>\n",
       "      <th>1</th>\n",
       "      <td>ZFIN:ZDB-GENE-050626-112</td>\n",
       "      <td>myl4</td>\n",
       "      <td>5</td>\n",
       "      <td>5279</td>\n",
       "      <td>in orthology relationship with</td>\n",
       "      <td>HGNC:7585</td>\n",
       "      <td>MYL4</td>\n",
       "      <td>3</td>\n",
       "      <td>27</td>\n",
       "      <td>0</td>\n",
       "    </tr>\n",
       "    <tr>\n",
       "      <th>2</th>\n",
       "      <td>ZFIN:ZDB-GENE-050626-112</td>\n",
       "      <td>myl4</td>\n",
       "      <td>5</td>\n",
       "      <td>5279</td>\n",
       "      <td>in orthology relationship with</td>\n",
       "      <td>FlyBase:FBgn0002772</td>\n",
       "      <td>Mlc1</td>\n",
       "      <td>5</td>\n",
       "      <td>8901</td>\n",
       "      <td>0</td>\n",
       "    </tr>\n",
       "    <tr>\n",
       "      <th>3</th>\n",
       "      <td>ZFIN:ZDB-GENE-050626-112</td>\n",
       "      <td>myl4</td>\n",
       "      <td>5</td>\n",
       "      <td>5279</td>\n",
       "      <td>in orthology relationship with</td>\n",
       "      <td>NCBIGene:396472</td>\n",
       "      <td>MYL4</td>\n",
       "      <td>3</td>\n",
       "      <td>9508</td>\n",
       "      <td>0</td>\n",
       "    </tr>\n",
       "    <tr>\n",
       "      <th>4</th>\n",
       "      <td>ZFIN:ZDB-GENE-050626-112</td>\n",
       "      <td>myl4</td>\n",
       "      <td>5</td>\n",
       "      <td>5279</td>\n",
       "      <td>in 1 to 1 orthology relationship with</td>\n",
       "      <td>ENSEMBL:ENSECAG00000020967</td>\n",
       "      <td>ENSEMBL:ENSECAG00000020967</td>\n",
       "      <td>5</td>\n",
       "      <td>8807</td>\n",
       "      <td>1</td>\n",
       "    </tr>\n",
       "    <tr>\n",
       "      <th>5</th>\n",
       "      <td>ZFIN:ZDB-GENE-050626-112</td>\n",
       "      <td>myl4</td>\n",
       "      <td>5</td>\n",
       "      <td>5279</td>\n",
       "      <td>in 1 to 1 orthology relationship with</td>\n",
       "      <td>ENSEMBL:ENSACAG00000017407</td>\n",
       "      <td>ENSEMBL:ENSACAG00000017407</td>\n",
       "      <td>5</td>\n",
       "      <td>6449</td>\n",
       "      <td>1</td>\n",
       "    </tr>\n",
       "    <tr>\n",
       "      <th>6</th>\n",
       "      <td>ZFIN:ZDB-GENE-050626-112</td>\n",
       "      <td>myl4</td>\n",
       "      <td>5</td>\n",
       "      <td>5279</td>\n",
       "      <td>in 1 to 1 orthology relationship with</td>\n",
       "      <td>MGI:97267</td>\n",
       "      <td>Myl4</td>\n",
       "      <td>5</td>\n",
       "      <td>904</td>\n",
       "      <td>1</td>\n",
       "    </tr>\n",
       "    <tr>\n",
       "      <th>7</th>\n",
       "      <td>ZFIN:ZDB-GENE-050626-112</td>\n",
       "      <td>myl4</td>\n",
       "      <td>5</td>\n",
       "      <td>5279</td>\n",
       "      <td>in 1 to 1 orthology relationship with</td>\n",
       "      <td>RGD:1591197</td>\n",
       "      <td>Myl4</td>\n",
       "      <td>5</td>\n",
       "      <td>9266</td>\n",
       "      <td>1</td>\n",
       "    </tr>\n",
       "    <tr>\n",
       "      <th>8</th>\n",
       "      <td>ZFIN:ZDB-GENE-050626-112</td>\n",
       "      <td>myl4</td>\n",
       "      <td>5</td>\n",
       "      <td>5279</td>\n",
       "      <td>in 1 to 1 orthology relationship with</td>\n",
       "      <td>ENSEMBL:ENSFCAG00000003878</td>\n",
       "      <td>ENSEMBL:ENSFCAG00000003878</td>\n",
       "      <td>5</td>\n",
       "      <td>660</td>\n",
       "      <td>1</td>\n",
       "    </tr>\n",
       "    <tr>\n",
       "      <th>9</th>\n",
       "      <td>ZFIN:ZDB-GENE-050626-112</td>\n",
       "      <td>myl4</td>\n",
       "      <td>5</td>\n",
       "      <td>5279</td>\n",
       "      <td>in 1 to 1 orthology relationship with</td>\n",
       "      <td>ENSEMBL:ENSMODG00000010887</td>\n",
       "      <td>ENSEMBL:ENSMODG00000010887</td>\n",
       "      <td>5</td>\n",
       "      <td>8400</td>\n",
       "      <td>1</td>\n",
       "    </tr>\n",
       "  </tbody>\n",
       "</table>\n",
       "</div>"
      ],
      "text/plain": [
       "                       head label_head  class_head  index_head  \\\n",
       "0  ZFIN:ZDB-GENE-050626-112       myl4           5        5279   \n",
       "1  ZFIN:ZDB-GENE-050626-112       myl4           5        5279   \n",
       "2  ZFIN:ZDB-GENE-050626-112       myl4           5        5279   \n",
       "3  ZFIN:ZDB-GENE-050626-112       myl4           5        5279   \n",
       "4  ZFIN:ZDB-GENE-050626-112       myl4           5        5279   \n",
       "5  ZFIN:ZDB-GENE-050626-112       myl4           5        5279   \n",
       "6  ZFIN:ZDB-GENE-050626-112       myl4           5        5279   \n",
       "7  ZFIN:ZDB-GENE-050626-112       myl4           5        5279   \n",
       "8  ZFIN:ZDB-GENE-050626-112       myl4           5        5279   \n",
       "9  ZFIN:ZDB-GENE-050626-112       myl4           5        5279   \n",
       "\n",
       "                                relation                        tail  \\\n",
       "0         in orthology relationship with         FlyBase:FBgn0085464   \n",
       "1         in orthology relationship with                   HGNC:7585   \n",
       "2         in orthology relationship with         FlyBase:FBgn0002772   \n",
       "3         in orthology relationship with             NCBIGene:396472   \n",
       "4  in 1 to 1 orthology relationship with  ENSEMBL:ENSECAG00000020967   \n",
       "5  in 1 to 1 orthology relationship with  ENSEMBL:ENSACAG00000017407   \n",
       "6  in 1 to 1 orthology relationship with                   MGI:97267   \n",
       "7  in 1 to 1 orthology relationship with                 RGD:1591197   \n",
       "8  in 1 to 1 orthology relationship with  ENSEMBL:ENSFCAG00000003878   \n",
       "9  in 1 to 1 orthology relationship with  ENSEMBL:ENSMODG00000010887   \n",
       "\n",
       "                   label_tail  class_tail  index_tail  type  \n",
       "0                     CG34435           5        6825     0  \n",
       "1                        MYL4           3          27     0  \n",
       "2                        Mlc1           5        8901     0  \n",
       "3                        MYL4           3        9508     0  \n",
       "4  ENSEMBL:ENSECAG00000020967           5        8807     1  \n",
       "5  ENSEMBL:ENSACAG00000017407           5        6449     1  \n",
       "6                        Myl4           5         904     1  \n",
       "7                        Myl4           5        9266     1  \n",
       "8  ENSEMBL:ENSFCAG00000003878           5         660     1  \n",
       "9  ENSEMBL:ENSMODG00000010887           5        8400     1  "
      ]
     },
     "execution_count": 18,
     "metadata": {},
     "output_type": "execute_result"
    }
   ],
   "source": [
    "kg_df['type'], relation_labels = pd.factorize(kg_df['relation'])\n",
    "kg_df.head(10)"
   ]
  },
  {
   "attachments": {},
   "cell_type": "markdown",
   "metadata": {},
   "source": [
    "Index list can be used later for converting back to the label of the relation."
   ]
  },
  {
   "cell_type": "code",
   "execution_count": 19,
   "metadata": {},
   "outputs": [
    {
     "data": {
      "text/plain": [
       "Index(['in orthology relationship with',\n",
       "       'in 1 to 1 orthology relationship with', 'expressed in', 'is part of',\n",
       "       'has phenotype', 'enables', 'interacts with', 'involved in',\n",
       "       'colocalizes with', 'is causal germline mutation in',\n",
       "       'contributes to condition', 'has affected feature',\n",
       "       'pathogenic for condition', 'contributes to', 'targets',\n",
       "       'has role in modeling', 'None', 'is allele of',\n",
       "       'likely pathogenic for condition', 'causes condition', 'source',\n",
       "       'has genotype', 'is causal germline mutation partially giving rise to',\n",
       "       'is marker for'],\n",
       "      dtype='object')"
      ]
     },
     "execution_count": 19,
     "metadata": {},
     "output_type": "execute_result"
    }
   ],
   "source": [
    "relation_labels"
   ]
  },
  {
   "attachments": {},
   "cell_type": "markdown",
   "metadata": {},
   "source": [
    "Extract the relevant columns for applying the Edge2Vec method."
   ]
  },
  {
   "cell_type": "code",
   "execution_count": 20,
   "metadata": {},
   "outputs": [
    {
     "data": {
      "text/html": [
       "<div>\n",
       "<style scoped>\n",
       "    .dataframe tbody tr th:only-of-type {\n",
       "        vertical-align: middle;\n",
       "    }\n",
       "\n",
       "    .dataframe tbody tr th {\n",
       "        vertical-align: top;\n",
       "    }\n",
       "\n",
       "    .dataframe thead th {\n",
       "        text-align: right;\n",
       "    }\n",
       "</style>\n",
       "<table border=\"1\" class=\"dataframe\">\n",
       "  <thead>\n",
       "    <tr style=\"text-align: right;\">\n",
       "      <th></th>\n",
       "      <th>head</th>\n",
       "      <th>label_head</th>\n",
       "      <th>class_head</th>\n",
       "      <th>index_head</th>\n",
       "      <th>relation</th>\n",
       "      <th>tail</th>\n",
       "      <th>label_tail</th>\n",
       "      <th>class_tail</th>\n",
       "      <th>index_tail</th>\n",
       "      <th>type</th>\n",
       "    </tr>\n",
       "  </thead>\n",
       "  <tbody>\n",
       "    <tr>\n",
       "      <th>0</th>\n",
       "      <td>ZFIN:ZDB-GENE-050626-112</td>\n",
       "      <td>myl4</td>\n",
       "      <td>5</td>\n",
       "      <td>5279</td>\n",
       "      <td>in orthology relationship with</td>\n",
       "      <td>FlyBase:FBgn0085464</td>\n",
       "      <td>CG34435</td>\n",
       "      <td>5</td>\n",
       "      <td>6825</td>\n",
       "      <td>0</td>\n",
       "    </tr>\n",
       "    <tr>\n",
       "      <th>1</th>\n",
       "      <td>ZFIN:ZDB-GENE-050626-112</td>\n",
       "      <td>myl4</td>\n",
       "      <td>5</td>\n",
       "      <td>5279</td>\n",
       "      <td>in orthology relationship with</td>\n",
       "      <td>HGNC:7585</td>\n",
       "      <td>MYL4</td>\n",
       "      <td>3</td>\n",
       "      <td>27</td>\n",
       "      <td>0</td>\n",
       "    </tr>\n",
       "    <tr>\n",
       "      <th>2</th>\n",
       "      <td>ZFIN:ZDB-GENE-050626-112</td>\n",
       "      <td>myl4</td>\n",
       "      <td>5</td>\n",
       "      <td>5279</td>\n",
       "      <td>in orthology relationship with</td>\n",
       "      <td>FlyBase:FBgn0002772</td>\n",
       "      <td>Mlc1</td>\n",
       "      <td>5</td>\n",
       "      <td>8901</td>\n",
       "      <td>0</td>\n",
       "    </tr>\n",
       "    <tr>\n",
       "      <th>3</th>\n",
       "      <td>ZFIN:ZDB-GENE-050626-112</td>\n",
       "      <td>myl4</td>\n",
       "      <td>5</td>\n",
       "      <td>5279</td>\n",
       "      <td>in orthology relationship with</td>\n",
       "      <td>NCBIGene:396472</td>\n",
       "      <td>MYL4</td>\n",
       "      <td>3</td>\n",
       "      <td>9508</td>\n",
       "      <td>0</td>\n",
       "    </tr>\n",
       "    <tr>\n",
       "      <th>4</th>\n",
       "      <td>ZFIN:ZDB-GENE-050626-112</td>\n",
       "      <td>myl4</td>\n",
       "      <td>5</td>\n",
       "      <td>5279</td>\n",
       "      <td>in 1 to 1 orthology relationship with</td>\n",
       "      <td>ENSEMBL:ENSECAG00000020967</td>\n",
       "      <td>ENSEMBL:ENSECAG00000020967</td>\n",
       "      <td>5</td>\n",
       "      <td>8807</td>\n",
       "      <td>1</td>\n",
       "    </tr>\n",
       "    <tr>\n",
       "      <th>5</th>\n",
       "      <td>ZFIN:ZDB-GENE-050626-112</td>\n",
       "      <td>myl4</td>\n",
       "      <td>5</td>\n",
       "      <td>5279</td>\n",
       "      <td>in 1 to 1 orthology relationship with</td>\n",
       "      <td>ENSEMBL:ENSACAG00000017407</td>\n",
       "      <td>ENSEMBL:ENSACAG00000017407</td>\n",
       "      <td>5</td>\n",
       "      <td>6449</td>\n",
       "      <td>1</td>\n",
       "    </tr>\n",
       "    <tr>\n",
       "      <th>6</th>\n",
       "      <td>ZFIN:ZDB-GENE-050626-112</td>\n",
       "      <td>myl4</td>\n",
       "      <td>5</td>\n",
       "      <td>5279</td>\n",
       "      <td>in 1 to 1 orthology relationship with</td>\n",
       "      <td>MGI:97267</td>\n",
       "      <td>Myl4</td>\n",
       "      <td>5</td>\n",
       "      <td>904</td>\n",
       "      <td>1</td>\n",
       "    </tr>\n",
       "    <tr>\n",
       "      <th>7</th>\n",
       "      <td>ZFIN:ZDB-GENE-050626-112</td>\n",
       "      <td>myl4</td>\n",
       "      <td>5</td>\n",
       "      <td>5279</td>\n",
       "      <td>in 1 to 1 orthology relationship with</td>\n",
       "      <td>RGD:1591197</td>\n",
       "      <td>Myl4</td>\n",
       "      <td>5</td>\n",
       "      <td>9266</td>\n",
       "      <td>1</td>\n",
       "    </tr>\n",
       "    <tr>\n",
       "      <th>8</th>\n",
       "      <td>ZFIN:ZDB-GENE-050626-112</td>\n",
       "      <td>myl4</td>\n",
       "      <td>5</td>\n",
       "      <td>5279</td>\n",
       "      <td>in 1 to 1 orthology relationship with</td>\n",
       "      <td>ENSEMBL:ENSFCAG00000003878</td>\n",
       "      <td>ENSEMBL:ENSFCAG00000003878</td>\n",
       "      <td>5</td>\n",
       "      <td>660</td>\n",
       "      <td>1</td>\n",
       "    </tr>\n",
       "    <tr>\n",
       "      <th>9</th>\n",
       "      <td>ZFIN:ZDB-GENE-050626-112</td>\n",
       "      <td>myl4</td>\n",
       "      <td>5</td>\n",
       "      <td>5279</td>\n",
       "      <td>in 1 to 1 orthology relationship with</td>\n",
       "      <td>ENSEMBL:ENSMODG00000010887</td>\n",
       "      <td>ENSEMBL:ENSMODG00000010887</td>\n",
       "      <td>5</td>\n",
       "      <td>8400</td>\n",
       "      <td>1</td>\n",
       "    </tr>\n",
       "  </tbody>\n",
       "</table>\n",
       "</div>"
      ],
      "text/plain": [
       "                       head label_head  class_head index_head  \\\n",
       "0  ZFIN:ZDB-GENE-050626-112       myl4           5       5279   \n",
       "1  ZFIN:ZDB-GENE-050626-112       myl4           5       5279   \n",
       "2  ZFIN:ZDB-GENE-050626-112       myl4           5       5279   \n",
       "3  ZFIN:ZDB-GENE-050626-112       myl4           5       5279   \n",
       "4  ZFIN:ZDB-GENE-050626-112       myl4           5       5279   \n",
       "5  ZFIN:ZDB-GENE-050626-112       myl4           5       5279   \n",
       "6  ZFIN:ZDB-GENE-050626-112       myl4           5       5279   \n",
       "7  ZFIN:ZDB-GENE-050626-112       myl4           5       5279   \n",
       "8  ZFIN:ZDB-GENE-050626-112       myl4           5       5279   \n",
       "9  ZFIN:ZDB-GENE-050626-112       myl4           5       5279   \n",
       "\n",
       "                                relation                        tail  \\\n",
       "0         in orthology relationship with         FlyBase:FBgn0085464   \n",
       "1         in orthology relationship with                   HGNC:7585   \n",
       "2         in orthology relationship with         FlyBase:FBgn0002772   \n",
       "3         in orthology relationship with             NCBIGene:396472   \n",
       "4  in 1 to 1 orthology relationship with  ENSEMBL:ENSECAG00000020967   \n",
       "5  in 1 to 1 orthology relationship with  ENSEMBL:ENSACAG00000017407   \n",
       "6  in 1 to 1 orthology relationship with                   MGI:97267   \n",
       "7  in 1 to 1 orthology relationship with                 RGD:1591197   \n",
       "8  in 1 to 1 orthology relationship with  ENSEMBL:ENSFCAG00000003878   \n",
       "9  in 1 to 1 orthology relationship with  ENSEMBL:ENSMODG00000010887   \n",
       "\n",
       "                   label_tail  class_tail index_tail  type  \n",
       "0                     CG34435           5       6825     0  \n",
       "1                        MYL4           3         27     0  \n",
       "2                        Mlc1           5       8901     0  \n",
       "3                        MYL4           3       9508     0  \n",
       "4  ENSEMBL:ENSECAG00000020967           5       8807     1  \n",
       "5  ENSEMBL:ENSACAG00000017407           5       6449     1  \n",
       "6                        Myl4           5        904     1  \n",
       "7                        Myl4           5       9266     1  \n",
       "8  ENSEMBL:ENSFCAG00000003878           5        660     1  \n",
       "9  ENSEMBL:ENSMODG00000010887           5       8400     1  "
      ]
     },
     "execution_count": 20,
     "metadata": {},
     "output_type": "execute_result"
    }
   ],
   "source": [
    "edge2vec_df = kg_df.copy()\n",
    "#edge2vec_df = kg_df.drop(['head', 'relation', 'tail'], axis=1)\n",
    "edge2vec_df['index_head'] = edge2vec_df['index_head'].apply(str)\n",
    "edge2vec_df['index_tail'] = edge2vec_df['index_tail'].apply(str)\n",
    "edge2vec_df.head(10)"
   ]
  },
  {
   "cell_type": "code",
   "execution_count": 21,
   "metadata": {},
   "outputs": [
    {
     "name": "stdout",
     "output_type": "stream",
     "text": [
      "There are 82913 edges\n"
     ]
    }
   ],
   "source": [
    "print(f'There are {edge2vec_df.shape[0]} edges')"
   ]
  },
  {
   "cell_type": "code",
   "execution_count": 22,
   "metadata": {},
   "outputs": [],
   "source": [
    "edge2vec_df.to_csv('output/indexed_edges.csv', index=False)"
   ]
  },
  {
   "attachments": {},
   "cell_type": "markdown",
   "metadata": {},
   "source": [
    "Initialize edge list with keys 'type' and 'weight'. The 'weight' of each edge is initialized to 1.0. "
   ]
  },
  {
   "cell_type": "code",
   "execution_count": 23,
   "metadata": {},
   "outputs": [],
   "source": [
    "G = nx.from_pandas_edgelist(edge2vec_df, 'index_head', 'index_tail', 'type', create_using=nx.DiGraph(), edge_key= (('type', int),('id',int)))\n",
    "G = G.to_undirected()   # for the E2V implementation, use indirected graph\n",
    "for edge in G.edges():\n",
    "    G[edge[0]][edge[1]]['weight'] = 1.0"
   ]
  },
  {
   "cell_type": "code",
   "execution_count": 24,
   "metadata": {},
   "outputs": [
    {
     "name": "stdout",
     "output_type": "stream",
     "text": [
      "First node in graph: ('5279', {})\n",
      "First edge in graph: ('5279', '6825', {'type': 0, 'weight': 1.0})\n",
      "Total number of edges is 52024\n",
      "Total number of nodes is 10034\n"
     ]
    }
   ],
   "source": [
    "for node in G.nodes(data=True):\n",
    "    print('First node in graph:', node)\n",
    "    break\n",
    "\n",
    "for edge in G.edges(data=True):\n",
    "    print('First edge in graph:', edge)\n",
    "    break\n",
    "\n",
    "print('Total number of edges is {}'.format(G.number_of_edges()))\n",
    "print('Total number of nodes is {}'.format(G.number_of_nodes()))"
   ]
  },
  {
   "attachments": {},
   "cell_type": "markdown",
   "metadata": {},
   "source": [
    "# Obtain Node Embeddings with E2V"
   ]
  },
  {
   "cell_type": "code",
   "execution_count": 25,
   "metadata": {},
   "outputs": [
    {
     "name": "stdout",
     "output_type": "stream",
     "text": [
      "There are 24 edge types\n"
     ]
    }
   ],
   "source": [
    "type_size = len(set(edge2vec_df['type']))\n",
    "print(f'There are {type_size} edge types')"
   ]
  },
  {
   "attachments": {},
   "cell_type": "markdown",
   "metadata": {},
   "source": [
    "Define parameters and generate edge type transition matrix using Edge2Vec EM approach"
   ]
  },
  {
   "cell_type": "code",
   "execution_count": 26,
   "metadata": {},
   "outputs": [
    {
     "name": "stdout",
     "output_type": "stream",
     "text": [
      "Initializing transition matrix...\n",
      "Updating transition matrix...\n",
      "Walk iteration:\n",
      "1 / 2\n",
      "2 / 2\n",
      "0th iteration of updating matrix\n"
     ]
    },
    {
     "name": "stderr",
     "output_type": "stream",
     "text": [
      "c:\\Users\\rosa-\\anaconda3\\envs\\xaifo\\lib\\site-packages\\scipy\\stats\\_morestats.py:3428: UserWarning: Sample size too small for normal approximation.\n",
      "  warnings.warn(\"Sample size too small for normal approximation.\")\n"
     ]
    },
    {
     "name": "stdout",
     "output_type": "stream",
     "text": [
      "Walk iteration:\n",
      "1 / 2\n",
      "2 / 2\n",
      "1th iteration of updating matrix\n",
      "Walk iteration:\n",
      "1 / 2\n",
      "2 / 2\n",
      "2th iteration of updating matrix\n",
      "Walk iteration:\n",
      "1 / 2\n",
      "2 / 2\n",
      "3th iteration of updating matrix\n",
      "Walk iteration:\n",
      "1 / 2\n",
      "2 / 2\n",
      "4th iteration of updating matrix\n",
      "Walk iteration:\n",
      "1 / 2\n",
      "2 / 2\n",
      "5th iteration of updating matrix\n",
      "Walk iteration:\n",
      "1 / 2\n",
      "2 / 2\n",
      "6th iteration of updating matrix\n",
      "Walk iteration:\n",
      "1 / 2\n",
      "2 / 2\n",
      "7th iteration of updating matrix\n",
      "Walk iteration:\n",
      "1 / 2\n",
      "2 / 2\n",
      "8th iteration of updating matrix\n",
      "Walk iteration:\n",
      "1 / 2\n",
      "2 / 2\n",
      "9th iteration of updating matrix\n",
      "Finished generating values for transition matrix!\n"
     ]
    }
   ],
   "source": [
    "epoch = 10  # number of epochs\n",
    "num_walks = 2   # number of walks per node\n",
    "walk_length = 7 # length of each walk\n",
    "directed = True\n",
    "p = 0.7\n",
    "q = 1\n",
    "e_step = 3\n",
    "\n",
    "print('Initializing transition matrix...')\n",
    "M = transitions.initialize_edge_type_matrix(type_size)\n",
    "\n",
    "print('Updating transition matrix...')\n",
    "for i in range(epoch):\n",
    "    walks = transitions.simulate_walks_1(G, num_walks, walk_length, M, directed, p, q) # M step\n",
    "    print(f'{i}th iteration of updating matrix')\n",
    "    M = transitions.update_trans_matrix(walks, type_size, e_step) # E step\n",
    "\n",
    "print(\"Finished generating values for transition matrix!\")"
   ]
  },
  {
   "cell_type": "code",
   "execution_count": 27,
   "metadata": {},
   "outputs": [
    {
     "name": "stdout",
     "output_type": "stream",
     "text": [
      "Overview of resulting edge type transition matrix (float values have been truncated to fit the view!):\n",
      "0.5\t1.0\t1.0\t1.0\t1.0\t1.0\t1.0\t1.0\t1.0\t1.0\t1.0\t1.0\t1.0\t1.0\t1.0\t1.0\t1.0\t1.0\t0.5\t1.0\t1.0\t0.5\t0.5\t0.5\n",
      "1.0\t0.5\t1.0\t1.0\t1.0\t1.0\t1.0\t1.0\t1.0\t1.0\t1.0\t1.0\t0.999\t1.0\t1.0\t1.0\t1.0\t1.0\t0.5\t1.0\t0.999\t0.5\t0.5\t0.5\n",
      "1.0\t1.0\t0.5\t1.0\t1.0\t1.0\t1.0\t1.0\t1.0\t1.0\t1.0\t1.0\t0.999\t1.0\t1.0\t1.0\t1.0\t1.0\t0.5\t1.0\t0.999\t0.5\t0.5\t0.5\n",
      "1.0\t1.0\t1.0\t0.5\t1.0\t1.0\t1.0\t1.0\t1.0\t1.0\t1.0\t1.0\t0.5\t1.0\t1.0\t0.5\t1.0\t1.0\t0.5\t1.0\t0.5\t0.5\t0.5\t0.5\n",
      "1.0\t1.0\t1.0\t1.0\t0.5\t1.0\t1.0\t1.0\t1.0\t1.0\t1.0\t1.0\t0.999\t1.0\t1.0\t1.0\t1.0\t1.0\t0.5\t1.0\t0.999\t0.5\t0.5\t0.5\n",
      "1.0\t1.0\t1.0\t1.0\t1.0\t0.5\t1.0\t1.0\t0.5\t1.0\t1.0\t1.0\t1.0\t1.0\t1.0\t1.0\t1.0\t1.0\t0.5\t1.0\t1.0\t0.5\t0.5\t0.5\n",
      "1.0\t1.0\t1.0\t1.0\t1.0\t1.0\t0.5\t1.0\t0.999\t1.0\t1.0\t1.0\t0.999\t1.0\t1.0\t1.0\t1.0\t1.0\t0.5\t1.0\t0.999\t0.5\t0.5\t0.5\n",
      "1.0\t1.0\t1.0\t1.0\t1.0\t1.0\t1.0\t0.5\t0.999\t1.0\t1.0\t1.0\t0.998\t1.0\t1.0\t1.0\t1.0\t1.0\t0.5\t1.0\t0.998\t0.5\t0.5\t0.5\n",
      "1.0\t1.0\t1.0\t1.0\t1.0\t0.5\t0.999\t0.999\t0.5\t1.0\t1.0\t1.0\t0.952\t0.999\t1.0\t1.0\t0.999\t1.0\t0.5\t0.999\t0.952\t0.5\t0.5\t0.5\n",
      "1.0\t1.0\t1.0\t1.0\t1.0\t1.0\t1.0\t1.0\t1.0\t0.5\t1.0\t1.0\t0.999\t1.0\t1.0\t1.0\t1.0\t1.0\t0.5\t1.0\t0.999\t0.5\t0.5\t0.5\n",
      "1.0\t1.0\t1.0\t1.0\t1.0\t1.0\t1.0\t1.0\t1.0\t1.0\t0.5\t1.0\t0.999\t1.0\t1.0\t1.0\t1.0\t1.0\t0.5\t1.0\t0.5\t0.5\t0.5\t0.5\n",
      "1.0\t1.0\t1.0\t1.0\t1.0\t1.0\t1.0\t1.0\t1.0\t1.0\t1.0\t0.5\t0.999\t1.0\t1.0\t1.0\t1.0\t1.0\t0.5\t1.0\t0.5\t0.5\t0.5\t0.5\n",
      "1.0\t0.999\t0.999\t0.5\t0.999\t1.0\t0.999\t0.998\t0.952\t0.999\t0.999\t0.999\t0.5\t0.880\t0.999\t0.999\t0.993\t0.999\t0.5\t0.952\t0.817\t0.5\t0.5\t0.5\n",
      "1.0\t1.0\t1.0\t1.0\t1.0\t1.0\t1.0\t1.0\t0.999\t1.0\t1.0\t1.0\t0.880\t0.5\t1.0\t1.0\t1.0\t1.0\t0.5\t1.0\t0.880\t0.5\t0.5\t0.5\n",
      "1.0\t1.0\t1.0\t1.0\t1.0\t1.0\t1.0\t1.0\t1.0\t1.0\t1.0\t1.0\t0.999\t1.0\t0.5\t1.0\t1.0\t1.0\t0.5\t1.0\t0.999\t0.5\t0.5\t0.5\n",
      "1.0\t1.0\t1.0\t0.5\t1.0\t1.0\t1.0\t1.0\t1.0\t1.0\t1.0\t1.0\t0.999\t1.0\t1.0\t0.5\t1.0\t1.0\t0.5\t1.0\t0.5\t0.5\t0.5\t0.5\n",
      "1.0\t1.0\t1.0\t1.0\t1.0\t1.0\t1.0\t1.0\t0.999\t1.0\t1.0\t1.0\t0.993\t1.0\t1.0\t1.0\t0.5\t1.0\t0.5\t1.0\t0.993\t0.5\t0.5\t0.5\n",
      "1.0\t1.0\t1.0\t1.0\t1.0\t1.0\t1.0\t1.0\t1.0\t1.0\t1.0\t1.0\t0.999\t1.0\t1.0\t1.0\t1.0\t0.5\t0.5\t1.0\t0.999\t0.5\t0.5\t0.5\n",
      "0.5\t0.5\t0.5\t0.5\t0.5\t0.5\t0.5\t0.5\t0.5\t0.5\t0.5\t0.5\t0.5\t0.5\t0.5\t0.5\t0.5\t0.5\t0.5\t0.5\t0.5\t0.5\t0.5\t0.5\n",
      "1.0\t1.0\t1.0\t1.0\t1.0\t1.0\t1.0\t1.0\t0.999\t1.0\t1.0\t1.0\t0.952\t1.0\t1.0\t1.0\t1.0\t1.0\t0.5\t0.5\t0.952\t0.5\t0.5\t0.5\n",
      "1.0\t0.999\t0.999\t0.5\t0.999\t1.0\t0.999\t0.998\t0.952\t0.999\t0.5\t0.5\t0.817\t0.880\t0.999\t0.5\t0.993\t0.999\t0.5\t0.952\t0.5\t0.5\t0.5\t0.5\n",
      "0.5\t0.5\t0.5\t0.5\t0.5\t0.5\t0.5\t0.5\t0.5\t0.5\t0.5\t0.5\t0.5\t0.5\t0.5\t0.5\t0.5\t0.5\t0.5\t0.5\t0.5\t0.5\t0.5\t0.5\n",
      "0.5\t0.5\t0.5\t0.5\t0.5\t0.5\t0.5\t0.5\t0.5\t0.5\t0.5\t0.5\t0.5\t0.5\t0.5\t0.5\t0.5\t0.5\t0.5\t0.5\t0.5\t0.5\t0.5\t0.5\n",
      "0.5\t0.5\t0.5\t0.5\t0.5\t0.5\t0.5\t0.5\t0.5\t0.5\t0.5\t0.5\t0.5\t0.5\t0.5\t0.5\t0.5\t0.5\t0.5\t0.5\t0.5\t0.5\t0.5\t0.5\n"
     ]
    }
   ],
   "source": [
    "print('Overview of resulting edge type transition matrix (float values have been truncated to fit the view!):')\n",
    "print('\\n'.join(['\\t'.join([str(cell)[:5] for cell in row]) for row in M]))"
   ]
  },
  {
   "attachments": {},
   "cell_type": "markdown",
   "metadata": {},
   "source": [
    "Generate walks constrained by final edge type transition matrix"
   ]
  },
  {
   "cell_type": "code",
   "execution_count": 28,
   "metadata": {},
   "outputs": [
    {
     "name": "stdout",
     "output_type": "stream",
     "text": [
      "Generate walks constrained by edge type transition matrix...\n",
      "Walk iteration:\n",
      "1 / 2\n",
      "2 / 2\n"
     ]
    }
   ],
   "source": [
    "print('Generate walks constrained by edge type transition matrix...')\n",
    "walks = edge2vec.simulate_walks_2(G, num_walks, walk_length, M, p, q)"
   ]
  },
  {
   "attachments": {},
   "cell_type": "markdown",
   "metadata": {},
   "source": [
    "Generate node embeddings using Word2Vec (skip-gram model) with as input the generated walks"
   ]
  },
  {
   "cell_type": "code",
   "execution_count": 29,
   "metadata": {},
   "outputs": [],
   "source": [
    "dim = 64    # desired dimension of the node embedding\n",
    "window_size = walk_length - 1   # maximum distance between predicted and context node\n",
    "workers = 8 # threads used\n",
    "epochs = 10\n",
    "\n",
    "w2v_model = edge2vec.Word2Vec(walks, vector_size=dim, window=window_size, min_count=0, sg=1, workers=workers, epochs=epochs)"
   ]
  },
  {
   "attachments": {},
   "cell_type": "markdown",
   "metadata": {},
   "source": [
    "Save the node embeddings"
   ]
  },
  {
   "cell_type": "code",
   "execution_count": 30,
   "metadata": {},
   "outputs": [],
   "source": [
    "word_vectors = w2v_model.wv\n",
    "word_vectors.save('output/w2v.dvectors')"
   ]
  },
  {
   "cell_type": "code",
   "execution_count": 31,
   "metadata": {},
   "outputs": [],
   "source": [
    "e2v_embedding = pd.DataFrame(columns = ['Node', 'Embedding'])\n",
    "for idx, key in enumerate(w2v_model.wv.index_to_key):\n",
    "    e2v_embedding.loc[int(key)] = pd.Series({'Node':int(key), 'Embedding':list(w2v_model.wv[key])})\n",
    "    \n",
    "e2v_embedding = e2v_embedding.sort_values('Node')"
   ]
  },
  {
   "attachments": {},
   "cell_type": "markdown",
   "metadata": {},
   "source": [
    "The embeddings of each node in the graph"
   ]
  },
  {
   "cell_type": "code",
   "execution_count": 32,
   "metadata": {},
   "outputs": [
    {
     "data": {
      "text/html": [
       "<div>\n",
       "<style scoped>\n",
       "    .dataframe tbody tr th:only-of-type {\n",
       "        vertical-align: middle;\n",
       "    }\n",
       "\n",
       "    .dataframe tbody tr th {\n",
       "        vertical-align: top;\n",
       "    }\n",
       "\n",
       "    .dataframe thead th {\n",
       "        text-align: right;\n",
       "    }\n",
       "</style>\n",
       "<table border=\"1\" class=\"dataframe\">\n",
       "  <thead>\n",
       "    <tr style=\"text-align: right;\">\n",
       "      <th></th>\n",
       "      <th>Node</th>\n",
       "      <th>Embedding</th>\n",
       "    </tr>\n",
       "  </thead>\n",
       "  <tbody>\n",
       "    <tr>\n",
       "      <th>0</th>\n",
       "      <td>0</td>\n",
       "      <td>[0.6242539, -0.5732385, 0.2754397, 0.45786792,...</td>\n",
       "    </tr>\n",
       "    <tr>\n",
       "      <th>1</th>\n",
       "      <td>1</td>\n",
       "      <td>[0.040028732, -0.31529072, 0.17922406, 0.30166...</td>\n",
       "    </tr>\n",
       "    <tr>\n",
       "      <th>2</th>\n",
       "      <td>2</td>\n",
       "      <td>[0.53837353, -0.124309845, 0.629555, 0.2707707...</td>\n",
       "    </tr>\n",
       "    <tr>\n",
       "      <th>3</th>\n",
       "      <td>3</td>\n",
       "      <td>[0.32035103, -0.2041029, 0.04593229, 0.0276636...</td>\n",
       "    </tr>\n",
       "    <tr>\n",
       "      <th>4</th>\n",
       "      <td>4</td>\n",
       "      <td>[0.9930591, -0.65332705, 0.7542819, -0.0171889...</td>\n",
       "    </tr>\n",
       "    <tr>\n",
       "      <th>...</th>\n",
       "      <td>...</td>\n",
       "      <td>...</td>\n",
       "    </tr>\n",
       "    <tr>\n",
       "      <th>10029</th>\n",
       "      <td>10029</td>\n",
       "      <td>[0.62778664, -0.45031747, 0.42764083, 0.170179...</td>\n",
       "    </tr>\n",
       "    <tr>\n",
       "      <th>10030</th>\n",
       "      <td>10030</td>\n",
       "      <td>[0.5215783, -0.27274367, 0.38409162, -0.075952...</td>\n",
       "    </tr>\n",
       "    <tr>\n",
       "      <th>10031</th>\n",
       "      <td>10031</td>\n",
       "      <td>[0.43603963, -0.30680385, 0.21840605, 0.120797...</td>\n",
       "    </tr>\n",
       "    <tr>\n",
       "      <th>10032</th>\n",
       "      <td>10032</td>\n",
       "      <td>[0.73657614, -0.12010218, 0.17916599, 0.052997...</td>\n",
       "    </tr>\n",
       "    <tr>\n",
       "      <th>10033</th>\n",
       "      <td>10033</td>\n",
       "      <td>[0.07752552, -0.06484806, 0.23691872, 0.312012...</td>\n",
       "    </tr>\n",
       "  </tbody>\n",
       "</table>\n",
       "<p>10034 rows × 2 columns</p>\n",
       "</div>"
      ],
      "text/plain": [
       "        Node                                          Embedding\n",
       "0          0  [0.6242539, -0.5732385, 0.2754397, 0.45786792,...\n",
       "1          1  [0.040028732, -0.31529072, 0.17922406, 0.30166...\n",
       "2          2  [0.53837353, -0.124309845, 0.629555, 0.2707707...\n",
       "3          3  [0.32035103, -0.2041029, 0.04593229, 0.0276636...\n",
       "4          4  [0.9930591, -0.65332705, 0.7542819, -0.0171889...\n",
       "...      ...                                                ...\n",
       "10029  10029  [0.62778664, -0.45031747, 0.42764083, 0.170179...\n",
       "10030  10030  [0.5215783, -0.27274367, 0.38409162, -0.075952...\n",
       "10031  10031  [0.43603963, -0.30680385, 0.21840605, 0.120797...\n",
       "10032  10032  [0.73657614, -0.12010218, 0.17916599, 0.052997...\n",
       "10033  10033  [0.07752552, -0.06484806, 0.23691872, 0.312012...\n",
       "\n",
       "[10034 rows x 2 columns]"
      ]
     },
     "execution_count": 32,
     "metadata": {},
     "output_type": "execute_result"
    }
   ],
   "source": [
    "e2v_embedding"
   ]
  },
  {
   "attachments": {},
   "cell_type": "markdown",
   "metadata": {},
   "source": [
    "# Link Prediction"
   ]
  },
  {
   "attachments": {},
   "cell_type": "markdown",
   "metadata": {},
   "source": [
    "Creating a graph including the node embeddings as features of each node."
   ]
  },
  {
   "cell_type": "code",
   "execution_count": 33,
   "metadata": {},
   "outputs": [
    {
     "name": "stdout",
     "output_type": "stream",
     "text": [
      "(0, {'node_feature': tensor([ 0.6243, -0.5732,  0.2754,  0.4579,  0.6186,  0.0026, -0.1182,  0.2416,\n",
      "        -0.7329,  0.7328,  0.5457, -0.7924,  0.2449, -0.7682, -0.2270,  0.2023,\n",
      "        -0.2881, -0.2261, -0.3286,  0.3568,  0.4713,  0.1212,  0.0787, -0.4172,\n",
      "         0.1897,  0.1278, -0.5714, -0.0510,  0.0043, -1.1968, -0.1426, -0.2059,\n",
      "         0.1713,  0.5579,  0.5307,  0.5858, -0.3437, -0.9376,  0.2943,  0.4051,\n",
      "        -0.0231, -0.3373, -0.4705, -0.9938,  0.6521, -0.4852, -0.5319,  0.2613,\n",
      "         0.6042, -0.1314,  0.1796, -0.1023,  0.0287,  0.2329,  0.6883, -0.0743,\n",
      "        -0.4013,  0.0182, -0.2918,  0.3585, -0.5493, -0.0056,  0.1105,  0.0094])})\n",
      "(0, 6308, {})\n",
      "Number of edges is 82899\n",
      "Number of nodes is 10034\n"
     ]
    }
   ],
   "source": [
    "embedded_node_G = nx.DiGraph() # TODO: changed from Graph\n",
    "\n",
    "for ind, node in e2v_embedding.iterrows(): \n",
    "  embedded_node_G.add_node(int(node['Node']), node_feature=torch.Tensor(node['Embedding']))\n",
    "for ind, edge in edge2vec_df.iterrows(): \n",
    "  embedded_node_G.add_edge(int(edge['index_head']), int(edge['index_tail']))\n",
    "    \n",
    "for node in embedded_node_G.nodes(data=True):\n",
    "    print(node)\n",
    "    break\n",
    "for edge in embedded_node_G.edges(data=True):\n",
    "    print(edge)\n",
    "    break\n",
    "\n",
    "print(\"Number of edges is {}\".format(embedded_node_G.number_of_edges()))\n",
    "print(\"Number of nodes is {}\".format(embedded_node_G.number_of_nodes()))"
   ]
  },
  {
   "attachments": {},
   "cell_type": "markdown",
   "metadata": {},
   "source": [
    "## Generate graph datasets for training, validation and testing"
   ]
  },
  {
   "attachments": {},
   "cell_type": "markdown",
   "metadata": {},
   "source": [
    "Transductive link prediction split (https://zqfang.github.io/2021-08-12-graph-linkpredict/):\n",
    "- Train/validation/test sets are on the same graph\n",
    "- The dataset consists of one graph\n",
    "- The entire graph can be observed in all dataset splits\n",
    "- The labels of the edges are split"
   ]
  },
  {
   "cell_type": "code",
   "execution_count": 34,
   "metadata": {},
   "outputs": [
    {
     "name": "stderr",
     "output_type": "stream",
     "text": [
      "c:\\Users\\rosa-\\anaconda3\\envs\\xaifo\\lib\\site-packages\\deepsnap\\graph.py:2126: UserWarning: __floordiv__ is deprecated, and its behavior will change in a future version of pytorch. It currently rounds toward 0 (like the 'trunc' function NOT 'floor'). This results in incorrect rounding for negative values. To keep the current behavior, use torch.div(a, b, rounding_mode='trunc'), or for actual floor division, use torch.div(a, b, rounding_mode='floor').\n",
      "  row = perm // num_nodes\n"
     ]
    },
    {
     "name": "stdout",
     "output_type": "stream",
     "text": [
      "Input dimension (embedding dimension): 64 \n",
      " Number of edge classes (link or no link): 2\n"
     ]
    }
   ],
   "source": [
    "dataset = GraphDataset(\n",
    "    embedded_node_G,\n",
    "    task='link_pred',\n",
    "    edge_train_mode='all'\n",
    ")\n",
    "\n",
    "datasets = {}\n",
    "datasets['train'], datasets['val'], datasets['test'] = dataset.split(\n",
    "    transductive=True, split_ratio=[0.8, 0.1, 0.1]\n",
    ")\n",
    "\n",
    "input_dim = datasets['train'].num_node_features\n",
    "num_classes = datasets['train'].num_edge_labels\n",
    "\n",
    "print(f'Input dimension (embedding dimension): {input_dim} \\n Number of edge classes (link or no link): {num_classes}')   "
   ]
  },
  {
   "attachments": {},
   "cell_type": "markdown",
   "metadata": {},
   "source": [
    "Dataloaders allow to feed data into the model by batch."
   ]
  },
  {
   "cell_type": "code",
   "execution_count": 35,
   "metadata": {},
   "outputs": [],
   "source": [
    "dataloaders = {split: DataLoader(ds, collate_fn=Batch.collate([]), batch_size=1, shuffle=(split=='train')) for split, ds in datasets.items()}"
   ]
  },
  {
   "cell_type": "code",
   "execution_count": 36,
   "metadata": {},
   "outputs": [
    {
     "name": "stdout",
     "output_type": "stream",
     "text": [
      "--- training set ---\n",
      "feat (10034, 64) contains all features per node\n",
      "edge_index (2, 66319) contains existing edges with [0] for head nodes and [1] for tail nodes (all edges * 2 * 0.8)\n",
      "[[1057 2863 2616 ... 9385 3401 8601]\n",
      " [9806 6603 8323 ... 2772 9432 8168]]\n",
      "edge_label_index (2, 132638) contains edges and no edges with [0] for head nodes and [1] for tail nodes, 50/50 ratio\n",
      "edge label (132638,)\n",
      "torch.Size([132638])\n",
      "tensor(10033)\n",
      "nodes_first (132638, 64) contains all head nodes of an existing or non-existing edge\n",
      "nodes_second (132638, 64) contains all tail nodes of an existing or non-existing edge\n",
      "pred [4.975811  7.3512406 4.2630506 ... 1.2573946 3.6173592 4.107247 ] with shape (132638,) contains prediction of whether or not an edge exists between the node pairs\n",
      "edge_label tensor([1., 1., 1.,  ..., 0., 0., 0.]) with shape torch.Size([132638]) contains the true labels of an edge existing or not\n",
      "--- validation set ---\n",
      "feat (10034, 64)\n",
      "edge_index (2, 66319)\n",
      "edge_label_index (2, 16578)\n",
      "edge label (16578,)\n",
      "--- test set ---\n",
      "feat (10034, 64)\n",
      "edge_index (2, 74608)\n",
      "edge_label_index (2, 16582)\n",
      "edge label (16582,)\n"
     ]
    }
   ],
   "source": [
    "print('--- training set ---')\n",
    "\n",
    "for i, batch in enumerate(dataloaders['train']):\n",
    "    feat, edge_index, edge_label_index = batch.node_feature, batch.edge_index, batch.edge_label_index\n",
    "    \n",
    "    print('feat', feat.detach().numpy().shape, 'contains all features per node')\n",
    "    print('edge_index', edge_index.detach().numpy().shape, 'contains existing edges with [0] for head nodes and [1] for tail nodes (all edges * 2 * 0.8)')\n",
    "    print(edge_label_index.detach().numpy())\n",
    "    print('edge_label_index', edge_label_index.detach().numpy().shape, 'contains edges and no edges with [0] for head nodes and [1] for tail nodes, 50/50 ratio')\n",
    "    print('edge label', batch.edge_label.detach().numpy().shape)\n",
    "    \n",
    "    first_nodes_indices = edge_label_index[0,:]\n",
    "    print(first_nodes_indices.shape)\n",
    "    print(torch.max(first_nodes_indices))\n",
    "    \n",
    "    nodes_first = torch.index_select(feat, 0, edge_label_index[0,:])\n",
    "    print('nodes_first', nodes_first.detach().numpy().shape, 'contains all head nodes of an existing or non-existing edge')\n",
    "    nodes_second = torch.index_select(feat, 0, edge_label_index[1,:])\n",
    "    print('nodes_second', nodes_second.detach().numpy().shape, 'contains all tail nodes of an existing or non-existing edge')\n",
    "    \n",
    "    pred = torch.sum(nodes_first * nodes_second, dim=-1)\n",
    "    print('pred', pred.detach().numpy(), 'with shape', pred.detach().numpy().shape, 'contains prediction of whether or not an edge exists between the node pairs')\n",
    "    \n",
    "    print('edge_label', batch.edge_label.type(pred.dtype), 'with shape', batch.edge_label.type(pred.dtype).shape, 'contains the true labels of an edge existing or not')\n",
    "    \n",
    "print('--- validation set ---')\n",
    "    \n",
    "for i, batch in enumerate(dataloaders['val']):\n",
    "    feat, edge_index, edge_label_index = batch.node_feature, batch.edge_index, batch.edge_label_index\n",
    "    \n",
    "    print('feat', feat.detach().numpy().shape)\n",
    "    print('edge_index', edge_index.detach().numpy().shape)\n",
    "    print('edge_label_index', edge_label_index.detach().numpy().shape)\n",
    "    print('edge label', batch.edge_label.detach().numpy().shape)\n",
    "    \n",
    "print('--- test set ---')\n",
    "    \n",
    "for i, batch in enumerate(dataloaders['test']):\n",
    "    feat, edge_index, edge_label_index = batch.node_feature, batch.edge_index, batch.edge_label_index\n",
    "    \n",
    "    print('feat', feat.detach().numpy().shape)\n",
    "    print('edge_index', edge_index.detach().numpy().shape)\n",
    "    print('edge_label_index', edge_label_index.detach().numpy().shape)\n",
    "    print('edge label', batch.edge_label.detach().numpy().shape)"
   ]
  },
  {
   "attachments": {},
   "cell_type": "markdown",
   "metadata": {},
   "source": [
    "## Train GNN"
   ]
  },
  {
   "cell_type": "code",
   "execution_count": 37,
   "metadata": {},
   "outputs": [],
   "source": [
    "class LinkPredModel(torch.nn.Module):\n",
    "    \"\"\"\n",
    "        Architecture contains Batch Normalization layers (https://towardsdatascience.com/batch-norm-explained-visually-how-it-works-and-why-neural-networks-need-it-b18919692739) \n",
    "        between the SAGEConvolutional layers.\n",
    "    \"\"\"\n",
    "    def __init__(self, input_size, hidden_size, out_size, num_layers, aggr, dropout, device):\n",
    "        super(LinkPredModel, self).__init__()\n",
    "\n",
    "        self.convs = torch.nn.ModuleList()\n",
    "        self.bns = torch.nn.ModuleList()\n",
    "        \n",
    "        self.convs.append(SAGEConv(input_size, hidden_size, normalize=True, aggr=aggr)) # input node embedding features, output is size of hidden layers\n",
    "        self.bns.append(nn.BatchNorm1d(hidden_size))\n",
    "        for _ in range(num_layers - 2):\n",
    "            self.convs.append(SAGEConv(hidden_size, hidden_size, normalize=True, aggr=aggr))\n",
    "            self.bns.append(nn.BatchNorm1d(hidden_size))\n",
    "        self.convs.append(SAGEConv(hidden_size, out_size, normalize=True, aggr=aggr))\n",
    "        self.bns.append(nn.BatchNorm1d(out_size))\n",
    "\n",
    "        self.dropout = dropout\n",
    "        self.loss_fn = torch.nn.BCEWithLogitsLoss()\n",
    "        \n",
    "        self.device = device\n",
    "\n",
    "\n",
    "    def forward(self, x, edge_index, edge_label_index, training = True):\n",
    "        x = x.to(self.device)\n",
    "        edge_index = edge_index.to(self.device)\n",
    "        edge_label_index = edge_label_index.to(self.device)\n",
    "\n",
    "        for i in range(len(self.convs) - 1):\n",
    "          x = self.convs[i](x, edge_index)\n",
    "          x = self.bns[i](x)\n",
    "          x = F.leaky_relu(x)\n",
    "          x = F.dropout(x, p=self.dropout, training=training)\n",
    "        \n",
    "        x = self.convs[-1](x, edge_index)  \n",
    "        x = self.bns[-1](x)\n",
    "        \n",
    "\n",
    "        nodes_first, nodes_second = edge_label_index\n",
    "        nodes_first_features = x[nodes_first.long()]\n",
    "        nodes_second_features = x[nodes_second.long()]\n",
    "        \n",
    "        pred = torch.sum(nodes_first_features * nodes_second_features, dim=-1)\n",
    "        \n",
    "        #nodes_first = torch.index_select(x, 0, edge_label_index[0,:].long())\n",
    "        #nodes_second = torch.index_select(x, 0, edge_label_index[1,:].long())\n",
    "        #pred = torch.sum(nodes_first * nodes_second, dim=-1)\n",
    "        \n",
    "        return pred, x\n",
    "    \n",
    "    def loss(self, pred, label):\n",
    "        return self.loss_fn(pred, label)\n",
    "\n",
    "def train(model, dataloaders, optimizer, args, ho = False):\n",
    "    val_max = 0\n",
    "    best_model = model\n",
    "    best_x = None\n",
    "    train_per = []\n",
    "    val_per = []\n",
    "    test_per = []\n",
    "    loss_per = []\n",
    "    \n",
    "    print('Start Train Function')\n",
    "    for epoch in range(1, args[\"epochs\"]):\n",
    "        for i, batch in enumerate(dataloaders['train']):\n",
    "            feat, edge_index, edge_label_index = batch.node_feature, batch.edge_index, batch.edge_label_index\n",
    "            batch.to(args[\"device\"])\n",
    "            model.train()\n",
    "            optimizer.zero_grad()\n",
    "            pred, x = model(feat, edge_index, edge_label_index)\n",
    "            loss = model.loss(pred, batch.edge_label.type(pred.dtype))\n",
    "\n",
    "            loss.backward()\n",
    "            optimizer.step()\n",
    "\n",
    "            log = 'Epoch: {:03d}, Train: {:.4f}, Val: {:.4f}, Test: {:.4f}, Loss: {:.5f}'\n",
    "            score_train = test(model, dataloaders['train'], args)\n",
    "            score_val = test(model, dataloaders['val'], args)\n",
    "            score_test = test(model, dataloaders['test'], args)\n",
    "\n",
    "            print(log.format(epoch, score_train, score_val, score_test, loss.item()))\n",
    "            if val_max < score_val:\n",
    "                val_max = score_val\n",
    "                best_model = copy.deepcopy(model)\n",
    "                best_x = x\n",
    "            if ho: \n",
    "                tune.report(val_auc=score_val, train_auc = score_train, test_auc = score_test )\n",
    "            \n",
    "            loss_per.append(loss.detach().cpu().numpy())\n",
    "            train_per.append(score_train)\n",
    "            val_per.append(score_val)\n",
    "            test_per.append(score_test)\n",
    "            \n",
    "            \n",
    "    return best_model, best_x, [loss_per, train_per, val_per, test_per]\n",
    "\n",
    "def test(model, dataloader, args):\n",
    "    model.eval()\n",
    "    score = 0\n",
    "    num_batches = 0\n",
    "    for batch in dataloader:\n",
    "        feat, edge_index, edge_label_index = batch.node_feature, batch.edge_index, batch.edge_label_index\n",
    "        batch.to(args[\"device\"])\n",
    "        pred, x = model(feat, edge_index, edge_label_index, training = False)\n",
    "        pred = torch.sigmoid(pred)\n",
    "        score += roc_auc_score(batch.edge_label.flatten().cpu().numpy(), pred.flatten().data.cpu().numpy())\n",
    "        num_batches += 1\n",
    "    score /= num_batches \n",
    "    return score"
   ]
  },
  {
   "attachments": {},
   "cell_type": "markdown",
   "metadata": {},
   "source": [
    "### Predefined Arguments"
   ]
  },
  {
   "attachments": {},
   "cell_type": "markdown",
   "metadata": {},
   "source": [
    "Train GNN with predefined arguments"
   ]
  },
  {
   "cell_type": "code",
   "execution_count": 38,
   "metadata": {},
   "outputs": [],
   "source": [
    "args = {\n",
    "    \"device\" : torch_device,   # insert torch_device, or 'cpu' \n",
    "    \"hidden_dim\" : 264,\n",
    "    'output_dim':64,\n",
    "    \"epochs\" : 150, \n",
    "    'lr': 0.07, \n",
    "    'aggr': 'mean', \n",
    "    'layers': 2, \n",
    "    'dropout': 0.2\n",
    "}\n",
    "\n",
    "model = LinkPredModel(input_dim, args[\"hidden_dim\"], args['output_dim'], args['layers'], args['aggr'], args['dropout'], args[\"device\"]).to(args[\"device\"])\n",
    "optimizer = torch.optim.SGD(model.parameters(), lr=args['lr'], momentum=0.9, weight_decay=5e-4)"
   ]
  },
  {
   "cell_type": "code",
   "execution_count": 39,
   "metadata": {},
   "outputs": [
    {
     "name": "stdout",
     "output_type": "stream",
     "text": [
      "Start Train Function\n",
      "Epoch: 001, Train: 0.9540, Val: 0.9388, Test: 0.9452, Loss: 2.52211\n"
     ]
    },
    {
     "name": "stderr",
     "output_type": "stream",
     "text": [
      "c:\\Users\\rosa-\\anaconda3\\envs\\xaifo\\lib\\site-packages\\deepsnap\\graph.py:2126: UserWarning: __floordiv__ is deprecated, and its behavior will change in a future version of pytorch. It currently rounds toward 0 (like the 'trunc' function NOT 'floor'). This results in incorrect rounding for negative values. To keep the current behavior, use torch.div(a, b, rounding_mode='trunc'), or for actual floor division, use torch.div(a, b, rounding_mode='floor').\n",
      "  row = perm // num_nodes\n"
     ]
    },
    {
     "name": "stdout",
     "output_type": "stream",
     "text": [
      "Epoch: 002, Train: 0.9592, Val: 0.9421, Test: 0.9467, Loss: 2.07768\n"
     ]
    },
    {
     "name": "stderr",
     "output_type": "stream",
     "text": [
      "c:\\Users\\rosa-\\anaconda3\\envs\\xaifo\\lib\\site-packages\\deepsnap\\graph.py:2126: UserWarning: __floordiv__ is deprecated, and its behavior will change in a future version of pytorch. It currently rounds toward 0 (like the 'trunc' function NOT 'floor'). This results in incorrect rounding for negative values. To keep the current behavior, use torch.div(a, b, rounding_mode='trunc'), or for actual floor division, use torch.div(a, b, rounding_mode='floor').\n",
      "  row = perm // num_nodes\n"
     ]
    },
    {
     "name": "stdout",
     "output_type": "stream",
     "text": [
      "Epoch: 003, Train: 0.9624, Val: 0.9447, Test: 0.9497, Loss: 2.19986\n"
     ]
    },
    {
     "name": "stderr",
     "output_type": "stream",
     "text": [
      "c:\\Users\\rosa-\\anaconda3\\envs\\xaifo\\lib\\site-packages\\deepsnap\\graph.py:2126: UserWarning: __floordiv__ is deprecated, and its behavior will change in a future version of pytorch. It currently rounds toward 0 (like the 'trunc' function NOT 'floor'). This results in incorrect rounding for negative values. To keep the current behavior, use torch.div(a, b, rounding_mode='trunc'), or for actual floor division, use torch.div(a, b, rounding_mode='floor').\n",
      "  row = perm // num_nodes\n"
     ]
    },
    {
     "name": "stdout",
     "output_type": "stream",
     "text": [
      "Epoch: 004, Train: 0.9634, Val: 0.9452, Test: 0.9503, Loss: 1.93291\n"
     ]
    },
    {
     "name": "stderr",
     "output_type": "stream",
     "text": [
      "c:\\Users\\rosa-\\anaconda3\\envs\\xaifo\\lib\\site-packages\\deepsnap\\graph.py:2126: UserWarning: __floordiv__ is deprecated, and its behavior will change in a future version of pytorch. It currently rounds toward 0 (like the 'trunc' function NOT 'floor'). This results in incorrect rounding for negative values. To keep the current behavior, use torch.div(a, b, rounding_mode='trunc'), or for actual floor division, use torch.div(a, b, rounding_mode='floor').\n",
      "  row = perm // num_nodes\n"
     ]
    },
    {
     "name": "stdout",
     "output_type": "stream",
     "text": [
      "Epoch: 005, Train: 0.9655, Val: 0.9467, Test: 0.9508, Loss: 1.77834\n"
     ]
    },
    {
     "name": "stderr",
     "output_type": "stream",
     "text": [
      "c:\\Users\\rosa-\\anaconda3\\envs\\xaifo\\lib\\site-packages\\deepsnap\\graph.py:2126: UserWarning: __floordiv__ is deprecated, and its behavior will change in a future version of pytorch. It currently rounds toward 0 (like the 'trunc' function NOT 'floor'). This results in incorrect rounding for negative values. To keep the current behavior, use torch.div(a, b, rounding_mode='trunc'), or for actual floor division, use torch.div(a, b, rounding_mode='floor').\n",
      "  row = perm // num_nodes\n"
     ]
    },
    {
     "name": "stdout",
     "output_type": "stream",
     "text": [
      "Epoch: 006, Train: 0.9668, Val: 0.9478, Test: 0.9516, Loss: 1.71836\n"
     ]
    },
    {
     "name": "stderr",
     "output_type": "stream",
     "text": [
      "c:\\Users\\rosa-\\anaconda3\\envs\\xaifo\\lib\\site-packages\\deepsnap\\graph.py:2126: UserWarning: __floordiv__ is deprecated, and its behavior will change in a future version of pytorch. It currently rounds toward 0 (like the 'trunc' function NOT 'floor'). This results in incorrect rounding for negative values. To keep the current behavior, use torch.div(a, b, rounding_mode='trunc'), or for actual floor division, use torch.div(a, b, rounding_mode='floor').\n",
      "  row = perm // num_nodes\n"
     ]
    },
    {
     "name": "stdout",
     "output_type": "stream",
     "text": [
      "Epoch: 007, Train: 0.9664, Val: 0.9473, Test: 0.9515, Loss: 1.60703\n"
     ]
    },
    {
     "name": "stderr",
     "output_type": "stream",
     "text": [
      "c:\\Users\\rosa-\\anaconda3\\envs\\xaifo\\lib\\site-packages\\deepsnap\\graph.py:2126: UserWarning: __floordiv__ is deprecated, and its behavior will change in a future version of pytorch. It currently rounds toward 0 (like the 'trunc' function NOT 'floor'). This results in incorrect rounding for negative values. To keep the current behavior, use torch.div(a, b, rounding_mode='trunc'), or for actual floor division, use torch.div(a, b, rounding_mode='floor').\n",
      "  row = perm // num_nodes\n"
     ]
    },
    {
     "name": "stdout",
     "output_type": "stream",
     "text": [
      "Epoch: 008, Train: 0.9658, Val: 0.9453, Test: 0.9498, Loss: 1.47922\n"
     ]
    },
    {
     "name": "stderr",
     "output_type": "stream",
     "text": [
      "c:\\Users\\rosa-\\anaconda3\\envs\\xaifo\\lib\\site-packages\\deepsnap\\graph.py:2126: UserWarning: __floordiv__ is deprecated, and its behavior will change in a future version of pytorch. It currently rounds toward 0 (like the 'trunc' function NOT 'floor'). This results in incorrect rounding for negative values. To keep the current behavior, use torch.div(a, b, rounding_mode='trunc'), or for actual floor division, use torch.div(a, b, rounding_mode='floor').\n",
      "  row = perm // num_nodes\n"
     ]
    },
    {
     "name": "stdout",
     "output_type": "stream",
     "text": [
      "Epoch: 009, Train: 0.9637, Val: 0.9429, Test: 0.9477, Loss: 1.40028\n"
     ]
    },
    {
     "name": "stderr",
     "output_type": "stream",
     "text": [
      "c:\\Users\\rosa-\\anaconda3\\envs\\xaifo\\lib\\site-packages\\deepsnap\\graph.py:2126: UserWarning: __floordiv__ is deprecated, and its behavior will change in a future version of pytorch. It currently rounds toward 0 (like the 'trunc' function NOT 'floor'). This results in incorrect rounding for negative values. To keep the current behavior, use torch.div(a, b, rounding_mode='trunc'), or for actual floor division, use torch.div(a, b, rounding_mode='floor').\n",
      "  row = perm // num_nodes\n"
     ]
    },
    {
     "name": "stdout",
     "output_type": "stream",
     "text": [
      "Epoch: 010, Train: 0.9627, Val: 0.9415, Test: 0.9465, Loss: 1.28908\n"
     ]
    },
    {
     "name": "stderr",
     "output_type": "stream",
     "text": [
      "c:\\Users\\rosa-\\anaconda3\\envs\\xaifo\\lib\\site-packages\\deepsnap\\graph.py:2126: UserWarning: __floordiv__ is deprecated, and its behavior will change in a future version of pytorch. It currently rounds toward 0 (like the 'trunc' function NOT 'floor'). This results in incorrect rounding for negative values. To keep the current behavior, use torch.div(a, b, rounding_mode='trunc'), or for actual floor division, use torch.div(a, b, rounding_mode='floor').\n",
      "  row = perm // num_nodes\n"
     ]
    },
    {
     "name": "stdout",
     "output_type": "stream",
     "text": [
      "Epoch: 011, Train: 0.9632, Val: 0.9421, Test: 0.9473, Loss: 1.22570\n"
     ]
    },
    {
     "name": "stderr",
     "output_type": "stream",
     "text": [
      "c:\\Users\\rosa-\\anaconda3\\envs\\xaifo\\lib\\site-packages\\deepsnap\\graph.py:2126: UserWarning: __floordiv__ is deprecated, and its behavior will change in a future version of pytorch. It currently rounds toward 0 (like the 'trunc' function NOT 'floor'). This results in incorrect rounding for negative values. To keep the current behavior, use torch.div(a, b, rounding_mode='trunc'), or for actual floor division, use torch.div(a, b, rounding_mode='floor').\n",
      "  row = perm // num_nodes\n"
     ]
    },
    {
     "name": "stdout",
     "output_type": "stream",
     "text": [
      "Epoch: 012, Train: 0.9643, Val: 0.9442, Test: 0.9493, Loss: 1.13591\n"
     ]
    },
    {
     "name": "stderr",
     "output_type": "stream",
     "text": [
      "c:\\Users\\rosa-\\anaconda3\\envs\\xaifo\\lib\\site-packages\\deepsnap\\graph.py:2126: UserWarning: __floordiv__ is deprecated, and its behavior will change in a future version of pytorch. It currently rounds toward 0 (like the 'trunc' function NOT 'floor'). This results in incorrect rounding for negative values. To keep the current behavior, use torch.div(a, b, rounding_mode='trunc'), or for actual floor division, use torch.div(a, b, rounding_mode='floor').\n",
      "  row = perm // num_nodes\n"
     ]
    },
    {
     "name": "stdout",
     "output_type": "stream",
     "text": [
      "Epoch: 013, Train: 0.9661, Val: 0.9468, Test: 0.9517, Loss: 1.05923\n"
     ]
    },
    {
     "name": "stderr",
     "output_type": "stream",
     "text": [
      "c:\\Users\\rosa-\\anaconda3\\envs\\xaifo\\lib\\site-packages\\deepsnap\\graph.py:2126: UserWarning: __floordiv__ is deprecated, and its behavior will change in a future version of pytorch. It currently rounds toward 0 (like the 'trunc' function NOT 'floor'). This results in incorrect rounding for negative values. To keep the current behavior, use torch.div(a, b, rounding_mode='trunc'), or for actual floor division, use torch.div(a, b, rounding_mode='floor').\n",
      "  row = perm // num_nodes\n"
     ]
    },
    {
     "name": "stdout",
     "output_type": "stream",
     "text": [
      "Epoch: 014, Train: 0.9678, Val: 0.9490, Test: 0.9538, Loss: 0.98182\n"
     ]
    },
    {
     "name": "stderr",
     "output_type": "stream",
     "text": [
      "c:\\Users\\rosa-\\anaconda3\\envs\\xaifo\\lib\\site-packages\\deepsnap\\graph.py:2126: UserWarning: __floordiv__ is deprecated, and its behavior will change in a future version of pytorch. It currently rounds toward 0 (like the 'trunc' function NOT 'floor'). This results in incorrect rounding for negative values. To keep the current behavior, use torch.div(a, b, rounding_mode='trunc'), or for actual floor division, use torch.div(a, b, rounding_mode='floor').\n",
      "  row = perm // num_nodes\n"
     ]
    },
    {
     "name": "stdout",
     "output_type": "stream",
     "text": [
      "Epoch: 015, Train: 0.9688, Val: 0.9503, Test: 0.9550, Loss: 0.91794\n"
     ]
    },
    {
     "name": "stderr",
     "output_type": "stream",
     "text": [
      "c:\\Users\\rosa-\\anaconda3\\envs\\xaifo\\lib\\site-packages\\deepsnap\\graph.py:2126: UserWarning: __floordiv__ is deprecated, and its behavior will change in a future version of pytorch. It currently rounds toward 0 (like the 'trunc' function NOT 'floor'). This results in incorrect rounding for negative values. To keep the current behavior, use torch.div(a, b, rounding_mode='trunc'), or for actual floor division, use torch.div(a, b, rounding_mode='floor').\n",
      "  row = perm // num_nodes\n"
     ]
    },
    {
     "name": "stdout",
     "output_type": "stream",
     "text": [
      "Epoch: 016, Train: 0.9694, Val: 0.9508, Test: 0.9556, Loss: 0.87036\n"
     ]
    },
    {
     "name": "stderr",
     "output_type": "stream",
     "text": [
      "c:\\Users\\rosa-\\anaconda3\\envs\\xaifo\\lib\\site-packages\\deepsnap\\graph.py:2126: UserWarning: __floordiv__ is deprecated, and its behavior will change in a future version of pytorch. It currently rounds toward 0 (like the 'trunc' function NOT 'floor'). This results in incorrect rounding for negative values. To keep the current behavior, use torch.div(a, b, rounding_mode='trunc'), or for actual floor division, use torch.div(a, b, rounding_mode='floor').\n",
      "  row = perm // num_nodes\n"
     ]
    },
    {
     "name": "stdout",
     "output_type": "stream",
     "text": [
      "Epoch: 017, Train: 0.9690, Val: 0.9511, Test: 0.9557, Loss: 0.80729\n"
     ]
    },
    {
     "name": "stderr",
     "output_type": "stream",
     "text": [
      "c:\\Users\\rosa-\\anaconda3\\envs\\xaifo\\lib\\site-packages\\deepsnap\\graph.py:2126: UserWarning: __floordiv__ is deprecated, and its behavior will change in a future version of pytorch. It currently rounds toward 0 (like the 'trunc' function NOT 'floor'). This results in incorrect rounding for negative values. To keep the current behavior, use torch.div(a, b, rounding_mode='trunc'), or for actual floor division, use torch.div(a, b, rounding_mode='floor').\n",
      "  row = perm // num_nodes\n"
     ]
    },
    {
     "name": "stdout",
     "output_type": "stream",
     "text": [
      "Epoch: 018, Train: 0.9694, Val: 0.9514, Test: 0.9559, Loss: 0.75919\n"
     ]
    },
    {
     "name": "stderr",
     "output_type": "stream",
     "text": [
      "c:\\Users\\rosa-\\anaconda3\\envs\\xaifo\\lib\\site-packages\\deepsnap\\graph.py:2126: UserWarning: __floordiv__ is deprecated, and its behavior will change in a future version of pytorch. It currently rounds toward 0 (like the 'trunc' function NOT 'floor'). This results in incorrect rounding for negative values. To keep the current behavior, use torch.div(a, b, rounding_mode='trunc'), or for actual floor division, use torch.div(a, b, rounding_mode='floor').\n",
      "  row = perm // num_nodes\n"
     ]
    },
    {
     "name": "stdout",
     "output_type": "stream",
     "text": [
      "Epoch: 019, Train: 0.9688, Val: 0.9518, Test: 0.9563, Loss: 0.71378\n"
     ]
    },
    {
     "name": "stderr",
     "output_type": "stream",
     "text": [
      "c:\\Users\\rosa-\\anaconda3\\envs\\xaifo\\lib\\site-packages\\deepsnap\\graph.py:2126: UserWarning: __floordiv__ is deprecated, and its behavior will change in a future version of pytorch. It currently rounds toward 0 (like the 'trunc' function NOT 'floor'). This results in incorrect rounding for negative values. To keep the current behavior, use torch.div(a, b, rounding_mode='trunc'), or for actual floor division, use torch.div(a, b, rounding_mode='floor').\n",
      "  row = perm // num_nodes\n"
     ]
    },
    {
     "name": "stdout",
     "output_type": "stream",
     "text": [
      "Epoch: 020, Train: 0.9691, Val: 0.9524, Test: 0.9568, Loss: 0.67700\n"
     ]
    },
    {
     "name": "stderr",
     "output_type": "stream",
     "text": [
      "c:\\Users\\rosa-\\anaconda3\\envs\\xaifo\\lib\\site-packages\\deepsnap\\graph.py:2126: UserWarning: __floordiv__ is deprecated, and its behavior will change in a future version of pytorch. It currently rounds toward 0 (like the 'trunc' function NOT 'floor'). This results in incorrect rounding for negative values. To keep the current behavior, use torch.div(a, b, rounding_mode='trunc'), or for actual floor division, use torch.div(a, b, rounding_mode='floor').\n",
      "  row = perm // num_nodes\n"
     ]
    },
    {
     "name": "stdout",
     "output_type": "stream",
     "text": [
      "Epoch: 021, Train: 0.9697, Val: 0.9531, Test: 0.9574, Loss: 0.63448\n"
     ]
    },
    {
     "name": "stderr",
     "output_type": "stream",
     "text": [
      "c:\\Users\\rosa-\\anaconda3\\envs\\xaifo\\lib\\site-packages\\deepsnap\\graph.py:2126: UserWarning: __floordiv__ is deprecated, and its behavior will change in a future version of pytorch. It currently rounds toward 0 (like the 'trunc' function NOT 'floor'). This results in incorrect rounding for negative values. To keep the current behavior, use torch.div(a, b, rounding_mode='trunc'), or for actual floor division, use torch.div(a, b, rounding_mode='floor').\n",
      "  row = perm // num_nodes\n"
     ]
    },
    {
     "name": "stdout",
     "output_type": "stream",
     "text": [
      "Epoch: 022, Train: 0.9690, Val: 0.9537, Test: 0.9581, Loss: 0.61141\n"
     ]
    },
    {
     "name": "stderr",
     "output_type": "stream",
     "text": [
      "c:\\Users\\rosa-\\anaconda3\\envs\\xaifo\\lib\\site-packages\\deepsnap\\graph.py:2126: UserWarning: __floordiv__ is deprecated, and its behavior will change in a future version of pytorch. It currently rounds toward 0 (like the 'trunc' function NOT 'floor'). This results in incorrect rounding for negative values. To keep the current behavior, use torch.div(a, b, rounding_mode='trunc'), or for actual floor division, use torch.div(a, b, rounding_mode='floor').\n",
      "  row = perm // num_nodes\n"
     ]
    },
    {
     "name": "stdout",
     "output_type": "stream",
     "text": [
      "Epoch: 023, Train: 0.9692, Val: 0.9542, Test: 0.9588, Loss: 0.57063\n"
     ]
    },
    {
     "name": "stderr",
     "output_type": "stream",
     "text": [
      "c:\\Users\\rosa-\\anaconda3\\envs\\xaifo\\lib\\site-packages\\deepsnap\\graph.py:2126: UserWarning: __floordiv__ is deprecated, and its behavior will change in a future version of pytorch. It currently rounds toward 0 (like the 'trunc' function NOT 'floor'). This results in incorrect rounding for negative values. To keep the current behavior, use torch.div(a, b, rounding_mode='trunc'), or for actual floor division, use torch.div(a, b, rounding_mode='floor').\n",
      "  row = perm // num_nodes\n"
     ]
    },
    {
     "name": "stdout",
     "output_type": "stream",
     "text": [
      "Epoch: 024, Train: 0.9688, Val: 0.9549, Test: 0.9597, Loss: 0.55210\n"
     ]
    },
    {
     "name": "stderr",
     "output_type": "stream",
     "text": [
      "c:\\Users\\rosa-\\anaconda3\\envs\\xaifo\\lib\\site-packages\\deepsnap\\graph.py:2126: UserWarning: __floordiv__ is deprecated, and its behavior will change in a future version of pytorch. It currently rounds toward 0 (like the 'trunc' function NOT 'floor'). This results in incorrect rounding for negative values. To keep the current behavior, use torch.div(a, b, rounding_mode='trunc'), or for actual floor division, use torch.div(a, b, rounding_mode='floor').\n",
      "  row = perm // num_nodes\n"
     ]
    },
    {
     "name": "stdout",
     "output_type": "stream",
     "text": [
      "Epoch: 025, Train: 0.9696, Val: 0.9556, Test: 0.9608, Loss: 0.53679\n"
     ]
    },
    {
     "name": "stderr",
     "output_type": "stream",
     "text": [
      "c:\\Users\\rosa-\\anaconda3\\envs\\xaifo\\lib\\site-packages\\deepsnap\\graph.py:2126: UserWarning: __floordiv__ is deprecated, and its behavior will change in a future version of pytorch. It currently rounds toward 0 (like the 'trunc' function NOT 'floor'). This results in incorrect rounding for negative values. To keep the current behavior, use torch.div(a, b, rounding_mode='trunc'), or for actual floor division, use torch.div(a, b, rounding_mode='floor').\n",
      "  row = perm // num_nodes\n"
     ]
    },
    {
     "name": "stdout",
     "output_type": "stream",
     "text": [
      "Epoch: 026, Train: 0.9699, Val: 0.9565, Test: 0.9622, Loss: 0.52086\n"
     ]
    },
    {
     "name": "stderr",
     "output_type": "stream",
     "text": [
      "c:\\Users\\rosa-\\anaconda3\\envs\\xaifo\\lib\\site-packages\\deepsnap\\graph.py:2126: UserWarning: __floordiv__ is deprecated, and its behavior will change in a future version of pytorch. It currently rounds toward 0 (like the 'trunc' function NOT 'floor'). This results in incorrect rounding for negative values. To keep the current behavior, use torch.div(a, b, rounding_mode='trunc'), or for actual floor division, use torch.div(a, b, rounding_mode='floor').\n",
      "  row = perm // num_nodes\n"
     ]
    },
    {
     "name": "stdout",
     "output_type": "stream",
     "text": [
      "Epoch: 027, Train: 0.9710, Val: 0.9578, Test: 0.9637, Loss: 0.50494\n"
     ]
    },
    {
     "name": "stderr",
     "output_type": "stream",
     "text": [
      "c:\\Users\\rosa-\\anaconda3\\envs\\xaifo\\lib\\site-packages\\deepsnap\\graph.py:2126: UserWarning: __floordiv__ is deprecated, and its behavior will change in a future version of pytorch. It currently rounds toward 0 (like the 'trunc' function NOT 'floor'). This results in incorrect rounding for negative values. To keep the current behavior, use torch.div(a, b, rounding_mode='trunc'), or for actual floor division, use torch.div(a, b, rounding_mode='floor').\n",
      "  row = perm // num_nodes\n"
     ]
    },
    {
     "name": "stdout",
     "output_type": "stream",
     "text": [
      "Epoch: 028, Train: 0.9719, Val: 0.9595, Test: 0.9655, Loss: 0.49442\n"
     ]
    },
    {
     "name": "stderr",
     "output_type": "stream",
     "text": [
      "c:\\Users\\rosa-\\anaconda3\\envs\\xaifo\\lib\\site-packages\\deepsnap\\graph.py:2126: UserWarning: __floordiv__ is deprecated, and its behavior will change in a future version of pytorch. It currently rounds toward 0 (like the 'trunc' function NOT 'floor'). This results in incorrect rounding for negative values. To keep the current behavior, use torch.div(a, b, rounding_mode='trunc'), or for actual floor division, use torch.div(a, b, rounding_mode='floor').\n",
      "  row = perm // num_nodes\n"
     ]
    },
    {
     "name": "stdout",
     "output_type": "stream",
     "text": [
      "Epoch: 029, Train: 0.9733, Val: 0.9616, Test: 0.9675, Loss: 0.48222\n"
     ]
    },
    {
     "name": "stderr",
     "output_type": "stream",
     "text": [
      "c:\\Users\\rosa-\\anaconda3\\envs\\xaifo\\lib\\site-packages\\deepsnap\\graph.py:2126: UserWarning: __floordiv__ is deprecated, and its behavior will change in a future version of pytorch. It currently rounds toward 0 (like the 'trunc' function NOT 'floor'). This results in incorrect rounding for negative values. To keep the current behavior, use torch.div(a, b, rounding_mode='trunc'), or for actual floor division, use torch.div(a, b, rounding_mode='floor').\n",
      "  row = perm // num_nodes\n"
     ]
    },
    {
     "name": "stdout",
     "output_type": "stream",
     "text": [
      "Epoch: 030, Train: 0.9759, Val: 0.9640, Test: 0.9695, Loss: 0.47217\n"
     ]
    },
    {
     "name": "stderr",
     "output_type": "stream",
     "text": [
      "c:\\Users\\rosa-\\anaconda3\\envs\\xaifo\\lib\\site-packages\\deepsnap\\graph.py:2126: UserWarning: __floordiv__ is deprecated, and its behavior will change in a future version of pytorch. It currently rounds toward 0 (like the 'trunc' function NOT 'floor'). This results in incorrect rounding for negative values. To keep the current behavior, use torch.div(a, b, rounding_mode='trunc'), or for actual floor division, use torch.div(a, b, rounding_mode='floor').\n",
      "  row = perm // num_nodes\n"
     ]
    },
    {
     "name": "stdout",
     "output_type": "stream",
     "text": [
      "Epoch: 031, Train: 0.9780, Val: 0.9664, Test: 0.9714, Loss: 0.46185\n"
     ]
    },
    {
     "name": "stderr",
     "output_type": "stream",
     "text": [
      "c:\\Users\\rosa-\\anaconda3\\envs\\xaifo\\lib\\site-packages\\deepsnap\\graph.py:2126: UserWarning: __floordiv__ is deprecated, and its behavior will change in a future version of pytorch. It currently rounds toward 0 (like the 'trunc' function NOT 'floor'). This results in incorrect rounding for negative values. To keep the current behavior, use torch.div(a, b, rounding_mode='trunc'), or for actual floor division, use torch.div(a, b, rounding_mode='floor').\n",
      "  row = perm // num_nodes\n"
     ]
    },
    {
     "name": "stdout",
     "output_type": "stream",
     "text": [
      "Epoch: 032, Train: 0.9794, Val: 0.9687, Test: 0.9732, Loss: 0.45509\n"
     ]
    },
    {
     "name": "stderr",
     "output_type": "stream",
     "text": [
      "c:\\Users\\rosa-\\anaconda3\\envs\\xaifo\\lib\\site-packages\\deepsnap\\graph.py:2126: UserWarning: __floordiv__ is deprecated, and its behavior will change in a future version of pytorch. It currently rounds toward 0 (like the 'trunc' function NOT 'floor'). This results in incorrect rounding for negative values. To keep the current behavior, use torch.div(a, b, rounding_mode='trunc'), or for actual floor division, use torch.div(a, b, rounding_mode='floor').\n",
      "  row = perm // num_nodes\n"
     ]
    },
    {
     "name": "stdout",
     "output_type": "stream",
     "text": [
      "Epoch: 033, Train: 0.9811, Val: 0.9709, Test: 0.9749, Loss: 0.44884\n"
     ]
    },
    {
     "name": "stderr",
     "output_type": "stream",
     "text": [
      "c:\\Users\\rosa-\\anaconda3\\envs\\xaifo\\lib\\site-packages\\deepsnap\\graph.py:2126: UserWarning: __floordiv__ is deprecated, and its behavior will change in a future version of pytorch. It currently rounds toward 0 (like the 'trunc' function NOT 'floor'). This results in incorrect rounding for negative values. To keep the current behavior, use torch.div(a, b, rounding_mode='trunc'), or for actual floor division, use torch.div(a, b, rounding_mode='floor').\n",
      "  row = perm // num_nodes\n"
     ]
    },
    {
     "name": "stdout",
     "output_type": "stream",
     "text": [
      "Epoch: 034, Train: 0.9828, Val: 0.9728, Test: 0.9763, Loss: 0.44040\n"
     ]
    },
    {
     "name": "stderr",
     "output_type": "stream",
     "text": [
      "c:\\Users\\rosa-\\anaconda3\\envs\\xaifo\\lib\\site-packages\\deepsnap\\graph.py:2126: UserWarning: __floordiv__ is deprecated, and its behavior will change in a future version of pytorch. It currently rounds toward 0 (like the 'trunc' function NOT 'floor'). This results in incorrect rounding for negative values. To keep the current behavior, use torch.div(a, b, rounding_mode='trunc'), or for actual floor division, use torch.div(a, b, rounding_mode='floor').\n",
      "  row = perm // num_nodes\n"
     ]
    },
    {
     "name": "stdout",
     "output_type": "stream",
     "text": [
      "Epoch: 035, Train: 0.9840, Val: 0.9743, Test: 0.9775, Loss: 0.43779\n"
     ]
    },
    {
     "name": "stderr",
     "output_type": "stream",
     "text": [
      "c:\\Users\\rosa-\\anaconda3\\envs\\xaifo\\lib\\site-packages\\deepsnap\\graph.py:2126: UserWarning: __floordiv__ is deprecated, and its behavior will change in a future version of pytorch. It currently rounds toward 0 (like the 'trunc' function NOT 'floor'). This results in incorrect rounding for negative values. To keep the current behavior, use torch.div(a, b, rounding_mode='trunc'), or for actual floor division, use torch.div(a, b, rounding_mode='floor').\n",
      "  row = perm // num_nodes\n"
     ]
    },
    {
     "name": "stdout",
     "output_type": "stream",
     "text": [
      "Epoch: 036, Train: 0.9845, Val: 0.9757, Test: 0.9785, Loss: 0.43501\n"
     ]
    },
    {
     "name": "stderr",
     "output_type": "stream",
     "text": [
      "c:\\Users\\rosa-\\anaconda3\\envs\\xaifo\\lib\\site-packages\\deepsnap\\graph.py:2126: UserWarning: __floordiv__ is deprecated, and its behavior will change in a future version of pytorch. It currently rounds toward 0 (like the 'trunc' function NOT 'floor'). This results in incorrect rounding for negative values. To keep the current behavior, use torch.div(a, b, rounding_mode='trunc'), or for actual floor division, use torch.div(a, b, rounding_mode='floor').\n",
      "  row = perm // num_nodes\n"
     ]
    },
    {
     "name": "stdout",
     "output_type": "stream",
     "text": [
      "Epoch: 037, Train: 0.9859, Val: 0.9768, Test: 0.9794, Loss: 0.42864\n"
     ]
    },
    {
     "name": "stderr",
     "output_type": "stream",
     "text": [
      "c:\\Users\\rosa-\\anaconda3\\envs\\xaifo\\lib\\site-packages\\deepsnap\\graph.py:2126: UserWarning: __floordiv__ is deprecated, and its behavior will change in a future version of pytorch. It currently rounds toward 0 (like the 'trunc' function NOT 'floor'). This results in incorrect rounding for negative values. To keep the current behavior, use torch.div(a, b, rounding_mode='trunc'), or for actual floor division, use torch.div(a, b, rounding_mode='floor').\n",
      "  row = perm // num_nodes\n"
     ]
    },
    {
     "name": "stdout",
     "output_type": "stream",
     "text": [
      "Epoch: 038, Train: 0.9862, Val: 0.9778, Test: 0.9801, Loss: 0.42719\n"
     ]
    },
    {
     "name": "stderr",
     "output_type": "stream",
     "text": [
      "c:\\Users\\rosa-\\anaconda3\\envs\\xaifo\\lib\\site-packages\\deepsnap\\graph.py:2126: UserWarning: __floordiv__ is deprecated, and its behavior will change in a future version of pytorch. It currently rounds toward 0 (like the 'trunc' function NOT 'floor'). This results in incorrect rounding for negative values. To keep the current behavior, use torch.div(a, b, rounding_mode='trunc'), or for actual floor division, use torch.div(a, b, rounding_mode='floor').\n",
      "  row = perm // num_nodes\n"
     ]
    },
    {
     "name": "stdout",
     "output_type": "stream",
     "text": [
      "Epoch: 039, Train: 0.9873, Val: 0.9787, Test: 0.9807, Loss: 0.42372\n"
     ]
    },
    {
     "name": "stderr",
     "output_type": "stream",
     "text": [
      "c:\\Users\\rosa-\\anaconda3\\envs\\xaifo\\lib\\site-packages\\deepsnap\\graph.py:2126: UserWarning: __floordiv__ is deprecated, and its behavior will change in a future version of pytorch. It currently rounds toward 0 (like the 'trunc' function NOT 'floor'). This results in incorrect rounding for negative values. To keep the current behavior, use torch.div(a, b, rounding_mode='trunc'), or for actual floor division, use torch.div(a, b, rounding_mode='floor').\n",
      "  row = perm // num_nodes\n"
     ]
    },
    {
     "name": "stdout",
     "output_type": "stream",
     "text": [
      "Epoch: 040, Train: 0.9873, Val: 0.9794, Test: 0.9812, Loss: 0.42047\n"
     ]
    },
    {
     "name": "stderr",
     "output_type": "stream",
     "text": [
      "c:\\Users\\rosa-\\anaconda3\\envs\\xaifo\\lib\\site-packages\\deepsnap\\graph.py:2126: UserWarning: __floordiv__ is deprecated, and its behavior will change in a future version of pytorch. It currently rounds toward 0 (like the 'trunc' function NOT 'floor'). This results in incorrect rounding for negative values. To keep the current behavior, use torch.div(a, b, rounding_mode='trunc'), or for actual floor division, use torch.div(a, b, rounding_mode='floor').\n",
      "  row = perm // num_nodes\n"
     ]
    },
    {
     "name": "stdout",
     "output_type": "stream",
     "text": [
      "Epoch: 041, Train: 0.9878, Val: 0.9799, Test: 0.9816, Loss: 0.41924\n"
     ]
    },
    {
     "name": "stderr",
     "output_type": "stream",
     "text": [
      "c:\\Users\\rosa-\\anaconda3\\envs\\xaifo\\lib\\site-packages\\deepsnap\\graph.py:2126: UserWarning: __floordiv__ is deprecated, and its behavior will change in a future version of pytorch. It currently rounds toward 0 (like the 'trunc' function NOT 'floor'). This results in incorrect rounding for negative values. To keep the current behavior, use torch.div(a, b, rounding_mode='trunc'), or for actual floor division, use torch.div(a, b, rounding_mode='floor').\n",
      "  row = perm // num_nodes\n"
     ]
    },
    {
     "name": "stdout",
     "output_type": "stream",
     "text": [
      "Epoch: 042, Train: 0.9882, Val: 0.9804, Test: 0.9820, Loss: 0.41786\n"
     ]
    },
    {
     "name": "stderr",
     "output_type": "stream",
     "text": [
      "c:\\Users\\rosa-\\anaconda3\\envs\\xaifo\\lib\\site-packages\\deepsnap\\graph.py:2126: UserWarning: __floordiv__ is deprecated, and its behavior will change in a future version of pytorch. It currently rounds toward 0 (like the 'trunc' function NOT 'floor'). This results in incorrect rounding for negative values. To keep the current behavior, use torch.div(a, b, rounding_mode='trunc'), or for actual floor division, use torch.div(a, b, rounding_mode='floor').\n",
      "  row = perm // num_nodes\n"
     ]
    },
    {
     "name": "stdout",
     "output_type": "stream",
     "text": [
      "Epoch: 043, Train: 0.9887, Val: 0.9808, Test: 0.9823, Loss: 0.41473\n"
     ]
    },
    {
     "name": "stderr",
     "output_type": "stream",
     "text": [
      "c:\\Users\\rosa-\\anaconda3\\envs\\xaifo\\lib\\site-packages\\deepsnap\\graph.py:2126: UserWarning: __floordiv__ is deprecated, and its behavior will change in a future version of pytorch. It currently rounds toward 0 (like the 'trunc' function NOT 'floor'). This results in incorrect rounding for negative values. To keep the current behavior, use torch.div(a, b, rounding_mode='trunc'), or for actual floor division, use torch.div(a, b, rounding_mode='floor').\n",
      "  row = perm // num_nodes\n"
     ]
    },
    {
     "name": "stdout",
     "output_type": "stream",
     "text": [
      "Epoch: 044, Train: 0.9893, Val: 0.9811, Test: 0.9826, Loss: 0.41382\n"
     ]
    },
    {
     "name": "stderr",
     "output_type": "stream",
     "text": [
      "c:\\Users\\rosa-\\anaconda3\\envs\\xaifo\\lib\\site-packages\\deepsnap\\graph.py:2126: UserWarning: __floordiv__ is deprecated, and its behavior will change in a future version of pytorch. It currently rounds toward 0 (like the 'trunc' function NOT 'floor'). This results in incorrect rounding for negative values. To keep the current behavior, use torch.div(a, b, rounding_mode='trunc'), or for actual floor division, use torch.div(a, b, rounding_mode='floor').\n",
      "  row = perm // num_nodes\n"
     ]
    },
    {
     "name": "stdout",
     "output_type": "stream",
     "text": [
      "Epoch: 045, Train: 0.9895, Val: 0.9814, Test: 0.9828, Loss: 0.41401\n"
     ]
    },
    {
     "name": "stderr",
     "output_type": "stream",
     "text": [
      "c:\\Users\\rosa-\\anaconda3\\envs\\xaifo\\lib\\site-packages\\deepsnap\\graph.py:2126: UserWarning: __floordiv__ is deprecated, and its behavior will change in a future version of pytorch. It currently rounds toward 0 (like the 'trunc' function NOT 'floor'). This results in incorrect rounding for negative values. To keep the current behavior, use torch.div(a, b, rounding_mode='trunc'), or for actual floor division, use torch.div(a, b, rounding_mode='floor').\n",
      "  row = perm // num_nodes\n"
     ]
    },
    {
     "name": "stdout",
     "output_type": "stream",
     "text": [
      "Epoch: 046, Train: 0.9892, Val: 0.9816, Test: 0.9830, Loss: 0.41296\n"
     ]
    },
    {
     "name": "stderr",
     "output_type": "stream",
     "text": [
      "c:\\Users\\rosa-\\anaconda3\\envs\\xaifo\\lib\\site-packages\\deepsnap\\graph.py:2126: UserWarning: __floordiv__ is deprecated, and its behavior will change in a future version of pytorch. It currently rounds toward 0 (like the 'trunc' function NOT 'floor'). This results in incorrect rounding for negative values. To keep the current behavior, use torch.div(a, b, rounding_mode='trunc'), or for actual floor division, use torch.div(a, b, rounding_mode='floor').\n",
      "  row = perm // num_nodes\n"
     ]
    },
    {
     "name": "stdout",
     "output_type": "stream",
     "text": [
      "Epoch: 047, Train: 0.9896, Val: 0.9818, Test: 0.9832, Loss: 0.41157\n"
     ]
    },
    {
     "name": "stderr",
     "output_type": "stream",
     "text": [
      "c:\\Users\\rosa-\\anaconda3\\envs\\xaifo\\lib\\site-packages\\deepsnap\\graph.py:2126: UserWarning: __floordiv__ is deprecated, and its behavior will change in a future version of pytorch. It currently rounds toward 0 (like the 'trunc' function NOT 'floor'). This results in incorrect rounding for negative values. To keep the current behavior, use torch.div(a, b, rounding_mode='trunc'), or for actual floor division, use torch.div(a, b, rounding_mode='floor').\n",
      "  row = perm // num_nodes\n"
     ]
    },
    {
     "name": "stdout",
     "output_type": "stream",
     "text": [
      "Epoch: 048, Train: 0.9899, Val: 0.9820, Test: 0.9834, Loss: 0.41191\n"
     ]
    },
    {
     "name": "stderr",
     "output_type": "stream",
     "text": [
      "c:\\Users\\rosa-\\anaconda3\\envs\\xaifo\\lib\\site-packages\\deepsnap\\graph.py:2126: UserWarning: __floordiv__ is deprecated, and its behavior will change in a future version of pytorch. It currently rounds toward 0 (like the 'trunc' function NOT 'floor'). This results in incorrect rounding for negative values. To keep the current behavior, use torch.div(a, b, rounding_mode='trunc'), or for actual floor division, use torch.div(a, b, rounding_mode='floor').\n",
      "  row = perm // num_nodes\n"
     ]
    },
    {
     "name": "stdout",
     "output_type": "stream",
     "text": [
      "Epoch: 049, Train: 0.9898, Val: 0.9821, Test: 0.9835, Loss: 0.40991\n"
     ]
    },
    {
     "name": "stderr",
     "output_type": "stream",
     "text": [
      "c:\\Users\\rosa-\\anaconda3\\envs\\xaifo\\lib\\site-packages\\deepsnap\\graph.py:2126: UserWarning: __floordiv__ is deprecated, and its behavior will change in a future version of pytorch. It currently rounds toward 0 (like the 'trunc' function NOT 'floor'). This results in incorrect rounding for negative values. To keep the current behavior, use torch.div(a, b, rounding_mode='trunc'), or for actual floor division, use torch.div(a, b, rounding_mode='floor').\n",
      "  row = perm // num_nodes\n"
     ]
    },
    {
     "name": "stdout",
     "output_type": "stream",
     "text": [
      "Epoch: 050, Train: 0.9899, Val: 0.9823, Test: 0.9836, Loss: 0.40827\n"
     ]
    },
    {
     "name": "stderr",
     "output_type": "stream",
     "text": [
      "c:\\Users\\rosa-\\anaconda3\\envs\\xaifo\\lib\\site-packages\\deepsnap\\graph.py:2126: UserWarning: __floordiv__ is deprecated, and its behavior will change in a future version of pytorch. It currently rounds toward 0 (like the 'trunc' function NOT 'floor'). This results in incorrect rounding for negative values. To keep the current behavior, use torch.div(a, b, rounding_mode='trunc'), or for actual floor division, use torch.div(a, b, rounding_mode='floor').\n",
      "  row = perm // num_nodes\n"
     ]
    },
    {
     "name": "stdout",
     "output_type": "stream",
     "text": [
      "Epoch: 051, Train: 0.9904, Val: 0.9824, Test: 0.9838, Loss: 0.40864\n"
     ]
    },
    {
     "name": "stderr",
     "output_type": "stream",
     "text": [
      "c:\\Users\\rosa-\\anaconda3\\envs\\xaifo\\lib\\site-packages\\deepsnap\\graph.py:2126: UserWarning: __floordiv__ is deprecated, and its behavior will change in a future version of pytorch. It currently rounds toward 0 (like the 'trunc' function NOT 'floor'). This results in incorrect rounding for negative values. To keep the current behavior, use torch.div(a, b, rounding_mode='trunc'), or for actual floor division, use torch.div(a, b, rounding_mode='floor').\n",
      "  row = perm // num_nodes\n"
     ]
    },
    {
     "name": "stdout",
     "output_type": "stream",
     "text": [
      "Epoch: 052, Train: 0.9899, Val: 0.9826, Test: 0.9839, Loss: 0.40671\n"
     ]
    },
    {
     "name": "stderr",
     "output_type": "stream",
     "text": [
      "c:\\Users\\rosa-\\anaconda3\\envs\\xaifo\\lib\\site-packages\\deepsnap\\graph.py:2126: UserWarning: __floordiv__ is deprecated, and its behavior will change in a future version of pytorch. It currently rounds toward 0 (like the 'trunc' function NOT 'floor'). This results in incorrect rounding for negative values. To keep the current behavior, use torch.div(a, b, rounding_mode='trunc'), or for actual floor division, use torch.div(a, b, rounding_mode='floor').\n",
      "  row = perm // num_nodes\n"
     ]
    },
    {
     "name": "stdout",
     "output_type": "stream",
     "text": [
      "Epoch: 053, Train: 0.9900, Val: 0.9827, Test: 0.9840, Loss: 0.40819\n"
     ]
    },
    {
     "name": "stderr",
     "output_type": "stream",
     "text": [
      "c:\\Users\\rosa-\\anaconda3\\envs\\xaifo\\lib\\site-packages\\deepsnap\\graph.py:2126: UserWarning: __floordiv__ is deprecated, and its behavior will change in a future version of pytorch. It currently rounds toward 0 (like the 'trunc' function NOT 'floor'). This results in incorrect rounding for negative values. To keep the current behavior, use torch.div(a, b, rounding_mode='trunc'), or for actual floor division, use torch.div(a, b, rounding_mode='floor').\n",
      "  row = perm // num_nodes\n"
     ]
    },
    {
     "name": "stdout",
     "output_type": "stream",
     "text": [
      "Epoch: 054, Train: 0.9907, Val: 0.9828, Test: 0.9841, Loss: 0.40610\n"
     ]
    },
    {
     "name": "stderr",
     "output_type": "stream",
     "text": [
      "c:\\Users\\rosa-\\anaconda3\\envs\\xaifo\\lib\\site-packages\\deepsnap\\graph.py:2126: UserWarning: __floordiv__ is deprecated, and its behavior will change in a future version of pytorch. It currently rounds toward 0 (like the 'trunc' function NOT 'floor'). This results in incorrect rounding for negative values. To keep the current behavior, use torch.div(a, b, rounding_mode='trunc'), or for actual floor division, use torch.div(a, b, rounding_mode='floor').\n",
      "  row = perm // num_nodes\n"
     ]
    },
    {
     "name": "stdout",
     "output_type": "stream",
     "text": [
      "Epoch: 055, Train: 0.9902, Val: 0.9830, Test: 0.9842, Loss: 0.40460\n"
     ]
    },
    {
     "name": "stderr",
     "output_type": "stream",
     "text": [
      "c:\\Users\\rosa-\\anaconda3\\envs\\xaifo\\lib\\site-packages\\deepsnap\\graph.py:2126: UserWarning: __floordiv__ is deprecated, and its behavior will change in a future version of pytorch. It currently rounds toward 0 (like the 'trunc' function NOT 'floor'). This results in incorrect rounding for negative values. To keep the current behavior, use torch.div(a, b, rounding_mode='trunc'), or for actual floor division, use torch.div(a, b, rounding_mode='floor').\n",
      "  row = perm // num_nodes\n"
     ]
    },
    {
     "name": "stdout",
     "output_type": "stream",
     "text": [
      "Epoch: 056, Train: 0.9904, Val: 0.9831, Test: 0.9843, Loss: 0.40560\n"
     ]
    },
    {
     "name": "stderr",
     "output_type": "stream",
     "text": [
      "c:\\Users\\rosa-\\anaconda3\\envs\\xaifo\\lib\\site-packages\\deepsnap\\graph.py:2126: UserWarning: __floordiv__ is deprecated, and its behavior will change in a future version of pytorch. It currently rounds toward 0 (like the 'trunc' function NOT 'floor'). This results in incorrect rounding for negative values. To keep the current behavior, use torch.div(a, b, rounding_mode='trunc'), or for actual floor division, use torch.div(a, b, rounding_mode='floor').\n",
      "  row = perm // num_nodes\n"
     ]
    },
    {
     "name": "stdout",
     "output_type": "stream",
     "text": [
      "Epoch: 057, Train: 0.9908, Val: 0.9832, Test: 0.9844, Loss: 0.40418\n"
     ]
    },
    {
     "name": "stderr",
     "output_type": "stream",
     "text": [
      "c:\\Users\\rosa-\\anaconda3\\envs\\xaifo\\lib\\site-packages\\deepsnap\\graph.py:2126: UserWarning: __floordiv__ is deprecated, and its behavior will change in a future version of pytorch. It currently rounds toward 0 (like the 'trunc' function NOT 'floor'). This results in incorrect rounding for negative values. To keep the current behavior, use torch.div(a, b, rounding_mode='trunc'), or for actual floor division, use torch.div(a, b, rounding_mode='floor').\n",
      "  row = perm // num_nodes\n"
     ]
    },
    {
     "name": "stdout",
     "output_type": "stream",
     "text": [
      "Epoch: 058, Train: 0.9910, Val: 0.9833, Test: 0.9846, Loss: 0.40372\n"
     ]
    },
    {
     "name": "stderr",
     "output_type": "stream",
     "text": [
      "c:\\Users\\rosa-\\anaconda3\\envs\\xaifo\\lib\\site-packages\\deepsnap\\graph.py:2126: UserWarning: __floordiv__ is deprecated, and its behavior will change in a future version of pytorch. It currently rounds toward 0 (like the 'trunc' function NOT 'floor'). This results in incorrect rounding for negative values. To keep the current behavior, use torch.div(a, b, rounding_mode='trunc'), or for actual floor division, use torch.div(a, b, rounding_mode='floor').\n",
      "  row = perm // num_nodes\n"
     ]
    },
    {
     "name": "stdout",
     "output_type": "stream",
     "text": [
      "Epoch: 059, Train: 0.9907, Val: 0.9835, Test: 0.9847, Loss: 0.40382\n"
     ]
    },
    {
     "name": "stderr",
     "output_type": "stream",
     "text": [
      "c:\\Users\\rosa-\\anaconda3\\envs\\xaifo\\lib\\site-packages\\deepsnap\\graph.py:2126: UserWarning: __floordiv__ is deprecated, and its behavior will change in a future version of pytorch. It currently rounds toward 0 (like the 'trunc' function NOT 'floor'). This results in incorrect rounding for negative values. To keep the current behavior, use torch.div(a, b, rounding_mode='trunc'), or for actual floor division, use torch.div(a, b, rounding_mode='floor').\n",
      "  row = perm // num_nodes\n"
     ]
    },
    {
     "name": "stdout",
     "output_type": "stream",
     "text": [
      "Epoch: 060, Train: 0.9911, Val: 0.9836, Test: 0.9848, Loss: 0.40297\n"
     ]
    },
    {
     "name": "stderr",
     "output_type": "stream",
     "text": [
      "c:\\Users\\rosa-\\anaconda3\\envs\\xaifo\\lib\\site-packages\\deepsnap\\graph.py:2126: UserWarning: __floordiv__ is deprecated, and its behavior will change in a future version of pytorch. It currently rounds toward 0 (like the 'trunc' function NOT 'floor'). This results in incorrect rounding for negative values. To keep the current behavior, use torch.div(a, b, rounding_mode='trunc'), or for actual floor division, use torch.div(a, b, rounding_mode='floor').\n",
      "  row = perm // num_nodes\n"
     ]
    },
    {
     "name": "stdout",
     "output_type": "stream",
     "text": [
      "Epoch: 061, Train: 0.9910, Val: 0.9837, Test: 0.9849, Loss: 0.40269\n"
     ]
    },
    {
     "name": "stderr",
     "output_type": "stream",
     "text": [
      "c:\\Users\\rosa-\\anaconda3\\envs\\xaifo\\lib\\site-packages\\deepsnap\\graph.py:2126: UserWarning: __floordiv__ is deprecated, and its behavior will change in a future version of pytorch. It currently rounds toward 0 (like the 'trunc' function NOT 'floor'). This results in incorrect rounding for negative values. To keep the current behavior, use torch.div(a, b, rounding_mode='trunc'), or for actual floor division, use torch.div(a, b, rounding_mode='floor').\n",
      "  row = perm // num_nodes\n"
     ]
    },
    {
     "name": "stdout",
     "output_type": "stream",
     "text": [
      "Epoch: 062, Train: 0.9915, Val: 0.9839, Test: 0.9850, Loss: 0.40233\n"
     ]
    },
    {
     "name": "stderr",
     "output_type": "stream",
     "text": [
      "c:\\Users\\rosa-\\anaconda3\\envs\\xaifo\\lib\\site-packages\\deepsnap\\graph.py:2126: UserWarning: __floordiv__ is deprecated, and its behavior will change in a future version of pytorch. It currently rounds toward 0 (like the 'trunc' function NOT 'floor'). This results in incorrect rounding for negative values. To keep the current behavior, use torch.div(a, b, rounding_mode='trunc'), or for actual floor division, use torch.div(a, b, rounding_mode='floor').\n",
      "  row = perm // num_nodes\n"
     ]
    },
    {
     "name": "stdout",
     "output_type": "stream",
     "text": [
      "Epoch: 063, Train: 0.9914, Val: 0.9840, Test: 0.9852, Loss: 0.40151\n"
     ]
    },
    {
     "name": "stderr",
     "output_type": "stream",
     "text": [
      "c:\\Users\\rosa-\\anaconda3\\envs\\xaifo\\lib\\site-packages\\deepsnap\\graph.py:2126: UserWarning: __floordiv__ is deprecated, and its behavior will change in a future version of pytorch. It currently rounds toward 0 (like the 'trunc' function NOT 'floor'). This results in incorrect rounding for negative values. To keep the current behavior, use torch.div(a, b, rounding_mode='trunc'), or for actual floor division, use torch.div(a, b, rounding_mode='floor').\n",
      "  row = perm // num_nodes\n"
     ]
    },
    {
     "name": "stdout",
     "output_type": "stream",
     "text": [
      "Epoch: 064, Train: 0.9912, Val: 0.9842, Test: 0.9853, Loss: 0.40167\n"
     ]
    },
    {
     "name": "stderr",
     "output_type": "stream",
     "text": [
      "c:\\Users\\rosa-\\anaconda3\\envs\\xaifo\\lib\\site-packages\\deepsnap\\graph.py:2126: UserWarning: __floordiv__ is deprecated, and its behavior will change in a future version of pytorch. It currently rounds toward 0 (like the 'trunc' function NOT 'floor'). This results in incorrect rounding for negative values. To keep the current behavior, use torch.div(a, b, rounding_mode='trunc'), or for actual floor division, use torch.div(a, b, rounding_mode='floor').\n",
      "  row = perm // num_nodes\n"
     ]
    },
    {
     "name": "stdout",
     "output_type": "stream",
     "text": [
      "Epoch: 065, Train: 0.9915, Val: 0.9843, Test: 0.9854, Loss: 0.40100\n"
     ]
    },
    {
     "name": "stderr",
     "output_type": "stream",
     "text": [
      "c:\\Users\\rosa-\\anaconda3\\envs\\xaifo\\lib\\site-packages\\deepsnap\\graph.py:2126: UserWarning: __floordiv__ is deprecated, and its behavior will change in a future version of pytorch. It currently rounds toward 0 (like the 'trunc' function NOT 'floor'). This results in incorrect rounding for negative values. To keep the current behavior, use torch.div(a, b, rounding_mode='trunc'), or for actual floor division, use torch.div(a, b, rounding_mode='floor').\n",
      "  row = perm // num_nodes\n"
     ]
    },
    {
     "name": "stdout",
     "output_type": "stream",
     "text": [
      "Epoch: 066, Train: 0.9917, Val: 0.9845, Test: 0.9855, Loss: 0.40018\n"
     ]
    },
    {
     "name": "stderr",
     "output_type": "stream",
     "text": [
      "c:\\Users\\rosa-\\anaconda3\\envs\\xaifo\\lib\\site-packages\\deepsnap\\graph.py:2126: UserWarning: __floordiv__ is deprecated, and its behavior will change in a future version of pytorch. It currently rounds toward 0 (like the 'trunc' function NOT 'floor'). This results in incorrect rounding for negative values. To keep the current behavior, use torch.div(a, b, rounding_mode='trunc'), or for actual floor division, use torch.div(a, b, rounding_mode='floor').\n",
      "  row = perm // num_nodes\n"
     ]
    },
    {
     "name": "stdout",
     "output_type": "stream",
     "text": [
      "Epoch: 067, Train: 0.9916, Val: 0.9846, Test: 0.9857, Loss: 0.39969\n"
     ]
    },
    {
     "name": "stderr",
     "output_type": "stream",
     "text": [
      "c:\\Users\\rosa-\\anaconda3\\envs\\xaifo\\lib\\site-packages\\deepsnap\\graph.py:2126: UserWarning: __floordiv__ is deprecated, and its behavior will change in a future version of pytorch. It currently rounds toward 0 (like the 'trunc' function NOT 'floor'). This results in incorrect rounding for negative values. To keep the current behavior, use torch.div(a, b, rounding_mode='trunc'), or for actual floor division, use torch.div(a, b, rounding_mode='floor').\n",
      "  row = perm // num_nodes\n"
     ]
    },
    {
     "name": "stdout",
     "output_type": "stream",
     "text": [
      "Epoch: 068, Train: 0.9920, Val: 0.9847, Test: 0.9858, Loss: 0.40019\n"
     ]
    },
    {
     "name": "stderr",
     "output_type": "stream",
     "text": [
      "c:\\Users\\rosa-\\anaconda3\\envs\\xaifo\\lib\\site-packages\\deepsnap\\graph.py:2126: UserWarning: __floordiv__ is deprecated, and its behavior will change in a future version of pytorch. It currently rounds toward 0 (like the 'trunc' function NOT 'floor'). This results in incorrect rounding for negative values. To keep the current behavior, use torch.div(a, b, rounding_mode='trunc'), or for actual floor division, use torch.div(a, b, rounding_mode='floor').\n",
      "  row = perm // num_nodes\n"
     ]
    },
    {
     "name": "stdout",
     "output_type": "stream",
     "text": [
      "Epoch: 069, Train: 0.9920, Val: 0.9849, Test: 0.9859, Loss: 0.39968\n"
     ]
    },
    {
     "name": "stderr",
     "output_type": "stream",
     "text": [
      "c:\\Users\\rosa-\\anaconda3\\envs\\xaifo\\lib\\site-packages\\deepsnap\\graph.py:2126: UserWarning: __floordiv__ is deprecated, and its behavior will change in a future version of pytorch. It currently rounds toward 0 (like the 'trunc' function NOT 'floor'). This results in incorrect rounding for negative values. To keep the current behavior, use torch.div(a, b, rounding_mode='trunc'), or for actual floor division, use torch.div(a, b, rounding_mode='floor').\n",
      "  row = perm // num_nodes\n"
     ]
    },
    {
     "name": "stdout",
     "output_type": "stream",
     "text": [
      "Epoch: 070, Train: 0.9919, Val: 0.9850, Test: 0.9860, Loss: 0.39937\n"
     ]
    },
    {
     "name": "stderr",
     "output_type": "stream",
     "text": [
      "c:\\Users\\rosa-\\anaconda3\\envs\\xaifo\\lib\\site-packages\\deepsnap\\graph.py:2126: UserWarning: __floordiv__ is deprecated, and its behavior will change in a future version of pytorch. It currently rounds toward 0 (like the 'trunc' function NOT 'floor'). This results in incorrect rounding for negative values. To keep the current behavior, use torch.div(a, b, rounding_mode='trunc'), or for actual floor division, use torch.div(a, b, rounding_mode='floor').\n",
      "  row = perm // num_nodes\n"
     ]
    },
    {
     "name": "stdout",
     "output_type": "stream",
     "text": [
      "Epoch: 071, Train: 0.9920, Val: 0.9851, Test: 0.9861, Loss: 0.40008\n"
     ]
    },
    {
     "name": "stderr",
     "output_type": "stream",
     "text": [
      "c:\\Users\\rosa-\\anaconda3\\envs\\xaifo\\lib\\site-packages\\deepsnap\\graph.py:2126: UserWarning: __floordiv__ is deprecated, and its behavior will change in a future version of pytorch. It currently rounds toward 0 (like the 'trunc' function NOT 'floor'). This results in incorrect rounding for negative values. To keep the current behavior, use torch.div(a, b, rounding_mode='trunc'), or for actual floor division, use torch.div(a, b, rounding_mode='floor').\n",
      "  row = perm // num_nodes\n"
     ]
    },
    {
     "name": "stdout",
     "output_type": "stream",
     "text": [
      "Epoch: 072, Train: 0.9923, Val: 0.9853, Test: 0.9862, Loss: 0.39958\n"
     ]
    },
    {
     "name": "stderr",
     "output_type": "stream",
     "text": [
      "c:\\Users\\rosa-\\anaconda3\\envs\\xaifo\\lib\\site-packages\\deepsnap\\graph.py:2126: UserWarning: __floordiv__ is deprecated, and its behavior will change in a future version of pytorch. It currently rounds toward 0 (like the 'trunc' function NOT 'floor'). This results in incorrect rounding for negative values. To keep the current behavior, use torch.div(a, b, rounding_mode='trunc'), or for actual floor division, use torch.div(a, b, rounding_mode='floor').\n",
      "  row = perm // num_nodes\n"
     ]
    },
    {
     "name": "stdout",
     "output_type": "stream",
     "text": [
      "Epoch: 073, Train: 0.9922, Val: 0.9854, Test: 0.9863, Loss: 0.39915\n"
     ]
    },
    {
     "name": "stderr",
     "output_type": "stream",
     "text": [
      "c:\\Users\\rosa-\\anaconda3\\envs\\xaifo\\lib\\site-packages\\deepsnap\\graph.py:2126: UserWarning: __floordiv__ is deprecated, and its behavior will change in a future version of pytorch. It currently rounds toward 0 (like the 'trunc' function NOT 'floor'). This results in incorrect rounding for negative values. To keep the current behavior, use torch.div(a, b, rounding_mode='trunc'), or for actual floor division, use torch.div(a, b, rounding_mode='floor').\n",
      "  row = perm // num_nodes\n"
     ]
    },
    {
     "name": "stdout",
     "output_type": "stream",
     "text": [
      "Epoch: 074, Train: 0.9924, Val: 0.9855, Test: 0.9864, Loss: 0.39907\n"
     ]
    },
    {
     "name": "stderr",
     "output_type": "stream",
     "text": [
      "c:\\Users\\rosa-\\anaconda3\\envs\\xaifo\\lib\\site-packages\\deepsnap\\graph.py:2126: UserWarning: __floordiv__ is deprecated, and its behavior will change in a future version of pytorch. It currently rounds toward 0 (like the 'trunc' function NOT 'floor'). This results in incorrect rounding for negative values. To keep the current behavior, use torch.div(a, b, rounding_mode='trunc'), or for actual floor division, use torch.div(a, b, rounding_mode='floor').\n",
      "  row = perm // num_nodes\n"
     ]
    },
    {
     "name": "stdout",
     "output_type": "stream",
     "text": [
      "Epoch: 075, Train: 0.9924, Val: 0.9856, Test: 0.9865, Loss: 0.39925\n"
     ]
    },
    {
     "name": "stderr",
     "output_type": "stream",
     "text": [
      "c:\\Users\\rosa-\\anaconda3\\envs\\xaifo\\lib\\site-packages\\deepsnap\\graph.py:2126: UserWarning: __floordiv__ is deprecated, and its behavior will change in a future version of pytorch. It currently rounds toward 0 (like the 'trunc' function NOT 'floor'). This results in incorrect rounding for negative values. To keep the current behavior, use torch.div(a, b, rounding_mode='trunc'), or for actual floor division, use torch.div(a, b, rounding_mode='floor').\n",
      "  row = perm // num_nodes\n"
     ]
    },
    {
     "name": "stdout",
     "output_type": "stream",
     "text": [
      "Epoch: 076, Train: 0.9925, Val: 0.9857, Test: 0.9866, Loss: 0.39762\n"
     ]
    },
    {
     "name": "stderr",
     "output_type": "stream",
     "text": [
      "c:\\Users\\rosa-\\anaconda3\\envs\\xaifo\\lib\\site-packages\\deepsnap\\graph.py:2126: UserWarning: __floordiv__ is deprecated, and its behavior will change in a future version of pytorch. It currently rounds toward 0 (like the 'trunc' function NOT 'floor'). This results in incorrect rounding for negative values. To keep the current behavior, use torch.div(a, b, rounding_mode='trunc'), or for actual floor division, use torch.div(a, b, rounding_mode='floor').\n",
      "  row = perm // num_nodes\n"
     ]
    },
    {
     "name": "stdout",
     "output_type": "stream",
     "text": [
      "Epoch: 077, Train: 0.9925, Val: 0.9858, Test: 0.9867, Loss: 0.39694\n"
     ]
    },
    {
     "name": "stderr",
     "output_type": "stream",
     "text": [
      "c:\\Users\\rosa-\\anaconda3\\envs\\xaifo\\lib\\site-packages\\deepsnap\\graph.py:2126: UserWarning: __floordiv__ is deprecated, and its behavior will change in a future version of pytorch. It currently rounds toward 0 (like the 'trunc' function NOT 'floor'). This results in incorrect rounding for negative values. To keep the current behavior, use torch.div(a, b, rounding_mode='trunc'), or for actual floor division, use torch.div(a, b, rounding_mode='floor').\n",
      "  row = perm // num_nodes\n"
     ]
    },
    {
     "name": "stdout",
     "output_type": "stream",
     "text": [
      "Epoch: 078, Train: 0.9925, Val: 0.9859, Test: 0.9868, Loss: 0.39656\n"
     ]
    },
    {
     "name": "stderr",
     "output_type": "stream",
     "text": [
      "c:\\Users\\rosa-\\anaconda3\\envs\\xaifo\\lib\\site-packages\\deepsnap\\graph.py:2126: UserWarning: __floordiv__ is deprecated, and its behavior will change in a future version of pytorch. It currently rounds toward 0 (like the 'trunc' function NOT 'floor'). This results in incorrect rounding for negative values. To keep the current behavior, use torch.div(a, b, rounding_mode='trunc'), or for actual floor division, use torch.div(a, b, rounding_mode='floor').\n",
      "  row = perm // num_nodes\n"
     ]
    },
    {
     "name": "stdout",
     "output_type": "stream",
     "text": [
      "Epoch: 079, Train: 0.9927, Val: 0.9860, Test: 0.9869, Loss: 0.39612\n"
     ]
    },
    {
     "name": "stderr",
     "output_type": "stream",
     "text": [
      "c:\\Users\\rosa-\\anaconda3\\envs\\xaifo\\lib\\site-packages\\deepsnap\\graph.py:2126: UserWarning: __floordiv__ is deprecated, and its behavior will change in a future version of pytorch. It currently rounds toward 0 (like the 'trunc' function NOT 'floor'). This results in incorrect rounding for negative values. To keep the current behavior, use torch.div(a, b, rounding_mode='trunc'), or for actual floor division, use torch.div(a, b, rounding_mode='floor').\n",
      "  row = perm // num_nodes\n"
     ]
    },
    {
     "name": "stdout",
     "output_type": "stream",
     "text": [
      "Epoch: 080, Train: 0.9930, Val: 0.9861, Test: 0.9870, Loss: 0.39664\n"
     ]
    },
    {
     "name": "stderr",
     "output_type": "stream",
     "text": [
      "c:\\Users\\rosa-\\anaconda3\\envs\\xaifo\\lib\\site-packages\\deepsnap\\graph.py:2126: UserWarning: __floordiv__ is deprecated, and its behavior will change in a future version of pytorch. It currently rounds toward 0 (like the 'trunc' function NOT 'floor'). This results in incorrect rounding for negative values. To keep the current behavior, use torch.div(a, b, rounding_mode='trunc'), or for actual floor division, use torch.div(a, b, rounding_mode='floor').\n",
      "  row = perm // num_nodes\n"
     ]
    },
    {
     "name": "stdout",
     "output_type": "stream",
     "text": [
      "Epoch: 081, Train: 0.9928, Val: 0.9862, Test: 0.9870, Loss: 0.39726\n"
     ]
    },
    {
     "name": "stderr",
     "output_type": "stream",
     "text": [
      "c:\\Users\\rosa-\\anaconda3\\envs\\xaifo\\lib\\site-packages\\deepsnap\\graph.py:2126: UserWarning: __floordiv__ is deprecated, and its behavior will change in a future version of pytorch. It currently rounds toward 0 (like the 'trunc' function NOT 'floor'). This results in incorrect rounding for negative values. To keep the current behavior, use torch.div(a, b, rounding_mode='trunc'), or for actual floor division, use torch.div(a, b, rounding_mode='floor').\n",
      "  row = perm // num_nodes\n"
     ]
    },
    {
     "name": "stdout",
     "output_type": "stream",
     "text": [
      "Epoch: 082, Train: 0.9931, Val: 0.9863, Test: 0.9871, Loss: 0.39826\n"
     ]
    },
    {
     "name": "stderr",
     "output_type": "stream",
     "text": [
      "c:\\Users\\rosa-\\anaconda3\\envs\\xaifo\\lib\\site-packages\\deepsnap\\graph.py:2126: UserWarning: __floordiv__ is deprecated, and its behavior will change in a future version of pytorch. It currently rounds toward 0 (like the 'trunc' function NOT 'floor'). This results in incorrect rounding for negative values. To keep the current behavior, use torch.div(a, b, rounding_mode='trunc'), or for actual floor division, use torch.div(a, b, rounding_mode='floor').\n",
      "  row = perm // num_nodes\n"
     ]
    },
    {
     "name": "stdout",
     "output_type": "stream",
     "text": [
      "Epoch: 083, Train: 0.9931, Val: 0.9864, Test: 0.9872, Loss: 0.39579\n"
     ]
    },
    {
     "name": "stderr",
     "output_type": "stream",
     "text": [
      "c:\\Users\\rosa-\\anaconda3\\envs\\xaifo\\lib\\site-packages\\deepsnap\\graph.py:2126: UserWarning: __floordiv__ is deprecated, and its behavior will change in a future version of pytorch. It currently rounds toward 0 (like the 'trunc' function NOT 'floor'). This results in incorrect rounding for negative values. To keep the current behavior, use torch.div(a, b, rounding_mode='trunc'), or for actual floor division, use torch.div(a, b, rounding_mode='floor').\n",
      "  row = perm // num_nodes\n"
     ]
    },
    {
     "name": "stdout",
     "output_type": "stream",
     "text": [
      "Epoch: 084, Train: 0.9930, Val: 0.9865, Test: 0.9873, Loss: 0.39752\n"
     ]
    },
    {
     "name": "stderr",
     "output_type": "stream",
     "text": [
      "c:\\Users\\rosa-\\anaconda3\\envs\\xaifo\\lib\\site-packages\\deepsnap\\graph.py:2126: UserWarning: __floordiv__ is deprecated, and its behavior will change in a future version of pytorch. It currently rounds toward 0 (like the 'trunc' function NOT 'floor'). This results in incorrect rounding for negative values. To keep the current behavior, use torch.div(a, b, rounding_mode='trunc'), or for actual floor division, use torch.div(a, b, rounding_mode='floor').\n",
      "  row = perm // num_nodes\n"
     ]
    },
    {
     "name": "stdout",
     "output_type": "stream",
     "text": [
      "Epoch: 085, Train: 0.9929, Val: 0.9866, Test: 0.9874, Loss: 0.39534\n"
     ]
    },
    {
     "name": "stderr",
     "output_type": "stream",
     "text": [
      "c:\\Users\\rosa-\\anaconda3\\envs\\xaifo\\lib\\site-packages\\deepsnap\\graph.py:2126: UserWarning: __floordiv__ is deprecated, and its behavior will change in a future version of pytorch. It currently rounds toward 0 (like the 'trunc' function NOT 'floor'). This results in incorrect rounding for negative values. To keep the current behavior, use torch.div(a, b, rounding_mode='trunc'), or for actual floor division, use torch.div(a, b, rounding_mode='floor').\n",
      "  row = perm // num_nodes\n"
     ]
    },
    {
     "name": "stdout",
     "output_type": "stream",
     "text": [
      "Epoch: 086, Train: 0.9934, Val: 0.9867, Test: 0.9875, Loss: 0.39598\n"
     ]
    },
    {
     "name": "stderr",
     "output_type": "stream",
     "text": [
      "c:\\Users\\rosa-\\anaconda3\\envs\\xaifo\\lib\\site-packages\\deepsnap\\graph.py:2126: UserWarning: __floordiv__ is deprecated, and its behavior will change in a future version of pytorch. It currently rounds toward 0 (like the 'trunc' function NOT 'floor'). This results in incorrect rounding for negative values. To keep the current behavior, use torch.div(a, b, rounding_mode='trunc'), or for actual floor division, use torch.div(a, b, rounding_mode='floor').\n",
      "  row = perm // num_nodes\n"
     ]
    },
    {
     "name": "stdout",
     "output_type": "stream",
     "text": [
      "Epoch: 087, Train: 0.9931, Val: 0.9867, Test: 0.9875, Loss: 0.39586\n"
     ]
    },
    {
     "name": "stderr",
     "output_type": "stream",
     "text": [
      "c:\\Users\\rosa-\\anaconda3\\envs\\xaifo\\lib\\site-packages\\deepsnap\\graph.py:2126: UserWarning: __floordiv__ is deprecated, and its behavior will change in a future version of pytorch. It currently rounds toward 0 (like the 'trunc' function NOT 'floor'). This results in incorrect rounding for negative values. To keep the current behavior, use torch.div(a, b, rounding_mode='trunc'), or for actual floor division, use torch.div(a, b, rounding_mode='floor').\n",
      "  row = perm // num_nodes\n"
     ]
    },
    {
     "name": "stdout",
     "output_type": "stream",
     "text": [
      "Epoch: 088, Train: 0.9932, Val: 0.9868, Test: 0.9876, Loss: 0.39570\n"
     ]
    },
    {
     "name": "stderr",
     "output_type": "stream",
     "text": [
      "c:\\Users\\rosa-\\anaconda3\\envs\\xaifo\\lib\\site-packages\\deepsnap\\graph.py:2126: UserWarning: __floordiv__ is deprecated, and its behavior will change in a future version of pytorch. It currently rounds toward 0 (like the 'trunc' function NOT 'floor'). This results in incorrect rounding for negative values. To keep the current behavior, use torch.div(a, b, rounding_mode='trunc'), or for actual floor division, use torch.div(a, b, rounding_mode='floor').\n",
      "  row = perm // num_nodes\n"
     ]
    },
    {
     "name": "stdout",
     "output_type": "stream",
     "text": [
      "Epoch: 089, Train: 0.9932, Val: 0.9869, Test: 0.9877, Loss: 0.39678\n"
     ]
    },
    {
     "name": "stderr",
     "output_type": "stream",
     "text": [
      "c:\\Users\\rosa-\\anaconda3\\envs\\xaifo\\lib\\site-packages\\deepsnap\\graph.py:2126: UserWarning: __floordiv__ is deprecated, and its behavior will change in a future version of pytorch. It currently rounds toward 0 (like the 'trunc' function NOT 'floor'). This results in incorrect rounding for negative values. To keep the current behavior, use torch.div(a, b, rounding_mode='trunc'), or for actual floor division, use torch.div(a, b, rounding_mode='floor').\n",
      "  row = perm // num_nodes\n"
     ]
    },
    {
     "name": "stdout",
     "output_type": "stream",
     "text": [
      "Epoch: 090, Train: 0.9936, Val: 0.9870, Test: 0.9878, Loss: 0.39532\n"
     ]
    },
    {
     "name": "stderr",
     "output_type": "stream",
     "text": [
      "c:\\Users\\rosa-\\anaconda3\\envs\\xaifo\\lib\\site-packages\\deepsnap\\graph.py:2126: UserWarning: __floordiv__ is deprecated, and its behavior will change in a future version of pytorch. It currently rounds toward 0 (like the 'trunc' function NOT 'floor'). This results in incorrect rounding for negative values. To keep the current behavior, use torch.div(a, b, rounding_mode='trunc'), or for actual floor division, use torch.div(a, b, rounding_mode='floor').\n",
      "  row = perm // num_nodes\n"
     ]
    },
    {
     "name": "stdout",
     "output_type": "stream",
     "text": [
      "Epoch: 091, Train: 0.9934, Val: 0.9871, Test: 0.9879, Loss: 0.39503\n"
     ]
    },
    {
     "name": "stderr",
     "output_type": "stream",
     "text": [
      "c:\\Users\\rosa-\\anaconda3\\envs\\xaifo\\lib\\site-packages\\deepsnap\\graph.py:2126: UserWarning: __floordiv__ is deprecated, and its behavior will change in a future version of pytorch. It currently rounds toward 0 (like the 'trunc' function NOT 'floor'). This results in incorrect rounding for negative values. To keep the current behavior, use torch.div(a, b, rounding_mode='trunc'), or for actual floor division, use torch.div(a, b, rounding_mode='floor').\n",
      "  row = perm // num_nodes\n"
     ]
    },
    {
     "name": "stdout",
     "output_type": "stream",
     "text": [
      "Epoch: 092, Train: 0.9935, Val: 0.9872, Test: 0.9879, Loss: 0.39443\n"
     ]
    },
    {
     "name": "stderr",
     "output_type": "stream",
     "text": [
      "c:\\Users\\rosa-\\anaconda3\\envs\\xaifo\\lib\\site-packages\\deepsnap\\graph.py:2126: UserWarning: __floordiv__ is deprecated, and its behavior will change in a future version of pytorch. It currently rounds toward 0 (like the 'trunc' function NOT 'floor'). This results in incorrect rounding for negative values. To keep the current behavior, use torch.div(a, b, rounding_mode='trunc'), or for actual floor division, use torch.div(a, b, rounding_mode='floor').\n",
      "  row = perm // num_nodes\n"
     ]
    },
    {
     "name": "stdout",
     "output_type": "stream",
     "text": [
      "Epoch: 093, Train: 0.9937, Val: 0.9873, Test: 0.9880, Loss: 0.39523\n"
     ]
    },
    {
     "name": "stderr",
     "output_type": "stream",
     "text": [
      "c:\\Users\\rosa-\\anaconda3\\envs\\xaifo\\lib\\site-packages\\deepsnap\\graph.py:2126: UserWarning: __floordiv__ is deprecated, and its behavior will change in a future version of pytorch. It currently rounds toward 0 (like the 'trunc' function NOT 'floor'). This results in incorrect rounding for negative values. To keep the current behavior, use torch.div(a, b, rounding_mode='trunc'), or for actual floor division, use torch.div(a, b, rounding_mode='floor').\n",
      "  row = perm // num_nodes\n"
     ]
    },
    {
     "name": "stdout",
     "output_type": "stream",
     "text": [
      "Epoch: 094, Train: 0.9937, Val: 0.9873, Test: 0.9881, Loss: 0.39377\n"
     ]
    },
    {
     "name": "stderr",
     "output_type": "stream",
     "text": [
      "c:\\Users\\rosa-\\anaconda3\\envs\\xaifo\\lib\\site-packages\\deepsnap\\graph.py:2126: UserWarning: __floordiv__ is deprecated, and its behavior will change in a future version of pytorch. It currently rounds toward 0 (like the 'trunc' function NOT 'floor'). This results in incorrect rounding for negative values. To keep the current behavior, use torch.div(a, b, rounding_mode='trunc'), or for actual floor division, use torch.div(a, b, rounding_mode='floor').\n",
      "  row = perm // num_nodes\n"
     ]
    },
    {
     "name": "stdout",
     "output_type": "stream",
     "text": [
      "Epoch: 095, Train: 0.9936, Val: 0.9874, Test: 0.9882, Loss: 0.39560\n"
     ]
    },
    {
     "name": "stderr",
     "output_type": "stream",
     "text": [
      "c:\\Users\\rosa-\\anaconda3\\envs\\xaifo\\lib\\site-packages\\deepsnap\\graph.py:2126: UserWarning: __floordiv__ is deprecated, and its behavior will change in a future version of pytorch. It currently rounds toward 0 (like the 'trunc' function NOT 'floor'). This results in incorrect rounding for negative values. To keep the current behavior, use torch.div(a, b, rounding_mode='trunc'), or for actual floor division, use torch.div(a, b, rounding_mode='floor').\n",
      "  row = perm // num_nodes\n"
     ]
    },
    {
     "name": "stdout",
     "output_type": "stream",
     "text": [
      "Epoch: 096, Train: 0.9937, Val: 0.9875, Test: 0.9882, Loss: 0.39435\n"
     ]
    },
    {
     "name": "stderr",
     "output_type": "stream",
     "text": [
      "c:\\Users\\rosa-\\anaconda3\\envs\\xaifo\\lib\\site-packages\\deepsnap\\graph.py:2126: UserWarning: __floordiv__ is deprecated, and its behavior will change in a future version of pytorch. It currently rounds toward 0 (like the 'trunc' function NOT 'floor'). This results in incorrect rounding for negative values. To keep the current behavior, use torch.div(a, b, rounding_mode='trunc'), or for actual floor division, use torch.div(a, b, rounding_mode='floor').\n",
      "  row = perm // num_nodes\n"
     ]
    },
    {
     "name": "stdout",
     "output_type": "stream",
     "text": [
      "Epoch: 097, Train: 0.9939, Val: 0.9875, Test: 0.9883, Loss: 0.39473\n"
     ]
    },
    {
     "name": "stderr",
     "output_type": "stream",
     "text": [
      "c:\\Users\\rosa-\\anaconda3\\envs\\xaifo\\lib\\site-packages\\deepsnap\\graph.py:2126: UserWarning: __floordiv__ is deprecated, and its behavior will change in a future version of pytorch. It currently rounds toward 0 (like the 'trunc' function NOT 'floor'). This results in incorrect rounding for negative values. To keep the current behavior, use torch.div(a, b, rounding_mode='trunc'), or for actual floor division, use torch.div(a, b, rounding_mode='floor').\n",
      "  row = perm // num_nodes\n"
     ]
    },
    {
     "name": "stdout",
     "output_type": "stream",
     "text": [
      "Epoch: 098, Train: 0.9940, Val: 0.9876, Test: 0.9884, Loss: 0.39483\n"
     ]
    },
    {
     "name": "stderr",
     "output_type": "stream",
     "text": [
      "c:\\Users\\rosa-\\anaconda3\\envs\\xaifo\\lib\\site-packages\\deepsnap\\graph.py:2126: UserWarning: __floordiv__ is deprecated, and its behavior will change in a future version of pytorch. It currently rounds toward 0 (like the 'trunc' function NOT 'floor'). This results in incorrect rounding for negative values. To keep the current behavior, use torch.div(a, b, rounding_mode='trunc'), or for actual floor division, use torch.div(a, b, rounding_mode='floor').\n",
      "  row = perm // num_nodes\n"
     ]
    },
    {
     "name": "stdout",
     "output_type": "stream",
     "text": [
      "Epoch: 099, Train: 0.9938, Val: 0.9877, Test: 0.9884, Loss: 0.39481\n"
     ]
    },
    {
     "name": "stderr",
     "output_type": "stream",
     "text": [
      "c:\\Users\\rosa-\\anaconda3\\envs\\xaifo\\lib\\site-packages\\deepsnap\\graph.py:2126: UserWarning: __floordiv__ is deprecated, and its behavior will change in a future version of pytorch. It currently rounds toward 0 (like the 'trunc' function NOT 'floor'). This results in incorrect rounding for negative values. To keep the current behavior, use torch.div(a, b, rounding_mode='trunc'), or for actual floor division, use torch.div(a, b, rounding_mode='floor').\n",
      "  row = perm // num_nodes\n"
     ]
    },
    {
     "name": "stdout",
     "output_type": "stream",
     "text": [
      "Epoch: 100, Train: 0.9941, Val: 0.9877, Test: 0.9885, Loss: 0.39387\n"
     ]
    },
    {
     "name": "stderr",
     "output_type": "stream",
     "text": [
      "c:\\Users\\rosa-\\anaconda3\\envs\\xaifo\\lib\\site-packages\\deepsnap\\graph.py:2126: UserWarning: __floordiv__ is deprecated, and its behavior will change in a future version of pytorch. It currently rounds toward 0 (like the 'trunc' function NOT 'floor'). This results in incorrect rounding for negative values. To keep the current behavior, use torch.div(a, b, rounding_mode='trunc'), or for actual floor division, use torch.div(a, b, rounding_mode='floor').\n",
      "  row = perm // num_nodes\n"
     ]
    },
    {
     "name": "stdout",
     "output_type": "stream",
     "text": [
      "Epoch: 101, Train: 0.9941, Val: 0.9878, Test: 0.9885, Loss: 0.39295\n"
     ]
    },
    {
     "name": "stderr",
     "output_type": "stream",
     "text": [
      "c:\\Users\\rosa-\\anaconda3\\envs\\xaifo\\lib\\site-packages\\deepsnap\\graph.py:2126: UserWarning: __floordiv__ is deprecated, and its behavior will change in a future version of pytorch. It currently rounds toward 0 (like the 'trunc' function NOT 'floor'). This results in incorrect rounding for negative values. To keep the current behavior, use torch.div(a, b, rounding_mode='trunc'), or for actual floor division, use torch.div(a, b, rounding_mode='floor').\n",
      "  row = perm // num_nodes\n"
     ]
    },
    {
     "name": "stdout",
     "output_type": "stream",
     "text": [
      "Epoch: 102, Train: 0.9943, Val: 0.9878, Test: 0.9886, Loss: 0.39355\n"
     ]
    },
    {
     "name": "stderr",
     "output_type": "stream",
     "text": [
      "c:\\Users\\rosa-\\anaconda3\\envs\\xaifo\\lib\\site-packages\\deepsnap\\graph.py:2126: UserWarning: __floordiv__ is deprecated, and its behavior will change in a future version of pytorch. It currently rounds toward 0 (like the 'trunc' function NOT 'floor'). This results in incorrect rounding for negative values. To keep the current behavior, use torch.div(a, b, rounding_mode='trunc'), or for actual floor division, use torch.div(a, b, rounding_mode='floor').\n",
      "  row = perm // num_nodes\n"
     ]
    },
    {
     "name": "stdout",
     "output_type": "stream",
     "text": [
      "Epoch: 103, Train: 0.9941, Val: 0.9879, Test: 0.9886, Loss: 0.39235\n"
     ]
    },
    {
     "name": "stderr",
     "output_type": "stream",
     "text": [
      "c:\\Users\\rosa-\\anaconda3\\envs\\xaifo\\lib\\site-packages\\deepsnap\\graph.py:2126: UserWarning: __floordiv__ is deprecated, and its behavior will change in a future version of pytorch. It currently rounds toward 0 (like the 'trunc' function NOT 'floor'). This results in incorrect rounding for negative values. To keep the current behavior, use torch.div(a, b, rounding_mode='trunc'), or for actual floor division, use torch.div(a, b, rounding_mode='floor').\n",
      "  row = perm // num_nodes\n"
     ]
    },
    {
     "name": "stdout",
     "output_type": "stream",
     "text": [
      "Epoch: 104, Train: 0.9940, Val: 0.9879, Test: 0.9887, Loss: 0.39449\n"
     ]
    },
    {
     "name": "stderr",
     "output_type": "stream",
     "text": [
      "c:\\Users\\rosa-\\anaconda3\\envs\\xaifo\\lib\\site-packages\\deepsnap\\graph.py:2126: UserWarning: __floordiv__ is deprecated, and its behavior will change in a future version of pytorch. It currently rounds toward 0 (like the 'trunc' function NOT 'floor'). This results in incorrect rounding for negative values. To keep the current behavior, use torch.div(a, b, rounding_mode='trunc'), or for actual floor division, use torch.div(a, b, rounding_mode='floor').\n",
      "  row = perm // num_nodes\n"
     ]
    },
    {
     "name": "stdout",
     "output_type": "stream",
     "text": [
      "Epoch: 105, Train: 0.9942, Val: 0.9880, Test: 0.9887, Loss: 0.39251\n"
     ]
    },
    {
     "name": "stderr",
     "output_type": "stream",
     "text": [
      "c:\\Users\\rosa-\\anaconda3\\envs\\xaifo\\lib\\site-packages\\deepsnap\\graph.py:2126: UserWarning: __floordiv__ is deprecated, and its behavior will change in a future version of pytorch. It currently rounds toward 0 (like the 'trunc' function NOT 'floor'). This results in incorrect rounding for negative values. To keep the current behavior, use torch.div(a, b, rounding_mode='trunc'), or for actual floor division, use torch.div(a, b, rounding_mode='floor').\n",
      "  row = perm // num_nodes\n"
     ]
    },
    {
     "name": "stdout",
     "output_type": "stream",
     "text": [
      "Epoch: 106, Train: 0.9941, Val: 0.9880, Test: 0.9888, Loss: 0.39475\n"
     ]
    },
    {
     "name": "stderr",
     "output_type": "stream",
     "text": [
      "c:\\Users\\rosa-\\anaconda3\\envs\\xaifo\\lib\\site-packages\\deepsnap\\graph.py:2126: UserWarning: __floordiv__ is deprecated, and its behavior will change in a future version of pytorch. It currently rounds toward 0 (like the 'trunc' function NOT 'floor'). This results in incorrect rounding for negative values. To keep the current behavior, use torch.div(a, b, rounding_mode='trunc'), or for actual floor division, use torch.div(a, b, rounding_mode='floor').\n",
      "  row = perm // num_nodes\n"
     ]
    },
    {
     "name": "stdout",
     "output_type": "stream",
     "text": [
      "Epoch: 107, Train: 0.9942, Val: 0.9881, Test: 0.9888, Loss: 0.39195\n"
     ]
    },
    {
     "name": "stderr",
     "output_type": "stream",
     "text": [
      "c:\\Users\\rosa-\\anaconda3\\envs\\xaifo\\lib\\site-packages\\deepsnap\\graph.py:2126: UserWarning: __floordiv__ is deprecated, and its behavior will change in a future version of pytorch. It currently rounds toward 0 (like the 'trunc' function NOT 'floor'). This results in incorrect rounding for negative values. To keep the current behavior, use torch.div(a, b, rounding_mode='trunc'), or for actual floor division, use torch.div(a, b, rounding_mode='floor').\n",
      "  row = perm // num_nodes\n"
     ]
    },
    {
     "name": "stdout",
     "output_type": "stream",
     "text": [
      "Epoch: 108, Train: 0.9945, Val: 0.9881, Test: 0.9889, Loss: 0.39248\n"
     ]
    },
    {
     "name": "stderr",
     "output_type": "stream",
     "text": [
      "c:\\Users\\rosa-\\anaconda3\\envs\\xaifo\\lib\\site-packages\\deepsnap\\graph.py:2126: UserWarning: __floordiv__ is deprecated, and its behavior will change in a future version of pytorch. It currently rounds toward 0 (like the 'trunc' function NOT 'floor'). This results in incorrect rounding for negative values. To keep the current behavior, use torch.div(a, b, rounding_mode='trunc'), or for actual floor division, use torch.div(a, b, rounding_mode='floor').\n",
      "  row = perm // num_nodes\n"
     ]
    },
    {
     "name": "stdout",
     "output_type": "stream",
     "text": [
      "Epoch: 109, Train: 0.9942, Val: 0.9882, Test: 0.9889, Loss: 0.39307\n"
     ]
    },
    {
     "name": "stderr",
     "output_type": "stream",
     "text": [
      "c:\\Users\\rosa-\\anaconda3\\envs\\xaifo\\lib\\site-packages\\deepsnap\\graph.py:2126: UserWarning: __floordiv__ is deprecated, and its behavior will change in a future version of pytorch. It currently rounds toward 0 (like the 'trunc' function NOT 'floor'). This results in incorrect rounding for negative values. To keep the current behavior, use torch.div(a, b, rounding_mode='trunc'), or for actual floor division, use torch.div(a, b, rounding_mode='floor').\n",
      "  row = perm // num_nodes\n"
     ]
    },
    {
     "name": "stdout",
     "output_type": "stream",
     "text": [
      "Epoch: 110, Train: 0.9942, Val: 0.9882, Test: 0.9889, Loss: 0.39138\n"
     ]
    },
    {
     "name": "stderr",
     "output_type": "stream",
     "text": [
      "c:\\Users\\rosa-\\anaconda3\\envs\\xaifo\\lib\\site-packages\\deepsnap\\graph.py:2126: UserWarning: __floordiv__ is deprecated, and its behavior will change in a future version of pytorch. It currently rounds toward 0 (like the 'trunc' function NOT 'floor'). This results in incorrect rounding for negative values. To keep the current behavior, use torch.div(a, b, rounding_mode='trunc'), or for actual floor division, use torch.div(a, b, rounding_mode='floor').\n",
      "  row = perm // num_nodes\n"
     ]
    },
    {
     "name": "stdout",
     "output_type": "stream",
     "text": [
      "Epoch: 111, Train: 0.9945, Val: 0.9883, Test: 0.9890, Loss: 0.39165\n"
     ]
    },
    {
     "name": "stderr",
     "output_type": "stream",
     "text": [
      "c:\\Users\\rosa-\\anaconda3\\envs\\xaifo\\lib\\site-packages\\deepsnap\\graph.py:2126: UserWarning: __floordiv__ is deprecated, and its behavior will change in a future version of pytorch. It currently rounds toward 0 (like the 'trunc' function NOT 'floor'). This results in incorrect rounding for negative values. To keep the current behavior, use torch.div(a, b, rounding_mode='trunc'), or for actual floor division, use torch.div(a, b, rounding_mode='floor').\n",
      "  row = perm // num_nodes\n"
     ]
    },
    {
     "name": "stdout",
     "output_type": "stream",
     "text": [
      "Epoch: 112, Train: 0.9944, Val: 0.9883, Test: 0.9890, Loss: 0.39323\n"
     ]
    },
    {
     "name": "stderr",
     "output_type": "stream",
     "text": [
      "c:\\Users\\rosa-\\anaconda3\\envs\\xaifo\\lib\\site-packages\\deepsnap\\graph.py:2126: UserWarning: __floordiv__ is deprecated, and its behavior will change in a future version of pytorch. It currently rounds toward 0 (like the 'trunc' function NOT 'floor'). This results in incorrect rounding for negative values. To keep the current behavior, use torch.div(a, b, rounding_mode='trunc'), or for actual floor division, use torch.div(a, b, rounding_mode='floor').\n",
      "  row = perm // num_nodes\n"
     ]
    },
    {
     "name": "stdout",
     "output_type": "stream",
     "text": [
      "Epoch: 113, Train: 0.9946, Val: 0.9883, Test: 0.9891, Loss: 0.39157\n"
     ]
    },
    {
     "name": "stderr",
     "output_type": "stream",
     "text": [
      "c:\\Users\\rosa-\\anaconda3\\envs\\xaifo\\lib\\site-packages\\deepsnap\\graph.py:2126: UserWarning: __floordiv__ is deprecated, and its behavior will change in a future version of pytorch. It currently rounds toward 0 (like the 'trunc' function NOT 'floor'). This results in incorrect rounding for negative values. To keep the current behavior, use torch.div(a, b, rounding_mode='trunc'), or for actual floor division, use torch.div(a, b, rounding_mode='floor').\n",
      "  row = perm // num_nodes\n"
     ]
    },
    {
     "name": "stdout",
     "output_type": "stream",
     "text": [
      "Epoch: 114, Train: 0.9946, Val: 0.9884, Test: 0.9891, Loss: 0.39286\n"
     ]
    },
    {
     "name": "stderr",
     "output_type": "stream",
     "text": [
      "c:\\Users\\rosa-\\anaconda3\\envs\\xaifo\\lib\\site-packages\\deepsnap\\graph.py:2126: UserWarning: __floordiv__ is deprecated, and its behavior will change in a future version of pytorch. It currently rounds toward 0 (like the 'trunc' function NOT 'floor'). This results in incorrect rounding for negative values. To keep the current behavior, use torch.div(a, b, rounding_mode='trunc'), or for actual floor division, use torch.div(a, b, rounding_mode='floor').\n",
      "  row = perm // num_nodes\n"
     ]
    },
    {
     "name": "stdout",
     "output_type": "stream",
     "text": [
      "Epoch: 115, Train: 0.9946, Val: 0.9884, Test: 0.9891, Loss: 0.39205\n"
     ]
    },
    {
     "name": "stderr",
     "output_type": "stream",
     "text": [
      "c:\\Users\\rosa-\\anaconda3\\envs\\xaifo\\lib\\site-packages\\deepsnap\\graph.py:2126: UserWarning: __floordiv__ is deprecated, and its behavior will change in a future version of pytorch. It currently rounds toward 0 (like the 'trunc' function NOT 'floor'). This results in incorrect rounding for negative values. To keep the current behavior, use torch.div(a, b, rounding_mode='trunc'), or for actual floor division, use torch.div(a, b, rounding_mode='floor').\n",
      "  row = perm // num_nodes\n"
     ]
    },
    {
     "name": "stdout",
     "output_type": "stream",
     "text": [
      "Epoch: 116, Train: 0.9946, Val: 0.9885, Test: 0.9892, Loss: 0.39159\n"
     ]
    },
    {
     "name": "stderr",
     "output_type": "stream",
     "text": [
      "c:\\Users\\rosa-\\anaconda3\\envs\\xaifo\\lib\\site-packages\\deepsnap\\graph.py:2126: UserWarning: __floordiv__ is deprecated, and its behavior will change in a future version of pytorch. It currently rounds toward 0 (like the 'trunc' function NOT 'floor'). This results in incorrect rounding for negative values. To keep the current behavior, use torch.div(a, b, rounding_mode='trunc'), or for actual floor division, use torch.div(a, b, rounding_mode='floor').\n",
      "  row = perm // num_nodes\n"
     ]
    },
    {
     "name": "stdout",
     "output_type": "stream",
     "text": [
      "Epoch: 117, Train: 0.9947, Val: 0.9885, Test: 0.9892, Loss: 0.39182\n"
     ]
    },
    {
     "name": "stderr",
     "output_type": "stream",
     "text": [
      "c:\\Users\\rosa-\\anaconda3\\envs\\xaifo\\lib\\site-packages\\deepsnap\\graph.py:2126: UserWarning: __floordiv__ is deprecated, and its behavior will change in a future version of pytorch. It currently rounds toward 0 (like the 'trunc' function NOT 'floor'). This results in incorrect rounding for negative values. To keep the current behavior, use torch.div(a, b, rounding_mode='trunc'), or for actual floor division, use torch.div(a, b, rounding_mode='floor').\n",
      "  row = perm // num_nodes\n"
     ]
    },
    {
     "name": "stdout",
     "output_type": "stream",
     "text": [
      "Epoch: 118, Train: 0.9947, Val: 0.9885, Test: 0.9893, Loss: 0.39214\n"
     ]
    },
    {
     "name": "stderr",
     "output_type": "stream",
     "text": [
      "c:\\Users\\rosa-\\anaconda3\\envs\\xaifo\\lib\\site-packages\\deepsnap\\graph.py:2126: UserWarning: __floordiv__ is deprecated, and its behavior will change in a future version of pytorch. It currently rounds toward 0 (like the 'trunc' function NOT 'floor'). This results in incorrect rounding for negative values. To keep the current behavior, use torch.div(a, b, rounding_mode='trunc'), or for actual floor division, use torch.div(a, b, rounding_mode='floor').\n",
      "  row = perm // num_nodes\n"
     ]
    },
    {
     "name": "stdout",
     "output_type": "stream",
     "text": [
      "Epoch: 119, Train: 0.9946, Val: 0.9886, Test: 0.9893, Loss: 0.39195\n"
     ]
    },
    {
     "name": "stderr",
     "output_type": "stream",
     "text": [
      "c:\\Users\\rosa-\\anaconda3\\envs\\xaifo\\lib\\site-packages\\deepsnap\\graph.py:2126: UserWarning: __floordiv__ is deprecated, and its behavior will change in a future version of pytorch. It currently rounds toward 0 (like the 'trunc' function NOT 'floor'). This results in incorrect rounding for negative values. To keep the current behavior, use torch.div(a, b, rounding_mode='trunc'), or for actual floor division, use torch.div(a, b, rounding_mode='floor').\n",
      "  row = perm // num_nodes\n"
     ]
    },
    {
     "name": "stdout",
     "output_type": "stream",
     "text": [
      "Epoch: 120, Train: 0.9947, Val: 0.9886, Test: 0.9893, Loss: 0.39166\n"
     ]
    },
    {
     "name": "stderr",
     "output_type": "stream",
     "text": [
      "c:\\Users\\rosa-\\anaconda3\\envs\\xaifo\\lib\\site-packages\\deepsnap\\graph.py:2126: UserWarning: __floordiv__ is deprecated, and its behavior will change in a future version of pytorch. It currently rounds toward 0 (like the 'trunc' function NOT 'floor'). This results in incorrect rounding for negative values. To keep the current behavior, use torch.div(a, b, rounding_mode='trunc'), or for actual floor division, use torch.div(a, b, rounding_mode='floor').\n",
      "  row = perm // num_nodes\n"
     ]
    },
    {
     "name": "stdout",
     "output_type": "stream",
     "text": [
      "Epoch: 121, Train: 0.9950, Val: 0.9887, Test: 0.9894, Loss: 0.39139\n"
     ]
    },
    {
     "name": "stderr",
     "output_type": "stream",
     "text": [
      "c:\\Users\\rosa-\\anaconda3\\envs\\xaifo\\lib\\site-packages\\deepsnap\\graph.py:2126: UserWarning: __floordiv__ is deprecated, and its behavior will change in a future version of pytorch. It currently rounds toward 0 (like the 'trunc' function NOT 'floor'). This results in incorrect rounding for negative values. To keep the current behavior, use torch.div(a, b, rounding_mode='trunc'), or for actual floor division, use torch.div(a, b, rounding_mode='floor').\n",
      "  row = perm // num_nodes\n"
     ]
    },
    {
     "name": "stdout",
     "output_type": "stream",
     "text": [
      "Epoch: 122, Train: 0.9949, Val: 0.9887, Test: 0.9894, Loss: 0.39027\n"
     ]
    },
    {
     "name": "stderr",
     "output_type": "stream",
     "text": [
      "c:\\Users\\rosa-\\anaconda3\\envs\\xaifo\\lib\\site-packages\\deepsnap\\graph.py:2126: UserWarning: __floordiv__ is deprecated, and its behavior will change in a future version of pytorch. It currently rounds toward 0 (like the 'trunc' function NOT 'floor'). This results in incorrect rounding for negative values. To keep the current behavior, use torch.div(a, b, rounding_mode='trunc'), or for actual floor division, use torch.div(a, b, rounding_mode='floor').\n",
      "  row = perm // num_nodes\n"
     ]
    },
    {
     "name": "stdout",
     "output_type": "stream",
     "text": [
      "Epoch: 123, Train: 0.9949, Val: 0.9887, Test: 0.9894, Loss: 0.39077\n"
     ]
    },
    {
     "name": "stderr",
     "output_type": "stream",
     "text": [
      "c:\\Users\\rosa-\\anaconda3\\envs\\xaifo\\lib\\site-packages\\deepsnap\\graph.py:2126: UserWarning: __floordiv__ is deprecated, and its behavior will change in a future version of pytorch. It currently rounds toward 0 (like the 'trunc' function NOT 'floor'). This results in incorrect rounding for negative values. To keep the current behavior, use torch.div(a, b, rounding_mode='trunc'), or for actual floor division, use torch.div(a, b, rounding_mode='floor').\n",
      "  row = perm // num_nodes\n"
     ]
    },
    {
     "name": "stdout",
     "output_type": "stream",
     "text": [
      "Epoch: 124, Train: 0.9949, Val: 0.9887, Test: 0.9895, Loss: 0.39079\n"
     ]
    },
    {
     "name": "stderr",
     "output_type": "stream",
     "text": [
      "c:\\Users\\rosa-\\anaconda3\\envs\\xaifo\\lib\\site-packages\\deepsnap\\graph.py:2126: UserWarning: __floordiv__ is deprecated, and its behavior will change in a future version of pytorch. It currently rounds toward 0 (like the 'trunc' function NOT 'floor'). This results in incorrect rounding for negative values. To keep the current behavior, use torch.div(a, b, rounding_mode='trunc'), or for actual floor division, use torch.div(a, b, rounding_mode='floor').\n",
      "  row = perm // num_nodes\n"
     ]
    },
    {
     "name": "stdout",
     "output_type": "stream",
     "text": [
      "Epoch: 125, Train: 0.9949, Val: 0.9888, Test: 0.9895, Loss: 0.39137\n"
     ]
    },
    {
     "name": "stderr",
     "output_type": "stream",
     "text": [
      "c:\\Users\\rosa-\\anaconda3\\envs\\xaifo\\lib\\site-packages\\deepsnap\\graph.py:2126: UserWarning: __floordiv__ is deprecated, and its behavior will change in a future version of pytorch. It currently rounds toward 0 (like the 'trunc' function NOT 'floor'). This results in incorrect rounding for negative values. To keep the current behavior, use torch.div(a, b, rounding_mode='trunc'), or for actual floor division, use torch.div(a, b, rounding_mode='floor').\n",
      "  row = perm // num_nodes\n"
     ]
    },
    {
     "name": "stdout",
     "output_type": "stream",
     "text": [
      "Epoch: 126, Train: 0.9946, Val: 0.9888, Test: 0.9895, Loss: 0.38927\n"
     ]
    },
    {
     "name": "stderr",
     "output_type": "stream",
     "text": [
      "c:\\Users\\rosa-\\anaconda3\\envs\\xaifo\\lib\\site-packages\\deepsnap\\graph.py:2126: UserWarning: __floordiv__ is deprecated, and its behavior will change in a future version of pytorch. It currently rounds toward 0 (like the 'trunc' function NOT 'floor'). This results in incorrect rounding for negative values. To keep the current behavior, use torch.div(a, b, rounding_mode='trunc'), or for actual floor division, use torch.div(a, b, rounding_mode='floor').\n",
      "  row = perm // num_nodes\n"
     ]
    },
    {
     "name": "stdout",
     "output_type": "stream",
     "text": [
      "Epoch: 127, Train: 0.9949, Val: 0.9888, Test: 0.9896, Loss: 0.39028\n"
     ]
    },
    {
     "name": "stderr",
     "output_type": "stream",
     "text": [
      "c:\\Users\\rosa-\\anaconda3\\envs\\xaifo\\lib\\site-packages\\deepsnap\\graph.py:2126: UserWarning: __floordiv__ is deprecated, and its behavior will change in a future version of pytorch. It currently rounds toward 0 (like the 'trunc' function NOT 'floor'). This results in incorrect rounding for negative values. To keep the current behavior, use torch.div(a, b, rounding_mode='trunc'), or for actual floor division, use torch.div(a, b, rounding_mode='floor').\n",
      "  row = perm // num_nodes\n"
     ]
    },
    {
     "name": "stdout",
     "output_type": "stream",
     "text": [
      "Epoch: 128, Train: 0.9950, Val: 0.9889, Test: 0.9896, Loss: 0.38937\n"
     ]
    },
    {
     "name": "stderr",
     "output_type": "stream",
     "text": [
      "c:\\Users\\rosa-\\anaconda3\\envs\\xaifo\\lib\\site-packages\\deepsnap\\graph.py:2126: UserWarning: __floordiv__ is deprecated, and its behavior will change in a future version of pytorch. It currently rounds toward 0 (like the 'trunc' function NOT 'floor'). This results in incorrect rounding for negative values. To keep the current behavior, use torch.div(a, b, rounding_mode='trunc'), or for actual floor division, use torch.div(a, b, rounding_mode='floor').\n",
      "  row = perm // num_nodes\n"
     ]
    },
    {
     "name": "stdout",
     "output_type": "stream",
     "text": [
      "Epoch: 129, Train: 0.9949, Val: 0.9889, Test: 0.9896, Loss: 0.39061\n"
     ]
    },
    {
     "name": "stderr",
     "output_type": "stream",
     "text": [
      "c:\\Users\\rosa-\\anaconda3\\envs\\xaifo\\lib\\site-packages\\deepsnap\\graph.py:2126: UserWarning: __floordiv__ is deprecated, and its behavior will change in a future version of pytorch. It currently rounds toward 0 (like the 'trunc' function NOT 'floor'). This results in incorrect rounding for negative values. To keep the current behavior, use torch.div(a, b, rounding_mode='trunc'), or for actual floor division, use torch.div(a, b, rounding_mode='floor').\n",
      "  row = perm // num_nodes\n"
     ]
    },
    {
     "name": "stdout",
     "output_type": "stream",
     "text": [
      "Epoch: 130, Train: 0.9949, Val: 0.9889, Test: 0.9897, Loss: 0.38999\n"
     ]
    },
    {
     "name": "stderr",
     "output_type": "stream",
     "text": [
      "c:\\Users\\rosa-\\anaconda3\\envs\\xaifo\\lib\\site-packages\\deepsnap\\graph.py:2126: UserWarning: __floordiv__ is deprecated, and its behavior will change in a future version of pytorch. It currently rounds toward 0 (like the 'trunc' function NOT 'floor'). This results in incorrect rounding for negative values. To keep the current behavior, use torch.div(a, b, rounding_mode='trunc'), or for actual floor division, use torch.div(a, b, rounding_mode='floor').\n",
      "  row = perm // num_nodes\n"
     ]
    },
    {
     "name": "stdout",
     "output_type": "stream",
     "text": [
      "Epoch: 131, Train: 0.9950, Val: 0.9889, Test: 0.9897, Loss: 0.39155\n"
     ]
    },
    {
     "name": "stderr",
     "output_type": "stream",
     "text": [
      "c:\\Users\\rosa-\\anaconda3\\envs\\xaifo\\lib\\site-packages\\deepsnap\\graph.py:2126: UserWarning: __floordiv__ is deprecated, and its behavior will change in a future version of pytorch. It currently rounds toward 0 (like the 'trunc' function NOT 'floor'). This results in incorrect rounding for negative values. To keep the current behavior, use torch.div(a, b, rounding_mode='trunc'), or for actual floor division, use torch.div(a, b, rounding_mode='floor').\n",
      "  row = perm // num_nodes\n"
     ]
    },
    {
     "name": "stdout",
     "output_type": "stream",
     "text": [
      "Epoch: 132, Train: 0.9949, Val: 0.9890, Test: 0.9897, Loss: 0.38923\n"
     ]
    },
    {
     "name": "stderr",
     "output_type": "stream",
     "text": [
      "c:\\Users\\rosa-\\anaconda3\\envs\\xaifo\\lib\\site-packages\\deepsnap\\graph.py:2126: UserWarning: __floordiv__ is deprecated, and its behavior will change in a future version of pytorch. It currently rounds toward 0 (like the 'trunc' function NOT 'floor'). This results in incorrect rounding for negative values. To keep the current behavior, use torch.div(a, b, rounding_mode='trunc'), or for actual floor division, use torch.div(a, b, rounding_mode='floor').\n",
      "  row = perm // num_nodes\n"
     ]
    },
    {
     "name": "stdout",
     "output_type": "stream",
     "text": [
      "Epoch: 133, Train: 0.9951, Val: 0.9890, Test: 0.9897, Loss: 0.39052\n"
     ]
    },
    {
     "name": "stderr",
     "output_type": "stream",
     "text": [
      "c:\\Users\\rosa-\\anaconda3\\envs\\xaifo\\lib\\site-packages\\deepsnap\\graph.py:2126: UserWarning: __floordiv__ is deprecated, and its behavior will change in a future version of pytorch. It currently rounds toward 0 (like the 'trunc' function NOT 'floor'). This results in incorrect rounding for negative values. To keep the current behavior, use torch.div(a, b, rounding_mode='trunc'), or for actual floor division, use torch.div(a, b, rounding_mode='floor').\n",
      "  row = perm // num_nodes\n"
     ]
    },
    {
     "name": "stdout",
     "output_type": "stream",
     "text": [
      "Epoch: 134, Train: 0.9950, Val: 0.9890, Test: 0.9898, Loss: 0.38903\n"
     ]
    },
    {
     "name": "stderr",
     "output_type": "stream",
     "text": [
      "c:\\Users\\rosa-\\anaconda3\\envs\\xaifo\\lib\\site-packages\\deepsnap\\graph.py:2126: UserWarning: __floordiv__ is deprecated, and its behavior will change in a future version of pytorch. It currently rounds toward 0 (like the 'trunc' function NOT 'floor'). This results in incorrect rounding for negative values. To keep the current behavior, use torch.div(a, b, rounding_mode='trunc'), or for actual floor division, use torch.div(a, b, rounding_mode='floor').\n",
      "  row = perm // num_nodes\n"
     ]
    },
    {
     "name": "stdout",
     "output_type": "stream",
     "text": [
      "Epoch: 135, Train: 0.9952, Val: 0.9891, Test: 0.9898, Loss: 0.39053\n"
     ]
    },
    {
     "name": "stderr",
     "output_type": "stream",
     "text": [
      "c:\\Users\\rosa-\\anaconda3\\envs\\xaifo\\lib\\site-packages\\deepsnap\\graph.py:2126: UserWarning: __floordiv__ is deprecated, and its behavior will change in a future version of pytorch. It currently rounds toward 0 (like the 'trunc' function NOT 'floor'). This results in incorrect rounding for negative values. To keep the current behavior, use torch.div(a, b, rounding_mode='trunc'), or for actual floor division, use torch.div(a, b, rounding_mode='floor').\n",
      "  row = perm // num_nodes\n"
     ]
    },
    {
     "name": "stdout",
     "output_type": "stream",
     "text": [
      "Epoch: 136, Train: 0.9951, Val: 0.9891, Test: 0.9899, Loss: 0.38958\n"
     ]
    },
    {
     "name": "stderr",
     "output_type": "stream",
     "text": [
      "c:\\Users\\rosa-\\anaconda3\\envs\\xaifo\\lib\\site-packages\\deepsnap\\graph.py:2126: UserWarning: __floordiv__ is deprecated, and its behavior will change in a future version of pytorch. It currently rounds toward 0 (like the 'trunc' function NOT 'floor'). This results in incorrect rounding for negative values. To keep the current behavior, use torch.div(a, b, rounding_mode='trunc'), or for actual floor division, use torch.div(a, b, rounding_mode='floor').\n",
      "  row = perm // num_nodes\n"
     ]
    },
    {
     "name": "stdout",
     "output_type": "stream",
     "text": [
      "Epoch: 137, Train: 0.9949, Val: 0.9891, Test: 0.9899, Loss: 0.38846\n"
     ]
    },
    {
     "name": "stderr",
     "output_type": "stream",
     "text": [
      "c:\\Users\\rosa-\\anaconda3\\envs\\xaifo\\lib\\site-packages\\deepsnap\\graph.py:2126: UserWarning: __floordiv__ is deprecated, and its behavior will change in a future version of pytorch. It currently rounds toward 0 (like the 'trunc' function NOT 'floor'). This results in incorrect rounding for negative values. To keep the current behavior, use torch.div(a, b, rounding_mode='trunc'), or for actual floor division, use torch.div(a, b, rounding_mode='floor').\n",
      "  row = perm // num_nodes\n"
     ]
    },
    {
     "name": "stdout",
     "output_type": "stream",
     "text": [
      "Epoch: 138, Train: 0.9953, Val: 0.9892, Test: 0.9899, Loss: 0.39014\n"
     ]
    },
    {
     "name": "stderr",
     "output_type": "stream",
     "text": [
      "c:\\Users\\rosa-\\anaconda3\\envs\\xaifo\\lib\\site-packages\\deepsnap\\graph.py:2126: UserWarning: __floordiv__ is deprecated, and its behavior will change in a future version of pytorch. It currently rounds toward 0 (like the 'trunc' function NOT 'floor'). This results in incorrect rounding for negative values. To keep the current behavior, use torch.div(a, b, rounding_mode='trunc'), or for actual floor division, use torch.div(a, b, rounding_mode='floor').\n",
      "  row = perm // num_nodes\n"
     ]
    },
    {
     "name": "stdout",
     "output_type": "stream",
     "text": [
      "Epoch: 139, Train: 0.9950, Val: 0.9892, Test: 0.9899, Loss: 0.39007\n"
     ]
    },
    {
     "name": "stderr",
     "output_type": "stream",
     "text": [
      "c:\\Users\\rosa-\\anaconda3\\envs\\xaifo\\lib\\site-packages\\deepsnap\\graph.py:2126: UserWarning: __floordiv__ is deprecated, and its behavior will change in a future version of pytorch. It currently rounds toward 0 (like the 'trunc' function NOT 'floor'). This results in incorrect rounding for negative values. To keep the current behavior, use torch.div(a, b, rounding_mode='trunc'), or for actual floor division, use torch.div(a, b, rounding_mode='floor').\n",
      "  row = perm // num_nodes\n"
     ]
    },
    {
     "name": "stdout",
     "output_type": "stream",
     "text": [
      "Epoch: 140, Train: 0.9951, Val: 0.9892, Test: 0.9900, Loss: 0.38855\n"
     ]
    },
    {
     "name": "stderr",
     "output_type": "stream",
     "text": [
      "c:\\Users\\rosa-\\anaconda3\\envs\\xaifo\\lib\\site-packages\\deepsnap\\graph.py:2126: UserWarning: __floordiv__ is deprecated, and its behavior will change in a future version of pytorch. It currently rounds toward 0 (like the 'trunc' function NOT 'floor'). This results in incorrect rounding for negative values. To keep the current behavior, use torch.div(a, b, rounding_mode='trunc'), or for actual floor division, use torch.div(a, b, rounding_mode='floor').\n",
      "  row = perm // num_nodes\n"
     ]
    },
    {
     "name": "stdout",
     "output_type": "stream",
     "text": [
      "Epoch: 141, Train: 0.9954, Val: 0.9893, Test: 0.9900, Loss: 0.38735\n"
     ]
    },
    {
     "name": "stderr",
     "output_type": "stream",
     "text": [
      "c:\\Users\\rosa-\\anaconda3\\envs\\xaifo\\lib\\site-packages\\deepsnap\\graph.py:2126: UserWarning: __floordiv__ is deprecated, and its behavior will change in a future version of pytorch. It currently rounds toward 0 (like the 'trunc' function NOT 'floor'). This results in incorrect rounding for negative values. To keep the current behavior, use torch.div(a, b, rounding_mode='trunc'), or for actual floor division, use torch.div(a, b, rounding_mode='floor').\n",
      "  row = perm // num_nodes\n"
     ]
    },
    {
     "name": "stdout",
     "output_type": "stream",
     "text": [
      "Epoch: 142, Train: 0.9952, Val: 0.9893, Test: 0.9901, Loss: 0.38919\n"
     ]
    },
    {
     "name": "stderr",
     "output_type": "stream",
     "text": [
      "c:\\Users\\rosa-\\anaconda3\\envs\\xaifo\\lib\\site-packages\\deepsnap\\graph.py:2126: UserWarning: __floordiv__ is deprecated, and its behavior will change in a future version of pytorch. It currently rounds toward 0 (like the 'trunc' function NOT 'floor'). This results in incorrect rounding for negative values. To keep the current behavior, use torch.div(a, b, rounding_mode='trunc'), or for actual floor division, use torch.div(a, b, rounding_mode='floor').\n",
      "  row = perm // num_nodes\n"
     ]
    },
    {
     "name": "stdout",
     "output_type": "stream",
     "text": [
      "Epoch: 143, Train: 0.9953, Val: 0.9893, Test: 0.9901, Loss: 0.38937\n"
     ]
    },
    {
     "name": "stderr",
     "output_type": "stream",
     "text": [
      "c:\\Users\\rosa-\\anaconda3\\envs\\xaifo\\lib\\site-packages\\deepsnap\\graph.py:2126: UserWarning: __floordiv__ is deprecated, and its behavior will change in a future version of pytorch. It currently rounds toward 0 (like the 'trunc' function NOT 'floor'). This results in incorrect rounding for negative values. To keep the current behavior, use torch.div(a, b, rounding_mode='trunc'), or for actual floor division, use torch.div(a, b, rounding_mode='floor').\n",
      "  row = perm // num_nodes\n"
     ]
    },
    {
     "name": "stdout",
     "output_type": "stream",
     "text": [
      "Epoch: 144, Train: 0.9951, Val: 0.9894, Test: 0.9901, Loss: 0.38859\n"
     ]
    },
    {
     "name": "stderr",
     "output_type": "stream",
     "text": [
      "c:\\Users\\rosa-\\anaconda3\\envs\\xaifo\\lib\\site-packages\\deepsnap\\graph.py:2126: UserWarning: __floordiv__ is deprecated, and its behavior will change in a future version of pytorch. It currently rounds toward 0 (like the 'trunc' function NOT 'floor'). This results in incorrect rounding for negative values. To keep the current behavior, use torch.div(a, b, rounding_mode='trunc'), or for actual floor division, use torch.div(a, b, rounding_mode='floor').\n",
      "  row = perm // num_nodes\n"
     ]
    },
    {
     "name": "stdout",
     "output_type": "stream",
     "text": [
      "Epoch: 145, Train: 0.9955, Val: 0.9894, Test: 0.9901, Loss: 0.38780\n"
     ]
    },
    {
     "name": "stderr",
     "output_type": "stream",
     "text": [
      "c:\\Users\\rosa-\\anaconda3\\envs\\xaifo\\lib\\site-packages\\deepsnap\\graph.py:2126: UserWarning: __floordiv__ is deprecated, and its behavior will change in a future version of pytorch. It currently rounds toward 0 (like the 'trunc' function NOT 'floor'). This results in incorrect rounding for negative values. To keep the current behavior, use torch.div(a, b, rounding_mode='trunc'), or for actual floor division, use torch.div(a, b, rounding_mode='floor').\n",
      "  row = perm // num_nodes\n"
     ]
    },
    {
     "name": "stdout",
     "output_type": "stream",
     "text": [
      "Epoch: 146, Train: 0.9953, Val: 0.9894, Test: 0.9902, Loss: 0.38880\n"
     ]
    },
    {
     "name": "stderr",
     "output_type": "stream",
     "text": [
      "c:\\Users\\rosa-\\anaconda3\\envs\\xaifo\\lib\\site-packages\\deepsnap\\graph.py:2126: UserWarning: __floordiv__ is deprecated, and its behavior will change in a future version of pytorch. It currently rounds toward 0 (like the 'trunc' function NOT 'floor'). This results in incorrect rounding for negative values. To keep the current behavior, use torch.div(a, b, rounding_mode='trunc'), or for actual floor division, use torch.div(a, b, rounding_mode='floor').\n",
      "  row = perm // num_nodes\n"
     ]
    },
    {
     "name": "stdout",
     "output_type": "stream",
     "text": [
      "Epoch: 147, Train: 0.9954, Val: 0.9894, Test: 0.9902, Loss: 0.39104\n"
     ]
    },
    {
     "name": "stderr",
     "output_type": "stream",
     "text": [
      "c:\\Users\\rosa-\\anaconda3\\envs\\xaifo\\lib\\site-packages\\deepsnap\\graph.py:2126: UserWarning: __floordiv__ is deprecated, and its behavior will change in a future version of pytorch. It currently rounds toward 0 (like the 'trunc' function NOT 'floor'). This results in incorrect rounding for negative values. To keep the current behavior, use torch.div(a, b, rounding_mode='trunc'), or for actual floor division, use torch.div(a, b, rounding_mode='floor').\n",
      "  row = perm // num_nodes\n"
     ]
    },
    {
     "name": "stdout",
     "output_type": "stream",
     "text": [
      "Epoch: 148, Train: 0.9954, Val: 0.9895, Test: 0.9902, Loss: 0.38937\n"
     ]
    },
    {
     "name": "stderr",
     "output_type": "stream",
     "text": [
      "c:\\Users\\rosa-\\anaconda3\\envs\\xaifo\\lib\\site-packages\\deepsnap\\graph.py:2126: UserWarning: __floordiv__ is deprecated, and its behavior will change in a future version of pytorch. It currently rounds toward 0 (like the 'trunc' function NOT 'floor'). This results in incorrect rounding for negative values. To keep the current behavior, use torch.div(a, b, rounding_mode='trunc'), or for actual floor division, use torch.div(a, b, rounding_mode='floor').\n",
      "  row = perm // num_nodes\n"
     ]
    },
    {
     "name": "stdout",
     "output_type": "stream",
     "text": [
      "Epoch: 149, Train: 0.9954, Val: 0.9895, Test: 0.9902, Loss: 0.38895\n"
     ]
    },
    {
     "name": "stderr",
     "output_type": "stream",
     "text": [
      "c:\\Users\\rosa-\\anaconda3\\envs\\xaifo\\lib\\site-packages\\deepsnap\\graph.py:2126: UserWarning: __floordiv__ is deprecated, and its behavior will change in a future version of pytorch. It currently rounds toward 0 (like the 'trunc' function NOT 'floor'). This results in incorrect rounding for negative values. To keep the current behavior, use torch.div(a, b, rounding_mode='trunc'), or for actual floor division, use torch.div(a, b, rounding_mode='floor').\n",
      "  row = perm // num_nodes\n"
     ]
    },
    {
     "name": "stdout",
     "output_type": "stream",
     "text": [
      "Train: 0.9954, Val: 0.9895, Test: 0.9902\n"
     ]
    }
   ],
   "source": [
    "best_model, best_x, performance = train(model, dataloaders, optimizer, args)\n",
    "\n",
    "best_train_roc = test(best_model, dataloaders['train'], args)\n",
    "best_val_roc = test(best_model, dataloaders['val'], args)\n",
    "best_test_roc = test(best_model, dataloaders['test'], args)\n",
    "\n",
    "print('Train: {:.4f}, Val: {:.4f}, Test: {:.4f}'.format(best_train_roc, best_val_roc, best_test_roc))"
   ]
  },
  {
   "attachments": {},
   "cell_type": "markdown",
   "metadata": {},
   "source": [
    "Save the model and parameters"
   ]
  },
  {
   "cell_type": "code",
   "execution_count": 40,
   "metadata": {},
   "outputs": [],
   "source": [
    "torch.save(best_model.state_dict(), 'output/best_model.pth')\n",
    "with open('output/best_model_args.pkl', 'wb') as f:\n",
    "    pickle.dump(args, f)"
   ]
  },
  {
   "attachments": {},
   "cell_type": "markdown",
   "metadata": {},
   "source": [
    "### Visualize Trained GNN Model Accuracy"
   ]
  },
  {
   "attachments": {},
   "cell_type": "markdown",
   "metadata": {},
   "source": [
    "Plot AUC and loss throughout epochs"
   ]
  },
  {
   "cell_type": "code",
   "execution_count": 41,
   "metadata": {},
   "outputs": [
    {
     "data": {
      "image/png": "[encoded data removed]",
      "text/plain": [
       "<Figure size 1000x700 with 1 Axes>"
      ]
     },
     "metadata": {},
     "output_type": "display_data"
    }
   ],
   "source": [
    "plt.figure(figsize= (10,7))\n",
    "plt.plot(np.log10(performance[0]), label = 'Loss')\n",
    "plt.plot(performance[1], label = 'AUC Train')\n",
    "plt.plot(performance[2], label = 'AUC Validation')\n",
    "plt.plot(performance[3], label = 'AUC Test')\n",
    "plt.legend()\n",
    "plt.ylabel('AUC/Loss')\n",
    "plt.xlabel('Epochs')\n",
    "plt.show()"
   ]
  },
  {
   "attachments": {},
   "cell_type": "markdown",
   "metadata": {},
   "source": [
    "Plot ROC curve using test set\n",
    "- High TPR and lower FPR indicates that the proportion of correctly classified samples (true positives) is greater than the proportion of incorrectly classified samples (false positives)"
   ]
  },
  {
   "cell_type": "code",
   "execution_count": 42,
   "metadata": {},
   "outputs": [
    {
     "name": "stdout",
     "output_type": "stream",
     "text": [
      "0.9902368366120784\n"
     ]
    },
    {
     "data": {
      "image/png": "[encoded data removed]",
      "text/plain": [
       "<Figure size 700x700 with 1 Axes>"
      ]
     },
     "metadata": {},
     "output_type": "display_data"
    }
   ],
   "source": [
    "for batch in dataloaders['test']:\n",
    "    feat, edge_index, edge_label_index = batch.node_feature, batch.edge_index, batch.edge_label_index\n",
    "    batch.to(args[\"device\"])\n",
    "    pred, x = best_model(feat, edge_index, edge_label_index, training = False)\n",
    "    pred = torch.sigmoid(pred)\n",
    "    score = roc_auc_score(batch.edge_label.flatten().cpu().numpy(), pred.flatten().data.cpu().numpy())\n",
    "    print(score)\n",
    "    \n",
    "fpr, tpr, thresholds = roc_curve(batch.edge_label.flatten().cpu().numpy(), pred.flatten().data.cpu().numpy())\n",
    "plt.figure(figsize = (7, 7))\n",
    "plt.plot(fpr, tpr, marker='.')\n",
    "plt.xlabel('False Positive Rate')   # 1 - specificity\n",
    "plt.ylabel('True Positive Rate')    # sensitivity\n",
    "plt.show()"
   ]
  },
  {
   "attachments": {},
   "cell_type": "markdown",
   "metadata": {},
   "source": [
    "Calculate F1-score using test set\n",
    "\n",
    "Elements of the F1-score:\n",
    "- Precision represents the proportion of correctly classifying samples as positive (high precision: classifying a sample as positive has a high probability to be correct)\n",
    "- Recall represents the proportion of finding all positives (high recall: all positive samples have been classified as being positive)\n",
    "\n",
    "Maximizing both elements in order to yield a model that identifies all positive samples and only identifies these samples as positives.\n",
    "\n",
    "For the F1-score, the average of precision and recall is calculated, using the harmonic mean method (equal importance):\n",
    "- High F1-score indicates that precision and recall are both high\n",
    "- Medium F1-score indicates that one of the elements is high and the other low\n",
    "- Low F1-score indicates that precision and recall are both low"
   ]
  },
  {
   "cell_type": "code",
   "execution_count": 43,
   "metadata": {},
   "outputs": [
    {
     "name": "stdout",
     "output_type": "stream",
     "text": [
      "F1-Score in the test set: 0.9598347207875069\n",
      "              precision    recall  f1-score   support\n",
      "\n",
      "           0       0.95      0.97      0.96      8291\n",
      "           1       0.97      0.95      0.96      8291\n",
      "\n",
      "    accuracy                           0.96     16582\n",
      "   macro avg       0.96      0.96      0.96     16582\n",
      "weighted avg       0.96      0.96      0.96     16582\n",
      "\n"
     ]
    }
   ],
   "source": [
    "def test_f1(model, dataloader, args, threshold):\n",
    "    model.eval()\n",
    "    score = 0\n",
    "    num_batches = 0\n",
    "    for batch in dataloader:\n",
    "        feat, edge_index, edge_label_index = batch.node_feature, batch.edge_index, batch.edge_label_index\n",
    "        batch.to(args[\"device\"])\n",
    "        pred, x = model(feat, edge_index, edge_label_index, training = False)\n",
    "        pred = torch.sigmoid(pred) > threshold\n",
    "        score += f1_score(batch.edge_label.flatten().cpu().numpy(), pred.flatten().data.cpu().numpy())\n",
    "        num_batches += 1\n",
    "    score /= num_batches \n",
    "    return batch.edge_label.flatten().cpu().numpy(), pred.flatten().data.cpu().numpy(), score\n",
    "\n",
    "true_label, pred_label, best_test_f1 = test_f1(best_model, dataloaders['test'], args, 0.75)\n",
    "print('F1-Score in the test set:', best_test_f1)\n",
    "print(classification_report(true_label, pred_label))"
   ]
  },
  {
   "cell_type": "code",
   "execution_count": 44,
   "metadata": {},
   "outputs": [
    {
     "name": "stderr",
     "output_type": "stream",
     "text": [
      "c:\\Users\\rosa-\\anaconda3\\envs\\xaifo\\lib\\site-packages\\deepsnap\\graph.py:2126: UserWarning: __floordiv__ is deprecated, and its behavior will change in a future version of pytorch. It currently rounds toward 0 (like the 'trunc' function NOT 'floor'). This results in incorrect rounding for negative values. To keep the current behavior, use torch.div(a, b, rounding_mode='trunc'), or for actual floor division, use torch.div(a, b, rounding_mode='floor').\n",
      "  row = perm // num_nodes\n"
     ]
    },
    {
     "name": "stdout",
     "output_type": "stream",
     "text": [
      "[[64728  1591]\n",
      " [ 1644 64675]]\n"
     ]
    }
   ],
   "source": [
    "def test_cm(model, dataloader, args, threshold):\n",
    "    model.eval()\n",
    "    for batch in dataloader:\n",
    "        feat, edge_index, edge_label_index = batch.node_feature, batch.edge_index, batch.edge_label_index\n",
    "        batch.to(args[\"device\"])\n",
    "        pred, x = model(feat, edge_index, edge_label_index, training = False)\n",
    "        pred = torch.sigmoid(pred) > threshold\n",
    "        score = confusion_matrix(batch.edge_label.flatten().cpu().numpy(), pred.flatten().data.cpu().numpy())\n",
    "    return score\n",
    "\n",
    "table = test_cm(best_model, dataloaders['train'], args, 0.8)\n",
    "print(table)"
   ]
  },
  {
   "attachments": {},
   "cell_type": "markdown",
   "metadata": {},
   "source": [
    "# Hyperparameter Optimization of Node Embedding and GNN Training"
   ]
  },
  {
   "attachments": {},
   "cell_type": "markdown",
   "metadata": {},
   "source": [
    "The routine including node embedding and GNN training that needs to be optimized is contained in the function below."
   ]
  },
  {
   "cell_type": "code",
   "execution_count": 45,
   "metadata": {},
   "outputs": [],
   "source": [
    "def optim(args):\n",
    "    # Node embedding using Edge2Vec\n",
    "    trans_matrix = transitions.initialize_edge_type_matrix(args['type_size'])\n",
    "    \n",
    "    G1 = nx.from_pandas_edgelist(args['df'], 'index_head', 'index_tail', 'type', create_using=nx.DiGraph(), edge_key= (('type', int),('id',int)))\n",
    "    G1 = G1.to_undirected()\n",
    "    for edge in G1.edges():\n",
    "        G1[edge[0]][edge[1]]['weight'] = 1.0\n",
    "    \n",
    "    for i in range(args['epoch_e2v']):\n",
    "        walks = transitions.simulate_walks_1(G1, args['num_walks'], args['walk_length'], trans_matrix, True, args['p'], args['q'])\n",
    "        trans_matrix = transitions.update_trans_matrix(walks,args['type_size'], 3)\n",
    "    \n",
    "    walks = edge2vec.simulate_walks_2(G1, args['num_walks'], args['walk_length'], trans_matrix, args['p'], args['q'])\n",
    "    w2v_model = edge2vec.Word2Vec(walks, vector_size=args['dimensions_e2v'], window=args['walk_length']-1, min_count=0, sg=1, workers=8, epochs=args['epoch_e2v'])\n",
    "\n",
    "    e2v_embedding = pd.DataFrame(columns = ['Node', 'Embedding'])\n",
    "    for idx, key in enumerate(w2v_model.wv.index_to_key):\n",
    "        e2v_embedding.loc[int(key)] = pd.Series({'Node':int(key), 'Embedding':list(w2v_model.wv[key])})\n",
    "    e2v_embedding = e2v_embedding.sort_values('Node')\n",
    "    \n",
    "    # Build graph with nodes and their embedding as node feature\n",
    "    G2 = nx.Graph()\n",
    "    for ind, node in e2v_embedding.iterrows(): \n",
    "        G2.add_node(int(node['Node']), node_feature=torch.Tensor(node['Embedding']))\n",
    "    for ind, edge in args['df'].iterrows(): \n",
    "        G2.add_edge(int(edge['index_head']), int(edge['index_tail']))\n",
    "        \n",
    "    # Split graph dataset into train, test and validation sets\n",
    "    dataset = GraphDataset(G2, task='link_pred', edge_train_mode=\"all\")\n",
    "    \n",
    "    datasets = {}\n",
    "    datasets['train'], datasets['val'], datasets['test']= dataset.split(transductive=True, split_ratio=[0.8, 0.1, 0.1])\n",
    "    \n",
    "    \n",
    "    # Set up link prediction model\n",
    "    input_dim = datasets['train'].num_node_features\n",
    "    \n",
    "    model = LinkPredModel(input_dim, args['hidden_dim'], args['output_dim'], args['layers'], args['aggr'], args['dropout'], args['device']).to(args['device'])\n",
    "    optimizer = torch.optim.SGD(model.parameters(), lr=args['lr'], momentum=0.9, weight_decay=5e-4)\n",
    "    \n",
    "    \n",
    "    # Generate dataloaders\n",
    "    dataloaders = {split: DataLoader(ds, collate_fn=Batch.collate([]), batch_size=1, shuffle=(split=='train')) for split, ds in datasets.items()}\n",
    "    \n",
    "    best_model, best_x, perform = train(model, dataloaders, optimizer, args, ho = False)\n",
    "    \n",
    "    best_train_roc = test(best_model, dataloaders['train'], args)\n",
    "    best_val_roc = test(best_model, dataloaders['val'], args)\n",
    "    best_test_roc = test(best_model, dataloaders['test'], args)\n",
    "    \n",
    "    print('AUC:', best_test_roc)\n",
    "    log = \"Train: {:.4f}, Val: {:.4f}, Test: {:.4f}\"\n",
    "    print(log.format(best_train_roc, best_val_roc, best_test_roc))\n",
    "    tune.report(accuracy=best_val_roc)"
   ]
  },
  {
   "attachments": {},
   "cell_type": "markdown",
   "metadata": {},
   "source": [
    "Select the different parameters that need to be tested during the optimization search."
   ]
  },
  {
   "cell_type": "code",
   "execution_count": 47,
   "metadata": {},
   "outputs": [
    {
     "name": "stderr",
     "output_type": "stream",
     "text": [
      "2023-05-16 14:20:46,027\tWARNING callback.py:108 -- The TensorboardX logger cannot be instantiated because either TensorboardX or one of it's dependencies is not installed. Please make sure you have the latest version of TensorboardX installed: `pip install -U tensorboardx`\n"
     ]
    },
    {
     "data": {
      "text/html": [
       "<div class=\"tuneStatus\">\n",
       "  <div style=\"display: flex;flex-direction: row\">\n",
       "    <div style=\"display: flex;flex-direction: column;\">\n",
       "      <h3>Tune Status</h3>\n",
       "      <table>\n",
       "<tbody>\n",
       "<tr><td>Current time:</td><td>2023-05-16 14:21:57</td></tr>\n",
       "<tr><td>Running for: </td><td>00:01:11.72        </td></tr>\n",
       "<tr><td>Memory:      </td><td>13.5/15.4 GiB      </td></tr>\n",
       "</tbody>\n",
       "</table>\n",
       "    </div>\n",
       "    <div class=\"vDivider\"></div>\n",
       "    <div class=\"systemInfo\">\n",
       "      <h3>System Info</h3>\n",
       "      Using AsyncHyperBand: num_stopped=0<br>Bracket: Iter 8.000: None | Iter 4.000: None | Iter 2.000: None | Iter 1.000: None<br>Resources requested: 0/16 CPUs, 0/1 GPUs, 0.0/2.85 GiB heap, 0.0/1.43 GiB objects\n",
       "    </div>\n",
       "    \n",
       "  </div>\n",
       "  <div class=\"hDivider\"></div>\n",
       "  <div class=\"trialStatus\">\n",
       "    <h3>Trial Status</h3>\n",
       "    <table>\n",
       "<thead>\n",
       "<tr><th>Trial name       </th><th>status  </th><th>loc  </th><th>aggr  </th><th style=\"text-align: right;\">  dimensions_e2v</th><th style=\"text-align: right;\">  dropout</th><th style=\"text-align: right;\">  epoch_e2v</th><th style=\"text-align: right;\">  epochs</th><th style=\"text-align: right;\">  hidden_dim</th><th style=\"text-align: right;\">  layers</th><th style=\"text-align: right;\">         lr</th><th style=\"text-align: right;\">  num_walks</th><th style=\"text-align: right;\">  output_dim</th><th style=\"text-align: right;\">   p</th><th style=\"text-align: right;\">   q</th><th style=\"text-align: right;\">  walk_length</th></tr>\n",
       "</thead>\n",
       "<tbody>\n",
       "<tr><td>optim_15af7_00000</td><td>ERROR   </td><td>     </td><td>mean  </td><td style=\"text-align: right;\">              64</td><td style=\"text-align: right;\">      0.2</td><td style=\"text-align: right;\">          5</td><td style=\"text-align: right;\">     150</td><td style=\"text-align: right;\">          64</td><td style=\"text-align: right;\">       2</td><td style=\"text-align: right;\">0.0215964  </td><td style=\"text-align: right;\">          6</td><td style=\"text-align: right;\">         256</td><td style=\"text-align: right;\">0.75</td><td style=\"text-align: right;\">0.75</td><td style=\"text-align: right;\">            3</td></tr>\n",
       "<tr><td>optim_15af7_00001</td><td>ERROR   </td><td>     </td><td>sum   </td><td style=\"text-align: right;\">              64</td><td style=\"text-align: right;\">      0  </td><td style=\"text-align: right;\">         10</td><td style=\"text-align: right;\">     200</td><td style=\"text-align: right;\">          64</td><td style=\"text-align: right;\">       4</td><td style=\"text-align: right;\">0.00160528 </td><td style=\"text-align: right;\">          6</td><td style=\"text-align: right;\">         256</td><td style=\"text-align: right;\">1   </td><td style=\"text-align: right;\">0.75</td><td style=\"text-align: right;\">            3</td></tr>\n",
       "<tr><td>optim_15af7_00002</td><td>ERROR   </td><td>     </td><td>mean  </td><td style=\"text-align: right;\">              32</td><td style=\"text-align: right;\">      0  </td><td style=\"text-align: right;\">         10</td><td style=\"text-align: right;\">     150</td><td style=\"text-align: right;\">          64</td><td style=\"text-align: right;\">       2</td><td style=\"text-align: right;\">0.000278775</td><td style=\"text-align: right;\">          2</td><td style=\"text-align: right;\">         128</td><td style=\"text-align: right;\">0.75</td><td style=\"text-align: right;\">0.75</td><td style=\"text-align: right;\">            3</td></tr>\n",
       "<tr><td>optim_15af7_00003</td><td>ERROR   </td><td>     </td><td>sum   </td><td style=\"text-align: right;\">             128</td><td style=\"text-align: right;\">      0.1</td><td style=\"text-align: right;\">          5</td><td style=\"text-align: right;\">     200</td><td style=\"text-align: right;\">         128</td><td style=\"text-align: right;\">       4</td><td style=\"text-align: right;\">0.000308981</td><td style=\"text-align: right;\">          2</td><td style=\"text-align: right;\">         128</td><td style=\"text-align: right;\">0.5 </td><td style=\"text-align: right;\">1   </td><td style=\"text-align: right;\">            5</td></tr>\n",
       "<tr><td>optim_15af7_00004</td><td>ERROR   </td><td>     </td><td>sum   </td><td style=\"text-align: right;\">              32</td><td style=\"text-align: right;\">      0.2</td><td style=\"text-align: right;\">          5</td><td style=\"text-align: right;\">     200</td><td style=\"text-align: right;\">         128</td><td style=\"text-align: right;\">       4</td><td style=\"text-align: right;\">0.000154092</td><td style=\"text-align: right;\">          2</td><td style=\"text-align: right;\">          64</td><td style=\"text-align: right;\">0.75</td><td style=\"text-align: right;\">0.5 </td><td style=\"text-align: right;\">            5</td></tr>\n",
       "<tr><td>optim_15af7_00005</td><td>ERROR   </td><td>     </td><td>sum   </td><td style=\"text-align: right;\">              64</td><td style=\"text-align: right;\">      0.2</td><td style=\"text-align: right;\">         10</td><td style=\"text-align: right;\">     200</td><td style=\"text-align: right;\">         128</td><td style=\"text-align: right;\">       6</td><td style=\"text-align: right;\">0.0152802  </td><td style=\"text-align: right;\">          4</td><td style=\"text-align: right;\">          64</td><td style=\"text-align: right;\">0.75</td><td style=\"text-align: right;\">0.75</td><td style=\"text-align: right;\">            5</td></tr>\n",
       "<tr><td>optim_15af7_00006</td><td>ERROR   </td><td>     </td><td>sum   </td><td style=\"text-align: right;\">              64</td><td style=\"text-align: right;\">      0.2</td><td style=\"text-align: right;\">         10</td><td style=\"text-align: right;\">     200</td><td style=\"text-align: right;\">         128</td><td style=\"text-align: right;\">       2</td><td style=\"text-align: right;\">0.0157914  </td><td style=\"text-align: right;\">          4</td><td style=\"text-align: right;\">         128</td><td style=\"text-align: right;\">0.75</td><td style=\"text-align: right;\">1   </td><td style=\"text-align: right;\">            5</td></tr>\n",
       "<tr><td>optim_15af7_00007</td><td>ERROR   </td><td>     </td><td>mean  </td><td style=\"text-align: right;\">             128</td><td style=\"text-align: right;\">      0  </td><td style=\"text-align: right;\">          5</td><td style=\"text-align: right;\">     200</td><td style=\"text-align: right;\">          64</td><td style=\"text-align: right;\">       2</td><td style=\"text-align: right;\">0.00179289 </td><td style=\"text-align: right;\">          6</td><td style=\"text-align: right;\">         128</td><td style=\"text-align: right;\">0.5 </td><td style=\"text-align: right;\">1   </td><td style=\"text-align: right;\">            3</td></tr>\n",
       "<tr><td>optim_15af7_00008</td><td>ERROR   </td><td>     </td><td>sum   </td><td style=\"text-align: right;\">              32</td><td style=\"text-align: right;\">      0.1</td><td style=\"text-align: right;\">          5</td><td style=\"text-align: right;\">     150</td><td style=\"text-align: right;\">         128</td><td style=\"text-align: right;\">       4</td><td style=\"text-align: right;\">0.000333328</td><td style=\"text-align: right;\">          2</td><td style=\"text-align: right;\">         256</td><td style=\"text-align: right;\">0.75</td><td style=\"text-align: right;\">1   </td><td style=\"text-align: right;\">            3</td></tr>\n",
       "<tr><td>optim_15af7_00009</td><td>ERROR   </td><td>     </td><td>mean  </td><td style=\"text-align: right;\">              64</td><td style=\"text-align: right;\">      0.2</td><td style=\"text-align: right;\">         10</td><td style=\"text-align: right;\">     100</td><td style=\"text-align: right;\">         128</td><td style=\"text-align: right;\">       4</td><td style=\"text-align: right;\">0.00235457 </td><td style=\"text-align: right;\">          2</td><td style=\"text-align: right;\">          64</td><td style=\"text-align: right;\">1   </td><td style=\"text-align: right;\">0.75</td><td style=\"text-align: right;\">            7</td></tr>\n",
       "<tr><td>optim_15af7_00010</td><td>ERROR   </td><td>     </td><td>mean  </td><td style=\"text-align: right;\">             128</td><td style=\"text-align: right;\">      0  </td><td style=\"text-align: right;\">          5</td><td style=\"text-align: right;\">     100</td><td style=\"text-align: right;\">         256</td><td style=\"text-align: right;\">       2</td><td style=\"text-align: right;\">0.000116557</td><td style=\"text-align: right;\">          6</td><td style=\"text-align: right;\">          64</td><td style=\"text-align: right;\">1   </td><td style=\"text-align: right;\">1   </td><td style=\"text-align: right;\">            7</td></tr>\n",
       "<tr><td>optim_15af7_00011</td><td>ERROR   </td><td>     </td><td>sum   </td><td style=\"text-align: right;\">              32</td><td style=\"text-align: right;\">      0.1</td><td style=\"text-align: right;\">          5</td><td style=\"text-align: right;\">     200</td><td style=\"text-align: right;\">         256</td><td style=\"text-align: right;\">       6</td><td style=\"text-align: right;\">0.00201868 </td><td style=\"text-align: right;\">          2</td><td style=\"text-align: right;\">         256</td><td style=\"text-align: right;\">0.75</td><td style=\"text-align: right;\">1   </td><td style=\"text-align: right;\">            3</td></tr>\n",
       "<tr><td>optim_15af7_00012</td><td>ERROR   </td><td>     </td><td>sum   </td><td style=\"text-align: right;\">             128</td><td style=\"text-align: right;\">      0.2</td><td style=\"text-align: right;\">         10</td><td style=\"text-align: right;\">     100</td><td style=\"text-align: right;\">         128</td><td style=\"text-align: right;\">       6</td><td style=\"text-align: right;\">0.00232226 </td><td style=\"text-align: right;\">          6</td><td style=\"text-align: right;\">         256</td><td style=\"text-align: right;\">0.75</td><td style=\"text-align: right;\">0.5 </td><td style=\"text-align: right;\">            5</td></tr>\n",
       "<tr><td>optim_15af7_00013</td><td>ERROR   </td><td>     </td><td>mean  </td><td style=\"text-align: right;\">             128</td><td style=\"text-align: right;\">      0.1</td><td style=\"text-align: right;\">          5</td><td style=\"text-align: right;\">     150</td><td style=\"text-align: right;\">         256</td><td style=\"text-align: right;\">       2</td><td style=\"text-align: right;\">0.000118803</td><td style=\"text-align: right;\">          4</td><td style=\"text-align: right;\">          64</td><td style=\"text-align: right;\">0.75</td><td style=\"text-align: right;\">0.75</td><td style=\"text-align: right;\">            3</td></tr>\n",
       "<tr><td>optim_15af7_00014</td><td>ERROR   </td><td>     </td><td>mean  </td><td style=\"text-align: right;\">             128</td><td style=\"text-align: right;\">      0  </td><td style=\"text-align: right;\">          5</td><td style=\"text-align: right;\">     150</td><td style=\"text-align: right;\">         256</td><td style=\"text-align: right;\">       2</td><td style=\"text-align: right;\">0.0279357  </td><td style=\"text-align: right;\">          2</td><td style=\"text-align: right;\">          64</td><td style=\"text-align: right;\">0.5 </td><td style=\"text-align: right;\">1   </td><td style=\"text-align: right;\">            3</td></tr>\n",
       "<tr><td>optim_15af7_00015</td><td>ERROR   </td><td>     </td><td>mean  </td><td style=\"text-align: right;\">              32</td><td style=\"text-align: right;\">      0.2</td><td style=\"text-align: right;\">          5</td><td style=\"text-align: right;\">     200</td><td style=\"text-align: right;\">         128</td><td style=\"text-align: right;\">       6</td><td style=\"text-align: right;\">0.000313794</td><td style=\"text-align: right;\">          2</td><td style=\"text-align: right;\">         128</td><td style=\"text-align: right;\">1   </td><td style=\"text-align: right;\">0.5 </td><td style=\"text-align: right;\">            7</td></tr>\n",
       "<tr><td>optim_15af7_00016</td><td>ERROR   </td><td>     </td><td>sum   </td><td style=\"text-align: right;\">              64</td><td style=\"text-align: right;\">      0.2</td><td style=\"text-align: right;\">          5</td><td style=\"text-align: right;\">     200</td><td style=\"text-align: right;\">          64</td><td style=\"text-align: right;\">       4</td><td style=\"text-align: right;\">0.00154036 </td><td style=\"text-align: right;\">          6</td><td style=\"text-align: right;\">          64</td><td style=\"text-align: right;\">0.5 </td><td style=\"text-align: right;\">1   </td><td style=\"text-align: right;\">            3</td></tr>\n",
       "<tr><td>optim_15af7_00017</td><td>ERROR   </td><td>     </td><td>sum   </td><td style=\"text-align: right;\">              32</td><td style=\"text-align: right;\">      0.2</td><td style=\"text-align: right;\">         10</td><td style=\"text-align: right;\">     100</td><td style=\"text-align: right;\">         256</td><td style=\"text-align: right;\">       6</td><td style=\"text-align: right;\">0.0175773  </td><td style=\"text-align: right;\">          6</td><td style=\"text-align: right;\">         256</td><td style=\"text-align: right;\">0.75</td><td style=\"text-align: right;\">0.5 </td><td style=\"text-align: right;\">            5</td></tr>\n",
       "<tr><td>optim_15af7_00018</td><td>ERROR   </td><td>     </td><td>mean  </td><td style=\"text-align: right;\">             128</td><td style=\"text-align: right;\">      0.2</td><td style=\"text-align: right;\">          5</td><td style=\"text-align: right;\">     100</td><td style=\"text-align: right;\">          64</td><td style=\"text-align: right;\">       6</td><td style=\"text-align: right;\">0.0143443  </td><td style=\"text-align: right;\">          2</td><td style=\"text-align: right;\">         256</td><td style=\"text-align: right;\">1   </td><td style=\"text-align: right;\">0.75</td><td style=\"text-align: right;\">            5</td></tr>\n",
       "<tr><td>optim_15af7_00019</td><td>ERROR   </td><td>     </td><td>sum   </td><td style=\"text-align: right;\">             128</td><td style=\"text-align: right;\">      0.1</td><td style=\"text-align: right;\">          5</td><td style=\"text-align: right;\">     100</td><td style=\"text-align: right;\">          64</td><td style=\"text-align: right;\">       4</td><td style=\"text-align: right;\">0.000222572</td><td style=\"text-align: right;\">          6</td><td style=\"text-align: right;\">          64</td><td style=\"text-align: right;\">0.75</td><td style=\"text-align: right;\">1   </td><td style=\"text-align: right;\">            7</td></tr>\n",
       "<tr><td>optim_15af7_00020</td><td>ERROR   </td><td>     </td><td>mean  </td><td style=\"text-align: right;\">             128</td><td style=\"text-align: right;\">      0  </td><td style=\"text-align: right;\">          5</td><td style=\"text-align: right;\">     150</td><td style=\"text-align: right;\">          64</td><td style=\"text-align: right;\">       2</td><td style=\"text-align: right;\">0.000281303</td><td style=\"text-align: right;\">          6</td><td style=\"text-align: right;\">          64</td><td style=\"text-align: right;\">1   </td><td style=\"text-align: right;\">1   </td><td style=\"text-align: right;\">            7</td></tr>\n",
       "<tr><td>optim_15af7_00021</td><td>ERROR   </td><td>     </td><td>sum   </td><td style=\"text-align: right;\">              64</td><td style=\"text-align: right;\">      0.1</td><td style=\"text-align: right;\">         10</td><td style=\"text-align: right;\">     200</td><td style=\"text-align: right;\">         256</td><td style=\"text-align: right;\">       6</td><td style=\"text-align: right;\">0.00102555 </td><td style=\"text-align: right;\">          4</td><td style=\"text-align: right;\">          64</td><td style=\"text-align: right;\">1   </td><td style=\"text-align: right;\">1   </td><td style=\"text-align: right;\">            3</td></tr>\n",
       "<tr><td>optim_15af7_00022</td><td>ERROR   </td><td>     </td><td>sum   </td><td style=\"text-align: right;\">              32</td><td style=\"text-align: right;\">      0.1</td><td style=\"text-align: right;\">          5</td><td style=\"text-align: right;\">     200</td><td style=\"text-align: right;\">         256</td><td style=\"text-align: right;\">       6</td><td style=\"text-align: right;\">0.0461209  </td><td style=\"text-align: right;\">          4</td><td style=\"text-align: right;\">         128</td><td style=\"text-align: right;\">0.5 </td><td style=\"text-align: right;\">1   </td><td style=\"text-align: right;\">            5</td></tr>\n",
       "<tr><td>optim_15af7_00023</td><td>ERROR   </td><td>     </td><td>sum   </td><td style=\"text-align: right;\">              32</td><td style=\"text-align: right;\">      0.1</td><td style=\"text-align: right;\">          5</td><td style=\"text-align: right;\">     200</td><td style=\"text-align: right;\">         256</td><td style=\"text-align: right;\">       6</td><td style=\"text-align: right;\">0.000270089</td><td style=\"text-align: right;\">          2</td><td style=\"text-align: right;\">          64</td><td style=\"text-align: right;\">0.75</td><td style=\"text-align: right;\">1   </td><td style=\"text-align: right;\">            7</td></tr>\n",
       "<tr><td>optim_15af7_00024</td><td>ERROR   </td><td>     </td><td>sum   </td><td style=\"text-align: right;\">              64</td><td style=\"text-align: right;\">      0.1</td><td style=\"text-align: right;\">         10</td><td style=\"text-align: right;\">     100</td><td style=\"text-align: right;\">         128</td><td style=\"text-align: right;\">       6</td><td style=\"text-align: right;\">0.0020562  </td><td style=\"text-align: right;\">          4</td><td style=\"text-align: right;\">         128</td><td style=\"text-align: right;\">0.75</td><td style=\"text-align: right;\">1   </td><td style=\"text-align: right;\">            3</td></tr>\n",
       "<tr><td>optim_15af7_00025</td><td>ERROR   </td><td>     </td><td>sum   </td><td style=\"text-align: right;\">              64</td><td style=\"text-align: right;\">      0.2</td><td style=\"text-align: right;\">          5</td><td style=\"text-align: right;\">     150</td><td style=\"text-align: right;\">          64</td><td style=\"text-align: right;\">       4</td><td style=\"text-align: right;\">0.00538534 </td><td style=\"text-align: right;\">          2</td><td style=\"text-align: right;\">         128</td><td style=\"text-align: right;\">0.75</td><td style=\"text-align: right;\">0.75</td><td style=\"text-align: right;\">            7</td></tr>\n",
       "<tr><td>optim_15af7_00026</td><td>ERROR   </td><td>     </td><td>mean  </td><td style=\"text-align: right;\">              64</td><td style=\"text-align: right;\">      0.1</td><td style=\"text-align: right;\">         10</td><td style=\"text-align: right;\">     100</td><td style=\"text-align: right;\">         128</td><td style=\"text-align: right;\">       2</td><td style=\"text-align: right;\">0.0161899  </td><td style=\"text-align: right;\">          4</td><td style=\"text-align: right;\">         128</td><td style=\"text-align: right;\">1   </td><td style=\"text-align: right;\">0.75</td><td style=\"text-align: right;\">            7</td></tr>\n",
       "<tr><td>optim_15af7_00027</td><td>ERROR   </td><td>     </td><td>mean  </td><td style=\"text-align: right;\">             128</td><td style=\"text-align: right;\">      0  </td><td style=\"text-align: right;\">         10</td><td style=\"text-align: right;\">     200</td><td style=\"text-align: right;\">         256</td><td style=\"text-align: right;\">       4</td><td style=\"text-align: right;\">0.0175652  </td><td style=\"text-align: right;\">          2</td><td style=\"text-align: right;\">         128</td><td style=\"text-align: right;\">0.5 </td><td style=\"text-align: right;\">0.5 </td><td style=\"text-align: right;\">            5</td></tr>\n",
       "<tr><td>optim_15af7_00028</td><td>ERROR   </td><td>     </td><td>sum   </td><td style=\"text-align: right;\">              64</td><td style=\"text-align: right;\">      0  </td><td style=\"text-align: right;\">          5</td><td style=\"text-align: right;\">     200</td><td style=\"text-align: right;\">         128</td><td style=\"text-align: right;\">       2</td><td style=\"text-align: right;\">0.00552674 </td><td style=\"text-align: right;\">          2</td><td style=\"text-align: right;\">         128</td><td style=\"text-align: right;\">0.75</td><td style=\"text-align: right;\">0.5 </td><td style=\"text-align: right;\">            3</td></tr>\n",
       "<tr><td>optim_15af7_00029</td><td>ERROR   </td><td>     </td><td>sum   </td><td style=\"text-align: right;\">              32</td><td style=\"text-align: right;\">      0.2</td><td style=\"text-align: right;\">         10</td><td style=\"text-align: right;\">     200</td><td style=\"text-align: right;\">         256</td><td style=\"text-align: right;\">       4</td><td style=\"text-align: right;\">0.00024674 </td><td style=\"text-align: right;\">          6</td><td style=\"text-align: right;\">          64</td><td style=\"text-align: right;\">0.75</td><td style=\"text-align: right;\">0.75</td><td style=\"text-align: right;\">            5</td></tr>\n",
       "</tbody>\n",
       "</table>\n",
       "  </div>\n",
       "</div>\n",
       "<style>\n",
       ".tuneStatus {\n",
       "  color: var(--jp-ui-font-color1);\n",
       "}\n",
       ".tuneStatus .systemInfo {\n",
       "  display: flex;\n",
       "  flex-direction: column;\n",
       "}\n",
       ".tuneStatus td {\n",
       "  white-space: nowrap;\n",
       "}\n",
       ".tuneStatus .trialStatus {\n",
       "  display: flex;\n",
       "  flex-direction: column;\n",
       "}\n",
       ".tuneStatus h3 {\n",
       "  font-weight: bold;\n",
       "}\n",
       ".tuneStatus .hDivider {\n",
       "  border-bottom-width: var(--jp-border-width);\n",
       "  border-bottom-color: var(--jp-border-color0);\n",
       "  border-bottom-style: solid;\n",
       "}\n",
       ".tuneStatus .vDivider {\n",
       "  border-left-width: var(--jp-border-width);\n",
       "  border-left-color: var(--jp-border-color0);\n",
       "  border-left-style: solid;\n",
       "  margin: 0.5em 1em 0.5em 1em;\n",
       "}\n",
       "</style>\n"
      ],
      "text/plain": [
       "<IPython.core.display.HTML object>"
      ]
     },
     "metadata": {},
     "output_type": "display_data"
    },
    {
     "name": "stderr",
     "output_type": "stream",
     "text": [
      "2023-05-16 14:20:46,555\tERROR ray_trial_executor.py:687 -- Trial optim_15af7_00000: Unexpected error starting runner.\n",
      "Traceback (most recent call last):\n",
      "  File \"c:\\Users\\rosa-\\anaconda3\\envs\\xaifo\\lib\\pathlib.py\", line 1175, in mkdir\n",
      "    self._accessor.mkdir(self, mode)\n",
      "FileNotFoundError: [WinError 206] The filename or extension is too long: 'c:\\\\Users\\\\rosa-\\\\Google Drive\\\\Msc_Bioinformatics\\\\thesis\\\\XAIFO-ThesisProject\\\\output\\\\optim_2023-05-16_14-20-46\\\\optim_15af7_00000_0_aggr=mean,dimensions_e2v=64,dropout=0.2000,epoch_e2v=5,epochs=150,hidden_dim=64,layers=2,lr=0.0216,num_walks=6_2023-05-16_14-20-46'\n",
      "\n",
      "During handling of the above exception, another exception occurred:\n",
      "\n",
      "Traceback (most recent call last):\n",
      "  File \"c:\\Users\\rosa-\\anaconda3\\envs\\xaifo\\lib\\site-packages\\ray\\tune\\execution\\ray_trial_executor.py\", line 680, in start_trial\n",
      "    return self._start_trial(trial)\n",
      "  File \"c:\\Users\\rosa-\\anaconda3\\envs\\xaifo\\lib\\site-packages\\ray\\tune\\execution\\ray_trial_executor.py\", line 521, in _start_trial\n",
      "    runner = self._setup_remote_runner(trial)\n",
      "  File \"c:\\Users\\rosa-\\anaconda3\\envs\\xaifo\\lib\\site-packages\\ray\\tune\\execution\\ray_trial_executor.py\", line 385, in _setup_remote_runner\n",
      "    trial.init_logdir()\n",
      "  File \"c:\\Users\\rosa-\\anaconda3\\envs\\xaifo\\lib\\site-packages\\ray\\tune\\experiment\\trial.py\", line 628, in init_logdir\n",
      "    logdir_path.mkdir(parents=True, exist_ok=True)\n",
      "  File \"c:\\Users\\rosa-\\anaconda3\\envs\\xaifo\\lib\\pathlib.py\", line 1180, in mkdir\n",
      "    self.mkdir(mode, parents=False, exist_ok=exist_ok)\n",
      "  File \"c:\\Users\\rosa-\\anaconda3\\envs\\xaifo\\lib\\pathlib.py\", line 1175, in mkdir\n",
      "    self._accessor.mkdir(self, mode)\n",
      "FileNotFoundError: [WinError 206] The filename or extension is too long: 'c:\\\\Users\\\\rosa-\\\\Google Drive\\\\Msc_Bioinformatics\\\\thesis\\\\XAIFO-ThesisProject\\\\output\\\\optim_2023-05-16_14-20-46\\\\optim_15af7_00000_0_aggr=mean,dimensions_e2v=64,dropout=0.2000,epoch_e2v=5,epochs=150,hidden_dim=64,layers=2,lr=0.0216,num_walks=6_2023-05-16_14-20-46'\n",
      "2023-05-16 14:20:48,557\tWARNING util.py:244 -- The `start_trial` operation took 2.003 s, which may be a performance bottleneck.\n",
      "2023-05-16 14:20:51,520\tERROR ray_trial_executor.py:687 -- Trial optim_15af7_00001: Unexpected error starting runner.\n",
      "Traceback (most recent call last):\n",
      "  File \"c:\\Users\\rosa-\\anaconda3\\envs\\xaifo\\lib\\pathlib.py\", line 1175, in mkdir\n",
      "    self._accessor.mkdir(self, mode)\n",
      "FileNotFoundError: [WinError 206] The filename or extension is too long: 'c:\\\\Users\\\\rosa-\\\\Google Drive\\\\Msc_Bioinformatics\\\\thesis\\\\XAIFO-ThesisProject\\\\output\\\\optim_2023-05-16_14-20-46\\\\optim_15af7_00001_1_aggr=sum,dimensions_e2v=64,dropout=0,epoch_e2v=10,epochs=200,hidden_dim=64,layers=4,lr=0.0016,num_walks=6,outp_2023-05-16_14-20-51'\n",
      "\n",
      "During handling of the above exception, another exception occurred:\n",
      "\n",
      "Traceback (most recent call last):\n",
      "  File \"c:\\Users\\rosa-\\anaconda3\\envs\\xaifo\\lib\\site-packages\\ray\\tune\\execution\\ray_trial_executor.py\", line 680, in start_trial\n",
      "    return self._start_trial(trial)\n",
      "  File \"c:\\Users\\rosa-\\anaconda3\\envs\\xaifo\\lib\\site-packages\\ray\\tune\\execution\\ray_trial_executor.py\", line 521, in _start_trial\n",
      "    runner = self._setup_remote_runner(trial)\n",
      "  File \"c:\\Users\\rosa-\\anaconda3\\envs\\xaifo\\lib\\site-packages\\ray\\tune\\execution\\ray_trial_executor.py\", line 385, in _setup_remote_runner\n",
      "    trial.init_logdir()\n",
      "  File \"c:\\Users\\rosa-\\anaconda3\\envs\\xaifo\\lib\\site-packages\\ray\\tune\\experiment\\trial.py\", line 628, in init_logdir\n",
      "    logdir_path.mkdir(parents=True, exist_ok=True)\n",
      "  File \"c:\\Users\\rosa-\\anaconda3\\envs\\xaifo\\lib\\pathlib.py\", line 1180, in mkdir\n",
      "    self.mkdir(mode, parents=False, exist_ok=exist_ok)\n",
      "  File \"c:\\Users\\rosa-\\anaconda3\\envs\\xaifo\\lib\\pathlib.py\", line 1175, in mkdir\n",
      "    self._accessor.mkdir(self, mode)\n",
      "FileNotFoundError: [WinError 206] The filename or extension is too long: 'c:\\\\Users\\\\rosa-\\\\Google Drive\\\\Msc_Bioinformatics\\\\thesis\\\\XAIFO-ThesisProject\\\\output\\\\optim_2023-05-16_14-20-46\\\\optim_15af7_00001_1_aggr=sum,dimensions_e2v=64,dropout=0,epoch_e2v=10,epochs=200,hidden_dim=64,layers=4,lr=0.0016,num_walks=6,outp_2023-05-16_14-20-51'\n",
      "2023-05-16 14:20:53,523\tWARNING util.py:244 -- The `start_trial` operation took 2.005 s, which may be a performance bottleneck.\n",
      "2023-05-16 14:20:53,547\tERROR ray_trial_executor.py:687 -- Trial optim_15af7_00002: Unexpected error starting runner.\n",
      "Traceback (most recent call last):\n",
      "  File \"c:\\Users\\rosa-\\anaconda3\\envs\\xaifo\\lib\\pathlib.py\", line 1175, in mkdir\n",
      "    self._accessor.mkdir(self, mode)\n",
      "FileNotFoundError: [WinError 206] The filename or extension is too long: 'c:\\\\Users\\\\rosa-\\\\Google Drive\\\\Msc_Bioinformatics\\\\thesis\\\\XAIFO-ThesisProject\\\\output\\\\optim_2023-05-16_14-20-46\\\\optim_15af7_00002_2_aggr=mean,dimensions_e2v=32,dropout=0,epoch_e2v=10,epochs=150,hidden_dim=64,layers=2,lr=0.0003,num_walks=2,out_2023-05-16_14-20-53'\n",
      "\n",
      "During handling of the above exception, another exception occurred:\n",
      "\n",
      "Traceback (most recent call last):\n",
      "  File \"c:\\Users\\rosa-\\anaconda3\\envs\\xaifo\\lib\\site-packages\\ray\\tune\\execution\\ray_trial_executor.py\", line 680, in start_trial\n",
      "    return self._start_trial(trial)\n",
      "  File \"c:\\Users\\rosa-\\anaconda3\\envs\\xaifo\\lib\\site-packages\\ray\\tune\\execution\\ray_trial_executor.py\", line 521, in _start_trial\n",
      "    runner = self._setup_remote_runner(trial)\n",
      "  File \"c:\\Users\\rosa-\\anaconda3\\envs\\xaifo\\lib\\site-packages\\ray\\tune\\execution\\ray_trial_executor.py\", line 385, in _setup_remote_runner\n",
      "    trial.init_logdir()\n",
      "  File \"c:\\Users\\rosa-\\anaconda3\\envs\\xaifo\\lib\\site-packages\\ray\\tune\\experiment\\trial.py\", line 628, in init_logdir\n",
      "    logdir_path.mkdir(parents=True, exist_ok=True)\n",
      "  File \"c:\\Users\\rosa-\\anaconda3\\envs\\xaifo\\lib\\pathlib.py\", line 1180, in mkdir\n",
      "    self.mkdir(mode, parents=False, exist_ok=exist_ok)\n",
      "  File \"c:\\Users\\rosa-\\anaconda3\\envs\\xaifo\\lib\\pathlib.py\", line 1175, in mkdir\n",
      "    self._accessor.mkdir(self, mode)\n",
      "FileNotFoundError: [WinError 206] The filename or extension is too long: 'c:\\\\Users\\\\rosa-\\\\Google Drive\\\\Msc_Bioinformatics\\\\thesis\\\\XAIFO-ThesisProject\\\\output\\\\optim_2023-05-16_14-20-46\\\\optim_15af7_00002_2_aggr=mean,dimensions_e2v=32,dropout=0,epoch_e2v=10,epochs=150,hidden_dim=64,layers=2,lr=0.0003,num_walks=2,out_2023-05-16_14-20-53'\n",
      "2023-05-16 14:20:55,549\tWARNING util.py:244 -- The `start_trial` operation took 2.004 s, which may be a performance bottleneck.\n",
      "2023-05-16 14:20:55,574\tERROR ray_trial_executor.py:687 -- Trial optim_15af7_00003: Unexpected error starting runner.\n",
      "Traceback (most recent call last):\n",
      "  File \"c:\\Users\\rosa-\\anaconda3\\envs\\xaifo\\lib\\pathlib.py\", line 1175, in mkdir\n",
      "    self._accessor.mkdir(self, mode)\n",
      "FileNotFoundError: [WinError 206] The filename or extension is too long: 'c:\\\\Users\\\\rosa-\\\\Google Drive\\\\Msc_Bioinformatics\\\\thesis\\\\XAIFO-ThesisProject\\\\output\\\\optim_2023-05-16_14-20-46\\\\optim_15af7_00003_3_aggr=sum,dimensions_e2v=128,dropout=0.1000,epoch_e2v=5,epochs=200,hidden_dim=128,layers=4,lr=0.0003,num_walks=_2023-05-16_14-20-55'\n",
      "\n",
      "During handling of the above exception, another exception occurred:\n",
      "\n",
      "Traceback (most recent call last):\n",
      "  File \"c:\\Users\\rosa-\\anaconda3\\envs\\xaifo\\lib\\site-packages\\ray\\tune\\execution\\ray_trial_executor.py\", line 680, in start_trial\n",
      "    return self._start_trial(trial)\n",
      "  File \"c:\\Users\\rosa-\\anaconda3\\envs\\xaifo\\lib\\site-packages\\ray\\tune\\execution\\ray_trial_executor.py\", line 521, in _start_trial\n",
      "    runner = self._setup_remote_runner(trial)\n",
      "  File \"c:\\Users\\rosa-\\anaconda3\\envs\\xaifo\\lib\\site-packages\\ray\\tune\\execution\\ray_trial_executor.py\", line 385, in _setup_remote_runner\n",
      "    trial.init_logdir()\n",
      "  File \"c:\\Users\\rosa-\\anaconda3\\envs\\xaifo\\lib\\site-packages\\ray\\tune\\experiment\\trial.py\", line 628, in init_logdir\n",
      "    logdir_path.mkdir(parents=True, exist_ok=True)\n",
      "  File \"c:\\Users\\rosa-\\anaconda3\\envs\\xaifo\\lib\\pathlib.py\", line 1180, in mkdir\n",
      "    self.mkdir(mode, parents=False, exist_ok=exist_ok)\n",
      "  File \"c:\\Users\\rosa-\\anaconda3\\envs\\xaifo\\lib\\pathlib.py\", line 1175, in mkdir\n",
      "    self._accessor.mkdir(self, mode)\n",
      "FileNotFoundError: [WinError 206] The filename or extension is too long: 'c:\\\\Users\\\\rosa-\\\\Google Drive\\\\Msc_Bioinformatics\\\\thesis\\\\XAIFO-ThesisProject\\\\output\\\\optim_2023-05-16_14-20-46\\\\optim_15af7_00003_3_aggr=sum,dimensions_e2v=128,dropout=0.1000,epoch_e2v=5,epochs=200,hidden_dim=128,layers=4,lr=0.0003,num_walks=_2023-05-16_14-20-55'\n",
      "2023-05-16 14:20:57,632\tERROR ray_trial_executor.py:687 -- Trial optim_15af7_00004: Unexpected error starting runner.\n",
      "Traceback (most recent call last):\n",
      "  File \"c:\\Users\\rosa-\\anaconda3\\envs\\xaifo\\lib\\pathlib.py\", line 1175, in mkdir\n",
      "    self._accessor.mkdir(self, mode)\n",
      "FileNotFoundError: [WinError 206] The filename or extension is too long: 'c:\\\\Users\\\\rosa-\\\\Google Drive\\\\Msc_Bioinformatics\\\\thesis\\\\XAIFO-ThesisProject\\\\output\\\\optim_2023-05-16_14-20-46\\\\optim_15af7_00004_4_aggr=sum,dimensions_e2v=32,dropout=0.2000,epoch_e2v=5,epochs=200,hidden_dim=128,layers=4,lr=0.0002,num_walks=2_2023-05-16_14-20-57'\n",
      "\n",
      "During handling of the above exception, another exception occurred:\n",
      "\n",
      "Traceback (most recent call last):\n",
      "  File \"c:\\Users\\rosa-\\anaconda3\\envs\\xaifo\\lib\\site-packages\\ray\\tune\\execution\\ray_trial_executor.py\", line 680, in start_trial\n",
      "    return self._start_trial(trial)\n",
      "  File \"c:\\Users\\rosa-\\anaconda3\\envs\\xaifo\\lib\\site-packages\\ray\\tune\\execution\\ray_trial_executor.py\", line 521, in _start_trial\n",
      "    runner = self._setup_remote_runner(trial)\n",
      "  File \"c:\\Users\\rosa-\\anaconda3\\envs\\xaifo\\lib\\site-packages\\ray\\tune\\execution\\ray_trial_executor.py\", line 385, in _setup_remote_runner\n",
      "    trial.init_logdir()\n",
      "  File \"c:\\Users\\rosa-\\anaconda3\\envs\\xaifo\\lib\\site-packages\\ray\\tune\\experiment\\trial.py\", line 628, in init_logdir\n",
      "    logdir_path.mkdir(parents=True, exist_ok=True)\n",
      "  File \"c:\\Users\\rosa-\\anaconda3\\envs\\xaifo\\lib\\pathlib.py\", line 1180, in mkdir\n",
      "    self.mkdir(mode, parents=False, exist_ok=exist_ok)\n",
      "  File \"c:\\Users\\rosa-\\anaconda3\\envs\\xaifo\\lib\\pathlib.py\", line 1175, in mkdir\n",
      "    self._accessor.mkdir(self, mode)\n",
      "FileNotFoundError: [WinError 206] The filename or extension is too long: 'c:\\\\Users\\\\rosa-\\\\Google Drive\\\\Msc_Bioinformatics\\\\thesis\\\\XAIFO-ThesisProject\\\\output\\\\optim_2023-05-16_14-20-46\\\\optim_15af7_00004_4_aggr=sum,dimensions_e2v=32,dropout=0.2000,epoch_e2v=5,epochs=200,hidden_dim=128,layers=4,lr=0.0002,num_walks=2_2023-05-16_14-20-57'\n",
      "2023-05-16 14:20:59,635\tWARNING util.py:244 -- The `start_trial` operation took 2.004 s, which may be a performance bottleneck.\n",
      "2023-05-16 14:20:59,658\tERROR ray_trial_executor.py:687 -- Trial optim_15af7_00005: Unexpected error starting runner.\n",
      "Traceback (most recent call last):\n",
      "  File \"c:\\Users\\rosa-\\anaconda3\\envs\\xaifo\\lib\\pathlib.py\", line 1175, in mkdir\n",
      "    self._accessor.mkdir(self, mode)\n",
      "FileNotFoundError: [WinError 206] The filename or extension is too long: 'c:\\\\Users\\\\rosa-\\\\Google Drive\\\\Msc_Bioinformatics\\\\thesis\\\\XAIFO-ThesisProject\\\\output\\\\optim_2023-05-16_14-20-46\\\\optim_15af7_00005_5_aggr=sum,dimensions_e2v=64,dropout=0.2000,epoch_e2v=10,epochs=200,hidden_dim=128,layers=6,lr=0.0153,num_walks=_2023-05-16_14-20-59'\n",
      "\n",
      "During handling of the above exception, another exception occurred:\n",
      "\n",
      "Traceback (most recent call last):\n",
      "  File \"c:\\Users\\rosa-\\anaconda3\\envs\\xaifo\\lib\\site-packages\\ray\\tune\\execution\\ray_trial_executor.py\", line 680, in start_trial\n",
      "    return self._start_trial(trial)\n",
      "  File \"c:\\Users\\rosa-\\anaconda3\\envs\\xaifo\\lib\\site-packages\\ray\\tune\\execution\\ray_trial_executor.py\", line 521, in _start_trial\n",
      "    runner = self._setup_remote_runner(trial)\n",
      "  File \"c:\\Users\\rosa-\\anaconda3\\envs\\xaifo\\lib\\site-packages\\ray\\tune\\execution\\ray_trial_executor.py\", line 385, in _setup_remote_runner\n",
      "    trial.init_logdir()\n",
      "  File \"c:\\Users\\rosa-\\anaconda3\\envs\\xaifo\\lib\\site-packages\\ray\\tune\\experiment\\trial.py\", line 628, in init_logdir\n",
      "    logdir_path.mkdir(parents=True, exist_ok=True)\n",
      "  File \"c:\\Users\\rosa-\\anaconda3\\envs\\xaifo\\lib\\pathlib.py\", line 1180, in mkdir\n",
      "    self.mkdir(mode, parents=False, exist_ok=exist_ok)\n",
      "  File \"c:\\Users\\rosa-\\anaconda3\\envs\\xaifo\\lib\\pathlib.py\", line 1175, in mkdir\n",
      "    self._accessor.mkdir(self, mode)\n",
      "FileNotFoundError: [WinError 206] The filename or extension is too long: 'c:\\\\Users\\\\rosa-\\\\Google Drive\\\\Msc_Bioinformatics\\\\thesis\\\\XAIFO-ThesisProject\\\\output\\\\optim_2023-05-16_14-20-46\\\\optim_15af7_00005_5_aggr=sum,dimensions_e2v=64,dropout=0.2000,epoch_e2v=10,epochs=200,hidden_dim=128,layers=6,lr=0.0153,num_walks=_2023-05-16_14-20-59'\n",
      "2023-05-16 14:21:01,661\tWARNING util.py:244 -- The `start_trial` operation took 2.003 s, which may be a performance bottleneck.\n",
      "2023-05-16 14:21:01,687\tERROR ray_trial_executor.py:687 -- Trial optim_15af7_00006: Unexpected error starting runner.\n",
      "Traceback (most recent call last):\n",
      "  File \"c:\\Users\\rosa-\\anaconda3\\envs\\xaifo\\lib\\pathlib.py\", line 1175, in mkdir\n",
      "    self._accessor.mkdir(self, mode)\n",
      "FileNotFoundError: [WinError 206] The filename or extension is too long: 'c:\\\\Users\\\\rosa-\\\\Google Drive\\\\Msc_Bioinformatics\\\\thesis\\\\XAIFO-ThesisProject\\\\output\\\\optim_2023-05-16_14-20-46\\\\optim_15af7_00006_6_aggr=sum,dimensions_e2v=64,dropout=0.2000,epoch_e2v=10,epochs=200,hidden_dim=128,layers=2,lr=0.0158,num_walks=_2023-05-16_14-21-01'\n",
      "\n",
      "During handling of the above exception, another exception occurred:\n",
      "\n",
      "Traceback (most recent call last):\n",
      "  File \"c:\\Users\\rosa-\\anaconda3\\envs\\xaifo\\lib\\site-packages\\ray\\tune\\execution\\ray_trial_executor.py\", line 680, in start_trial\n",
      "    return self._start_trial(trial)\n",
      "  File \"c:\\Users\\rosa-\\anaconda3\\envs\\xaifo\\lib\\site-packages\\ray\\tune\\execution\\ray_trial_executor.py\", line 521, in _start_trial\n",
      "    runner = self._setup_remote_runner(trial)\n",
      "  File \"c:\\Users\\rosa-\\anaconda3\\envs\\xaifo\\lib\\site-packages\\ray\\tune\\execution\\ray_trial_executor.py\", line 385, in _setup_remote_runner\n",
      "    trial.init_logdir()\n",
      "  File \"c:\\Users\\rosa-\\anaconda3\\envs\\xaifo\\lib\\site-packages\\ray\\tune\\experiment\\trial.py\", line 628, in init_logdir\n",
      "    logdir_path.mkdir(parents=True, exist_ok=True)\n",
      "  File \"c:\\Users\\rosa-\\anaconda3\\envs\\xaifo\\lib\\pathlib.py\", line 1180, in mkdir\n",
      "    self.mkdir(mode, parents=False, exist_ok=exist_ok)\n",
      "  File \"c:\\Users\\rosa-\\anaconda3\\envs\\xaifo\\lib\\pathlib.py\", line 1175, in mkdir\n",
      "    self._accessor.mkdir(self, mode)\n",
      "FileNotFoundError: [WinError 206] The filename or extension is too long: 'c:\\\\Users\\\\rosa-\\\\Google Drive\\\\Msc_Bioinformatics\\\\thesis\\\\XAIFO-ThesisProject\\\\output\\\\optim_2023-05-16_14-20-46\\\\optim_15af7_00006_6_aggr=sum,dimensions_e2v=64,dropout=0.2000,epoch_e2v=10,epochs=200,hidden_dim=128,layers=2,lr=0.0158,num_walks=_2023-05-16_14-21-01'\n",
      "2023-05-16 14:21:03,722\tERROR ray_trial_executor.py:687 -- Trial optim_15af7_00007: Unexpected error starting runner.\n",
      "Traceback (most recent call last):\n",
      "  File \"c:\\Users\\rosa-\\anaconda3\\envs\\xaifo\\lib\\pathlib.py\", line 1175, in mkdir\n",
      "    self._accessor.mkdir(self, mode)\n",
      "FileNotFoundError: [WinError 206] The filename or extension is too long: 'c:\\\\Users\\\\rosa-\\\\Google Drive\\\\Msc_Bioinformatics\\\\thesis\\\\XAIFO-ThesisProject\\\\output\\\\optim_2023-05-16_14-20-46\\\\optim_15af7_00007_7_aggr=mean,dimensions_e2v=128,dropout=0,epoch_e2v=5,epochs=200,hidden_dim=64,layers=2,lr=0.0018,num_walks=6,out_2023-05-16_14-21-03'\n",
      "\n",
      "During handling of the above exception, another exception occurred:\n",
      "\n",
      "Traceback (most recent call last):\n",
      "  File \"c:\\Users\\rosa-\\anaconda3\\envs\\xaifo\\lib\\site-packages\\ray\\tune\\execution\\ray_trial_executor.py\", line 680, in start_trial\n",
      "    return self._start_trial(trial)\n",
      "  File \"c:\\Users\\rosa-\\anaconda3\\envs\\xaifo\\lib\\site-packages\\ray\\tune\\execution\\ray_trial_executor.py\", line 521, in _start_trial\n",
      "    runner = self._setup_remote_runner(trial)\n",
      "  File \"c:\\Users\\rosa-\\anaconda3\\envs\\xaifo\\lib\\site-packages\\ray\\tune\\execution\\ray_trial_executor.py\", line 385, in _setup_remote_runner\n",
      "    trial.init_logdir()\n",
      "  File \"c:\\Users\\rosa-\\anaconda3\\envs\\xaifo\\lib\\site-packages\\ray\\tune\\experiment\\trial.py\", line 628, in init_logdir\n",
      "    logdir_path.mkdir(parents=True, exist_ok=True)\n",
      "  File \"c:\\Users\\rosa-\\anaconda3\\envs\\xaifo\\lib\\pathlib.py\", line 1180, in mkdir\n",
      "    self.mkdir(mode, parents=False, exist_ok=exist_ok)\n",
      "  File \"c:\\Users\\rosa-\\anaconda3\\envs\\xaifo\\lib\\pathlib.py\", line 1175, in mkdir\n",
      "    self._accessor.mkdir(self, mode)\n",
      "FileNotFoundError: [WinError 206] The filename or extension is too long: 'c:\\\\Users\\\\rosa-\\\\Google Drive\\\\Msc_Bioinformatics\\\\thesis\\\\XAIFO-ThesisProject\\\\output\\\\optim_2023-05-16_14-20-46\\\\optim_15af7_00007_7_aggr=mean,dimensions_e2v=128,dropout=0,epoch_e2v=5,epochs=200,hidden_dim=64,layers=2,lr=0.0018,num_walks=6,out_2023-05-16_14-21-03'\n",
      "2023-05-16 14:21:05,725\tWARNING util.py:244 -- The `start_trial` operation took 2.004 s, which may be a performance bottleneck.\n",
      "2023-05-16 14:21:05,765\tERROR ray_trial_executor.py:687 -- Trial optim_15af7_00008: Unexpected error starting runner.\n",
      "Traceback (most recent call last):\n",
      "  File \"c:\\Users\\rosa-\\anaconda3\\envs\\xaifo\\lib\\pathlib.py\", line 1175, in mkdir\n",
      "    self._accessor.mkdir(self, mode)\n",
      "FileNotFoundError: [WinError 206] The filename or extension is too long: 'c:\\\\Users\\\\rosa-\\\\Google Drive\\\\Msc_Bioinformatics\\\\thesis\\\\XAIFO-ThesisProject\\\\output\\\\optim_2023-05-16_14-20-46\\\\optim_15af7_00008_8_aggr=sum,dimensions_e2v=32,dropout=0.1000,epoch_e2v=5,epochs=150,hidden_dim=128,layers=4,lr=0.0003,num_walks=2_2023-05-16_14-21-05'\n",
      "\n",
      "During handling of the above exception, another exception occurred:\n",
      "\n",
      "Traceback (most recent call last):\n",
      "  File \"c:\\Users\\rosa-\\anaconda3\\envs\\xaifo\\lib\\site-packages\\ray\\tune\\execution\\ray_trial_executor.py\", line 680, in start_trial\n",
      "    return self._start_trial(trial)\n",
      "  File \"c:\\Users\\rosa-\\anaconda3\\envs\\xaifo\\lib\\site-packages\\ray\\tune\\execution\\ray_trial_executor.py\", line 521, in _start_trial\n",
      "    runner = self._setup_remote_runner(trial)\n",
      "  File \"c:\\Users\\rosa-\\anaconda3\\envs\\xaifo\\lib\\site-packages\\ray\\tune\\execution\\ray_trial_executor.py\", line 385, in _setup_remote_runner\n",
      "    trial.init_logdir()\n",
      "  File \"c:\\Users\\rosa-\\anaconda3\\envs\\xaifo\\lib\\site-packages\\ray\\tune\\experiment\\trial.py\", line 628, in init_logdir\n",
      "    logdir_path.mkdir(parents=True, exist_ok=True)\n",
      "  File \"c:\\Users\\rosa-\\anaconda3\\envs\\xaifo\\lib\\pathlib.py\", line 1180, in mkdir\n",
      "    self.mkdir(mode, parents=False, exist_ok=exist_ok)\n",
      "  File \"c:\\Users\\rosa-\\anaconda3\\envs\\xaifo\\lib\\pathlib.py\", line 1175, in mkdir\n",
      "    self._accessor.mkdir(self, mode)\n",
      "FileNotFoundError: [WinError 206] The filename or extension is too long: 'c:\\\\Users\\\\rosa-\\\\Google Drive\\\\Msc_Bioinformatics\\\\thesis\\\\XAIFO-ThesisProject\\\\output\\\\optim_2023-05-16_14-20-46\\\\optim_15af7_00008_8_aggr=sum,dimensions_e2v=32,dropout=0.1000,epoch_e2v=5,epochs=150,hidden_dim=128,layers=4,lr=0.0003,num_walks=2_2023-05-16_14-21-05'\n",
      "2023-05-16 14:21:07,769\tWARNING util.py:244 -- The `start_trial` operation took 2.004 s, which may be a performance bottleneck.\n",
      "2023-05-16 14:21:07,793\tERROR ray_trial_executor.py:687 -- Trial optim_15af7_00009: Unexpected error starting runner.\n",
      "Traceback (most recent call last):\n",
      "  File \"c:\\Users\\rosa-\\anaconda3\\envs\\xaifo\\lib\\pathlib.py\", line 1175, in mkdir\n",
      "    self._accessor.mkdir(self, mode)\n",
      "FileNotFoundError: [WinError 206] The filename or extension is too long: 'c:\\\\Users\\\\rosa-\\\\Google Drive\\\\Msc_Bioinformatics\\\\thesis\\\\XAIFO-ThesisProject\\\\output\\\\optim_2023-05-16_14-20-46\\\\optim_15af7_00009_9_aggr=mean,dimensions_e2v=64,dropout=0.2000,epoch_e2v=10,epochs=100,hidden_dim=128,layers=4,lr=0.0024,num_walks_2023-05-16_14-21-07'\n",
      "\n",
      "During handling of the above exception, another exception occurred:\n",
      "\n",
      "Traceback (most recent call last):\n",
      "  File \"c:\\Users\\rosa-\\anaconda3\\envs\\xaifo\\lib\\site-packages\\ray\\tune\\execution\\ray_trial_executor.py\", line 680, in start_trial\n",
      "    return self._start_trial(trial)\n",
      "  File \"c:\\Users\\rosa-\\anaconda3\\envs\\xaifo\\lib\\site-packages\\ray\\tune\\execution\\ray_trial_executor.py\", line 521, in _start_trial\n",
      "    runner = self._setup_remote_runner(trial)\n",
      "  File \"c:\\Users\\rosa-\\anaconda3\\envs\\xaifo\\lib\\site-packages\\ray\\tune\\execution\\ray_trial_executor.py\", line 385, in _setup_remote_runner\n",
      "    trial.init_logdir()\n",
      "  File \"c:\\Users\\rosa-\\anaconda3\\envs\\xaifo\\lib\\site-packages\\ray\\tune\\experiment\\trial.py\", line 628, in init_logdir\n",
      "    logdir_path.mkdir(parents=True, exist_ok=True)\n",
      "  File \"c:\\Users\\rosa-\\anaconda3\\envs\\xaifo\\lib\\pathlib.py\", line 1180, in mkdir\n",
      "    self.mkdir(mode, parents=False, exist_ok=exist_ok)\n",
      "  File \"c:\\Users\\rosa-\\anaconda3\\envs\\xaifo\\lib\\pathlib.py\", line 1175, in mkdir\n",
      "    self._accessor.mkdir(self, mode)\n",
      "FileNotFoundError: [WinError 206] The filename or extension is too long: 'c:\\\\Users\\\\rosa-\\\\Google Drive\\\\Msc_Bioinformatics\\\\thesis\\\\XAIFO-ThesisProject\\\\output\\\\optim_2023-05-16_14-20-46\\\\optim_15af7_00009_9_aggr=mean,dimensions_e2v=64,dropout=0.2000,epoch_e2v=10,epochs=100,hidden_dim=128,layers=4,lr=0.0024,num_walks_2023-05-16_14-21-07'\n",
      "2023-05-16 14:21:09,833\tERROR ray_trial_executor.py:687 -- Trial optim_15af7_00010: Unexpected error starting runner.\n",
      "Traceback (most recent call last):\n",
      "  File \"c:\\Users\\rosa-\\anaconda3\\envs\\xaifo\\lib\\pathlib.py\", line 1175, in mkdir\n",
      "    self._accessor.mkdir(self, mode)\n",
      "FileNotFoundError: [WinError 206] The filename or extension is too long: 'c:\\\\Users\\\\rosa-\\\\Google Drive\\\\Msc_Bioinformatics\\\\thesis\\\\XAIFO-ThesisProject\\\\output\\\\optim_2023-05-16_14-20-46\\\\optim_15af7_00010_10_aggr=mean,dimensions_e2v=128,dropout=0,epoch_e2v=5,epochs=100,hidden_dim=256,layers=2,lr=0.0001,num_walks=6,o_2023-05-16_14-21-09'\n",
      "\n",
      "During handling of the above exception, another exception occurred:\n",
      "\n",
      "Traceback (most recent call last):\n",
      "  File \"c:\\Users\\rosa-\\anaconda3\\envs\\xaifo\\lib\\site-packages\\ray\\tune\\execution\\ray_trial_executor.py\", line 680, in start_trial\n",
      "    return self._start_trial(trial)\n",
      "  File \"c:\\Users\\rosa-\\anaconda3\\envs\\xaifo\\lib\\site-packages\\ray\\tune\\execution\\ray_trial_executor.py\", line 521, in _start_trial\n",
      "    runner = self._setup_remote_runner(trial)\n",
      "  File \"c:\\Users\\rosa-\\anaconda3\\envs\\xaifo\\lib\\site-packages\\ray\\tune\\execution\\ray_trial_executor.py\", line 385, in _setup_remote_runner\n",
      "    trial.init_logdir()\n",
      "  File \"c:\\Users\\rosa-\\anaconda3\\envs\\xaifo\\lib\\site-packages\\ray\\tune\\experiment\\trial.py\", line 628, in init_logdir\n",
      "    logdir_path.mkdir(parents=True, exist_ok=True)\n",
      "  File \"c:\\Users\\rosa-\\anaconda3\\envs\\xaifo\\lib\\pathlib.py\", line 1180, in mkdir\n",
      "    self.mkdir(mode, parents=False, exist_ok=exist_ok)\n",
      "  File \"c:\\Users\\rosa-\\anaconda3\\envs\\xaifo\\lib\\pathlib.py\", line 1175, in mkdir\n",
      "    self._accessor.mkdir(self, mode)\n",
      "FileNotFoundError: [WinError 206] The filename or extension is too long: 'c:\\\\Users\\\\rosa-\\\\Google Drive\\\\Msc_Bioinformatics\\\\thesis\\\\XAIFO-ThesisProject\\\\output\\\\optim_2023-05-16_14-20-46\\\\optim_15af7_00010_10_aggr=mean,dimensions_e2v=128,dropout=0,epoch_e2v=5,epochs=100,hidden_dim=256,layers=2,lr=0.0001,num_walks=6,o_2023-05-16_14-21-09'\n",
      "2023-05-16 14:21:11,837\tWARNING util.py:244 -- The `start_trial` operation took 2.004 s, which may be a performance bottleneck.\n",
      "2023-05-16 14:21:11,869\tERROR ray_trial_executor.py:687 -- Trial optim_15af7_00011: Unexpected error starting runner.\n",
      "Traceback (most recent call last):\n",
      "  File \"c:\\Users\\rosa-\\anaconda3\\envs\\xaifo\\lib\\pathlib.py\", line 1175, in mkdir\n",
      "    self._accessor.mkdir(self, mode)\n",
      "FileNotFoundError: [WinError 206] The filename or extension is too long: 'c:\\\\Users\\\\rosa-\\\\Google Drive\\\\Msc_Bioinformatics\\\\thesis\\\\XAIFO-ThesisProject\\\\output\\\\optim_2023-05-16_14-20-46\\\\optim_15af7_00011_11_aggr=sum,dimensions_e2v=32,dropout=0.1000,epoch_e2v=5,epochs=200,hidden_dim=256,layers=6,lr=0.0020,num_walks=_2023-05-16_14-21-11'\n",
      "\n",
      "During handling of the above exception, another exception occurred:\n",
      "\n",
      "Traceback (most recent call last):\n",
      "  File \"c:\\Users\\rosa-\\anaconda3\\envs\\xaifo\\lib\\site-packages\\ray\\tune\\execution\\ray_trial_executor.py\", line 680, in start_trial\n",
      "    return self._start_trial(trial)\n",
      "  File \"c:\\Users\\rosa-\\anaconda3\\envs\\xaifo\\lib\\site-packages\\ray\\tune\\execution\\ray_trial_executor.py\", line 521, in _start_trial\n",
      "    runner = self._setup_remote_runner(trial)\n",
      "  File \"c:\\Users\\rosa-\\anaconda3\\envs\\xaifo\\lib\\site-packages\\ray\\tune\\execution\\ray_trial_executor.py\", line 385, in _setup_remote_runner\n",
      "    trial.init_logdir()\n",
      "  File \"c:\\Users\\rosa-\\anaconda3\\envs\\xaifo\\lib\\site-packages\\ray\\tune\\experiment\\trial.py\", line 628, in init_logdir\n",
      "    logdir_path.mkdir(parents=True, exist_ok=True)\n",
      "  File \"c:\\Users\\rosa-\\anaconda3\\envs\\xaifo\\lib\\pathlib.py\", line 1180, in mkdir\n",
      "    self.mkdir(mode, parents=False, exist_ok=exist_ok)\n",
      "  File \"c:\\Users\\rosa-\\anaconda3\\envs\\xaifo\\lib\\pathlib.py\", line 1175, in mkdir\n",
      "    self._accessor.mkdir(self, mode)\n",
      "FileNotFoundError: [WinError 206] The filename or extension is too long: 'c:\\\\Users\\\\rosa-\\\\Google Drive\\\\Msc_Bioinformatics\\\\thesis\\\\XAIFO-ThesisProject\\\\output\\\\optim_2023-05-16_14-20-46\\\\optim_15af7_00011_11_aggr=sum,dimensions_e2v=32,dropout=0.1000,epoch_e2v=5,epochs=200,hidden_dim=256,layers=6,lr=0.0020,num_walks=_2023-05-16_14-21-11'\n",
      "2023-05-16 14:21:13,873\tWARNING util.py:244 -- The `start_trial` operation took 2.003 s, which may be a performance bottleneck.\n",
      "2023-05-16 14:21:13,911\tERROR ray_trial_executor.py:687 -- Trial optim_15af7_00012: Unexpected error starting runner.\n",
      "Traceback (most recent call last):\n",
      "  File \"c:\\Users\\rosa-\\anaconda3\\envs\\xaifo\\lib\\pathlib.py\", line 1175, in mkdir\n",
      "    self._accessor.mkdir(self, mode)\n",
      "FileNotFoundError: [WinError 206] The filename or extension is too long: 'c:\\\\Users\\\\rosa-\\\\Google Drive\\\\Msc_Bioinformatics\\\\thesis\\\\XAIFO-ThesisProject\\\\output\\\\optim_2023-05-16_14-20-46\\\\optim_15af7_00012_12_aggr=sum,dimensions_e2v=128,dropout=0.2000,epoch_e2v=10,epochs=100,hidden_dim=128,layers=6,lr=0.0023,num_walk_2023-05-16_14-21-13'\n",
      "\n",
      "During handling of the above exception, another exception occurred:\n",
      "\n",
      "Traceback (most recent call last):\n",
      "  File \"c:\\Users\\rosa-\\anaconda3\\envs\\xaifo\\lib\\site-packages\\ray\\tune\\execution\\ray_trial_executor.py\", line 680, in start_trial\n",
      "    return self._start_trial(trial)\n",
      "  File \"c:\\Users\\rosa-\\anaconda3\\envs\\xaifo\\lib\\site-packages\\ray\\tune\\execution\\ray_trial_executor.py\", line 521, in _start_trial\n",
      "    runner = self._setup_remote_runner(trial)\n",
      "  File \"c:\\Users\\rosa-\\anaconda3\\envs\\xaifo\\lib\\site-packages\\ray\\tune\\execution\\ray_trial_executor.py\", line 385, in _setup_remote_runner\n",
      "    trial.init_logdir()\n",
      "  File \"c:\\Users\\rosa-\\anaconda3\\envs\\xaifo\\lib\\site-packages\\ray\\tune\\experiment\\trial.py\", line 628, in init_logdir\n",
      "    logdir_path.mkdir(parents=True, exist_ok=True)\n",
      "  File \"c:\\Users\\rosa-\\anaconda3\\envs\\xaifo\\lib\\pathlib.py\", line 1180, in mkdir\n",
      "    self.mkdir(mode, parents=False, exist_ok=exist_ok)\n",
      "  File \"c:\\Users\\rosa-\\anaconda3\\envs\\xaifo\\lib\\pathlib.py\", line 1175, in mkdir\n",
      "    self._accessor.mkdir(self, mode)\n",
      "FileNotFoundError: [WinError 206] The filename or extension is too long: 'c:\\\\Users\\\\rosa-\\\\Google Drive\\\\Msc_Bioinformatics\\\\thesis\\\\XAIFO-ThesisProject\\\\output\\\\optim_2023-05-16_14-20-46\\\\optim_15af7_00012_12_aggr=sum,dimensions_e2v=128,dropout=0.2000,epoch_e2v=10,epochs=100,hidden_dim=128,layers=6,lr=0.0023,num_walk_2023-05-16_14-21-13'\n",
      "2023-05-16 14:21:15,945\tERROR ray_trial_executor.py:687 -- Trial optim_15af7_00013: Unexpected error starting runner.\n",
      "Traceback (most recent call last):\n",
      "  File \"c:\\Users\\rosa-\\anaconda3\\envs\\xaifo\\lib\\pathlib.py\", line 1175, in mkdir\n",
      "    self._accessor.mkdir(self, mode)\n",
      "FileNotFoundError: [WinError 206] The filename or extension is too long: 'c:\\\\Users\\\\rosa-\\\\Google Drive\\\\Msc_Bioinformatics\\\\thesis\\\\XAIFO-ThesisProject\\\\output\\\\optim_2023-05-16_14-20-46\\\\optim_15af7_00013_13_aggr=mean,dimensions_e2v=128,dropout=0.1000,epoch_e2v=5,epochs=150,hidden_dim=256,layers=2,lr=0.0001,num_walk_2023-05-16_14-21-15'\n",
      "\n",
      "During handling of the above exception, another exception occurred:\n",
      "\n",
      "Traceback (most recent call last):\n",
      "  File \"c:\\Users\\rosa-\\anaconda3\\envs\\xaifo\\lib\\site-packages\\ray\\tune\\execution\\ray_trial_executor.py\", line 680, in start_trial\n",
      "    return self._start_trial(trial)\n",
      "  File \"c:\\Users\\rosa-\\anaconda3\\envs\\xaifo\\lib\\site-packages\\ray\\tune\\execution\\ray_trial_executor.py\", line 521, in _start_trial\n",
      "    runner = self._setup_remote_runner(trial)\n",
      "  File \"c:\\Users\\rosa-\\anaconda3\\envs\\xaifo\\lib\\site-packages\\ray\\tune\\execution\\ray_trial_executor.py\", line 385, in _setup_remote_runner\n",
      "    trial.init_logdir()\n",
      "  File \"c:\\Users\\rosa-\\anaconda3\\envs\\xaifo\\lib\\site-packages\\ray\\tune\\experiment\\trial.py\", line 628, in init_logdir\n",
      "    logdir_path.mkdir(parents=True, exist_ok=True)\n",
      "  File \"c:\\Users\\rosa-\\anaconda3\\envs\\xaifo\\lib\\pathlib.py\", line 1180, in mkdir\n",
      "    self.mkdir(mode, parents=False, exist_ok=exist_ok)\n",
      "  File \"c:\\Users\\rosa-\\anaconda3\\envs\\xaifo\\lib\\pathlib.py\", line 1175, in mkdir\n",
      "    self._accessor.mkdir(self, mode)\n",
      "FileNotFoundError: [WinError 206] The filename or extension is too long: 'c:\\\\Users\\\\rosa-\\\\Google Drive\\\\Msc_Bioinformatics\\\\thesis\\\\XAIFO-ThesisProject\\\\output\\\\optim_2023-05-16_14-20-46\\\\optim_15af7_00013_13_aggr=mean,dimensions_e2v=128,dropout=0.1000,epoch_e2v=5,epochs=150,hidden_dim=256,layers=2,lr=0.0001,num_walk_2023-05-16_14-21-15'\n",
      "2023-05-16 14:21:17,948\tWARNING util.py:244 -- The `start_trial` operation took 2.004 s, which may be a performance bottleneck.\n",
      "2023-05-16 14:21:17,951\tERROR ray_trial_executor.py:687 -- Trial optim_15af7_00014: Unexpected error starting runner.\n",
      "Traceback (most recent call last):\n",
      "  File \"c:\\Users\\rosa-\\anaconda3\\envs\\xaifo\\lib\\pathlib.py\", line 1175, in mkdir\n",
      "    self._accessor.mkdir(self, mode)\n",
      "FileNotFoundError: [WinError 206] The filename or extension is too long: 'c:\\\\Users\\\\rosa-\\\\Google Drive\\\\Msc_Bioinformatics\\\\thesis\\\\XAIFO-ThesisProject\\\\output\\\\optim_2023-05-16_14-20-46\\\\optim_15af7_00014_14_aggr=mean,dimensions_e2v=128,dropout=0,epoch_e2v=5,epochs=150,hidden_dim=256,layers=2,lr=0.0279,num_walks=2,o_2023-05-16_14-21-17'\n",
      "\n",
      "During handling of the above exception, another exception occurred:\n",
      "\n",
      "Traceback (most recent call last):\n",
      "  File \"c:\\Users\\rosa-\\anaconda3\\envs\\xaifo\\lib\\site-packages\\ray\\tune\\execution\\ray_trial_executor.py\", line 680, in start_trial\n",
      "    return self._start_trial(trial)\n",
      "  File \"c:\\Users\\rosa-\\anaconda3\\envs\\xaifo\\lib\\site-packages\\ray\\tune\\execution\\ray_trial_executor.py\", line 521, in _start_trial\n",
      "    runner = self._setup_remote_runner(trial)\n",
      "  File \"c:\\Users\\rosa-\\anaconda3\\envs\\xaifo\\lib\\site-packages\\ray\\tune\\execution\\ray_trial_executor.py\", line 385, in _setup_remote_runner\n",
      "    trial.init_logdir()\n",
      "  File \"c:\\Users\\rosa-\\anaconda3\\envs\\xaifo\\lib\\site-packages\\ray\\tune\\experiment\\trial.py\", line 628, in init_logdir\n",
      "    logdir_path.mkdir(parents=True, exist_ok=True)\n",
      "  File \"c:\\Users\\rosa-\\anaconda3\\envs\\xaifo\\lib\\pathlib.py\", line 1180, in mkdir\n",
      "    self.mkdir(mode, parents=False, exist_ok=exist_ok)\n",
      "  File \"c:\\Users\\rosa-\\anaconda3\\envs\\xaifo\\lib\\pathlib.py\", line 1175, in mkdir\n",
      "    self._accessor.mkdir(self, mode)\n",
      "FileNotFoundError: [WinError 206] The filename or extension is too long: 'c:\\\\Users\\\\rosa-\\\\Google Drive\\\\Msc_Bioinformatics\\\\thesis\\\\XAIFO-ThesisProject\\\\output\\\\optim_2023-05-16_14-20-46\\\\optim_15af7_00014_14_aggr=mean,dimensions_e2v=128,dropout=0,epoch_e2v=5,epochs=150,hidden_dim=256,layers=2,lr=0.0279,num_walks=2,o_2023-05-16_14-21-17'\n",
      "2023-05-16 14:21:19,955\tWARNING util.py:244 -- The `start_trial` operation took 2.004 s, which may be a performance bottleneck.\n",
      "2023-05-16 14:21:19,957\tERROR ray_trial_executor.py:687 -- Trial optim_15af7_00015: Unexpected error starting runner.\n",
      "Traceback (most recent call last):\n",
      "  File \"c:\\Users\\rosa-\\anaconda3\\envs\\xaifo\\lib\\pathlib.py\", line 1175, in mkdir\n",
      "    self._accessor.mkdir(self, mode)\n",
      "FileNotFoundError: [WinError 206] The filename or extension is too long: 'c:\\\\Users\\\\rosa-\\\\Google Drive\\\\Msc_Bioinformatics\\\\thesis\\\\XAIFO-ThesisProject\\\\output\\\\optim_2023-05-16_14-20-46\\\\optim_15af7_00015_15_aggr=mean,dimensions_e2v=32,dropout=0.2000,epoch_e2v=5,epochs=200,hidden_dim=128,layers=6,lr=0.0003,num_walks_2023-05-16_14-21-19'\n",
      "\n",
      "During handling of the above exception, another exception occurred:\n",
      "\n",
      "Traceback (most recent call last):\n",
      "  File \"c:\\Users\\rosa-\\anaconda3\\envs\\xaifo\\lib\\site-packages\\ray\\tune\\execution\\ray_trial_executor.py\", line 680, in start_trial\n",
      "    return self._start_trial(trial)\n",
      "  File \"c:\\Users\\rosa-\\anaconda3\\envs\\xaifo\\lib\\site-packages\\ray\\tune\\execution\\ray_trial_executor.py\", line 521, in _start_trial\n",
      "    runner = self._setup_remote_runner(trial)\n",
      "  File \"c:\\Users\\rosa-\\anaconda3\\envs\\xaifo\\lib\\site-packages\\ray\\tune\\execution\\ray_trial_executor.py\", line 385, in _setup_remote_runner\n",
      "    trial.init_logdir()\n",
      "  File \"c:\\Users\\rosa-\\anaconda3\\envs\\xaifo\\lib\\site-packages\\ray\\tune\\experiment\\trial.py\", line 628, in init_logdir\n",
      "    logdir_path.mkdir(parents=True, exist_ok=True)\n",
      "  File \"c:\\Users\\rosa-\\anaconda3\\envs\\xaifo\\lib\\pathlib.py\", line 1180, in mkdir\n",
      "    self.mkdir(mode, parents=False, exist_ok=exist_ok)\n",
      "  File \"c:\\Users\\rosa-\\anaconda3\\envs\\xaifo\\lib\\pathlib.py\", line 1175, in mkdir\n",
      "    self._accessor.mkdir(self, mode)\n",
      "FileNotFoundError: [WinError 206] The filename or extension is too long: 'c:\\\\Users\\\\rosa-\\\\Google Drive\\\\Msc_Bioinformatics\\\\thesis\\\\XAIFO-ThesisProject\\\\output\\\\optim_2023-05-16_14-20-46\\\\optim_15af7_00015_15_aggr=mean,dimensions_e2v=32,dropout=0.2000,epoch_e2v=5,epochs=200,hidden_dim=128,layers=6,lr=0.0003,num_walks_2023-05-16_14-21-19'\n",
      "2023-05-16 14:21:21,972\tERROR ray_trial_executor.py:687 -- Trial optim_15af7_00016: Unexpected error starting runner.\n",
      "Traceback (most recent call last):\n",
      "  File \"c:\\Users\\rosa-\\anaconda3\\envs\\xaifo\\lib\\pathlib.py\", line 1175, in mkdir\n",
      "    self._accessor.mkdir(self, mode)\n",
      "FileNotFoundError: [WinError 206] The filename or extension is too long: 'c:\\\\Users\\\\rosa-\\\\Google Drive\\\\Msc_Bioinformatics\\\\thesis\\\\XAIFO-ThesisProject\\\\output\\\\optim_2023-05-16_14-20-46\\\\optim_15af7_00016_16_aggr=sum,dimensions_e2v=64,dropout=0.2000,epoch_e2v=5,epochs=200,hidden_dim=64,layers=4,lr=0.0015,num_walks=6_2023-05-16_14-21-21'\n",
      "\n",
      "During handling of the above exception, another exception occurred:\n",
      "\n",
      "Traceback (most recent call last):\n",
      "  File \"c:\\Users\\rosa-\\anaconda3\\envs\\xaifo\\lib\\site-packages\\ray\\tune\\execution\\ray_trial_executor.py\", line 680, in start_trial\n",
      "    return self._start_trial(trial)\n",
      "  File \"c:\\Users\\rosa-\\anaconda3\\envs\\xaifo\\lib\\site-packages\\ray\\tune\\execution\\ray_trial_executor.py\", line 521, in _start_trial\n",
      "    runner = self._setup_remote_runner(trial)\n",
      "  File \"c:\\Users\\rosa-\\anaconda3\\envs\\xaifo\\lib\\site-packages\\ray\\tune\\execution\\ray_trial_executor.py\", line 385, in _setup_remote_runner\n",
      "    trial.init_logdir()\n",
      "  File \"c:\\Users\\rosa-\\anaconda3\\envs\\xaifo\\lib\\site-packages\\ray\\tune\\experiment\\trial.py\", line 628, in init_logdir\n",
      "    logdir_path.mkdir(parents=True, exist_ok=True)\n",
      "  File \"c:\\Users\\rosa-\\anaconda3\\envs\\xaifo\\lib\\pathlib.py\", line 1180, in mkdir\n",
      "    self.mkdir(mode, parents=False, exist_ok=exist_ok)\n",
      "  File \"c:\\Users\\rosa-\\anaconda3\\envs\\xaifo\\lib\\pathlib.py\", line 1175, in mkdir\n",
      "    self._accessor.mkdir(self, mode)\n",
      "FileNotFoundError: [WinError 206] The filename or extension is too long: 'c:\\\\Users\\\\rosa-\\\\Google Drive\\\\Msc_Bioinformatics\\\\thesis\\\\XAIFO-ThesisProject\\\\output\\\\optim_2023-05-16_14-20-46\\\\optim_15af7_00016_16_aggr=sum,dimensions_e2v=64,dropout=0.2000,epoch_e2v=5,epochs=200,hidden_dim=64,layers=4,lr=0.0015,num_walks=6_2023-05-16_14-21-21'\n",
      "2023-05-16 14:21:23,976\tWARNING util.py:244 -- The `start_trial` operation took 2.004 s, which may be a performance bottleneck.\n",
      "2023-05-16 14:21:23,978\tERROR ray_trial_executor.py:687 -- Trial optim_15af7_00017: Unexpected error starting runner.\n",
      "Traceback (most recent call last):\n",
      "  File \"c:\\Users\\rosa-\\anaconda3\\envs\\xaifo\\lib\\pathlib.py\", line 1175, in mkdir\n",
      "    self._accessor.mkdir(self, mode)\n",
      "FileNotFoundError: [WinError 206] The filename or extension is too long: 'c:\\\\Users\\\\rosa-\\\\Google Drive\\\\Msc_Bioinformatics\\\\thesis\\\\XAIFO-ThesisProject\\\\output\\\\optim_2023-05-16_14-20-46\\\\optim_15af7_00017_17_aggr=sum,dimensions_e2v=32,dropout=0.2000,epoch_e2v=10,epochs=100,hidden_dim=256,layers=6,lr=0.0176,num_walks_2023-05-16_14-21-23'\n",
      "\n",
      "During handling of the above exception, another exception occurred:\n",
      "\n",
      "Traceback (most recent call last):\n",
      "  File \"c:\\Users\\rosa-\\anaconda3\\envs\\xaifo\\lib\\site-packages\\ray\\tune\\execution\\ray_trial_executor.py\", line 680, in start_trial\n",
      "    return self._start_trial(trial)\n",
      "  File \"c:\\Users\\rosa-\\anaconda3\\envs\\xaifo\\lib\\site-packages\\ray\\tune\\execution\\ray_trial_executor.py\", line 521, in _start_trial\n",
      "    runner = self._setup_remote_runner(trial)\n",
      "  File \"c:\\Users\\rosa-\\anaconda3\\envs\\xaifo\\lib\\site-packages\\ray\\tune\\execution\\ray_trial_executor.py\", line 385, in _setup_remote_runner\n",
      "    trial.init_logdir()\n",
      "  File \"c:\\Users\\rosa-\\anaconda3\\envs\\xaifo\\lib\\site-packages\\ray\\tune\\experiment\\trial.py\", line 628, in init_logdir\n",
      "    logdir_path.mkdir(parents=True, exist_ok=True)\n",
      "  File \"c:\\Users\\rosa-\\anaconda3\\envs\\xaifo\\lib\\pathlib.py\", line 1180, in mkdir\n",
      "    self.mkdir(mode, parents=False, exist_ok=exist_ok)\n",
      "  File \"c:\\Users\\rosa-\\anaconda3\\envs\\xaifo\\lib\\pathlib.py\", line 1175, in mkdir\n",
      "    self._accessor.mkdir(self, mode)\n",
      "FileNotFoundError: [WinError 206] The filename or extension is too long: 'c:\\\\Users\\\\rosa-\\\\Google Drive\\\\Msc_Bioinformatics\\\\thesis\\\\XAIFO-ThesisProject\\\\output\\\\optim_2023-05-16_14-20-46\\\\optim_15af7_00017_17_aggr=sum,dimensions_e2v=32,dropout=0.2000,epoch_e2v=10,epochs=100,hidden_dim=256,layers=6,lr=0.0176,num_walks_2023-05-16_14-21-23'\n",
      "2023-05-16 14:21:25,980\tWARNING util.py:244 -- The `start_trial` operation took 2.003 s, which may be a performance bottleneck.\n",
      "2023-05-16 14:21:25,984\tERROR ray_trial_executor.py:687 -- Trial optim_15af7_00018: Unexpected error starting runner.\n",
      "Traceback (most recent call last):\n",
      "  File \"c:\\Users\\rosa-\\anaconda3\\envs\\xaifo\\lib\\pathlib.py\", line 1175, in mkdir\n",
      "    self._accessor.mkdir(self, mode)\n",
      "FileNotFoundError: [WinError 206] The filename or extension is too long: 'c:\\\\Users\\\\rosa-\\\\Google Drive\\\\Msc_Bioinformatics\\\\thesis\\\\XAIFO-ThesisProject\\\\output\\\\optim_2023-05-16_14-20-46\\\\optim_15af7_00018_18_aggr=mean,dimensions_e2v=128,dropout=0.2000,epoch_e2v=5,epochs=100,hidden_dim=64,layers=6,lr=0.0143,num_walks_2023-05-16_14-21-25'\n",
      "\n",
      "During handling of the above exception, another exception occurred:\n",
      "\n",
      "Traceback (most recent call last):\n",
      "  File \"c:\\Users\\rosa-\\anaconda3\\envs\\xaifo\\lib\\site-packages\\ray\\tune\\execution\\ray_trial_executor.py\", line 680, in start_trial\n",
      "    return self._start_trial(trial)\n",
      "  File \"c:\\Users\\rosa-\\anaconda3\\envs\\xaifo\\lib\\site-packages\\ray\\tune\\execution\\ray_trial_executor.py\", line 521, in _start_trial\n",
      "    runner = self._setup_remote_runner(trial)\n",
      "  File \"c:\\Users\\rosa-\\anaconda3\\envs\\xaifo\\lib\\site-packages\\ray\\tune\\execution\\ray_trial_executor.py\", line 385, in _setup_remote_runner\n",
      "    trial.init_logdir()\n",
      "  File \"c:\\Users\\rosa-\\anaconda3\\envs\\xaifo\\lib\\site-packages\\ray\\tune\\experiment\\trial.py\", line 628, in init_logdir\n",
      "    logdir_path.mkdir(parents=True, exist_ok=True)\n",
      "  File \"c:\\Users\\rosa-\\anaconda3\\envs\\xaifo\\lib\\pathlib.py\", line 1180, in mkdir\n",
      "    self.mkdir(mode, parents=False, exist_ok=exist_ok)\n",
      "  File \"c:\\Users\\rosa-\\anaconda3\\envs\\xaifo\\lib\\pathlib.py\", line 1175, in mkdir\n",
      "    self._accessor.mkdir(self, mode)\n",
      "FileNotFoundError: [WinError 206] The filename or extension is too long: 'c:\\\\Users\\\\rosa-\\\\Google Drive\\\\Msc_Bioinformatics\\\\thesis\\\\XAIFO-ThesisProject\\\\output\\\\optim_2023-05-16_14-20-46\\\\optim_15af7_00018_18_aggr=mean,dimensions_e2v=128,dropout=0.2000,epoch_e2v=5,epochs=100,hidden_dim=64,layers=6,lr=0.0143,num_walks_2023-05-16_14-21-25'\n",
      "2023-05-16 14:21:27,999\tERROR ray_trial_executor.py:687 -- Trial optim_15af7_00019: Unexpected error starting runner.\n",
      "Traceback (most recent call last):\n",
      "  File \"c:\\Users\\rosa-\\anaconda3\\envs\\xaifo\\lib\\pathlib.py\", line 1175, in mkdir\n",
      "    self._accessor.mkdir(self, mode)\n",
      "FileNotFoundError: [WinError 206] The filename or extension is too long: 'c:\\\\Users\\\\rosa-\\\\Google Drive\\\\Msc_Bioinformatics\\\\thesis\\\\XAIFO-ThesisProject\\\\output\\\\optim_2023-05-16_14-20-46\\\\optim_15af7_00019_19_aggr=sum,dimensions_e2v=128,dropout=0.1000,epoch_e2v=5,epochs=100,hidden_dim=64,layers=4,lr=0.0002,num_walks=_2023-05-16_14-21-27'\n",
      "\n",
      "During handling of the above exception, another exception occurred:\n",
      "\n",
      "Traceback (most recent call last):\n",
      "  File \"c:\\Users\\rosa-\\anaconda3\\envs\\xaifo\\lib\\site-packages\\ray\\tune\\execution\\ray_trial_executor.py\", line 680, in start_trial\n",
      "    return self._start_trial(trial)\n",
      "  File \"c:\\Users\\rosa-\\anaconda3\\envs\\xaifo\\lib\\site-packages\\ray\\tune\\execution\\ray_trial_executor.py\", line 521, in _start_trial\n",
      "    runner = self._setup_remote_runner(trial)\n",
      "  File \"c:\\Users\\rosa-\\anaconda3\\envs\\xaifo\\lib\\site-packages\\ray\\tune\\execution\\ray_trial_executor.py\", line 385, in _setup_remote_runner\n",
      "    trial.init_logdir()\n",
      "  File \"c:\\Users\\rosa-\\anaconda3\\envs\\xaifo\\lib\\site-packages\\ray\\tune\\experiment\\trial.py\", line 628, in init_logdir\n",
      "    logdir_path.mkdir(parents=True, exist_ok=True)\n",
      "  File \"c:\\Users\\rosa-\\anaconda3\\envs\\xaifo\\lib\\pathlib.py\", line 1180, in mkdir\n",
      "    self.mkdir(mode, parents=False, exist_ok=exist_ok)\n",
      "  File \"c:\\Users\\rosa-\\anaconda3\\envs\\xaifo\\lib\\pathlib.py\", line 1175, in mkdir\n",
      "    self._accessor.mkdir(self, mode)\n",
      "FileNotFoundError: [WinError 206] The filename or extension is too long: 'c:\\\\Users\\\\rosa-\\\\Google Drive\\\\Msc_Bioinformatics\\\\thesis\\\\XAIFO-ThesisProject\\\\output\\\\optim_2023-05-16_14-20-46\\\\optim_15af7_00019_19_aggr=sum,dimensions_e2v=128,dropout=0.1000,epoch_e2v=5,epochs=100,hidden_dim=64,layers=4,lr=0.0002,num_walks=_2023-05-16_14-21-27'\n",
      "2023-05-16 14:21:30,002\tWARNING util.py:244 -- The `start_trial` operation took 2.004 s, which may be a performance bottleneck.\n",
      "2023-05-16 14:21:30,005\tERROR ray_trial_executor.py:687 -- Trial optim_15af7_00020: Unexpected error starting runner.\n",
      "Traceback (most recent call last):\n",
      "  File \"c:\\Users\\rosa-\\anaconda3\\envs\\xaifo\\lib\\pathlib.py\", line 1175, in mkdir\n",
      "    self._accessor.mkdir(self, mode)\n",
      "FileNotFoundError: [WinError 206] The filename or extension is too long: 'c:\\\\Users\\\\rosa-\\\\Google Drive\\\\Msc_Bioinformatics\\\\thesis\\\\XAIFO-ThesisProject\\\\output\\\\optim_2023-05-16_14-20-46\\\\optim_15af7_00020_20_aggr=mean,dimensions_e2v=128,dropout=0,epoch_e2v=5,epochs=150,hidden_dim=64,layers=2,lr=0.0003,num_walks=6,ou_2023-05-16_14-21-30'\n",
      "\n",
      "During handling of the above exception, another exception occurred:\n",
      "\n",
      "Traceback (most recent call last):\n",
      "  File \"c:\\Users\\rosa-\\anaconda3\\envs\\xaifo\\lib\\site-packages\\ray\\tune\\execution\\ray_trial_executor.py\", line 680, in start_trial\n",
      "    return self._start_trial(trial)\n",
      "  File \"c:\\Users\\rosa-\\anaconda3\\envs\\xaifo\\lib\\site-packages\\ray\\tune\\execution\\ray_trial_executor.py\", line 521, in _start_trial\n",
      "    runner = self._setup_remote_runner(trial)\n",
      "  File \"c:\\Users\\rosa-\\anaconda3\\envs\\xaifo\\lib\\site-packages\\ray\\tune\\execution\\ray_trial_executor.py\", line 385, in _setup_remote_runner\n",
      "    trial.init_logdir()\n",
      "  File \"c:\\Users\\rosa-\\anaconda3\\envs\\xaifo\\lib\\site-packages\\ray\\tune\\experiment\\trial.py\", line 628, in init_logdir\n",
      "    logdir_path.mkdir(parents=True, exist_ok=True)\n",
      "  File \"c:\\Users\\rosa-\\anaconda3\\envs\\xaifo\\lib\\pathlib.py\", line 1180, in mkdir\n",
      "    self.mkdir(mode, parents=False, exist_ok=exist_ok)\n",
      "  File \"c:\\Users\\rosa-\\anaconda3\\envs\\xaifo\\lib\\pathlib.py\", line 1175, in mkdir\n",
      "    self._accessor.mkdir(self, mode)\n",
      "FileNotFoundError: [WinError 206] The filename or extension is too long: 'c:\\\\Users\\\\rosa-\\\\Google Drive\\\\Msc_Bioinformatics\\\\thesis\\\\XAIFO-ThesisProject\\\\output\\\\optim_2023-05-16_14-20-46\\\\optim_15af7_00020_20_aggr=mean,dimensions_e2v=128,dropout=0,epoch_e2v=5,epochs=150,hidden_dim=64,layers=2,lr=0.0003,num_walks=6,ou_2023-05-16_14-21-30'\n",
      "2023-05-16 14:21:32,009\tWARNING util.py:244 -- The `start_trial` operation took 2.004 s, which may be a performance bottleneck.\n",
      "2023-05-16 14:21:32,011\tERROR ray_trial_executor.py:687 -- Trial optim_15af7_00021: Unexpected error starting runner.\n",
      "Traceback (most recent call last):\n",
      "  File \"c:\\Users\\rosa-\\anaconda3\\envs\\xaifo\\lib\\pathlib.py\", line 1175, in mkdir\n",
      "    self._accessor.mkdir(self, mode)\n",
      "FileNotFoundError: [WinError 206] The filename or extension is too long: 'c:\\\\Users\\\\rosa-\\\\Google Drive\\\\Msc_Bioinformatics\\\\thesis\\\\XAIFO-ThesisProject\\\\output\\\\optim_2023-05-16_14-20-46\\\\optim_15af7_00021_21_aggr=sum,dimensions_e2v=64,dropout=0.1000,epoch_e2v=10,epochs=200,hidden_dim=256,layers=6,lr=0.0010,num_walks_2023-05-16_14-21-32'\n",
      "\n",
      "During handling of the above exception, another exception occurred:\n",
      "\n",
      "Traceback (most recent call last):\n",
      "  File \"c:\\Users\\rosa-\\anaconda3\\envs\\xaifo\\lib\\site-packages\\ray\\tune\\execution\\ray_trial_executor.py\", line 680, in start_trial\n",
      "    return self._start_trial(trial)\n",
      "  File \"c:\\Users\\rosa-\\anaconda3\\envs\\xaifo\\lib\\site-packages\\ray\\tune\\execution\\ray_trial_executor.py\", line 521, in _start_trial\n",
      "    runner = self._setup_remote_runner(trial)\n",
      "  File \"c:\\Users\\rosa-\\anaconda3\\envs\\xaifo\\lib\\site-packages\\ray\\tune\\execution\\ray_trial_executor.py\", line 385, in _setup_remote_runner\n",
      "    trial.init_logdir()\n",
      "  File \"c:\\Users\\rosa-\\anaconda3\\envs\\xaifo\\lib\\site-packages\\ray\\tune\\experiment\\trial.py\", line 628, in init_logdir\n",
      "    logdir_path.mkdir(parents=True, exist_ok=True)\n",
      "  File \"c:\\Users\\rosa-\\anaconda3\\envs\\xaifo\\lib\\pathlib.py\", line 1180, in mkdir\n",
      "    self.mkdir(mode, parents=False, exist_ok=exist_ok)\n",
      "  File \"c:\\Users\\rosa-\\anaconda3\\envs\\xaifo\\lib\\pathlib.py\", line 1175, in mkdir\n",
      "    self._accessor.mkdir(self, mode)\n",
      "FileNotFoundError: [WinError 206] The filename or extension is too long: 'c:\\\\Users\\\\rosa-\\\\Google Drive\\\\Msc_Bioinformatics\\\\thesis\\\\XAIFO-ThesisProject\\\\output\\\\optim_2023-05-16_14-20-46\\\\optim_15af7_00021_21_aggr=sum,dimensions_e2v=64,dropout=0.1000,epoch_e2v=10,epochs=200,hidden_dim=256,layers=6,lr=0.0010,num_walks_2023-05-16_14-21-32'\n",
      "2023-05-16 14:21:34,028\tERROR ray_trial_executor.py:687 -- Trial optim_15af7_00022: Unexpected error starting runner.\n",
      "Traceback (most recent call last):\n",
      "  File \"c:\\Users\\rosa-\\anaconda3\\envs\\xaifo\\lib\\pathlib.py\", line 1175, in mkdir\n",
      "    self._accessor.mkdir(self, mode)\n",
      "FileNotFoundError: [WinError 206] The filename or extension is too long: 'c:\\\\Users\\\\rosa-\\\\Google Drive\\\\Msc_Bioinformatics\\\\thesis\\\\XAIFO-ThesisProject\\\\output\\\\optim_2023-05-16_14-20-46\\\\optim_15af7_00022_22_aggr=sum,dimensions_e2v=32,dropout=0.1000,epoch_e2v=5,epochs=200,hidden_dim=256,layers=6,lr=0.0461,num_walks=_2023-05-16_14-21-34'\n",
      "\n",
      "During handling of the above exception, another exception occurred:\n",
      "\n",
      "Traceback (most recent call last):\n",
      "  File \"c:\\Users\\rosa-\\anaconda3\\envs\\xaifo\\lib\\site-packages\\ray\\tune\\execution\\ray_trial_executor.py\", line 680, in start_trial\n",
      "    return self._start_trial(trial)\n",
      "  File \"c:\\Users\\rosa-\\anaconda3\\envs\\xaifo\\lib\\site-packages\\ray\\tune\\execution\\ray_trial_executor.py\", line 521, in _start_trial\n",
      "    runner = self._setup_remote_runner(trial)\n",
      "  File \"c:\\Users\\rosa-\\anaconda3\\envs\\xaifo\\lib\\site-packages\\ray\\tune\\execution\\ray_trial_executor.py\", line 385, in _setup_remote_runner\n",
      "    trial.init_logdir()\n",
      "  File \"c:\\Users\\rosa-\\anaconda3\\envs\\xaifo\\lib\\site-packages\\ray\\tune\\experiment\\trial.py\", line 628, in init_logdir\n",
      "    logdir_path.mkdir(parents=True, exist_ok=True)\n",
      "  File \"c:\\Users\\rosa-\\anaconda3\\envs\\xaifo\\lib\\pathlib.py\", line 1180, in mkdir\n",
      "    self.mkdir(mode, parents=False, exist_ok=exist_ok)\n",
      "  File \"c:\\Users\\rosa-\\anaconda3\\envs\\xaifo\\lib\\pathlib.py\", line 1175, in mkdir\n",
      "    self._accessor.mkdir(self, mode)\n",
      "FileNotFoundError: [WinError 206] The filename or extension is too long: 'c:\\\\Users\\\\rosa-\\\\Google Drive\\\\Msc_Bioinformatics\\\\thesis\\\\XAIFO-ThesisProject\\\\output\\\\optim_2023-05-16_14-20-46\\\\optim_15af7_00022_22_aggr=sum,dimensions_e2v=32,dropout=0.1000,epoch_e2v=5,epochs=200,hidden_dim=256,layers=6,lr=0.0461,num_walks=_2023-05-16_14-21-34'\n",
      "2023-05-16 14:21:34,028\tERROR ray_trial_executor.py:687 -- Trial optim_15af7_00022: Unexpected error starting runner.\n",
      "Traceback (most recent call last):\n",
      "  File \"c:\\Users\\rosa-\\anaconda3\\envs\\xaifo\\lib\\pathlib.py\", line 1175, in mkdir\n",
      "    self._accessor.mkdir(self, mode)\n",
      "FileNotFoundError: [WinError 206] The filename or extension is too long: 'c:\\\\Users\\\\rosa-\\\\Google Drive\\\\Msc_Bioinformatics\\\\thesis\\\\XAIFO-ThesisProject\\\\output\\\\optim_2023-05-16_14-20-46\\\\optim_15af7_00022_22_aggr=sum,dimensions_e2v=32,dropout=0.1000,epoch_e2v=5,epochs=200,hidden_dim=256,layers=6,lr=0.0461,num_walks=_2023-05-16_14-21-34'\n",
      "\n",
      "During handling of the above exception, another exception occurred:\n",
      "\n",
      "Traceback (most recent call last):\n",
      "  File \"c:\\Users\\rosa-\\anaconda3\\envs\\xaifo\\lib\\site-packages\\ray\\tune\\execution\\ray_trial_executor.py\", line 680, in start_trial\n",
      "    return self._start_trial(trial)\n",
      "  File \"c:\\Users\\rosa-\\anaconda3\\envs\\xaifo\\lib\\site-packages\\ray\\tune\\execution\\ray_trial_executor.py\", line 521, in _start_trial\n",
      "    runner = self._setup_remote_runner(trial)\n",
      "  File \"c:\\Users\\rosa-\\anaconda3\\envs\\xaifo\\lib\\site-packages\\ray\\tune\\execution\\ray_trial_executor.py\", line 385, in _setup_remote_runner\n",
      "    trial.init_logdir()\n",
      "  File \"c:\\Users\\rosa-\\anaconda3\\envs\\xaifo\\lib\\site-packages\\ray\\tune\\experiment\\trial.py\", line 628, in init_logdir\n",
      "    logdir_path.mkdir(parents=True, exist_ok=True)\n",
      "  File \"c:\\Users\\rosa-\\anaconda3\\envs\\xaifo\\lib\\pathlib.py\", line 1180, in mkdir\n",
      "    self.mkdir(mode, parents=False, exist_ok=exist_ok)\n",
      "  File \"c:\\Users\\rosa-\\anaconda3\\envs\\xaifo\\lib\\pathlib.py\", line 1175, in mkdir\n",
      "    self._accessor.mkdir(self, mode)\n",
      "FileNotFoundError: [WinError 206] The filename or extension is too long: 'c:\\\\Users\\\\rosa-\\\\Google Drive\\\\Msc_Bioinformatics\\\\thesis\\\\XAIFO-ThesisProject\\\\output\\\\optim_2023-05-16_14-20-46\\\\optim_15af7_00022_22_aggr=sum,dimensions_e2v=32,dropout=0.1000,epoch_e2v=5,epochs=200,hidden_dim=256,layers=6,lr=0.0461,num_walks=_2023-05-16_14-21-34'\n",
      "2023-05-16 14:21:36,030\tWARNING util.py:244 -- The `start_trial` operation took 2.003 s, which may be a performance bottleneck.\n",
      "2023-05-16 14:21:36,032\tERROR ray_trial_executor.py:687 -- Trial optim_15af7_00023: Unexpected error starting runner.\n",
      "Traceback (most recent call last):\n",
      "  File \"c:\\Users\\rosa-\\anaconda3\\envs\\xaifo\\lib\\pathlib.py\", line 1175, in mkdir\n",
      "    self._accessor.mkdir(self, mode)\n",
      "FileNotFoundError: [WinError 206] The filename or extension is too long: 'c:\\\\Users\\\\rosa-\\\\Google Drive\\\\Msc_Bioinformatics\\\\thesis\\\\XAIFO-ThesisProject\\\\output\\\\optim_2023-05-16_14-20-46\\\\optim_15af7_00023_23_aggr=sum,dimensions_e2v=32,dropout=0.1000,epoch_e2v=5,epochs=200,hidden_dim=256,layers=6,lr=0.0003,num_walks=_2023-05-16_14-21-36'\n",
      "\n",
      "During handling of the above exception, another exception occurred:\n",
      "\n",
      "Traceback (most recent call last):\n",
      "  File \"c:\\Users\\rosa-\\anaconda3\\envs\\xaifo\\lib\\site-packages\\ray\\tune\\execution\\ray_trial_executor.py\", line 680, in start_trial\n",
      "    return self._start_trial(trial)\n",
      "  File \"c:\\Users\\rosa-\\anaconda3\\envs\\xaifo\\lib\\site-packages\\ray\\tune\\execution\\ray_trial_executor.py\", line 521, in _start_trial\n",
      "    runner = self._setup_remote_runner(trial)\n",
      "  File \"c:\\Users\\rosa-\\anaconda3\\envs\\xaifo\\lib\\site-packages\\ray\\tune\\execution\\ray_trial_executor.py\", line 385, in _setup_remote_runner\n",
      "    trial.init_logdir()\n",
      "  File \"c:\\Users\\rosa-\\anaconda3\\envs\\xaifo\\lib\\site-packages\\ray\\tune\\experiment\\trial.py\", line 628, in init_logdir\n",
      "    logdir_path.mkdir(parents=True, exist_ok=True)\n",
      "  File \"c:\\Users\\rosa-\\anaconda3\\envs\\xaifo\\lib\\pathlib.py\", line 1180, in mkdir\n",
      "    self.mkdir(mode, parents=False, exist_ok=exist_ok)\n",
      "  File \"c:\\Users\\rosa-\\anaconda3\\envs\\xaifo\\lib\\pathlib.py\", line 1175, in mkdir\n",
      "    self._accessor.mkdir(self, mode)\n",
      "FileNotFoundError: [WinError 206] The filename or extension is too long: 'c:\\\\Users\\\\rosa-\\\\Google Drive\\\\Msc_Bioinformatics\\\\thesis\\\\XAIFO-ThesisProject\\\\output\\\\optim_2023-05-16_14-20-46\\\\optim_15af7_00023_23_aggr=sum,dimensions_e2v=32,dropout=0.1000,epoch_e2v=5,epochs=200,hidden_dim=256,layers=6,lr=0.0003,num_walks=_2023-05-16_14-21-36'\n",
      "2023-05-16 14:21:38,036\tWARNING util.py:244 -- The `start_trial` operation took 2.004 s, which may be a performance bottleneck.\n",
      "2023-05-16 14:21:38,040\tERROR ray_trial_executor.py:687 -- Trial optim_15af7_00024: Unexpected error starting runner.\n",
      "Traceback (most recent call last):\n",
      "  File \"c:\\Users\\rosa-\\anaconda3\\envs\\xaifo\\lib\\pathlib.py\", line 1175, in mkdir\n",
      "    self._accessor.mkdir(self, mode)\n",
      "FileNotFoundError: [WinError 206] The filename or extension is too long: 'c:\\\\Users\\\\rosa-\\\\Google Drive\\\\Msc_Bioinformatics\\\\thesis\\\\XAIFO-ThesisProject\\\\output\\\\optim_2023-05-16_14-20-46\\\\optim_15af7_00024_24_aggr=sum,dimensions_e2v=64,dropout=0.1000,epoch_e2v=10,epochs=100,hidden_dim=128,layers=6,lr=0.0021,num_walks_2023-05-16_14-21-38'\n",
      "\n",
      "During handling of the above exception, another exception occurred:\n",
      "\n",
      "Traceback (most recent call last):\n",
      "  File \"c:\\Users\\rosa-\\anaconda3\\envs\\xaifo\\lib\\site-packages\\ray\\tune\\execution\\ray_trial_executor.py\", line 680, in start_trial\n",
      "    return self._start_trial(trial)\n",
      "  File \"c:\\Users\\rosa-\\anaconda3\\envs\\xaifo\\lib\\site-packages\\ray\\tune\\execution\\ray_trial_executor.py\", line 521, in _start_trial\n",
      "    runner = self._setup_remote_runner(trial)\n",
      "  File \"c:\\Users\\rosa-\\anaconda3\\envs\\xaifo\\lib\\site-packages\\ray\\tune\\execution\\ray_trial_executor.py\", line 385, in _setup_remote_runner\n",
      "    trial.init_logdir()\n",
      "  File \"c:\\Users\\rosa-\\anaconda3\\envs\\xaifo\\lib\\site-packages\\ray\\tune\\experiment\\trial.py\", line 628, in init_logdir\n",
      "    logdir_path.mkdir(parents=True, exist_ok=True)\n",
      "  File \"c:\\Users\\rosa-\\anaconda3\\envs\\xaifo\\lib\\pathlib.py\", line 1180, in mkdir\n",
      "    self.mkdir(mode, parents=False, exist_ok=exist_ok)\n",
      "  File \"c:\\Users\\rosa-\\anaconda3\\envs\\xaifo\\lib\\pathlib.py\", line 1175, in mkdir\n",
      "    self._accessor.mkdir(self, mode)\n",
      "FileNotFoundError: [WinError 206] The filename or extension is too long: 'c:\\\\Users\\\\rosa-\\\\Google Drive\\\\Msc_Bioinformatics\\\\thesis\\\\XAIFO-ThesisProject\\\\output\\\\optim_2023-05-16_14-20-46\\\\optim_15af7_00024_24_aggr=sum,dimensions_e2v=64,dropout=0.1000,epoch_e2v=10,epochs=100,hidden_dim=128,layers=6,lr=0.0021,num_walks_2023-05-16_14-21-38'\n",
      "2023-05-16 14:21:40,059\tERROR ray_trial_executor.py:687 -- Trial optim_15af7_00025: Unexpected error starting runner.\n",
      "Traceback (most recent call last):\n",
      "  File \"c:\\Users\\rosa-\\anaconda3\\envs\\xaifo\\lib\\pathlib.py\", line 1175, in mkdir\n",
      "    self._accessor.mkdir(self, mode)\n",
      "FileNotFoundError: [WinError 206] The filename or extension is too long: 'c:\\\\Users\\\\rosa-\\\\Google Drive\\\\Msc_Bioinformatics\\\\thesis\\\\XAIFO-ThesisProject\\\\output\\\\optim_2023-05-16_14-20-46\\\\optim_15af7_00025_25_aggr=sum,dimensions_e2v=64,dropout=0.2000,epoch_e2v=5,epochs=150,hidden_dim=64,layers=4,lr=0.0054,num_walks=2_2023-05-16_14-21-40'\n",
      "\n",
      "During handling of the above exception, another exception occurred:\n",
      "\n",
      "Traceback (most recent call last):\n",
      "  File \"c:\\Users\\rosa-\\anaconda3\\envs\\xaifo\\lib\\site-packages\\ray\\tune\\execution\\ray_trial_executor.py\", line 680, in start_trial\n",
      "    return self._start_trial(trial)\n",
      "  File \"c:\\Users\\rosa-\\anaconda3\\envs\\xaifo\\lib\\site-packages\\ray\\tune\\execution\\ray_trial_executor.py\", line 521, in _start_trial\n",
      "    runner = self._setup_remote_runner(trial)\n",
      "  File \"c:\\Users\\rosa-\\anaconda3\\envs\\xaifo\\lib\\site-packages\\ray\\tune\\execution\\ray_trial_executor.py\", line 385, in _setup_remote_runner\n",
      "    trial.init_logdir()\n",
      "  File \"c:\\Users\\rosa-\\anaconda3\\envs\\xaifo\\lib\\site-packages\\ray\\tune\\experiment\\trial.py\", line 628, in init_logdir\n",
      "    logdir_path.mkdir(parents=True, exist_ok=True)\n",
      "  File \"c:\\Users\\rosa-\\anaconda3\\envs\\xaifo\\lib\\pathlib.py\", line 1180, in mkdir\n",
      "    self.mkdir(mode, parents=False, exist_ok=exist_ok)\n",
      "  File \"c:\\Users\\rosa-\\anaconda3\\envs\\xaifo\\lib\\pathlib.py\", line 1175, in mkdir\n",
      "    self._accessor.mkdir(self, mode)\n",
      "FileNotFoundError: [WinError 206] The filename or extension is too long: 'c:\\\\Users\\\\rosa-\\\\Google Drive\\\\Msc_Bioinformatics\\\\thesis\\\\XAIFO-ThesisProject\\\\output\\\\optim_2023-05-16_14-20-46\\\\optim_15af7_00025_25_aggr=sum,dimensions_e2v=64,dropout=0.2000,epoch_e2v=5,epochs=150,hidden_dim=64,layers=4,lr=0.0054,num_walks=2_2023-05-16_14-21-40'\n",
      "2023-05-16 14:21:40,059\tERROR ray_trial_executor.py:687 -- Trial optim_15af7_00025: Unexpected error starting runner.\n",
      "Traceback (most recent call last):\n",
      "  File \"c:\\Users\\rosa-\\anaconda3\\envs\\xaifo\\lib\\pathlib.py\", line 1175, in mkdir\n",
      "    self._accessor.mkdir(self, mode)\n",
      "FileNotFoundError: [WinError 206] The filename or extension is too long: 'c:\\\\Users\\\\rosa-\\\\Google Drive\\\\Msc_Bioinformatics\\\\thesis\\\\XAIFO-ThesisProject\\\\output\\\\optim_2023-05-16_14-20-46\\\\optim_15af7_00025_25_aggr=sum,dimensions_e2v=64,dropout=0.2000,epoch_e2v=5,epochs=150,hidden_dim=64,layers=4,lr=0.0054,num_walks=2_2023-05-16_14-21-40'\n",
      "\n",
      "During handling of the above exception, another exception occurred:\n",
      "\n",
      "Traceback (most recent call last):\n",
      "  File \"c:\\Users\\rosa-\\anaconda3\\envs\\xaifo\\lib\\site-packages\\ray\\tune\\execution\\ray_trial_executor.py\", line 680, in start_trial\n",
      "    return self._start_trial(trial)\n",
      "  File \"c:\\Users\\rosa-\\anaconda3\\envs\\xaifo\\lib\\site-packages\\ray\\tune\\execution\\ray_trial_executor.py\", line 521, in _start_trial\n",
      "    runner = self._setup_remote_runner(trial)\n",
      "  File \"c:\\Users\\rosa-\\anaconda3\\envs\\xaifo\\lib\\site-packages\\ray\\tune\\execution\\ray_trial_executor.py\", line 385, in _setup_remote_runner\n",
      "    trial.init_logdir()\n",
      "  File \"c:\\Users\\rosa-\\anaconda3\\envs\\xaifo\\lib\\site-packages\\ray\\tune\\experiment\\trial.py\", line 628, in init_logdir\n",
      "    logdir_path.mkdir(parents=True, exist_ok=True)\n",
      "  File \"c:\\Users\\rosa-\\anaconda3\\envs\\xaifo\\lib\\pathlib.py\", line 1180, in mkdir\n",
      "    self.mkdir(mode, parents=False, exist_ok=exist_ok)\n",
      "  File \"c:\\Users\\rosa-\\anaconda3\\envs\\xaifo\\lib\\pathlib.py\", line 1175, in mkdir\n",
      "    self._accessor.mkdir(self, mode)\n",
      "FileNotFoundError: [WinError 206] The filename or extension is too long: 'c:\\\\Users\\\\rosa-\\\\Google Drive\\\\Msc_Bioinformatics\\\\thesis\\\\XAIFO-ThesisProject\\\\output\\\\optim_2023-05-16_14-20-46\\\\optim_15af7_00025_25_aggr=sum,dimensions_e2v=64,dropout=0.2000,epoch_e2v=5,epochs=150,hidden_dim=64,layers=4,lr=0.0054,num_walks=2_2023-05-16_14-21-40'\n",
      "2023-05-16 14:21:42,063\tWARNING util.py:244 -- The `start_trial` operation took 2.005 s, which may be a performance bottleneck.\n",
      "2023-05-16 14:21:42,065\tERROR ray_trial_executor.py:687 -- Trial optim_15af7_00026: Unexpected error starting runner.\n",
      "Traceback (most recent call last):\n",
      "  File \"c:\\Users\\rosa-\\anaconda3\\envs\\xaifo\\lib\\pathlib.py\", line 1175, in mkdir\n",
      "    self._accessor.mkdir(self, mode)\n",
      "FileNotFoundError: [WinError 206] The filename or extension is too long: 'c:\\\\Users\\\\rosa-\\\\Google Drive\\\\Msc_Bioinformatics\\\\thesis\\\\XAIFO-ThesisProject\\\\output\\\\optim_2023-05-16_14-20-46\\\\optim_15af7_00026_26_aggr=mean,dimensions_e2v=64,dropout=0.1000,epoch_e2v=10,epochs=100,hidden_dim=128,layers=2,lr=0.0162,num_walk_2023-05-16_14-21-42'\n",
      "\n",
      "During handling of the above exception, another exception occurred:\n",
      "\n",
      "Traceback (most recent call last):\n",
      "  File \"c:\\Users\\rosa-\\anaconda3\\envs\\xaifo\\lib\\site-packages\\ray\\tune\\execution\\ray_trial_executor.py\", line 680, in start_trial\n",
      "    return self._start_trial(trial)\n",
      "  File \"c:\\Users\\rosa-\\anaconda3\\envs\\xaifo\\lib\\site-packages\\ray\\tune\\execution\\ray_trial_executor.py\", line 521, in _start_trial\n",
      "    runner = self._setup_remote_runner(trial)\n",
      "  File \"c:\\Users\\rosa-\\anaconda3\\envs\\xaifo\\lib\\site-packages\\ray\\tune\\execution\\ray_trial_executor.py\", line 385, in _setup_remote_runner\n",
      "    trial.init_logdir()\n",
      "  File \"c:\\Users\\rosa-\\anaconda3\\envs\\xaifo\\lib\\site-packages\\ray\\tune\\experiment\\trial.py\", line 628, in init_logdir\n",
      "    logdir_path.mkdir(parents=True, exist_ok=True)\n",
      "  File \"c:\\Users\\rosa-\\anaconda3\\envs\\xaifo\\lib\\pathlib.py\", line 1180, in mkdir\n",
      "    self.mkdir(mode, parents=False, exist_ok=exist_ok)\n",
      "  File \"c:\\Users\\rosa-\\anaconda3\\envs\\xaifo\\lib\\pathlib.py\", line 1175, in mkdir\n",
      "    self._accessor.mkdir(self, mode)\n",
      "FileNotFoundError: [WinError 206] The filename or extension is too long: 'c:\\\\Users\\\\rosa-\\\\Google Drive\\\\Msc_Bioinformatics\\\\thesis\\\\XAIFO-ThesisProject\\\\output\\\\optim_2023-05-16_14-20-46\\\\optim_15af7_00026_26_aggr=mean,dimensions_e2v=64,dropout=0.1000,epoch_e2v=10,epochs=100,hidden_dim=128,layers=2,lr=0.0162,num_walk_2023-05-16_14-21-42'\n",
      "2023-05-16 14:21:44,069\tWARNING util.py:244 -- The `start_trial` operation took 2.005 s, which may be a performance bottleneck.\n",
      "2023-05-16 14:21:44,071\tERROR ray_trial_executor.py:687 -- Trial optim_15af7_00027: Unexpected error starting runner.\n",
      "Traceback (most recent call last):\n",
      "  File \"c:\\Users\\rosa-\\anaconda3\\envs\\xaifo\\lib\\pathlib.py\", line 1175, in mkdir\n",
      "    self._accessor.mkdir(self, mode)\n",
      "FileNotFoundError: [WinError 206] The filename or extension is too long: 'c:\\\\Users\\\\rosa-\\\\Google Drive\\\\Msc_Bioinformatics\\\\thesis\\\\XAIFO-ThesisProject\\\\output\\\\optim_2023-05-16_14-20-46\\\\optim_15af7_00027_27_aggr=mean,dimensions_e2v=128,dropout=0,epoch_e2v=10,epochs=200,hidden_dim=256,layers=4,lr=0.0176,num_walks=2,_2023-05-16_14-21-44'\n",
      "\n",
      "During handling of the above exception, another exception occurred:\n",
      "\n",
      "Traceback (most recent call last):\n",
      "  File \"c:\\Users\\rosa-\\anaconda3\\envs\\xaifo\\lib\\site-packages\\ray\\tune\\execution\\ray_trial_executor.py\", line 680, in start_trial\n",
      "    return self._start_trial(trial)\n",
      "  File \"c:\\Users\\rosa-\\anaconda3\\envs\\xaifo\\lib\\site-packages\\ray\\tune\\execution\\ray_trial_executor.py\", line 521, in _start_trial\n",
      "    runner = self._setup_remote_runner(trial)\n",
      "  File \"c:\\Users\\rosa-\\anaconda3\\envs\\xaifo\\lib\\site-packages\\ray\\tune\\execution\\ray_trial_executor.py\", line 385, in _setup_remote_runner\n",
      "    trial.init_logdir()\n",
      "  File \"c:\\Users\\rosa-\\anaconda3\\envs\\xaifo\\lib\\site-packages\\ray\\tune\\experiment\\trial.py\", line 628, in init_logdir\n",
      "    logdir_path.mkdir(parents=True, exist_ok=True)\n",
      "  File \"c:\\Users\\rosa-\\anaconda3\\envs\\xaifo\\lib\\pathlib.py\", line 1180, in mkdir\n",
      "    self.mkdir(mode, parents=False, exist_ok=exist_ok)\n",
      "  File \"c:\\Users\\rosa-\\anaconda3\\envs\\xaifo\\lib\\pathlib.py\", line 1175, in mkdir\n",
      "    self._accessor.mkdir(self, mode)\n",
      "FileNotFoundError: [WinError 206] The filename or extension is too long: 'c:\\\\Users\\\\rosa-\\\\Google Drive\\\\Msc_Bioinformatics\\\\thesis\\\\XAIFO-ThesisProject\\\\output\\\\optim_2023-05-16_14-20-46\\\\optim_15af7_00027_27_aggr=mean,dimensions_e2v=128,dropout=0,epoch_e2v=10,epochs=200,hidden_dim=256,layers=4,lr=0.0176,num_walks=2,_2023-05-16_14-21-44'\n",
      "2023-05-16 14:21:46,075\tWARNING util.py:244 -- The `start_trial` operation took 2.005 s, which may be a performance bottleneck.\n",
      "2023-05-16 14:21:46,093\tERROR ray_trial_executor.py:687 -- Trial optim_15af7_00028: Unexpected error starting runner.\n",
      "Traceback (most recent call last):\n",
      "  File \"c:\\Users\\rosa-\\anaconda3\\envs\\xaifo\\lib\\pathlib.py\", line 1175, in mkdir\n",
      "    self._accessor.mkdir(self, mode)\n",
      "FileNotFoundError: [WinError 206] The filename or extension is too long: 'c:\\\\Users\\\\rosa-\\\\Google Drive\\\\Msc_Bioinformatics\\\\thesis\\\\XAIFO-ThesisProject\\\\output\\\\optim_2023-05-16_14-20-46\\\\optim_15af7_00028_28_aggr=sum,dimensions_e2v=64,dropout=0,epoch_e2v=5,epochs=200,hidden_dim=128,layers=2,lr=0.0055,num_walks=2,out_2023-05-16_14-21-46'\n",
      "\n",
      "During handling of the above exception, another exception occurred:\n",
      "\n",
      "Traceback (most recent call last):\n",
      "  File \"c:\\Users\\rosa-\\anaconda3\\envs\\xaifo\\lib\\site-packages\\ray\\tune\\execution\\ray_trial_executor.py\", line 680, in start_trial\n",
      "    return self._start_trial(trial)\n",
      "  File \"c:\\Users\\rosa-\\anaconda3\\envs\\xaifo\\lib\\site-packages\\ray\\tune\\execution\\ray_trial_executor.py\", line 521, in _start_trial\n",
      "    runner = self._setup_remote_runner(trial)\n",
      "  File \"c:\\Users\\rosa-\\anaconda3\\envs\\xaifo\\lib\\site-packages\\ray\\tune\\execution\\ray_trial_executor.py\", line 385, in _setup_remote_runner\n",
      "    trial.init_logdir()\n",
      "  File \"c:\\Users\\rosa-\\anaconda3\\envs\\xaifo\\lib\\site-packages\\ray\\tune\\experiment\\trial.py\", line 628, in init_logdir\n",
      "    logdir_path.mkdir(parents=True, exist_ok=True)\n",
      "  File \"c:\\Users\\rosa-\\anaconda3\\envs\\xaifo\\lib\\pathlib.py\", line 1180, in mkdir\n",
      "    self.mkdir(mode, parents=False, exist_ok=exist_ok)\n",
      "  File \"c:\\Users\\rosa-\\anaconda3\\envs\\xaifo\\lib\\pathlib.py\", line 1175, in mkdir\n",
      "    self._accessor.mkdir(self, mode)\n",
      "FileNotFoundError: [WinError 206] The filename or extension is too long: 'c:\\\\Users\\\\rosa-\\\\Google Drive\\\\Msc_Bioinformatics\\\\thesis\\\\XAIFO-ThesisProject\\\\output\\\\optim_2023-05-16_14-20-46\\\\optim_15af7_00028_28_aggr=sum,dimensions_e2v=64,dropout=0,epoch_e2v=5,epochs=200,hidden_dim=128,layers=2,lr=0.0055,num_walks=2,out_2023-05-16_14-21-46'\n",
      "2023-05-16 14:21:46,093\tERROR ray_trial_executor.py:687 -- Trial optim_15af7_00028: Unexpected error starting runner.\n",
      "Traceback (most recent call last):\n",
      "  File \"c:\\Users\\rosa-\\anaconda3\\envs\\xaifo\\lib\\pathlib.py\", line 1175, in mkdir\n",
      "    self._accessor.mkdir(self, mode)\n",
      "FileNotFoundError: [WinError 206] The filename or extension is too long: 'c:\\\\Users\\\\rosa-\\\\Google Drive\\\\Msc_Bioinformatics\\\\thesis\\\\XAIFO-ThesisProject\\\\output\\\\optim_2023-05-16_14-20-46\\\\optim_15af7_00028_28_aggr=sum,dimensions_e2v=64,dropout=0,epoch_e2v=5,epochs=200,hidden_dim=128,layers=2,lr=0.0055,num_walks=2,out_2023-05-16_14-21-46'\n",
      "\n",
      "During handling of the above exception, another exception occurred:\n",
      "\n",
      "Traceback (most recent call last):\n",
      "  File \"c:\\Users\\rosa-\\anaconda3\\envs\\xaifo\\lib\\site-packages\\ray\\tune\\execution\\ray_trial_executor.py\", line 680, in start_trial\n",
      "    return self._start_trial(trial)\n",
      "  File \"c:\\Users\\rosa-\\anaconda3\\envs\\xaifo\\lib\\site-packages\\ray\\tune\\execution\\ray_trial_executor.py\", line 521, in _start_trial\n",
      "    runner = self._setup_remote_runner(trial)\n",
      "  File \"c:\\Users\\rosa-\\anaconda3\\envs\\xaifo\\lib\\site-packages\\ray\\tune\\execution\\ray_trial_executor.py\", line 385, in _setup_remote_runner\n",
      "    trial.init_logdir()\n",
      "  File \"c:\\Users\\rosa-\\anaconda3\\envs\\xaifo\\lib\\site-packages\\ray\\tune\\experiment\\trial.py\", line 628, in init_logdir\n",
      "    logdir_path.mkdir(parents=True, exist_ok=True)\n",
      "  File \"c:\\Users\\rosa-\\anaconda3\\envs\\xaifo\\lib\\pathlib.py\", line 1180, in mkdir\n",
      "    self.mkdir(mode, parents=False, exist_ok=exist_ok)\n",
      "  File \"c:\\Users\\rosa-\\anaconda3\\envs\\xaifo\\lib\\pathlib.py\", line 1175, in mkdir\n",
      "    self._accessor.mkdir(self, mode)\n",
      "FileNotFoundError: [WinError 206] The filename or extension is too long: 'c:\\\\Users\\\\rosa-\\\\Google Drive\\\\Msc_Bioinformatics\\\\thesis\\\\XAIFO-ThesisProject\\\\output\\\\optim_2023-05-16_14-20-46\\\\optim_15af7_00028_28_aggr=sum,dimensions_e2v=64,dropout=0,epoch_e2v=5,epochs=200,hidden_dim=128,layers=2,lr=0.0055,num_walks=2,out_2023-05-16_14-21-46'\n",
      "2023-05-16 14:21:48,097\tWARNING util.py:244 -- The `start_trial` operation took 2.005 s, which may be a performance bottleneck.\n",
      "2023-05-16 14:21:54,177\tERROR ray_trial_executor.py:687 -- Trial optim_15af7_00029: Unexpected error starting runner.\n",
      "Traceback (most recent call last):\n",
      "  File \"c:\\Users\\rosa-\\anaconda3\\envs\\xaifo\\lib\\pathlib.py\", line 1175, in mkdir\n",
      "    self._accessor.mkdir(self, mode)\n",
      "FileNotFoundError: [WinError 206] The filename or extension is too long: 'c:\\\\Users\\\\rosa-\\\\Google Drive\\\\Msc_Bioinformatics\\\\thesis\\\\XAIFO-ThesisProject\\\\output\\\\optim_2023-05-16_14-20-46\\\\optim_15af7_00029_29_aggr=sum,dimensions_e2v=32,dropout=0.2000,epoch_e2v=10,epochs=200,hidden_dim=256,layers=4,lr=0.0002,num_walks_2023-05-16_14-21-54'\n",
      "\n",
      "During handling of the above exception, another exception occurred:\n",
      "\n",
      "Traceback (most recent call last):\n",
      "  File \"c:\\Users\\rosa-\\anaconda3\\envs\\xaifo\\lib\\site-packages\\ray\\tune\\execution\\ray_trial_executor.py\", line 680, in start_trial\n",
      "    return self._start_trial(trial)\n",
      "  File \"c:\\Users\\rosa-\\anaconda3\\envs\\xaifo\\lib\\site-packages\\ray\\tune\\execution\\ray_trial_executor.py\", line 521, in _start_trial\n",
      "    runner = self._setup_remote_runner(trial)\n",
      "  File \"c:\\Users\\rosa-\\anaconda3\\envs\\xaifo\\lib\\site-packages\\ray\\tune\\execution\\ray_trial_executor.py\", line 385, in _setup_remote_runner\n",
      "    trial.init_logdir()\n",
      "  File \"c:\\Users\\rosa-\\anaconda3\\envs\\xaifo\\lib\\site-packages\\ray\\tune\\experiment\\trial.py\", line 628, in init_logdir\n",
      "    logdir_path.mkdir(parents=True, exist_ok=True)\n",
      "  File \"c:\\Users\\rosa-\\anaconda3\\envs\\xaifo\\lib\\pathlib.py\", line 1180, in mkdir\n",
      "    self.mkdir(mode, parents=False, exist_ok=exist_ok)\n",
      "  File \"c:\\Users\\rosa-\\anaconda3\\envs\\xaifo\\lib\\pathlib.py\", line 1175, in mkdir\n",
      "    self._accessor.mkdir(self, mode)\n",
      "FileNotFoundError: [WinError 206] The filename or extension is too long: 'c:\\\\Users\\\\rosa-\\\\Google Drive\\\\Msc_Bioinformatics\\\\thesis\\\\XAIFO-ThesisProject\\\\output\\\\optim_2023-05-16_14-20-46\\\\optim_15af7_00029_29_aggr=sum,dimensions_e2v=32,dropout=0.2000,epoch_e2v=10,epochs=200,hidden_dim=256,layers=4,lr=0.0002,num_walks_2023-05-16_14-21-54'\n",
      "2023-05-16 14:21:54,177\tERROR ray_trial_executor.py:687 -- Trial optim_15af7_00029: Unexpected error starting runner.\n",
      "Traceback (most recent call last):\n",
      "  File \"c:\\Users\\rosa-\\anaconda3\\envs\\xaifo\\lib\\pathlib.py\", line 1175, in mkdir\n",
      "    self._accessor.mkdir(self, mode)\n",
      "FileNotFoundError: [WinError 206] The filename or extension is too long: 'c:\\\\Users\\\\rosa-\\\\Google Drive\\\\Msc_Bioinformatics\\\\thesis\\\\XAIFO-ThesisProject\\\\output\\\\optim_2023-05-16_14-20-46\\\\optim_15af7_00029_29_aggr=sum,dimensions_e2v=32,dropout=0.2000,epoch_e2v=10,epochs=200,hidden_dim=256,layers=4,lr=0.0002,num_walks_2023-05-16_14-21-54'\n",
      "\n",
      "During handling of the above exception, another exception occurred:\n",
      "\n",
      "Traceback (most recent call last):\n",
      "  File \"c:\\Users\\rosa-\\anaconda3\\envs\\xaifo\\lib\\site-packages\\ray\\tune\\execution\\ray_trial_executor.py\", line 680, in start_trial\n",
      "    return self._start_trial(trial)\n",
      "  File \"c:\\Users\\rosa-\\anaconda3\\envs\\xaifo\\lib\\site-packages\\ray\\tune\\execution\\ray_trial_executor.py\", line 521, in _start_trial\n",
      "    runner = self._setup_remote_runner(trial)\n",
      "  File \"c:\\Users\\rosa-\\anaconda3\\envs\\xaifo\\lib\\site-packages\\ray\\tune\\execution\\ray_trial_executor.py\", line 385, in _setup_remote_runner\n",
      "    trial.init_logdir()\n",
      "  File \"c:\\Users\\rosa-\\anaconda3\\envs\\xaifo\\lib\\site-packages\\ray\\tune\\experiment\\trial.py\", line 628, in init_logdir\n",
      "    logdir_path.mkdir(parents=True, exist_ok=True)\n",
      "  File \"c:\\Users\\rosa-\\anaconda3\\envs\\xaifo\\lib\\pathlib.py\", line 1180, in mkdir\n",
      "    self.mkdir(mode, parents=False, exist_ok=exist_ok)\n",
      "  File \"c:\\Users\\rosa-\\anaconda3\\envs\\xaifo\\lib\\pathlib.py\", line 1175, in mkdir\n",
      "    self._accessor.mkdir(self, mode)\n",
      "FileNotFoundError: [WinError 206] The filename or extension is too long: 'c:\\\\Users\\\\rosa-\\\\Google Drive\\\\Msc_Bioinformatics\\\\thesis\\\\XAIFO-ThesisProject\\\\output\\\\optim_2023-05-16_14-20-46\\\\optim_15af7_00029_29_aggr=sum,dimensions_e2v=32,dropout=0.2000,epoch_e2v=10,epochs=200,hidden_dim=256,layers=4,lr=0.0002,num_walks_2023-05-16_14-21-54'\n",
      "2023-05-16 14:21:56,180\tWARNING util.py:244 -- The `start_trial` operation took 2.004 s, which may be a performance bottleneck.\n"
     ]
    },
    {
     "ename": "TuneError",
     "evalue": "('Trials did not complete', [optim_15af7_00000, optim_15af7_00001, optim_15af7_00002, optim_15af7_00003, optim_15af7_00004, optim_15af7_00005, optim_15af7_00006, optim_15af7_00007, optim_15af7_00008, optim_15af7_00009, optim_15af7_00010, optim_15af7_00011, optim_15af7_00012, optim_15af7_00013, optim_15af7_00014, optim_15af7_00015, optim_15af7_00016, optim_15af7_00017, optim_15af7_00018, optim_15af7_00019, optim_15af7_00020, optim_15af7_00021, optim_15af7_00022, optim_15af7_00023, optim_15af7_00024, optim_15af7_00025, optim_15af7_00026, optim_15af7_00027, optim_15af7_00028, optim_15af7_00029])",
     "output_type": "error",
     "traceback": [
      "\u001b[1;31m---------------------------------------------------------------------------\u001b[0m",
      "\u001b[1;31mTuneError\u001b[0m                                 Traceback (most recent call last)",
      "Cell \u001b[1;32mIn[47], line 25\u001b[0m\n\u001b[0;32m      1\u001b[0m search_args \u001b[39m=\u001b[39m {\n\u001b[0;32m      2\u001b[0m     \u001b[39m'\u001b[39m\u001b[39mdevice\u001b[39m\u001b[39m'\u001b[39m: torch_device, \n\u001b[0;32m      3\u001b[0m     \u001b[39m\"\u001b[39m\u001b[39mhidden_dim\u001b[39m\u001b[39m\"\u001b[39m : tune\u001b[39m.\u001b[39mchoice([\u001b[39m64\u001b[39m, \u001b[39m128\u001b[39m, \u001b[39m256\u001b[39m]),\n\u001b[1;32m   (...)\u001b[0m\n\u001b[0;32m     17\u001b[0m     \u001b[39m'\u001b[39m\u001b[39mlayers\u001b[39m\u001b[39m'\u001b[39m: tune\u001b[39m.\u001b[39mchoice([\u001b[39m2\u001b[39m, \u001b[39m4\u001b[39m, \u001b[39m6\u001b[39m])\n\u001b[0;32m     18\u001b[0m }\n\u001b[0;32m     20\u001b[0m scheduler \u001b[39m=\u001b[39m ASHAScheduler(\n\u001b[0;32m     21\u001b[0m         max_t\u001b[39m=\u001b[39m\u001b[39m10\u001b[39m,\n\u001b[0;32m     22\u001b[0m         grace_period\u001b[39m=\u001b[39m\u001b[39m1\u001b[39m,\n\u001b[0;32m     23\u001b[0m         reduction_factor\u001b[39m=\u001b[39m\u001b[39m2\u001b[39m)\n\u001b[1;32m---> 25\u001b[0m result \u001b[39m=\u001b[39m tune\u001b[39m.\u001b[39;49mrun(\n\u001b[0;32m     26\u001b[0m         tune\u001b[39m.\u001b[39;49mwith_parameters(optim),\n\u001b[0;32m     27\u001b[0m         resources_per_trial \u001b[39m=\u001b[39;49m {\u001b[39m\"\u001b[39;49m\u001b[39mcpu\u001b[39;49m\u001b[39m\"\u001b[39;49m: \u001b[39m4\u001b[39;49m}, \u001b[39m#change this value according to the gpu units you would like to use\u001b[39;49;00m\n\u001b[0;32m     28\u001b[0m         config \u001b[39m=\u001b[39;49m search_args,\n\u001b[0;32m     29\u001b[0m         metric \u001b[39m=\u001b[39;49m \u001b[39m\"\u001b[39;49m\u001b[39mval_auc\u001b[39;49m\u001b[39m\"\u001b[39;49m,\n\u001b[0;32m     30\u001b[0m         mode \u001b[39m=\u001b[39;49m \u001b[39m\"\u001b[39;49m\u001b[39mmax\u001b[39;49m\u001b[39m\"\u001b[39;49m,\n\u001b[0;32m     31\u001b[0m         num_samples \u001b[39m=\u001b[39;49m \u001b[39m30\u001b[39;49m, \u001b[39m#select the maximum number of models you would like to test\u001b[39;49;00m\n\u001b[0;32m     32\u001b[0m         scheduler \u001b[39m=\u001b[39;49m scheduler, \n\u001b[0;32m     33\u001b[0m         resume \u001b[39m=\u001b[39;49m \u001b[39mFalse\u001b[39;49;00m, \n\u001b[0;32m     34\u001b[0m         local_dir \u001b[39m=\u001b[39;49m \u001b[39m\"\u001b[39;49m\u001b[39moutput\u001b[39;49m\u001b[39m\"\u001b[39;49m\n\u001b[0;32m     35\u001b[0m     )\n",
      "File \u001b[1;32mc:\\Users\\rosa-\\anaconda3\\envs\\xaifo\\lib\\site-packages\\ray\\tune\\tune.py:792\u001b[0m, in \u001b[0;36mrun\u001b[1;34m(run_or_experiment, name, metric, mode, stop, time_budget_s, config, resources_per_trial, num_samples, local_dir, search_alg, scheduler, keep_checkpoints_num, checkpoint_score_attr, checkpoint_freq, checkpoint_at_end, verbose, progress_reporter, log_to_file, trial_name_creator, trial_dirname_creator, chdir_to_trial_dir, sync_config, export_formats, max_failures, fail_fast, restore, server_port, resume, reuse_actors, raise_on_failed_trial, callbacks, max_concurrent_trials, trial_executor, _experiment_checkpoint_dir, _remote, _remote_string_queue)\u001b[0m\n\u001b[0;32m    790\u001b[0m \u001b[39mif\u001b[39;00m incomplete_trials:\n\u001b[0;32m    791\u001b[0m     \u001b[39mif\u001b[39;00m raise_on_failed_trial \u001b[39mand\u001b[39;00m \u001b[39mnot\u001b[39;00m experiment_interrupted_event\u001b[39m.\u001b[39mis_set():\n\u001b[1;32m--> 792\u001b[0m         \u001b[39mraise\u001b[39;00m TuneError(\u001b[39m\"\u001b[39m\u001b[39mTrials did not complete\u001b[39m\u001b[39m\"\u001b[39m, incomplete_trials)\n\u001b[0;32m    793\u001b[0m     \u001b[39melse\u001b[39;00m:\n\u001b[0;32m    794\u001b[0m         logger\u001b[39m.\u001b[39merror(\u001b[39m\"\u001b[39m\u001b[39mTrials did not complete: \u001b[39m\u001b[39m%s\u001b[39;00m\u001b[39m\"\u001b[39m, incomplete_trials)\n",
      "\u001b[1;31mTuneError\u001b[0m: ('Trials did not complete', [optim_15af7_00000, optim_15af7_00001, optim_15af7_00002, optim_15af7_00003, optim_15af7_00004, optim_15af7_00005, optim_15af7_00006, optim_15af7_00007, optim_15af7_00008, optim_15af7_00009, optim_15af7_00010, optim_15af7_00011, optim_15af7_00012, optim_15af7_00013, optim_15af7_00014, optim_15af7_00015, optim_15af7_00016, optim_15af7_00017, optim_15af7_00018, optim_15af7_00019, optim_15af7_00020, optim_15af7_00021, optim_15af7_00022, optim_15af7_00023, optim_15af7_00024, optim_15af7_00025, optim_15af7_00026, optim_15af7_00027, optim_15af7_00028, optim_15af7_00029])"
     ]
    }
   ],
   "source": [
    "\n",
    "search_args = {\n",
    "    'device': torch_device, \n",
    "    \"hidden_dim\" : tune.choice([64, 128, 256]),\n",
    "    'output_dim': tune.choice([64, 128, 256]),\n",
    "    \"epochs\" : tune.choice([100, 150, 200]),\n",
    "    'type_size' : len(set(edge2vec_df['type'])),\n",
    "    'epoch_e2v' : tune.choice([5, 10]),\n",
    "    'num_walks' : tune.choice([2, 4, 6]),\n",
    "    'walk_length' : tune.choice([3, 5, 7]),\n",
    "    'p' : tune.choice([0.5, 0.75, 1]),\n",
    "    'q' : tune.choice([0.5, 0.75, 1]),\n",
    "    'dimensions_e2v' : tune.choice([32, 64, 128]),\n",
    "    'df': edge2vec_df, \n",
    "    'lr': tune.loguniform(1e-4, 1e-1), \n",
    "    'aggr': tune.choice(['mean', 'sum']), \n",
    "    'dropout': tune.choice([0, 0.1, 0.2]), \n",
    "    'layers': tune.choice([2, 4, 6])\n",
    "}\n",
    "\n",
    "scheduler = ASHAScheduler(\n",
    "        max_t=10,\n",
    "        grace_period=1,\n",
    "        reduction_factor=2)\n",
    "\n",
    "result = tune.run(\n",
    "        tune.with_parameters(optim),\n",
    "        resources_per_trial = {\"cpu\": 4}, #change this value according to the gpu units you would like to use\n",
    "        config = search_args,\n",
    "        metric = \"val_auc\",\n",
    "        mode = \"max\",\n",
    "        num_samples = 30, #select the maximum number of models you would like to test\n",
    "        scheduler = scheduler, \n",
    "        resume = False, \n",
    "        local_dir = \"output\"\n",
    "    )\n"
   ]
  },
  {
   "cell_type": "code",
   "execution_count": null,
   "metadata": {},
   "outputs": [
    {
     "data": {
      "text/plain": [
       "'\\nbest_trial = result.get_best_trial(\"val_auc\")\\nprint(\"Best trial config: {}\".format(best_trial.config))\\n'"
      ]
     },
     "execution_count": 45,
     "metadata": {},
     "output_type": "execute_result"
    }
   ],
   "source": [
    "\"\"\"\n",
    "best_trial = result.get_best_trial(\"val_auc\")\n",
    "print(\"Best trial config: {}\".format(best_trial.config))\n",
    "\"\"\""
   ]
  },
  {
   "attachments": {},
   "cell_type": "markdown",
   "metadata": {},
   "source": [
    "# GNN Predictions"
   ]
  },
  {
   "attachments": {},
   "cell_type": "markdown",
   "metadata": {},
   "source": [
    "Load the Edge2Vec embedding"
   ]
  },
  {
   "cell_type": "code",
   "execution_count": null,
   "metadata": {},
   "outputs": [
    {
     "data": {
      "text/html": [
       "<div>\n",
       "<style scoped>\n",
       "    .dataframe tbody tr th:only-of-type {\n",
       "        vertical-align: middle;\n",
       "    }\n",
       "\n",
       "    .dataframe tbody tr th {\n",
       "        vertical-align: top;\n",
       "    }\n",
       "\n",
       "    .dataframe thead th {\n",
       "        text-align: right;\n",
       "    }\n",
       "</style>\n",
       "<table border=\"1\" class=\"dataframe\">\n",
       "  <thead>\n",
       "    <tr style=\"text-align: right;\">\n",
       "      <th></th>\n",
       "      <th>Node</th>\n",
       "      <th>Embedding</th>\n",
       "    </tr>\n",
       "  </thead>\n",
       "  <tbody>\n",
       "    <tr>\n",
       "      <th>0</th>\n",
       "      <td>0</td>\n",
       "      <td>[-0.23730597, -0.67259294, 0.03148575, -0.0319...</td>\n",
       "    </tr>\n",
       "    <tr>\n",
       "      <th>1</th>\n",
       "      <td>1</td>\n",
       "      <td>[0.023914628, -0.29809657, 0.24963157, 0.19368...</td>\n",
       "    </tr>\n",
       "    <tr>\n",
       "      <th>2</th>\n",
       "      <td>2</td>\n",
       "      <td>[-0.041353777, -0.24620363, -0.22668226, 0.230...</td>\n",
       "    </tr>\n",
       "    <tr>\n",
       "      <th>3</th>\n",
       "      <td>3</td>\n",
       "      <td>[0.14481798, -0.20199625, 0.081993796, 0.05074...</td>\n",
       "    </tr>\n",
       "    <tr>\n",
       "      <th>4</th>\n",
       "      <td>4</td>\n",
       "      <td>[0.09358601, -0.7251166, 0.44952348, 0.4887344...</td>\n",
       "    </tr>\n",
       "    <tr>\n",
       "      <th>...</th>\n",
       "      <td>...</td>\n",
       "      <td>...</td>\n",
       "    </tr>\n",
       "    <tr>\n",
       "      <th>10029</th>\n",
       "      <td>10029</td>\n",
       "      <td>[0.3813848, -0.51404345, 0.13377202, 0.2083124...</td>\n",
       "    </tr>\n",
       "    <tr>\n",
       "      <th>10030</th>\n",
       "      <td>10030</td>\n",
       "      <td>[0.32937527, -0.42879906, 0.49301067, 0.108241...</td>\n",
       "    </tr>\n",
       "    <tr>\n",
       "      <th>10031</th>\n",
       "      <td>10031</td>\n",
       "      <td>[0.22001168, -0.42305133, 0.0035328122, 0.2503...</td>\n",
       "    </tr>\n",
       "    <tr>\n",
       "      <th>10032</th>\n",
       "      <td>10032</td>\n",
       "      <td>[0.39139554, -0.091309026, -0.090942584, -0.31...</td>\n",
       "    </tr>\n",
       "    <tr>\n",
       "      <th>10033</th>\n",
       "      <td>10033</td>\n",
       "      <td>[0.09467783, -0.14020678, 0.19429095, 0.304035...</td>\n",
       "    </tr>\n",
       "  </tbody>\n",
       "</table>\n",
       "<p>10034 rows × 2 columns</p>\n",
       "</div>"
      ],
      "text/plain": [
       "        Node                                          Embedding\n",
       "0          0  [-0.23730597, -0.67259294, 0.03148575, -0.0319...\n",
       "1          1  [0.023914628, -0.29809657, 0.24963157, 0.19368...\n",
       "2          2  [-0.041353777, -0.24620363, -0.22668226, 0.230...\n",
       "3          3  [0.14481798, -0.20199625, 0.081993796, 0.05074...\n",
       "4          4  [0.09358601, -0.7251166, 0.44952348, 0.4887344...\n",
       "...      ...                                                ...\n",
       "10029  10029  [0.3813848, -0.51404345, 0.13377202, 0.2083124...\n",
       "10030  10030  [0.32937527, -0.42879906, 0.49301067, 0.108241...\n",
       "10031  10031  [0.22001168, -0.42305133, 0.0035328122, 0.2503...\n",
       "10032  10032  [0.39139554, -0.091309026, -0.090942584, -0.31...\n",
       "10033  10033  [0.09467783, -0.14020678, 0.19429095, 0.304035...\n",
       "\n",
       "[10034 rows x 2 columns]"
      ]
     },
     "execution_count": 48,
     "metadata": {},
     "output_type": "execute_result"
    }
   ],
   "source": [
    "node_feat = KeyedVectors.load('output/w2v.dvectors', mmap='r')\n",
    "\n",
    "e2v_embedding = pd.DataFrame(columns = ['Node', 'Embedding'])\n",
    "for idx, key in enumerate(node_feat.index_to_key):\n",
    "    e2v_embedding.loc[int(key)] = pd.Series({'Node':int(key), 'Embedding':list(node_feat[key])})\n",
    "    \n",
    "e2v_embedding = e2v_embedding.sort_values('Node')\n",
    "e2v_embedding"
   ]
  },
  {
   "attachments": {},
   "cell_type": "markdown",
   "metadata": {},
   "source": [
    "Initialize a graph with nodes and their embedding features."
   ]
  },
  {
   "cell_type": "code",
   "execution_count": null,
   "metadata": {},
   "outputs": [
    {
     "name": "stdout",
     "output_type": "stream",
     "text": [
      "(0, {'node_feature': tensor([-0.2373, -0.6726,  0.0315, -0.0320,  0.3521, -0.0603, -0.2529, -0.2380,\n",
      "        -0.2843, -0.0904,  0.1445, -0.3548, -0.1687, -0.1291,  0.1674,  0.4701,\n",
      "        -0.2066,  0.0448, -0.4844,  0.5183,  0.5312, -0.2387,  0.2853,  0.3143,\n",
      "        -0.4235,  0.5705, -0.4175, -0.1010, -0.2630, -0.0620, -0.0100, -0.4090,\n",
      "         0.0204, -0.3645, -0.0323,  0.0475, -0.1973, -0.4321,  0.2897, -0.1158,\n",
      "        -0.0160, -0.0327, -0.4156,  0.1112,  0.3346, -0.1544,  0.2001, -0.0623,\n",
      "        -0.0527,  0.2469,  0.8148, -0.0851,  0.0231,  0.1488,  0.1442,  0.3787,\n",
      "         0.1281, -0.3416,  0.1687,  0.5847, -0.3834, -0.3367, -0.3782,  0.2679])})\n",
      "(0, 6308, {})\n",
      "Number of edges is 82899\n",
      "Number of nodes is 10034\n"
     ]
    }
   ],
   "source": [
    "G = nx.DiGraph() # TODO: changed from Graph\n",
    "for ind, node in e2v_embedding.iterrows(): \n",
    "    G.add_node(int(node['Node']), node_feature=torch.Tensor(node['Embedding']))\n",
    "for ind, edge in edge2vec_df.iterrows(): \n",
    "    G.add_edge(int(edge['index_head']), int(edge['index_tail']))\n",
    "  \n",
    "for node in G.nodes(data=True):\n",
    "    print(node)\n",
    "    break\n",
    "for edge in G.edges(data=True):\n",
    "    print(edge)\n",
    "    break\n",
    "\n",
    "print(\"Number of edges is {}\".format(G.number_of_edges()))\n",
    "print(\"Number of nodes is {}\".format(G.number_of_nodes()))"
   ]
  },
  {
   "cell_type": "code",
   "execution_count": null,
   "metadata": {},
   "outputs": [
    {
     "name": "stdout",
     "output_type": "stream",
     "text": [
      "torch.Size([2, 82899])\n"
     ]
    }
   ],
   "source": [
    "DeepG = Graph(G)\n",
    "print(DeepG.edge_index.shape)"
   ]
  },
  {
   "attachments": {},
   "cell_type": "markdown",
   "metadata": {},
   "source": [
    "Load arguments and parameters of trained GNN model."
   ]
  },
  {
   "cell_type": "code",
   "execution_count": null,
   "metadata": {},
   "outputs": [
    {
     "data": {
      "text/plain": [
       "<All keys matched successfully>"
      ]
     },
     "execution_count": 51,
     "metadata": {},
     "output_type": "execute_result"
    }
   ],
   "source": [
    "with open('output/best_model_args.pkl', 'rb') as f:\n",
    "    loaded_args = pickle.load(f)\n",
    "    \n",
    "best_model = LinkPredModel(len(e2v_embedding['Embedding'][0]), loaded_args['hidden_dim'], loaded_args['output_dim'], loaded_args['layers'], loaded_args['aggr'], loaded_args['dropout'], loaded_args['device']).to(loaded_args['device'])\n",
    "best_model.load_state_dict(torch.load('output/best_model.pth'))"
   ]
  },
  {
   "attachments": {},
   "cell_type": "markdown",
   "metadata": {},
   "source": [
    "Get output of best model given the graph"
   ]
  },
  {
   "cell_type": "code",
   "execution_count": null,
   "metadata": {},
   "outputs": [
    {
     "name": "stdout",
     "output_type": "stream",
     "text": [
      "torch.Size([10034, 64])\n"
     ]
    }
   ],
   "source": [
    "_, best_x = best_model(DeepG.node_feature, DeepG.edge_index, DeepG.edge_label_index, training = False)\n",
    "print(best_x.shape)"
   ]
  },
  {
   "attachments": {},
   "cell_type": "markdown",
   "metadata": {},
   "source": [
    "Define the score function"
   ]
  },
  {
   "cell_type": "code",
   "execution_count": null,
   "metadata": {},
   "outputs": [],
   "source": [
    "def score(x, id1, id2): \n",
    "    n1 = x[id1]\n",
    "    n2 = x[id2]\n",
    "    score = torch.Tensor([torch.sum(n1 * n2, dim=-1)])\n",
    "    p = torch.sigmoid(score).cpu().detach().numpy()\n",
    "    return p\n",
    "\n",
    "def candidates(nodes, id, x): \n",
    "  ind = nodes[nodes['id'] == id].index.values.astype(int)[0]\n",
    "  predictions = nodes.copy()\n",
    "  scores = []\n",
    "  for i in range(len(x)):  \n",
    "    s = score(x, i, ind)\n",
    "    scores.append(s)\n",
    "  predictions['Score'] = scores\n",
    "  return predictions"
   ]
  },
  {
   "attachments": {},
   "cell_type": "markdown",
   "metadata": {},
   "source": [
    "Calculate the predictions of an edge existing or not between given node ID and each node in the graph contained by semantic group DRUG. Show the top 20 highest probability that an edge exists between a pair of nodes."
   ]
  },
  {
   "cell_type": "code",
   "execution_count": null,
   "metadata": {},
   "outputs": [
    {
     "data": {
      "text/html": [
       "<div>\n",
       "<style scoped>\n",
       "    .dataframe tbody tr th:only-of-type {\n",
       "        vertical-align: middle;\n",
       "    }\n",
       "\n",
       "    .dataframe tbody tr th {\n",
       "        vertical-align: top;\n",
       "    }\n",
       "\n",
       "    .dataframe thead th {\n",
       "        text-align: right;\n",
       "    }\n",
       "</style>\n",
       "<table border=\"1\" class=\"dataframe\">\n",
       "  <thead>\n",
       "    <tr style=\"text-align: right;\">\n",
       "      <th></th>\n",
       "      <th>id</th>\n",
       "      <th>semantic</th>\n",
       "      <th>label</th>\n",
       "      <th>semantic_id</th>\n",
       "      <th>Score</th>\n",
       "    </tr>\n",
       "  </thead>\n",
       "  <tbody>\n",
       "  </tbody>\n",
       "</table>\n",
       "</div>"
      ],
      "text/plain": [
       "Empty DataFrame\n",
       "Columns: [id, semantic, label, semantic_id, Score]\n",
       "Index: []"
      ]
     },
     "execution_count": 54,
     "metadata": {},
     "output_type": "execute_result"
    }
   ],
   "source": [
    "predictions = candidates(nodes, 'HP:0001265', best_x)\n",
    "predictions[predictions['semantic'] == 'drug'].sort_values(by = ['Score'], ascending = False).head(20)"
   ]
  },
  {
   "attachments": {},
   "cell_type": "markdown",
   "metadata": {},
   "source": [
    "Use the node semantics dictionary"
   ]
  },
  {
   "cell_type": "code",
   "execution_count": null,
   "metadata": {},
   "outputs": [
    {
     "data": {
      "text/plain": [
       "{0: 'ANAT',\n",
       " 1: 'DISO',\n",
       " 2: 'DRUG',\n",
       " 3: 'GENE',\n",
       " 4: 'GENO',\n",
       " 5: 'ORTH',\n",
       " 6: 'PHYS',\n",
       " 7: 'VARI'}"
      ]
     },
     "execution_count": 55,
     "metadata": {},
     "output_type": "execute_result"
    }
   ],
   "source": [
    "node_semantic_dict"
   ]
  },
  {
   "attachments": {},
   "cell_type": "markdown",
   "metadata": {},
   "source": [
    "Get all phenotypes and diseases relevant to the disease."
   ]
  },
  {
   "cell_type": "code",
   "execution_count": null,
   "metadata": {},
   "outputs": [
    {
     "ename": "ValueError",
     "evalue": "'associated with phenotype' is not in list",
     "output_type": "error",
     "traceback": [
      "\u001b[1;31m---------------------------------------------------------------------------\u001b[0m",
      "\u001b[1;31mValueError\u001b[0m                                Traceback (most recent call last)",
      "Cell \u001b[1;32mIn[56], line 2\u001b[0m\n\u001b[0;32m      1\u001b[0m disease_ID \u001b[39m=\u001b[39m \u001b[39m'\u001b[39m\u001b[39mMONDO:0010679\u001b[39m\u001b[39m'\u001b[39m\n\u001b[1;32m----> 2\u001b[0m relation_index \u001b[39m=\u001b[39m \u001b[39mlist\u001b[39;49m(relation_labels)\u001b[39m.\u001b[39;49mindex(\u001b[39m'\u001b[39;49m\u001b[39massociated with phenotype\u001b[39;49m\u001b[39m'\u001b[39;49m)\n\u001b[0;32m      4\u001b[0m symptoms \u001b[39m=\u001b[39m edge2vec_df[(edge2vec_df[\u001b[39m'\u001b[39m\u001b[39mhead\u001b[39m\u001b[39m'\u001b[39m] \u001b[39m==\u001b[39m \u001b[39m'\u001b[39m\u001b[39mMONDO:0010679\u001b[39m\u001b[39m'\u001b[39m) \u001b[39m&\u001b[39m (edge2vec_df[\u001b[39m'\u001b[39m\u001b[39mtype\u001b[39m\u001b[39m'\u001b[39m] \u001b[39m==\u001b[39m relation_index)]\n\u001b[0;32m      6\u001b[0m \u001b[39mprint\u001b[39m(\u001b[39mf\u001b[39m\u001b[39m'\u001b[39m\u001b[39mA total of \u001b[39m\u001b[39m{\u001b[39;00msymptoms\u001b[39m.\u001b[39mshape[\u001b[39m0\u001b[39m]\u001b[39m}\u001b[39;00m\u001b[39m symptoms found that are associated with \u001b[39m\u001b[39m{\u001b[39;00mdisease_ID\u001b[39m}\u001b[39;00m\u001b[39m'\u001b[39m)\n",
      "\u001b[1;31mValueError\u001b[0m: 'associated with phenotype' is not in list"
     ]
    }
   ],
   "source": [
    "disease_ID = 'MONDO:0010679'\n",
    "relation_index = list(relation_labels).index('associated with phenotype')\n",
    "\n",
    "symptoms = edge2vec_df[(edge2vec_df['head'] == 'MONDO:0010679') & (edge2vec_df['type'] == relation_index)]\n",
    "\n",
    "print(f'A total of {symptoms.shape[0]} symptoms found that are associated with {disease_ID}')\n",
    "symptoms.head(symptoms.shape[0])"
   ]
  },
  {
   "attachments": {},
   "cell_type": "markdown",
   "metadata": {},
   "source": [
    "Check alignment between dataframes containing the associations and the nodes"
   ]
  },
  {
   "cell_type": "code",
   "execution_count": null,
   "metadata": {},
   "outputs": [
    {
     "data": {
      "text/html": [
       "<div>\n",
       "<style scoped>\n",
       "    .dataframe tbody tr th:only-of-type {\n",
       "        vertical-align: middle;\n",
       "    }\n",
       "\n",
       "    .dataframe tbody tr th {\n",
       "        vertical-align: top;\n",
       "    }\n",
       "\n",
       "    .dataframe thead th {\n",
       "        text-align: right;\n",
       "    }\n",
       "</style>\n",
       "<table border=\"1\" class=\"dataframe\">\n",
       "  <thead>\n",
       "    <tr style=\"text-align: right;\">\n",
       "      <th></th>\n",
       "      <th>id</th>\n",
       "      <th>semantic</th>\n",
       "      <th>label</th>\n",
       "      <th>semantic_id</th>\n",
       "    </tr>\n",
       "  </thead>\n",
       "  <tbody>\n",
       "    <tr>\n",
       "      <th>4672</th>\n",
       "      <td>ZP:0010728</td>\n",
       "      <td>DISO</td>\n",
       "      <td>pronephric glomerulus morphogenesis process qu...</td>\n",
       "      <td>1</td>\n",
       "    </tr>\n",
       "  </tbody>\n",
       "</table>\n",
       "</div>"
      ],
      "text/plain": [
       "              id semantic                                              label  \\\n",
       "4672  ZP:0010728     DISO  pronephric glomerulus morphogenesis process qu...   \n",
       "\n",
       "      semantic_id  \n",
       "4672            1  "
      ]
     },
     "execution_count": 57,
     "metadata": {},
     "output_type": "execute_result"
    }
   ],
   "source": [
    "# Above dataframe indicates that index 4672 represents MONDO:0010679\n",
    "nodes.loc[[4672]]"
   ]
  },
  {
   "attachments": {},
   "cell_type": "markdown",
   "metadata": {},
   "source": [
    "## Component Analysis"
   ]
  },
  {
   "cell_type": "code",
   "execution_count": null,
   "metadata": {},
   "outputs": [],
   "source": [
    "X_data = best_x.detach().cpu().numpy()\n",
    "z = StandardScaler().fit_transform(X_data)"
   ]
  },
  {
   "attachments": {},
   "cell_type": "markdown",
   "metadata": {},
   "source": [
    "### PCA"
   ]
  },
  {
   "cell_type": "code",
   "execution_count": null,
   "metadata": {},
   "outputs": [
    {
     "data": {
      "text/html": [
       "<div>\n",
       "<style scoped>\n",
       "    .dataframe tbody tr th:only-of-type {\n",
       "        vertical-align: middle;\n",
       "    }\n",
       "\n",
       "    .dataframe tbody tr th {\n",
       "        vertical-align: top;\n",
       "    }\n",
       "\n",
       "    .dataframe thead th {\n",
       "        text-align: right;\n",
       "    }\n",
       "</style>\n",
       "<table border=\"1\" class=\"dataframe\">\n",
       "  <thead>\n",
       "    <tr style=\"text-align: right;\">\n",
       "      <th></th>\n",
       "      <th>principal component 1</th>\n",
       "      <th>principal component 2</th>\n",
       "    </tr>\n",
       "  </thead>\n",
       "  <tbody>\n",
       "    <tr>\n",
       "      <th>0</th>\n",
       "      <td>1.187256</td>\n",
       "      <td>-2.200653</td>\n",
       "    </tr>\n",
       "    <tr>\n",
       "      <th>1</th>\n",
       "      <td>-0.370517</td>\n",
       "      <td>-0.954194</td>\n",
       "    </tr>\n",
       "    <tr>\n",
       "      <th>2</th>\n",
       "      <td>-0.345350</td>\n",
       "      <td>-0.983118</td>\n",
       "    </tr>\n",
       "    <tr>\n",
       "      <th>3</th>\n",
       "      <td>-1.517648</td>\n",
       "      <td>-1.971286</td>\n",
       "    </tr>\n",
       "    <tr>\n",
       "      <th>4</th>\n",
       "      <td>1.057390</td>\n",
       "      <td>2.749050</td>\n",
       "    </tr>\n",
       "    <tr>\n",
       "      <th>...</th>\n",
       "      <td>...</td>\n",
       "      <td>...</td>\n",
       "    </tr>\n",
       "    <tr>\n",
       "      <th>10029</th>\n",
       "      <td>0.889240</td>\n",
       "      <td>2.443549</td>\n",
       "    </tr>\n",
       "    <tr>\n",
       "      <th>10030</th>\n",
       "      <td>-0.073495</td>\n",
       "      <td>-0.046409</td>\n",
       "    </tr>\n",
       "    <tr>\n",
       "      <th>10031</th>\n",
       "      <td>-0.758489</td>\n",
       "      <td>-0.327330</td>\n",
       "    </tr>\n",
       "    <tr>\n",
       "      <th>10032</th>\n",
       "      <td>0.250977</td>\n",
       "      <td>-1.719336</td>\n",
       "    </tr>\n",
       "    <tr>\n",
       "      <th>10033</th>\n",
       "      <td>-1.078722</td>\n",
       "      <td>-0.358752</td>\n",
       "    </tr>\n",
       "  </tbody>\n",
       "</table>\n",
       "<p>10034 rows × 2 columns</p>\n",
       "</div>"
      ],
      "text/plain": [
       "       principal component 1  principal component 2\n",
       "0                   1.187256              -2.200653\n",
       "1                  -0.370517              -0.954194\n",
       "2                  -0.345350              -0.983118\n",
       "3                  -1.517648              -1.971286\n",
       "4                   1.057390               2.749050\n",
       "...                      ...                    ...\n",
       "10029               0.889240               2.443549\n",
       "10030              -0.073495              -0.046409\n",
       "10031              -0.758489              -0.327330\n",
       "10032               0.250977              -1.719336\n",
       "10033              -1.078722              -0.358752\n",
       "\n",
       "[10034 rows x 2 columns]"
      ]
     },
     "execution_count": 59,
     "metadata": {},
     "output_type": "execute_result"
    }
   ],
   "source": [
    "pca = PCA(n_components=32)\n",
    "princ_comp = pca.fit_transform(z)\n",
    "princ_df = pd.DataFrame(data=princ_comp[:, [0,1]], columns=['principal component 1', 'principal component 2'])\n",
    "princ_df"
   ]
  },
  {
   "attachments": {},
   "cell_type": "markdown",
   "metadata": {},
   "source": [
    "Based on plot below, choose the number of components for PCA analysis yielding an amount of variance close to 1.0."
   ]
  },
  {
   "cell_type": "code",
   "execution_count": null,
   "metadata": {},
   "outputs": [
    {
     "data": {
      "image/png": "[encoded data removed]",
      "text/plain": [
       "<Figure size 640x480 with 1 Axes>"
      ]
     },
     "metadata": {},
     "output_type": "display_data"
    }
   ],
   "source": [
    "plt.plot(np.cumsum(pca.explained_variance_ratio_))\n",
    "plt.xlabel('number of components')\n",
    "plt.ylabel('cumulative explained variance')\n",
    "plt.show()"
   ]
  },
  {
   "cell_type": "code",
   "execution_count": null,
   "metadata": {},
   "outputs": [
    {
     "data": {
      "text/html": [
       "<div>\n",
       "<style scoped>\n",
       "    .dataframe tbody tr th:only-of-type {\n",
       "        vertical-align: middle;\n",
       "    }\n",
       "\n",
       "    .dataframe tbody tr th {\n",
       "        vertical-align: top;\n",
       "    }\n",
       "\n",
       "    .dataframe thead th {\n",
       "        text-align: right;\n",
       "    }\n",
       "</style>\n",
       "<table border=\"1\" class=\"dataframe\">\n",
       "  <thead>\n",
       "    <tr style=\"text-align: right;\">\n",
       "      <th></th>\n",
       "      <th>principal component 1</th>\n",
       "      <th>principal component 2</th>\n",
       "      <th>semantic</th>\n",
       "    </tr>\n",
       "  </thead>\n",
       "  <tbody>\n",
       "    <tr>\n",
       "      <th>0</th>\n",
       "      <td>1.187256</td>\n",
       "      <td>-2.200653</td>\n",
       "      <td>ORTH</td>\n",
       "    </tr>\n",
       "    <tr>\n",
       "      <th>1</th>\n",
       "      <td>-0.370517</td>\n",
       "      <td>-0.954194</td>\n",
       "      <td>DISO</td>\n",
       "    </tr>\n",
       "    <tr>\n",
       "      <th>2</th>\n",
       "      <td>-0.345350</td>\n",
       "      <td>-0.983118</td>\n",
       "      <td>ORTH</td>\n",
       "    </tr>\n",
       "    <tr>\n",
       "      <th>3</th>\n",
       "      <td>-1.517648</td>\n",
       "      <td>-1.971286</td>\n",
       "      <td>DRUG</td>\n",
       "    </tr>\n",
       "    <tr>\n",
       "      <th>4</th>\n",
       "      <td>1.057390</td>\n",
       "      <td>2.749050</td>\n",
       "      <td>ORTH</td>\n",
       "    </tr>\n",
       "    <tr>\n",
       "      <th>...</th>\n",
       "      <td>...</td>\n",
       "      <td>...</td>\n",
       "      <td>...</td>\n",
       "    </tr>\n",
       "    <tr>\n",
       "      <th>10029</th>\n",
       "      <td>0.889240</td>\n",
       "      <td>2.443549</td>\n",
       "      <td>DISO</td>\n",
       "    </tr>\n",
       "    <tr>\n",
       "      <th>10030</th>\n",
       "      <td>-0.073495</td>\n",
       "      <td>-0.046409</td>\n",
       "      <td>DISO</td>\n",
       "    </tr>\n",
       "    <tr>\n",
       "      <th>10031</th>\n",
       "      <td>-0.758489</td>\n",
       "      <td>-0.327330</td>\n",
       "      <td>DISO</td>\n",
       "    </tr>\n",
       "    <tr>\n",
       "      <th>10032</th>\n",
       "      <td>0.250977</td>\n",
       "      <td>-1.719336</td>\n",
       "      <td>DISO</td>\n",
       "    </tr>\n",
       "    <tr>\n",
       "      <th>10033</th>\n",
       "      <td>-1.078722</td>\n",
       "      <td>-0.358752</td>\n",
       "      <td>VARI</td>\n",
       "    </tr>\n",
       "  </tbody>\n",
       "</table>\n",
       "<p>10034 rows × 3 columns</p>\n",
       "</div>"
      ],
      "text/plain": [
       "       principal component 1  principal component 2 semantic\n",
       "0                   1.187256              -2.200653     ORTH\n",
       "1                  -0.370517              -0.954194     DISO\n",
       "2                  -0.345350              -0.983118     ORTH\n",
       "3                  -1.517648              -1.971286     DRUG\n",
       "4                   1.057390               2.749050     ORTH\n",
       "...                      ...                    ...      ...\n",
       "10029               0.889240               2.443549     DISO\n",
       "10030              -0.073495              -0.046409     DISO\n",
       "10031              -0.758489              -0.327330     DISO\n",
       "10032               0.250977              -1.719336     DISO\n",
       "10033              -1.078722              -0.358752     VARI\n",
       "\n",
       "[10034 rows x 3 columns]"
      ]
     },
     "execution_count": 61,
     "metadata": {},
     "output_type": "execute_result"
    }
   ],
   "source": [
    "pca_df = pd.concat([princ_df, nodes[['semantic']]], axis=1)\n",
    "pca_df"
   ]
  },
  {
   "cell_type": "code",
   "execution_count": null,
   "metadata": {},
   "outputs": [
    {
     "data": {
      "image/png": "[encoded data removed]",
      "text/plain": [
       "<Figure size 800x800 with 1 Axes>"
      ]
     },
     "metadata": {},
     "output_type": "display_data"
    }
   ],
   "source": [
    "fig = plt.figure(figsize = (8,8))\n",
    "ax = fig.add_subplot(1, 1, 1)\n",
    "ax.set_xlabel('Principal Component 1', fontsize = 15)\n",
    "ax.set_ylabel('Principal Component 2', fontsize = 15)\n",
    "ax.set_title('Two components from 32-PCA', fontsize = 16)\n",
    "\n",
    "unique_node_semantics = list(node_semantic_dict.values())\n",
    "colors = ['silver', 'indianred', 'peru', 'gold', 'olivedrab', 'cadetblue', 'skyblue', 'steelblue', 'royalblue', 'mediumpurple', 'palevioletred']\n",
    "\n",
    "for target, color in zip(unique_node_semantics, colors):\n",
    "    indicesToKeep = pca_df['semantic'] == target\n",
    "    ax.scatter(pca_df.loc[indicesToKeep, 'principal component 1'], pca_df.loc[indicesToKeep, 'principal component 2'], c = color, s = 50)\n",
    "    \n",
    "ax.legend(unique_node_semantics)\n",
    "ax.grid()\n",
    "\n",
    "plt.show()"
   ]
  },
  {
   "attachments": {},
   "cell_type": "markdown",
   "metadata": {},
   "source": [
    "### t-SNE"
   ]
  },
  {
   "cell_type": "code",
   "execution_count": null,
   "metadata": {},
   "outputs": [],
   "source": [
    "X_tsne = TSNE(learning_rate=100, perplexity=40).fit_transform(X_data)"
   ]
  },
  {
   "cell_type": "code",
   "execution_count": null,
   "metadata": {},
   "outputs": [
    {
     "data": {
      "text/html": [
       "<div>\n",
       "<style scoped>\n",
       "    .dataframe tbody tr th:only-of-type {\n",
       "        vertical-align: middle;\n",
       "    }\n",
       "\n",
       "    .dataframe tbody tr th {\n",
       "        vertical-align: top;\n",
       "    }\n",
       "\n",
       "    .dataframe thead th {\n",
       "        text-align: right;\n",
       "    }\n",
       "</style>\n",
       "<table border=\"1\" class=\"dataframe\">\n",
       "  <thead>\n",
       "    <tr style=\"text-align: right;\">\n",
       "      <th></th>\n",
       "      <th>t-SNE 1</th>\n",
       "      <th>t-SNE 2</th>\n",
       "    </tr>\n",
       "  </thead>\n",
       "  <tbody>\n",
       "    <tr>\n",
       "      <th>0</th>\n",
       "      <td>-24.912594</td>\n",
       "      <td>9.177112</td>\n",
       "    </tr>\n",
       "    <tr>\n",
       "      <th>1</th>\n",
       "      <td>-62.590935</td>\n",
       "      <td>2.459390</td>\n",
       "    </tr>\n",
       "    <tr>\n",
       "      <th>2</th>\n",
       "      <td>16.462511</td>\n",
       "      <td>-59.714340</td>\n",
       "    </tr>\n",
       "    <tr>\n",
       "      <th>3</th>\n",
       "      <td>-1.125583</td>\n",
       "      <td>-20.320871</td>\n",
       "    </tr>\n",
       "    <tr>\n",
       "      <th>4</th>\n",
       "      <td>33.465324</td>\n",
       "      <td>34.241337</td>\n",
       "    </tr>\n",
       "    <tr>\n",
       "      <th>...</th>\n",
       "      <td>...</td>\n",
       "      <td>...</td>\n",
       "    </tr>\n",
       "    <tr>\n",
       "      <th>10029</th>\n",
       "      <td>31.308401</td>\n",
       "      <td>8.646118</td>\n",
       "    </tr>\n",
       "    <tr>\n",
       "      <th>10030</th>\n",
       "      <td>5.821287</td>\n",
       "      <td>16.938856</td>\n",
       "    </tr>\n",
       "    <tr>\n",
       "      <th>10031</th>\n",
       "      <td>13.698009</td>\n",
       "      <td>-5.794765</td>\n",
       "    </tr>\n",
       "    <tr>\n",
       "      <th>10032</th>\n",
       "      <td>-28.881849</td>\n",
       "      <td>38.090740</td>\n",
       "    </tr>\n",
       "    <tr>\n",
       "      <th>10033</th>\n",
       "      <td>-13.935002</td>\n",
       "      <td>-26.247427</td>\n",
       "    </tr>\n",
       "  </tbody>\n",
       "</table>\n",
       "<p>10034 rows × 2 columns</p>\n",
       "</div>"
      ],
      "text/plain": [
       "         t-SNE 1    t-SNE 2\n",
       "0     -24.912594   9.177112\n",
       "1     -62.590935   2.459390\n",
       "2      16.462511 -59.714340\n",
       "3      -1.125583 -20.320871\n",
       "4      33.465324  34.241337\n",
       "...          ...        ...\n",
       "10029  31.308401   8.646118\n",
       "10030   5.821287  16.938856\n",
       "10031  13.698009  -5.794765\n",
       "10032 -28.881849  38.090740\n",
       "10033 -13.935002 -26.247427\n",
       "\n",
       "[10034 rows x 2 columns]"
      ]
     },
     "execution_count": 64,
     "metadata": {},
     "output_type": "execute_result"
    }
   ],
   "source": [
    "comp_tsne = pd.DataFrame(data=X_tsne, columns=['t-SNE 1', 't-SNE 2'])\n",
    "comp_tsne"
   ]
  },
  {
   "cell_type": "code",
   "execution_count": null,
   "metadata": {},
   "outputs": [
    {
     "data": {
      "text/html": [
       "<div>\n",
       "<style scoped>\n",
       "    .dataframe tbody tr th:only-of-type {\n",
       "        vertical-align: middle;\n",
       "    }\n",
       "\n",
       "    .dataframe tbody tr th {\n",
       "        vertical-align: top;\n",
       "    }\n",
       "\n",
       "    .dataframe thead th {\n",
       "        text-align: right;\n",
       "    }\n",
       "</style>\n",
       "<table border=\"1\" class=\"dataframe\">\n",
       "  <thead>\n",
       "    <tr style=\"text-align: right;\">\n",
       "      <th></th>\n",
       "      <th>t-SNE 1</th>\n",
       "      <th>t-SNE 2</th>\n",
       "      <th>semantic</th>\n",
       "    </tr>\n",
       "  </thead>\n",
       "  <tbody>\n",
       "    <tr>\n",
       "      <th>0</th>\n",
       "      <td>-24.912594</td>\n",
       "      <td>9.177112</td>\n",
       "      <td>ORTH</td>\n",
       "    </tr>\n",
       "    <tr>\n",
       "      <th>1</th>\n",
       "      <td>-62.590935</td>\n",
       "      <td>2.459390</td>\n",
       "      <td>DISO</td>\n",
       "    </tr>\n",
       "    <tr>\n",
       "      <th>2</th>\n",
       "      <td>16.462511</td>\n",
       "      <td>-59.714340</td>\n",
       "      <td>ORTH</td>\n",
       "    </tr>\n",
       "    <tr>\n",
       "      <th>3</th>\n",
       "      <td>-1.125583</td>\n",
       "      <td>-20.320871</td>\n",
       "      <td>DRUG</td>\n",
       "    </tr>\n",
       "    <tr>\n",
       "      <th>4</th>\n",
       "      <td>33.465324</td>\n",
       "      <td>34.241337</td>\n",
       "      <td>ORTH</td>\n",
       "    </tr>\n",
       "    <tr>\n",
       "      <th>...</th>\n",
       "      <td>...</td>\n",
       "      <td>...</td>\n",
       "      <td>...</td>\n",
       "    </tr>\n",
       "    <tr>\n",
       "      <th>10029</th>\n",
       "      <td>31.308401</td>\n",
       "      <td>8.646118</td>\n",
       "      <td>DISO</td>\n",
       "    </tr>\n",
       "    <tr>\n",
       "      <th>10030</th>\n",
       "      <td>5.821287</td>\n",
       "      <td>16.938856</td>\n",
       "      <td>DISO</td>\n",
       "    </tr>\n",
       "    <tr>\n",
       "      <th>10031</th>\n",
       "      <td>13.698009</td>\n",
       "      <td>-5.794765</td>\n",
       "      <td>DISO</td>\n",
       "    </tr>\n",
       "    <tr>\n",
       "      <th>10032</th>\n",
       "      <td>-28.881849</td>\n",
       "      <td>38.090740</td>\n",
       "      <td>DISO</td>\n",
       "    </tr>\n",
       "    <tr>\n",
       "      <th>10033</th>\n",
       "      <td>-13.935002</td>\n",
       "      <td>-26.247427</td>\n",
       "      <td>VARI</td>\n",
       "    </tr>\n",
       "  </tbody>\n",
       "</table>\n",
       "<p>10034 rows × 3 columns</p>\n",
       "</div>"
      ],
      "text/plain": [
       "         t-SNE 1    t-SNE 2 semantic\n",
       "0     -24.912594   9.177112     ORTH\n",
       "1     -62.590935   2.459390     DISO\n",
       "2      16.462511 -59.714340     ORTH\n",
       "3      -1.125583 -20.320871     DRUG\n",
       "4      33.465324  34.241337     ORTH\n",
       "...          ...        ...      ...\n",
       "10029  31.308401   8.646118     DISO\n",
       "10030   5.821287  16.938856     DISO\n",
       "10031  13.698009  -5.794765     DISO\n",
       "10032 -28.881849  38.090740     DISO\n",
       "10033 -13.935002 -26.247427     VARI\n",
       "\n",
       "[10034 rows x 3 columns]"
      ]
     },
     "execution_count": 67,
     "metadata": {},
     "output_type": "execute_result"
    }
   ],
   "source": [
    "tsne_df = pd.concat([comp_tsne, nodes[['semantic']]], axis=1)\n",
    "tsne_df"
   ]
  },
  {
   "cell_type": "code",
   "execution_count": null,
   "metadata": {},
   "outputs": [
    {
     "data": {
      "image/png": "[encoded data removed]",
      "text/plain": [
       "<Figure size 800x800 with 1 Axes>"
      ]
     },
     "metadata": {},
     "output_type": "display_data"
    }
   ],
   "source": [
    "fig = plt.figure(figsize = (8,8))\n",
    "ax = fig.add_subplot(1, 1, 1)\n",
    "ax.set_xlabel('Principal Component 1', fontsize = 15)\n",
    "ax.set_ylabel('Principal Component 2', fontsize = 15)\n",
    "ax.set_title('Two component t-SNE', fontsize = 16)\n",
    "\n",
    "unique_node_semantics = list(node_semantic_dict.values())\n",
    "colors = ['silver', 'indianred', 'peru', 'gold', 'olivedrab', 'cadetblue', 'skyblue', 'steelblue', 'royalblue', 'mediumpurple', 'palevioletred']\n",
    "\n",
    "for target, color in zip(unique_node_semantics, colors):\n",
    "    indicesToKeep = tsne_df['semantic'] == target\n",
    "    ax.scatter(tsne_df.loc[indicesToKeep, 't-SNE 1'], tsne_df.loc[indicesToKeep, 't-SNE 2'], c = color, s = 50)\n",
    "    \n",
    "ax.legend(unique_node_semantics)\n",
    "ax.grid()\n",
    "\n",
    "plt.show()"
   ]
  },
  {
   "attachments": {},
   "cell_type": "markdown",
   "metadata": {},
   "source": [
    "## GNNExplainer"
   ]
  },
  {
   "cell_type": "code",
   "execution_count": null,
   "metadata": {},
   "outputs": [],
   "source": [
    "\"\"\"\n",
    "    Copy of source code in TORCH_GEOMETRIC.NN.MODELS.GNN_EXPLAINER from torch_geometric version 2.0.4 \n",
    "    with adaptations https://github.com/PPerdomoQ/rare-disease-explainer/blob/main/3_Predictions_and_explanations.ipynb\n",
    "\"\"\"\n",
    "\n",
    "from math import sqrt\n",
    "from typing import Optional\n",
    "import copy\n",
    "\n",
    "import torch\n",
    "from tqdm import tqdm\n",
    "\n",
    "from torch_geometric.data import Data\n",
    "from torch_geometric.utils import k_hop_subgraph, to_networkx\n",
    "from inspect import signature\n",
    "\n",
    "from torch_geometric.nn.models.explainer import (\n",
    "    Explainer,\n",
    "    clear_masks,\n",
    "    set_masks,\n",
    ")\n",
    "\n",
    "EPS = 1e-15\n",
    "\n",
    "\n",
    "class GNNExplainer(Explainer):\n",
    "    r\"\"\"The GNN-Explainer model from the `\"GNNExplainer: Generating\n",
    "    Explanations for Graph Neural Networks\"\n",
    "    <https://arxiv.org/abs/1903.03894>`_ paper for identifying compact subgraph\n",
    "    structures and small subsets node features that play a crucial role in a\n",
    "    GNN’s node-predictions.\n",
    "\n",
    "    .. note::\n",
    "\n",
    "        For an example of using GNN-Explainer, see `examples/gnn_explainer.py\n",
    "        <https://github.com/pyg-team/pytorch_geometric/blob/master/examples/\n",
    "        gnn_explainer.py>`_.\n",
    "\n",
    "    Args:\n",
    "        model (torch.nn.Module): The GNN module to explain.\n",
    "        epochs (int, optional): The number of epochs to train.\n",
    "            (default: :obj:`100`)\n",
    "        lr (float, optional): The learning rate to apply.\n",
    "            (default: :obj:`0.01`)\n",
    "        num_hops (int, optional): The number of hops the :obj:`model` is\n",
    "            aggregating information from.\n",
    "            If set to :obj:`None`, will automatically try to detect this\n",
    "            information based on the number of\n",
    "            :class:`~torch_geometric.nn.conv.message_passing.MessagePassing`\n",
    "            layers inside :obj:`model`. (default: :obj:`None`)\n",
    "        return_type (str, optional): Denotes the type of output from\n",
    "            :obj:`model`. Valid inputs are :obj:`\"log_prob\"` (the model\n",
    "            returns the logarithm of probabilities), :obj:`\"prob\"` (the\n",
    "            model returns probabilities), :obj:`\"raw\"` (the model returns raw\n",
    "            scores) and :obj:`\"regression\"` (the model returns scalars).\n",
    "            (default: :obj:`\"log_prob\"`)\n",
    "        feat_mask_type (str, optional): Denotes the type of feature mask\n",
    "            that will be learned. Valid inputs are :obj:`\"feature\"` (a single\n",
    "            feature-level mask for all nodes), :obj:`\"individual_feature\"`\n",
    "            (individual feature-level masks for each node), and :obj:`\"scalar\"`\n",
    "            (scalar mask for each each node). (default: :obj:`\"feature\"`)\n",
    "        allow_edge_mask (boolean, optional): If set to :obj:`False`, the edge\n",
    "            mask will not be optimized. (default: :obj:`True`)\n",
    "        log (bool, optional): If set to :obj:`False`, will not log any learning\n",
    "            progress. (default: :obj:`True`)\n",
    "        **kwargs (optional): Additional hyper-parameters to override default\n",
    "            settings in :attr:`~torch_geometric.nn.models.GNNExplainer.coeffs`.\n",
    "    \"\"\"\n",
    "\n",
    "    coeffs = {\n",
    "        'edge_size': 0.00005,\n",
    "        'edge_reduction': 'sum',\n",
    "        'node_feat_size': 1.0,\n",
    "        'node_feat_reduction': 'mean',\n",
    "        'edge_ent': 1.0,\n",
    "        'node_feat_ent': 0.1,\n",
    "    }\n",
    "\n",
    "    def __init__(self, model, epochs: int = 100, lr: float = 0.01, num_hops: Optional[int] = None, \n",
    "                 return_type: str = 'log_prob', feat_mask_type: str = 'feature', allow_edge_mask: bool = True,\n",
    "                 log: bool = True, **kwargs):\n",
    "        \n",
    "        super().__init__(model, lr, epochs, num_hops, return_type, log)\n",
    "        \n",
    "        assert feat_mask_type in ['feature', 'individual_feature', 'scalar']\n",
    "        \n",
    "        self.allow_edge_mask = allow_edge_mask\n",
    "        self.feat_mask_type = feat_mask_type\n",
    "        self.coeffs.update(kwargs)\n",
    "\n",
    "    def _initialize_masks(self, x, edge_index, init=\"normal\"):\n",
    "        (N, F), E = x.size(), edge_index.size(1)\n",
    "        std = 0.1\n",
    "\n",
    "        if self.feat_mask_type == 'individual_feature':\n",
    "            self.node_feat_mask = torch.nn.Parameter(torch.randn(N, F) * std)\n",
    "        elif self.feat_mask_type == 'scalar':\n",
    "            self.node_feat_mask = torch.nn.Parameter(torch.randn(N, 1) * std)\n",
    "        else:\n",
    "            self.node_feat_mask = torch.nn.Parameter(torch.randn(1, F) * std)\n",
    "\n",
    "        std = torch.nn.init.calculate_gain('relu') * sqrt(2.0 / (2 * N))\n",
    "\n",
    "        if self.allow_edge_mask:\n",
    "            self.edge_mask = torch.nn.Parameter(torch.randn(E) * std)\n",
    "\n",
    "    def _clear_masks(self):\n",
    "        clear_masks(self.model)\n",
    "        self.node_feat_masks = None\n",
    "        self.edge_mask = None\n",
    "\n",
    "    def _loss(self, log_logits, prediction, node_idx: Optional[int] = None):\n",
    "        if self.return_type == 'regression':\n",
    "            if node_idx is not None and node_idx >= 0:\n",
    "                loss = torch.cdist(log_logits[node_idx], prediction[node_idx])\n",
    "            else:\n",
    "                loss = torch.cdist(log_logits, prediction)\n",
    "        else:\n",
    "            if node_idx is not None and node_idx >= 0:\n",
    "                loss = -log_logits[node_idx, prediction[node_idx]]\n",
    "            else:\n",
    "                loss = -log_logits[0, prediction[0]]\n",
    "\n",
    "        if self.allow_edge_mask:\n",
    "            m = self.edge_mask.sigmoid()\n",
    "            edge_reduce = getattr(torch, self.coeffs['edge_reduction'])\n",
    "            loss = loss + self.coeffs['edge_size'] * edge_reduce(m)\n",
    "            ent = -m * torch.log(m + EPS) - (1 - m) * torch.log(1 - m + EPS)\n",
    "            loss = loss + self.coeffs['edge_ent'] * ent.mean()\n",
    "\n",
    "        m = self.node_feat_mask.sigmoid()\n",
    "        node_feat_reduce = getattr(torch, self.coeffs['node_feat_reduction'])\n",
    "        loss = loss + self.coeffs['node_feat_size'] * node_feat_reduce(m)\n",
    "        ent = -m * torch.log(m + EPS) - (1 - m) * torch.log(1 - m + EPS)\n",
    "        loss = loss + self.coeffs['node_feat_ent'] * ent.mean()\n",
    "\n",
    "        return loss\n",
    "\n",
    "    def explain_graph(self, x, edge_index, **kwargs):\n",
    "        r\"\"\"Learns and returns a node feature mask and an edge mask that play a\n",
    "        crucial role to explain the prediction made by the GNN for a graph.\n",
    "\n",
    "        Args:\n",
    "            x (Tensor): The node feature matrix.\n",
    "            edge_index (LongTensor): The edge indices.\n",
    "            **kwargs (optional): Additional arguments passed to the GNN module.\n",
    "\n",
    "        :rtype: (:class:`Tensor`, :class:`Tensor`)\n",
    "        \"\"\"\n",
    "\n",
    "        self.model.eval()\n",
    "        self._clear_masks()\n",
    "\n",
    "        # all nodes belong to same graph\n",
    "        batch = torch.zeros(x.shape[0], dtype=int, device=x.device)\n",
    "\n",
    "        # Get the initial prediction.\n",
    "        prediction = self.get_initial_prediction(x, edge_index, batch=batch,\n",
    "                                                 **kwargs)\n",
    "\n",
    "        self._initialize_masks(x, edge_index)\n",
    "        self.to(x.device)\n",
    "        if self.allow_edge_mask:\n",
    "            set_masks(self.model, self.edge_mask, edge_index,\n",
    "                      apply_sigmoid=True)\n",
    "            parameters = [self.node_feat_mask, self.edge_mask]\n",
    "        else:\n",
    "            parameters = [self.node_feat_mask]\n",
    "        optimizer = torch.optim.Adam(parameters, lr=self.lr)\n",
    "\n",
    "        if self.log:  # pragma: no cover\n",
    "            pbar = tqdm(total=self.epochs)\n",
    "            pbar.set_description('Explain graph')\n",
    "\n",
    "        for epoch in range(1, self.epochs + 1):\n",
    "            optimizer.zero_grad()\n",
    "            h = x * self.node_feat_mask.sigmoid()\n",
    "            out = self.model(x=h, edge_index=edge_index, batch=batch, **kwargs)\n",
    "            loss = self.get_loss(out, prediction, None)\n",
    "            loss.backward()\n",
    "            optimizer.step()\n",
    "\n",
    "            if self.log:  # pragma: no cover\n",
    "                pbar.update(1)\n",
    "\n",
    "        if self.log:  # pragma: no cover\n",
    "            pbar.close()\n",
    "\n",
    "        node_feat_mask = self.node_feat_mask.detach().sigmoid().squeeze()\n",
    "        if self.allow_edge_mask:\n",
    "            edge_mask = self.edge_mask.detach().sigmoid()\n",
    "        else:\n",
    "            edge_mask = torch.ones(edge_index.size(1))\n",
    "\n",
    "        self._clear_masks()\n",
    "        return node_feat_mask, edge_mask\n",
    "\n",
    "\n",
    "    def explain_node(self, node_idx, x, edge_index, **kwargs):\n",
    "        r\"\"\"Learns and returns a node feature mask and an edge mask that play a\n",
    "        crucial role to explain the prediction made by the GNN for node\n",
    "        :attr:`node_idx`.\n",
    "\n",
    "        Args:\n",
    "            node_idx (int): The node to explain.\n",
    "            x (Tensor): The node feature matrix.\n",
    "            edge_index (LongTensor): The edge indices.\n",
    "            **kwargs (optional): Additional arguments passed to the GNN module.\n",
    "\n",
    "        :rtype: (:class:`Tensor`, :class:`Tensor`)\n",
    "        \"\"\"\n",
    "\n",
    "        self.model.eval()\n",
    "        self._clear_masks()\n",
    "\n",
    "        num_nodes = x.size(0)\n",
    "        num_edges = edge_index.size(1)\n",
    "\n",
    "        # Only operate on a k-hop subgraph around `node_idx`.\n",
    "        x, edge_index, mapping, hard_edge_mask, subset, kwargs = \\\n",
    "            self.subgraph(node_idx, -x, edge_index, **kwargs)\n",
    "        print('Edge Index 1:', edge_index)\n",
    "        # Get the initial prediction.\n",
    "        prediction = self.get_initial_prediction(x, edge_index, **kwargs)\n",
    "        print('Prediction:', prediction)\n",
    "\n",
    "        self._initialize_masks(x, edge_index)\n",
    "        self.to(x.device)\n",
    "\n",
    "        if self.allow_edge_mask:\n",
    "            set_masks(self.model, self.edge_mask, edge_index,\n",
    "                      apply_sigmoid=True)\n",
    "            parameters = [self.node_feat_mask, self.edge_mask]\n",
    "        else:\n",
    "            parameters = [self.node_feat_mask]\n",
    "        print('Edge Index 2:', edge_index)\n",
    "        optimizer = torch.optim.Adam(parameters, lr=self.lr)\n",
    "\n",
    "        if self.log:  # pragma: no cover\n",
    "            pbar = tqdm(total=self.epochs)\n",
    "            pbar.set_description(f'Explain node {node_idx}')\n",
    "\n",
    "        for epoch in range(1, self.epochs + 1):\n",
    "            optimizer.zero_grad()\n",
    "            h = x * self.node_feat_mask.sigmoid()\n",
    "            print('X:', x)\n",
    "            print('H:', h)\n",
    "            print('Mask:', self.node_feat_mask.sigmoid())\n",
    "            print('Edge Index 3:', edge_index)\n",
    "            out = self.model(x=h, edge_index=edge_index, **kwargs)\n",
    "            print('Out:', out)\n",
    "            print('Prediction:', prediction)\n",
    "            loss = self.get_loss(out, prediction, mapping)\n",
    "            print('Loss:', loss)\n",
    "            loss.backward()\n",
    "            optimizer.step()\n",
    "\n",
    "            if self.log:  # pragma: no cover\n",
    "                pbar.update(1)\n",
    "        print('Out:', out)\n",
    "        print('Mapping:', mapping )\n",
    "        if self.log:  # pragma: no cover\n",
    "            pbar.close()\n",
    "\n",
    "        node_feat_mask = self.node_feat_mask.detach().sigmoid()\n",
    "        if self.feat_mask_type == 'individual_feature':\n",
    "            new_mask = x.new_zeros(num_nodes, x.size(-1))\n",
    "            new_mask[subset] = node_feat_mask\n",
    "            node_feat_mask = new_mask\n",
    "        elif self.feat_mask_type == 'scalar':\n",
    "            new_mask = x.new_zeros(num_nodes, 1)\n",
    "            new_mask[subset] = node_feat_mask\n",
    "            node_feat_mask = new_mask\n",
    "        node_feat_mask = node_feat_mask.squeeze()\n",
    "\n",
    "        if self.allow_edge_mask:\n",
    "            edge_mask = self.edge_mask.new_zeros(num_edges)\n",
    "            print('Hard Edges:', hard_edge_mask)\n",
    "            print('Len Hard Edges:', len(hard_edge_mask))\n",
    "            print('Edges:', edge_mask)\n",
    "            print('Len Edges:', len(edge_mask))      \n",
    "            edge_mask[hard_edge_mask] = self.edge_mask.detach().sigmoid()\n",
    "        else:\n",
    "            edge_mask = torch.zeros(num_edges)\n",
    "            edge_mask[hard_edge_mask] = 1\n",
    "\n",
    "        self._clear_masks()\n",
    "\n",
    "        return node_feat_mask, edge_mask\n",
    "\n",
    "    def __repr__(self):\n",
    "        return f'{self.__class__.__name__}()'\n",
    "    \n",
    "    def explain_link(self, node_idx1, node_idx2, x, edge_index, **kwargs): \n",
    "        r\"\"\"Learns and returns a node feature mask and an edge mask that play a\n",
    "        crucial role to explain the prediction made by the GNN for node\n",
    "        :attr:`node_idx`.\n",
    "\n",
    "        Args:\n",
    "            node_idx (int): The node to explain.\n",
    "            x (Tensor): The node feature matrix.\n",
    "            edge_index (LongTensor): The edge indices.\n",
    "            **kwargs (optional): Additional arguments passed to the GNN module.\n",
    "\n",
    "        :rtype: (:class:`Tensor`, :class:`Tensor`)\n",
    "        \"\"\"\n",
    "\n",
    "        self.model.eval()\n",
    "        self._clear_masks()\n",
    "\n",
    "        num_nodes = x.size(0)\n",
    "        num_edges = edge_index.size(1)\n",
    "\n",
    "        _, emb = self.model(x, edge_index, edge_index)  # yielded node embeddings used to calculate edge existing or not\n",
    "\n",
    "\n",
    "        # Only operate on a k-hop subgraph around `node_idx1`.\n",
    "        x1, edge_index1, mapping1, hard_edge_mask1, subset1, kwargs1 = subgraph(node_idx=[node_idx1, node_idx2], \n",
    "                                                                                x=x, edge_index=edge_index, \n",
    "                                                                                flow='source_to_target', num_hops = self.num_hops, **kwargs)\n",
    "\n",
    "        # Only operate on a k-hop subgraph around `node_idx2`.\n",
    "        # x2, edge_index2, mapping2, hard_edge_mask2, subset2, kwargs2 = self.subgraph(node_idx2, x, edge_index, **kwargs)\n",
    "\n",
    "        # initial embedding\n",
    "        node_embedding_1 = emb[node_idx1]\n",
    "        node_embedding_2 = emb[node_idx2]\n",
    "\n",
    "        # Get the initial prediction.       \n",
    "        prediction = torch.Tensor([torch.sum(node_embedding_1 * node_embedding_2, dim=-1)]).requires_grad_()\n",
    "\n",
    "        self._initialize_masks(x1, edge_index1)\n",
    "        self.to(x1.device)\n",
    "\n",
    "        if self.allow_edge_mask:\n",
    "            set_masks(self.model, self.edge_mask, edge_index1,\n",
    "                      apply_sigmoid=True)\n",
    "            parameters = [self.node_feat_mask, self.edge_mask]\n",
    "        else:\n",
    "            parameters = [self.node_feat_mask]\n",
    "            \n",
    "        optimizer = torch.optim.Adam(parameters, lr=self.lr)\n",
    "\n",
    "        if self.log:  # pragma: no cover\n",
    "            pbar = tqdm(total=self.epochs)\n",
    "            pbar.set_description(f'Explain node {node_idx1}')\n",
    "        \n",
    "        for epoch in range(1, self.epochs + 1):\n",
    "            optimizer.zero_grad()\n",
    "            criterion = torch.nn.MSELoss(reduction='sum')\n",
    "            h = x1 \n",
    "            # # print('X:', x1)\n",
    "            # # print('H:', h)\n",
    "            # # print('Mask:', self.node_feat_mask.sigmoid())\n",
    "            # G1 = nx.Graph()\n",
    "            # for ind, node in enumerate(h): \n",
    "            #   G1.add_node(ind, node_feature=node)\n",
    "            # for i in range(edge_index1.size(1)): \n",
    "            #   G1.add_edge(edge_index1[0][i].item(), edge_index1[1][i].item())\n",
    "            \n",
    "            # # print(\"Number of edges is {}\".format(G1.number_of_edges()))\n",
    "            # # print(\"Number of nodes is {}\".format(G1.number_of_nodes()))\n",
    "            # dataset1 = GraphDataset(\n",
    "            #   G1,\n",
    "            #   task='link_pred',\n",
    "            #   edge_train_mode=\"all\")\n",
    "            \n",
    "            # dataloader1 = DataLoader(\n",
    "            #     dataset1, collate_fn=Batch.collate([]),\n",
    "            #     batch_size=1, shuffle=False)\n",
    "        \n",
    "            # for i, batch in enumerate(dataloader1):\n",
    "            _, emb1 = self.model(h, edge_index1, edge_index1)\n",
    "            \n",
    "            # for module in self.model.modules():  \n",
    "            #   if isinstance(module, MessagePassing):\n",
    "            #     print(module._edge_mask)\n",
    "              # module._loop_mask = loop_mask\n",
    "              # module._apply_sigmoid = apply_sigmoid\n",
    "\n",
    "            out = torch.tensor([torch.sum(emb1[mapping1[1]]* emb1[mapping1[0]], dim=-1)]).requires_grad_()\n",
    "            # print('Out:', out)\n",
    "            # print('Prediction:', prediction)\n",
    "            loss = criterion(out, prediction)\n",
    "            #loss = self.get_loss(out, prediction, mapping1)\n",
    "            m = self.edge_mask.sigmoid()\n",
    "            edge_reduce = getattr(torch, self.coeffs['edge_reduction'])\n",
    "            loss = loss + self.coeffs['edge_size'] * edge_reduce(m)\n",
    "            ent = -m * torch.log(m + EPS) - (1 - m) * torch.log(1 - m + EPS)\n",
    "            loss = loss + self.coeffs['edge_ent'] * ent.mean()\n",
    "            # m = self.node_feat_mask.sigmoid()\n",
    "            # node_feat_reduce = getattr(torch, self.coeffs['node_feat_reduction'])\n",
    "            # loss = loss + self.coeffs['node_feat_size'] * node_feat_reduce(m)\n",
    "            # ent = -m * torch.log(m + EPS) - (1 - m) * torch.log(1 - m + EPS)\n",
    "            # loss = loss + self.coeffs['node_feat_ent'] * ent.mean()\n",
    "            # print('Loss:', loss)\n",
    "            loss.backward()\n",
    "            optimizer.step()\n",
    "\n",
    "            if self.log:  # pragma: no cover\n",
    "                pbar.update(1)\n",
    "\n",
    "        if self.log:  # pragma: no cover\n",
    "            pbar.close()\n",
    "\n",
    "        node_feat_mask = self.node_feat_mask.detach().sigmoid()\n",
    "        if self.feat_mask_type == 'individual_feature':\n",
    "            new_mask = x1.new_zeros(num_nodes, x1.size(-1))\n",
    "            new_mask[subset1] = node_feat_mask\n",
    "            node_feat_mask = new_mask\n",
    "        elif self.feat_mask_type == 'scalar':\n",
    "            new_mask = x1.new_zeros(num_nodes, 1)\n",
    "            new_mask[subset1] = node_feat_mask\n",
    "            node_feat_mask = new_mask\n",
    "        node_feat_mask = node_feat_mask.squeeze()\n",
    "        # print('Non Zero:', torch.count_nonzero(node_feat_mask))\n",
    "\n",
    "        if self.allow_edge_mask:\n",
    "            edge_mask = self.edge_mask.new_zeros(num_edges)\n",
    "            # print('Hard Edges:', hard_edge_mask1)\n",
    "            # print('Len Hard Edges:', len(hard_edge_mask1))\n",
    "            # print('Non Zero:', torch.count_nonzero(hard_edge_mask1))\n",
    "            # print('Edges:', edge_mask)\n",
    "            # print('Len Edges:', len(edge_mask))            \n",
    "            edge_mask[hard_edge_mask1] = self.edge_mask.detach().sigmoid()\n",
    "            #print('Edge Mask:', self.edge_mask.detach().sigmoid())\n",
    "            # print('Non Zero:', torch.count_nonzero(edge_mask))\n",
    "        else:\n",
    "            edge_mask = torch.zeros(num_edges)\n",
    "            edge_mask[hard_edge_mask1] = 1\n",
    "\n",
    "        self._clear_masks()\n",
    "\n",
    "        return node_feat_mask, edge_mask\n",
    "    \n",
    "def maybe_num_nodes(index, num_nodes=None):\n",
    "    return index.max().item() + 1 if num_nodes is None else num_nodes\n",
    "\n",
    "def k_hop_subgraph(node_idx, num_hops, edge_index, relabel_nodes=False,\n",
    "                   num_nodes=None, flow='source_to_target'):\n",
    "    r\"\"\"Computes the :math:`k`-hop subgraph of :obj:`edge_index` around node\n",
    "    :attr:`node_idx`.\n",
    "    It returns (1) the nodes involved in the subgraph, (2) the filtered\n",
    "    :obj:`edge_index` connectivity, (3) the mapping from node indices in\n",
    "    :obj:`node_idx` to their new location, and (4) the edge mask indicating\n",
    "    which edges were preserved.\n",
    "\n",
    "    Args:\n",
    "        node_idx (int, list, tuple or :obj:`torch.Tensor`): The central\n",
    "            node(s).\n",
    "        num_hops: (int): The number of hops :math:`k`.\n",
    "        edge_index (LongTensor): The edge indices.\n",
    "        relabel_nodes (bool, optional): If set to :obj:`True`, the resulting\n",
    "            :obj:`edge_index` will be relabeled to hold consecutive indices\n",
    "            starting from zero. (default: :obj:`False`)\n",
    "        num_nodes (int, optional): The number of nodes, *i.e.*\n",
    "            :obj:`max_val + 1` of :attr:`edge_index`. (default: :obj:`None`)\n",
    "        flow (string, optional): The flow direction of :math:`k`-hop\n",
    "            aggregation (:obj:`\"source_to_target\"` or\n",
    "            :obj:`\"target_to_source\"`). (default: :obj:`\"source_to_target\"`)\n",
    "\n",
    "    :rtype: (:class:`LongTensor`, :class:`LongTensor`, :class:`LongTensor`,\n",
    "             :class:`BoolTensor`)\n",
    "    \"\"\"\n",
    "\n",
    "    num_nodes = maybe_num_nodes(edge_index, num_nodes)\n",
    "\n",
    "    assert flow in ['source_to_target', 'target_to_source']\n",
    "    if flow == 'target_to_source':\n",
    "        row, col = edge_index\n",
    "    else:\n",
    "        col, row = edge_index\n",
    "\n",
    "    node_mask = row.new_empty(num_nodes, dtype=torch.bool)\n",
    "    edge_mask = row.new_empty(row.size(0), dtype=torch.bool)\n",
    "\n",
    "    if isinstance(node_idx, (int, list, tuple)):\n",
    "        node_idx = torch.tensor([node_idx], device=row.device).flatten()\n",
    "    else:\n",
    "        node_idx = node_idx.to(row.device)\n",
    "\n",
    "    subsets = [node_idx]\n",
    "\n",
    "    for _ in range(num_hops):\n",
    "        node_mask.fill_(False)\n",
    "        \n",
    "        node_mask_index = subsets[-1].long()\n",
    "        node_mask[node_mask_index] = True\n",
    "        \n",
    "        torch.index_select(node_mask, 0, row, out=edge_mask)\n",
    "        subsets.append(col[edge_mask])\n",
    "\n",
    "    subset, inv = torch.cat(subsets).unique(return_inverse=True)\n",
    "    inv = inv[:node_idx.numel()]\n",
    "\n",
    "    node_mask.fill_(False)\n",
    "    node_mask[subset] = True\n",
    "    edge_mask = node_mask[row] & node_mask[col]\n",
    "\n",
    "    edge_index = edge_index[:, edge_mask]\n",
    "\n",
    "    if relabel_nodes:\n",
    "        node_idx = row.new_full((num_nodes, ), -1)\n",
    "        node_idx[subset] = torch.arange(subset.size(0), device=row.device)\n",
    "        edge_index = node_idx[edge_index]\n",
    "\n",
    "    return subset, edge_index, inv, edge_mask\n",
    "\n",
    "def subgraph(node_idx, x, edge_index, num_hops, **kwargs):\n",
    "    r\"\"\"Returns the subgraph of the given node.\n",
    "\n",
    "    Args:\n",
    "        node_idx (int): The node to explain.\n",
    "        x (Tensor): The node feature matrix.\n",
    "        edge_index (LongTensor): The edge indices.\n",
    "        **kwargs (optional): Additional arguments passed to the GNN module.\n",
    "    :rtype: (Tensor, Tensor, LongTensor, LongTensor, LongTensor, dict)\n",
    "    \"\"\"\n",
    "    num_nodes, num_edges = x.size(0), edge_index.size(0)\n",
    "    subset, edge_index, mapping, edge_mask = k_hop_subgraph(node_idx, num_hops, edge_index, relabel_nodes=True, num_nodes=num_nodes, flow = 'source_to_target')\n",
    "\n",
    "    x = x[subset]\n",
    "    kwargs_new = {}\n",
    "    for key, value in kwargs.items():\n",
    "        if torch.is_tensor(value) and value.size(0) == num_nodes:\n",
    "            kwargs_new[key] = value[subset]\n",
    "        elif torch.is_tensor(value) and value.size(0) == num_edges:\n",
    "            kwargs_new[key] = value[edge_mask]\n",
    "        kwargs_new[key] = value  # TODO: this is not in PGExplainer\n",
    "    return x, edge_index, mapping, edge_mask, subset, kwargs_new\n",
    "    \n",
    "def visualize_subgraph(node_idx, edge_index_full,\n",
    "                        edge_mask, nodes, y = None,\n",
    "                        threshold = None,\n",
    "                        edge_y = None,\n",
    "                        node_alpha = None, seed= 10,\n",
    "                       flow = 'source_to_target', \n",
    "                       num_hops = 1,node_label = 'preflabel',\n",
    "                       edge_labels = None,\n",
    "                       show_inactive = False,\n",
    "                       remove_unconnected = False,\n",
    "                       \n",
    "                        **kwargs):\n",
    "    r\"\"\"Visualizes the subgraph given an edge mask :attr:`edge_mask`.\n",
    "\n",
    "    Args:\n",
    "        node_idx (int): The node id to explain.\n",
    "            Set to :obj:`None` to explain a graph.\n",
    "        edge_index (LongTensor): The edge indices.\n",
    "        edge_mask (Tensor): The edge mask.\n",
    "        y (Tensor, optional): The ground-truth node-prediction labels used\n",
    "            as node colorings. All nodes will have the same color\n",
    "            if :attr:`node_idx` is :obj:`-1`.(default: :obj:`None`).\n",
    "        threshold (float, optional): Sets a threshold for visualizing\n",
    "            important edges. If set to :obj:`None`, will visualize all\n",
    "            edges with transparancy indicating the importance of edges.\n",
    "            (default: :obj:`None`)\n",
    "        edge_y (Tensor, optional): The edge labels used as edge colorings.\n",
    "        node_alpha (Tensor, optional): Tensor of floats (0 - 1) indicating\n",
    "            transparency of each node.\n",
    "        seed (int, optional): Random seed of the :obj:`networkx` node\n",
    "            placement algorithm. (default: :obj:`10`)\n",
    "        **kwargs (optional): Additional arguments passed to\n",
    "            :func:`nx.draw`.\n",
    "\n",
    "    :rtype: :class:`matplotlib.axes.Axes`, :class:`networkx.DiGraph`\n",
    "    \"\"\"\n",
    "    import matplotlib.pyplot as plt\n",
    "    import networkx as nx\n",
    "\n",
    "    assert edge_mask.size(0) == edge_index_full.size(1)\n",
    "\n",
    "    if node_idx is None or node_idx[0] < 0:\n",
    "        hard_edge_mask = torch.BoolTensor([True] * edge_index_full.size(1),\n",
    "                                          device=edge_mask.device)\n",
    "        subset = torch.arange(edge_index_full.max().item() + 1,\n",
    "                              device=edge_index_full.device)\n",
    "        y = None\n",
    "\n",
    "    else:\n",
    "        # Only operate on a k-hop subgraph around `node_idx`.\n",
    "        subset, edge_index, mapping_sub, hard_edge_mask = k_hop_subgraph(\n",
    "            node_idx, num_hops, edge_index_full, relabel_nodes=True,\n",
    "            num_nodes=None, flow=flow)\n",
    "        \n",
    "\n",
    "    edge_mask = edge_mask[hard_edge_mask]\n",
    "    selected = (hard_edge_mask == True).nonzero(as_tuple=True)\n",
    "\n",
    "    if threshold is not None:\n",
    "        edge_mask = (edge_mask >= threshold).to(torch.float)\n",
    "\n",
    "    if y is None:\n",
    "        y = torch.zeros(edge_index.max().item() + 1,\n",
    "                        device=edge_index.device)\n",
    "    else:\n",
    "        #print(y[subset])\n",
    "        y = y[subset].to(torch.float) / y.max().item()\n",
    "        \n",
    "\n",
    "    if edge_y is None:\n",
    "        edge_color = ['black'] * edge_index.size(1)\n",
    "    else:\n",
    "        colors = list(plt.rcParams['axes.prop_cycle'])\n",
    "        edge_color = [\n",
    "            colors[i % len(colors)]['color']\n",
    "            for i in edge_y[hard_edge_mask]\n",
    "        ]\n",
    "\n",
    "\n",
    "    data = Data(edge_index=edge_index, att=edge_mask,\n",
    "                edge_color=edge_color, y=y, num_nodes=y.size(0)).to('cpu')\n",
    "    #print(data)\n",
    "    G = to_networkx(data, node_attrs=['y'],\n",
    "                    edge_attrs=['att', 'edge_color'])\n",
    "\n",
    "    #print(G.number_of_nodes())\n",
    "    #print(node_label)\n",
    "    \n",
    "    #print(mapping)\n",
    "\n",
    "    #print(len(torch.stack((edge_index[0], edge_index[1])).unique()))\n",
    "    #print(G.number_of_edges())\n",
    "    G2 = copy.deepcopy(G)\n",
    "    if num_hops >= 1 and not show_inactive: \n",
    "      for indx, edge in enumerate(G.edges): \n",
    "        if edge_mask[indx] <  threshold:\n",
    "          G2.remove_edge(edge[0], edge[1])\n",
    "      removed_nodes = list(nx.isolates(G2))\n",
    "      G2.remove_nodes_from(removed_nodes)\n",
    "\n",
    "    \n",
    "    if remove_unconnected:\n",
    "        G2 = G2.to_undirected()\n",
    "        for component in list(nx.connected_components(G2)):\n",
    "            if mapping_sub[0].item() in component or mapping_sub[1].item() in component:\n",
    "                continue\n",
    "            else:\n",
    "                for node in component:\n",
    "                    G2.remove_node(node)\n",
    "                    \n",
    "\n",
    "    active = torch.tensor(list(G2.nodes()))\n",
    "\n",
    "    mapping = {k: str(nodes.iloc[i][node_label]) + ' ' + str(i) for k, i in enumerate(subset.tolist())}\n",
    "    mapping2 = {str(nodes.iloc[i][node_label]) + ' ' + str(i): i for k, i in enumerate(subset.tolist())}\n",
    "    G2 = nx.relabel_nodes(G2, mapping)\n",
    "\n",
    "    node_args = set(signature(nx.draw_networkx_nodes).parameters.keys())\n",
    "    node_kwargs = {k: v for k, v in kwargs.items() if k in node_args}\n",
    "    node_kwargs['node_size'] = kwargs.get('node_size') or 800\n",
    "    node_kwargs['cmap'] = kwargs.get('cmap') or 'cool'\n",
    "\n",
    "    label_args = set(signature(nx.draw_networkx_labels).parameters.keys())\n",
    "    label_kwargs = {k: v for k, v in kwargs.items() if k in label_args}\n",
    "    label_kwargs['font_size'] = kwargs.get('font_size') or 10\n",
    "\n",
    "    pos = nx.spring_layout(G2, seed=seed)\n",
    "    ax = plt.gca()\n",
    "    for source, target, data in G2.edges(data=True):\n",
    "        ax.annotate(\n",
    "            '', xy=pos[target], xycoords='data', xytext=pos[source],\n",
    "            textcoords='data', arrowprops=dict(\n",
    "                arrowstyle=\"->\",\n",
    "                alpha=max(data['att'], 0.1),\n",
    "                color=data['edge_color'],\n",
    "                shrinkA=sqrt(node_kwargs['node_size']) / 2.0,\n",
    "                shrinkB=sqrt(node_kwargs['node_size']) / 2.0,\n",
    "                connectionstyle=\"arc3,rad=0.1\",\n",
    "            ))\n",
    "\n",
    "    if node_alpha is None:\n",
    "        #print(active)\n",
    "        nx.draw_networkx_nodes(G2, pos, node_color=y[active].tolist(),\n",
    "                                **node_kwargs)\n",
    "    else:\n",
    "        node_alpha_subset = node_alpha[subset]\n",
    "        assert ((node_alpha_subset >= 0) & (node_alpha_subset <= 1)).all()\n",
    "        nx.draw_networkx_nodes(G2, pos, alpha=node_alpha_subset.tolist(),\n",
    "                                node_color=y.tolist(), **node_kwargs)\n",
    "\n",
    "    nx.draw_networkx_labels(G2, pos, **label_kwargs)\n",
    "\n",
    "    if edge_labels is not None: \n",
    "\n",
    "      edge_labels_sub = {}\n",
    "      for (n1,n2) in G2.edges(): \n",
    "        #print(n1)\n",
    "        edge_labels_sub[(n1, n2)] = edge_labels[(mapping2[n1], mapping2[n2])]\n",
    "      \n",
    "      nx.draw_networkx_edge_labels(\n",
    "      G2, pos,\n",
    "      edge_labels=edge_labels_sub,\n",
    "      font_color='red', \n",
    "      font_size = 10\n",
    "  )\n",
    "\n",
    "    return ax, G2"
   ]
  },
  {
   "attachments": {},
   "cell_type": "markdown",
   "metadata": {},
   "source": [
    "Explanations will be generated"
   ]
  },
  {
   "cell_type": "code",
   "execution_count": null,
   "metadata": {},
   "outputs": [
    {
     "data": {
      "text/html": [
       "<div>\n",
       "<style scoped>\n",
       "    .dataframe tbody tr th:only-of-type {\n",
       "        vertical-align: middle;\n",
       "    }\n",
       "\n",
       "    .dataframe tbody tr th {\n",
       "        vertical-align: top;\n",
       "    }\n",
       "\n",
       "    .dataframe thead th {\n",
       "        text-align: right;\n",
       "    }\n",
       "</style>\n",
       "<table border=\"1\" class=\"dataframe\">\n",
       "  <thead>\n",
       "    <tr style=\"text-align: right;\">\n",
       "      <th></th>\n",
       "      <th>Node</th>\n",
       "      <th>Embedding</th>\n",
       "    </tr>\n",
       "  </thead>\n",
       "  <tbody>\n",
       "    <tr>\n",
       "      <th>0</th>\n",
       "      <td>0</td>\n",
       "      <td>[-0.23730597, -0.67259294, 0.03148575, -0.0319...</td>\n",
       "    </tr>\n",
       "    <tr>\n",
       "      <th>1</th>\n",
       "      <td>1</td>\n",
       "      <td>[0.023914628, -0.29809657, 0.24963157, 0.19368...</td>\n",
       "    </tr>\n",
       "    <tr>\n",
       "      <th>2</th>\n",
       "      <td>2</td>\n",
       "      <td>[-0.041353777, -0.24620363, -0.22668226, 0.230...</td>\n",
       "    </tr>\n",
       "    <tr>\n",
       "      <th>3</th>\n",
       "      <td>3</td>\n",
       "      <td>[0.14481798, -0.20199625, 0.081993796, 0.05074...</td>\n",
       "    </tr>\n",
       "    <tr>\n",
       "      <th>4</th>\n",
       "      <td>4</td>\n",
       "      <td>[0.09358601, -0.7251166, 0.44952348, 0.4887344...</td>\n",
       "    </tr>\n",
       "    <tr>\n",
       "      <th>...</th>\n",
       "      <td>...</td>\n",
       "      <td>...</td>\n",
       "    </tr>\n",
       "    <tr>\n",
       "      <th>10029</th>\n",
       "      <td>10029</td>\n",
       "      <td>[0.3813848, -0.51404345, 0.13377202, 0.2083124...</td>\n",
       "    </tr>\n",
       "    <tr>\n",
       "      <th>10030</th>\n",
       "      <td>10030</td>\n",
       "      <td>[0.32937527, -0.42879906, 0.49301067, 0.108241...</td>\n",
       "    </tr>\n",
       "    <tr>\n",
       "      <th>10031</th>\n",
       "      <td>10031</td>\n",
       "      <td>[0.22001168, -0.42305133, 0.0035328122, 0.2503...</td>\n",
       "    </tr>\n",
       "    <tr>\n",
       "      <th>10032</th>\n",
       "      <td>10032</td>\n",
       "      <td>[0.39139554, -0.091309026, -0.090942584, -0.31...</td>\n",
       "    </tr>\n",
       "    <tr>\n",
       "      <th>10033</th>\n",
       "      <td>10033</td>\n",
       "      <td>[0.09467783, -0.14020678, 0.19429095, 0.304035...</td>\n",
       "    </tr>\n",
       "  </tbody>\n",
       "</table>\n",
       "<p>10034 rows × 2 columns</p>\n",
       "</div>"
      ],
      "text/plain": [
       "        Node                                          Embedding\n",
       "0          0  [-0.23730597, -0.67259294, 0.03148575, -0.0319...\n",
       "1          1  [0.023914628, -0.29809657, 0.24963157, 0.19368...\n",
       "2          2  [-0.041353777, -0.24620363, -0.22668226, 0.230...\n",
       "3          3  [0.14481798, -0.20199625, 0.081993796, 0.05074...\n",
       "4          4  [0.09358601, -0.7251166, 0.44952348, 0.4887344...\n",
       "...      ...                                                ...\n",
       "10029  10029  [0.3813848, -0.51404345, 0.13377202, 0.2083124...\n",
       "10030  10030  [0.32937527, -0.42879906, 0.49301067, 0.108241...\n",
       "10031  10031  [0.22001168, -0.42305133, 0.0035328122, 0.2503...\n",
       "10032  10032  [0.39139554, -0.091309026, -0.090942584, -0.31...\n",
       "10033  10033  [0.09467783, -0.14020678, 0.19429095, 0.304035...\n",
       "\n",
       "[10034 rows x 2 columns]"
      ]
     },
     "execution_count": 69,
     "metadata": {},
     "output_type": "execute_result"
    }
   ],
   "source": [
    "e2v_embedding"
   ]
  },
  {
   "cell_type": "code",
   "execution_count": null,
   "metadata": {},
   "outputs": [
    {
     "data": {
      "text/html": [
       "<div>\n",
       "<style scoped>\n",
       "    .dataframe tbody tr th:only-of-type {\n",
       "        vertical-align: middle;\n",
       "    }\n",
       "\n",
       "    .dataframe tbody tr th {\n",
       "        vertical-align: top;\n",
       "    }\n",
       "\n",
       "    .dataframe thead th {\n",
       "        text-align: right;\n",
       "    }\n",
       "</style>\n",
       "<table border=\"1\" class=\"dataframe\">\n",
       "  <thead>\n",
       "    <tr style=\"text-align: right;\">\n",
       "      <th></th>\n",
       "      <th>head</th>\n",
       "      <th>label_head</th>\n",
       "      <th>class_head</th>\n",
       "      <th>index_head</th>\n",
       "      <th>relation</th>\n",
       "      <th>tail</th>\n",
       "      <th>label_tail</th>\n",
       "      <th>class_tail</th>\n",
       "      <th>index_tail</th>\n",
       "      <th>type</th>\n",
       "    </tr>\n",
       "  </thead>\n",
       "  <tbody>\n",
       "    <tr>\n",
       "      <th>0</th>\n",
       "      <td>ZFIN:ZDB-GENE-050626-112</td>\n",
       "      <td>myl4</td>\n",
       "      <td>5</td>\n",
       "      <td>5279</td>\n",
       "      <td>in orthology relationship with</td>\n",
       "      <td>FlyBase:FBgn0085464</td>\n",
       "      <td>CG34435</td>\n",
       "      <td>5</td>\n",
       "      <td>6825</td>\n",
       "      <td>0</td>\n",
       "    </tr>\n",
       "    <tr>\n",
       "      <th>1</th>\n",
       "      <td>ZFIN:ZDB-GENE-050626-112</td>\n",
       "      <td>myl4</td>\n",
       "      <td>5</td>\n",
       "      <td>5279</td>\n",
       "      <td>in orthology relationship with</td>\n",
       "      <td>HGNC:7585</td>\n",
       "      <td>MYL4</td>\n",
       "      <td>3</td>\n",
       "      <td>27</td>\n",
       "      <td>0</td>\n",
       "    </tr>\n",
       "    <tr>\n",
       "      <th>2</th>\n",
       "      <td>ZFIN:ZDB-GENE-050626-112</td>\n",
       "      <td>myl4</td>\n",
       "      <td>5</td>\n",
       "      <td>5279</td>\n",
       "      <td>in orthology relationship with</td>\n",
       "      <td>FlyBase:FBgn0002772</td>\n",
       "      <td>Mlc1</td>\n",
       "      <td>5</td>\n",
       "      <td>8901</td>\n",
       "      <td>0</td>\n",
       "    </tr>\n",
       "    <tr>\n",
       "      <th>3</th>\n",
       "      <td>ZFIN:ZDB-GENE-050626-112</td>\n",
       "      <td>myl4</td>\n",
       "      <td>5</td>\n",
       "      <td>5279</td>\n",
       "      <td>in orthology relationship with</td>\n",
       "      <td>NCBIGene:396472</td>\n",
       "      <td>MYL4</td>\n",
       "      <td>3</td>\n",
       "      <td>9508</td>\n",
       "      <td>0</td>\n",
       "    </tr>\n",
       "    <tr>\n",
       "      <th>4</th>\n",
       "      <td>ZFIN:ZDB-GENE-050626-112</td>\n",
       "      <td>myl4</td>\n",
       "      <td>5</td>\n",
       "      <td>5279</td>\n",
       "      <td>in 1 to 1 orthology relationship with</td>\n",
       "      <td>ENSEMBL:ENSECAG00000020967</td>\n",
       "      <td>ENSEMBL:ENSECAG00000020967</td>\n",
       "      <td>5</td>\n",
       "      <td>8807</td>\n",
       "      <td>1</td>\n",
       "    </tr>\n",
       "    <tr>\n",
       "      <th>...</th>\n",
       "      <td>...</td>\n",
       "      <td>...</td>\n",
       "      <td>...</td>\n",
       "      <td>...</td>\n",
       "      <td>...</td>\n",
       "      <td>...</td>\n",
       "      <td>...</td>\n",
       "      <td>...</td>\n",
       "      <td>...</td>\n",
       "      <td>...</td>\n",
       "    </tr>\n",
       "    <tr>\n",
       "      <th>82908</th>\n",
       "      <td>4810</td>\n",
       "      <td>ibrutinib</td>\n",
       "      <td>2</td>\n",
       "      <td>1618</td>\n",
       "      <td>targets</td>\n",
       "      <td>HGNC:11283</td>\n",
       "      <td>SRC</td>\n",
       "      <td>3</td>\n",
       "      <td>3279</td>\n",
       "      <td>14</td>\n",
       "    </tr>\n",
       "    <tr>\n",
       "      <th>82909</th>\n",
       "      <td>522</td>\n",
       "      <td>carvedilol</td>\n",
       "      <td>2</td>\n",
       "      <td>184</td>\n",
       "      <td>targets</td>\n",
       "      <td>HGNC:620</td>\n",
       "      <td>APP</td>\n",
       "      <td>3</td>\n",
       "      <td>547</td>\n",
       "      <td>14</td>\n",
       "    </tr>\n",
       "    <tr>\n",
       "      <th>82910</th>\n",
       "      <td>OMIM:300377.0013</td>\n",
       "      <td>DMD, EX18DEL</td>\n",
       "      <td>1</td>\n",
       "      <td>2822</td>\n",
       "      <td>is allele of</td>\n",
       "      <td>HGNC:2928</td>\n",
       "      <td>DMD</td>\n",
       "      <td>3</td>\n",
       "      <td>6612</td>\n",
       "      <td>17</td>\n",
       "    </tr>\n",
       "    <tr>\n",
       "      <th>82911</th>\n",
       "      <td>Coriell:GM05113</td>\n",
       "      <td>NIGMS-GM05113</td>\n",
       "      <td>4</td>\n",
       "      <td>8105</td>\n",
       "      <td>has role in modeling</td>\n",
       "      <td>MONDO:0010679</td>\n",
       "      <td>Duchenne muscular dystrophy</td>\n",
       "      <td>1</td>\n",
       "      <td>6315</td>\n",
       "      <td>15</td>\n",
       "    </tr>\n",
       "    <tr>\n",
       "      <th>82912</th>\n",
       "      <td>OMIM:300377.0039</td>\n",
       "      <td>DMD, 1-BP INS, NT1554</td>\n",
       "      <td>1</td>\n",
       "      <td>7364</td>\n",
       "      <td>is allele of</td>\n",
       "      <td>HGNC:2928</td>\n",
       "      <td>DMD</td>\n",
       "      <td>3</td>\n",
       "      <td>6612</td>\n",
       "      <td>17</td>\n",
       "    </tr>\n",
       "  </tbody>\n",
       "</table>\n",
       "<p>82913 rows × 10 columns</p>\n",
       "</div>"
      ],
      "text/plain": [
       "                           head             label_head  class_head index_head  \\\n",
       "0      ZFIN:ZDB-GENE-050626-112                   myl4           5       5279   \n",
       "1      ZFIN:ZDB-GENE-050626-112                   myl4           5       5279   \n",
       "2      ZFIN:ZDB-GENE-050626-112                   myl4           5       5279   \n",
       "3      ZFIN:ZDB-GENE-050626-112                   myl4           5       5279   \n",
       "4      ZFIN:ZDB-GENE-050626-112                   myl4           5       5279   \n",
       "...                         ...                    ...         ...        ...   \n",
       "82908                      4810              ibrutinib           2       1618   \n",
       "82909                       522             carvedilol           2        184   \n",
       "82910          OMIM:300377.0013           DMD, EX18DEL           1       2822   \n",
       "82911           Coriell:GM05113          NIGMS-GM05113           4       8105   \n",
       "82912          OMIM:300377.0039  DMD, 1-BP INS, NT1554           1       7364   \n",
       "\n",
       "                                    relation                        tail  \\\n",
       "0             in orthology relationship with         FlyBase:FBgn0085464   \n",
       "1             in orthology relationship with                   HGNC:7585   \n",
       "2             in orthology relationship with         FlyBase:FBgn0002772   \n",
       "3             in orthology relationship with             NCBIGene:396472   \n",
       "4      in 1 to 1 orthology relationship with  ENSEMBL:ENSECAG00000020967   \n",
       "...                                      ...                         ...   \n",
       "82908                                targets                  HGNC:11283   \n",
       "82909                                targets                    HGNC:620   \n",
       "82910                           is allele of                   HGNC:2928   \n",
       "82911                   has role in modeling               MONDO:0010679   \n",
       "82912                           is allele of                   HGNC:2928   \n",
       "\n",
       "                        label_tail  class_tail index_tail  type  \n",
       "0                          CG34435           5       6825     0  \n",
       "1                             MYL4           3         27     0  \n",
       "2                             Mlc1           5       8901     0  \n",
       "3                             MYL4           3       9508     0  \n",
       "4       ENSEMBL:ENSECAG00000020967           5       8807     1  \n",
       "...                            ...         ...        ...   ...  \n",
       "82908                          SRC           3       3279    14  \n",
       "82909                          APP           3        547    14  \n",
       "82910                          DMD           3       6612    17  \n",
       "82911  Duchenne muscular dystrophy           1       6315    15  \n",
       "82912                          DMD           3       6612    17  \n",
       "\n",
       "[82913 rows x 10 columns]"
      ]
     },
     "execution_count": 70,
     "metadata": {},
     "output_type": "execute_result"
    }
   ],
   "source": [
    "edge2vec_df"
   ]
  },
  {
   "cell_type": "code",
   "execution_count": null,
   "metadata": {},
   "outputs": [
    {
     "name": "stdout",
     "output_type": "stream",
     "text": [
      "(0, {'node_feature': tensor([-0.2373, -0.6726,  0.0315, -0.0320,  0.3521, -0.0603, -0.2529, -0.2380,\n",
      "        -0.2843, -0.0904,  0.1445, -0.3548, -0.1687, -0.1291,  0.1674,  0.4701,\n",
      "        -0.2066,  0.0448, -0.4844,  0.5183,  0.5312, -0.2387,  0.2853,  0.3143,\n",
      "        -0.4235,  0.5705, -0.4175, -0.1010, -0.2630, -0.0620, -0.0100, -0.4090,\n",
      "         0.0204, -0.3645, -0.0323,  0.0475, -0.1973, -0.4321,  0.2897, -0.1158,\n",
      "        -0.0160, -0.0327, -0.4156,  0.1112,  0.3346, -0.1544,  0.2001, -0.0623,\n",
      "        -0.0527,  0.2469,  0.8148, -0.0851,  0.0231,  0.1488,  0.1442,  0.3787,\n",
      "         0.1281, -0.3416,  0.1687,  0.5847, -0.3834, -0.3367, -0.3782,  0.2679])})\n",
      "(0, 6308, {'edge_label': 'in orthology relationship with'})\n",
      "Number of edges is 82899\n",
      "Number of nodes is 10034\n"
     ]
    }
   ],
   "source": [
    "G = nx.DiGraph() # TODO: changed from Graph\n",
    "\n",
    "for ind, node in e2v_embedding.iterrows():\n",
    "    G.add_node(int(node['Node']), node_feature=torch.Tensor(node['Embedding']))\n",
    "for ind, edge in edge2vec_df.iterrows(): \n",
    "  G.add_edge(int(edge['index_head']), int(edge['index_tail']), edge_label = edge['relation'])\n",
    "  \n",
    "for node in G.nodes(data=True):\n",
    "    print(node)\n",
    "    break\n",
    "for edge in G.edges(data=True):\n",
    "    print(edge)\n",
    "    break\n",
    "\n",
    "print(\"Number of edges is {}\".format(G.number_of_edges()))\n",
    "print(\"Number of nodes is {}\".format(G.number_of_nodes()))"
   ]
  },
  {
   "attachments": {},
   "cell_type": "markdown",
   "metadata": {},
   "source": [
    "Obtain predictions for links between node HP:0003560 with any drug node."
   ]
  },
  {
   "cell_type": "code",
   "execution_count": null,
   "metadata": {},
   "outputs": [
    {
     "data": {
      "text/html": [
       "<div>\n",
       "<style scoped>\n",
       "    .dataframe tbody tr th:only-of-type {\n",
       "        vertical-align: middle;\n",
       "    }\n",
       "\n",
       "    .dataframe tbody tr th {\n",
       "        vertical-align: top;\n",
       "    }\n",
       "\n",
       "    .dataframe thead th {\n",
       "        text-align: right;\n",
       "    }\n",
       "</style>\n",
       "<table border=\"1\" class=\"dataframe\">\n",
       "  <thead>\n",
       "    <tr style=\"text-align: right;\">\n",
       "      <th></th>\n",
       "      <th>id</th>\n",
       "      <th>semantic</th>\n",
       "      <th>label</th>\n",
       "      <th>semantic_id</th>\n",
       "      <th>Score</th>\n",
       "    </tr>\n",
       "  </thead>\n",
       "  <tbody>\n",
       "    <tr>\n",
       "      <th>9</th>\n",
       "      <td>MESH:C580853</td>\n",
       "      <td>DRUG</td>\n",
       "      <td>cannabidivarin</td>\n",
       "      <td>2</td>\n",
       "      <td>[0.6829197]</td>\n",
       "    </tr>\n",
       "    <tr>\n",
       "      <th>1821</th>\n",
       "      <td>5408</td>\n",
       "      <td>DRUG</td>\n",
       "      <td>viltolarsen</td>\n",
       "      <td>2</td>\n",
       "      <td>[0.6469281]</td>\n",
       "    </tr>\n",
       "    <tr>\n",
       "      <th>639</th>\n",
       "      <td>1942</td>\n",
       "      <td>DRUG</td>\n",
       "      <td>nisoldipine</td>\n",
       "      <td>2</td>\n",
       "      <td>[0.64627063]</td>\n",
       "    </tr>\n",
       "    <tr>\n",
       "      <th>1801</th>\n",
       "      <td>5357</td>\n",
       "      <td>DRUG</td>\n",
       "      <td>golodirsen</td>\n",
       "      <td>2</td>\n",
       "      <td>[0.6423287]</td>\n",
       "    </tr>\n",
       "    <tr>\n",
       "      <th>1835</th>\n",
       "      <td>5443</td>\n",
       "      <td>DRUG</td>\n",
       "      <td>casimersen</td>\n",
       "      <td>2</td>\n",
       "      <td>[0.63970065]</td>\n",
       "    </tr>\n",
       "    <tr>\n",
       "      <th>6474</th>\n",
       "      <td>MESH:D013654</td>\n",
       "      <td>DRUG</td>\n",
       "      <td>Taurine</td>\n",
       "      <td>2</td>\n",
       "      <td>[0.621483]</td>\n",
       "    </tr>\n",
       "    <tr>\n",
       "      <th>9367</th>\n",
       "      <td>MESH:D019808</td>\n",
       "      <td>DRUG</td>\n",
       "      <td>Losartan</td>\n",
       "      <td>2</td>\n",
       "      <td>[0.6180867]</td>\n",
       "    </tr>\n",
       "    <tr>\n",
       "      <th>594</th>\n",
       "      <td>1797</td>\n",
       "      <td>DRUG</td>\n",
       "      <td>mibefradil</td>\n",
       "      <td>2</td>\n",
       "      <td>[0.6180465]</td>\n",
       "    </tr>\n",
       "    <tr>\n",
       "      <th>1407</th>\n",
       "      <td>4178</td>\n",
       "      <td>DRUG</td>\n",
       "      <td>vandetanib</td>\n",
       "      <td>2</td>\n",
       "      <td>[0.61469764]</td>\n",
       "    </tr>\n",
       "    <tr>\n",
       "      <th>1772</th>\n",
       "      <td>5252</td>\n",
       "      <td>DRUG</td>\n",
       "      <td>neratinib</td>\n",
       "      <td>2</td>\n",
       "      <td>[0.6136116]</td>\n",
       "    </tr>\n",
       "    <tr>\n",
       "      <th>4965</th>\n",
       "      <td>MESH:C540944</td>\n",
       "      <td>DRUG</td>\n",
       "      <td>5-O-(5-amino-5-deoxyribofuranosyl)-1N-(4-amino...</td>\n",
       "      <td>2</td>\n",
       "      <td>[0.61256665]</td>\n",
       "    </tr>\n",
       "    <tr>\n",
       "      <th>8299</th>\n",
       "      <td>MESH:D008775</td>\n",
       "      <td>DRUG</td>\n",
       "      <td>Methylprednisolone</td>\n",
       "      <td>2</td>\n",
       "      <td>[0.60879594]</td>\n",
       "    </tr>\n",
       "    <tr>\n",
       "      <th>1975</th>\n",
       "      <td>MESH:C056165</td>\n",
       "      <td>DRUG</td>\n",
       "      <td>acetovanillone</td>\n",
       "      <td>2</td>\n",
       "      <td>[0.6049852]</td>\n",
       "    </tr>\n",
       "    <tr>\n",
       "      <th>9951</th>\n",
       "      <td>MESH:D000806</td>\n",
       "      <td>DRUG</td>\n",
       "      <td>Angiotensin-Converting Enzyme Inhibitors</td>\n",
       "      <td>2</td>\n",
       "      <td>[0.60409415]</td>\n",
       "    </tr>\n",
       "    <tr>\n",
       "      <th>5145</th>\n",
       "      <td>MESH:D002185</td>\n",
       "      <td>DRUG</td>\n",
       "      <td>Cannabidiol</td>\n",
       "      <td>2</td>\n",
       "      <td>[0.601638]</td>\n",
       "    </tr>\n",
       "    <tr>\n",
       "      <th>871</th>\n",
       "      <td>2612</td>\n",
       "      <td>DRUG</td>\n",
       "      <td>sapropterin</td>\n",
       "      <td>2</td>\n",
       "      <td>[0.58782727]</td>\n",
       "    </tr>\n",
       "    <tr>\n",
       "      <th>1408</th>\n",
       "      <td>4187</td>\n",
       "      <td>DRUG</td>\n",
       "      <td>crizotinib</td>\n",
       "      <td>2</td>\n",
       "      <td>[0.58779544]</td>\n",
       "    </tr>\n",
       "    <tr>\n",
       "      <th>1748</th>\n",
       "      <td>5182</td>\n",
       "      <td>DRUG</td>\n",
       "      <td>eteplirsen</td>\n",
       "      <td>2</td>\n",
       "      <td>[0.57691354]</td>\n",
       "    </tr>\n",
       "    <tr>\n",
       "      <th>4283</th>\n",
       "      <td>MESH:D000077185</td>\n",
       "      <td>DRUG</td>\n",
       "      <td>Resveratrol</td>\n",
       "      <td>2</td>\n",
       "      <td>[0.5763552]</td>\n",
       "    </tr>\n",
       "    <tr>\n",
       "      <th>30</th>\n",
       "      <td>73</td>\n",
       "      <td>DRUG</td>\n",
       "      <td>acepromazine</td>\n",
       "      <td>2</td>\n",
       "      <td>[0.57463485]</td>\n",
       "    </tr>\n",
       "  </tbody>\n",
       "</table>\n",
       "</div>"
      ],
      "text/plain": [
       "                   id semantic  \\\n",
       "9        MESH:C580853     DRUG   \n",
       "1821             5408     DRUG   \n",
       "639              1942     DRUG   \n",
       "1801             5357     DRUG   \n",
       "1835             5443     DRUG   \n",
       "6474     MESH:D013654     DRUG   \n",
       "9367     MESH:D019808     DRUG   \n",
       "594              1797     DRUG   \n",
       "1407             4178     DRUG   \n",
       "1772             5252     DRUG   \n",
       "4965     MESH:C540944     DRUG   \n",
       "8299     MESH:D008775     DRUG   \n",
       "1975     MESH:C056165     DRUG   \n",
       "9951     MESH:D000806     DRUG   \n",
       "5145     MESH:D002185     DRUG   \n",
       "871              2612     DRUG   \n",
       "1408             4187     DRUG   \n",
       "1748             5182     DRUG   \n",
       "4283  MESH:D000077185     DRUG   \n",
       "30                 73     DRUG   \n",
       "\n",
       "                                                  label  semantic_id  \\\n",
       "9                                        cannabidivarin            2   \n",
       "1821                                        viltolarsen            2   \n",
       "639                                         nisoldipine            2   \n",
       "1801                                         golodirsen            2   \n",
       "1835                                         casimersen            2   \n",
       "6474                                            Taurine            2   \n",
       "9367                                           Losartan            2   \n",
       "594                                          mibefradil            2   \n",
       "1407                                         vandetanib            2   \n",
       "1772                                          neratinib            2   \n",
       "4965  5-O-(5-amino-5-deoxyribofuranosyl)-1N-(4-amino...            2   \n",
       "8299                                 Methylprednisolone            2   \n",
       "1975                                     acetovanillone            2   \n",
       "9951           Angiotensin-Converting Enzyme Inhibitors            2   \n",
       "5145                                        Cannabidiol            2   \n",
       "871                                         sapropterin            2   \n",
       "1408                                         crizotinib            2   \n",
       "1748                                         eteplirsen            2   \n",
       "4283                                        Resveratrol            2   \n",
       "30                                         acepromazine            2   \n",
       "\n",
       "             Score  \n",
       "9      [0.6829197]  \n",
       "1821   [0.6469281]  \n",
       "639   [0.64627063]  \n",
       "1801   [0.6423287]  \n",
       "1835  [0.63970065]  \n",
       "6474    [0.621483]  \n",
       "9367   [0.6180867]  \n",
       "594    [0.6180465]  \n",
       "1407  [0.61469764]  \n",
       "1772   [0.6136116]  \n",
       "4965  [0.61256665]  \n",
       "8299  [0.60879594]  \n",
       "1975   [0.6049852]  \n",
       "9951  [0.60409415]  \n",
       "5145    [0.601638]  \n",
       "871   [0.58782727]  \n",
       "1408  [0.58779544]  \n",
       "1748  [0.57691354]  \n",
       "4283   [0.5763552]  \n",
       "30    [0.57463485]  "
      ]
     },
     "execution_count": 72,
     "metadata": {},
     "output_type": "execute_result"
    }
   ],
   "source": [
    "predictions = candidates(nodes, 'HP:0003560', best_x)\n",
    "predictions[predictions['semantic'] == 'DRUG'].sort_values(by = ['Score'], ascending = False).head(20)"
   ]
  },
  {
   "attachments": {},
   "cell_type": "markdown",
   "metadata": {},
   "source": [
    "Obtain the indices of the nodes of interest."
   ]
  },
  {
   "cell_type": "code",
   "execution_count": null,
   "metadata": {},
   "outputs": [
    {
     "name": "stdout",
     "output_type": "stream",
     "text": [
      "node1:\n",
      "              id semantic               label  semantic_id\n",
      "2788  HP:0003560     DISO  Muscular dystrophy            1\n",
      "node2:\n",
      "      id semantic       label  semantic_id\n",
      "184  522     DRUG  carvedilol            2\n"
     ]
    }
   ],
   "source": [
    "def get_node_idx(id, nodes): \n",
    "    return nodes[nodes['id'] == id].index.values.astype(int)[0]\n",
    "\n",
    "node_idx1 = get_node_idx('HP:0003560', nodes)\n",
    "print('node1:')\n",
    "print(nodes.loc[[node_idx1]])\n",
    "\n",
    "node_idx2 = get_node_idx('522', nodes)\n",
    "print('node2:')\n",
    "print(nodes.loc[[node_idx2]])"
   ]
  },
  {
   "attachments": {},
   "cell_type": "markdown",
   "metadata": {},
   "source": [
    "Obtain the embedding features per node."
   ]
  },
  {
   "cell_type": "code",
   "execution_count": null,
   "metadata": {},
   "outputs": [
    {
     "name": "stdout",
     "output_type": "stream",
     "text": [
      "torch.Size([10237, 64])\n"
     ]
    }
   ],
   "source": [
    "x = torch.Tensor(e2v_embedding['Embedding'])\n",
    "print(x.shape)"
   ]
  },
  {
   "attachments": {},
   "cell_type": "markdown",
   "metadata": {},
   "source": [
    "Obtain the indices of the head and tail nodes per edge."
   ]
  },
  {
   "cell_type": "code",
   "execution_count": null,
   "metadata": {},
   "outputs": [
    {
     "name": "stdout",
     "output_type": "stream",
     "text": [
      "torch.Size([2, 85840])\n",
      "torch.LongTensor\n"
     ]
    }
   ],
   "source": [
    "edge_index = torch.Tensor(np.array(G.edges).transpose()).type(torch.int64).long()\n",
    "print(edge_index.shape)\n",
    "print(edge_index.type())"
   ]
  },
  {
   "cell_type": "code",
   "execution_count": null,
   "metadata": {},
   "outputs": [
    {
     "name": "stderr",
     "output_type": "stream",
     "text": [
      "Explain node 184: 100%|██████████| 700/700 [00:59<00:00, 11.69it/s]\n"
     ]
    },
    {
     "name": "stdout",
     "output_type": "stream",
     "text": [
      "Contribution limit is tensor(0.0088)\n"
     ]
    },
    {
     "name": "stderr",
     "output_type": "stream",
     "text": [
      "Explain node 184: 100%|██████████| 700/700 [01:03<00:00, 11.05it/s]\n"
     ]
    },
    {
     "name": "stdout",
     "output_type": "stream",
     "text": [
      "Contribution limit is tensor(0.0088)\n"
     ]
    },
    {
     "name": "stderr",
     "output_type": "stream",
     "text": [
      "Explain node 184: 100%|██████████| 700/700 [01:05<00:00, 10.75it/s]\n"
     ]
    },
    {
     "name": "stdout",
     "output_type": "stream",
     "text": [
      "Contribution limit is tensor(0.0088)\n"
     ]
    },
    {
     "name": "stderr",
     "output_type": "stream",
     "text": [
      "Explain node 184: 100%|██████████| 700/700 [01:02<00:00, 11.18it/s]\n"
     ]
    },
    {
     "name": "stdout",
     "output_type": "stream",
     "text": [
      "Contribution limit is tensor(0.0088)\n"
     ]
    },
    {
     "name": "stderr",
     "output_type": "stream",
     "text": [
      "Explain node 184: 100%|██████████| 700/700 [00:57<00:00, 12.16it/s]\n"
     ]
    },
    {
     "name": "stdout",
     "output_type": "stream",
     "text": [
      "Contribution limit is tensor(0.0088)\n"
     ]
    },
    {
     "name": "stderr",
     "output_type": "stream",
     "text": [
      "Explain node 184: 100%|██████████| 700/700 [01:00<00:00, 11.57it/s]\n"
     ]
    },
    {
     "name": "stdout",
     "output_type": "stream",
     "text": [
      "Contribution limit is tensor(0.0088)\n"
     ]
    },
    {
     "name": "stderr",
     "output_type": "stream",
     "text": [
      "Explain node 184: 100%|██████████| 700/700 [00:57<00:00, 12.10it/s]\n"
     ]
    },
    {
     "name": "stdout",
     "output_type": "stream",
     "text": [
      "Contribution limit is tensor(0.0088)\n"
     ]
    },
    {
     "name": "stderr",
     "output_type": "stream",
     "text": [
      "Explain node 184: 100%|██████████| 700/700 [01:04<00:00, 10.92it/s]\n"
     ]
    },
    {
     "name": "stdout",
     "output_type": "stream",
     "text": [
      "Contribution limit is tensor(0.0088)\n"
     ]
    },
    {
     "name": "stderr",
     "output_type": "stream",
     "text": [
      "Explain node 184: 100%|██████████| 700/700 [01:02<00:00, 11.25it/s]\n"
     ]
    },
    {
     "name": "stdout",
     "output_type": "stream",
     "text": [
      "Contribution limit is tensor(0.0088)\n"
     ]
    },
    {
     "name": "stderr",
     "output_type": "stream",
     "text": [
      "Explain node 184: 100%|██████████| 700/700 [01:02<00:00, 11.28it/s]\n"
     ]
    },
    {
     "name": "stdout",
     "output_type": "stream",
     "text": [
      "Contribution limit is tensor(0.0088)\n",
      "No good explanation found after 10 iterations\n"
     ]
    }
   ],
   "source": [
    "explainer = GNNExplainer(best_model, epochs=700, num_hops=2, lr=0.01)\n",
    "\n",
    "edge_list = []\n",
    "trigger = False\n",
    "early_stop = 0\n",
    "size = 15   # change size of the explanation graph\n",
    "iterations = 10 # number of times GNNExplainer is executed\n",
    "\n",
    "while not trigger:\n",
    "    node_feat_mask, edge_mask = explainer.explain_link(node_idx1=node_idx1, node_idx2=node_idx2, x=x, edge_index=edge_index, G=G)\n",
    "\n",
    "    G2 = copy.deepcopy(G)\n",
    "    \n",
    "    if size is not None: \n",
    "        limit = edge_mask.sort(descending = True)[0][size]\n",
    "        print('Contribution limit is', limit)\n",
    "    else: \n",
    "        limit = 0.5\n",
    "\n",
    "    for indx, edge in enumerate(G.edges): \n",
    "        if edge_mask[indx] < limit:\n",
    "            G2.remove_edge(edge[0], edge[1])\n",
    "\n",
    "    trigger = nx.has_path(G2, node_idx1, node_idx2)\n",
    "    early_stop += 1\n",
    "    \n",
    "    if early_stop == iterations and not trigger:\n",
    "        print('No good explanation found after {} iterations'.format(early_stop))\n",
    "        trigger = True\n",
    "    elif trigger: \n",
    "        print('Explanation found!')"
   ]
  },
  {
   "cell_type": "code",
   "execution_count": null,
   "metadata": {},
   "outputs": [],
   "source": [
    "edge_labels_dict = dict([((n1, n2), G.edges[(n1,n2)]['edge_label']) for n1, n2 in G.edges])"
   ]
  },
  {
   "cell_type": "code",
   "execution_count": null,
   "metadata": {},
   "outputs": [
    {
     "name": "stdout",
     "output_type": "stream",
     "text": [
      "Number of edges is 85840\n",
      "Number of nodes is 10237\n"
     ]
    }
   ],
   "source": [
    "print(\"Number of edges is {}\".format(G.number_of_edges()))\n",
    "print(\"Number of nodes is {}\".format(G.number_of_nodes()))\n"
   ]
  },
  {
   "cell_type": "code",
   "execution_count": null,
   "metadata": {},
   "outputs": [
    {
     "ename": "IndexError",
     "evalue": "tensors used as indices must be long, byte or bool tensors",
     "output_type": "error",
     "traceback": [
      "\u001b[1;31m---------------------------------------------------------------------------\u001b[0m",
      "\u001b[1;31mIndexError\u001b[0m                                Traceback (most recent call last)",
      "Cell \u001b[1;32mIn[76], line 2\u001b[0m\n\u001b[0;32m      1\u001b[0m plt\u001b[39m.\u001b[39mfigure(figsize\u001b[39m=\u001b[39m(\u001b[39m10\u001b[39m, \u001b[39m10\u001b[39m))\n\u001b[1;32m----> 2\u001b[0m ax, G_sub \u001b[39m=\u001b[39m visualize_subgraph([node_idx1, node_idx2], \n\u001b[0;32m      3\u001b[0m                                edge_index, edge_mask, nodes\u001b[39m=\u001b[39;49mnodes, y\u001b[39m=\u001b[39;49mtorch\u001b[39m.\u001b[39;49mTensor(nodes\u001b[39m.\u001b[39;49msemantic_id), \n\u001b[0;32m      4\u001b[0m                                seed \u001b[39m=\u001b[39;49m \u001b[39m667\u001b[39;49m, num_hops \u001b[39m=\u001b[39;49m \u001b[39m2\u001b[39;49m, threshold\u001b[39m=\u001b[39;49mlimit, node_label \u001b[39m=\u001b[39;49m \u001b[39m'\u001b[39;49m\u001b[39mlabel\u001b[39;49m\u001b[39m'\u001b[39;49m, edge_labels \u001b[39m=\u001b[39;49m edge_labels_dict, show_inactive \u001b[39m=\u001b[39;49m \u001b[39mFalse\u001b[39;49;00m, remove_unconnected \u001b[39m=\u001b[39;49m \u001b[39mTrue\u001b[39;49;00m)\n",
      "Cell \u001b[1;32mIn[65], line 674\u001b[0m, in \u001b[0;36mvisualize_subgraph\u001b[1;34m(node_idx, edge_index_full, edge_mask, nodes, y, threshold, edge_y, node_alpha, seed, flow, num_hops, node_label, edge_labels, show_inactive, remove_unconnected, **kwargs)\u001b[0m\n\u001b[0;32m    661\u001b[0m     ax\u001b[39m.\u001b[39mannotate(\n\u001b[0;32m    662\u001b[0m         \u001b[39m'\u001b[39m\u001b[39m'\u001b[39m, xy\u001b[39m=\u001b[39mpos[target], xycoords\u001b[39m=\u001b[39m\u001b[39m'\u001b[39m\u001b[39mdata\u001b[39m\u001b[39m'\u001b[39m, xytext\u001b[39m=\u001b[39mpos[source],\n\u001b[0;32m    663\u001b[0m         textcoords\u001b[39m=\u001b[39m\u001b[39m'\u001b[39m\u001b[39mdata\u001b[39m\u001b[39m'\u001b[39m, arrowprops\u001b[39m=\u001b[39m\u001b[39mdict\u001b[39m(\n\u001b[1;32m   (...)\u001b[0m\n\u001b[0;32m    669\u001b[0m             connectionstyle\u001b[39m=\u001b[39m\u001b[39m\"\u001b[39m\u001b[39marc3,rad=0.1\u001b[39m\u001b[39m\"\u001b[39m,\n\u001b[0;32m    670\u001b[0m         ))\n\u001b[0;32m    672\u001b[0m \u001b[39mif\u001b[39;00m node_alpha \u001b[39mis\u001b[39;00m \u001b[39mNone\u001b[39;00m:\n\u001b[0;32m    673\u001b[0m     \u001b[39m#print(active)\u001b[39;00m\n\u001b[1;32m--> 674\u001b[0m     nx\u001b[39m.\u001b[39mdraw_networkx_nodes(G2, pos, node_color\u001b[39m=\u001b[39my[active]\u001b[39m.\u001b[39mtolist(),\n\u001b[0;32m    675\u001b[0m                             \u001b[39m*\u001b[39m\u001b[39m*\u001b[39mnode_kwargs)\n\u001b[0;32m    676\u001b[0m \u001b[39melse\u001b[39;00m:\n\u001b[0;32m    677\u001b[0m     node_alpha_subset \u001b[39m=\u001b[39m node_alpha[subset]\n",
      "\u001b[1;31mIndexError\u001b[0m: tensors used as indices must be long, byte or bool tensors"
     ]
    },
    {
     "data": {
      "image/png": "[encoded data removed]",
      "text/plain": [
       "<Figure size 1000x1000 with 1 Axes>"
      ]
     },
     "metadata": {},
     "output_type": "display_data"
    }
   ],
   "source": [
    "plt.figure(figsize=(10, 10))\n",
    "ax, G_sub = visualize_subgraph([node_idx1, node_idx2], \n",
    "                               edge_index, edge_mask, nodes=nodes, y=torch.Tensor(nodes.semantic_id), \n",
    "                               seed = 667, num_hops = 2, threshold=limit, node_label = 'label', edge_labels = edge_labels_dict, show_inactive = False, remove_unconnected = True)\n"
   ]
  }
 ],
 "metadata": {
  "kernelspec": {
   "display_name": "xaifo",
   "language": "python",
   "name": "python3"
  },
  "language_info": {
   "codemirror_mode": {
    "name": "ipython",
    "version": 3
   },
   "file_extension": ".py",
   "mimetype": "text/x-python",
   "name": "python",
   "nbconvert_exporter": "python",
   "pygments_lexer": "ipython3",
   "version": "3.10.11"
  },
  "orig_nbformat": 4
 },
 "nbformat": 4,
 "nbformat_minor": 2
}
