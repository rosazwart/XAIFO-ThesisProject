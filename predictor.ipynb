{
 "cells": [
  {
   "attachments": {},
   "cell_type": "markdown",
   "metadata": {},
   "source": [
    "Adapted by Rosa Zwart from Jupyter Notebooks found at https://github.com/PPerdomoQ/rare-disease-explainer"
   ]
  },
  {
   "attachments": {},
   "cell_type": "markdown",
   "metadata": {},
   "source": [
    "# Import Libraries"
   ]
  },
  {
   "attachments": {},
   "cell_type": "markdown",
   "metadata": {},
   "source": [
    "Package                       Version\n",
    "----------------------------- ----------\n",
    "aiosignal                     1.3.1\n",
    "anyio                         3.6.2\n",
    "argon2-cffi                   21.3.0\n",
    "argon2-cffi-bindings          21.2.0\n",
    "arrow                         1.2.3\n",
    "asttokens                     2.2.1\n",
    "attrs                         22.2.0\n",
    "backcall                      0.2.0\n",
    "backports.functools-lru-cache 1.6.4\n",
    "beautifulsoup4                4.12.2\n",
    "bleach                        6.0.0\n",
    "certifi                       2023.5.7\n",
    "cffi                          1.15.1\n",
    "charset-normalizer            3.1.0\n",
    "click                         8.1.3\n",
    "colorama                      0.4.6\n",
    "comm                          0.1.3\n",
    "contourpy                     1.0.7\n",
    "cycler                        0.11.0\n",
    "debugpy                       1.6.6\n",
    "decorator                     5.1.1\n",
    "deepsnap                      0.2.1\n",
    "defusedxml                    0.7.1\n",
    "distlib                       0.3.6\n",
    "executing                     1.2.0\n",
    "fastjsonschema                2.16.3\n",
    "filelock                      3.12.0\n",
    "fonttools                     4.39.3\n",
    "fqdn                          1.5.1\n",
    "frozenlist                    1.3.3\n",
    "gensim                        4.3.1\n",
    "grpcio                        1.54.0\n",
    "idna                          3.4\n",
    "importlib-metadata            6.6.0\n",
    "ipykernel                     6.20.2\n",
    "ipython                       8.13.2\n",
    "ipython-genutils              0.2.0\n",
    "ipywidgets                    8.0.6\n",
    "isoduration                   20.11.0\n",
    "jedi                          0.18.2\n",
    "Jinja2                        3.1.2\n",
    "joblib                        1.2.0\n",
    "jsonpointer                   2.3\n",
    "jsonschema                    4.17.3\n",
    "jupyter                       1.0.0\n",
    "jupyter_client                8.2.0\n",
    "jupyter-console               6.6.3\n",
    "jupyter_core                  5.3.0\n",
    "jupyter-events                0.6.3\n",
    "jupyter_server                2.5.0\n",
    "jupyter_server_terminals      0.4.4\n",
    "jupyterlab-pygments           0.2.2\n",
    "jupyterlab-widgets            3.0.7\n",
    "kiwisolver                    1.4.4\n",
    "MarkupSafe                    2.1.2\n",
    "matplotlib                    3.7.1\n",
    "matplotlib-inline             0.1.6\n",
    "mistune                       2.0.5\n",
    "msgpack                       1.0.5\n",
    "nbclassic                     1.0.0\n",
    "nbclient                      0.7.4\n",
    "nbconvert                     7.4.0\n",
    "nbformat                      5.8.0\n",
    "nest-asyncio                  1.5.6\n",
    "networkx                      3.0\n",
    "notebook                      6.5.4\n",
    "notebook_shim                 0.2.3\n",
    "numpy                         1.24.3\n",
    "packaging                     23.1\n",
    "pandas                        1.3.5\n",
    "pandocfilters                 1.5.0\n",
    "parso                         0.8.3\n",
    "pickleshare                   0.7.5\n",
    "Pillow                        9.5.0\n",
    "pip                           23.1.2\n",
    "platformdirs                  3.5.0\n",
    "prometheus-client             0.16.0\n",
    "prompt-toolkit                3.0.38\n",
    "protobuf                      4.23.0\n",
    "psutil                        5.9.1\n",
    "pure-eval                     0.2.2\n",
    "pycparser                     2.21\n",
    "Pygments                      2.15.1\n",
    "pyparsing                     3.0.9\n",
    "pyrsistent                    0.19.3\n",
    "python-dateutil               2.8.2\n",
    "python-json-logger            2.0.7\n",
    "pytz                          2023.3\n",
    "pywin32                       303\n",
    "pywinpty                      2.0.10\n",
    "PyYAML                        6.0\n",
    "pyzmq                         25.0.2\n",
    "qtconsole                     5.4.3\n",
    "QtPy                          2.3.1\n",
    "ray                           2.3.1\n",
    "requests                      2.30.0\n",
    "rfc3339-validator             0.1.4\n",
    "rfc3986-validator             0.1.1\n",
    "scikit-learn                  1.2.2\n",
    "scipy                         1.10.1\n",
    "Send2Trash                    1.8.2\n",
    "setuptools                    66.0.0\n",
    "six                           1.16.0\n",
    "smart-open                    6.3.0\n",
    "sniffio                       1.3.0\n",
    "soupsieve                     2.4.1\n",
    "stack-data                    0.6.2\n",
    "tabulate                      0.9.0\n",
    "terminado                     0.17.1\n",
    "threadpoolctl                 3.1.0\n",
    "tinycss2                      1.2.1\n",
    "torch                         1.11.0+cpu\n",
    "torch-cluster                 1.6.0\n",
    "torch-geometric               2.0.4\n",
    "torch-scatter                 2.0.9\n",
    "torch-sparse                  0.6.13\n",
    "torch-spline-conv             1.2.2\n",
    "torchaudio                    0.11.0+cpu\n",
    "torchvision                   0.12.0+cpu\n",
    "tornado                       6.2\n",
    "tqdm                          4.65.0\n",
    "traitlets                     5.9.0\n",
    "typing_extensions             4.5.0\n",
    "tzdata                        2023.3\n",
    "uri-template                  1.2.0\n",
    "urllib3                       2.0.2\n",
    "virtualenv                    20.23.0\n",
    "wcwidth                       0.2.6\n",
    "webcolors                     1.13\n",
    "webencodings                  0.5.1\n",
    "websocket-client              1.5.1\n",
    "wheel                         0.38.4\n",
    "widgetsnbextension            4.0.7\n",
    "zipp                          3.15.0"
   ]
  },
  {
   "cell_type": "code",
   "execution_count": 19,
   "metadata": {},
   "outputs": [],
   "source": [
    "import pandas as pd\n",
    "import numpy as np\n",
    "import networkx as nx\n",
    "import copy\n",
    "import pickle\n",
    "\n",
    "import edge2vec.transition3 as transitions\n",
    "import edge2vec.edge2vec3 as edge2vec\n",
    "\n",
    "from gnn.linkpred_model import LinkPredModel, train, test\n",
    "\n",
    "import torch\n",
    "import torch.nn as nn\n",
    "from torch.utils.data import DataLoader\n",
    "import torch.nn.functional as F\n",
    "\n",
    "from torch_geometric.nn import SAGEConv\n",
    "\n",
    "from deepsnap.dataset import GraphDataset\n",
    "from deepsnap.batch import Batch\n",
    "from deepsnap.graph import Graph\n",
    "\n",
    "from ray import tune\n",
    "\n",
    "from sklearn.metrics import roc_auc_score, roc_curve, f1_score, classification_report, confusion_matrix\n",
    "import matplotlib.pyplot as plt\n",
    "\n",
    "from gensim.models import KeyedVectors\n",
    "\n",
    "from sklearn.preprocessing import StandardScaler\n",
    "from sklearn.decomposition import PCA\n",
    "from sklearn.manifold import TSNE"
   ]
  },
  {
   "cell_type": "code",
   "execution_count": 2,
   "metadata": {},
   "outputs": [
    {
     "name": "stdout",
     "output_type": "stream",
     "text": [
      "Using device: cpu\n"
     ]
    }
   ],
   "source": [
    "torch_device = torch.device('cuda' if torch.cuda.is_available() else 'cpu')\n",
    "print('Using device:', torch_device)"
   ]
  },
  {
   "attachments": {},
   "cell_type": "markdown",
   "metadata": {},
   "source": [
    "Specify which dataset is used, 1 (original knowledge graph) or 2 (restructured knowledge graph)"
   ]
  },
  {
   "cell_type": "code",
   "execution_count": 4,
   "metadata": {},
   "outputs": [],
   "source": [
    "dataset_nr = 2  # fill in 1 or 2\n",
    "\n",
    "if dataset_nr == 1:\n",
    "    FILE_EDGES = 'prev_kg_edges.csv'\n",
    "    FILE_NODES = 'prev_kg_nodes.csv'\n",
    "else:\n",
    "    FILE_EDGES = 'new_kg_edges.csv'\n",
    "    FILE_NODES = 'new_kg_nodes.csv'"
   ]
  },
  {
   "attachments": {},
   "cell_type": "markdown",
   "metadata": {},
   "source": [
    "# Load Data"
   ]
  },
  {
   "attachments": {},
   "cell_type": "markdown",
   "metadata": {},
   "source": [
    "Load all edges of the knowledge graph."
   ]
  },
  {
   "cell_type": "code",
   "execution_count": 6,
   "metadata": {},
   "outputs": [
    {
     "data": {
      "text/html": [
       "<div>\n",
       "<style scoped>\n",
       "    .dataframe tbody tr th:only-of-type {\n",
       "        vertical-align: middle;\n",
       "    }\n",
       "\n",
       "    .dataframe tbody tr th {\n",
       "        vertical-align: top;\n",
       "    }\n",
       "\n",
       "    .dataframe thead th {\n",
       "        text-align: right;\n",
       "    }\n",
       "</style>\n",
       "<table border=\"1\" class=\"dataframe\">\n",
       "  <thead>\n",
       "    <tr style=\"text-align: right;\">\n",
       "      <th></th>\n",
       "      <th>id</th>\n",
       "      <th>subject</th>\n",
       "      <th>object</th>\n",
       "      <th>relation_id</th>\n",
       "      <th>relation_label</th>\n",
       "      <th>relation_iri</th>\n",
       "    </tr>\n",
       "  </thead>\n",
       "  <tbody>\n",
       "    <tr>\n",
       "      <th>0</th>\n",
       "      <td>15a20d1b-1d4c-4ef5-8960-0bbcee1b4261</td>\n",
       "      <td>WormBase:WBGene00006787</td>\n",
       "      <td>WormBase:WBGene00003929</td>\n",
       "      <td>RO:0002434</td>\n",
       "      <td>interacts with</td>\n",
       "      <td>http://purl.obolibrary.org/obo/RO_0002434</td>\n",
       "    </tr>\n",
       "    <tr>\n",
       "      <th>1</th>\n",
       "      <td>78c75c6d-806d-47b4-930f-4544eaa2c5a5</td>\n",
       "      <td>ZFIN:ZDB-GENE-020129-1</td>\n",
       "      <td>ZP:0004595</td>\n",
       "      <td>RO:0003303</td>\n",
       "      <td>causes condition</td>\n",
       "      <td>http://purl.obolibrary.org/obo/RO_0003303</td>\n",
       "    </tr>\n",
       "    <tr>\n",
       "      <th>2</th>\n",
       "      <td>34b96ade-f51a-4680-8c53-c00fbf079968</td>\n",
       "      <td>ENSEMBL:ENSCAFG00000001848</td>\n",
       "      <td>RGD:1310277</td>\n",
       "      <td>RO:HOM0000017</td>\n",
       "      <td>in orthology relationship with</td>\n",
       "      <td>http://purl.obolibrary.org/obo/RO_HOM0000017</td>\n",
       "    </tr>\n",
       "    <tr>\n",
       "      <th>3</th>\n",
       "      <td>d32fd8ea-e219-45d9-be6d-7adcba8289c0</td>\n",
       "      <td>MGI:101864</td>\n",
       "      <td>MP:0002961</td>\n",
       "      <td>RO:0003303</td>\n",
       "      <td>causes condition</td>\n",
       "      <td>http://purl.obolibrary.org/obo/RO_0003303</td>\n",
       "    </tr>\n",
       "    <tr>\n",
       "      <th>4</th>\n",
       "      <td>58c47a12-8477-40a3-9009-a200854f84fe</td>\n",
       "      <td>ENSEMBL:ENSMODG00000018459</td>\n",
       "      <td>WormBase:WBGene00003911</td>\n",
       "      <td>RO:HOM0000017</td>\n",
       "      <td>in orthology relationship with</td>\n",
       "      <td>http://purl.obolibrary.org/obo/RO_HOM0000017</td>\n",
       "    </tr>\n",
       "    <tr>\n",
       "      <th>5</th>\n",
       "      <td>2ec9e759-e9ea-4e9d-ac75-57a643cfd845</td>\n",
       "      <td>MGI:1277151</td>\n",
       "      <td>HP:0012757</td>\n",
       "      <td>RO:0003303</td>\n",
       "      <td>causes condition</td>\n",
       "      <td>http://purl.obolibrary.org/obo/RO_0003303</td>\n",
       "    </tr>\n",
       "    <tr>\n",
       "      <th>6</th>\n",
       "      <td>18ad99b9-19c6-419a-bb5e-d49926575675</td>\n",
       "      <td>FlyBase:FBgn0261563</td>\n",
       "      <td>ENSEMBL:ENSMMUG00000004321</td>\n",
       "      <td>RO:HOM0000017</td>\n",
       "      <td>in orthology relationship with</td>\n",
       "      <td>http://purl.obolibrary.org/obo/RO_HOM0000017</td>\n",
       "    </tr>\n",
       "    <tr>\n",
       "      <th>7</th>\n",
       "      <td>5990c621-27da-4f75-bc39-55ad604f191f</td>\n",
       "      <td>ENSEMBL:ENSFCAG00000012569</td>\n",
       "      <td>HGNC:11873</td>\n",
       "      <td>RO:HOM0000017</td>\n",
       "      <td>in orthology relationship with</td>\n",
       "      <td>http://purl.obolibrary.org/obo/RO_HOM0000017</td>\n",
       "    </tr>\n",
       "    <tr>\n",
       "      <th>8</th>\n",
       "      <td>6bdb9894-3967-441e-aa68-f5a37e900c56</td>\n",
       "      <td>WormBase:WBGene00006062</td>\n",
       "      <td>WBPhenotype:0001316</td>\n",
       "      <td>RO:0003303</td>\n",
       "      <td>causes condition</td>\n",
       "      <td>http://purl.obolibrary.org/obo/RO_0003303</td>\n",
       "    </tr>\n",
       "    <tr>\n",
       "      <th>9</th>\n",
       "      <td>ed0f0944-a99c-4508-ba34-59675d615d4c</td>\n",
       "      <td>HGNC:8591</td>\n",
       "      <td>MGI:1339984</td>\n",
       "      <td>RO:HOM0000017</td>\n",
       "      <td>in orthology relationship with</td>\n",
       "      <td>http://purl.obolibrary.org/obo/RO_HOM0000017</td>\n",
       "    </tr>\n",
       "  </tbody>\n",
       "</table>\n",
       "</div>"
      ],
      "text/plain": [
       "                                     id                     subject  \\\n",
       "0  15a20d1b-1d4c-4ef5-8960-0bbcee1b4261     WormBase:WBGene00006787   \n",
       "1  78c75c6d-806d-47b4-930f-4544eaa2c5a5      ZFIN:ZDB-GENE-020129-1   \n",
       "2  34b96ade-f51a-4680-8c53-c00fbf079968  ENSEMBL:ENSCAFG00000001848   \n",
       "3  d32fd8ea-e219-45d9-be6d-7adcba8289c0                  MGI:101864   \n",
       "4  58c47a12-8477-40a3-9009-a200854f84fe  ENSEMBL:ENSMODG00000018459   \n",
       "5  2ec9e759-e9ea-4e9d-ac75-57a643cfd845                 MGI:1277151   \n",
       "6  18ad99b9-19c6-419a-bb5e-d49926575675         FlyBase:FBgn0261563   \n",
       "7  5990c621-27da-4f75-bc39-55ad604f191f  ENSEMBL:ENSFCAG00000012569   \n",
       "8  6bdb9894-3967-441e-aa68-f5a37e900c56     WormBase:WBGene00006062   \n",
       "9  ed0f0944-a99c-4508-ba34-59675d615d4c                   HGNC:8591   \n",
       "\n",
       "                       object    relation_id                  relation_label  \\\n",
       "0     WormBase:WBGene00003929     RO:0002434                  interacts with   \n",
       "1                  ZP:0004595     RO:0003303                causes condition   \n",
       "2                 RGD:1310277  RO:HOM0000017  in orthology relationship with   \n",
       "3                  MP:0002961     RO:0003303                causes condition   \n",
       "4     WormBase:WBGene00003911  RO:HOM0000017  in orthology relationship with   \n",
       "5                  HP:0012757     RO:0003303                causes condition   \n",
       "6  ENSEMBL:ENSMMUG00000004321  RO:HOM0000017  in orthology relationship with   \n",
       "7                  HGNC:11873  RO:HOM0000017  in orthology relationship with   \n",
       "8         WBPhenotype:0001316     RO:0003303                causes condition   \n",
       "9                 MGI:1339984  RO:HOM0000017  in orthology relationship with   \n",
       "\n",
       "                                   relation_iri  \n",
       "0     http://purl.obolibrary.org/obo/RO_0002434  \n",
       "1     http://purl.obolibrary.org/obo/RO_0003303  \n",
       "2  http://purl.obolibrary.org/obo/RO_HOM0000017  \n",
       "3     http://purl.obolibrary.org/obo/RO_0003303  \n",
       "4  http://purl.obolibrary.org/obo/RO_HOM0000017  \n",
       "5     http://purl.obolibrary.org/obo/RO_0003303  \n",
       "6  http://purl.obolibrary.org/obo/RO_HOM0000017  \n",
       "7  http://purl.obolibrary.org/obo/RO_HOM0000017  \n",
       "8     http://purl.obolibrary.org/obo/RO_0003303  \n",
       "9  http://purl.obolibrary.org/obo/RO_HOM0000017  "
      ]
     },
     "execution_count": 6,
     "metadata": {},
     "output_type": "execute_result"
    }
   ],
   "source": [
    "edges = pd.read_csv(f'output/{FILE_EDGES}', header=0)\n",
    "edges.head(10)"
   ]
  },
  {
   "attachments": {},
   "cell_type": "markdown",
   "metadata": {},
   "source": [
    "Extract the relevant columns and rename these columns."
   ]
  },
  {
   "cell_type": "code",
   "execution_count": 7,
   "metadata": {},
   "outputs": [
    {
     "data": {
      "text/html": [
       "<div>\n",
       "<style scoped>\n",
       "    .dataframe tbody tr th:only-of-type {\n",
       "        vertical-align: middle;\n",
       "    }\n",
       "\n",
       "    .dataframe tbody tr th {\n",
       "        vertical-align: top;\n",
       "    }\n",
       "\n",
       "    .dataframe thead th {\n",
       "        text-align: right;\n",
       "    }\n",
       "</style>\n",
       "<table border=\"1\" class=\"dataframe\">\n",
       "  <thead>\n",
       "    <tr style=\"text-align: right;\">\n",
       "      <th></th>\n",
       "      <th>head</th>\n",
       "      <th>relation</th>\n",
       "      <th>tail</th>\n",
       "    </tr>\n",
       "  </thead>\n",
       "  <tbody>\n",
       "    <tr>\n",
       "      <th>0</th>\n",
       "      <td>WormBase:WBGene00006787</td>\n",
       "      <td>interacts with</td>\n",
       "      <td>WormBase:WBGene00003929</td>\n",
       "    </tr>\n",
       "    <tr>\n",
       "      <th>1</th>\n",
       "      <td>ZFIN:ZDB-GENE-020129-1</td>\n",
       "      <td>causes condition</td>\n",
       "      <td>ZP:0004595</td>\n",
       "    </tr>\n",
       "    <tr>\n",
       "      <th>2</th>\n",
       "      <td>ENSEMBL:ENSCAFG00000001848</td>\n",
       "      <td>in orthology relationship with</td>\n",
       "      <td>RGD:1310277</td>\n",
       "    </tr>\n",
       "    <tr>\n",
       "      <th>3</th>\n",
       "      <td>MGI:101864</td>\n",
       "      <td>causes condition</td>\n",
       "      <td>MP:0002961</td>\n",
       "    </tr>\n",
       "    <tr>\n",
       "      <th>4</th>\n",
       "      <td>ENSEMBL:ENSMODG00000018459</td>\n",
       "      <td>in orthology relationship with</td>\n",
       "      <td>WormBase:WBGene00003911</td>\n",
       "    </tr>\n",
       "    <tr>\n",
       "      <th>5</th>\n",
       "      <td>MGI:1277151</td>\n",
       "      <td>causes condition</td>\n",
       "      <td>HP:0012757</td>\n",
       "    </tr>\n",
       "    <tr>\n",
       "      <th>6</th>\n",
       "      <td>FlyBase:FBgn0261563</td>\n",
       "      <td>in orthology relationship with</td>\n",
       "      <td>ENSEMBL:ENSMMUG00000004321</td>\n",
       "    </tr>\n",
       "    <tr>\n",
       "      <th>7</th>\n",
       "      <td>ENSEMBL:ENSFCAG00000012569</td>\n",
       "      <td>in orthology relationship with</td>\n",
       "      <td>HGNC:11873</td>\n",
       "    </tr>\n",
       "    <tr>\n",
       "      <th>8</th>\n",
       "      <td>WormBase:WBGene00006062</td>\n",
       "      <td>causes condition</td>\n",
       "      <td>WBPhenotype:0001316</td>\n",
       "    </tr>\n",
       "    <tr>\n",
       "      <th>9</th>\n",
       "      <td>HGNC:8591</td>\n",
       "      <td>in orthology relationship with</td>\n",
       "      <td>MGI:1339984</td>\n",
       "    </tr>\n",
       "  </tbody>\n",
       "</table>\n",
       "</div>"
      ],
      "text/plain": [
       "                         head                        relation  \\\n",
       "0     WormBase:WBGene00006787                  interacts with   \n",
       "1      ZFIN:ZDB-GENE-020129-1                causes condition   \n",
       "2  ENSEMBL:ENSCAFG00000001848  in orthology relationship with   \n",
       "3                  MGI:101864                causes condition   \n",
       "4  ENSEMBL:ENSMODG00000018459  in orthology relationship with   \n",
       "5                 MGI:1277151                causes condition   \n",
       "6         FlyBase:FBgn0261563  in orthology relationship with   \n",
       "7  ENSEMBL:ENSFCAG00000012569  in orthology relationship with   \n",
       "8     WormBase:WBGene00006062                causes condition   \n",
       "9                   HGNC:8591  in orthology relationship with   \n",
       "\n",
       "                         tail  \n",
       "0     WormBase:WBGene00003929  \n",
       "1                  ZP:0004595  \n",
       "2                 RGD:1310277  \n",
       "3                  MP:0002961  \n",
       "4     WormBase:WBGene00003911  \n",
       "5                  HP:0012757  \n",
       "6  ENSEMBL:ENSMMUG00000004321  \n",
       "7                  HGNC:11873  \n",
       "8         WBPhenotype:0001316  \n",
       "9                 MGI:1339984  "
      ]
     },
     "execution_count": 7,
     "metadata": {},
     "output_type": "execute_result"
    }
   ],
   "source": [
    "edges = edges[['subject', 'relation_label', 'object']]\n",
    "edges.rename(columns={'subject': 'head', 'relation_label': 'relation', 'object': 'tail'}, inplace=True)\n",
    "edges.head(10)"
   ]
  },
  {
   "cell_type": "code",
   "execution_count": 8,
   "metadata": {},
   "outputs": [
    {
     "name": "stdout",
     "output_type": "stream",
     "text": [
      "There are 85992 edges\n"
     ]
    }
   ],
   "source": [
    "print(f'There are {edges.shape[0]} edges')"
   ]
  },
  {
   "attachments": {},
   "cell_type": "markdown",
   "metadata": {},
   "source": [
    "Load all nodes of the knowledge graph."
   ]
  },
  {
   "cell_type": "code",
   "execution_count": 9,
   "metadata": {},
   "outputs": [
    {
     "data": {
      "text/html": [
       "<div>\n",
       "<style scoped>\n",
       "    .dataframe tbody tr th:only-of-type {\n",
       "        vertical-align: middle;\n",
       "    }\n",
       "\n",
       "    .dataframe tbody tr th {\n",
       "        vertical-align: top;\n",
       "    }\n",
       "\n",
       "    .dataframe thead th {\n",
       "        text-align: right;\n",
       "    }\n",
       "</style>\n",
       "<table border=\"1\" class=\"dataframe\">\n",
       "  <thead>\n",
       "    <tr style=\"text-align: right;\">\n",
       "      <th></th>\n",
       "      <th>id</th>\n",
       "      <th>label</th>\n",
       "      <th>iri</th>\n",
       "      <th>semantic</th>\n",
       "      <th>index_id</th>\n",
       "    </tr>\n",
       "  </thead>\n",
       "  <tbody>\n",
       "    <tr>\n",
       "      <th>0</th>\n",
       "      <td>MP:0004187</td>\n",
       "      <td>cardia bifida</td>\n",
       "      <td>http://purl.obolibrary.org/obo/MP_0004187</td>\n",
       "      <td>phenotype</td>\n",
       "      <td>0</td>\n",
       "    </tr>\n",
       "    <tr>\n",
       "      <th>1</th>\n",
       "      <td>ZP:0100138</td>\n",
       "      <td>muscle tendon junction myotome increased amoun...</td>\n",
       "      <td>http://purl.obolibrary.org/obo/ZP_0100138</td>\n",
       "      <td>phenotype</td>\n",
       "      <td>1</td>\n",
       "    </tr>\n",
       "    <tr>\n",
       "      <th>2</th>\n",
       "      <td>MGI:1346525</td>\n",
       "      <td>Sgcd</td>\n",
       "      <td>http://www.informatics.jax.org/accession/MGI:1...</td>\n",
       "      <td>gene</td>\n",
       "      <td>2</td>\n",
       "    </tr>\n",
       "    <tr>\n",
       "      <th>3</th>\n",
       "      <td>OMIM:300377.0044</td>\n",
       "      <td>DMD, LYS770TER</td>\n",
       "      <td>http://omim.org/entry/300377.0044</td>\n",
       "      <td>variant</td>\n",
       "      <td>3</td>\n",
       "    </tr>\n",
       "    <tr>\n",
       "      <th>4</th>\n",
       "      <td>ZP:0002210</td>\n",
       "      <td>posterior lateral line neuromast primordium mi...</td>\n",
       "      <td>http://purl.obolibrary.org/obo/ZP_0002210</td>\n",
       "      <td>phenotype</td>\n",
       "      <td>4</td>\n",
       "    </tr>\n",
       "    <tr>\n",
       "      <th>5</th>\n",
       "      <td>MP:0020335</td>\n",
       "      <td>abnormal dentate gyrus neuron dendrite morphology</td>\n",
       "      <td>http://purl.obolibrary.org/obo/MP_0020335</td>\n",
       "      <td>phenotype</td>\n",
       "      <td>5</td>\n",
       "    </tr>\n",
       "    <tr>\n",
       "      <th>6</th>\n",
       "      <td>HP:0000316</td>\n",
       "      <td>Hypertelorism</td>\n",
       "      <td>http://purl.obolibrary.org/obo/HP_0000316</td>\n",
       "      <td>phenotype</td>\n",
       "      <td>6</td>\n",
       "    </tr>\n",
       "    <tr>\n",
       "      <th>7</th>\n",
       "      <td>ZP:0004032</td>\n",
       "      <td>margin constricted, abnormal</td>\n",
       "      <td>http://purl.obolibrary.org/obo/ZP_0004032</td>\n",
       "      <td>phenotype</td>\n",
       "      <td>7</td>\n",
       "    </tr>\n",
       "    <tr>\n",
       "      <th>8</th>\n",
       "      <td>ZP:0003164</td>\n",
       "      <td>atrium decreased size, abnormal</td>\n",
       "      <td>http://purl.obolibrary.org/obo/ZP_0003164</td>\n",
       "      <td>phenotype</td>\n",
       "      <td>8</td>\n",
       "    </tr>\n",
       "    <tr>\n",
       "      <th>9</th>\n",
       "      <td>MP:0003331</td>\n",
       "      <td>increased hepatocellular carcinoma incidence</td>\n",
       "      <td>http://purl.obolibrary.org/obo/MP_0003331</td>\n",
       "      <td>phenotype</td>\n",
       "      <td>9</td>\n",
       "    </tr>\n",
       "  </tbody>\n",
       "</table>\n",
       "</div>"
      ],
      "text/plain": [
       "                 id                                              label  \\\n",
       "0        MP:0004187                                      cardia bifida   \n",
       "1        ZP:0100138  muscle tendon junction myotome increased amoun...   \n",
       "2       MGI:1346525                                               Sgcd   \n",
       "3  OMIM:300377.0044                                     DMD, LYS770TER   \n",
       "4        ZP:0002210  posterior lateral line neuromast primordium mi...   \n",
       "5        MP:0020335  abnormal dentate gyrus neuron dendrite morphology   \n",
       "6        HP:0000316                                      Hypertelorism   \n",
       "7        ZP:0004032                       margin constricted, abnormal   \n",
       "8        ZP:0003164                    atrium decreased size, abnormal   \n",
       "9        MP:0003331       increased hepatocellular carcinoma incidence   \n",
       "\n",
       "                                                 iri   semantic  index_id  \n",
       "0          http://purl.obolibrary.org/obo/MP_0004187  phenotype         0  \n",
       "1          http://purl.obolibrary.org/obo/ZP_0100138  phenotype         1  \n",
       "2  http://www.informatics.jax.org/accession/MGI:1...       gene         2  \n",
       "3                  http://omim.org/entry/300377.0044    variant         3  \n",
       "4          http://purl.obolibrary.org/obo/ZP_0002210  phenotype         4  \n",
       "5          http://purl.obolibrary.org/obo/MP_0020335  phenotype         5  \n",
       "6          http://purl.obolibrary.org/obo/HP_0000316  phenotype         6  \n",
       "7          http://purl.obolibrary.org/obo/ZP_0004032  phenotype         7  \n",
       "8          http://purl.obolibrary.org/obo/ZP_0003164  phenotype         8  \n",
       "9          http://purl.obolibrary.org/obo/MP_0003331  phenotype         9  "
      ]
     },
     "execution_count": 9,
     "metadata": {},
     "output_type": "execute_result"
    }
   ],
   "source": [
    "nodes = pd.read_csv(f'output/{FILE_NODES}', header=0)\n",
    "nodes['index_id'] = nodes.index\n",
    "nodes.head(10)"
   ]
  },
  {
   "cell_type": "code",
   "execution_count": 10,
   "metadata": {},
   "outputs": [
    {
     "name": "stdout",
     "output_type": "stream",
     "text": [
      "There are 10275 nodes\n"
     ]
    }
   ],
   "source": [
    "print(f'There are {nodes.shape[0]} nodes')"
   ]
  },
  {
   "attachments": {},
   "cell_type": "markdown",
   "metadata": {},
   "source": [
    "Extract the relevant columns."
   ]
  },
  {
   "cell_type": "code",
   "execution_count": 11,
   "metadata": {},
   "outputs": [
    {
     "data": {
      "text/html": [
       "<div>\n",
       "<style scoped>\n",
       "    .dataframe tbody tr th:only-of-type {\n",
       "        vertical-align: middle;\n",
       "    }\n",
       "\n",
       "    .dataframe tbody tr th {\n",
       "        vertical-align: top;\n",
       "    }\n",
       "\n",
       "    .dataframe thead th {\n",
       "        text-align: right;\n",
       "    }\n",
       "</style>\n",
       "<table border=\"1\" class=\"dataframe\">\n",
       "  <thead>\n",
       "    <tr style=\"text-align: right;\">\n",
       "      <th></th>\n",
       "      <th>index_id</th>\n",
       "      <th>id</th>\n",
       "      <th>semantic</th>\n",
       "      <th>label</th>\n",
       "    </tr>\n",
       "  </thead>\n",
       "  <tbody>\n",
       "    <tr>\n",
       "      <th>0</th>\n",
       "      <td>0</td>\n",
       "      <td>MP:0004187</td>\n",
       "      <td>phenotype</td>\n",
       "      <td>cardia bifida</td>\n",
       "    </tr>\n",
       "    <tr>\n",
       "      <th>1</th>\n",
       "      <td>1</td>\n",
       "      <td>ZP:0100138</td>\n",
       "      <td>phenotype</td>\n",
       "      <td>muscle tendon junction myotome increased amoun...</td>\n",
       "    </tr>\n",
       "    <tr>\n",
       "      <th>2</th>\n",
       "      <td>2</td>\n",
       "      <td>MGI:1346525</td>\n",
       "      <td>gene</td>\n",
       "      <td>Sgcd</td>\n",
       "    </tr>\n",
       "    <tr>\n",
       "      <th>3</th>\n",
       "      <td>3</td>\n",
       "      <td>OMIM:300377.0044</td>\n",
       "      <td>variant</td>\n",
       "      <td>DMD, LYS770TER</td>\n",
       "    </tr>\n",
       "    <tr>\n",
       "      <th>4</th>\n",
       "      <td>4</td>\n",
       "      <td>ZP:0002210</td>\n",
       "      <td>phenotype</td>\n",
       "      <td>posterior lateral line neuromast primordium mi...</td>\n",
       "    </tr>\n",
       "    <tr>\n",
       "      <th>5</th>\n",
       "      <td>5</td>\n",
       "      <td>MP:0020335</td>\n",
       "      <td>phenotype</td>\n",
       "      <td>abnormal dentate gyrus neuron dendrite morphology</td>\n",
       "    </tr>\n",
       "    <tr>\n",
       "      <th>6</th>\n",
       "      <td>6</td>\n",
       "      <td>HP:0000316</td>\n",
       "      <td>phenotype</td>\n",
       "      <td>Hypertelorism</td>\n",
       "    </tr>\n",
       "    <tr>\n",
       "      <th>7</th>\n",
       "      <td>7</td>\n",
       "      <td>ZP:0004032</td>\n",
       "      <td>phenotype</td>\n",
       "      <td>margin constricted, abnormal</td>\n",
       "    </tr>\n",
       "    <tr>\n",
       "      <th>8</th>\n",
       "      <td>8</td>\n",
       "      <td>ZP:0003164</td>\n",
       "      <td>phenotype</td>\n",
       "      <td>atrium decreased size, abnormal</td>\n",
       "    </tr>\n",
       "    <tr>\n",
       "      <th>9</th>\n",
       "      <td>9</td>\n",
       "      <td>MP:0003331</td>\n",
       "      <td>phenotype</td>\n",
       "      <td>increased hepatocellular carcinoma incidence</td>\n",
       "    </tr>\n",
       "  </tbody>\n",
       "</table>\n",
       "</div>"
      ],
      "text/plain": [
       "   index_id                id   semantic  \\\n",
       "0         0        MP:0004187  phenotype   \n",
       "1         1        ZP:0100138  phenotype   \n",
       "2         2       MGI:1346525       gene   \n",
       "3         3  OMIM:300377.0044    variant   \n",
       "4         4        ZP:0002210  phenotype   \n",
       "5         5        MP:0020335  phenotype   \n",
       "6         6        HP:0000316  phenotype   \n",
       "7         7        ZP:0004032  phenotype   \n",
       "8         8        ZP:0003164  phenotype   \n",
       "9         9        MP:0003331  phenotype   \n",
       "\n",
       "                                               label  \n",
       "0                                      cardia bifida  \n",
       "1  muscle tendon junction myotome increased amoun...  \n",
       "2                                               Sgcd  \n",
       "3                                     DMD, LYS770TER  \n",
       "4  posterior lateral line neuromast primordium mi...  \n",
       "5  abnormal dentate gyrus neuron dendrite morphology  \n",
       "6                                      Hypertelorism  \n",
       "7                       margin constricted, abnormal  \n",
       "8                    atrium decreased size, abnormal  \n",
       "9       increased hepatocellular carcinoma incidence  "
      ]
     },
     "execution_count": 11,
     "metadata": {},
     "output_type": "execute_result"
    }
   ],
   "source": [
    "nodes = nodes[['index_id', 'id', 'semantic', 'label']]\n",
    "nodes.head(10)"
   ]
  },
  {
   "attachments": {},
   "cell_type": "markdown",
   "metadata": {},
   "source": [
    "Convert categorical to numerical values for the semantic groups."
   ]
  },
  {
   "cell_type": "code",
   "execution_count": 12,
   "metadata": {},
   "outputs": [
    {
     "data": {
      "text/html": [
       "<div>\n",
       "<style scoped>\n",
       "    .dataframe tbody tr th:only-of-type {\n",
       "        vertical-align: middle;\n",
       "    }\n",
       "\n",
       "    .dataframe tbody tr th {\n",
       "        vertical-align: top;\n",
       "    }\n",
       "\n",
       "    .dataframe thead th {\n",
       "        text-align: right;\n",
       "    }\n",
       "</style>\n",
       "<table border=\"1\" class=\"dataframe\">\n",
       "  <thead>\n",
       "    <tr style=\"text-align: right;\">\n",
       "      <th></th>\n",
       "      <th>index_id</th>\n",
       "      <th>id</th>\n",
       "      <th>semantic</th>\n",
       "      <th>label</th>\n",
       "      <th>semantic_id</th>\n",
       "    </tr>\n",
       "  </thead>\n",
       "  <tbody>\n",
       "    <tr>\n",
       "      <th>0</th>\n",
       "      <td>0</td>\n",
       "      <td>MP:0004187</td>\n",
       "      <td>phenotype</td>\n",
       "      <td>cardia bifida</td>\n",
       "      <td>9</td>\n",
       "    </tr>\n",
       "    <tr>\n",
       "      <th>1</th>\n",
       "      <td>1</td>\n",
       "      <td>ZP:0100138</td>\n",
       "      <td>phenotype</td>\n",
       "      <td>muscle tendon junction myotome increased amoun...</td>\n",
       "      <td>9</td>\n",
       "    </tr>\n",
       "    <tr>\n",
       "      <th>2</th>\n",
       "      <td>2</td>\n",
       "      <td>MGI:1346525</td>\n",
       "      <td>gene</td>\n",
       "      <td>Sgcd</td>\n",
       "      <td>5</td>\n",
       "    </tr>\n",
       "    <tr>\n",
       "      <th>3</th>\n",
       "      <td>3</td>\n",
       "      <td>OMIM:300377.0044</td>\n",
       "      <td>variant</td>\n",
       "      <td>DMD, LYS770TER</td>\n",
       "      <td>11</td>\n",
       "    </tr>\n",
       "    <tr>\n",
       "      <th>4</th>\n",
       "      <td>4</td>\n",
       "      <td>ZP:0002210</td>\n",
       "      <td>phenotype</td>\n",
       "      <td>posterior lateral line neuromast primordium mi...</td>\n",
       "      <td>9</td>\n",
       "    </tr>\n",
       "    <tr>\n",
       "      <th>5</th>\n",
       "      <td>5</td>\n",
       "      <td>MP:0020335</td>\n",
       "      <td>phenotype</td>\n",
       "      <td>abnormal dentate gyrus neuron dendrite morphology</td>\n",
       "      <td>9</td>\n",
       "    </tr>\n",
       "    <tr>\n",
       "      <th>6</th>\n",
       "      <td>6</td>\n",
       "      <td>HP:0000316</td>\n",
       "      <td>phenotype</td>\n",
       "      <td>Hypertelorism</td>\n",
       "      <td>9</td>\n",
       "    </tr>\n",
       "    <tr>\n",
       "      <th>7</th>\n",
       "      <td>7</td>\n",
       "      <td>ZP:0004032</td>\n",
       "      <td>phenotype</td>\n",
       "      <td>margin constricted, abnormal</td>\n",
       "      <td>9</td>\n",
       "    </tr>\n",
       "    <tr>\n",
       "      <th>8</th>\n",
       "      <td>8</td>\n",
       "      <td>ZP:0003164</td>\n",
       "      <td>phenotype</td>\n",
       "      <td>atrium decreased size, abnormal</td>\n",
       "      <td>9</td>\n",
       "    </tr>\n",
       "    <tr>\n",
       "      <th>9</th>\n",
       "      <td>9</td>\n",
       "      <td>MP:0003331</td>\n",
       "      <td>phenotype</td>\n",
       "      <td>increased hepatocellular carcinoma incidence</td>\n",
       "      <td>9</td>\n",
       "    </tr>\n",
       "  </tbody>\n",
       "</table>\n",
       "</div>"
      ],
      "text/plain": [
       "   index_id                id   semantic  \\\n",
       "0         0        MP:0004187  phenotype   \n",
       "1         1        ZP:0100138  phenotype   \n",
       "2         2       MGI:1346525       gene   \n",
       "3         3  OMIM:300377.0044    variant   \n",
       "4         4        ZP:0002210  phenotype   \n",
       "5         5        MP:0020335  phenotype   \n",
       "6         6        HP:0000316  phenotype   \n",
       "7         7        ZP:0004032  phenotype   \n",
       "8         8        ZP:0003164  phenotype   \n",
       "9         9        MP:0003331  phenotype   \n",
       "\n",
       "                                               label  semantic_id  \n",
       "0                                      cardia bifida            9  \n",
       "1  muscle tendon junction myotome increased amoun...            9  \n",
       "2                                               Sgcd            5  \n",
       "3                                     DMD, LYS770TER           11  \n",
       "4  posterior lateral line neuromast primordium mi...            9  \n",
       "5  abnormal dentate gyrus neuron dendrite morphology            9  \n",
       "6                                      Hypertelorism            9  \n",
       "7                       margin constricted, abnormal            9  \n",
       "8                    atrium decreased size, abnormal            9  \n",
       "9       increased hepatocellular carcinoma incidence            9  "
      ]
     },
     "execution_count": 12,
     "metadata": {},
     "output_type": "execute_result"
    }
   ],
   "source": [
    "nodes['semantic'] = nodes['semantic'].astype('category')\n",
    "nodes['semantic_id'] = nodes['semantic'].cat.codes\n",
    "nodes.head(10)"
   ]
  },
  {
   "cell_type": "code",
   "execution_count": 13,
   "metadata": {},
   "outputs": [],
   "source": [
    "nodes.to_csv(f'output/indexed_nodes_{dataset_nr}.csv', index=False)"
   ]
  },
  {
   "attachments": {},
   "cell_type": "markdown",
   "metadata": {},
   "source": [
    "The dictionary below can be used as mapping between generated semantic ID and semantic group label."
   ]
  },
  {
   "cell_type": "code",
   "execution_count": 14,
   "metadata": {},
   "outputs": [
    {
     "data": {
      "text/plain": [
       "{0: 'biological artifact',\n",
       " 1: 'biological process',\n",
       " 2: 'cellular component',\n",
       " 3: 'disease',\n",
       " 4: 'drug',\n",
       " 5: 'gene',\n",
       " 6: 'gene product',\n",
       " 7: 'genotype',\n",
       " 8: 'molecular function',\n",
       " 9: 'phenotype',\n",
       " 10: 'taxon',\n",
       " 11: 'variant'}"
      ]
     },
     "execution_count": 14,
     "metadata": {},
     "output_type": "execute_result"
    }
   ],
   "source": [
    "node_semantic_dict = dict(enumerate(nodes['semantic'].cat.categories))\n",
    "node_semantic_dict"
   ]
  },
  {
   "attachments": {},
   "cell_type": "markdown",
   "metadata": {},
   "source": [
    "Merge nodes and edges in order to join semantic classes of nodes with heads and tails of the edges."
   ]
  },
  {
   "cell_type": "code",
   "execution_count": 15,
   "metadata": {},
   "outputs": [
    {
     "data": {
      "text/html": [
       "<div>\n",
       "<style scoped>\n",
       "    .dataframe tbody tr th:only-of-type {\n",
       "        vertical-align: middle;\n",
       "    }\n",
       "\n",
       "    .dataframe tbody tr th {\n",
       "        vertical-align: top;\n",
       "    }\n",
       "\n",
       "    .dataframe thead th {\n",
       "        text-align: right;\n",
       "    }\n",
       "</style>\n",
       "<table border=\"1\" class=\"dataframe\">\n",
       "  <thead>\n",
       "    <tr style=\"text-align: right;\">\n",
       "      <th></th>\n",
       "      <th>head</th>\n",
       "      <th>label_head</th>\n",
       "      <th>class_head</th>\n",
       "      <th>index_head</th>\n",
       "      <th>relation</th>\n",
       "      <th>tail</th>\n",
       "    </tr>\n",
       "  </thead>\n",
       "  <tbody>\n",
       "    <tr>\n",
       "      <th>0</th>\n",
       "      <td>WormBase:WBGene00006787</td>\n",
       "      <td>unc-52</td>\n",
       "      <td>5</td>\n",
       "      <td>304</td>\n",
       "      <td>interacts with</td>\n",
       "      <td>WormBase:WBGene00003929</td>\n",
       "    </tr>\n",
       "    <tr>\n",
       "      <th>1</th>\n",
       "      <td>WormBase:WBGene00006787</td>\n",
       "      <td>unc-52</td>\n",
       "      <td>5</td>\n",
       "      <td>304</td>\n",
       "      <td>interacts with</td>\n",
       "      <td>WormBase:WBGene00006789</td>\n",
       "    </tr>\n",
       "    <tr>\n",
       "      <th>2</th>\n",
       "      <td>WormBase:WBGene00006787</td>\n",
       "      <td>unc-52</td>\n",
       "      <td>5</td>\n",
       "      <td>304</td>\n",
       "      <td>in orthology relationship with</td>\n",
       "      <td>ENSEMBL:ENSSSCG00000015555</td>\n",
       "    </tr>\n",
       "    <tr>\n",
       "      <th>3</th>\n",
       "      <td>WormBase:WBGene00006787</td>\n",
       "      <td>unc-52</td>\n",
       "      <td>5</td>\n",
       "      <td>304</td>\n",
       "      <td>in orthology relationship with</td>\n",
       "      <td>ZFIN:ZDB-GENE-021226-3</td>\n",
       "    </tr>\n",
       "    <tr>\n",
       "      <th>4</th>\n",
       "      <td>WormBase:WBGene00006787</td>\n",
       "      <td>unc-52</td>\n",
       "      <td>5</td>\n",
       "      <td>304</td>\n",
       "      <td>in orthology relationship with</td>\n",
       "      <td>ENSEMBL:ENSOANG00000001050</td>\n",
       "    </tr>\n",
       "    <tr>\n",
       "      <th>5</th>\n",
       "      <td>WormBase:WBGene00006787</td>\n",
       "      <td>unc-52</td>\n",
       "      <td>5</td>\n",
       "      <td>304</td>\n",
       "      <td>causes condition</td>\n",
       "      <td>WBPhenotype:0001171</td>\n",
       "    </tr>\n",
       "    <tr>\n",
       "      <th>6</th>\n",
       "      <td>WormBase:WBGene00006787</td>\n",
       "      <td>unc-52</td>\n",
       "      <td>5</td>\n",
       "      <td>304</td>\n",
       "      <td>causes condition</td>\n",
       "      <td>WBPhenotype:0001425</td>\n",
       "    </tr>\n",
       "    <tr>\n",
       "      <th>7</th>\n",
       "      <td>WormBase:WBGene00006787</td>\n",
       "      <td>unc-52</td>\n",
       "      <td>5</td>\n",
       "      <td>304</td>\n",
       "      <td>causes condition</td>\n",
       "      <td>WBPhenotype:0000781</td>\n",
       "    </tr>\n",
       "    <tr>\n",
       "      <th>8</th>\n",
       "      <td>WormBase:WBGene00006787</td>\n",
       "      <td>unc-52</td>\n",
       "      <td>5</td>\n",
       "      <td>304</td>\n",
       "      <td>in orthology relationship with</td>\n",
       "      <td>ENSEMBL:ENSPTRG00000021480</td>\n",
       "    </tr>\n",
       "    <tr>\n",
       "      <th>9</th>\n",
       "      <td>WormBase:WBGene00006787</td>\n",
       "      <td>unc-52</td>\n",
       "      <td>5</td>\n",
       "      <td>304</td>\n",
       "      <td>in orthology relationship with</td>\n",
       "      <td>ENSEMBL:ENSSSCG00000015556</td>\n",
       "    </tr>\n",
       "  </tbody>\n",
       "</table>\n",
       "</div>"
      ],
      "text/plain": [
       "                      head label_head  class_head  index_head  \\\n",
       "0  WormBase:WBGene00006787     unc-52           5         304   \n",
       "1  WormBase:WBGene00006787     unc-52           5         304   \n",
       "2  WormBase:WBGene00006787     unc-52           5         304   \n",
       "3  WormBase:WBGene00006787     unc-52           5         304   \n",
       "4  WormBase:WBGene00006787     unc-52           5         304   \n",
       "5  WormBase:WBGene00006787     unc-52           5         304   \n",
       "6  WormBase:WBGene00006787     unc-52           5         304   \n",
       "7  WormBase:WBGene00006787     unc-52           5         304   \n",
       "8  WormBase:WBGene00006787     unc-52           5         304   \n",
       "9  WormBase:WBGene00006787     unc-52           5         304   \n",
       "\n",
       "                         relation                        tail  \n",
       "0                  interacts with     WormBase:WBGene00003929  \n",
       "1                  interacts with     WormBase:WBGene00006789  \n",
       "2  in orthology relationship with  ENSEMBL:ENSSSCG00000015555  \n",
       "3  in orthology relationship with      ZFIN:ZDB-GENE-021226-3  \n",
       "4  in orthology relationship with  ENSEMBL:ENSOANG00000001050  \n",
       "5                causes condition         WBPhenotype:0001171  \n",
       "6                causes condition         WBPhenotype:0001425  \n",
       "7                causes condition         WBPhenotype:0000781  \n",
       "8  in orthology relationship with  ENSEMBL:ENSPTRG00000021480  \n",
       "9  in orthology relationship with  ENSEMBL:ENSSSCG00000015556  "
      ]
     },
     "execution_count": 15,
     "metadata": {},
     "output_type": "execute_result"
    }
   ],
   "source": [
    "kg_df = pd.merge(edges, nodes,\n",
    "                 left_on='head', right_on='id',\n",
    "                 how='inner')   # TODO: inner changed left\n",
    "kg_df = kg_df[['head', 'label', 'semantic_id', 'index_id', 'relation', 'tail']]\n",
    "kg_df.rename(columns={'label': 'label_head', 'semantic_id': 'class_head', 'index_id': 'index_head'}, inplace=True)\n",
    "kg_df.head(10)"
   ]
  },
  {
   "cell_type": "code",
   "execution_count": 16,
   "metadata": {},
   "outputs": [
    {
     "data": {
      "text/html": [
       "<div>\n",
       "<style scoped>\n",
       "    .dataframe tbody tr th:only-of-type {\n",
       "        vertical-align: middle;\n",
       "    }\n",
       "\n",
       "    .dataframe tbody tr th {\n",
       "        vertical-align: top;\n",
       "    }\n",
       "\n",
       "    .dataframe thead th {\n",
       "        text-align: right;\n",
       "    }\n",
       "</style>\n",
       "<table border=\"1\" class=\"dataframe\">\n",
       "  <thead>\n",
       "    <tr style=\"text-align: right;\">\n",
       "      <th></th>\n",
       "      <th>head</th>\n",
       "      <th>label_head</th>\n",
       "      <th>class_head</th>\n",
       "      <th>index_head</th>\n",
       "      <th>relation</th>\n",
       "      <th>tail</th>\n",
       "      <th>label_tail</th>\n",
       "      <th>class_tail</th>\n",
       "      <th>index_tail</th>\n",
       "    </tr>\n",
       "  </thead>\n",
       "  <tbody>\n",
       "    <tr>\n",
       "      <th>0</th>\n",
       "      <td>WormBase:WBGene00006787</td>\n",
       "      <td>unc-52</td>\n",
       "      <td>5</td>\n",
       "      <td>304</td>\n",
       "      <td>interacts with</td>\n",
       "      <td>WormBase:WBGene00003929</td>\n",
       "      <td>pat-2</td>\n",
       "      <td>5</td>\n",
       "      <td>1542</td>\n",
       "    </tr>\n",
       "    <tr>\n",
       "      <th>1</th>\n",
       "      <td>WormBase:WBGene00006787</td>\n",
       "      <td>unc-52</td>\n",
       "      <td>5</td>\n",
       "      <td>304</td>\n",
       "      <td>interacts with</td>\n",
       "      <td>WormBase:WBGene00006789</td>\n",
       "      <td>unc-54</td>\n",
       "      <td>5</td>\n",
       "      <td>6544</td>\n",
       "    </tr>\n",
       "    <tr>\n",
       "      <th>2</th>\n",
       "      <td>WormBase:WBGene00006787</td>\n",
       "      <td>unc-52</td>\n",
       "      <td>5</td>\n",
       "      <td>304</td>\n",
       "      <td>in orthology relationship with</td>\n",
       "      <td>ENSEMBL:ENSSSCG00000015555</td>\n",
       "      <td>LAMC1</td>\n",
       "      <td>5</td>\n",
       "      <td>9268</td>\n",
       "    </tr>\n",
       "    <tr>\n",
       "      <th>3</th>\n",
       "      <td>WormBase:WBGene00006787</td>\n",
       "      <td>unc-52</td>\n",
       "      <td>5</td>\n",
       "      <td>304</td>\n",
       "      <td>in orthology relationship with</td>\n",
       "      <td>ZFIN:ZDB-GENE-021226-3</td>\n",
       "      <td>lamc1</td>\n",
       "      <td>5</td>\n",
       "      <td>5387</td>\n",
       "    </tr>\n",
       "    <tr>\n",
       "      <th>4</th>\n",
       "      <td>WormBase:WBGene00006787</td>\n",
       "      <td>unc-52</td>\n",
       "      <td>5</td>\n",
       "      <td>304</td>\n",
       "      <td>in orthology relationship with</td>\n",
       "      <td>ENSEMBL:ENSOANG00000001050</td>\n",
       "      <td>ENSEMBL:ENSOANG00000001050</td>\n",
       "      <td>5</td>\n",
       "      <td>2204</td>\n",
       "    </tr>\n",
       "    <tr>\n",
       "      <th>5</th>\n",
       "      <td>WormBase:WBGene00006787</td>\n",
       "      <td>unc-52</td>\n",
       "      <td>5</td>\n",
       "      <td>304</td>\n",
       "      <td>causes condition</td>\n",
       "      <td>WBPhenotype:0001171</td>\n",
       "      <td>shortened life span</td>\n",
       "      <td>9</td>\n",
       "      <td>5475</td>\n",
       "    </tr>\n",
       "    <tr>\n",
       "      <th>6</th>\n",
       "      <td>WormBase:WBGene00006787</td>\n",
       "      <td>unc-52</td>\n",
       "      <td>5</td>\n",
       "      <td>304</td>\n",
       "      <td>causes condition</td>\n",
       "      <td>WBPhenotype:0001425</td>\n",
       "      <td>receptor mediated endocytosis defective</td>\n",
       "      <td>9</td>\n",
       "      <td>3057</td>\n",
       "    </tr>\n",
       "    <tr>\n",
       "      <th>7</th>\n",
       "      <td>WormBase:WBGene00006787</td>\n",
       "      <td>unc-52</td>\n",
       "      <td>5</td>\n",
       "      <td>304</td>\n",
       "      <td>causes condition</td>\n",
       "      <td>WBPhenotype:0000781</td>\n",
       "      <td>body wall muscle thin filament variant</td>\n",
       "      <td>9</td>\n",
       "      <td>7821</td>\n",
       "    </tr>\n",
       "    <tr>\n",
       "      <th>8</th>\n",
       "      <td>WormBase:WBGene00006787</td>\n",
       "      <td>unc-52</td>\n",
       "      <td>5</td>\n",
       "      <td>304</td>\n",
       "      <td>in orthology relationship with</td>\n",
       "      <td>ENSEMBL:ENSPTRG00000021480</td>\n",
       "      <td>ENSEMBL:ENSPTRG00000021480</td>\n",
       "      <td>5</td>\n",
       "      <td>6347</td>\n",
       "    </tr>\n",
       "    <tr>\n",
       "      <th>9</th>\n",
       "      <td>WormBase:WBGene00006787</td>\n",
       "      <td>unc-52</td>\n",
       "      <td>5</td>\n",
       "      <td>304</td>\n",
       "      <td>in orthology relationship with</td>\n",
       "      <td>ENSEMBL:ENSSSCG00000015556</td>\n",
       "      <td>LAMC2</td>\n",
       "      <td>5</td>\n",
       "      <td>769</td>\n",
       "    </tr>\n",
       "  </tbody>\n",
       "</table>\n",
       "</div>"
      ],
      "text/plain": [
       "                      head label_head  class_head  index_head  \\\n",
       "0  WormBase:WBGene00006787     unc-52           5         304   \n",
       "1  WormBase:WBGene00006787     unc-52           5         304   \n",
       "2  WormBase:WBGene00006787     unc-52           5         304   \n",
       "3  WormBase:WBGene00006787     unc-52           5         304   \n",
       "4  WormBase:WBGene00006787     unc-52           5         304   \n",
       "5  WormBase:WBGene00006787     unc-52           5         304   \n",
       "6  WormBase:WBGene00006787     unc-52           5         304   \n",
       "7  WormBase:WBGene00006787     unc-52           5         304   \n",
       "8  WormBase:WBGene00006787     unc-52           5         304   \n",
       "9  WormBase:WBGene00006787     unc-52           5         304   \n",
       "\n",
       "                         relation                        tail  \\\n",
       "0                  interacts with     WormBase:WBGene00003929   \n",
       "1                  interacts with     WormBase:WBGene00006789   \n",
       "2  in orthology relationship with  ENSEMBL:ENSSSCG00000015555   \n",
       "3  in orthology relationship with      ZFIN:ZDB-GENE-021226-3   \n",
       "4  in orthology relationship with  ENSEMBL:ENSOANG00000001050   \n",
       "5                causes condition         WBPhenotype:0001171   \n",
       "6                causes condition         WBPhenotype:0001425   \n",
       "7                causes condition         WBPhenotype:0000781   \n",
       "8  in orthology relationship with  ENSEMBL:ENSPTRG00000021480   \n",
       "9  in orthology relationship with  ENSEMBL:ENSSSCG00000015556   \n",
       "\n",
       "                                label_tail  class_tail  index_tail  \n",
       "0                                    pat-2           5        1542  \n",
       "1                                   unc-54           5        6544  \n",
       "2                                    LAMC1           5        9268  \n",
       "3                                    lamc1           5        5387  \n",
       "4               ENSEMBL:ENSOANG00000001050           5        2204  \n",
       "5                      shortened life span           9        5475  \n",
       "6  receptor mediated endocytosis defective           9        3057  \n",
       "7   body wall muscle thin filament variant           9        7821  \n",
       "8               ENSEMBL:ENSPTRG00000021480           5        6347  \n",
       "9                                    LAMC2           5         769  "
      ]
     },
     "execution_count": 16,
     "metadata": {},
     "output_type": "execute_result"
    }
   ],
   "source": [
    "kg_df = pd.merge(kg_df, nodes,\n",
    "                 left_on='tail', right_on='id',\n",
    "                 how='left')\n",
    "kg_df = kg_df[['head', 'label_head', 'class_head', 'index_head', 'relation', 'tail', 'label', 'semantic_id', 'index_id']]\n",
    "kg_df.rename(columns={'label': 'label_tail', 'semantic_id': 'class_tail', 'index_id': 'index_tail'}, inplace=True)\n",
    "kg_df.head(10)"
   ]
  },
  {
   "attachments": {},
   "cell_type": "markdown",
   "metadata": {},
   "source": [
    "The indices in the `index_id` column can be found as the actual indices of the row. So, this column can be removed as it was only needed for merging purposes."
   ]
  },
  {
   "cell_type": "code",
   "execution_count": 17,
   "metadata": {},
   "outputs": [
    {
     "data": {
      "text/html": [
       "<div>\n",
       "<style scoped>\n",
       "    .dataframe tbody tr th:only-of-type {\n",
       "        vertical-align: middle;\n",
       "    }\n",
       "\n",
       "    .dataframe tbody tr th {\n",
       "        vertical-align: top;\n",
       "    }\n",
       "\n",
       "    .dataframe thead th {\n",
       "        text-align: right;\n",
       "    }\n",
       "</style>\n",
       "<table border=\"1\" class=\"dataframe\">\n",
       "  <thead>\n",
       "    <tr style=\"text-align: right;\">\n",
       "      <th></th>\n",
       "      <th>id</th>\n",
       "      <th>semantic</th>\n",
       "      <th>label</th>\n",
       "      <th>semantic_id</th>\n",
       "    </tr>\n",
       "  </thead>\n",
       "  <tbody>\n",
       "    <tr>\n",
       "      <th>0</th>\n",
       "      <td>MP:0004187</td>\n",
       "      <td>phenotype</td>\n",
       "      <td>cardia bifida</td>\n",
       "      <td>9</td>\n",
       "    </tr>\n",
       "    <tr>\n",
       "      <th>1</th>\n",
       "      <td>ZP:0100138</td>\n",
       "      <td>phenotype</td>\n",
       "      <td>muscle tendon junction myotome increased amoun...</td>\n",
       "      <td>9</td>\n",
       "    </tr>\n",
       "    <tr>\n",
       "      <th>2</th>\n",
       "      <td>MGI:1346525</td>\n",
       "      <td>gene</td>\n",
       "      <td>Sgcd</td>\n",
       "      <td>5</td>\n",
       "    </tr>\n",
       "    <tr>\n",
       "      <th>3</th>\n",
       "      <td>OMIM:300377.0044</td>\n",
       "      <td>variant</td>\n",
       "      <td>DMD, LYS770TER</td>\n",
       "      <td>11</td>\n",
       "    </tr>\n",
       "    <tr>\n",
       "      <th>4</th>\n",
       "      <td>ZP:0002210</td>\n",
       "      <td>phenotype</td>\n",
       "      <td>posterior lateral line neuromast primordium mi...</td>\n",
       "      <td>9</td>\n",
       "    </tr>\n",
       "    <tr>\n",
       "      <th>5</th>\n",
       "      <td>MP:0020335</td>\n",
       "      <td>phenotype</td>\n",
       "      <td>abnormal dentate gyrus neuron dendrite morphology</td>\n",
       "      <td>9</td>\n",
       "    </tr>\n",
       "    <tr>\n",
       "      <th>6</th>\n",
       "      <td>HP:0000316</td>\n",
       "      <td>phenotype</td>\n",
       "      <td>Hypertelorism</td>\n",
       "      <td>9</td>\n",
       "    </tr>\n",
       "    <tr>\n",
       "      <th>7</th>\n",
       "      <td>ZP:0004032</td>\n",
       "      <td>phenotype</td>\n",
       "      <td>margin constricted, abnormal</td>\n",
       "      <td>9</td>\n",
       "    </tr>\n",
       "    <tr>\n",
       "      <th>8</th>\n",
       "      <td>ZP:0003164</td>\n",
       "      <td>phenotype</td>\n",
       "      <td>atrium decreased size, abnormal</td>\n",
       "      <td>9</td>\n",
       "    </tr>\n",
       "    <tr>\n",
       "      <th>9</th>\n",
       "      <td>MP:0003331</td>\n",
       "      <td>phenotype</td>\n",
       "      <td>increased hepatocellular carcinoma incidence</td>\n",
       "      <td>9</td>\n",
       "    </tr>\n",
       "  </tbody>\n",
       "</table>\n",
       "</div>"
      ],
      "text/plain": [
       "                 id   semantic  \\\n",
       "0        MP:0004187  phenotype   \n",
       "1        ZP:0100138  phenotype   \n",
       "2       MGI:1346525       gene   \n",
       "3  OMIM:300377.0044    variant   \n",
       "4        ZP:0002210  phenotype   \n",
       "5        MP:0020335  phenotype   \n",
       "6        HP:0000316  phenotype   \n",
       "7        ZP:0004032  phenotype   \n",
       "8        ZP:0003164  phenotype   \n",
       "9        MP:0003331  phenotype   \n",
       "\n",
       "                                               label  semantic_id  \n",
       "0                                      cardia bifida            9  \n",
       "1  muscle tendon junction myotome increased amoun...            9  \n",
       "2                                               Sgcd            5  \n",
       "3                                     DMD, LYS770TER           11  \n",
       "4  posterior lateral line neuromast primordium mi...            9  \n",
       "5  abnormal dentate gyrus neuron dendrite morphology            9  \n",
       "6                                      Hypertelorism            9  \n",
       "7                       margin constricted, abnormal            9  \n",
       "8                    atrium decreased size, abnormal            9  \n",
       "9       increased hepatocellular carcinoma incidence            9  "
      ]
     },
     "execution_count": 17,
     "metadata": {},
     "output_type": "execute_result"
    }
   ],
   "source": [
    "nodes.drop('index_id', axis=1, inplace=True)\n",
    "nodes.head(10)"
   ]
  },
  {
   "cell_type": "code",
   "execution_count": 18,
   "metadata": {},
   "outputs": [
    {
     "data": {
      "text/html": [
       "<div>\n",
       "<style scoped>\n",
       "    .dataframe tbody tr th:only-of-type {\n",
       "        vertical-align: middle;\n",
       "    }\n",
       "\n",
       "    .dataframe tbody tr th {\n",
       "        vertical-align: top;\n",
       "    }\n",
       "\n",
       "    .dataframe thead th {\n",
       "        text-align: right;\n",
       "    }\n",
       "</style>\n",
       "<table border=\"1\" class=\"dataframe\">\n",
       "  <thead>\n",
       "    <tr style=\"text-align: right;\">\n",
       "      <th></th>\n",
       "      <th>head</th>\n",
       "      <th>label_head</th>\n",
       "      <th>class_head</th>\n",
       "      <th>index_head</th>\n",
       "      <th>relation</th>\n",
       "      <th>tail</th>\n",
       "      <th>label_tail</th>\n",
       "      <th>class_tail</th>\n",
       "      <th>index_tail</th>\n",
       "    </tr>\n",
       "  </thead>\n",
       "  <tbody>\n",
       "    <tr>\n",
       "      <th>0</th>\n",
       "      <td>WormBase:WBGene00006787</td>\n",
       "      <td>unc-52</td>\n",
       "      <td>5</td>\n",
       "      <td>304</td>\n",
       "      <td>interacts with</td>\n",
       "      <td>WormBase:WBGene00003929</td>\n",
       "      <td>pat-2</td>\n",
       "      <td>5</td>\n",
       "      <td>1542</td>\n",
       "    </tr>\n",
       "    <tr>\n",
       "      <th>1</th>\n",
       "      <td>WormBase:WBGene00006787</td>\n",
       "      <td>unc-52</td>\n",
       "      <td>5</td>\n",
       "      <td>304</td>\n",
       "      <td>interacts with</td>\n",
       "      <td>WormBase:WBGene00006789</td>\n",
       "      <td>unc-54</td>\n",
       "      <td>5</td>\n",
       "      <td>6544</td>\n",
       "    </tr>\n",
       "    <tr>\n",
       "      <th>2</th>\n",
       "      <td>WormBase:WBGene00006787</td>\n",
       "      <td>unc-52</td>\n",
       "      <td>5</td>\n",
       "      <td>304</td>\n",
       "      <td>in orthology relationship with</td>\n",
       "      <td>ENSEMBL:ENSSSCG00000015555</td>\n",
       "      <td>LAMC1</td>\n",
       "      <td>5</td>\n",
       "      <td>9268</td>\n",
       "    </tr>\n",
       "    <tr>\n",
       "      <th>3</th>\n",
       "      <td>WormBase:WBGene00006787</td>\n",
       "      <td>unc-52</td>\n",
       "      <td>5</td>\n",
       "      <td>304</td>\n",
       "      <td>in orthology relationship with</td>\n",
       "      <td>ZFIN:ZDB-GENE-021226-3</td>\n",
       "      <td>lamc1</td>\n",
       "      <td>5</td>\n",
       "      <td>5387</td>\n",
       "    </tr>\n",
       "    <tr>\n",
       "      <th>4</th>\n",
       "      <td>WormBase:WBGene00006787</td>\n",
       "      <td>unc-52</td>\n",
       "      <td>5</td>\n",
       "      <td>304</td>\n",
       "      <td>in orthology relationship with</td>\n",
       "      <td>ENSEMBL:ENSOANG00000001050</td>\n",
       "      <td>ENSEMBL:ENSOANG00000001050</td>\n",
       "      <td>5</td>\n",
       "      <td>2204</td>\n",
       "    </tr>\n",
       "    <tr>\n",
       "      <th>5</th>\n",
       "      <td>WormBase:WBGene00006787</td>\n",
       "      <td>unc-52</td>\n",
       "      <td>5</td>\n",
       "      <td>304</td>\n",
       "      <td>causes condition</td>\n",
       "      <td>WBPhenotype:0001171</td>\n",
       "      <td>shortened life span</td>\n",
       "      <td>9</td>\n",
       "      <td>5475</td>\n",
       "    </tr>\n",
       "    <tr>\n",
       "      <th>6</th>\n",
       "      <td>WormBase:WBGene00006787</td>\n",
       "      <td>unc-52</td>\n",
       "      <td>5</td>\n",
       "      <td>304</td>\n",
       "      <td>causes condition</td>\n",
       "      <td>WBPhenotype:0001425</td>\n",
       "      <td>receptor mediated endocytosis defective</td>\n",
       "      <td>9</td>\n",
       "      <td>3057</td>\n",
       "    </tr>\n",
       "    <tr>\n",
       "      <th>7</th>\n",
       "      <td>WormBase:WBGene00006787</td>\n",
       "      <td>unc-52</td>\n",
       "      <td>5</td>\n",
       "      <td>304</td>\n",
       "      <td>causes condition</td>\n",
       "      <td>WBPhenotype:0000781</td>\n",
       "      <td>body wall muscle thin filament variant</td>\n",
       "      <td>9</td>\n",
       "      <td>7821</td>\n",
       "    </tr>\n",
       "    <tr>\n",
       "      <th>8</th>\n",
       "      <td>WormBase:WBGene00006787</td>\n",
       "      <td>unc-52</td>\n",
       "      <td>5</td>\n",
       "      <td>304</td>\n",
       "      <td>in orthology relationship with</td>\n",
       "      <td>ENSEMBL:ENSPTRG00000021480</td>\n",
       "      <td>ENSEMBL:ENSPTRG00000021480</td>\n",
       "      <td>5</td>\n",
       "      <td>6347</td>\n",
       "    </tr>\n",
       "    <tr>\n",
       "      <th>9</th>\n",
       "      <td>WormBase:WBGene00006787</td>\n",
       "      <td>unc-52</td>\n",
       "      <td>5</td>\n",
       "      <td>304</td>\n",
       "      <td>in orthology relationship with</td>\n",
       "      <td>ENSEMBL:ENSSSCG00000015556</td>\n",
       "      <td>LAMC2</td>\n",
       "      <td>5</td>\n",
       "      <td>769</td>\n",
       "    </tr>\n",
       "    <tr>\n",
       "      <th>10</th>\n",
       "      <td>WormBase:WBGene00006787</td>\n",
       "      <td>unc-52</td>\n",
       "      <td>5</td>\n",
       "      <td>304</td>\n",
       "      <td>causes condition</td>\n",
       "      <td>WBPhenotype:0000531</td>\n",
       "      <td>organism development variant</td>\n",
       "      <td>9</td>\n",
       "      <td>3356</td>\n",
       "    </tr>\n",
       "    <tr>\n",
       "      <th>11</th>\n",
       "      <td>WormBase:WBGene00006787</td>\n",
       "      <td>unc-52</td>\n",
       "      <td>5</td>\n",
       "      <td>304</td>\n",
       "      <td>causes condition</td>\n",
       "      <td>WBPhenotype:0001932</td>\n",
       "      <td>myopodia present</td>\n",
       "      <td>9</td>\n",
       "      <td>7005</td>\n",
       "    </tr>\n",
       "    <tr>\n",
       "      <th>12</th>\n",
       "      <td>WormBase:WBGene00006787</td>\n",
       "      <td>unc-52</td>\n",
       "      <td>5</td>\n",
       "      <td>304</td>\n",
       "      <td>causes condition</td>\n",
       "      <td>WBPhenotype:0000638</td>\n",
       "      <td>molt defect</td>\n",
       "      <td>9</td>\n",
       "      <td>5415</td>\n",
       "    </tr>\n",
       "    <tr>\n",
       "      <th>13</th>\n",
       "      <td>WormBase:WBGene00006787</td>\n",
       "      <td>unc-52</td>\n",
       "      <td>5</td>\n",
       "      <td>304</td>\n",
       "      <td>in orthology relationship with</td>\n",
       "      <td>ENSEMBL:ENSOANG00000000992</td>\n",
       "      <td>ENSEMBL:ENSOANG00000000992</td>\n",
       "      <td>5</td>\n",
       "      <td>1184</td>\n",
       "    </tr>\n",
       "    <tr>\n",
       "      <th>14</th>\n",
       "      <td>WormBase:WBGene00006787</td>\n",
       "      <td>unc-52</td>\n",
       "      <td>5</td>\n",
       "      <td>304</td>\n",
       "      <td>in orthology relationship with</td>\n",
       "      <td>Xenbase:XB-GENE-478553</td>\n",
       "      <td>lamc1</td>\n",
       "      <td>5</td>\n",
       "      <td>3844</td>\n",
       "    </tr>\n",
       "  </tbody>\n",
       "</table>\n",
       "</div>"
      ],
      "text/plain": [
       "                       head label_head  class_head  index_head  \\\n",
       "0   WormBase:WBGene00006787     unc-52           5         304   \n",
       "1   WormBase:WBGene00006787     unc-52           5         304   \n",
       "2   WormBase:WBGene00006787     unc-52           5         304   \n",
       "3   WormBase:WBGene00006787     unc-52           5         304   \n",
       "4   WormBase:WBGene00006787     unc-52           5         304   \n",
       "5   WormBase:WBGene00006787     unc-52           5         304   \n",
       "6   WormBase:WBGene00006787     unc-52           5         304   \n",
       "7   WormBase:WBGene00006787     unc-52           5         304   \n",
       "8   WormBase:WBGene00006787     unc-52           5         304   \n",
       "9   WormBase:WBGene00006787     unc-52           5         304   \n",
       "10  WormBase:WBGene00006787     unc-52           5         304   \n",
       "11  WormBase:WBGene00006787     unc-52           5         304   \n",
       "12  WormBase:WBGene00006787     unc-52           5         304   \n",
       "13  WormBase:WBGene00006787     unc-52           5         304   \n",
       "14  WormBase:WBGene00006787     unc-52           5         304   \n",
       "\n",
       "                          relation                        tail  \\\n",
       "0                   interacts with     WormBase:WBGene00003929   \n",
       "1                   interacts with     WormBase:WBGene00006789   \n",
       "2   in orthology relationship with  ENSEMBL:ENSSSCG00000015555   \n",
       "3   in orthology relationship with      ZFIN:ZDB-GENE-021226-3   \n",
       "4   in orthology relationship with  ENSEMBL:ENSOANG00000001050   \n",
       "5                 causes condition         WBPhenotype:0001171   \n",
       "6                 causes condition         WBPhenotype:0001425   \n",
       "7                 causes condition         WBPhenotype:0000781   \n",
       "8   in orthology relationship with  ENSEMBL:ENSPTRG00000021480   \n",
       "9   in orthology relationship with  ENSEMBL:ENSSSCG00000015556   \n",
       "10                causes condition         WBPhenotype:0000531   \n",
       "11                causes condition         WBPhenotype:0001932   \n",
       "12                causes condition         WBPhenotype:0000638   \n",
       "13  in orthology relationship with  ENSEMBL:ENSOANG00000000992   \n",
       "14  in orthology relationship with      Xenbase:XB-GENE-478553   \n",
       "\n",
       "                                 label_tail  class_tail  index_tail  \n",
       "0                                     pat-2           5        1542  \n",
       "1                                    unc-54           5        6544  \n",
       "2                                     LAMC1           5        9268  \n",
       "3                                     lamc1           5        5387  \n",
       "4                ENSEMBL:ENSOANG00000001050           5        2204  \n",
       "5                       shortened life span           9        5475  \n",
       "6   receptor mediated endocytosis defective           9        3057  \n",
       "7    body wall muscle thin filament variant           9        7821  \n",
       "8                ENSEMBL:ENSPTRG00000021480           5        6347  \n",
       "9                                     LAMC2           5         769  \n",
       "10             organism development variant           9        3356  \n",
       "11                         myopodia present           9        7005  \n",
       "12                              molt defect           9        5415  \n",
       "13               ENSEMBL:ENSOANG00000000992           5        1184  \n",
       "14                                    lamc1           5        3844  "
      ]
     },
     "execution_count": 18,
     "metadata": {},
     "output_type": "execute_result"
    }
   ],
   "source": [
    "kg_df.head(15)"
   ]
  },
  {
   "attachments": {},
   "cell_type": "markdown",
   "metadata": {},
   "source": [
    "# Preparation E2V Data"
   ]
  },
  {
   "attachments": {},
   "cell_type": "markdown",
   "metadata": {},
   "source": [
    "Encode string values of relation labels as numeric values."
   ]
  },
  {
   "cell_type": "code",
   "execution_count": 20,
   "metadata": {},
   "outputs": [
    {
     "data": {
      "text/html": [
       "<div>\n",
       "<style scoped>\n",
       "    .dataframe tbody tr th:only-of-type {\n",
       "        vertical-align: middle;\n",
       "    }\n",
       "\n",
       "    .dataframe tbody tr th {\n",
       "        vertical-align: top;\n",
       "    }\n",
       "\n",
       "    .dataframe thead th {\n",
       "        text-align: right;\n",
       "    }\n",
       "</style>\n",
       "<table border=\"1\" class=\"dataframe\">\n",
       "  <thead>\n",
       "    <tr style=\"text-align: right;\">\n",
       "      <th></th>\n",
       "      <th>head</th>\n",
       "      <th>label_head</th>\n",
       "      <th>class_head</th>\n",
       "      <th>index_head</th>\n",
       "      <th>relation</th>\n",
       "      <th>tail</th>\n",
       "      <th>label_tail</th>\n",
       "      <th>class_tail</th>\n",
       "      <th>index_tail</th>\n",
       "      <th>type</th>\n",
       "    </tr>\n",
       "  </thead>\n",
       "  <tbody>\n",
       "    <tr>\n",
       "      <th>0</th>\n",
       "      <td>WormBase:WBGene00006787</td>\n",
       "      <td>unc-52</td>\n",
       "      <td>5</td>\n",
       "      <td>304</td>\n",
       "      <td>interacts with</td>\n",
       "      <td>WormBase:WBGene00003929</td>\n",
       "      <td>pat-2</td>\n",
       "      <td>5</td>\n",
       "      <td>1542</td>\n",
       "      <td>0</td>\n",
       "    </tr>\n",
       "    <tr>\n",
       "      <th>1</th>\n",
       "      <td>WormBase:WBGene00006787</td>\n",
       "      <td>unc-52</td>\n",
       "      <td>5</td>\n",
       "      <td>304</td>\n",
       "      <td>interacts with</td>\n",
       "      <td>WormBase:WBGene00006789</td>\n",
       "      <td>unc-54</td>\n",
       "      <td>5</td>\n",
       "      <td>6544</td>\n",
       "      <td>0</td>\n",
       "    </tr>\n",
       "    <tr>\n",
       "      <th>2</th>\n",
       "      <td>WormBase:WBGene00006787</td>\n",
       "      <td>unc-52</td>\n",
       "      <td>5</td>\n",
       "      <td>304</td>\n",
       "      <td>in orthology relationship with</td>\n",
       "      <td>ENSEMBL:ENSSSCG00000015555</td>\n",
       "      <td>LAMC1</td>\n",
       "      <td>5</td>\n",
       "      <td>9268</td>\n",
       "      <td>1</td>\n",
       "    </tr>\n",
       "    <tr>\n",
       "      <th>3</th>\n",
       "      <td>WormBase:WBGene00006787</td>\n",
       "      <td>unc-52</td>\n",
       "      <td>5</td>\n",
       "      <td>304</td>\n",
       "      <td>in orthology relationship with</td>\n",
       "      <td>ZFIN:ZDB-GENE-021226-3</td>\n",
       "      <td>lamc1</td>\n",
       "      <td>5</td>\n",
       "      <td>5387</td>\n",
       "      <td>1</td>\n",
       "    </tr>\n",
       "    <tr>\n",
       "      <th>4</th>\n",
       "      <td>WormBase:WBGene00006787</td>\n",
       "      <td>unc-52</td>\n",
       "      <td>5</td>\n",
       "      <td>304</td>\n",
       "      <td>in orthology relationship with</td>\n",
       "      <td>ENSEMBL:ENSOANG00000001050</td>\n",
       "      <td>ENSEMBL:ENSOANG00000001050</td>\n",
       "      <td>5</td>\n",
       "      <td>2204</td>\n",
       "      <td>1</td>\n",
       "    </tr>\n",
       "    <tr>\n",
       "      <th>5</th>\n",
       "      <td>WormBase:WBGene00006787</td>\n",
       "      <td>unc-52</td>\n",
       "      <td>5</td>\n",
       "      <td>304</td>\n",
       "      <td>causes condition</td>\n",
       "      <td>WBPhenotype:0001171</td>\n",
       "      <td>shortened life span</td>\n",
       "      <td>9</td>\n",
       "      <td>5475</td>\n",
       "      <td>2</td>\n",
       "    </tr>\n",
       "    <tr>\n",
       "      <th>6</th>\n",
       "      <td>WormBase:WBGene00006787</td>\n",
       "      <td>unc-52</td>\n",
       "      <td>5</td>\n",
       "      <td>304</td>\n",
       "      <td>causes condition</td>\n",
       "      <td>WBPhenotype:0001425</td>\n",
       "      <td>receptor mediated endocytosis defective</td>\n",
       "      <td>9</td>\n",
       "      <td>3057</td>\n",
       "      <td>2</td>\n",
       "    </tr>\n",
       "    <tr>\n",
       "      <th>7</th>\n",
       "      <td>WormBase:WBGene00006787</td>\n",
       "      <td>unc-52</td>\n",
       "      <td>5</td>\n",
       "      <td>304</td>\n",
       "      <td>causes condition</td>\n",
       "      <td>WBPhenotype:0000781</td>\n",
       "      <td>body wall muscle thin filament variant</td>\n",
       "      <td>9</td>\n",
       "      <td>7821</td>\n",
       "      <td>2</td>\n",
       "    </tr>\n",
       "    <tr>\n",
       "      <th>8</th>\n",
       "      <td>WormBase:WBGene00006787</td>\n",
       "      <td>unc-52</td>\n",
       "      <td>5</td>\n",
       "      <td>304</td>\n",
       "      <td>in orthology relationship with</td>\n",
       "      <td>ENSEMBL:ENSPTRG00000021480</td>\n",
       "      <td>ENSEMBL:ENSPTRG00000021480</td>\n",
       "      <td>5</td>\n",
       "      <td>6347</td>\n",
       "      <td>1</td>\n",
       "    </tr>\n",
       "    <tr>\n",
       "      <th>9</th>\n",
       "      <td>WormBase:WBGene00006787</td>\n",
       "      <td>unc-52</td>\n",
       "      <td>5</td>\n",
       "      <td>304</td>\n",
       "      <td>in orthology relationship with</td>\n",
       "      <td>ENSEMBL:ENSSSCG00000015556</td>\n",
       "      <td>LAMC2</td>\n",
       "      <td>5</td>\n",
       "      <td>769</td>\n",
       "      <td>1</td>\n",
       "    </tr>\n",
       "  </tbody>\n",
       "</table>\n",
       "</div>"
      ],
      "text/plain": [
       "                      head label_head  class_head  index_head  \\\n",
       "0  WormBase:WBGene00006787     unc-52           5         304   \n",
       "1  WormBase:WBGene00006787     unc-52           5         304   \n",
       "2  WormBase:WBGene00006787     unc-52           5         304   \n",
       "3  WormBase:WBGene00006787     unc-52           5         304   \n",
       "4  WormBase:WBGene00006787     unc-52           5         304   \n",
       "5  WormBase:WBGene00006787     unc-52           5         304   \n",
       "6  WormBase:WBGene00006787     unc-52           5         304   \n",
       "7  WormBase:WBGene00006787     unc-52           5         304   \n",
       "8  WormBase:WBGene00006787     unc-52           5         304   \n",
       "9  WormBase:WBGene00006787     unc-52           5         304   \n",
       "\n",
       "                         relation                        tail  \\\n",
       "0                  interacts with     WormBase:WBGene00003929   \n",
       "1                  interacts with     WormBase:WBGene00006789   \n",
       "2  in orthology relationship with  ENSEMBL:ENSSSCG00000015555   \n",
       "3  in orthology relationship with      ZFIN:ZDB-GENE-021226-3   \n",
       "4  in orthology relationship with  ENSEMBL:ENSOANG00000001050   \n",
       "5                causes condition         WBPhenotype:0001171   \n",
       "6                causes condition         WBPhenotype:0001425   \n",
       "7                causes condition         WBPhenotype:0000781   \n",
       "8  in orthology relationship with  ENSEMBL:ENSPTRG00000021480   \n",
       "9  in orthology relationship with  ENSEMBL:ENSSSCG00000015556   \n",
       "\n",
       "                                label_tail  class_tail  index_tail  type  \n",
       "0                                    pat-2           5        1542     0  \n",
       "1                                   unc-54           5        6544     0  \n",
       "2                                    LAMC1           5        9268     1  \n",
       "3                                    lamc1           5        5387     1  \n",
       "4               ENSEMBL:ENSOANG00000001050           5        2204     1  \n",
       "5                      shortened life span           9        5475     2  \n",
       "6  receptor mediated endocytosis defective           9        3057     2  \n",
       "7   body wall muscle thin filament variant           9        7821     2  \n",
       "8               ENSEMBL:ENSPTRG00000021480           5        6347     1  \n",
       "9                                    LAMC2           5         769     1  "
      ]
     },
     "execution_count": 20,
     "metadata": {},
     "output_type": "execute_result"
    }
   ],
   "source": [
    "kg_df['type'], relation_labels = pd.factorize(kg_df['relation'])\n",
    "kg_df.head(10)"
   ]
  },
  {
   "attachments": {},
   "cell_type": "markdown",
   "metadata": {},
   "source": [
    "Index list can be used later for converting back to the label of the relation."
   ]
  },
  {
   "cell_type": "code",
   "execution_count": 21,
   "metadata": {},
   "outputs": [
    {
     "data": {
      "text/plain": [
       "Index(['interacts with', 'in orthology relationship with', 'causes condition',\n",
       "       'involved in', 'found in', 'is part of', 'enables', 'colocalizes with',\n",
       "       'has role in modeling', 'contributes to condition', 'expresses gene',\n",
       "       'has affected feature', 'is of', 'likely causes condition',\n",
       "       'is variant in', 'is allele of', 'is substance that treats', 'targets',\n",
       "       'associated with phenotype', 'is product of', 'has genotype'],\n",
       "      dtype='object')"
      ]
     },
     "execution_count": 21,
     "metadata": {},
     "output_type": "execute_result"
    }
   ],
   "source": [
    "relation_labels"
   ]
  },
  {
   "attachments": {},
   "cell_type": "markdown",
   "metadata": {},
   "source": [
    "Extract the relevant columns for applying the Edge2Vec method."
   ]
  },
  {
   "cell_type": "code",
   "execution_count": 22,
   "metadata": {},
   "outputs": [
    {
     "data": {
      "text/html": [
       "<div>\n",
       "<style scoped>\n",
       "    .dataframe tbody tr th:only-of-type {\n",
       "        vertical-align: middle;\n",
       "    }\n",
       "\n",
       "    .dataframe tbody tr th {\n",
       "        vertical-align: top;\n",
       "    }\n",
       "\n",
       "    .dataframe thead th {\n",
       "        text-align: right;\n",
       "    }\n",
       "</style>\n",
       "<table border=\"1\" class=\"dataframe\">\n",
       "  <thead>\n",
       "    <tr style=\"text-align: right;\">\n",
       "      <th></th>\n",
       "      <th>head</th>\n",
       "      <th>label_head</th>\n",
       "      <th>class_head</th>\n",
       "      <th>index_head</th>\n",
       "      <th>relation</th>\n",
       "      <th>tail</th>\n",
       "      <th>label_tail</th>\n",
       "      <th>class_tail</th>\n",
       "      <th>index_tail</th>\n",
       "      <th>type</th>\n",
       "    </tr>\n",
       "  </thead>\n",
       "  <tbody>\n",
       "    <tr>\n",
       "      <th>0</th>\n",
       "      <td>WormBase:WBGene00006787</td>\n",
       "      <td>unc-52</td>\n",
       "      <td>5</td>\n",
       "      <td>304</td>\n",
       "      <td>interacts with</td>\n",
       "      <td>WormBase:WBGene00003929</td>\n",
       "      <td>pat-2</td>\n",
       "      <td>5</td>\n",
       "      <td>1542</td>\n",
       "      <td>0</td>\n",
       "    </tr>\n",
       "    <tr>\n",
       "      <th>1</th>\n",
       "      <td>WormBase:WBGene00006787</td>\n",
       "      <td>unc-52</td>\n",
       "      <td>5</td>\n",
       "      <td>304</td>\n",
       "      <td>interacts with</td>\n",
       "      <td>WormBase:WBGene00006789</td>\n",
       "      <td>unc-54</td>\n",
       "      <td>5</td>\n",
       "      <td>6544</td>\n",
       "      <td>0</td>\n",
       "    </tr>\n",
       "    <tr>\n",
       "      <th>2</th>\n",
       "      <td>WormBase:WBGene00006787</td>\n",
       "      <td>unc-52</td>\n",
       "      <td>5</td>\n",
       "      <td>304</td>\n",
       "      <td>in orthology relationship with</td>\n",
       "      <td>ENSEMBL:ENSSSCG00000015555</td>\n",
       "      <td>LAMC1</td>\n",
       "      <td>5</td>\n",
       "      <td>9268</td>\n",
       "      <td>1</td>\n",
       "    </tr>\n",
       "    <tr>\n",
       "      <th>3</th>\n",
       "      <td>WormBase:WBGene00006787</td>\n",
       "      <td>unc-52</td>\n",
       "      <td>5</td>\n",
       "      <td>304</td>\n",
       "      <td>in orthology relationship with</td>\n",
       "      <td>ZFIN:ZDB-GENE-021226-3</td>\n",
       "      <td>lamc1</td>\n",
       "      <td>5</td>\n",
       "      <td>5387</td>\n",
       "      <td>1</td>\n",
       "    </tr>\n",
       "    <tr>\n",
       "      <th>4</th>\n",
       "      <td>WormBase:WBGene00006787</td>\n",
       "      <td>unc-52</td>\n",
       "      <td>5</td>\n",
       "      <td>304</td>\n",
       "      <td>in orthology relationship with</td>\n",
       "      <td>ENSEMBL:ENSOANG00000001050</td>\n",
       "      <td>ENSEMBL:ENSOANG00000001050</td>\n",
       "      <td>5</td>\n",
       "      <td>2204</td>\n",
       "      <td>1</td>\n",
       "    </tr>\n",
       "    <tr>\n",
       "      <th>5</th>\n",
       "      <td>WormBase:WBGene00006787</td>\n",
       "      <td>unc-52</td>\n",
       "      <td>5</td>\n",
       "      <td>304</td>\n",
       "      <td>causes condition</td>\n",
       "      <td>WBPhenotype:0001171</td>\n",
       "      <td>shortened life span</td>\n",
       "      <td>9</td>\n",
       "      <td>5475</td>\n",
       "      <td>2</td>\n",
       "    </tr>\n",
       "    <tr>\n",
       "      <th>6</th>\n",
       "      <td>WormBase:WBGene00006787</td>\n",
       "      <td>unc-52</td>\n",
       "      <td>5</td>\n",
       "      <td>304</td>\n",
       "      <td>causes condition</td>\n",
       "      <td>WBPhenotype:0001425</td>\n",
       "      <td>receptor mediated endocytosis defective</td>\n",
       "      <td>9</td>\n",
       "      <td>3057</td>\n",
       "      <td>2</td>\n",
       "    </tr>\n",
       "    <tr>\n",
       "      <th>7</th>\n",
       "      <td>WormBase:WBGene00006787</td>\n",
       "      <td>unc-52</td>\n",
       "      <td>5</td>\n",
       "      <td>304</td>\n",
       "      <td>causes condition</td>\n",
       "      <td>WBPhenotype:0000781</td>\n",
       "      <td>body wall muscle thin filament variant</td>\n",
       "      <td>9</td>\n",
       "      <td>7821</td>\n",
       "      <td>2</td>\n",
       "    </tr>\n",
       "    <tr>\n",
       "      <th>8</th>\n",
       "      <td>WormBase:WBGene00006787</td>\n",
       "      <td>unc-52</td>\n",
       "      <td>5</td>\n",
       "      <td>304</td>\n",
       "      <td>in orthology relationship with</td>\n",
       "      <td>ENSEMBL:ENSPTRG00000021480</td>\n",
       "      <td>ENSEMBL:ENSPTRG00000021480</td>\n",
       "      <td>5</td>\n",
       "      <td>6347</td>\n",
       "      <td>1</td>\n",
       "    </tr>\n",
       "    <tr>\n",
       "      <th>9</th>\n",
       "      <td>WormBase:WBGene00006787</td>\n",
       "      <td>unc-52</td>\n",
       "      <td>5</td>\n",
       "      <td>304</td>\n",
       "      <td>in orthology relationship with</td>\n",
       "      <td>ENSEMBL:ENSSSCG00000015556</td>\n",
       "      <td>LAMC2</td>\n",
       "      <td>5</td>\n",
       "      <td>769</td>\n",
       "      <td>1</td>\n",
       "    </tr>\n",
       "  </tbody>\n",
       "</table>\n",
       "</div>"
      ],
      "text/plain": [
       "                      head label_head  class_head index_head  \\\n",
       "0  WormBase:WBGene00006787     unc-52           5        304   \n",
       "1  WormBase:WBGene00006787     unc-52           5        304   \n",
       "2  WormBase:WBGene00006787     unc-52           5        304   \n",
       "3  WormBase:WBGene00006787     unc-52           5        304   \n",
       "4  WormBase:WBGene00006787     unc-52           5        304   \n",
       "5  WormBase:WBGene00006787     unc-52           5        304   \n",
       "6  WormBase:WBGene00006787     unc-52           5        304   \n",
       "7  WormBase:WBGene00006787     unc-52           5        304   \n",
       "8  WormBase:WBGene00006787     unc-52           5        304   \n",
       "9  WormBase:WBGene00006787     unc-52           5        304   \n",
       "\n",
       "                         relation                        tail  \\\n",
       "0                  interacts with     WormBase:WBGene00003929   \n",
       "1                  interacts with     WormBase:WBGene00006789   \n",
       "2  in orthology relationship with  ENSEMBL:ENSSSCG00000015555   \n",
       "3  in orthology relationship with      ZFIN:ZDB-GENE-021226-3   \n",
       "4  in orthology relationship with  ENSEMBL:ENSOANG00000001050   \n",
       "5                causes condition         WBPhenotype:0001171   \n",
       "6                causes condition         WBPhenotype:0001425   \n",
       "7                causes condition         WBPhenotype:0000781   \n",
       "8  in orthology relationship with  ENSEMBL:ENSPTRG00000021480   \n",
       "9  in orthology relationship with  ENSEMBL:ENSSSCG00000015556   \n",
       "\n",
       "                                label_tail  class_tail index_tail  type  \n",
       "0                                    pat-2           5       1542     0  \n",
       "1                                   unc-54           5       6544     0  \n",
       "2                                    LAMC1           5       9268     1  \n",
       "3                                    lamc1           5       5387     1  \n",
       "4               ENSEMBL:ENSOANG00000001050           5       2204     1  \n",
       "5                      shortened life span           9       5475     2  \n",
       "6  receptor mediated endocytosis defective           9       3057     2  \n",
       "7   body wall muscle thin filament variant           9       7821     2  \n",
       "8               ENSEMBL:ENSPTRG00000021480           5       6347     1  \n",
       "9                                    LAMC2           5        769     1  "
      ]
     },
     "execution_count": 22,
     "metadata": {},
     "output_type": "execute_result"
    }
   ],
   "source": [
    "edge2vec_df = kg_df.copy()\n",
    "#edge2vec_df = kg_df.drop(['head', 'relation', 'tail'], axis=1)\n",
    "edge2vec_df['index_head'] = edge2vec_df['index_head'].apply(str)\n",
    "edge2vec_df['index_tail'] = edge2vec_df['index_tail'].apply(str)\n",
    "edge2vec_df.head(10)"
   ]
  },
  {
   "cell_type": "code",
   "execution_count": 23,
   "metadata": {},
   "outputs": [
    {
     "name": "stdout",
     "output_type": "stream",
     "text": [
      "There are 85992 edges\n"
     ]
    }
   ],
   "source": [
    "print(f'There are {edge2vec_df.shape[0]} edges')"
   ]
  },
  {
   "cell_type": "code",
   "execution_count": 21,
   "metadata": {},
   "outputs": [],
   "source": [
    "edge2vec_df.to_csv(f'output/indexed_edges_{dataset_nr}.csv', index=False)"
   ]
  },
  {
   "attachments": {},
   "cell_type": "markdown",
   "metadata": {},
   "source": [
    "Initialize edge list with keys 'type' and 'weight'. The 'weight' of each edge is initialized to 1.0. "
   ]
  },
  {
   "cell_type": "code",
   "execution_count": 477,
   "metadata": {},
   "outputs": [],
   "source": [
    "G = nx.from_pandas_edgelist(edge2vec_df, 'index_head', 'index_tail', 'type', create_using=nx.DiGraph(), edge_key= (('type', int),('id', int)))\n",
    "G = G.to_undirected()   # for the E2V implementation, use indirected graph\n",
    "for edge in G.edges():\n",
    "    G[edge[0]][edge[1]]['weight'] = 1.0"
   ]
  },
  {
   "cell_type": "code",
   "execution_count": 478,
   "metadata": {},
   "outputs": [
    {
     "name": "stdout",
     "output_type": "stream",
     "text": [
      "First node in graph: ('304', {})\n",
      "First edge in graph: ('304', '1542', {'type': 0, 'weight': 1.0})\n",
      "Total number of edges is 55032\n",
      "Total number of nodes is 10275\n"
     ]
    }
   ],
   "source": [
    "for node in G.nodes(data=True):\n",
    "    print('First node in graph:', node)\n",
    "    break\n",
    "\n",
    "for edge in G.edges(data=True):\n",
    "    print('First edge in graph:', edge)\n",
    "    break\n",
    "\n",
    "print('Total number of edges is {}'.format(G.number_of_edges()))\n",
    "print('Total number of nodes is {}'.format(G.number_of_nodes()))"
   ]
  },
  {
   "attachments": {},
   "cell_type": "markdown",
   "metadata": {},
   "source": [
    "# Obtain Node Embeddings with E2V"
   ]
  },
  {
   "cell_type": "code",
   "execution_count": 479,
   "metadata": {},
   "outputs": [
    {
     "name": "stdout",
     "output_type": "stream",
     "text": [
      "There are 21 edge types\n"
     ]
    }
   ],
   "source": [
    "type_size = len(set(edge2vec_df['type']))\n",
    "print(f'There are {type_size} edge types')"
   ]
  },
  {
   "attachments": {},
   "cell_type": "markdown",
   "metadata": {},
   "source": [
    "Define parameters and generate edge type transition matrix using Edge2Vec EM approach"
   ]
  },
  {
   "cell_type": "code",
   "execution_count": 480,
   "metadata": {},
   "outputs": [
    {
     "name": "stdout",
     "output_type": "stream",
     "text": [
      "Initializing transition matrix...\n",
      "Updating transition matrix...\n",
      "Walk iteration:\n",
      "1 / 6\n",
      "2 / 6\n",
      "3 / 6\n",
      "4 / 6\n",
      "5 / 6\n",
      "6 / 6\n",
      "0th iteration of updating matrix\n"
     ]
    },
    {
     "name": "stderr",
     "output_type": "stream",
     "text": [
      "c:\\Users\\rosa-\\anaconda3\\envs\\xaifo\\lib\\site-packages\\scipy\\stats\\_morestats.py:3428: UserWarning: Sample size too small for normal approximation.\n",
      "  warnings.warn(\"Sample size too small for normal approximation.\")\n"
     ]
    },
    {
     "name": "stdout",
     "output_type": "stream",
     "text": [
      "Walk iteration:\n",
      "1 / 6\n",
      "2 / 6\n",
      "3 / 6\n",
      "4 / 6\n",
      "5 / 6\n",
      "6 / 6\n",
      "1th iteration of updating matrix\n",
      "Walk iteration:\n",
      "1 / 6\n",
      "2 / 6\n",
      "3 / 6\n",
      "4 / 6\n",
      "5 / 6\n",
      "6 / 6\n",
      "2th iteration of updating matrix\n",
      "Walk iteration:\n",
      "1 / 6\n",
      "2 / 6\n",
      "3 / 6\n",
      "4 / 6\n",
      "5 / 6\n",
      "6 / 6\n",
      "3th iteration of updating matrix\n",
      "Walk iteration:\n",
      "1 / 6\n",
      "2 / 6\n",
      "3 / 6\n",
      "4 / 6\n",
      "5 / 6\n",
      "6 / 6\n",
      "4th iteration of updating matrix\n",
      "Finished generating values for transition matrix!\n"
     ]
    }
   ],
   "source": [
    "# Use parameter values obtained with hyperparameter optimization\n",
    "if dataset_nr == 1:\n",
    "    epoch = 10  # number of epochs\n",
    "    num_walks = 4   # number of walks per node\n",
    "    walk_length = 7 # length of each walk\n",
    "    p = 0.75\n",
    "    q = 0.75\n",
    "else:\n",
    "    epoch = 5  # number of epochs\n",
    "    num_walks = 6   # number of walks per node\n",
    "    walk_length = 7 # length of each walk\n",
    "    p = 0.75\n",
    "    q = 1\n",
    "\n",
    "directed = True\n",
    "e_step = 3\n",
    "\n",
    "print('Initializing transition matrix...')\n",
    "M = transitions.initialize_edge_type_matrix(type_size)\n",
    "\n",
    "print('Updating transition matrix...')\n",
    "for i in range(epoch):\n",
    "    walks = transitions.simulate_walks_1(G, num_walks, walk_length, M, directed, p, q) # M step\n",
    "    print(f'{i}th iteration of updating matrix')\n",
    "    M = transitions.update_trans_matrix(walks, type_size, e_step) # E step\n",
    "\n",
    "print(\"Finished generating values for transition matrix!\")"
   ]
  },
  {
   "cell_type": "code",
   "execution_count": 481,
   "metadata": {},
   "outputs": [
    {
     "name": "stdout",
     "output_type": "stream",
     "text": [
      "Overview of resulting edge type transition matrix (float values have been truncated to fit the view!):\n",
      "0.5\t1.0\t1.0\t1.0\t1.0\t1.0\t1.0\t1.0\t1.0\t1.0\t1.0\t1.0\t1.0\t1.0\t1.0\t1.0\t1.0\t1.0\t1.0\t1.0\t0.5\n",
      "1.0\t0.5\t1.0\t1.0\t1.0\t1.0\t1.0\t1.0\t1.0\t1.0\t1.0\t1.0\t1.0\t0.5\t1.0\t1.0\t1.0\t1.0\t1.0\t1.0\t0.5\n",
      "1.0\t1.0\t0.5\t1.0\t1.0\t1.0\t1.0\t1.0\t1.0\t1.0\t1.0\t1.0\t1.0\t1.0\t1.0\t1.0\t1.0\t1.0\t1.0\t1.0\t0.5\n",
      "1.0\t1.0\t1.0\t0.5\t1.0\t1.0\t1.0\t1.0\t1.0\t1.0\t1.0\t1.0\t1.0\t1.0\t1.0\t1.0\t1.0\t1.0\t1.0\t1.0\t0.5\n",
      "1.0\t1.0\t1.0\t1.0\t0.5\t1.0\t1.0\t1.0\t1.0\t1.0\t1.0\t1.0\t1.0\t1.0\t1.0\t1.0\t1.0\t1.0\t1.0\t1.0\t0.5\n",
      "1.0\t1.0\t1.0\t1.0\t1.0\t0.5\t1.0\t1.0\t1.0\t1.0\t1.0\t1.0\t1.0\t1.0\t1.0\t1.0\t1.0\t1.0\t1.0\t1.0\t0.5\n",
      "1.0\t1.0\t1.0\t1.0\t1.0\t1.0\t0.5\t1.0\t1.0\t1.0\t1.0\t1.0\t1.0\t1.0\t1.0\t1.0\t1.0\t1.0\t1.0\t1.0\t0.5\n",
      "1.0\t1.0\t1.0\t1.0\t1.0\t1.0\t1.0\t0.5\t1.0\t1.0\t1.0\t1.0\t1.0\t1.0\t1.0\t1.0\t1.0\t1.0\t1.0\t1.0\t0.5\n",
      "1.0\t1.0\t1.0\t1.0\t1.0\t1.0\t1.0\t1.0\t0.5\t1.0\t1.0\t1.0\t1.0\t1.0\t1.0\t1.0\t1.0\t1.0\t1.0\t1.0\t0.5\n",
      "1.0\t1.0\t1.0\t1.0\t1.0\t1.0\t1.0\t1.0\t1.0\t0.5\t1.0\t1.0\t1.0\t1.0\t1.0\t1.0\t1.0\t1.0\t1.0\t1.0\t0.5\n",
      "1.0\t1.0\t1.0\t1.0\t1.0\t1.0\t1.0\t1.0\t1.0\t1.0\t0.5\t1.0\t1.0\t1.0\t1.0\t1.0\t1.0\t1.0\t1.0\t1.0\t0.5\n",
      "1.0\t1.0\t1.0\t1.0\t1.0\t1.0\t1.0\t1.0\t1.0\t1.0\t1.0\t0.5\t1.0\t1.0\t1.0\t1.0\t1.0\t1.0\t1.0\t1.0\t0.5\n",
      "1.0\t1.0\t1.0\t1.0\t1.0\t1.0\t1.0\t1.0\t1.0\t1.0\t1.0\t1.0\t0.5\t1.0\t1.0\t1.0\t1.0\t1.0\t1.0\t1.0\t0.5\n",
      "1.0\t0.5\t1.0\t1.0\t1.0\t1.0\t1.0\t1.0\t1.0\t1.0\t1.0\t1.0\t1.0\t0.5\t1.0\t1.0\t1.0\t1.0\t1.0\t1.0\t0.5\n",
      "1.0\t1.0\t1.0\t1.0\t1.0\t1.0\t1.0\t1.0\t1.0\t1.0\t1.0\t1.0\t1.0\t1.0\t0.5\t1.0\t1.0\t1.0\t1.0\t1.0\t0.5\n",
      "1.0\t1.0\t1.0\t1.0\t1.0\t1.0\t1.0\t1.0\t1.0\t1.0\t1.0\t1.0\t1.0\t1.0\t1.0\t0.5\t1.0\t1.0\t1.0\t1.0\t0.5\n",
      "1.0\t1.0\t1.0\t1.0\t1.0\t1.0\t1.0\t1.0\t1.0\t1.0\t1.0\t1.0\t1.0\t1.0\t1.0\t1.0\t0.5\t1.0\t0.999\t1.0\t0.5\n",
      "1.0\t1.0\t1.0\t1.0\t1.0\t1.0\t1.0\t1.0\t1.0\t1.0\t1.0\t1.0\t1.0\t1.0\t1.0\t1.0\t1.0\t0.5\t1.0\t1.0\t0.5\n",
      "1.0\t1.0\t1.0\t1.0\t1.0\t1.0\t1.0\t1.0\t1.0\t1.0\t1.0\t1.0\t1.0\t1.0\t1.0\t1.0\t0.999\t1.0\t0.5\t1.0\t0.5\n",
      "1.0\t1.0\t1.0\t1.0\t1.0\t1.0\t1.0\t1.0\t1.0\t1.0\t1.0\t1.0\t1.0\t1.0\t1.0\t1.0\t1.0\t1.0\t1.0\t0.5\t0.5\n",
      "0.5\t0.5\t0.5\t0.5\t0.5\t0.5\t0.5\t0.5\t0.5\t0.5\t0.5\t0.5\t0.5\t0.5\t0.5\t0.5\t0.5\t0.5\t0.5\t0.5\t0.5\n"
     ]
    }
   ],
   "source": [
    "print('Overview of resulting edge type transition matrix (float values have been truncated to fit the view!):')\n",
    "print('\\n'.join(['\\t'.join([str(cell)[:5] for cell in row]) for row in M]))"
   ]
  },
  {
   "cell_type": "code",
   "execution_count": 482,
   "metadata": {},
   "outputs": [],
   "source": [
    "np.save(f'output/transitionmatrix_{dataset_nr}.npy', M)"
   ]
  },
  {
   "attachments": {},
   "cell_type": "markdown",
   "metadata": {},
   "source": [
    "Generate walks constrained by final edge type transition matrix"
   ]
  },
  {
   "cell_type": "code",
   "execution_count": 483,
   "metadata": {},
   "outputs": [
    {
     "name": "stdout",
     "output_type": "stream",
     "text": [
      "Generate walks constrained by edge type transition matrix...\n",
      "Walk iteration:\n",
      "1 / 6\n"
     ]
    },
    {
     "name": "stdout",
     "output_type": "stream",
     "text": [
      "2 / 6\n",
      "3 / 6\n",
      "4 / 6\n",
      "5 / 6\n",
      "6 / 6\n"
     ]
    }
   ],
   "source": [
    "print('Generate walks constrained by edge type transition matrix...')\n",
    "walks = edge2vec.simulate_walks_2(G, num_walks, walk_length, M, p, q)"
   ]
  },
  {
   "attachments": {},
   "cell_type": "markdown",
   "metadata": {},
   "source": [
    "Generate node embeddings using Word2Vec (skip-gram model) with as input the generated walks"
   ]
  },
  {
   "cell_type": "code",
   "execution_count": 484,
   "metadata": {},
   "outputs": [],
   "source": [
    "if dataset_nr == 1:\n",
    "    dim = 64    # desired dimension of the node embedding\n",
    "    epochs = 10\n",
    "else:\n",
    "    dim = 64\n",
    "    epochs = 10\n",
    "\n",
    "window_size = walk_length - 1   # maximum distance between predicted and context node\n",
    "workers = 8 # threads used\n",
    "\n",
    "w2v_model = edge2vec.Word2Vec(walks, vector_size=dim, window=window_size, min_count=0, sg=1, workers=workers, epochs=epochs)"
   ]
  },
  {
   "attachments": {},
   "cell_type": "markdown",
   "metadata": {},
   "source": [
    "Save the node embeddings"
   ]
  },
  {
   "cell_type": "code",
   "execution_count": 485,
   "metadata": {},
   "outputs": [],
   "source": [
    "word_vectors = w2v_model.wv\n",
    "word_vectors.save(f'output/w2v_{dataset_nr}.dvectors')"
   ]
  },
  {
   "cell_type": "code",
   "execution_count": 486,
   "metadata": {},
   "outputs": [],
   "source": [
    "e2v_embedding = pd.DataFrame(columns = ['Node', 'Embedding'])\n",
    "for idx, key in enumerate(w2v_model.wv.index_to_key):\n",
    "    e2v_embedding.loc[int(key)] = pd.Series({'Node':int(key), 'Embedding':list(w2v_model.wv[key])})\n",
    "    \n",
    "e2v_embedding = e2v_embedding.sort_values('Node')"
   ]
  },
  {
   "attachments": {},
   "cell_type": "markdown",
   "metadata": {},
   "source": [
    "The embeddings of each node in the graph"
   ]
  },
  {
   "cell_type": "code",
   "execution_count": 487,
   "metadata": {},
   "outputs": [
    {
     "data": {
      "text/html": [
       "<div>\n",
       "<style scoped>\n",
       "    .dataframe tbody tr th:only-of-type {\n",
       "        vertical-align: middle;\n",
       "    }\n",
       "\n",
       "    .dataframe tbody tr th {\n",
       "        vertical-align: top;\n",
       "    }\n",
       "\n",
       "    .dataframe thead th {\n",
       "        text-align: right;\n",
       "    }\n",
       "</style>\n",
       "<table border=\"1\" class=\"dataframe\">\n",
       "  <thead>\n",
       "    <tr style=\"text-align: right;\">\n",
       "      <th></th>\n",
       "      <th>Node</th>\n",
       "      <th>Embedding</th>\n",
       "    </tr>\n",
       "  </thead>\n",
       "  <tbody>\n",
       "    <tr>\n",
       "      <th>0</th>\n",
       "      <td>0</td>\n",
       "      <td>[0.19341904, -0.41745484, -0.12364431, 0.16638...</td>\n",
       "    </tr>\n",
       "    <tr>\n",
       "      <th>1</th>\n",
       "      <td>1</td>\n",
       "      <td>[0.579751, -0.5968621, 0.4189877, -0.19671474,...</td>\n",
       "    </tr>\n",
       "    <tr>\n",
       "      <th>2</th>\n",
       "      <td>2</td>\n",
       "      <td>[-0.09172324, -0.17067072, 0.024856096, 0.1898...</td>\n",
       "    </tr>\n",
       "    <tr>\n",
       "      <th>3</th>\n",
       "      <td>3</td>\n",
       "      <td>[0.29931498, -0.1667258, 0.5257502, 0.5293044,...</td>\n",
       "    </tr>\n",
       "    <tr>\n",
       "      <th>4</th>\n",
       "      <td>4</td>\n",
       "      <td>[0.117773786, -0.21425456, -0.22285198, 0.0990...</td>\n",
       "    </tr>\n",
       "    <tr>\n",
       "      <th>...</th>\n",
       "      <td>...</td>\n",
       "      <td>...</td>\n",
       "    </tr>\n",
       "    <tr>\n",
       "      <th>10270</th>\n",
       "      <td>10270</td>\n",
       "      <td>[0.37877187, -0.017005594, 0.3257357, 0.199831...</td>\n",
       "    </tr>\n",
       "    <tr>\n",
       "      <th>10271</th>\n",
       "      <td>10271</td>\n",
       "      <td>[0.2916055, -0.45973212, -0.015776878, -0.6851...</td>\n",
       "    </tr>\n",
       "    <tr>\n",
       "      <th>10272</th>\n",
       "      <td>10272</td>\n",
       "      <td>[-0.11948804, -0.29105687, 0.60765344, -0.0433...</td>\n",
       "    </tr>\n",
       "    <tr>\n",
       "      <th>10273</th>\n",
       "      <td>10273</td>\n",
       "      <td>[0.07694234, -0.4507158, 0.32198328, 0.1689011...</td>\n",
       "    </tr>\n",
       "    <tr>\n",
       "      <th>10274</th>\n",
       "      <td>10274</td>\n",
       "      <td>[0.026547784, -0.34512827, 0.023559716, 0.1562...</td>\n",
       "    </tr>\n",
       "  </tbody>\n",
       "</table>\n",
       "<p>10275 rows × 2 columns</p>\n",
       "</div>"
      ],
      "text/plain": [
       "        Node                                          Embedding\n",
       "0          0  [0.19341904, -0.41745484, -0.12364431, 0.16638...\n",
       "1          1  [0.579751, -0.5968621, 0.4189877, -0.19671474,...\n",
       "2          2  [-0.09172324, -0.17067072, 0.024856096, 0.1898...\n",
       "3          3  [0.29931498, -0.1667258, 0.5257502, 0.5293044,...\n",
       "4          4  [0.117773786, -0.21425456, -0.22285198, 0.0990...\n",
       "...      ...                                                ...\n",
       "10270  10270  [0.37877187, -0.017005594, 0.3257357, 0.199831...\n",
       "10271  10271  [0.2916055, -0.45973212, -0.015776878, -0.6851...\n",
       "10272  10272  [-0.11948804, -0.29105687, 0.60765344, -0.0433...\n",
       "10273  10273  [0.07694234, -0.4507158, 0.32198328, 0.1689011...\n",
       "10274  10274  [0.026547784, -0.34512827, 0.023559716, 0.1562...\n",
       "\n",
       "[10275 rows x 2 columns]"
      ]
     },
     "execution_count": 487,
     "metadata": {},
     "output_type": "execute_result"
    }
   ],
   "source": [
    "e2v_embedding"
   ]
  },
  {
   "attachments": {},
   "cell_type": "markdown",
   "metadata": {},
   "source": [
    "# Link Prediction"
   ]
  },
  {
   "attachments": {},
   "cell_type": "markdown",
   "metadata": {},
   "source": [
    "Creating a graph including the node embeddings as features of each node."
   ]
  },
  {
   "cell_type": "code",
   "execution_count": 488,
   "metadata": {},
   "outputs": [
    {
     "name": "stdout",
     "output_type": "stream",
     "text": [
      "(0, {'node_feature': tensor([ 0.1934, -0.4175, -0.1236,  0.1664,  0.3628, -0.6092,  0.1288, -0.3537,\n",
      "        -0.5665, -0.0265,  0.5941, -0.0500, -0.4676, -0.5701,  0.5306,  0.6816,\n",
      "        -0.5057, -0.4247,  0.2428,  0.4946,  0.6948,  0.8011,  0.1991, -0.4635,\n",
      "        -0.1337,  0.1609, -0.5184, -0.2800,  0.5739, -0.2524, -0.0543, -0.4784,\n",
      "         0.2787,  0.0488, -0.2610,  0.6490,  0.3472, -0.1858,  0.6145,  0.1745,\n",
      "         0.2946,  0.2218,  0.3575,  0.0877, -0.5840,  0.1926,  0.6603, -0.7829,\n",
      "         0.0733, -0.4376,  0.1557,  0.0560,  0.3634, -0.1627,  0.1379, -0.1113,\n",
      "         0.5885, -0.3621, -0.1135,  0.4481,  0.0223,  0.0096, -0.1575,  0.6008])})\n",
      "(2, 7693, {})\n",
      "Number of edges is 85878\n",
      "Number of nodes is 10275\n"
     ]
    }
   ],
   "source": [
    "embedded_node_G = nx.DiGraph() # TODO: changed from Graph\n",
    "\n",
    "for ind, node in e2v_embedding.iterrows(): \n",
    "  embedded_node_G.add_node(int(node['Node']), node_feature=torch.Tensor(node['Embedding']))\n",
    "for ind, edge in edge2vec_df.iterrows(): \n",
    "  embedded_node_G.add_edge(int(edge['index_head']), int(edge['index_tail']))\n",
    "    \n",
    "for node in embedded_node_G.nodes(data=True):\n",
    "    print(node)\n",
    "    break\n",
    "for edge in embedded_node_G.edges(data=True):\n",
    "    print(edge)\n",
    "    break\n",
    "\n",
    "print(\"Number of edges is {}\".format(embedded_node_G.number_of_edges()))\n",
    "print(\"Number of nodes is {}\".format(embedded_node_G.number_of_nodes()))"
   ]
  },
  {
   "attachments": {},
   "cell_type": "markdown",
   "metadata": {},
   "source": [
    "## Generate graph datasets for training, validation and testing"
   ]
  },
  {
   "attachments": {},
   "cell_type": "markdown",
   "metadata": {},
   "source": [
    "Transductive link prediction split (https://zqfang.github.io/2021-08-12-graph-linkpredict/):\n",
    "- Train/validation/test sets are on the same graph\n",
    "- The dataset consists of one graph\n",
    "- The entire graph can be observed in all dataset splits\n",
    "- The labels of the edges are split"
   ]
  },
  {
   "cell_type": "code",
   "execution_count": 489,
   "metadata": {},
   "outputs": [
    {
     "name": "stderr",
     "output_type": "stream",
     "text": [
      "c:\\Users\\rosa-\\anaconda3\\envs\\xaifo\\lib\\site-packages\\deepsnap\\graph.py:2126: UserWarning: __floordiv__ is deprecated, and its behavior will change in a future version of pytorch. It currently rounds toward 0 (like the 'trunc' function NOT 'floor'). This results in incorrect rounding for negative values. To keep the current behavior, use torch.div(a, b, rounding_mode='trunc'), or for actual floor division, use torch.div(a, b, rounding_mode='floor').\n",
      "  row = perm // num_nodes\n"
     ]
    },
    {
     "name": "stdout",
     "output_type": "stream",
     "text": [
      "Input dimension (embedding dimension): 64 \n",
      " Number of edge classes (link or no link): 2\n"
     ]
    }
   ],
   "source": [
    "dataset = GraphDataset(\n",
    "    embedded_node_G,\n",
    "    task='link_pred',\n",
    "    edge_train_mode='all'\n",
    ")\n",
    "\n",
    "datasets = {}\n",
    "datasets['train'], datasets['val'], datasets['test'] = dataset.split(\n",
    "    transductive=True, split_ratio=[0.8, 0.1, 0.1]\n",
    ")\n",
    "\n",
    "input_dim = datasets['train'].num_node_features\n",
    "num_classes = datasets['train'].num_edge_labels\n",
    "\n",
    "print(f'Input dimension (embedding dimension): {input_dim} \\n Number of edge classes (link or no link): {num_classes}')   "
   ]
  },
  {
   "attachments": {},
   "cell_type": "markdown",
   "metadata": {},
   "source": [
    "Dataloaders allow to feed data into the model by batch."
   ]
  },
  {
   "cell_type": "code",
   "execution_count": 490,
   "metadata": {},
   "outputs": [],
   "source": [
    "dataloaders = {split: DataLoader(ds, collate_fn=Batch.collate([]), batch_size=1, shuffle=(split=='train')) for split, ds in datasets.items()}"
   ]
  },
  {
   "attachments": {},
   "cell_type": "markdown",
   "metadata": {},
   "source": [
    "## Train GNN"
   ]
  },
  {
   "attachments": {},
   "cell_type": "markdown",
   "metadata": {},
   "source": [
    "### Predefined Arguments"
   ]
  },
  {
   "attachments": {},
   "cell_type": "markdown",
   "metadata": {},
   "source": [
    "Train GNN with predefined arguments"
   ]
  },
  {
   "cell_type": "code",
   "execution_count": 491,
   "metadata": {},
   "outputs": [
    {
     "name": "stdout",
     "output_type": "stream",
     "text": [
      "{'device': device(type='cpu'), 'hidden_dim': 256, 'output_dim': 64, 'epochs': 100, 'lr': 0.013477408995651594, 'aggr': 'mean', 'layers': 2, 'dropout': 0.2}\n"
     ]
    }
   ],
   "source": [
    "if dataset_nr == 1:\n",
    "    args = {\n",
    "        \"device\" : torch_device,   # insert torch_device, or 'cpu' \n",
    "        \"hidden_dim\" : 64,\n",
    "        'output_dim': 128,\n",
    "        \"epochs\" : 150, \n",
    "        'lr': 0.03834732671672826, \n",
    "        'aggr': 'mean', \n",
    "        'layers': 2, \n",
    "        'dropout': 0\n",
    "    }\n",
    "else:\n",
    "    args = {\n",
    "        \"device\" : torch_device,   # insert torch_device, or 'cpu' \n",
    "        \"hidden_dim\" : 256,\n",
    "        'output_dim': 64,\n",
    "        \"epochs\" : 100, \n",
    "        'lr': 0.013477408995651594, \n",
    "        'aggr': 'mean', \n",
    "        'layers': 2, \n",
    "        'dropout': 0.2\n",
    "    }\n",
    "\n",
    "print(args)\n",
    "\n",
    "model = LinkPredModel(input_dim, args[\"hidden_dim\"], args['output_dim'], args['layers'], args['aggr'], args['dropout'], args[\"device\"]).to(args[\"device\"])\n",
    "optimizer = torch.optim.SGD(model.parameters(), lr=args['lr'], momentum=0.9, weight_decay=5e-4)"
   ]
  },
  {
   "cell_type": "code",
   "execution_count": 493,
   "metadata": {},
   "outputs": [
    {
     "name": "stdout",
     "output_type": "stream",
     "text": [
      "Start Train Function\n"
     ]
    },
    {
     "name": "stdout",
     "output_type": "stream",
     "text": [
      "Epoch: 001, Train: 0.9537, Val: 0.9399, Test: 0.9397, Loss: 2.23933\n"
     ]
    },
    {
     "name": "stderr",
     "output_type": "stream",
     "text": [
      "c:\\Users\\rosa-\\anaconda3\\envs\\xaifo\\lib\\site-packages\\deepsnap\\graph.py:2126: UserWarning: __floordiv__ is deprecated, and its behavior will change in a future version of pytorch. It currently rounds toward 0 (like the 'trunc' function NOT 'floor'). This results in incorrect rounding for negative values. To keep the current behavior, use torch.div(a, b, rounding_mode='trunc'), or for actual floor division, use torch.div(a, b, rounding_mode='floor').\n",
      "  row = perm // num_nodes\n"
     ]
    },
    {
     "name": "stdout",
     "output_type": "stream",
     "text": [
      "Epoch: 002, Train: 0.9513, Val: 0.9384, Test: 0.9388, Loss: 2.13876\n"
     ]
    },
    {
     "name": "stderr",
     "output_type": "stream",
     "text": [
      "c:\\Users\\rosa-\\anaconda3\\envs\\xaifo\\lib\\site-packages\\deepsnap\\graph.py:2126: UserWarning: __floordiv__ is deprecated, and its behavior will change in a future version of pytorch. It currently rounds toward 0 (like the 'trunc' function NOT 'floor'). This results in incorrect rounding for negative values. To keep the current behavior, use torch.div(a, b, rounding_mode='trunc'), or for actual floor division, use torch.div(a, b, rounding_mode='floor').\n",
      "  row = perm // num_nodes\n"
     ]
    },
    {
     "name": "stdout",
     "output_type": "stream",
     "text": [
      "Epoch: 003, Train: 0.9479, Val: 0.9341, Test: 0.9346, Loss: 2.03719\n"
     ]
    },
    {
     "name": "stderr",
     "output_type": "stream",
     "text": [
      "c:\\Users\\rosa-\\anaconda3\\envs\\xaifo\\lib\\site-packages\\deepsnap\\graph.py:2126: UserWarning: __floordiv__ is deprecated, and its behavior will change in a future version of pytorch. It currently rounds toward 0 (like the 'trunc' function NOT 'floor'). This results in incorrect rounding for negative values. To keep the current behavior, use torch.div(a, b, rounding_mode='trunc'), or for actual floor division, use torch.div(a, b, rounding_mode='floor').\n",
      "  row = perm // num_nodes\n"
     ]
    },
    {
     "name": "stdout",
     "output_type": "stream",
     "text": [
      "Epoch: 004, Train: 0.9454, Val: 0.9301, Test: 0.9306, Loss: 1.98919\n"
     ]
    },
    {
     "name": "stderr",
     "output_type": "stream",
     "text": [
      "c:\\Users\\rosa-\\anaconda3\\envs\\xaifo\\lib\\site-packages\\deepsnap\\graph.py:2126: UserWarning: __floordiv__ is deprecated, and its behavior will change in a future version of pytorch. It currently rounds toward 0 (like the 'trunc' function NOT 'floor'). This results in incorrect rounding for negative values. To keep the current behavior, use torch.div(a, b, rounding_mode='trunc'), or for actual floor division, use torch.div(a, b, rounding_mode='floor').\n",
      "  row = perm // num_nodes\n"
     ]
    },
    {
     "name": "stdout",
     "output_type": "stream",
     "text": [
      "Epoch: 005, Train: 0.9448, Val: 0.9288, Test: 0.9293, Loss: 1.93418\n"
     ]
    },
    {
     "name": "stderr",
     "output_type": "stream",
     "text": [
      "c:\\Users\\rosa-\\anaconda3\\envs\\xaifo\\lib\\site-packages\\deepsnap\\graph.py:2126: UserWarning: __floordiv__ is deprecated, and its behavior will change in a future version of pytorch. It currently rounds toward 0 (like the 'trunc' function NOT 'floor'). This results in incorrect rounding for negative values. To keep the current behavior, use torch.div(a, b, rounding_mode='trunc'), or for actual floor division, use torch.div(a, b, rounding_mode='floor').\n",
      "  row = perm // num_nodes\n"
     ]
    },
    {
     "name": "stdout",
     "output_type": "stream",
     "text": [
      "Epoch: 006, Train: 0.9457, Val: 0.9295, Test: 0.9301, Loss: 1.90617\n"
     ]
    },
    {
     "name": "stderr",
     "output_type": "stream",
     "text": [
      "c:\\Users\\rosa-\\anaconda3\\envs\\xaifo\\lib\\site-packages\\deepsnap\\graph.py:2126: UserWarning: __floordiv__ is deprecated, and its behavior will change in a future version of pytorch. It currently rounds toward 0 (like the 'trunc' function NOT 'floor'). This results in incorrect rounding for negative values. To keep the current behavior, use torch.div(a, b, rounding_mode='trunc'), or for actual floor division, use torch.div(a, b, rounding_mode='floor').\n",
      "  row = perm // num_nodes\n"
     ]
    },
    {
     "name": "stdout",
     "output_type": "stream",
     "text": [
      "Epoch: 007, Train: 0.9461, Val: 0.9308, Test: 0.9315, Loss: 1.84822\n"
     ]
    },
    {
     "name": "stderr",
     "output_type": "stream",
     "text": [
      "c:\\Users\\rosa-\\anaconda3\\envs\\xaifo\\lib\\site-packages\\deepsnap\\graph.py:2126: UserWarning: __floordiv__ is deprecated, and its behavior will change in a future version of pytorch. It currently rounds toward 0 (like the 'trunc' function NOT 'floor'). This results in incorrect rounding for negative values. To keep the current behavior, use torch.div(a, b, rounding_mode='trunc'), or for actual floor division, use torch.div(a, b, rounding_mode='floor').\n",
      "  row = perm // num_nodes\n"
     ]
    },
    {
     "name": "stdout",
     "output_type": "stream",
     "text": [
      "Epoch: 008, Train: 0.9469, Val: 0.9312, Test: 0.9319, Loss: 1.82890\n"
     ]
    },
    {
     "name": "stderr",
     "output_type": "stream",
     "text": [
      "c:\\Users\\rosa-\\anaconda3\\envs\\xaifo\\lib\\site-packages\\deepsnap\\graph.py:2126: UserWarning: __floordiv__ is deprecated, and its behavior will change in a future version of pytorch. It currently rounds toward 0 (like the 'trunc' function NOT 'floor'). This results in incorrect rounding for negative values. To keep the current behavior, use torch.div(a, b, rounding_mode='trunc'), or for actual floor division, use torch.div(a, b, rounding_mode='floor').\n",
      "  row = perm // num_nodes\n"
     ]
    },
    {
     "name": "stdout",
     "output_type": "stream",
     "text": [
      "Epoch: 009, Train: 0.9461, Val: 0.9304, Test: 0.9309, Loss: 1.79257\n"
     ]
    },
    {
     "name": "stderr",
     "output_type": "stream",
     "text": [
      "c:\\Users\\rosa-\\anaconda3\\envs\\xaifo\\lib\\site-packages\\deepsnap\\graph.py:2126: UserWarning: __floordiv__ is deprecated, and its behavior will change in a future version of pytorch. It currently rounds toward 0 (like the 'trunc' function NOT 'floor'). This results in incorrect rounding for negative values. To keep the current behavior, use torch.div(a, b, rounding_mode='trunc'), or for actual floor division, use torch.div(a, b, rounding_mode='floor').\n",
      "  row = perm // num_nodes\n"
     ]
    },
    {
     "name": "stdout",
     "output_type": "stream",
     "text": [
      "Epoch: 010, Train: 0.9437, Val: 0.9288, Test: 0.9290, Loss: 1.76228\n"
     ]
    },
    {
     "name": "stderr",
     "output_type": "stream",
     "text": [
      "c:\\Users\\rosa-\\anaconda3\\envs\\xaifo\\lib\\site-packages\\deepsnap\\graph.py:2126: UserWarning: __floordiv__ is deprecated, and its behavior will change in a future version of pytorch. It currently rounds toward 0 (like the 'trunc' function NOT 'floor'). This results in incorrect rounding for negative values. To keep the current behavior, use torch.div(a, b, rounding_mode='trunc'), or for actual floor division, use torch.div(a, b, rounding_mode='floor').\n",
      "  row = perm // num_nodes\n"
     ]
    },
    {
     "name": "stdout",
     "output_type": "stream",
     "text": [
      "Epoch: 011, Train: 0.9427, Val: 0.9273, Test: 0.9270, Loss: 1.73164\n"
     ]
    },
    {
     "name": "stderr",
     "output_type": "stream",
     "text": [
      "c:\\Users\\rosa-\\anaconda3\\envs\\xaifo\\lib\\site-packages\\deepsnap\\graph.py:2126: UserWarning: __floordiv__ is deprecated, and its behavior will change in a future version of pytorch. It currently rounds toward 0 (like the 'trunc' function NOT 'floor'). This results in incorrect rounding for negative values. To keep the current behavior, use torch.div(a, b, rounding_mode='trunc'), or for actual floor division, use torch.div(a, b, rounding_mode='floor').\n",
      "  row = perm // num_nodes\n"
     ]
    },
    {
     "name": "stdout",
     "output_type": "stream",
     "text": [
      "Epoch: 012, Train: 0.9414, Val: 0.9266, Test: 0.9259, Loss: 1.67365\n"
     ]
    },
    {
     "name": "stderr",
     "output_type": "stream",
     "text": [
      "c:\\Users\\rosa-\\anaconda3\\envs\\xaifo\\lib\\site-packages\\deepsnap\\graph.py:2126: UserWarning: __floordiv__ is deprecated, and its behavior will change in a future version of pytorch. It currently rounds toward 0 (like the 'trunc' function NOT 'floor'). This results in incorrect rounding for negative values. To keep the current behavior, use torch.div(a, b, rounding_mode='trunc'), or for actual floor division, use torch.div(a, b, rounding_mode='floor').\n",
      "  row = perm // num_nodes\n"
     ]
    },
    {
     "name": "stdout",
     "output_type": "stream",
     "text": [
      "Epoch: 013, Train: 0.9423, Val: 0.9275, Test: 0.9265, Loss: 1.62744\n"
     ]
    },
    {
     "name": "stderr",
     "output_type": "stream",
     "text": [
      "c:\\Users\\rosa-\\anaconda3\\envs\\xaifo\\lib\\site-packages\\deepsnap\\graph.py:2126: UserWarning: __floordiv__ is deprecated, and its behavior will change in a future version of pytorch. It currently rounds toward 0 (like the 'trunc' function NOT 'floor'). This results in incorrect rounding for negative values. To keep the current behavior, use torch.div(a, b, rounding_mode='trunc'), or for actual floor division, use torch.div(a, b, rounding_mode='floor').\n",
      "  row = perm // num_nodes\n"
     ]
    },
    {
     "name": "stdout",
     "output_type": "stream",
     "text": [
      "Epoch: 014, Train: 0.9445, Val: 0.9301, Test: 0.9288, Loss: 1.64339\n"
     ]
    },
    {
     "name": "stderr",
     "output_type": "stream",
     "text": [
      "c:\\Users\\rosa-\\anaconda3\\envs\\xaifo\\lib\\site-packages\\deepsnap\\graph.py:2126: UserWarning: __floordiv__ is deprecated, and its behavior will change in a future version of pytorch. It currently rounds toward 0 (like the 'trunc' function NOT 'floor'). This results in incorrect rounding for negative values. To keep the current behavior, use torch.div(a, b, rounding_mode='trunc'), or for actual floor division, use torch.div(a, b, rounding_mode='floor').\n",
      "  row = perm // num_nodes\n"
     ]
    },
    {
     "name": "stdout",
     "output_type": "stream",
     "text": [
      "Epoch: 015, Train: 0.9475, Val: 0.9338, Test: 0.9323, Loss: 1.59471\n"
     ]
    },
    {
     "name": "stderr",
     "output_type": "stream",
     "text": [
      "c:\\Users\\rosa-\\anaconda3\\envs\\xaifo\\lib\\site-packages\\deepsnap\\graph.py:2126: UserWarning: __floordiv__ is deprecated, and its behavior will change in a future version of pytorch. It currently rounds toward 0 (like the 'trunc' function NOT 'floor'). This results in incorrect rounding for negative values. To keep the current behavior, use torch.div(a, b, rounding_mode='trunc'), or for actual floor division, use torch.div(a, b, rounding_mode='floor').\n",
      "  row = perm // num_nodes\n"
     ]
    },
    {
     "name": "stdout",
     "output_type": "stream",
     "text": [
      "Epoch: 016, Train: 0.9514, Val: 0.9379, Test: 0.9363, Loss: 1.56754\n"
     ]
    },
    {
     "name": "stderr",
     "output_type": "stream",
     "text": [
      "c:\\Users\\rosa-\\anaconda3\\envs\\xaifo\\lib\\site-packages\\deepsnap\\graph.py:2126: UserWarning: __floordiv__ is deprecated, and its behavior will change in a future version of pytorch. It currently rounds toward 0 (like the 'trunc' function NOT 'floor'). This results in incorrect rounding for negative values. To keep the current behavior, use torch.div(a, b, rounding_mode='trunc'), or for actual floor division, use torch.div(a, b, rounding_mode='floor').\n",
      "  row = perm // num_nodes\n"
     ]
    },
    {
     "name": "stdout",
     "output_type": "stream",
     "text": [
      "Epoch: 017, Train: 0.9546, Val: 0.9416, Test: 0.9397, Loss: 1.54243\n"
     ]
    },
    {
     "name": "stderr",
     "output_type": "stream",
     "text": [
      "c:\\Users\\rosa-\\anaconda3\\envs\\xaifo\\lib\\site-packages\\deepsnap\\graph.py:2126: UserWarning: __floordiv__ is deprecated, and its behavior will change in a future version of pytorch. It currently rounds toward 0 (like the 'trunc' function NOT 'floor'). This results in incorrect rounding for negative values. To keep the current behavior, use torch.div(a, b, rounding_mode='trunc'), or for actual floor division, use torch.div(a, b, rounding_mode='floor').\n",
      "  row = perm // num_nodes\n"
     ]
    },
    {
     "name": "stdout",
     "output_type": "stream",
     "text": [
      "Epoch: 018, Train: 0.9575, Val: 0.9446, Test: 0.9426, Loss: 1.52135\n"
     ]
    },
    {
     "name": "stderr",
     "output_type": "stream",
     "text": [
      "c:\\Users\\rosa-\\anaconda3\\envs\\xaifo\\lib\\site-packages\\deepsnap\\graph.py:2126: UserWarning: __floordiv__ is deprecated, and its behavior will change in a future version of pytorch. It currently rounds toward 0 (like the 'trunc' function NOT 'floor'). This results in incorrect rounding for negative values. To keep the current behavior, use torch.div(a, b, rounding_mode='trunc'), or for actual floor division, use torch.div(a, b, rounding_mode='floor').\n",
      "  row = perm // num_nodes\n"
     ]
    },
    {
     "name": "stdout",
     "output_type": "stream",
     "text": [
      "Epoch: 019, Train: 0.9604, Val: 0.9472, Test: 0.9451, Loss: 1.48171\n"
     ]
    },
    {
     "name": "stderr",
     "output_type": "stream",
     "text": [
      "c:\\Users\\rosa-\\anaconda3\\envs\\xaifo\\lib\\site-packages\\deepsnap\\graph.py:2126: UserWarning: __floordiv__ is deprecated, and its behavior will change in a future version of pytorch. It currently rounds toward 0 (like the 'trunc' function NOT 'floor'). This results in incorrect rounding for negative values. To keep the current behavior, use torch.div(a, b, rounding_mode='trunc'), or for actual floor division, use torch.div(a, b, rounding_mode='floor').\n",
      "  row = perm // num_nodes\n"
     ]
    },
    {
     "name": "stdout",
     "output_type": "stream",
     "text": [
      "Epoch: 020, Train: 0.9620, Val: 0.9493, Test: 0.9470, Loss: 1.45941\n"
     ]
    },
    {
     "name": "stderr",
     "output_type": "stream",
     "text": [
      "c:\\Users\\rosa-\\anaconda3\\envs\\xaifo\\lib\\site-packages\\deepsnap\\graph.py:2126: UserWarning: __floordiv__ is deprecated, and its behavior will change in a future version of pytorch. It currently rounds toward 0 (like the 'trunc' function NOT 'floor'). This results in incorrect rounding for negative values. To keep the current behavior, use torch.div(a, b, rounding_mode='trunc'), or for actual floor division, use torch.div(a, b, rounding_mode='floor').\n",
      "  row = perm // num_nodes\n"
     ]
    },
    {
     "name": "stdout",
     "output_type": "stream",
     "text": [
      "Epoch: 021, Train: 0.9634, Val: 0.9511, Test: 0.9488, Loss: 1.40908\n"
     ]
    },
    {
     "name": "stderr",
     "output_type": "stream",
     "text": [
      "c:\\Users\\rosa-\\anaconda3\\envs\\xaifo\\lib\\site-packages\\deepsnap\\graph.py:2126: UserWarning: __floordiv__ is deprecated, and its behavior will change in a future version of pytorch. It currently rounds toward 0 (like the 'trunc' function NOT 'floor'). This results in incorrect rounding for negative values. To keep the current behavior, use torch.div(a, b, rounding_mode='trunc'), or for actual floor division, use torch.div(a, b, rounding_mode='floor').\n",
      "  row = perm // num_nodes\n"
     ]
    },
    {
     "name": "stdout",
     "output_type": "stream",
     "text": [
      "Epoch: 022, Train: 0.9652, Val: 0.9530, Test: 0.9506, Loss: 1.39867\n"
     ]
    },
    {
     "name": "stderr",
     "output_type": "stream",
     "text": [
      "c:\\Users\\rosa-\\anaconda3\\envs\\xaifo\\lib\\site-packages\\deepsnap\\graph.py:2126: UserWarning: __floordiv__ is deprecated, and its behavior will change in a future version of pytorch. It currently rounds toward 0 (like the 'trunc' function NOT 'floor'). This results in incorrect rounding for negative values. To keep the current behavior, use torch.div(a, b, rounding_mode='trunc'), or for actual floor division, use torch.div(a, b, rounding_mode='floor').\n",
      "  row = perm // num_nodes\n"
     ]
    },
    {
     "name": "stdout",
     "output_type": "stream",
     "text": [
      "Epoch: 023, Train: 0.9670, Val: 0.9550, Test: 0.9527, Loss: 1.34982\n"
     ]
    },
    {
     "name": "stderr",
     "output_type": "stream",
     "text": [
      "c:\\Users\\rosa-\\anaconda3\\envs\\xaifo\\lib\\site-packages\\deepsnap\\graph.py:2126: UserWarning: __floordiv__ is deprecated, and its behavior will change in a future version of pytorch. It currently rounds toward 0 (like the 'trunc' function NOT 'floor'). This results in incorrect rounding for negative values. To keep the current behavior, use torch.div(a, b, rounding_mode='trunc'), or for actual floor division, use torch.div(a, b, rounding_mode='floor').\n",
      "  row = perm // num_nodes\n"
     ]
    },
    {
     "name": "stdout",
     "output_type": "stream",
     "text": [
      "Epoch: 024, Train: 0.9690, Val: 0.9572, Test: 0.9549, Loss: 1.35005\n"
     ]
    },
    {
     "name": "stderr",
     "output_type": "stream",
     "text": [
      "c:\\Users\\rosa-\\anaconda3\\envs\\xaifo\\lib\\site-packages\\deepsnap\\graph.py:2126: UserWarning: __floordiv__ is deprecated, and its behavior will change in a future version of pytorch. It currently rounds toward 0 (like the 'trunc' function NOT 'floor'). This results in incorrect rounding for negative values. To keep the current behavior, use torch.div(a, b, rounding_mode='trunc'), or for actual floor division, use torch.div(a, b, rounding_mode='floor').\n",
      "  row = perm // num_nodes\n"
     ]
    },
    {
     "name": "stdout",
     "output_type": "stream",
     "text": [
      "Epoch: 025, Train: 0.9708, Val: 0.9592, Test: 0.9571, Loss: 1.32416\n"
     ]
    },
    {
     "name": "stderr",
     "output_type": "stream",
     "text": [
      "c:\\Users\\rosa-\\anaconda3\\envs\\xaifo\\lib\\site-packages\\deepsnap\\graph.py:2126: UserWarning: __floordiv__ is deprecated, and its behavior will change in a future version of pytorch. It currently rounds toward 0 (like the 'trunc' function NOT 'floor'). This results in incorrect rounding for negative values. To keep the current behavior, use torch.div(a, b, rounding_mode='trunc'), or for actual floor division, use torch.div(a, b, rounding_mode='floor').\n",
      "  row = perm // num_nodes\n"
     ]
    },
    {
     "name": "stdout",
     "output_type": "stream",
     "text": [
      "Epoch: 026, Train: 0.9731, Val: 0.9612, Test: 0.9592, Loss: 1.31327\n"
     ]
    },
    {
     "name": "stderr",
     "output_type": "stream",
     "text": [
      "c:\\Users\\rosa-\\anaconda3\\envs\\xaifo\\lib\\site-packages\\deepsnap\\graph.py:2126: UserWarning: __floordiv__ is deprecated, and its behavior will change in a future version of pytorch. It currently rounds toward 0 (like the 'trunc' function NOT 'floor'). This results in incorrect rounding for negative values. To keep the current behavior, use torch.div(a, b, rounding_mode='trunc'), or for actual floor division, use torch.div(a, b, rounding_mode='floor').\n",
      "  row = perm // num_nodes\n"
     ]
    },
    {
     "name": "stdout",
     "output_type": "stream",
     "text": [
      "Epoch: 027, Train: 0.9742, Val: 0.9629, Test: 0.9610, Loss: 1.29058\n"
     ]
    },
    {
     "name": "stderr",
     "output_type": "stream",
     "text": [
      "c:\\Users\\rosa-\\anaconda3\\envs\\xaifo\\lib\\site-packages\\deepsnap\\graph.py:2126: UserWarning: __floordiv__ is deprecated, and its behavior will change in a future version of pytorch. It currently rounds toward 0 (like the 'trunc' function NOT 'floor'). This results in incorrect rounding for negative values. To keep the current behavior, use torch.div(a, b, rounding_mode='trunc'), or for actual floor division, use torch.div(a, b, rounding_mode='floor').\n",
      "  row = perm // num_nodes\n"
     ]
    },
    {
     "name": "stdout",
     "output_type": "stream",
     "text": [
      "Epoch: 028, Train: 0.9759, Val: 0.9643, Test: 0.9626, Loss: 1.25160\n"
     ]
    },
    {
     "name": "stderr",
     "output_type": "stream",
     "text": [
      "c:\\Users\\rosa-\\anaconda3\\envs\\xaifo\\lib\\site-packages\\deepsnap\\graph.py:2126: UserWarning: __floordiv__ is deprecated, and its behavior will change in a future version of pytorch. It currently rounds toward 0 (like the 'trunc' function NOT 'floor'). This results in incorrect rounding for negative values. To keep the current behavior, use torch.div(a, b, rounding_mode='trunc'), or for actual floor division, use torch.div(a, b, rounding_mode='floor').\n",
      "  row = perm // num_nodes\n"
     ]
    },
    {
     "name": "stdout",
     "output_type": "stream",
     "text": [
      "Epoch: 029, Train: 0.9762, Val: 0.9655, Test: 0.9639, Loss: 1.25620\n"
     ]
    },
    {
     "name": "stderr",
     "output_type": "stream",
     "text": [
      "c:\\Users\\rosa-\\anaconda3\\envs\\xaifo\\lib\\site-packages\\deepsnap\\graph.py:2126: UserWarning: __floordiv__ is deprecated, and its behavior will change in a future version of pytorch. It currently rounds toward 0 (like the 'trunc' function NOT 'floor'). This results in incorrect rounding for negative values. To keep the current behavior, use torch.div(a, b, rounding_mode='trunc'), or for actual floor division, use torch.div(a, b, rounding_mode='floor').\n",
      "  row = perm // num_nodes\n"
     ]
    },
    {
     "name": "stdout",
     "output_type": "stream",
     "text": [
      "Epoch: 030, Train: 0.9769, Val: 0.9665, Test: 0.9650, Loss: 1.22791\n"
     ]
    },
    {
     "name": "stderr",
     "output_type": "stream",
     "text": [
      "c:\\Users\\rosa-\\anaconda3\\envs\\xaifo\\lib\\site-packages\\deepsnap\\graph.py:2126: UserWarning: __floordiv__ is deprecated, and its behavior will change in a future version of pytorch. It currently rounds toward 0 (like the 'trunc' function NOT 'floor'). This results in incorrect rounding for negative values. To keep the current behavior, use torch.div(a, b, rounding_mode='trunc'), or for actual floor division, use torch.div(a, b, rounding_mode='floor').\n",
      "  row = perm // num_nodes\n"
     ]
    },
    {
     "name": "stdout",
     "output_type": "stream",
     "text": [
      "Epoch: 031, Train: 0.9780, Val: 0.9673, Test: 0.9659, Loss: 1.20977\n"
     ]
    },
    {
     "name": "stderr",
     "output_type": "stream",
     "text": [
      "c:\\Users\\rosa-\\anaconda3\\envs\\xaifo\\lib\\site-packages\\deepsnap\\graph.py:2126: UserWarning: __floordiv__ is deprecated, and its behavior will change in a future version of pytorch. It currently rounds toward 0 (like the 'trunc' function NOT 'floor'). This results in incorrect rounding for negative values. To keep the current behavior, use torch.div(a, b, rounding_mode='trunc'), or for actual floor division, use torch.div(a, b, rounding_mode='floor').\n",
      "  row = perm // num_nodes\n"
     ]
    },
    {
     "name": "stdout",
     "output_type": "stream",
     "text": [
      "Epoch: 032, Train: 0.9784, Val: 0.9680, Test: 0.9666, Loss: 1.18147\n"
     ]
    },
    {
     "name": "stderr",
     "output_type": "stream",
     "text": [
      "c:\\Users\\rosa-\\anaconda3\\envs\\xaifo\\lib\\site-packages\\deepsnap\\graph.py:2126: UserWarning: __floordiv__ is deprecated, and its behavior will change in a future version of pytorch. It currently rounds toward 0 (like the 'trunc' function NOT 'floor'). This results in incorrect rounding for negative values. To keep the current behavior, use torch.div(a, b, rounding_mode='trunc'), or for actual floor division, use torch.div(a, b, rounding_mode='floor').\n",
      "  row = perm // num_nodes\n"
     ]
    },
    {
     "name": "stdout",
     "output_type": "stream",
     "text": [
      "Epoch: 033, Train: 0.9790, Val: 0.9687, Test: 0.9673, Loss: 1.17644\n"
     ]
    },
    {
     "name": "stderr",
     "output_type": "stream",
     "text": [
      "c:\\Users\\rosa-\\anaconda3\\envs\\xaifo\\lib\\site-packages\\deepsnap\\graph.py:2126: UserWarning: __floordiv__ is deprecated, and its behavior will change in a future version of pytorch. It currently rounds toward 0 (like the 'trunc' function NOT 'floor'). This results in incorrect rounding for negative values. To keep the current behavior, use torch.div(a, b, rounding_mode='trunc'), or for actual floor division, use torch.div(a, b, rounding_mode='floor').\n",
      "  row = perm // num_nodes\n"
     ]
    },
    {
     "name": "stdout",
     "output_type": "stream",
     "text": [
      "Epoch: 034, Train: 0.9794, Val: 0.9693, Test: 0.9679, Loss: 1.14924\n"
     ]
    },
    {
     "name": "stderr",
     "output_type": "stream",
     "text": [
      "c:\\Users\\rosa-\\anaconda3\\envs\\xaifo\\lib\\site-packages\\deepsnap\\graph.py:2126: UserWarning: __floordiv__ is deprecated, and its behavior will change in a future version of pytorch. It currently rounds toward 0 (like the 'trunc' function NOT 'floor'). This results in incorrect rounding for negative values. To keep the current behavior, use torch.div(a, b, rounding_mode='trunc'), or for actual floor division, use torch.div(a, b, rounding_mode='floor').\n",
      "  row = perm // num_nodes\n"
     ]
    },
    {
     "name": "stdout",
     "output_type": "stream",
     "text": [
      "Epoch: 035, Train: 0.9801, Val: 0.9698, Test: 0.9684, Loss: 1.13104\n"
     ]
    },
    {
     "name": "stderr",
     "output_type": "stream",
     "text": [
      "c:\\Users\\rosa-\\anaconda3\\envs\\xaifo\\lib\\site-packages\\deepsnap\\graph.py:2126: UserWarning: __floordiv__ is deprecated, and its behavior will change in a future version of pytorch. It currently rounds toward 0 (like the 'trunc' function NOT 'floor'). This results in incorrect rounding for negative values. To keep the current behavior, use torch.div(a, b, rounding_mode='trunc'), or for actual floor division, use torch.div(a, b, rounding_mode='floor').\n",
      "  row = perm // num_nodes\n"
     ]
    },
    {
     "name": "stdout",
     "output_type": "stream",
     "text": [
      "Epoch: 036, Train: 0.9804, Val: 0.9702, Test: 0.9688, Loss: 1.12083\n"
     ]
    },
    {
     "name": "stderr",
     "output_type": "stream",
     "text": [
      "c:\\Users\\rosa-\\anaconda3\\envs\\xaifo\\lib\\site-packages\\deepsnap\\graph.py:2126: UserWarning: __floordiv__ is deprecated, and its behavior will change in a future version of pytorch. It currently rounds toward 0 (like the 'trunc' function NOT 'floor'). This results in incorrect rounding for negative values. To keep the current behavior, use torch.div(a, b, rounding_mode='trunc'), or for actual floor division, use torch.div(a, b, rounding_mode='floor').\n",
      "  row = perm // num_nodes\n"
     ]
    },
    {
     "name": "stdout",
     "output_type": "stream",
     "text": [
      "Epoch: 037, Train: 0.9803, Val: 0.9706, Test: 0.9693, Loss: 1.09043\n"
     ]
    },
    {
     "name": "stderr",
     "output_type": "stream",
     "text": [
      "c:\\Users\\rosa-\\anaconda3\\envs\\xaifo\\lib\\site-packages\\deepsnap\\graph.py:2126: UserWarning: __floordiv__ is deprecated, and its behavior will change in a future version of pytorch. It currently rounds toward 0 (like the 'trunc' function NOT 'floor'). This results in incorrect rounding for negative values. To keep the current behavior, use torch.div(a, b, rounding_mode='trunc'), or for actual floor division, use torch.div(a, b, rounding_mode='floor').\n",
      "  row = perm // num_nodes\n"
     ]
    },
    {
     "name": "stdout",
     "output_type": "stream",
     "text": [
      "Epoch: 038, Train: 0.9802, Val: 0.9710, Test: 0.9697, Loss: 1.08351\n"
     ]
    },
    {
     "name": "stderr",
     "output_type": "stream",
     "text": [
      "c:\\Users\\rosa-\\anaconda3\\envs\\xaifo\\lib\\site-packages\\deepsnap\\graph.py:2126: UserWarning: __floordiv__ is deprecated, and its behavior will change in a future version of pytorch. It currently rounds toward 0 (like the 'trunc' function NOT 'floor'). This results in incorrect rounding for negative values. To keep the current behavior, use torch.div(a, b, rounding_mode='trunc'), or for actual floor division, use torch.div(a, b, rounding_mode='floor').\n",
      "  row = perm // num_nodes\n"
     ]
    },
    {
     "name": "stdout",
     "output_type": "stream",
     "text": [
      "Epoch: 039, Train: 0.9808, Val: 0.9713, Test: 0.9700, Loss: 1.06704\n"
     ]
    },
    {
     "name": "stderr",
     "output_type": "stream",
     "text": [
      "c:\\Users\\rosa-\\anaconda3\\envs\\xaifo\\lib\\site-packages\\deepsnap\\graph.py:2126: UserWarning: __floordiv__ is deprecated, and its behavior will change in a future version of pytorch. It currently rounds toward 0 (like the 'trunc' function NOT 'floor'). This results in incorrect rounding for negative values. To keep the current behavior, use torch.div(a, b, rounding_mode='trunc'), or for actual floor division, use torch.div(a, b, rounding_mode='floor').\n",
      "  row = perm // num_nodes\n"
     ]
    },
    {
     "name": "stdout",
     "output_type": "stream",
     "text": [
      "Epoch: 040, Train: 0.9807, Val: 0.9715, Test: 0.9703, Loss: 1.04431\n"
     ]
    },
    {
     "name": "stderr",
     "output_type": "stream",
     "text": [
      "c:\\Users\\rosa-\\anaconda3\\envs\\xaifo\\lib\\site-packages\\deepsnap\\graph.py:2126: UserWarning: __floordiv__ is deprecated, and its behavior will change in a future version of pytorch. It currently rounds toward 0 (like the 'trunc' function NOT 'floor'). This results in incorrect rounding for negative values. To keep the current behavior, use torch.div(a, b, rounding_mode='trunc'), or for actual floor division, use torch.div(a, b, rounding_mode='floor').\n",
      "  row = perm // num_nodes\n"
     ]
    },
    {
     "name": "stdout",
     "output_type": "stream",
     "text": [
      "Epoch: 041, Train: 0.9807, Val: 0.9718, Test: 0.9705, Loss: 1.03403\n"
     ]
    },
    {
     "name": "stderr",
     "output_type": "stream",
     "text": [
      "c:\\Users\\rosa-\\anaconda3\\envs\\xaifo\\lib\\site-packages\\deepsnap\\graph.py:2126: UserWarning: __floordiv__ is deprecated, and its behavior will change in a future version of pytorch. It currently rounds toward 0 (like the 'trunc' function NOT 'floor'). This results in incorrect rounding for negative values. To keep the current behavior, use torch.div(a, b, rounding_mode='trunc'), or for actual floor division, use torch.div(a, b, rounding_mode='floor').\n",
      "  row = perm // num_nodes\n"
     ]
    },
    {
     "name": "stdout",
     "output_type": "stream",
     "text": [
      "Epoch: 042, Train: 0.9806, Val: 0.9719, Test: 0.9706, Loss: 1.01692\n"
     ]
    },
    {
     "name": "stderr",
     "output_type": "stream",
     "text": [
      "c:\\Users\\rosa-\\anaconda3\\envs\\xaifo\\lib\\site-packages\\deepsnap\\graph.py:2126: UserWarning: __floordiv__ is deprecated, and its behavior will change in a future version of pytorch. It currently rounds toward 0 (like the 'trunc' function NOT 'floor'). This results in incorrect rounding for negative values. To keep the current behavior, use torch.div(a, b, rounding_mode='trunc'), or for actual floor division, use torch.div(a, b, rounding_mode='floor').\n",
      "  row = perm // num_nodes\n"
     ]
    },
    {
     "name": "stdout",
     "output_type": "stream",
     "text": [
      "Epoch: 043, Train: 0.9808, Val: 0.9720, Test: 0.9707, Loss: 0.99739\n"
     ]
    },
    {
     "name": "stderr",
     "output_type": "stream",
     "text": [
      "c:\\Users\\rosa-\\anaconda3\\envs\\xaifo\\lib\\site-packages\\deepsnap\\graph.py:2126: UserWarning: __floordiv__ is deprecated, and its behavior will change in a future version of pytorch. It currently rounds toward 0 (like the 'trunc' function NOT 'floor'). This results in incorrect rounding for negative values. To keep the current behavior, use torch.div(a, b, rounding_mode='trunc'), or for actual floor division, use torch.div(a, b, rounding_mode='floor').\n",
      "  row = perm // num_nodes\n"
     ]
    },
    {
     "name": "stdout",
     "output_type": "stream",
     "text": [
      "Epoch: 044, Train: 0.9808, Val: 0.9721, Test: 0.9708, Loss: 0.99812\n"
     ]
    },
    {
     "name": "stderr",
     "output_type": "stream",
     "text": [
      "c:\\Users\\rosa-\\anaconda3\\envs\\xaifo\\lib\\site-packages\\deepsnap\\graph.py:2126: UserWarning: __floordiv__ is deprecated, and its behavior will change in a future version of pytorch. It currently rounds toward 0 (like the 'trunc' function NOT 'floor'). This results in incorrect rounding for negative values. To keep the current behavior, use torch.div(a, b, rounding_mode='trunc'), or for actual floor division, use torch.div(a, b, rounding_mode='floor').\n",
      "  row = perm // num_nodes\n"
     ]
    },
    {
     "name": "stdout",
     "output_type": "stream",
     "text": [
      "Epoch: 045, Train: 0.9807, Val: 0.9722, Test: 0.9710, Loss: 0.98026\n"
     ]
    },
    {
     "name": "stderr",
     "output_type": "stream",
     "text": [
      "c:\\Users\\rosa-\\anaconda3\\envs\\xaifo\\lib\\site-packages\\deepsnap\\graph.py:2126: UserWarning: __floordiv__ is deprecated, and its behavior will change in a future version of pytorch. It currently rounds toward 0 (like the 'trunc' function NOT 'floor'). This results in incorrect rounding for negative values. To keep the current behavior, use torch.div(a, b, rounding_mode='trunc'), or for actual floor division, use torch.div(a, b, rounding_mode='floor').\n",
      "  row = perm // num_nodes\n"
     ]
    },
    {
     "name": "stdout",
     "output_type": "stream",
     "text": [
      "Epoch: 046, Train: 0.9810, Val: 0.9723, Test: 0.9711, Loss: 0.96550\n"
     ]
    },
    {
     "name": "stderr",
     "output_type": "stream",
     "text": [
      "c:\\Users\\rosa-\\anaconda3\\envs\\xaifo\\lib\\site-packages\\deepsnap\\graph.py:2126: UserWarning: __floordiv__ is deprecated, and its behavior will change in a future version of pytorch. It currently rounds toward 0 (like the 'trunc' function NOT 'floor'). This results in incorrect rounding for negative values. To keep the current behavior, use torch.div(a, b, rounding_mode='trunc'), or for actual floor division, use torch.div(a, b, rounding_mode='floor').\n",
      "  row = perm // num_nodes\n"
     ]
    },
    {
     "name": "stdout",
     "output_type": "stream",
     "text": [
      "Epoch: 047, Train: 0.9804, Val: 0.9724, Test: 0.9712, Loss: 0.95099\n"
     ]
    },
    {
     "name": "stderr",
     "output_type": "stream",
     "text": [
      "c:\\Users\\rosa-\\anaconda3\\envs\\xaifo\\lib\\site-packages\\deepsnap\\graph.py:2126: UserWarning: __floordiv__ is deprecated, and its behavior will change in a future version of pytorch. It currently rounds toward 0 (like the 'trunc' function NOT 'floor'). This results in incorrect rounding for negative values. To keep the current behavior, use torch.div(a, b, rounding_mode='trunc'), or for actual floor division, use torch.div(a, b, rounding_mode='floor').\n",
      "  row = perm // num_nodes\n"
     ]
    },
    {
     "name": "stdout",
     "output_type": "stream",
     "text": [
      "Epoch: 048, Train: 0.9804, Val: 0.9724, Test: 0.9712, Loss: 0.93684\n"
     ]
    },
    {
     "name": "stderr",
     "output_type": "stream",
     "text": [
      "c:\\Users\\rosa-\\anaconda3\\envs\\xaifo\\lib\\site-packages\\deepsnap\\graph.py:2126: UserWarning: __floordiv__ is deprecated, and its behavior will change in a future version of pytorch. It currently rounds toward 0 (like the 'trunc' function NOT 'floor'). This results in incorrect rounding for negative values. To keep the current behavior, use torch.div(a, b, rounding_mode='trunc'), or for actual floor division, use torch.div(a, b, rounding_mode='floor').\n",
      "  row = perm // num_nodes\n"
     ]
    },
    {
     "name": "stdout",
     "output_type": "stream",
     "text": [
      "Epoch: 049, Train: 0.9808, Val: 0.9724, Test: 0.9713, Loss: 0.93359\n"
     ]
    },
    {
     "name": "stderr",
     "output_type": "stream",
     "text": [
      "c:\\Users\\rosa-\\anaconda3\\envs\\xaifo\\lib\\site-packages\\deepsnap\\graph.py:2126: UserWarning: __floordiv__ is deprecated, and its behavior will change in a future version of pytorch. It currently rounds toward 0 (like the 'trunc' function NOT 'floor'). This results in incorrect rounding for negative values. To keep the current behavior, use torch.div(a, b, rounding_mode='trunc'), or for actual floor division, use torch.div(a, b, rounding_mode='floor').\n",
      "  row = perm // num_nodes\n"
     ]
    },
    {
     "name": "stdout",
     "output_type": "stream",
     "text": [
      "Epoch: 050, Train: 0.9801, Val: 0.9725, Test: 0.9713, Loss: 0.91995\n"
     ]
    },
    {
     "name": "stderr",
     "output_type": "stream",
     "text": [
      "c:\\Users\\rosa-\\anaconda3\\envs\\xaifo\\lib\\site-packages\\deepsnap\\graph.py:2126: UserWarning: __floordiv__ is deprecated, and its behavior will change in a future version of pytorch. It currently rounds toward 0 (like the 'trunc' function NOT 'floor'). This results in incorrect rounding for negative values. To keep the current behavior, use torch.div(a, b, rounding_mode='trunc'), or for actual floor division, use torch.div(a, b, rounding_mode='floor').\n",
      "  row = perm // num_nodes\n"
     ]
    },
    {
     "name": "stdout",
     "output_type": "stream",
     "text": [
      "Epoch: 051, Train: 0.9803, Val: 0.9725, Test: 0.9714, Loss: 0.90065\n"
     ]
    },
    {
     "name": "stderr",
     "output_type": "stream",
     "text": [
      "c:\\Users\\rosa-\\anaconda3\\envs\\xaifo\\lib\\site-packages\\deepsnap\\graph.py:2126: UserWarning: __floordiv__ is deprecated, and its behavior will change in a future version of pytorch. It currently rounds toward 0 (like the 'trunc' function NOT 'floor'). This results in incorrect rounding for negative values. To keep the current behavior, use torch.div(a, b, rounding_mode='trunc'), or for actual floor division, use torch.div(a, b, rounding_mode='floor').\n",
      "  row = perm // num_nodes\n"
     ]
    },
    {
     "name": "stdout",
     "output_type": "stream",
     "text": [
      "Epoch: 052, Train: 0.9802, Val: 0.9725, Test: 0.9714, Loss: 0.89663\n"
     ]
    },
    {
     "name": "stderr",
     "output_type": "stream",
     "text": [
      "c:\\Users\\rosa-\\anaconda3\\envs\\xaifo\\lib\\site-packages\\deepsnap\\graph.py:2126: UserWarning: __floordiv__ is deprecated, and its behavior will change in a future version of pytorch. It currently rounds toward 0 (like the 'trunc' function NOT 'floor'). This results in incorrect rounding for negative values. To keep the current behavior, use torch.div(a, b, rounding_mode='trunc'), or for actual floor division, use torch.div(a, b, rounding_mode='floor').\n",
      "  row = perm // num_nodes\n"
     ]
    },
    {
     "name": "stdout",
     "output_type": "stream",
     "text": [
      "Epoch: 053, Train: 0.9806, Val: 0.9726, Test: 0.9714, Loss: 0.87255\n"
     ]
    },
    {
     "name": "stderr",
     "output_type": "stream",
     "text": [
      "c:\\Users\\rosa-\\anaconda3\\envs\\xaifo\\lib\\site-packages\\deepsnap\\graph.py:2126: UserWarning: __floordiv__ is deprecated, and its behavior will change in a future version of pytorch. It currently rounds toward 0 (like the 'trunc' function NOT 'floor'). This results in incorrect rounding for negative values. To keep the current behavior, use torch.div(a, b, rounding_mode='trunc'), or for actual floor division, use torch.div(a, b, rounding_mode='floor').\n",
      "  row = perm // num_nodes\n"
     ]
    },
    {
     "name": "stdout",
     "output_type": "stream",
     "text": [
      "Epoch: 054, Train: 0.9802, Val: 0.9726, Test: 0.9714, Loss: 0.86654\n"
     ]
    },
    {
     "name": "stderr",
     "output_type": "stream",
     "text": [
      "c:\\Users\\rosa-\\anaconda3\\envs\\xaifo\\lib\\site-packages\\deepsnap\\graph.py:2126: UserWarning: __floordiv__ is deprecated, and its behavior will change in a future version of pytorch. It currently rounds toward 0 (like the 'trunc' function NOT 'floor'). This results in incorrect rounding for negative values. To keep the current behavior, use torch.div(a, b, rounding_mode='trunc'), or for actual floor division, use torch.div(a, b, rounding_mode='floor').\n",
      "  row = perm // num_nodes\n"
     ]
    },
    {
     "name": "stdout",
     "output_type": "stream",
     "text": [
      "Epoch: 055, Train: 0.9804, Val: 0.9726, Test: 0.9715, Loss: 0.85472\n"
     ]
    },
    {
     "name": "stderr",
     "output_type": "stream",
     "text": [
      "c:\\Users\\rosa-\\anaconda3\\envs\\xaifo\\lib\\site-packages\\deepsnap\\graph.py:2126: UserWarning: __floordiv__ is deprecated, and its behavior will change in a future version of pytorch. It currently rounds toward 0 (like the 'trunc' function NOT 'floor'). This results in incorrect rounding for negative values. To keep the current behavior, use torch.div(a, b, rounding_mode='trunc'), or for actual floor division, use torch.div(a, b, rounding_mode='floor').\n",
      "  row = perm // num_nodes\n"
     ]
    },
    {
     "name": "stdout",
     "output_type": "stream",
     "text": [
      "Epoch: 056, Train: 0.9798, Val: 0.9725, Test: 0.9714, Loss: 0.85070\n"
     ]
    },
    {
     "name": "stderr",
     "output_type": "stream",
     "text": [
      "c:\\Users\\rosa-\\anaconda3\\envs\\xaifo\\lib\\site-packages\\deepsnap\\graph.py:2126: UserWarning: __floordiv__ is deprecated, and its behavior will change in a future version of pytorch. It currently rounds toward 0 (like the 'trunc' function NOT 'floor'). This results in incorrect rounding for negative values. To keep the current behavior, use torch.div(a, b, rounding_mode='trunc'), or for actual floor division, use torch.div(a, b, rounding_mode='floor').\n",
      "  row = perm // num_nodes\n"
     ]
    },
    {
     "name": "stdout",
     "output_type": "stream",
     "text": [
      "Epoch: 057, Train: 0.9803, Val: 0.9725, Test: 0.9714, Loss: 0.83582\n"
     ]
    },
    {
     "name": "stderr",
     "output_type": "stream",
     "text": [
      "c:\\Users\\rosa-\\anaconda3\\envs\\xaifo\\lib\\site-packages\\deepsnap\\graph.py:2126: UserWarning: __floordiv__ is deprecated, and its behavior will change in a future version of pytorch. It currently rounds toward 0 (like the 'trunc' function NOT 'floor'). This results in incorrect rounding for negative values. To keep the current behavior, use torch.div(a, b, rounding_mode='trunc'), or for actual floor division, use torch.div(a, b, rounding_mode='floor').\n",
      "  row = perm // num_nodes\n"
     ]
    },
    {
     "name": "stdout",
     "output_type": "stream",
     "text": [
      "Epoch: 058, Train: 0.9796, Val: 0.9725, Test: 0.9714, Loss: 0.82736\n"
     ]
    },
    {
     "name": "stderr",
     "output_type": "stream",
     "text": [
      "c:\\Users\\rosa-\\anaconda3\\envs\\xaifo\\lib\\site-packages\\deepsnap\\graph.py:2126: UserWarning: __floordiv__ is deprecated, and its behavior will change in a future version of pytorch. It currently rounds toward 0 (like the 'trunc' function NOT 'floor'). This results in incorrect rounding for negative values. To keep the current behavior, use torch.div(a, b, rounding_mode='trunc'), or for actual floor division, use torch.div(a, b, rounding_mode='floor').\n",
      "  row = perm // num_nodes\n"
     ]
    },
    {
     "name": "stdout",
     "output_type": "stream",
     "text": [
      "Epoch: 059, Train: 0.9795, Val: 0.9725, Test: 0.9714, Loss: 0.82382\n"
     ]
    },
    {
     "name": "stderr",
     "output_type": "stream",
     "text": [
      "c:\\Users\\rosa-\\anaconda3\\envs\\xaifo\\lib\\site-packages\\deepsnap\\graph.py:2126: UserWarning: __floordiv__ is deprecated, and its behavior will change in a future version of pytorch. It currently rounds toward 0 (like the 'trunc' function NOT 'floor'). This results in incorrect rounding for negative values. To keep the current behavior, use torch.div(a, b, rounding_mode='trunc'), or for actual floor division, use torch.div(a, b, rounding_mode='floor').\n",
      "  row = perm // num_nodes\n"
     ]
    },
    {
     "name": "stdout",
     "output_type": "stream",
     "text": [
      "Epoch: 060, Train: 0.9804, Val: 0.9725, Test: 0.9714, Loss: 0.82002\n"
     ]
    },
    {
     "name": "stderr",
     "output_type": "stream",
     "text": [
      "c:\\Users\\rosa-\\anaconda3\\envs\\xaifo\\lib\\site-packages\\deepsnap\\graph.py:2126: UserWarning: __floordiv__ is deprecated, and its behavior will change in a future version of pytorch. It currently rounds toward 0 (like the 'trunc' function NOT 'floor'). This results in incorrect rounding for negative values. To keep the current behavior, use torch.div(a, b, rounding_mode='trunc'), or for actual floor division, use torch.div(a, b, rounding_mode='floor').\n",
      "  row = perm // num_nodes\n"
     ]
    },
    {
     "name": "stdout",
     "output_type": "stream",
     "text": [
      "Epoch: 061, Train: 0.9796, Val: 0.9724, Test: 0.9714, Loss: 0.79859\n"
     ]
    },
    {
     "name": "stderr",
     "output_type": "stream",
     "text": [
      "c:\\Users\\rosa-\\anaconda3\\envs\\xaifo\\lib\\site-packages\\deepsnap\\graph.py:2126: UserWarning: __floordiv__ is deprecated, and its behavior will change in a future version of pytorch. It currently rounds toward 0 (like the 'trunc' function NOT 'floor'). This results in incorrect rounding for negative values. To keep the current behavior, use torch.div(a, b, rounding_mode='trunc'), or for actual floor division, use torch.div(a, b, rounding_mode='floor').\n",
      "  row = perm // num_nodes\n"
     ]
    },
    {
     "name": "stdout",
     "output_type": "stream",
     "text": [
      "Epoch: 062, Train: 0.9796, Val: 0.9724, Test: 0.9714, Loss: 0.79869\n"
     ]
    },
    {
     "name": "stderr",
     "output_type": "stream",
     "text": [
      "c:\\Users\\rosa-\\anaconda3\\envs\\xaifo\\lib\\site-packages\\deepsnap\\graph.py:2126: UserWarning: __floordiv__ is deprecated, and its behavior will change in a future version of pytorch. It currently rounds toward 0 (like the 'trunc' function NOT 'floor'). This results in incorrect rounding for negative values. To keep the current behavior, use torch.div(a, b, rounding_mode='trunc'), or for actual floor division, use torch.div(a, b, rounding_mode='floor').\n",
      "  row = perm // num_nodes\n"
     ]
    },
    {
     "name": "stdout",
     "output_type": "stream",
     "text": [
      "Epoch: 063, Train: 0.9792, Val: 0.9725, Test: 0.9714, Loss: 0.78096\n"
     ]
    },
    {
     "name": "stderr",
     "output_type": "stream",
     "text": [
      "c:\\Users\\rosa-\\anaconda3\\envs\\xaifo\\lib\\site-packages\\deepsnap\\graph.py:2126: UserWarning: __floordiv__ is deprecated, and its behavior will change in a future version of pytorch. It currently rounds toward 0 (like the 'trunc' function NOT 'floor'). This results in incorrect rounding for negative values. To keep the current behavior, use torch.div(a, b, rounding_mode='trunc'), or for actual floor division, use torch.div(a, b, rounding_mode='floor').\n",
      "  row = perm // num_nodes\n"
     ]
    },
    {
     "name": "stdout",
     "output_type": "stream",
     "text": [
      "Epoch: 064, Train: 0.9794, Val: 0.9725, Test: 0.9715, Loss: 0.77450\n"
     ]
    },
    {
     "name": "stderr",
     "output_type": "stream",
     "text": [
      "c:\\Users\\rosa-\\anaconda3\\envs\\xaifo\\lib\\site-packages\\deepsnap\\graph.py:2126: UserWarning: __floordiv__ is deprecated, and its behavior will change in a future version of pytorch. It currently rounds toward 0 (like the 'trunc' function NOT 'floor'). This results in incorrect rounding for negative values. To keep the current behavior, use torch.div(a, b, rounding_mode='trunc'), or for actual floor division, use torch.div(a, b, rounding_mode='floor').\n",
      "  row = perm // num_nodes\n"
     ]
    },
    {
     "name": "stdout",
     "output_type": "stream",
     "text": [
      "Epoch: 065, Train: 0.9794, Val: 0.9725, Test: 0.9715, Loss: 0.76701\n"
     ]
    },
    {
     "name": "stderr",
     "output_type": "stream",
     "text": [
      "c:\\Users\\rosa-\\anaconda3\\envs\\xaifo\\lib\\site-packages\\deepsnap\\graph.py:2126: UserWarning: __floordiv__ is deprecated, and its behavior will change in a future version of pytorch. It currently rounds toward 0 (like the 'trunc' function NOT 'floor'). This results in incorrect rounding for negative values. To keep the current behavior, use torch.div(a, b, rounding_mode='trunc'), or for actual floor division, use torch.div(a, b, rounding_mode='floor').\n",
      "  row = perm // num_nodes\n"
     ]
    },
    {
     "name": "stdout",
     "output_type": "stream",
     "text": [
      "Epoch: 066, Train: 0.9799, Val: 0.9725, Test: 0.9715, Loss: 0.76526\n"
     ]
    },
    {
     "name": "stderr",
     "output_type": "stream",
     "text": [
      "c:\\Users\\rosa-\\anaconda3\\envs\\xaifo\\lib\\site-packages\\deepsnap\\graph.py:2126: UserWarning: __floordiv__ is deprecated, and its behavior will change in a future version of pytorch. It currently rounds toward 0 (like the 'trunc' function NOT 'floor'). This results in incorrect rounding for negative values. To keep the current behavior, use torch.div(a, b, rounding_mode='trunc'), or for actual floor division, use torch.div(a, b, rounding_mode='floor').\n",
      "  row = perm // num_nodes\n"
     ]
    },
    {
     "name": "stdout",
     "output_type": "stream",
     "text": [
      "Epoch: 067, Train: 0.9796, Val: 0.9726, Test: 0.9715, Loss: 0.75074\n"
     ]
    },
    {
     "name": "stderr",
     "output_type": "stream",
     "text": [
      "c:\\Users\\rosa-\\anaconda3\\envs\\xaifo\\lib\\site-packages\\deepsnap\\graph.py:2126: UserWarning: __floordiv__ is deprecated, and its behavior will change in a future version of pytorch. It currently rounds toward 0 (like the 'trunc' function NOT 'floor'). This results in incorrect rounding for negative values. To keep the current behavior, use torch.div(a, b, rounding_mode='trunc'), or for actual floor division, use torch.div(a, b, rounding_mode='floor').\n",
      "  row = perm // num_nodes\n"
     ]
    },
    {
     "name": "stdout",
     "output_type": "stream",
     "text": [
      "Epoch: 068, Train: 0.9791, Val: 0.9725, Test: 0.9715, Loss: 0.74030\n"
     ]
    },
    {
     "name": "stderr",
     "output_type": "stream",
     "text": [
      "c:\\Users\\rosa-\\anaconda3\\envs\\xaifo\\lib\\site-packages\\deepsnap\\graph.py:2126: UserWarning: __floordiv__ is deprecated, and its behavior will change in a future version of pytorch. It currently rounds toward 0 (like the 'trunc' function NOT 'floor'). This results in incorrect rounding for negative values. To keep the current behavior, use torch.div(a, b, rounding_mode='trunc'), or for actual floor division, use torch.div(a, b, rounding_mode='floor').\n",
      "  row = perm // num_nodes\n"
     ]
    },
    {
     "name": "stdout",
     "output_type": "stream",
     "text": [
      "Epoch: 069, Train: 0.9795, Val: 0.9725, Test: 0.9716, Loss: 0.73867\n"
     ]
    },
    {
     "name": "stderr",
     "output_type": "stream",
     "text": [
      "c:\\Users\\rosa-\\anaconda3\\envs\\xaifo\\lib\\site-packages\\deepsnap\\graph.py:2126: UserWarning: __floordiv__ is deprecated, and its behavior will change in a future version of pytorch. It currently rounds toward 0 (like the 'trunc' function NOT 'floor'). This results in incorrect rounding for negative values. To keep the current behavior, use torch.div(a, b, rounding_mode='trunc'), or for actual floor division, use torch.div(a, b, rounding_mode='floor').\n",
      "  row = perm // num_nodes\n"
     ]
    },
    {
     "name": "stdout",
     "output_type": "stream",
     "text": [
      "Epoch: 070, Train: 0.9791, Val: 0.9726, Test: 0.9716, Loss: 0.72049\n"
     ]
    },
    {
     "name": "stderr",
     "output_type": "stream",
     "text": [
      "c:\\Users\\rosa-\\anaconda3\\envs\\xaifo\\lib\\site-packages\\deepsnap\\graph.py:2126: UserWarning: __floordiv__ is deprecated, and its behavior will change in a future version of pytorch. It currently rounds toward 0 (like the 'trunc' function NOT 'floor'). This results in incorrect rounding for negative values. To keep the current behavior, use torch.div(a, b, rounding_mode='trunc'), or for actual floor division, use torch.div(a, b, rounding_mode='floor').\n",
      "  row = perm // num_nodes\n"
     ]
    },
    {
     "name": "stdout",
     "output_type": "stream",
     "text": [
      "Epoch: 071, Train: 0.9792, Val: 0.9726, Test: 0.9717, Loss: 0.71852\n"
     ]
    },
    {
     "name": "stderr",
     "output_type": "stream",
     "text": [
      "c:\\Users\\rosa-\\anaconda3\\envs\\xaifo\\lib\\site-packages\\deepsnap\\graph.py:2126: UserWarning: __floordiv__ is deprecated, and its behavior will change in a future version of pytorch. It currently rounds toward 0 (like the 'trunc' function NOT 'floor'). This results in incorrect rounding for negative values. To keep the current behavior, use torch.div(a, b, rounding_mode='trunc'), or for actual floor division, use torch.div(a, b, rounding_mode='floor').\n",
      "  row = perm // num_nodes\n"
     ]
    },
    {
     "name": "stdout",
     "output_type": "stream",
     "text": [
      "Epoch: 072, Train: 0.9794, Val: 0.9726, Test: 0.9717, Loss: 0.71554\n"
     ]
    },
    {
     "name": "stderr",
     "output_type": "stream",
     "text": [
      "c:\\Users\\rosa-\\anaconda3\\envs\\xaifo\\lib\\site-packages\\deepsnap\\graph.py:2126: UserWarning: __floordiv__ is deprecated, and its behavior will change in a future version of pytorch. It currently rounds toward 0 (like the 'trunc' function NOT 'floor'). This results in incorrect rounding for negative values. To keep the current behavior, use torch.div(a, b, rounding_mode='trunc'), or for actual floor division, use torch.div(a, b, rounding_mode='floor').\n",
      "  row = perm // num_nodes\n"
     ]
    },
    {
     "name": "stdout",
     "output_type": "stream",
     "text": [
      "Epoch: 073, Train: 0.9797, Val: 0.9727, Test: 0.9718, Loss: 0.71561\n"
     ]
    },
    {
     "name": "stderr",
     "output_type": "stream",
     "text": [
      "c:\\Users\\rosa-\\anaconda3\\envs\\xaifo\\lib\\site-packages\\deepsnap\\graph.py:2126: UserWarning: __floordiv__ is deprecated, and its behavior will change in a future version of pytorch. It currently rounds toward 0 (like the 'trunc' function NOT 'floor'). This results in incorrect rounding for negative values. To keep the current behavior, use torch.div(a, b, rounding_mode='trunc'), or for actual floor division, use torch.div(a, b, rounding_mode='floor').\n",
      "  row = perm // num_nodes\n"
     ]
    },
    {
     "name": "stdout",
     "output_type": "stream",
     "text": [
      "Epoch: 074, Train: 0.9788, Val: 0.9727, Test: 0.9718, Loss: 0.70640\n"
     ]
    },
    {
     "name": "stderr",
     "output_type": "stream",
     "text": [
      "c:\\Users\\rosa-\\anaconda3\\envs\\xaifo\\lib\\site-packages\\deepsnap\\graph.py:2126: UserWarning: __floordiv__ is deprecated, and its behavior will change in a future version of pytorch. It currently rounds toward 0 (like the 'trunc' function NOT 'floor'). This results in incorrect rounding for negative values. To keep the current behavior, use torch.div(a, b, rounding_mode='trunc'), or for actual floor division, use torch.div(a, b, rounding_mode='floor').\n",
      "  row = perm // num_nodes\n"
     ]
    },
    {
     "name": "stdout",
     "output_type": "stream",
     "text": [
      "Epoch: 075, Train: 0.9796, Val: 0.9728, Test: 0.9719, Loss: 0.69734\n"
     ]
    },
    {
     "name": "stderr",
     "output_type": "stream",
     "text": [
      "c:\\Users\\rosa-\\anaconda3\\envs\\xaifo\\lib\\site-packages\\deepsnap\\graph.py:2126: UserWarning: __floordiv__ is deprecated, and its behavior will change in a future version of pytorch. It currently rounds toward 0 (like the 'trunc' function NOT 'floor'). This results in incorrect rounding for negative values. To keep the current behavior, use torch.div(a, b, rounding_mode='trunc'), or for actual floor division, use torch.div(a, b, rounding_mode='floor').\n",
      "  row = perm // num_nodes\n"
     ]
    },
    {
     "name": "stdout",
     "output_type": "stream",
     "text": [
      "Epoch: 076, Train: 0.9794, Val: 0.9728, Test: 0.9720, Loss: 0.70431\n"
     ]
    },
    {
     "name": "stderr",
     "output_type": "stream",
     "text": [
      "c:\\Users\\rosa-\\anaconda3\\envs\\xaifo\\lib\\site-packages\\deepsnap\\graph.py:2126: UserWarning: __floordiv__ is deprecated, and its behavior will change in a future version of pytorch. It currently rounds toward 0 (like the 'trunc' function NOT 'floor'). This results in incorrect rounding for negative values. To keep the current behavior, use torch.div(a, b, rounding_mode='trunc'), or for actual floor division, use torch.div(a, b, rounding_mode='floor').\n",
      "  row = perm // num_nodes\n"
     ]
    },
    {
     "name": "stdout",
     "output_type": "stream",
     "text": [
      "Epoch: 077, Train: 0.9802, Val: 0.9729, Test: 0.9721, Loss: 0.67936\n"
     ]
    },
    {
     "name": "stderr",
     "output_type": "stream",
     "text": [
      "c:\\Users\\rosa-\\anaconda3\\envs\\xaifo\\lib\\site-packages\\deepsnap\\graph.py:2126: UserWarning: __floordiv__ is deprecated, and its behavior will change in a future version of pytorch. It currently rounds toward 0 (like the 'trunc' function NOT 'floor'). This results in incorrect rounding for negative values. To keep the current behavior, use torch.div(a, b, rounding_mode='trunc'), or for actual floor division, use torch.div(a, b, rounding_mode='floor').\n",
      "  row = perm // num_nodes\n"
     ]
    },
    {
     "name": "stdout",
     "output_type": "stream",
     "text": [
      "Epoch: 078, Train: 0.9795, Val: 0.9730, Test: 0.9722, Loss: 0.68097\n"
     ]
    },
    {
     "name": "stderr",
     "output_type": "stream",
     "text": [
      "c:\\Users\\rosa-\\anaconda3\\envs\\xaifo\\lib\\site-packages\\deepsnap\\graph.py:2126: UserWarning: __floordiv__ is deprecated, and its behavior will change in a future version of pytorch. It currently rounds toward 0 (like the 'trunc' function NOT 'floor'). This results in incorrect rounding for negative values. To keep the current behavior, use torch.div(a, b, rounding_mode='trunc'), or for actual floor division, use torch.div(a, b, rounding_mode='floor').\n",
      "  row = perm // num_nodes\n"
     ]
    },
    {
     "name": "stdout",
     "output_type": "stream",
     "text": [
      "Epoch: 079, Train: 0.9800, Val: 0.9730, Test: 0.9723, Loss: 0.66757\n"
     ]
    },
    {
     "name": "stderr",
     "output_type": "stream",
     "text": [
      "c:\\Users\\rosa-\\anaconda3\\envs\\xaifo\\lib\\site-packages\\deepsnap\\graph.py:2126: UserWarning: __floordiv__ is deprecated, and its behavior will change in a future version of pytorch. It currently rounds toward 0 (like the 'trunc' function NOT 'floor'). This results in incorrect rounding for negative values. To keep the current behavior, use torch.div(a, b, rounding_mode='trunc'), or for actual floor division, use torch.div(a, b, rounding_mode='floor').\n",
      "  row = perm // num_nodes\n"
     ]
    },
    {
     "name": "stdout",
     "output_type": "stream",
     "text": [
      "Epoch: 080, Train: 0.9798, Val: 0.9731, Test: 0.9725, Loss: 0.65895\n"
     ]
    },
    {
     "name": "stderr",
     "output_type": "stream",
     "text": [
      "c:\\Users\\rosa-\\anaconda3\\envs\\xaifo\\lib\\site-packages\\deepsnap\\graph.py:2126: UserWarning: __floordiv__ is deprecated, and its behavior will change in a future version of pytorch. It currently rounds toward 0 (like the 'trunc' function NOT 'floor'). This results in incorrect rounding for negative values. To keep the current behavior, use torch.div(a, b, rounding_mode='trunc'), or for actual floor division, use torch.div(a, b, rounding_mode='floor').\n",
      "  row = perm // num_nodes\n"
     ]
    },
    {
     "name": "stdout",
     "output_type": "stream",
     "text": [
      "Epoch: 081, Train: 0.9800, Val: 0.9732, Test: 0.9726, Loss: 0.67912\n"
     ]
    },
    {
     "name": "stderr",
     "output_type": "stream",
     "text": [
      "c:\\Users\\rosa-\\anaconda3\\envs\\xaifo\\lib\\site-packages\\deepsnap\\graph.py:2126: UserWarning: __floordiv__ is deprecated, and its behavior will change in a future version of pytorch. It currently rounds toward 0 (like the 'trunc' function NOT 'floor'). This results in incorrect rounding for negative values. To keep the current behavior, use torch.div(a, b, rounding_mode='trunc'), or for actual floor division, use torch.div(a, b, rounding_mode='floor').\n",
      "  row = perm // num_nodes\n"
     ]
    },
    {
     "name": "stdout",
     "output_type": "stream",
     "text": [
      "Epoch: 082, Train: 0.9799, Val: 0.9733, Test: 0.9728, Loss: 0.65728\n"
     ]
    },
    {
     "name": "stderr",
     "output_type": "stream",
     "text": [
      "c:\\Users\\rosa-\\anaconda3\\envs\\xaifo\\lib\\site-packages\\deepsnap\\graph.py:2126: UserWarning: __floordiv__ is deprecated, and its behavior will change in a future version of pytorch. It currently rounds toward 0 (like the 'trunc' function NOT 'floor'). This results in incorrect rounding for negative values. To keep the current behavior, use torch.div(a, b, rounding_mode='trunc'), or for actual floor division, use torch.div(a, b, rounding_mode='floor').\n",
      "  row = perm // num_nodes\n"
     ]
    },
    {
     "name": "stdout",
     "output_type": "stream",
     "text": [
      "Epoch: 083, Train: 0.9802, Val: 0.9733, Test: 0.9729, Loss: 0.65577\n"
     ]
    },
    {
     "name": "stderr",
     "output_type": "stream",
     "text": [
      "c:\\Users\\rosa-\\anaconda3\\envs\\xaifo\\lib\\site-packages\\deepsnap\\graph.py:2126: UserWarning: __floordiv__ is deprecated, and its behavior will change in a future version of pytorch. It currently rounds toward 0 (like the 'trunc' function NOT 'floor'). This results in incorrect rounding for negative values. To keep the current behavior, use torch.div(a, b, rounding_mode='trunc'), or for actual floor division, use torch.div(a, b, rounding_mode='floor').\n",
      "  row = perm // num_nodes\n"
     ]
    },
    {
     "name": "stdout",
     "output_type": "stream",
     "text": [
      "Epoch: 084, Train: 0.9807, Val: 0.9734, Test: 0.9730, Loss: 0.63891\n"
     ]
    },
    {
     "name": "stderr",
     "output_type": "stream",
     "text": [
      "c:\\Users\\rosa-\\anaconda3\\envs\\xaifo\\lib\\site-packages\\deepsnap\\graph.py:2126: UserWarning: __floordiv__ is deprecated, and its behavior will change in a future version of pytorch. It currently rounds toward 0 (like the 'trunc' function NOT 'floor'). This results in incorrect rounding for negative values. To keep the current behavior, use torch.div(a, b, rounding_mode='trunc'), or for actual floor division, use torch.div(a, b, rounding_mode='floor').\n",
      "  row = perm // num_nodes\n"
     ]
    },
    {
     "name": "stdout",
     "output_type": "stream",
     "text": [
      "Epoch: 085, Train: 0.9798, Val: 0.9734, Test: 0.9731, Loss: 0.64696\n"
     ]
    },
    {
     "name": "stderr",
     "output_type": "stream",
     "text": [
      "c:\\Users\\rosa-\\anaconda3\\envs\\xaifo\\lib\\site-packages\\deepsnap\\graph.py:2126: UserWarning: __floordiv__ is deprecated, and its behavior will change in a future version of pytorch. It currently rounds toward 0 (like the 'trunc' function NOT 'floor'). This results in incorrect rounding for negative values. To keep the current behavior, use torch.div(a, b, rounding_mode='trunc'), or for actual floor division, use torch.div(a, b, rounding_mode='floor').\n",
      "  row = perm // num_nodes\n"
     ]
    },
    {
     "name": "stdout",
     "output_type": "stream",
     "text": [
      "Epoch: 086, Train: 0.9803, Val: 0.9735, Test: 0.9731, Loss: 0.63358\n"
     ]
    },
    {
     "name": "stderr",
     "output_type": "stream",
     "text": [
      "c:\\Users\\rosa-\\anaconda3\\envs\\xaifo\\lib\\site-packages\\deepsnap\\graph.py:2126: UserWarning: __floordiv__ is deprecated, and its behavior will change in a future version of pytorch. It currently rounds toward 0 (like the 'trunc' function NOT 'floor'). This results in incorrect rounding for negative values. To keep the current behavior, use torch.div(a, b, rounding_mode='trunc'), or for actual floor division, use torch.div(a, b, rounding_mode='floor').\n",
      "  row = perm // num_nodes\n"
     ]
    },
    {
     "name": "stdout",
     "output_type": "stream",
     "text": [
      "Epoch: 087, Train: 0.9803, Val: 0.9735, Test: 0.9732, Loss: 0.63875\n"
     ]
    },
    {
     "name": "stderr",
     "output_type": "stream",
     "text": [
      "c:\\Users\\rosa-\\anaconda3\\envs\\xaifo\\lib\\site-packages\\deepsnap\\graph.py:2126: UserWarning: __floordiv__ is deprecated, and its behavior will change in a future version of pytorch. It currently rounds toward 0 (like the 'trunc' function NOT 'floor'). This results in incorrect rounding for negative values. To keep the current behavior, use torch.div(a, b, rounding_mode='trunc'), or for actual floor division, use torch.div(a, b, rounding_mode='floor').\n",
      "  row = perm // num_nodes\n"
     ]
    },
    {
     "name": "stdout",
     "output_type": "stream",
     "text": [
      "Epoch: 088, Train: 0.9802, Val: 0.9736, Test: 0.9733, Loss: 0.63611\n"
     ]
    },
    {
     "name": "stderr",
     "output_type": "stream",
     "text": [
      "c:\\Users\\rosa-\\anaconda3\\envs\\xaifo\\lib\\site-packages\\deepsnap\\graph.py:2126: UserWarning: __floordiv__ is deprecated, and its behavior will change in a future version of pytorch. It currently rounds toward 0 (like the 'trunc' function NOT 'floor'). This results in incorrect rounding for negative values. To keep the current behavior, use torch.div(a, b, rounding_mode='trunc'), or for actual floor division, use torch.div(a, b, rounding_mode='floor').\n",
      "  row = perm // num_nodes\n"
     ]
    },
    {
     "name": "stdout",
     "output_type": "stream",
     "text": [
      "Epoch: 089, Train: 0.9802, Val: 0.9737, Test: 0.9734, Loss: 0.60670\n"
     ]
    },
    {
     "name": "stderr",
     "output_type": "stream",
     "text": [
      "c:\\Users\\rosa-\\anaconda3\\envs\\xaifo\\lib\\site-packages\\deepsnap\\graph.py:2126: UserWarning: __floordiv__ is deprecated, and its behavior will change in a future version of pytorch. It currently rounds toward 0 (like the 'trunc' function NOT 'floor'). This results in incorrect rounding for negative values. To keep the current behavior, use torch.div(a, b, rounding_mode='trunc'), or for actual floor division, use torch.div(a, b, rounding_mode='floor').\n",
      "  row = perm // num_nodes\n"
     ]
    },
    {
     "name": "stdout",
     "output_type": "stream",
     "text": [
      "Epoch: 090, Train: 0.9802, Val: 0.9738, Test: 0.9734, Loss: 0.62193\n"
     ]
    },
    {
     "name": "stderr",
     "output_type": "stream",
     "text": [
      "c:\\Users\\rosa-\\anaconda3\\envs\\xaifo\\lib\\site-packages\\deepsnap\\graph.py:2126: UserWarning: __floordiv__ is deprecated, and its behavior will change in a future version of pytorch. It currently rounds toward 0 (like the 'trunc' function NOT 'floor'). This results in incorrect rounding for negative values. To keep the current behavior, use torch.div(a, b, rounding_mode='trunc'), or for actual floor division, use torch.div(a, b, rounding_mode='floor').\n",
      "  row = perm // num_nodes\n"
     ]
    },
    {
     "name": "stdout",
     "output_type": "stream",
     "text": [
      "Epoch: 091, Train: 0.9799, Val: 0.9738, Test: 0.9735, Loss: 0.60591\n"
     ]
    },
    {
     "name": "stderr",
     "output_type": "stream",
     "text": [
      "c:\\Users\\rosa-\\anaconda3\\envs\\xaifo\\lib\\site-packages\\deepsnap\\graph.py:2126: UserWarning: __floordiv__ is deprecated, and its behavior will change in a future version of pytorch. It currently rounds toward 0 (like the 'trunc' function NOT 'floor'). This results in incorrect rounding for negative values. To keep the current behavior, use torch.div(a, b, rounding_mode='trunc'), or for actual floor division, use torch.div(a, b, rounding_mode='floor').\n",
      "  row = perm // num_nodes\n"
     ]
    },
    {
     "name": "stdout",
     "output_type": "stream",
     "text": [
      "Epoch: 092, Train: 0.9810, Val: 0.9739, Test: 0.9736, Loss: 0.62141\n"
     ]
    },
    {
     "name": "stderr",
     "output_type": "stream",
     "text": [
      "c:\\Users\\rosa-\\anaconda3\\envs\\xaifo\\lib\\site-packages\\deepsnap\\graph.py:2126: UserWarning: __floordiv__ is deprecated, and its behavior will change in a future version of pytorch. It currently rounds toward 0 (like the 'trunc' function NOT 'floor'). This results in incorrect rounding for negative values. To keep the current behavior, use torch.div(a, b, rounding_mode='trunc'), or for actual floor division, use torch.div(a, b, rounding_mode='floor').\n",
      "  row = perm // num_nodes\n"
     ]
    },
    {
     "name": "stdout",
     "output_type": "stream",
     "text": [
      "Epoch: 093, Train: 0.9806, Val: 0.9740, Test: 0.9737, Loss: 0.60446\n"
     ]
    },
    {
     "name": "stderr",
     "output_type": "stream",
     "text": [
      "c:\\Users\\rosa-\\anaconda3\\envs\\xaifo\\lib\\site-packages\\deepsnap\\graph.py:2126: UserWarning: __floordiv__ is deprecated, and its behavior will change in a future version of pytorch. It currently rounds toward 0 (like the 'trunc' function NOT 'floor'). This results in incorrect rounding for negative values. To keep the current behavior, use torch.div(a, b, rounding_mode='trunc'), or for actual floor division, use torch.div(a, b, rounding_mode='floor').\n",
      "  row = perm // num_nodes\n"
     ]
    },
    {
     "name": "stdout",
     "output_type": "stream",
     "text": [
      "Epoch: 094, Train: 0.9810, Val: 0.9741, Test: 0.9738, Loss: 0.61003\n"
     ]
    },
    {
     "name": "stderr",
     "output_type": "stream",
     "text": [
      "c:\\Users\\rosa-\\anaconda3\\envs\\xaifo\\lib\\site-packages\\deepsnap\\graph.py:2126: UserWarning: __floordiv__ is deprecated, and its behavior will change in a future version of pytorch. It currently rounds toward 0 (like the 'trunc' function NOT 'floor'). This results in incorrect rounding for negative values. To keep the current behavior, use torch.div(a, b, rounding_mode='trunc'), or for actual floor division, use torch.div(a, b, rounding_mode='floor').\n",
      "  row = perm // num_nodes\n"
     ]
    },
    {
     "name": "stdout",
     "output_type": "stream",
     "text": [
      "Epoch: 095, Train: 0.9807, Val: 0.9742, Test: 0.9739, Loss: 0.59956\n"
     ]
    },
    {
     "name": "stderr",
     "output_type": "stream",
     "text": [
      "c:\\Users\\rosa-\\anaconda3\\envs\\xaifo\\lib\\site-packages\\deepsnap\\graph.py:2126: UserWarning: __floordiv__ is deprecated, and its behavior will change in a future version of pytorch. It currently rounds toward 0 (like the 'trunc' function NOT 'floor'). This results in incorrect rounding for negative values. To keep the current behavior, use torch.div(a, b, rounding_mode='trunc'), or for actual floor division, use torch.div(a, b, rounding_mode='floor').\n",
      "  row = perm // num_nodes\n"
     ]
    },
    {
     "name": "stdout",
     "output_type": "stream",
     "text": [
      "Epoch: 096, Train: 0.9809, Val: 0.9743, Test: 0.9740, Loss: 0.58718\n"
     ]
    },
    {
     "name": "stderr",
     "output_type": "stream",
     "text": [
      "c:\\Users\\rosa-\\anaconda3\\envs\\xaifo\\lib\\site-packages\\deepsnap\\graph.py:2126: UserWarning: __floordiv__ is deprecated, and its behavior will change in a future version of pytorch. It currently rounds toward 0 (like the 'trunc' function NOT 'floor'). This results in incorrect rounding for negative values. To keep the current behavior, use torch.div(a, b, rounding_mode='trunc'), or for actual floor division, use torch.div(a, b, rounding_mode='floor').\n",
      "  row = perm // num_nodes\n"
     ]
    },
    {
     "name": "stdout",
     "output_type": "stream",
     "text": [
      "Epoch: 097, Train: 0.9808, Val: 0.9743, Test: 0.9741, Loss: 0.58577\n"
     ]
    },
    {
     "name": "stderr",
     "output_type": "stream",
     "text": [
      "c:\\Users\\rosa-\\anaconda3\\envs\\xaifo\\lib\\site-packages\\deepsnap\\graph.py:2126: UserWarning: __floordiv__ is deprecated, and its behavior will change in a future version of pytorch. It currently rounds toward 0 (like the 'trunc' function NOT 'floor'). This results in incorrect rounding for negative values. To keep the current behavior, use torch.div(a, b, rounding_mode='trunc'), or for actual floor division, use torch.div(a, b, rounding_mode='floor').\n",
      "  row = perm // num_nodes\n"
     ]
    },
    {
     "name": "stdout",
     "output_type": "stream",
     "text": [
      "Epoch: 098, Train: 0.9815, Val: 0.9744, Test: 0.9742, Loss: 0.59015\n"
     ]
    },
    {
     "name": "stderr",
     "output_type": "stream",
     "text": [
      "c:\\Users\\rosa-\\anaconda3\\envs\\xaifo\\lib\\site-packages\\deepsnap\\graph.py:2126: UserWarning: __floordiv__ is deprecated, and its behavior will change in a future version of pytorch. It currently rounds toward 0 (like the 'trunc' function NOT 'floor'). This results in incorrect rounding for negative values. To keep the current behavior, use torch.div(a, b, rounding_mode='trunc'), or for actual floor division, use torch.div(a, b, rounding_mode='floor').\n",
      "  row = perm // num_nodes\n"
     ]
    },
    {
     "name": "stdout",
     "output_type": "stream",
     "text": [
      "Epoch: 099, Train: 0.9816, Val: 0.9745, Test: 0.9744, Loss: 0.58300\n"
     ]
    },
    {
     "name": "stderr",
     "output_type": "stream",
     "text": [
      "c:\\Users\\rosa-\\anaconda3\\envs\\xaifo\\lib\\site-packages\\deepsnap\\graph.py:2126: UserWarning: __floordiv__ is deprecated, and its behavior will change in a future version of pytorch. It currently rounds toward 0 (like the 'trunc' function NOT 'floor'). This results in incorrect rounding for negative values. To keep the current behavior, use torch.div(a, b, rounding_mode='trunc'), or for actual floor division, use torch.div(a, b, rounding_mode='floor').\n",
      "  row = perm // num_nodes\n"
     ]
    },
    {
     "name": "stdout",
     "output_type": "stream",
     "text": [
      "Train: 0.9815, Val: 0.9745, Test: 0.9744\n"
     ]
    }
   ],
   "source": [
    "best_model, best_x, performance = train(model, dataloaders, optimizer, args)\n",
    "\n",
    "best_train_roc = test(best_model, dataloaders['train'], args)\n",
    "best_val_roc = test(best_model, dataloaders['val'], args)\n",
    "best_test_roc = test(best_model, dataloaders['test'], args)\n",
    "\n",
    "print('Train: {:.4f}, Val: {:.4f}, Test: {:.4f}'.format(best_train_roc, best_val_roc, best_test_roc))"
   ]
  },
  {
   "attachments": {},
   "cell_type": "markdown",
   "metadata": {},
   "source": [
    "Save the model and parameters"
   ]
  },
  {
   "cell_type": "code",
   "execution_count": 494,
   "metadata": {},
   "outputs": [],
   "source": [
    "torch.save(best_model.state_dict(), f'output/best_model_{dataset_nr}.pth')\n",
    "with open(f'output/best_model_{dataset_nr}_args.pkl', 'wb') as f:\n",
    "    pickle.dump(args, f)"
   ]
  },
  {
   "attachments": {},
   "cell_type": "markdown",
   "metadata": {},
   "source": [
    "### Visualize Trained GNN Model Accuracy"
   ]
  },
  {
   "attachments": {},
   "cell_type": "markdown",
   "metadata": {},
   "source": [
    "Plot AUC and loss throughout epochs"
   ]
  },
  {
   "cell_type": "code",
   "execution_count": 495,
   "metadata": {},
   "outputs": [
    {
     "data": {
      "image/png": "[encoded data removed]",
      "text/plain": [
       "<Figure size 1000x700 with 1 Axes>"
      ]
     },
     "metadata": {},
     "output_type": "display_data"
    }
   ],
   "source": [
    "plt.figure(figsize= (10,7))\n",
    "plt.plot(np.log10(performance[0]), label = 'Loss')\n",
    "plt.plot(performance[1], label = 'AUC Train')\n",
    "plt.plot(performance[2], label = 'AUC Validation')\n",
    "plt.plot(performance[3], label = 'AUC Test')\n",
    "plt.legend()\n",
    "plt.ylabel('AUC/Loss')\n",
    "plt.xlabel('Epochs')\n",
    "plt.title(f'Training curve of GNN on dataset {dataset_nr}')\n",
    "plt.show()"
   ]
  },
  {
   "attachments": {},
   "cell_type": "markdown",
   "metadata": {},
   "source": [
    "Plot ROC curve using test set\n",
    "- High TPR and lower FPR indicates that the proportion of correctly classified samples (true positives) is greater than the proportion of incorrectly classified samples (false positives)"
   ]
  },
  {
   "cell_type": "code",
   "execution_count": 496,
   "metadata": {},
   "outputs": [
    {
     "name": "stdout",
     "output_type": "stream",
     "text": [
      "0.9743823314880399\n"
     ]
    },
    {
     "data": {
      "image/png": "[encoded data removed]",
      "text/plain": [
       "<Figure size 700x700 with 1 Axes>"
      ]
     },
     "metadata": {},
     "output_type": "display_data"
    }
   ],
   "source": [
    "for batch in dataloaders['test']:\n",
    "    feat, edge_index, edge_label_index = batch.node_feature, batch.edge_index, batch.edge_label_index\n",
    "    batch.to(args[\"device\"])\n",
    "    pred, x = best_model(feat, edge_index, edge_label_index, training = False)\n",
    "    pred = torch.sigmoid(pred)\n",
    "    score = roc_auc_score(batch.edge_label.flatten().cpu().numpy(), pred.flatten().data.cpu().numpy())\n",
    "    print(score)\n",
    "    \n",
    "fpr, tpr, thresholds = roc_curve(batch.edge_label.flatten().cpu().numpy(), pred.flatten().data.cpu().numpy())\n",
    "plt.figure(figsize = (7, 7))\n",
    "plt.plot(fpr, tpr, marker='.')\n",
    "plt.xlabel('False Positive Rate')   # 1 - specificity\n",
    "plt.ylabel('True Positive Rate')    # sensitivity\n",
    "plt.title(f'ROC curve on test set from dataset {dataset_nr}')\n",
    "plt.show()"
   ]
  },
  {
   "attachments": {},
   "cell_type": "markdown",
   "metadata": {},
   "source": [
    "Calculate F1-score using test set\n",
    "\n",
    "Elements of the F1-score:\n",
    "- Precision represents the proportion of correctly classifying samples as positive (high precision: classifying a sample as positive has a high probability to be correct)\n",
    "- Recall represents the proportion of finding all positives (high recall: all positive samples have been classified as being positive)\n",
    "\n",
    "Maximizing both elements in order to yield a model that identifies all positive samples and only identifies these samples as positives.\n",
    "\n",
    "For the F1-score, the average of precision and recall is calculated, using the harmonic mean method (equal importance):\n",
    "- High F1-score indicates that precision and recall are both high\n",
    "- Medium F1-score indicates that one of the elements is high and the other low\n",
    "- Low F1-score indicates that precision and recall are both low"
   ]
  },
  {
   "cell_type": "code",
   "execution_count": 497,
   "metadata": {},
   "outputs": [
    {
     "name": "stdout",
     "output_type": "stream",
     "text": [
      "F1-Score in the test set of dataset 2: 0.9023572664359862\n",
      "              precision    recall  f1-score   support\n",
      "\n",
      "           0       0.97      0.82      0.89      8589\n",
      "           1       0.84      0.97      0.90      8589\n",
      "\n",
      "    accuracy                           0.89     17178\n",
      "   macro avg       0.90      0.89      0.89     17178\n",
      "weighted avg       0.90      0.89      0.89     17178\n",
      "\n"
     ]
    }
   ],
   "source": [
    "def test_f1(model, dataloader, args, threshold):\n",
    "    model.eval()\n",
    "    score = 0\n",
    "    num_batches = 0\n",
    "    for batch in dataloader:\n",
    "        feat, edge_index, edge_label_index = batch.node_feature, batch.edge_index, batch.edge_label_index\n",
    "        batch.to(args[\"device\"])\n",
    "        pred, x = model(feat, edge_index, edge_label_index, training = False)\n",
    "        pred = torch.sigmoid(pred) > threshold\n",
    "        score += f1_score(batch.edge_label.flatten().cpu().numpy(), pred.flatten().data.cpu().numpy())\n",
    "        num_batches += 1\n",
    "    score /= num_batches \n",
    "    return batch.edge_label.flatten().cpu().numpy(), pred.flatten().data.cpu().numpy(), score\n",
    "\n",
    "true_label, pred_label, best_test_f1 = test_f1(best_model, dataloaders['test'], args, 0.75)\n",
    "print(f'F1-Score in the test set of dataset {dataset_nr}:', best_test_f1)\n",
    "print(classification_report(true_label, pred_label))"
   ]
  },
  {
   "cell_type": "code",
   "execution_count": 498,
   "metadata": {},
   "outputs": [
    {
     "name": "stderr",
     "output_type": "stream",
     "text": [
      "c:\\Users\\rosa-\\anaconda3\\envs\\xaifo\\lib\\site-packages\\deepsnap\\graph.py:2126: UserWarning: __floordiv__ is deprecated, and its behavior will change in a future version of pytorch. It currently rounds toward 0 (like the 'trunc' function NOT 'floor'). This results in incorrect rounding for negative values. To keep the current behavior, use torch.div(a, b, rounding_mode='trunc'), or for actual floor division, use torch.div(a, b, rounding_mode='floor').\n",
      "  row = perm // num_nodes\n"
     ]
    },
    {
     "name": "stdout",
     "output_type": "stream",
     "text": [
      "[[59679  9023]\n",
      " [ 1587 67115]]\n"
     ]
    }
   ],
   "source": [
    "def test_cm(model, dataloader, args, threshold):\n",
    "    model.eval()\n",
    "    for batch in dataloader:\n",
    "        feat, edge_index, edge_label_index = batch.node_feature, batch.edge_index, batch.edge_label_index\n",
    "        batch.to(args[\"device\"])\n",
    "        pred, x = model(feat, edge_index, edge_label_index, training = False)\n",
    "        pred = torch.sigmoid(pred) > threshold\n",
    "        score = confusion_matrix(batch.edge_label.flatten().cpu().numpy(), pred.flatten().data.cpu().numpy())\n",
    "    return score\n",
    "\n",
    "table = test_cm(best_model, dataloaders['train'], args, 0.8)\n",
    "print(table)"
   ]
  },
  {
   "attachments": {},
   "cell_type": "markdown",
   "metadata": {},
   "source": [
    "# Hyperparameter Optimization of Node Embedding and GNN Training"
   ]
  },
  {
   "attachments": {},
   "cell_type": "markdown",
   "metadata": {},
   "source": [
    "The routine including node embedding and GNN training that needs to be optimized is contained in `hyperparam_opt.py`."
   ]
  },
  {
   "attachments": {},
   "cell_type": "markdown",
   "metadata": {},
   "source": [
    "# GNN Predictions"
   ]
  },
  {
   "attachments": {},
   "cell_type": "markdown",
   "metadata": {},
   "source": [
    "Load the Edge2Vec embedding"
   ]
  },
  {
   "cell_type": "code",
   "execution_count": 5,
   "metadata": {},
   "outputs": [
    {
     "data": {
      "text/html": [
       "<div>\n",
       "<style scoped>\n",
       "    .dataframe tbody tr th:only-of-type {\n",
       "        vertical-align: middle;\n",
       "    }\n",
       "\n",
       "    .dataframe tbody tr th {\n",
       "        vertical-align: top;\n",
       "    }\n",
       "\n",
       "    .dataframe thead th {\n",
       "        text-align: right;\n",
       "    }\n",
       "</style>\n",
       "<table border=\"1\" class=\"dataframe\">\n",
       "  <thead>\n",
       "    <tr style=\"text-align: right;\">\n",
       "      <th></th>\n",
       "      <th>Node</th>\n",
       "      <th>Embedding</th>\n",
       "    </tr>\n",
       "  </thead>\n",
       "  <tbody>\n",
       "    <tr>\n",
       "      <th>0</th>\n",
       "      <td>0</td>\n",
       "      <td>[0.4429384, -0.64671946, -0.045503706, 0.04694...</td>\n",
       "    </tr>\n",
       "    <tr>\n",
       "      <th>1</th>\n",
       "      <td>1</td>\n",
       "      <td>[0.7495496, -0.5790302, 0.16192597, 0.03131027...</td>\n",
       "    </tr>\n",
       "    <tr>\n",
       "      <th>2</th>\n",
       "      <td>2</td>\n",
       "      <td>[-0.21050918, -0.28908953, 0.118277326, -0.162...</td>\n",
       "    </tr>\n",
       "    <tr>\n",
       "      <th>3</th>\n",
       "      <td>3</td>\n",
       "      <td>[0.2527442, -0.2967686, 0.29164207, 0.8072669,...</td>\n",
       "    </tr>\n",
       "    <tr>\n",
       "      <th>4</th>\n",
       "      <td>4</td>\n",
       "      <td>[0.41442072, 0.06997513, 0.4540072, -0.0370618...</td>\n",
       "    </tr>\n",
       "    <tr>\n",
       "      <th>...</th>\n",
       "      <td>...</td>\n",
       "      <td>...</td>\n",
       "    </tr>\n",
       "    <tr>\n",
       "      <th>10270</th>\n",
       "      <td>10270</td>\n",
       "      <td>[0.21862394, 0.11319974, 0.31551972, 0.1497048...</td>\n",
       "    </tr>\n",
       "    <tr>\n",
       "      <th>10271</th>\n",
       "      <td>10271</td>\n",
       "      <td>[0.8747792, -0.7461259, 0.22221777, -0.0425329...</td>\n",
       "    </tr>\n",
       "    <tr>\n",
       "      <th>10272</th>\n",
       "      <td>10272</td>\n",
       "      <td>[0.5863251, -0.8054981, 0.27565393, 0.516578, ...</td>\n",
       "    </tr>\n",
       "    <tr>\n",
       "      <th>10273</th>\n",
       "      <td>10273</td>\n",
       "      <td>[0.6474387, -0.38251266, 0.43746328, 0.3413055...</td>\n",
       "    </tr>\n",
       "    <tr>\n",
       "      <th>10274</th>\n",
       "      <td>10274</td>\n",
       "      <td>[0.56232107, -0.5135573, -0.036642436, 0.09458...</td>\n",
       "    </tr>\n",
       "  </tbody>\n",
       "</table>\n",
       "<p>10275 rows × 2 columns</p>\n",
       "</div>"
      ],
      "text/plain": [
       "        Node                                          Embedding\n",
       "0          0  [0.4429384, -0.64671946, -0.045503706, 0.04694...\n",
       "1          1  [0.7495496, -0.5790302, 0.16192597, 0.03131027...\n",
       "2          2  [-0.21050918, -0.28908953, 0.118277326, -0.162...\n",
       "3          3  [0.2527442, -0.2967686, 0.29164207, 0.8072669,...\n",
       "4          4  [0.41442072, 0.06997513, 0.4540072, -0.0370618...\n",
       "...      ...                                                ...\n",
       "10270  10270  [0.21862394, 0.11319974, 0.31551972, 0.1497048...\n",
       "10271  10271  [0.8747792, -0.7461259, 0.22221777, -0.0425329...\n",
       "10272  10272  [0.5863251, -0.8054981, 0.27565393, 0.516578, ...\n",
       "10273  10273  [0.6474387, -0.38251266, 0.43746328, 0.3413055...\n",
       "10274  10274  [0.56232107, -0.5135573, -0.036642436, 0.09458...\n",
       "\n",
       "[10275 rows x 2 columns]"
      ]
     },
     "execution_count": 5,
     "metadata": {},
     "output_type": "execute_result"
    }
   ],
   "source": [
    "node_feat = KeyedVectors.load(f'output/w2v_{dataset_nr}.dvectors', mmap='r')\n",
    "\n",
    "e2v_embedding = pd.DataFrame(columns = ['Node', 'Embedding'])\n",
    "for idx, key in enumerate(node_feat.index_to_key):\n",
    "    e2v_embedding.loc[int(key)] = pd.Series({'Node':int(key), 'Embedding':list(node_feat[key])})\n",
    "    \n",
    "e2v_embedding = e2v_embedding.sort_values('Node')\n",
    "e2v_embedding"
   ]
  },
  {
   "attachments": {},
   "cell_type": "markdown",
   "metadata": {},
   "source": [
    "Initialize a graph with nodes and their embedding features."
   ]
  },
  {
   "cell_type": "code",
   "execution_count": 33,
   "metadata": {},
   "outputs": [
    {
     "name": "stdout",
     "output_type": "stream",
     "text": [
      "(0, {'node_feature': tensor([ 0.4429, -0.6467, -0.0455,  0.0469,  0.3007, -0.4822,  0.2423,  0.0707,\n",
      "        -0.5349,  0.4175,  0.7552,  0.0628, -0.3813, -0.3389,  0.5671,  0.4919,\n",
      "         0.0854,  0.0053, -0.2314,  0.8349,  0.5443,  0.7359, -0.1399, -0.2049,\n",
      "        -0.1793,  0.0314, -0.7152,  0.1764,  0.3586, -0.4770,  0.0838, -0.3013,\n",
      "         0.1751, -0.7785, -0.1280,  0.4082,  0.5959,  0.4058,  0.5182,  0.5561,\n",
      "         0.3995, -0.1704,  0.3317, -0.1183, -0.1047,  0.2789,  0.3293, -0.1368,\n",
      "         0.1259,  0.1704,  0.7724,  0.4460,  0.6070, -0.3315,  0.5776,  0.4367,\n",
      "         0.2875, -0.7309,  0.2535,  0.5972,  0.4410, -0.4248, -0.3355,  0.3258])})\n",
      "(2, 7693, {})\n",
      "Number of edges is 85878\n",
      "Number of nodes is 10275\n"
     ]
    }
   ],
   "source": [
    "G = nx.DiGraph() # TODO: changed from Graph\n",
    "for ind, node in e2v_embedding.iterrows(): \n",
    "    G.add_node(int(node['Node']), node_feature=torch.Tensor(node['Embedding']))\n",
    "for ind, edge in edge2vec_df.iterrows(): \n",
    "    G.add_edge(int(edge['index_head']), int(edge['index_tail']))\n",
    "  \n",
    "for node in G.nodes(data=True):\n",
    "    print(node)\n",
    "    break\n",
    "for edge in G.edges(data=True):\n",
    "    print(edge)\n",
    "    break\n",
    "\n",
    "print(\"Number of edges is {}\".format(G.number_of_edges()))\n",
    "print(\"Number of nodes is {}\".format(G.number_of_nodes()))"
   ]
  },
  {
   "cell_type": "code",
   "execution_count": 34,
   "metadata": {},
   "outputs": [
    {
     "name": "stdout",
     "output_type": "stream",
     "text": [
      "torch.Size([2, 85878])\n"
     ]
    }
   ],
   "source": [
    "DeepG = Graph(G)\n",
    "print(DeepG.edge_index.shape)"
   ]
  },
  {
   "attachments": {},
   "cell_type": "markdown",
   "metadata": {},
   "source": [
    "Load arguments and parameters of trained GNN model."
   ]
  },
  {
   "cell_type": "code",
   "execution_count": 35,
   "metadata": {},
   "outputs": [
    {
     "data": {
      "text/plain": [
       "<All keys matched successfully>"
      ]
     },
     "execution_count": 35,
     "metadata": {},
     "output_type": "execute_result"
    }
   ],
   "source": [
    "with open(f'output/best_model_{dataset_nr}_args.pkl', 'rb') as f:\n",
    "    loaded_args = pickle.load(f)\n",
    "    \n",
    "best_model = LinkPredModel(len(e2v_embedding['Embedding'][0]), loaded_args['hidden_dim'], loaded_args['output_dim'], loaded_args['layers'], loaded_args['aggr'], loaded_args['dropout'], loaded_args['device']).to(loaded_args['device'])\n",
    "best_model.load_state_dict(torch.load(f'output/best_model_{dataset_nr}.pth'))"
   ]
  },
  {
   "attachments": {},
   "cell_type": "markdown",
   "metadata": {},
   "source": [
    "Get output of best model given the graph"
   ]
  },
  {
   "cell_type": "code",
   "execution_count": 36,
   "metadata": {},
   "outputs": [
    {
     "name": "stdout",
     "output_type": "stream",
     "text": [
      "torch.Size([10275, 64])\n"
     ]
    }
   ],
   "source": [
    "_, best_x = best_model(DeepG.node_feature, DeepG.edge_index, DeepG.edge_label_index, training = False)\n",
    "print(best_x.shape)"
   ]
  },
  {
   "cell_type": "code",
   "execution_count": 37,
   "metadata": {},
   "outputs": [
    {
     "data": {
      "text/html": [
       "<div>\n",
       "<style scoped>\n",
       "    .dataframe tbody tr th:only-of-type {\n",
       "        vertical-align: middle;\n",
       "    }\n",
       "\n",
       "    .dataframe tbody tr th {\n",
       "        vertical-align: top;\n",
       "    }\n",
       "\n",
       "    .dataframe thead th {\n",
       "        text-align: right;\n",
       "    }\n",
       "</style>\n",
       "<table border=\"1\" class=\"dataframe\">\n",
       "  <thead>\n",
       "    <tr style=\"text-align: right;\">\n",
       "      <th></th>\n",
       "      <th>id</th>\n",
       "      <th>semantic</th>\n",
       "      <th>label</th>\n",
       "      <th>semantic_id</th>\n",
       "    </tr>\n",
       "  </thead>\n",
       "  <tbody>\n",
       "    <tr>\n",
       "      <th>0</th>\n",
       "      <td>MP:0004187</td>\n",
       "      <td>phenotype</td>\n",
       "      <td>cardia bifida</td>\n",
       "      <td>9</td>\n",
       "    </tr>\n",
       "    <tr>\n",
       "      <th>1</th>\n",
       "      <td>ZP:0100138</td>\n",
       "      <td>phenotype</td>\n",
       "      <td>muscle tendon junction myotome increased amoun...</td>\n",
       "      <td>9</td>\n",
       "    </tr>\n",
       "    <tr>\n",
       "      <th>2</th>\n",
       "      <td>MGI:1346525</td>\n",
       "      <td>gene</td>\n",
       "      <td>Sgcd</td>\n",
       "      <td>5</td>\n",
       "    </tr>\n",
       "    <tr>\n",
       "      <th>3</th>\n",
       "      <td>OMIM:300377.0044</td>\n",
       "      <td>variant</td>\n",
       "      <td>DMD, LYS770TER</td>\n",
       "      <td>11</td>\n",
       "    </tr>\n",
       "    <tr>\n",
       "      <th>4</th>\n",
       "      <td>ZP:0002210</td>\n",
       "      <td>phenotype</td>\n",
       "      <td>posterior lateral line neuromast primordium mi...</td>\n",
       "      <td>9</td>\n",
       "    </tr>\n",
       "    <tr>\n",
       "      <th>...</th>\n",
       "      <td>...</td>\n",
       "      <td>...</td>\n",
       "      <td>...</td>\n",
       "      <td>...</td>\n",
       "    </tr>\n",
       "    <tr>\n",
       "      <th>10270</th>\n",
       "      <td>ZP:0014934</td>\n",
       "      <td>phenotype</td>\n",
       "      <td>atrioventricular valve development process qua...</td>\n",
       "      <td>9</td>\n",
       "    </tr>\n",
       "    <tr>\n",
       "      <th>10271</th>\n",
       "      <td>ENSEMBL:ENSCAFG00000011207</td>\n",
       "      <td>gene</td>\n",
       "      <td>ENSEMBL:ENSCAFG00000011207</td>\n",
       "      <td>5</td>\n",
       "    </tr>\n",
       "    <tr>\n",
       "      <th>10272</th>\n",
       "      <td>ENSEMBL:ENSXETG00000039922</td>\n",
       "      <td>gene</td>\n",
       "      <td>ENSEMBL:ENSXETG00000039922</td>\n",
       "      <td>5</td>\n",
       "    </tr>\n",
       "    <tr>\n",
       "      <th>10273</th>\n",
       "      <td>ENSEMBL:ENSACAG00000010058</td>\n",
       "      <td>gene</td>\n",
       "      <td>ENSEMBL:ENSACAG00000010058</td>\n",
       "      <td>5</td>\n",
       "    </tr>\n",
       "    <tr>\n",
       "      <th>10274</th>\n",
       "      <td>WBPhenotype:0000019</td>\n",
       "      <td>phenotype</td>\n",
       "      <td>pharyngeal pumping reduced</td>\n",
       "      <td>9</td>\n",
       "    </tr>\n",
       "  </tbody>\n",
       "</table>\n",
       "<p>10275 rows × 4 columns</p>\n",
       "</div>"
      ],
      "text/plain": [
       "                               id   semantic  \\\n",
       "0                      MP:0004187  phenotype   \n",
       "1                      ZP:0100138  phenotype   \n",
       "2                     MGI:1346525       gene   \n",
       "3                OMIM:300377.0044    variant   \n",
       "4                      ZP:0002210  phenotype   \n",
       "...                           ...        ...   \n",
       "10270                  ZP:0014934  phenotype   \n",
       "10271  ENSEMBL:ENSCAFG00000011207       gene   \n",
       "10272  ENSEMBL:ENSXETG00000039922       gene   \n",
       "10273  ENSEMBL:ENSACAG00000010058       gene   \n",
       "10274         WBPhenotype:0000019  phenotype   \n",
       "\n",
       "                                                   label  semantic_id  \n",
       "0                                          cardia bifida            9  \n",
       "1      muscle tendon junction myotome increased amoun...            9  \n",
       "2                                                   Sgcd            5  \n",
       "3                                         DMD, LYS770TER           11  \n",
       "4      posterior lateral line neuromast primordium mi...            9  \n",
       "...                                                  ...          ...  \n",
       "10270  atrioventricular valve development process qua...            9  \n",
       "10271                         ENSEMBL:ENSCAFG00000011207            5  \n",
       "10272                         ENSEMBL:ENSXETG00000039922            5  \n",
       "10273                         ENSEMBL:ENSACAG00000010058            5  \n",
       "10274                         pharyngeal pumping reduced            9  \n",
       "\n",
       "[10275 rows x 4 columns]"
      ]
     },
     "execution_count": 37,
     "metadata": {},
     "output_type": "execute_result"
    }
   ],
   "source": [
    "nodes"
   ]
  },
  {
   "attachments": {},
   "cell_type": "markdown",
   "metadata": {},
   "source": [
    "Define the score function"
   ]
  },
  {
   "cell_type": "code",
   "execution_count": 38,
   "metadata": {},
   "outputs": [],
   "source": [
    "def score(x, id1, id2): \n",
    "    n1 = x[id1]\n",
    "    n2 = x[id2]\n",
    "    score = torch.Tensor([torch.sum(n1 * n2, dim=-1)])\n",
    "    p = torch.sigmoid(score).cpu().detach().numpy()\n",
    "    return p\n",
    "\n",
    "def candidates(nodes, id, x): \n",
    "  ind = nodes[nodes['id'] == id].index.values.astype(int)[0]\n",
    "  predictions = nodes.copy()\n",
    "  scores = []\n",
    "  for i in range(len(x)):  \n",
    "    s = score(x, i, ind)\n",
    "    scores.append(s)\n",
    "  predictions['Score'] = scores\n",
    "  return predictions"
   ]
  },
  {
   "attachments": {},
   "cell_type": "markdown",
   "metadata": {},
   "source": [
    "Calculate the predictions of an edge existing or not between given node ID and each node in the graph contained by semantic group DRUG. Show the top 20 highest probability that an edge exists between a pair of nodes."
   ]
  },
  {
   "cell_type": "code",
   "execution_count": 39,
   "metadata": {},
   "outputs": [
    {
     "data": {
      "text/html": [
       "<div>\n",
       "<style scoped>\n",
       "    .dataframe tbody tr th:only-of-type {\n",
       "        vertical-align: middle;\n",
       "    }\n",
       "\n",
       "    .dataframe tbody tr th {\n",
       "        vertical-align: top;\n",
       "    }\n",
       "\n",
       "    .dataframe thead th {\n",
       "        text-align: right;\n",
       "    }\n",
       "</style>\n",
       "<table border=\"1\" class=\"dataframe\">\n",
       "  <thead>\n",
       "    <tr style=\"text-align: right;\">\n",
       "      <th></th>\n",
       "      <th>id</th>\n",
       "      <th>semantic</th>\n",
       "      <th>label</th>\n",
       "      <th>semantic_id</th>\n",
       "      <th>Score</th>\n",
       "    </tr>\n",
       "  </thead>\n",
       "  <tbody>\n",
       "    <tr>\n",
       "      <th>9808</th>\n",
       "      <td>1273</td>\n",
       "      <td>drug</td>\n",
       "      <td>gallamine</td>\n",
       "      <td>4</td>\n",
       "      <td>[0.99635977]</td>\n",
       "    </tr>\n",
       "    <tr>\n",
       "      <th>5351</th>\n",
       "      <td>1971</td>\n",
       "      <td>drug</td>\n",
       "      <td>nortriptyline</td>\n",
       "      <td>4</td>\n",
       "      <td>[0.9941597]</td>\n",
       "    </tr>\n",
       "    <tr>\n",
       "      <th>772</th>\n",
       "      <td>176</td>\n",
       "      <td>drug</td>\n",
       "      <td>amiodarone</td>\n",
       "      <td>4</td>\n",
       "      <td>[0.9896588]</td>\n",
       "    </tr>\n",
       "    <tr>\n",
       "      <th>2150</th>\n",
       "      <td>223</td>\n",
       "      <td>drug</td>\n",
       "      <td>octatropine methylbromide</td>\n",
       "      <td>4</td>\n",
       "      <td>[0.9891043]</td>\n",
       "    </tr>\n",
       "    <tr>\n",
       "      <th>6640</th>\n",
       "      <td>65</td>\n",
       "      <td>drug</td>\n",
       "      <td>acetylcholine</td>\n",
       "      <td>4</td>\n",
       "      <td>[0.98631513]</td>\n",
       "    </tr>\n",
       "    <tr>\n",
       "      <th>7315</th>\n",
       "      <td>1043</td>\n",
       "      <td>drug</td>\n",
       "      <td>ergotamine</td>\n",
       "      <td>4</td>\n",
       "      <td>[0.9832756]</td>\n",
       "    </tr>\n",
       "    <tr>\n",
       "      <th>9285</th>\n",
       "      <td>2068</td>\n",
       "      <td>drug</td>\n",
       "      <td>paroxetine</td>\n",
       "      <td>4</td>\n",
       "      <td>[0.9751084]</td>\n",
       "    </tr>\n",
       "    <tr>\n",
       "      <th>9862</th>\n",
       "      <td>2298</td>\n",
       "      <td>drug</td>\n",
       "      <td>propiomazine</td>\n",
       "      <td>4</td>\n",
       "      <td>[0.9743525]</td>\n",
       "    </tr>\n",
       "    <tr>\n",
       "      <th>8128</th>\n",
       "      <td>1757</td>\n",
       "      <td>drug</td>\n",
       "      <td>methscopolamine</td>\n",
       "      <td>4</td>\n",
       "      <td>[0.9636084]</td>\n",
       "    </tr>\n",
       "    <tr>\n",
       "      <th>9663</th>\n",
       "      <td>2774</td>\n",
       "      <td>drug</td>\n",
       "      <td>tropicamide</td>\n",
       "      <td>4</td>\n",
       "      <td>[0.9591486]</td>\n",
       "    </tr>\n",
       "    <tr>\n",
       "      <th>4369</th>\n",
       "      <td>1150</td>\n",
       "      <td>drug</td>\n",
       "      <td>fenfluramine</td>\n",
       "      <td>4</td>\n",
       "      <td>[0.9517102]</td>\n",
       "    </tr>\n",
       "    <tr>\n",
       "      <th>787</th>\n",
       "      <td>2149</td>\n",
       "      <td>drug</td>\n",
       "      <td>phenylpropanolamine</td>\n",
       "      <td>4</td>\n",
       "      <td>[0.9479572]</td>\n",
       "    </tr>\n",
       "    <tr>\n",
       "      <th>2100</th>\n",
       "      <td>832</td>\n",
       "      <td>drug</td>\n",
       "      <td>dexfenfluramine</td>\n",
       "      <td>4</td>\n",
       "      <td>[0.94590414]</td>\n",
       "    </tr>\n",
       "    <tr>\n",
       "      <th>4229</th>\n",
       "      <td>1379</td>\n",
       "      <td>drug</td>\n",
       "      <td>homatropine</td>\n",
       "      <td>4</td>\n",
       "      <td>[0.9404488]</td>\n",
       "    </tr>\n",
       "    <tr>\n",
       "      <th>6955</th>\n",
       "      <td>1646</td>\n",
       "      <td>drug</td>\n",
       "      <td>mecamylamine</td>\n",
       "      <td>4</td>\n",
       "      <td>[0.9403289]</td>\n",
       "    </tr>\n",
       "    <tr>\n",
       "      <th>2289</th>\n",
       "      <td>2865</td>\n",
       "      <td>drug</td>\n",
       "      <td>ziprasidone</td>\n",
       "      <td>4</td>\n",
       "      <td>[0.93879294]</td>\n",
       "    </tr>\n",
       "    <tr>\n",
       "      <th>8265</th>\n",
       "      <td>1726</td>\n",
       "      <td>drug</td>\n",
       "      <td>methacholine</td>\n",
       "      <td>4</td>\n",
       "      <td>[0.9359929]</td>\n",
       "    </tr>\n",
       "    <tr>\n",
       "      <th>8320</th>\n",
       "      <td>749</td>\n",
       "      <td>drug</td>\n",
       "      <td>cyclizine</td>\n",
       "      <td>4</td>\n",
       "      <td>[0.935048]</td>\n",
       "    </tr>\n",
       "    <tr>\n",
       "      <th>1253</th>\n",
       "      <td>1920</td>\n",
       "      <td>drug</td>\n",
       "      <td>nicotine</td>\n",
       "      <td>4</td>\n",
       "      <td>[0.93075067]</td>\n",
       "    </tr>\n",
       "    <tr>\n",
       "      <th>4760</th>\n",
       "      <td>180</td>\n",
       "      <td>drug</td>\n",
       "      <td>amitriptyline</td>\n",
       "      <td>4</td>\n",
       "      <td>[0.9250297]</td>\n",
       "    </tr>\n",
       "  </tbody>\n",
       "</table>\n",
       "</div>"
      ],
      "text/plain": [
       "        id semantic                      label  semantic_id         Score\n",
       "9808  1273     drug                  gallamine            4  [0.99635977]\n",
       "5351  1971     drug              nortriptyline            4   [0.9941597]\n",
       "772    176     drug                 amiodarone            4   [0.9896588]\n",
       "2150   223     drug  octatropine methylbromide            4   [0.9891043]\n",
       "6640    65     drug              acetylcholine            4  [0.98631513]\n",
       "7315  1043     drug                 ergotamine            4   [0.9832756]\n",
       "9285  2068     drug                 paroxetine            4   [0.9751084]\n",
       "9862  2298     drug               propiomazine            4   [0.9743525]\n",
       "8128  1757     drug            methscopolamine            4   [0.9636084]\n",
       "9663  2774     drug                tropicamide            4   [0.9591486]\n",
       "4369  1150     drug               fenfluramine            4   [0.9517102]\n",
       "787   2149     drug        phenylpropanolamine            4   [0.9479572]\n",
       "2100   832     drug            dexfenfluramine            4  [0.94590414]\n",
       "4229  1379     drug                homatropine            4   [0.9404488]\n",
       "6955  1646     drug               mecamylamine            4   [0.9403289]\n",
       "2289  2865     drug                ziprasidone            4  [0.93879294]\n",
       "8265  1726     drug               methacholine            4   [0.9359929]\n",
       "8320   749     drug                  cyclizine            4    [0.935048]\n",
       "1253  1920     drug                   nicotine            4  [0.93075067]\n",
       "4760   180     drug              amitriptyline            4   [0.9250297]"
      ]
     },
     "execution_count": 39,
     "metadata": {},
     "output_type": "execute_result"
    }
   ],
   "source": [
    "if dataset_nr == 1:\n",
    "    drug_semantic = 'DRUG'\n",
    "else:\n",
    "    drug_semantic = 'drug'\n",
    "\n",
    "predictions = candidates(nodes, 'HP:0001265', best_x)\n",
    "predictions[predictions['semantic'] == drug_semantic].sort_values(by = ['Score'], ascending = False).head(20)"
   ]
  },
  {
   "attachments": {},
   "cell_type": "markdown",
   "metadata": {},
   "source": [
    "Use the node semantics dictionary"
   ]
  },
  {
   "cell_type": "code",
   "execution_count": 40,
   "metadata": {},
   "outputs": [
    {
     "data": {
      "text/plain": [
       "{0: 'biological artifact',\n",
       " 1: 'biological process',\n",
       " 2: 'cellular component',\n",
       " 3: 'disease',\n",
       " 4: 'drug',\n",
       " 5: 'gene',\n",
       " 6: 'gene product',\n",
       " 7: 'genotype',\n",
       " 8: 'molecular function',\n",
       " 9: 'phenotype',\n",
       " 10: 'taxon',\n",
       " 11: 'variant'}"
      ]
     },
     "execution_count": 40,
     "metadata": {},
     "output_type": "execute_result"
    }
   ],
   "source": [
    "node_semantic_dict"
   ]
  },
  {
   "attachments": {},
   "cell_type": "markdown",
   "metadata": {},
   "source": [
    "Get all phenotypes and diseases relevant to the disease."
   ]
  },
  {
   "cell_type": "code",
   "execution_count": 41,
   "metadata": {},
   "outputs": [
    {
     "name": "stdout",
     "output_type": "stream",
     "text": [
      "A total of 27 symptoms found that are associated with MONDO:0010679\n"
     ]
    },
    {
     "data": {
      "text/html": [
       "<div>\n",
       "<style scoped>\n",
       "    .dataframe tbody tr th:only-of-type {\n",
       "        vertical-align: middle;\n",
       "    }\n",
       "\n",
       "    .dataframe tbody tr th {\n",
       "        vertical-align: top;\n",
       "    }\n",
       "\n",
       "    .dataframe thead th {\n",
       "        text-align: right;\n",
       "    }\n",
       "</style>\n",
       "<table border=\"1\" class=\"dataframe\">\n",
       "  <thead>\n",
       "    <tr style=\"text-align: right;\">\n",
       "      <th></th>\n",
       "      <th>head</th>\n",
       "      <th>label_head</th>\n",
       "      <th>class_head</th>\n",
       "      <th>index_head</th>\n",
       "      <th>relation</th>\n",
       "      <th>tail</th>\n",
       "      <th>label_tail</th>\n",
       "      <th>class_tail</th>\n",
       "      <th>index_tail</th>\n",
       "      <th>type</th>\n",
       "    </tr>\n",
       "  </thead>\n",
       "  <tbody>\n",
       "    <tr>\n",
       "      <th>41373</th>\n",
       "      <td>MONDO:0010679</td>\n",
       "      <td>Duchenne muscular dystrophy</td>\n",
       "      <td>3</td>\n",
       "      <td>1913</td>\n",
       "      <td>associated with phenotype</td>\n",
       "      <td>HP:0003707</td>\n",
       "      <td>Calf muscle pseudohypertrophy</td>\n",
       "      <td>9</td>\n",
       "      <td>5727</td>\n",
       "      <td>18</td>\n",
       "    </tr>\n",
       "    <tr>\n",
       "      <th>41374</th>\n",
       "      <td>MONDO:0010679</td>\n",
       "      <td>Duchenne muscular dystrophy</td>\n",
       "      <td>3</td>\n",
       "      <td>1913</td>\n",
       "      <td>associated with phenotype</td>\n",
       "      <td>HP:0003236</td>\n",
       "      <td>Elevated serum creatine kinase</td>\n",
       "      <td>9</td>\n",
       "      <td>1351</td>\n",
       "      <td>18</td>\n",
       "    </tr>\n",
       "    <tr>\n",
       "      <th>41375</th>\n",
       "      <td>MONDO:0010679</td>\n",
       "      <td>Duchenne muscular dystrophy</td>\n",
       "      <td>3</td>\n",
       "      <td>1913</td>\n",
       "      <td>associated with phenotype</td>\n",
       "      <td>HP:0001256</td>\n",
       "      <td>Intellectual disability, mild</td>\n",
       "      <td>9</td>\n",
       "      <td>4533</td>\n",
       "      <td>18</td>\n",
       "    </tr>\n",
       "    <tr>\n",
       "      <th>41376</th>\n",
       "      <td>MONDO:0010679</td>\n",
       "      <td>Duchenne muscular dystrophy</td>\n",
       "      <td>3</td>\n",
       "      <td>1913</td>\n",
       "      <td>associated with phenotype</td>\n",
       "      <td>HP:0001265</td>\n",
       "      <td>Hyporeflexia</td>\n",
       "      <td>9</td>\n",
       "      <td>6515</td>\n",
       "      <td>18</td>\n",
       "    </tr>\n",
       "    <tr>\n",
       "      <th>41377</th>\n",
       "      <td>MONDO:0010679</td>\n",
       "      <td>Duchenne muscular dystrophy</td>\n",
       "      <td>3</td>\n",
       "      <td>1913</td>\n",
       "      <td>associated with phenotype</td>\n",
       "      <td>HP:0001290</td>\n",
       "      <td>Generalized hypotonia</td>\n",
       "      <td>9</td>\n",
       "      <td>5372</td>\n",
       "      <td>18</td>\n",
       "    </tr>\n",
       "    <tr>\n",
       "      <th>41378</th>\n",
       "      <td>MONDO:0010679</td>\n",
       "      <td>Duchenne muscular dystrophy</td>\n",
       "      <td>3</td>\n",
       "      <td>1913</td>\n",
       "      <td>associated with phenotype</td>\n",
       "      <td>HP:0003307</td>\n",
       "      <td>Hyperlordosis</td>\n",
       "      <td>9</td>\n",
       "      <td>2737</td>\n",
       "      <td>18</td>\n",
       "    </tr>\n",
       "    <tr>\n",
       "      <th>41379</th>\n",
       "      <td>MONDO:0010679</td>\n",
       "      <td>Duchenne muscular dystrophy</td>\n",
       "      <td>3</td>\n",
       "      <td>1913</td>\n",
       "      <td>associated with phenotype</td>\n",
       "      <td>HP:0003202</td>\n",
       "      <td>Skeletal muscle atrophy</td>\n",
       "      <td>9</td>\n",
       "      <td>788</td>\n",
       "      <td>18</td>\n",
       "    </tr>\n",
       "    <tr>\n",
       "      <th>41380</th>\n",
       "      <td>MONDO:0010679</td>\n",
       "      <td>Duchenne muscular dystrophy</td>\n",
       "      <td>3</td>\n",
       "      <td>1913</td>\n",
       "      <td>associated with phenotype</td>\n",
       "      <td>HP:0001263</td>\n",
       "      <td>Global developmental delay</td>\n",
       "      <td>9</td>\n",
       "      <td>7259</td>\n",
       "      <td>18</td>\n",
       "    </tr>\n",
       "    <tr>\n",
       "      <th>41381</th>\n",
       "      <td>MONDO:0010679</td>\n",
       "      <td>Duchenne muscular dystrophy</td>\n",
       "      <td>3</td>\n",
       "      <td>1913</td>\n",
       "      <td>associated with phenotype</td>\n",
       "      <td>HP:0002791</td>\n",
       "      <td>Hypoventilation</td>\n",
       "      <td>9</td>\n",
       "      <td>1682</td>\n",
       "      <td>18</td>\n",
       "    </tr>\n",
       "    <tr>\n",
       "      <th>41382</th>\n",
       "      <td>MONDO:0010679</td>\n",
       "      <td>Duchenne muscular dystrophy</td>\n",
       "      <td>3</td>\n",
       "      <td>1913</td>\n",
       "      <td>associated with phenotype</td>\n",
       "      <td>HP:0001371</td>\n",
       "      <td>Flexion contracture</td>\n",
       "      <td>9</td>\n",
       "      <td>5052</td>\n",
       "      <td>18</td>\n",
       "    </tr>\n",
       "    <tr>\n",
       "      <th>41383</th>\n",
       "      <td>MONDO:0010679</td>\n",
       "      <td>Duchenne muscular dystrophy</td>\n",
       "      <td>3</td>\n",
       "      <td>1913</td>\n",
       "      <td>associated with phenotype</td>\n",
       "      <td>HP:0003701</td>\n",
       "      <td>Proximal muscle weakness</td>\n",
       "      <td>9</td>\n",
       "      <td>5762</td>\n",
       "      <td>18</td>\n",
       "    </tr>\n",
       "    <tr>\n",
       "      <th>41384</th>\n",
       "      <td>MONDO:0010679</td>\n",
       "      <td>Duchenne muscular dystrophy</td>\n",
       "      <td>3</td>\n",
       "      <td>1913</td>\n",
       "      <td>associated with phenotype</td>\n",
       "      <td>HP:0001270</td>\n",
       "      <td>Motor delay</td>\n",
       "      <td>9</td>\n",
       "      <td>1429</td>\n",
       "      <td>18</td>\n",
       "    </tr>\n",
       "    <tr>\n",
       "      <th>41386</th>\n",
       "      <td>MONDO:0010679</td>\n",
       "      <td>Duchenne muscular dystrophy</td>\n",
       "      <td>3</td>\n",
       "      <td>1913</td>\n",
       "      <td>associated with phenotype</td>\n",
       "      <td>HP:0003560</td>\n",
       "      <td>Muscular dystrophy</td>\n",
       "      <td>9</td>\n",
       "      <td>898</td>\n",
       "      <td>18</td>\n",
       "    </tr>\n",
       "    <tr>\n",
       "      <th>41387</th>\n",
       "      <td>MONDO:0010679</td>\n",
       "      <td>Duchenne muscular dystrophy</td>\n",
       "      <td>3</td>\n",
       "      <td>1913</td>\n",
       "      <td>associated with phenotype</td>\n",
       "      <td>HP:0008981</td>\n",
       "      <td>Calf muscle hypertrophy</td>\n",
       "      <td>9</td>\n",
       "      <td>4673</td>\n",
       "      <td>18</td>\n",
       "    </tr>\n",
       "    <tr>\n",
       "      <th>41388</th>\n",
       "      <td>MONDO:0010679</td>\n",
       "      <td>Duchenne muscular dystrophy</td>\n",
       "      <td>3</td>\n",
       "      <td>1913</td>\n",
       "      <td>associated with phenotype</td>\n",
       "      <td>HP:0002650</td>\n",
       "      <td>Scoliosis</td>\n",
       "      <td>9</td>\n",
       "      <td>4540</td>\n",
       "      <td>18</td>\n",
       "    </tr>\n",
       "    <tr>\n",
       "      <th>41389</th>\n",
       "      <td>MONDO:0010679</td>\n",
       "      <td>Duchenne muscular dystrophy</td>\n",
       "      <td>3</td>\n",
       "      <td>1913</td>\n",
       "      <td>associated with phenotype</td>\n",
       "      <td>HP:0001638</td>\n",
       "      <td>Cardiomyopathy</td>\n",
       "      <td>9</td>\n",
       "      <td>3222</td>\n",
       "      <td>18</td>\n",
       "    </tr>\n",
       "    <tr>\n",
       "      <th>41390</th>\n",
       "      <td>MONDO:0010679</td>\n",
       "      <td>Duchenne muscular dystrophy</td>\n",
       "      <td>3</td>\n",
       "      <td>1913</td>\n",
       "      <td>associated with phenotype</td>\n",
       "      <td>HP:0003323</td>\n",
       "      <td>Progressive muscle weakness</td>\n",
       "      <td>9</td>\n",
       "      <td>10187</td>\n",
       "      <td>18</td>\n",
       "    </tr>\n",
       "    <tr>\n",
       "      <th>41391</th>\n",
       "      <td>MONDO:0010679</td>\n",
       "      <td>Duchenne muscular dystrophy</td>\n",
       "      <td>3</td>\n",
       "      <td>1913</td>\n",
       "      <td>associated with phenotype</td>\n",
       "      <td>HP:0001635</td>\n",
       "      <td>Congestive heart failure</td>\n",
       "      <td>9</td>\n",
       "      <td>1660</td>\n",
       "      <td>18</td>\n",
       "    </tr>\n",
       "    <tr>\n",
       "      <th>41392</th>\n",
       "      <td>MONDO:0010679</td>\n",
       "      <td>Duchenne muscular dystrophy</td>\n",
       "      <td>3</td>\n",
       "      <td>1913</td>\n",
       "      <td>associated with phenotype</td>\n",
       "      <td>HP:0000750</td>\n",
       "      <td>Delayed speech and language development</td>\n",
       "      <td>9</td>\n",
       "      <td>7722</td>\n",
       "      <td>18</td>\n",
       "    </tr>\n",
       "    <tr>\n",
       "      <th>41393</th>\n",
       "      <td>MONDO:0010679</td>\n",
       "      <td>Duchenne muscular dystrophy</td>\n",
       "      <td>3</td>\n",
       "      <td>1913</td>\n",
       "      <td>associated with phenotype</td>\n",
       "      <td>HP:0003115</td>\n",
       "      <td>Abnormal EKG</td>\n",
       "      <td>9</td>\n",
       "      <td>3941</td>\n",
       "      <td>18</td>\n",
       "    </tr>\n",
       "    <tr>\n",
       "      <th>41394</th>\n",
       "      <td>MONDO:0010679</td>\n",
       "      <td>Duchenne muscular dystrophy</td>\n",
       "      <td>3</td>\n",
       "      <td>1913</td>\n",
       "      <td>associated with phenotype</td>\n",
       "      <td>HP:0011675</td>\n",
       "      <td>Arrhythmia</td>\n",
       "      <td>9</td>\n",
       "      <td>4336</td>\n",
       "      <td>18</td>\n",
       "    </tr>\n",
       "    <tr>\n",
       "      <th>41395</th>\n",
       "      <td>MONDO:0010679</td>\n",
       "      <td>Duchenne muscular dystrophy</td>\n",
       "      <td>3</td>\n",
       "      <td>1913</td>\n",
       "      <td>associated with phenotype</td>\n",
       "      <td>HP:0003391</td>\n",
       "      <td>Gowers sign</td>\n",
       "      <td>9</td>\n",
       "      <td>8594</td>\n",
       "      <td>18</td>\n",
       "    </tr>\n",
       "    <tr>\n",
       "      <th>41397</th>\n",
       "      <td>MONDO:0010679</td>\n",
       "      <td>Duchenne muscular dystrophy</td>\n",
       "      <td>3</td>\n",
       "      <td>1913</td>\n",
       "      <td>associated with phenotype</td>\n",
       "      <td>HP:0002093</td>\n",
       "      <td>Respiratory insufficiency</td>\n",
       "      <td>9</td>\n",
       "      <td>1688</td>\n",
       "      <td>18</td>\n",
       "    </tr>\n",
       "    <tr>\n",
       "      <th>41398</th>\n",
       "      <td>MONDO:0010679</td>\n",
       "      <td>Duchenne muscular dystrophy</td>\n",
       "      <td>3</td>\n",
       "      <td>1913</td>\n",
       "      <td>associated with phenotype</td>\n",
       "      <td>HP:0100543</td>\n",
       "      <td>Cognitive impairment</td>\n",
       "      <td>9</td>\n",
       "      <td>9574</td>\n",
       "      <td>18</td>\n",
       "    </tr>\n",
       "    <tr>\n",
       "      <th>41399</th>\n",
       "      <td>MONDO:0010679</td>\n",
       "      <td>Duchenne muscular dystrophy</td>\n",
       "      <td>3</td>\n",
       "      <td>1913</td>\n",
       "      <td>associated with phenotype</td>\n",
       "      <td>HP:0001644</td>\n",
       "      <td>Dilated cardiomyopathy</td>\n",
       "      <td>9</td>\n",
       "      <td>556</td>\n",
       "      <td>18</td>\n",
       "    </tr>\n",
       "    <tr>\n",
       "      <th>41400</th>\n",
       "      <td>MONDO:0010679</td>\n",
       "      <td>Duchenne muscular dystrophy</td>\n",
       "      <td>3</td>\n",
       "      <td>1913</td>\n",
       "      <td>associated with phenotype</td>\n",
       "      <td>HP:0002515</td>\n",
       "      <td>Waddling gait</td>\n",
       "      <td>9</td>\n",
       "      <td>1474</td>\n",
       "      <td>18</td>\n",
       "    </tr>\n",
       "    <tr>\n",
       "      <th>41401</th>\n",
       "      <td>MONDO:0010679</td>\n",
       "      <td>Duchenne muscular dystrophy</td>\n",
       "      <td>3</td>\n",
       "      <td>1913</td>\n",
       "      <td>associated with phenotype</td>\n",
       "      <td>HP:0001328</td>\n",
       "      <td>Specific learning disability</td>\n",
       "      <td>9</td>\n",
       "      <td>1174</td>\n",
       "      <td>18</td>\n",
       "    </tr>\n",
       "  </tbody>\n",
       "</table>\n",
       "</div>"
      ],
      "text/plain": [
       "                head                   label_head  class_head index_head  \\\n",
       "41373  MONDO:0010679  Duchenne muscular dystrophy           3       1913   \n",
       "41374  MONDO:0010679  Duchenne muscular dystrophy           3       1913   \n",
       "41375  MONDO:0010679  Duchenne muscular dystrophy           3       1913   \n",
       "41376  MONDO:0010679  Duchenne muscular dystrophy           3       1913   \n",
       "41377  MONDO:0010679  Duchenne muscular dystrophy           3       1913   \n",
       "41378  MONDO:0010679  Duchenne muscular dystrophy           3       1913   \n",
       "41379  MONDO:0010679  Duchenne muscular dystrophy           3       1913   \n",
       "41380  MONDO:0010679  Duchenne muscular dystrophy           3       1913   \n",
       "41381  MONDO:0010679  Duchenne muscular dystrophy           3       1913   \n",
       "41382  MONDO:0010679  Duchenne muscular dystrophy           3       1913   \n",
       "41383  MONDO:0010679  Duchenne muscular dystrophy           3       1913   \n",
       "41384  MONDO:0010679  Duchenne muscular dystrophy           3       1913   \n",
       "41386  MONDO:0010679  Duchenne muscular dystrophy           3       1913   \n",
       "41387  MONDO:0010679  Duchenne muscular dystrophy           3       1913   \n",
       "41388  MONDO:0010679  Duchenne muscular dystrophy           3       1913   \n",
       "41389  MONDO:0010679  Duchenne muscular dystrophy           3       1913   \n",
       "41390  MONDO:0010679  Duchenne muscular dystrophy           3       1913   \n",
       "41391  MONDO:0010679  Duchenne muscular dystrophy           3       1913   \n",
       "41392  MONDO:0010679  Duchenne muscular dystrophy           3       1913   \n",
       "41393  MONDO:0010679  Duchenne muscular dystrophy           3       1913   \n",
       "41394  MONDO:0010679  Duchenne muscular dystrophy           3       1913   \n",
       "41395  MONDO:0010679  Duchenne muscular dystrophy           3       1913   \n",
       "41397  MONDO:0010679  Duchenne muscular dystrophy           3       1913   \n",
       "41398  MONDO:0010679  Duchenne muscular dystrophy           3       1913   \n",
       "41399  MONDO:0010679  Duchenne muscular dystrophy           3       1913   \n",
       "41400  MONDO:0010679  Duchenne muscular dystrophy           3       1913   \n",
       "41401  MONDO:0010679  Duchenne muscular dystrophy           3       1913   \n",
       "\n",
       "                        relation        tail  \\\n",
       "41373  associated with phenotype  HP:0003707   \n",
       "41374  associated with phenotype  HP:0003236   \n",
       "41375  associated with phenotype  HP:0001256   \n",
       "41376  associated with phenotype  HP:0001265   \n",
       "41377  associated with phenotype  HP:0001290   \n",
       "41378  associated with phenotype  HP:0003307   \n",
       "41379  associated with phenotype  HP:0003202   \n",
       "41380  associated with phenotype  HP:0001263   \n",
       "41381  associated with phenotype  HP:0002791   \n",
       "41382  associated with phenotype  HP:0001371   \n",
       "41383  associated with phenotype  HP:0003701   \n",
       "41384  associated with phenotype  HP:0001270   \n",
       "41386  associated with phenotype  HP:0003560   \n",
       "41387  associated with phenotype  HP:0008981   \n",
       "41388  associated with phenotype  HP:0002650   \n",
       "41389  associated with phenotype  HP:0001638   \n",
       "41390  associated with phenotype  HP:0003323   \n",
       "41391  associated with phenotype  HP:0001635   \n",
       "41392  associated with phenotype  HP:0000750   \n",
       "41393  associated with phenotype  HP:0003115   \n",
       "41394  associated with phenotype  HP:0011675   \n",
       "41395  associated with phenotype  HP:0003391   \n",
       "41397  associated with phenotype  HP:0002093   \n",
       "41398  associated with phenotype  HP:0100543   \n",
       "41399  associated with phenotype  HP:0001644   \n",
       "41400  associated with phenotype  HP:0002515   \n",
       "41401  associated with phenotype  HP:0001328   \n",
       "\n",
       "                                    label_tail  class_tail index_tail  type  \n",
       "41373            Calf muscle pseudohypertrophy           9       5727    18  \n",
       "41374           Elevated serum creatine kinase           9       1351    18  \n",
       "41375            Intellectual disability, mild           9       4533    18  \n",
       "41376                             Hyporeflexia           9       6515    18  \n",
       "41377                    Generalized hypotonia           9       5372    18  \n",
       "41378                            Hyperlordosis           9       2737    18  \n",
       "41379                  Skeletal muscle atrophy           9        788    18  \n",
       "41380               Global developmental delay           9       7259    18  \n",
       "41381                          Hypoventilation           9       1682    18  \n",
       "41382                      Flexion contracture           9       5052    18  \n",
       "41383                 Proximal muscle weakness           9       5762    18  \n",
       "41384                              Motor delay           9       1429    18  \n",
       "41386                       Muscular dystrophy           9        898    18  \n",
       "41387                  Calf muscle hypertrophy           9       4673    18  \n",
       "41388                                Scoliosis           9       4540    18  \n",
       "41389                           Cardiomyopathy           9       3222    18  \n",
       "41390              Progressive muscle weakness           9      10187    18  \n",
       "41391                 Congestive heart failure           9       1660    18  \n",
       "41392  Delayed speech and language development           9       7722    18  \n",
       "41393                             Abnormal EKG           9       3941    18  \n",
       "41394                               Arrhythmia           9       4336    18  \n",
       "41395                              Gowers sign           9       8594    18  \n",
       "41397                Respiratory insufficiency           9       1688    18  \n",
       "41398                     Cognitive impairment           9       9574    18  \n",
       "41399                   Dilated cardiomyopathy           9        556    18  \n",
       "41400                            Waddling gait           9       1474    18  \n",
       "41401             Specific learning disability           9       1174    18  "
      ]
     },
     "execution_count": 41,
     "metadata": {},
     "output_type": "execute_result"
    }
   ],
   "source": [
    "if dataset_nr == 1:\n",
    "    pheno_rel = 'has phenotype'\n",
    "else:\n",
    "    pheno_rel = 'associated with phenotype'\n",
    "\n",
    "disease_ID = 'MONDO:0010679'\n",
    "relation_index = list(relation_labels).index(pheno_rel)\n",
    "\n",
    "symptoms = edge2vec_df[(edge2vec_df['head'] == 'MONDO:0010679') & (edge2vec_df['type'] == relation_index)]\n",
    "\n",
    "print(f'A total of {symptoms.shape[0]} symptoms found that are associated with {disease_ID}')\n",
    "symptoms.head(symptoms.shape[0])"
   ]
  },
  {
   "attachments": {},
   "cell_type": "markdown",
   "metadata": {},
   "source": [
    "Check alignment between dataframes containing the associations and the nodes"
   ]
  },
  {
   "cell_type": "code",
   "execution_count": 42,
   "metadata": {},
   "outputs": [
    {
     "data": {
      "text/html": [
       "<div>\n",
       "<style scoped>\n",
       "    .dataframe tbody tr th:only-of-type {\n",
       "        vertical-align: middle;\n",
       "    }\n",
       "\n",
       "    .dataframe tbody tr th {\n",
       "        vertical-align: top;\n",
       "    }\n",
       "\n",
       "    .dataframe thead th {\n",
       "        text-align: right;\n",
       "    }\n",
       "</style>\n",
       "<table border=\"1\" class=\"dataframe\">\n",
       "  <thead>\n",
       "    <tr style=\"text-align: right;\">\n",
       "      <th></th>\n",
       "      <th>id</th>\n",
       "      <th>semantic</th>\n",
       "      <th>label</th>\n",
       "      <th>semantic_id</th>\n",
       "    </tr>\n",
       "  </thead>\n",
       "  <tbody>\n",
       "    <tr>\n",
       "      <th>6315</th>\n",
       "      <td>WBPhenotype:0001833</td>\n",
       "      <td>phenotype</td>\n",
       "      <td>membrane trafficking variant</td>\n",
       "      <td>9</td>\n",
       "    </tr>\n",
       "  </tbody>\n",
       "</table>\n",
       "</div>"
      ],
      "text/plain": [
       "                       id   semantic                         label  \\\n",
       "6315  WBPhenotype:0001833  phenotype  membrane trafficking variant   \n",
       "\n",
       "      semantic_id  \n",
       "6315            9  "
      ]
     },
     "execution_count": 42,
     "metadata": {},
     "output_type": "execute_result"
    }
   ],
   "source": [
    "nodes.loc[[6315]]"
   ]
  },
  {
   "cell_type": "markdown",
   "metadata": {},
   "source": [
    "Get list of drugs that appear at least once in the top 3 of suggested drugs for an associated phenotype"
   ]
  },
  {
   "cell_type": "code",
   "execution_count": 43,
   "metadata": {},
   "outputs": [],
   "source": [
    "def add_drug_candidate(candidates, drug_name):\n",
    "    if drug_name in candidates:\n",
    "        candidates[drug_name] += 1\n",
    "    else:\n",
    "        candidates[drug_name] = 1\n",
    "        \n",
    "    return candidates\n",
    "\n",
    "drug_candidates = {}\n",
    "symptom_drugs = {}\n",
    "\n",
    "for ind, symptom in symptoms.iterrows(): \n",
    "    symptom_id = symptom['tail']\n",
    "    symptom_drugs[symptom_id] = []\n",
    "    \n",
    "    predictions = candidates(nodes, symptom_id, best_x)\n",
    "    ordered_predictions = predictions[predictions['semantic'] == drug_semantic].sort_values(by = ['Score'], ascending = False).head(3)\n",
    "    \n",
    "    for ind, drug in ordered_predictions.iterrows():\n",
    "        symptom_drugs[symptom_id].append(drug['id'])\n",
    "        drug_candidates = add_drug_candidate(drug_candidates, drug['label'])"
   ]
  },
  {
   "cell_type": "markdown",
   "metadata": {},
   "source": [
    "Get list of drug candidate ids per relevant symptom id."
   ]
  },
  {
   "cell_type": "code",
   "execution_count": 44,
   "metadata": {},
   "outputs": [
    {
     "data": {
      "text/html": [
       "<div>\n",
       "<style scoped>\n",
       "    .dataframe tbody tr th:only-of-type {\n",
       "        vertical-align: middle;\n",
       "    }\n",
       "\n",
       "    .dataframe tbody tr th {\n",
       "        vertical-align: top;\n",
       "    }\n",
       "\n",
       "    .dataframe thead th {\n",
       "        text-align: right;\n",
       "    }\n",
       "</style>\n",
       "<table border=\"1\" class=\"dataframe\">\n",
       "  <thead>\n",
       "    <tr style=\"text-align: right;\">\n",
       "      <th></th>\n",
       "      <th>Symptom</th>\n",
       "      <th>Candidates</th>\n",
       "    </tr>\n",
       "  </thead>\n",
       "  <tbody>\n",
       "    <tr>\n",
       "      <th>0</th>\n",
       "      <td>HP:0003707</td>\n",
       "      <td>[2774, 176, 1043]</td>\n",
       "    </tr>\n",
       "    <tr>\n",
       "      <th>1</th>\n",
       "      <td>HP:0003236</td>\n",
       "      <td>[1043, 176, 1971]</td>\n",
       "    </tr>\n",
       "    <tr>\n",
       "      <th>2</th>\n",
       "      <td>HP:0001256</td>\n",
       "      <td>[65, 1273, 1971]</td>\n",
       "    </tr>\n",
       "    <tr>\n",
       "      <th>3</th>\n",
       "      <td>HP:0001265</td>\n",
       "      <td>[1273, 1971, 176]</td>\n",
       "    </tr>\n",
       "    <tr>\n",
       "      <th>4</th>\n",
       "      <td>HP:0001290</td>\n",
       "      <td>[1971, 1043, 2630]</td>\n",
       "    </tr>\n",
       "    <tr>\n",
       "      <th>5</th>\n",
       "      <td>HP:0003307</td>\n",
       "      <td>[176, 2774, 1043]</td>\n",
       "    </tr>\n",
       "    <tr>\n",
       "      <th>6</th>\n",
       "      <td>HP:0003202</td>\n",
       "      <td>[1273, 1043, 2774]</td>\n",
       "    </tr>\n",
       "    <tr>\n",
       "      <th>7</th>\n",
       "      <td>HP:0001263</td>\n",
       "      <td>[1273, 1150, 832]</td>\n",
       "    </tr>\n",
       "    <tr>\n",
       "      <th>8</th>\n",
       "      <td>HP:0002791</td>\n",
       "      <td>[1273, 1646, 271]</td>\n",
       "    </tr>\n",
       "    <tr>\n",
       "      <th>9</th>\n",
       "      <td>HP:0001371</td>\n",
       "      <td>[1043, 522, 1273]</td>\n",
       "    </tr>\n",
       "    <tr>\n",
       "      <th>10</th>\n",
       "      <td>HP:0003701</td>\n",
       "      <td>[1273, 1971, 176]</td>\n",
       "    </tr>\n",
       "    <tr>\n",
       "      <th>11</th>\n",
       "      <td>HP:0001270</td>\n",
       "      <td>[1273, 176, 1646]</td>\n",
       "    </tr>\n",
       "    <tr>\n",
       "      <th>12</th>\n",
       "      <td>HP:0003560</td>\n",
       "      <td>[1043, 2774, 1273]</td>\n",
       "    </tr>\n",
       "    <tr>\n",
       "      <th>13</th>\n",
       "      <td>HP:0008981</td>\n",
       "      <td>[176, 2774, 5345]</td>\n",
       "    </tr>\n",
       "    <tr>\n",
       "      <th>14</th>\n",
       "      <td>HP:0002650</td>\n",
       "      <td>[1043, 1273, 5345]</td>\n",
       "    </tr>\n",
       "    <tr>\n",
       "      <th>15</th>\n",
       "      <td>HP:0001638</td>\n",
       "      <td>[176, 2774, 1273]</td>\n",
       "    </tr>\n",
       "    <tr>\n",
       "      <th>16</th>\n",
       "      <td>HP:0003323</td>\n",
       "      <td>[223, 176, 1971]</td>\n",
       "    </tr>\n",
       "    <tr>\n",
       "      <th>17</th>\n",
       "      <td>HP:0001635</td>\n",
       "      <td>[1576, 522, 313]</td>\n",
       "    </tr>\n",
       "    <tr>\n",
       "      <th>18</th>\n",
       "      <td>HP:0000750</td>\n",
       "      <td>[1273, 1646, 1920]</td>\n",
       "    </tr>\n",
       "    <tr>\n",
       "      <th>19</th>\n",
       "      <td>HP:0003115</td>\n",
       "      <td>[1726, 1043, 223]</td>\n",
       "    </tr>\n",
       "    <tr>\n",
       "      <th>20</th>\n",
       "      <td>HP:0011675</td>\n",
       "      <td>[231, 2774, 65]</td>\n",
       "    </tr>\n",
       "    <tr>\n",
       "      <th>21</th>\n",
       "      <td>HP:0003391</td>\n",
       "      <td>[2774, 176, 1273]</td>\n",
       "    </tr>\n",
       "    <tr>\n",
       "      <th>22</th>\n",
       "      <td>HP:0002093</td>\n",
       "      <td>[1971, 1273, 65]</td>\n",
       "    </tr>\n",
       "    <tr>\n",
       "      <th>23</th>\n",
       "      <td>HP:0100543</td>\n",
       "      <td>[1273, 1043, 1646]</td>\n",
       "    </tr>\n",
       "    <tr>\n",
       "      <th>24</th>\n",
       "      <td>HP:0001644</td>\n",
       "      <td>[176, 223, 1043]</td>\n",
       "    </tr>\n",
       "    <tr>\n",
       "      <th>25</th>\n",
       "      <td>HP:0002515</td>\n",
       "      <td>[176, 1273, 1043]</td>\n",
       "    </tr>\n",
       "    <tr>\n",
       "      <th>26</th>\n",
       "      <td>HP:0001328</td>\n",
       "      <td>[65, 1273, 1043]</td>\n",
       "    </tr>\n",
       "  </tbody>\n",
       "</table>\n",
       "</div>"
      ],
      "text/plain": [
       "       Symptom          Candidates\n",
       "0   HP:0003707   [2774, 176, 1043]\n",
       "1   HP:0003236   [1043, 176, 1971]\n",
       "2   HP:0001256    [65, 1273, 1971]\n",
       "3   HP:0001265   [1273, 1971, 176]\n",
       "4   HP:0001290  [1971, 1043, 2630]\n",
       "5   HP:0003307   [176, 2774, 1043]\n",
       "6   HP:0003202  [1273, 1043, 2774]\n",
       "7   HP:0001263   [1273, 1150, 832]\n",
       "8   HP:0002791   [1273, 1646, 271]\n",
       "9   HP:0001371   [1043, 522, 1273]\n",
       "10  HP:0003701   [1273, 1971, 176]\n",
       "11  HP:0001270   [1273, 176, 1646]\n",
       "12  HP:0003560  [1043, 2774, 1273]\n",
       "13  HP:0008981   [176, 2774, 5345]\n",
       "14  HP:0002650  [1043, 1273, 5345]\n",
       "15  HP:0001638   [176, 2774, 1273]\n",
       "16  HP:0003323    [223, 176, 1971]\n",
       "17  HP:0001635    [1576, 522, 313]\n",
       "18  HP:0000750  [1273, 1646, 1920]\n",
       "19  HP:0003115   [1726, 1043, 223]\n",
       "20  HP:0011675     [231, 2774, 65]\n",
       "21  HP:0003391   [2774, 176, 1273]\n",
       "22  HP:0002093    [1971, 1273, 65]\n",
       "23  HP:0100543  [1273, 1043, 1646]\n",
       "24  HP:0001644    [176, 223, 1043]\n",
       "25  HP:0002515   [176, 1273, 1043]\n",
       "26  HP:0001328    [65, 1273, 1043]"
      ]
     },
     "execution_count": 44,
     "metadata": {},
     "output_type": "execute_result"
    }
   ],
   "source": [
    "symptom_drugs_df_dict = {\n",
    "    'Symptom': [],\n",
    "    'Candidates': [] \n",
    "}\n",
    "for key, val in symptom_drugs.items():\n",
    "    symptom_drugs_df_dict['Symptom'].append(key)\n",
    "    symptom_drugs_df_dict['Candidates'].append(val)\n",
    "    \n",
    "symptom_drugs_df = pd.DataFrame.from_dict(symptom_drugs_df_dict)\n",
    "symptom_drugs_df.to_csv(f'output/symptom_drugs_{dataset_nr}.csv', index=False)\n",
    "\n",
    "symptom_drugs_df"
   ]
  },
  {
   "cell_type": "markdown",
   "metadata": {},
   "source": [
    "Save dataframe as csv file with all drugs and their total of appearances as a candidate for one or more relevant symptoms."
   ]
  },
  {
   "cell_type": "code",
   "execution_count": 45,
   "metadata": {},
   "outputs": [
    {
     "data": {
      "text/html": [
       "<div>\n",
       "<style scoped>\n",
       "    .dataframe tbody tr th:only-of-type {\n",
       "        vertical-align: middle;\n",
       "    }\n",
       "\n",
       "    .dataframe tbody tr th {\n",
       "        vertical-align: top;\n",
       "    }\n",
       "\n",
       "    .dataframe thead th {\n",
       "        text-align: right;\n",
       "    }\n",
       "</style>\n",
       "<table border=\"1\" class=\"dataframe\">\n",
       "  <thead>\n",
       "    <tr style=\"text-align: right;\">\n",
       "      <th></th>\n",
       "      <th>Drug</th>\n",
       "      <th>Appearances</th>\n",
       "      <th>Percentage</th>\n",
       "    </tr>\n",
       "  </thead>\n",
       "  <tbody>\n",
       "    <tr>\n",
       "      <th>5</th>\n",
       "      <td>gallamine</td>\n",
       "      <td>17</td>\n",
       "      <td>62.96%</td>\n",
       "    </tr>\n",
       "    <tr>\n",
       "      <th>2</th>\n",
       "      <td>ergotamine</td>\n",
       "      <td>13</td>\n",
       "      <td>48.15%</td>\n",
       "    </tr>\n",
       "    <tr>\n",
       "      <th>1</th>\n",
       "      <td>amiodarone</td>\n",
       "      <td>12</td>\n",
       "      <td>44.44%</td>\n",
       "    </tr>\n",
       "    <tr>\n",
       "      <th>0</th>\n",
       "      <td>tropicamide</td>\n",
       "      <td>8</td>\n",
       "      <td>29.63%</td>\n",
       "    </tr>\n",
       "    <tr>\n",
       "      <th>3</th>\n",
       "      <td>nortriptyline</td>\n",
       "      <td>7</td>\n",
       "      <td>25.93%</td>\n",
       "    </tr>\n",
       "    <tr>\n",
       "      <th>9</th>\n",
       "      <td>mecamylamine</td>\n",
       "      <td>4</td>\n",
       "      <td>14.81%</td>\n",
       "    </tr>\n",
       "    <tr>\n",
       "      <th>4</th>\n",
       "      <td>acetylcholine</td>\n",
       "      <td>4</td>\n",
       "      <td>14.81%</td>\n",
       "    </tr>\n",
       "    <tr>\n",
       "      <th>13</th>\n",
       "      <td>octatropine methylbromide</td>\n",
       "      <td>3</td>\n",
       "      <td>11.11%</td>\n",
       "    </tr>\n",
       "    <tr>\n",
       "      <th>11</th>\n",
       "      <td>carvedilol</td>\n",
       "      <td>2</td>\n",
       "      <td>7.41%</td>\n",
       "    </tr>\n",
       "    <tr>\n",
       "      <th>12</th>\n",
       "      <td>entrectinib</td>\n",
       "      <td>2</td>\n",
       "      <td>7.41%</td>\n",
       "    </tr>\n",
       "    <tr>\n",
       "      <th>6</th>\n",
       "      <td>thiethylperazine</td>\n",
       "      <td>1</td>\n",
       "      <td>3.70%</td>\n",
       "    </tr>\n",
       "    <tr>\n",
       "      <th>7</th>\n",
       "      <td>fenfluramine</td>\n",
       "      <td>1</td>\n",
       "      <td>3.70%</td>\n",
       "    </tr>\n",
       "    <tr>\n",
       "      <th>8</th>\n",
       "      <td>dexfenfluramine</td>\n",
       "      <td>1</td>\n",
       "      <td>3.70%</td>\n",
       "    </tr>\n",
       "    <tr>\n",
       "      <th>10</th>\n",
       "      <td>azelastine</td>\n",
       "      <td>1</td>\n",
       "      <td>3.70%</td>\n",
       "    </tr>\n",
       "    <tr>\n",
       "      <th>14</th>\n",
       "      <td>levosimendan</td>\n",
       "      <td>1</td>\n",
       "      <td>3.70%</td>\n",
       "    </tr>\n",
       "    <tr>\n",
       "      <th>15</th>\n",
       "      <td>diphenidol</td>\n",
       "      <td>1</td>\n",
       "      <td>3.70%</td>\n",
       "    </tr>\n",
       "    <tr>\n",
       "      <th>16</th>\n",
       "      <td>nicotine</td>\n",
       "      <td>1</td>\n",
       "      <td>3.70%</td>\n",
       "    </tr>\n",
       "    <tr>\n",
       "      <th>17</th>\n",
       "      <td>methacholine</td>\n",
       "      <td>1</td>\n",
       "      <td>3.70%</td>\n",
       "    </tr>\n",
       "    <tr>\n",
       "      <th>18</th>\n",
       "      <td>aprindine</td>\n",
       "      <td>1</td>\n",
       "      <td>3.70%</td>\n",
       "    </tr>\n",
       "  </tbody>\n",
       "</table>\n",
       "</div>"
      ],
      "text/plain": [
       "                         Drug  Appearances Percentage\n",
       "5                   gallamine           17     62.96%\n",
       "2                  ergotamine           13     48.15%\n",
       "1                  amiodarone           12     44.44%\n",
       "0                 tropicamide            8     29.63%\n",
       "3               nortriptyline            7     25.93%\n",
       "9                mecamylamine            4     14.81%\n",
       "4               acetylcholine            4     14.81%\n",
       "13  octatropine methylbromide            3     11.11%\n",
       "11                 carvedilol            2      7.41%\n",
       "12                entrectinib            2      7.41%\n",
       "6            thiethylperazine            1      3.70%\n",
       "7                fenfluramine            1      3.70%\n",
       "8             dexfenfluramine            1      3.70%\n",
       "10                 azelastine            1      3.70%\n",
       "14               levosimendan            1      3.70%\n",
       "15                 diphenidol            1      3.70%\n",
       "16                   nicotine            1      3.70%\n",
       "17               methacholine            1      3.70%\n",
       "18                  aprindine            1      3.70%"
      ]
     },
     "execution_count": 45,
     "metadata": {},
     "output_type": "execute_result"
    }
   ],
   "source": [
    "drug_candidate_df_dict = {\n",
    "    'Drug': [],\n",
    "    'Appearances': [],\n",
    "    'Percentage': []\n",
    "}\n",
    "for key, val in drug_candidates.items():\n",
    "    drug_candidate_df_dict['Drug'].append(key)\n",
    "    drug_candidate_df_dict['Appearances'].append(val)\n",
    "    drug_candidate_df_dict['Percentage'].append(val/symptoms.shape[0]*100)\n",
    "    \n",
    "drug_candidates_df = pd.DataFrame.from_dict(drug_candidate_df_dict)\n",
    "drug_candidates_df['Percentage'] = drug_candidates_df['Percentage'].transform(lambda x: '{:,.2f}%'.format(x))\n",
    "drug_candidates_df = drug_candidates_df.sort_values(by = ['Appearances'], ascending = False)\n",
    "\n",
    "drug_candidates_df.to_csv(f'output/drug_candidates_{dataset_nr}.csv', index=False)\n",
    "\n",
    "drug_candidates_df"
   ]
  },
  {
   "attachments": {},
   "cell_type": "markdown",
   "metadata": {},
   "source": [
    "## Component Analysis"
   ]
  },
  {
   "cell_type": "code",
   "execution_count": 524,
   "metadata": {},
   "outputs": [],
   "source": [
    "X_data = best_x.detach().cpu().numpy()\n",
    "z = StandardScaler().fit_transform(X_data)"
   ]
  },
  {
   "attachments": {},
   "cell_type": "markdown",
   "metadata": {},
   "source": [
    "### PCA"
   ]
  },
  {
   "cell_type": "code",
   "execution_count": 525,
   "metadata": {},
   "outputs": [
    {
     "data": {
      "text/html": [
       "<div>\n",
       "<style scoped>\n",
       "    .dataframe tbody tr th:only-of-type {\n",
       "        vertical-align: middle;\n",
       "    }\n",
       "\n",
       "    .dataframe tbody tr th {\n",
       "        vertical-align: top;\n",
       "    }\n",
       "\n",
       "    .dataframe thead th {\n",
       "        text-align: right;\n",
       "    }\n",
       "</style>\n",
       "<table border=\"1\" class=\"dataframe\">\n",
       "  <thead>\n",
       "    <tr style=\"text-align: right;\">\n",
       "      <th></th>\n",
       "      <th>principal component 1</th>\n",
       "      <th>principal component 2</th>\n",
       "    </tr>\n",
       "  </thead>\n",
       "  <tbody>\n",
       "    <tr>\n",
       "      <th>0</th>\n",
       "      <td>-0.613750</td>\n",
       "      <td>-0.736778</td>\n",
       "    </tr>\n",
       "    <tr>\n",
       "      <th>1</th>\n",
       "      <td>-0.729245</td>\n",
       "      <td>-0.321646</td>\n",
       "    </tr>\n",
       "    <tr>\n",
       "      <th>2</th>\n",
       "      <td>-0.392119</td>\n",
       "      <td>0.207257</td>\n",
       "    </tr>\n",
       "    <tr>\n",
       "      <th>3</th>\n",
       "      <td>-0.195943</td>\n",
       "      <td>1.651197</td>\n",
       "    </tr>\n",
       "    <tr>\n",
       "      <th>4</th>\n",
       "      <td>-0.237910</td>\n",
       "      <td>-0.894757</td>\n",
       "    </tr>\n",
       "    <tr>\n",
       "      <th>...</th>\n",
       "      <td>...</td>\n",
       "      <td>...</td>\n",
       "    </tr>\n",
       "    <tr>\n",
       "      <th>10270</th>\n",
       "      <td>-0.054418</td>\n",
       "      <td>-0.189138</td>\n",
       "    </tr>\n",
       "    <tr>\n",
       "      <th>10271</th>\n",
       "      <td>-0.444655</td>\n",
       "      <td>-0.652147</td>\n",
       "    </tr>\n",
       "    <tr>\n",
       "      <th>10272</th>\n",
       "      <td>-0.412632</td>\n",
       "      <td>-0.360582</td>\n",
       "    </tr>\n",
       "    <tr>\n",
       "      <th>10273</th>\n",
       "      <td>-1.168231</td>\n",
       "      <td>-0.282968</td>\n",
       "    </tr>\n",
       "    <tr>\n",
       "      <th>10274</th>\n",
       "      <td>-0.101271</td>\n",
       "      <td>-2.384437</td>\n",
       "    </tr>\n",
       "  </tbody>\n",
       "</table>\n",
       "<p>10275 rows × 2 columns</p>\n",
       "</div>"
      ],
      "text/plain": [
       "       principal component 1  principal component 2\n",
       "0                  -0.613750              -0.736778\n",
       "1                  -0.729245              -0.321646\n",
       "2                  -0.392119               0.207257\n",
       "3                  -0.195943               1.651197\n",
       "4                  -0.237910              -0.894757\n",
       "...                      ...                    ...\n",
       "10270              -0.054418              -0.189138\n",
       "10271              -0.444655              -0.652147\n",
       "10272              -0.412632              -0.360582\n",
       "10273              -1.168231              -0.282968\n",
       "10274              -0.101271              -2.384437\n",
       "\n",
       "[10275 rows x 2 columns]"
      ]
     },
     "execution_count": 525,
     "metadata": {},
     "output_type": "execute_result"
    }
   ],
   "source": [
    "pca = PCA(n_components=32)\n",
    "princ_comp = pca.fit_transform(z)\n",
    "princ_df = pd.DataFrame(data=princ_comp[:, [0,1]], columns=['principal component 1', 'principal component 2'])\n",
    "princ_df"
   ]
  },
  {
   "attachments": {},
   "cell_type": "markdown",
   "metadata": {},
   "source": [
    "Based on plot below, choose the number of components for PCA analysis yielding an amount of variance close to 1.0."
   ]
  },
  {
   "cell_type": "code",
   "execution_count": 526,
   "metadata": {},
   "outputs": [
    {
     "data": {
      "image/png": "[encoded data removed]",
      "text/plain": [
       "<Figure size 640x480 with 1 Axes>"
      ]
     },
     "metadata": {},
     "output_type": "display_data"
    }
   ],
   "source": [
    "plt.plot(np.cumsum(pca.explained_variance_ratio_))\n",
    "plt.xlabel('number of components')\n",
    "plt.ylabel('cumulative explained variance')\n",
    "plt.show()"
   ]
  },
  {
   "cell_type": "code",
   "execution_count": 527,
   "metadata": {},
   "outputs": [
    {
     "data": {
      "text/html": [
       "<div>\n",
       "<style scoped>\n",
       "    .dataframe tbody tr th:only-of-type {\n",
       "        vertical-align: middle;\n",
       "    }\n",
       "\n",
       "    .dataframe tbody tr th {\n",
       "        vertical-align: top;\n",
       "    }\n",
       "\n",
       "    .dataframe thead th {\n",
       "        text-align: right;\n",
       "    }\n",
       "</style>\n",
       "<table border=\"1\" class=\"dataframe\">\n",
       "  <thead>\n",
       "    <tr style=\"text-align: right;\">\n",
       "      <th></th>\n",
       "      <th>principal component 1</th>\n",
       "      <th>principal component 2</th>\n",
       "      <th>semantic</th>\n",
       "    </tr>\n",
       "  </thead>\n",
       "  <tbody>\n",
       "    <tr>\n",
       "      <th>0</th>\n",
       "      <td>-0.613750</td>\n",
       "      <td>-0.736778</td>\n",
       "      <td>phenotype</td>\n",
       "    </tr>\n",
       "    <tr>\n",
       "      <th>1</th>\n",
       "      <td>-0.729245</td>\n",
       "      <td>-0.321646</td>\n",
       "      <td>phenotype</td>\n",
       "    </tr>\n",
       "    <tr>\n",
       "      <th>2</th>\n",
       "      <td>-0.392119</td>\n",
       "      <td>0.207257</td>\n",
       "      <td>gene</td>\n",
       "    </tr>\n",
       "    <tr>\n",
       "      <th>3</th>\n",
       "      <td>-0.195943</td>\n",
       "      <td>1.651197</td>\n",
       "      <td>variant</td>\n",
       "    </tr>\n",
       "    <tr>\n",
       "      <th>4</th>\n",
       "      <td>-0.237910</td>\n",
       "      <td>-0.894757</td>\n",
       "      <td>phenotype</td>\n",
       "    </tr>\n",
       "    <tr>\n",
       "      <th>...</th>\n",
       "      <td>...</td>\n",
       "      <td>...</td>\n",
       "      <td>...</td>\n",
       "    </tr>\n",
       "    <tr>\n",
       "      <th>10270</th>\n",
       "      <td>-0.054418</td>\n",
       "      <td>-0.189138</td>\n",
       "      <td>phenotype</td>\n",
       "    </tr>\n",
       "    <tr>\n",
       "      <th>10271</th>\n",
       "      <td>-0.444655</td>\n",
       "      <td>-0.652147</td>\n",
       "      <td>gene</td>\n",
       "    </tr>\n",
       "    <tr>\n",
       "      <th>10272</th>\n",
       "      <td>-0.412632</td>\n",
       "      <td>-0.360582</td>\n",
       "      <td>gene</td>\n",
       "    </tr>\n",
       "    <tr>\n",
       "      <th>10273</th>\n",
       "      <td>-1.168231</td>\n",
       "      <td>-0.282968</td>\n",
       "      <td>gene</td>\n",
       "    </tr>\n",
       "    <tr>\n",
       "      <th>10274</th>\n",
       "      <td>-0.101271</td>\n",
       "      <td>-2.384437</td>\n",
       "      <td>phenotype</td>\n",
       "    </tr>\n",
       "  </tbody>\n",
       "</table>\n",
       "<p>10275 rows × 3 columns</p>\n",
       "</div>"
      ],
      "text/plain": [
       "       principal component 1  principal component 2   semantic\n",
       "0                  -0.613750              -0.736778  phenotype\n",
       "1                  -0.729245              -0.321646  phenotype\n",
       "2                  -0.392119               0.207257       gene\n",
       "3                  -0.195943               1.651197    variant\n",
       "4                  -0.237910              -0.894757  phenotype\n",
       "...                      ...                    ...        ...\n",
       "10270              -0.054418              -0.189138  phenotype\n",
       "10271              -0.444655              -0.652147       gene\n",
       "10272              -0.412632              -0.360582       gene\n",
       "10273              -1.168231              -0.282968       gene\n",
       "10274              -0.101271              -2.384437  phenotype\n",
       "\n",
       "[10275 rows x 3 columns]"
      ]
     },
     "execution_count": 527,
     "metadata": {},
     "output_type": "execute_result"
    }
   ],
   "source": [
    "pca_df = pd.concat([princ_df, nodes[['semantic']]], axis=1)\n",
    "pca_df"
   ]
  },
  {
   "cell_type": "code",
   "execution_count": 528,
   "metadata": {},
   "outputs": [
    {
     "data": {
      "image/png": "[encoded data removed]",
      "text/plain": [
       "<Figure size 800x800 with 1 Axes>"
      ]
     },
     "metadata": {},
     "output_type": "display_data"
    }
   ],
   "source": [
    "fig = plt.figure(figsize = (8,8))\n",
    "ax = fig.add_subplot(1, 1, 1)\n",
    "ax.set_xlabel('Principal Component 1', fontsize = 15)\n",
    "ax.set_ylabel('Principal Component 2', fontsize = 15)\n",
    "ax.set_title(f'Two components from 32-PCA on dataset {dataset_nr}', fontsize = 16)\n",
    "\n",
    "unique_node_semantics = list(node_semantic_dict.values())\n",
    "colors = ['silver', 'indianred', 'peru', 'gold', 'olivedrab', 'cadetblue', 'skyblue', 'steelblue', 'royalblue', 'mediumpurple', 'palevioletred', 'lightpink']\n",
    "\n",
    "for target, color in zip(unique_node_semantics, colors):\n",
    "    indicesToKeep = pca_df['semantic'] == target\n",
    "    ax.scatter(pca_df.loc[indicesToKeep, 'principal component 1'], pca_df.loc[indicesToKeep, 'principal component 2'], c = color, s = 50)\n",
    "    \n",
    "ax.legend(unique_node_semantics)\n",
    "ax.grid()\n",
    "\n",
    "plt.show()"
   ]
  },
  {
   "attachments": {},
   "cell_type": "markdown",
   "metadata": {},
   "source": [
    "### t-SNE"
   ]
  },
  {
   "cell_type": "code",
   "execution_count": 529,
   "metadata": {},
   "outputs": [],
   "source": [
    "X_tsne = TSNE(learning_rate=100, perplexity=40).fit_transform(X_data)"
   ]
  },
  {
   "cell_type": "code",
   "execution_count": 530,
   "metadata": {},
   "outputs": [
    {
     "data": {
      "text/html": [
       "<div>\n",
       "<style scoped>\n",
       "    .dataframe tbody tr th:only-of-type {\n",
       "        vertical-align: middle;\n",
       "    }\n",
       "\n",
       "    .dataframe tbody tr th {\n",
       "        vertical-align: top;\n",
       "    }\n",
       "\n",
       "    .dataframe thead th {\n",
       "        text-align: right;\n",
       "    }\n",
       "</style>\n",
       "<table border=\"1\" class=\"dataframe\">\n",
       "  <thead>\n",
       "    <tr style=\"text-align: right;\">\n",
       "      <th></th>\n",
       "      <th>t-SNE 1</th>\n",
       "      <th>t-SNE 2</th>\n",
       "    </tr>\n",
       "  </thead>\n",
       "  <tbody>\n",
       "    <tr>\n",
       "      <th>0</th>\n",
       "      <td>-22.588400</td>\n",
       "      <td>-5.342779</td>\n",
       "    </tr>\n",
       "    <tr>\n",
       "      <th>1</th>\n",
       "      <td>-52.648701</td>\n",
       "      <td>-11.907243</td>\n",
       "    </tr>\n",
       "    <tr>\n",
       "      <th>2</th>\n",
       "      <td>54.455029</td>\n",
       "      <td>35.815475</td>\n",
       "    </tr>\n",
       "    <tr>\n",
       "      <th>3</th>\n",
       "      <td>13.841108</td>\n",
       "      <td>31.183489</td>\n",
       "    </tr>\n",
       "    <tr>\n",
       "      <th>4</th>\n",
       "      <td>-19.908541</td>\n",
       "      <td>-20.814127</td>\n",
       "    </tr>\n",
       "    <tr>\n",
       "      <th>...</th>\n",
       "      <td>...</td>\n",
       "      <td>...</td>\n",
       "    </tr>\n",
       "    <tr>\n",
       "      <th>10270</th>\n",
       "      <td>-54.679256</td>\n",
       "      <td>47.035561</td>\n",
       "    </tr>\n",
       "    <tr>\n",
       "      <th>10271</th>\n",
       "      <td>-47.917263</td>\n",
       "      <td>31.298943</td>\n",
       "    </tr>\n",
       "    <tr>\n",
       "      <th>10272</th>\n",
       "      <td>34.635902</td>\n",
       "      <td>-17.824219</td>\n",
       "    </tr>\n",
       "    <tr>\n",
       "      <th>10273</th>\n",
       "      <td>24.019341</td>\n",
       "      <td>-4.194418</td>\n",
       "    </tr>\n",
       "    <tr>\n",
       "      <th>10274</th>\n",
       "      <td>8.331480</td>\n",
       "      <td>-48.161606</td>\n",
       "    </tr>\n",
       "  </tbody>\n",
       "</table>\n",
       "<p>10275 rows × 2 columns</p>\n",
       "</div>"
      ],
      "text/plain": [
       "         t-SNE 1    t-SNE 2\n",
       "0     -22.588400  -5.342779\n",
       "1     -52.648701 -11.907243\n",
       "2      54.455029  35.815475\n",
       "3      13.841108  31.183489\n",
       "4     -19.908541 -20.814127\n",
       "...          ...        ...\n",
       "10270 -54.679256  47.035561\n",
       "10271 -47.917263  31.298943\n",
       "10272  34.635902 -17.824219\n",
       "10273  24.019341  -4.194418\n",
       "10274   8.331480 -48.161606\n",
       "\n",
       "[10275 rows x 2 columns]"
      ]
     },
     "execution_count": 530,
     "metadata": {},
     "output_type": "execute_result"
    }
   ],
   "source": [
    "comp_tsne = pd.DataFrame(data=X_tsne, columns=['t-SNE 1', 't-SNE 2'])\n",
    "comp_tsne"
   ]
  },
  {
   "cell_type": "code",
   "execution_count": 531,
   "metadata": {},
   "outputs": [
    {
     "data": {
      "text/html": [
       "<div>\n",
       "<style scoped>\n",
       "    .dataframe tbody tr th:only-of-type {\n",
       "        vertical-align: middle;\n",
       "    }\n",
       "\n",
       "    .dataframe tbody tr th {\n",
       "        vertical-align: top;\n",
       "    }\n",
       "\n",
       "    .dataframe thead th {\n",
       "        text-align: right;\n",
       "    }\n",
       "</style>\n",
       "<table border=\"1\" class=\"dataframe\">\n",
       "  <thead>\n",
       "    <tr style=\"text-align: right;\">\n",
       "      <th></th>\n",
       "      <th>t-SNE 1</th>\n",
       "      <th>t-SNE 2</th>\n",
       "      <th>semantic</th>\n",
       "    </tr>\n",
       "  </thead>\n",
       "  <tbody>\n",
       "    <tr>\n",
       "      <th>0</th>\n",
       "      <td>-22.588400</td>\n",
       "      <td>-5.342779</td>\n",
       "      <td>phenotype</td>\n",
       "    </tr>\n",
       "    <tr>\n",
       "      <th>1</th>\n",
       "      <td>-52.648701</td>\n",
       "      <td>-11.907243</td>\n",
       "      <td>phenotype</td>\n",
       "    </tr>\n",
       "    <tr>\n",
       "      <th>2</th>\n",
       "      <td>54.455029</td>\n",
       "      <td>35.815475</td>\n",
       "      <td>gene</td>\n",
       "    </tr>\n",
       "    <tr>\n",
       "      <th>3</th>\n",
       "      <td>13.841108</td>\n",
       "      <td>31.183489</td>\n",
       "      <td>variant</td>\n",
       "    </tr>\n",
       "    <tr>\n",
       "      <th>4</th>\n",
       "      <td>-19.908541</td>\n",
       "      <td>-20.814127</td>\n",
       "      <td>phenotype</td>\n",
       "    </tr>\n",
       "    <tr>\n",
       "      <th>...</th>\n",
       "      <td>...</td>\n",
       "      <td>...</td>\n",
       "      <td>...</td>\n",
       "    </tr>\n",
       "    <tr>\n",
       "      <th>10270</th>\n",
       "      <td>-54.679256</td>\n",
       "      <td>47.035561</td>\n",
       "      <td>phenotype</td>\n",
       "    </tr>\n",
       "    <tr>\n",
       "      <th>10271</th>\n",
       "      <td>-47.917263</td>\n",
       "      <td>31.298943</td>\n",
       "      <td>gene</td>\n",
       "    </tr>\n",
       "    <tr>\n",
       "      <th>10272</th>\n",
       "      <td>34.635902</td>\n",
       "      <td>-17.824219</td>\n",
       "      <td>gene</td>\n",
       "    </tr>\n",
       "    <tr>\n",
       "      <th>10273</th>\n",
       "      <td>24.019341</td>\n",
       "      <td>-4.194418</td>\n",
       "      <td>gene</td>\n",
       "    </tr>\n",
       "    <tr>\n",
       "      <th>10274</th>\n",
       "      <td>8.331480</td>\n",
       "      <td>-48.161606</td>\n",
       "      <td>phenotype</td>\n",
       "    </tr>\n",
       "  </tbody>\n",
       "</table>\n",
       "<p>10275 rows × 3 columns</p>\n",
       "</div>"
      ],
      "text/plain": [
       "         t-SNE 1    t-SNE 2   semantic\n",
       "0     -22.588400  -5.342779  phenotype\n",
       "1     -52.648701 -11.907243  phenotype\n",
       "2      54.455029  35.815475       gene\n",
       "3      13.841108  31.183489    variant\n",
       "4     -19.908541 -20.814127  phenotype\n",
       "...          ...        ...        ...\n",
       "10270 -54.679256  47.035561  phenotype\n",
       "10271 -47.917263  31.298943       gene\n",
       "10272  34.635902 -17.824219       gene\n",
       "10273  24.019341  -4.194418       gene\n",
       "10274   8.331480 -48.161606  phenotype\n",
       "\n",
       "[10275 rows x 3 columns]"
      ]
     },
     "execution_count": 531,
     "metadata": {},
     "output_type": "execute_result"
    }
   ],
   "source": [
    "tsne_df = pd.concat([comp_tsne, nodes[['semantic']]], axis=1)\n",
    "tsne_df"
   ]
  },
  {
   "cell_type": "code",
   "execution_count": 532,
   "metadata": {},
   "outputs": [
    {
     "data": {
      "image/png": "[encoded data removed]",
      "text/plain": [
       "<Figure size 800x800 with 1 Axes>"
      ]
     },
     "metadata": {},
     "output_type": "display_data"
    }
   ],
   "source": [
    "fig = plt.figure(figsize = (8,8))\n",
    "ax = fig.add_subplot(1, 1, 1)\n",
    "ax.set_xlabel('Principal Component 1', fontsize = 15)\n",
    "ax.set_ylabel('Principal Component 2', fontsize = 15)\n",
    "ax.set_title(f'Two component t-SNE on dataset {dataset_nr}', fontsize = 16)\n",
    "\n",
    "unique_node_semantics = list(node_semantic_dict.values())\n",
    "colors = ['silver', 'indianred', 'peru', 'gold', 'olivedrab', 'cadetblue', 'skyblue', 'steelblue', 'royalblue', 'mediumpurple', 'palevioletred', 'lightpink']\n",
    "\n",
    "for target, color in zip(unique_node_semantics, colors):\n",
    "    indicesToKeep = tsne_df['semantic'] == target\n",
    "    ax.scatter(tsne_df.loc[indicesToKeep, 't-SNE 1'], tsne_df.loc[indicesToKeep, 't-SNE 2'], c = color, s = 50)\n",
    "    \n",
    "ax.legend(unique_node_semantics)\n",
    "ax.grid()\n",
    "\n",
    "plt.show()"
   ]
  },
  {
   "attachments": {},
   "cell_type": "markdown",
   "metadata": {},
   "source": [
    "## GNNExplainer"
   ]
  },
  {
   "cell_type": "code",
   "execution_count": 1,
   "metadata": {},
   "outputs": [],
   "source": [
    "from gnn.gnnexplainer import GNNExplainer, visualize_subgraph"
   ]
  },
  {
   "attachments": {},
   "cell_type": "markdown",
   "metadata": {},
   "source": [
    "Explanations will be generated"
   ]
  },
  {
   "cell_type": "code",
   "execution_count": 24,
   "metadata": {},
   "outputs": [
    {
     "data": {
      "text/html": [
       "<div>\n",
       "<style scoped>\n",
       "    .dataframe tbody tr th:only-of-type {\n",
       "        vertical-align: middle;\n",
       "    }\n",
       "\n",
       "    .dataframe tbody tr th {\n",
       "        vertical-align: top;\n",
       "    }\n",
       "\n",
       "    .dataframe thead th {\n",
       "        text-align: right;\n",
       "    }\n",
       "</style>\n",
       "<table border=\"1\" class=\"dataframe\">\n",
       "  <thead>\n",
       "    <tr style=\"text-align: right;\">\n",
       "      <th></th>\n",
       "      <th>Node</th>\n",
       "      <th>Embedding</th>\n",
       "    </tr>\n",
       "  </thead>\n",
       "  <tbody>\n",
       "    <tr>\n",
       "      <th>0</th>\n",
       "      <td>0</td>\n",
       "      <td>[0.4429384, -0.64671946, -0.045503706, 0.04694...</td>\n",
       "    </tr>\n",
       "    <tr>\n",
       "      <th>1</th>\n",
       "      <td>1</td>\n",
       "      <td>[0.7495496, -0.5790302, 0.16192597, 0.03131027...</td>\n",
       "    </tr>\n",
       "    <tr>\n",
       "      <th>2</th>\n",
       "      <td>2</td>\n",
       "      <td>[-0.21050918, -0.28908953, 0.118277326, -0.162...</td>\n",
       "    </tr>\n",
       "    <tr>\n",
       "      <th>3</th>\n",
       "      <td>3</td>\n",
       "      <td>[0.2527442, -0.2967686, 0.29164207, 0.8072669,...</td>\n",
       "    </tr>\n",
       "    <tr>\n",
       "      <th>4</th>\n",
       "      <td>4</td>\n",
       "      <td>[0.41442072, 0.06997513, 0.4540072, -0.0370618...</td>\n",
       "    </tr>\n",
       "    <tr>\n",
       "      <th>...</th>\n",
       "      <td>...</td>\n",
       "      <td>...</td>\n",
       "    </tr>\n",
       "    <tr>\n",
       "      <th>10270</th>\n",
       "      <td>10270</td>\n",
       "      <td>[0.21862394, 0.11319974, 0.31551972, 0.1497048...</td>\n",
       "    </tr>\n",
       "    <tr>\n",
       "      <th>10271</th>\n",
       "      <td>10271</td>\n",
       "      <td>[0.8747792, -0.7461259, 0.22221777, -0.0425329...</td>\n",
       "    </tr>\n",
       "    <tr>\n",
       "      <th>10272</th>\n",
       "      <td>10272</td>\n",
       "      <td>[0.5863251, -0.8054981, 0.27565393, 0.516578, ...</td>\n",
       "    </tr>\n",
       "    <tr>\n",
       "      <th>10273</th>\n",
       "      <td>10273</td>\n",
       "      <td>[0.6474387, -0.38251266, 0.43746328, 0.3413055...</td>\n",
       "    </tr>\n",
       "    <tr>\n",
       "      <th>10274</th>\n",
       "      <td>10274</td>\n",
       "      <td>[0.56232107, -0.5135573, -0.036642436, 0.09458...</td>\n",
       "    </tr>\n",
       "  </tbody>\n",
       "</table>\n",
       "<p>10275 rows × 2 columns</p>\n",
       "</div>"
      ],
      "text/plain": [
       "        Node                                          Embedding\n",
       "0          0  [0.4429384, -0.64671946, -0.045503706, 0.04694...\n",
       "1          1  [0.7495496, -0.5790302, 0.16192597, 0.03131027...\n",
       "2          2  [-0.21050918, -0.28908953, 0.118277326, -0.162...\n",
       "3          3  [0.2527442, -0.2967686, 0.29164207, 0.8072669,...\n",
       "4          4  [0.41442072, 0.06997513, 0.4540072, -0.0370618...\n",
       "...      ...                                                ...\n",
       "10270  10270  [0.21862394, 0.11319974, 0.31551972, 0.1497048...\n",
       "10271  10271  [0.8747792, -0.7461259, 0.22221777, -0.0425329...\n",
       "10272  10272  [0.5863251, -0.8054981, 0.27565393, 0.516578, ...\n",
       "10273  10273  [0.6474387, -0.38251266, 0.43746328, 0.3413055...\n",
       "10274  10274  [0.56232107, -0.5135573, -0.036642436, 0.09458...\n",
       "\n",
       "[10275 rows x 2 columns]"
      ]
     },
     "execution_count": 24,
     "metadata": {},
     "output_type": "execute_result"
    }
   ],
   "source": [
    "e2v_embedding"
   ]
  },
  {
   "cell_type": "code",
   "execution_count": 25,
   "metadata": {},
   "outputs": [
    {
     "data": {
      "text/html": [
       "<div>\n",
       "<style scoped>\n",
       "    .dataframe tbody tr th:only-of-type {\n",
       "        vertical-align: middle;\n",
       "    }\n",
       "\n",
       "    .dataframe tbody tr th {\n",
       "        vertical-align: top;\n",
       "    }\n",
       "\n",
       "    .dataframe thead th {\n",
       "        text-align: right;\n",
       "    }\n",
       "</style>\n",
       "<table border=\"1\" class=\"dataframe\">\n",
       "  <thead>\n",
       "    <tr style=\"text-align: right;\">\n",
       "      <th></th>\n",
       "      <th>head</th>\n",
       "      <th>label_head</th>\n",
       "      <th>class_head</th>\n",
       "      <th>index_head</th>\n",
       "      <th>relation</th>\n",
       "      <th>tail</th>\n",
       "      <th>label_tail</th>\n",
       "      <th>class_tail</th>\n",
       "      <th>index_tail</th>\n",
       "      <th>type</th>\n",
       "    </tr>\n",
       "  </thead>\n",
       "  <tbody>\n",
       "    <tr>\n",
       "      <th>0</th>\n",
       "      <td>WormBase:WBGene00006787</td>\n",
       "      <td>unc-52</td>\n",
       "      <td>5</td>\n",
       "      <td>304</td>\n",
       "      <td>interacts with</td>\n",
       "      <td>WormBase:WBGene00003929</td>\n",
       "      <td>pat-2</td>\n",
       "      <td>5</td>\n",
       "      <td>1542</td>\n",
       "      <td>0</td>\n",
       "    </tr>\n",
       "    <tr>\n",
       "      <th>1</th>\n",
       "      <td>WormBase:WBGene00006787</td>\n",
       "      <td>unc-52</td>\n",
       "      <td>5</td>\n",
       "      <td>304</td>\n",
       "      <td>interacts with</td>\n",
       "      <td>WormBase:WBGene00006789</td>\n",
       "      <td>unc-54</td>\n",
       "      <td>5</td>\n",
       "      <td>6544</td>\n",
       "      <td>0</td>\n",
       "    </tr>\n",
       "    <tr>\n",
       "      <th>2</th>\n",
       "      <td>WormBase:WBGene00006787</td>\n",
       "      <td>unc-52</td>\n",
       "      <td>5</td>\n",
       "      <td>304</td>\n",
       "      <td>in orthology relationship with</td>\n",
       "      <td>ENSEMBL:ENSSSCG00000015555</td>\n",
       "      <td>LAMC1</td>\n",
       "      <td>5</td>\n",
       "      <td>9268</td>\n",
       "      <td>1</td>\n",
       "    </tr>\n",
       "    <tr>\n",
       "      <th>3</th>\n",
       "      <td>WormBase:WBGene00006787</td>\n",
       "      <td>unc-52</td>\n",
       "      <td>5</td>\n",
       "      <td>304</td>\n",
       "      <td>in orthology relationship with</td>\n",
       "      <td>ZFIN:ZDB-GENE-021226-3</td>\n",
       "      <td>lamc1</td>\n",
       "      <td>5</td>\n",
       "      <td>5387</td>\n",
       "      <td>1</td>\n",
       "    </tr>\n",
       "    <tr>\n",
       "      <th>4</th>\n",
       "      <td>WormBase:WBGene00006787</td>\n",
       "      <td>unc-52</td>\n",
       "      <td>5</td>\n",
       "      <td>304</td>\n",
       "      <td>in orthology relationship with</td>\n",
       "      <td>ENSEMBL:ENSOANG00000001050</td>\n",
       "      <td>ENSEMBL:ENSOANG00000001050</td>\n",
       "      <td>5</td>\n",
       "      <td>2204</td>\n",
       "      <td>1</td>\n",
       "    </tr>\n",
       "    <tr>\n",
       "      <th>...</th>\n",
       "      <td>...</td>\n",
       "      <td>...</td>\n",
       "      <td>...</td>\n",
       "      <td>...</td>\n",
       "      <td>...</td>\n",
       "      <td>...</td>\n",
       "      <td>...</td>\n",
       "      <td>...</td>\n",
       "      <td>...</td>\n",
       "      <td>...</td>\n",
       "    </tr>\n",
       "    <tr>\n",
       "      <th>85987</th>\n",
       "      <td>458</td>\n",
       "      <td>scopolamine butylbromide</td>\n",
       "      <td>4</td>\n",
       "      <td>5945</td>\n",
       "      <td>targets</td>\n",
       "      <td>P11229</td>\n",
       "      <td>Muscarinic acetylcholine receptor M1</td>\n",
       "      <td>6</td>\n",
       "      <td>5919</td>\n",
       "      <td>17</td>\n",
       "    </tr>\n",
       "    <tr>\n",
       "      <th>85988</th>\n",
       "      <td>OMIM:300377.0080</td>\n",
       "      <td>DMD, IVS62, A-G, -285</td>\n",
       "      <td>11</td>\n",
       "      <td>1578</td>\n",
       "      <td>is allele of</td>\n",
       "      <td>HGNC:2928</td>\n",
       "      <td>DMD</td>\n",
       "      <td>5</td>\n",
       "      <td>3310</td>\n",
       "      <td>15</td>\n",
       "    </tr>\n",
       "    <tr>\n",
       "      <th>85989</th>\n",
       "      <td>5297</td>\n",
       "      <td>dacomitinib</td>\n",
       "      <td>4</td>\n",
       "      <td>8798</td>\n",
       "      <td>targets</td>\n",
       "      <td>P12931</td>\n",
       "      <td>Proto-oncogene tyrosine-protein kinase Src</td>\n",
       "      <td>6</td>\n",
       "      <td>2379</td>\n",
       "      <td>17</td>\n",
       "    </tr>\n",
       "    <tr>\n",
       "      <th>85990</th>\n",
       "      <td>ClinVarVariant:981988</td>\n",
       "      <td>NC_000023.11:g.(31875374_31929595)_(31968515_3...</td>\n",
       "      <td>11</td>\n",
       "      <td>8189</td>\n",
       "      <td>has affected feature</td>\n",
       "      <td>HGNC:2928</td>\n",
       "      <td>DMD</td>\n",
       "      <td>5</td>\n",
       "      <td>3310</td>\n",
       "      <td>11</td>\n",
       "    </tr>\n",
       "    <tr>\n",
       "      <th>85991</th>\n",
       "      <td>ClinVarVariant:584105</td>\n",
       "      <td>NC_000023.11:g.(?_32595737)_(32699313_?)del</td>\n",
       "      <td>11</td>\n",
       "      <td>9866</td>\n",
       "      <td>causes condition</td>\n",
       "      <td>MONDO:0010679</td>\n",
       "      <td>Duchenne muscular dystrophy</td>\n",
       "      <td>3</td>\n",
       "      <td>1913</td>\n",
       "      <td>2</td>\n",
       "    </tr>\n",
       "  </tbody>\n",
       "</table>\n",
       "<p>85992 rows × 10 columns</p>\n",
       "</div>"
      ],
      "text/plain": [
       "                          head  \\\n",
       "0      WormBase:WBGene00006787   \n",
       "1      WormBase:WBGene00006787   \n",
       "2      WormBase:WBGene00006787   \n",
       "3      WormBase:WBGene00006787   \n",
       "4      WormBase:WBGene00006787   \n",
       "...                        ...   \n",
       "85987                      458   \n",
       "85988         OMIM:300377.0080   \n",
       "85989                     5297   \n",
       "85990    ClinVarVariant:981988   \n",
       "85991    ClinVarVariant:584105   \n",
       "\n",
       "                                              label_head  class_head  \\\n",
       "0                                                 unc-52           5   \n",
       "1                                                 unc-52           5   \n",
       "2                                                 unc-52           5   \n",
       "3                                                 unc-52           5   \n",
       "4                                                 unc-52           5   \n",
       "...                                                  ...         ...   \n",
       "85987                           scopolamine butylbromide           4   \n",
       "85988                              DMD, IVS62, A-G, -285          11   \n",
       "85989                                        dacomitinib           4   \n",
       "85990  NC_000023.11:g.(31875374_31929595)_(31968515_3...          11   \n",
       "85991        NC_000023.11:g.(?_32595737)_(32699313_?)del          11   \n",
       "\n",
       "      index_head                        relation                        tail  \\\n",
       "0            304                  interacts with     WormBase:WBGene00003929   \n",
       "1            304                  interacts with     WormBase:WBGene00006789   \n",
       "2            304  in orthology relationship with  ENSEMBL:ENSSSCG00000015555   \n",
       "3            304  in orthology relationship with      ZFIN:ZDB-GENE-021226-3   \n",
       "4            304  in orthology relationship with  ENSEMBL:ENSOANG00000001050   \n",
       "...          ...                             ...                         ...   \n",
       "85987       5945                         targets                      P11229   \n",
       "85988       1578                    is allele of                   HGNC:2928   \n",
       "85989       8798                         targets                      P12931   \n",
       "85990       8189            has affected feature                   HGNC:2928   \n",
       "85991       9866                causes condition               MONDO:0010679   \n",
       "\n",
       "                                       label_tail  class_tail index_tail  type  \n",
       "0                                           pat-2           5       1542     0  \n",
       "1                                          unc-54           5       6544     0  \n",
       "2                                           LAMC1           5       9268     1  \n",
       "3                                           lamc1           5       5387     1  \n",
       "4                      ENSEMBL:ENSOANG00000001050           5       2204     1  \n",
       "...                                           ...         ...        ...   ...  \n",
       "85987        Muscarinic acetylcholine receptor M1           6       5919    17  \n",
       "85988                                         DMD           5       3310    15  \n",
       "85989  Proto-oncogene tyrosine-protein kinase Src           6       2379    17  \n",
       "85990                                         DMD           5       3310    11  \n",
       "85991                 Duchenne muscular dystrophy           3       1913     2  \n",
       "\n",
       "[85992 rows x 10 columns]"
      ]
     },
     "execution_count": 25,
     "metadata": {},
     "output_type": "execute_result"
    }
   ],
   "source": [
    "edge2vec_df"
   ]
  },
  {
   "cell_type": "code",
   "execution_count": 26,
   "metadata": {},
   "outputs": [
    {
     "name": "stdout",
     "output_type": "stream",
     "text": [
      "(0, {'node_feature': tensor([ 0.4429, -0.6467, -0.0455,  0.0469,  0.3007, -0.4822,  0.2423,  0.0707,\n",
      "        -0.5349,  0.4175,  0.7552,  0.0628, -0.3813, -0.3389,  0.5671,  0.4919,\n",
      "         0.0854,  0.0053, -0.2314,  0.8349,  0.5443,  0.7359, -0.1399, -0.2049,\n",
      "        -0.1793,  0.0314, -0.7152,  0.1764,  0.3586, -0.4770,  0.0838, -0.3013,\n",
      "         0.1751, -0.7785, -0.1280,  0.4082,  0.5959,  0.4058,  0.5182,  0.5561,\n",
      "         0.3995, -0.1704,  0.3317, -0.1183, -0.1047,  0.2789,  0.3293, -0.1368,\n",
      "         0.1259,  0.1704,  0.7724,  0.4460,  0.6070, -0.3315,  0.5776,  0.4367,\n",
      "         0.2875, -0.7309,  0.2535,  0.5972,  0.4410, -0.4248, -0.3355,  0.3258])})\n",
      "(2, 7693, {'edge_label': 'found in'})\n",
      "Number of edges is 85878\n",
      "Number of nodes is 10275\n"
     ]
    }
   ],
   "source": [
    "G = nx.DiGraph() # TODO: changed from Graph\n",
    "\n",
    "for ind, node in e2v_embedding.iterrows():\n",
    "    G.add_node(int(node['Node']), node_feature=torch.Tensor(node['Embedding']))\n",
    "for ind, edge in edge2vec_df.iterrows(): \n",
    "  G.add_edge(int(edge['index_head']), int(edge['index_tail']), edge_label = edge['relation'])\n",
    "  \n",
    "for node in G.nodes(data=True):\n",
    "    print(node)\n",
    "    break\n",
    "for edge in G.edges(data=True):\n",
    "    print(edge)\n",
    "    break\n",
    "\n",
    "print(\"Number of edges is {}\".format(G.number_of_edges()))\n",
    "print(\"Number of nodes is {}\".format(G.number_of_nodes()))"
   ]
  },
  {
   "cell_type": "markdown",
   "metadata": {},
   "source": [
    "Obtain the embedding features per node."
   ]
  },
  {
   "cell_type": "code",
   "execution_count": 27,
   "metadata": {},
   "outputs": [
    {
     "name": "stdout",
     "output_type": "stream",
     "text": [
      "torch.Size([10275, 64])\n"
     ]
    }
   ],
   "source": [
    "x = torch.Tensor(e2v_embedding['Embedding'])\n",
    "print(x.shape)"
   ]
  },
  {
   "cell_type": "markdown",
   "metadata": {},
   "source": [
    "Obtain the indices of the head and tail nodes per edge."
   ]
  },
  {
   "cell_type": "code",
   "execution_count": 28,
   "metadata": {},
   "outputs": [
    {
     "name": "stdout",
     "output_type": "stream",
     "text": [
      "torch.Size([2, 85878])\n",
      "torch.LongTensor\n"
     ]
    }
   ],
   "source": [
    "edge_index = torch.Tensor(np.array(G.edges).transpose()).type(torch.int64).long()\n",
    "print(edge_index.shape)\n",
    "print(edge_index.type())"
   ]
  },
  {
   "cell_type": "code",
   "execution_count": 29,
   "metadata": {},
   "outputs": [
    {
     "data": {
      "text/plain": [
       "{(2, 7693): 'found in',\n",
       " (2, 6542): 'enables',\n",
       " (2, 4877): 'causes condition',\n",
       " (2, 803): 'interacts with',\n",
       " (2, 649): 'is part of',\n",
       " (2, 4268): 'is part of',\n",
       " (2, 4344): 'in orthology relationship with',\n",
       " (2, 1195): 'causes condition',\n",
       " (2, 7451): 'causes condition',\n",
       " (2, 9992): 'causes condition',\n",
       " (2, 2800): 'causes condition',\n",
       " (2, 2986): 'causes condition',\n",
       " (2, 8340): 'interacts with',\n",
       " (2, 7355): 'causes condition',\n",
       " (2, 7000): 'causes condition',\n",
       " (2, 1351): 'causes condition',\n",
       " (2, 9823): 'in orthology relationship with',\n",
       " (2, 2526): 'in orthology relationship with',\n",
       " (2, 3579): 'interacts with',\n",
       " (2, 6934): 'in orthology relationship with',\n",
       " (2, 5868): 'in orthology relationship with',\n",
       " (2, 2321): 'interacts with',\n",
       " (2, 10173): 'causes condition',\n",
       " (2, 599): 'interacts with',\n",
       " (2, 833): 'is part of',\n",
       " (2, 898): 'causes condition',\n",
       " (2, 8292): 'causes condition',\n",
       " (2, 8708): 'in orthology relationship with',\n",
       " (2, 8332): 'causes condition',\n",
       " (2, 5684): 'causes condition',\n",
       " (2, 1596): 'causes condition',\n",
       " (2, 2393): 'interacts with',\n",
       " (2, 1938): 'in orthology relationship with',\n",
       " (2, 419): 'causes condition',\n",
       " (2, 7208): 'in orthology relationship with',\n",
       " (2, 5646): 'interacts with',\n",
       " (2, 9453): 'interacts with',\n",
       " (2, 2999): 'in orthology relationship with',\n",
       " (2, 567): 'interacts with',\n",
       " (2, 9683): 'causes condition',\n",
       " (2, 9929): 'in orthology relationship with',\n",
       " (2, 2600): 'involved in',\n",
       " (2, 5725): 'in orthology relationship with',\n",
       " (2, 1817): 'causes condition',\n",
       " (2, 6884): 'causes condition',\n",
       " (2, 5528): 'causes condition',\n",
       " (2, 753): 'causes condition',\n",
       " (2, 3038): 'interacts with',\n",
       " (2, 765): 'in orthology relationship with',\n",
       " (2, 4531): 'in orthology relationship with',\n",
       " (2, 4334): 'interacts with',\n",
       " (2, 4801): 'causes condition',\n",
       " (2, 3246): 'in orthology relationship with',\n",
       " (2, 2258): 'causes condition',\n",
       " (2, 556): 'causes condition',\n",
       " (2, 3836): 'causes condition',\n",
       " (2, 7378): 'in orthology relationship with',\n",
       " (2, 3222): 'causes condition',\n",
       " (2, 7769): 'in orthology relationship with',\n",
       " (2, 2323): 'interacts with',\n",
       " (3, 3310): 'is allele of',\n",
       " (11, 8696): 'found in',\n",
       " (11, 8183): 'in orthology relationship with',\n",
       " (11, 6383): 'in orthology relationship with',\n",
       " (11, 3920): 'in orthology relationship with',\n",
       " (11, 3802): 'in orthology relationship with',\n",
       " (11, 1461): 'in orthology relationship with',\n",
       " (11, 29): 'in orthology relationship with',\n",
       " (11, 10198): 'in orthology relationship with',\n",
       " (11, 8303): 'in orthology relationship with',\n",
       " (18, 1780): 'in orthology relationship with',\n",
       " (18, 2702): 'in orthology relationship with',\n",
       " (18, 1447): 'in orthology relationship with',\n",
       " (18, 10191): 'in orthology relationship with',\n",
       " (18, 4617): 'in orthology relationship with',\n",
       " (18, 1425): 'in orthology relationship with',\n",
       " (18, 9890): 'in orthology relationship with',\n",
       " (18, 7024): 'enables',\n",
       " (18, 8323): 'in orthology relationship with',\n",
       " (18, 8406): 'in orthology relationship with',\n",
       " (18, 7944): 'in orthology relationship with',\n",
       " (18, 7539): 'in orthology relationship with',\n",
       " (18, 5719): 'in orthology relationship with',\n",
       " (18, 8836): 'in orthology relationship with',\n",
       " (18, 8854): 'in orthology relationship with',\n",
       " (18, 3047): 'found in',\n",
       " (18, 2011): 'in orthology relationship with',\n",
       " (18, 8661): 'causes condition',\n",
       " (18, 8071): 'in orthology relationship with',\n",
       " (18, 5232): 'in orthology relationship with',\n",
       " (21, 4597): 'in orthology relationship with',\n",
       " (21, 6058): 'in orthology relationship with',\n",
       " (21, 6063): 'in orthology relationship with',\n",
       " (21, 2497): 'in orthology relationship with',\n",
       " (21, 5523): 'in orthology relationship with',\n",
       " (21, 7197): 'in orthology relationship with',\n",
       " (21, 1753): 'found in',\n",
       " (21, 100): 'in orthology relationship with',\n",
       " (21, 7786): 'in orthology relationship with',\n",
       " (21, 2832): 'in orthology relationship with',\n",
       " (21, 7329): 'in orthology relationship with',\n",
       " (21, 2613): 'in orthology relationship with',\n",
       " (21, 3075): 'in orthology relationship with',\n",
       " (22, 1913): 'causes condition',\n",
       " (22, 6242): 'causes condition',\n",
       " (22, 3310): 'has affected feature',\n",
       " (26, 1461): 'in orthology relationship with',\n",
       " (26, 6246): 'in orthology relationship with',\n",
       " (26, 8183): 'in orthology relationship with',\n",
       " (26, 8303): 'in orthology relationship with',\n",
       " (26, 9255): 'in orthology relationship with',\n",
       " (26, 10198): 'in orthology relationship with',\n",
       " (26, 29): 'in orthology relationship with',\n",
       " (26, 3920): 'in orthology relationship with',\n",
       " (26, 8696): 'found in',\n",
       " (26, 6261): 'in orthology relationship with',\n",
       " (26, 3802): 'in orthology relationship with',\n",
       " (28, 6786): 'in orthology relationship with',\n",
       " (28, 2060): 'found in',\n",
       " (28, 9760): 'in orthology relationship with',\n",
       " (28, 5230): 'in orthology relationship with',\n",
       " (28, 5691): 'in orthology relationship with',\n",
       " (28, 4987): 'in orthology relationship with',\n",
       " (28, 4288): 'in orthology relationship with',\n",
       " (28, 8300): 'in orthology relationship with',\n",
       " (28, 3977): 'in orthology relationship with',\n",
       " (28, 8777): 'in orthology relationship with',\n",
       " (28, 7708): 'in orthology relationship with',\n",
       " (28, 5724): 'in orthology relationship with',\n",
       " (29, 26): 'in orthology relationship with',\n",
       " (29, 8183): 'in orthology relationship with',\n",
       " (29, 7053): 'found in',\n",
       " (29, 6246): 'in orthology relationship with',\n",
       " (29, 10198): 'in orthology relationship with',\n",
       " (29, 6261): 'in orthology relationship with',\n",
       " (29, 6383): 'in orthology relationship with',\n",
       " (29, 3802): 'in orthology relationship with',\n",
       " (29, 3920): 'in orthology relationship with',\n",
       " (29, 1234): 'in orthology relationship with',\n",
       " (29, 9255): 'in orthology relationship with',\n",
       " (29, 8303): 'in orthology relationship with',\n",
       " (29, 11): 'in orthology relationship with',\n",
       " (30, 8416): 'in orthology relationship with',\n",
       " (30, 2946): 'in orthology relationship with',\n",
       " (30, 3924): 'in orthology relationship with',\n",
       " (30, 8267): 'in orthology relationship with',\n",
       " (30, 8331): 'in orthology relationship with',\n",
       " (30, 2211): 'in orthology relationship with',\n",
       " (30, 4344): 'in orthology relationship with',\n",
       " (30, 1822): 'in orthology relationship with',\n",
       " (30, 7442): 'in orthology relationship with',\n",
       " (30, 603): 'found in',\n",
       " (30, 8532): 'in orthology relationship with',\n",
       " (30, 10111): 'in orthology relationship with',\n",
       " (30, 452): 'in orthology relationship with',\n",
       " (30, 5326): 'in orthology relationship with',\n",
       " (30, 2741): 'in orthology relationship with',\n",
       " (30, 666): 'in orthology relationship with',\n",
       " (30, 3579): 'in orthology relationship with',\n",
       " (30, 7380): 'in orthology relationship with',\n",
       " (30, 6934): 'in orthology relationship with',\n",
       " (31, 7111): 'causes condition',\n",
       " (31, 4542): 'in orthology relationship with',\n",
       " (31, 1358): 'in orthology relationship with',\n",
       " (31, 6858): 'in orthology relationship with',\n",
       " (31, 7509): 'in orthology relationship with',\n",
       " (31, 5221): 'in orthology relationship with',\n",
       " (31, 3994): 'in orthology relationship with',\n",
       " (31, 912): 'in orthology relationship with',\n",
       " (31, 379): 'in orthology relationship with',\n",
       " (31, 6329): 'in orthology relationship with',\n",
       " (31, 3547): 'in orthology relationship with',\n",
       " (31, 172): 'in orthology relationship with',\n",
       " (31, 9659): 'in orthology relationship with',\n",
       " (31, 10269): 'in orthology relationship with',\n",
       " (31, 6915): 'in orthology relationship with',\n",
       " (31, 3628): 'in orthology relationship with',\n",
       " (31, 7012): 'in orthology relationship with',\n",
       " (31, 4133): 'in orthology relationship with',\n",
       " (31, 2440): 'in orthology relationship with',\n",
       " (31, 4305): 'causes condition',\n",
       " (31, 559): 'in orthology relationship with',\n",
       " (31, 10144): 'causes condition',\n",
       " (31, 1263): 'in orthology relationship with',\n",
       " (31, 5710): 'in orthology relationship with',\n",
       " (31, 646): 'in orthology relationship with',\n",
       " (31, 7445): 'in orthology relationship with',\n",
       " (31, 8077): 'in orthology relationship with',\n",
       " (31, 4320): 'in orthology relationship with',\n",
       " (31, 7088): 'in orthology relationship with',\n",
       " (31, 7584): 'causes condition',\n",
       " (31, 7965): 'in orthology relationship with',\n",
       " (31, 5015): 'in orthology relationship with',\n",
       " (31, 6272): 'in orthology relationship with',\n",
       " (31, 3771): 'in orthology relationship with',\n",
       " (31, 3864): 'causes condition',\n",
       " (31, 7784): 'causes condition',\n",
       " (31, 7061): 'in orthology relationship with',\n",
       " (31, 8470): 'in orthology relationship with',\n",
       " (31, 4246): 'in orthology relationship with',\n",
       " (31, 9558): 'causes condition',\n",
       " (31, 8661): 'causes condition',\n",
       " (31, 6751): 'in orthology relationship with',\n",
       " (31, 1465): 'in orthology relationship with',\n",
       " (31, 149): 'in orthology relationship with',\n",
       " (31, 5466): 'in orthology relationship with',\n",
       " (31, 1991): 'in orthology relationship with',\n",
       " (31, 1687): 'in orthology relationship with',\n",
       " (31, 3821): 'in orthology relationship with',\n",
       " (31, 3047): 'found in',\n",
       " (31, 3520): 'in orthology relationship with',\n",
       " (31, 3773): 'in orthology relationship with',\n",
       " (31, 3667): 'in orthology relationship with',\n",
       " (31, 7888): 'in orthology relationship with',\n",
       " (31, 6744): 'in orthology relationship with',\n",
       " (31, 9494): 'causes condition',\n",
       " (31, 6422): 'interacts with',\n",
       " (31, 2799): 'in orthology relationship with',\n",
       " (31, 7189): 'in orthology relationship with',\n",
       " (31, 3677): 'in orthology relationship with',\n",
       " (31, 7461): 'in orthology relationship with',\n",
       " (31, 7885): 'in orthology relationship with',\n",
       " (31, 1683): 'in orthology relationship with',\n",
       " (31, 1520): 'in orthology relationship with',\n",
       " (31, 8235): 'in orthology relationship with',\n",
       " (31, 6020): 'in orthology relationship with',\n",
       " (31, 7118): 'in orthology relationship with',\n",
       " (31, 290): 'in orthology relationship with',\n",
       " (31, 5275): 'in orthology relationship with',\n",
       " (31, 7291): 'in orthology relationship with',\n",
       " (31, 3026): 'in orthology relationship with',\n",
       " (32, 4667): 'is part of',\n",
       " (32, 6479): 'in orthology relationship with',\n",
       " (32, 5884): 'in orthology relationship with',\n",
       " (32, 2666): 'in orthology relationship with',\n",
       " (32, 5736): 'in orthology relationship with',\n",
       " (32, 4217): 'in orthology relationship with',\n",
       " (32, 9407): 'found in',\n",
       " (32, 3177): 'in orthology relationship with',\n",
       " (32, 4895): 'in orthology relationship with',\n",
       " (32, 5639): 'is part of',\n",
       " (32, 1416): 'in orthology relationship with',\n",
       " (32, 4549): 'in orthology relationship with',\n",
       " (32, 850): 'in orthology relationship with',\n",
       " (32, 8649): 'in orthology relationship with',\n",
       " (32, 8208): 'in orthology relationship with',\n",
       " (32, 3054): 'in orthology relationship with',\n",
       " (34, 3275): 'in orthology relationship with',\n",
       " (34, 8232): 'in orthology relationship with',\n",
       " (34, 3271): 'in orthology relationship with',\n",
       " (34, 8222): 'in orthology relationship with',\n",
       " (34, 4407): 'in orthology relationship with',\n",
       " (34, 7187): 'in orthology relationship with',\n",
       " (34, 8963): 'in orthology relationship with',\n",
       " (34, 7964): 'in orthology relationship with',\n",
       " (34, 5570): 'in orthology relationship with',\n",
       " (34, 5792): 'in orthology relationship with',\n",
       " (34, 1753): 'found in',\n",
       " (34, 919): 'in orthology relationship with',\n",
       " (34, 5146): 'in orthology relationship with',\n",
       " (34, 3243): 'in orthology relationship with',\n",
       " (34, 4499): 'in orthology relationship with',\n",
       " (34, 755): 'in orthology relationship with',\n",
       " (35, 9489): 'is product of',\n",
       " (36, 7771): 'in orthology relationship with',\n",
       " (36, 156): 'in orthology relationship with',\n",
       " (36, 2068): 'in orthology relationship with',\n",
       " (36, 1489): 'in orthology relationship with',\n",
       " (36, 8285): 'in orthology relationship with',\n",
       " (36, 4121): 'is part of',\n",
       " (36, 56): 'in orthology relationship with',\n",
       " (36, 502): 'in orthology relationship with',\n",
       " (36, 8123): 'in orthology relationship with',\n",
       " (36, 6780): 'in orthology relationship with',\n",
       " (36, 6909): 'in orthology relationship with',\n",
       " (36, 9237): 'found in',\n",
       " (36, 1824): 'in orthology relationship with',\n",
       " (36, 818): 'in orthology relationship with',\n",
       " (36, 6386): 'in orthology relationship with',\n",
       " (36, 1739): 'in orthology relationship with',\n",
       " (36, 4543): 'in orthology relationship with',\n",
       " (45, 1913): 'causes condition',\n",
       " (51, 5907): 'in orthology relationship with',\n",
       " (51, 5871): 'in orthology relationship with',\n",
       " (51, 4667): 'is part of',\n",
       " (51, 7693): 'found in',\n",
       " (51, 4468): 'in orthology relationship with',\n",
       " (51, 10130): 'in orthology relationship with',\n",
       " (51, 6929): 'in orthology relationship with',\n",
       " (51, 2553): 'in orthology relationship with',\n",
       " (51, 137): 'in orthology relationship with',\n",
       " (51, 8097): 'in orthology relationship with',\n",
       " (51, 5639): 'is part of',\n",
       " (51, 9153): 'in orthology relationship with',\n",
       " (51, 3765): 'in orthology relationship with',\n",
       " (51, 6176): 'in orthology relationship with',\n",
       " (51, 6706): 'in orthology relationship with',\n",
       " (51, 1006): 'in orthology relationship with',\n",
       " (51, 311): 'in orthology relationship with',\n",
       " (51, 9941): 'in orthology relationship with',\n",
       " (51, 9657): 'in orthology relationship with',\n",
       " (51, 5478): 'in orthology relationship with',\n",
       " (51, 974): 'in orthology relationship with',\n",
       " (51, 8574): 'in orthology relationship with',\n",
       " (51, 4345): 'in orthology relationship with',\n",
       " (51, 1305): 'in orthology relationship with',\n",
       " (53, 1344): 'in orthology relationship with',\n",
       " (53, 6599): 'in orthology relationship with',\n",
       " (53, 4605): 'in orthology relationship with',\n",
       " (53, 1749): 'in orthology relationship with',\n",
       " (53, 7166): 'in orthology relationship with',\n",
       " (53, 2732): 'in orthology relationship with',\n",
       " (53, 1876): 'enables',\n",
       " (53, 3334): 'in orthology relationship with',\n",
       " (53, 8412): 'in orthology relationship with',\n",
       " (53, 4179): 'in orthology relationship with',\n",
       " (53, 9183): 'in orthology relationship with',\n",
       " (53, 2380): 'in orthology relationship with',\n",
       " (53, 8656): 'in orthology relationship with',\n",
       " (53, 9407): 'found in',\n",
       " (53, 374): 'in orthology relationship with',\n",
       " (53, 4332): 'in orthology relationship with',\n",
       " (53, 109): 'in orthology relationship with',\n",
       " (53, 5071): 'in orthology relationship with',\n",
       " (53, 1118): 'in orthology relationship with',\n",
       " (53, 593): 'in orthology relationship with',\n",
       " (56, 4543): 'in orthology relationship with',\n",
       " (56, 6780): 'in orthology relationship with',\n",
       " (56, 2068): 'in orthology relationship with',\n",
       " (56, 1824): 'in orthology relationship with',\n",
       " (56, 10184): 'found in',\n",
       " (56, 8285): 'in orthology relationship with',\n",
       " (56, 502): 'in orthology relationship with',\n",
       " (56, 1739): 'in orthology relationship with',\n",
       " (56, 156): 'in orthology relationship with',\n",
       " (56, 1489): 'in orthology relationship with',\n",
       " (56, 6386): 'in orthology relationship with',\n",
       " (56, 7771): 'in orthology relationship with',\n",
       " (56, 8123): 'in orthology relationship with',\n",
       " (56, 6909): 'in orthology relationship with',\n",
       " (56, 818): 'in orthology relationship with',\n",
       " (56, 36): 'in orthology relationship with',\n",
       " (57, 2835): 'in orthology relationship with',\n",
       " (57, 3091): 'in orthology relationship with',\n",
       " (57, 2052): 'in orthology relationship with',\n",
       " (57, 5034): 'in orthology relationship with',\n",
       " (57, 8482): 'in orthology relationship with',\n",
       " (57, 6544): 'in orthology relationship with',\n",
       " (57, 459): 'in orthology relationship with',\n",
       " (57, 6938): 'in orthology relationship with',\n",
       " (57, 6652): 'in orthology relationship with',\n",
       " (57, 3813): 'in orthology relationship with',\n",
       " (57, 2060): 'found in',\n",
       " (57, 2713): 'in orthology relationship with',\n",
       " (57, 1497): 'in orthology relationship with',\n",
       " (57, 2665): 'in orthology relationship with',\n",
       " (59, 3735): 'in orthology relationship with',\n",
       " (59, 7728): 'in orthology relationship with',\n",
       " (59, 2733): 'in orthology relationship with',\n",
       " (59, 1323): 'in orthology relationship with',\n",
       " (59, 4208): 'in orthology relationship with',\n",
       " (59, 9407): 'found in',\n",
       " (59, 8202): 'in orthology relationship with',\n",
       " (59, 7334): 'in orthology relationship with',\n",
       " (59, 9129): 'in orthology relationship with',\n",
       " (59, 513): 'in orthology relationship with',\n",
       " (59, 6346): 'in orthology relationship with',\n",
       " (59, 9326): 'in orthology relationship with',\n",
       " (59, 6087): 'in orthology relationship with',\n",
       " (59, 347): 'in orthology relationship with',\n",
       " (59, 4021): 'in orthology relationship with',\n",
       " (59, 1299): 'in orthology relationship with',\n",
       " (59, 9903): 'in orthology relationship with',\n",
       " (59, 6919): 'in orthology relationship with',\n",
       " (59, 142): 'in orthology relationship with',\n",
       " (61, 3310): 'has affected feature',\n",
       " (61, 1913): 'causes condition',\n",
       " (63, 9918): 'in orthology relationship with',\n",
       " (63, 2479): 'found in',\n",
       " (63, 7107): 'in orthology relationship with',\n",
       " (63, 8244): 'in orthology relationship with',\n",
       " (63, 5395): 'in orthology relationship with',\n",
       " (63, 9276): 'in orthology relationship with',\n",
       " (63, 2425): 'in orthology relationship with',\n",
       " (63, 6892): 'in orthology relationship with',\n",
       " (63, 4449): 'in orthology relationship with',\n",
       " (63, 10215): 'in orthology relationship with',\n",
       " (63, 10180): 'in orthology relationship with',\n",
       " (63, 3190): 'in orthology relationship with',\n",
       " (63, 6498): 'in orthology relationship with',\n",
       " (63, 2268): 'in orthology relationship with',\n",
       " (63, 4458): 'in orthology relationship with',\n",
       " (63, 3526): 'in orthology relationship with',\n",
       " (63, 9368): 'in orthology relationship with',\n",
       " (63, 8170): 'in orthology relationship with',\n",
       " (63, 9442): 'in orthology relationship with',\n",
       " (63, 9110): 'in orthology relationship with',\n",
       " (63, 7099): 'in orthology relationship with',\n",
       " (65, 3310): 'has affected feature',\n",
       " (65, 1913): 'causes condition',\n",
       " (68, 2318): 'in orthology relationship with',\n",
       " (68, 323): 'in orthology relationship with',\n",
       " (68, 6593): 'in orthology relationship with',\n",
       " (68, 207): 'in orthology relationship with',\n",
       " (68, 2060): 'found in',\n",
       " (68, 1162): 'in orthology relationship with',\n",
       " (68, 2634): 'in orthology relationship with',\n",
       " (68, 7599): 'in orthology relationship with',\n",
       " (68, 383): 'in orthology relationship with',\n",
       " (68, 9872): 'in orthology relationship with',\n",
       " (68, 339): 'in orthology relationship with',\n",
       " (68, 1373): 'in orthology relationship with',\n",
       " (68, 2120): 'in orthology relationship with',\n",
       " (68, 6972): 'in orthology relationship with',\n",
       " (70, 1913): 'causes condition',\n",
       " (70, 3310): 'has affected feature',\n",
       " (71, 3247): 'in orthology relationship with',\n",
       " (71, 7736): 'in orthology relationship with',\n",
       " (71, 4261): 'in orthology relationship with',\n",
       " (71, 8993): 'in orthology relationship with',\n",
       " (71, 4119): 'in orthology relationship with',\n",
       " (71, 2589): 'in orthology relationship with',\n",
       " (71, 7311): 'in orthology relationship with',\n",
       " (71, 6793): 'in orthology relationship with',\n",
       " (71, 1559): 'in orthology relationship with',\n",
       " (71, 6276): 'in orthology relationship with',\n",
       " (71, 4636): 'in orthology relationship with',\n",
       " (71, 5058): 'in orthology relationship with',\n",
       " (71, 4579): 'in orthology relationship with',\n",
       " (71, 4930): 'in orthology relationship with',\n",
       " (71, 8696): 'found in',\n",
       " (71, 7379): 'in orthology relationship with',\n",
       " (75, 1907): 'in orthology relationship with',\n",
       " (75, 6186): 'in orthology relationship with',\n",
       " (75, 91): 'found in',\n",
       " (75, 3052): 'in orthology relationship with',\n",
       " (75, 7156): 'in orthology relationship with',\n",
       " (75, 1262): 'in orthology relationship with',\n",
       " (75, 4253): 'in orthology relationship with',\n",
       " (75, 8018): 'in orthology relationship with',\n",
       " (75, 1851): 'in orthology relationship with',\n",
       " (75, 3549): 'in orthology relationship with',\n",
       " (75, 8938): 'in orthology relationship with',\n",
       " (75, 7861): 'in orthology relationship with',\n",
       " (76, 8505): 'in orthology relationship with',\n",
       " (76, 194): 'in orthology relationship with',\n",
       " (76, 9745): 'in orthology relationship with',\n",
       " (76, 5296): 'in orthology relationship with',\n",
       " (76, 9455): 'in orthology relationship with',\n",
       " (76, 761): 'in orthology relationship with',\n",
       " (76, 10228): 'in orthology relationship with',\n",
       " (76, 566): 'in orthology relationship with',\n",
       " (76, 6110): 'in orthology relationship with',\n",
       " (76, 1661): 'in orthology relationship with',\n",
       " (76, 5340): 'in orthology relationship with',\n",
       " (76, 3157): 'in orthology relationship with',\n",
       " (76, 1753): 'found in',\n",
       " (76, 1211): 'in orthology relationship with',\n",
       " (76, 4964): 'in orthology relationship with',\n",
       " (76, 9159): 'in orthology relationship with',\n",
       " (79, 9193): 'in orthology relationship with',\n",
       " (79, 1363): 'in orthology relationship with',\n",
       " (79, 8222): 'in orthology relationship with',\n",
       " (79, 7696): 'in orthology relationship with',\n",
       " (79, 2992): 'in orthology relationship with',\n",
       " (79, 3275): 'in orthology relationship with',\n",
       " (79, 1876): 'enables',\n",
       " (79, 7506): 'in orthology relationship with',\n",
       " (79, 213): 'in orthology relationship with',\n",
       " (79, 5533): 'found in',\n",
       " (79, 3686): 'in orthology relationship with',\n",
       " (79, 8411): 'in orthology relationship with',\n",
       " (79, 7030): 'in orthology relationship with',\n",
       " (79, 919): 'in orthology relationship with',\n",
       " (79, 4409): 'in orthology relationship with',\n",
       " (79, 5792): 'in orthology relationship with',\n",
       " (79, 9496): 'in orthology relationship with',\n",
       " (79, 8232): 'in orthology relationship with',\n",
       " (79, 9960): 'in orthology relationship with',\n",
       " (79, 1727): 'in orthology relationship with',\n",
       " (79, 2013): 'in orthology relationship with',\n",
       " (79, 3782): 'in orthology relationship with',\n",
       " (79, 1113): 'in orthology relationship with',\n",
       " (79, 6512): 'in orthology relationship with',\n",
       " (80, 3310): 'has affected feature',\n",
       " (85, 513): 'in orthology relationship with',\n",
       " (85, 347): 'in orthology relationship with',\n",
       " (85, 6346): 'in orthology relationship with',\n",
       " (85, 8202): 'in orthology relationship with',\n",
       " (85, 6087): 'in orthology relationship with',\n",
       " (85, 9129): 'in orthology relationship with',\n",
       " (85, 455): 'causes condition',\n",
       " (85, 9903): 'in orthology relationship with',\n",
       " (85, 7334): 'in orthology relationship with',\n",
       " (85, 7728): 'in orthology relationship with',\n",
       " (85, 5431): 'causes condition',\n",
       " (85, 1323): 'in orthology relationship with',\n",
       " (85, 2539): 'causes condition',\n",
       " (85, 4021): 'in orthology relationship with',\n",
       " (85, 1299): 'in orthology relationship with',\n",
       " (85, 6919): 'in orthology relationship with',\n",
       " (85, 2733): 'in orthology relationship with',\n",
       " (85, 9407): 'found in',\n",
       " (85, 4208): 'in orthology relationship with',\n",
       " (85, 3735): 'in orthology relationship with',\n",
       " (85, 9326): 'in orthology relationship with',\n",
       " (85, 142): 'in orthology relationship with',\n",
       " (85, 1855): 'causes condition',\n",
       " (86, 91): 'found in',\n",
       " (86, 6225): 'in orthology relationship with',\n",
       " (86, 752): 'in orthology relationship with',\n",
       " (86, 3617): 'in orthology relationship with',\n",
       " (86, 5740): 'in orthology relationship with',\n",
       " (86, 9162): 'in orthology relationship with',\n",
       " (86, 8637): 'in orthology relationship with',\n",
       " (86, 3731): 'in orthology relationship with',\n",
       " (86, 1221): 'in orthology relationship with',\n",
       " (86, 3822): 'in orthology relationship with',\n",
       " (86, 10054): 'in orthology relationship with',\n",
       " (86, 7360): 'in orthology relationship with',\n",
       " (86, 1084): 'in orthology relationship with',\n",
       " (86, 2669): 'in orthology relationship with',\n",
       " (86, 5473): 'in orthology relationship with',\n",
       " (86, 2851): 'in orthology relationship with',\n",
       " (86, 6430): 'in orthology relationship with',\n",
       " (89, 7685): 'targets',\n",
       " (90, 6563): 'in orthology relationship with',\n",
       " (90, 6876): 'in orthology relationship with',\n",
       " (90, 5255): 'in orthology relationship with',\n",
       " (90, 2404): 'in orthology relationship with',\n",
       " (90, 8696): 'found in',\n",
       " (90, 7242): 'in orthology relationship with',\n",
       " (90, 9454): 'in orthology relationship with',\n",
       " (90, 1371): 'in orthology relationship with',\n",
       " (90, 637): 'in orthology relationship with',\n",
       " (90, 6633): 'in orthology relationship with',\n",
       " (90, 5158): 'in orthology relationship with',\n",
       " (90, 6227): 'in orthology relationship with',\n",
       " (90, 8469): 'in orthology relationship with',\n",
       " (90, 2080): 'in orthology relationship with',\n",
       " (90, 6339): 'in orthology relationship with',\n",
       " (90, 1063): 'in orthology relationship with',\n",
       " (90, 3184): 'in orthology relationship with',\n",
       " (90, 1046): 'in orthology relationship with',\n",
       " (90, 4783): 'in orthology relationship with',\n",
       " (90, 457): 'in orthology relationship with',\n",
       " (90, 1097): 'in orthology relationship with',\n",
       " (92, 2274): 'in orthology relationship with',\n",
       " (92, 756): 'in orthology relationship with',\n",
       " (92, 1753): 'found in',\n",
       " (92, 9020): 'in orthology relationship with',\n",
       " (92, 4624): 'in orthology relationship with',\n",
       " (92, 9978): 'in orthology relationship with',\n",
       " (92, 892): 'in orthology relationship with',\n",
       " (92, 1194): 'in orthology relationship with',\n",
       " (92, 2698): 'in orthology relationship with',\n",
       " (92, 1329): 'in orthology relationship with',\n",
       " (92, 5636): 'in orthology relationship with',\n",
       " (92, 3981): 'in orthology relationship with',\n",
       " (94, 3310): 'has affected feature',\n",
       " (94, 1913): 'causes condition',\n",
       " (95, 5423): 'in orthology relationship with',\n",
       " (95, 6164): 'in orthology relationship with',\n",
       " (95, 4178): 'in orthology relationship with',\n",
       " (95, 3864): 'causes condition',\n",
       " (95, 6896): 'in orthology relationship with',\n",
       " (95, 7784): 'causes condition',\n",
       " (95, 5990): 'causes condition',\n",
       " (95, 2990): 'interacts with',\n",
       " (95, 9978): 'interacts with',\n",
       " (95, 3376): 'in orthology relationship with',\n",
       " (95, 6844): 'in orthology relationship with',\n",
       " (95, 6596): 'in orthology relationship with',\n",
       " (95, 2786): 'in orthology relationship with',\n",
       " (95, 4492): 'interacts with',\n",
       " (95, 3218): 'in orthology relationship with',\n",
       " (95, 130): 'in orthology relationship with',\n",
       " (95, 7846): 'in orthology relationship with',\n",
       " (95, 4933): 'in orthology relationship with',\n",
       " (95, 5090): 'in orthology relationship with',\n",
       " (95, 8407): 'causes condition',\n",
       " (95, 4835): 'in orthology relationship with',\n",
       " (95, 5183): 'in orthology relationship with',\n",
       " (95, 4350): 'in orthology relationship with',\n",
       " (95, 585): 'causes condition',\n",
       " (95, 6368): 'in orthology relationship with',\n",
       " (95, 1220): 'in orthology relationship with',\n",
       " (95, 5008): 'causes condition',\n",
       " (95, 422): 'in orthology relationship with',\n",
       " (95, 8058): 'interacts with',\n",
       " (95, 3047): 'found in',\n",
       " (95, 2929): 'causes condition',\n",
       " (95, 4576): 'in orthology relationship with',\n",
       " (95, 2611): 'in orthology relationship with',\n",
       " (95, 1252): 'in orthology relationship with',\n",
       " (95, 82): 'causes condition',\n",
       " (95, 1769): 'in orthology relationship with',\n",
       " (95, 3188): 'in orthology relationship with',\n",
       " (95, 1410): 'in orthology relationship with',\n",
       " (95, 1118): 'interacts with',\n",
       " (95, 832): 'causes condition',\n",
       " (95, 9205): 'causes condition',\n",
       " (95, 8613): 'in orthology relationship with',\n",
       " (95, 5930): 'in orthology relationship with',\n",
       " (95, 4451): 'interacts with',\n",
       " (95, 10047): 'in orthology relationship with',\n",
       " (95, 4622): 'in orthology relationship with',\n",
       " (95, 5543): 'in orthology relationship with',\n",
       " (95, 449): 'interacts with',\n",
       " (95, 4890): 'interacts with',\n",
       " (95, 2586): 'in orthology relationship with',\n",
       " (95, 2604): 'in orthology relationship with',\n",
       " (95, 10068): 'in orthology relationship with',\n",
       " (95, 7111): 'causes condition',\n",
       " (95, 4872): 'in orthology relationship with',\n",
       " (95, 5034): 'interacts with',\n",
       " (95, 5003): 'in orthology relationship with',\n",
       " (95, 4779): 'in orthology relationship with',\n",
       " (95, 418): 'in orthology relationship with',\n",
       " (95, 9152): 'in orthology relationship with',\n",
       " (95, 8360): 'in orthology relationship with',\n",
       " (95, 4219): 'in orthology relationship with',\n",
       " (95, 2380): 'interacts with',\n",
       " (95, 6729): 'in orthology relationship with',\n",
       " (95, 7205): 'in orthology relationship with',\n",
       " (95, 8540): 'in orthology relationship with',\n",
       " (95, 1162): 'interacts with',\n",
       " (95, 9558): 'causes condition',\n",
       " (95, 4174): 'in orthology relationship with',\n",
       " (95, 2610): 'in orthology relationship with',\n",
       " (95, 4626): 'in orthology relationship with',\n",
       " (95, 10193): 'in orthology relationship with',\n",
       " (95, 5717): 'causes condition',\n",
       " (95, 2079): 'in orthology relationship with',\n",
       " (95, 5339): 'in orthology relationship with',\n",
       " (95, 10159): 'interacts with',\n",
       " (95, 2018): 'in orthology relationship with',\n",
       " (95, 779): 'in orthology relationship with',\n",
       " (95, 9134): 'in orthology relationship with',\n",
       " (95, 6642): 'in orthology relationship with',\n",
       " (95, 9936): 'in orthology relationship with',\n",
       " (95, 111): 'in orthology relationship with',\n",
       " (95, 10109): 'in orthology relationship with',\n",
       " (95, 10148): 'causes condition',\n",
       " (95, 387): 'in orthology relationship with',\n",
       " (95, 618): 'causes condition',\n",
       " (95, 8200): 'interacts with',\n",
       " (95, 6600): 'in orthology relationship with',\n",
       " (95, 8830): 'in orthology relationship with',\n",
       " (95, 1201): 'in orthology relationship with',\n",
       " (95, 8531): 'in orthology relationship with',\n",
       " (95, 7403): 'causes condition',\n",
       " (95, 410): 'in orthology relationship with',\n",
       " (95, 761): 'interacts with',\n",
       " (95, 1536): 'in orthology relationship with',\n",
       " (95, 969): 'in orthology relationship with',\n",
       " (95, 9224): 'in orthology relationship with',\n",
       " (95, 6456): 'in orthology relationship with',\n",
       " (95, 9934): 'interacts with',\n",
       " (95, 7761): 'in orthology relationship with',\n",
       " (95, 3275): 'interacts with',\n",
       " (95, 9464): 'in orthology relationship with',\n",
       " (95, 10076): 'in orthology relationship with',\n",
       " (95, 610): 'in orthology relationship with',\n",
       " (95, 7584): 'causes condition',\n",
       " (95, 7762): 'in orthology relationship with',\n",
       " (95, 1507): 'interacts with',\n",
       " (95, 1357): 'in orthology relationship with',\n",
       " (95, 1661): 'interacts with',\n",
       " (95, 4280): 'in orthology relationship with',\n",
       " (95, 4809): 'in orthology relationship with',\n",
       " (95, 1890): 'in orthology relationship with',\n",
       " (95, 7724): 'in orthology relationship with',\n",
       " (95, 625): 'in orthology relationship with',\n",
       " (95, 3447): 'in orthology relationship with',\n",
       " (95, 4393): 'in orthology relationship with',\n",
       " (95, 1574): 'in orthology relationship with',\n",
       " (95, 8439): 'in orthology relationship with',\n",
       " (95, 3573): 'in orthology relationship with',\n",
       " (96, 3310): 'has affected feature',\n",
       " (96, 1913): 'causes condition',\n",
       " (98, 5919): 'targets',\n",
       " (99, 4773): 'in orthology relationship with',\n",
       " (99, 10014): 'in orthology relationship with',\n",
       " (99, 1082): 'in orthology relationship with',\n",
       " (99, 1360): 'in orthology relationship with',\n",
       " (99, 5204): 'in orthology relationship with',\n",
       " (99, 8478): 'in orthology relationship with',\n",
       " (99, 3618): 'in orthology relationship with',\n",
       " (99, 8112): 'involved in',\n",
       " (99, 6235): 'in orthology relationship with',\n",
       " (99, 9237): 'found in',\n",
       " (99, 9241): 'in orthology relationship with',\n",
       " (99, 4139): 'in orthology relationship with',\n",
       " (99, 7089): 'in orthology relationship with',\n",
       " (99, 394): 'in orthology relationship with',\n",
       " (99, 920): 'in orthology relationship with',\n",
       " (100, 7329): 'in orthology relationship with',\n",
       " (100, 4902): 'causes condition',\n",
       " (100, 2783): 'causes condition',\n",
       " (100, 2620): 'causes condition',\n",
       " (100, 7105): 'in orthology relationship with',\n",
       " (100, 3112): 'in orthology relationship with',\n",
       " (100, 2649): 'in orthology relationship with',\n",
       " (100, 6240): 'causes condition',\n",
       " (100, 544): 'causes condition',\n",
       " (100, 3129): 'causes condition',\n",
       " (100, 5523): 'in orthology relationship with',\n",
       " (100, 4124): 'causes condition',\n",
       " (100, 6063): 'in orthology relationship with',\n",
       " (100, 377): 'causes condition',\n",
       " (100, 3075): 'in orthology relationship with',\n",
       " (100, 2497): 'in orthology relationship with',\n",
       " (100, 2613): 'in orthology relationship with',\n",
       " (100, 1551): 'in orthology relationship with',\n",
       " (100, 21): 'in orthology relationship with',\n",
       " (100, 5475): 'causes condition',\n",
       " (100, 5731): 'causes condition',\n",
       " (100, 6411): 'causes condition',\n",
       " (100, 5715): 'causes condition',\n",
       " (100, 2832): 'in orthology relationship with',\n",
       " (100, 10155): 'causes condition',\n",
       " (100, 7185): 'in orthology relationship with',\n",
       " (100, 7197): 'in orthology relationship with',\n",
       " (100, 5056): 'causes condition',\n",
       " (100, 8476): 'causes condition',\n",
       " (100, 8943): 'causes condition',\n",
       " (100, 174): 'causes condition',\n",
       " (100, 4597): 'in orthology relationship with',\n",
       " (100, 2834): 'causes condition',\n",
       " (100, 2183): 'causes condition',\n",
       " (100, 9273): 'in orthology relationship with',\n",
       " (100, 6579): 'causes condition',\n",
       " (100, 9970): 'causes condition',\n",
       " (100, 3804): 'causes condition',\n",
       " (100, 888): 'causes condition',\n",
       " (100, 5114): 'in orthology relationship with',\n",
       " (100, 4237): 'causes condition',\n",
       " (100, 2479): 'found in',\n",
       " (100, 2774): 'causes condition',\n",
       " (100, 8325): 'causes condition',\n",
       " (100, 6058): 'in orthology relationship with',\n",
       " (100, 1123): 'causes condition',\n",
       " (100, 6105): 'causes condition',\n",
       " (100, 7786): 'in orthology relationship with',\n",
       " (100, 6296): 'causes condition',\n",
       " (100, 9254): 'causes condition',\n",
       " (100, 4223): 'in orthology relationship with',\n",
       " (101, 541): 'in orthology relationship with',\n",
       " (101, 4213): 'in orthology relationship with',\n",
       " (101, 7544): 'in orthology relationship with',\n",
       " (101, 91): 'found in',\n",
       " (101, 10079): 'in orthology relationship with',\n",
       " (101, 357): 'in orthology relationship with',\n",
       " (101, 9437): 'in orthology relationship with',\n",
       " (101, 3489): 'in orthology relationship with',\n",
       " (101, 5600): 'in orthology relationship with',\n",
       " (101, 5569): 'in orthology relationship with',\n",
       " (101, 8561): 'in orthology relationship with',\n",
       " (101, 4437): 'in orthology relationship with',\n",
       " (101, 10266): 'in orthology relationship with',\n",
       " (103, 5919): 'targets',\n",
       " (108, 1176): 'in orthology relationship with',\n",
       " (108, 8002): 'found in',\n",
       " (108, 1622): 'in orthology relationship with',\n",
       " (108, 527): 'in orthology relationship with',\n",
       " (108, 8995): 'in orthology relationship with',\n",
       " (108, 6660): 'in orthology relationship with',\n",
       " (108, 6251): 'in orthology relationship with',\n",
       " (108, 9508): 'in orthology relationship with',\n",
       " (108, 498): 'in orthology relationship with',\n",
       " (108, 3455): 'in orthology relationship with',\n",
       " (108, 9396): 'in orthology relationship with',\n",
       " (108, 1854): 'in orthology relationship with',\n",
       " (108, 6429): 'in orthology relationship with',\n",
       " (108, 1163): 'in orthology relationship with',\n",
       " (108, 10246): 'in orthology relationship with',\n",
       " (109, 3441): 'causes condition',\n",
       " (109, 8656): 'in orthology relationship with',\n",
       " (109, 9034): 'in orthology relationship with',\n",
       " (109, 4897): 'causes condition',\n",
       " (109, 6443): 'interacts with',\n",
       " (109, 7166): 'in orthology relationship with',\n",
       " (109, 2120): 'interacts with',\n",
       " (109, 5080): 'interacts with',\n",
       " (109, 1034): 'contributes to condition',\n",
       " (109, 5768): 'causes condition',\n",
       " (109, 3334): 'in orthology relationship with',\n",
       " (109, 5455): 'interacts with',\n",
       " (109, 593): 'in orthology relationship with',\n",
       " (109, 8665): 'causes condition',\n",
       " (109, 1749): 'in orthology relationship with',\n",
       " (109, 4964): 'interacts with',\n",
       " (109, 8933): 'causes condition',\n",
       " (109, 6416): 'interacts with',\n",
       " (109, 6829): 'interacts with',\n",
       " (109, 2732): 'in orthology relationship with',\n",
       " (109, 788): 'causes condition',\n",
       " (109, 8444): 'involved in',\n",
       " (109, 2851): 'interacts with',\n",
       " (109, 2737): 'causes condition',\n",
       " (109, 1429): 'causes condition',\n",
       " (109, 227): 'causes condition',\n",
       " (109, 5289): 'interacts with',\n",
       " (109, 7964): 'interacts with',\n",
       " (109, 6574): 'interacts with',\n",
       " (109, 2835): 'interacts with',\n",
       " (109, 4540): 'causes condition',\n",
       " (109, 5052): 'causes condition',\n",
       " (109, 8304): 'interacts with',\n",
       " (109, 475): 'contributes to condition',\n",
       " (109, 5762): 'causes condition',\n",
       " (109, 5071): 'in orthology relationship with',\n",
       " (109, 8869): 'involved in',\n",
       " (109, 1344): 'in orthology relationship with',\n",
       " (109, 4655): 'in orthology relationship with',\n",
       " (109, 587): 'causes condition',\n",
       " (109, 1850): 'interacts with',\n",
       " (109, 4445): 'causes condition',\n",
       " (109, 6542): 'enables',\n",
       " (109, 4179): 'in orthology relationship with',\n",
       " (109, 2380): 'in orthology relationship with',\n",
       " (109, 556): 'causes condition',\n",
       " (109, 1688): 'causes condition',\n",
       " (109, 10057): 'causes condition',\n",
       " (109, 357): 'interacts with',\n",
       " (109, 3435): 'interacts with',\n",
       " (109, 8363): 'causes condition',\n",
       " (109, 2369): 'causes condition',\n",
       " (109, 4375): 'interacts with',\n",
       " (109, 8899): 'causes condition',\n",
       " (109, 1118): 'in orthology relationship with',\n",
       " (109, 7077): 'interacts with',\n",
       " (109, 6512): 'interacts with',\n",
       " (109, 4121): 'is part of',\n",
       " (109, 3658): 'interacts with',\n",
       " (109, 9338): 'found in',\n",
       " (109, 2964): 'contributes to condition',\n",
       " (109, 9771): 'causes condition',\n",
       " (109, 6870): 'causes condition',\n",
       " (109, 6195): 'interacts with',\n",
       " (109, 8594): 'causes condition',\n",
       " (109, 9711): 'interacts with',\n",
       " (109, 1522): 'contributes to condition',\n",
       " (109, 10236): 'causes condition',\n",
       " (109, 4330): 'interacts with',\n",
       " (109, 6248): 'interacts with',\n",
       " (109, 1062): 'causes condition',\n",
       " (109, 4711): 'interacts with',\n",
       " (109, 4303): 'causes condition',\n",
       " (109, 1047): 'interacts with',\n",
       " (109, 5437): 'interacts with',\n",
       " (109, 6850): 'causes condition',\n",
       " (109, 3222): 'causes condition',\n",
       " (109, 5372): 'causes condition',\n",
       " (109, 5453): 'causes condition',\n",
       " (109, 6141): 'causes condition',\n",
       " (109, 8432): 'causes condition',\n",
       " (109, 1018): 'causes condition',\n",
       " (109, 374): 'in orthology relationship with',\n",
       " (109, 8412): 'in orthology relationship with',\n",
       " (109, 2966): 'contributes to condition',\n",
       " (109, 9241): 'interacts with',\n",
       " (109, 2560): 'interacts with',\n",
       " (109, 4268): 'is part of',\n",
       " (109, 1474): 'causes condition',\n",
       " (109, 6599): 'in orthology relationship with',\n",
       " (109, 9280): 'contributes to condition',\n",
       " (109, 3951): 'causes condition',\n",
       " (109, 916): 'causes condition',\n",
       " (109, 3369): 'interacts with',\n",
       " (109, 1858): 'interacts with',\n",
       " (109, 4634): 'interacts with',\n",
       " (109, 9183): 'in orthology relationship with',\n",
       " (109, 1252): 'interacts with',\n",
       " (109, 7531): 'causes condition',\n",
       " (109, 6): 'causes condition',\n",
       " (109, 2367): 'contributes to condition',\n",
       " (109, 3682): 'interacts with',\n",
       " (109, 6240): 'causes condition',\n",
       " (109, 493): 'causes condition',\n",
       " (109, 3388): 'interacts with',\n",
       " (109, 2590): 'causes condition',\n",
       " (109, 53): 'in orthology relationship with',\n",
       " (109, 6515): 'causes condition',\n",
       " (109, 8506): 'interacts with',\n",
       " (109, 8771): 'causes condition',\n",
       " (109, 3310): 'interacts with',\n",
       " (109, 2920): 'interacts with',\n",
       " (109, 4605): 'in orthology relationship with',\n",
       " (109, 178): 'causes condition',\n",
       " (109, 1769): 'interacts with',\n",
       " (109, 2736): 'causes condition',\n",
       " (109, 5096): 'interacts with',\n",
       " (109, 6644): 'causes condition',\n",
       " (109, 8123): 'interacts with',\n",
       " (109, 5438): 'contributes to condition',\n",
       " (109, 4673): 'causes condition',\n",
       " (109, 6209): 'causes condition',\n",
       " (109, 4975): 'causes condition',\n",
       " (109, 9031): 'interacts with',\n",
       " (109, 3231): 'interacts with',\n",
       " (109, 1930): 'causes condition',\n",
       " (109, 4332): 'in orthology relationship with',\n",
       " (109, 8241): 'interacts with',\n",
       " (109, 5003): 'interacts with',\n",
       " (109, 4626): 'interacts with',\n",
       " (110, 2486): 'in orthology relationship with',\n",
       " (110, 919): 'in orthology relationship with',\n",
       " (110, 3275): 'in orthology relationship with',\n",
       " (110, 5748): 'in orthology relationship with',\n",
       " (110, 7122): 'in orthology relationship with',\n",
       " (110, 5437): 'in orthology relationship with',\n",
       " (110, 6565): 'in orthology relationship with',\n",
       " (110, 1942): 'in orthology relationship with',\n",
       " (110, 8002): 'found in',\n",
       " (110, 2821): 'in orthology relationship with',\n",
       " (110, 8232): 'in orthology relationship with',\n",
       " (110, 5792): 'in orthology relationship with',\n",
       " (110, 4426): 'in orthology relationship with',\n",
       " (110, 8222): 'in orthology relationship with',\n",
       " (110, 9363): 'in orthology relationship with',\n",
       " (110, 2697): 'in orthology relationship with',\n",
       " (111, 610): 'in orthology relationship with',\n",
       " (111, 95): 'in orthology relationship with',\n",
       " (111, 4779): 'in orthology relationship with',\n",
       " (111, 9224): 'in orthology relationship with',\n",
       " (111, 2586): 'in orthology relationship with',\n",
       " (111, 8058): 'in orthology relationship with',\n",
       " (111, 1507): 'in orthology relationship with',\n",
       " (111, 4451): 'in orthology relationship with',\n",
       " (111, 4622): 'in orthology relationship with',\n",
       " (111, 4393): 'in orthology relationship with',\n",
       " (111, 91): 'found in',\n",
       " (111, 8603): 'in orthology relationship with',\n",
       " (111, 969): 'in orthology relationship with',\n",
       " (111, 9934): 'in orthology relationship with',\n",
       " (111, 5339): 'in orthology relationship with',\n",
       " (111, 1357): 'in orthology relationship with',\n",
       " (111, 418): 'in orthology relationship with',\n",
       " (111, 9464): 'in orthology relationship with',\n",
       " (111, 4809): 'in orthology relationship with',\n",
       " (111, 1252): 'in orthology relationship with',\n",
       " (112, 1913): 'causes condition',\n",
       " (112, 3310): 'has affected feature',\n",
       " (114, 4394): 'in orthology relationship with',\n",
       " (114, 5662): 'in orthology relationship with',\n",
       " (114, 1786): 'in orthology relationship with',\n",
       " (114, 2036): 'in orthology relationship with',\n",
       " (114, 9163): 'in orthology relationship with',\n",
       " (114, 415): 'in orthology relationship with',\n",
       " (114, 8683): 'in orthology relationship with',\n",
       " (114, 8121): 'in orthology relationship with',\n",
       " (114, 4996): 'in orthology relationship with',\n",
       " (114, 5590): 'in orthology relationship with',\n",
       " (114, 10217): 'in orthology relationship with',\n",
       " (114, 4058): 'in orthology relationship with',\n",
       " (114, 1753): 'found in',\n",
       " (116, 1913): 'causes condition',\n",
       " (116, 3310): 'has affected feature',\n",
       " (118, 3310): 'has affected feature',\n",
       " (118, 1913): 'likely causes condition',\n",
       " (120, 7279): 'in orthology relationship with',\n",
       " (120, 389): 'in orthology relationship with',\n",
       " (120, 8237): 'in orthology relationship with',\n",
       " (120, 4354): 'in orthology relationship with',\n",
       " (120, 4565): 'in orthology relationship with',\n",
       " (120, 1514): 'in orthology relationship with',\n",
       " (120, 9421): 'in orthology relationship with',\n",
       " (120, 8032): 'in orthology relationship with',\n",
       " (120, 6448): 'in orthology relationship with',\n",
       " (120, 6089): 'in orthology relationship with',\n",
       " (120, 1385): 'in orthology relationship with',\n",
       " (120, 6260): 'in orthology relationship with',\n",
       " (120, 6057): 'in orthology relationship with',\n",
       " (120, 7871): 'in orthology relationship with',\n",
       " (120, 1293): 'in orthology relationship with',\n",
       " (120, 9182): 'in orthology relationship with',\n",
       " (120, 6025): 'in orthology relationship with',\n",
       " (120, 2692): 'in orthology relationship with',\n",
       " (120, 1694): 'in orthology relationship with',\n",
       " (120, 4184): 'in orthology relationship with',\n",
       " (120, 1576): 'in orthology relationship with',\n",
       " (120, 6872): 'in orthology relationship with',\n",
       " (120, 8068): 'in orthology relationship with',\n",
       " (120, 9046): 'in orthology relationship with',\n",
       " (120, 2413): 'in orthology relationship with',\n",
       " (120, 7648): 'in orthology relationship with',\n",
       " (120, 2640): 'in orthology relationship with',\n",
       " (120, 7686): 'in orthology relationship with',\n",
       " (120, 6524): 'in orthology relationship with',\n",
       " (120, 5998): 'found in',\n",
       " (121, 187): 'in orthology relationship with',\n",
       " (121, 8949): 'in orthology relationship with',\n",
       " (121, 7248): 'in orthology relationship with',\n",
       " (121, 9309): 'in orthology relationship with',\n",
       " (121, 7503): 'in orthology relationship with',\n",
       " (121, 9008): 'in orthology relationship with',\n",
       " (121, 2012): 'in orthology relationship with',\n",
       " (121, 8374): 'in orthology relationship with',\n",
       " ...}"
      ]
     },
     "execution_count": 29,
     "metadata": {},
     "output_type": "execute_result"
    }
   ],
   "source": [
    "edge_labels_dict = dict([((n1, n2), G.edges[(n1,n2)]['edge_label']) for n1, n2 in G.edges])\n",
    "edge_labels_dict"
   ]
  },
  {
   "cell_type": "code",
   "execution_count": 30,
   "metadata": {},
   "outputs": [],
   "source": [
    "def explain_edge(node_idx1, node_idx2):\n",
    "    explainer = GNNExplainer(best_model, epochs=700, num_hops=2, lr=0.01)\n",
    "\n",
    "    trigger = False\n",
    "    early_stop = 0\n",
    "    size = 100   # change size of the explanation graph\n",
    "    iterations = 10 # number of times GNNExplainer is executed\n",
    "\n",
    "    while not trigger:\n",
    "        node_feat_mask, edge_mask = explainer.explain_link(node_idx1=node_idx1, node_idx2=node_idx2, x=x, edge_index=edge_index, G=G)\n",
    "\n",
    "        G2 = copy.deepcopy(G)\n",
    "        \n",
    "        if size is not None: \n",
    "            limit = edge_mask.sort(descending = True)[0][size]\n",
    "            print('Contribution limit is', limit)\n",
    "        else: \n",
    "            limit = 0.5\n",
    "\n",
    "        for indx, edge in enumerate(G.edges): \n",
    "            if edge_mask[indx] < limit:\n",
    "                G2.remove_edge(edge[0], edge[1])\n",
    "\n",
    "        trigger = nx.has_path(G2, node_idx1, node_idx2)\n",
    "        early_stop += 1\n",
    "        \n",
    "        if early_stop == iterations and not trigger:\n",
    "            print('No good explanation found after {} iterations'.format(early_stop))\n",
    "            trigger = True\n",
    "        elif trigger: \n",
    "            print('Explanation found!')\n",
    "            \n",
    "            plt.figure(figsize=(10, 10))\n",
    "            ax, G_sub = visualize_subgraph([node_idx1, node_idx2], \n",
    "                                           edge_index, edge_mask, nodes=nodes, y=torch.Tensor(nodes.semantic_id), \n",
    "                                           seed = 667, num_hops = 2, threshold=limit, node_label = 'label', edge_labels = edge_labels_dict, show_inactive = False, remove_unconnected = True)\n",
    "            plt.show()\n",
    "            \n",
    "            return True\n",
    "        \n",
    "    return False"
   ]
  },
  {
   "attachments": {},
   "cell_type": "markdown",
   "metadata": {},
   "source": [
    "Obtain the indices of the nodes of interest."
   ]
  },
  {
   "cell_type": "code",
   "execution_count": 46,
   "metadata": {},
   "outputs": [
    {
     "name": "stdout",
     "output_type": "stream",
     "text": [
      "node1:\n",
      "              id   semantic                          label  semantic_id\n",
      "5727  HP:0003707  phenotype  Calf muscle pseudohypertrophy            9\n",
      "node2:\n",
      "        id semantic        label  semantic_id\n",
      "9663  2774     drug  tropicamide            4\n",
      "Edge Index Subgraph with 2 hops:\n",
      "Nodes with features: torch.Size([1713, 64])\n",
      "Edges: torch.Size([2, 8156])\n",
      "Mapping: torch.Size([2]) tensor([ 953, 1624])\n",
      "Hard Edge Mask: torch.Size([85878]) tensor([False, False, False,  ..., False, False, False])\n",
      "Prediction: tensor([2.7319], requires_grad=True)\n"
     ]
    },
    {
     "name": "stderr",
     "output_type": "stream",
     "text": [
      "Explain edge between nodes 5727 and 9663:   8%|▊         | 56/700 [00:01<00:15, 40.41it/s]"
     ]
    },
    {
     "ename": "KeyboardInterrupt",
     "evalue": "",
     "output_type": "error",
     "traceback": [
      "\u001b[1;31m---------------------------------------------------------------------------\u001b[0m",
      "\u001b[1;31mKeyboardInterrupt\u001b[0m                         Traceback (most recent call last)",
      "Cell \u001b[1;32mIn[46], line 18\u001b[0m\n\u001b[0;32m     15\u001b[0m \u001b[39mprint\u001b[39m(\u001b[39m'\u001b[39m\u001b[39mnode2:\u001b[39m\u001b[39m'\u001b[39m)\n\u001b[0;32m     16\u001b[0m \u001b[39mprint\u001b[39m(nodes\u001b[39m.\u001b[39mloc[[node_idx2]])\n\u001b[1;32m---> 18\u001b[0m explained1 \u001b[39m=\u001b[39m explain_edge(node_idx1, node_idx2)\n\u001b[0;32m     19\u001b[0m explained2 \u001b[39m=\u001b[39m explain_edge(node_idx2, node_idx1)\n\u001b[0;32m     21\u001b[0m \u001b[39mif\u001b[39;00m explained1 \u001b[39mor\u001b[39;00m explained2:\n",
      "Cell \u001b[1;32mIn[30], line 10\u001b[0m, in \u001b[0;36mexplain_edge\u001b[1;34m(node_idx1, node_idx2)\u001b[0m\n\u001b[0;32m      7\u001b[0m iterations \u001b[39m=\u001b[39m \u001b[39m10\u001b[39m \u001b[39m# number of times GNNExplainer is executed\u001b[39;00m\n\u001b[0;32m      9\u001b[0m \u001b[39mwhile\u001b[39;00m \u001b[39mnot\u001b[39;00m trigger:\n\u001b[1;32m---> 10\u001b[0m     node_feat_mask, edge_mask \u001b[39m=\u001b[39m explainer\u001b[39m.\u001b[39;49mexplain_link(node_idx1\u001b[39m=\u001b[39;49mnode_idx1, node_idx2\u001b[39m=\u001b[39;49mnode_idx2, x\u001b[39m=\u001b[39;49mx, edge_index\u001b[39m=\u001b[39;49medge_index, G\u001b[39m=\u001b[39;49mG)\n\u001b[0;32m     12\u001b[0m     G2 \u001b[39m=\u001b[39m copy\u001b[39m.\u001b[39mdeepcopy(G)\n\u001b[0;32m     14\u001b[0m     \u001b[39mif\u001b[39;00m size \u001b[39mis\u001b[39;00m \u001b[39mnot\u001b[39;00m \u001b[39mNone\u001b[39;00m: \n",
      "File \u001b[1;32mc:\\Users\\rosa-\\Google Drive\\Msc_Bioinformatics\\thesis\\XAIFO-ThesisProject\\gnn\\gnnexplainer.py:356\u001b[0m, in \u001b[0;36mGNNExplainer.explain_link\u001b[1;34m(self, node_idx1, node_idx2, x, edge_index, **kwargs)\u001b[0m\n\u001b[0;32m    353\u001b[0m criterion \u001b[39m=\u001b[39m torch\u001b[39m.\u001b[39mnn\u001b[39m.\u001b[39mMSELoss(reduction\u001b[39m=\u001b[39m\u001b[39m'\u001b[39m\u001b[39msum\u001b[39m\u001b[39m'\u001b[39m)\n\u001b[0;32m    354\u001b[0m h \u001b[39m=\u001b[39m x1 \n\u001b[1;32m--> 356\u001b[0m pred1, emb1 \u001b[39m=\u001b[39m \u001b[39mself\u001b[39;49m\u001b[39m.\u001b[39;49mmodel(h, edge_index1, edge_index1)\n\u001b[0;32m    357\u001b[0m out \u001b[39m=\u001b[39m torch\u001b[39m.\u001b[39mtensor([torch\u001b[39m.\u001b[39msum(emb1[mapping1[\u001b[39m1\u001b[39m]]\u001b[39m*\u001b[39m emb1[mapping1[\u001b[39m0\u001b[39m]], dim\u001b[39m=\u001b[39m\u001b[39m-\u001b[39m\u001b[39m1\u001b[39m)])\u001b[39m.\u001b[39mrequires_grad_()\n\u001b[0;32m    359\u001b[0m \u001b[39m# print('Out:', out)\u001b[39;00m\n\u001b[0;32m    360\u001b[0m \u001b[39m# print('Prediction:', prediction)\u001b[39;00m\n",
      "File \u001b[1;32mc:\\Users\\rosa-\\anaconda3\\envs\\xaifo\\lib\\site-packages\\torch\\nn\\modules\\module.py:1110\u001b[0m, in \u001b[0;36mModule._call_impl\u001b[1;34m(self, *input, **kwargs)\u001b[0m\n\u001b[0;32m   1106\u001b[0m \u001b[39m# If we don't have any hooks, we want to skip the rest of the logic in\u001b[39;00m\n\u001b[0;32m   1107\u001b[0m \u001b[39m# this function, and just call forward.\u001b[39;00m\n\u001b[0;32m   1108\u001b[0m \u001b[39mif\u001b[39;00m \u001b[39mnot\u001b[39;00m (\u001b[39mself\u001b[39m\u001b[39m.\u001b[39m_backward_hooks \u001b[39mor\u001b[39;00m \u001b[39mself\u001b[39m\u001b[39m.\u001b[39m_forward_hooks \u001b[39mor\u001b[39;00m \u001b[39mself\u001b[39m\u001b[39m.\u001b[39m_forward_pre_hooks \u001b[39mor\u001b[39;00m _global_backward_hooks\n\u001b[0;32m   1109\u001b[0m         \u001b[39mor\u001b[39;00m _global_forward_hooks \u001b[39mor\u001b[39;00m _global_forward_pre_hooks):\n\u001b[1;32m-> 1110\u001b[0m     \u001b[39mreturn\u001b[39;00m forward_call(\u001b[39m*\u001b[39m\u001b[39minput\u001b[39m, \u001b[39m*\u001b[39m\u001b[39m*\u001b[39mkwargs)\n\u001b[0;32m   1111\u001b[0m \u001b[39m# Do not call functions when jit is used\u001b[39;00m\n\u001b[0;32m   1112\u001b[0m full_backward_hooks, non_full_backward_hooks \u001b[39m=\u001b[39m [], []\n",
      "File \u001b[1;32mc:\\Users\\rosa-\\Google Drive\\Msc_Bioinformatics\\thesis\\XAIFO-ThesisProject\\gnn\\linkpred_model.py:49\u001b[0m, in \u001b[0;36mLinkPredModel.forward\u001b[1;34m(self, x, edge_index, edge_label_index, training)\u001b[0m\n\u001b[0;32m     46\u001b[0m     x \u001b[39m=\u001b[39m F\u001b[39m.\u001b[39mleaky_relu(x)\n\u001b[0;32m     47\u001b[0m     x \u001b[39m=\u001b[39m F\u001b[39m.\u001b[39mdropout(x, p\u001b[39m=\u001b[39m\u001b[39mself\u001b[39m\u001b[39m.\u001b[39mdropout, training\u001b[39m=\u001b[39mtraining)\n\u001b[1;32m---> 49\u001b[0m x \u001b[39m=\u001b[39m \u001b[39mself\u001b[39;49m\u001b[39m.\u001b[39;49mconvs[\u001b[39m-\u001b[39;49m\u001b[39m1\u001b[39;49m](x, edge_index)  \n\u001b[0;32m     50\u001b[0m x \u001b[39m=\u001b[39m \u001b[39mself\u001b[39m\u001b[39m.\u001b[39mbns[\u001b[39m-\u001b[39m\u001b[39m1\u001b[39m](x)\n\u001b[0;32m     52\u001b[0m nodes_first, nodes_second \u001b[39m=\u001b[39m edge_label_index\n",
      "File \u001b[1;32mc:\\Users\\rosa-\\anaconda3\\envs\\xaifo\\lib\\site-packages\\torch\\nn\\modules\\module.py:1110\u001b[0m, in \u001b[0;36mModule._call_impl\u001b[1;34m(self, *input, **kwargs)\u001b[0m\n\u001b[0;32m   1106\u001b[0m \u001b[39m# If we don't have any hooks, we want to skip the rest of the logic in\u001b[39;00m\n\u001b[0;32m   1107\u001b[0m \u001b[39m# this function, and just call forward.\u001b[39;00m\n\u001b[0;32m   1108\u001b[0m \u001b[39mif\u001b[39;00m \u001b[39mnot\u001b[39;00m (\u001b[39mself\u001b[39m\u001b[39m.\u001b[39m_backward_hooks \u001b[39mor\u001b[39;00m \u001b[39mself\u001b[39m\u001b[39m.\u001b[39m_forward_hooks \u001b[39mor\u001b[39;00m \u001b[39mself\u001b[39m\u001b[39m.\u001b[39m_forward_pre_hooks \u001b[39mor\u001b[39;00m _global_backward_hooks\n\u001b[0;32m   1109\u001b[0m         \u001b[39mor\u001b[39;00m _global_forward_hooks \u001b[39mor\u001b[39;00m _global_forward_pre_hooks):\n\u001b[1;32m-> 1110\u001b[0m     \u001b[39mreturn\u001b[39;00m forward_call(\u001b[39m*\u001b[39m\u001b[39minput\u001b[39m, \u001b[39m*\u001b[39m\u001b[39m*\u001b[39mkwargs)\n\u001b[0;32m   1111\u001b[0m \u001b[39m# Do not call functions when jit is used\u001b[39;00m\n\u001b[0;32m   1112\u001b[0m full_backward_hooks, non_full_backward_hooks \u001b[39m=\u001b[39m [], []\n",
      "File \u001b[1;32mc:\\Users\\rosa-\\anaconda3\\envs\\xaifo\\lib\\site-packages\\torch_geometric\\nn\\conv\\sage_conv.py:80\u001b[0m, in \u001b[0;36mSAGEConv.forward\u001b[1;34m(self, x, edge_index, size)\u001b[0m\n\u001b[0;32m     77\u001b[0m     x: OptPairTensor \u001b[39m=\u001b[39m (x, x)\n\u001b[0;32m     79\u001b[0m \u001b[39m# propagate_type: (x: OptPairTensor)\u001b[39;00m\n\u001b[1;32m---> 80\u001b[0m out \u001b[39m=\u001b[39m \u001b[39mself\u001b[39;49m\u001b[39m.\u001b[39;49mpropagate(edge_index, x\u001b[39m=\u001b[39;49mx, size\u001b[39m=\u001b[39;49msize)\n\u001b[0;32m     81\u001b[0m out \u001b[39m=\u001b[39m \u001b[39mself\u001b[39m\u001b[39m.\u001b[39mlin_l(out)\n\u001b[0;32m     83\u001b[0m x_r \u001b[39m=\u001b[39m x[\u001b[39m1\u001b[39m]\n",
      "File \u001b[1;32mc:\\Users\\rosa-\\anaconda3\\envs\\xaifo\\lib\\site-packages\\torch_geometric\\nn\\conv\\message_passing.py:339\u001b[0m, in \u001b[0;36mMessagePassing.propagate\u001b[1;34m(self, edge_index, size, **kwargs)\u001b[0m\n\u001b[0;32m    336\u001b[0m     \u001b[39massert\u001b[39;00m out\u001b[39m.\u001b[39msize(\u001b[39mself\u001b[39m\u001b[39m.\u001b[39mnode_dim) \u001b[39m==\u001b[39m edge_mask\u001b[39m.\u001b[39msize(\u001b[39m0\u001b[39m)\n\u001b[0;32m    337\u001b[0m     out \u001b[39m=\u001b[39m out \u001b[39m*\u001b[39m edge_mask\u001b[39m.\u001b[39mview([\u001b[39m-\u001b[39m\u001b[39m1\u001b[39m] \u001b[39m+\u001b[39m [\u001b[39m1\u001b[39m] \u001b[39m*\u001b[39m (out\u001b[39m.\u001b[39mdim() \u001b[39m-\u001b[39m \u001b[39m1\u001b[39m))\n\u001b[1;32m--> 339\u001b[0m aggr_kwargs \u001b[39m=\u001b[39m \u001b[39mself\u001b[39;49m\u001b[39m.\u001b[39;49minspector\u001b[39m.\u001b[39;49mdistribute(\u001b[39m'\u001b[39;49m\u001b[39maggregate\u001b[39;49m\u001b[39m'\u001b[39;49m, coll_dict)\n\u001b[0;32m    340\u001b[0m \u001b[39mfor\u001b[39;00m hook \u001b[39min\u001b[39;00m \u001b[39mself\u001b[39m\u001b[39m.\u001b[39m_aggregate_forward_pre_hooks\u001b[39m.\u001b[39mvalues():\n\u001b[0;32m    341\u001b[0m     res \u001b[39m=\u001b[39m hook(\u001b[39mself\u001b[39m, (aggr_kwargs, ))\n",
      "File \u001b[1;32mc:\\Users\\rosa-\\anaconda3\\envs\\xaifo\\lib\\site-packages\\torch_geometric\\nn\\conv\\utils\\inspector.py:52\u001b[0m, in \u001b[0;36mInspector.distribute\u001b[1;34m(self, func_name, kwargs)\u001b[0m\n\u001b[0;32m     49\u001b[0m             out[key] \u001b[39m=\u001b[39m arg_types[key]\n\u001b[0;32m     50\u001b[0m     \u001b[39mreturn\u001b[39;00m out\n\u001b[1;32m---> 52\u001b[0m \u001b[39mdef\u001b[39;00m \u001b[39mdistribute\u001b[39m(\u001b[39mself\u001b[39m, func_name, kwargs: Dict[\u001b[39mstr\u001b[39m, Any]):\n\u001b[0;32m     53\u001b[0m     out \u001b[39m=\u001b[39m {}\n\u001b[0;32m     54\u001b[0m     \u001b[39mfor\u001b[39;00m key, param \u001b[39min\u001b[39;00m \u001b[39mself\u001b[39m\u001b[39m.\u001b[39mparams[func_name]\u001b[39m.\u001b[39mitems():\n",
      "\u001b[1;31mKeyboardInterrupt\u001b[0m: "
     ]
    },
    {
     "name": "stderr",
     "output_type": "stream",
     "text": [
      "Explain edge between nodes 5727 and 9663:   8%|▊         | 56/700 [00:19<00:15, 40.41it/s]"
     ]
    }
   ],
   "source": [
    "def get_node_idx(id, nodes): \n",
    "    return nodes[nodes['id'] == id].index.values.astype(int)[0]\n",
    "\n",
    "found_explanation = []\n",
    "\n",
    "for ind, edge in symptom_drugs_df.iterrows(): \n",
    "    symptom_id = edge['Symptom']\n",
    "    \n",
    "    for drug_id in edge['Candidates']:\n",
    "        node_idx1 = get_node_idx(symptom_id, nodes)\n",
    "        print('node1:')\n",
    "        print(nodes.loc[[node_idx1]])\n",
    "\n",
    "        node_idx2 = get_node_idx(str(drug_id), nodes)\n",
    "        print('node2:')\n",
    "        print(nodes.loc[[node_idx2]])\n",
    "        \n",
    "        explained1 = explain_edge(node_idx1, node_idx2)\n",
    "        explained2 = explain_edge(node_idx2, node_idx1)\n",
    "\n",
    "        if explained1 or explained2:\n",
    "            found_explanation.append({'symptom': symptom_id, 'drug': drug_id})\n",
    "            \n",
    "print(found_explanation)"
   ]
  }
 ],
 "metadata": {
  "kernelspec": {
   "display_name": "xaifo",
   "language": "python",
   "name": "python3"
  },
  "language_info": {
   "codemirror_mode": {
    "name": "ipython",
    "version": 3
   },
   "file_extension": ".py",
   "mimetype": "text/x-python",
   "name": "python",
   "nbconvert_exporter": "python",
   "pygments_lexer": "ipython3",
   "version": "3.10.11"
  },
  "orig_nbformat": 4
 },
 "nbformat": 4,
 "nbformat_minor": 2
}
