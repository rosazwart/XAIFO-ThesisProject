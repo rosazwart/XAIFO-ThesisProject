{
 "cells": [
  {
   "cell_type": "markdown",
   "metadata": {},
   "source": [
    "# Import Libraries"
   ]
  },
  {
   "cell_type": "code",
   "execution_count": 102,
   "metadata": {},
   "outputs": [],
   "source": [
    "import os\n",
    "import pickle\n",
    "import pandas as pd\n",
    "import networkx as nx\n",
    "from collections import Counter\n",
    "import random"
   ]
  },
  {
   "cell_type": "markdown",
   "metadata": {},
   "source": [
    "# Get Explanation Paths"
   ]
  },
  {
   "cell_type": "code",
   "execution_count": 107,
   "metadata": {},
   "outputs": [
    {
     "name": "stdout",
     "output_type": "stream",
     "text": [
      "c:\\Users\\rosa-\\Google Drive\\Msc_Bioinformatics\\thesis\\XAIFO-ThesisProject\\output\\g1_e2v\\expl_5\n",
      "For dataset 1, include the following explanations in the questionnaires:\n",
      "explanation_1_run_007\n",
      "explanation_1_run_009\n",
      "explanation_2_run_010\n",
      "c:\\Users\\rosa-\\Google Drive\\Msc_Bioinformatics\\thesis\\XAIFO-ThesisProject\\output\\g2_e2v\\expl_all\n",
      "For dataset 2, include the following explanations in the questionnaires:\n",
      "explanation_2_run_009\n",
      "explanation_3_run_003\n",
      "explanation_4_run_007\n"
     ]
    }
   ],
   "source": [
    "dataset_nrs = [1, 2]\n",
    "embedding_method = 'e2v'\n",
    "\n",
    "expl_folders = {1: 'expl_5', 2: 'expl_all'}\n",
    "explanations_per_dataset = {}\n",
    "explanation_pairs_per_dataset = {}\n",
    "\n",
    "curr_working_dir = os.getcwd()\n",
    "curr_output_dir = os.path.join(curr_working_dir, 'output')\n",
    "\n",
    "for dataset_nr in dataset_nrs:\n",
    "    nodes = pd.read_csv(f'output/indexed_nodes_{dataset_nr}.csv')\n",
    "    \n",
    "    dataset_output_dir = os.path.join(curr_output_dir, f'g{dataset_nr}_{embedding_method}', expl_folders[dataset_nr])\n",
    "    print(dataset_output_dir)\n",
    "    \n",
    "    all_explanations = []\n",
    "    all_graphs = []\n",
    "    all_pairs = []\n",
    "    for item in os.listdir(dataset_output_dir):\n",
    "        if 'incomplete' not in item and '.gpickle' in item:\n",
    "            \n",
    "            with open(os.path.join(dataset_output_dir, item), 'rb') as f:\n",
    "                G = pickle.load(f)\n",
    "                all_graphs.append(G)\n",
    "                \n",
    "            file_name_explanation = item.split('_graph.gpickle')[0]\n",
    "            all_explanations.append(file_name_explanation)\n",
    "            pair_file_name = f'{file_name_explanation}_pair.pkl'\n",
    "            \n",
    "            with open(os.path.join(dataset_output_dir, pair_file_name), 'rb') as f:\n",
    "                loaded_info = pickle.load(f)\n",
    "                \n",
    "                symptom_index = nodes.loc[nodes['id'] == loaded_info['symptom_id']].index[0]\n",
    "                symptom_label = nodes.loc[nodes['id'] == loaded_info['symptom_id']]['label'].values[0]\n",
    "                \n",
    "                drug_index = nodes.loc[nodes['id'] == loaded_info['drug_id']].index[0]\n",
    "                drug_label = nodes.loc[nodes['id'] == loaded_info['drug_id']]['label'].values[0]\n",
    "                \n",
    "                all_pairs.append([f'{symptom_label} {symptom_index}', f'{drug_label} {drug_index}'])\n",
    "            \n",
    "    explanations_per_dataset[dataset_nr] = all_graphs\n",
    "    explanation_pairs_per_dataset[dataset_nr] = all_pairs\n",
    "    \n",
    "    print(f'For dataset {dataset_nr}, include the following explanations in the questionnaires:')\n",
    "    random.seed(11)\n",
    "    for expl_name in random.choices(all_explanations, k=3):\n",
    "        print(expl_name)"
   ]
  },
  {
   "cell_type": "markdown",
   "metadata": {},
   "source": [
    "# Number of Types of Edges, Nodes, Metapaths"
   ]
  },
  {
   "cell_type": "code",
   "execution_count": 95,
   "metadata": {},
   "outputs": [],
   "source": [
    "def get_occurrence_df(c, label_name):\n",
    "    c_perc = [{label_name: i, 'Percentage': c[i] / c.total() * 100.0, 'Appearances': c[i]} for i in c]\n",
    "    c_df = pd.DataFrame.from_dict(c_perc)\n",
    "    c_df['Percentage'] = c_df['Percentage'].transform(lambda x: '{:,.2f}%'.format(x))\n",
    "    c_df = c_df.sort_values(by = ['Appearances'], ascending = False)\n",
    "    return c_df\n",
    "\n",
    "def count_occurrences(G):    \n",
    "    node_types = []\n",
    "    for n, attr in G.nodes(data=True):\n",
    "        node_types.append(attr['type'])\n",
    "        \n",
    "    edge_types = []\n",
    "    triplets = []\n",
    "    for n1, n2, attr in G.edges(data=True):\n",
    "        edge_type = attr['label']\n",
    "        edge_types.append(edge_type)\n",
    "        \n",
    "        n1_type = G.nodes[n1]['type']\n",
    "        n2_type = G.nodes[n2]['type']\n",
    "        \n",
    "        triplet = tuple([n1_type, edge_type, n2_type])\n",
    "        triplets.append(triplet)\n",
    "    \n",
    "    node_types_df = get_occurrence_df(Counter(node_types), 'Node Type')\n",
    "    \n",
    "    edge_types_df = get_occurrence_df(Counter(edge_types), 'Edge Type')\n",
    "    \n",
    "    metapaths_df = get_occurrence_df(Counter(triplets), 'Metapath')\n",
    "    \n",
    "    return node_types_df, edge_types_df, metapaths_df\n",
    "\n",
    "def get_shortest_path_drug_symptom(n1, n2, G):\n",
    "    path_len = nx.shortest_path_length(G, n1, n2)\n",
    "    return path_len"
   ]
  },
  {
   "cell_type": "code",
   "execution_count": 96,
   "metadata": {},
   "outputs": [
    {
     "name": "stdout",
     "output_type": "stream",
     "text": [
      "For explanations generated from dataset 1\n",
      "Average number of node types: 3.0\n",
      "Average number of edge types: 4.5\n",
      "Average number of triplets: 5.25\n",
      "Average shortest path length between drug and symptom pair: 2.625\n",
      "For explanations generated from dataset 2\n",
      "Average number of node types: 3.825\n",
      "Average number of edge types: 4.65\n",
      "Average number of triplets: 6.225\n",
      "Average shortest path length between drug and symptom pair: 2.75\n"
     ]
    }
   ],
   "source": [
    "for dataset_nr in dataset_nrs:\n",
    "    print(f'For explanations generated from dataset {dataset_nr}')\n",
    "    \n",
    "    node_types_per_expl = []\n",
    "    edge_types_per_expl = []\n",
    "    triplet_types_per_expl = []\n",
    "    path_len_per_expl = []\n",
    "    for expl_g, pair in zip(explanations_per_dataset[dataset_nr], explanation_pairs_per_dataset[dataset_nr]):\n",
    "        \n",
    "        node_types_df, edge_types_df, metapaths_df = count_occurrences(expl_g)\n",
    "        \n",
    "        nr_node_types = node_types_df['Node Type'].nunique()\n",
    "        node_types_per_expl.append(nr_node_types)\n",
    "        \n",
    "        nr_edge_types = edge_types_df['Edge Type'].nunique()\n",
    "        edge_types_per_expl.append(nr_edge_types)\n",
    "        \n",
    "        nr_triplet_types = metapaths_df['Metapath'].nunique()\n",
    "        triplet_types_per_expl.append(nr_triplet_types)\n",
    "        \n",
    "        node_1, node_2 = pair\n",
    "        path_len_per_expl.append(get_shortest_path_drug_symptom(node_1, node_2, expl_g))\n",
    "    \n",
    "    print(f'Average number of node types: {(sum(node_types_per_expl)/len(node_types_per_expl))}')\n",
    "    print(f'Average number of edge types: {(sum(edge_types_per_expl)/len(edge_types_per_expl))}')\n",
    "    print(f'Average number of triplets: {(sum(triplet_types_per_expl)/len(triplet_types_per_expl))}')\n",
    "    print(f'Average shortest path length between drug and symptom pair: {(sum(path_len_per_expl)/len(path_len_per_expl))}')"
   ]
  }
 ],
 "metadata": {
  "kernelspec": {
   "display_name": "xaifognn",
   "language": "python",
   "name": "python3"
  },
  "language_info": {
   "codemirror_mode": {
    "name": "ipython",
    "version": 3
   },
   "file_extension": ".py",
   "mimetype": "text/x-python",
   "name": "python",
   "nbconvert_exporter": "python",
   "pygments_lexer": "ipython3",
   "version": "3.10.10"
  }
 },
 "nbformat": 4,
 "nbformat_minor": 2
}
