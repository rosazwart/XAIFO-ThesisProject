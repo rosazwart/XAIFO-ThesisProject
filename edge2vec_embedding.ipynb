{
 "cells": [
  {
   "cell_type": "markdown",
   "metadata": {},
   "source": [
    "# Import Libraries"
   ]
  },
  {
   "cell_type": "code",
   "execution_count": 1,
   "metadata": {
    "execution": {
     "iopub.execute_input": "2023-11-14T00:36:17.035903Z",
     "iopub.status.busy": "2023-11-14T00:36:17.034907Z",
     "iopub.status.idle": "2023-11-14T00:36:18.308964Z",
     "shell.execute_reply": "2023-11-14T00:36:18.307950Z"
    }
   },
   "outputs": [],
   "source": [
    "import os\n",
    "import pandas as pd\n",
    "import networkx as nx\n",
    "import numpy as np\n",
    "import random\n",
    "import pickle\n",
    "\n",
    "import edge2vec.transition3 as transitions\n",
    "import edge2vec.edge2vec3 as edge2vec"
   ]
  },
  {
   "cell_type": "markdown",
   "metadata": {},
   "source": [
    "# Set Seed"
   ]
  },
  {
   "cell_type": "code",
   "execution_count": 2,
   "metadata": {
    "execution": {
     "iopub.execute_input": "2023-11-14T00:36:18.311964Z",
     "iopub.status.busy": "2023-11-14T00:36:18.311964Z",
     "iopub.status.idle": "2023-11-14T00:36:18.324482Z",
     "shell.execute_reply": "2023-11-14T00:36:18.323477Z"
    }
   },
   "outputs": [],
   "source": [
    "seed = None"
   ]
  },
  {
   "cell_type": "markdown",
   "metadata": {},
   "source": [
    "# Set Parameters"
   ]
  },
  {
   "cell_type": "markdown",
   "metadata": {},
   "source": [
    "Specify which dataset is used.\n",
    "*   1 (Original knowledge graph)\n",
    "*   2 (Restructured knowledge graph)"
   ]
  },
  {
   "cell_type": "code",
   "execution_count": 3,
   "metadata": {
    "execution": {
     "iopub.execute_input": "2023-11-14T00:36:18.329490Z",
     "iopub.status.busy": "2023-11-14T00:36:18.328489Z",
     "iopub.status.idle": "2023-11-14T00:36:18.340482Z",
     "shell.execute_reply": "2023-11-14T00:36:18.339482Z"
    }
   },
   "outputs": [],
   "source": [
    "dataset_nr = 2\n",
    "assert dataset_nr == 1 or 2\n",
    "\n",
    "NO_GENE_PRODUCTS = 'no gene products'\n",
    "SINGLE_RELATION_TYPE = 'only one relation type'\n",
    "RANDOM_FEATURES = 'random node embedding values'\n",
    "concept_changes = SINGLE_RELATION_TYPE\n",
    "\n",
    "embedding_method = 'e2v'\n",
    "    \n",
    "if concept_changes == NO_GENE_PRODUCTS:\n",
    "    suffix = '_nogeneprods'\n",
    "elif concept_changes == SINGLE_RELATION_TYPE:\n",
    "    suffix = '_singlerel'\n",
    "elif concept_changes == RANDOM_FEATURES:\n",
    "    suffix = '_randomfeat'\n",
    "else:\n",
    "    suffix = ''\n",
    "\n",
    "if seed:\n",
    "    fixed_emb = '_seeded'\n",
    "else:\n",
    "    fixed_emb = ''"
   ]
  },
  {
   "cell_type": "markdown",
   "metadata": {},
   "source": [
    "# Set Folder"
   ]
  },
  {
   "cell_type": "code",
   "execution_count": 4,
   "metadata": {
    "execution": {
     "iopub.execute_input": "2023-11-14T00:36:18.344478Z",
     "iopub.status.busy": "2023-11-14T00:36:18.344478Z",
     "iopub.status.idle": "2023-11-14T00:36:18.355991Z",
     "shell.execute_reply": "2023-11-14T00:36:18.354989Z"
    }
   },
   "outputs": [
    {
     "name": "stdout",
     "output_type": "stream",
     "text": [
      "Output folder for dataset 2 already exists and will be used: C:\\Users\\rosa-\\Google Drive\\Msc_Bioinformatics\\thesis\\XAIFO-ThesisProject\\output\\g2_e2v_singlerel\n"
     ]
    }
   ],
   "source": [
    "curr_working_dir = os.getcwd()\n",
    "curr_output_dir = os.path.join(curr_working_dir, 'output')\n",
    "dataset_output_dir = os.path.join(curr_output_dir, f'g{dataset_nr}_{embedding_method}{fixed_emb}{suffix}')\n",
    "\n",
    "if not os.path.exists(dataset_output_dir):\n",
    "    os.mkdir(dataset_output_dir)\n",
    "    print(f'Output folder for dataset {dataset_nr} is created: {dataset_output_dir}')\n",
    "else:\n",
    "    print(f'Output folder for dataset {dataset_nr} already exists and will be used: {dataset_output_dir}')"
   ]
  },
  {
   "cell_type": "code",
   "execution_count": 5,
   "metadata": {
    "execution": {
     "iopub.execute_input": "2023-11-14T00:36:18.401553Z",
     "iopub.status.busy": "2023-11-14T00:36:18.401553Z",
     "iopub.status.idle": "2023-11-14T00:36:18.419543Z",
     "shell.execute_reply": "2023-11-14T00:36:18.418542Z"
    }
   },
   "outputs": [
    {
     "name": "stdout",
     "output_type": "stream",
     "text": [
      "Output folder for current run on dataset 2 is created: C:\\Users\\rosa-\\Google Drive\\Msc_Bioinformatics\\thesis\\XAIFO-ThesisProject\\output\\g2_e2v_singlerel\\run_010\n"
     ]
    }
   ],
   "source": [
    "def create_run_folder(foldername):\n",
    "    run_path = os.path.join(dataset_output_dir, foldername)\n",
    "    os.mkdir(run_path)\n",
    "\n",
    "    print(f'Output folder for current run on dataset {dataset_nr} is created: {run_path}')\n",
    "    return run_path\n",
    "\n",
    "run_folders_list = []\n",
    "\n",
    "for item in os.listdir(dataset_output_dir):\n",
    "    curr_path = os.path.join(dataset_output_dir, item)\n",
    "    if os.path.isdir(curr_path) and 'run' in item:\n",
    "        run_folders_list.append(item)\n",
    "\n",
    "if len(run_folders_list) > 0:\n",
    "    run_folders_list.sort(reverse=True)\n",
    "    latest_run = run_folders_list[0]\n",
    "    run_nr_str = latest_run.split('_')[1]\n",
    "\n",
    "    next_run_nr = int(run_nr_str) + 1\n",
    "    next_run_folder = 'run_{:03d}'.format(next_run_nr)\n",
    "    output_path = create_run_folder(next_run_folder)\n",
    "else:\n",
    "    first_run_folder = 'run_{:03d}'.format(1)\n",
    "    output_path = create_run_folder(first_run_folder)"
   ]
  },
  {
   "cell_type": "markdown",
   "metadata": {},
   "source": [
    "# Load Nodes and Edges"
   ]
  },
  {
   "cell_type": "code",
   "execution_count": 6,
   "metadata": {
    "execution": {
     "iopub.execute_input": "2023-11-14T00:36:18.424561Z",
     "iopub.status.busy": "2023-11-14T00:36:18.423560Z",
     "iopub.status.idle": "2023-11-14T00:36:18.466838Z",
     "shell.execute_reply": "2023-11-14T00:36:18.465837Z"
    }
   },
   "outputs": [
    {
     "data": {
      "text/html": [
       "<div>\n",
       "<style scoped>\n",
       "    .dataframe tbody tr th:only-of-type {\n",
       "        vertical-align: middle;\n",
       "    }\n",
       "\n",
       "    .dataframe tbody tr th {\n",
       "        vertical-align: top;\n",
       "    }\n",
       "\n",
       "    .dataframe thead th {\n",
       "        text-align: right;\n",
       "    }\n",
       "</style>\n",
       "<table border=\"1\" class=\"dataframe\">\n",
       "  <thead>\n",
       "    <tr style=\"text-align: right;\">\n",
       "      <th></th>\n",
       "      <th>index_id</th>\n",
       "      <th>id</th>\n",
       "      <th>semantic</th>\n",
       "      <th>label</th>\n",
       "      <th>semantic_id</th>\n",
       "    </tr>\n",
       "  </thead>\n",
       "  <tbody>\n",
       "    <tr>\n",
       "      <th>0</th>\n",
       "      <td>0</td>\n",
       "      <td>MP:0004187</td>\n",
       "      <td>phenotype</td>\n",
       "      <td>cardia bifida</td>\n",
       "      <td>9</td>\n",
       "    </tr>\n",
       "    <tr>\n",
       "      <th>1</th>\n",
       "      <td>1</td>\n",
       "      <td>ZP:0100138</td>\n",
       "      <td>phenotype</td>\n",
       "      <td>muscle tendon junction myotome increased amoun...</td>\n",
       "      <td>9</td>\n",
       "    </tr>\n",
       "    <tr>\n",
       "      <th>2</th>\n",
       "      <td>2</td>\n",
       "      <td>MGI:1346525</td>\n",
       "      <td>gene</td>\n",
       "      <td>Sgcd</td>\n",
       "      <td>5</td>\n",
       "    </tr>\n",
       "    <tr>\n",
       "      <th>3</th>\n",
       "      <td>3</td>\n",
       "      <td>OMIM:300377.0044</td>\n",
       "      <td>variant</td>\n",
       "      <td>DMD, LYS770TER</td>\n",
       "      <td>11</td>\n",
       "    </tr>\n",
       "    <tr>\n",
       "      <th>4</th>\n",
       "      <td>4</td>\n",
       "      <td>ZP:0002210</td>\n",
       "      <td>phenotype</td>\n",
       "      <td>posterior lateral line neuromast primordium mi...</td>\n",
       "      <td>9</td>\n",
       "    </tr>\n",
       "    <tr>\n",
       "      <th>...</th>\n",
       "      <td>...</td>\n",
       "      <td>...</td>\n",
       "      <td>...</td>\n",
       "      <td>...</td>\n",
       "      <td>...</td>\n",
       "    </tr>\n",
       "    <tr>\n",
       "      <th>10270</th>\n",
       "      <td>10270</td>\n",
       "      <td>ZP:0014934</td>\n",
       "      <td>phenotype</td>\n",
       "      <td>atrioventricular valve development process qua...</td>\n",
       "      <td>9</td>\n",
       "    </tr>\n",
       "    <tr>\n",
       "      <th>10271</th>\n",
       "      <td>10271</td>\n",
       "      <td>ENSEMBL:ENSCAFG00000011207</td>\n",
       "      <td>gene</td>\n",
       "      <td>ENSEMBL:ENSCAFG00000011207</td>\n",
       "      <td>5</td>\n",
       "    </tr>\n",
       "    <tr>\n",
       "      <th>10272</th>\n",
       "      <td>10272</td>\n",
       "      <td>ENSEMBL:ENSXETG00000039922</td>\n",
       "      <td>gene</td>\n",
       "      <td>ENSEMBL:ENSXETG00000039922</td>\n",
       "      <td>5</td>\n",
       "    </tr>\n",
       "    <tr>\n",
       "      <th>10273</th>\n",
       "      <td>10273</td>\n",
       "      <td>ENSEMBL:ENSACAG00000010058</td>\n",
       "      <td>gene</td>\n",
       "      <td>ENSEMBL:ENSACAG00000010058</td>\n",
       "      <td>5</td>\n",
       "    </tr>\n",
       "    <tr>\n",
       "      <th>10274</th>\n",
       "      <td>10274</td>\n",
       "      <td>WBPhenotype:0000019</td>\n",
       "      <td>phenotype</td>\n",
       "      <td>pharyngeal pumping reduced</td>\n",
       "      <td>9</td>\n",
       "    </tr>\n",
       "  </tbody>\n",
       "</table>\n",
       "<p>10275 rows × 5 columns</p>\n",
       "</div>"
      ],
      "text/plain": [
       "       index_id                          id   semantic  \\\n",
       "0             0                  MP:0004187  phenotype   \n",
       "1             1                  ZP:0100138  phenotype   \n",
       "2             2                 MGI:1346525       gene   \n",
       "3             3            OMIM:300377.0044    variant   \n",
       "4             4                  ZP:0002210  phenotype   \n",
       "...         ...                         ...        ...   \n",
       "10270     10270                  ZP:0014934  phenotype   \n",
       "10271     10271  ENSEMBL:ENSCAFG00000011207       gene   \n",
       "10272     10272  ENSEMBL:ENSXETG00000039922       gene   \n",
       "10273     10273  ENSEMBL:ENSACAG00000010058       gene   \n",
       "10274     10274         WBPhenotype:0000019  phenotype   \n",
       "\n",
       "                                                   label  semantic_id  \n",
       "0                                          cardia bifida            9  \n",
       "1      muscle tendon junction myotome increased amoun...            9  \n",
       "2                                                   Sgcd            5  \n",
       "3                                         DMD, LYS770TER           11  \n",
       "4      posterior lateral line neuromast primordium mi...            9  \n",
       "...                                                  ...          ...  \n",
       "10270  atrioventricular valve development process qua...            9  \n",
       "10271                         ENSEMBL:ENSCAFG00000011207            5  \n",
       "10272                         ENSEMBL:ENSXETG00000039922            5  \n",
       "10273                         ENSEMBL:ENSACAG00000010058            5  \n",
       "10274                         pharyngeal pumping reduced            9  \n",
       "\n",
       "[10275 rows x 5 columns]"
      ]
     },
     "execution_count": 6,
     "metadata": {},
     "output_type": "execute_result"
    }
   ],
   "source": [
    "nodes = pd.read_csv(f'output/indexed_nodes_{dataset_nr}{suffix}.csv')\n",
    "nodes"
   ]
  },
  {
   "cell_type": "code",
   "execution_count": 7,
   "metadata": {
    "execution": {
     "iopub.execute_input": "2023-11-14T00:36:18.471851Z",
     "iopub.status.busy": "2023-11-14T00:36:18.470839Z",
     "iopub.status.idle": "2023-11-14T00:36:18.593433Z",
     "shell.execute_reply": "2023-11-14T00:36:18.592422Z"
    }
   },
   "outputs": [
    {
     "data": {
      "text/html": [
       "<div>\n",
       "<style scoped>\n",
       "    .dataframe tbody tr th:only-of-type {\n",
       "        vertical-align: middle;\n",
       "    }\n",
       "\n",
       "    .dataframe tbody tr th {\n",
       "        vertical-align: top;\n",
       "    }\n",
       "\n",
       "    .dataframe thead th {\n",
       "        text-align: right;\n",
       "    }\n",
       "</style>\n",
       "<table border=\"1\" class=\"dataframe\">\n",
       "  <thead>\n",
       "    <tr style=\"text-align: right;\">\n",
       "      <th></th>\n",
       "      <th>head</th>\n",
       "      <th>label_head</th>\n",
       "      <th>class_head</th>\n",
       "      <th>index_head</th>\n",
       "      <th>relation</th>\n",
       "      <th>tail</th>\n",
       "      <th>label_tail</th>\n",
       "      <th>class_tail</th>\n",
       "      <th>index_tail</th>\n",
       "      <th>type</th>\n",
       "    </tr>\n",
       "  </thead>\n",
       "  <tbody>\n",
       "    <tr>\n",
       "      <th>0</th>\n",
       "      <td>WormBase:WBGene00006787</td>\n",
       "      <td>unc-52</td>\n",
       "      <td>5</td>\n",
       "      <td>304</td>\n",
       "      <td>edge</td>\n",
       "      <td>WormBase:WBGene00003929</td>\n",
       "      <td>pat-2</td>\n",
       "      <td>5</td>\n",
       "      <td>1542</td>\n",
       "      <td>0</td>\n",
       "    </tr>\n",
       "    <tr>\n",
       "      <th>1</th>\n",
       "      <td>WormBase:WBGene00006787</td>\n",
       "      <td>unc-52</td>\n",
       "      <td>5</td>\n",
       "      <td>304</td>\n",
       "      <td>edge</td>\n",
       "      <td>WormBase:WBGene00006789</td>\n",
       "      <td>unc-54</td>\n",
       "      <td>5</td>\n",
       "      <td>6544</td>\n",
       "      <td>0</td>\n",
       "    </tr>\n",
       "    <tr>\n",
       "      <th>2</th>\n",
       "      <td>WormBase:WBGene00006787</td>\n",
       "      <td>unc-52</td>\n",
       "      <td>5</td>\n",
       "      <td>304</td>\n",
       "      <td>edge</td>\n",
       "      <td>ENSEMBL:ENSSSCG00000015555</td>\n",
       "      <td>LAMC1</td>\n",
       "      <td>5</td>\n",
       "      <td>9268</td>\n",
       "      <td>0</td>\n",
       "    </tr>\n",
       "    <tr>\n",
       "      <th>3</th>\n",
       "      <td>WormBase:WBGene00006787</td>\n",
       "      <td>unc-52</td>\n",
       "      <td>5</td>\n",
       "      <td>304</td>\n",
       "      <td>edge</td>\n",
       "      <td>ZFIN:ZDB-GENE-021226-3</td>\n",
       "      <td>lamc1</td>\n",
       "      <td>5</td>\n",
       "      <td>5387</td>\n",
       "      <td>0</td>\n",
       "    </tr>\n",
       "    <tr>\n",
       "      <th>4</th>\n",
       "      <td>WormBase:WBGene00006787</td>\n",
       "      <td>unc-52</td>\n",
       "      <td>5</td>\n",
       "      <td>304</td>\n",
       "      <td>edge</td>\n",
       "      <td>ENSEMBL:ENSOANG00000001050</td>\n",
       "      <td>ENSEMBL:ENSOANG00000001050</td>\n",
       "      <td>5</td>\n",
       "      <td>2204</td>\n",
       "      <td>0</td>\n",
       "    </tr>\n",
       "    <tr>\n",
       "      <th>...</th>\n",
       "      <td>...</td>\n",
       "      <td>...</td>\n",
       "      <td>...</td>\n",
       "      <td>...</td>\n",
       "      <td>...</td>\n",
       "      <td>...</td>\n",
       "      <td>...</td>\n",
       "      <td>...</td>\n",
       "      <td>...</td>\n",
       "      <td>...</td>\n",
       "    </tr>\n",
       "    <tr>\n",
       "      <th>85987</th>\n",
       "      <td>458</td>\n",
       "      <td>scopolamine butylbromide</td>\n",
       "      <td>4</td>\n",
       "      <td>5945</td>\n",
       "      <td>edge</td>\n",
       "      <td>P11229</td>\n",
       "      <td>Muscarinic acetylcholine receptor M1</td>\n",
       "      <td>6</td>\n",
       "      <td>5919</td>\n",
       "      <td>0</td>\n",
       "    </tr>\n",
       "    <tr>\n",
       "      <th>85988</th>\n",
       "      <td>OMIM:300377.0080</td>\n",
       "      <td>DMD, IVS62, A-G, -285</td>\n",
       "      <td>11</td>\n",
       "      <td>1578</td>\n",
       "      <td>edge</td>\n",
       "      <td>HGNC:2928</td>\n",
       "      <td>DMD</td>\n",
       "      <td>5</td>\n",
       "      <td>3310</td>\n",
       "      <td>0</td>\n",
       "    </tr>\n",
       "    <tr>\n",
       "      <th>85989</th>\n",
       "      <td>5297</td>\n",
       "      <td>dacomitinib</td>\n",
       "      <td>4</td>\n",
       "      <td>8798</td>\n",
       "      <td>edge</td>\n",
       "      <td>P12931</td>\n",
       "      <td>Proto-oncogene tyrosine-protein kinase Src</td>\n",
       "      <td>6</td>\n",
       "      <td>2379</td>\n",
       "      <td>0</td>\n",
       "    </tr>\n",
       "    <tr>\n",
       "      <th>85990</th>\n",
       "      <td>ClinVarVariant:981988</td>\n",
       "      <td>NC_000023.11:g.(31875374_31929595)_(31968515_3...</td>\n",
       "      <td>11</td>\n",
       "      <td>8189</td>\n",
       "      <td>edge</td>\n",
       "      <td>HGNC:2928</td>\n",
       "      <td>DMD</td>\n",
       "      <td>5</td>\n",
       "      <td>3310</td>\n",
       "      <td>0</td>\n",
       "    </tr>\n",
       "    <tr>\n",
       "      <th>85991</th>\n",
       "      <td>ClinVarVariant:584105</td>\n",
       "      <td>NC_000023.11:g.(?_32595737)_(32699313_?)del</td>\n",
       "      <td>11</td>\n",
       "      <td>9866</td>\n",
       "      <td>edge</td>\n",
       "      <td>MONDO:0010679</td>\n",
       "      <td>Duchenne muscular dystrophy</td>\n",
       "      <td>3</td>\n",
       "      <td>1913</td>\n",
       "      <td>0</td>\n",
       "    </tr>\n",
       "  </tbody>\n",
       "</table>\n",
       "<p>85992 rows × 10 columns</p>\n",
       "</div>"
      ],
      "text/plain": [
       "                          head  \\\n",
       "0      WormBase:WBGene00006787   \n",
       "1      WormBase:WBGene00006787   \n",
       "2      WormBase:WBGene00006787   \n",
       "3      WormBase:WBGene00006787   \n",
       "4      WormBase:WBGene00006787   \n",
       "...                        ...   \n",
       "85987                      458   \n",
       "85988         OMIM:300377.0080   \n",
       "85989                     5297   \n",
       "85990    ClinVarVariant:981988   \n",
       "85991    ClinVarVariant:584105   \n",
       "\n",
       "                                              label_head  class_head  \\\n",
       "0                                                 unc-52           5   \n",
       "1                                                 unc-52           5   \n",
       "2                                                 unc-52           5   \n",
       "3                                                 unc-52           5   \n",
       "4                                                 unc-52           5   \n",
       "...                                                  ...         ...   \n",
       "85987                           scopolamine butylbromide           4   \n",
       "85988                              DMD, IVS62, A-G, -285          11   \n",
       "85989                                        dacomitinib           4   \n",
       "85990  NC_000023.11:g.(31875374_31929595)_(31968515_3...          11   \n",
       "85991        NC_000023.11:g.(?_32595737)_(32699313_?)del          11   \n",
       "\n",
       "       index_head relation                        tail  \\\n",
       "0             304     edge     WormBase:WBGene00003929   \n",
       "1             304     edge     WormBase:WBGene00006789   \n",
       "2             304     edge  ENSEMBL:ENSSSCG00000015555   \n",
       "3             304     edge      ZFIN:ZDB-GENE-021226-3   \n",
       "4             304     edge  ENSEMBL:ENSOANG00000001050   \n",
       "...           ...      ...                         ...   \n",
       "85987        5945     edge                      P11229   \n",
       "85988        1578     edge                   HGNC:2928   \n",
       "85989        8798     edge                      P12931   \n",
       "85990        8189     edge                   HGNC:2928   \n",
       "85991        9866     edge               MONDO:0010679   \n",
       "\n",
       "                                       label_tail  class_tail  index_tail  \\\n",
       "0                                           pat-2           5        1542   \n",
       "1                                          unc-54           5        6544   \n",
       "2                                           LAMC1           5        9268   \n",
       "3                                           lamc1           5        5387   \n",
       "4                      ENSEMBL:ENSOANG00000001050           5        2204   \n",
       "...                                           ...         ...         ...   \n",
       "85987        Muscarinic acetylcholine receptor M1           6        5919   \n",
       "85988                                         DMD           5        3310   \n",
       "85989  Proto-oncogene tyrosine-protein kinase Src           6        2379   \n",
       "85990                                         DMD           5        3310   \n",
       "85991                 Duchenne muscular dystrophy           3        1913   \n",
       "\n",
       "       type  \n",
       "0         0  \n",
       "1         0  \n",
       "2         0  \n",
       "3         0  \n",
       "4         0  \n",
       "...     ...  \n",
       "85987     0  \n",
       "85988     0  \n",
       "85989     0  \n",
       "85990     0  \n",
       "85991     0  \n",
       "\n",
       "[85992 rows x 10 columns]"
      ]
     },
     "execution_count": 7,
     "metadata": {},
     "output_type": "execute_result"
    }
   ],
   "source": [
    "edges = pd.read_csv(f'output/indexed_edges_{dataset_nr}{suffix}.csv')\n",
    "edges"
   ]
  },
  {
   "cell_type": "code",
   "execution_count": 8,
   "metadata": {
    "execution": {
     "iopub.execute_input": "2023-11-14T00:36:18.597448Z",
     "iopub.status.busy": "2023-11-14T00:36:18.596423Z",
     "iopub.status.idle": "2023-11-14T00:36:18.608971Z",
     "shell.execute_reply": "2023-11-14T00:36:18.607992Z"
    }
   },
   "outputs": [
    {
     "data": {
      "text/html": [
       "<div>\n",
       "<style scoped>\n",
       "    .dataframe tbody tr th:only-of-type {\n",
       "        vertical-align: middle;\n",
       "    }\n",
       "\n",
       "    .dataframe tbody tr th {\n",
       "        vertical-align: top;\n",
       "    }\n",
       "\n",
       "    .dataframe thead th {\n",
       "        text-align: right;\n",
       "    }\n",
       "</style>\n",
       "<table border=\"1\" class=\"dataframe\">\n",
       "  <thead>\n",
       "    <tr style=\"text-align: right;\">\n",
       "      <th></th>\n",
       "      <th>index_id</th>\n",
       "      <th>id</th>\n",
       "      <th>semantic</th>\n",
       "      <th>label</th>\n",
       "      <th>semantic_id</th>\n",
       "    </tr>\n",
       "  </thead>\n",
       "  <tbody>\n",
       "    <tr>\n",
       "      <th>1253</th>\n",
       "      <td>1253</td>\n",
       "      <td>1920</td>\n",
       "      <td>drug</td>\n",
       "      <td>nicotine</td>\n",
       "      <td>4</td>\n",
       "    </tr>\n",
       "  </tbody>\n",
       "</table>\n",
       "</div>"
      ],
      "text/plain": [
       "      index_id    id semantic     label  semantic_id\n",
       "1253      1253  1920     drug  nicotine            4"
      ]
     },
     "execution_count": 8,
     "metadata": {},
     "output_type": "execute_result"
    }
   ],
   "source": [
    "nodes.loc[nodes['index_id'] == 1253]"
   ]
  },
  {
   "cell_type": "code",
   "execution_count": 9,
   "metadata": {
    "execution": {
     "iopub.execute_input": "2023-11-14T00:36:18.613973Z",
     "iopub.status.busy": "2023-11-14T00:36:18.612976Z",
     "iopub.status.idle": "2023-11-14T00:36:18.638972Z",
     "shell.execute_reply": "2023-11-14T00:36:18.637970Z"
    }
   },
   "outputs": [
    {
     "data": {
      "text/html": [
       "<div>\n",
       "<style scoped>\n",
       "    .dataframe tbody tr th:only-of-type {\n",
       "        vertical-align: middle;\n",
       "    }\n",
       "\n",
       "    .dataframe tbody tr th {\n",
       "        vertical-align: top;\n",
       "    }\n",
       "\n",
       "    .dataframe thead th {\n",
       "        text-align: right;\n",
       "    }\n",
       "</style>\n",
       "<table border=\"1\" class=\"dataframe\">\n",
       "  <thead>\n",
       "    <tr style=\"text-align: right;\">\n",
       "      <th></th>\n",
       "      <th>head</th>\n",
       "      <th>label_head</th>\n",
       "      <th>class_head</th>\n",
       "      <th>index_head</th>\n",
       "      <th>relation</th>\n",
       "      <th>tail</th>\n",
       "      <th>label_tail</th>\n",
       "      <th>class_tail</th>\n",
       "      <th>index_tail</th>\n",
       "      <th>type</th>\n",
       "    </tr>\n",
       "  </thead>\n",
       "  <tbody>\n",
       "    <tr>\n",
       "      <th>0</th>\n",
       "      <td>WormBase:WBGene00006787</td>\n",
       "      <td>unc-52</td>\n",
       "      <td>5</td>\n",
       "      <td>304</td>\n",
       "      <td>edge</td>\n",
       "      <td>WormBase:WBGene00003929</td>\n",
       "      <td>pat-2</td>\n",
       "      <td>5</td>\n",
       "      <td>1542</td>\n",
       "      <td>0</td>\n",
       "    </tr>\n",
       "    <tr>\n",
       "      <th>1</th>\n",
       "      <td>WormBase:WBGene00006787</td>\n",
       "      <td>unc-52</td>\n",
       "      <td>5</td>\n",
       "      <td>304</td>\n",
       "      <td>edge</td>\n",
       "      <td>WormBase:WBGene00006789</td>\n",
       "      <td>unc-54</td>\n",
       "      <td>5</td>\n",
       "      <td>6544</td>\n",
       "      <td>0</td>\n",
       "    </tr>\n",
       "    <tr>\n",
       "      <th>2</th>\n",
       "      <td>WormBase:WBGene00006787</td>\n",
       "      <td>unc-52</td>\n",
       "      <td>5</td>\n",
       "      <td>304</td>\n",
       "      <td>edge</td>\n",
       "      <td>ENSEMBL:ENSSSCG00000015555</td>\n",
       "      <td>LAMC1</td>\n",
       "      <td>5</td>\n",
       "      <td>9268</td>\n",
       "      <td>0</td>\n",
       "    </tr>\n",
       "    <tr>\n",
       "      <th>3</th>\n",
       "      <td>WormBase:WBGene00006787</td>\n",
       "      <td>unc-52</td>\n",
       "      <td>5</td>\n",
       "      <td>304</td>\n",
       "      <td>edge</td>\n",
       "      <td>ZFIN:ZDB-GENE-021226-3</td>\n",
       "      <td>lamc1</td>\n",
       "      <td>5</td>\n",
       "      <td>5387</td>\n",
       "      <td>0</td>\n",
       "    </tr>\n",
       "    <tr>\n",
       "      <th>4</th>\n",
       "      <td>WormBase:WBGene00006787</td>\n",
       "      <td>unc-52</td>\n",
       "      <td>5</td>\n",
       "      <td>304</td>\n",
       "      <td>edge</td>\n",
       "      <td>ENSEMBL:ENSOANG00000001050</td>\n",
       "      <td>ENSEMBL:ENSOANG00000001050</td>\n",
       "      <td>5</td>\n",
       "      <td>2204</td>\n",
       "      <td>0</td>\n",
       "    </tr>\n",
       "    <tr>\n",
       "      <th>5</th>\n",
       "      <td>WormBase:WBGene00006787</td>\n",
       "      <td>unc-52</td>\n",
       "      <td>5</td>\n",
       "      <td>304</td>\n",
       "      <td>edge</td>\n",
       "      <td>WBPhenotype:0001171</td>\n",
       "      <td>shortened life span</td>\n",
       "      <td>9</td>\n",
       "      <td>5475</td>\n",
       "      <td>0</td>\n",
       "    </tr>\n",
       "    <tr>\n",
       "      <th>6</th>\n",
       "      <td>WormBase:WBGene00006787</td>\n",
       "      <td>unc-52</td>\n",
       "      <td>5</td>\n",
       "      <td>304</td>\n",
       "      <td>edge</td>\n",
       "      <td>WBPhenotype:0001425</td>\n",
       "      <td>receptor mediated endocytosis defective</td>\n",
       "      <td>9</td>\n",
       "      <td>3057</td>\n",
       "      <td>0</td>\n",
       "    </tr>\n",
       "    <tr>\n",
       "      <th>7</th>\n",
       "      <td>WormBase:WBGene00006787</td>\n",
       "      <td>unc-52</td>\n",
       "      <td>5</td>\n",
       "      <td>304</td>\n",
       "      <td>edge</td>\n",
       "      <td>WBPhenotype:0000781</td>\n",
       "      <td>body wall muscle thin filament variant</td>\n",
       "      <td>9</td>\n",
       "      <td>7821</td>\n",
       "      <td>0</td>\n",
       "    </tr>\n",
       "    <tr>\n",
       "      <th>8</th>\n",
       "      <td>WormBase:WBGene00006787</td>\n",
       "      <td>unc-52</td>\n",
       "      <td>5</td>\n",
       "      <td>304</td>\n",
       "      <td>edge</td>\n",
       "      <td>ENSEMBL:ENSPTRG00000021480</td>\n",
       "      <td>ENSEMBL:ENSPTRG00000021480</td>\n",
       "      <td>5</td>\n",
       "      <td>6347</td>\n",
       "      <td>0</td>\n",
       "    </tr>\n",
       "    <tr>\n",
       "      <th>9</th>\n",
       "      <td>WormBase:WBGene00006787</td>\n",
       "      <td>unc-52</td>\n",
       "      <td>5</td>\n",
       "      <td>304</td>\n",
       "      <td>edge</td>\n",
       "      <td>ENSEMBL:ENSSSCG00000015556</td>\n",
       "      <td>LAMC2</td>\n",
       "      <td>5</td>\n",
       "      <td>769</td>\n",
       "      <td>0</td>\n",
       "    </tr>\n",
       "  </tbody>\n",
       "</table>\n",
       "</div>"
      ],
      "text/plain": [
       "                      head label_head  class_head  index_head relation  \\\n",
       "0  WormBase:WBGene00006787     unc-52           5         304     edge   \n",
       "1  WormBase:WBGene00006787     unc-52           5         304     edge   \n",
       "2  WormBase:WBGene00006787     unc-52           5         304     edge   \n",
       "3  WormBase:WBGene00006787     unc-52           5         304     edge   \n",
       "4  WormBase:WBGene00006787     unc-52           5         304     edge   \n",
       "5  WormBase:WBGene00006787     unc-52           5         304     edge   \n",
       "6  WormBase:WBGene00006787     unc-52           5         304     edge   \n",
       "7  WormBase:WBGene00006787     unc-52           5         304     edge   \n",
       "8  WormBase:WBGene00006787     unc-52           5         304     edge   \n",
       "9  WormBase:WBGene00006787     unc-52           5         304     edge   \n",
       "\n",
       "                         tail                               label_tail  \\\n",
       "0     WormBase:WBGene00003929                                    pat-2   \n",
       "1     WormBase:WBGene00006789                                   unc-54   \n",
       "2  ENSEMBL:ENSSSCG00000015555                                    LAMC1   \n",
       "3      ZFIN:ZDB-GENE-021226-3                                    lamc1   \n",
       "4  ENSEMBL:ENSOANG00000001050               ENSEMBL:ENSOANG00000001050   \n",
       "5         WBPhenotype:0001171                      shortened life span   \n",
       "6         WBPhenotype:0001425  receptor mediated endocytosis defective   \n",
       "7         WBPhenotype:0000781   body wall muscle thin filament variant   \n",
       "8  ENSEMBL:ENSPTRG00000021480               ENSEMBL:ENSPTRG00000021480   \n",
       "9  ENSEMBL:ENSSSCG00000015556                                    LAMC2   \n",
       "\n",
       "   class_tail  index_tail  type  \n",
       "0           5        1542     0  \n",
       "1           5        6544     0  \n",
       "2           5        9268     0  \n",
       "3           5        5387     0  \n",
       "4           5        2204     0  \n",
       "5           9        5475     0  \n",
       "6           9        3057     0  \n",
       "7           9        7821     0  \n",
       "8           5        6347     0  \n",
       "9           5         769     0  "
      ]
     },
     "execution_count": 9,
     "metadata": {},
     "output_type": "execute_result"
    }
   ],
   "source": [
    "edge2vec_df = edges.copy()\n",
    "edge2vec_df.head(10)"
   ]
  },
  {
   "cell_type": "markdown",
   "metadata": {},
   "source": [
    "# Edge2Vec Embedding Preparation"
   ]
  },
  {
   "cell_type": "markdown",
   "metadata": {},
   "source": [
    "Initialize edge list with keys 'type' and 'weight'. The 'weight' of each edge is initialized to 1.0. "
   ]
  },
  {
   "cell_type": "code",
   "execution_count": 10,
   "metadata": {
    "execution": {
     "iopub.execute_input": "2023-11-14T00:36:18.643496Z",
     "iopub.status.busy": "2023-11-14T00:36:18.642494Z",
     "iopub.status.idle": "2023-11-14T00:36:19.457189Z",
     "shell.execute_reply": "2023-11-14T00:36:19.456174Z"
    }
   },
   "outputs": [
    {
     "name": "stdout",
     "output_type": "stream",
     "text": [
      "First node in graph: (304, {})\n",
      "First edge in graph: (304, 1542, {'type': 0, 'weight': 1.0})\n",
      "Total number of edges is 55032\n",
      "Total number of nodes is 10275\n"
     ]
    }
   ],
   "source": [
    "G = nx.from_pandas_edgelist(edge2vec_df, 'index_head', 'index_tail', 'type', create_using=nx.DiGraph(), edge_key= (('type', int),('id', int)))\n",
    "G = G.to_undirected()   # for the E2V implementation, use indirected graph\n",
    "for edge in G.edges():\n",
    "    G[edge[0]][edge[1]]['weight'] = 1.0\n",
    "    \n",
    "for node in G.nodes(data=True):\n",
    "    print('First node in graph:', node)\n",
    "    break\n",
    "\n",
    "for edge in G.edges(data=True):\n",
    "    print('First edge in graph:', edge)\n",
    "    break\n",
    "\n",
    "print('Total number of edges is {}'.format(G.number_of_edges()))\n",
    "print('Total number of nodes is {}'.format(G.number_of_nodes()))"
   ]
  },
  {
   "cell_type": "markdown",
   "metadata": {},
   "source": [
    "Count total number of edge types"
   ]
  },
  {
   "cell_type": "code",
   "execution_count": 11,
   "metadata": {
    "execution": {
     "iopub.execute_input": "2023-11-14T00:36:19.460174Z",
     "iopub.status.busy": "2023-11-14T00:36:19.460174Z",
     "iopub.status.idle": "2023-11-14T00:36:19.488705Z",
     "shell.execute_reply": "2023-11-14T00:36:19.487722Z"
    }
   },
   "outputs": [
    {
     "name": "stdout",
     "output_type": "stream",
     "text": [
      "There are 1 edge types\n"
     ]
    }
   ],
   "source": [
    "type_size = len(set(edge2vec_df['type']))\n",
    "print(f'There are {type_size} edge types')"
   ]
  },
  {
   "cell_type": "markdown",
   "metadata": {},
   "source": [
    "# Obtain Node Embeddings Using Edge2Vec"
   ]
  },
  {
   "cell_type": "markdown",
   "metadata": {},
   "source": [
    "Define parameters and generate edge type transition matrix using Edge2Vec EM approach"
   ]
  },
  {
   "cell_type": "code",
   "execution_count": 12,
   "metadata": {
    "execution": {
     "iopub.execute_input": "2023-11-14T00:36:19.492707Z",
     "iopub.status.busy": "2023-11-14T00:36:19.491705Z",
     "iopub.status.idle": "2023-11-14T00:36:19.504693Z",
     "shell.execute_reply": "2023-11-14T00:36:19.503689Z"
    }
   },
   "outputs": [],
   "source": [
    "# Use parameter values obtained with hyperparameter optimization\n",
    "if dataset_nr == 1:\n",
    "    epoch = 10  # number of epochs\n",
    "    num_walks = 2   # number of walks per node\n",
    "    walk_length = 7 # length of each walk\n",
    "    p = 0.7\n",
    "    q = 1\n",
    "    \n",
    "    dim = 32    # desired dimension of the node embedding\n",
    "    epochs = 10\n",
    "else:\n",
    "    epoch = 5  # number of epochs\n",
    "    num_walks = 6   # number of walks per node\n",
    "    walk_length = 7 # length of each walk\n",
    "    p = 0.75\n",
    "    q = 1\n",
    "    \n",
    "    dim = 64\n",
    "    epochs = 10\n",
    "    \n",
    "directed = True\n",
    "e_step = 3"
   ]
  },
  {
   "cell_type": "code",
   "execution_count": 13,
   "metadata": {
    "execution": {
     "iopub.execute_input": "2023-11-14T00:36:19.508700Z",
     "iopub.status.busy": "2023-11-14T00:36:19.507695Z",
     "iopub.status.idle": "2023-11-14T00:36:19.521239Z",
     "shell.execute_reply": "2023-11-14T00:36:19.519231Z"
    }
   },
   "outputs": [],
   "source": [
    "def get_e2v_embeddings(save=False):\n",
    "    print('Initializing transition matrix...')\n",
    "    M = transitions.initialize_edge_type_matrix(type_size)\n",
    "\n",
    "    print('Updating transition matrix...')\n",
    "    for i in range(epoch):\n",
    "        walks = transitions.simulate_walks_1(G, num_walks, walk_length, M, directed, p, q, seed) # M step\n",
    "        print(f'{i}th iteration of updating matrix')\n",
    "        M = transitions.update_trans_matrix(walks, type_size, e_step) # E step\n",
    "\n",
    "    print(\"Finished generating values for transition matrix!\")\n",
    "    \n",
    "    print('Overview of resulting edge type transition matrix (float values have been truncated to fit the view!):')\n",
    "    print('\\n'.join(['\\t'.join([str(cell)[:5] for cell in row]) for row in M]))\n",
    "    \n",
    "    if save:\n",
    "        # Save transition matrix\n",
    "        np.save(f'{output_path}/transitionmatrix_{dataset_nr}.npy', M)\n",
    "    \n",
    "    print('Generate walks constrained by edge type transition matrix...')\n",
    "    walks = edge2vec.simulate_walks_2(G, num_walks, walk_length, M, p, q, seed)\n",
    "    \n",
    "    # Generate node embeddings using Word2Vec (skip-gram model) with as input the generated walks \n",
    "    window_size = walk_length - 1   # maximum distance between predicted and context node\n",
    "    workers = 8 # threads used\n",
    "\n",
    "    w2v_model = edge2vec.Word2Vec(walks, vector_size=dim, window=window_size, min_count=0, sg=1, workers=workers, epochs=epochs, seed=seed)\n",
    "    \n",
    "    word_vectors = w2v_model.wv\n",
    "    if save:\n",
    "        word_vectors.save(f'{output_path}/w2v_{dataset_nr}.dvectors')\n",
    "        \n",
    "    e2v_embedding = pd.DataFrame(columns = ['Node', 'Embedding'])\n",
    "    e2v_embedding_list = []\n",
    "    for _, key in enumerate(w2v_model.wv.index_to_key):\n",
    "        e2v_embedding.loc[int(key)] = pd.Series({'Node':int(key), 'Embedding':list(w2v_model.wv[key])})\n",
    "        e2v_embedding_list.append(list(w2v_model.wv[key]))\n",
    "        \n",
    "    e2v_embedding = e2v_embedding.sort_values('Node')\n",
    "    \n",
    "    return M, e2v_embedding, e2v_embedding_list"
   ]
  },
  {
   "cell_type": "code",
   "execution_count": 14,
   "metadata": {
    "execution": {
     "iopub.execute_input": "2023-11-14T00:36:19.525234Z",
     "iopub.status.busy": "2023-11-14T00:36:19.524228Z",
     "iopub.status.idle": "2023-11-14T00:40:06.747443Z",
     "shell.execute_reply": "2023-11-14T00:40:06.746441Z"
    }
   },
   "outputs": [
    {
     "name": "stdout",
     "output_type": "stream",
     "text": [
      "Initializing transition matrix...\n",
      "Updating transition matrix...\n",
      "Walk iteration:\n",
      "1 / 6\n",
      "2 / 6\n",
      "3 / 6\n",
      "4 / 6\n",
      "5 / 6\n",
      "6 / 6\n",
      "0th iteration of updating matrix\n",
      "Walk iteration:\n",
      "1 / 6\n",
      "2 / 6\n",
      "3 / 6\n",
      "4 / 6\n",
      "5 / 6\n",
      "6 / 6\n",
      "1th iteration of updating matrix\n",
      "Walk iteration:\n",
      "1 / 6\n",
      "2 / 6\n",
      "3 / 6\n",
      "4 / 6\n",
      "5 / 6\n",
      "6 / 6\n",
      "2th iteration of updating matrix\n",
      "Walk iteration:\n",
      "1 / 6\n",
      "2 / 6\n",
      "3 / 6\n",
      "4 / 6\n",
      "5 / 6\n",
      "6 / 6\n",
      "3th iteration of updating matrix\n",
      "Walk iteration:\n",
      "1 / 6\n",
      "2 / 6\n",
      "3 / 6\n",
      "4 / 6\n",
      "5 / 6\n",
      "6 / 6\n",
      "4th iteration of updating matrix\n",
      "Finished generating values for transition matrix!\n",
      "Overview of resulting edge type transition matrix (float values have been truncated to fit the view!):\n",
      "0.5\n",
      "Generate walks constrained by edge type transition matrix...\n",
      "Walk iteration:\n",
      "1 / 6\n",
      "2 / 6\n",
      "3 / 6\n",
      "4 / 6\n",
      "5 / 6\n",
      "6 / 6\n"
     ]
    }
   ],
   "source": [
    "if concept_changes == RANDOM_FEATURES:\n",
    "    random.seed(111)\n",
    "    nodes_total = len(G.nodes)\n",
    "    random_feats = pd.DataFrame(index=range(nodes_total), columns=['Node', 'Embedding'])\n",
    "    random_feats['Node'] = random_feats.index\n",
    "    \n",
    "    random_emb_nodes = []\n",
    "    for _ in range(nodes_total):\n",
    "        random_emb = []\n",
    "        for _ in range(dim):\n",
    "            random_emb.append(random.uniform(-0.5, 0.5))\n",
    "        random_emb_nodes.append(random_emb)\n",
    "        \n",
    "    random_feats['Embedding'] = random_emb_nodes\n",
    "    \n",
    "    with open(f'{output_path}/random_node_embeddings_{dataset_nr}.pkl', 'wb') as f:\n",
    "        pickle.dump(random_feats, f)\n",
    "else:\n",
    "    get_e2v_embeddings(save=True)"
   ]
  },
  {
   "cell_type": "markdown",
   "metadata": {},
   "source": [
    "## Check embedding similarities"
   ]
  },
  {
   "cell_type": "code",
   "execution_count": 15,
   "metadata": {
    "execution": {
     "iopub.execute_input": "2023-11-14T00:40:06.752446Z",
     "iopub.status.busy": "2023-11-14T00:40:06.751453Z",
     "iopub.status.idle": "2023-11-14T00:40:06.763087Z",
     "shell.execute_reply": "2023-11-14T00:40:06.762090Z"
    }
   },
   "outputs": [],
   "source": [
    "#transition_M_1, e2v_embedding_1_df, e2v_embedding_1_list = get_e2v_embeddings()\n",
    "#transition_M_2, e2v_embedding_2_df, e2v_embedding_2_list = get_e2v_embeddings()"
   ]
  },
  {
   "cell_type": "code",
   "execution_count": 16,
   "metadata": {
    "execution": {
     "iopub.execute_input": "2023-11-14T00:40:06.766596Z",
     "iopub.status.busy": "2023-11-14T00:40:06.766596Z",
     "iopub.status.idle": "2023-11-14T00:40:06.778622Z",
     "shell.execute_reply": "2023-11-14T00:40:06.777631Z"
    }
   },
   "outputs": [],
   "source": [
    "#from sklearn.metrics.pairwise import cosine_similarity\n",
    "\n",
    "#similarity_matrix = cosine_similarity(e2v_embedding_1_list, e2v_embedding_2_list)\n",
    "\n",
    "#cos_similarities = []\n",
    "#for node in G.nodes():\n",
    "#    cos_similarities.append(similarity_matrix[node][node])"
   ]
  },
  {
   "cell_type": "code",
   "execution_count": 17,
   "metadata": {
    "execution": {
     "iopub.execute_input": "2023-11-14T00:40:06.782620Z",
     "iopub.status.busy": "2023-11-14T00:40:06.781619Z",
     "iopub.status.idle": "2023-11-14T00:40:06.794631Z",
     "shell.execute_reply": "2023-11-14T00:40:06.793297Z"
    }
   },
   "outputs": [],
   "source": [
    "#cos_similarities"
   ]
  }
 ],
 "metadata": {
  "kernelspec": {
   "display_name": "xaifo",
   "language": "python",
   "name": "python3"
  },
  "language_info": {
   "codemirror_mode": {
    "name": "ipython",
    "version": 3
   },
   "file_extension": ".py",
   "mimetype": "text/x-python",
   "name": "python",
   "nbconvert_exporter": "python",
   "pygments_lexer": "ipython3",
   "version": "3.10.11"
  }
 },
 "nbformat": 4,
 "nbformat_minor": 2
}
